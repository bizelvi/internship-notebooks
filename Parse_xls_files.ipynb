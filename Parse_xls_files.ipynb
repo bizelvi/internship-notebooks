{
 "cells": [
  {
   "cell_type": "code",
   "execution_count": 0,
   "metadata": {
    "application/vnd.databricks.v1+cell": {
     "cellMetadata": {
      "byteLimit": 2048000,
      "rowLimit": 10000
     },
     "inputWidgets": {},
     "nuid": "e7f8812e-b62e-415e-9e05-eeb8acac9120",
     "showTitle": false,
     "title": ""
    }
   },
   "outputs": [
    {
     "output_type": "display_data",
     "data": {
      "application/vnd.databricks.v1+bamboolib_hint": "{\"pd.DataFrames\": [], \"version\": \"0.0.1\"}",
      "text/plain": []
     },
     "metadata": {},
     "output_type": "display_data"
    }
   ],
   "source": [
    "import pandas as pd\n"
   ]
  },
  {
   "cell_type": "code",
   "execution_count": 0,
   "metadata": {
    "application/vnd.databricks.v1+cell": {
     "cellMetadata": {
      "byteLimit": 2048000,
      "rowLimit": 10000
     },
     "inputWidgets": {},
     "nuid": "9f81f6c8-3f6c-48ad-bc78-c90723c7d731",
     "showTitle": false,
     "title": ""
    }
   },
   "outputs": [],
   "source": [
    "def load_xlsx_file(input_path:str, header:bool=None, skiprows:int=1, sheet_name:str='Operations Forecast_new' )->pd.DataFrame:\n",
    "    \"\"\"\n",
    "    loads the xlsx file\n",
    "    Arguments\n",
    "    path to the excel file \n",
    "    headers and rows constraints \n",
    "    sheet names as the file may contains multiple sheets\n",
    "    Returns\n",
    "    pd.DataFrame: Input Datataframe\n",
    "   \"\"\"\n",
    "    input_xls_df = pd.read_excel(input_path, engine=\"openpyxl\", header=header, skiprows=skiprows, sheet_name=sheet_name)\n",
    "    return input_xls_df"
   ]
  },
  {
   "cell_type": "code",
   "execution_count": 0,
   "metadata": {
    "application/vnd.databricks.v1+cell": {
     "cellMetadata": {
      "byteLimit": 2048000,
      "rowLimit": 10000
     },
     "inputWidgets": {},
     "nuid": "0d8d4d52-2cb4-4073-9fc1-604629b767ca",
     "showTitle": false,
     "title": ""
    }
   },
   "outputs": [],
   "source": [
    "def remove_unwanted_cols(input_xls_df:pd.DataFrame,columns:list=[0,1], axis:int=1 )->pd.DataFrame:\n",
    "    \"\"\" \n",
    "    Remove unwanted columns from input_xls_df dataframe\n",
    "    Arguments\n",
    "    input DataFrame as pd\n",
    "    list of colmuns to be dropped\n",
    "    Returns\n",
    "    a simplified dataframe \n",
    "    \"\"\"\n",
    "    simplified_df = input_xls_df.drop(columns=columns, axis=axis)\n",
    "    return simplified_df"
   ]
  },
  {
   "cell_type": "code",
   "execution_count": 0,
   "metadata": {
    "application/vnd.databricks.v1+cell": {
     "cellMetadata": {
      "byteLimit": 2048000,
      "rowLimit": 10000
     },
     "inputWidgets": {},
     "nuid": "56d28cce-c30f-43b4-965a-d577b3834bb0",
     "showTitle": false,
     "title": ""
    }
   },
   "outputs": [],
   "source": [
    "def transpose_df(simplified_df:pd.DataFrame)->pd.DataFrame:\n",
    "  \"\"\" \n",
    "  Transpose the simplified dataframe\n",
    "  Arguments \n",
    "  dataframe\n",
    "  Returns\n",
    "  Transposed Dataframe \n",
    "  \"\"\"\n",
    "  df_transposed = simplified_df.transpose()\n",
    "  return df_transposed"
   ]
  },
  {
   "cell_type": "code",
   "execution_count": 0,
   "metadata": {
    "application/vnd.databricks.v1+cell": {
     "cellMetadata": {
      "byteLimit": 2048000,
      "rowLimit": 10000
     },
     "inputWidgets": {},
     "nuid": "f25aaa32-875f-4d9b-af1d-c93ec84db6c9",
     "showTitle": false,
     "title": ""
    }
   },
   "outputs": [],
   "source": [
    "#set the first row as column name\n",
    "def set_row1_as_columns(df_transposed:pd.DataFrame)->pd.DataFrame:\n",
    "  \"\"\"\n",
    "  select first row as column names\n",
    "  Arguments\n",
    "  pd dataframe\n",
    "  Returns \n",
    "  dataframe with columns names instead of an array of numbers\n",
    "  \"\"\"\n",
    "  col_names = df_transposed.iloc[0]\n",
    "  simplified_new_col = df_transposed[1:].copy()\n",
    "  simplified_new_col = simplified_new_col.set_axis(col_names,axis=1).rename_axis(None, axis=1)\n",
    "  return simplified_new_col\n"
   ]
  },
  {
   "cell_type": "code",
   "execution_count": 0,
   "metadata": {
    "application/vnd.databricks.v1+cell": {
     "cellMetadata": {
      "byteLimit": 2048000,
      "rowLimit": 10000
     },
     "inputWidgets": {},
     "nuid": "d315ed82-9942-45b5-a17d-18a6e3e3b559",
     "showTitle": false,
     "title": ""
    }
   },
   "outputs": [],
   "source": [
    "def rename_col1(simplified_new_col:pd.DataFrame, col_name:str='Dates')->pd.DataFrame:\n",
    "  \"\"\"\n",
    "  rename the first column of simplified_df \n",
    "  args\n",
    "  pandas DataFrame \n",
    "  column new names as str \n",
    "  returns\n",
    "  DataFrame with dates as first column \n",
    "  \"\"\"\n",
    "  date_renamed_df = simplified_new_col.rename({simplified_new_col.columns[0]:col_name}, axis=1)\n",
    "  return date_renamed_df\n"
   ]
  },
  {
   "cell_type": "code",
   "execution_count": 0,
   "metadata": {
    "application/vnd.databricks.v1+cell": {
     "cellMetadata": {
      "byteLimit": 2048000,
      "rowLimit": 10000
     },
     "inputWidgets": {},
     "nuid": "a6a34691-6501-42bf-986f-dc3fc7ae03e7",
     "showTitle": false,
     "title": ""
    }
   },
   "outputs": [],
   "source": [
    "def select_target_col(date_renamed_df:pd.DataFrame,target_cols:list=['Dates','Dry Fc','Dry Actuals','Fresh Fc','Fresh','Frozen Fc','Frozen', 'Ultrafresh Fc',\t'Ultrafresh'],axis=1)->pd.DataFrame:\n",
    "  \"\"\"\n",
    "  select only useful column names \n",
    "  Arguments\n",
    "  dataframe \n",
    "  list of targeted columns \n",
    "  Returns \n",
    "  dataframe with targeted columns only \n",
    "  \"\"\"\n",
    "  target_df=date_renamed_df[target_cols]\n",
    "  return target_df\n"
   ]
  },
  {
   "cell_type": "code",
   "execution_count": 0,
   "metadata": {
    "application/vnd.databricks.v1+cell": {
     "cellMetadata": {
      "byteLimit": 2048000,
      "rowLimit": 10000
     },
     "inputWidgets": {},
     "nuid": "829d01eb-0e4e-4036-8064-58e1b2b2fd17",
     "showTitle": false,
     "title": ""
    }
   },
   "outputs": [],
   "source": [
    "#Now that I have the target dataframe, we can proceed by cleanning the nan and resetting the index, the function apply on the whole dataset\n",
    "def drop_nan(target_df:pd.DataFrame, axis:int=1)->pd.DataFrame:\n",
    "  \"\"\"\n",
    "  Drop nan values and reset the indexes \n",
    "  Arguments\n",
    "  target_df dataframe\n",
    "  Returns \n",
    "  clean dataframe without nan values \n",
    "  \"\"\"\n",
    "  clean_target_df=target_df.dropna().reset_index(drop=True)\n",
    "  return clean_target_df\n"
   ]
  },
  {
   "cell_type": "code",
   "execution_count": 0,
   "metadata": {
    "application/vnd.databricks.v1+cell": {
     "cellMetadata": {
      "byteLimit": 2048000,
      "rowLimit": 10000
     },
     "inputWidgets": {},
     "nuid": "79774a88-f9a4-41c9-9bdf-b378b132fe08",
     "showTitle": false,
     "title": ""
    }
   },
   "outputs": [],
   "source": [
    "def remove_duplicated_rows(clean_target_df, axis:int=1)->pd.DataFrame:\n",
    "  \"\"\"\n",
    "  Checked duplicated rows, and drop all the duplicates in case \n",
    "  Argument\n",
    "  clean_Target_df \n",
    "  Returns \n",
    "  dataframe with unique datapoints\n",
    "  \"\"\"\n",
    "  clean_data = clean_target_df.drop_duplicates()\n",
    "  return clean_data\n"
   ]
  },
  {
   "cell_type": "code",
   "execution_count": 0,
   "metadata": {
    "application/vnd.databricks.v1+cell": {
     "cellMetadata": {
      "byteLimit": 2048000,
      "rowLimit": 10000
     },
     "inputWidgets": {},
     "nuid": "f9d6a70f-1702-492d-9bf6-b3c5e41343f4",
     "showTitle": false,
     "title": ""
    }
   },
   "outputs": [],
   "source": [
    "\n",
    "def create_master_df(input_path:str, header:bool=None, skiprows:int=1, sheet_name:str='Operations Forecast_new',cast_cols=True, cols_to_cast:list = ['Dry Fc', 'Dry Actuals', 'Fresh Fc', 'Fresh', 'Frozen Fc','Frozen', 'Ultrafresh Fc', 'Ultrafresh']):\n",
    "    \"\"\"\n",
    "    master function which iterates through each function\n",
    "    Arguments \n",
    "    path to the xlsx file\n",
    "    Returns \n",
    "    input dataframe for the master function\n",
    "    \"\"\"\n",
    "    input_df = load_xlsx_file(input_path=input_path, header=header, skiprows=skiprows, sheet_name=sheet_name)\n",
    "    input_df = remove_unwanted_cols(input_df)\n",
    "    input_df = transpose_df(input_df)\n",
    "    input_df = set_row1_as_columns(input_df)\n",
    "    input_df = rename_col1(input_df)\n",
    "    input_df = select_target_col(input_df)\n",
    "    input_df = drop_nan(input_df)\n",
    "    input_df = remove_duplicated_rows(input_df)\n",
    "    if cast_cols:\n",
    "      input_df = input_df.astype({cols_to_cast[i]: 'float' for i in range(len(cols_to_cast))})\n",
    "    return input_df"
   ]
  },
  {
   "cell_type": "code",
   "execution_count": 0,
   "metadata": {
    "application/vnd.databricks.v1+cell": {
     "cellMetadata": {
      "byteLimit": 2048000,
      "rowLimit": 10000
     },
     "inputWidgets": {},
     "nuid": "237f1f46-22e7-4898-bf90-f0dd0ecb88b4",
     "showTitle": false,
     "title": ""
    }
   },
   "outputs": [],
   "source": [
    "#xlsx_dir = '/dbfs/mnt/dataplatform/acc/DataScience/sandbox/ebiz/Inbound_FC/data/input/Ecom-Ops-status_2022.xlsx'"
   ]
  },
  {
   "cell_type": "code",
   "execution_count": 0,
   "metadata": {
    "application/vnd.databricks.v1+cell": {
     "cellMetadata": {
      "byteLimit": 2048000,
      "rowLimit": 10000
     },
     "inputWidgets": {},
     "nuid": "c1dadd9a-2ce6-4159-9a46-bb2568f96306",
     "showTitle": false,
     "title": ""
    }
   },
   "outputs": [],
   "source": [
    "#df_test_master = create_master_df(xlsx_dir)"
   ]
  },
  {
   "cell_type": "code",
   "execution_count": 0,
   "metadata": {
    "application/vnd.databricks.v1+cell": {
     "cellMetadata": {
      "byteLimit": 2048000,
      "rowLimit": 10000
     },
     "inputWidgets": {},
     "nuid": "9a76be5c-e9bc-48c9-be4d-3be96bb19b3f",
     "showTitle": false,
     "title": ""
    }
   },
   "outputs": [],
   "source": [
    "# df_test_master"
   ]
  },
  {
   "cell_type": "code",
   "execution_count": 0,
   "metadata": {
    "application/vnd.databricks.v1+cell": {
     "cellMetadata": {
      "byteLimit": 2048000,
      "rowLimit": 10000
     },
     "inputWidgets": {},
     "nuid": "24a6399a-744a-43bb-9712-c865688cbfcb",
     "showTitle": false,
     "title": ""
    }
   },
   "outputs": [],
   "source": []
  }
 ],
 "metadata": {
  "application/vnd.databricks.v1+notebook": {
   "dashboards": [],
   "language": "python",
   "notebookMetadata": {
    "pythonIndentUnit": 2
   },
   "notebookName": "Parse_xls_files",
   "widgets": {}
  }
 },
 "nbformat": 4,
 "nbformat_minor": 0
}
