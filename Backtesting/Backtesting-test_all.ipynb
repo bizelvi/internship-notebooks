{
 "cells": [
  {
   "cell_type": "code",
   "execution_count": 0,
   "metadata": {
    "application/vnd.databricks.v1+cell": {
     "cellMetadata": {
      "byteLimit": 2048000,
      "rowLimit": 10000
     },
     "collapsed": true,
     "inputWidgets": {},
     "nuid": "7054cb28-39b1-452a-a3e1-96eb6f0eaa56",
     "showTitle": false,
     "title": ""
    }
   },
   "outputs": [
    {
     "output_type": "stream",
     "name": "stdout",
     "output_type": "stream",
     "text": [
      "Python interpreter will be restarted.\nRequirement already satisfied: statsmodels in /databricks/python3/lib/python3.9/site-packages (0.13.2)\nRequirement already satisfied: packaging>=21.3 in /databricks/python3/lib/python3.9/site-packages (from statsmodels) (21.3)\nRequirement already satisfied: numpy>=1.17 in /databricks/python3/lib/python3.9/site-packages (from statsmodels) (1.21.5)\nRequirement already satisfied: pandas>=0.25 in /databricks/python3/lib/python3.9/site-packages (from statsmodels) (1.4.2)\nRequirement already satisfied: scipy>=1.3 in /databricks/python3/lib/python3.9/site-packages (from statsmodels) (1.7.3)\nRequirement already satisfied: patsy>=0.5.2 in /databricks/python3/lib/python3.9/site-packages (from statsmodels) (0.5.2)\nRequirement already satisfied: pyparsing!=3.0.5,>=2.0.2 in /databricks/python3/lib/python3.9/site-packages (from packaging>=21.3->statsmodels) (3.0.4)\nRequirement already satisfied: python-dateutil>=2.8.1 in /databricks/python3/lib/python3.9/site-packages (from pandas>=0.25->statsmodels) (2.8.2)\nRequirement already satisfied: pytz>=2020.1 in /databricks/python3/lib/python3.9/site-packages (from pandas>=0.25->statsmodels) (2021.3)\nRequirement already satisfied: six in /databricks/python3/lib/python3.9/site-packages (from patsy>=0.5.2->statsmodels) (1.16.0)\nPython interpreter will be restarted.\n"
     ]
    }
   ],
   "source": [
    "%pip install statsmodels\n",
    "%matplotlib inline"
   ]
  },
  {
   "cell_type": "code",
   "execution_count": 0,
   "metadata": {
    "application/vnd.databricks.v1+cell": {
     "cellMetadata": {
      "byteLimit": 2048000,
      "rowLimit": 10000
     },
     "inputWidgets": {},
     "nuid": "541f3bf7-cf62-4fb0-a334-726684b11a1b",
     "showTitle": false,
     "title": ""
    }
   },
   "outputs": [
    {
     "output_type": "display_data",
     "data": {
      "application/vnd.databricks.v1+bamboolib_hint": "{\"pd.DataFrames\": [], \"version\": \"0.0.1\"}",
      "text/plain": []
     },
     "metadata": {},
     "output_type": "display_data"
    }
   ],
   "source": [
    "%run /Users/ebizindavyi@delhaize.be/Data_preparation/Parse_xls_files"
   ]
  },
  {
   "cell_type": "markdown",
   "metadata": {
    "application/vnd.databricks.v1+cell": {
     "cellMetadata": {
      "byteLimit": 2048000,
      "rowLimit": 10000
     },
     "inputWidgets": {},
     "nuid": "10c524d3-b3ea-42d0-abc1-4249d0bcb88b",
     "showTitle": false,
     "title": ""
    }
   },
   "source": [
    "## Load Libraries"
   ]
  },
  {
   "cell_type": "code",
   "execution_count": 0,
   "metadata": {
    "application/vnd.databricks.v1+cell": {
     "cellMetadata": {
      "byteLimit": 2048000,
      "rowLimit": 10000
     },
     "inputWidgets": {},
     "nuid": "d77772fd-ef8e-4806-ac8b-0e52d96ffbe5",
     "showTitle": false,
     "title": ""
    }
   },
   "outputs": [],
   "source": [
    "import pandas as pd\n",
    "import numpy as np\n",
    "import matplotlib.pyplot as plt\n",
    "import statsmodels.api as sm\n",
    "from statsmodels.tsa.arima.model import ARIMA\n",
    "import datetime as dt\n",
    "from datetime import datetime, timedelta,date"
   ]
  },
  {
   "cell_type": "markdown",
   "metadata": {
    "application/vnd.databricks.v1+cell": {
     "cellMetadata": {
      "byteLimit": 2048000,
      "rowLimit": 10000
     },
     "inputWidgets": {},
     "nuid": "a85a8221-6596-47f0-9df5-9a62fd395137",
     "showTitle": false,
     "title": ""
    }
   },
   "source": [
    "## Load the inbound data"
   ]
  },
  {
   "cell_type": "code",
   "execution_count": 0,
   "metadata": {
    "application/vnd.databricks.v1+cell": {
     "cellMetadata": {
      "byteLimit": 2048000,
      "rowLimit": 10000
     },
     "inputWidgets": {},
     "nuid": "9bbb3ba0-628a-46a9-9b5a-4c3150d57424",
     "showTitle": false,
     "title": ""
    }
   },
   "outputs": [],
   "source": [
    "inbound_2022_dir = '/dbfs/mnt/dataplatform/acc/DataScience/sandbox/ebiz/Inbound_FC/data/input/Ecom-Ops-status_2022.xlsx'"
   ]
  },
  {
   "cell_type": "code",
   "execution_count": 0,
   "metadata": {
    "application/vnd.databricks.v1+cell": {
     "cellMetadata": {
      "byteLimit": 2048000,
      "rowLimit": 10000
     },
     "inputWidgets": {},
     "nuid": "9d26eadd-e82c-417e-b6d1-7a91f44e63c7",
     "showTitle": false,
     "title": ""
    }
   },
   "outputs": [],
   "source": [
    "inbound_2022_df = create_master_df(inbound_2022_dir)"
   ]
  },
  {
   "cell_type": "markdown",
   "metadata": {
    "application/vnd.databricks.v1+cell": {
     "cellMetadata": {
      "byteLimit": 2048000,
      "rowLimit": 10000
     },
     "inputWidgets": {},
     "nuid": "5afd8b25-a20d-4a57-afb9-1e01beac2ebf",
     "showTitle": false,
     "title": ""
    }
   },
   "source": [
    "### Create yearly time series\n",
    "needed to fill in date gaps"
   ]
  },
  {
   "cell_type": "code",
   "execution_count": 0,
   "metadata": {
    "application/vnd.databricks.v1+cell": {
     "cellMetadata": {
      "byteLimit": 2048000,
      "rowLimit": 10000
     },
     "inputWidgets": {},
     "nuid": "22f7852b-fdb0-4680-9057-58b01e13d247",
     "showTitle": false,
     "title": ""
    }
   },
   "outputs": [
    {
     "output_type": "stream",
     "name": "stdout",
     "output_type": "stream",
     "text": [
      "Out[17]: Dates\n2022-01-03    84224.0\n2022-01-04    49564.0\n2022-01-05    45890.0\n2022-01-06    26976.0\n2022-01-07    37044.0\n               ...   \n2022-12-27    63764.0\n2022-12-28    47680.0\n2022-12-29    39552.0\n2022-12-30    61119.0\n2022-12-31    46818.0\nName: Dry Actuals, Length: 363, dtype: float64"
     ]
    }
   ],
   "source": [
    "calendar_2022 = pd.DataFrame({'Dates':pd.date_range(dt.datetime(2022,1,3), periods=363, freq='d')})\n",
    "inbound_2022_dry = calendar_2022.merge(inbound_2022_df, on='Dates',how='left').fillna(0).set_index('Dates').copy()\n",
    "inbound_2022_dry = inbound_2022_dry.groupby(['Dates'])['Dry Actuals'].sum()\n",
    "inbound_2022_dry"
   ]
  },
  {
   "cell_type": "markdown",
   "metadata": {
    "application/vnd.databricks.v1+cell": {
     "cellMetadata": {
      "byteLimit": 2048000,
      "rowLimit": 10000
     },
     "inputWidgets": {},
     "nuid": "cddb87a2-1cec-4f3a-95bb-b783c288d3ef",
     "showTitle": false,
     "title": ""
    }
   },
   "source": [
    "###Backtesting"
   ]
  },
  {
   "cell_type": "code",
   "execution_count": 0,
   "metadata": {
    "application/vnd.databricks.v1+cell": {
     "cellMetadata": {
      "byteLimit": 2048000,
      "rowLimit": 10000
     },
     "inputWidgets": {},
     "nuid": "531bba84-0ffd-475c-a53a-5f32d1fd99d5",
     "showTitle": false,
     "title": ""
    }
   },
   "outputs": [
    {
     "output_type": "stream",
     "name": "stdout",
     "output_type": "stream",
     "text": [
      "Backtesting on: 2022-01-03\n"
     ]
    },
    {
     "output_type": "stream",
     "name": "stderr",
     "output_type": "stream",
     "text": [
      "/databricks/python/lib/python3.9/site-packages/statsmodels/tsa/base/tsa_model.py:471: ValueWarning: No frequency information was provided, so inferred frequency D will be used.\n  self._init_dates(dates, freq)\n"
     ]
    },
    {
     "output_type": "stream",
     "name": "stdout",
     "output_type": "stream",
     "text": [
      "Backtesting on: 2022-01-10\n"
     ]
    },
    {
     "output_type": "stream",
     "name": "stderr",
     "output_type": "stream",
     "text": [
      "/databricks/python/lib/python3.9/site-packages/statsmodels/tsa/base/tsa_model.py:471: ValueWarning: No frequency information was provided, so inferred frequency D will be used.\n  self._init_dates(dates, freq)\n"
     ]
    },
    {
     "output_type": "stream",
     "name": "stdout",
     "output_type": "stream",
     "text": [
      "Backtesting on: 2022-01-17\n"
     ]
    },
    {
     "output_type": "stream",
     "name": "stderr",
     "output_type": "stream",
     "text": [
      "/databricks/python/lib/python3.9/site-packages/statsmodels/tsa/base/tsa_model.py:471: ValueWarning: No frequency information was provided, so inferred frequency D will be used.\n  self._init_dates(dates, freq)\n"
     ]
    },
    {
     "output_type": "stream",
     "name": "stdout",
     "output_type": "stream",
     "text": [
      "Backtesting on: 2022-01-24\n"
     ]
    },
    {
     "output_type": "stream",
     "name": "stderr",
     "output_type": "stream",
     "text": [
      "/databricks/python/lib/python3.9/site-packages/statsmodels/tsa/base/tsa_model.py:471: ValueWarning: No frequency information was provided, so inferred frequency D will be used.\n  self._init_dates(dates, freq)\n"
     ]
    },
    {
     "output_type": "stream",
     "name": "stdout",
     "output_type": "stream",
     "text": [
      "Backtesting on: 2022-01-31\n"
     ]
    },
    {
     "output_type": "stream",
     "name": "stderr",
     "output_type": "stream",
     "text": [
      "/databricks/python/lib/python3.9/site-packages/statsmodels/tsa/base/tsa_model.py:471: ValueWarning: No frequency information was provided, so inferred frequency D will be used.\n  self._init_dates(dates, freq)\n"
     ]
    },
    {
     "output_type": "stream",
     "name": "stdout",
     "output_type": "stream",
     "text": [
      "Backtesting on: 2022-02-07\n"
     ]
    },
    {
     "output_type": "stream",
     "name": "stderr",
     "output_type": "stream",
     "text": [
      "/databricks/python/lib/python3.9/site-packages/statsmodels/tsa/base/tsa_model.py:471: ValueWarning: No frequency information was provided, so inferred frequency D will be used.\n  self._init_dates(dates, freq)\n"
     ]
    },
    {
     "output_type": "stream",
     "name": "stdout",
     "output_type": "stream",
     "text": [
      "Backtesting on: 2022-02-14\n"
     ]
    },
    {
     "output_type": "stream",
     "name": "stderr",
     "output_type": "stream",
     "text": [
      "/databricks/python/lib/python3.9/site-packages/statsmodels/tsa/base/tsa_model.py:471: ValueWarning: No frequency information was provided, so inferred frequency D will be used.\n  self._init_dates(dates, freq)\n"
     ]
    },
    {
     "output_type": "stream",
     "name": "stdout",
     "output_type": "stream",
     "text": [
      "Backtesting on: 2022-02-21\n"
     ]
    },
    {
     "output_type": "stream",
     "name": "stderr",
     "output_type": "stream",
     "text": [
      "/databricks/python/lib/python3.9/site-packages/statsmodels/tsa/base/tsa_model.py:471: ValueWarning: No frequency information was provided, so inferred frequency D will be used.\n  self._init_dates(dates, freq)\n"
     ]
    },
    {
     "output_type": "stream",
     "name": "stdout",
     "output_type": "stream",
     "text": [
      "Backtesting on: 2022-02-28\n"
     ]
    },
    {
     "output_type": "stream",
     "name": "stderr",
     "output_type": "stream",
     "text": [
      "/databricks/python/lib/python3.9/site-packages/statsmodels/tsa/base/tsa_model.py:471: ValueWarning: No frequency information was provided, so inferred frequency D will be used.\n  self._init_dates(dates, freq)\n"
     ]
    },
    {
     "output_type": "stream",
     "name": "stdout",
     "output_type": "stream",
     "text": [
      "Backtesting on: 2022-03-07\n"
     ]
    },
    {
     "output_type": "stream",
     "name": "stderr",
     "output_type": "stream",
     "text": [
      "/databricks/python/lib/python3.9/site-packages/statsmodels/tsa/base/tsa_model.py:471: ValueWarning: No frequency information was provided, so inferred frequency D will be used.\n  self._init_dates(dates, freq)\n/databricks/python/lib/python3.9/site-packages/statsmodels/tsa/statespace/sarimax.py:997: UserWarning: Non-stationary starting seasonal autoregressive Using zeros as starting parameters.\n  warn('Non-stationary starting seasonal autoregressive'\n/databricks/python/lib/python3.9/site-packages/statsmodels/tsa/statespace/sarimax.py:1009: UserWarning: Non-invertible starting seasonal moving average Using zeros as starting parameters.\n  warn('Non-invertible starting seasonal moving average'\n"
     ]
    },
    {
     "output_type": "stream",
     "name": "stdout",
     "output_type": "stream",
     "text": [
      "Backtesting on: 2022-03-14\n"
     ]
    },
    {
     "output_type": "stream",
     "name": "stderr",
     "output_type": "stream",
     "text": [
      "/databricks/python/lib/python3.9/site-packages/statsmodels/tsa/base/tsa_model.py:471: ValueWarning: No frequency information was provided, so inferred frequency D will be used.\n  self._init_dates(dates, freq)\n"
     ]
    },
    {
     "output_type": "stream",
     "name": "stdout",
     "output_type": "stream",
     "text": [
      "Backtesting on: 2022-03-21\n"
     ]
    },
    {
     "output_type": "stream",
     "name": "stderr",
     "output_type": "stream",
     "text": [
      "/databricks/python/lib/python3.9/site-packages/statsmodels/tsa/base/tsa_model.py:471: ValueWarning: No frequency information was provided, so inferred frequency D will be used.\n  self._init_dates(dates, freq)\n"
     ]
    },
    {
     "output_type": "stream",
     "name": "stdout",
     "output_type": "stream",
     "text": [
      "Backtesting on: 2022-03-28\n"
     ]
    },
    {
     "output_type": "stream",
     "name": "stderr",
     "output_type": "stream",
     "text": [
      "/databricks/python/lib/python3.9/site-packages/statsmodels/tsa/base/tsa_model.py:471: ValueWarning: No frequency information was provided, so inferred frequency D will be used.\n  self._init_dates(dates, freq)\n"
     ]
    },
    {
     "output_type": "stream",
     "name": "stdout",
     "output_type": "stream",
     "text": [
      "Backtesting on: 2022-04-04\n"
     ]
    },
    {
     "output_type": "stream",
     "name": "stderr",
     "output_type": "stream",
     "text": [
      "/databricks/python/lib/python3.9/site-packages/statsmodels/tsa/base/tsa_model.py:471: ValueWarning: No frequency information was provided, so inferred frequency D will be used.\n  self._init_dates(dates, freq)\n/databricks/python/lib/python3.9/site-packages/statsmodels/tsa/statespace/sarimax.py:997: UserWarning: Non-stationary starting seasonal autoregressive Using zeros as starting parameters.\n  warn('Non-stationary starting seasonal autoregressive'\n"
     ]
    },
    {
     "output_type": "stream",
     "name": "stdout",
     "output_type": "stream",
     "text": [
      "Backtesting on: 2022-04-11\n"
     ]
    },
    {
     "output_type": "stream",
     "name": "stderr",
     "output_type": "stream",
     "text": [
      "/databricks/python/lib/python3.9/site-packages/statsmodels/tsa/base/tsa_model.py:471: ValueWarning: No frequency information was provided, so inferred frequency D will be used.\n  self._init_dates(dates, freq)\n"
     ]
    },
    {
     "output_type": "stream",
     "name": "stdout",
     "output_type": "stream",
     "text": [
      "Backtesting on: 2022-04-18\n"
     ]
    },
    {
     "output_type": "stream",
     "name": "stderr",
     "output_type": "stream",
     "text": [
      "/databricks/python/lib/python3.9/site-packages/statsmodels/tsa/base/tsa_model.py:471: ValueWarning: No frequency information was provided, so inferred frequency D will be used.\n  self._init_dates(dates, freq)\n"
     ]
    },
    {
     "output_type": "stream",
     "name": "stdout",
     "output_type": "stream",
     "text": [
      "Backtesting on: 2022-04-25\n"
     ]
    },
    {
     "output_type": "stream",
     "name": "stderr",
     "output_type": "stream",
     "text": [
      "/databricks/python/lib/python3.9/site-packages/statsmodels/tsa/base/tsa_model.py:471: ValueWarning: No frequency information was provided, so inferred frequency D will be used.\n  self._init_dates(dates, freq)\n"
     ]
    },
    {
     "output_type": "stream",
     "name": "stdout",
     "output_type": "stream",
     "text": [
      "Backtesting on: 2022-05-02\n"
     ]
    },
    {
     "output_type": "stream",
     "name": "stderr",
     "output_type": "stream",
     "text": [
      "/databricks/python/lib/python3.9/site-packages/statsmodels/tsa/base/tsa_model.py:471: ValueWarning: No frequency information was provided, so inferred frequency D will be used.\n  self._init_dates(dates, freq)\n"
     ]
    },
    {
     "output_type": "stream",
     "name": "stdout",
     "output_type": "stream",
     "text": [
      "Backtesting on: 2022-05-09\n"
     ]
    },
    {
     "output_type": "stream",
     "name": "stderr",
     "output_type": "stream",
     "text": [
      "/databricks/python/lib/python3.9/site-packages/statsmodels/tsa/base/tsa_model.py:471: ValueWarning: No frequency information was provided, so inferred frequency D will be used.\n  self._init_dates(dates, freq)\n"
     ]
    },
    {
     "output_type": "stream",
     "name": "stdout",
     "output_type": "stream",
     "text": [
      "Backtesting on: 2022-05-16\n"
     ]
    },
    {
     "output_type": "stream",
     "name": "stderr",
     "output_type": "stream",
     "text": [
      "/databricks/python/lib/python3.9/site-packages/statsmodels/tsa/base/tsa_model.py:471: ValueWarning: No frequency information was provided, so inferred frequency D will be used.\n  self._init_dates(dates, freq)\n"
     ]
    },
    {
     "output_type": "stream",
     "name": "stdout",
     "output_type": "stream",
     "text": [
      "Backtesting on: 2022-05-23\n"
     ]
    },
    {
     "output_type": "stream",
     "name": "stderr",
     "output_type": "stream",
     "text": [
      "/databricks/python/lib/python3.9/site-packages/statsmodels/tsa/base/tsa_model.py:471: ValueWarning: No frequency information was provided, so inferred frequency D will be used.\n  self._init_dates(dates, freq)\n"
     ]
    },
    {
     "output_type": "stream",
     "name": "stdout",
     "output_type": "stream",
     "text": [
      "Backtesting on: 2022-05-30\n"
     ]
    },
    {
     "output_type": "stream",
     "name": "stderr",
     "output_type": "stream",
     "text": [
      "/databricks/python/lib/python3.9/site-packages/statsmodels/tsa/base/tsa_model.py:471: ValueWarning: No frequency information was provided, so inferred frequency D will be used.\n  self._init_dates(dates, freq)\n"
     ]
    },
    {
     "output_type": "stream",
     "name": "stdout",
     "output_type": "stream",
     "text": [
      "Backtesting on: 2022-06-06\n"
     ]
    },
    {
     "output_type": "stream",
     "name": "stderr",
     "output_type": "stream",
     "text": [
      "/databricks/python/lib/python3.9/site-packages/statsmodels/tsa/base/tsa_model.py:471: ValueWarning: No frequency information was provided, so inferred frequency D will be used.\n  self._init_dates(dates, freq)\n"
     ]
    },
    {
     "output_type": "stream",
     "name": "stdout",
     "output_type": "stream",
     "text": [
      "Backtesting on: 2022-06-13\n"
     ]
    },
    {
     "output_type": "stream",
     "name": "stderr",
     "output_type": "stream",
     "text": [
      "/databricks/python/lib/python3.9/site-packages/statsmodels/tsa/base/tsa_model.py:471: ValueWarning: No frequency information was provided, so inferred frequency D will be used.\n  self._init_dates(dates, freq)\n"
     ]
    },
    {
     "output_type": "stream",
     "name": "stdout",
     "output_type": "stream",
     "text": [
      "Backtesting on: 2022-06-20\n"
     ]
    },
    {
     "output_type": "stream",
     "name": "stderr",
     "output_type": "stream",
     "text": [
      "/databricks/python/lib/python3.9/site-packages/statsmodels/tsa/base/tsa_model.py:471: ValueWarning: No frequency information was provided, so inferred frequency D will be used.\n  self._init_dates(dates, freq)\n/databricks/python/lib/python3.9/site-packages/statsmodels/tsa/statespace/sarimax.py:997: UserWarning: Non-stationary starting seasonal autoregressive Using zeros as starting parameters.\n  warn('Non-stationary starting seasonal autoregressive'\n"
     ]
    },
    {
     "output_type": "stream",
     "name": "stdout",
     "output_type": "stream",
     "text": [
      "Backtesting on: 2022-06-27\n"
     ]
    },
    {
     "output_type": "stream",
     "name": "stderr",
     "output_type": "stream",
     "text": [
      "/databricks/python/lib/python3.9/site-packages/statsmodels/tsa/base/tsa_model.py:471: ValueWarning: No frequency information was provided, so inferred frequency D will be used.\n  self._init_dates(dates, freq)\n/databricks/python/lib/python3.9/site-packages/statsmodels/tsa/statespace/sarimax.py:997: UserWarning: Non-stationary starting seasonal autoregressive Using zeros as starting parameters.\n  warn('Non-stationary starting seasonal autoregressive'\n"
     ]
    },
    {
     "output_type": "stream",
     "name": "stdout",
     "output_type": "stream",
     "text": [
      "Backtesting on: 2022-07-04\n"
     ]
    },
    {
     "output_type": "stream",
     "name": "stderr",
     "output_type": "stream",
     "text": [
      "/databricks/python/lib/python3.9/site-packages/statsmodels/tsa/base/tsa_model.py:471: ValueWarning: No frequency information was provided, so inferred frequency D will be used.\n  self._init_dates(dates, freq)\n"
     ]
    },
    {
     "output_type": "stream",
     "name": "stdout",
     "output_type": "stream",
     "text": [
      "Backtesting on: 2022-07-11\n"
     ]
    },
    {
     "output_type": "stream",
     "name": "stderr",
     "output_type": "stream",
     "text": [
      "/databricks/python/lib/python3.9/site-packages/statsmodels/tsa/base/tsa_model.py:471: ValueWarning: No frequency information was provided, so inferred frequency D will be used.\n  self._init_dates(dates, freq)\n"
     ]
    },
    {
     "output_type": "stream",
     "name": "stdout",
     "output_type": "stream",
     "text": [
      "Backtesting on: 2022-07-18\n"
     ]
    },
    {
     "output_type": "stream",
     "name": "stderr",
     "output_type": "stream",
     "text": [
      "/databricks/python/lib/python3.9/site-packages/statsmodels/tsa/base/tsa_model.py:471: ValueWarning: No frequency information was provided, so inferred frequency D will be used.\n  self._init_dates(dates, freq)\n"
     ]
    },
    {
     "output_type": "stream",
     "name": "stdout",
     "output_type": "stream",
     "text": [
      "Backtesting on: 2022-07-25\n"
     ]
    },
    {
     "output_type": "stream",
     "name": "stderr",
     "output_type": "stream",
     "text": [
      "/databricks/python/lib/python3.9/site-packages/statsmodels/tsa/base/tsa_model.py:471: ValueWarning: No frequency information was provided, so inferred frequency D will be used.\n  self._init_dates(dates, freq)\n"
     ]
    },
    {
     "output_type": "stream",
     "name": "stdout",
     "output_type": "stream",
     "text": [
      "Backtesting on: 2022-08-01\n"
     ]
    },
    {
     "output_type": "stream",
     "name": "stderr",
     "output_type": "stream",
     "text": [
      "/databricks/python/lib/python3.9/site-packages/statsmodels/tsa/base/tsa_model.py:471: ValueWarning: No frequency information was provided, so inferred frequency D will be used.\n  self._init_dates(dates, freq)\n/databricks/python/lib/python3.9/site-packages/statsmodels/tsa/statespace/sarimax.py:997: UserWarning: Non-stationary starting seasonal autoregressive Using zeros as starting parameters.\n  warn('Non-stationary starting seasonal autoregressive'\n"
     ]
    },
    {
     "output_type": "stream",
     "name": "stdout",
     "output_type": "stream",
     "text": [
      "Backtesting on: 2022-08-08\n"
     ]
    },
    {
     "output_type": "stream",
     "name": "stderr",
     "output_type": "stream",
     "text": [
      "/databricks/python/lib/python3.9/site-packages/statsmodels/tsa/base/tsa_model.py:471: ValueWarning: No frequency information was provided, so inferred frequency D will be used.\n  self._init_dates(dates, freq)\n/databricks/python/lib/python3.9/site-packages/statsmodels/tsa/statespace/sarimax.py:997: UserWarning: Non-stationary starting seasonal autoregressive Using zeros as starting parameters.\n  warn('Non-stationary starting seasonal autoregressive'\n"
     ]
    },
    {
     "output_type": "stream",
     "name": "stdout",
     "output_type": "stream",
     "text": [
      "Backtesting on: 2022-08-15\n"
     ]
    },
    {
     "output_type": "stream",
     "name": "stderr",
     "output_type": "stream",
     "text": [
      "/databricks/python/lib/python3.9/site-packages/statsmodels/tsa/base/tsa_model.py:471: ValueWarning: No frequency information was provided, so inferred frequency D will be used.\n  self._init_dates(dates, freq)\n"
     ]
    },
    {
     "output_type": "stream",
     "name": "stdout",
     "output_type": "stream",
     "text": [
      "Backtesting on: 2022-08-22\n"
     ]
    },
    {
     "output_type": "stream",
     "name": "stderr",
     "output_type": "stream",
     "text": [
      "/databricks/python/lib/python3.9/site-packages/statsmodels/tsa/base/tsa_model.py:471: ValueWarning: No frequency information was provided, so inferred frequency D will be used.\n  self._init_dates(dates, freq)\n/databricks/python/lib/python3.9/site-packages/statsmodels/tsa/statespace/sarimax.py:997: UserWarning: Non-stationary starting seasonal autoregressive Using zeros as starting parameters.\n  warn('Non-stationary starting seasonal autoregressive'\n/databricks/python/lib/python3.9/site-packages/statsmodels/tsa/statespace/sarimax.py:1009: UserWarning: Non-invertible starting seasonal moving average Using zeros as starting parameters.\n  warn('Non-invertible starting seasonal moving average'\n"
     ]
    },
    {
     "output_type": "stream",
     "name": "stdout",
     "output_type": "stream",
     "text": [
      "Backtesting on: 2022-08-29\n"
     ]
    },
    {
     "output_type": "stream",
     "name": "stderr",
     "output_type": "stream",
     "text": [
      "/databricks/python/lib/python3.9/site-packages/statsmodels/tsa/base/tsa_model.py:471: ValueWarning: No frequency information was provided, so inferred frequency D will be used.\n  self._init_dates(dates, freq)\n"
     ]
    },
    {
     "output_type": "stream",
     "name": "stdout",
     "output_type": "stream",
     "text": [
      "Backtesting on: 2022-09-05\n"
     ]
    },
    {
     "output_type": "stream",
     "name": "stderr",
     "output_type": "stream",
     "text": [
      "/databricks/python/lib/python3.9/site-packages/statsmodels/tsa/base/tsa_model.py:471: ValueWarning: No frequency information was provided, so inferred frequency D will be used.\n  self._init_dates(dates, freq)\n"
     ]
    },
    {
     "output_type": "stream",
     "name": "stdout",
     "output_type": "stream",
     "text": [
      "Backtesting on: 2022-09-12\n"
     ]
    },
    {
     "output_type": "stream",
     "name": "stderr",
     "output_type": "stream",
     "text": [
      "/databricks/python/lib/python3.9/site-packages/statsmodels/tsa/base/tsa_model.py:471: ValueWarning: No frequency information was provided, so inferred frequency D will be used.\n  self._init_dates(dates, freq)\n"
     ]
    },
    {
     "output_type": "stream",
     "name": "stdout",
     "output_type": "stream",
     "text": [
      "Backtesting on: 2022-09-19\n"
     ]
    },
    {
     "output_type": "stream",
     "name": "stderr",
     "output_type": "stream",
     "text": [
      "/databricks/python/lib/python3.9/site-packages/statsmodels/tsa/base/tsa_model.py:471: ValueWarning: No frequency information was provided, so inferred frequency D will be used.\n  self._init_dates(dates, freq)\n"
     ]
    },
    {
     "output_type": "stream",
     "name": "stdout",
     "output_type": "stream",
     "text": [
      "Backtesting on: 2022-09-26\n"
     ]
    },
    {
     "output_type": "stream",
     "name": "stderr",
     "output_type": "stream",
     "text": [
      "/databricks/python/lib/python3.9/site-packages/statsmodels/tsa/base/tsa_model.py:471: ValueWarning: No frequency information was provided, so inferred frequency D will be used.\n  self._init_dates(dates, freq)\n"
     ]
    },
    {
     "output_type": "stream",
     "name": "stdout",
     "output_type": "stream",
     "text": [
      "Backtesting on: 2022-10-03\n"
     ]
    },
    {
     "output_type": "stream",
     "name": "stderr",
     "output_type": "stream",
     "text": [
      "/databricks/python/lib/python3.9/site-packages/statsmodels/tsa/base/tsa_model.py:471: ValueWarning: No frequency information was provided, so inferred frequency D will be used.\n  self._init_dates(dates, freq)\n"
     ]
    },
    {
     "output_type": "stream",
     "name": "stdout",
     "output_type": "stream",
     "text": [
      "Backtesting on: 2022-10-10\n"
     ]
    },
    {
     "output_type": "stream",
     "name": "stderr",
     "output_type": "stream",
     "text": [
      "/databricks/python/lib/python3.9/site-packages/statsmodels/tsa/base/tsa_model.py:471: ValueWarning: No frequency information was provided, so inferred frequency D will be used.\n  self._init_dates(dates, freq)\n"
     ]
    },
    {
     "output_type": "stream",
     "name": "stdout",
     "output_type": "stream",
     "text": [
      "Backtesting on: 2022-10-17\n"
     ]
    },
    {
     "output_type": "stream",
     "name": "stderr",
     "output_type": "stream",
     "text": [
      "/databricks/python/lib/python3.9/site-packages/statsmodels/tsa/base/tsa_model.py:471: ValueWarning: No frequency information was provided, so inferred frequency D will be used.\n  self._init_dates(dates, freq)\n"
     ]
    },
    {
     "output_type": "stream",
     "name": "stdout",
     "output_type": "stream",
     "text": [
      "Backtesting on: 2022-10-24\n"
     ]
    },
    {
     "output_type": "stream",
     "name": "stderr",
     "output_type": "stream",
     "text": [
      "/databricks/python/lib/python3.9/site-packages/statsmodels/tsa/base/tsa_model.py:471: ValueWarning: No frequency information was provided, so inferred frequency D will be used.\n  self._init_dates(dates, freq)\n"
     ]
    },
    {
     "output_type": "stream",
     "name": "stdout",
     "output_type": "stream",
     "text": [
      "Backtesting on: 2022-10-31\n"
     ]
    },
    {
     "output_type": "stream",
     "name": "stderr",
     "output_type": "stream",
     "text": [
      "/databricks/python/lib/python3.9/site-packages/statsmodels/tsa/base/tsa_model.py:471: ValueWarning: No frequency information was provided, so inferred frequency D will be used.\n  self._init_dates(dates, freq)\n"
     ]
    },
    {
     "output_type": "stream",
     "name": "stdout",
     "output_type": "stream",
     "text": [
      "Backtesting on: 2022-11-07\n"
     ]
    },
    {
     "output_type": "stream",
     "name": "stderr",
     "output_type": "stream",
     "text": [
      "/databricks/python/lib/python3.9/site-packages/statsmodels/tsa/base/tsa_model.py:471: ValueWarning: No frequency information was provided, so inferred frequency D will be used.\n  self._init_dates(dates, freq)\n"
     ]
    },
    {
     "output_type": "stream",
     "name": "stdout",
     "output_type": "stream",
     "text": [
      "Backtesting on: 2022-11-14\n"
     ]
    },
    {
     "output_type": "stream",
     "name": "stderr",
     "output_type": "stream",
     "text": [
      "/databricks/python/lib/python3.9/site-packages/statsmodels/tsa/base/tsa_model.py:471: ValueWarning: No frequency information was provided, so inferred frequency D will be used.\n  self._init_dates(dates, freq)\n"
     ]
    },
    {
     "output_type": "stream",
     "name": "stdout",
     "output_type": "stream",
     "text": [
      "Backtesting on: 2022-11-21\n"
     ]
    },
    {
     "output_type": "stream",
     "name": "stderr",
     "output_type": "stream",
     "text": [
      "/databricks/python/lib/python3.9/site-packages/statsmodels/tsa/base/tsa_model.py:471: ValueWarning: No frequency information was provided, so inferred frequency D will be used.\n  self._init_dates(dates, freq)\n"
     ]
    },
    {
     "output_type": "stream",
     "name": "stdout",
     "output_type": "stream",
     "text": [
      "Backtesting on: 2022-11-28\n"
     ]
    },
    {
     "output_type": "stream",
     "name": "stderr",
     "output_type": "stream",
     "text": [
      "/databricks/python/lib/python3.9/site-packages/statsmodels/tsa/base/tsa_model.py:471: ValueWarning: No frequency information was provided, so inferred frequency D will be used.\n  self._init_dates(dates, freq)\n"
     ]
    },
    {
     "output_type": "stream",
     "name": "stdout",
     "output_type": "stream",
     "text": [
      "Backtesting on: 2022-12-05\n"
     ]
    },
    {
     "output_type": "stream",
     "name": "stderr",
     "output_type": "stream",
     "text": [
      "/databricks/python/lib/python3.9/site-packages/statsmodels/tsa/base/tsa_model.py:471: ValueWarning: No frequency information was provided, so inferred frequency D will be used.\n  self._init_dates(dates, freq)\n"
     ]
    },
    {
     "output_type": "stream",
     "name": "stdout",
     "output_type": "stream",
     "text": [
      "Backtesting on: 2022-12-12\n"
     ]
    },
    {
     "output_type": "stream",
     "name": "stderr",
     "output_type": "stream",
     "text": [
      "/databricks/python/lib/python3.9/site-packages/statsmodels/tsa/base/tsa_model.py:471: ValueWarning: No frequency information was provided, so inferred frequency D will be used.\n  self._init_dates(dates, freq)\n/databricks/python/lib/python3.9/site-packages/statsmodels/tsa/statespace/sarimax.py:866: UserWarning: Too few observations to estimate starting parameters for seasonal ARMA. All parameters except for variances will be set to zeros.\n  warn('Too few observations to estimate starting parameters%s.'\n"
     ]
    },
    {
     "output_type": "stream",
     "name": "stdout",
     "output_type": "stream",
     "text": [
      "Backtesting on: 2022-12-19\n"
     ]
    },
    {
     "output_type": "stream",
     "name": "stderr",
     "output_type": "stream",
     "text": [
      "/databricks/python/lib/python3.9/site-packages/statsmodels/tsa/base/tsa_model.py:471: ValueWarning: No frequency information was provided, so inferred frequency D will be used.\n  self._init_dates(dates, freq)\n/databricks/python/lib/python3.9/site-packages/statsmodels/tsa/statespace/sarimax.py:866: UserWarning: Too few observations to estimate starting parameters for seasonal ARMA. All parameters except for variances will be set to zeros.\n  warn('Too few observations to estimate starting parameters%s.'\n"
     ]
    },
    {
     "output_type": "stream",
     "name": "stdout",
     "output_type": "stream",
     "text": [
      "Backtesting on: 2022-12-26\n"
     ]
    },
    {
     "output_type": "stream",
     "name": "stderr",
     "output_type": "stream",
     "text": [
      "/databricks/python/lib/python3.9/site-packages/statsmodels/tsa/base/tsa_model.py:471: ValueWarning: No frequency information was provided, so inferred frequency D will be used.\n  self._init_dates(dates, freq)\n/databricks/python/lib/python3.9/site-packages/statsmodels/tsa/statespace/sarimax.py:866: UserWarning: Too few observations to estimate starting parameters for seasonal ARMA. All parameters except for variances will be set to zeros.\n  warn('Too few observations to estimate starting parameters%s.'\n"
     ]
    }
   ],
   "source": [
    "backtest_results = pd.DataFrame()\n",
    "\n",
    "#Backtest parameters\n",
    "initial_date = '2022-01-03'\n",
    "ending_date = '2022-12-31' #'2022-09-30' #\n",
    "fc_freq = 7\n",
    "\n",
    "# Model parameters\n",
    "training_period=90\n",
    "horizon_begin=15\n",
    "days_to_forecast=7\n",
    "best_model=(1, 0, 0)\n",
    "seasonal_order=(2, 0, 1, 7)\n",
    "\n",
    "\n",
    "starting_dates = pd.date_range(start=initial_date, end=ending_date,freq=f'{fc_freq}D').date\n",
    "\n",
    "for backtest_start_date in starting_dates:\n",
    "  print(f\"Backtesting on: {backtest_start_date}\")\n",
    "  start_train_date = backtest_start_date\n",
    "  end_train_date = start_train_date + timedelta(days=training_period-1)\n",
    "  endog = inbound_2022_dry[start_train_date:end_train_date]\n",
    "\n",
    "  arima_mod = ARIMA(endog, order=best_model, seasonal_order=seasonal_order, trend=None, freq='D')\n",
    "  arima_mod_fit=arima_mod.fit()\n",
    "\n",
    "  horizon_start= end_train_date+timedelta(days=horizon_begin)\n",
    "  horizon_end=horizon_start+timedelta(days=days_to_forecast-1)\n",
    "\n",
    "  # Arima predict\n",
    "  arima_pred=arima_mod_fit.predict(start=horizon_start, end=horizon_end)\n",
    "\n",
    "  # Append results\n",
    "  backtest_results = pd.concat([backtest_results,arima_pred])"
   ]
  },
  {
   "cell_type": "code",
   "execution_count": 0,
   "metadata": {
    "application/vnd.databricks.v1+cell": {
     "cellMetadata": {
      "byteLimit": 2048000,
      "rowLimit": 10000
     },
     "inputWidgets": {},
     "nuid": "8780a39a-7398-44d8-b0af-13f1e8d6b929",
     "showTitle": false,
     "title": ""
    }
   },
   "outputs": [
    {
     "output_type": "display_data",
     "data": {
      "text/html": [
       "<div>\n",
       "<style scoped>\n",
       "    .dataframe tbody tr th:only-of-type {\n",
       "        vertical-align: middle;\n",
       "    }\n",
       "\n",
       "    .dataframe tbody tr th {\n",
       "        vertical-align: top;\n",
       "    }\n",
       "\n",
       "    .dataframe thead th {\n",
       "        text-align: right;\n",
       "    }\n",
       "</style>\n",
       "<table border=\"1\" class=\"dataframe\">\n",
       "  <thead>\n",
       "    <tr style=\"text-align: right;\">\n",
       "      <th></th>\n",
       "      <th>0</th>\n",
       "    </tr>\n",
       "  </thead>\n",
       "  <tbody>\n",
       "    <tr>\n",
       "      <th>2022-04-17</th>\n",
       "      <td>14058.189865</td>\n",
       "    </tr>\n",
       "    <tr>\n",
       "      <th>2022-04-18</th>\n",
       "      <td>91400.231439</td>\n",
       "    </tr>\n",
       "    <tr>\n",
       "      <th>2022-04-19</th>\n",
       "      <td>65336.792951</td>\n",
       "    </tr>\n",
       "    <tr>\n",
       "      <th>2022-04-20</th>\n",
       "      <td>56533.463830</td>\n",
       "    </tr>\n",
       "    <tr>\n",
       "      <th>2022-04-21</th>\n",
       "      <td>47072.917780</td>\n",
       "    </tr>\n",
       "    <tr>\n",
       "      <th>...</th>\n",
       "      <td>...</td>\n",
       "    </tr>\n",
       "    <tr>\n",
       "      <th>2023-04-11</th>\n",
       "      <td>58254.073532</td>\n",
       "    </tr>\n",
       "    <tr>\n",
       "      <th>2023-04-12</th>\n",
       "      <td>58403.330933</td>\n",
       "    </tr>\n",
       "    <tr>\n",
       "      <th>2023-04-13</th>\n",
       "      <td>58478.604385</td>\n",
       "    </tr>\n",
       "    <tr>\n",
       "      <th>2023-04-14</th>\n",
       "      <td>58281.301384</td>\n",
       "    </tr>\n",
       "    <tr>\n",
       "      <th>2023-04-15</th>\n",
       "      <td>58412.470891</td>\n",
       "    </tr>\n",
       "  </tbody>\n",
       "</table>\n",
       "<p>364 rows × 1 columns</p>\n",
       "</div>"
      ]
     },
     "metadata": {
      "application/vnd.databricks.v1+output": {
       "addedWidgets": {},
       "arguments": {},
       "data": "<div>\n<style scoped>\n    .dataframe tbody tr th:only-of-type {\n        vertical-align: middle;\n    }\n\n    .dataframe tbody tr th {\n        vertical-align: top;\n    }\n\n    .dataframe thead th {\n        text-align: right;\n    }\n</style>\n<table border=\"1\" class=\"dataframe\">\n  <thead>\n    <tr style=\"text-align: right;\">\n      <th></th>\n      <th>0</th>\n    </tr>\n  </thead>\n  <tbody>\n    <tr>\n      <th>2022-04-17</th>\n      <td>14058.189865</td>\n    </tr>\n    <tr>\n      <th>2022-04-18</th>\n      <td>91400.231439</td>\n    </tr>\n    <tr>\n      <th>2022-04-19</th>\n      <td>65336.792951</td>\n    </tr>\n    <tr>\n      <th>2022-04-20</th>\n      <td>56533.463830</td>\n    </tr>\n    <tr>\n      <th>2022-04-21</th>\n      <td>47072.917780</td>\n    </tr>\n    <tr>\n      <th>...</th>\n      <td>...</td>\n    </tr>\n    <tr>\n      <th>2023-04-11</th>\n      <td>58254.073532</td>\n    </tr>\n    <tr>\n      <th>2023-04-12</th>\n      <td>58403.330933</td>\n    </tr>\n    <tr>\n      <th>2023-04-13</th>\n      <td>58478.604385</td>\n    </tr>\n    <tr>\n      <th>2023-04-14</th>\n      <td>58281.301384</td>\n    </tr>\n    <tr>\n      <th>2023-04-15</th>\n      <td>58412.470891</td>\n    </tr>\n  </tbody>\n</table>\n<p>364 rows × 1 columns</p>\n</div>",
       "datasetInfos": [],
       "metadata": {},
       "removedWidgets": [],
       "textData": null,
       "type": "htmlSandbox"
      }
     },
     "output_type": "display_data"
    }
   ],
   "source": [
    "backtest_results"
   ]
  },
  {
   "cell_type": "code",
   "execution_count": 0,
   "metadata": {
    "application/vnd.databricks.v1+cell": {
     "cellMetadata": {
      "byteLimit": 2048000,
      "rowLimit": 10000
     },
     "inputWidgets": {},
     "nuid": "9e71e0e5-b0f6-4551-b79e-859445da8371",
     "showTitle": false,
     "title": ""
    }
   },
   "outputs": [
    {
     "output_type": "display_data",
     "data": {
      "text/html": [
       "<div>\n",
       "<style scoped>\n",
       "    .dataframe tbody tr th:only-of-type {\n",
       "        vertical-align: middle;\n",
       "    }\n",
       "\n",
       "    .dataframe tbody tr th {\n",
       "        vertical-align: top;\n",
       "    }\n",
       "\n",
       "    .dataframe thead th {\n",
       "        text-align: right;\n",
       "    }\n",
       "</style>\n",
       "<table border=\"1\" class=\"dataframe\">\n",
       "  <thead>\n",
       "    <tr style=\"text-align: right;\">\n",
       "      <th></th>\n",
       "      <th>Dates</th>\n",
       "      <th>Dry Fc</th>\n",
       "      <th>Dry Actuals</th>\n",
       "      <th>Fresh Fc</th>\n",
       "      <th>Fresh</th>\n",
       "      <th>Frozen Fc</th>\n",
       "      <th>Frozen</th>\n",
       "      <th>Ultrafresh Fc</th>\n",
       "      <th>Ultrafresh</th>\n",
       "    </tr>\n",
       "  </thead>\n",
       "  <tbody>\n",
       "    <tr>\n",
       "      <th>0</th>\n",
       "      <td>2022-01-03</td>\n",
       "      <td>85794.442754</td>\n",
       "      <td>84224.0</td>\n",
       "      <td>60969.286307</td>\n",
       "      <td>41000.0</td>\n",
       "      <td>49273.053738</td>\n",
       "      <td>5581.0</td>\n",
       "      <td>6538.217201</td>\n",
       "      <td>6538.217201</td>\n",
       "    </tr>\n",
       "    <tr>\n",
       "      <th>1</th>\n",
       "      <td>2022-01-04</td>\n",
       "      <td>65323.939111</td>\n",
       "      <td>49564.0</td>\n",
       "      <td>68517.000793</td>\n",
       "      <td>64233.0</td>\n",
       "      <td>6447.045743</td>\n",
       "      <td>6110.0</td>\n",
       "      <td>7288.014352</td>\n",
       "      <td>9673.000000</td>\n",
       "    </tr>\n",
       "    <tr>\n",
       "      <th>2</th>\n",
       "      <td>2022-01-05</td>\n",
       "      <td>59060.496963</td>\n",
       "      <td>45890.0</td>\n",
       "      <td>59891.490569</td>\n",
       "      <td>61162.0</td>\n",
       "      <td>14752.884950</td>\n",
       "      <td>6061.0</td>\n",
       "      <td>8645.127518</td>\n",
       "      <td>9394.000000</td>\n",
       "    </tr>\n",
       "    <tr>\n",
       "      <th>3</th>\n",
       "      <td>2022-01-06</td>\n",
       "      <td>54098.434315</td>\n",
       "      <td>26976.0</td>\n",
       "      <td>54044.997867</td>\n",
       "      <td>55700.0</td>\n",
       "      <td>11884.161805</td>\n",
       "      <td>5042.0</td>\n",
       "      <td>8733.406013</td>\n",
       "      <td>7299.000000</td>\n",
       "    </tr>\n",
       "    <tr>\n",
       "      <th>4</th>\n",
       "      <td>2022-01-07</td>\n",
       "      <td>48633.525710</td>\n",
       "      <td>37044.0</td>\n",
       "      <td>48691.064872</td>\n",
       "      <td>49534.0</td>\n",
       "      <td>7322.811052</td>\n",
       "      <td>5979.0</td>\n",
       "      <td>7745.598367</td>\n",
       "      <td>8240.000000</td>\n",
       "    </tr>\n",
       "    <tr>\n",
       "      <th>...</th>\n",
       "      <td>...</td>\n",
       "      <td>...</td>\n",
       "      <td>...</td>\n",
       "      <td>...</td>\n",
       "      <td>...</td>\n",
       "      <td>...</td>\n",
       "      <td>...</td>\n",
       "      <td>...</td>\n",
       "      <td>...</td>\n",
       "    </tr>\n",
       "    <tr>\n",
       "      <th>293</th>\n",
       "      <td>2022-12-27</td>\n",
       "      <td>71459.270000</td>\n",
       "      <td>63764.0</td>\n",
       "      <td>67049.998422</td>\n",
       "      <td>68912.0</td>\n",
       "      <td>6642.104962</td>\n",
       "      <td>5615.0</td>\n",
       "      <td>9028.927578</td>\n",
       "      <td>11033.000000</td>\n",
       "    </tr>\n",
       "    <tr>\n",
       "      <th>294</th>\n",
       "      <td>2022-12-28</td>\n",
       "      <td>71916.320000</td>\n",
       "      <td>47680.0</td>\n",
       "      <td>62406.358606</td>\n",
       "      <td>57239.0</td>\n",
       "      <td>5883.382433</td>\n",
       "      <td>5253.0</td>\n",
       "      <td>9509.601394</td>\n",
       "      <td>10525.000000</td>\n",
       "    </tr>\n",
       "    <tr>\n",
       "      <th>295</th>\n",
       "      <td>2022-12-29</td>\n",
       "      <td>60346.346000</td>\n",
       "      <td>39552.0</td>\n",
       "      <td>76619.568000</td>\n",
       "      <td>63748.0</td>\n",
       "      <td>5951.031775</td>\n",
       "      <td>6037.0</td>\n",
       "      <td>9399.318000</td>\n",
       "      <td>10458.000000</td>\n",
       "    </tr>\n",
       "    <tr>\n",
       "      <th>296</th>\n",
       "      <td>2022-12-30</td>\n",
       "      <td>52203.888000</td>\n",
       "      <td>61119.0</td>\n",
       "      <td>65006.548000</td>\n",
       "      <td>42234.0</td>\n",
       "      <td>5759.074282</td>\n",
       "      <td>6692.0</td>\n",
       "      <td>9096.132000</td>\n",
       "      <td>7824.000000</td>\n",
       "    </tr>\n",
       "    <tr>\n",
       "      <th>297</th>\n",
       "      <td>2022-12-31</td>\n",
       "      <td>62750.131426</td>\n",
       "      <td>46818.0</td>\n",
       "      <td>60982.180799</td>\n",
       "      <td>44876.0</td>\n",
       "      <td>5269.921775</td>\n",
       "      <td>4932.0</td>\n",
       "      <td>7219.766000</td>\n",
       "      <td>5975.000000</td>\n",
       "    </tr>\n",
       "  </tbody>\n",
       "</table>\n",
       "<p>298 rows × 9 columns</p>\n",
       "</div>"
      ]
     },
     "metadata": {
      "application/vnd.databricks.v1+output": {
       "addedWidgets": {},
       "arguments": {},
       "data": "<div>\n<style scoped>\n    .dataframe tbody tr th:only-of-type {\n        vertical-align: middle;\n    }\n\n    .dataframe tbody tr th {\n        vertical-align: top;\n    }\n\n    .dataframe thead th {\n        text-align: right;\n    }\n</style>\n<table border=\"1\" class=\"dataframe\">\n  <thead>\n    <tr style=\"text-align: right;\">\n      <th></th>\n      <th>Dates</th>\n      <th>Dry Fc</th>\n      <th>Dry Actuals</th>\n      <th>Fresh Fc</th>\n      <th>Fresh</th>\n      <th>Frozen Fc</th>\n      <th>Frozen</th>\n      <th>Ultrafresh Fc</th>\n      <th>Ultrafresh</th>\n    </tr>\n  </thead>\n  <tbody>\n    <tr>\n      <th>0</th>\n      <td>2022-01-03</td>\n      <td>85794.442754</td>\n      <td>84224.0</td>\n      <td>60969.286307</td>\n      <td>41000.0</td>\n      <td>49273.053738</td>\n      <td>5581.0</td>\n      <td>6538.217201</td>\n      <td>6538.217201</td>\n    </tr>\n    <tr>\n      <th>1</th>\n      <td>2022-01-04</td>\n      <td>65323.939111</td>\n      <td>49564.0</td>\n      <td>68517.000793</td>\n      <td>64233.0</td>\n      <td>6447.045743</td>\n      <td>6110.0</td>\n      <td>7288.014352</td>\n      <td>9673.000000</td>\n    </tr>\n    <tr>\n      <th>2</th>\n      <td>2022-01-05</td>\n      <td>59060.496963</td>\n      <td>45890.0</td>\n      <td>59891.490569</td>\n      <td>61162.0</td>\n      <td>14752.884950</td>\n      <td>6061.0</td>\n      <td>8645.127518</td>\n      <td>9394.000000</td>\n    </tr>\n    <tr>\n      <th>3</th>\n      <td>2022-01-06</td>\n      <td>54098.434315</td>\n      <td>26976.0</td>\n      <td>54044.997867</td>\n      <td>55700.0</td>\n      <td>11884.161805</td>\n      <td>5042.0</td>\n      <td>8733.406013</td>\n      <td>7299.000000</td>\n    </tr>\n    <tr>\n      <th>4</th>\n      <td>2022-01-07</td>\n      <td>48633.525710</td>\n      <td>37044.0</td>\n      <td>48691.064872</td>\n      <td>49534.0</td>\n      <td>7322.811052</td>\n      <td>5979.0</td>\n      <td>7745.598367</td>\n      <td>8240.000000</td>\n    </tr>\n    <tr>\n      <th>...</th>\n      <td>...</td>\n      <td>...</td>\n      <td>...</td>\n      <td>...</td>\n      <td>...</td>\n      <td>...</td>\n      <td>...</td>\n      <td>...</td>\n      <td>...</td>\n    </tr>\n    <tr>\n      <th>293</th>\n      <td>2022-12-27</td>\n      <td>71459.270000</td>\n      <td>63764.0</td>\n      <td>67049.998422</td>\n      <td>68912.0</td>\n      <td>6642.104962</td>\n      <td>5615.0</td>\n      <td>9028.927578</td>\n      <td>11033.000000</td>\n    </tr>\n    <tr>\n      <th>294</th>\n      <td>2022-12-28</td>\n      <td>71916.320000</td>\n      <td>47680.0</td>\n      <td>62406.358606</td>\n      <td>57239.0</td>\n      <td>5883.382433</td>\n      <td>5253.0</td>\n      <td>9509.601394</td>\n      <td>10525.000000</td>\n    </tr>\n    <tr>\n      <th>295</th>\n      <td>2022-12-29</td>\n      <td>60346.346000</td>\n      <td>39552.0</td>\n      <td>76619.568000</td>\n      <td>63748.0</td>\n      <td>5951.031775</td>\n      <td>6037.0</td>\n      <td>9399.318000</td>\n      <td>10458.000000</td>\n    </tr>\n    <tr>\n      <th>296</th>\n      <td>2022-12-30</td>\n      <td>52203.888000</td>\n      <td>61119.0</td>\n      <td>65006.548000</td>\n      <td>42234.0</td>\n      <td>5759.074282</td>\n      <td>6692.0</td>\n      <td>9096.132000</td>\n      <td>7824.000000</td>\n    </tr>\n    <tr>\n      <th>297</th>\n      <td>2022-12-31</td>\n      <td>62750.131426</td>\n      <td>46818.0</td>\n      <td>60982.180799</td>\n      <td>44876.0</td>\n      <td>5269.921775</td>\n      <td>4932.0</td>\n      <td>7219.766000</td>\n      <td>5975.000000</td>\n    </tr>\n  </tbody>\n</table>\n<p>298 rows × 9 columns</p>\n</div>",
       "datasetInfos": [],
       "metadata": {},
       "removedWidgets": [],
       "textData": null,
       "type": "htmlSandbox"
      }
     },
     "output_type": "display_data"
    }
   ],
   "source": [
    "inbound_2022_df"
   ]
  },
  {
   "cell_type": "markdown",
   "metadata": {
    "application/vnd.databricks.v1+cell": {
     "cellMetadata": {
      "byteLimit": 2048000,
      "rowLimit": 10000
     },
     "inputWidgets": {},
     "nuid": "3dc7757e-18ed-485b-8537-8364e6f5d258",
     "showTitle": false,
     "title": ""
    }
   },
   "source": [
    "1. Simplify and clean the notebook\n",
    "1. Merge the backtest results to the inbound 2022 df (inner join)\n",
    "1. Compare the perfomance of both models\n",
    "    1. Global performance mean+/- std\n",
    "        1. Bias\n",
    "        1. Abs error\n",
    "        1. Rel error (abs_error/actuals)\n",
    "        1. Number of days that the rel error >0.1\n",
    "    1. Plot forecast profiles vs actuals"
   ]
  },
  {
   "cell_type": "markdown",
   "metadata": {
    "application/vnd.databricks.v1+cell": {
     "cellMetadata": {
      "byteLimit": 2048000,
      "rowLimit": 10000
     },
     "inputWidgets": {},
     "nuid": "d632ce86-a951-45f2-8a75-192ad69c907b",
     "showTitle": false,
     "title": ""
    }
   },
   "source": [
    "### prepare backtest_results dataframe "
   ]
  },
  {
   "cell_type": "code",
   "execution_count": 0,
   "metadata": {
    "application/vnd.databricks.v1+cell": {
     "cellMetadata": {
      "byteLimit": 2048000,
      "rowLimit": 10000
     },
     "inputWidgets": {},
     "nuid": "d72cdf1e-d12e-4920-a1d8-ee8a59dca6a4",
     "showTitle": false,
     "title": ""
    }
   },
   "outputs": [],
   "source": [
    "backtest_results.rename_axis(\"Dates\", inplace=True)"
   ]
  },
  {
   "cell_type": "code",
   "execution_count": 0,
   "metadata": {
    "application/vnd.databricks.v1+cell": {
     "cellMetadata": {
      "byteLimit": 2048000,
      "rowLimit": 10000
     },
     "inputWidgets": {},
     "nuid": "5d786a8e-9308-4e58-b351-f03002b13da7",
     "showTitle": false,
     "title": ""
    }
   },
   "outputs": [],
   "source": [
    "# backtest_results.rename(columns={0: 'Backtest_Fc'}).reset_index()"
   ]
  },
  {
   "cell_type": "code",
   "execution_count": 0,
   "metadata": {
    "application/vnd.databricks.v1+cell": {
     "cellMetadata": {
      "byteLimit": 2048000,
      "rowLimit": 10000
     },
     "inputWidgets": {},
     "nuid": "2ca44c71-8140-4f00-9935-9c40d8f6ab10",
     "showTitle": false,
     "title": ""
    }
   },
   "outputs": [],
   "source": [
    "backtest_df = backtest_results.rename(columns={0: 'Backtest_Fc'}).reset_index()"
   ]
  },
  {
   "cell_type": "code",
   "execution_count": 0,
   "metadata": {
    "application/vnd.databricks.v1+cell": {
     "cellMetadata": {
      "byteLimit": 2048000,
      "rowLimit": 10000
     },
     "inputWidgets": {},
     "nuid": "7cd861fa-2346-4e93-ad3c-1a643ae7046d",
     "showTitle": false,
     "title": ""
    }
   },
   "outputs": [
    {
     "output_type": "display_data",
     "data": {
      "text/html": [
       "<div>\n",
       "<style scoped>\n",
       "    .dataframe tbody tr th:only-of-type {\n",
       "        vertical-align: middle;\n",
       "    }\n",
       "\n",
       "    .dataframe tbody tr th {\n",
       "        vertical-align: top;\n",
       "    }\n",
       "\n",
       "    .dataframe thead th {\n",
       "        text-align: right;\n",
       "    }\n",
       "</style>\n",
       "<table border=\"1\" class=\"dataframe\">\n",
       "  <thead>\n",
       "    <tr style=\"text-align: right;\">\n",
       "      <th></th>\n",
       "      <th>Dates</th>\n",
       "      <th>Backtest_Fc</th>\n",
       "    </tr>\n",
       "  </thead>\n",
       "  <tbody>\n",
       "    <tr>\n",
       "      <th>0</th>\n",
       "      <td>2022-04-17</td>\n",
       "      <td>14058.189865</td>\n",
       "    </tr>\n",
       "    <tr>\n",
       "      <th>1</th>\n",
       "      <td>2022-04-18</td>\n",
       "      <td>91400.231439</td>\n",
       "    </tr>\n",
       "    <tr>\n",
       "      <th>2</th>\n",
       "      <td>2022-04-19</td>\n",
       "      <td>65336.792951</td>\n",
       "    </tr>\n",
       "    <tr>\n",
       "      <th>3</th>\n",
       "      <td>2022-04-20</td>\n",
       "      <td>56533.463830</td>\n",
       "    </tr>\n",
       "    <tr>\n",
       "      <th>4</th>\n",
       "      <td>2022-04-21</td>\n",
       "      <td>47072.917780</td>\n",
       "    </tr>\n",
       "    <tr>\n",
       "      <th>...</th>\n",
       "      <td>...</td>\n",
       "      <td>...</td>\n",
       "    </tr>\n",
       "    <tr>\n",
       "      <th>359</th>\n",
       "      <td>2023-04-11</td>\n",
       "      <td>58254.073532</td>\n",
       "    </tr>\n",
       "    <tr>\n",
       "      <th>360</th>\n",
       "      <td>2023-04-12</td>\n",
       "      <td>58403.330933</td>\n",
       "    </tr>\n",
       "    <tr>\n",
       "      <th>361</th>\n",
       "      <td>2023-04-13</td>\n",
       "      <td>58478.604385</td>\n",
       "    </tr>\n",
       "    <tr>\n",
       "      <th>362</th>\n",
       "      <td>2023-04-14</td>\n",
       "      <td>58281.301384</td>\n",
       "    </tr>\n",
       "    <tr>\n",
       "      <th>363</th>\n",
       "      <td>2023-04-15</td>\n",
       "      <td>58412.470891</td>\n",
       "    </tr>\n",
       "  </tbody>\n",
       "</table>\n",
       "<p>364 rows × 2 columns</p>\n",
       "</div>"
      ]
     },
     "metadata": {
      "application/vnd.databricks.v1+output": {
       "addedWidgets": {},
       "arguments": {},
       "data": "<div>\n<style scoped>\n    .dataframe tbody tr th:only-of-type {\n        vertical-align: middle;\n    }\n\n    .dataframe tbody tr th {\n        vertical-align: top;\n    }\n\n    .dataframe thead th {\n        text-align: right;\n    }\n</style>\n<table border=\"1\" class=\"dataframe\">\n  <thead>\n    <tr style=\"text-align: right;\">\n      <th></th>\n      <th>Dates</th>\n      <th>Backtest_Fc</th>\n    </tr>\n  </thead>\n  <tbody>\n    <tr>\n      <th>0</th>\n      <td>2022-04-17</td>\n      <td>14058.189865</td>\n    </tr>\n    <tr>\n      <th>1</th>\n      <td>2022-04-18</td>\n      <td>91400.231439</td>\n    </tr>\n    <tr>\n      <th>2</th>\n      <td>2022-04-19</td>\n      <td>65336.792951</td>\n    </tr>\n    <tr>\n      <th>3</th>\n      <td>2022-04-20</td>\n      <td>56533.463830</td>\n    </tr>\n    <tr>\n      <th>4</th>\n      <td>2022-04-21</td>\n      <td>47072.917780</td>\n    </tr>\n    <tr>\n      <th>...</th>\n      <td>...</td>\n      <td>...</td>\n    </tr>\n    <tr>\n      <th>359</th>\n      <td>2023-04-11</td>\n      <td>58254.073532</td>\n    </tr>\n    <tr>\n      <th>360</th>\n      <td>2023-04-12</td>\n      <td>58403.330933</td>\n    </tr>\n    <tr>\n      <th>361</th>\n      <td>2023-04-13</td>\n      <td>58478.604385</td>\n    </tr>\n    <tr>\n      <th>362</th>\n      <td>2023-04-14</td>\n      <td>58281.301384</td>\n    </tr>\n    <tr>\n      <th>363</th>\n      <td>2023-04-15</td>\n      <td>58412.470891</td>\n    </tr>\n  </tbody>\n</table>\n<p>364 rows × 2 columns</p>\n</div>",
       "datasetInfos": [],
       "metadata": {},
       "removedWidgets": [],
       "textData": null,
       "type": "htmlSandbox"
      }
     },
     "output_type": "display_data"
    }
   ],
   "source": [
    "backtest_df"
   ]
  },
  {
   "cell_type": "code",
   "execution_count": 0,
   "metadata": {
    "application/vnd.databricks.v1+cell": {
     "cellMetadata": {
      "byteLimit": 2048000,
      "rowLimit": 10000
     },
     "inputWidgets": {},
     "nuid": "ee73ab4a-4d37-48e0-ac06-0c36f2a16e60",
     "showTitle": false,
     "title": ""
    }
   },
   "outputs": [],
   "source": [
    "\n",
    "backtest_df_merge = pd.merge(inbound_2022_df,backtest_df, on=\"Dates\", how='inner')\n"
   ]
  },
  {
   "cell_type": "code",
   "execution_count": 0,
   "metadata": {
    "application/vnd.databricks.v1+cell": {
     "cellMetadata": {
      "byteLimit": 2048000,
      "rowLimit": 10000
     },
     "inputWidgets": {},
     "nuid": "bd3792b7-b68b-4cd2-bba4-a16ecb045594",
     "showTitle": false,
     "title": ""
    }
   },
   "outputs": [
    {
     "output_type": "display_data",
     "data": {
      "text/html": [
       "<div>\n",
       "<style scoped>\n",
       "    .dataframe tbody tr th:only-of-type {\n",
       "        vertical-align: middle;\n",
       "    }\n",
       "\n",
       "    .dataframe tbody tr th {\n",
       "        vertical-align: top;\n",
       "    }\n",
       "\n",
       "    .dataframe thead th {\n",
       "        text-align: right;\n",
       "    }\n",
       "</style>\n",
       "<table border=\"1\" class=\"dataframe\">\n",
       "  <thead>\n",
       "    <tr style=\"text-align: right;\">\n",
       "      <th></th>\n",
       "      <th>Dates</th>\n",
       "      <th>Dry Fc</th>\n",
       "      <th>Dry Actuals</th>\n",
       "      <th>Fresh Fc</th>\n",
       "      <th>Fresh</th>\n",
       "      <th>Frozen Fc</th>\n",
       "      <th>Frozen</th>\n",
       "      <th>Ultrafresh Fc</th>\n",
       "      <th>Ultrafresh</th>\n",
       "      <th>Backtest_Fc</th>\n",
       "    </tr>\n",
       "  </thead>\n",
       "  <tbody>\n",
       "    <tr>\n",
       "      <th>0</th>\n",
       "      <td>2022-04-19</td>\n",
       "      <td>81040.622023</td>\n",
       "      <td>87006.0</td>\n",
       "      <td>71240.903282</td>\n",
       "      <td>61444.0</td>\n",
       "      <td>51627.318776</td>\n",
       "      <td>8385.0</td>\n",
       "      <td>8292.155919</td>\n",
       "      <td>11533.0</td>\n",
       "      <td>65336.792951</td>\n",
       "    </tr>\n",
       "    <tr>\n",
       "      <th>1</th>\n",
       "      <td>2022-04-20</td>\n",
       "      <td>58967.273526</td>\n",
       "      <td>49021.0</td>\n",
       "      <td>47743.248768</td>\n",
       "      <td>66610.0</td>\n",
       "      <td>12770.028705</td>\n",
       "      <td>5180.0</td>\n",
       "      <td>7755.449000</td>\n",
       "      <td>13025.0</td>\n",
       "      <td>56533.463830</td>\n",
       "    </tr>\n",
       "    <tr>\n",
       "      <th>2</th>\n",
       "      <td>2022-04-21</td>\n",
       "      <td>59909.705493</td>\n",
       "      <td>44875.0</td>\n",
       "      <td>47695.734881</td>\n",
       "      <td>70683.0</td>\n",
       "      <td>10995.600550</td>\n",
       "      <td>2532.0</td>\n",
       "      <td>8689.959076</td>\n",
       "      <td>8307.0</td>\n",
       "      <td>47072.917780</td>\n",
       "    </tr>\n",
       "    <tr>\n",
       "      <th>3</th>\n",
       "      <td>2022-04-22</td>\n",
       "      <td>57751.017683</td>\n",
       "      <td>49405.0</td>\n",
       "      <td>48241.281271</td>\n",
       "      <td>23535.0</td>\n",
       "      <td>5227.281254</td>\n",
       "      <td>3291.0</td>\n",
       "      <td>8435.419792</td>\n",
       "      <td>8051.0</td>\n",
       "      <td>52015.290781</td>\n",
       "    </tr>\n",
       "    <tr>\n",
       "      <th>4</th>\n",
       "      <td>2022-04-23</td>\n",
       "      <td>54438.105073</td>\n",
       "      <td>48878.0</td>\n",
       "      <td>50360.484931</td>\n",
       "      <td>52313.0</td>\n",
       "      <td>5961.395657</td>\n",
       "      <td>3224.0</td>\n",
       "      <td>6181.014339</td>\n",
       "      <td>8723.0</td>\n",
       "      <td>56699.853440</td>\n",
       "    </tr>\n",
       "    <tr>\n",
       "      <th>...</th>\n",
       "      <td>...</td>\n",
       "      <td>...</td>\n",
       "      <td>...</td>\n",
       "      <td>...</td>\n",
       "      <td>...</td>\n",
       "      <td>...</td>\n",
       "      <td>...</td>\n",
       "      <td>...</td>\n",
       "      <td>...</td>\n",
       "      <td>...</td>\n",
       "    </tr>\n",
       "    <tr>\n",
       "      <th>207</th>\n",
       "      <td>2022-12-27</td>\n",
       "      <td>71459.270000</td>\n",
       "      <td>63764.0</td>\n",
       "      <td>67049.998422</td>\n",
       "      <td>68912.0</td>\n",
       "      <td>6642.104962</td>\n",
       "      <td>5615.0</td>\n",
       "      <td>9028.927578</td>\n",
       "      <td>11033.0</td>\n",
       "      <td>73528.735002</td>\n",
       "    </tr>\n",
       "    <tr>\n",
       "      <th>208</th>\n",
       "      <td>2022-12-28</td>\n",
       "      <td>71916.320000</td>\n",
       "      <td>47680.0</td>\n",
       "      <td>62406.358606</td>\n",
       "      <td>57239.0</td>\n",
       "      <td>5883.382433</td>\n",
       "      <td>5253.0</td>\n",
       "      <td>9509.601394</td>\n",
       "      <td>10525.0</td>\n",
       "      <td>68692.756780</td>\n",
       "    </tr>\n",
       "    <tr>\n",
       "      <th>209</th>\n",
       "      <td>2022-12-29</td>\n",
       "      <td>60346.346000</td>\n",
       "      <td>39552.0</td>\n",
       "      <td>76619.568000</td>\n",
       "      <td>63748.0</td>\n",
       "      <td>5951.031775</td>\n",
       "      <td>6037.0</td>\n",
       "      <td>9399.318000</td>\n",
       "      <td>10458.0</td>\n",
       "      <td>62662.741765</td>\n",
       "    </tr>\n",
       "    <tr>\n",
       "      <th>210</th>\n",
       "      <td>2022-12-30</td>\n",
       "      <td>52203.888000</td>\n",
       "      <td>61119.0</td>\n",
       "      <td>65006.548000</td>\n",
       "      <td>42234.0</td>\n",
       "      <td>5759.074282</td>\n",
       "      <td>6692.0</td>\n",
       "      <td>9096.132000</td>\n",
       "      <td>7824.0</td>\n",
       "      <td>53829.187178</td>\n",
       "    </tr>\n",
       "    <tr>\n",
       "      <th>211</th>\n",
       "      <td>2022-12-31</td>\n",
       "      <td>62750.131426</td>\n",
       "      <td>46818.0</td>\n",
       "      <td>60982.180799</td>\n",
       "      <td>44876.0</td>\n",
       "      <td>5269.921775</td>\n",
       "      <td>4932.0</td>\n",
       "      <td>7219.766000</td>\n",
       "      <td>5975.0</td>\n",
       "      <td>60945.170099</td>\n",
       "    </tr>\n",
       "  </tbody>\n",
       "</table>\n",
       "<p>212 rows × 10 columns</p>\n",
       "</div>"
      ]
     },
     "metadata": {
      "application/vnd.databricks.v1+output": {
       "addedWidgets": {},
       "arguments": {},
       "data": "<div>\n<style scoped>\n    .dataframe tbody tr th:only-of-type {\n        vertical-align: middle;\n    }\n\n    .dataframe tbody tr th {\n        vertical-align: top;\n    }\n\n    .dataframe thead th {\n        text-align: right;\n    }\n</style>\n<table border=\"1\" class=\"dataframe\">\n  <thead>\n    <tr style=\"text-align: right;\">\n      <th></th>\n      <th>Dates</th>\n      <th>Dry Fc</th>\n      <th>Dry Actuals</th>\n      <th>Fresh Fc</th>\n      <th>Fresh</th>\n      <th>Frozen Fc</th>\n      <th>Frozen</th>\n      <th>Ultrafresh Fc</th>\n      <th>Ultrafresh</th>\n      <th>Backtest_Fc</th>\n    </tr>\n  </thead>\n  <tbody>\n    <tr>\n      <th>0</th>\n      <td>2022-04-19</td>\n      <td>81040.622023</td>\n      <td>87006.0</td>\n      <td>71240.903282</td>\n      <td>61444.0</td>\n      <td>51627.318776</td>\n      <td>8385.0</td>\n      <td>8292.155919</td>\n      <td>11533.0</td>\n      <td>65336.792951</td>\n    </tr>\n    <tr>\n      <th>1</th>\n      <td>2022-04-20</td>\n      <td>58967.273526</td>\n      <td>49021.0</td>\n      <td>47743.248768</td>\n      <td>66610.0</td>\n      <td>12770.028705</td>\n      <td>5180.0</td>\n      <td>7755.449000</td>\n      <td>13025.0</td>\n      <td>56533.463830</td>\n    </tr>\n    <tr>\n      <th>2</th>\n      <td>2022-04-21</td>\n      <td>59909.705493</td>\n      <td>44875.0</td>\n      <td>47695.734881</td>\n      <td>70683.0</td>\n      <td>10995.600550</td>\n      <td>2532.0</td>\n      <td>8689.959076</td>\n      <td>8307.0</td>\n      <td>47072.917780</td>\n    </tr>\n    <tr>\n      <th>3</th>\n      <td>2022-04-22</td>\n      <td>57751.017683</td>\n      <td>49405.0</td>\n      <td>48241.281271</td>\n      <td>23535.0</td>\n      <td>5227.281254</td>\n      <td>3291.0</td>\n      <td>8435.419792</td>\n      <td>8051.0</td>\n      <td>52015.290781</td>\n    </tr>\n    <tr>\n      <th>4</th>\n      <td>2022-04-23</td>\n      <td>54438.105073</td>\n      <td>48878.0</td>\n      <td>50360.484931</td>\n      <td>52313.0</td>\n      <td>5961.395657</td>\n      <td>3224.0</td>\n      <td>6181.014339</td>\n      <td>8723.0</td>\n      <td>56699.853440</td>\n    </tr>\n    <tr>\n      <th>...</th>\n      <td>...</td>\n      <td>...</td>\n      <td>...</td>\n      <td>...</td>\n      <td>...</td>\n      <td>...</td>\n      <td>...</td>\n      <td>...</td>\n      <td>...</td>\n      <td>...</td>\n    </tr>\n    <tr>\n      <th>207</th>\n      <td>2022-12-27</td>\n      <td>71459.270000</td>\n      <td>63764.0</td>\n      <td>67049.998422</td>\n      <td>68912.0</td>\n      <td>6642.104962</td>\n      <td>5615.0</td>\n      <td>9028.927578</td>\n      <td>11033.0</td>\n      <td>73528.735002</td>\n    </tr>\n    <tr>\n      <th>208</th>\n      <td>2022-12-28</td>\n      <td>71916.320000</td>\n      <td>47680.0</td>\n      <td>62406.358606</td>\n      <td>57239.0</td>\n      <td>5883.382433</td>\n      <td>5253.0</td>\n      <td>9509.601394</td>\n      <td>10525.0</td>\n      <td>68692.756780</td>\n    </tr>\n    <tr>\n      <th>209</th>\n      <td>2022-12-29</td>\n      <td>60346.346000</td>\n      <td>39552.0</td>\n      <td>76619.568000</td>\n      <td>63748.0</td>\n      <td>5951.031775</td>\n      <td>6037.0</td>\n      <td>9399.318000</td>\n      <td>10458.0</td>\n      <td>62662.741765</td>\n    </tr>\n    <tr>\n      <th>210</th>\n      <td>2022-12-30</td>\n      <td>52203.888000</td>\n      <td>61119.0</td>\n      <td>65006.548000</td>\n      <td>42234.0</td>\n      <td>5759.074282</td>\n      <td>6692.0</td>\n      <td>9096.132000</td>\n      <td>7824.0</td>\n      <td>53829.187178</td>\n    </tr>\n    <tr>\n      <th>211</th>\n      <td>2022-12-31</td>\n      <td>62750.131426</td>\n      <td>46818.0</td>\n      <td>60982.180799</td>\n      <td>44876.0</td>\n      <td>5269.921775</td>\n      <td>4932.0</td>\n      <td>7219.766000</td>\n      <td>5975.0</td>\n      <td>60945.170099</td>\n    </tr>\n  </tbody>\n</table>\n<p>212 rows × 10 columns</p>\n</div>",
       "datasetInfos": [],
       "metadata": {},
       "removedWidgets": [],
       "textData": null,
       "type": "htmlSandbox"
      }
     },
     "output_type": "display_data"
    }
   ],
   "source": [
    "backtest_df_merge"
   ]
  },
  {
   "cell_type": "code",
   "execution_count": 0,
   "metadata": {
    "application/vnd.databricks.v1+cell": {
     "cellMetadata": {
      "byteLimit": 2048000,
      "rowLimit": 10000
     },
     "inputWidgets": {},
     "nuid": "dbed97d7-e70f-417d-a3f9-055dacc3004c",
     "showTitle": false,
     "title": ""
    }
   },
   "outputs": [],
   "source": [
    "target_cols_df = backtest_df_merge[['Dates','Dry Actuals', 'Dry Fc', 'Backtest_Fc']]"
   ]
  },
  {
   "cell_type": "code",
   "execution_count": 0,
   "metadata": {
    "application/vnd.databricks.v1+cell": {
     "cellMetadata": {
      "byteLimit": 2048000,
      "rowLimit": 10000
     },
     "inputWidgets": {},
     "nuid": "d0d5d66e-41ed-4fde-84fd-bb972a418752",
     "showTitle": false,
     "title": ""
    }
   },
   "outputs": [
    {
     "output_type": "display_data",
     "data": {
      "text/html": [
       "<div>\n",
       "<style scoped>\n",
       "    .dataframe tbody tr th:only-of-type {\n",
       "        vertical-align: middle;\n",
       "    }\n",
       "\n",
       "    .dataframe tbody tr th {\n",
       "        vertical-align: top;\n",
       "    }\n",
       "\n",
       "    .dataframe thead th {\n",
       "        text-align: right;\n",
       "    }\n",
       "</style>\n",
       "<table border=\"1\" class=\"dataframe\">\n",
       "  <thead>\n",
       "    <tr style=\"text-align: right;\">\n",
       "      <th></th>\n",
       "      <th>Dates</th>\n",
       "      <th>Dry Actuals</th>\n",
       "      <th>Dry Fc</th>\n",
       "      <th>Backtest_Fc</th>\n",
       "    </tr>\n",
       "  </thead>\n",
       "  <tbody>\n",
       "    <tr>\n",
       "      <th>0</th>\n",
       "      <td>2022-04-19</td>\n",
       "      <td>87006.0</td>\n",
       "      <td>81040.622023</td>\n",
       "      <td>65336.792951</td>\n",
       "    </tr>\n",
       "    <tr>\n",
       "      <th>1</th>\n",
       "      <td>2022-04-20</td>\n",
       "      <td>49021.0</td>\n",
       "      <td>58967.273526</td>\n",
       "      <td>56533.463830</td>\n",
       "    </tr>\n",
       "    <tr>\n",
       "      <th>2</th>\n",
       "      <td>2022-04-21</td>\n",
       "      <td>44875.0</td>\n",
       "      <td>59909.705493</td>\n",
       "      <td>47072.917780</td>\n",
       "    </tr>\n",
       "    <tr>\n",
       "      <th>3</th>\n",
       "      <td>2022-04-22</td>\n",
       "      <td>49405.0</td>\n",
       "      <td>57751.017683</td>\n",
       "      <td>52015.290781</td>\n",
       "    </tr>\n",
       "    <tr>\n",
       "      <th>4</th>\n",
       "      <td>2022-04-23</td>\n",
       "      <td>48878.0</td>\n",
       "      <td>54438.105073</td>\n",
       "      <td>56699.853440</td>\n",
       "    </tr>\n",
       "    <tr>\n",
       "      <th>...</th>\n",
       "      <td>...</td>\n",
       "      <td>...</td>\n",
       "      <td>...</td>\n",
       "      <td>...</td>\n",
       "    </tr>\n",
       "    <tr>\n",
       "      <th>207</th>\n",
       "      <td>2022-12-27</td>\n",
       "      <td>63764.0</td>\n",
       "      <td>71459.270000</td>\n",
       "      <td>73528.735002</td>\n",
       "    </tr>\n",
       "    <tr>\n",
       "      <th>208</th>\n",
       "      <td>2022-12-28</td>\n",
       "      <td>47680.0</td>\n",
       "      <td>71916.320000</td>\n",
       "      <td>68692.756780</td>\n",
       "    </tr>\n",
       "    <tr>\n",
       "      <th>209</th>\n",
       "      <td>2022-12-29</td>\n",
       "      <td>39552.0</td>\n",
       "      <td>60346.346000</td>\n",
       "      <td>62662.741765</td>\n",
       "    </tr>\n",
       "    <tr>\n",
       "      <th>210</th>\n",
       "      <td>2022-12-30</td>\n",
       "      <td>61119.0</td>\n",
       "      <td>52203.888000</td>\n",
       "      <td>53829.187178</td>\n",
       "    </tr>\n",
       "    <tr>\n",
       "      <th>211</th>\n",
       "      <td>2022-12-31</td>\n",
       "      <td>46818.0</td>\n",
       "      <td>62750.131426</td>\n",
       "      <td>60945.170099</td>\n",
       "    </tr>\n",
       "  </tbody>\n",
       "</table>\n",
       "<p>212 rows × 4 columns</p>\n",
       "</div>"
      ]
     },
     "metadata": {
      "application/vnd.databricks.v1+output": {
       "addedWidgets": {},
       "arguments": {},
       "data": "<div>\n<style scoped>\n    .dataframe tbody tr th:only-of-type {\n        vertical-align: middle;\n    }\n\n    .dataframe tbody tr th {\n        vertical-align: top;\n    }\n\n    .dataframe thead th {\n        text-align: right;\n    }\n</style>\n<table border=\"1\" class=\"dataframe\">\n  <thead>\n    <tr style=\"text-align: right;\">\n      <th></th>\n      <th>Dates</th>\n      <th>Dry Actuals</th>\n      <th>Dry Fc</th>\n      <th>Backtest_Fc</th>\n    </tr>\n  </thead>\n  <tbody>\n    <tr>\n      <th>0</th>\n      <td>2022-04-19</td>\n      <td>87006.0</td>\n      <td>81040.622023</td>\n      <td>65336.792951</td>\n    </tr>\n    <tr>\n      <th>1</th>\n      <td>2022-04-20</td>\n      <td>49021.0</td>\n      <td>58967.273526</td>\n      <td>56533.463830</td>\n    </tr>\n    <tr>\n      <th>2</th>\n      <td>2022-04-21</td>\n      <td>44875.0</td>\n      <td>59909.705493</td>\n      <td>47072.917780</td>\n    </tr>\n    <tr>\n      <th>3</th>\n      <td>2022-04-22</td>\n      <td>49405.0</td>\n      <td>57751.017683</td>\n      <td>52015.290781</td>\n    </tr>\n    <tr>\n      <th>4</th>\n      <td>2022-04-23</td>\n      <td>48878.0</td>\n      <td>54438.105073</td>\n      <td>56699.853440</td>\n    </tr>\n    <tr>\n      <th>...</th>\n      <td>...</td>\n      <td>...</td>\n      <td>...</td>\n      <td>...</td>\n    </tr>\n    <tr>\n      <th>207</th>\n      <td>2022-12-27</td>\n      <td>63764.0</td>\n      <td>71459.270000</td>\n      <td>73528.735002</td>\n    </tr>\n    <tr>\n      <th>208</th>\n      <td>2022-12-28</td>\n      <td>47680.0</td>\n      <td>71916.320000</td>\n      <td>68692.756780</td>\n    </tr>\n    <tr>\n      <th>209</th>\n      <td>2022-12-29</td>\n      <td>39552.0</td>\n      <td>60346.346000</td>\n      <td>62662.741765</td>\n    </tr>\n    <tr>\n      <th>210</th>\n      <td>2022-12-30</td>\n      <td>61119.0</td>\n      <td>52203.888000</td>\n      <td>53829.187178</td>\n    </tr>\n    <tr>\n      <th>211</th>\n      <td>2022-12-31</td>\n      <td>46818.0</td>\n      <td>62750.131426</td>\n      <td>60945.170099</td>\n    </tr>\n  </tbody>\n</table>\n<p>212 rows × 4 columns</p>\n</div>",
       "datasetInfos": [],
       "metadata": {},
       "removedWidgets": [],
       "textData": null,
       "type": "htmlSandbox"
      }
     },
     "output_type": "display_data"
    }
   ],
   "source": [
    "target_cols_df"
   ]
  },
  {
   "cell_type": "code",
   "execution_count": 0,
   "metadata": {
    "application/vnd.databricks.v1+cell": {
     "cellMetadata": {
      "byteLimit": 2048000,
      "rowLimit": 10000
     },
     "inputWidgets": {},
     "nuid": "58ea636e-ad29-407f-bd89-bfa20031d028",
     "showTitle": false,
     "title": ""
    }
   },
   "outputs": [
    {
     "output_type": "stream",
     "name": "stderr",
     "output_type": "stream",
     "text": [
      "<command-2089907714274554>:1: SettingWithCopyWarning: \nA value is trying to be set on a copy of a slice from a DataFrame.\nTry using .loc[row_indexer,col_indexer] = value instead\n\nSee the caveats in the documentation: https://pandas.pydata.org/pandas-docs/stable/user_guide/indexing.html#returning-a-view-versus-a-copy\n  target_cols_df['Bias_Dry_Fc'] = target_cols_df['Dry Actuals'] - target_cols_df['Dry Fc']\n<command-2089907714274554>:2: SettingWithCopyWarning: \nA value is trying to be set on a copy of a slice from a DataFrame.\nTry using .loc[row_indexer,col_indexer] = value instead\n\nSee the caveats in the documentation: https://pandas.pydata.org/pandas-docs/stable/user_guide/indexing.html#returning-a-view-versus-a-copy\n  target_cols_df['Bias_Backtest_Fc'] = target_cols_df['Dry Actuals'] - target_cols_df['Backtest_Fc']\n"
     ]
    },
    {
     "output_type": "display_data",
     "data": {
      "text/html": [
       "<div>\n",
       "<style scoped>\n",
       "    .dataframe tbody tr th:only-of-type {\n",
       "        vertical-align: middle;\n",
       "    }\n",
       "\n",
       "    .dataframe tbody tr th {\n",
       "        vertical-align: top;\n",
       "    }\n",
       "\n",
       "    .dataframe thead th {\n",
       "        text-align: right;\n",
       "    }\n",
       "</style>\n",
       "<table border=\"1\" class=\"dataframe\">\n",
       "  <thead>\n",
       "    <tr style=\"text-align: right;\">\n",
       "      <th></th>\n",
       "      <th>Dates</th>\n",
       "      <th>Dry Actuals</th>\n",
       "      <th>Dry Fc</th>\n",
       "      <th>Backtest_Fc</th>\n",
       "      <th>Bias_Dry_Fc</th>\n",
       "      <th>Bias_Backtest_Fc</th>\n",
       "    </tr>\n",
       "  </thead>\n",
       "  <tbody>\n",
       "    <tr>\n",
       "      <th>0</th>\n",
       "      <td>2022-04-19</td>\n",
       "      <td>87006.0</td>\n",
       "      <td>81040.622023</td>\n",
       "      <td>65336.792951</td>\n",
       "      <td>5965.377977</td>\n",
       "      <td>21669.207049</td>\n",
       "    </tr>\n",
       "    <tr>\n",
       "      <th>1</th>\n",
       "      <td>2022-04-20</td>\n",
       "      <td>49021.0</td>\n",
       "      <td>58967.273526</td>\n",
       "      <td>56533.463830</td>\n",
       "      <td>-9946.273526</td>\n",
       "      <td>-7512.463830</td>\n",
       "    </tr>\n",
       "    <tr>\n",
       "      <th>2</th>\n",
       "      <td>2022-04-21</td>\n",
       "      <td>44875.0</td>\n",
       "      <td>59909.705493</td>\n",
       "      <td>47072.917780</td>\n",
       "      <td>-15034.705493</td>\n",
       "      <td>-2197.917780</td>\n",
       "    </tr>\n",
       "    <tr>\n",
       "      <th>3</th>\n",
       "      <td>2022-04-22</td>\n",
       "      <td>49405.0</td>\n",
       "      <td>57751.017683</td>\n",
       "      <td>52015.290781</td>\n",
       "      <td>-8346.017683</td>\n",
       "      <td>-2610.290781</td>\n",
       "    </tr>\n",
       "    <tr>\n",
       "      <th>4</th>\n",
       "      <td>2022-04-23</td>\n",
       "      <td>48878.0</td>\n",
       "      <td>54438.105073</td>\n",
       "      <td>56699.853440</td>\n",
       "      <td>-5560.105073</td>\n",
       "      <td>-7821.853440</td>\n",
       "    </tr>\n",
       "    <tr>\n",
       "      <th>...</th>\n",
       "      <td>...</td>\n",
       "      <td>...</td>\n",
       "      <td>...</td>\n",
       "      <td>...</td>\n",
       "      <td>...</td>\n",
       "      <td>...</td>\n",
       "    </tr>\n",
       "    <tr>\n",
       "      <th>207</th>\n",
       "      <td>2022-12-27</td>\n",
       "      <td>63764.0</td>\n",
       "      <td>71459.270000</td>\n",
       "      <td>73528.735002</td>\n",
       "      <td>-7695.270000</td>\n",
       "      <td>-9764.735002</td>\n",
       "    </tr>\n",
       "    <tr>\n",
       "      <th>208</th>\n",
       "      <td>2022-12-28</td>\n",
       "      <td>47680.0</td>\n",
       "      <td>71916.320000</td>\n",
       "      <td>68692.756780</td>\n",
       "      <td>-24236.320000</td>\n",
       "      <td>-21012.756780</td>\n",
       "    </tr>\n",
       "    <tr>\n",
       "      <th>209</th>\n",
       "      <td>2022-12-29</td>\n",
       "      <td>39552.0</td>\n",
       "      <td>60346.346000</td>\n",
       "      <td>62662.741765</td>\n",
       "      <td>-20794.346000</td>\n",
       "      <td>-23110.741765</td>\n",
       "    </tr>\n",
       "    <tr>\n",
       "      <th>210</th>\n",
       "      <td>2022-12-30</td>\n",
       "      <td>61119.0</td>\n",
       "      <td>52203.888000</td>\n",
       "      <td>53829.187178</td>\n",
       "      <td>8915.112000</td>\n",
       "      <td>7289.812822</td>\n",
       "    </tr>\n",
       "    <tr>\n",
       "      <th>211</th>\n",
       "      <td>2022-12-31</td>\n",
       "      <td>46818.0</td>\n",
       "      <td>62750.131426</td>\n",
       "      <td>60945.170099</td>\n",
       "      <td>-15932.131426</td>\n",
       "      <td>-14127.170099</td>\n",
       "    </tr>\n",
       "  </tbody>\n",
       "</table>\n",
       "<p>212 rows × 6 columns</p>\n",
       "</div>"
      ]
     },
     "metadata": {
      "application/vnd.databricks.v1+output": {
       "addedWidgets": {},
       "arguments": {},
       "data": "<div>\n<style scoped>\n    .dataframe tbody tr th:only-of-type {\n        vertical-align: middle;\n    }\n\n    .dataframe tbody tr th {\n        vertical-align: top;\n    }\n\n    .dataframe thead th {\n        text-align: right;\n    }\n</style>\n<table border=\"1\" class=\"dataframe\">\n  <thead>\n    <tr style=\"text-align: right;\">\n      <th></th>\n      <th>Dates</th>\n      <th>Dry Actuals</th>\n      <th>Dry Fc</th>\n      <th>Backtest_Fc</th>\n      <th>Bias_Dry_Fc</th>\n      <th>Bias_Backtest_Fc</th>\n    </tr>\n  </thead>\n  <tbody>\n    <tr>\n      <th>0</th>\n      <td>2022-04-19</td>\n      <td>87006.0</td>\n      <td>81040.622023</td>\n      <td>65336.792951</td>\n      <td>5965.377977</td>\n      <td>21669.207049</td>\n    </tr>\n    <tr>\n      <th>1</th>\n      <td>2022-04-20</td>\n      <td>49021.0</td>\n      <td>58967.273526</td>\n      <td>56533.463830</td>\n      <td>-9946.273526</td>\n      <td>-7512.463830</td>\n    </tr>\n    <tr>\n      <th>2</th>\n      <td>2022-04-21</td>\n      <td>44875.0</td>\n      <td>59909.705493</td>\n      <td>47072.917780</td>\n      <td>-15034.705493</td>\n      <td>-2197.917780</td>\n    </tr>\n    <tr>\n      <th>3</th>\n      <td>2022-04-22</td>\n      <td>49405.0</td>\n      <td>57751.017683</td>\n      <td>52015.290781</td>\n      <td>-8346.017683</td>\n      <td>-2610.290781</td>\n    </tr>\n    <tr>\n      <th>4</th>\n      <td>2022-04-23</td>\n      <td>48878.0</td>\n      <td>54438.105073</td>\n      <td>56699.853440</td>\n      <td>-5560.105073</td>\n      <td>-7821.853440</td>\n    </tr>\n    <tr>\n      <th>...</th>\n      <td>...</td>\n      <td>...</td>\n      <td>...</td>\n      <td>...</td>\n      <td>...</td>\n      <td>...</td>\n    </tr>\n    <tr>\n      <th>207</th>\n      <td>2022-12-27</td>\n      <td>63764.0</td>\n      <td>71459.270000</td>\n      <td>73528.735002</td>\n      <td>-7695.270000</td>\n      <td>-9764.735002</td>\n    </tr>\n    <tr>\n      <th>208</th>\n      <td>2022-12-28</td>\n      <td>47680.0</td>\n      <td>71916.320000</td>\n      <td>68692.756780</td>\n      <td>-24236.320000</td>\n      <td>-21012.756780</td>\n    </tr>\n    <tr>\n      <th>209</th>\n      <td>2022-12-29</td>\n      <td>39552.0</td>\n      <td>60346.346000</td>\n      <td>62662.741765</td>\n      <td>-20794.346000</td>\n      <td>-23110.741765</td>\n    </tr>\n    <tr>\n      <th>210</th>\n      <td>2022-12-30</td>\n      <td>61119.0</td>\n      <td>52203.888000</td>\n      <td>53829.187178</td>\n      <td>8915.112000</td>\n      <td>7289.812822</td>\n    </tr>\n    <tr>\n      <th>211</th>\n      <td>2022-12-31</td>\n      <td>46818.0</td>\n      <td>62750.131426</td>\n      <td>60945.170099</td>\n      <td>-15932.131426</td>\n      <td>-14127.170099</td>\n    </tr>\n  </tbody>\n</table>\n<p>212 rows × 6 columns</p>\n</div>",
       "datasetInfos": [],
       "metadata": {},
       "removedWidgets": [],
       "textData": null,
       "type": "htmlSandbox"
      }
     },
     "output_type": "display_data"
    }
   ],
   "source": [
    "\n",
    "target_cols_df['Bias_Dry_Fc'] = target_cols_df['Dry Actuals'] - target_cols_df['Dry Fc']\n",
    "target_cols_df['Bias_Backtest_Fc'] = target_cols_df['Dry Actuals'] - target_cols_df['Backtest_Fc']\n",
    "target_cols_df\n"
   ]
  },
  {
   "cell_type": "code",
   "execution_count": 0,
   "metadata": {
    "application/vnd.databricks.v1+cell": {
     "cellMetadata": {
      "byteLimit": 2048000,
      "rowLimit": 10000
     },
     "inputWidgets": {},
     "nuid": "d7b4e0f6-c39c-4448-8438-4595d6fd55ce",
     "showTitle": false,
     "title": ""
    }
   },
   "outputs": [
    {
     "output_type": "stream",
     "name": "stdout",
     "output_type": "stream",
     "text": [
      "Out[30]: -1859.6073550981555"
     ]
    }
   ],
   "source": [
    "target_cols_df['Bias_Dry_Fc'].mean()"
   ]
  },
  {
   "cell_type": "code",
   "execution_count": 0,
   "metadata": {
    "application/vnd.databricks.v1+cell": {
     "cellMetadata": {
      "byteLimit": 2048000,
      "rowLimit": 10000
     },
     "inputWidgets": {},
     "nuid": "e3e35617-82f7-426e-9c3a-75bbf575d0b7",
     "showTitle": false,
     "title": ""
    }
   },
   "outputs": [
    {
     "output_type": "stream",
     "name": "stdout",
     "output_type": "stream",
     "text": [
      "Out[31]: 5633.16787812094"
     ]
    }
   ],
   "source": [
    "target_cols_df['Bias_Backtest_Fc'].mean()"
   ]
  },
  {
   "cell_type": "code",
   "execution_count": 0,
   "metadata": {
    "application/vnd.databricks.v1+cell": {
     "cellMetadata": {
      "byteLimit": 2048000,
      "rowLimit": 10000
     },
     "inputWidgets": {},
     "nuid": "05c6ea9e-7b18-4650-b80c-3c682d020bbb",
     "showTitle": false,
     "title": ""
    }
   },
   "outputs": [
    {
     "output_type": "stream",
     "name": "stdout",
     "output_type": "stream",
     "text": [
      "Out[32]: 9930.103706666332"
     ]
    }
   ],
   "source": [
    "target_cols_df['Bias_Dry_Fc'].std()"
   ]
  },
  {
   "cell_type": "code",
   "execution_count": 0,
   "metadata": {
    "application/vnd.databricks.v1+cell": {
     "cellMetadata": {
      "byteLimit": 2048000,
      "rowLimit": 10000
     },
     "inputWidgets": {},
     "nuid": "d1efdbe3-a98d-4249-b711-dcb9cadefa84",
     "showTitle": false,
     "title": ""
    }
   },
   "outputs": [
    {
     "output_type": "stream",
     "name": "stdout",
     "output_type": "stream",
     "text": [
      "Out[33]: 19113.656014621287"
     ]
    }
   ],
   "source": [
    "target_cols_df['Bias_Backtest_Fc'].std()"
   ]
  },
  {
   "cell_type": "markdown",
   "metadata": {
    "application/vnd.databricks.v1+cell": {
     "cellMetadata": {
      "byteLimit": 2048000,
      "rowLimit": 10000
     },
     "inputWidgets": {},
     "nuid": "8f605e1c-f7f8-4077-873d-7e3cc4c75987",
     "showTitle": false,
     "title": ""
    }
   },
   "source": [
    "### Bias, MAE, MSE functions "
   ]
  },
  {
   "cell_type": "code",
   "execution_count": 0,
   "metadata": {
    "application/vnd.databricks.v1+cell": {
     "cellMetadata": {
      "byteLimit": 2048000,
      "rowLimit": 10000
     },
     "inputWidgets": {},
     "nuid": "8462e4bc-445d-4eab-96e5-460fa79b892a",
     "showTitle": false,
     "title": ""
    }
   },
   "outputs": [],
   "source": [
    "def bias_error(backtest_df_merge:pd.DataFrame, actual_col:int= 'Dry Actuals',pred_col:int='Backtest_Fc', axis:int = 1)->pd.DataFrame: \n",
    "  \"\"\"\n",
    "  calculate the error\n",
    "  Arguments\n",
    "  pd dataframe\n",
    "  actuals & forecast columns\n",
    "  Returns \n",
    "  Data with new columns='Bias'\n",
    "  \"\"\"\n",
    "  backtest_df_merge['BT_bias']=backtest_df_merge['Dry Actuals']-backtest_df_merge['Backtest_Fc']\n",
    "  return backtest_df_merge"
   ]
  },
  {
   "cell_type": "code",
   "execution_count": 0,
   "metadata": {
    "application/vnd.databricks.v1+cell": {
     "cellMetadata": {
      "byteLimit": 2048000,
      "rowLimit": 10000
     },
     "inputWidgets": {},
     "nuid": "a741423d-3182-416d-8996-96b2bee23506",
     "showTitle": false,
     "title": ""
    }
   },
   "outputs": [
    {
     "output_type": "display_data",
     "data": {
      "text/html": [
       "<div>\n",
       "<style scoped>\n",
       "    .dataframe tbody tr th:only-of-type {\n",
       "        vertical-align: middle;\n",
       "    }\n",
       "\n",
       "    .dataframe tbody tr th {\n",
       "        vertical-align: top;\n",
       "    }\n",
       "\n",
       "    .dataframe thead th {\n",
       "        text-align: right;\n",
       "    }\n",
       "</style>\n",
       "<table border=\"1\" class=\"dataframe\">\n",
       "  <thead>\n",
       "    <tr style=\"text-align: right;\">\n",
       "      <th></th>\n",
       "      <th>Dates</th>\n",
       "      <th>Dry Fc</th>\n",
       "      <th>Dry Actuals</th>\n",
       "      <th>Fresh Fc</th>\n",
       "      <th>Fresh</th>\n",
       "      <th>Frozen Fc</th>\n",
       "      <th>Frozen</th>\n",
       "      <th>Ultrafresh Fc</th>\n",
       "      <th>Ultrafresh</th>\n",
       "      <th>Backtest_Fc</th>\n",
       "    </tr>\n",
       "  </thead>\n",
       "  <tbody>\n",
       "    <tr>\n",
       "      <th>0</th>\n",
       "      <td>2022-04-19</td>\n",
       "      <td>81040.622023</td>\n",
       "      <td>87006.0</td>\n",
       "      <td>71240.903282</td>\n",
       "      <td>61444.0</td>\n",
       "      <td>51627.318776</td>\n",
       "      <td>8385.0</td>\n",
       "      <td>8292.155919</td>\n",
       "      <td>11533.0</td>\n",
       "      <td>65336.792951</td>\n",
       "    </tr>\n",
       "    <tr>\n",
       "      <th>1</th>\n",
       "      <td>2022-04-20</td>\n",
       "      <td>58967.273526</td>\n",
       "      <td>49021.0</td>\n",
       "      <td>47743.248768</td>\n",
       "      <td>66610.0</td>\n",
       "      <td>12770.028705</td>\n",
       "      <td>5180.0</td>\n",
       "      <td>7755.449000</td>\n",
       "      <td>13025.0</td>\n",
       "      <td>56533.463830</td>\n",
       "    </tr>\n",
       "    <tr>\n",
       "      <th>2</th>\n",
       "      <td>2022-04-21</td>\n",
       "      <td>59909.705493</td>\n",
       "      <td>44875.0</td>\n",
       "      <td>47695.734881</td>\n",
       "      <td>70683.0</td>\n",
       "      <td>10995.600550</td>\n",
       "      <td>2532.0</td>\n",
       "      <td>8689.959076</td>\n",
       "      <td>8307.0</td>\n",
       "      <td>47072.917780</td>\n",
       "    </tr>\n",
       "    <tr>\n",
       "      <th>3</th>\n",
       "      <td>2022-04-22</td>\n",
       "      <td>57751.017683</td>\n",
       "      <td>49405.0</td>\n",
       "      <td>48241.281271</td>\n",
       "      <td>23535.0</td>\n",
       "      <td>5227.281254</td>\n",
       "      <td>3291.0</td>\n",
       "      <td>8435.419792</td>\n",
       "      <td>8051.0</td>\n",
       "      <td>52015.290781</td>\n",
       "    </tr>\n",
       "    <tr>\n",
       "      <th>4</th>\n",
       "      <td>2022-04-23</td>\n",
       "      <td>54438.105073</td>\n",
       "      <td>48878.0</td>\n",
       "      <td>50360.484931</td>\n",
       "      <td>52313.0</td>\n",
       "      <td>5961.395657</td>\n",
       "      <td>3224.0</td>\n",
       "      <td>6181.014339</td>\n",
       "      <td>8723.0</td>\n",
       "      <td>56699.853440</td>\n",
       "    </tr>\n",
       "    <tr>\n",
       "      <th>...</th>\n",
       "      <td>...</td>\n",
       "      <td>...</td>\n",
       "      <td>...</td>\n",
       "      <td>...</td>\n",
       "      <td>...</td>\n",
       "      <td>...</td>\n",
       "      <td>...</td>\n",
       "      <td>...</td>\n",
       "      <td>...</td>\n",
       "      <td>...</td>\n",
       "    </tr>\n",
       "    <tr>\n",
       "      <th>207</th>\n",
       "      <td>2022-12-27</td>\n",
       "      <td>71459.270000</td>\n",
       "      <td>63764.0</td>\n",
       "      <td>67049.998422</td>\n",
       "      <td>68912.0</td>\n",
       "      <td>6642.104962</td>\n",
       "      <td>5615.0</td>\n",
       "      <td>9028.927578</td>\n",
       "      <td>11033.0</td>\n",
       "      <td>73528.735002</td>\n",
       "    </tr>\n",
       "    <tr>\n",
       "      <th>208</th>\n",
       "      <td>2022-12-28</td>\n",
       "      <td>71916.320000</td>\n",
       "      <td>47680.0</td>\n",
       "      <td>62406.358606</td>\n",
       "      <td>57239.0</td>\n",
       "      <td>5883.382433</td>\n",
       "      <td>5253.0</td>\n",
       "      <td>9509.601394</td>\n",
       "      <td>10525.0</td>\n",
       "      <td>68692.756780</td>\n",
       "    </tr>\n",
       "    <tr>\n",
       "      <th>209</th>\n",
       "      <td>2022-12-29</td>\n",
       "      <td>60346.346000</td>\n",
       "      <td>39552.0</td>\n",
       "      <td>76619.568000</td>\n",
       "      <td>63748.0</td>\n",
       "      <td>5951.031775</td>\n",
       "      <td>6037.0</td>\n",
       "      <td>9399.318000</td>\n",
       "      <td>10458.0</td>\n",
       "      <td>62662.741765</td>\n",
       "    </tr>\n",
       "    <tr>\n",
       "      <th>210</th>\n",
       "      <td>2022-12-30</td>\n",
       "      <td>52203.888000</td>\n",
       "      <td>61119.0</td>\n",
       "      <td>65006.548000</td>\n",
       "      <td>42234.0</td>\n",
       "      <td>5759.074282</td>\n",
       "      <td>6692.0</td>\n",
       "      <td>9096.132000</td>\n",
       "      <td>7824.0</td>\n",
       "      <td>53829.187178</td>\n",
       "    </tr>\n",
       "    <tr>\n",
       "      <th>211</th>\n",
       "      <td>2022-12-31</td>\n",
       "      <td>62750.131426</td>\n",
       "      <td>46818.0</td>\n",
       "      <td>60982.180799</td>\n",
       "      <td>44876.0</td>\n",
       "      <td>5269.921775</td>\n",
       "      <td>4932.0</td>\n",
       "      <td>7219.766000</td>\n",
       "      <td>5975.0</td>\n",
       "      <td>60945.170099</td>\n",
       "    </tr>\n",
       "  </tbody>\n",
       "</table>\n",
       "<p>212 rows × 10 columns</p>\n",
       "</div>"
      ]
     },
     "metadata": {
      "application/vnd.databricks.v1+output": {
       "addedWidgets": {},
       "arguments": {},
       "data": "<div>\n<style scoped>\n    .dataframe tbody tr th:only-of-type {\n        vertical-align: middle;\n    }\n\n    .dataframe tbody tr th {\n        vertical-align: top;\n    }\n\n    .dataframe thead th {\n        text-align: right;\n    }\n</style>\n<table border=\"1\" class=\"dataframe\">\n  <thead>\n    <tr style=\"text-align: right;\">\n      <th></th>\n      <th>Dates</th>\n      <th>Dry Fc</th>\n      <th>Dry Actuals</th>\n      <th>Fresh Fc</th>\n      <th>Fresh</th>\n      <th>Frozen Fc</th>\n      <th>Frozen</th>\n      <th>Ultrafresh Fc</th>\n      <th>Ultrafresh</th>\n      <th>Backtest_Fc</th>\n    </tr>\n  </thead>\n  <tbody>\n    <tr>\n      <th>0</th>\n      <td>2022-04-19</td>\n      <td>81040.622023</td>\n      <td>87006.0</td>\n      <td>71240.903282</td>\n      <td>61444.0</td>\n      <td>51627.318776</td>\n      <td>8385.0</td>\n      <td>8292.155919</td>\n      <td>11533.0</td>\n      <td>65336.792951</td>\n    </tr>\n    <tr>\n      <th>1</th>\n      <td>2022-04-20</td>\n      <td>58967.273526</td>\n      <td>49021.0</td>\n      <td>47743.248768</td>\n      <td>66610.0</td>\n      <td>12770.028705</td>\n      <td>5180.0</td>\n      <td>7755.449000</td>\n      <td>13025.0</td>\n      <td>56533.463830</td>\n    </tr>\n    <tr>\n      <th>2</th>\n      <td>2022-04-21</td>\n      <td>59909.705493</td>\n      <td>44875.0</td>\n      <td>47695.734881</td>\n      <td>70683.0</td>\n      <td>10995.600550</td>\n      <td>2532.0</td>\n      <td>8689.959076</td>\n      <td>8307.0</td>\n      <td>47072.917780</td>\n    </tr>\n    <tr>\n      <th>3</th>\n      <td>2022-04-22</td>\n      <td>57751.017683</td>\n      <td>49405.0</td>\n      <td>48241.281271</td>\n      <td>23535.0</td>\n      <td>5227.281254</td>\n      <td>3291.0</td>\n      <td>8435.419792</td>\n      <td>8051.0</td>\n      <td>52015.290781</td>\n    </tr>\n    <tr>\n      <th>4</th>\n      <td>2022-04-23</td>\n      <td>54438.105073</td>\n      <td>48878.0</td>\n      <td>50360.484931</td>\n      <td>52313.0</td>\n      <td>5961.395657</td>\n      <td>3224.0</td>\n      <td>6181.014339</td>\n      <td>8723.0</td>\n      <td>56699.853440</td>\n    </tr>\n    <tr>\n      <th>...</th>\n      <td>...</td>\n      <td>...</td>\n      <td>...</td>\n      <td>...</td>\n      <td>...</td>\n      <td>...</td>\n      <td>...</td>\n      <td>...</td>\n      <td>...</td>\n      <td>...</td>\n    </tr>\n    <tr>\n      <th>207</th>\n      <td>2022-12-27</td>\n      <td>71459.270000</td>\n      <td>63764.0</td>\n      <td>67049.998422</td>\n      <td>68912.0</td>\n      <td>6642.104962</td>\n      <td>5615.0</td>\n      <td>9028.927578</td>\n      <td>11033.0</td>\n      <td>73528.735002</td>\n    </tr>\n    <tr>\n      <th>208</th>\n      <td>2022-12-28</td>\n      <td>71916.320000</td>\n      <td>47680.0</td>\n      <td>62406.358606</td>\n      <td>57239.0</td>\n      <td>5883.382433</td>\n      <td>5253.0</td>\n      <td>9509.601394</td>\n      <td>10525.0</td>\n      <td>68692.756780</td>\n    </tr>\n    <tr>\n      <th>209</th>\n      <td>2022-12-29</td>\n      <td>60346.346000</td>\n      <td>39552.0</td>\n      <td>76619.568000</td>\n      <td>63748.0</td>\n      <td>5951.031775</td>\n      <td>6037.0</td>\n      <td>9399.318000</td>\n      <td>10458.0</td>\n      <td>62662.741765</td>\n    </tr>\n    <tr>\n      <th>210</th>\n      <td>2022-12-30</td>\n      <td>52203.888000</td>\n      <td>61119.0</td>\n      <td>65006.548000</td>\n      <td>42234.0</td>\n      <td>5759.074282</td>\n      <td>6692.0</td>\n      <td>9096.132000</td>\n      <td>7824.0</td>\n      <td>53829.187178</td>\n    </tr>\n    <tr>\n      <th>211</th>\n      <td>2022-12-31</td>\n      <td>62750.131426</td>\n      <td>46818.0</td>\n      <td>60982.180799</td>\n      <td>44876.0</td>\n      <td>5269.921775</td>\n      <td>4932.0</td>\n      <td>7219.766000</td>\n      <td>5975.0</td>\n      <td>60945.170099</td>\n    </tr>\n  </tbody>\n</table>\n<p>212 rows × 10 columns</p>\n</div>",
       "datasetInfos": [],
       "metadata": {},
       "removedWidgets": [],
       "textData": null,
       "type": "htmlSandbox"
      }
     },
     "output_type": "display_data"
    }
   ],
   "source": [
    "backtest_df_merge\n"
   ]
  },
  {
   "cell_type": "code",
   "execution_count": 0,
   "metadata": {
    "application/vnd.databricks.v1+cell": {
     "cellMetadata": {
      "byteLimit": 2048000,
      "rowLimit": 10000
     },
     "inputWidgets": {},
     "nuid": "5452e1e1-7445-4de1-959e-5c91707d5edb",
     "showTitle": false,
     "title": ""
    }
   },
   "outputs": [],
   "source": []
  }
 ],
 "metadata": {
  "application/vnd.databricks.v1+notebook": {
   "dashboards": [],
   "language": "python",
   "notebookMetadata": {
    "pythonIndentUnit": 2
   },
   "notebookName": "Backtesting-test_all",
   "widgets": {}
  }
 },
 "nbformat": 4,
 "nbformat_minor": 0
}
