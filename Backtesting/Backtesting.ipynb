{
 "cells": [
  {
   "cell_type": "code",
   "execution_count": 0,
   "metadata": {
    "application/vnd.databricks.v1+cell": {
     "cellMetadata": {
      "byteLimit": 2048000,
      "rowLimit": 10000
     },
     "inputWidgets": {},
     "nuid": "7054cb28-39b1-452a-a3e1-96eb6f0eaa56",
     "showTitle": false,
     "title": ""
    }
   },
   "outputs": [
    {
     "output_type": "stream",
     "name": "stdout",
     "output_type": "stream",
     "text": [
      "Python interpreter will be restarted.\nRequirement already satisfied: statsmodels in /databricks/python3/lib/python3.9/site-packages (0.13.2)\nRequirement already satisfied: packaging>=21.3 in /databricks/python3/lib/python3.9/site-packages (from statsmodels) (21.3)\nRequirement already satisfied: numpy>=1.17 in /databricks/python3/lib/python3.9/site-packages (from statsmodels) (1.21.5)\nRequirement already satisfied: pandas>=0.25 in /databricks/python3/lib/python3.9/site-packages (from statsmodels) (1.4.2)\nRequirement already satisfied: scipy>=1.3 in /databricks/python3/lib/python3.9/site-packages (from statsmodels) (1.7.3)\nRequirement already satisfied: patsy>=0.5.2 in /databricks/python3/lib/python3.9/site-packages (from statsmodels) (0.5.2)\nRequirement already satisfied: pyparsing!=3.0.5,>=2.0.2 in /databricks/python3/lib/python3.9/site-packages (from packaging>=21.3->statsmodels) (3.0.4)\nRequirement already satisfied: python-dateutil>=2.8.1 in /databricks/python3/lib/python3.9/site-packages (from pandas>=0.25->statsmodels) (2.8.2)\nRequirement already satisfied: pytz>=2020.1 in /databricks/python3/lib/python3.9/site-packages (from pandas>=0.25->statsmodels) (2021.3)\nRequirement already satisfied: six in /databricks/python3/lib/python3.9/site-packages (from patsy>=0.5.2->statsmodels) (1.16.0)\nPython interpreter will be restarted.\n"
     ]
    }
   ],
   "source": [
    "%pip install statsmodels\n",
    "%matplotlib inline"
   ]
  },
  {
   "cell_type": "code",
   "execution_count": 0,
   "metadata": {
    "application/vnd.databricks.v1+cell": {
     "cellMetadata": {
      "byteLimit": 2048000,
      "rowLimit": 10000
     },
     "inputWidgets": {},
     "nuid": "541f3bf7-cf62-4fb0-a334-726684b11a1b",
     "showTitle": false,
     "title": ""
    }
   },
   "outputs": [
    {
     "output_type": "display_data",
     "data": {
      "application/vnd.databricks.v1+bamboolib_hint": "{\"pd.DataFrames\": [], \"version\": \"0.0.1\"}",
      "text/plain": []
     },
     "metadata": {},
     "output_type": "display_data"
    }
   ],
   "source": [
    "%run /Users/ebizindavyi@delhaize.be/Data_preparation/Parse_xls_files"
   ]
  },
  {
   "cell_type": "code",
   "execution_count": 0,
   "metadata": {
    "application/vnd.databricks.v1+cell": {
     "cellMetadata": {
      "byteLimit": 2048000,
      "rowLimit": 10000
     },
     "inputWidgets": {},
     "nuid": "d60c5a2a-59b4-484c-8773-fb3c66c9ef46",
     "showTitle": false,
     "title": ""
    }
   },
   "outputs": [],
   "source": [
    "date= '2022-07-01'\n",
    "training_period=90\n",
    "horizon_begin=15\n",
    "days_to_forecast=7\n",
    "best_model=(1, 0, 0)\n",
    "seasonal_order=(2, 0, 1, 7)"
   ]
  },
  {
   "cell_type": "markdown",
   "metadata": {
    "application/vnd.databricks.v1+cell": {
     "cellMetadata": {
      "byteLimit": 2048000,
      "rowLimit": 10000
     },
     "inputWidgets": {},
     "nuid": "10c524d3-b3ea-42d0-abc1-4249d0bcb88b",
     "showTitle": false,
     "title": ""
    }
   },
   "source": [
    "## Load Libraries"
   ]
  },
  {
   "cell_type": "code",
   "execution_count": 0,
   "metadata": {
    "application/vnd.databricks.v1+cell": {
     "cellMetadata": {
      "byteLimit": 2048000,
      "rowLimit": 10000
     },
     "inputWidgets": {},
     "nuid": "d77772fd-ef8e-4806-ac8b-0e52d96ffbe5",
     "showTitle": false,
     "title": ""
    }
   },
   "outputs": [],
   "source": [
    "import pandas as pd\n",
    "import numpy as np\n",
    "import matplotlib.pyplot as plt\n",
    "import statsmodels.api as sm\n",
    "from statsmodels.tsa.arima.model import ARIMA\n",
    "import datetime as dt\n",
    "from datetime import datetime, timedelta"
   ]
  },
  {
   "cell_type": "markdown",
   "metadata": {
    "application/vnd.databricks.v1+cell": {
     "cellMetadata": {
      "byteLimit": 2048000,
      "rowLimit": 10000
     },
     "inputWidgets": {},
     "nuid": "a85a8221-6596-47f0-9df5-9a62fd395137",
     "showTitle": false,
     "title": ""
    }
   },
   "source": [
    "## Load the inbound data"
   ]
  },
  {
   "cell_type": "code",
   "execution_count": 0,
   "metadata": {
    "application/vnd.databricks.v1+cell": {
     "cellMetadata": {
      "byteLimit": 2048000,
      "rowLimit": 10000
     },
     "inputWidgets": {},
     "nuid": "9bbb3ba0-628a-46a9-9b5a-4c3150d57424",
     "showTitle": false,
     "title": ""
    }
   },
   "outputs": [],
   "source": [
    "inbound_2022_dir = '/dbfs/mnt/dataplatform/acc/DataScience/sandbox/ebiz/Inbound_FC/data/input/Ecom-Ops-status_2022.xlsx'"
   ]
  },
  {
   "cell_type": "code",
   "execution_count": 0,
   "metadata": {
    "application/vnd.databricks.v1+cell": {
     "cellMetadata": {
      "byteLimit": 2048000,
      "rowLimit": 10000
     },
     "inputWidgets": {},
     "nuid": "9d26eadd-e82c-417e-b6d1-7a91f44e63c7",
     "showTitle": false,
     "title": ""
    }
   },
   "outputs": [],
   "source": [
    "inbound_2022_df = create_master_df(inbound_2022_dir)"
   ]
  },
  {
   "cell_type": "markdown",
   "metadata": {
    "application/vnd.databricks.v1+cell": {
     "cellMetadata": {
      "byteLimit": 2048000,
      "rowLimit": 10000
     },
     "inputWidgets": {},
     "nuid": "5afd8b25-a20d-4a57-afb9-1e01beac2ebf",
     "showTitle": false,
     "title": ""
    }
   },
   "source": [
    "### Create yearly time series\n",
    "needed to fill in date gaps"
   ]
  },
  {
   "cell_type": "code",
   "execution_count": 0,
   "metadata": {
    "application/vnd.databricks.v1+cell": {
     "cellMetadata": {
      "byteLimit": 2048000,
      "rowLimit": 10000
     },
     "inputWidgets": {},
     "nuid": "22f7852b-fdb0-4680-9057-58b01e13d247",
     "showTitle": false,
     "title": ""
    }
   },
   "outputs": [
    {
     "output_type": "stream",
     "name": "stdout",
     "output_type": "stream",
     "text": [
      "Out[18]: Dates\n2022-01-03    84224.0\n2022-01-04    49564.0\n2022-01-05    45890.0\n2022-01-06    26976.0\n2022-01-07    37044.0\n               ...   \n2022-12-27    63764.0\n2022-12-28    47680.0\n2022-12-29    39552.0\n2022-12-30    61119.0\n2022-12-31    46818.0\nName: Dry Actuals, Length: 363, dtype: float64"
     ]
    }
   ],
   "source": [
    "calendar_2022 = pd.DataFrame({'Dates':pd.date_range(dt.datetime(2022,1,3), periods=363, freq='d')})\n",
    "inbound_2022_dry = calendar_2022.merge(inbound_2022_df, on='Dates',how='left').fillna(0).set_index('Dates').copy()\n",
    "inbound_2022_dry = inbound_2022_dry.groupby(['Dates'])['Dry Actuals'].sum()\n",
    "inbound_2022_dry"
   ]
  },
  {
   "cell_type": "markdown",
   "metadata": {
    "application/vnd.databricks.v1+cell": {
     "cellMetadata": {
      "byteLimit": 2048000,
      "rowLimit": 10000
     },
     "inputWidgets": {},
     "nuid": "360116d8-b5c3-4069-b96c-b10364117134",
     "showTitle": false,
     "title": ""
    }
   },
   "source": [
    "## ARIMA model with fitted parameters"
   ]
  },
  {
   "cell_type": "code",
   "execution_count": 0,
   "metadata": {
    "application/vnd.databricks.v1+cell": {
     "cellMetadata": {
      "byteLimit": 2048000,
      "rowLimit": 10000
     },
     "inputWidgets": {},
     "nuid": "c262280f-1359-4153-ac68-787f61a08eeb",
     "showTitle": false,
     "title": ""
    }
   },
   "outputs": [],
   "source": [
    "start_train_date = datetime.strptime(date,'%Y-%m-%d').date()\n",
    "end_train_date = start_train_date + timedelta(days=training_period-1)\n",
    "endog = inbound_2022_dry[start_train_date:end_train_date]"
   ]
  },
  {
   "cell_type": "code",
   "execution_count": 0,
   "metadata": {
    "application/vnd.databricks.v1+cell": {
     "cellMetadata": {
      "byteLimit": 2048000,
      "rowLimit": 10000
     },
     "inputWidgets": {},
     "nuid": "db9cf4f6-6461-468d-b9ea-23d43b06cc40",
     "showTitle": false,
     "title": ""
    }
   },
   "outputs": [
    {
     "output_type": "stream",
     "name": "stdout",
     "output_type": "stream",
     "text": [
      "CPU times: user 1.3 ms, sys: 3.97 ms, total: 5.27 ms\nWall time: 5.98 ms\n"
     ]
    },
    {
     "output_type": "stream",
     "name": "stderr",
     "output_type": "stream",
     "text": [
      "/databricks/python/lib/python3.9/site-packages/statsmodels/tsa/base/tsa_model.py:471: ValueWarning: No frequency information was provided, so inferred frequency D will be used.\n  self._init_dates(dates, freq)\n/databricks/python/lib/python3.9/site-packages/statsmodels/tsa/base/tsa_model.py:471: ValueWarning: No frequency information was provided, so inferred frequency D will be used.\n  self._init_dates(dates, freq)\n/databricks/python/lib/python3.9/site-packages/statsmodels/tsa/base/tsa_model.py:471: ValueWarning: No frequency information was provided, so inferred frequency D will be used.\n  self._init_dates(dates, freq)\n"
     ]
    }
   ],
   "source": [
    "%%time \n",
    "arima_mod = ARIMA(endog, order=best_model, seasonal_order=seasonal_order, trend=None, freq=None)"
   ]
  },
  {
   "cell_type": "code",
   "execution_count": 0,
   "metadata": {
    "application/vnd.databricks.v1+cell": {
     "cellMetadata": {
      "byteLimit": 2048000,
      "rowLimit": 10000
     },
     "inputWidgets": {},
     "nuid": "e9cf6ced-f7b9-48db-ba1b-accfe2f57e50",
     "showTitle": false,
     "title": ""
    }
   },
   "outputs": [],
   "source": [
    "arima_mod_fit=arima_mod.fit()"
   ]
  },
  {
   "cell_type": "markdown",
   "metadata": {
    "application/vnd.databricks.v1+cell": {
     "cellMetadata": {
      "byteLimit": 2048000,
      "rowLimit": 10000
     },
     "inputWidgets": {},
     "nuid": "cddb87a2-1cec-4f3a-95bb-b783c288d3ef",
     "showTitle": false,
     "title": ""
    }
   },
   "source": [
    "###check the parameters"
   ]
  },
  {
   "cell_type": "markdown",
   "metadata": {
    "application/vnd.databricks.v1+cell": {
     "cellMetadata": {
      "byteLimit": 2048000,
      "rowLimit": 10000
     },
     "inputWidgets": {},
     "nuid": "6d4a88d4-7526-4fd4-a317-30ce84dee633",
     "showTitle": false,
     "title": ""
    }
   },
   "source": [
    "###Prediction\n",
    "First period starts from 14th day from the end_train_date until the 15th day \n"
   ]
  },
  {
   "cell_type": "code",
   "execution_count": 0,
   "metadata": {
    "application/vnd.databricks.v1+cell": {
     "cellMetadata": {
      "byteLimit": 2048000,
      "rowLimit": 10000
     },
     "inputWidgets": {},
     "nuid": "2a86e779-8805-4e14-9ce2-add190790dca",
     "showTitle": false,
     "title": ""
    }
   },
   "outputs": [],
   "source": [
    "#predict, hints: 1)specify the train period with start and end date\n",
    "\n",
    "horizon_start= end_train_date+timedelta(days=horizon_begin)\n",
    "horizon_end=horizon_start+timedelta(days=days_to_forecast-1)\n",
    "arima_pred=arima_mod_fit.predict(start=horizon_start, end=horizon_end)\n"
   ]
  },
  {
   "cell_type": "code",
   "execution_count": 0,
   "metadata": {
    "application/vnd.databricks.v1+cell": {
     "cellMetadata": {
      "byteLimit": 2048000,
      "rowLimit": 10000
     },
     "inputWidgets": {},
     "nuid": "1a60a865-134c-48cd-9177-674bad82ffb4",
     "showTitle": false,
     "title": ""
    }
   },
   "outputs": [
    {
     "output_type": "stream",
     "name": "stdout",
     "output_type": "stream",
     "text": [
      "Out[23]: 2022-10-13    45951.427704\n2022-10-14    50975.516046\n2022-10-15    51324.100041\n2022-10-16    14475.565246\n2022-10-17    88409.474137\n2022-10-18    61466.483229\n2022-10-19    60445.087121\nFreq: D, Name: predicted_mean, dtype: float64"
     ]
    }
   ],
   "source": [
    "arima_pred"
   ]
  },
  {
   "cell_type": "code",
   "execution_count": 0,
   "metadata": {
    "application/vnd.databricks.v1+cell": {
     "cellMetadata": {
      "byteLimit": 2048000,
      "rowLimit": 10000
     },
     "inputWidgets": {},
     "nuid": "44715a31-be4a-4e20-87d2-0a40c877631a",
     "showTitle": false,
     "title": ""
    }
   },
   "outputs": [],
   "source": [
    "initial_date = '2022-04-03'\n",
    "end_date = '2022-12-31'\n",
    "fc_freq = 7"
   ]
  },
  {
   "cell_type": "code",
   "execution_count": 0,
   "metadata": {
    "application/vnd.databricks.v1+cell": {
     "cellMetadata": {
      "byteLimit": 2048000,
      "rowLimit": 10000
     },
     "inputWidgets": {},
     "nuid": "ce5e2852-6da8-498a-a7c5-94aa1d341a0e",
     "showTitle": false,
     "title": ""
    }
   },
   "outputs": [],
   "source": [
    "# forecasting date sequences is the the list of the start date of each of our forecasting period \n",
    "forecast_date_seq = pd.date_range(start=initial_date, end=end_date, periods=fc_freq)"
   ]
  },
  {
   "cell_type": "code",
   "execution_count": 0,
   "metadata": {
    "application/vnd.databricks.v1+cell": {
     "cellMetadata": {
      "byteLimit": 2048000,
      "rowLimit": 10000
     },
     "inputWidgets": {},
     "nuid": "37954dbe-59d6-44be-8ef4-e10c13b3eff3",
     "showTitle": false,
     "title": ""
    }
   },
   "outputs": [
    {
     "output_type": "stream",
     "name": "stderr",
     "output_type": "stream",
     "text": [
      "/databricks/python/lib/python3.9/site-packages/statsmodels/tsa/base/tsa_model.py:471: ValueWarning: No frequency information was provided, so inferred frequency D will be used.\n  self._init_dates(dates, freq)\n/databricks/python/lib/python3.9/site-packages/statsmodels/tsa/base/tsa_model.py:471: ValueWarning: No frequency information was provided, so inferred frequency D will be used.\n  self._init_dates(dates, freq)\n/databricks/python/lib/python3.9/site-packages/statsmodels/tsa/base/tsa_model.py:471: ValueWarning: No frequency information was provided, so inferred frequency D will be used.\n  self._init_dates(dates, freq)\n"
     ]
    },
    {
     "output_type": "display_data",
     "data": {
      "text/plain": [
       "\u001B[0;31m---------------------------------------------------------------------------\u001B[0m\n",
       "\u001B[0;31mTypeError\u001B[0m                                 Traceback (most recent call last)\n",
       "File \u001B[0;32m<command-846493552946166>:8\u001B[0m\n",
       "\u001B[1;32m      6\u001B[0m \u001B[38;5;28;01mfor\u001B[39;00m start_test_date \u001B[38;5;129;01min\u001B[39;00m forecast_date_seq:\n",
       "\u001B[1;32m      7\u001B[0m   arima_mod \u001B[38;5;241m=\u001B[39m ARIMA(endog, order\u001B[38;5;241m=\u001B[39mbest_model, seasonal_order\u001B[38;5;241m=\u001B[39mseasonal_order, trend\u001B[38;5;241m=\u001B[39m\u001B[38;5;28;01mNone\u001B[39;00m, freq\u001B[38;5;241m=\u001B[39m\u001B[38;5;28;01mNone\u001B[39;00m)\n",
       "\u001B[0;32m----> 8\u001B[0m   end_test_date \u001B[38;5;241m=\u001B[39minitial_date \u001B[38;5;241m+\u001B[39m fc_freq\u001B[38;5;241m-\u001B[39m\u001B[38;5;241m1\u001B[39m\n",
       "\u001B[1;32m     10\u001B[0m   start_train_date\u001B[38;5;241m=\u001B[39m start_test_date\u001B[38;5;241m-\u001B[39mtraining_days\u001B[38;5;241m-\u001B[39m\u001B[38;5;241m1\u001B[39m\n",
       "\u001B[1;32m     11\u001B[0m   end_train_date\u001B[38;5;241m=\u001B[39mstart_train_date\u001B[38;5;241m+\u001B[39mtraining_days\n",
       "\n",
       "\u001B[0;31mTypeError\u001B[0m: unsupported operand type(s) for +: 'datetime.datetime' and 'int'"
      ]
     },
     "metadata": {
      "application/vnd.databricks.v1+output": {
       "arguments": {},
       "data": "\u001B[0;31m---------------------------------------------------------------------------\u001B[0m\n\u001B[0;31mTypeError\u001B[0m                                 Traceback (most recent call last)\nFile \u001B[0;32m<command-846493552946166>:8\u001B[0m\n\u001B[1;32m      6\u001B[0m \u001B[38;5;28;01mfor\u001B[39;00m start_test_date \u001B[38;5;129;01min\u001B[39;00m forecast_date_seq:\n\u001B[1;32m      7\u001B[0m   arima_mod \u001B[38;5;241m=\u001B[39m ARIMA(endog, order\u001B[38;5;241m=\u001B[39mbest_model, seasonal_order\u001B[38;5;241m=\u001B[39mseasonal_order, trend\u001B[38;5;241m=\u001B[39m\u001B[38;5;28;01mNone\u001B[39;00m, freq\u001B[38;5;241m=\u001B[39m\u001B[38;5;28;01mNone\u001B[39;00m)\n\u001B[0;32m----> 8\u001B[0m   end_test_date \u001B[38;5;241m=\u001B[39minitial_date \u001B[38;5;241m+\u001B[39m fc_freq\u001B[38;5;241m-\u001B[39m\u001B[38;5;241m1\u001B[39m\n\u001B[1;32m     10\u001B[0m   start_train_date\u001B[38;5;241m=\u001B[39m start_test_date\u001B[38;5;241m-\u001B[39mtraining_days\u001B[38;5;241m-\u001B[39m\u001B[38;5;241m1\u001B[39m\n\u001B[1;32m     11\u001B[0m   end_train_date\u001B[38;5;241m=\u001B[39mstart_train_date\u001B[38;5;241m+\u001B[39mtraining_days\n\n\u001B[0;31mTypeError\u001B[0m: unsupported operand type(s) for +: 'datetime.datetime' and 'int'",
       "errorSummary": "<span class='ansi-red-fg'>TypeError</span>: unsupported operand type(s) for +: 'datetime.datetime' and 'int'",
       "errorTraceType": "ansi",
       "metadata": {},
       "type": "ipynbError"
      }
     },
     "output_type": "display_data"
    }
   ],
   "source": [
    "initial_date= datetime.strptime(initial_date, '%Y-%m-%d')\n",
    "\n",
    "forecast_date_seq= pd.date_range(start=initial_date, end=end_date, periods=fc_freq)\n",
    "backtest_results=pd.DataFrame()\n",
    "\n",
    "for start_test_date in forecast_date_seq:\n",
    "  arima_mod = ARIMA(endog, order=best_model, seasonal_order=seasonal_order, trend=None, freq=None)\n",
    "  end_test_date =initial_date + fc_freq-1\n",
    "\n",
    "  start_train_date= start_test_date-training_days-1\n",
    "  end_train_date=start_train_date+training_days\n",
    "\n",
    "  endog=inbound_2022_dry[start_train_date:end_train_date]\n",
    "  ARIMA\n",
    "  # backtest_results = backtest_results.append(forecast_df)\n",
    "  pass\n",
    "\n",
    "end_test_date =start_test_date + fc_horizon_end\n",
    "\n",
    "start_train_date= start_test_date-training_days-1\n",
    "end_train_date=start_train_date+training_days\n",
    "\n",
    "endog=inbound_2022_dry[start_train_date:end_train_date]"
   ]
  }
 ],
 "metadata": {
  "application/vnd.databricks.v1+notebook": {
   "dashboards": [],
   "language": "python",
   "notebookMetadata": {
    "pythonIndentUnit": 2
   },
   "notebookName": "Backtesting",
   "widgets": {}
  }
 },
 "nbformat": 4,
 "nbformat_minor": 0
}
