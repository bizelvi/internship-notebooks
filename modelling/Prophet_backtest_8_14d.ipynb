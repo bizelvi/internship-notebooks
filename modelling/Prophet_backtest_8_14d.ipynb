{
 "cells": [
  {
   "cell_type": "markdown",
   "metadata": {
    "application/vnd.databricks.v1+cell": {
     "cellMetadata": {
      "byteLimit": 2048000,
      "rowLimit": 10000
     },
     "inputWidgets": {},
     "nuid": "4519a268-cfa6-4b5e-9f2a-8db2791bde98",
     "showTitle": false,
     "title": ""
    }
   },
   "source": [
    "# Run this notebook on the Demand forecast cluster"
   ]
  },
  {
   "cell_type": "code",
   "execution_count": 0,
   "metadata": {
    "application/vnd.databricks.v1+cell": {
     "cellMetadata": {
      "byteLimit": 2048000,
      "rowLimit": 10000
     },
     "inputWidgets": {},
     "nuid": "f781ed1c-50fc-4464-a563-0f0b76026888",
     "showTitle": false,
     "title": ""
    }
   },
   "outputs": [
    {
     "output_type": "display_data",
     "data": {
      "text/html": [
       "<style scoped>\n",
       "  .ansiout {\n",
       "    display: block;\n",
       "    unicode-bidi: embed;\n",
       "    white-space: pre-wrap;\n",
       "    word-wrap: break-word;\n",
       "    word-break: break-all;\n",
       "    font-family: \"Source Code Pro\", \"Menlo\", monospace;;\n",
       "    font-size: 13px;\n",
       "    color: #555;\n",
       "    margin-left: 4px;\n",
       "    line-height: 19px;\n",
       "  }\n",
       "</style>\n",
       "<div class=\"ansiout\">Python interpreter will be restarted.\n",
       "Requirement already satisfied: prophet in /databricks/python3/lib/python3.8/site-packages (1.0.1)\n",
       "Requirement already satisfied: Cython&gt;=0.22 in /databricks/python3/lib/python3.8/site-packages (from prophet) (0.29.23)\n",
       "Requirement already satisfied: cmdstanpy==0.9.68 in /databricks/python3/lib/python3.8/site-packages (from prophet) (0.9.68)\n",
       "Requirement already satisfied: pystan~=2.19.1.1 in /databricks/python3/lib/python3.8/site-packages (from prophet) (2.19.1.1)\n",
       "Requirement already satisfied: numpy&gt;=1.15.4 in /databricks/python3/lib/python3.8/site-packages (from prophet) (1.19.2)\n",
       "Requirement already satisfied: pandas&gt;=1.0.4 in /databricks/python3/lib/python3.8/site-packages (from prophet) (1.3.2)\n",
       "Requirement already satisfied: matplotlib&gt;=2.0.0 in /databricks/python3/lib/python3.8/site-packages (from prophet) (3.4.2)\n",
       "Requirement already satisfied: LunarCalendar&gt;=0.0.9 in /databricks/python3/lib/python3.8/site-packages (from prophet) (0.0.9)\n",
       "Requirement already satisfied: convertdate&gt;=2.1.2 in /databricks/python3/lib/python3.8/site-packages (from prophet) (2.3.2)\n",
       "Requirement already satisfied: holidays&gt;=0.10.2 in /databricks/python3/lib/python3.8/site-packages (from prophet) (0.11.2)\n",
       "Requirement already satisfied: setuptools-git&gt;=1.2 in /databricks/python3/lib/python3.8/site-packages (from prophet) (1.2)\n",
       "Requirement already satisfied: python-dateutil&gt;=2.8.0 in /databricks/python3/lib/python3.8/site-packages (from prophet) (2.8.2)\n",
       "Requirement already satisfied: tqdm&gt;=4.36.1 in /databricks/python3/lib/python3.8/site-packages (from prophet) (4.59.0)\n",
       "Requirement already satisfied: ujson in /databricks/python3/lib/python3.8/site-packages (from cmdstanpy==0.9.68-&gt;prophet) (4.0.2)\n",
       "Requirement already satisfied: pymeeus&lt;=1,&gt;=0.3.13 in /databricks/python3/lib/python3.8/site-packages (from convertdate&gt;=2.1.2-&gt;prophet) (0.5.11)\n",
       "Requirement already satisfied: pytz&gt;=2014.10 in /databricks/python3/lib/python3.8/site-packages (from convertdate&gt;=2.1.2-&gt;prophet) (2020.5)\n",
       "Requirement already satisfied: hijri-converter in /databricks/python3/lib/python3.8/site-packages (from holidays&gt;=0.10.2-&gt;prophet) (2.2.1)\n",
       "Requirement already satisfied: six in /databricks/python3/lib/python3.8/site-packages (from holidays&gt;=0.10.2-&gt;prophet) (1.16.0)\n",
       "Requirement already satisfied: korean-lunar-calendar in /databricks/python3/lib/python3.8/site-packages (from holidays&gt;=0.10.2-&gt;prophet) (0.2.1)\n",
       "Requirement already satisfied: ephem&gt;=3.7.5.3 in /databricks/python3/lib/python3.8/site-packages (from LunarCalendar&gt;=0.0.9-&gt;prophet) (4.0.0.2)\n",
       "Requirement already satisfied: pyparsing&gt;=2.2.1 in /databricks/python3/lib/python3.8/site-packages (from matplotlib&gt;=2.0.0-&gt;prophet) (2.4.7)\n",
       "Requirement already satisfied: cycler&gt;=0.10 in /databricks/python3/lib/python3.8/site-packages (from matplotlib&gt;=2.0.0-&gt;prophet) (0.10.0)\n",
       "Requirement already satisfied: pillow&gt;=6.2.0 in /databricks/python3/lib/python3.8/site-packages (from matplotlib&gt;=2.0.0-&gt;prophet) (8.2.0)\n",
       "Requirement already satisfied: kiwisolver&gt;=1.0.1 in /databricks/python3/lib/python3.8/site-packages (from matplotlib&gt;=2.0.0-&gt;prophet) (1.3.1)\n",
       "WARNING: You are using pip version 21.0.1; however, version 23.2.1 is available.\n",
       "You should consider upgrading via the &#39;/local_disk0/.ephemeral_nfs/envs/pythonEnv-5a2c1bfa-ca96-4072-af91-2de9f1719d1b/bin/python -m pip install --upgrade pip&#39; command.\n",
       "Python interpreter will be restarted.\n",
       "</div>"
      ]
     },
     "metadata": {
      "application/vnd.databricks.v1+output": {
       "addedWidgets": {},
       "arguments": {},
       "data": "<div class=\"ansiout\">Python interpreter will be restarted.\nRequirement already satisfied: prophet in /databricks/python3/lib/python3.8/site-packages (1.0.1)\nRequirement already satisfied: Cython&gt;=0.22 in /databricks/python3/lib/python3.8/site-packages (from prophet) (0.29.23)\nRequirement already satisfied: cmdstanpy==0.9.68 in /databricks/python3/lib/python3.8/site-packages (from prophet) (0.9.68)\nRequirement already satisfied: pystan~=2.19.1.1 in /databricks/python3/lib/python3.8/site-packages (from prophet) (2.19.1.1)\nRequirement already satisfied: numpy&gt;=1.15.4 in /databricks/python3/lib/python3.8/site-packages (from prophet) (1.19.2)\nRequirement already satisfied: pandas&gt;=1.0.4 in /databricks/python3/lib/python3.8/site-packages (from prophet) (1.3.2)\nRequirement already satisfied: matplotlib&gt;=2.0.0 in /databricks/python3/lib/python3.8/site-packages (from prophet) (3.4.2)\nRequirement already satisfied: LunarCalendar&gt;=0.0.9 in /databricks/python3/lib/python3.8/site-packages (from prophet) (0.0.9)\nRequirement already satisfied: convertdate&gt;=2.1.2 in /databricks/python3/lib/python3.8/site-packages (from prophet) (2.3.2)\nRequirement already satisfied: holidays&gt;=0.10.2 in /databricks/python3/lib/python3.8/site-packages (from prophet) (0.11.2)\nRequirement already satisfied: setuptools-git&gt;=1.2 in /databricks/python3/lib/python3.8/site-packages (from prophet) (1.2)\nRequirement already satisfied: python-dateutil&gt;=2.8.0 in /databricks/python3/lib/python3.8/site-packages (from prophet) (2.8.2)\nRequirement already satisfied: tqdm&gt;=4.36.1 in /databricks/python3/lib/python3.8/site-packages (from prophet) (4.59.0)\nRequirement already satisfied: ujson in /databricks/python3/lib/python3.8/site-packages (from cmdstanpy==0.9.68-&gt;prophet) (4.0.2)\nRequirement already satisfied: pymeeus&lt;=1,&gt;=0.3.13 in /databricks/python3/lib/python3.8/site-packages (from convertdate&gt;=2.1.2-&gt;prophet) (0.5.11)\nRequirement already satisfied: pytz&gt;=2014.10 in /databricks/python3/lib/python3.8/site-packages (from convertdate&gt;=2.1.2-&gt;prophet) (2020.5)\nRequirement already satisfied: hijri-converter in /databricks/python3/lib/python3.8/site-packages (from holidays&gt;=0.10.2-&gt;prophet) (2.2.1)\nRequirement already satisfied: six in /databricks/python3/lib/python3.8/site-packages (from holidays&gt;=0.10.2-&gt;prophet) (1.16.0)\nRequirement already satisfied: korean-lunar-calendar in /databricks/python3/lib/python3.8/site-packages (from holidays&gt;=0.10.2-&gt;prophet) (0.2.1)\nRequirement already satisfied: ephem&gt;=3.7.5.3 in /databricks/python3/lib/python3.8/site-packages (from LunarCalendar&gt;=0.0.9-&gt;prophet) (4.0.0.2)\nRequirement already satisfied: pyparsing&gt;=2.2.1 in /databricks/python3/lib/python3.8/site-packages (from matplotlib&gt;=2.0.0-&gt;prophet) (2.4.7)\nRequirement already satisfied: cycler&gt;=0.10 in /databricks/python3/lib/python3.8/site-packages (from matplotlib&gt;=2.0.0-&gt;prophet) (0.10.0)\nRequirement already satisfied: pillow&gt;=6.2.0 in /databricks/python3/lib/python3.8/site-packages (from matplotlib&gt;=2.0.0-&gt;prophet) (8.2.0)\nRequirement already satisfied: kiwisolver&gt;=1.0.1 in /databricks/python3/lib/python3.8/site-packages (from matplotlib&gt;=2.0.0-&gt;prophet) (1.3.1)\nWARNING: You are using pip version 21.0.1; however, version 23.2.1 is available.\nYou should consider upgrading via the &#39;/local_disk0/.ephemeral_nfs/envs/pythonEnv-5a2c1bfa-ca96-4072-af91-2de9f1719d1b/bin/python -m pip install --upgrade pip&#39; command.\nPython interpreter will be restarted.\n</div>",
       "datasetInfos": [],
       "metadata": {},
       "removedWidgets": [],
       "type": "html"
      }
     },
     "output_type": "display_data"
    }
   ],
   "source": [
    "%pip install prophet"
   ]
  },
  {
   "cell_type": "code",
   "execution_count": 0,
   "metadata": {
    "application/vnd.databricks.v1+cell": {
     "cellMetadata": {
      "byteLimit": 2048000,
      "rowLimit": 10000
     },
     "inputWidgets": {},
     "nuid": "63d61d55-1609-4253-b932-0c26029400a2",
     "showTitle": false,
     "title": ""
    }
   },
   "outputs": [
    {
     "output_type": "display_data",
     "data": {
      "text/html": [
       "<style scoped>\n",
       "  .ansiout {\n",
       "    display: block;\n",
       "    unicode-bidi: embed;\n",
       "    white-space: pre-wrap;\n",
       "    word-wrap: break-word;\n",
       "    word-break: break-all;\n",
       "    font-family: \"Source Code Pro\", \"Menlo\", monospace;;\n",
       "    font-size: 13px;\n",
       "    color: #555;\n",
       "    margin-left: 4px;\n",
       "    line-height: 19px;\n",
       "  }\n",
       "</style>\n",
       "<div class=\"ansiout\"></div>"
      ]
     },
     "metadata": {
      "application/vnd.databricks.v1+output": {
       "addedWidgets": {},
       "arguments": {},
       "data": "<div class=\"ansiout\"></div>",
       "datasetInfos": [],
       "metadata": {},
       "removedWidgets": [],
       "type": "html"
      }
     },
     "output_type": "display_data"
    }
   ],
   "source": [
    "import logging\n",
    "logger = spark._jvm.org.apache.log4j\n",
    "logging.getLogger(\"py4j.java_gateway\").setLevel(logging.ERROR)"
   ]
  },
  {
   "cell_type": "code",
   "execution_count": 0,
   "metadata": {
    "application/vnd.databricks.v1+cell": {
     "cellMetadata": {
      "byteLimit": 2048000,
      "rowLimit": 10000
     },
     "inputWidgets": {},
     "nuid": "bebef6f6-f09a-42a7-967e-636a0f970ed9",
     "showTitle": false,
     "title": ""
    }
   },
   "outputs": [
    {
     "output_type": "display_data",
     "data": {
      "text/html": [
       "<style scoped>\n",
       "  .ansiout {\n",
       "    display: block;\n",
       "    unicode-bidi: embed;\n",
       "    white-space: pre-wrap;\n",
       "    word-wrap: break-word;\n",
       "    word-break: break-all;\n",
       "    font-family: \"Source Code Pro\", \"Menlo\", monospace;;\n",
       "    font-size: 13px;\n",
       "    color: #555;\n",
       "    margin-left: 4px;\n",
       "    line-height: 19px;\n",
       "  }\n",
       "</style>\n",
       "<div class=\"ansiout\"></div>"
      ]
     },
     "metadata": {
      "application/vnd.databricks.v1+output": {
       "addedWidgets": {},
       "arguments": {},
       "data": "<div class=\"ansiout\"></div>",
       "datasetInfos": [],
       "metadata": {},
       "removedWidgets": [],
       "type": "html"
      }
     },
     "output_type": "display_data"
    },
    {
     "output_type": "display_data",
     "data": {
      "text/html": [
       "<style scoped>\n",
       "  .ansiout {\n",
       "    display: block;\n",
       "    unicode-bidi: embed;\n",
       "    white-space: pre-wrap;\n",
       "    word-wrap: break-word;\n",
       "    word-break: break-all;\n",
       "    font-family: \"Source Code Pro\", \"Menlo\", monospace;;\n",
       "    font-size: 13px;\n",
       "    color: #555;\n",
       "    margin-left: 4px;\n",
       "    line-height: 19px;\n",
       "  }\n",
       "</style>\n",
       "<div class=\"ansiout\"></div>"
      ]
     },
     "metadata": {
      "application/vnd.databricks.v1+output": {
       "addedWidgets": {},
       "arguments": {},
       "data": "<div class=\"ansiout\"></div>",
       "datasetInfos": [],
       "metadata": {},
       "removedWidgets": [],
       "type": "html"
      }
     },
     "output_type": "display_data"
    },
    {
     "output_type": "display_data",
     "data": {
      "text/html": [
       "<style scoped>\n",
       "  .ansiout {\n",
       "    display: block;\n",
       "    unicode-bidi: embed;\n",
       "    white-space: pre-wrap;\n",
       "    word-wrap: break-word;\n",
       "    word-break: break-all;\n",
       "    font-family: \"Source Code Pro\", \"Menlo\", monospace;;\n",
       "    font-size: 13px;\n",
       "    color: #555;\n",
       "    margin-left: 4px;\n",
       "    line-height: 19px;\n",
       "  }\n",
       "</style>\n",
       "<div class=\"ansiout\"></div>"
      ]
     },
     "metadata": {
      "application/vnd.databricks.v1+output": {
       "addedWidgets": {},
       "arguments": {},
       "data": "<div class=\"ansiout\"></div>",
       "datasetInfos": [],
       "metadata": {},
       "removedWidgets": [],
       "type": "html"
      }
     },
     "output_type": "display_data"
    }
   ],
   "source": [
    "%run /Users/ebizindavyi@delhaize.be/Data_preparation/Parse_xls_files"
   ]
  },
  {
   "cell_type": "code",
   "execution_count": 0,
   "metadata": {
    "application/vnd.databricks.v1+cell": {
     "cellMetadata": {
      "byteLimit": 2048000,
      "rowLimit": 10000
     },
     "inputWidgets": {},
     "nuid": "52ef191e-717c-46c4-b31a-edf0ec29ce7d",
     "showTitle": false,
     "title": ""
    }
   },
   "outputs": [
    {
     "output_type": "display_data",
     "data": {
      "text/html": [
       "<style scoped>\n",
       "  .ansiout {\n",
       "    display: block;\n",
       "    unicode-bidi: embed;\n",
       "    white-space: pre-wrap;\n",
       "    word-wrap: break-word;\n",
       "    word-break: break-all;\n",
       "    font-family: \"Source Code Pro\", \"Menlo\", monospace;;\n",
       "    font-size: 13px;\n",
       "    color: #555;\n",
       "    margin-left: 4px;\n",
       "    line-height: 19px;\n",
       "  }\n",
       "</style>\n",
       "<div class=\"ansiout\"></div>"
      ]
     },
     "metadata": {
      "application/vnd.databricks.v1+output": {
       "addedWidgets": {},
       "arguments": {},
       "data": "<div class=\"ansiout\"></div>",
       "datasetInfos": [],
       "metadata": {},
       "removedWidgets": [],
       "type": "html"
      }
     },
     "output_type": "display_data"
    },
    {
     "output_type": "display_data",
     "data": {
      "text/html": [
       "<style scoped>\n",
       "  .ansiout {\n",
       "    display: block;\n",
       "    unicode-bidi: embed;\n",
       "    white-space: pre-wrap;\n",
       "    word-wrap: break-word;\n",
       "    word-break: break-all;\n",
       "    font-family: \"Source Code Pro\", \"Menlo\", monospace;;\n",
       "    font-size: 13px;\n",
       "    color: #555;\n",
       "    margin-left: 4px;\n",
       "    line-height: 19px;\n",
       "  }\n",
       "</style>\n",
       "<div class=\"ansiout\"></div>"
      ]
     },
     "metadata": {
      "application/vnd.databricks.v1+output": {
       "addedWidgets": {},
       "arguments": {},
       "data": "<div class=\"ansiout\"></div>",
       "datasetInfos": [],
       "metadata": {},
       "removedWidgets": [],
       "type": "html"
      }
     },
     "output_type": "display_data"
    },
    {
     "output_type": "display_data",
     "data": {
      "text/html": [
       "<style scoped>\n",
       "  .ansiout {\n",
       "    display: block;\n",
       "    unicode-bidi: embed;\n",
       "    white-space: pre-wrap;\n",
       "    word-wrap: break-word;\n",
       "    word-break: break-all;\n",
       "    font-family: \"Source Code Pro\", \"Menlo\", monospace;;\n",
       "    font-size: 13px;\n",
       "    color: #555;\n",
       "    margin-left: 4px;\n",
       "    line-height: 19px;\n",
       "  }\n",
       "</style>\n",
       "<div class=\"ansiout\"></div>"
      ]
     },
     "metadata": {
      "application/vnd.databricks.v1+output": {
       "addedWidgets": {},
       "arguments": {},
       "data": "<div class=\"ansiout\"></div>",
       "datasetInfos": [],
       "metadata": {},
       "removedWidgets": [],
       "type": "html"
      }
     },
     "output_type": "display_data"
    }
   ],
   "source": [
    "%run /Users/ebizindavyi@delhaize.be/Evaluation/Evaluation_functions"
   ]
  },
  {
   "cell_type": "code",
   "execution_count": 0,
   "metadata": {
    "application/vnd.databricks.v1+cell": {
     "cellMetadata": {
      "byteLimit": 2048000,
      "rowLimit": 10000
     },
     "inputWidgets": {},
     "nuid": "4a7ac192-e90c-4026-bf38-a8e3f61a2ac1",
     "showTitle": false,
     "title": ""
    }
   },
   "outputs": [
    {
     "output_type": "display_data",
     "data": {
      "text/html": [
       "<style scoped>\n",
       "  .ansiout {\n",
       "    display: block;\n",
       "    unicode-bidi: embed;\n",
       "    white-space: pre-wrap;\n",
       "    word-wrap: break-word;\n",
       "    word-break: break-all;\n",
       "    font-family: \"Source Code Pro\", \"Menlo\", monospace;;\n",
       "    font-size: 13px;\n",
       "    color: #555;\n",
       "    margin-left: 4px;\n",
       "    line-height: 19px;\n",
       "  }\n",
       "</style>\n",
       "<div class=\"ansiout\"></div>"
      ]
     },
     "metadata": {
      "application/vnd.databricks.v1+output": {
       "addedWidgets": {},
       "arguments": {},
       "data": "<div class=\"ansiout\"></div>",
       "datasetInfos": [],
       "metadata": {},
       "removedWidgets": [],
       "type": "html"
      }
     },
     "output_type": "display_data"
    },
    {
     "output_type": "display_data",
     "data": {
      "text/html": [
       "<style scoped>\n",
       "  .ansiout {\n",
       "    display: block;\n",
       "    unicode-bidi: embed;\n",
       "    white-space: pre-wrap;\n",
       "    word-wrap: break-word;\n",
       "    word-break: break-all;\n",
       "    font-family: \"Source Code Pro\", \"Menlo\", monospace;;\n",
       "    font-size: 13px;\n",
       "    color: #555;\n",
       "    margin-left: 4px;\n",
       "    line-height: 19px;\n",
       "  }\n",
       "</style>\n",
       "<div class=\"ansiout\"></div>"
      ]
     },
     "metadata": {
      "application/vnd.databricks.v1+output": {
       "addedWidgets": {},
       "arguments": {},
       "data": "<div class=\"ansiout\"></div>",
       "datasetInfos": [],
       "metadata": {},
       "removedWidgets": [],
       "type": "html"
      }
     },
     "output_type": "display_data"
    },
    {
     "output_type": "display_data",
     "data": {
      "text/html": [
       "<style scoped>\n",
       "  .ansiout {\n",
       "    display: block;\n",
       "    unicode-bidi: embed;\n",
       "    white-space: pre-wrap;\n",
       "    word-wrap: break-word;\n",
       "    word-break: break-all;\n",
       "    font-family: \"Source Code Pro\", \"Menlo\", monospace;;\n",
       "    font-size: 13px;\n",
       "    color: #555;\n",
       "    margin-left: 4px;\n",
       "    line-height: 19px;\n",
       "  }\n",
       "</style>\n",
       "<div class=\"ansiout\"></div>"
      ]
     },
     "metadata": {
      "application/vnd.databricks.v1+output": {
       "addedWidgets": {},
       "arguments": {},
       "data": "<div class=\"ansiout\"></div>",
       "datasetInfos": [],
       "metadata": {},
       "removedWidgets": [],
       "type": "html"
      }
     },
     "output_type": "display_data"
    },
    {
     "output_type": "display_data",
     "data": {
      "text/html": [
       "<style scoped>\n",
       "  .ansiout {\n",
       "    display: block;\n",
       "    unicode-bidi: embed;\n",
       "    white-space: pre-wrap;\n",
       "    word-wrap: break-word;\n",
       "    word-break: break-all;\n",
       "    font-family: \"Source Code Pro\", \"Menlo\", monospace;;\n",
       "    font-size: 13px;\n",
       "    color: #555;\n",
       "    margin-left: 4px;\n",
       "    line-height: 19px;\n",
       "  }\n",
       "</style>\n",
       "<div class=\"ansiout\"></div>"
      ]
     },
     "metadata": {
      "application/vnd.databricks.v1+output": {
       "addedWidgets": {},
       "arguments": {},
       "data": "<div class=\"ansiout\"></div>",
       "datasetInfos": [],
       "metadata": {},
       "removedWidgets": [],
       "type": "html"
      }
     },
     "output_type": "display_data"
    }
   ],
   "source": [
    "import pandas as pd\n",
    "import datetime as dt\n",
    "from reusable.featurestore.features_schoolholidays import school_holidays\n",
    "from pyspark.sql import functions as f\n",
    "from prophet import Prophet"
   ]
  },
  {
   "cell_type": "markdown",
   "metadata": {
    "application/vnd.databricks.v1+cell": {
     "cellMetadata": {
      "byteLimit": 2048000,
      "rowLimit": 10000
     },
     "inputWidgets": {},
     "nuid": "3277ae89-a924-4003-9fcb-588b2ea3aa77",
     "showTitle": false,
     "title": ""
    }
   },
   "source": [
    "## Parameters"
   ]
  },
  {
   "cell_type": "code",
   "execution_count": 0,
   "metadata": {
    "application/vnd.databricks.v1+cell": {
     "cellMetadata": {
      "byteLimit": 2048000,
      "rowLimit": 10000
     },
     "inputWidgets": {},
     "nuid": "7195efd4-060d-4f1f-a66a-35569ea7dc04",
     "showTitle": false,
     "title": ""
    }
   },
   "outputs": [
    {
     "output_type": "display_data",
     "data": {
      "text/html": [
       "<style scoped>\n",
       "  .ansiout {\n",
       "    display: block;\n",
       "    unicode-bidi: embed;\n",
       "    white-space: pre-wrap;\n",
       "    word-wrap: break-word;\n",
       "    word-break: break-all;\n",
       "    font-family: \"Source Code Pro\", \"Menlo\", monospace;;\n",
       "    font-size: 13px;\n",
       "    color: #555;\n",
       "    margin-left: 4px;\n",
       "    line-height: 19px;\n",
       "  }\n",
       "</style>\n",
       "<div class=\"ansiout\"></div>"
      ]
     },
     "metadata": {
      "application/vnd.databricks.v1+output": {
       "addedWidgets": {},
       "arguments": {},
       "data": "<div class=\"ansiout\"></div>",
       "datasetInfos": [],
       "metadata": {},
       "removedWidgets": [],
       "type": "html"
      }
     },
     "output_type": "display_data"
    },
    {
     "output_type": "display_data",
     "data": {
      "text/html": [
       "<style scoped>\n",
       "  .ansiout {\n",
       "    display: block;\n",
       "    unicode-bidi: embed;\n",
       "    white-space: pre-wrap;\n",
       "    word-wrap: break-word;\n",
       "    word-break: break-all;\n",
       "    font-family: \"Source Code Pro\", \"Menlo\", monospace;;\n",
       "    font-size: 13px;\n",
       "    color: #555;\n",
       "    margin-left: 4px;\n",
       "    line-height: 19px;\n",
       "  }\n",
       "</style>\n",
       "<div class=\"ansiout\"></div>"
      ]
     },
     "metadata": {
      "application/vnd.databricks.v1+output": {
       "addedWidgets": {},
       "arguments": {},
       "data": "<div class=\"ansiout\"></div>",
       "datasetInfos": [],
       "metadata": {},
       "removedWidgets": [],
       "type": "html"
      }
     },
     "output_type": "display_data"
    }
   ],
   "source": [
    "#Backtest\n",
    "fc_frequency=7\n",
    "backtest_start_date='2022-01-03'\n",
    "backtest_end_date='2022-12-31'\n",
    "\n",
    "#Forecast\n",
    "start_horizon = 8\n",
    "end_horizon = 14\n",
    "\n",
    "#Prophet\n",
    "changepoint_prior_scale =  0.01\n",
    "seasonality_prior_scale = 1.0\n",
    "training_period = 120\n"
   ]
  },
  {
   "cell_type": "code",
   "execution_count": 0,
   "metadata": {
    "application/vnd.databricks.v1+cell": {
     "cellMetadata": {
      "byteLimit": 2048000,
      "rowLimit": 10000
     },
     "inputWidgets": {},
     "nuid": "8161cb65-062b-45a3-8c66-4128f4793162",
     "showTitle": false,
     "title": ""
    }
   },
   "outputs": [
    {
     "output_type": "display_data",
     "data": {
      "text/html": [
       "<style scoped>\n",
       "  .ansiout {\n",
       "    display: block;\n",
       "    unicode-bidi: embed;\n",
       "    white-space: pre-wrap;\n",
       "    word-wrap: break-word;\n",
       "    word-break: break-all;\n",
       "    font-family: \"Source Code Pro\", \"Menlo\", monospace;;\n",
       "    font-size: 13px;\n",
       "    color: #555;\n",
       "    margin-left: 4px;\n",
       "    line-height: 19px;\n",
       "  }\n",
       "</style>\n",
       "<div class=\"ansiout\"></div>"
      ]
     },
     "metadata": {
      "application/vnd.databricks.v1+output": {
       "addedWidgets": {},
       "arguments": {},
       "data": "<div class=\"ansiout\"></div>",
       "datasetInfos": [],
       "metadata": {},
       "removedWidgets": [],
       "type": "html"
      }
     },
     "output_type": "display_data"
    }
   ],
   "source": [
    "#Eval parameters\n",
    "actual_cols = ['Dry Actuals', 'Dry Actuals']\n",
    "fc_cols = ['Dry Fc', 'PROPHET_FC']\n",
    "error_suffixes = ['Dry_WOW', 'Dry_PROPHET']\n",
    "error_to_calc = [\"Bias\", \"AbsError\", \"SqError\",\"RelAbsError\"]"
   ]
  },
  {
   "cell_type": "markdown",
   "metadata": {
    "application/vnd.databricks.v1+cell": {
     "cellMetadata": {
      "byteLimit": 2048000,
      "rowLimit": 10000
     },
     "inputWidgets": {},
     "nuid": "5bff65f3-862e-4ffe-8f6a-7f51f2687317",
     "showTitle": false,
     "title": ""
    }
   },
   "source": [
    "## Load inbound data"
   ]
  },
  {
   "cell_type": "code",
   "execution_count": 0,
   "metadata": {
    "application/vnd.databricks.v1+cell": {
     "cellMetadata": {
      "byteLimit": 2048000,
      "rowLimit": 10000
     },
     "inputWidgets": {},
     "nuid": "8f230856-623a-42c5-9e2a-4e96023cc32e",
     "showTitle": false,
     "title": ""
    }
   },
   "outputs": [
    {
     "output_type": "display_data",
     "data": {
      "text/html": [
       "<style scoped>\n",
       "  .ansiout {\n",
       "    display: block;\n",
       "    unicode-bidi: embed;\n",
       "    white-space: pre-wrap;\n",
       "    word-wrap: break-word;\n",
       "    word-break: break-all;\n",
       "    font-family: \"Source Code Pro\", \"Menlo\", monospace;;\n",
       "    font-size: 13px;\n",
       "    color: #555;\n",
       "    margin-left: 4px;\n",
       "    line-height: 19px;\n",
       "  }\n",
       "</style>\n",
       "<div class=\"ansiout\"></div>"
      ]
     },
     "metadata": {
      "application/vnd.databricks.v1+output": {
       "addedWidgets": {},
       "arguments": {},
       "data": "<div class=\"ansiout\"></div>",
       "datasetInfos": [],
       "metadata": {},
       "removedWidgets": [],
       "type": "html"
      }
     },
     "output_type": "display_data"
    },
    {
     "output_type": "display_data",
     "data": {
      "text/html": [
       "<style scoped>\n",
       "  .ansiout {\n",
       "    display: block;\n",
       "    unicode-bidi: embed;\n",
       "    white-space: pre-wrap;\n",
       "    word-wrap: break-word;\n",
       "    word-break: break-all;\n",
       "    font-family: \"Source Code Pro\", \"Menlo\", monospace;;\n",
       "    font-size: 13px;\n",
       "    color: #555;\n",
       "    margin-left: 4px;\n",
       "    line-height: 19px;\n",
       "  }\n",
       "</style>\n",
       "<div class=\"ansiout\"></div>"
      ]
     },
     "metadata": {
      "application/vnd.databricks.v1+output": {
       "addedWidgets": {},
       "arguments": {},
       "data": "<div class=\"ansiout\"></div>",
       "datasetInfos": [],
       "metadata": {},
       "removedWidgets": [],
       "type": "html"
      }
     },
     "output_type": "display_data"
    },
    {
     "output_type": "display_data",
     "data": {
      "text/html": [
       "<style scoped>\n",
       "  .ansiout {\n",
       "    display: block;\n",
       "    unicode-bidi: embed;\n",
       "    white-space: pre-wrap;\n",
       "    word-wrap: break-word;\n",
       "    word-break: break-all;\n",
       "    font-family: \"Source Code Pro\", \"Menlo\", monospace;;\n",
       "    font-size: 13px;\n",
       "    color: #555;\n",
       "    margin-left: 4px;\n",
       "    line-height: 19px;\n",
       "  }\n",
       "</style>\n",
       "<div class=\"ansiout\"></div>"
      ]
     },
     "metadata": {
      "application/vnd.databricks.v1+output": {
       "addedWidgets": {},
       "arguments": {},
       "data": "<div class=\"ansiout\"></div>",
       "datasetInfos": [],
       "metadata": {},
       "removedWidgets": [],
       "type": "html"
      }
     },
     "output_type": "display_data"
    }
   ],
   "source": [
    "inbound_2022_dir = '/dbfs/mnt/dataplatform/acc/DataScience/sandbox/ebiz/Inbound_FC/data/input/Ecom-Ops-status_2022.xlsx'"
   ]
  },
  {
   "cell_type": "code",
   "execution_count": 0,
   "metadata": {
    "application/vnd.databricks.v1+cell": {
     "cellMetadata": {
      "byteLimit": 2048000,
      "rowLimit": 10000
     },
     "inputWidgets": {},
     "nuid": "447bcca4-5755-44a7-97c8-0290da296585",
     "showTitle": false,
     "title": ""
    }
   },
   "outputs": [
    {
     "output_type": "display_data",
     "data": {
      "text/html": [
       "<style scoped>\n",
       "  .ansiout {\n",
       "    display: block;\n",
       "    unicode-bidi: embed;\n",
       "    white-space: pre-wrap;\n",
       "    word-wrap: break-word;\n",
       "    word-break: break-all;\n",
       "    font-family: \"Source Code Pro\", \"Menlo\", monospace;;\n",
       "    font-size: 13px;\n",
       "    color: #555;\n",
       "    margin-left: 4px;\n",
       "    line-height: 19px;\n",
       "  }\n",
       "</style>\n",
       "<div class=\"ansiout\"></div>"
      ]
     },
     "metadata": {
      "application/vnd.databricks.v1+output": {
       "addedWidgets": {},
       "arguments": {},
       "data": "<div class=\"ansiout\"></div>",
       "datasetInfos": [],
       "metadata": {},
       "removedWidgets": [],
       "type": "html"
      }
     },
     "output_type": "display_data"
    }
   ],
   "source": [
    "inbound_2022_df = create_master_df(inbound_2022_dir)"
   ]
  },
  {
   "cell_type": "code",
   "execution_count": 0,
   "metadata": {
    "application/vnd.databricks.v1+cell": {
     "cellMetadata": {
      "byteLimit": 2048000,
      "rowLimit": 10000
     },
     "inputWidgets": {},
     "nuid": "f172559b-dc3e-47f5-959d-293c7204f083",
     "showTitle": false,
     "title": ""
    }
   },
   "outputs": [
    {
     "output_type": "display_data",
     "data": {
      "text/html": [
       "<style scoped>\n",
       "  .ansiout {\n",
       "    display: block;\n",
       "    unicode-bidi: embed;\n",
       "    white-space: pre-wrap;\n",
       "    word-wrap: break-word;\n",
       "    word-break: break-all;\n",
       "    font-family: \"Source Code Pro\", \"Menlo\", monospace;;\n",
       "    font-size: 13px;\n",
       "    color: #555;\n",
       "    margin-left: 4px;\n",
       "    line-height: 19px;\n",
       "  }\n",
       "</style>\n",
       "<div class=\"ansiout\"></div>"
      ]
     },
     "metadata": {
      "application/vnd.databricks.v1+output": {
       "addedWidgets": {},
       "arguments": {},
       "data": "<div class=\"ansiout\"></div>",
       "datasetInfos": [],
       "metadata": {},
       "removedWidgets": [],
       "type": "html"
      }
     },
     "output_type": "display_data"
    }
   ],
   "source": [
    "calendar_2022 = pd.DataFrame({'Dates':pd.date_range(dt.datetime(2022,1,3), periods=363, freq='d')})\n",
    "inbound_2022_dry = calendar_2022.merge(inbound_2022_df[['Dates','Dry Actuals']], on='Dates',how='left').fillna(0).copy()"
   ]
  },
  {
   "cell_type": "markdown",
   "metadata": {
    "application/vnd.databricks.v1+cell": {
     "cellMetadata": {
      "byteLimit": 2048000,
      "rowLimit": 10000
     },
     "inputWidgets": {},
     "nuid": "3d68eb96-adb9-4155-8b4f-6162924d7bd1",
     "showTitle": false,
     "title": ""
    }
   },
   "source": [
    "### Get holidays"
   ]
  },
  {
   "cell_type": "code",
   "execution_count": 0,
   "metadata": {
    "application/vnd.databricks.v1+cell": {
     "cellMetadata": {
      "byteLimit": 2048000,
      "rowLimit": 10000
     },
     "inputWidgets": {},
     "nuid": "6eb62bde-5779-497b-8eb5-e81bbd13663a",
     "showTitle": false,
     "title": ""
    }
   },
   "outputs": [
    {
     "output_type": "display_data",
     "data": {
      "text/html": [
       "<style scoped>\n",
       "  .ansiout {\n",
       "    display: block;\n",
       "    unicode-bidi: embed;\n",
       "    white-space: pre-wrap;\n",
       "    word-wrap: break-word;\n",
       "    word-break: break-all;\n",
       "    font-family: \"Source Code Pro\", \"Menlo\", monospace;;\n",
       "    font-size: 13px;\n",
       "    color: #555;\n",
       "    margin-left: 4px;\n",
       "    line-height: 19px;\n",
       "  }\n",
       "</style>\n",
       "<div class=\"ansiout\"></div>"
      ]
     },
     "metadata": {
      "application/vnd.databricks.v1+output": {
       "addedWidgets": {},
       "arguments": {},
       "data": "<div class=\"ansiout\"></div>",
       "datasetInfos": [],
       "metadata": {},
       "removedWidgets": [],
       "type": "html"
      }
     },
     "output_type": "display_data"
    }
   ],
   "source": [
    "flemish_holidays = (\n",
    "  school_holidays()\n",
    "  .filter(\n",
    "    (f.col('is_dutch_region_holiday')==1)\n",
    "    &\n",
    "    (f.col('holiday_name').isNull())\n",
    "    )\n",
    "  .withColumn('holiday', f.lit('flemish_region_holiday'))\n",
    "  .withColumn('ds', f.to_date(f.col('date')))\n",
    "  .select('holiday','ds')\n",
    "  .toPandas()\n",
    ")\n",
    "\n",
    "walloon_holidays =(\n",
    "  school_holidays()\n",
    "  .filter(\n",
    "    (f.col('is_french_region_holiday')==1)\n",
    "    &\n",
    "    (f.col('holiday_name').isNull())\n",
    "    )\n",
    "  .withColumn('holiday', f.lit('walloon_region_holiday'))\n",
    "  .withColumn('ds', f.to_date(f.col('date')))\n",
    "  .select('holiday','ds')\n",
    "  .toPandas()\n",
    ")\n",
    "\n",
    "holidays = pd.concat((flemish_holidays, walloon_holidays))\n"
   ]
  },
  {
   "cell_type": "code",
   "execution_count": 0,
   "metadata": {
    "application/vnd.databricks.v1+cell": {
     "cellMetadata": {
      "byteLimit": 2048000,
      "rowLimit": 10000
     },
     "inputWidgets": {},
     "nuid": "3d45a4d2-bed8-4c82-9af4-e622f74ef1a8",
     "showTitle": false,
     "title": ""
    }
   },
   "outputs": [
    {
     "output_type": "display_data",
     "data": {
      "text/html": [
       "<style scoped>\n",
       "  .ansiout {\n",
       "    display: block;\n",
       "    unicode-bidi: embed;\n",
       "    white-space: pre-wrap;\n",
       "    word-wrap: break-word;\n",
       "    word-break: break-all;\n",
       "    font-family: \"Source Code Pro\", \"Menlo\", monospace;;\n",
       "    font-size: 13px;\n",
       "    color: #555;\n",
       "    margin-left: 4px;\n",
       "    line-height: 19px;\n",
       "  }\n",
       "</style>\n",
       "<div class=\"ansiout\">Out[29]: </div>"
      ]
     },
     "metadata": {
      "application/vnd.databricks.v1+output": {
       "addedWidgets": {},
       "arguments": {},
       "data": "<div class=\"ansiout\">Out[29]: </div>",
       "datasetInfos": [],
       "metadata": {},
       "removedWidgets": [],
       "type": "html"
      }
     },
     "output_type": "display_data"
    },
    {
     "output_type": "display_data",
     "data": {
      "text/html": [
       "<div>\n",
       "<style scoped>\n",
       "    .dataframe tbody tr th:only-of-type {\n",
       "        vertical-align: middle;\n",
       "    }\n",
       "\n",
       "    .dataframe tbody tr th {\n",
       "        vertical-align: top;\n",
       "    }\n",
       "\n",
       "    .dataframe thead th {\n",
       "        text-align: right;\n",
       "    }\n",
       "</style>\n",
       "<table border=\"1\" class=\"dataframe\">\n",
       "  <thead>\n",
       "    <tr style=\"text-align: right;\">\n",
       "      <th></th>\n",
       "      <th>holiday</th>\n",
       "      <th>ds</th>\n",
       "    </tr>\n",
       "  </thead>\n",
       "  <tbody>\n",
       "    <tr>\n",
       "      <th>0</th>\n",
       "      <td>flemish_region_holiday</td>\n",
       "      <td>2015-01-02</td>\n",
       "    </tr>\n",
       "    <tr>\n",
       "      <th>1</th>\n",
       "      <td>flemish_region_holiday</td>\n",
       "      <td>2015-01-03</td>\n",
       "    </tr>\n",
       "    <tr>\n",
       "      <th>2</th>\n",
       "      <td>flemish_region_holiday</td>\n",
       "      <td>2015-01-04</td>\n",
       "    </tr>\n",
       "    <tr>\n",
       "      <th>3</th>\n",
       "      <td>flemish_region_holiday</td>\n",
       "      <td>2015-02-16</td>\n",
       "    </tr>\n",
       "    <tr>\n",
       "      <th>4</th>\n",
       "      <td>flemish_region_holiday</td>\n",
       "      <td>2015-02-17</td>\n",
       "    </tr>\n",
       "    <tr>\n",
       "      <th>...</th>\n",
       "      <td>...</td>\n",
       "      <td>...</td>\n",
       "    </tr>\n",
       "    <tr>\n",
       "      <th>872</th>\n",
       "      <td>walloon_region_holiday</td>\n",
       "      <td>2023-08-23</td>\n",
       "    </tr>\n",
       "    <tr>\n",
       "      <th>873</th>\n",
       "      <td>walloon_region_holiday</td>\n",
       "      <td>2023-08-24</td>\n",
       "    </tr>\n",
       "    <tr>\n",
       "      <th>874</th>\n",
       "      <td>walloon_region_holiday</td>\n",
       "      <td>2023-08-25</td>\n",
       "    </tr>\n",
       "    <tr>\n",
       "      <th>875</th>\n",
       "      <td>walloon_region_holiday</td>\n",
       "      <td>2023-08-26</td>\n",
       "    </tr>\n",
       "    <tr>\n",
       "      <th>876</th>\n",
       "      <td>walloon_region_holiday</td>\n",
       "      <td>2023-08-27</td>\n",
       "    </tr>\n",
       "  </tbody>\n",
       "</table>\n",
       "<p>1754 rows × 2 columns</p>\n",
       "</div>"
      ]
     },
     "metadata": {
      "application/vnd.databricks.v1+output": {
       "addedWidgets": {},
       "arguments": {},
       "data": "<div>\n<style scoped>\n    .dataframe tbody tr th:only-of-type {\n        vertical-align: middle;\n    }\n\n    .dataframe tbody tr th {\n        vertical-align: top;\n    }\n\n    .dataframe thead th {\n        text-align: right;\n    }\n</style>\n<table border=\"1\" class=\"dataframe\">\n  <thead>\n    <tr style=\"text-align: right;\">\n      <th></th>\n      <th>holiday</th>\n      <th>ds</th>\n    </tr>\n  </thead>\n  <tbody>\n    <tr>\n      <th>0</th>\n      <td>flemish_region_holiday</td>\n      <td>2015-01-02</td>\n    </tr>\n    <tr>\n      <th>1</th>\n      <td>flemish_region_holiday</td>\n      <td>2015-01-03</td>\n    </tr>\n    <tr>\n      <th>2</th>\n      <td>flemish_region_holiday</td>\n      <td>2015-01-04</td>\n    </tr>\n    <tr>\n      <th>3</th>\n      <td>flemish_region_holiday</td>\n      <td>2015-02-16</td>\n    </tr>\n    <tr>\n      <th>4</th>\n      <td>flemish_region_holiday</td>\n      <td>2015-02-17</td>\n    </tr>\n    <tr>\n      <th>...</th>\n      <td>...</td>\n      <td>...</td>\n    </tr>\n    <tr>\n      <th>872</th>\n      <td>walloon_region_holiday</td>\n      <td>2023-08-23</td>\n    </tr>\n    <tr>\n      <th>873</th>\n      <td>walloon_region_holiday</td>\n      <td>2023-08-24</td>\n    </tr>\n    <tr>\n      <th>874</th>\n      <td>walloon_region_holiday</td>\n      <td>2023-08-25</td>\n    </tr>\n    <tr>\n      <th>875</th>\n      <td>walloon_region_holiday</td>\n      <td>2023-08-26</td>\n    </tr>\n    <tr>\n      <th>876</th>\n      <td>walloon_region_holiday</td>\n      <td>2023-08-27</td>\n    </tr>\n  </tbody>\n</table>\n<p>1754 rows × 2 columns</p>\n</div>",
       "datasetInfos": [],
       "metadata": {},
       "removedWidgets": [],
       "textData": null,
       "type": "htmlSandbox"
      }
     },
     "output_type": "display_data"
    }
   ],
   "source": [
    "holidays"
   ]
  },
  {
   "cell_type": "markdown",
   "metadata": {
    "application/vnd.databricks.v1+cell": {
     "cellMetadata": {
      "byteLimit": 2048000,
      "rowLimit": 10000
     },
     "inputWidgets": {},
     "nuid": "652d407d-a7bc-4d5a-8640-3da3a06bf4d9",
     "showTitle": false,
     "title": ""
    }
   },
   "source": [
    "## Prophet"
   ]
  },
  {
   "cell_type": "markdown",
   "metadata": {
    "application/vnd.databricks.v1+cell": {
     "cellMetadata": {
      "byteLimit": 2048000,
      "rowLimit": 10000
     },
     "inputWidgets": {},
     "nuid": "004c50aa-8217-4553-b475-e34a2bf32c2a",
     "showTitle": false,
     "title": ""
    }
   },
   "source": [
    "### Backtest"
   ]
  },
  {
   "cell_type": "code",
   "execution_count": 0,
   "metadata": {
    "application/vnd.databricks.v1+cell": {
     "cellMetadata": {
      "byteLimit": 2048000,
      "rowLimit": 10000
     },
     "inputWidgets": {},
     "nuid": "e9705b28-ee97-469f-b09d-57ab1faf803e",
     "showTitle": false,
     "title": ""
    }
   },
   "outputs": [
    {
     "output_type": "display_data",
     "data": {
      "text/html": [
       "<style scoped>\n",
       "  .ansiout {\n",
       "    display: block;\n",
       "    unicode-bidi: embed;\n",
       "    white-space: pre-wrap;\n",
       "    word-wrap: break-word;\n",
       "    word-break: break-all;\n",
       "    font-family: \"Source Code Pro\", \"Menlo\", monospace;;\n",
       "    font-size: 13px;\n",
       "    color: #555;\n",
       "    margin-left: 4px;\n",
       "    line-height: 19px;\n",
       "  }\n",
       "</style>\n",
       "<div class=\"ansiout\">Backtesting on: 2022-01-03 00:00:00\n",
       "INFO:prophet:Disabling yearly seasonality. Run prophet with yearly_seasonality=True to override this.\n",
       "INFO:prophet:Disabling daily seasonality. Run prophet with daily_seasonality=True to override this.\n",
       "WARNING:prophet.models:Optimization terminated abnormally. Falling back to Newton.\n",
       "Backtesting on: 2022-01-10 00:00:00\n",
       "INFO:prophet:Disabling yearly seasonality. Run prophet with yearly_seasonality=True to override this.\n",
       "INFO:prophet:Disabling daily seasonality. Run prophet with daily_seasonality=True to override this.\n",
       "WARNING:prophet.models:Optimization terminated abnormally. Falling back to Newton.\n",
       "Backtesting on: 2022-01-17 00:00:00\n",
       "INFO:prophet:Disabling yearly seasonality. Run prophet with yearly_seasonality=True to override this.\n",
       "INFO:prophet:Disabling daily seasonality. Run prophet with daily_seasonality=True to override this.\n",
       "WARNING:prophet.models:Optimization terminated abnormally. Falling back to Newton.\n",
       "Backtesting on: 2022-01-24 00:00:00\n",
       "INFO:prophet:Disabling yearly seasonality. Run prophet with yearly_seasonality=True to override this.\n",
       "INFO:prophet:Disabling daily seasonality. Run prophet with daily_seasonality=True to override this.\n",
       "WARNING:prophet.models:Optimization terminated abnormally. Falling back to Newton.\n",
       "Backtesting on: 2022-01-31 00:00:00\n",
       "INFO:prophet:Disabling yearly seasonality. Run prophet with yearly_seasonality=True to override this.\n",
       "INFO:prophet:Disabling daily seasonality. Run prophet with daily_seasonality=True to override this.\n",
       "WARNING:prophet.models:Optimization terminated abnormally. Falling back to Newton.\n",
       "Backtesting on: 2022-02-07 00:00:00\n",
       "INFO:prophet:Disabling yearly seasonality. Run prophet with yearly_seasonality=True to override this.\n",
       "INFO:prophet:Disabling daily seasonality. Run prophet with daily_seasonality=True to override this.\n",
       "Backtesting on: 2022-02-14 00:00:00\n",
       "INFO:prophet:Disabling yearly seasonality. Run prophet with yearly_seasonality=True to override this.\n",
       "INFO:prophet:Disabling daily seasonality. Run prophet with daily_seasonality=True to override this.\n",
       "WARNING:prophet.models:Optimization terminated abnormally. Falling back to Newton.\n",
       "Backtesting on: 2022-02-21 00:00:00\n",
       "INFO:prophet:Disabling yearly seasonality. Run prophet with yearly_seasonality=True to override this.\n",
       "INFO:prophet:Disabling daily seasonality. Run prophet with daily_seasonality=True to override this.\n",
       "WARNING:prophet.models:Optimization terminated abnormally. Falling back to Newton.\n",
       "Backtesting on: 2022-02-28 00:00:00\n",
       "INFO:prophet:Disabling yearly seasonality. Run prophet with yearly_seasonality=True to override this.\n",
       "INFO:prophet:Disabling daily seasonality. Run prophet with daily_seasonality=True to override this.\n",
       "WARNING:prophet.models:Optimization terminated abnormally. Falling back to Newton.\n",
       "Backtesting on: 2022-03-07 00:00:00\n",
       "INFO:prophet:Disabling yearly seasonality. Run prophet with yearly_seasonality=True to override this.\n",
       "INFO:prophet:Disabling daily seasonality. Run prophet with daily_seasonality=True to override this.\n",
       "WARNING:prophet.models:Optimization terminated abnormally. Falling back to Newton.\n",
       "Backtesting on: 2022-03-14 00:00:00\n",
       "INFO:prophet:Disabling yearly seasonality. Run prophet with yearly_seasonality=True to override this.\n",
       "INFO:prophet:Disabling daily seasonality. Run prophet with daily_seasonality=True to override this.\n",
       "WARNING:prophet.models:Optimization terminated abnormally. Falling back to Newton.\n",
       "Backtesting on: 2022-03-21 00:00:00\n",
       "INFO:prophet:Disabling yearly seasonality. Run prophet with yearly_seasonality=True to override this.\n",
       "INFO:prophet:Disabling daily seasonality. Run prophet with daily_seasonality=True to override this.\n",
       "Backtesting on: 2022-03-28 00:00:00\n",
       "INFO:prophet:Disabling yearly seasonality. Run prophet with yearly_seasonality=True to override this.\n",
       "INFO:prophet:Disabling daily seasonality. Run prophet with daily_seasonality=True to override this.\n",
       "WARNING:prophet.models:Optimization terminated abnormally. Falling back to Newton.\n",
       "Backtesting on: 2022-04-04 00:00:00\n",
       "INFO:prophet:Disabling yearly seasonality. Run prophet with yearly_seasonality=True to override this.\n",
       "INFO:prophet:Disabling daily seasonality. Run prophet with daily_seasonality=True to override this.\n",
       "WARNING:prophet.models:Optimization terminated abnormally. Falling back to Newton.\n",
       "Backtesting on: 2022-04-11 00:00:00\n",
       "INFO:prophet:Disabling yearly seasonality. Run prophet with yearly_seasonality=True to override this.\n",
       "INFO:prophet:Disabling daily seasonality. Run prophet with daily_seasonality=True to override this.\n",
       "WARNING:prophet.models:Optimization terminated abnormally. Falling back to Newton.\n",
       "Backtesting on: 2022-04-18 00:00:00\n",
       "INFO:prophet:Disabling yearly seasonality. Run prophet with yearly_seasonality=True to override this.\n",
       "INFO:prophet:Disabling daily seasonality. Run prophet with daily_seasonality=True to override this.\n",
       "WARNING:prophet.models:Optimization terminated abnormally. Falling back to Newton.\n",
       "Backtesting on: 2022-04-25 00:00:00\n",
       "INFO:prophet:Disabling yearly seasonality. Run prophet with yearly_seasonality=True to override this.\n",
       "INFO:prophet:Disabling daily seasonality. Run prophet with daily_seasonality=True to override this.\n",
       "WARNING:prophet.models:Optimization terminated abnormally. Falling back to Newton.\n",
       "Backtesting on: 2022-05-02 00:00:00\n",
       "INFO:prophet:Disabling yearly seasonality. Run prophet with yearly_seasonality=True to override this.\n",
       "INFO:prophet:Disabling daily seasonality. Run prophet with daily_seasonality=True to override this.\n",
       "WARNING:prophet.models:Optimization terminated abnormally. Falling back to Newton.\n",
       "Backtesting on: 2022-05-09 00:00:00\n",
       "INFO:prophet:Disabling yearly seasonality. Run prophet with yearly_seasonality=True to override this.\n",
       "INFO:prophet:Disabling daily seasonality. Run prophet with daily_seasonality=True to override this.\n",
       "WARNING:prophet.models:Optimization terminated abnormally. Falling back to Newton.\n",
       "Backtesting on: 2022-05-16 00:00:00\n",
       "INFO:prophet:Disabling yearly seasonality. Run prophet with yearly_seasonality=True to override this.\n",
       "INFO:prophet:Disabling daily seasonality. Run prophet with daily_seasonality=True to override this.\n",
       "WARNING:prophet.models:Optimization terminated abnormally. Falling back to Newton.\n",
       "Backtesting on: 2022-05-23 00:00:00\n",
       "INFO:prophet:Disabling yearly seasonality. Run prophet with yearly_seasonality=True to override this.\n",
       "INFO:prophet:Disabling daily seasonality. Run prophet with daily_seasonality=True to override this.\n",
       "Backtesting on: 2022-05-30 00:00:00\n",
       "INFO:prophet:Disabling yearly seasonality. Run prophet with yearly_seasonality=True to override this.\n",
       "INFO:prophet:Disabling daily seasonality. Run prophet with daily_seasonality=True to override this.\n",
       "WARNING:prophet.models:Optimization terminated abnormally. Falling back to Newton.\n",
       "Backtesting on: 2022-06-06 00:00:00\n",
       "INFO:prophet:Disabling yearly seasonality. Run prophet with yearly_seasonality=True to override this.\n",
       "INFO:prophet:Disabling daily seasonality. Run prophet with daily_seasonality=True to override this.\n",
       "Backtesting on: 2022-06-13 00:00:00\n",
       "INFO:prophet:Disabling yearly seasonality. Run prophet with yearly_seasonality=True to override this.\n",
       "INFO:prophet:Disabling daily seasonality. Run prophet with daily_seasonality=True to override this.\n",
       "WARNING:prophet.models:Optimization terminated abnormally. Falling back to Newton.\n",
       "Backtesting on: 2022-06-20 00:00:00\n",
       "INFO:prophet:Disabling yearly seasonality. Run prophet with yearly_seasonality=True to override this.\n",
       "INFO:prophet:Disabling daily seasonality. Run prophet with daily_seasonality=True to override this.\n",
       "Backtesting on: 2022-06-27 00:00:00\n",
       "INFO:prophet:Disabling yearly seasonality. Run prophet with yearly_seasonality=True to override this.\n",
       "INFO:prophet:Disabling daily seasonality. Run prophet with daily_seasonality=True to override this.\n",
       "Backtesting on: 2022-07-04 00:00:00\n",
       "INFO:prophet:Disabling yearly seasonality. Run prophet with yearly_seasonality=True to override this.\n",
       "INFO:prophet:Disabling daily seasonality. Run prophet with daily_seasonality=True to override this.\n",
       "Backtesting on: 2022-07-11 00:00:00\n",
       "INFO:prophet:Disabling yearly seasonality. Run prophet with yearly_seasonality=True to override this.\n",
       "INFO:prophet:Disabling daily seasonality. Run prophet with daily_seasonality=True to override this.\n",
       "Backtesting on: 2022-07-18 00:00:00\n",
       "INFO:prophet:Disabling yearly seasonality. Run prophet with yearly_seasonality=True to override this.\n",
       "INFO:prophet:Disabling daily seasonality. Run prophet with daily_seasonality=True to override this.\n",
       "Backtesting on: 2022-07-25 00:00:00\n",
       "INFO:prophet:Disabling yearly seasonality. Run prophet with yearly_seasonality=True to override this.\n",
       "INFO:prophet:Disabling daily seasonality. Run prophet with daily_seasonality=True to override this.\n",
       "Backtesting on: 2022-08-01 00:00:00\n",
       "INFO:prophet:Disabling yearly seasonality. Run prophet with yearly_seasonality=True to override this.\n",
       "INFO:prophet:Disabling daily seasonality. Run prophet with daily_seasonality=True to override this.\n",
       "WARNING:prophet.models:Optimization terminated abnormally. Falling back to Newton.\n",
       "Backtesting on: 2022-08-08 00:00:00\n",
       "INFO:prophet:Disabling yearly seasonality. Run prophet with yearly_seasonality=True to override this.\n",
       "INFO:prophet:Disabling daily seasonality. Run prophet with daily_seasonality=True to override this.\n",
       "Backtesting on: 2022-08-15 00:00:00\n",
       "INFO:prophet:Disabling yearly seasonality. Run prophet with yearly_seasonality=True to override this.\n",
       "INFO:prophet:Disabling daily seasonality. Run prophet with daily_seasonality=True to override this.\n",
       "Backtesting on: 2022-08-22 00:00:00\n",
       "INFO:prophet:Disabling yearly seasonality. Run prophet with yearly_seasonality=True to override this.\n",
       "INFO:prophet:Disabling daily seasonality. Run prophet with daily_seasonality=True to override this.\n",
       "Backtesting on: 2022-08-29 00:00:00\n",
       "INFO:prophet:Disabling yearly seasonality. Run prophet with yearly_seasonality=True to override this.\n",
       "INFO:prophet:Disabling daily seasonality. Run prophet with daily_seasonality=True to override this.\n",
       "Backtesting on: 2022-09-05 00:00:00\n",
       "INFO:prophet:Disabling yearly seasonality. Run prophet with yearly_seasonality=True to override this.\n",
       "INFO:prophet:Disabling daily seasonality. Run prophet with daily_seasonality=True to override this.\n",
       "Backtesting on: 2022-09-12 00:00:00\n",
       "INFO:prophet:Disabling yearly seasonality. Run prophet with yearly_seasonality=True to override this.\n",
       "INFO:prophet:Disabling daily seasonality. Run prophet with daily_seasonality=True to override this.\n",
       "Backtesting on: 2022-09-19 00:00:00\n",
       "INFO:prophet:Disabling yearly seasonality. Run prophet with yearly_seasonality=True to override this.\n",
       "INFO:prophet:Disabling daily seasonality. Run prophet with daily_seasonality=True to override this.\n",
       "Backtesting on: 2022-09-26 00:00:00\n",
       "INFO:prophet:Disabling yearly seasonality. Run prophet with yearly_seasonality=True to override this.\n",
       "INFO:prophet:Disabling daily seasonality. Run prophet with daily_seasonality=True to override this.\n",
       "Backtesting on: 2022-10-03 00:00:00\n",
       "INFO:prophet:Disabling yearly seasonality. Run prophet with yearly_seasonality=True to override this.\n",
       "INFO:prophet:Disabling daily seasonality. Run prophet with daily_seasonality=True to override this.\n",
       "Backtesting on: 2022-10-10 00:00:00\n",
       "INFO:prophet:Disabling yearly seasonality. Run prophet with yearly_seasonality=True to override this.\n",
       "INFO:prophet:Disabling daily seasonality. Run prophet with daily_seasonality=True to override this.\n",
       "Backtesting on: 2022-10-17 00:00:00\n",
       "INFO:prophet:Disabling yearly seasonality. Run prophet with yearly_seasonality=True to override this.\n",
       "INFO:prophet:Disabling daily seasonality. Run prophet with daily_seasonality=True to override this.\n",
       "Backtesting on: 2022-10-24 00:00:00\n",
       "INFO:prophet:Disabling yearly seasonality. Run prophet with yearly_seasonality=True to override this.\n",
       "INFO:prophet:Disabling daily seasonality. Run prophet with daily_seasonality=True to override this.\n",
       "Backtesting on: 2022-10-31 00:00:00\n",
       "INFO:prophet:Disabling yearly seasonality. Run prophet with yearly_seasonality=True to override this.\n",
       "INFO:prophet:Disabling daily seasonality. Run prophet with daily_seasonality=True to override this.\n",
       "Backtesting on: 2022-11-07 00:00:00\n",
       "INFO:prophet:Disabling yearly seasonality. Run prophet with yearly_seasonality=True to override this.\n",
       "INFO:prophet:Disabling daily seasonality. Run prophet with daily_seasonality=True to override this.\n",
       "Backtesting on: 2022-11-14 00:00:00\n",
       "INFO:prophet:Disabling yearly seasonality. Run prophet with yearly_seasonality=True to override this.\n",
       "INFO:prophet:Disabling daily seasonality. Run prophet with daily_seasonality=True to override this.\n",
       "Backtesting on: 2022-11-21 00:00:00\n",
       "INFO:prophet:Disabling yearly seasonality. Run prophet with yearly_seasonality=True to override this.\n",
       "INFO:prophet:Disabling daily seasonality. Run prophet with daily_seasonality=True to override this.\n",
       "Backtesting on: 2022-11-28 00:00:00\n",
       "INFO:prophet:Disabling yearly seasonality. Run prophet with yearly_seasonality=True to override this.\n",
       "INFO:prophet:Disabling daily seasonality. Run prophet with daily_seasonality=True to override this.\n",
       "Backtesting on: 2022-12-05 00:00:00\n",
       "INFO:prophet:Disabling yearly seasonality. Run prophet with yearly_seasonality=True to override this.\n",
       "INFO:prophet:Disabling daily seasonality. Run prophet with daily_seasonality=True to override this.\n",
       "INFO:prophet:n_changepoints greater than number of observations. Using 20.\n",
       "Backtesting on: 2022-12-12 00:00:00\n",
       "INFO:prophet:Disabling yearly seasonality. Run prophet with yearly_seasonality=True to override this.\n",
       "INFO:prophet:Disabling daily seasonality. Run prophet with daily_seasonality=True to override this.\n",
       "INFO:prophet:n_changepoints greater than number of observations. Using 15.\n",
       "Backtesting on: 2022-12-19 00:00:00\n",
       "INFO:prophet:Disabling yearly seasonality. Run prophet with yearly_seasonality=True to override this.\n",
       "INFO:prophet:Disabling weekly seasonality. Run prophet with weekly_seasonality=True to override this.\n",
       "INFO:prophet:Disabling daily seasonality. Run prophet with daily_seasonality=True to override this.\n",
       "INFO:prophet:n_changepoints greater than number of observations. Using 9.\n",
       "Backtesting on: 2022-12-26 00:00:00\n",
       "INFO:prophet:Disabling yearly seasonality. Run prophet with yearly_seasonality=True to override this.\n",
       "INFO:prophet:Disabling weekly seasonality. Run prophet with weekly_seasonality=True to override this.\n",
       "INFO:prophet:Disabling daily seasonality. Run prophet with daily_seasonality=True to override this.\n",
       "INFO:prophet:n_changepoints greater than number of observations. Using 3.\n",
       "</div>"
      ]
     },
     "metadata": {
      "application/vnd.databricks.v1+output": {
       "addedWidgets": {},
       "arguments": {},
       "data": "<div class=\"ansiout\">Backtesting on: 2022-01-03 00:00:00\nINFO:prophet:Disabling yearly seasonality. Run prophet with yearly_seasonality=True to override this.\nINFO:prophet:Disabling daily seasonality. Run prophet with daily_seasonality=True to override this.\nWARNING:prophet.models:Optimization terminated abnormally. Falling back to Newton.\nBacktesting on: 2022-01-10 00:00:00\nINFO:prophet:Disabling yearly seasonality. Run prophet with yearly_seasonality=True to override this.\nINFO:prophet:Disabling daily seasonality. Run prophet with daily_seasonality=True to override this.\nWARNING:prophet.models:Optimization terminated abnormally. Falling back to Newton.\nBacktesting on: 2022-01-17 00:00:00\nINFO:prophet:Disabling yearly seasonality. Run prophet with yearly_seasonality=True to override this.\nINFO:prophet:Disabling daily seasonality. Run prophet with daily_seasonality=True to override this.\nWARNING:prophet.models:Optimization terminated abnormally. Falling back to Newton.\nBacktesting on: 2022-01-24 00:00:00\nINFO:prophet:Disabling yearly seasonality. Run prophet with yearly_seasonality=True to override this.\nINFO:prophet:Disabling daily seasonality. Run prophet with daily_seasonality=True to override this.\nWARNING:prophet.models:Optimization terminated abnormally. Falling back to Newton.\nBacktesting on: 2022-01-31 00:00:00\nINFO:prophet:Disabling yearly seasonality. Run prophet with yearly_seasonality=True to override this.\nINFO:prophet:Disabling daily seasonality. Run prophet with daily_seasonality=True to override this.\nWARNING:prophet.models:Optimization terminated abnormally. Falling back to Newton.\nBacktesting on: 2022-02-07 00:00:00\nINFO:prophet:Disabling yearly seasonality. Run prophet with yearly_seasonality=True to override this.\nINFO:prophet:Disabling daily seasonality. Run prophet with daily_seasonality=True to override this.\nBacktesting on: 2022-02-14 00:00:00\nINFO:prophet:Disabling yearly seasonality. Run prophet with yearly_seasonality=True to override this.\nINFO:prophet:Disabling daily seasonality. Run prophet with daily_seasonality=True to override this.\nWARNING:prophet.models:Optimization terminated abnormally. Falling back to Newton.\nBacktesting on: 2022-02-21 00:00:00\nINFO:prophet:Disabling yearly seasonality. Run prophet with yearly_seasonality=True to override this.\nINFO:prophet:Disabling daily seasonality. Run prophet with daily_seasonality=True to override this.\nWARNING:prophet.models:Optimization terminated abnormally. Falling back to Newton.\nBacktesting on: 2022-02-28 00:00:00\nINFO:prophet:Disabling yearly seasonality. Run prophet with yearly_seasonality=True to override this.\nINFO:prophet:Disabling daily seasonality. Run prophet with daily_seasonality=True to override this.\nWARNING:prophet.models:Optimization terminated abnormally. Falling back to Newton.\nBacktesting on: 2022-03-07 00:00:00\nINFO:prophet:Disabling yearly seasonality. Run prophet with yearly_seasonality=True to override this.\nINFO:prophet:Disabling daily seasonality. Run prophet with daily_seasonality=True to override this.\nWARNING:prophet.models:Optimization terminated abnormally. Falling back to Newton.\nBacktesting on: 2022-03-14 00:00:00\nINFO:prophet:Disabling yearly seasonality. Run prophet with yearly_seasonality=True to override this.\nINFO:prophet:Disabling daily seasonality. Run prophet with daily_seasonality=True to override this.\nWARNING:prophet.models:Optimization terminated abnormally. Falling back to Newton.\nBacktesting on: 2022-03-21 00:00:00\nINFO:prophet:Disabling yearly seasonality. Run prophet with yearly_seasonality=True to override this.\nINFO:prophet:Disabling daily seasonality. Run prophet with daily_seasonality=True to override this.\nBacktesting on: 2022-03-28 00:00:00\nINFO:prophet:Disabling yearly seasonality. Run prophet with yearly_seasonality=True to override this.\nINFO:prophet:Disabling daily seasonality. Run prophet with daily_seasonality=True to override this.\nWARNING:prophet.models:Optimization terminated abnormally. Falling back to Newton.\nBacktesting on: 2022-04-04 00:00:00\nINFO:prophet:Disabling yearly seasonality. Run prophet with yearly_seasonality=True to override this.\nINFO:prophet:Disabling daily seasonality. Run prophet with daily_seasonality=True to override this.\nWARNING:prophet.models:Optimization terminated abnormally. Falling back to Newton.\nBacktesting on: 2022-04-11 00:00:00\nINFO:prophet:Disabling yearly seasonality. Run prophet with yearly_seasonality=True to override this.\nINFO:prophet:Disabling daily seasonality. Run prophet with daily_seasonality=True to override this.\nWARNING:prophet.models:Optimization terminated abnormally. Falling back to Newton.\nBacktesting on: 2022-04-18 00:00:00\nINFO:prophet:Disabling yearly seasonality. Run prophet with yearly_seasonality=True to override this.\nINFO:prophet:Disabling daily seasonality. Run prophet with daily_seasonality=True to override this.\nWARNING:prophet.models:Optimization terminated abnormally. Falling back to Newton.\nBacktesting on: 2022-04-25 00:00:00\nINFO:prophet:Disabling yearly seasonality. Run prophet with yearly_seasonality=True to override this.\nINFO:prophet:Disabling daily seasonality. Run prophet with daily_seasonality=True to override this.\nWARNING:prophet.models:Optimization terminated abnormally. Falling back to Newton.\nBacktesting on: 2022-05-02 00:00:00\nINFO:prophet:Disabling yearly seasonality. Run prophet with yearly_seasonality=True to override this.\nINFO:prophet:Disabling daily seasonality. Run prophet with daily_seasonality=True to override this.\nWARNING:prophet.models:Optimization terminated abnormally. Falling back to Newton.\nBacktesting on: 2022-05-09 00:00:00\nINFO:prophet:Disabling yearly seasonality. Run prophet with yearly_seasonality=True to override this.\nINFO:prophet:Disabling daily seasonality. Run prophet with daily_seasonality=True to override this.\nWARNING:prophet.models:Optimization terminated abnormally. Falling back to Newton.\nBacktesting on: 2022-05-16 00:00:00\nINFO:prophet:Disabling yearly seasonality. Run prophet with yearly_seasonality=True to override this.\nINFO:prophet:Disabling daily seasonality. Run prophet with daily_seasonality=True to override this.\nWARNING:prophet.models:Optimization terminated abnormally. Falling back to Newton.\nBacktesting on: 2022-05-23 00:00:00\nINFO:prophet:Disabling yearly seasonality. Run prophet with yearly_seasonality=True to override this.\nINFO:prophet:Disabling daily seasonality. Run prophet with daily_seasonality=True to override this.\nBacktesting on: 2022-05-30 00:00:00\nINFO:prophet:Disabling yearly seasonality. Run prophet with yearly_seasonality=True to override this.\nINFO:prophet:Disabling daily seasonality. Run prophet with daily_seasonality=True to override this.\nWARNING:prophet.models:Optimization terminated abnormally. Falling back to Newton.\nBacktesting on: 2022-06-06 00:00:00\nINFO:prophet:Disabling yearly seasonality. Run prophet with yearly_seasonality=True to override this.\nINFO:prophet:Disabling daily seasonality. Run prophet with daily_seasonality=True to override this.\nBacktesting on: 2022-06-13 00:00:00\nINFO:prophet:Disabling yearly seasonality. Run prophet with yearly_seasonality=True to override this.\nINFO:prophet:Disabling daily seasonality. Run prophet with daily_seasonality=True to override this.\nWARNING:prophet.models:Optimization terminated abnormally. Falling back to Newton.\nBacktesting on: 2022-06-20 00:00:00\nINFO:prophet:Disabling yearly seasonality. Run prophet with yearly_seasonality=True to override this.\nINFO:prophet:Disabling daily seasonality. Run prophet with daily_seasonality=True to override this.\nBacktesting on: 2022-06-27 00:00:00\nINFO:prophet:Disabling yearly seasonality. Run prophet with yearly_seasonality=True to override this.\nINFO:prophet:Disabling daily seasonality. Run prophet with daily_seasonality=True to override this.\nBacktesting on: 2022-07-04 00:00:00\nINFO:prophet:Disabling yearly seasonality. Run prophet with yearly_seasonality=True to override this.\nINFO:prophet:Disabling daily seasonality. Run prophet with daily_seasonality=True to override this.\nBacktesting on: 2022-07-11 00:00:00\nINFO:prophet:Disabling yearly seasonality. Run prophet with yearly_seasonality=True to override this.\nINFO:prophet:Disabling daily seasonality. Run prophet with daily_seasonality=True to override this.\nBacktesting on: 2022-07-18 00:00:00\nINFO:prophet:Disabling yearly seasonality. Run prophet with yearly_seasonality=True to override this.\nINFO:prophet:Disabling daily seasonality. Run prophet with daily_seasonality=True to override this.\nBacktesting on: 2022-07-25 00:00:00\nINFO:prophet:Disabling yearly seasonality. Run prophet with yearly_seasonality=True to override this.\nINFO:prophet:Disabling daily seasonality. Run prophet with daily_seasonality=True to override this.\nBacktesting on: 2022-08-01 00:00:00\nINFO:prophet:Disabling yearly seasonality. Run prophet with yearly_seasonality=True to override this.\nINFO:prophet:Disabling daily seasonality. Run prophet with daily_seasonality=True to override this.\nWARNING:prophet.models:Optimization terminated abnormally. Falling back to Newton.\nBacktesting on: 2022-08-08 00:00:00\nINFO:prophet:Disabling yearly seasonality. Run prophet with yearly_seasonality=True to override this.\nINFO:prophet:Disabling daily seasonality. Run prophet with daily_seasonality=True to override this.\nBacktesting on: 2022-08-15 00:00:00\nINFO:prophet:Disabling yearly seasonality. Run prophet with yearly_seasonality=True to override this.\nINFO:prophet:Disabling daily seasonality. Run prophet with daily_seasonality=True to override this.\nBacktesting on: 2022-08-22 00:00:00\nINFO:prophet:Disabling yearly seasonality. Run prophet with yearly_seasonality=True to override this.\nINFO:prophet:Disabling daily seasonality. Run prophet with daily_seasonality=True to override this.\nBacktesting on: 2022-08-29 00:00:00\nINFO:prophet:Disabling yearly seasonality. Run prophet with yearly_seasonality=True to override this.\nINFO:prophet:Disabling daily seasonality. Run prophet with daily_seasonality=True to override this.\nBacktesting on: 2022-09-05 00:00:00\nINFO:prophet:Disabling yearly seasonality. Run prophet with yearly_seasonality=True to override this.\nINFO:prophet:Disabling daily seasonality. Run prophet with daily_seasonality=True to override this.\nBacktesting on: 2022-09-12 00:00:00\nINFO:prophet:Disabling yearly seasonality. Run prophet with yearly_seasonality=True to override this.\nINFO:prophet:Disabling daily seasonality. Run prophet with daily_seasonality=True to override this.\nBacktesting on: 2022-09-19 00:00:00\nINFO:prophet:Disabling yearly seasonality. Run prophet with yearly_seasonality=True to override this.\nINFO:prophet:Disabling daily seasonality. Run prophet with daily_seasonality=True to override this.\nBacktesting on: 2022-09-26 00:00:00\nINFO:prophet:Disabling yearly seasonality. Run prophet with yearly_seasonality=True to override this.\nINFO:prophet:Disabling daily seasonality. Run prophet with daily_seasonality=True to override this.\nBacktesting on: 2022-10-03 00:00:00\nINFO:prophet:Disabling yearly seasonality. Run prophet with yearly_seasonality=True to override this.\nINFO:prophet:Disabling daily seasonality. Run prophet with daily_seasonality=True to override this.\nBacktesting on: 2022-10-10 00:00:00\nINFO:prophet:Disabling yearly seasonality. Run prophet with yearly_seasonality=True to override this.\nINFO:prophet:Disabling daily seasonality. Run prophet with daily_seasonality=True to override this.\nBacktesting on: 2022-10-17 00:00:00\nINFO:prophet:Disabling yearly seasonality. Run prophet with yearly_seasonality=True to override this.\nINFO:prophet:Disabling daily seasonality. Run prophet with daily_seasonality=True to override this.\nBacktesting on: 2022-10-24 00:00:00\nINFO:prophet:Disabling yearly seasonality. Run prophet with yearly_seasonality=True to override this.\nINFO:prophet:Disabling daily seasonality. Run prophet with daily_seasonality=True to override this.\nBacktesting on: 2022-10-31 00:00:00\nINFO:prophet:Disabling yearly seasonality. Run prophet with yearly_seasonality=True to override this.\nINFO:prophet:Disabling daily seasonality. Run prophet with daily_seasonality=True to override this.\nBacktesting on: 2022-11-07 00:00:00\nINFO:prophet:Disabling yearly seasonality. Run prophet with yearly_seasonality=True to override this.\nINFO:prophet:Disabling daily seasonality. Run prophet with daily_seasonality=True to override this.\nBacktesting on: 2022-11-14 00:00:00\nINFO:prophet:Disabling yearly seasonality. Run prophet with yearly_seasonality=True to override this.\nINFO:prophet:Disabling daily seasonality. Run prophet with daily_seasonality=True to override this.\nBacktesting on: 2022-11-21 00:00:00\nINFO:prophet:Disabling yearly seasonality. Run prophet with yearly_seasonality=True to override this.\nINFO:prophet:Disabling daily seasonality. Run prophet with daily_seasonality=True to override this.\nBacktesting on: 2022-11-28 00:00:00\nINFO:prophet:Disabling yearly seasonality. Run prophet with yearly_seasonality=True to override this.\nINFO:prophet:Disabling daily seasonality. Run prophet with daily_seasonality=True to override this.\nBacktesting on: 2022-12-05 00:00:00\nINFO:prophet:Disabling yearly seasonality. Run prophet with yearly_seasonality=True to override this.\nINFO:prophet:Disabling daily seasonality. Run prophet with daily_seasonality=True to override this.\nINFO:prophet:n_changepoints greater than number of observations. Using 20.\nBacktesting on: 2022-12-12 00:00:00\nINFO:prophet:Disabling yearly seasonality. Run prophet with yearly_seasonality=True to override this.\nINFO:prophet:Disabling daily seasonality. Run prophet with daily_seasonality=True to override this.\nINFO:prophet:n_changepoints greater than number of observations. Using 15.\nBacktesting on: 2022-12-19 00:00:00\nINFO:prophet:Disabling yearly seasonality. Run prophet with yearly_seasonality=True to override this.\nINFO:prophet:Disabling weekly seasonality. Run prophet with weekly_seasonality=True to override this.\nINFO:prophet:Disabling daily seasonality. Run prophet with daily_seasonality=True to override this.\nINFO:prophet:n_changepoints greater than number of observations. Using 9.\nBacktesting on: 2022-12-26 00:00:00\nINFO:prophet:Disabling yearly seasonality. Run prophet with yearly_seasonality=True to override this.\nINFO:prophet:Disabling weekly seasonality. Run prophet with weekly_seasonality=True to override this.\nINFO:prophet:Disabling daily seasonality. Run prophet with daily_seasonality=True to override this.\nINFO:prophet:n_changepoints greater than number of observations. Using 3.\n</div>",
       "datasetInfos": [],
       "metadata": {},
       "removedWidgets": [],
       "type": "html"
      }
     },
     "output_type": "display_data"
    }
   ],
   "source": [
    "backtest_results = pd.DataFrame()\n",
    "starting_dates = pd.date_range(start=backtest_start_date, end=backtest_end_date,freq=f'{fc_frequency}D')\n",
    "\n",
    "for start_date in starting_dates:\n",
    "  print(f\"Backtesting on: {start_date}\")\n",
    "  start_train_date = start_date\n",
    "  end_train_date = start_train_date + dt.timedelta(days=training_period)\n",
    "\n",
    "  ## Prepare the dataset to have it compatible with Prophet\n",
    "  inbound_2022_dry_prophet = inbound_2022_dry[(inbound_2022_dry['Dates']>=start_train_date)&(inbound_2022_dry['Dates']<end_train_date)].copy()\n",
    "  inbound_2022_dry_prophet['ds']= inbound_2022_dry_prophet['Dates']\n",
    "  inbound_2022_dry_prophet['y']= inbound_2022_dry_prophet['Dry Actuals']\n",
    "  inbound_2022_dry_prophet = inbound_2022_dry_prophet[['ds','y']]\n",
    "\n",
    "  ## Fit model\n",
    "  m = Prophet(holidays=holidays, changepoint_prior_scale=changepoint_prior_scale, seasonality_prior_scale=seasonality_prior_scale).add_country_holidays(country_name='BE').fit(inbound_2022_dry_prophet)\n",
    "  future = m.make_future_dataframe(periods=end_horizon)\n",
    "\n",
    "  ## Forecast\n",
    "  forecast = m.predict(future)\n",
    "  prophet_pred = forecast.tail(end_horizon-start_horizon+1)[['ds','yhat']].copy()\n",
    "\n",
    "  # Append results\n",
    "  backtest_results = pd.concat([backtest_results,prophet_pred])\n"
   ]
  },
  {
   "cell_type": "code",
   "execution_count": 0,
   "metadata": {
    "application/vnd.databricks.v1+cell": {
     "cellMetadata": {
      "byteLimit": 2048000,
      "rowLimit": 10000
     },
     "inputWidgets": {},
     "nuid": "84d734c5-e992-4d18-82c1-191842b3789d",
     "showTitle": false,
     "title": ""
    }
   },
   "outputs": [
    {
     "output_type": "display_data",
     "data": {
      "text/html": [
       "<style scoped>\n",
       "  .ansiout {\n",
       "    display: block;\n",
       "    unicode-bidi: embed;\n",
       "    white-space: pre-wrap;\n",
       "    word-wrap: break-word;\n",
       "    word-break: break-all;\n",
       "    font-family: \"Source Code Pro\", \"Menlo\", monospace;;\n",
       "    font-size: 13px;\n",
       "    color: #555;\n",
       "    margin-left: 4px;\n",
       "    line-height: 19px;\n",
       "  }\n",
       "</style>\n",
       "<div class=\"ansiout\">Out[31]: </div>"
      ]
     },
     "metadata": {
      "application/vnd.databricks.v1+output": {
       "addedWidgets": {},
       "arguments": {},
       "data": "<div class=\"ansiout\">Out[31]: </div>",
       "datasetInfos": [],
       "metadata": {},
       "removedWidgets": [],
       "type": "html"
      }
     },
     "output_type": "display_data"
    },
    {
     "output_type": "display_data",
     "data": {
      "text/html": [
       "<div>\n",
       "<style scoped>\n",
       "    .dataframe tbody tr th:only-of-type {\n",
       "        vertical-align: middle;\n",
       "    }\n",
       "\n",
       "    .dataframe tbody tr th {\n",
       "        vertical-align: top;\n",
       "    }\n",
       "\n",
       "    .dataframe thead th {\n",
       "        text-align: right;\n",
       "    }\n",
       "</style>\n",
       "<table border=\"1\" class=\"dataframe\">\n",
       "  <thead>\n",
       "    <tr style=\"text-align: right;\">\n",
       "      <th></th>\n",
       "      <th>ds</th>\n",
       "      <th>yhat</th>\n",
       "    </tr>\n",
       "  </thead>\n",
       "  <tbody>\n",
       "    <tr>\n",
       "      <th>127</th>\n",
       "      <td>2022-05-10</td>\n",
       "      <td>75834.758081</td>\n",
       "    </tr>\n",
       "    <tr>\n",
       "      <th>128</th>\n",
       "      <td>2022-05-11</td>\n",
       "      <td>60604.560348</td>\n",
       "    </tr>\n",
       "    <tr>\n",
       "      <th>129</th>\n",
       "      <td>2022-05-12</td>\n",
       "      <td>49186.083172</td>\n",
       "    </tr>\n",
       "    <tr>\n",
       "      <th>130</th>\n",
       "      <td>2022-05-13</td>\n",
       "      <td>56093.411058</td>\n",
       "    </tr>\n",
       "    <tr>\n",
       "      <th>131</th>\n",
       "      <td>2022-05-14</td>\n",
       "      <td>46303.206245</td>\n",
       "    </tr>\n",
       "    <tr>\n",
       "      <th>...</th>\n",
       "      <td>...</td>\n",
       "      <td>...</td>\n",
       "    </tr>\n",
       "    <tr>\n",
       "      <th>15</th>\n",
       "      <td>2023-01-10</td>\n",
       "      <td>-90436.924945</td>\n",
       "    </tr>\n",
       "    <tr>\n",
       "      <th>16</th>\n",
       "      <td>2023-01-11</td>\n",
       "      <td>-96997.642814</td>\n",
       "    </tr>\n",
       "    <tr>\n",
       "      <th>17</th>\n",
       "      <td>2023-01-12</td>\n",
       "      <td>-103558.360683</td>\n",
       "    </tr>\n",
       "    <tr>\n",
       "      <th>18</th>\n",
       "      <td>2023-01-13</td>\n",
       "      <td>-110119.078552</td>\n",
       "    </tr>\n",
       "    <tr>\n",
       "      <th>19</th>\n",
       "      <td>2023-01-14</td>\n",
       "      <td>-116679.796421</td>\n",
       "    </tr>\n",
       "  </tbody>\n",
       "</table>\n",
       "<p>364 rows × 2 columns</p>\n",
       "</div>"
      ]
     },
     "metadata": {
      "application/vnd.databricks.v1+output": {
       "addedWidgets": {},
       "arguments": {},
       "data": "<div>\n<style scoped>\n    .dataframe tbody tr th:only-of-type {\n        vertical-align: middle;\n    }\n\n    .dataframe tbody tr th {\n        vertical-align: top;\n    }\n\n    .dataframe thead th {\n        text-align: right;\n    }\n</style>\n<table border=\"1\" class=\"dataframe\">\n  <thead>\n    <tr style=\"text-align: right;\">\n      <th></th>\n      <th>ds</th>\n      <th>yhat</th>\n    </tr>\n  </thead>\n  <tbody>\n    <tr>\n      <th>127</th>\n      <td>2022-05-10</td>\n      <td>75834.758081</td>\n    </tr>\n    <tr>\n      <th>128</th>\n      <td>2022-05-11</td>\n      <td>60604.560348</td>\n    </tr>\n    <tr>\n      <th>129</th>\n      <td>2022-05-12</td>\n      <td>49186.083172</td>\n    </tr>\n    <tr>\n      <th>130</th>\n      <td>2022-05-13</td>\n      <td>56093.411058</td>\n    </tr>\n    <tr>\n      <th>131</th>\n      <td>2022-05-14</td>\n      <td>46303.206245</td>\n    </tr>\n    <tr>\n      <th>...</th>\n      <td>...</td>\n      <td>...</td>\n    </tr>\n    <tr>\n      <th>15</th>\n      <td>2023-01-10</td>\n      <td>-90436.924945</td>\n    </tr>\n    <tr>\n      <th>16</th>\n      <td>2023-01-11</td>\n      <td>-96997.642814</td>\n    </tr>\n    <tr>\n      <th>17</th>\n      <td>2023-01-12</td>\n      <td>-103558.360683</td>\n    </tr>\n    <tr>\n      <th>18</th>\n      <td>2023-01-13</td>\n      <td>-110119.078552</td>\n    </tr>\n    <tr>\n      <th>19</th>\n      <td>2023-01-14</td>\n      <td>-116679.796421</td>\n    </tr>\n  </tbody>\n</table>\n<p>364 rows × 2 columns</p>\n</div>",
       "datasetInfos": [],
       "metadata": {},
       "removedWidgets": [],
       "textData": null,
       "type": "htmlSandbox"
      }
     },
     "output_type": "display_data"
    }
   ],
   "source": [
    "backtest_results"
   ]
  },
  {
   "cell_type": "markdown",
   "metadata": {
    "application/vnd.databricks.v1+cell": {
     "cellMetadata": {
      "byteLimit": 2048000,
      "rowLimit": 10000
     },
     "inputWidgets": {},
     "nuid": "843fae03-0e00-477a-add0-070ea2a81d19",
     "showTitle": false,
     "title": ""
    }
   },
   "source": [
    "### Reformat backtest"
   ]
  },
  {
   "cell_type": "code",
   "execution_count": 0,
   "metadata": {
    "application/vnd.databricks.v1+cell": {
     "cellMetadata": {
      "byteLimit": 2048000,
      "rowLimit": 10000
     },
     "inputWidgets": {},
     "nuid": "6fe23e74-c988-4e08-a016-ec4d30295831",
     "showTitle": false,
     "title": ""
    }
   },
   "outputs": [
    {
     "output_type": "display_data",
     "data": {
      "text/html": [
       "<style scoped>\n",
       "  .ansiout {\n",
       "    display: block;\n",
       "    unicode-bidi: embed;\n",
       "    white-space: pre-wrap;\n",
       "    word-wrap: break-word;\n",
       "    word-break: break-all;\n",
       "    font-family: \"Source Code Pro\", \"Menlo\", monospace;;\n",
       "    font-size: 13px;\n",
       "    color: #555;\n",
       "    margin-left: 4px;\n",
       "    line-height: 19px;\n",
       "  }\n",
       "</style>\n",
       "<div class=\"ansiout\"></div>"
      ]
     },
     "metadata": {
      "application/vnd.databricks.v1+output": {
       "addedWidgets": {},
       "arguments": {},
       "data": "<div class=\"ansiout\"></div>",
       "datasetInfos": [],
       "metadata": {},
       "removedWidgets": [],
       "type": "html"
      }
     },
     "output_type": "display_data"
    }
   ],
   "source": [
    "backtest_results['Dates']= backtest_results['ds']\n",
    "backtest_results['PROPHET_FC']= backtest_results['yhat']\n",
    "backtest_df = backtest_results[['Dates','PROPHET_FC']].reset_index(drop=True).copy()"
   ]
  },
  {
   "cell_type": "code",
   "execution_count": 0,
   "metadata": {
    "application/vnd.databricks.v1+cell": {
     "cellMetadata": {
      "byteLimit": 2048000,
      "rowLimit": 10000
     },
     "inputWidgets": {},
     "nuid": "164ab897-798f-474c-bcc4-2fe7d9914d2f",
     "showTitle": false,
     "title": ""
    }
   },
   "outputs": [
    {
     "output_type": "display_data",
     "data": {
      "text/html": [
       "<style scoped>\n",
       "  .ansiout {\n",
       "    display: block;\n",
       "    unicode-bidi: embed;\n",
       "    white-space: pre-wrap;\n",
       "    word-wrap: break-word;\n",
       "    word-break: break-all;\n",
       "    font-family: \"Source Code Pro\", \"Menlo\", monospace;;\n",
       "    font-size: 13px;\n",
       "    color: #555;\n",
       "    margin-left: 4px;\n",
       "    line-height: 19px;\n",
       "  }\n",
       "</style>\n",
       "<div class=\"ansiout\">Out[33]: </div>"
      ]
     },
     "metadata": {
      "application/vnd.databricks.v1+output": {
       "addedWidgets": {},
       "arguments": {},
       "data": "<div class=\"ansiout\">Out[33]: </div>",
       "datasetInfos": [],
       "metadata": {},
       "removedWidgets": [],
       "type": "html"
      }
     },
     "output_type": "display_data"
    },
    {
     "output_type": "display_data",
     "data": {
      "text/html": [
       "<div>\n",
       "<style scoped>\n",
       "    .dataframe tbody tr th:only-of-type {\n",
       "        vertical-align: middle;\n",
       "    }\n",
       "\n",
       "    .dataframe tbody tr th {\n",
       "        vertical-align: top;\n",
       "    }\n",
       "\n",
       "    .dataframe thead th {\n",
       "        text-align: right;\n",
       "    }\n",
       "</style>\n",
       "<table border=\"1\" class=\"dataframe\">\n",
       "  <thead>\n",
       "    <tr style=\"text-align: right;\">\n",
       "      <th></th>\n",
       "      <th>Dates</th>\n",
       "      <th>PROPHET_FC</th>\n",
       "    </tr>\n",
       "  </thead>\n",
       "  <tbody>\n",
       "    <tr>\n",
       "      <th>0</th>\n",
       "      <td>2022-05-10</td>\n",
       "      <td>75834.758081</td>\n",
       "    </tr>\n",
       "    <tr>\n",
       "      <th>1</th>\n",
       "      <td>2022-05-11</td>\n",
       "      <td>60604.560348</td>\n",
       "    </tr>\n",
       "    <tr>\n",
       "      <th>2</th>\n",
       "      <td>2022-05-12</td>\n",
       "      <td>49186.083172</td>\n",
       "    </tr>\n",
       "    <tr>\n",
       "      <th>3</th>\n",
       "      <td>2022-05-13</td>\n",
       "      <td>56093.411058</td>\n",
       "    </tr>\n",
       "    <tr>\n",
       "      <th>4</th>\n",
       "      <td>2022-05-14</td>\n",
       "      <td>46303.206245</td>\n",
       "    </tr>\n",
       "    <tr>\n",
       "      <th>...</th>\n",
       "      <td>...</td>\n",
       "      <td>...</td>\n",
       "    </tr>\n",
       "    <tr>\n",
       "      <th>359</th>\n",
       "      <td>2023-01-10</td>\n",
       "      <td>-90436.924945</td>\n",
       "    </tr>\n",
       "    <tr>\n",
       "      <th>360</th>\n",
       "      <td>2023-01-11</td>\n",
       "      <td>-96997.642814</td>\n",
       "    </tr>\n",
       "    <tr>\n",
       "      <th>361</th>\n",
       "      <td>2023-01-12</td>\n",
       "      <td>-103558.360683</td>\n",
       "    </tr>\n",
       "    <tr>\n",
       "      <th>362</th>\n",
       "      <td>2023-01-13</td>\n",
       "      <td>-110119.078552</td>\n",
       "    </tr>\n",
       "    <tr>\n",
       "      <th>363</th>\n",
       "      <td>2023-01-14</td>\n",
       "      <td>-116679.796421</td>\n",
       "    </tr>\n",
       "  </tbody>\n",
       "</table>\n",
       "<p>364 rows × 2 columns</p>\n",
       "</div>"
      ]
     },
     "metadata": {
      "application/vnd.databricks.v1+output": {
       "addedWidgets": {},
       "arguments": {},
       "data": "<div>\n<style scoped>\n    .dataframe tbody tr th:only-of-type {\n        vertical-align: middle;\n    }\n\n    .dataframe tbody tr th {\n        vertical-align: top;\n    }\n\n    .dataframe thead th {\n        text-align: right;\n    }\n</style>\n<table border=\"1\" class=\"dataframe\">\n  <thead>\n    <tr style=\"text-align: right;\">\n      <th></th>\n      <th>Dates</th>\n      <th>PROPHET_FC</th>\n    </tr>\n  </thead>\n  <tbody>\n    <tr>\n      <th>0</th>\n      <td>2022-05-10</td>\n      <td>75834.758081</td>\n    </tr>\n    <tr>\n      <th>1</th>\n      <td>2022-05-11</td>\n      <td>60604.560348</td>\n    </tr>\n    <tr>\n      <th>2</th>\n      <td>2022-05-12</td>\n      <td>49186.083172</td>\n    </tr>\n    <tr>\n      <th>3</th>\n      <td>2022-05-13</td>\n      <td>56093.411058</td>\n    </tr>\n    <tr>\n      <th>4</th>\n      <td>2022-05-14</td>\n      <td>46303.206245</td>\n    </tr>\n    <tr>\n      <th>...</th>\n      <td>...</td>\n      <td>...</td>\n    </tr>\n    <tr>\n      <th>359</th>\n      <td>2023-01-10</td>\n      <td>-90436.924945</td>\n    </tr>\n    <tr>\n      <th>360</th>\n      <td>2023-01-11</td>\n      <td>-96997.642814</td>\n    </tr>\n    <tr>\n      <th>361</th>\n      <td>2023-01-12</td>\n      <td>-103558.360683</td>\n    </tr>\n    <tr>\n      <th>362</th>\n      <td>2023-01-13</td>\n      <td>-110119.078552</td>\n    </tr>\n    <tr>\n      <th>363</th>\n      <td>2023-01-14</td>\n      <td>-116679.796421</td>\n    </tr>\n  </tbody>\n</table>\n<p>364 rows × 2 columns</p>\n</div>",
       "datasetInfos": [],
       "metadata": {},
       "removedWidgets": [],
       "textData": null,
       "type": "htmlSandbox"
      }
     },
     "output_type": "display_data"
    }
   ],
   "source": [
    "backtest_df"
   ]
  },
  {
   "cell_type": "markdown",
   "metadata": {
    "application/vnd.databricks.v1+cell": {
     "cellMetadata": {
      "byteLimit": 2048000,
      "rowLimit": 10000
     },
     "inputWidgets": {},
     "nuid": "8b841797-2d28-48b6-ac77-04a8a651f977",
     "showTitle": false,
     "title": ""
    }
   },
   "source": [
    "### Join the backtest to the inbound"
   ]
  },
  {
   "cell_type": "code",
   "execution_count": 0,
   "metadata": {
    "application/vnd.databricks.v1+cell": {
     "cellMetadata": {
      "byteLimit": 2048000,
      "rowLimit": 10000
     },
     "inputWidgets": {},
     "nuid": "d364a97d-e02d-4d0c-a685-1420f5fbfff0",
     "showTitle": false,
     "title": ""
    }
   },
   "outputs": [
    {
     "output_type": "display_data",
     "data": {
      "text/html": [
       "<style scoped>\n",
       "  .ansiout {\n",
       "    display: block;\n",
       "    unicode-bidi: embed;\n",
       "    white-space: pre-wrap;\n",
       "    word-wrap: break-word;\n",
       "    word-break: break-all;\n",
       "    font-family: \"Source Code Pro\", \"Menlo\", monospace;;\n",
       "    font-size: 13px;\n",
       "    color: #555;\n",
       "    margin-left: 4px;\n",
       "    line-height: 19px;\n",
       "  }\n",
       "</style>\n",
       "<div class=\"ansiout\">Out[34]: </div>"
      ]
     },
     "metadata": {
      "application/vnd.databricks.v1+output": {
       "addedWidgets": {},
       "arguments": {},
       "data": "<div class=\"ansiout\">Out[34]: </div>",
       "datasetInfos": [],
       "metadata": {},
       "removedWidgets": [],
       "type": "html"
      }
     },
     "output_type": "display_data"
    },
    {
     "output_type": "display_data",
     "data": {
      "text/html": [
       "<div>\n",
       "<style scoped>\n",
       "    .dataframe tbody tr th:only-of-type {\n",
       "        vertical-align: middle;\n",
       "    }\n",
       "\n",
       "    .dataframe tbody tr th {\n",
       "        vertical-align: top;\n",
       "    }\n",
       "\n",
       "    .dataframe thead th {\n",
       "        text-align: right;\n",
       "    }\n",
       "</style>\n",
       "<table border=\"1\" class=\"dataframe\">\n",
       "  <thead>\n",
       "    <tr style=\"text-align: right;\">\n",
       "      <th></th>\n",
       "      <th>Dates</th>\n",
       "      <th>Dry Fc</th>\n",
       "      <th>Dry Actuals</th>\n",
       "      <th>PROPHET_FC</th>\n",
       "    </tr>\n",
       "  </thead>\n",
       "  <tbody>\n",
       "    <tr>\n",
       "      <th>0</th>\n",
       "      <td>2022-05-10</td>\n",
       "      <td>66717.729732</td>\n",
       "      <td>66459.0</td>\n",
       "      <td>75834.758081</td>\n",
       "    </tr>\n",
       "    <tr>\n",
       "      <th>1</th>\n",
       "      <td>2022-05-11</td>\n",
       "      <td>63909.213527</td>\n",
       "      <td>49313.0</td>\n",
       "      <td>60604.560348</td>\n",
       "    </tr>\n",
       "    <tr>\n",
       "      <th>2</th>\n",
       "      <td>2022-05-12</td>\n",
       "      <td>59648.343564</td>\n",
       "      <td>43377.0</td>\n",
       "      <td>49186.083172</td>\n",
       "    </tr>\n",
       "    <tr>\n",
       "      <th>3</th>\n",
       "      <td>2022-05-13</td>\n",
       "      <td>57664.833847</td>\n",
       "      <td>46556.0</td>\n",
       "      <td>56093.411058</td>\n",
       "    </tr>\n",
       "    <tr>\n",
       "      <th>4</th>\n",
       "      <td>2022-05-14</td>\n",
       "      <td>59931.051337</td>\n",
       "      <td>77061.0</td>\n",
       "      <td>46303.206245</td>\n",
       "    </tr>\n",
       "    <tr>\n",
       "      <th>...</th>\n",
       "      <td>...</td>\n",
       "      <td>...</td>\n",
       "      <td>...</td>\n",
       "      <td>...</td>\n",
       "    </tr>\n",
       "    <tr>\n",
       "      <th>189</th>\n",
       "      <td>2022-12-27</td>\n",
       "      <td>71459.270000</td>\n",
       "      <td>63764.0</td>\n",
       "      <td>85368.118171</td>\n",
       "    </tr>\n",
       "    <tr>\n",
       "      <th>190</th>\n",
       "      <td>2022-12-28</td>\n",
       "      <td>71916.320000</td>\n",
       "      <td>47680.0</td>\n",
       "      <td>77879.495703</td>\n",
       "    </tr>\n",
       "    <tr>\n",
       "      <th>191</th>\n",
       "      <td>2022-12-29</td>\n",
       "      <td>60346.346000</td>\n",
       "      <td>39552.0</td>\n",
       "      <td>68690.717810</td>\n",
       "    </tr>\n",
       "    <tr>\n",
       "      <th>192</th>\n",
       "      <td>2022-12-30</td>\n",
       "      <td>52203.888000</td>\n",
       "      <td>61119.0</td>\n",
       "      <td>65367.314212</td>\n",
       "    </tr>\n",
       "    <tr>\n",
       "      <th>193</th>\n",
       "      <td>2022-12-31</td>\n",
       "      <td>62750.131426</td>\n",
       "      <td>46818.0</td>\n",
       "      <td>69432.703822</td>\n",
       "    </tr>\n",
       "  </tbody>\n",
       "</table>\n",
       "<p>194 rows × 4 columns</p>\n",
       "</div>"
      ]
     },
     "metadata": {
      "application/vnd.databricks.v1+output": {
       "addedWidgets": {},
       "arguments": {},
       "data": "<div>\n<style scoped>\n    .dataframe tbody tr th:only-of-type {\n        vertical-align: middle;\n    }\n\n    .dataframe tbody tr th {\n        vertical-align: top;\n    }\n\n    .dataframe thead th {\n        text-align: right;\n    }\n</style>\n<table border=\"1\" class=\"dataframe\">\n  <thead>\n    <tr style=\"text-align: right;\">\n      <th></th>\n      <th>Dates</th>\n      <th>Dry Fc</th>\n      <th>Dry Actuals</th>\n      <th>PROPHET_FC</th>\n    </tr>\n  </thead>\n  <tbody>\n    <tr>\n      <th>0</th>\n      <td>2022-05-10</td>\n      <td>66717.729732</td>\n      <td>66459.0</td>\n      <td>75834.758081</td>\n    </tr>\n    <tr>\n      <th>1</th>\n      <td>2022-05-11</td>\n      <td>63909.213527</td>\n      <td>49313.0</td>\n      <td>60604.560348</td>\n    </tr>\n    <tr>\n      <th>2</th>\n      <td>2022-05-12</td>\n      <td>59648.343564</td>\n      <td>43377.0</td>\n      <td>49186.083172</td>\n    </tr>\n    <tr>\n      <th>3</th>\n      <td>2022-05-13</td>\n      <td>57664.833847</td>\n      <td>46556.0</td>\n      <td>56093.411058</td>\n    </tr>\n    <tr>\n      <th>4</th>\n      <td>2022-05-14</td>\n      <td>59931.051337</td>\n      <td>77061.0</td>\n      <td>46303.206245</td>\n    </tr>\n    <tr>\n      <th>...</th>\n      <td>...</td>\n      <td>...</td>\n      <td>...</td>\n      <td>...</td>\n    </tr>\n    <tr>\n      <th>189</th>\n      <td>2022-12-27</td>\n      <td>71459.270000</td>\n      <td>63764.0</td>\n      <td>85368.118171</td>\n    </tr>\n    <tr>\n      <th>190</th>\n      <td>2022-12-28</td>\n      <td>71916.320000</td>\n      <td>47680.0</td>\n      <td>77879.495703</td>\n    </tr>\n    <tr>\n      <th>191</th>\n      <td>2022-12-29</td>\n      <td>60346.346000</td>\n      <td>39552.0</td>\n      <td>68690.717810</td>\n    </tr>\n    <tr>\n      <th>192</th>\n      <td>2022-12-30</td>\n      <td>52203.888000</td>\n      <td>61119.0</td>\n      <td>65367.314212</td>\n    </tr>\n    <tr>\n      <th>193</th>\n      <td>2022-12-31</td>\n      <td>62750.131426</td>\n      <td>46818.0</td>\n      <td>69432.703822</td>\n    </tr>\n  </tbody>\n</table>\n<p>194 rows × 4 columns</p>\n</div>",
       "datasetInfos": [],
       "metadata": {},
       "removedWidgets": [],
       "textData": null,
       "type": "htmlSandbox"
      }
     },
     "output_type": "display_data"
    }
   ],
   "source": [
    "###Remove the data quality issues where FC is exactly te same as actuals\n",
    "\n",
    "backtest_df_merge = pd.merge(inbound_2022_df[inbound_2022_df['Dry Fc']!=inbound_2022_df['Dry Actuals']],backtest_df, on=\"Dates\", how='inner')[['Dates','Dry Fc','Dry Actuals','PROPHET_FC']]\n",
    "backtest_df_merge"
   ]
  },
  {
   "cell_type": "markdown",
   "metadata": {
    "application/vnd.databricks.v1+cell": {
     "cellMetadata": {
      "byteLimit": 2048000,
      "rowLimit": 10000
     },
     "inputWidgets": {},
     "nuid": "68c4f916-53bd-4803-add0-e9176231d96a",
     "showTitle": false,
     "title": ""
    }
   },
   "source": [
    "## Evaluate"
   ]
  },
  {
   "cell_type": "markdown",
   "metadata": {
    "application/vnd.databricks.v1+cell": {
     "cellMetadata": {
      "byteLimit": 2048000,
      "rowLimit": 10000
     },
     "inputWidgets": {},
     "nuid": "4de2135d-e475-4dd8-8817-e5643c775b9d",
     "showTitle": false,
     "title": ""
    }
   },
   "source": [
    "### Create error columns"
   ]
  },
  {
   "cell_type": "code",
   "execution_count": 0,
   "metadata": {
    "application/vnd.databricks.v1+cell": {
     "cellMetadata": {
      "byteLimit": 2048000,
      "rowLimit": 10000
     },
     "inputWidgets": {},
     "nuid": "430b153c-5564-41fd-9bc0-a1c3150a09ae",
     "showTitle": false,
     "title": ""
    }
   },
   "outputs": [
    {
     "output_type": "display_data",
     "data": {
      "text/html": [
       "<style scoped>\n",
       "  .ansiout {\n",
       "    display: block;\n",
       "    unicode-bidi: embed;\n",
       "    white-space: pre-wrap;\n",
       "    word-wrap: break-word;\n",
       "    word-break: break-all;\n",
       "    font-family: \"Source Code Pro\", \"Menlo\", monospace;;\n",
       "    font-size: 13px;\n",
       "    color: #555;\n",
       "    margin-left: 4px;\n",
       "    line-height: 19px;\n",
       "  }\n",
       "</style>\n",
       "<div class=\"ansiout\"></div>"
      ]
     },
     "metadata": {
      "application/vnd.databricks.v1+output": {
       "addedWidgets": {},
       "arguments": {},
       "data": "<div class=\"ansiout\"></div>",
       "datasetInfos": [],
       "metadata": {},
       "removedWidgets": [],
       "type": "html"
      }
     },
     "output_type": "display_data"
    }
   ],
   "source": [
    "for error in  error_to_calc:\n",
    "  for i in range(len(actual_cols)):\n",
    "    calculate_errors(df_eval= backtest_df_merge, actuals_col=actual_cols[i], fc_col= fc_cols[i],error_to_calculate=error,error_colname_suffix=error_suffixes[i])"
   ]
  },
  {
   "cell_type": "code",
   "execution_count": 0,
   "metadata": {
    "application/vnd.databricks.v1+cell": {
     "cellMetadata": {
      "byteLimit": 2048000,
      "rowLimit": 10000
     },
     "inputWidgets": {},
     "nuid": "481bef1c-1902-4a03-b0df-68fa784123b2",
     "showTitle": false,
     "title": ""
    }
   },
   "outputs": [
    {
     "output_type": "display_data",
     "data": {
      "text/html": [
       "<style scoped>\n",
       "  .ansiout {\n",
       "    display: block;\n",
       "    unicode-bidi: embed;\n",
       "    white-space: pre-wrap;\n",
       "    word-wrap: break-word;\n",
       "    word-break: break-all;\n",
       "    font-family: \"Source Code Pro\", \"Menlo\", monospace;;\n",
       "    font-size: 13px;\n",
       "    color: #555;\n",
       "    margin-left: 4px;\n",
       "    line-height: 19px;\n",
       "  }\n",
       "</style>\n",
       "<div class=\"ansiout\">Out[36]: </div>"
      ]
     },
     "metadata": {
      "application/vnd.databricks.v1+output": {
       "addedWidgets": {},
       "arguments": {},
       "data": "<div class=\"ansiout\">Out[36]: </div>",
       "datasetInfos": [],
       "metadata": {},
       "removedWidgets": [],
       "type": "html"
      }
     },
     "output_type": "display_data"
    },
    {
     "output_type": "display_data",
     "data": {
      "text/html": [
       "<div>\n",
       "<style scoped>\n",
       "    .dataframe tbody tr th:only-of-type {\n",
       "        vertical-align: middle;\n",
       "    }\n",
       "\n",
       "    .dataframe tbody tr th {\n",
       "        vertical-align: top;\n",
       "    }\n",
       "\n",
       "    .dataframe thead th {\n",
       "        text-align: right;\n",
       "    }\n",
       "</style>\n",
       "<table border=\"1\" class=\"dataframe\">\n",
       "  <thead>\n",
       "    <tr style=\"text-align: right;\">\n",
       "      <th></th>\n",
       "      <th>Dates</th>\n",
       "      <th>Dry Fc</th>\n",
       "      <th>Dry Actuals</th>\n",
       "      <th>PROPHET_FC</th>\n",
       "      <th>Bias_Dry_WOW</th>\n",
       "      <th>Bias_Dry_PROPHET</th>\n",
       "      <th>AbsError_Dry_WOW</th>\n",
       "      <th>AbsError_Dry_PROPHET</th>\n",
       "      <th>SqError_Dry_WOW</th>\n",
       "      <th>SqError_Dry_PROPHET</th>\n",
       "      <th>RelAbsError_Dry_WOW</th>\n",
       "      <th>Outside_range_Dry_WOW</th>\n",
       "      <th>RelAbsError_Dry_PROPHET</th>\n",
       "      <th>Outside_range_Dry_PROPHET</th>\n",
       "    </tr>\n",
       "  </thead>\n",
       "  <tbody>\n",
       "    <tr>\n",
       "      <th>0</th>\n",
       "      <td>2022-05-10</td>\n",
       "      <td>66717.729732</td>\n",
       "      <td>66459.0</td>\n",
       "      <td>75834.758081</td>\n",
       "      <td>258.729732</td>\n",
       "      <td>9375.758081</td>\n",
       "      <td>258.729732</td>\n",
       "      <td>9375.758081</td>\n",
       "      <td>6.694107e+04</td>\n",
       "      <td>8.790484e+07</td>\n",
       "      <td>0.003893</td>\n",
       "      <td>False</td>\n",
       "      <td>0.141076</td>\n",
       "      <td>True</td>\n",
       "    </tr>\n",
       "    <tr>\n",
       "      <th>1</th>\n",
       "      <td>2022-05-11</td>\n",
       "      <td>63909.213527</td>\n",
       "      <td>49313.0</td>\n",
       "      <td>60604.560348</td>\n",
       "      <td>14596.213527</td>\n",
       "      <td>11291.560348</td>\n",
       "      <td>14596.213527</td>\n",
       "      <td>11291.560348</td>\n",
       "      <td>2.130494e+08</td>\n",
       "      <td>1.274993e+08</td>\n",
       "      <td>0.295991</td>\n",
       "      <td>True</td>\n",
       "      <td>0.228977</td>\n",
       "      <td>True</td>\n",
       "    </tr>\n",
       "    <tr>\n",
       "      <th>2</th>\n",
       "      <td>2022-05-12</td>\n",
       "      <td>59648.343564</td>\n",
       "      <td>43377.0</td>\n",
       "      <td>49186.083172</td>\n",
       "      <td>16271.343564</td>\n",
       "      <td>5809.083172</td>\n",
       "      <td>16271.343564</td>\n",
       "      <td>5809.083172</td>\n",
       "      <td>2.647566e+08</td>\n",
       "      <td>3.374545e+07</td>\n",
       "      <td>0.375115</td>\n",
       "      <td>True</td>\n",
       "      <td>0.133921</td>\n",
       "      <td>True</td>\n",
       "    </tr>\n",
       "    <tr>\n",
       "      <th>3</th>\n",
       "      <td>2022-05-13</td>\n",
       "      <td>57664.833847</td>\n",
       "      <td>46556.0</td>\n",
       "      <td>56093.411058</td>\n",
       "      <td>11108.833847</td>\n",
       "      <td>9537.411058</td>\n",
       "      <td>11108.833847</td>\n",
       "      <td>9537.411058</td>\n",
       "      <td>1.234062e+08</td>\n",
       "      <td>9.096221e+07</td>\n",
       "      <td>0.238612</td>\n",
       "      <td>True</td>\n",
       "      <td>0.204859</td>\n",
       "      <td>True</td>\n",
       "    </tr>\n",
       "    <tr>\n",
       "      <th>4</th>\n",
       "      <td>2022-05-14</td>\n",
       "      <td>59931.051337</td>\n",
       "      <td>77061.0</td>\n",
       "      <td>46303.206245</td>\n",
       "      <td>-17129.948663</td>\n",
       "      <td>-30757.793755</td>\n",
       "      <td>17129.948663</td>\n",
       "      <td>30757.793755</td>\n",
       "      <td>2.934351e+08</td>\n",
       "      <td>9.460419e+08</td>\n",
       "      <td>0.222291</td>\n",
       "      <td>True</td>\n",
       "      <td>0.399136</td>\n",
       "      <td>True</td>\n",
       "    </tr>\n",
       "    <tr>\n",
       "      <th>...</th>\n",
       "      <td>...</td>\n",
       "      <td>...</td>\n",
       "      <td>...</td>\n",
       "      <td>...</td>\n",
       "      <td>...</td>\n",
       "      <td>...</td>\n",
       "      <td>...</td>\n",
       "      <td>...</td>\n",
       "      <td>...</td>\n",
       "      <td>...</td>\n",
       "      <td>...</td>\n",
       "      <td>...</td>\n",
       "      <td>...</td>\n",
       "      <td>...</td>\n",
       "    </tr>\n",
       "    <tr>\n",
       "      <th>189</th>\n",
       "      <td>2022-12-27</td>\n",
       "      <td>71459.270000</td>\n",
       "      <td>63764.0</td>\n",
       "      <td>85368.118171</td>\n",
       "      <td>7695.270000</td>\n",
       "      <td>21604.118171</td>\n",
       "      <td>7695.270000</td>\n",
       "      <td>21604.118171</td>\n",
       "      <td>5.921718e+07</td>\n",
       "      <td>4.667379e+08</td>\n",
       "      <td>0.120684</td>\n",
       "      <td>True</td>\n",
       "      <td>0.338814</td>\n",
       "      <td>True</td>\n",
       "    </tr>\n",
       "    <tr>\n",
       "      <th>190</th>\n",
       "      <td>2022-12-28</td>\n",
       "      <td>71916.320000</td>\n",
       "      <td>47680.0</td>\n",
       "      <td>77879.495703</td>\n",
       "      <td>24236.320000</td>\n",
       "      <td>30199.495703</td>\n",
       "      <td>24236.320000</td>\n",
       "      <td>30199.495703</td>\n",
       "      <td>5.873992e+08</td>\n",
       "      <td>9.120095e+08</td>\n",
       "      <td>0.508312</td>\n",
       "      <td>True</td>\n",
       "      <td>0.633379</td>\n",
       "      <td>True</td>\n",
       "    </tr>\n",
       "    <tr>\n",
       "      <th>191</th>\n",
       "      <td>2022-12-29</td>\n",
       "      <td>60346.346000</td>\n",
       "      <td>39552.0</td>\n",
       "      <td>68690.717810</td>\n",
       "      <td>20794.346000</td>\n",
       "      <td>29138.717810</td>\n",
       "      <td>20794.346000</td>\n",
       "      <td>29138.717810</td>\n",
       "      <td>4.324048e+08</td>\n",
       "      <td>8.490649e+08</td>\n",
       "      <td>0.525747</td>\n",
       "      <td>True</td>\n",
       "      <td>0.736719</td>\n",
       "      <td>True</td>\n",
       "    </tr>\n",
       "    <tr>\n",
       "      <th>192</th>\n",
       "      <td>2022-12-30</td>\n",
       "      <td>52203.888000</td>\n",
       "      <td>61119.0</td>\n",
       "      <td>65367.314212</td>\n",
       "      <td>-8915.112000</td>\n",
       "      <td>4248.314212</td>\n",
       "      <td>8915.112000</td>\n",
       "      <td>4248.314212</td>\n",
       "      <td>7.947922e+07</td>\n",
       "      <td>1.804817e+07</td>\n",
       "      <td>0.145865</td>\n",
       "      <td>True</td>\n",
       "      <td>0.069509</td>\n",
       "      <td>False</td>\n",
       "    </tr>\n",
       "    <tr>\n",
       "      <th>193</th>\n",
       "      <td>2022-12-31</td>\n",
       "      <td>62750.131426</td>\n",
       "      <td>46818.0</td>\n",
       "      <td>69432.703822</td>\n",
       "      <td>15932.131426</td>\n",
       "      <td>22614.703822</td>\n",
       "      <td>15932.131426</td>\n",
       "      <td>22614.703822</td>\n",
       "      <td>2.538328e+08</td>\n",
       "      <td>5.114248e+08</td>\n",
       "      <td>0.340299</td>\n",
       "      <td>True</td>\n",
       "      <td>0.483034</td>\n",
       "      <td>True</td>\n",
       "    </tr>\n",
       "  </tbody>\n",
       "</table>\n",
       "<p>194 rows × 14 columns</p>\n",
       "</div>"
      ]
     },
     "metadata": {
      "application/vnd.databricks.v1+output": {
       "addedWidgets": {},
       "arguments": {},
       "data": "<div>\n<style scoped>\n    .dataframe tbody tr th:only-of-type {\n        vertical-align: middle;\n    }\n\n    .dataframe tbody tr th {\n        vertical-align: top;\n    }\n\n    .dataframe thead th {\n        text-align: right;\n    }\n</style>\n<table border=\"1\" class=\"dataframe\">\n  <thead>\n    <tr style=\"text-align: right;\">\n      <th></th>\n      <th>Dates</th>\n      <th>Dry Fc</th>\n      <th>Dry Actuals</th>\n      <th>PROPHET_FC</th>\n      <th>Bias_Dry_WOW</th>\n      <th>Bias_Dry_PROPHET</th>\n      <th>AbsError_Dry_WOW</th>\n      <th>AbsError_Dry_PROPHET</th>\n      <th>SqError_Dry_WOW</th>\n      <th>SqError_Dry_PROPHET</th>\n      <th>RelAbsError_Dry_WOW</th>\n      <th>Outside_range_Dry_WOW</th>\n      <th>RelAbsError_Dry_PROPHET</th>\n      <th>Outside_range_Dry_PROPHET</th>\n    </tr>\n  </thead>\n  <tbody>\n    <tr>\n      <th>0</th>\n      <td>2022-05-10</td>\n      <td>66717.729732</td>\n      <td>66459.0</td>\n      <td>75834.758081</td>\n      <td>258.729732</td>\n      <td>9375.758081</td>\n      <td>258.729732</td>\n      <td>9375.758081</td>\n      <td>6.694107e+04</td>\n      <td>8.790484e+07</td>\n      <td>0.003893</td>\n      <td>False</td>\n      <td>0.141076</td>\n      <td>True</td>\n    </tr>\n    <tr>\n      <th>1</th>\n      <td>2022-05-11</td>\n      <td>63909.213527</td>\n      <td>49313.0</td>\n      <td>60604.560348</td>\n      <td>14596.213527</td>\n      <td>11291.560348</td>\n      <td>14596.213527</td>\n      <td>11291.560348</td>\n      <td>2.130494e+08</td>\n      <td>1.274993e+08</td>\n      <td>0.295991</td>\n      <td>True</td>\n      <td>0.228977</td>\n      <td>True</td>\n    </tr>\n    <tr>\n      <th>2</th>\n      <td>2022-05-12</td>\n      <td>59648.343564</td>\n      <td>43377.0</td>\n      <td>49186.083172</td>\n      <td>16271.343564</td>\n      <td>5809.083172</td>\n      <td>16271.343564</td>\n      <td>5809.083172</td>\n      <td>2.647566e+08</td>\n      <td>3.374545e+07</td>\n      <td>0.375115</td>\n      <td>True</td>\n      <td>0.133921</td>\n      <td>True</td>\n    </tr>\n    <tr>\n      <th>3</th>\n      <td>2022-05-13</td>\n      <td>57664.833847</td>\n      <td>46556.0</td>\n      <td>56093.411058</td>\n      <td>11108.833847</td>\n      <td>9537.411058</td>\n      <td>11108.833847</td>\n      <td>9537.411058</td>\n      <td>1.234062e+08</td>\n      <td>9.096221e+07</td>\n      <td>0.238612</td>\n      <td>True</td>\n      <td>0.204859</td>\n      <td>True</td>\n    </tr>\n    <tr>\n      <th>4</th>\n      <td>2022-05-14</td>\n      <td>59931.051337</td>\n      <td>77061.0</td>\n      <td>46303.206245</td>\n      <td>-17129.948663</td>\n      <td>-30757.793755</td>\n      <td>17129.948663</td>\n      <td>30757.793755</td>\n      <td>2.934351e+08</td>\n      <td>9.460419e+08</td>\n      <td>0.222291</td>\n      <td>True</td>\n      <td>0.399136</td>\n      <td>True</td>\n    </tr>\n    <tr>\n      <th>...</th>\n      <td>...</td>\n      <td>...</td>\n      <td>...</td>\n      <td>...</td>\n      <td>...</td>\n      <td>...</td>\n      <td>...</td>\n      <td>...</td>\n      <td>...</td>\n      <td>...</td>\n      <td>...</td>\n      <td>...</td>\n      <td>...</td>\n      <td>...</td>\n    </tr>\n    <tr>\n      <th>189</th>\n      <td>2022-12-27</td>\n      <td>71459.270000</td>\n      <td>63764.0</td>\n      <td>85368.118171</td>\n      <td>7695.270000</td>\n      <td>21604.118171</td>\n      <td>7695.270000</td>\n      <td>21604.118171</td>\n      <td>5.921718e+07</td>\n      <td>4.667379e+08</td>\n      <td>0.120684</td>\n      <td>True</td>\n      <td>0.338814</td>\n      <td>True</td>\n    </tr>\n    <tr>\n      <th>190</th>\n      <td>2022-12-28</td>\n      <td>71916.320000</td>\n      <td>47680.0</td>\n      <td>77879.495703</td>\n      <td>24236.320000</td>\n      <td>30199.495703</td>\n      <td>24236.320000</td>\n      <td>30199.495703</td>\n      <td>5.873992e+08</td>\n      <td>9.120095e+08</td>\n      <td>0.508312</td>\n      <td>True</td>\n      <td>0.633379</td>\n      <td>True</td>\n    </tr>\n    <tr>\n      <th>191</th>\n      <td>2022-12-29</td>\n      <td>60346.346000</td>\n      <td>39552.0</td>\n      <td>68690.717810</td>\n      <td>20794.346000</td>\n      <td>29138.717810</td>\n      <td>20794.346000</td>\n      <td>29138.717810</td>\n      <td>4.324048e+08</td>\n      <td>8.490649e+08</td>\n      <td>0.525747</td>\n      <td>True</td>\n      <td>0.736719</td>\n      <td>True</td>\n    </tr>\n    <tr>\n      <th>192</th>\n      <td>2022-12-30</td>\n      <td>52203.888000</td>\n      <td>61119.0</td>\n      <td>65367.314212</td>\n      <td>-8915.112000</td>\n      <td>4248.314212</td>\n      <td>8915.112000</td>\n      <td>4248.314212</td>\n      <td>7.947922e+07</td>\n      <td>1.804817e+07</td>\n      <td>0.145865</td>\n      <td>True</td>\n      <td>0.069509</td>\n      <td>False</td>\n    </tr>\n    <tr>\n      <th>193</th>\n      <td>2022-12-31</td>\n      <td>62750.131426</td>\n      <td>46818.0</td>\n      <td>69432.703822</td>\n      <td>15932.131426</td>\n      <td>22614.703822</td>\n      <td>15932.131426</td>\n      <td>22614.703822</td>\n      <td>2.538328e+08</td>\n      <td>5.114248e+08</td>\n      <td>0.340299</td>\n      <td>True</td>\n      <td>0.483034</td>\n      <td>True</td>\n    </tr>\n  </tbody>\n</table>\n<p>194 rows × 14 columns</p>\n</div>",
       "datasetInfos": [],
       "metadata": {},
       "removedWidgets": [],
       "textData": null,
       "type": "htmlSandbox"
      }
     },
     "output_type": "display_data"
    }
   ],
   "source": [
    "backtest_df_merge"
   ]
  },
  {
   "cell_type": "markdown",
   "metadata": {
    "application/vnd.databricks.v1+cell": {
     "cellMetadata": {
      "byteLimit": 2048000,
      "rowLimit": 10000
     },
     "inputWidgets": {},
     "nuid": "3c05e91a-2ec7-4427-bced-b48615246043",
     "showTitle": false,
     "title": ""
    }
   },
   "source": [
    "### Calculate global metrics"
   ]
  },
  {
   "cell_type": "code",
   "execution_count": 0,
   "metadata": {
    "application/vnd.databricks.v1+cell": {
     "cellMetadata": {
      "byteLimit": 2048000,
      "rowLimit": 10000
     },
     "inputWidgets": {},
     "nuid": "a73142f3-7ef2-465e-bbc9-a95d98219d89",
     "showTitle": false,
     "title": ""
    }
   },
   "outputs": [
    {
     "output_type": "display_data",
     "data": {
      "text/html": [
       "<style scoped>\n",
       "  .ansiout {\n",
       "    display: block;\n",
       "    unicode-bidi: embed;\n",
       "    white-space: pre-wrap;\n",
       "    word-wrap: break-word;\n",
       "    word-break: break-all;\n",
       "    font-family: \"Source Code Pro\", \"Menlo\", monospace;;\n",
       "    font-size: 13px;\n",
       "    color: #555;\n",
       "    margin-left: 4px;\n",
       "    line-height: 19px;\n",
       "  }\n",
       "</style>\n",
       "<div class=\"ansiout\">&lt;command-203330119889549&gt;:25: FutureWarning: Treating datetime data as categorical rather than numeric in `.describe` is deprecated and will be removed in a future version of pandas. Specify `datetime_is_numeric=True` to silence this warning and adopt the future behavior now.\n",
       "  described_df = inbound_fc.describe(include=&#39;all&#39;)[cols_to_keep].rename_axis(&#39;Metrics&#39;).reset_index(drop=False).copy()\n",
       "</div>"
      ]
     },
     "metadata": {
      "application/vnd.databricks.v1+output": {
       "addedWidgets": {},
       "arguments": {},
       "data": "<div class=\"ansiout\">&lt;command-203330119889549&gt;:25: FutureWarning: Treating datetime data as categorical rather than numeric in `.describe` is deprecated and will be removed in a future version of pandas. Specify `datetime_is_numeric=True` to silence this warning and adopt the future behavior now.\n  described_df = inbound_fc.describe(include=&#39;all&#39;)[cols_to_keep].rename_axis(&#39;Metrics&#39;).reset_index(drop=False).copy()\n</div>",
       "datasetInfos": [],
       "metadata": {},
       "removedWidgets": [],
       "type": "html"
      }
     },
     "output_type": "display_data"
    }
   ],
   "source": [
    "global_metrics_dry = describe_inbound_fc(inbound_fc=backtest_df_merge, cols_to_keep=['Dry Fc',\t'Dry Actuals', 'PROPHET_FC', 'Bias_Dry_WOW', 'AbsError_Dry_WOW', 'SqError_Dry_WOW', 'RelAbsError_Dry_WOW', 'Outside_range_Dry_WOW', 'Bias_Dry_PROPHET', 'AbsError_Dry_PROPHET', 'SqError_Dry_PROPHET', 'RelAbsError_Dry_PROPHET', 'Outside_range_Dry_PROPHET'])"
   ]
  },
  {
   "cell_type": "code",
   "execution_count": 0,
   "metadata": {
    "application/vnd.databricks.v1+cell": {
     "cellMetadata": {
      "byteLimit": 2048000,
      "rowLimit": 10000
     },
     "inputWidgets": {},
     "nuid": "dcd59ccb-aa89-4e20-8dac-8878b28360ae",
     "showTitle": false,
     "title": ""
    }
   },
   "outputs": [
    {
     "output_type": "display_data",
     "data": {
      "text/html": [
       "<style scoped>\n",
       "  .ansiout {\n",
       "    display: block;\n",
       "    unicode-bidi: embed;\n",
       "    white-space: pre-wrap;\n",
       "    word-wrap: break-word;\n",
       "    word-break: break-all;\n",
       "    font-family: \"Source Code Pro\", \"Menlo\", monospace;;\n",
       "    font-size: 13px;\n",
       "    color: #555;\n",
       "    margin-left: 4px;\n",
       "    line-height: 19px;\n",
       "  }\n",
       "</style>\n",
       "<div class=\"ansiout\">Out[38]: </div>"
      ]
     },
     "metadata": {
      "application/vnd.databricks.v1+output": {
       "addedWidgets": {},
       "arguments": {},
       "data": "<div class=\"ansiout\">Out[38]: </div>",
       "datasetInfos": [],
       "metadata": {},
       "removedWidgets": [],
       "type": "html"
      }
     },
     "output_type": "display_data"
    },
    {
     "output_type": "display_data",
     "data": {
      "text/html": [
       "<div>\n",
       "<style scoped>\n",
       "    .dataframe tbody tr th:only-of-type {\n",
       "        vertical-align: middle;\n",
       "    }\n",
       "\n",
       "    .dataframe tbody tr th {\n",
       "        vertical-align: top;\n",
       "    }\n",
       "\n",
       "    .dataframe thead th {\n",
       "        text-align: right;\n",
       "    }\n",
       "</style>\n",
       "<table border=\"1\" class=\"dataframe\">\n",
       "  <thead>\n",
       "    <tr style=\"text-align: right;\">\n",
       "      <th></th>\n",
       "      <th>Metrics</th>\n",
       "      <th>Dry Fc</th>\n",
       "      <th>Dry Actuals</th>\n",
       "      <th>PROPHET_FC</th>\n",
       "      <th>Bias_Dry_WOW</th>\n",
       "      <th>AbsError_Dry_WOW</th>\n",
       "      <th>SqError_Dry_WOW</th>\n",
       "      <th>RelAbsError_Dry_WOW</th>\n",
       "      <th>Outside_range_Dry_WOW</th>\n",
       "      <th>Bias_Dry_PROPHET</th>\n",
       "      <th>AbsError_Dry_PROPHET</th>\n",
       "      <th>SqError_Dry_PROPHET</th>\n",
       "      <th>RelAbsError_Dry_PROPHET</th>\n",
       "      <th>Outside_range_Dry_PROPHET</th>\n",
       "    </tr>\n",
       "  </thead>\n",
       "  <tbody>\n",
       "    <tr>\n",
       "      <th>0</th>\n",
       "      <td>count</td>\n",
       "      <td>194.000000</td>\n",
       "      <td>194.000000</td>\n",
       "      <td>194.000000</td>\n",
       "      <td>194.000000</td>\n",
       "      <td>194.000000</td>\n",
       "      <td>1.940000e+02</td>\n",
       "      <td>194.000000</td>\n",
       "      <td>194</td>\n",
       "      <td>194.000000</td>\n",
       "      <td>194.000000</td>\n",
       "      <td>1.940000e+02</td>\n",
       "      <td>194.000000</td>\n",
       "      <td>194</td>\n",
       "    </tr>\n",
       "    <tr>\n",
       "      <th>1</th>\n",
       "      <td>unique</td>\n",
       "      <td>NaN</td>\n",
       "      <td>NaN</td>\n",
       "      <td>NaN</td>\n",
       "      <td>NaN</td>\n",
       "      <td>NaN</td>\n",
       "      <td>NaN</td>\n",
       "      <td>NaN</td>\n",
       "      <td>2</td>\n",
       "      <td>NaN</td>\n",
       "      <td>NaN</td>\n",
       "      <td>NaN</td>\n",
       "      <td>NaN</td>\n",
       "      <td>2</td>\n",
       "    </tr>\n",
       "    <tr>\n",
       "      <th>2</th>\n",
       "      <td>top</td>\n",
       "      <td>NaN</td>\n",
       "      <td>NaN</td>\n",
       "      <td>NaN</td>\n",
       "      <td>NaN</td>\n",
       "      <td>NaN</td>\n",
       "      <td>NaN</td>\n",
       "      <td>NaN</td>\n",
       "      <td>False</td>\n",
       "      <td>NaN</td>\n",
       "      <td>NaN</td>\n",
       "      <td>NaN</td>\n",
       "      <td>NaN</td>\n",
       "      <td>True</td>\n",
       "    </tr>\n",
       "    <tr>\n",
       "      <th>3</th>\n",
       "      <td>freq</td>\n",
       "      <td>NaN</td>\n",
       "      <td>NaN</td>\n",
       "      <td>NaN</td>\n",
       "      <td>NaN</td>\n",
       "      <td>NaN</td>\n",
       "      <td>NaN</td>\n",
       "      <td>NaN</td>\n",
       "      <td>115</td>\n",
       "      <td>NaN</td>\n",
       "      <td>NaN</td>\n",
       "      <td>NaN</td>\n",
       "      <td>NaN</td>\n",
       "      <td>129</td>\n",
       "    </tr>\n",
       "    <tr>\n",
       "      <th>4</th>\n",
       "      <td>first</td>\n",
       "      <td>NaN</td>\n",
       "      <td>NaN</td>\n",
       "      <td>NaN</td>\n",
       "      <td>NaN</td>\n",
       "      <td>NaN</td>\n",
       "      <td>NaN</td>\n",
       "      <td>NaN</td>\n",
       "      <td>NaN</td>\n",
       "      <td>NaN</td>\n",
       "      <td>NaN</td>\n",
       "      <td>NaN</td>\n",
       "      <td>NaN</td>\n",
       "      <td>NaN</td>\n",
       "    </tr>\n",
       "    <tr>\n",
       "      <th>5</th>\n",
       "      <td>last</td>\n",
       "      <td>NaN</td>\n",
       "      <td>NaN</td>\n",
       "      <td>NaN</td>\n",
       "      <td>NaN</td>\n",
       "      <td>NaN</td>\n",
       "      <td>NaN</td>\n",
       "      <td>NaN</td>\n",
       "      <td>NaN</td>\n",
       "      <td>NaN</td>\n",
       "      <td>NaN</td>\n",
       "      <td>NaN</td>\n",
       "      <td>NaN</td>\n",
       "      <td>NaN</td>\n",
       "    </tr>\n",
       "    <tr>\n",
       "      <th>6</th>\n",
       "      <td>mean</td>\n",
       "      <td>66842.199314</td>\n",
       "      <td>64945.711340</td>\n",
       "      <td>65943.261461</td>\n",
       "      <td>1896.487974</td>\n",
       "      <td>6573.620600</td>\n",
       "      <td>9.878628e+07</td>\n",
       "      <td>0.123144</td>\n",
       "      <td>NaN</td>\n",
       "      <td>997.550121</td>\n",
       "      <td>12130.926348</td>\n",
       "      <td>3.153292e+08</td>\n",
       "      <td>0.194672</td>\n",
       "      <td>NaN</td>\n",
       "    </tr>\n",
       "    <tr>\n",
       "      <th>7</th>\n",
       "      <td>std</td>\n",
       "      <td>21349.594299</td>\n",
       "      <td>23780.149202</td>\n",
       "      <td>20240.419380</td>\n",
       "      <td>9781.759559</td>\n",
       "      <td>7474.070884</td>\n",
       "      <td>3.355806e+08</td>\n",
       "      <td>0.216504</td>\n",
       "      <td>NaN</td>\n",
       "      <td>17775.340820</td>\n",
       "      <td>13001.582427</td>\n",
       "      <td>1.033251e+09</td>\n",
       "      <td>0.212553</td>\n",
       "      <td>NaN</td>\n",
       "    </tr>\n",
       "    <tr>\n",
       "      <th>8</th>\n",
       "      <td>min</td>\n",
       "      <td>35712.572000</td>\n",
       "      <td>20444.000000</td>\n",
       "      <td>30801.477692</td>\n",
       "      <td>-59204.840000</td>\n",
       "      <td>4.000000</td>\n",
       "      <td>1.600000e+01</td>\n",
       "      <td>0.000081</td>\n",
       "      <td>NaN</td>\n",
       "      <td>-113737.911950</td>\n",
       "      <td>34.499596</td>\n",
       "      <td>1.190222e+03</td>\n",
       "      <td>0.000307</td>\n",
       "      <td>NaN</td>\n",
       "    </tr>\n",
       "    <tr>\n",
       "      <th>9</th>\n",
       "      <td>25%</td>\n",
       "      <td>54612.935945</td>\n",
       "      <td>49627.000000</td>\n",
       "      <td>52382.340530</td>\n",
       "      <td>-2522.390000</td>\n",
       "      <td>2083.976504</td>\n",
       "      <td>4.345082e+06</td>\n",
       "      <td>0.033756</td>\n",
       "      <td>NaN</td>\n",
       "      <td>-5737.296805</td>\n",
       "      <td>4350.953027</td>\n",
       "      <td>1.893080e+07</td>\n",
       "      <td>0.081474</td>\n",
       "      <td>NaN</td>\n",
       "    </tr>\n",
       "    <tr>\n",
       "      <th>10</th>\n",
       "      <td>50%</td>\n",
       "      <td>60409.543142</td>\n",
       "      <td>59684.000000</td>\n",
       "      <td>61590.559803</td>\n",
       "      <td>1757.135000</td>\n",
       "      <td>4586.300000</td>\n",
       "      <td>2.103423e+07</td>\n",
       "      <td>0.073249</td>\n",
       "      <td>NaN</td>\n",
       "      <td>2884.540616</td>\n",
       "      <td>8720.826167</td>\n",
       "      <td>7.605644e+07</td>\n",
       "      <td>0.140924</td>\n",
       "      <td>NaN</td>\n",
       "    </tr>\n",
       "    <tr>\n",
       "      <th>11</th>\n",
       "      <td>75%</td>\n",
       "      <td>72006.222000</td>\n",
       "      <td>70424.750000</td>\n",
       "      <td>75213.107533</td>\n",
       "      <td>5618.490867</td>\n",
       "      <td>8576.696000</td>\n",
       "      <td>7.356061e+07</td>\n",
       "      <td>0.133657</td>\n",
       "      <td>NaN</td>\n",
       "      <td>10245.984488</td>\n",
       "      <td>15137.354795</td>\n",
       "      <td>2.292179e+08</td>\n",
       "      <td>0.254812</td>\n",
       "      <td>NaN</td>\n",
       "    </tr>\n",
       "    <tr>\n",
       "      <th>12</th>\n",
       "      <td>max</td>\n",
       "      <td>161687.000000</td>\n",
       "      <td>189772.000000</td>\n",
       "      <td>124216.249963</td>\n",
       "      <td>52066.000000</td>\n",
       "      <td>59204.840000</td>\n",
       "      <td>3.505213e+09</td>\n",
       "      <td>2.394720</td>\n",
       "      <td>NaN</td>\n",
       "      <td>47258.151795</td>\n",
       "      <td>113737.911950</td>\n",
       "      <td>1.293631e+10</td>\n",
       "      <td>2.173588</td>\n",
       "      <td>NaN</td>\n",
       "    </tr>\n",
       "  </tbody>\n",
       "</table>\n",
       "</div>"
      ]
     },
     "metadata": {
      "application/vnd.databricks.v1+output": {
       "addedWidgets": {},
       "arguments": {},
       "data": "<div>\n<style scoped>\n    .dataframe tbody tr th:only-of-type {\n        vertical-align: middle;\n    }\n\n    .dataframe tbody tr th {\n        vertical-align: top;\n    }\n\n    .dataframe thead th {\n        text-align: right;\n    }\n</style>\n<table border=\"1\" class=\"dataframe\">\n  <thead>\n    <tr style=\"text-align: right;\">\n      <th></th>\n      <th>Metrics</th>\n      <th>Dry Fc</th>\n      <th>Dry Actuals</th>\n      <th>PROPHET_FC</th>\n      <th>Bias_Dry_WOW</th>\n      <th>AbsError_Dry_WOW</th>\n      <th>SqError_Dry_WOW</th>\n      <th>RelAbsError_Dry_WOW</th>\n      <th>Outside_range_Dry_WOW</th>\n      <th>Bias_Dry_PROPHET</th>\n      <th>AbsError_Dry_PROPHET</th>\n      <th>SqError_Dry_PROPHET</th>\n      <th>RelAbsError_Dry_PROPHET</th>\n      <th>Outside_range_Dry_PROPHET</th>\n    </tr>\n  </thead>\n  <tbody>\n    <tr>\n      <th>0</th>\n      <td>count</td>\n      <td>194.000000</td>\n      <td>194.000000</td>\n      <td>194.000000</td>\n      <td>194.000000</td>\n      <td>194.000000</td>\n      <td>1.940000e+02</td>\n      <td>194.000000</td>\n      <td>194</td>\n      <td>194.000000</td>\n      <td>194.000000</td>\n      <td>1.940000e+02</td>\n      <td>194.000000</td>\n      <td>194</td>\n    </tr>\n    <tr>\n      <th>1</th>\n      <td>unique</td>\n      <td>NaN</td>\n      <td>NaN</td>\n      <td>NaN</td>\n      <td>NaN</td>\n      <td>NaN</td>\n      <td>NaN</td>\n      <td>NaN</td>\n      <td>2</td>\n      <td>NaN</td>\n      <td>NaN</td>\n      <td>NaN</td>\n      <td>NaN</td>\n      <td>2</td>\n    </tr>\n    <tr>\n      <th>2</th>\n      <td>top</td>\n      <td>NaN</td>\n      <td>NaN</td>\n      <td>NaN</td>\n      <td>NaN</td>\n      <td>NaN</td>\n      <td>NaN</td>\n      <td>NaN</td>\n      <td>False</td>\n      <td>NaN</td>\n      <td>NaN</td>\n      <td>NaN</td>\n      <td>NaN</td>\n      <td>True</td>\n    </tr>\n    <tr>\n      <th>3</th>\n      <td>freq</td>\n      <td>NaN</td>\n      <td>NaN</td>\n      <td>NaN</td>\n      <td>NaN</td>\n      <td>NaN</td>\n      <td>NaN</td>\n      <td>NaN</td>\n      <td>115</td>\n      <td>NaN</td>\n      <td>NaN</td>\n      <td>NaN</td>\n      <td>NaN</td>\n      <td>129</td>\n    </tr>\n    <tr>\n      <th>4</th>\n      <td>first</td>\n      <td>NaN</td>\n      <td>NaN</td>\n      <td>NaN</td>\n      <td>NaN</td>\n      <td>NaN</td>\n      <td>NaN</td>\n      <td>NaN</td>\n      <td>NaN</td>\n      <td>NaN</td>\n      <td>NaN</td>\n      <td>NaN</td>\n      <td>NaN</td>\n      <td>NaN</td>\n    </tr>\n    <tr>\n      <th>5</th>\n      <td>last</td>\n      <td>NaN</td>\n      <td>NaN</td>\n      <td>NaN</td>\n      <td>NaN</td>\n      <td>NaN</td>\n      <td>NaN</td>\n      <td>NaN</td>\n      <td>NaN</td>\n      <td>NaN</td>\n      <td>NaN</td>\n      <td>NaN</td>\n      <td>NaN</td>\n      <td>NaN</td>\n    </tr>\n    <tr>\n      <th>6</th>\n      <td>mean</td>\n      <td>66842.199314</td>\n      <td>64945.711340</td>\n      <td>65943.261461</td>\n      <td>1896.487974</td>\n      <td>6573.620600</td>\n      <td>9.878628e+07</td>\n      <td>0.123144</td>\n      <td>NaN</td>\n      <td>997.550121</td>\n      <td>12130.926348</td>\n      <td>3.153292e+08</td>\n      <td>0.194672</td>\n      <td>NaN</td>\n    </tr>\n    <tr>\n      <th>7</th>\n      <td>std</td>\n      <td>21349.594299</td>\n      <td>23780.149202</td>\n      <td>20240.419380</td>\n      <td>9781.759559</td>\n      <td>7474.070884</td>\n      <td>3.355806e+08</td>\n      <td>0.216504</td>\n      <td>NaN</td>\n      <td>17775.340820</td>\n      <td>13001.582427</td>\n      <td>1.033251e+09</td>\n      <td>0.212553</td>\n      <td>NaN</td>\n    </tr>\n    <tr>\n      <th>8</th>\n      <td>min</td>\n      <td>35712.572000</td>\n      <td>20444.000000</td>\n      <td>30801.477692</td>\n      <td>-59204.840000</td>\n      <td>4.000000</td>\n      <td>1.600000e+01</td>\n      <td>0.000081</td>\n      <td>NaN</td>\n      <td>-113737.911950</td>\n      <td>34.499596</td>\n      <td>1.190222e+03</td>\n      <td>0.000307</td>\n      <td>NaN</td>\n    </tr>\n    <tr>\n      <th>9</th>\n      <td>25%</td>\n      <td>54612.935945</td>\n      <td>49627.000000</td>\n      <td>52382.340530</td>\n      <td>-2522.390000</td>\n      <td>2083.976504</td>\n      <td>4.345082e+06</td>\n      <td>0.033756</td>\n      <td>NaN</td>\n      <td>-5737.296805</td>\n      <td>4350.953027</td>\n      <td>1.893080e+07</td>\n      <td>0.081474</td>\n      <td>NaN</td>\n    </tr>\n    <tr>\n      <th>10</th>\n      <td>50%</td>\n      <td>60409.543142</td>\n      <td>59684.000000</td>\n      <td>61590.559803</td>\n      <td>1757.135000</td>\n      <td>4586.300000</td>\n      <td>2.103423e+07</td>\n      <td>0.073249</td>\n      <td>NaN</td>\n      <td>2884.540616</td>\n      <td>8720.826167</td>\n      <td>7.605644e+07</td>\n      <td>0.140924</td>\n      <td>NaN</td>\n    </tr>\n    <tr>\n      <th>11</th>\n      <td>75%</td>\n      <td>72006.222000</td>\n      <td>70424.750000</td>\n      <td>75213.107533</td>\n      <td>5618.490867</td>\n      <td>8576.696000</td>\n      <td>7.356061e+07</td>\n      <td>0.133657</td>\n      <td>NaN</td>\n      <td>10245.984488</td>\n      <td>15137.354795</td>\n      <td>2.292179e+08</td>\n      <td>0.254812</td>\n      <td>NaN</td>\n    </tr>\n    <tr>\n      <th>12</th>\n      <td>max</td>\n      <td>161687.000000</td>\n      <td>189772.000000</td>\n      <td>124216.249963</td>\n      <td>52066.000000</td>\n      <td>59204.840000</td>\n      <td>3.505213e+09</td>\n      <td>2.394720</td>\n      <td>NaN</td>\n      <td>47258.151795</td>\n      <td>113737.911950</td>\n      <td>1.293631e+10</td>\n      <td>2.173588</td>\n      <td>NaN</td>\n    </tr>\n  </tbody>\n</table>\n</div>",
       "datasetInfos": [],
       "metadata": {},
       "removedWidgets": [],
       "textData": null,
       "type": "htmlSandbox"
      }
     },
     "output_type": "display_data"
    }
   ],
   "source": [
    "global_metrics_dry"
   ]
  },
  {
   "cell_type": "markdown",
   "metadata": {
    "application/vnd.databricks.v1+cell": {
     "cellMetadata": {
      "byteLimit": 2048000,
      "rowLimit": 10000
     },
     "inputWidgets": {},
     "nuid": "9cdf44ab-d387-4220-b6b1-3489467465b8",
     "showTitle": false,
     "title": ""
    }
   },
   "source": [
    "### Visualize profiles"
   ]
  },
  {
   "cell_type": "code",
   "execution_count": 0,
   "metadata": {
    "application/vnd.databricks.v1+cell": {
     "cellMetadata": {
      "byteLimit": 2048000,
      "rowLimit": 10000
     },
     "inputWidgets": {},
     "nuid": "073b6c50-97e1-400b-b9d3-210291d12db3",
     "showTitle": false,
     "title": ""
    }
   },
   "outputs": [
    {
     "output_type": "display_data",
     "data": {
      "text/html": [
       "<html>\n",
       "<head><meta charset=\"utf-8\" /></head>\n",
       "<body>\n",
       "    <div>            <script src=\"https://cdnjs.cloudflare.com/ajax/libs/mathjax/2.7.5/MathJax.js?config=TeX-AMS-MML_SVG\"></script><script type=\"text/javascript\">if (window.MathJax) {MathJax.Hub.Config({SVG: {font: \"STIX-Web\"}});}</script>                <script type=\"text/javascript\">window.PlotlyConfig = {MathJaxConfig: 'local'};</script>\n",
       "        <script src=\"https://cdn.plot.ly/plotly-2.2.0.min.js\"></script>                <div id=\"97831611-f3d9-4d4c-aefd-1c9207bcbcea\" class=\"plotly-graph-div\" style=\"height:100%; width:100%;\"></div>            <script type=\"text/javascript\">                                    window.PLOTLYENV=window.PLOTLYENV || {};                                    if (document.getElementById(\"97831611-f3d9-4d4c-aefd-1c9207bcbcea\")) {                    Plotly.newPlot(                        \"97831611-f3d9-4d4c-aefd-1c9207bcbcea\",                        [{\"line\":{\"color\":\"#FF0000\"},\"name\":\"PROPHET_FC\",\"showlegend\":true,\"type\":\"scatter\",\"x\":[\"2022-05-10T00:00:00\",\"2022-05-11T00:00:00\",\"2022-05-12T00:00:00\",\"2022-05-13T00:00:00\",\"2022-05-14T00:00:00\",\"2022-05-16T00:00:00\",\"2022-05-17T00:00:00\",\"2022-05-18T00:00:00\",\"2022-05-19T00:00:00\",\"2022-05-20T00:00:00\",\"2022-05-23T00:00:00\",\"2022-05-24T00:00:00\",\"2022-05-25T00:00:00\",\"2022-05-27T00:00:00\",\"2022-05-30T00:00:00\",\"2022-05-31T00:00:00\",\"2022-06-01T00:00:00\",\"2022-06-02T00:00:00\",\"2022-06-03T00:00:00\",\"2022-06-04T00:00:00\",\"2022-06-07T00:00:00\",\"2022-06-08T00:00:00\",\"2022-06-09T00:00:00\",\"2022-06-10T00:00:00\",\"2022-06-11T00:00:00\",\"2022-06-13T00:00:00\",\"2022-06-14T00:00:00\",\"2022-06-15T00:00:00\",\"2022-06-16T00:00:00\",\"2022-06-17T00:00:00\",\"2022-06-18T00:00:00\",\"2022-06-20T00:00:00\",\"2022-06-21T00:00:00\",\"2022-06-22T00:00:00\",\"2022-06-23T00:00:00\",\"2022-06-24T00:00:00\",\"2022-06-25T00:00:00\",\"2022-06-27T00:00:00\",\"2022-06-28T00:00:00\",\"2022-06-29T00:00:00\",\"2022-06-30T00:00:00\",\"2022-07-01T00:00:00\",\"2022-07-02T00:00:00\",\"2022-07-04T00:00:00\",\"2022-07-05T00:00:00\",\"2022-07-06T00:00:00\",\"2022-07-07T00:00:00\",\"2022-07-08T00:00:00\",\"2022-07-09T00:00:00\",\"2022-07-11T00:00:00\",\"2022-07-12T00:00:00\",\"2022-07-13T00:00:00\",\"2022-07-14T00:00:00\",\"2022-07-15T00:00:00\",\"2022-07-16T00:00:00\",\"2022-07-18T00:00:00\",\"2022-07-19T00:00:00\",\"2022-07-20T00:00:00\",\"2022-07-22T00:00:00\",\"2022-07-23T00:00:00\",\"2022-07-25T00:00:00\",\"2022-07-26T00:00:00\",\"2022-07-27T00:00:00\",\"2022-07-28T00:00:00\",\"2022-07-29T00:00:00\",\"2022-07-30T00:00:00\",\"2022-08-01T00:00:00\",\"2022-08-02T00:00:00\",\"2022-08-03T00:00:00\",\"2022-08-04T00:00:00\",\"2022-08-05T00:00:00\",\"2022-08-06T00:00:00\",\"2022-08-08T00:00:00\",\"2022-08-09T00:00:00\",\"2022-08-10T00:00:00\",\"2022-08-11T00:00:00\",\"2022-08-12T00:00:00\",\"2022-08-13T00:00:00\",\"2022-08-16T00:00:00\",\"2022-08-17T00:00:00\",\"2022-08-18T00:00:00\",\"2022-08-19T00:00:00\",\"2022-08-22T00:00:00\",\"2022-08-23T00:00:00\",\"2022-08-24T00:00:00\",\"2022-08-25T00:00:00\",\"2022-08-26T00:00:00\",\"2022-08-27T00:00:00\",\"2022-08-29T00:00:00\",\"2022-08-30T00:00:00\",\"2022-08-31T00:00:00\",\"2022-09-01T00:00:00\",\"2022-09-02T00:00:00\",\"2022-09-03T00:00:00\",\"2022-09-05T00:00:00\",\"2022-09-06T00:00:00\",\"2022-09-07T00:00:00\",\"2022-09-08T00:00:00\",\"2022-09-09T00:00:00\",\"2022-09-10T00:00:00\",\"2022-09-12T00:00:00\",\"2022-09-13T00:00:00\",\"2022-09-14T00:00:00\",\"2022-09-15T00:00:00\",\"2022-09-16T00:00:00\",\"2022-09-17T00:00:00\",\"2022-09-19T00:00:00\",\"2022-09-20T00:00:00\",\"2022-09-21T00:00:00\",\"2022-09-22T00:00:00\",\"2022-09-23T00:00:00\",\"2022-09-24T00:00:00\",\"2022-09-26T00:00:00\",\"2022-09-27T00:00:00\",\"2022-09-28T00:00:00\",\"2022-09-29T00:00:00\",\"2022-09-30T00:00:00\",\"2022-10-01T00:00:00\",\"2022-10-03T00:00:00\",\"2022-10-04T00:00:00\",\"2022-10-05T00:00:00\",\"2022-10-06T00:00:00\",\"2022-10-07T00:00:00\",\"2022-10-08T00:00:00\",\"2022-10-10T00:00:00\",\"2022-10-11T00:00:00\",\"2022-10-12T00:00:00\",\"2022-10-13T00:00:00\",\"2022-10-14T00:00:00\",\"2022-10-15T00:00:00\",\"2022-10-17T00:00:00\",\"2022-10-18T00:00:00\",\"2022-10-19T00:00:00\",\"2022-10-20T00:00:00\",\"2022-10-21T00:00:00\",\"2022-10-22T00:00:00\",\"2022-10-24T00:00:00\",\"2022-10-25T00:00:00\",\"2022-10-26T00:00:00\",\"2022-10-27T00:00:00\",\"2022-10-28T00:00:00\",\"2022-10-29T00:00:00\",\"2022-10-31T00:00:00\",\"2022-11-02T00:00:00\",\"2022-11-03T00:00:00\",\"2022-11-04T00:00:00\",\"2022-11-05T00:00:00\",\"2022-11-07T00:00:00\",\"2022-11-08T00:00:00\",\"2022-11-09T00:00:00\",\"2022-11-10T00:00:00\",\"2022-11-12T00:00:00\",\"2022-11-14T00:00:00\",\"2022-11-15T00:00:00\",\"2022-11-16T00:00:00\",\"2022-11-17T00:00:00\",\"2022-11-18T00:00:00\",\"2022-11-19T00:00:00\",\"2022-11-21T00:00:00\",\"2022-11-22T00:00:00\",\"2022-11-23T00:00:00\",\"2022-11-24T00:00:00\",\"2022-11-25T00:00:00\",\"2022-11-26T00:00:00\",\"2022-11-28T00:00:00\",\"2022-11-29T00:00:00\",\"2022-11-30T00:00:00\",\"2022-12-01T00:00:00\",\"2022-12-02T00:00:00\",\"2022-12-03T00:00:00\",\"2022-12-05T00:00:00\",\"2022-12-06T00:00:00\",\"2022-12-07T00:00:00\",\"2022-12-08T00:00:00\",\"2022-12-09T00:00:00\",\"2022-12-10T00:00:00\",\"2022-12-12T00:00:00\",\"2022-12-13T00:00:00\",\"2022-12-14T00:00:00\",\"2022-12-15T00:00:00\",\"2022-12-16T00:00:00\",\"2022-12-17T00:00:00\",\"2022-12-19T00:00:00\",\"2022-12-20T00:00:00\",\"2022-12-21T00:00:00\",\"2022-12-22T00:00:00\",\"2022-12-23T00:00:00\",\"2022-12-24T00:00:00\",\"2022-12-26T00:00:00\",\"2022-12-27T00:00:00\",\"2022-12-28T00:00:00\",\"2022-12-29T00:00:00\",\"2022-12-30T00:00:00\",\"2022-12-31T00:00:00\"],\"y\":[75834.75808071613,60604.56034846832,49186.08317174054,56093.41105785143,46303.20624519268,103581.84731881172,75972.70879108182,60879.200668581965,50339.765556303246,56873.736473382116,104601.1004420823,75234.96918221563,58966.581908642314,56144.11415943232,105454.81503674605,71043.38996946295,54836.498823289134,47980.19671506544,52297.99428318548,38742.16167889284,68434.924839433,52718.23735346685,45892.80572649831,50968.72439727564,34364.73493434182,102497.69184584638,62824.789774589284,48064.71056600829,38440.87255225942,47281.41273909598,33747.32649859452,89595.14805430303,70376.11838147478,53149.94198113933,46802.17126249797,53059.15172990026,43310.022182710214,105726.47841460563,71807.57407270567,54522.850212950354,49140.982756912505,52635.37927170238,42191.654752435905,100984.82030469304,67841.33130638239,49898.177134425925,46639.68931262264,53111.88552901481,40891.45176974246,99972.9084637044,68445.77768429717,49025.14797056169,47367.5809517804,53391.884904017286,41229.2909789016,99894.47269532914,66010.82440322763,46060.636820979285,51019.99967912604,39065.34153636145,96274.53600114504,58245.1362457764,39192.172979804556,35771.78749322797,43631.964345244865,30801.47769220241,76973.93145746572,61588.23465496745,43778.675649605364,42573.12162720264,48094.3633345916,34585.01811784836,90848.42711839476,60600.15156066095,42429.5850362301,41714.38938601814,47323.00181980495,32632.01985391226,59015.13054343237,42549.42935981555,41811.045409815764,45948.98764460023,85970.8575399685,61945.79926682478,45149.913933667616,43524.95371982733,48914.871801386194,39309.06652936696,88679.80086784376,63795.68902912111,49133.27787698123,63054.186115658216,68926.395786741,55738.70159962633,110885.20970670597,82104.89352400247,69050.79245414566,65514.51161897568,70573.03579162172,62074.39712875507,115736.03876858353,79632.56961668553,66002.78349838118,60858.09898408698,66063.57445564792,58746.648718573924,111437.30390916258,82500.3497695982,69566.29689173003,63958.877438114694,69185.56532032014,59909.40674167628,116871.59573166314,81274.19605241416,68631.55803109652,55890.92394365274,67086.86533647227,60852.70952767615,104135.91632853595,73336.97686148022,60677.59163608908,53044.702533652,58910.72374394466,55925.248590733645,105206.8143567692,75098.19845546267,63093.550856019334,52996.4191267546,59998.97470466636,57409.35775330151,98270.25757767123,73236.00152212557,64020.05334859901,54958.48002117122,60133.25268661506,57395.50777817359,101631.47356061282,64757.68306487518,55056.67218662229,43529.90990306408,50741.89129179025,48376.23962213898,86226.17375132121,66124.00109001159,54460.129615761376,59625.098320363846,58553.93655128858,105554.62840762775,76034.08804967368,69000.15179535982,58719.33918463967,61331.334198828044,109054.71481649563,78017.67798460765,76763.53640266416,61528.55921585005,67940.62764998707,65070.896750865715,112284.50040385549,78131.9709840059,70142.89682048121,56803.62546987459,59657.47579600307,60552.44072408254,106773.88338637381,77048.75310088688,70202.51544415734,61214.36775103985,59565.80016501318,60730.33361207325,104835.71333801403,89033.9045640688,78603.09283881045,68908.47353514025,69868.77579032446,68987.79793853711,121640.42137045052,77975.52998897288,72765.16851993056,62495.82133190055,58996.56223742936,61592.88495105375,111156.18844555457,82228.27455267431,75147.52258690586,66039.19035424972,63539.955008356446,64857.16137684457,124216.2499628102,85368.1181709051,77879.49570338655,68690.71780998104,65367.3142116292,69432.70382187578]},{\"line\":{\"color\":\"#0000FF\"},\"name\":\"Dry Fc\",\"showlegend\":true,\"type\":\"scatter\",\"x\":[\"2022-05-10T00:00:00\",\"2022-05-11T00:00:00\",\"2022-05-12T00:00:00\",\"2022-05-13T00:00:00\",\"2022-05-14T00:00:00\",\"2022-05-16T00:00:00\",\"2022-05-17T00:00:00\",\"2022-05-18T00:00:00\",\"2022-05-19T00:00:00\",\"2022-05-20T00:00:00\",\"2022-05-23T00:00:00\",\"2022-05-24T00:00:00\",\"2022-05-25T00:00:00\",\"2022-05-27T00:00:00\",\"2022-05-30T00:00:00\",\"2022-05-31T00:00:00\",\"2022-06-01T00:00:00\",\"2022-06-02T00:00:00\",\"2022-06-03T00:00:00\",\"2022-06-04T00:00:00\",\"2022-06-07T00:00:00\",\"2022-06-08T00:00:00\",\"2022-06-09T00:00:00\",\"2022-06-10T00:00:00\",\"2022-06-11T00:00:00\",\"2022-06-13T00:00:00\",\"2022-06-14T00:00:00\",\"2022-06-15T00:00:00\",\"2022-06-16T00:00:00\",\"2022-06-17T00:00:00\",\"2022-06-18T00:00:00\",\"2022-06-20T00:00:00\",\"2022-06-21T00:00:00\",\"2022-06-22T00:00:00\",\"2022-06-23T00:00:00\",\"2022-06-24T00:00:00\",\"2022-06-25T00:00:00\",\"2022-06-27T00:00:00\",\"2022-06-28T00:00:00\",\"2022-06-29T00:00:00\",\"2022-06-30T00:00:00\",\"2022-07-01T00:00:00\",\"2022-07-02T00:00:00\",\"2022-07-04T00:00:00\",\"2022-07-05T00:00:00\",\"2022-07-06T00:00:00\",\"2022-07-07T00:00:00\",\"2022-07-08T00:00:00\",\"2022-07-09T00:00:00\",\"2022-07-11T00:00:00\",\"2022-07-12T00:00:00\",\"2022-07-13T00:00:00\",\"2022-07-14T00:00:00\",\"2022-07-15T00:00:00\",\"2022-07-16T00:00:00\",\"2022-07-18T00:00:00\",\"2022-07-19T00:00:00\",\"2022-07-20T00:00:00\",\"2022-07-22T00:00:00\",\"2022-07-23T00:00:00\",\"2022-07-25T00:00:00\",\"2022-07-26T00:00:00\",\"2022-07-27T00:00:00\",\"2022-07-28T00:00:00\",\"2022-07-29T00:00:00\",\"2022-07-30T00:00:00\",\"2022-08-01T00:00:00\",\"2022-08-02T00:00:00\",\"2022-08-03T00:00:00\",\"2022-08-04T00:00:00\",\"2022-08-05T00:00:00\",\"2022-08-06T00:00:00\",\"2022-08-08T00:00:00\",\"2022-08-09T00:00:00\",\"2022-08-10T00:00:00\",\"2022-08-11T00:00:00\",\"2022-08-12T00:00:00\",\"2022-08-13T00:00:00\",\"2022-08-16T00:00:00\",\"2022-08-17T00:00:00\",\"2022-08-18T00:00:00\",\"2022-08-19T00:00:00\",\"2022-08-22T00:00:00\",\"2022-08-23T00:00:00\",\"2022-08-24T00:00:00\",\"2022-08-25T00:00:00\",\"2022-08-26T00:00:00\",\"2022-08-27T00:00:00\",\"2022-08-29T00:00:00\",\"2022-08-30T00:00:00\",\"2022-08-31T00:00:00\",\"2022-09-01T00:00:00\",\"2022-09-02T00:00:00\",\"2022-09-03T00:00:00\",\"2022-09-05T00:00:00\",\"2022-09-06T00:00:00\",\"2022-09-07T00:00:00\",\"2022-09-08T00:00:00\",\"2022-09-09T00:00:00\",\"2022-09-10T00:00:00\",\"2022-09-12T00:00:00\",\"2022-09-13T00:00:00\",\"2022-09-14T00:00:00\",\"2022-09-15T00:00:00\",\"2022-09-16T00:00:00\",\"2022-09-17T00:00:00\",\"2022-09-19T00:00:00\",\"2022-09-20T00:00:00\",\"2022-09-21T00:00:00\",\"2022-09-22T00:00:00\",\"2022-09-23T00:00:00\",\"2022-09-24T00:00:00\",\"2022-09-26T00:00:00\",\"2022-09-27T00:00:00\",\"2022-09-28T00:00:00\",\"2022-09-29T00:00:00\",\"2022-09-30T00:00:00\",\"2022-10-01T00:00:00\",\"2022-10-03T00:00:00\",\"2022-10-04T00:00:00\",\"2022-10-05T00:00:00\",\"2022-10-06T00:00:00\",\"2022-10-07T00:00:00\",\"2022-10-08T00:00:00\",\"2022-10-10T00:00:00\",\"2022-10-11T00:00:00\",\"2022-10-12T00:00:00\",\"2022-10-13T00:00:00\",\"2022-10-14T00:00:00\",\"2022-10-15T00:00:00\",\"2022-10-17T00:00:00\",\"2022-10-18T00:00:00\",\"2022-10-19T00:00:00\",\"2022-10-20T00:00:00\",\"2022-10-21T00:00:00\",\"2022-10-22T00:00:00\",\"2022-10-24T00:00:00\",\"2022-10-25T00:00:00\",\"2022-10-26T00:00:00\",\"2022-10-27T00:00:00\",\"2022-10-28T00:00:00\",\"2022-10-29T00:00:00\",\"2022-10-31T00:00:00\",\"2022-11-02T00:00:00\",\"2022-11-03T00:00:00\",\"2022-11-04T00:00:00\",\"2022-11-05T00:00:00\",\"2022-11-07T00:00:00\",\"2022-11-08T00:00:00\",\"2022-11-09T00:00:00\",\"2022-11-10T00:00:00\",\"2022-11-12T00:00:00\",\"2022-11-14T00:00:00\",\"2022-11-15T00:00:00\",\"2022-11-16T00:00:00\",\"2022-11-17T00:00:00\",\"2022-11-18T00:00:00\",\"2022-11-19T00:00:00\",\"2022-11-21T00:00:00\",\"2022-11-22T00:00:00\",\"2022-11-23T00:00:00\",\"2022-11-24T00:00:00\",\"2022-11-25T00:00:00\",\"2022-11-26T00:00:00\",\"2022-11-28T00:00:00\",\"2022-11-29T00:00:00\",\"2022-11-30T00:00:00\",\"2022-12-01T00:00:00\",\"2022-12-02T00:00:00\",\"2022-12-03T00:00:00\",\"2022-12-05T00:00:00\",\"2022-12-06T00:00:00\",\"2022-12-07T00:00:00\",\"2022-12-08T00:00:00\",\"2022-12-09T00:00:00\",\"2022-12-10T00:00:00\",\"2022-12-12T00:00:00\",\"2022-12-13T00:00:00\",\"2022-12-14T00:00:00\",\"2022-12-15T00:00:00\",\"2022-12-16T00:00:00\",\"2022-12-17T00:00:00\",\"2022-12-19T00:00:00\",\"2022-12-20T00:00:00\",\"2022-12-21T00:00:00\",\"2022-12-22T00:00:00\",\"2022-12-23T00:00:00\",\"2022-12-24T00:00:00\",\"2022-12-26T00:00:00\",\"2022-12-27T00:00:00\",\"2022-12-28T00:00:00\",\"2022-12-29T00:00:00\",\"2022-12-30T00:00:00\",\"2022-12-31T00:00:00\"],\"y\":[66717.72973246055,63909.213526771855,59648.343564024806,57664.833847380076,59931.051336991906,101870.5203639978,62385.51176260596,60376.83305392805,56748.69272304996,55594.135446805565,112076.06545034557,53338.46750795982,55812.46562745803,50418.27473754566,98434.30438693427,70477.19184513018,62515.90211111716,59605.34218564632,53492.00917396923,60335.63638848651,86207.15884374786,57255.31338621,57574.319187916975,55072.69835491228,58815.70034950752,96667.37256446898,66891.68466162174,61393.93721324793,57778.462573692756,55121.38942461369,59001.6055543444,96801.02440037635,66984.21387926066,61478.545877828525,57858.58093130321,55197.524551783164,59083.027327602074,92933.84944222373,64308.73155123107,59022.644374550386,55547.370004981385,52992.704386485675,56723.207841394156,85022.7517919022,59504.15192532975,49762.946109945704,45781.98329827027,44543.91850111462,49006.02393326668,80053.6,54939.36,53995.5,45738.981919891776,40023.074,46706.917792435874,76897.70000000001,54842.88,51537.0,40934.138000000006,47661.858705382794,79558.6,57297.6,51311.5,42490.34094491886,37918.776000000005,45482.767317041624,72018.44,52116.696,47162.88,38647.11,36305.332,43547.47060238527,70842.72,56265.8,46392.96,38016.3,35712.572,42836.79500921137,62413.176,49930.56,44729.46,42232.932,130029.5,61770.672,54262.56,49477.09,47141.066000000006,55026.52869345249,129172.8,64334.76,64955.84,54536.47,51232.328,61452.25973557388,108371.78,71969.568,72902.4,62486.74,50550.654,56142.90121465017,158526.0,68807.664,67241.76,56898.03,53821.796,55937.69952019731,94690.0,67428.0,66269.0,56179.0,49120.0,57324.0,96356.70000000001,68614.08,67435.0,57168.147000000004,49984.69,58332.81746301982,102945.95000000001,67609.92,66448.0,56331.456,49253.078,57479.06545903475,103129.95000000001,73437.59999999999,67175.5,56186.71,53498.62,62433.08618337151,102477.1,72972.48,66718.5,55799.395000000004,53160.016,62037.74346928801,99840.95000000001,71095.68,64874.0,56235.639,51792.608,60442.25323030819,83700.0,122369.5,62373.57,93396.986,54571.41392616827,87129.35,130567.16,73808.0,107011.048,54224.547759168825,101431.55,72925.44,89377.5,94153.158,64551.78400000001,73651.11825961922,123021.62000000001,73439.0,73578.23999999999,62106.488999999994,54737.502,64327.926505431795,161687.0,79465.92,78236.16,66038.12899999999,57431.396,67500.02432023385,102602.0,68159.58,67104.48,56642.028999999995,49260.162000000004,57896.30553471792,127238.0,69614.575,68447.115,57965.376,50616.626000000004,59171.04536515723,80000.0,77948.45,76588.38,69316.352,56404.259000000005,69863.67648837071,95488.0,71459.26999999999,71916.31999999999,60346.34599999999,52203.888,62750.13142604998]},{\"line\":{\"color\":\"#00FF00\"},\"name\":\"Dry Actuals\",\"showlegend\":true,\"type\":\"scatter\",\"x\":[\"2022-05-10T00:00:00\",\"2022-05-11T00:00:00\",\"2022-05-12T00:00:00\",\"2022-05-13T00:00:00\",\"2022-05-14T00:00:00\",\"2022-05-16T00:00:00\",\"2022-05-17T00:00:00\",\"2022-05-18T00:00:00\",\"2022-05-19T00:00:00\",\"2022-05-20T00:00:00\",\"2022-05-23T00:00:00\",\"2022-05-24T00:00:00\",\"2022-05-25T00:00:00\",\"2022-05-27T00:00:00\",\"2022-05-30T00:00:00\",\"2022-05-31T00:00:00\",\"2022-06-01T00:00:00\",\"2022-06-02T00:00:00\",\"2022-06-03T00:00:00\",\"2022-06-04T00:00:00\",\"2022-06-07T00:00:00\",\"2022-06-08T00:00:00\",\"2022-06-09T00:00:00\",\"2022-06-10T00:00:00\",\"2022-06-11T00:00:00\",\"2022-06-13T00:00:00\",\"2022-06-14T00:00:00\",\"2022-06-15T00:00:00\",\"2022-06-16T00:00:00\",\"2022-06-17T00:00:00\",\"2022-06-18T00:00:00\",\"2022-06-20T00:00:00\",\"2022-06-21T00:00:00\",\"2022-06-22T00:00:00\",\"2022-06-23T00:00:00\",\"2022-06-24T00:00:00\",\"2022-06-25T00:00:00\",\"2022-06-27T00:00:00\",\"2022-06-28T00:00:00\",\"2022-06-29T00:00:00\",\"2022-06-30T00:00:00\",\"2022-07-01T00:00:00\",\"2022-07-02T00:00:00\",\"2022-07-04T00:00:00\",\"2022-07-05T00:00:00\",\"2022-07-06T00:00:00\",\"2022-07-07T00:00:00\",\"2022-07-08T00:00:00\",\"2022-07-09T00:00:00\",\"2022-07-11T00:00:00\",\"2022-07-12T00:00:00\",\"2022-07-13T00:00:00\",\"2022-07-14T00:00:00\",\"2022-07-15T00:00:00\",\"2022-07-16T00:00:00\",\"2022-07-18T00:00:00\",\"2022-07-19T00:00:00\",\"2022-07-20T00:00:00\",\"2022-07-22T00:00:00\",\"2022-07-23T00:00:00\",\"2022-07-25T00:00:00\",\"2022-07-26T00:00:00\",\"2022-07-27T00:00:00\",\"2022-07-28T00:00:00\",\"2022-07-29T00:00:00\",\"2022-07-30T00:00:00\",\"2022-08-01T00:00:00\",\"2022-08-02T00:00:00\",\"2022-08-03T00:00:00\",\"2022-08-04T00:00:00\",\"2022-08-05T00:00:00\",\"2022-08-06T00:00:00\",\"2022-08-08T00:00:00\",\"2022-08-09T00:00:00\",\"2022-08-10T00:00:00\",\"2022-08-11T00:00:00\",\"2022-08-12T00:00:00\",\"2022-08-13T00:00:00\",\"2022-08-16T00:00:00\",\"2022-08-17T00:00:00\",\"2022-08-18T00:00:00\",\"2022-08-19T00:00:00\",\"2022-08-22T00:00:00\",\"2022-08-23T00:00:00\",\"2022-08-24T00:00:00\",\"2022-08-25T00:00:00\",\"2022-08-26T00:00:00\",\"2022-08-27T00:00:00\",\"2022-08-29T00:00:00\",\"2022-08-30T00:00:00\",\"2022-08-31T00:00:00\",\"2022-09-01T00:00:00\",\"2022-09-02T00:00:00\",\"2022-09-03T00:00:00\",\"2022-09-05T00:00:00\",\"2022-09-06T00:00:00\",\"2022-09-07T00:00:00\",\"2022-09-08T00:00:00\",\"2022-09-09T00:00:00\",\"2022-09-10T00:00:00\",\"2022-09-12T00:00:00\",\"2022-09-13T00:00:00\",\"2022-09-14T00:00:00\",\"2022-09-15T00:00:00\",\"2022-09-16T00:00:00\",\"2022-09-17T00:00:00\",\"2022-09-19T00:00:00\",\"2022-09-20T00:00:00\",\"2022-09-21T00:00:00\",\"2022-09-22T00:00:00\",\"2022-09-23T00:00:00\",\"2022-09-24T00:00:00\",\"2022-09-26T00:00:00\",\"2022-09-27T00:00:00\",\"2022-09-28T00:00:00\",\"2022-09-29T00:00:00\",\"2022-09-30T00:00:00\",\"2022-10-01T00:00:00\",\"2022-10-03T00:00:00\",\"2022-10-04T00:00:00\",\"2022-10-05T00:00:00\",\"2022-10-06T00:00:00\",\"2022-10-07T00:00:00\",\"2022-10-08T00:00:00\",\"2022-10-10T00:00:00\",\"2022-10-11T00:00:00\",\"2022-10-12T00:00:00\",\"2022-10-13T00:00:00\",\"2022-10-14T00:00:00\",\"2022-10-15T00:00:00\",\"2022-10-17T00:00:00\",\"2022-10-18T00:00:00\",\"2022-10-19T00:00:00\",\"2022-10-20T00:00:00\",\"2022-10-21T00:00:00\",\"2022-10-22T00:00:00\",\"2022-10-24T00:00:00\",\"2022-10-25T00:00:00\",\"2022-10-26T00:00:00\",\"2022-10-27T00:00:00\",\"2022-10-28T00:00:00\",\"2022-10-29T00:00:00\",\"2022-10-31T00:00:00\",\"2022-11-02T00:00:00\",\"2022-11-03T00:00:00\",\"2022-11-04T00:00:00\",\"2022-11-05T00:00:00\",\"2022-11-07T00:00:00\",\"2022-11-08T00:00:00\",\"2022-11-09T00:00:00\",\"2022-11-10T00:00:00\",\"2022-11-12T00:00:00\",\"2022-11-14T00:00:00\",\"2022-11-15T00:00:00\",\"2022-11-16T00:00:00\",\"2022-11-17T00:00:00\",\"2022-11-18T00:00:00\",\"2022-11-19T00:00:00\",\"2022-11-21T00:00:00\",\"2022-11-22T00:00:00\",\"2022-11-23T00:00:00\",\"2022-11-24T00:00:00\",\"2022-11-25T00:00:00\",\"2022-11-26T00:00:00\",\"2022-11-28T00:00:00\",\"2022-11-29T00:00:00\",\"2022-11-30T00:00:00\",\"2022-12-01T00:00:00\",\"2022-12-02T00:00:00\",\"2022-12-03T00:00:00\",\"2022-12-05T00:00:00\",\"2022-12-06T00:00:00\",\"2022-12-07T00:00:00\",\"2022-12-08T00:00:00\",\"2022-12-09T00:00:00\",\"2022-12-10T00:00:00\",\"2022-12-12T00:00:00\",\"2022-12-13T00:00:00\",\"2022-12-14T00:00:00\",\"2022-12-15T00:00:00\",\"2022-12-16T00:00:00\",\"2022-12-17T00:00:00\",\"2022-12-19T00:00:00\",\"2022-12-20T00:00:00\",\"2022-12-21T00:00:00\",\"2022-12-22T00:00:00\",\"2022-12-23T00:00:00\",\"2022-12-24T00:00:00\",\"2022-12-26T00:00:00\",\"2022-12-27T00:00:00\",\"2022-12-28T00:00:00\",\"2022-12-29T00:00:00\",\"2022-12-30T00:00:00\",\"2022-12-31T00:00:00\"],\"y\":[66459.0,49313.0,43377.0,46556.0,77061.0,102662.0,63737.0,45119.0,46023.0,48034.0,94552.0,50036.0,49300.0,49522.0,119781.0,61844.0,58887.0,51984.0,62209.0,68509.0,106319.0,53805.0,58254.0,56166.0,61616.0,99560.0,67555.0,62152.0,47822.0,63600.0,66165.0,100734.0,67123.0,44627.0,64461.0,64756.0,50232.0,92649.0,78220.0,54586.0,53490.0,48779.0,55891.0,82020.0,68366.0,40040.0,41510.0,45230.0,46018.0,72446.0,57417.0,46396.0,44223.0,41982.0,20444.0,67408.0,51655.0,53350.0,45843.0,45485.0,78763.0,52702.0,42004.0,32949.0,45028.0,41383.0,76669.0,55647.0,49693.0,36827.0,47440.0,49884.0,70855.0,56805.0,47403.0,38883.0,39481.0,49016.0,61049.0,59310.0,49368.0,61442.0,136882.0,61580.0,50038.0,48455.0,49353.0,56956.0,131672.0,76713.0,65449.0,49272.0,57084.0,59431.0,103097.0,73147.0,67905.0,56859.0,57735.0,54993.0,164456.0,65782.0,59572.0,41459.0,51658.0,61369.0,89514.0,70307.0,61766.0,41772.0,49116.0,48730.0,94115.0,63565.0,71881.0,50620.0,53125.0,66394.0,106538.0,72374.0,67128.0,59796.0,55493.0,58173.0,103076.0,74521.0,60987.0,53184.0,54679.0,63320.0,97073.0,70464.0,62003.0,50744.0,48111.0,56447.0,89090.0,55399.0,61348.0,52311.0,49238.0,52733.0,86280.0,122036.0,60848.0,94252.0,69661.0,97285.0,189772.0,21742.0,94385.0,41452.0,97817.0,69017.0,90926.0,84224.0,56027.0,63773.0,112319.0,66169.0,68042.0,50627.0,49605.0,68685.0,158821.0,70831.0,76542.0,67017.0,64654.0,64759.0,94568.0,76287.0,63301.0,54256.0,52050.0,58807.0,123475.0,68514.0,65979.0,56286.0,50336.0,39622.0,76525.0,75921.0,58697.0,62334.0,55510.0,37575.0,90911.0,63764.0,47680.0,39552.0,61119.0,46818.0]},{\"line\":{\"color\":\"#000099\",\"dash\":\"dash\",\"width\":0.5},\"mode\":\"lines\",\"name\":\"Outside_range_Dry_WOW\",\"showlegend\":true,\"type\":\"scatter\",\"x\":[\"2022-05-11T00:00:00\",\"2022-05-11T00:00:00\"],\"y\":[20444.0,189772.0]},{\"line\":{\"color\":\"#000099\",\"dash\":\"dash\",\"width\":0.5},\"mode\":\"lines\",\"name\":\"Outside_range_Dry_WOW\",\"showlegend\":false,\"type\":\"scatter\",\"x\":[\"2022-05-12T00:00:00\",\"2022-05-12T00:00:00\"],\"y\":[20444.0,189772.0]},{\"line\":{\"color\":\"#000099\",\"dash\":\"dash\",\"width\":0.5},\"mode\":\"lines\",\"name\":\"Outside_range_Dry_WOW\",\"showlegend\":false,\"type\":\"scatter\",\"x\":[\"2022-05-13T00:00:00\",\"2022-05-13T00:00:00\"],\"y\":[20444.0,189772.0]},{\"line\":{\"color\":\"#000099\",\"dash\":\"dash\",\"width\":0.5},\"mode\":\"lines\",\"name\":\"Outside_range_Dry_WOW\",\"showlegend\":false,\"type\":\"scatter\",\"x\":[\"2022-05-14T00:00:00\",\"2022-05-14T00:00:00\"],\"y\":[20444.0,189772.0]},{\"line\":{\"color\":\"#000099\",\"dash\":\"dash\",\"width\":0.5},\"mode\":\"lines\",\"name\":\"Outside_range_Dry_WOW\",\"showlegend\":false,\"type\":\"scatter\",\"x\":[\"2022-05-18T00:00:00\",\"2022-05-18T00:00:00\"],\"y\":[20444.0,189772.0]},{\"line\":{\"color\":\"#000099\",\"dash\":\"dash\",\"width\":0.5},\"mode\":\"lines\",\"name\":\"Outside_range_Dry_WOW\",\"showlegend\":false,\"type\":\"scatter\",\"x\":[\"2022-05-19T00:00:00\",\"2022-05-19T00:00:00\"],\"y\":[20444.0,189772.0]},{\"line\":{\"color\":\"#000099\",\"dash\":\"dash\",\"width\":0.5},\"mode\":\"lines\",\"name\":\"Outside_range_Dry_WOW\",\"showlegend\":false,\"type\":\"scatter\",\"x\":[\"2022-05-20T00:00:00\",\"2022-05-20T00:00:00\"],\"y\":[20444.0,189772.0]},{\"line\":{\"color\":\"#000099\",\"dash\":\"dash\",\"width\":0.5},\"mode\":\"lines\",\"name\":\"Outside_range_Dry_WOW\",\"showlegend\":false,\"type\":\"scatter\",\"x\":[\"2022-05-23T00:00:00\",\"2022-05-23T00:00:00\"],\"y\":[20444.0,189772.0]},{\"line\":{\"color\":\"#000099\",\"dash\":\"dash\",\"width\":0.5},\"mode\":\"lines\",\"name\":\"Outside_range_Dry_WOW\",\"showlegend\":false,\"type\":\"scatter\",\"x\":[\"2022-05-25T00:00:00\",\"2022-05-25T00:00:00\"],\"y\":[20444.0,189772.0]},{\"line\":{\"color\":\"#000099\",\"dash\":\"dash\",\"width\":0.5},\"mode\":\"lines\",\"name\":\"Outside_range_Dry_WOW\",\"showlegend\":false,\"type\":\"scatter\",\"x\":[\"2022-05-30T00:00:00\",\"2022-05-30T00:00:00\"],\"y\":[20444.0,189772.0]},{\"line\":{\"color\":\"#000099\",\"dash\":\"dash\",\"width\":0.5},\"mode\":\"lines\",\"name\":\"Outside_range_Dry_WOW\",\"showlegend\":false,\"type\":\"scatter\",\"x\":[\"2022-05-31T00:00:00\",\"2022-05-31T00:00:00\"],\"y\":[20444.0,189772.0]},{\"line\":{\"color\":\"#000099\",\"dash\":\"dash\",\"width\":0.5},\"mode\":\"lines\",\"name\":\"Outside_range_Dry_WOW\",\"showlegend\":false,\"type\":\"scatter\",\"x\":[\"2022-06-02T00:00:00\",\"2022-06-02T00:00:00\"],\"y\":[20444.0,189772.0]},{\"line\":{\"color\":\"#000099\",\"dash\":\"dash\",\"width\":0.5},\"mode\":\"lines\",\"name\":\"Outside_range_Dry_WOW\",\"showlegend\":false,\"type\":\"scatter\",\"x\":[\"2022-06-03T00:00:00\",\"2022-06-03T00:00:00\"],\"y\":[20444.0,189772.0]},{\"line\":{\"color\":\"#000099\",\"dash\":\"dash\",\"width\":0.5},\"mode\":\"lines\",\"name\":\"Outside_range_Dry_WOW\",\"showlegend\":false,\"type\":\"scatter\",\"x\":[\"2022-06-04T00:00:00\",\"2022-06-04T00:00:00\"],\"y\":[20444.0,189772.0]},{\"line\":{\"color\":\"#000099\",\"dash\":\"dash\",\"width\":0.5},\"mode\":\"lines\",\"name\":\"Outside_range_Dry_WOW\",\"showlegend\":false,\"type\":\"scatter\",\"x\":[\"2022-06-07T00:00:00\",\"2022-06-07T00:00:00\"],\"y\":[20444.0,189772.0]},{\"line\":{\"color\":\"#000099\",\"dash\":\"dash\",\"width\":0.5},\"mode\":\"lines\",\"name\":\"Outside_range_Dry_WOW\",\"showlegend\":false,\"type\":\"scatter\",\"x\":[\"2022-06-16T00:00:00\",\"2022-06-16T00:00:00\"],\"y\":[20444.0,189772.0]},{\"line\":{\"color\":\"#000099\",\"dash\":\"dash\",\"width\":0.5},\"mode\":\"lines\",\"name\":\"Outside_range_Dry_WOW\",\"showlegend\":false,\"type\":\"scatter\",\"x\":[\"2022-06-17T00:00:00\",\"2022-06-17T00:00:00\"],\"y\":[20444.0,189772.0]},{\"line\":{\"color\":\"#000099\",\"dash\":\"dash\",\"width\":0.5},\"mode\":\"lines\",\"name\":\"Outside_range_Dry_WOW\",\"showlegend\":false,\"type\":\"scatter\",\"x\":[\"2022-06-18T00:00:00\",\"2022-06-18T00:00:00\"],\"y\":[20444.0,189772.0]},{\"line\":{\"color\":\"#000099\",\"dash\":\"dash\",\"width\":0.5},\"mode\":\"lines\",\"name\":\"Outside_range_Dry_WOW\",\"showlegend\":false,\"type\":\"scatter\",\"x\":[\"2022-06-22T00:00:00\",\"2022-06-22T00:00:00\"],\"y\":[20444.0,189772.0]},{\"line\":{\"color\":\"#000099\",\"dash\":\"dash\",\"width\":0.5},\"mode\":\"lines\",\"name\":\"Outside_range_Dry_WOW\",\"showlegend\":false,\"type\":\"scatter\",\"x\":[\"2022-06-23T00:00:00\",\"2022-06-23T00:00:00\"],\"y\":[20444.0,189772.0]},{\"line\":{\"color\":\"#000099\",\"dash\":\"dash\",\"width\":0.5},\"mode\":\"lines\",\"name\":\"Outside_range_Dry_WOW\",\"showlegend\":false,\"type\":\"scatter\",\"x\":[\"2022-06-24T00:00:00\",\"2022-06-24T00:00:00\"],\"y\":[20444.0,189772.0]},{\"line\":{\"color\":\"#000099\",\"dash\":\"dash\",\"width\":0.5},\"mode\":\"lines\",\"name\":\"Outside_range_Dry_WOW\",\"showlegend\":false,\"type\":\"scatter\",\"x\":[\"2022-06-25T00:00:00\",\"2022-06-25T00:00:00\"],\"y\":[20444.0,189772.0]},{\"line\":{\"color\":\"#000099\",\"dash\":\"dash\",\"width\":0.5},\"mode\":\"lines\",\"name\":\"Outside_range_Dry_WOW\",\"showlegend\":false,\"type\":\"scatter\",\"x\":[\"2022-06-28T00:00:00\",\"2022-06-28T00:00:00\"],\"y\":[20444.0,189772.0]},{\"line\":{\"color\":\"#000099\",\"dash\":\"dash\",\"width\":0.5},\"mode\":\"lines\",\"name\":\"Outside_range_Dry_WOW\",\"showlegend\":false,\"type\":\"scatter\",\"x\":[\"2022-07-05T00:00:00\",\"2022-07-05T00:00:00\"],\"y\":[20444.0,189772.0]},{\"line\":{\"color\":\"#000099\",\"dash\":\"dash\",\"width\":0.5},\"mode\":\"lines\",\"name\":\"Outside_range_Dry_WOW\",\"showlegend\":false,\"type\":\"scatter\",\"x\":[\"2022-07-06T00:00:00\",\"2022-07-06T00:00:00\"],\"y\":[20444.0,189772.0]},{\"line\":{\"color\":\"#000099\",\"dash\":\"dash\",\"width\":0.5},\"mode\":\"lines\",\"name\":\"Outside_range_Dry_WOW\",\"showlegend\":false,\"type\":\"scatter\",\"x\":[\"2022-07-07T00:00:00\",\"2022-07-07T00:00:00\"],\"y\":[20444.0,189772.0]},{\"line\":{\"color\":\"#000099\",\"dash\":\"dash\",\"width\":0.5},\"mode\":\"lines\",\"name\":\"Outside_range_Dry_WOW\",\"showlegend\":false,\"type\":\"scatter\",\"x\":[\"2022-07-11T00:00:00\",\"2022-07-11T00:00:00\"],\"y\":[20444.0,189772.0]},{\"line\":{\"color\":\"#000099\",\"dash\":\"dash\",\"width\":0.5},\"mode\":\"lines\",\"name\":\"Outside_range_Dry_WOW\",\"showlegend\":false,\"type\":\"scatter\",\"x\":[\"2022-07-13T00:00:00\",\"2022-07-13T00:00:00\"],\"y\":[20444.0,189772.0]},{\"line\":{\"color\":\"#000099\",\"dash\":\"dash\",\"width\":0.5},\"mode\":\"lines\",\"name\":\"Outside_range_Dry_WOW\",\"showlegend\":false,\"type\":\"scatter\",\"x\":[\"2022-07-16T00:00:00\",\"2022-07-16T00:00:00\"],\"y\":[20444.0,189772.0]},{\"line\":{\"color\":\"#000099\",\"dash\":\"dash\",\"width\":0.5},\"mode\":\"lines\",\"name\":\"Outside_range_Dry_WOW\",\"showlegend\":false,\"type\":\"scatter\",\"x\":[\"2022-07-18T00:00:00\",\"2022-07-18T00:00:00\"],\"y\":[20444.0,189772.0]},{\"line\":{\"color\":\"#000099\",\"dash\":\"dash\",\"width\":0.5},\"mode\":\"lines\",\"name\":\"Outside_range_Dry_WOW\",\"showlegend\":false,\"type\":\"scatter\",\"x\":[\"2022-07-22T00:00:00\",\"2022-07-22T00:00:00\"],\"y\":[20444.0,189772.0]},{\"line\":{\"color\":\"#000099\",\"dash\":\"dash\",\"width\":0.5},\"mode\":\"lines\",\"name\":\"Outside_range_Dry_WOW\",\"showlegend\":false,\"type\":\"scatter\",\"x\":[\"2022-07-27T00:00:00\",\"2022-07-27T00:00:00\"],\"y\":[20444.0,189772.0]},{\"line\":{\"color\":\"#000099\",\"dash\":\"dash\",\"width\":0.5},\"mode\":\"lines\",\"name\":\"Outside_range_Dry_WOW\",\"showlegend\":false,\"type\":\"scatter\",\"x\":[\"2022-07-28T00:00:00\",\"2022-07-28T00:00:00\"],\"y\":[20444.0,189772.0]},{\"line\":{\"color\":\"#000099\",\"dash\":\"dash\",\"width\":0.5},\"mode\":\"lines\",\"name\":\"Outside_range_Dry_WOW\",\"showlegend\":false,\"type\":\"scatter\",\"x\":[\"2022-07-29T00:00:00\",\"2022-07-29T00:00:00\"],\"y\":[20444.0,189772.0]},{\"line\":{\"color\":\"#000099\",\"dash\":\"dash\",\"width\":0.5},\"mode\":\"lines\",\"name\":\"Outside_range_Dry_WOW\",\"showlegend\":false,\"type\":\"scatter\",\"x\":[\"2022-08-05T00:00:00\",\"2022-08-05T00:00:00\"],\"y\":[20444.0,189772.0]},{\"line\":{\"color\":\"#000099\",\"dash\":\"dash\",\"width\":0.5},\"mode\":\"lines\",\"name\":\"Outside_range_Dry_WOW\",\"showlegend\":false,\"type\":\"scatter\",\"x\":[\"2022-08-06T00:00:00\",\"2022-08-06T00:00:00\"],\"y\":[20444.0,189772.0]},{\"line\":{\"color\":\"#000099\",\"dash\":\"dash\",\"width\":0.5},\"mode\":\"lines\",\"name\":\"Outside_range_Dry_WOW\",\"showlegend\":false,\"type\":\"scatter\",\"x\":[\"2022-08-13T00:00:00\",\"2022-08-13T00:00:00\"],\"y\":[20444.0,189772.0]},{\"line\":{\"color\":\"#000099\",\"dash\":\"dash\",\"width\":0.5},\"mode\":\"lines\",\"name\":\"Outside_range_Dry_WOW\",\"showlegend\":false,\"type\":\"scatter\",\"x\":[\"2022-08-17T00:00:00\",\"2022-08-17T00:00:00\"],\"y\":[20444.0,189772.0]},{\"line\":{\"color\":\"#000099\",\"dash\":\"dash\",\"width\":0.5},\"mode\":\"lines\",\"name\":\"Outside_range_Dry_WOW\",\"showlegend\":false,\"type\":\"scatter\",\"x\":[\"2022-08-19T00:00:00\",\"2022-08-19T00:00:00\"],\"y\":[20444.0,189772.0]},{\"line\":{\"color\":\"#000099\",\"dash\":\"dash\",\"width\":0.5},\"mode\":\"lines\",\"name\":\"Outside_range_Dry_WOW\",\"showlegend\":false,\"type\":\"scatter\",\"x\":[\"2022-08-30T00:00:00\",\"2022-08-30T00:00:00\"],\"y\":[20444.0,189772.0]},{\"line\":{\"color\":\"#000099\",\"dash\":\"dash\",\"width\":0.5},\"mode\":\"lines\",\"name\":\"Outside_range_Dry_WOW\",\"showlegend\":false,\"type\":\"scatter\",\"x\":[\"2022-09-01T00:00:00\",\"2022-09-01T00:00:00\"],\"y\":[20444.0,189772.0]},{\"line\":{\"color\":\"#000099\",\"dash\":\"dash\",\"width\":0.5},\"mode\":\"lines\",\"name\":\"Outside_range_Dry_WOW\",\"showlegend\":false,\"type\":\"scatter\",\"x\":[\"2022-09-02T00:00:00\",\"2022-09-02T00:00:00\"],\"y\":[20444.0,189772.0]},{\"line\":{\"color\":\"#000099\",\"dash\":\"dash\",\"width\":0.5},\"mode\":\"lines\",\"name\":\"Outside_range_Dry_WOW\",\"showlegend\":false,\"type\":\"scatter\",\"x\":[\"2022-09-09T00:00:00\",\"2022-09-09T00:00:00\"],\"y\":[20444.0,189772.0]},{\"line\":{\"color\":\"#000099\",\"dash\":\"dash\",\"width\":0.5},\"mode\":\"lines\",\"name\":\"Outside_range_Dry_WOW\",\"showlegend\":false,\"type\":\"scatter\",\"x\":[\"2022-09-14T00:00:00\",\"2022-09-14T00:00:00\"],\"y\":[20444.0,189772.0]},{\"line\":{\"color\":\"#000099\",\"dash\":\"dash\",\"width\":0.5},\"mode\":\"lines\",\"name\":\"Outside_range_Dry_WOW\",\"showlegend\":false,\"type\":\"scatter\",\"x\":[\"2022-09-15T00:00:00\",\"2022-09-15T00:00:00\"],\"y\":[20444.0,189772.0]},{\"line\":{\"color\":\"#000099\",\"dash\":\"dash\",\"width\":0.5},\"mode\":\"lines\",\"name\":\"Outside_range_Dry_WOW\",\"showlegend\":false,\"type\":\"scatter\",\"x\":[\"2022-09-22T00:00:00\",\"2022-09-22T00:00:00\"],\"y\":[20444.0,189772.0]},{\"line\":{\"color\":\"#000099\",\"dash\":\"dash\",\"width\":0.5},\"mode\":\"lines\",\"name\":\"Outside_range_Dry_WOW\",\"showlegend\":false,\"type\":\"scatter\",\"x\":[\"2022-09-24T00:00:00\",\"2022-09-24T00:00:00\"],\"y\":[20444.0,189772.0]},{\"line\":{\"color\":\"#000099\",\"dash\":\"dash\",\"width\":0.5},\"mode\":\"lines\",\"name\":\"Outside_range_Dry_WOW\",\"showlegend\":false,\"type\":\"scatter\",\"x\":[\"2022-09-29T00:00:00\",\"2022-09-29T00:00:00\"],\"y\":[20444.0,189772.0]},{\"line\":{\"color\":\"#000099\",\"dash\":\"dash\",\"width\":0.5},\"mode\":\"lines\",\"name\":\"Outside_range_Dry_WOW\",\"showlegend\":false,\"type\":\"scatter\",\"x\":[\"2022-10-01T00:00:00\",\"2022-10-01T00:00:00\"],\"y\":[20444.0,189772.0]},{\"line\":{\"color\":\"#000099\",\"dash\":\"dash\",\"width\":0.5},\"mode\":\"lines\",\"name\":\"Outside_range_Dry_WOW\",\"showlegend\":false,\"type\":\"scatter\",\"x\":[\"2022-10-07T00:00:00\",\"2022-10-07T00:00:00\"],\"y\":[20444.0,189772.0]},{\"line\":{\"color\":\"#000099\",\"dash\":\"dash\",\"width\":0.5},\"mode\":\"lines\",\"name\":\"Outside_range_Dry_WOW\",\"showlegend\":false,\"type\":\"scatter\",\"x\":[\"2022-10-12T00:00:00\",\"2022-10-12T00:00:00\"],\"y\":[20444.0,189772.0]},{\"line\":{\"color\":\"#000099\",\"dash\":\"dash\",\"width\":0.5},\"mode\":\"lines\",\"name\":\"Outside_range_Dry_WOW\",\"showlegend\":false,\"type\":\"scatter\",\"x\":[\"2022-10-21T00:00:00\",\"2022-10-21T00:00:00\"],\"y\":[20444.0,189772.0]},{\"line\":{\"color\":\"#000099\",\"dash\":\"dash\",\"width\":0.5},\"mode\":\"lines\",\"name\":\"Outside_range_Dry_WOW\",\"showlegend\":false,\"type\":\"scatter\",\"x\":[\"2022-10-24T00:00:00\",\"2022-10-24T00:00:00\"],\"y\":[20444.0,189772.0]},{\"line\":{\"color\":\"#000099\",\"dash\":\"dash\",\"width\":0.5},\"mode\":\"lines\",\"name\":\"Outside_range_Dry_WOW\",\"showlegend\":false,\"type\":\"scatter\",\"x\":[\"2022-10-25T00:00:00\",\"2022-10-25T00:00:00\"],\"y\":[20444.0,189772.0]},{\"line\":{\"color\":\"#000099\",\"dash\":\"dash\",\"width\":0.5},\"mode\":\"lines\",\"name\":\"Outside_range_Dry_WOW\",\"showlegend\":false,\"type\":\"scatter\",\"x\":[\"2022-10-29T00:00:00\",\"2022-10-29T00:00:00\"],\"y\":[20444.0,189772.0]},{\"line\":{\"color\":\"#000099\",\"dash\":\"dash\",\"width\":0.5},\"mode\":\"lines\",\"name\":\"Outside_range_Dry_WOW\",\"showlegend\":false,\"type\":\"scatter\",\"x\":[\"2022-11-05T00:00:00\",\"2022-11-05T00:00:00\"],\"y\":[20444.0,189772.0]},{\"line\":{\"color\":\"#000099\",\"dash\":\"dash\",\"width\":0.5},\"mode\":\"lines\",\"name\":\"Outside_range_Dry_WOW\",\"showlegend\":false,\"type\":\"scatter\",\"x\":[\"2022-11-07T00:00:00\",\"2022-11-07T00:00:00\"],\"y\":[20444.0,189772.0]},{\"line\":{\"color\":\"#000099\",\"dash\":\"dash\",\"width\":0.5},\"mode\":\"lines\",\"name\":\"Outside_range_Dry_WOW\",\"showlegend\":false,\"type\":\"scatter\",\"x\":[\"2022-11-08T00:00:00\",\"2022-11-08T00:00:00\"],\"y\":[20444.0,189772.0]},{\"line\":{\"color\":\"#000099\",\"dash\":\"dash\",\"width\":0.5},\"mode\":\"lines\",\"name\":\"Outside_range_Dry_WOW\",\"showlegend\":false,\"type\":\"scatter\",\"x\":[\"2022-11-09T00:00:00\",\"2022-11-09T00:00:00\"],\"y\":[20444.0,189772.0]},{\"line\":{\"color\":\"#000099\",\"dash\":\"dash\",\"width\":0.5},\"mode\":\"lines\",\"name\":\"Outside_range_Dry_WOW\",\"showlegend\":false,\"type\":\"scatter\",\"x\":[\"2022-11-10T00:00:00\",\"2022-11-10T00:00:00\"],\"y\":[20444.0,189772.0]},{\"line\":{\"color\":\"#000099\",\"dash\":\"dash\",\"width\":0.5},\"mode\":\"lines\",\"name\":\"Outside_range_Dry_WOW\",\"showlegend\":false,\"type\":\"scatter\",\"x\":[\"2022-11-12T00:00:00\",\"2022-11-12T00:00:00\"],\"y\":[20444.0,189772.0]},{\"line\":{\"color\":\"#000099\",\"dash\":\"dash\",\"width\":0.5},\"mode\":\"lines\",\"name\":\"Outside_range_Dry_WOW\",\"showlegend\":false,\"type\":\"scatter\",\"x\":[\"2022-11-17T00:00:00\",\"2022-11-17T00:00:00\"],\"y\":[20444.0,189772.0]},{\"line\":{\"color\":\"#000099\",\"dash\":\"dash\",\"width\":0.5},\"mode\":\"lines\",\"name\":\"Outside_range_Dry_WOW\",\"showlegend\":false,\"type\":\"scatter\",\"x\":[\"2022-11-18T00:00:00\",\"2022-11-18T00:00:00\"],\"y\":[20444.0,189772.0]},{\"line\":{\"color\":\"#000099\",\"dash\":\"dash\",\"width\":0.5},\"mode\":\"lines\",\"name\":\"Outside_range_Dry_WOW\",\"showlegend\":false,\"type\":\"scatter\",\"x\":[\"2022-11-19T00:00:00\",\"2022-11-19T00:00:00\"],\"y\":[20444.0,189772.0]},{\"line\":{\"color\":\"#000099\",\"dash\":\"dash\",\"width\":0.5},\"mode\":\"lines\",\"name\":\"Outside_range_Dry_WOW\",\"showlegend\":false,\"type\":\"scatter\",\"x\":[\"2022-11-22T00:00:00\",\"2022-11-22T00:00:00\"],\"y\":[20444.0,189772.0]},{\"line\":{\"color\":\"#000099\",\"dash\":\"dash\",\"width\":0.5},\"mode\":\"lines\",\"name\":\"Outside_range_Dry_WOW\",\"showlegend\":false,\"type\":\"scatter\",\"x\":[\"2022-11-24T00:00:00\",\"2022-11-24T00:00:00\"],\"y\":[20444.0,189772.0]},{\"line\":{\"color\":\"#000099\",\"dash\":\"dash\",\"width\":0.5},\"mode\":\"lines\",\"name\":\"Outside_range_Dry_WOW\",\"showlegend\":false,\"type\":\"scatter\",\"x\":[\"2022-11-25T00:00:00\",\"2022-11-25T00:00:00\"],\"y\":[20444.0,189772.0]},{\"line\":{\"color\":\"#000099\",\"dash\":\"dash\",\"width\":0.5},\"mode\":\"lines\",\"name\":\"Outside_range_Dry_WOW\",\"showlegend\":false,\"type\":\"scatter\",\"x\":[\"2022-11-29T00:00:00\",\"2022-11-29T00:00:00\"],\"y\":[20444.0,189772.0]},{\"line\":{\"color\":\"#000099\",\"dash\":\"dash\",\"width\":0.5},\"mode\":\"lines\",\"name\":\"Outside_range_Dry_WOW\",\"showlegend\":false,\"type\":\"scatter\",\"x\":[\"2022-12-02T00:00:00\",\"2022-12-02T00:00:00\"],\"y\":[20444.0,189772.0]},{\"line\":{\"color\":\"#000099\",\"dash\":\"dash\",\"width\":0.5},\"mode\":\"lines\",\"name\":\"Outside_range_Dry_WOW\",\"showlegend\":false,\"type\":\"scatter\",\"x\":[\"2022-12-06T00:00:00\",\"2022-12-06T00:00:00\"],\"y\":[20444.0,189772.0]},{\"line\":{\"color\":\"#000099\",\"dash\":\"dash\",\"width\":0.5},\"mode\":\"lines\",\"name\":\"Outside_range_Dry_WOW\",\"showlegend\":false,\"type\":\"scatter\",\"x\":[\"2022-12-17T00:00:00\",\"2022-12-17T00:00:00\"],\"y\":[20444.0,189772.0]},{\"line\":{\"color\":\"#000099\",\"dash\":\"dash\",\"width\":0.5},\"mode\":\"lines\",\"name\":\"Outside_range_Dry_WOW\",\"showlegend\":false,\"type\":\"scatter\",\"x\":[\"2022-12-21T00:00:00\",\"2022-12-21T00:00:00\"],\"y\":[20444.0,189772.0]},{\"line\":{\"color\":\"#000099\",\"dash\":\"dash\",\"width\":0.5},\"mode\":\"lines\",\"name\":\"Outside_range_Dry_WOW\",\"showlegend\":false,\"type\":\"scatter\",\"x\":[\"2022-12-22T00:00:00\",\"2022-12-22T00:00:00\"],\"y\":[20444.0,189772.0]},{\"line\":{\"color\":\"#000099\",\"dash\":\"dash\",\"width\":0.5},\"mode\":\"lines\",\"name\":\"Outside_range_Dry_WOW\",\"showlegend\":false,\"type\":\"scatter\",\"x\":[\"2022-12-24T00:00:00\",\"2022-12-24T00:00:00\"],\"y\":[20444.0,189772.0]},{\"line\":{\"color\":\"#000099\",\"dash\":\"dash\",\"width\":0.5},\"mode\":\"lines\",\"name\":\"Outside_range_Dry_WOW\",\"showlegend\":false,\"type\":\"scatter\",\"x\":[\"2022-12-27T00:00:00\",\"2022-12-27T00:00:00\"],\"y\":[20444.0,189772.0]},{\"line\":{\"color\":\"#000099\",\"dash\":\"dash\",\"width\":0.5},\"mode\":\"lines\",\"name\":\"Outside_range_Dry_WOW\",\"showlegend\":false,\"type\":\"scatter\",\"x\":[\"2022-12-28T00:00:00\",\"2022-12-28T00:00:00\"],\"y\":[20444.0,189772.0]},{\"line\":{\"color\":\"#000099\",\"dash\":\"dash\",\"width\":0.5},\"mode\":\"lines\",\"name\":\"Outside_range_Dry_WOW\",\"showlegend\":false,\"type\":\"scatter\",\"x\":[\"2022-12-29T00:00:00\",\"2022-12-29T00:00:00\"],\"y\":[20444.0,189772.0]},{\"line\":{\"color\":\"#000099\",\"dash\":\"dash\",\"width\":0.5},\"mode\":\"lines\",\"name\":\"Outside_range_Dry_WOW\",\"showlegend\":false,\"type\":\"scatter\",\"x\":[\"2022-12-30T00:00:00\",\"2022-12-30T00:00:00\"],\"y\":[20444.0,189772.0]},{\"line\":{\"color\":\"#000099\",\"dash\":\"dash\",\"width\":0.5},\"mode\":\"lines\",\"name\":\"Outside_range_Dry_WOW\",\"showlegend\":false,\"type\":\"scatter\",\"x\":[\"2022-12-31T00:00:00\",\"2022-12-31T00:00:00\"],\"y\":[20444.0,189772.0]},{\"line\":{\"color\":\"#990000\",\"dash\":\"dash\",\"width\":0.5},\"mode\":\"lines\",\"name\":\"Outside_range_Dry_PROPHET\",\"showlegend\":true,\"type\":\"scatter\",\"x\":[\"2022-05-10T00:00:00\",\"2022-05-10T00:00:00\"],\"y\":[20444.0,189772.0]},{\"line\":{\"color\":\"#990000\",\"dash\":\"dash\",\"width\":0.5},\"mode\":\"lines\",\"name\":\"Outside_range_Dry_PROPHET\",\"showlegend\":false,\"type\":\"scatter\",\"x\":[\"2022-05-11T00:00:00\",\"2022-05-11T00:00:00\"],\"y\":[20444.0,189772.0]},{\"line\":{\"color\":\"#990000\",\"dash\":\"dash\",\"width\":0.5},\"mode\":\"lines\",\"name\":\"Outside_range_Dry_PROPHET\",\"showlegend\":false,\"type\":\"scatter\",\"x\":[\"2022-05-12T00:00:00\",\"2022-05-12T00:00:00\"],\"y\":[20444.0,189772.0]},{\"line\":{\"color\":\"#990000\",\"dash\":\"dash\",\"width\":0.5},\"mode\":\"lines\",\"name\":\"Outside_range_Dry_PROPHET\",\"showlegend\":false,\"type\":\"scatter\",\"x\":[\"2022-05-13T00:00:00\",\"2022-05-13T00:00:00\"],\"y\":[20444.0,189772.0]},{\"line\":{\"color\":\"#990000\",\"dash\":\"dash\",\"width\":0.5},\"mode\":\"lines\",\"name\":\"Outside_range_Dry_PROPHET\",\"showlegend\":false,\"type\":\"scatter\",\"x\":[\"2022-05-14T00:00:00\",\"2022-05-14T00:00:00\"],\"y\":[20444.0,189772.0]},{\"line\":{\"color\":\"#990000\",\"dash\":\"dash\",\"width\":0.5},\"mode\":\"lines\",\"name\":\"Outside_range_Dry_PROPHET\",\"showlegend\":false,\"type\":\"scatter\",\"x\":[\"2022-05-17T00:00:00\",\"2022-05-17T00:00:00\"],\"y\":[20444.0,189772.0]},{\"line\":{\"color\":\"#990000\",\"dash\":\"dash\",\"width\":0.5},\"mode\":\"lines\",\"name\":\"Outside_range_Dry_PROPHET\",\"showlegend\":false,\"type\":\"scatter\",\"x\":[\"2022-05-18T00:00:00\",\"2022-05-18T00:00:00\"],\"y\":[20444.0,189772.0]},{\"line\":{\"color\":\"#990000\",\"dash\":\"dash\",\"width\":0.5},\"mode\":\"lines\",\"name\":\"Outside_range_Dry_PROPHET\",\"showlegend\":false,\"type\":\"scatter\",\"x\":[\"2022-05-20T00:00:00\",\"2022-05-20T00:00:00\"],\"y\":[20444.0,189772.0]},{\"line\":{\"color\":\"#990000\",\"dash\":\"dash\",\"width\":0.5},\"mode\":\"lines\",\"name\":\"Outside_range_Dry_PROPHET\",\"showlegend\":false,\"type\":\"scatter\",\"x\":[\"2022-05-23T00:00:00\",\"2022-05-23T00:00:00\"],\"y\":[20444.0,189772.0]},{\"line\":{\"color\":\"#990000\",\"dash\":\"dash\",\"width\":0.5},\"mode\":\"lines\",\"name\":\"Outside_range_Dry_PROPHET\",\"showlegend\":false,\"type\":\"scatter\",\"x\":[\"2022-05-24T00:00:00\",\"2022-05-24T00:00:00\"],\"y\":[20444.0,189772.0]},{\"line\":{\"color\":\"#990000\",\"dash\":\"dash\",\"width\":0.5},\"mode\":\"lines\",\"name\":\"Outside_range_Dry_PROPHET\",\"showlegend\":false,\"type\":\"scatter\",\"x\":[\"2022-05-25T00:00:00\",\"2022-05-25T00:00:00\"],\"y\":[20444.0,189772.0]},{\"line\":{\"color\":\"#990000\",\"dash\":\"dash\",\"width\":0.5},\"mode\":\"lines\",\"name\":\"Outside_range_Dry_PROPHET\",\"showlegend\":false,\"type\":\"scatter\",\"x\":[\"2022-05-27T00:00:00\",\"2022-05-27T00:00:00\"],\"y\":[20444.0,189772.0]},{\"line\":{\"color\":\"#990000\",\"dash\":\"dash\",\"width\":0.5},\"mode\":\"lines\",\"name\":\"Outside_range_Dry_PROPHET\",\"showlegend\":false,\"type\":\"scatter\",\"x\":[\"2022-05-30T00:00:00\",\"2022-05-30T00:00:00\"],\"y\":[20444.0,189772.0]},{\"line\":{\"color\":\"#990000\",\"dash\":\"dash\",\"width\":0.5},\"mode\":\"lines\",\"name\":\"Outside_range_Dry_PROPHET\",\"showlegend\":false,\"type\":\"scatter\",\"x\":[\"2022-05-31T00:00:00\",\"2022-05-31T00:00:00\"],\"y\":[20444.0,189772.0]},{\"line\":{\"color\":\"#990000\",\"dash\":\"dash\",\"width\":0.5},\"mode\":\"lines\",\"name\":\"Outside_range_Dry_PROPHET\",\"showlegend\":false,\"type\":\"scatter\",\"x\":[\"2022-06-03T00:00:00\",\"2022-06-03T00:00:00\"],\"y\":[20444.0,189772.0]},{\"line\":{\"color\":\"#990000\",\"dash\":\"dash\",\"width\":0.5},\"mode\":\"lines\",\"name\":\"Outside_range_Dry_PROPHET\",\"showlegend\":false,\"type\":\"scatter\",\"x\":[\"2022-06-04T00:00:00\",\"2022-06-04T00:00:00\"],\"y\":[20444.0,189772.0]},{\"line\":{\"color\":\"#990000\",\"dash\":\"dash\",\"width\":0.5},\"mode\":\"lines\",\"name\":\"Outside_range_Dry_PROPHET\",\"showlegend\":false,\"type\":\"scatter\",\"x\":[\"2022-06-07T00:00:00\",\"2022-06-07T00:00:00\"],\"y\":[20444.0,189772.0]},{\"line\":{\"color\":\"#990000\",\"dash\":\"dash\",\"width\":0.5},\"mode\":\"lines\",\"name\":\"Outside_range_Dry_PROPHET\",\"showlegend\":false,\"type\":\"scatter\",\"x\":[\"2022-06-09T00:00:00\",\"2022-06-09T00:00:00\"],\"y\":[20444.0,189772.0]},{\"line\":{\"color\":\"#990000\",\"dash\":\"dash\",\"width\":0.5},\"mode\":\"lines\",\"name\":\"Outside_range_Dry_PROPHET\",\"showlegend\":false,\"type\":\"scatter\",\"x\":[\"2022-06-11T00:00:00\",\"2022-06-11T00:00:00\"],\"y\":[20444.0,189772.0]},{\"line\":{\"color\":\"#990000\",\"dash\":\"dash\",\"width\":0.5},\"mode\":\"lines\",\"name\":\"Outside_range_Dry_PROPHET\",\"showlegend\":false,\"type\":\"scatter\",\"x\":[\"2022-06-15T00:00:00\",\"2022-06-15T00:00:00\"],\"y\":[20444.0,189772.0]},{\"line\":{\"color\":\"#990000\",\"dash\":\"dash\",\"width\":0.5},\"mode\":\"lines\",\"name\":\"Outside_range_Dry_PROPHET\",\"showlegend\":false,\"type\":\"scatter\",\"x\":[\"2022-06-16T00:00:00\",\"2022-06-16T00:00:00\"],\"y\":[20444.0,189772.0]},{\"line\":{\"color\":\"#990000\",\"dash\":\"dash\",\"width\":0.5},\"mode\":\"lines\",\"name\":\"Outside_range_Dry_PROPHET\",\"showlegend\":false,\"type\":\"scatter\",\"x\":[\"2022-06-17T00:00:00\",\"2022-06-17T00:00:00\"],\"y\":[20444.0,189772.0]},{\"line\":{\"color\":\"#990000\",\"dash\":\"dash\",\"width\":0.5},\"mode\":\"lines\",\"name\":\"Outside_range_Dry_PROPHET\",\"showlegend\":false,\"type\":\"scatter\",\"x\":[\"2022-06-18T00:00:00\",\"2022-06-18T00:00:00\"],\"y\":[20444.0,189772.0]},{\"line\":{\"color\":\"#990000\",\"dash\":\"dash\",\"width\":0.5},\"mode\":\"lines\",\"name\":\"Outside_range_Dry_PROPHET\",\"showlegend\":false,\"type\":\"scatter\",\"x\":[\"2022-06-20T00:00:00\",\"2022-06-20T00:00:00\"],\"y\":[20444.0,189772.0]},{\"line\":{\"color\":\"#990000\",\"dash\":\"dash\",\"width\":0.5},\"mode\":\"lines\",\"name\":\"Outside_range_Dry_PROPHET\",\"showlegend\":false,\"type\":\"scatter\",\"x\":[\"2022-06-22T00:00:00\",\"2022-06-22T00:00:00\"],\"y\":[20444.0,189772.0]},{\"line\":{\"color\":\"#990000\",\"dash\":\"dash\",\"width\":0.5},\"mode\":\"lines\",\"name\":\"Outside_range_Dry_PROPHET\",\"showlegend\":false,\"type\":\"scatter\",\"x\":[\"2022-06-23T00:00:00\",\"2022-06-23T00:00:00\"],\"y\":[20444.0,189772.0]},{\"line\":{\"color\":\"#990000\",\"dash\":\"dash\",\"width\":0.5},\"mode\":\"lines\",\"name\":\"Outside_range_Dry_PROPHET\",\"showlegend\":false,\"type\":\"scatter\",\"x\":[\"2022-06-24T00:00:00\",\"2022-06-24T00:00:00\"],\"y\":[20444.0,189772.0]},{\"line\":{\"color\":\"#990000\",\"dash\":\"dash\",\"width\":0.5},\"mode\":\"lines\",\"name\":\"Outside_range_Dry_PROPHET\",\"showlegend\":false,\"type\":\"scatter\",\"x\":[\"2022-06-25T00:00:00\",\"2022-06-25T00:00:00\"],\"y\":[20444.0,189772.0]},{\"line\":{\"color\":\"#990000\",\"dash\":\"dash\",\"width\":0.5},\"mode\":\"lines\",\"name\":\"Outside_range_Dry_PROPHET\",\"showlegend\":false,\"type\":\"scatter\",\"x\":[\"2022-06-27T00:00:00\",\"2022-06-27T00:00:00\"],\"y\":[20444.0,189772.0]},{\"line\":{\"color\":\"#990000\",\"dash\":\"dash\",\"width\":0.5},\"mode\":\"lines\",\"name\":\"Outside_range_Dry_PROPHET\",\"showlegend\":false,\"type\":\"scatter\",\"x\":[\"2022-07-02T00:00:00\",\"2022-07-02T00:00:00\"],\"y\":[20444.0,189772.0]},{\"line\":{\"color\":\"#990000\",\"dash\":\"dash\",\"width\":0.5},\"mode\":\"lines\",\"name\":\"Outside_range_Dry_PROPHET\",\"showlegend\":false,\"type\":\"scatter\",\"x\":[\"2022-07-04T00:00:00\",\"2022-07-04T00:00:00\"],\"y\":[20444.0,189772.0]},{\"line\":{\"color\":\"#990000\",\"dash\":\"dash\",\"width\":0.5},\"mode\":\"lines\",\"name\":\"Outside_range_Dry_PROPHET\",\"showlegend\":false,\"type\":\"scatter\",\"x\":[\"2022-07-06T00:00:00\",\"2022-07-06T00:00:00\"],\"y\":[20444.0,189772.0]},{\"line\":{\"color\":\"#990000\",\"dash\":\"dash\",\"width\":0.5},\"mode\":\"lines\",\"name\":\"Outside_range_Dry_PROPHET\",\"showlegend\":false,\"type\":\"scatter\",\"x\":[\"2022-07-07T00:00:00\",\"2022-07-07T00:00:00\"],\"y\":[20444.0,189772.0]},{\"line\":{\"color\":\"#990000\",\"dash\":\"dash\",\"width\":0.5},\"mode\":\"lines\",\"name\":\"Outside_range_Dry_PROPHET\",\"showlegend\":false,\"type\":\"scatter\",\"x\":[\"2022-07-08T00:00:00\",\"2022-07-08T00:00:00\"],\"y\":[20444.0,189772.0]},{\"line\":{\"color\":\"#990000\",\"dash\":\"dash\",\"width\":0.5},\"mode\":\"lines\",\"name\":\"Outside_range_Dry_PROPHET\",\"showlegend\":false,\"type\":\"scatter\",\"x\":[\"2022-07-09T00:00:00\",\"2022-07-09T00:00:00\"],\"y\":[20444.0,189772.0]},{\"line\":{\"color\":\"#990000\",\"dash\":\"dash\",\"width\":0.5},\"mode\":\"lines\",\"name\":\"Outside_range_Dry_PROPHET\",\"showlegend\":false,\"type\":\"scatter\",\"x\":[\"2022-07-11T00:00:00\",\"2022-07-11T00:00:00\"],\"y\":[20444.0,189772.0]},{\"line\":{\"color\":\"#990000\",\"dash\":\"dash\",\"width\":0.5},\"mode\":\"lines\",\"name\":\"Outside_range_Dry_PROPHET\",\"showlegend\":false,\"type\":\"scatter\",\"x\":[\"2022-07-12T00:00:00\",\"2022-07-12T00:00:00\"],\"y\":[20444.0,189772.0]},{\"line\":{\"color\":\"#990000\",\"dash\":\"dash\",\"width\":0.5},\"mode\":\"lines\",\"name\":\"Outside_range_Dry_PROPHET\",\"showlegend\":false,\"type\":\"scatter\",\"x\":[\"2022-07-15T00:00:00\",\"2022-07-15T00:00:00\"],\"y\":[20444.0,189772.0]},{\"line\":{\"color\":\"#990000\",\"dash\":\"dash\",\"width\":0.5},\"mode\":\"lines\",\"name\":\"Outside_range_Dry_PROPHET\",\"showlegend\":false,\"type\":\"scatter\",\"x\":[\"2022-07-16T00:00:00\",\"2022-07-16T00:00:00\"],\"y\":[20444.0,189772.0]},{\"line\":{\"color\":\"#990000\",\"dash\":\"dash\",\"width\":0.5},\"mode\":\"lines\",\"name\":\"Outside_range_Dry_PROPHET\",\"showlegend\":false,\"type\":\"scatter\",\"x\":[\"2022-07-18T00:00:00\",\"2022-07-18T00:00:00\"],\"y\":[20444.0,189772.0]},{\"line\":{\"color\":\"#990000\",\"dash\":\"dash\",\"width\":0.5},\"mode\":\"lines\",\"name\":\"Outside_range_Dry_PROPHET\",\"showlegend\":false,\"type\":\"scatter\",\"x\":[\"2022-07-19T00:00:00\",\"2022-07-19T00:00:00\"],\"y\":[20444.0,189772.0]},{\"line\":{\"color\":\"#990000\",\"dash\":\"dash\",\"width\":0.5},\"mode\":\"lines\",\"name\":\"Outside_range_Dry_PROPHET\",\"showlegend\":false,\"type\":\"scatter\",\"x\":[\"2022-07-20T00:00:00\",\"2022-07-20T00:00:00\"],\"y\":[20444.0,189772.0]},{\"line\":{\"color\":\"#990000\",\"dash\":\"dash\",\"width\":0.5},\"mode\":\"lines\",\"name\":\"Outside_range_Dry_PROPHET\",\"showlegend\":false,\"type\":\"scatter\",\"x\":[\"2022-07-22T00:00:00\",\"2022-07-22T00:00:00\"],\"y\":[20444.0,189772.0]},{\"line\":{\"color\":\"#990000\",\"dash\":\"dash\",\"width\":0.5},\"mode\":\"lines\",\"name\":\"Outside_range_Dry_PROPHET\",\"showlegend\":false,\"type\":\"scatter\",\"x\":[\"2022-07-23T00:00:00\",\"2022-07-23T00:00:00\"],\"y\":[20444.0,189772.0]},{\"line\":{\"color\":\"#990000\",\"dash\":\"dash\",\"width\":0.5},\"mode\":\"lines\",\"name\":\"Outside_range_Dry_PROPHET\",\"showlegend\":false,\"type\":\"scatter\",\"x\":[\"2022-07-25T00:00:00\",\"2022-07-25T00:00:00\"],\"y\":[20444.0,189772.0]},{\"line\":{\"color\":\"#990000\",\"dash\":\"dash\",\"width\":0.5},\"mode\":\"lines\",\"name\":\"Outside_range_Dry_PROPHET\",\"showlegend\":false,\"type\":\"scatter\",\"x\":[\"2022-07-26T00:00:00\",\"2022-07-26T00:00:00\"],\"y\":[20444.0,189772.0]},{\"line\":{\"color\":\"#990000\",\"dash\":\"dash\",\"width\":0.5},\"mode\":\"lines\",\"name\":\"Outside_range_Dry_PROPHET\",\"showlegend\":false,\"type\":\"scatter\",\"x\":[\"2022-07-30T00:00:00\",\"2022-07-30T00:00:00\"],\"y\":[20444.0,189772.0]},{\"line\":{\"color\":\"#990000\",\"dash\":\"dash\",\"width\":0.5},\"mode\":\"lines\",\"name\":\"Outside_range_Dry_PROPHET\",\"showlegend\":false,\"type\":\"scatter\",\"x\":[\"2022-08-02T00:00:00\",\"2022-08-02T00:00:00\"],\"y\":[20444.0,189772.0]},{\"line\":{\"color\":\"#990000\",\"dash\":\"dash\",\"width\":0.5},\"mode\":\"lines\",\"name\":\"Outside_range_Dry_PROPHET\",\"showlegend\":false,\"type\":\"scatter\",\"x\":[\"2022-08-03T00:00:00\",\"2022-08-03T00:00:00\"],\"y\":[20444.0,189772.0]},{\"line\":{\"color\":\"#990000\",\"dash\":\"dash\",\"width\":0.5},\"mode\":\"lines\",\"name\":\"Outside_range_Dry_PROPHET\",\"showlegend\":false,\"type\":\"scatter\",\"x\":[\"2022-08-04T00:00:00\",\"2022-08-04T00:00:00\"],\"y\":[20444.0,189772.0]},{\"line\":{\"color\":\"#990000\",\"dash\":\"dash\",\"width\":0.5},\"mode\":\"lines\",\"name\":\"Outside_range_Dry_PROPHET\",\"showlegend\":false,\"type\":\"scatter\",\"x\":[\"2022-08-06T00:00:00\",\"2022-08-06T00:00:00\"],\"y\":[20444.0,189772.0]},{\"line\":{\"color\":\"#990000\",\"dash\":\"dash\",\"width\":0.5},\"mode\":\"lines\",\"name\":\"Outside_range_Dry_PROPHET\",\"showlegend\":false,\"type\":\"scatter\",\"x\":[\"2022-08-08T00:00:00\",\"2022-08-08T00:00:00\"],\"y\":[20444.0,189772.0]},{\"line\":{\"color\":\"#990000\",\"dash\":\"dash\",\"width\":0.5},\"mode\":\"lines\",\"name\":\"Outside_range_Dry_PROPHET\",\"showlegend\":false,\"type\":\"scatter\",\"x\":[\"2022-08-10T00:00:00\",\"2022-08-10T00:00:00\"],\"y\":[20444.0,189772.0]},{\"line\":{\"color\":\"#990000\",\"dash\":\"dash\",\"width\":0.5},\"mode\":\"lines\",\"name\":\"Outside_range_Dry_PROPHET\",\"showlegend\":false,\"type\":\"scatter\",\"x\":[\"2022-08-12T00:00:00\",\"2022-08-12T00:00:00\"],\"y\":[20444.0,189772.0]},{\"line\":{\"color\":\"#990000\",\"dash\":\"dash\",\"width\":0.5},\"mode\":\"lines\",\"name\":\"Outside_range_Dry_PROPHET\",\"showlegend\":false,\"type\":\"scatter\",\"x\":[\"2022-08-13T00:00:00\",\"2022-08-13T00:00:00\"],\"y\":[20444.0,189772.0]},{\"line\":{\"color\":\"#990000\",\"dash\":\"dash\",\"width\":0.5},\"mode\":\"lines\",\"name\":\"Outside_range_Dry_PROPHET\",\"showlegend\":false,\"type\":\"scatter\",\"x\":[\"2022-08-17T00:00:00\",\"2022-08-17T00:00:00\"],\"y\":[20444.0,189772.0]},{\"line\":{\"color\":\"#990000\",\"dash\":\"dash\",\"width\":0.5},\"mode\":\"lines\",\"name\":\"Outside_range_Dry_PROPHET\",\"showlegend\":false,\"type\":\"scatter\",\"x\":[\"2022-08-18T00:00:00\",\"2022-08-18T00:00:00\"],\"y\":[20444.0,189772.0]},{\"line\":{\"color\":\"#990000\",\"dash\":\"dash\",\"width\":0.5},\"mode\":\"lines\",\"name\":\"Outside_range_Dry_PROPHET\",\"showlegend\":false,\"type\":\"scatter\",\"x\":[\"2022-08-19T00:00:00\",\"2022-08-19T00:00:00\"],\"y\":[20444.0,189772.0]},{\"line\":{\"color\":\"#990000\",\"dash\":\"dash\",\"width\":0.5},\"mode\":\"lines\",\"name\":\"Outside_range_Dry_PROPHET\",\"showlegend\":false,\"type\":\"scatter\",\"x\":[\"2022-08-22T00:00:00\",\"2022-08-22T00:00:00\"],\"y\":[20444.0,189772.0]},{\"line\":{\"color\":\"#990000\",\"dash\":\"dash\",\"width\":0.5},\"mode\":\"lines\",\"name\":\"Outside_range_Dry_PROPHET\",\"showlegend\":false,\"type\":\"scatter\",\"x\":[\"2022-08-25T00:00:00\",\"2022-08-25T00:00:00\"],\"y\":[20444.0,189772.0]},{\"line\":{\"color\":\"#990000\",\"dash\":\"dash\",\"width\":0.5},\"mode\":\"lines\",\"name\":\"Outside_range_Dry_PROPHET\",\"showlegend\":false,\"type\":\"scatter\",\"x\":[\"2022-08-27T00:00:00\",\"2022-08-27T00:00:00\"],\"y\":[20444.0,189772.0]},{\"line\":{\"color\":\"#990000\",\"dash\":\"dash\",\"width\":0.5},\"mode\":\"lines\",\"name\":\"Outside_range_Dry_PROPHET\",\"showlegend\":false,\"type\":\"scatter\",\"x\":[\"2022-08-29T00:00:00\",\"2022-08-29T00:00:00\"],\"y\":[20444.0,189772.0]},{\"line\":{\"color\":\"#990000\",\"dash\":\"dash\",\"width\":0.5},\"mode\":\"lines\",\"name\":\"Outside_range_Dry_PROPHET\",\"showlegend\":false,\"type\":\"scatter\",\"x\":[\"2022-08-30T00:00:00\",\"2022-08-30T00:00:00\"],\"y\":[20444.0,189772.0]},{\"line\":{\"color\":\"#990000\",\"dash\":\"dash\",\"width\":0.5},\"mode\":\"lines\",\"name\":\"Outside_range_Dry_PROPHET\",\"showlegend\":false,\"type\":\"scatter\",\"x\":[\"2022-08-31T00:00:00\",\"2022-08-31T00:00:00\"],\"y\":[20444.0,189772.0]},{\"line\":{\"color\":\"#990000\",\"dash\":\"dash\",\"width\":0.5},\"mode\":\"lines\",\"name\":\"Outside_range_Dry_PROPHET\",\"showlegend\":false,\"type\":\"scatter\",\"x\":[\"2022-09-01T00:00:00\",\"2022-09-01T00:00:00\"],\"y\":[20444.0,189772.0]},{\"line\":{\"color\":\"#990000\",\"dash\":\"dash\",\"width\":0.5},\"mode\":\"lines\",\"name\":\"Outside_range_Dry_PROPHET\",\"showlegend\":false,\"type\":\"scatter\",\"x\":[\"2022-09-02T00:00:00\",\"2022-09-02T00:00:00\"],\"y\":[20444.0,189772.0]},{\"line\":{\"color\":\"#990000\",\"dash\":\"dash\",\"width\":0.5},\"mode\":\"lines\",\"name\":\"Outside_range_Dry_PROPHET\",\"showlegend\":false,\"type\":\"scatter\",\"x\":[\"2022-09-06T00:00:00\",\"2022-09-06T00:00:00\"],\"y\":[20444.0,189772.0]},{\"line\":{\"color\":\"#990000\",\"dash\":\"dash\",\"width\":0.5},\"mode\":\"lines\",\"name\":\"Outside_range_Dry_PROPHET\",\"showlegend\":false,\"type\":\"scatter\",\"x\":[\"2022-09-08T00:00:00\",\"2022-09-08T00:00:00\"],\"y\":[20444.0,189772.0]},{\"line\":{\"color\":\"#990000\",\"dash\":\"dash\",\"width\":0.5},\"mode\":\"lines\",\"name\":\"Outside_range_Dry_PROPHET\",\"showlegend\":false,\"type\":\"scatter\",\"x\":[\"2022-09-09T00:00:00\",\"2022-09-09T00:00:00\"],\"y\":[20444.0,189772.0]},{\"line\":{\"color\":\"#990000\",\"dash\":\"dash\",\"width\":0.5},\"mode\":\"lines\",\"name\":\"Outside_range_Dry_PROPHET\",\"showlegend\":false,\"type\":\"scatter\",\"x\":[\"2022-09-10T00:00:00\",\"2022-09-10T00:00:00\"],\"y\":[20444.0,189772.0]},{\"line\":{\"color\":\"#990000\",\"dash\":\"dash\",\"width\":0.5},\"mode\":\"lines\",\"name\":\"Outside_range_Dry_PROPHET\",\"showlegend\":false,\"type\":\"scatter\",\"x\":[\"2022-09-12T00:00:00\",\"2022-09-12T00:00:00\"],\"y\":[20444.0,189772.0]},{\"line\":{\"color\":\"#990000\",\"dash\":\"dash\",\"width\":0.5},\"mode\":\"lines\",\"name\":\"Outside_range_Dry_PROPHET\",\"showlegend\":false,\"type\":\"scatter\",\"x\":[\"2022-09-13T00:00:00\",\"2022-09-13T00:00:00\"],\"y\":[20444.0,189772.0]},{\"line\":{\"color\":\"#990000\",\"dash\":\"dash\",\"width\":0.5},\"mode\":\"lines\",\"name\":\"Outside_range_Dry_PROPHET\",\"showlegend\":false,\"type\":\"scatter\",\"x\":[\"2022-09-14T00:00:00\",\"2022-09-14T00:00:00\"],\"y\":[20444.0,189772.0]},{\"line\":{\"color\":\"#990000\",\"dash\":\"dash\",\"width\":0.5},\"mode\":\"lines\",\"name\":\"Outside_range_Dry_PROPHET\",\"showlegend\":false,\"type\":\"scatter\",\"x\":[\"2022-09-15T00:00:00\",\"2022-09-15T00:00:00\"],\"y\":[20444.0,189772.0]},{\"line\":{\"color\":\"#990000\",\"dash\":\"dash\",\"width\":0.5},\"mode\":\"lines\",\"name\":\"Outside_range_Dry_PROPHET\",\"showlegend\":false,\"type\":\"scatter\",\"x\":[\"2022-09-16T00:00:00\",\"2022-09-16T00:00:00\"],\"y\":[20444.0,189772.0]},{\"line\":{\"color\":\"#990000\",\"dash\":\"dash\",\"width\":0.5},\"mode\":\"lines\",\"name\":\"Outside_range_Dry_PROPHET\",\"showlegend\":false,\"type\":\"scatter\",\"x\":[\"2022-09-19T00:00:00\",\"2022-09-19T00:00:00\"],\"y\":[20444.0,189772.0]},{\"line\":{\"color\":\"#990000\",\"dash\":\"dash\",\"width\":0.5},\"mode\":\"lines\",\"name\":\"Outside_range_Dry_PROPHET\",\"showlegend\":false,\"type\":\"scatter\",\"x\":[\"2022-09-20T00:00:00\",\"2022-09-20T00:00:00\"],\"y\":[20444.0,189772.0]},{\"line\":{\"color\":\"#990000\",\"dash\":\"dash\",\"width\":0.5},\"mode\":\"lines\",\"name\":\"Outside_range_Dry_PROPHET\",\"showlegend\":false,\"type\":\"scatter\",\"x\":[\"2022-09-21T00:00:00\",\"2022-09-21T00:00:00\"],\"y\":[20444.0,189772.0]},{\"line\":{\"color\":\"#990000\",\"dash\":\"dash\",\"width\":0.5},\"mode\":\"lines\",\"name\":\"Outside_range_Dry_PROPHET\",\"showlegend\":false,\"type\":\"scatter\",\"x\":[\"2022-09-22T00:00:00\",\"2022-09-22T00:00:00\"],\"y\":[20444.0,189772.0]},{\"line\":{\"color\":\"#990000\",\"dash\":\"dash\",\"width\":0.5},\"mode\":\"lines\",\"name\":\"Outside_range_Dry_PROPHET\",\"showlegend\":false,\"type\":\"scatter\",\"x\":[\"2022-09-23T00:00:00\",\"2022-09-23T00:00:00\"],\"y\":[20444.0,189772.0]},{\"line\":{\"color\":\"#990000\",\"dash\":\"dash\",\"width\":0.5},\"mode\":\"lines\",\"name\":\"Outside_range_Dry_PROPHET\",\"showlegend\":false,\"type\":\"scatter\",\"x\":[\"2022-09-24T00:00:00\",\"2022-09-24T00:00:00\"],\"y\":[20444.0,189772.0]},{\"line\":{\"color\":\"#990000\",\"dash\":\"dash\",\"width\":0.5},\"mode\":\"lines\",\"name\":\"Outside_range_Dry_PROPHET\",\"showlegend\":false,\"type\":\"scatter\",\"x\":[\"2022-09-26T00:00:00\",\"2022-09-26T00:00:00\"],\"y\":[20444.0,189772.0]},{\"line\":{\"color\":\"#990000\",\"dash\":\"dash\",\"width\":0.5},\"mode\":\"lines\",\"name\":\"Outside_range_Dry_PROPHET\",\"showlegend\":false,\"type\":\"scatter\",\"x\":[\"2022-09-27T00:00:00\",\"2022-09-27T00:00:00\"],\"y\":[20444.0,189772.0]},{\"line\":{\"color\":\"#990000\",\"dash\":\"dash\",\"width\":0.5},\"mode\":\"lines\",\"name\":\"Outside_range_Dry_PROPHET\",\"showlegend\":false,\"type\":\"scatter\",\"x\":[\"2022-09-29T00:00:00\",\"2022-09-29T00:00:00\"],\"y\":[20444.0,189772.0]},{\"line\":{\"color\":\"#990000\",\"dash\":\"dash\",\"width\":0.5},\"mode\":\"lines\",\"name\":\"Outside_range_Dry_PROPHET\",\"showlegend\":false,\"type\":\"scatter\",\"x\":[\"2022-09-30T00:00:00\",\"2022-09-30T00:00:00\"],\"y\":[20444.0,189772.0]},{\"line\":{\"color\":\"#990000\",\"dash\":\"dash\",\"width\":0.5},\"mode\":\"lines\",\"name\":\"Outside_range_Dry_PROPHET\",\"showlegend\":false,\"type\":\"scatter\",\"x\":[\"2022-10-06T00:00:00\",\"2022-10-06T00:00:00\"],\"y\":[20444.0,189772.0]},{\"line\":{\"color\":\"#990000\",\"dash\":\"dash\",\"width\":0.5},\"mode\":\"lines\",\"name\":\"Outside_range_Dry_PROPHET\",\"showlegend\":false,\"type\":\"scatter\",\"x\":[\"2022-10-21T00:00:00\",\"2022-10-21T00:00:00\"],\"y\":[20444.0,189772.0]},{\"line\":{\"color\":\"#990000\",\"dash\":\"dash\",\"width\":0.5},\"mode\":\"lines\",\"name\":\"Outside_range_Dry_PROPHET\",\"showlegend\":false,\"type\":\"scatter\",\"x\":[\"2022-10-24T00:00:00\",\"2022-10-24T00:00:00\"],\"y\":[20444.0,189772.0]},{\"line\":{\"color\":\"#990000\",\"dash\":\"dash\",\"width\":0.5},\"mode\":\"lines\",\"name\":\"Outside_range_Dry_PROPHET\",\"showlegend\":false,\"type\":\"scatter\",\"x\":[\"2022-10-25T00:00:00\",\"2022-10-25T00:00:00\"],\"y\":[20444.0,189772.0]},{\"line\":{\"color\":\"#990000\",\"dash\":\"dash\",\"width\":0.5},\"mode\":\"lines\",\"name\":\"Outside_range_Dry_PROPHET\",\"showlegend\":false,\"type\":\"scatter\",\"x\":[\"2022-10-26T00:00:00\",\"2022-10-26T00:00:00\"],\"y\":[20444.0,189772.0]},{\"line\":{\"color\":\"#990000\",\"dash\":\"dash\",\"width\":0.5},\"mode\":\"lines\",\"name\":\"Outside_range_Dry_PROPHET\",\"showlegend\":false,\"type\":\"scatter\",\"x\":[\"2022-10-27T00:00:00\",\"2022-10-27T00:00:00\"],\"y\":[20444.0,189772.0]},{\"line\":{\"color\":\"#990000\",\"dash\":\"dash\",\"width\":0.5},\"mode\":\"lines\",\"name\":\"Outside_range_Dry_PROPHET\",\"showlegend\":false,\"type\":\"scatter\",\"x\":[\"2022-11-02T00:00:00\",\"2022-11-02T00:00:00\"],\"y\":[20444.0,189772.0]},{\"line\":{\"color\":\"#990000\",\"dash\":\"dash\",\"width\":0.5},\"mode\":\"lines\",\"name\":\"Outside_range_Dry_PROPHET\",\"showlegend\":false,\"type\":\"scatter\",\"x\":[\"2022-11-03T00:00:00\",\"2022-11-03T00:00:00\"],\"y\":[20444.0,189772.0]},{\"line\":{\"color\":\"#990000\",\"dash\":\"dash\",\"width\":0.5},\"mode\":\"lines\",\"name\":\"Outside_range_Dry_PROPHET\",\"showlegend\":false,\"type\":\"scatter\",\"x\":[\"2022-11-04T00:00:00\",\"2022-11-04T00:00:00\"],\"y\":[20444.0,189772.0]},{\"line\":{\"color\":\"#990000\",\"dash\":\"dash\",\"width\":0.5},\"mode\":\"lines\",\"name\":\"Outside_range_Dry_PROPHET\",\"showlegend\":false,\"type\":\"scatter\",\"x\":[\"2022-11-05T00:00:00\",\"2022-11-05T00:00:00\"],\"y\":[20444.0,189772.0]},{\"line\":{\"color\":\"#990000\",\"dash\":\"dash\",\"width\":0.5},\"mode\":\"lines\",\"name\":\"Outside_range_Dry_PROPHET\",\"showlegend\":false,\"type\":\"scatter\",\"x\":[\"2022-11-08T00:00:00\",\"2022-11-08T00:00:00\"],\"y\":[20444.0,189772.0]},{\"line\":{\"color\":\"#990000\",\"dash\":\"dash\",\"width\":0.5},\"mode\":\"lines\",\"name\":\"Outside_range_Dry_PROPHET\",\"showlegend\":false,\"type\":\"scatter\",\"x\":[\"2022-11-09T00:00:00\",\"2022-11-09T00:00:00\"],\"y\":[20444.0,189772.0]},{\"line\":{\"color\":\"#990000\",\"dash\":\"dash\",\"width\":0.5},\"mode\":\"lines\",\"name\":\"Outside_range_Dry_PROPHET\",\"showlegend\":false,\"type\":\"scatter\",\"x\":[\"2022-11-10T00:00:00\",\"2022-11-10T00:00:00\"],\"y\":[20444.0,189772.0]},{\"line\":{\"color\":\"#990000\",\"dash\":\"dash\",\"width\":0.5},\"mode\":\"lines\",\"name\":\"Outside_range_Dry_PROPHET\",\"showlegend\":false,\"type\":\"scatter\",\"x\":[\"2022-11-12T00:00:00\",\"2022-11-12T00:00:00\"],\"y\":[20444.0,189772.0]},{\"line\":{\"color\":\"#990000\",\"dash\":\"dash\",\"width\":0.5},\"mode\":\"lines\",\"name\":\"Outside_range_Dry_PROPHET\",\"showlegend\":false,\"type\":\"scatter\",\"x\":[\"2022-11-14T00:00:00\",\"2022-11-14T00:00:00\"],\"y\":[20444.0,189772.0]},{\"line\":{\"color\":\"#990000\",\"dash\":\"dash\",\"width\":0.5},\"mode\":\"lines\",\"name\":\"Outside_range_Dry_PROPHET\",\"showlegend\":false,\"type\":\"scatter\",\"x\":[\"2022-11-15T00:00:00\",\"2022-11-15T00:00:00\"],\"y\":[20444.0,189772.0]},{\"line\":{\"color\":\"#990000\",\"dash\":\"dash\",\"width\":0.5},\"mode\":\"lines\",\"name\":\"Outside_range_Dry_PROPHET\",\"showlegend\":false,\"type\":\"scatter\",\"x\":[\"2022-11-16T00:00:00\",\"2022-11-16T00:00:00\"],\"y\":[20444.0,189772.0]},{\"line\":{\"color\":\"#990000\",\"dash\":\"dash\",\"width\":0.5},\"mode\":\"lines\",\"name\":\"Outside_range_Dry_PROPHET\",\"showlegend\":false,\"type\":\"scatter\",\"x\":[\"2022-11-17T00:00:00\",\"2022-11-17T00:00:00\"],\"y\":[20444.0,189772.0]},{\"line\":{\"color\":\"#990000\",\"dash\":\"dash\",\"width\":0.5},\"mode\":\"lines\",\"name\":\"Outside_range_Dry_PROPHET\",\"showlegend\":false,\"type\":\"scatter\",\"x\":[\"2022-11-18T00:00:00\",\"2022-11-18T00:00:00\"],\"y\":[20444.0,189772.0]},{\"line\":{\"color\":\"#990000\",\"dash\":\"dash\",\"width\":0.5},\"mode\":\"lines\",\"name\":\"Outside_range_Dry_PROPHET\",\"showlegend\":false,\"type\":\"scatter\",\"x\":[\"2022-11-22T00:00:00\",\"2022-11-22T00:00:00\"],\"y\":[20444.0,189772.0]},{\"line\":{\"color\":\"#990000\",\"dash\":\"dash\",\"width\":0.5},\"mode\":\"lines\",\"name\":\"Outside_range_Dry_PROPHET\",\"showlegend\":false,\"type\":\"scatter\",\"x\":[\"2022-11-24T00:00:00\",\"2022-11-24T00:00:00\"],\"y\":[20444.0,189772.0]},{\"line\":{\"color\":\"#990000\",\"dash\":\"dash\",\"width\":0.5},\"mode\":\"lines\",\"name\":\"Outside_range_Dry_PROPHET\",\"showlegend\":false,\"type\":\"scatter\",\"x\":[\"2022-11-25T00:00:00\",\"2022-11-25T00:00:00\"],\"y\":[20444.0,189772.0]},{\"line\":{\"color\":\"#990000\",\"dash\":\"dash\",\"width\":0.5},\"mode\":\"lines\",\"name\":\"Outside_range_Dry_PROPHET\",\"showlegend\":false,\"type\":\"scatter\",\"x\":[\"2022-11-26T00:00:00\",\"2022-11-26T00:00:00\"],\"y\":[20444.0,189772.0]},{\"line\":{\"color\":\"#990000\",\"dash\":\"dash\",\"width\":0.5},\"mode\":\"lines\",\"name\":\"Outside_range_Dry_PROPHET\",\"showlegend\":false,\"type\":\"scatter\",\"x\":[\"2022-11-28T00:00:00\",\"2022-11-28T00:00:00\"],\"y\":[20444.0,189772.0]},{\"line\":{\"color\":\"#990000\",\"dash\":\"dash\",\"width\":0.5},\"mode\":\"lines\",\"name\":\"Outside_range_Dry_PROPHET\",\"showlegend\":false,\"type\":\"scatter\",\"x\":[\"2022-12-05T00:00:00\",\"2022-12-05T00:00:00\"],\"y\":[20444.0,189772.0]},{\"line\":{\"color\":\"#990000\",\"dash\":\"dash\",\"width\":0.5},\"mode\":\"lines\",\"name\":\"Outside_range_Dry_PROPHET\",\"showlegend\":false,\"type\":\"scatter\",\"x\":[\"2022-12-06T00:00:00\",\"2022-12-06T00:00:00\"],\"y\":[20444.0,189772.0]},{\"line\":{\"color\":\"#990000\",\"dash\":\"dash\",\"width\":0.5},\"mode\":\"lines\",\"name\":\"Outside_range_Dry_PROPHET\",\"showlegend\":false,\"type\":\"scatter\",\"x\":[\"2022-12-07T00:00:00\",\"2022-12-07T00:00:00\"],\"y\":[20444.0,189772.0]},{\"line\":{\"color\":\"#990000\",\"dash\":\"dash\",\"width\":0.5},\"mode\":\"lines\",\"name\":\"Outside_range_Dry_PROPHET\",\"showlegend\":false,\"type\":\"scatter\",\"x\":[\"2022-12-08T00:00:00\",\"2022-12-08T00:00:00\"],\"y\":[20444.0,189772.0]},{\"line\":{\"color\":\"#990000\",\"dash\":\"dash\",\"width\":0.5},\"mode\":\"lines\",\"name\":\"Outside_range_Dry_PROPHET\",\"showlegend\":false,\"type\":\"scatter\",\"x\":[\"2022-12-09T00:00:00\",\"2022-12-09T00:00:00\"],\"y\":[20444.0,189772.0]},{\"line\":{\"color\":\"#990000\",\"dash\":\"dash\",\"width\":0.5},\"mode\":\"lines\",\"name\":\"Outside_range_Dry_PROPHET\",\"showlegend\":false,\"type\":\"scatter\",\"x\":[\"2022-12-10T00:00:00\",\"2022-12-10T00:00:00\"],\"y\":[20444.0,189772.0]},{\"line\":{\"color\":\"#990000\",\"dash\":\"dash\",\"width\":0.5},\"mode\":\"lines\",\"name\":\"Outside_range_Dry_PROPHET\",\"showlegend\":false,\"type\":\"scatter\",\"x\":[\"2022-12-13T00:00:00\",\"2022-12-13T00:00:00\"],\"y\":[20444.0,189772.0]},{\"line\":{\"color\":\"#990000\",\"dash\":\"dash\",\"width\":0.5},\"mode\":\"lines\",\"name\":\"Outside_range_Dry_PROPHET\",\"showlegend\":false,\"type\":\"scatter\",\"x\":[\"2022-12-14T00:00:00\",\"2022-12-14T00:00:00\"],\"y\":[20444.0,189772.0]},{\"line\":{\"color\":\"#990000\",\"dash\":\"dash\",\"width\":0.5},\"mode\":\"lines\",\"name\":\"Outside_range_Dry_PROPHET\",\"showlegend\":false,\"type\":\"scatter\",\"x\":[\"2022-12-15T00:00:00\",\"2022-12-15T00:00:00\"],\"y\":[20444.0,189772.0]},{\"line\":{\"color\":\"#990000\",\"dash\":\"dash\",\"width\":0.5},\"mode\":\"lines\",\"name\":\"Outside_range_Dry_PROPHET\",\"showlegend\":false,\"type\":\"scatter\",\"x\":[\"2022-12-16T00:00:00\",\"2022-12-16T00:00:00\"],\"y\":[20444.0,189772.0]},{\"line\":{\"color\":\"#990000\",\"dash\":\"dash\",\"width\":0.5},\"mode\":\"lines\",\"name\":\"Outside_range_Dry_PROPHET\",\"showlegend\":false,\"type\":\"scatter\",\"x\":[\"2022-12-17T00:00:00\",\"2022-12-17T00:00:00\"],\"y\":[20444.0,189772.0]},{\"line\":{\"color\":\"#990000\",\"dash\":\"dash\",\"width\":0.5},\"mode\":\"lines\",\"name\":\"Outside_range_Dry_PROPHET\",\"showlegend\":false,\"type\":\"scatter\",\"x\":[\"2022-12-19T00:00:00\",\"2022-12-19T00:00:00\"],\"y\":[20444.0,189772.0]},{\"line\":{\"color\":\"#990000\",\"dash\":\"dash\",\"width\":0.5},\"mode\":\"lines\",\"name\":\"Outside_range_Dry_PROPHET\",\"showlegend\":false,\"type\":\"scatter\",\"x\":[\"2022-12-21T00:00:00\",\"2022-12-21T00:00:00\"],\"y\":[20444.0,189772.0]},{\"line\":{\"color\":\"#990000\",\"dash\":\"dash\",\"width\":0.5},\"mode\":\"lines\",\"name\":\"Outside_range_Dry_PROPHET\",\"showlegend\":false,\"type\":\"scatter\",\"x\":[\"2022-12-23T00:00:00\",\"2022-12-23T00:00:00\"],\"y\":[20444.0,189772.0]},{\"line\":{\"color\":\"#990000\",\"dash\":\"dash\",\"width\":0.5},\"mode\":\"lines\",\"name\":\"Outside_range_Dry_PROPHET\",\"showlegend\":false,\"type\":\"scatter\",\"x\":[\"2022-12-24T00:00:00\",\"2022-12-24T00:00:00\"],\"y\":[20444.0,189772.0]},{\"line\":{\"color\":\"#990000\",\"dash\":\"dash\",\"width\":0.5},\"mode\":\"lines\",\"name\":\"Outside_range_Dry_PROPHET\",\"showlegend\":false,\"type\":\"scatter\",\"x\":[\"2022-12-26T00:00:00\",\"2022-12-26T00:00:00\"],\"y\":[20444.0,189772.0]},{\"line\":{\"color\":\"#990000\",\"dash\":\"dash\",\"width\":0.5},\"mode\":\"lines\",\"name\":\"Outside_range_Dry_PROPHET\",\"showlegend\":false,\"type\":\"scatter\",\"x\":[\"2022-12-27T00:00:00\",\"2022-12-27T00:00:00\"],\"y\":[20444.0,189772.0]},{\"line\":{\"color\":\"#990000\",\"dash\":\"dash\",\"width\":0.5},\"mode\":\"lines\",\"name\":\"Outside_range_Dry_PROPHET\",\"showlegend\":false,\"type\":\"scatter\",\"x\":[\"2022-12-28T00:00:00\",\"2022-12-28T00:00:00\"],\"y\":[20444.0,189772.0]},{\"line\":{\"color\":\"#990000\",\"dash\":\"dash\",\"width\":0.5},\"mode\":\"lines\",\"name\":\"Outside_range_Dry_PROPHET\",\"showlegend\":false,\"type\":\"scatter\",\"x\":[\"2022-12-29T00:00:00\",\"2022-12-29T00:00:00\"],\"y\":[20444.0,189772.0]},{\"line\":{\"color\":\"#990000\",\"dash\":\"dash\",\"width\":0.5},\"mode\":\"lines\",\"name\":\"Outside_range_Dry_PROPHET\",\"showlegend\":false,\"type\":\"scatter\",\"x\":[\"2022-12-31T00:00:00\",\"2022-12-31T00:00:00\"],\"y\":[20444.0,189772.0]}],                        {\"template\":{\"data\":{\"bar\":[{\"error_x\":{\"color\":\"#2a3f5f\"},\"error_y\":{\"color\":\"#2a3f5f\"},\"marker\":{\"line\":{\"color\":\"#E5ECF6\",\"width\":0.5},\"pattern\":{\"fillmode\":\"overlay\",\"size\":10,\"solidity\":0.2}},\"type\":\"bar\"}],\"barpolar\":[{\"marker\":{\"line\":{\"color\":\"#E5ECF6\",\"width\":0.5},\"pattern\":{\"fillmode\":\"overlay\",\"size\":10,\"solidity\":0.2}},\"type\":\"barpolar\"}],\"carpet\":[{\"aaxis\":{\"endlinecolor\":\"#2a3f5f\",\"gridcolor\":\"white\",\"linecolor\":\"white\",\"minorgridcolor\":\"white\",\"startlinecolor\":\"#2a3f5f\"},\"baxis\":{\"endlinecolor\":\"#2a3f5f\",\"gridcolor\":\"white\",\"linecolor\":\"white\",\"minorgridcolor\":\"white\",\"startlinecolor\":\"#2a3f5f\"},\"type\":\"carpet\"}],\"choropleth\":[{\"colorbar\":{\"outlinewidth\":0,\"ticks\":\"\"},\"type\":\"choropleth\"}],\"contour\":[{\"colorbar\":{\"outlinewidth\":0,\"ticks\":\"\"},\"colorscale\":[[0.0,\"#0d0887\"],[0.1111111111111111,\"#46039f\"],[0.2222222222222222,\"#7201a8\"],[0.3333333333333333,\"#9c179e\"],[0.4444444444444444,\"#bd3786\"],[0.5555555555555556,\"#d8576b\"],[0.6666666666666666,\"#ed7953\"],[0.7777777777777778,\"#fb9f3a\"],[0.8888888888888888,\"#fdca26\"],[1.0,\"#f0f921\"]],\"type\":\"contour\"}],\"contourcarpet\":[{\"colorbar\":{\"outlinewidth\":0,\"ticks\":\"\"},\"type\":\"contourcarpet\"}],\"heatmap\":[{\"colorbar\":{\"outlinewidth\":0,\"ticks\":\"\"},\"colorscale\":[[0.0,\"#0d0887\"],[0.1111111111111111,\"#46039f\"],[0.2222222222222222,\"#7201a8\"],[0.3333333333333333,\"#9c179e\"],[0.4444444444444444,\"#bd3786\"],[0.5555555555555556,\"#d8576b\"],[0.6666666666666666,\"#ed7953\"],[0.7777777777777778,\"#fb9f3a\"],[0.8888888888888888,\"#fdca26\"],[1.0,\"#f0f921\"]],\"type\":\"heatmap\"}],\"heatmapgl\":[{\"colorbar\":{\"outlinewidth\":0,\"ticks\":\"\"},\"colorscale\":[[0.0,\"#0d0887\"],[0.1111111111111111,\"#46039f\"],[0.2222222222222222,\"#7201a8\"],[0.3333333333333333,\"#9c179e\"],[0.4444444444444444,\"#bd3786\"],[0.5555555555555556,\"#d8576b\"],[0.6666666666666666,\"#ed7953\"],[0.7777777777777778,\"#fb9f3a\"],[0.8888888888888888,\"#fdca26\"],[1.0,\"#f0f921\"]],\"type\":\"heatmapgl\"}],\"histogram\":[{\"marker\":{\"pattern\":{\"fillmode\":\"overlay\",\"size\":10,\"solidity\":0.2}},\"type\":\"histogram\"}],\"histogram2d\":[{\"colorbar\":{\"outlinewidth\":0,\"ticks\":\"\"},\"colorscale\":[[0.0,\"#0d0887\"],[0.1111111111111111,\"#46039f\"],[0.2222222222222222,\"#7201a8\"],[0.3333333333333333,\"#9c179e\"],[0.4444444444444444,\"#bd3786\"],[0.5555555555555556,\"#d8576b\"],[0.6666666666666666,\"#ed7953\"],[0.7777777777777778,\"#fb9f3a\"],[0.8888888888888888,\"#fdca26\"],[1.0,\"#f0f921\"]],\"type\":\"histogram2d\"}],\"histogram2dcontour\":[{\"colorbar\":{\"outlinewidth\":0,\"ticks\":\"\"},\"colorscale\":[[0.0,\"#0d0887\"],[0.1111111111111111,\"#46039f\"],[0.2222222222222222,\"#7201a8\"],[0.3333333333333333,\"#9c179e\"],[0.4444444444444444,\"#bd3786\"],[0.5555555555555556,\"#d8576b\"],[0.6666666666666666,\"#ed7953\"],[0.7777777777777778,\"#fb9f3a\"],[0.8888888888888888,\"#fdca26\"],[1.0,\"#f0f921\"]],\"type\":\"histogram2dcontour\"}],\"mesh3d\":[{\"colorbar\":{\"outlinewidth\":0,\"ticks\":\"\"},\"type\":\"mesh3d\"}],\"parcoords\":[{\"line\":{\"colorbar\":{\"outlinewidth\":0,\"ticks\":\"\"}},\"type\":\"parcoords\"}],\"pie\":[{\"automargin\":true,\"type\":\"pie\"}],\"scatter\":[{\"marker\":{\"colorbar\":{\"outlinewidth\":0,\"ticks\":\"\"}},\"type\":\"scatter\"}],\"scatter3d\":[{\"line\":{\"colorbar\":{\"outlinewidth\":0,\"ticks\":\"\"}},\"marker\":{\"colorbar\":{\"outlinewidth\":0,\"ticks\":\"\"}},\"type\":\"scatter3d\"}],\"scattercarpet\":[{\"marker\":{\"colorbar\":{\"outlinewidth\":0,\"ticks\":\"\"}},\"type\":\"scattercarpet\"}],\"scattergeo\":[{\"marker\":{\"colorbar\":{\"outlinewidth\":0,\"ticks\":\"\"}},\"type\":\"scattergeo\"}],\"scattergl\":[{\"marker\":{\"colorbar\":{\"outlinewidth\":0,\"ticks\":\"\"}},\"type\":\"scattergl\"}],\"scattermapbox\":[{\"marker\":{\"colorbar\":{\"outlinewidth\":0,\"ticks\":\"\"}},\"type\":\"scattermapbox\"}],\"scatterpolar\":[{\"marker\":{\"colorbar\":{\"outlinewidth\":0,\"ticks\":\"\"}},\"type\":\"scatterpolar\"}],\"scatterpolargl\":[{\"marker\":{\"colorbar\":{\"outlinewidth\":0,\"ticks\":\"\"}},\"type\":\"scatterpolargl\"}],\"scatterternary\":[{\"marker\":{\"colorbar\":{\"outlinewidth\":0,\"ticks\":\"\"}},\"type\":\"scatterternary\"}],\"surface\":[{\"colorbar\":{\"outlinewidth\":0,\"ticks\":\"\"},\"colorscale\":[[0.0,\"#0d0887\"],[0.1111111111111111,\"#46039f\"],[0.2222222222222222,\"#7201a8\"],[0.3333333333333333,\"#9c179e\"],[0.4444444444444444,\"#bd3786\"],[0.5555555555555556,\"#d8576b\"],[0.6666666666666666,\"#ed7953\"],[0.7777777777777778,\"#fb9f3a\"],[0.8888888888888888,\"#fdca26\"],[1.0,\"#f0f921\"]],\"type\":\"surface\"}],\"table\":[{\"cells\":{\"fill\":{\"color\":\"#EBF0F8\"},\"line\":{\"color\":\"white\"}},\"header\":{\"fill\":{\"color\":\"#C8D4E3\"},\"line\":{\"color\":\"white\"}},\"type\":\"table\"}]},\"layout\":{\"annotationdefaults\":{\"arrowcolor\":\"#2a3f5f\",\"arrowhead\":0,\"arrowwidth\":1},\"autotypenumbers\":\"strict\",\"coloraxis\":{\"colorbar\":{\"outlinewidth\":0,\"ticks\":\"\"}},\"colorscale\":{\"diverging\":[[0,\"#8e0152\"],[0.1,\"#c51b7d\"],[0.2,\"#de77ae\"],[0.3,\"#f1b6da\"],[0.4,\"#fde0ef\"],[0.5,\"#f7f7f7\"],[0.6,\"#e6f5d0\"],[0.7,\"#b8e186\"],[0.8,\"#7fbc41\"],[0.9,\"#4d9221\"],[1,\"#276419\"]],\"sequential\":[[0.0,\"#0d0887\"],[0.1111111111111111,\"#46039f\"],[0.2222222222222222,\"#7201a8\"],[0.3333333333333333,\"#9c179e\"],[0.4444444444444444,\"#bd3786\"],[0.5555555555555556,\"#d8576b\"],[0.6666666666666666,\"#ed7953\"],[0.7777777777777778,\"#fb9f3a\"],[0.8888888888888888,\"#fdca26\"],[1.0,\"#f0f921\"]],\"sequentialminus\":[[0.0,\"#0d0887\"],[0.1111111111111111,\"#46039f\"],[0.2222222222222222,\"#7201a8\"],[0.3333333333333333,\"#9c179e\"],[0.4444444444444444,\"#bd3786\"],[0.5555555555555556,\"#d8576b\"],[0.6666666666666666,\"#ed7953\"],[0.7777777777777778,\"#fb9f3a\"],[0.8888888888888888,\"#fdca26\"],[1.0,\"#f0f921\"]]},\"colorway\":[\"#636efa\",\"#EF553B\",\"#00cc96\",\"#ab63fa\",\"#FFA15A\",\"#19d3f3\",\"#FF6692\",\"#B6E880\",\"#FF97FF\",\"#FECB52\"],\"font\":{\"color\":\"#2a3f5f\"},\"geo\":{\"bgcolor\":\"white\",\"lakecolor\":\"white\",\"landcolor\":\"#E5ECF6\",\"showlakes\":true,\"showland\":true,\"subunitcolor\":\"white\"},\"hoverlabel\":{\"align\":\"left\"},\"hovermode\":\"closest\",\"mapbox\":{\"style\":\"light\"},\"paper_bgcolor\":\"white\",\"plot_bgcolor\":\"#E5ECF6\",\"polar\":{\"angularaxis\":{\"gridcolor\":\"white\",\"linecolor\":\"white\",\"ticks\":\"\"},\"bgcolor\":\"#E5ECF6\",\"radialaxis\":{\"gridcolor\":\"white\",\"linecolor\":\"white\",\"ticks\":\"\"}},\"scene\":{\"xaxis\":{\"backgroundcolor\":\"#E5ECF6\",\"gridcolor\":\"white\",\"gridwidth\":2,\"linecolor\":\"white\",\"showbackground\":true,\"ticks\":\"\",\"zerolinecolor\":\"white\"},\"yaxis\":{\"backgroundcolor\":\"#E5ECF6\",\"gridcolor\":\"white\",\"gridwidth\":2,\"linecolor\":\"white\",\"showbackground\":true,\"ticks\":\"\",\"zerolinecolor\":\"white\"},\"zaxis\":{\"backgroundcolor\":\"#E5ECF6\",\"gridcolor\":\"white\",\"gridwidth\":2,\"linecolor\":\"white\",\"showbackground\":true,\"ticks\":\"\",\"zerolinecolor\":\"white\"}},\"shapedefaults\":{\"line\":{\"color\":\"#2a3f5f\"}},\"ternary\":{\"aaxis\":{\"gridcolor\":\"white\",\"linecolor\":\"white\",\"ticks\":\"\"},\"baxis\":{\"gridcolor\":\"white\",\"linecolor\":\"white\",\"ticks\":\"\"},\"bgcolor\":\"#E5ECF6\",\"caxis\":{\"gridcolor\":\"white\",\"linecolor\":\"white\",\"ticks\":\"\"}},\"title\":{\"x\":0.05},\"xaxis\":{\"automargin\":true,\"gridcolor\":\"white\",\"linecolor\":\"white\",\"ticks\":\"\",\"title\":{\"standoff\":15},\"zerolinecolor\":\"white\",\"zerolinewidth\":2},\"yaxis\":{\"automargin\":true,\"gridcolor\":\"white\",\"linecolor\":\"white\",\"ticks\":\"\",\"title\":{\"standoff\":15},\"zerolinecolor\":\"white\",\"zerolinewidth\":2}}}},                        {\"responsive\": true}                    )                };                            </script>        </div>\n",
       "</body>\n",
       "</html>"
      ]
     },
     "metadata": {
      "application/vnd.databricks.v1+output": {
       "addedWidgets": {},
       "arguments": {},
       "data": "<html>\n<head><meta charset=\"utf-8\" /></head>\n<body>\n    <div>            <script src=\"https://cdnjs.cloudflare.com/ajax/libs/mathjax/2.7.5/MathJax.js?config=TeX-AMS-MML_SVG\"></script><script type=\"text/javascript\">if (window.MathJax) {MathJax.Hub.Config({SVG: {font: \"STIX-Web\"}});}</script>                <script type=\"text/javascript\">window.PlotlyConfig = {MathJaxConfig: 'local'};</script>\n        <script src=\"https://cdn.plot.ly/plotly-2.2.0.min.js\"></script>                <div id=\"97831611-f3d9-4d4c-aefd-1c9207bcbcea\" class=\"plotly-graph-div\" style=\"height:100%; width:100%;\"></div>            <script type=\"text/javascript\">                                    window.PLOTLYENV=window.PLOTLYENV || {};                                    if (document.getElementById(\"97831611-f3d9-4d4c-aefd-1c9207bcbcea\")) {                    Plotly.newPlot(                        \"97831611-f3d9-4d4c-aefd-1c9207bcbcea\",                        [{\"line\":{\"color\":\"#FF0000\"},\"name\":\"PROPHET_FC\",\"showlegend\":true,\"type\":\"scatter\",\"x\":[\"2022-05-10T00:00:00\",\"2022-05-11T00:00:00\",\"2022-05-12T00:00:00\",\"2022-05-13T00:00:00\",\"2022-05-14T00:00:00\",\"2022-05-16T00:00:00\",\"2022-05-17T00:00:00\",\"2022-05-18T00:00:00\",\"2022-05-19T00:00:00\",\"2022-05-20T00:00:00\",\"2022-05-23T00:00:00\",\"2022-05-24T00:00:00\",\"2022-05-25T00:00:00\",\"2022-05-27T00:00:00\",\"2022-05-30T00:00:00\",\"2022-05-31T00:00:00\",\"2022-06-01T00:00:00\",\"2022-06-02T00:00:00\",\"2022-06-03T00:00:00\",\"2022-06-04T00:00:00\",\"2022-06-07T00:00:00\",\"2022-06-08T00:00:00\",\"2022-06-09T00:00:00\",\"2022-06-10T00:00:00\",\"2022-06-11T00:00:00\",\"2022-06-13T00:00:00\",\"2022-06-14T00:00:00\",\"2022-06-15T00:00:00\",\"2022-06-16T00:00:00\",\"2022-06-17T00:00:00\",\"2022-06-18T00:00:00\",\"2022-06-20T00:00:00\",\"2022-06-21T00:00:00\",\"2022-06-22T00:00:00\",\"2022-06-23T00:00:00\",\"2022-06-24T00:00:00\",\"2022-06-25T00:00:00\",\"2022-06-27T00:00:00\",\"2022-06-28T00:00:00\",\"2022-06-29T00:00:00\",\"2022-06-30T00:00:00\",\"2022-07-01T00:00:00\",\"2022-07-02T00:00:00\",\"2022-07-04T00:00:00\",\"2022-07-05T00:00:00\",\"2022-07-06T00:00:00\",\"2022-07-07T00:00:00\",\"2022-07-08T00:00:00\",\"2022-07-09T00:00:00\",\"2022-07-11T00:00:00\",\"2022-07-12T00:00:00\",\"2022-07-13T00:00:00\",\"2022-07-14T00:00:00\",\"2022-07-15T00:00:00\",\"2022-07-16T00:00:00\",\"2022-07-18T00:00:00\",\"2022-07-19T00:00:00\",\"2022-07-20T00:00:00\",\"2022-07-22T00:00:00\",\"2022-07-23T00:00:00\",\"2022-07-25T00:00:00\",\"2022-07-26T00:00:00\",\"2022-07-27T00:00:00\",\"2022-07-28T00:00:00\",\"2022-07-29T00:00:00\",\"2022-07-30T00:00:00\",\"2022-08-01T00:00:00\",\"2022-08-02T00:00:00\",\"2022-08-03T00:00:00\",\"2022-08-04T00:00:00\",\"2022-08-05T00:00:00\",\"2022-08-06T00:00:00\",\"2022-08-08T00:00:00\",\"2022-08-09T00:00:00\",\"2022-08-10T00:00:00\",\"2022-08-11T00:00:00\",\"2022-08-12T00:00:00\",\"2022-08-13T00:00:00\",\"2022-08-16T00:00:00\",\"2022-08-17T00:00:00\",\"2022-08-18T00:00:00\",\"2022-08-19T00:00:00\",\"2022-08-22T00:00:00\",\"2022-08-23T00:00:00\",\"2022-08-24T00:00:00\",\"2022-08-25T00:00:00\",\"2022-08-26T00:00:00\",\"2022-08-27T00:00:00\",\"2022-08-29T00:00:00\",\"2022-08-30T00:00:00\",\"2022-08-31T00:00:00\",\"2022-09-01T00:00:00\",\"2022-09-02T00:00:00\",\"2022-09-03T00:00:00\",\"2022-09-05T00:00:00\",\"2022-09-06T00:00:00\",\"2022-09-07T00:00:00\",\"2022-09-08T00:00:00\",\"2022-09-09T00:00:00\",\"2022-09-10T00:00:00\",\"2022-09-12T00:00:00\",\"2022-09-13T00:00:00\",\"2022-09-14T00:00:00\",\"2022-09-15T00:00:00\",\"2022-09-16T00:00:00\",\"2022-09-17T00:00:00\",\"2022-09-19T00:00:00\",\"2022-09-20T00:00:00\",\"2022-09-21T00:00:00\",\"2022-09-22T00:00:00\",\"2022-09-23T00:00:00\",\"2022-09-24T00:00:00\",\"2022-09-26T00:00:00\",\"2022-09-27T00:00:00\",\"2022-09-28T00:00:00\",\"2022-09-29T00:00:00\",\"2022-09-30T00:00:00\",\"2022-10-01T00:00:00\",\"2022-10-03T00:00:00\",\"2022-10-04T00:00:00\",\"2022-10-05T00:00:00\",\"2022-10-06T00:00:00\",\"2022-10-07T00:00:00\",\"2022-10-08T00:00:00\",\"2022-10-10T00:00:00\",\"2022-10-11T00:00:00\",\"2022-10-12T00:00:00\",\"2022-10-13T00:00:00\",\"2022-10-14T00:00:00\",\"2022-10-15T00:00:00\",\"2022-10-17T00:00:00\",\"2022-10-18T00:00:00\",\"2022-10-19T00:00:00\",\"2022-10-20T00:00:00\",\"2022-10-21T00:00:00\",\"2022-10-22T00:00:00\",\"2022-10-24T00:00:00\",\"2022-10-25T00:00:00\",\"2022-10-26T00:00:00\",\"2022-10-27T00:00:00\",\"2022-10-28T00:00:00\",\"2022-10-29T00:00:00\",\"2022-10-31T00:00:00\",\"2022-11-02T00:00:00\",\"2022-11-03T00:00:00\",\"2022-11-04T00:00:00\",\"2022-11-05T00:00:00\",\"2022-11-07T00:00:00\",\"2022-11-08T00:00:00\",\"2022-11-09T00:00:00\",\"2022-11-10T00:00:00\",\"2022-11-12T00:00:00\",\"2022-11-14T00:00:00\",\"2022-11-15T00:00:00\",\"2022-11-16T00:00:00\",\"2022-11-17T00:00:00\",\"2022-11-18T00:00:00\",\"2022-11-19T00:00:00\",\"2022-11-21T00:00:00\",\"2022-11-22T00:00:00\",\"2022-11-23T00:00:00\",\"2022-11-24T00:00:00\",\"2022-11-25T00:00:00\",\"2022-11-26T00:00:00\",\"2022-11-28T00:00:00\",\"2022-11-29T00:00:00\",\"2022-11-30T00:00:00\",\"2022-12-01T00:00:00\",\"2022-12-02T00:00:00\",\"2022-12-03T00:00:00\",\"2022-12-05T00:00:00\",\"2022-12-06T00:00:00\",\"2022-12-07T00:00:00\",\"2022-12-08T00:00:00\",\"2022-12-09T00:00:00\",\"2022-12-10T00:00:00\",\"2022-12-12T00:00:00\",\"2022-12-13T00:00:00\",\"2022-12-14T00:00:00\",\"2022-12-15T00:00:00\",\"2022-12-16T00:00:00\",\"2022-12-17T00:00:00\",\"2022-12-19T00:00:00\",\"2022-12-20T00:00:00\",\"2022-12-21T00:00:00\",\"2022-12-22T00:00:00\",\"2022-12-23T00:00:00\",\"2022-12-24T00:00:00\",\"2022-12-26T00:00:00\",\"2022-12-27T00:00:00\",\"2022-12-28T00:00:00\",\"2022-12-29T00:00:00\",\"2022-12-30T00:00:00\",\"2022-12-31T00:00:00\"],\"y\":[75834.75808071613,60604.56034846832,49186.08317174054,56093.41105785143,46303.20624519268,103581.84731881172,75972.70879108182,60879.200668581965,50339.765556303246,56873.736473382116,104601.1004420823,75234.96918221563,58966.581908642314,56144.11415943232,105454.81503674605,71043.38996946295,54836.498823289134,47980.19671506544,52297.99428318548,38742.16167889284,68434.924839433,52718.23735346685,45892.80572649831,50968.72439727564,34364.73493434182,102497.69184584638,62824.789774589284,48064.71056600829,38440.87255225942,47281.41273909598,33747.32649859452,89595.14805430303,70376.11838147478,53149.94198113933,46802.17126249797,53059.15172990026,43310.022182710214,105726.47841460563,71807.57407270567,54522.850212950354,49140.982756912505,52635.37927170238,42191.654752435905,100984.82030469304,67841.33130638239,49898.177134425925,46639.68931262264,53111.88552901481,40891.45176974246,99972.9084637044,68445.77768429717,49025.14797056169,47367.5809517804,53391.884904017286,41229.2909789016,99894.47269532914,66010.82440322763,46060.636820979285,51019.99967912604,39065.34153636145,96274.53600114504,58245.1362457764,39192.172979804556,35771.78749322797,43631.964345244865,30801.47769220241,76973.93145746572,61588.23465496745,43778.675649605364,42573.12162720264,48094.3633345916,34585.01811784836,90848.42711839476,60600.15156066095,42429.5850362301,41714.38938601814,47323.00181980495,32632.01985391226,59015.13054343237,42549.42935981555,41811.045409815764,45948.98764460023,85970.8575399685,61945.79926682478,45149.913933667616,43524.95371982733,48914.871801386194,39309.06652936696,88679.80086784376,63795.68902912111,49133.27787698123,63054.186115658216,68926.395786741,55738.70159962633,110885.20970670597,82104.89352400247,69050.79245414566,65514.51161897568,70573.03579162172,62074.39712875507,115736.03876858353,79632.56961668553,66002.78349838118,60858.09898408698,66063.57445564792,58746.648718573924,111437.30390916258,82500.3497695982,69566.29689173003,63958.877438114694,69185.56532032014,59909.40674167628,116871.59573166314,81274.19605241416,68631.55803109652,55890.92394365274,67086.86533647227,60852.70952767615,104135.91632853595,73336.97686148022,60677.59163608908,53044.702533652,58910.72374394466,55925.248590733645,105206.8143567692,75098.19845546267,63093.550856019334,52996.4191267546,59998.97470466636,57409.35775330151,98270.25757767123,73236.00152212557,64020.05334859901,54958.48002117122,60133.25268661506,57395.50777817359,101631.47356061282,64757.68306487518,55056.67218662229,43529.90990306408,50741.89129179025,48376.23962213898,86226.17375132121,66124.00109001159,54460.129615761376,59625.098320363846,58553.93655128858,105554.62840762775,76034.08804967368,69000.15179535982,58719.33918463967,61331.334198828044,109054.71481649563,78017.67798460765,76763.53640266416,61528.55921585005,67940.62764998707,65070.896750865715,112284.50040385549,78131.9709840059,70142.89682048121,56803.62546987459,59657.47579600307,60552.44072408254,106773.88338637381,77048.75310088688,70202.51544415734,61214.36775103985,59565.80016501318,60730.33361207325,104835.71333801403,89033.9045640688,78603.09283881045,68908.47353514025,69868.77579032446,68987.79793853711,121640.42137045052,77975.52998897288,72765.16851993056,62495.82133190055,58996.56223742936,61592.88495105375,111156.18844555457,82228.27455267431,75147.52258690586,66039.19035424972,63539.955008356446,64857.16137684457,124216.2499628102,85368.1181709051,77879.49570338655,68690.71780998104,65367.3142116292,69432.70382187578]},{\"line\":{\"color\":\"#0000FF\"},\"name\":\"Dry Fc\",\"showlegend\":true,\"type\":\"scatter\",\"x\":[\"2022-05-10T00:00:00\",\"2022-05-11T00:00:00\",\"2022-05-12T00:00:00\",\"2022-05-13T00:00:00\",\"2022-05-14T00:00:00\",\"2022-05-16T00:00:00\",\"2022-05-17T00:00:00\",\"2022-05-18T00:00:00\",\"2022-05-19T00:00:00\",\"2022-05-20T00:00:00\",\"2022-05-23T00:00:00\",\"2022-05-24T00:00:00\",\"2022-05-25T00:00:00\",\"2022-05-27T00:00:00\",\"2022-05-30T00:00:00\",\"2022-05-31T00:00:00\",\"2022-06-01T00:00:00\",\"2022-06-02T00:00:00\",\"2022-06-03T00:00:00\",\"2022-06-04T00:00:00\",\"2022-06-07T00:00:00\",\"2022-06-08T00:00:00\",\"2022-06-09T00:00:00\",\"2022-06-10T00:00:00\",\"2022-06-11T00:00:00\",\"2022-06-13T00:00:00\",\"2022-06-14T00:00:00\",\"2022-06-15T00:00:00\",\"2022-06-16T00:00:00\",\"2022-06-17T00:00:00\",\"2022-06-18T00:00:00\",\"2022-06-20T00:00:00\",\"2022-06-21T00:00:00\",\"2022-06-22T00:00:00\",\"2022-06-23T00:00:00\",\"2022-06-24T00:00:00\",\"2022-06-25T00:00:00\",\"2022-06-27T00:00:00\",\"2022-06-28T00:00:00\",\"2022-06-29T00:00:00\",\"2022-06-30T00:00:00\",\"2022-07-01T00:00:00\",\"2022-07-02T00:00:00\",\"2022-07-04T00:00:00\",\"2022-07-05T00:00:00\",\"2022-07-06T00:00:00\",\"2022-07-07T00:00:00\",\"2022-07-08T00:00:00\",\"2022-07-09T00:00:00\",\"2022-07-11T00:00:00\",\"2022-07-12T00:00:00\",\"2022-07-13T00:00:00\",\"2022-07-14T00:00:00\",\"2022-07-15T00:00:00\",\"2022-07-16T00:00:00\",\"2022-07-18T00:00:00\",\"2022-07-19T00:00:00\",\"2022-07-20T00:00:00\",\"2022-07-22T00:00:00\",\"2022-07-23T00:00:00\",\"2022-07-25T00:00:00\",\"2022-07-26T00:00:00\",\"2022-07-27T00:00:00\",\"2022-07-28T00:00:00\",\"2022-07-29T00:00:00\",\"2022-07-30T00:00:00\",\"2022-08-01T00:00:00\",\"2022-08-02T00:00:00\",\"2022-08-03T00:00:00\",\"2022-08-04T00:00:00\",\"2022-08-05T00:00:00\",\"2022-08-06T00:00:00\",\"2022-08-08T00:00:00\",\"2022-08-09T00:00:00\",\"2022-08-10T00:00:00\",\"2022-08-11T00:00:00\",\"2022-08-12T00:00:00\",\"2022-08-13T00:00:00\",\"2022-08-16T00:00:00\",\"2022-08-17T00:00:00\",\"2022-08-18T00:00:00\",\"2022-08-19T00:00:00\",\"2022-08-22T00:00:00\",\"2022-08-23T00:00:00\",\"2022-08-24T00:00:00\",\"2022-08-25T00:00:00\",\"2022-08-26T00:00:00\",\"2022-08-27T00:00:00\",\"2022-08-29T00:00:00\",\"2022-08-30T00:00:00\",\"2022-08-31T00:00:00\",\"2022-09-01T00:00:00\",\"2022-09-02T00:00:00\",\"2022-09-03T00:00:00\",\"2022-09-05T00:00:00\",\"2022-09-06T00:00:00\",\"2022-09-07T00:00:00\",\"2022-09-08T00:00:00\",\"2022-09-09T00:00:00\",\"2022-09-10T00:00:00\",\"2022-09-12T00:00:00\",\"2022-09-13T00:00:00\",\"2022-09-14T00:00:00\",\"2022-09-15T00:00:00\",\"2022-09-16T00:00:00\",\"2022-09-17T00:00:00\",\"2022-09-19T00:00:00\",\"2022-09-20T00:00:00\",\"2022-09-21T00:00:00\",\"2022-09-22T00:00:00\",\"2022-09-23T00:00:00\",\"2022-09-24T00:00:00\",\"2022-09-26T00:00:00\",\"2022-09-27T00:00:00\",\"2022-09-28T00:00:00\",\"2022-09-29T00:00:00\",\"2022-09-30T00:00:00\",\"2022-10-01T00:00:00\",\"2022-10-03T00:00:00\",\"2022-10-04T00:00:00\",\"2022-10-05T00:00:00\",\"2022-10-06T00:00:00\",\"2022-10-07T00:00:00\",\"2022-10-08T00:00:00\",\"2022-10-10T00:00:00\",\"2022-10-11T00:00:00\",\"2022-10-12T00:00:00\",\"2022-10-13T00:00:00\",\"2022-10-14T00:00:00\",\"2022-10-15T00:00:00\",\"2022-10-17T00:00:00\",\"2022-10-18T00:00:00\",\"2022-10-19T00:00:00\",\"2022-10-20T00:00:00\",\"2022-10-21T00:00:00\",\"2022-10-22T00:00:00\",\"2022-10-24T00:00:00\",\"2022-10-25T00:00:00\",\"2022-10-26T00:00:00\",\"2022-10-27T00:00:00\",\"2022-10-28T00:00:00\",\"2022-10-29T00:00:00\",\"2022-10-31T00:00:00\",\"2022-11-02T00:00:00\",\"2022-11-03T00:00:00\",\"2022-11-04T00:00:00\",\"2022-11-05T00:00:00\",\"2022-11-07T00:00:00\",\"2022-11-08T00:00:00\",\"2022-11-09T00:00:00\",\"2022-11-10T00:00:00\",\"2022-11-12T00:00:00\",\"2022-11-14T00:00:00\",\"2022-11-15T00:00:00\",\"2022-11-16T00:00:00\",\"2022-11-17T00:00:00\",\"2022-11-18T00:00:00\",\"2022-11-19T00:00:00\",\"2022-11-21T00:00:00\",\"2022-11-22T00:00:00\",\"2022-11-23T00:00:00\",\"2022-11-24T00:00:00\",\"2022-11-25T00:00:00\",\"2022-11-26T00:00:00\",\"2022-11-28T00:00:00\",\"2022-11-29T00:00:00\",\"2022-11-30T00:00:00\",\"2022-12-01T00:00:00\",\"2022-12-02T00:00:00\",\"2022-12-03T00:00:00\",\"2022-12-05T00:00:00\",\"2022-12-06T00:00:00\",\"2022-12-07T00:00:00\",\"2022-12-08T00:00:00\",\"2022-12-09T00:00:00\",\"2022-12-10T00:00:00\",\"2022-12-12T00:00:00\",\"2022-12-13T00:00:00\",\"2022-12-14T00:00:00\",\"2022-12-15T00:00:00\",\"2022-12-16T00:00:00\",\"2022-12-17T00:00:00\",\"2022-12-19T00:00:00\",\"2022-12-20T00:00:00\",\"2022-12-21T00:00:00\",\"2022-12-22T00:00:00\",\"2022-12-23T00:00:00\",\"2022-12-24T00:00:00\",\"2022-12-26T00:00:00\",\"2022-12-27T00:00:00\",\"2022-12-28T00:00:00\",\"2022-12-29T00:00:00\",\"2022-12-30T00:00:00\",\"2022-12-31T00:00:00\"],\"y\":[66717.72973246055,63909.213526771855,59648.343564024806,57664.833847380076,59931.051336991906,101870.5203639978,62385.51176260596,60376.83305392805,56748.69272304996,55594.135446805565,112076.06545034557,53338.46750795982,55812.46562745803,50418.27473754566,98434.30438693427,70477.19184513018,62515.90211111716,59605.34218564632,53492.00917396923,60335.63638848651,86207.15884374786,57255.31338621,57574.319187916975,55072.69835491228,58815.70034950752,96667.37256446898,66891.68466162174,61393.93721324793,57778.462573692756,55121.38942461369,59001.6055543444,96801.02440037635,66984.21387926066,61478.545877828525,57858.58093130321,55197.524551783164,59083.027327602074,92933.84944222373,64308.73155123107,59022.644374550386,55547.370004981385,52992.704386485675,56723.207841394156,85022.7517919022,59504.15192532975,49762.946109945704,45781.98329827027,44543.91850111462,49006.02393326668,80053.6,54939.36,53995.5,45738.981919891776,40023.074,46706.917792435874,76897.70000000001,54842.88,51537.0,40934.138000000006,47661.858705382794,79558.6,57297.6,51311.5,42490.34094491886,37918.776000000005,45482.767317041624,72018.44,52116.696,47162.88,38647.11,36305.332,43547.47060238527,70842.72,56265.8,46392.96,38016.3,35712.572,42836.79500921137,62413.176,49930.56,44729.46,42232.932,130029.5,61770.672,54262.56,49477.09,47141.066000000006,55026.52869345249,129172.8,64334.76,64955.84,54536.47,51232.328,61452.25973557388,108371.78,71969.568,72902.4,62486.74,50550.654,56142.90121465017,158526.0,68807.664,67241.76,56898.03,53821.796,55937.69952019731,94690.0,67428.0,66269.0,56179.0,49120.0,57324.0,96356.70000000001,68614.08,67435.0,57168.147000000004,49984.69,58332.81746301982,102945.95000000001,67609.92,66448.0,56331.456,49253.078,57479.06545903475,103129.95000000001,73437.59999999999,67175.5,56186.71,53498.62,62433.08618337151,102477.1,72972.48,66718.5,55799.395000000004,53160.016,62037.74346928801,99840.95000000001,71095.68,64874.0,56235.639,51792.608,60442.25323030819,83700.0,122369.5,62373.57,93396.986,54571.41392616827,87129.35,130567.16,73808.0,107011.048,54224.547759168825,101431.55,72925.44,89377.5,94153.158,64551.78400000001,73651.11825961922,123021.62000000001,73439.0,73578.23999999999,62106.488999999994,54737.502,64327.926505431795,161687.0,79465.92,78236.16,66038.12899999999,57431.396,67500.02432023385,102602.0,68159.58,67104.48,56642.028999999995,49260.162000000004,57896.30553471792,127238.0,69614.575,68447.115,57965.376,50616.626000000004,59171.04536515723,80000.0,77948.45,76588.38,69316.352,56404.259000000005,69863.67648837071,95488.0,71459.26999999999,71916.31999999999,60346.34599999999,52203.888,62750.13142604998]},{\"line\":{\"color\":\"#00FF00\"},\"name\":\"Dry Actuals\",\"showlegend\":true,\"type\":\"scatter\",\"x\":[\"2022-05-10T00:00:00\",\"2022-05-11T00:00:00\",\"2022-05-12T00:00:00\",\"2022-05-13T00:00:00\",\"2022-05-14T00:00:00\",\"2022-05-16T00:00:00\",\"2022-05-17T00:00:00\",\"2022-05-18T00:00:00\",\"2022-05-19T00:00:00\",\"2022-05-20T00:00:00\",\"2022-05-23T00:00:00\",\"2022-05-24T00:00:00\",\"2022-05-25T00:00:00\",\"2022-05-27T00:00:00\",\"2022-05-30T00:00:00\",\"2022-05-31T00:00:00\",\"2022-06-01T00:00:00\",\"2022-06-02T00:00:00\",\"2022-06-03T00:00:00\",\"2022-06-04T00:00:00\",\"2022-06-07T00:00:00\",\"2022-06-08T00:00:00\",\"2022-06-09T00:00:00\",\"2022-06-10T00:00:00\",\"2022-06-11T00:00:00\",\"2022-06-13T00:00:00\",\"2022-06-14T00:00:00\",\"2022-06-15T00:00:00\",\"2022-06-16T00:00:00\",\"2022-06-17T00:00:00\",\"2022-06-18T00:00:00\",\"2022-06-20T00:00:00\",\"2022-06-21T00:00:00\",\"2022-06-22T00:00:00\",\"2022-06-23T00:00:00\",\"2022-06-24T00:00:00\",\"2022-06-25T00:00:00\",\"2022-06-27T00:00:00\",\"2022-06-28T00:00:00\",\"2022-06-29T00:00:00\",\"2022-06-30T00:00:00\",\"2022-07-01T00:00:00\",\"2022-07-02T00:00:00\",\"2022-07-04T00:00:00\",\"2022-07-05T00:00:00\",\"2022-07-06T00:00:00\",\"2022-07-07T00:00:00\",\"2022-07-08T00:00:00\",\"2022-07-09T00:00:00\",\"2022-07-11T00:00:00\",\"2022-07-12T00:00:00\",\"2022-07-13T00:00:00\",\"2022-07-14T00:00:00\",\"2022-07-15T00:00:00\",\"2022-07-16T00:00:00\",\"2022-07-18T00:00:00\",\"2022-07-19T00:00:00\",\"2022-07-20T00:00:00\",\"2022-07-22T00:00:00\",\"2022-07-23T00:00:00\",\"2022-07-25T00:00:00\",\"2022-07-26T00:00:00\",\"2022-07-27T00:00:00\",\"2022-07-28T00:00:00\",\"2022-07-29T00:00:00\",\"2022-07-30T00:00:00\",\"2022-08-01T00:00:00\",\"2022-08-02T00:00:00\",\"2022-08-03T00:00:00\",\"2022-08-04T00:00:00\",\"2022-08-05T00:00:00\",\"2022-08-06T00:00:00\",\"2022-08-08T00:00:00\",\"2022-08-09T00:00:00\",\"2022-08-10T00:00:00\",\"2022-08-11T00:00:00\",\"2022-08-12T00:00:00\",\"2022-08-13T00:00:00\",\"2022-08-16T00:00:00\",\"2022-08-17T00:00:00\",\"2022-08-18T00:00:00\",\"2022-08-19T00:00:00\",\"2022-08-22T00:00:00\",\"2022-08-23T00:00:00\",\"2022-08-24T00:00:00\",\"2022-08-25T00:00:00\",\"2022-08-26T00:00:00\",\"2022-08-27T00:00:00\",\"2022-08-29T00:00:00\",\"2022-08-30T00:00:00\",\"2022-08-31T00:00:00\",\"2022-09-01T00:00:00\",\"2022-09-02T00:00:00\",\"2022-09-03T00:00:00\",\"2022-09-05T00:00:00\",\"2022-09-06T00:00:00\",\"2022-09-07T00:00:00\",\"2022-09-08T00:00:00\",\"2022-09-09T00:00:00\",\"2022-09-10T00:00:00\",\"2022-09-12T00:00:00\",\"2022-09-13T00:00:00\",\"2022-09-14T00:00:00\",\"2022-09-15T00:00:00\",\"2022-09-16T00:00:00\",\"2022-09-17T00:00:00\",\"2022-09-19T00:00:00\",\"2022-09-20T00:00:00\",\"2022-09-21T00:00:00\",\"2022-09-22T00:00:00\",\"2022-09-23T00:00:00\",\"2022-09-24T00:00:00\",\"2022-09-26T00:00:00\",\"2022-09-27T00:00:00\",\"2022-09-28T00:00:00\",\"2022-09-29T00:00:00\",\"2022-09-30T00:00:00\",\"2022-10-01T00:00:00\",\"2022-10-03T00:00:00\",\"2022-10-04T00:00:00\",\"2022-10-05T00:00:00\",\"2022-10-06T00:00:00\",\"2022-10-07T00:00:00\",\"2022-10-08T00:00:00\",\"2022-10-10T00:00:00\",\"2022-10-11T00:00:00\",\"2022-10-12T00:00:00\",\"2022-10-13T00:00:00\",\"2022-10-14T00:00:00\",\"2022-10-15T00:00:00\",\"2022-10-17T00:00:00\",\"2022-10-18T00:00:00\",\"2022-10-19T00:00:00\",\"2022-10-20T00:00:00\",\"2022-10-21T00:00:00\",\"2022-10-22T00:00:00\",\"2022-10-24T00:00:00\",\"2022-10-25T00:00:00\",\"2022-10-26T00:00:00\",\"2022-10-27T00:00:00\",\"2022-10-28T00:00:00\",\"2022-10-29T00:00:00\",\"2022-10-31T00:00:00\",\"2022-11-02T00:00:00\",\"2022-11-03T00:00:00\",\"2022-11-04T00:00:00\",\"2022-11-05T00:00:00\",\"2022-11-07T00:00:00\",\"2022-11-08T00:00:00\",\"2022-11-09T00:00:00\",\"2022-11-10T00:00:00\",\"2022-11-12T00:00:00\",\"2022-11-14T00:00:00\",\"2022-11-15T00:00:00\",\"2022-11-16T00:00:00\",\"2022-11-17T00:00:00\",\"2022-11-18T00:00:00\",\"2022-11-19T00:00:00\",\"2022-11-21T00:00:00\",\"2022-11-22T00:00:00\",\"2022-11-23T00:00:00\",\"2022-11-24T00:00:00\",\"2022-11-25T00:00:00\",\"2022-11-26T00:00:00\",\"2022-11-28T00:00:00\",\"2022-11-29T00:00:00\",\"2022-11-30T00:00:00\",\"2022-12-01T00:00:00\",\"2022-12-02T00:00:00\",\"2022-12-03T00:00:00\",\"2022-12-05T00:00:00\",\"2022-12-06T00:00:00\",\"2022-12-07T00:00:00\",\"2022-12-08T00:00:00\",\"2022-12-09T00:00:00\",\"2022-12-10T00:00:00\",\"2022-12-12T00:00:00\",\"2022-12-13T00:00:00\",\"2022-12-14T00:00:00\",\"2022-12-15T00:00:00\",\"2022-12-16T00:00:00\",\"2022-12-17T00:00:00\",\"2022-12-19T00:00:00\",\"2022-12-20T00:00:00\",\"2022-12-21T00:00:00\",\"2022-12-22T00:00:00\",\"2022-12-23T00:00:00\",\"2022-12-24T00:00:00\",\"2022-12-26T00:00:00\",\"2022-12-27T00:00:00\",\"2022-12-28T00:00:00\",\"2022-12-29T00:00:00\",\"2022-12-30T00:00:00\",\"2022-12-31T00:00:00\"],\"y\":[66459.0,49313.0,43377.0,46556.0,77061.0,102662.0,63737.0,45119.0,46023.0,48034.0,94552.0,50036.0,49300.0,49522.0,119781.0,61844.0,58887.0,51984.0,62209.0,68509.0,106319.0,53805.0,58254.0,56166.0,61616.0,99560.0,67555.0,62152.0,47822.0,63600.0,66165.0,100734.0,67123.0,44627.0,64461.0,64756.0,50232.0,92649.0,78220.0,54586.0,53490.0,48779.0,55891.0,82020.0,68366.0,40040.0,41510.0,45230.0,46018.0,72446.0,57417.0,46396.0,44223.0,41982.0,20444.0,67408.0,51655.0,53350.0,45843.0,45485.0,78763.0,52702.0,42004.0,32949.0,45028.0,41383.0,76669.0,55647.0,49693.0,36827.0,47440.0,49884.0,70855.0,56805.0,47403.0,38883.0,39481.0,49016.0,61049.0,59310.0,49368.0,61442.0,136882.0,61580.0,50038.0,48455.0,49353.0,56956.0,131672.0,76713.0,65449.0,49272.0,57084.0,59431.0,103097.0,73147.0,67905.0,56859.0,57735.0,54993.0,164456.0,65782.0,59572.0,41459.0,51658.0,61369.0,89514.0,70307.0,61766.0,41772.0,49116.0,48730.0,94115.0,63565.0,71881.0,50620.0,53125.0,66394.0,106538.0,72374.0,67128.0,59796.0,55493.0,58173.0,103076.0,74521.0,60987.0,53184.0,54679.0,63320.0,97073.0,70464.0,62003.0,50744.0,48111.0,56447.0,89090.0,55399.0,61348.0,52311.0,49238.0,52733.0,86280.0,122036.0,60848.0,94252.0,69661.0,97285.0,189772.0,21742.0,94385.0,41452.0,97817.0,69017.0,90926.0,84224.0,56027.0,63773.0,112319.0,66169.0,68042.0,50627.0,49605.0,68685.0,158821.0,70831.0,76542.0,67017.0,64654.0,64759.0,94568.0,76287.0,63301.0,54256.0,52050.0,58807.0,123475.0,68514.0,65979.0,56286.0,50336.0,39622.0,76525.0,75921.0,58697.0,62334.0,55510.0,37575.0,90911.0,63764.0,47680.0,39552.0,61119.0,46818.0]},{\"line\":{\"color\":\"#000099\",\"dash\":\"dash\",\"width\":0.5},\"mode\":\"lines\",\"name\":\"Outside_range_Dry_WOW\",\"showlegend\":true,\"type\":\"scatter\",\"x\":[\"2022-05-11T00:00:00\",\"2022-05-11T00:00:00\"],\"y\":[20444.0,189772.0]},{\"line\":{\"color\":\"#000099\",\"dash\":\"dash\",\"width\":0.5},\"mode\":\"lines\",\"name\":\"Outside_range_Dry_WOW\",\"showlegend\":false,\"type\":\"scatter\",\"x\":[\"2022-05-12T00:00:00\",\"2022-05-12T00:00:00\"],\"y\":[20444.0,189772.0]},{\"line\":{\"color\":\"#000099\",\"dash\":\"dash\",\"width\":0.5},\"mode\":\"lines\",\"name\":\"Outside_range_Dry_WOW\",\"showlegend\":false,\"type\":\"scatter\",\"x\":[\"2022-05-13T00:00:00\",\"2022-05-13T00:00:00\"],\"y\":[20444.0,189772.0]},{\"line\":{\"color\":\"#000099\",\"dash\":\"dash\",\"width\":0.5},\"mode\":\"lines\",\"name\":\"Outside_range_Dry_WOW\",\"showlegend\":false,\"type\":\"scatter\",\"x\":[\"2022-05-14T00:00:00\",\"2022-05-14T00:00:00\"],\"y\":[20444.0,189772.0]},{\"line\":{\"color\":\"#000099\",\"dash\":\"dash\",\"width\":0.5},\"mode\":\"lines\",\"name\":\"Outside_range_Dry_WOW\",\"showlegend\":false,\"type\":\"scatter\",\"x\":[\"2022-05-18T00:00:00\",\"2022-05-18T00:00:00\"],\"y\":[20444.0,189772.0]},{\"line\":{\"color\":\"#000099\",\"dash\":\"dash\",\"width\":0.5},\"mode\":\"lines\",\"name\":\"Outside_range_Dry_WOW\",\"showlegend\":false,\"type\":\"scatter\",\"x\":[\"2022-05-19T00:00:00\",\"2022-05-19T00:00:00\"],\"y\":[20444.0,189772.0]},{\"line\":{\"color\":\"#000099\",\"dash\":\"dash\",\"width\":0.5},\"mode\":\"lines\",\"name\":\"Outside_range_Dry_WOW\",\"showlegend\":false,\"type\":\"scatter\",\"x\":[\"2022-05-20T00:00:00\",\"2022-05-20T00:00:00\"],\"y\":[20444.0,189772.0]},{\"line\":{\"color\":\"#000099\",\"dash\":\"dash\",\"width\":0.5},\"mode\":\"lines\",\"name\":\"Outside_range_Dry_WOW\",\"showlegend\":false,\"type\":\"scatter\",\"x\":[\"2022-05-23T00:00:00\",\"2022-05-23T00:00:00\"],\"y\":[20444.0,189772.0]},{\"line\":{\"color\":\"#000099\",\"dash\":\"dash\",\"width\":0.5},\"mode\":\"lines\",\"name\":\"Outside_range_Dry_WOW\",\"showlegend\":false,\"type\":\"scatter\",\"x\":[\"2022-05-25T00:00:00\",\"2022-05-25T00:00:00\"],\"y\":[20444.0,189772.0]},{\"line\":{\"color\":\"#000099\",\"dash\":\"dash\",\"width\":0.5},\"mode\":\"lines\",\"name\":\"Outside_range_Dry_WOW\",\"showlegend\":false,\"type\":\"scatter\",\"x\":[\"2022-05-30T00:00:00\",\"2022-05-30T00:00:00\"],\"y\":[20444.0,189772.0]},{\"line\":{\"color\":\"#000099\",\"dash\":\"dash\",\"width\":0.5},\"mode\":\"lines\",\"name\":\"Outside_range_Dry_WOW\",\"showlegend\":false,\"type\":\"scatter\",\"x\":[\"2022-05-31T00:00:00\",\"2022-05-31T00:00:00\"],\"y\":[20444.0,189772.0]},{\"line\":{\"color\":\"#000099\",\"dash\":\"dash\",\"width\":0.5},\"mode\":\"lines\",\"name\":\"Outside_range_Dry_WOW\",\"showlegend\":false,\"type\":\"scatter\",\"x\":[\"2022-06-02T00:00:00\",\"2022-06-02T00:00:00\"],\"y\":[20444.0,189772.0]},{\"line\":{\"color\":\"#000099\",\"dash\":\"dash\",\"width\":0.5},\"mode\":\"lines\",\"name\":\"Outside_range_Dry_WOW\",\"showlegend\":false,\"type\":\"scatter\",\"x\":[\"2022-06-03T00:00:00\",\"2022-06-03T00:00:00\"],\"y\":[20444.0,189772.0]},{\"line\":{\"color\":\"#000099\",\"dash\":\"dash\",\"width\":0.5},\"mode\":\"lines\",\"name\":\"Outside_range_Dry_WOW\",\"showlegend\":false,\"type\":\"scatter\",\"x\":[\"2022-06-04T00:00:00\",\"2022-06-04T00:00:00\"],\"y\":[20444.0,189772.0]},{\"line\":{\"color\":\"#000099\",\"dash\":\"dash\",\"width\":0.5},\"mode\":\"lines\",\"name\":\"Outside_range_Dry_WOW\",\"showlegend\":false,\"type\":\"scatter\",\"x\":[\"2022-06-07T00:00:00\",\"2022-06-07T00:00:00\"],\"y\":[20444.0,189772.0]},{\"line\":{\"color\":\"#000099\",\"dash\":\"dash\",\"width\":0.5},\"mode\":\"lines\",\"name\":\"Outside_range_Dry_WOW\",\"showlegend\":false,\"type\":\"scatter\",\"x\":[\"2022-06-16T00:00:00\",\"2022-06-16T00:00:00\"],\"y\":[20444.0,189772.0]},{\"line\":{\"color\":\"#000099\",\"dash\":\"dash\",\"width\":0.5},\"mode\":\"lines\",\"name\":\"Outside_range_Dry_WOW\",\"showlegend\":false,\"type\":\"scatter\",\"x\":[\"2022-06-17T00:00:00\",\"2022-06-17T00:00:00\"],\"y\":[20444.0,189772.0]},{\"line\":{\"color\":\"#000099\",\"dash\":\"dash\",\"width\":0.5},\"mode\":\"lines\",\"name\":\"Outside_range_Dry_WOW\",\"showlegend\":false,\"type\":\"scatter\",\"x\":[\"2022-06-18T00:00:00\",\"2022-06-18T00:00:00\"],\"y\":[20444.0,189772.0]},{\"line\":{\"color\":\"#000099\",\"dash\":\"dash\",\"width\":0.5},\"mode\":\"lines\",\"name\":\"Outside_range_Dry_WOW\",\"showlegend\":false,\"type\":\"scatter\",\"x\":[\"2022-06-22T00:00:00\",\"2022-06-22T00:00:00\"],\"y\":[20444.0,189772.0]},{\"line\":{\"color\":\"#000099\",\"dash\":\"dash\",\"width\":0.5},\"mode\":\"lines\",\"name\":\"Outside_range_Dry_WOW\",\"showlegend\":false,\"type\":\"scatter\",\"x\":[\"2022-06-23T00:00:00\",\"2022-06-23T00:00:00\"],\"y\":[20444.0,189772.0]},{\"line\":{\"color\":\"#000099\",\"dash\":\"dash\",\"width\":0.5},\"mode\":\"lines\",\"name\":\"Outside_range_Dry_WOW\",\"showlegend\":false,\"type\":\"scatter\",\"x\":[\"2022-06-24T00:00:00\",\"2022-06-24T00:00:00\"],\"y\":[20444.0,189772.0]},{\"line\":{\"color\":\"#000099\",\"dash\":\"dash\",\"width\":0.5},\"mode\":\"lines\",\"name\":\"Outside_range_Dry_WOW\",\"showlegend\":false,\"type\":\"scatter\",\"x\":[\"2022-06-25T00:00:00\",\"2022-06-25T00:00:00\"],\"y\":[20444.0,189772.0]},{\"line\":{\"color\":\"#000099\",\"dash\":\"dash\",\"width\":0.5},\"mode\":\"lines\",\"name\":\"Outside_range_Dry_WOW\",\"showlegend\":false,\"type\":\"scatter\",\"x\":[\"2022-06-28T00:00:00\",\"2022-06-28T00:00:00\"],\"y\":[20444.0,189772.0]},{\"line\":{\"color\":\"#000099\",\"dash\":\"dash\",\"width\":0.5},\"mode\":\"lines\",\"name\":\"Outside_range_Dry_WOW\",\"showlegend\":false,\"type\":\"scatter\",\"x\":[\"2022-07-05T00:00:00\",\"2022-07-05T00:00:00\"],\"y\":[20444.0,189772.0]},{\"line\":{\"color\":\"#000099\",\"dash\":\"dash\",\"width\":0.5},\"mode\":\"lines\",\"name\":\"Outside_range_Dry_WOW\",\"showlegend\":false,\"type\":\"scatter\",\"x\":[\"2022-07-06T00:00:00\",\"2022-07-06T00:00:00\"],\"y\":[20444.0,189772.0]},{\"line\":{\"color\":\"#000099\",\"dash\":\"dash\",\"width\":0.5},\"mode\":\"lines\",\"name\":\"Outside_range_Dry_WOW\",\"showlegend\":false,\"type\":\"scatter\",\"x\":[\"2022-07-07T00:00:00\",\"2022-07-07T00:00:00\"],\"y\":[20444.0,189772.0]},{\"line\":{\"color\":\"#000099\",\"dash\":\"dash\",\"width\":0.5},\"mode\":\"lines\",\"name\":\"Outside_range_Dry_WOW\",\"showlegend\":false,\"type\":\"scatter\",\"x\":[\"2022-07-11T00:00:00\",\"2022-07-11T00:00:00\"],\"y\":[20444.0,189772.0]},{\"line\":{\"color\":\"#000099\",\"dash\":\"dash\",\"width\":0.5},\"mode\":\"lines\",\"name\":\"Outside_range_Dry_WOW\",\"showlegend\":false,\"type\":\"scatter\",\"x\":[\"2022-07-13T00:00:00\",\"2022-07-13T00:00:00\"],\"y\":[20444.0,189772.0]},{\"line\":{\"color\":\"#000099\",\"dash\":\"dash\",\"width\":0.5},\"mode\":\"lines\",\"name\":\"Outside_range_Dry_WOW\",\"showlegend\":false,\"type\":\"scatter\",\"x\":[\"2022-07-16T00:00:00\",\"2022-07-16T00:00:00\"],\"y\":[20444.0,189772.0]},{\"line\":{\"color\":\"#000099\",\"dash\":\"dash\",\"width\":0.5},\"mode\":\"lines\",\"name\":\"Outside_range_Dry_WOW\",\"showlegend\":false,\"type\":\"scatter\",\"x\":[\"2022-07-18T00:00:00\",\"2022-07-18T00:00:00\"],\"y\":[20444.0,189772.0]},{\"line\":{\"color\":\"#000099\",\"dash\":\"dash\",\"width\":0.5},\"mode\":\"lines\",\"name\":\"Outside_range_Dry_WOW\",\"showlegend\":false,\"type\":\"scatter\",\"x\":[\"2022-07-22T00:00:00\",\"2022-07-22T00:00:00\"],\"y\":[20444.0,189772.0]},{\"line\":{\"color\":\"#000099\",\"dash\":\"dash\",\"width\":0.5},\"mode\":\"lines\",\"name\":\"Outside_range_Dry_WOW\",\"showlegend\":false,\"type\":\"scatter\",\"x\":[\"2022-07-27T00:00:00\",\"2022-07-27T00:00:00\"],\"y\":[20444.0,189772.0]},{\"line\":{\"color\":\"#000099\",\"dash\":\"dash\",\"width\":0.5},\"mode\":\"lines\",\"name\":\"Outside_range_Dry_WOW\",\"showlegend\":false,\"type\":\"scatter\",\"x\":[\"2022-07-28T00:00:00\",\"2022-07-28T00:00:00\"],\"y\":[20444.0,189772.0]},{\"line\":{\"color\":\"#000099\",\"dash\":\"dash\",\"width\":0.5},\"mode\":\"lines\",\"name\":\"Outside_range_Dry_WOW\",\"showlegend\":false,\"type\":\"scatter\",\"x\":[\"2022-07-29T00:00:00\",\"2022-07-29T00:00:00\"],\"y\":[20444.0,189772.0]},{\"line\":{\"color\":\"#000099\",\"dash\":\"dash\",\"width\":0.5},\"mode\":\"lines\",\"name\":\"Outside_range_Dry_WOW\",\"showlegend\":false,\"type\":\"scatter\",\"x\":[\"2022-08-05T00:00:00\",\"2022-08-05T00:00:00\"],\"y\":[20444.0,189772.0]},{\"line\":{\"color\":\"#000099\",\"dash\":\"dash\",\"width\":0.5},\"mode\":\"lines\",\"name\":\"Outside_range_Dry_WOW\",\"showlegend\":false,\"type\":\"scatter\",\"x\":[\"2022-08-06T00:00:00\",\"2022-08-06T00:00:00\"],\"y\":[20444.0,189772.0]},{\"line\":{\"color\":\"#000099\",\"dash\":\"dash\",\"width\":0.5},\"mode\":\"lines\",\"name\":\"Outside_range_Dry_WOW\",\"showlegend\":false,\"type\":\"scatter\",\"x\":[\"2022-08-13T00:00:00\",\"2022-08-13T00:00:00\"],\"y\":[20444.0,189772.0]},{\"line\":{\"color\":\"#000099\",\"dash\":\"dash\",\"width\":0.5},\"mode\":\"lines\",\"name\":\"Outside_range_Dry_WOW\",\"showlegend\":false,\"type\":\"scatter\",\"x\":[\"2022-08-17T00:00:00\",\"2022-08-17T00:00:00\"],\"y\":[20444.0,189772.0]},{\"line\":{\"color\":\"#000099\",\"dash\":\"dash\",\"width\":0.5},\"mode\":\"lines\",\"name\":\"Outside_range_Dry_WOW\",\"showlegend\":false,\"type\":\"scatter\",\"x\":[\"2022-08-19T00:00:00\",\"2022-08-19T00:00:00\"],\"y\":[20444.0,189772.0]},{\"line\":{\"color\":\"#000099\",\"dash\":\"dash\",\"width\":0.5},\"mode\":\"lines\",\"name\":\"Outside_range_Dry_WOW\",\"showlegend\":false,\"type\":\"scatter\",\"x\":[\"2022-08-30T00:00:00\",\"2022-08-30T00:00:00\"],\"y\":[20444.0,189772.0]},{\"line\":{\"color\":\"#000099\",\"dash\":\"dash\",\"width\":0.5},\"mode\":\"lines\",\"name\":\"Outside_range_Dry_WOW\",\"showlegend\":false,\"type\":\"scatter\",\"x\":[\"2022-09-01T00:00:00\",\"2022-09-01T00:00:00\"],\"y\":[20444.0,189772.0]},{\"line\":{\"color\":\"#000099\",\"dash\":\"dash\",\"width\":0.5},\"mode\":\"lines\",\"name\":\"Outside_range_Dry_WOW\",\"showlegend\":false,\"type\":\"scatter\",\"x\":[\"2022-09-02T00:00:00\",\"2022-09-02T00:00:00\"],\"y\":[20444.0,189772.0]},{\"line\":{\"color\":\"#000099\",\"dash\":\"dash\",\"width\":0.5},\"mode\":\"lines\",\"name\":\"Outside_range_Dry_WOW\",\"showlegend\":false,\"type\":\"scatter\",\"x\":[\"2022-09-09T00:00:00\",\"2022-09-09T00:00:00\"],\"y\":[20444.0,189772.0]},{\"line\":{\"color\":\"#000099\",\"dash\":\"dash\",\"width\":0.5},\"mode\":\"lines\",\"name\":\"Outside_range_Dry_WOW\",\"showlegend\":false,\"type\":\"scatter\",\"x\":[\"2022-09-14T00:00:00\",\"2022-09-14T00:00:00\"],\"y\":[20444.0,189772.0]},{\"line\":{\"color\":\"#000099\",\"dash\":\"dash\",\"width\":0.5},\"mode\":\"lines\",\"name\":\"Outside_range_Dry_WOW\",\"showlegend\":false,\"type\":\"scatter\",\"x\":[\"2022-09-15T00:00:00\",\"2022-09-15T00:00:00\"],\"y\":[20444.0,189772.0]},{\"line\":{\"color\":\"#000099\",\"dash\":\"dash\",\"width\":0.5},\"mode\":\"lines\",\"name\":\"Outside_range_Dry_WOW\",\"showlegend\":false,\"type\":\"scatter\",\"x\":[\"2022-09-22T00:00:00\",\"2022-09-22T00:00:00\"],\"y\":[20444.0,189772.0]},{\"line\":{\"color\":\"#000099\",\"dash\":\"dash\",\"width\":0.5},\"mode\":\"lines\",\"name\":\"Outside_range_Dry_WOW\",\"showlegend\":false,\"type\":\"scatter\",\"x\":[\"2022-09-24T00:00:00\",\"2022-09-24T00:00:00\"],\"y\":[20444.0,189772.0]},{\"line\":{\"color\":\"#000099\",\"dash\":\"dash\",\"width\":0.5},\"mode\":\"lines\",\"name\":\"Outside_range_Dry_WOW\",\"showlegend\":false,\"type\":\"scatter\",\"x\":[\"2022-09-29T00:00:00\",\"2022-09-29T00:00:00\"],\"y\":[20444.0,189772.0]},{\"line\":{\"color\":\"#000099\",\"dash\":\"dash\",\"width\":0.5},\"mode\":\"lines\",\"name\":\"Outside_range_Dry_WOW\",\"showlegend\":false,\"type\":\"scatter\",\"x\":[\"2022-10-01T00:00:00\",\"2022-10-01T00:00:00\"],\"y\":[20444.0,189772.0]},{\"line\":{\"color\":\"#000099\",\"dash\":\"dash\",\"width\":0.5},\"mode\":\"lines\",\"name\":\"Outside_range_Dry_WOW\",\"showlegend\":false,\"type\":\"scatter\",\"x\":[\"2022-10-07T00:00:00\",\"2022-10-07T00:00:00\"],\"y\":[20444.0,189772.0]},{\"line\":{\"color\":\"#000099\",\"dash\":\"dash\",\"width\":0.5},\"mode\":\"lines\",\"name\":\"Outside_range_Dry_WOW\",\"showlegend\":false,\"type\":\"scatter\",\"x\":[\"2022-10-12T00:00:00\",\"2022-10-12T00:00:00\"],\"y\":[20444.0,189772.0]},{\"line\":{\"color\":\"#000099\",\"dash\":\"dash\",\"width\":0.5},\"mode\":\"lines\",\"name\":\"Outside_range_Dry_WOW\",\"showlegend\":false,\"type\":\"scatter\",\"x\":[\"2022-10-21T00:00:00\",\"2022-10-21T00:00:00\"],\"y\":[20444.0,189772.0]},{\"line\":{\"color\":\"#000099\",\"dash\":\"dash\",\"width\":0.5},\"mode\":\"lines\",\"name\":\"Outside_range_Dry_WOW\",\"showlegend\":false,\"type\":\"scatter\",\"x\":[\"2022-10-24T00:00:00\",\"2022-10-24T00:00:00\"],\"y\":[20444.0,189772.0]},{\"line\":{\"color\":\"#000099\",\"dash\":\"dash\",\"width\":0.5},\"mode\":\"lines\",\"name\":\"Outside_range_Dry_WOW\",\"showlegend\":false,\"type\":\"scatter\",\"x\":[\"2022-10-25T00:00:00\",\"2022-10-25T00:00:00\"],\"y\":[20444.0,189772.0]},{\"line\":{\"color\":\"#000099\",\"dash\":\"dash\",\"width\":0.5},\"mode\":\"lines\",\"name\":\"Outside_range_Dry_WOW\",\"showlegend\":false,\"type\":\"scatter\",\"x\":[\"2022-10-29T00:00:00\",\"2022-10-29T00:00:00\"],\"y\":[20444.0,189772.0]},{\"line\":{\"color\":\"#000099\",\"dash\":\"dash\",\"width\":0.5},\"mode\":\"lines\",\"name\":\"Outside_range_Dry_WOW\",\"showlegend\":false,\"type\":\"scatter\",\"x\":[\"2022-11-05T00:00:00\",\"2022-11-05T00:00:00\"],\"y\":[20444.0,189772.0]},{\"line\":{\"color\":\"#000099\",\"dash\":\"dash\",\"width\":0.5},\"mode\":\"lines\",\"name\":\"Outside_range_Dry_WOW\",\"showlegend\":false,\"type\":\"scatter\",\"x\":[\"2022-11-07T00:00:00\",\"2022-11-07T00:00:00\"],\"y\":[20444.0,189772.0]},{\"line\":{\"color\":\"#000099\",\"dash\":\"dash\",\"width\":0.5},\"mode\":\"lines\",\"name\":\"Outside_range_Dry_WOW\",\"showlegend\":false,\"type\":\"scatter\",\"x\":[\"2022-11-08T00:00:00\",\"2022-11-08T00:00:00\"],\"y\":[20444.0,189772.0]},{\"line\":{\"color\":\"#000099\",\"dash\":\"dash\",\"width\":0.5},\"mode\":\"lines\",\"name\":\"Outside_range_Dry_WOW\",\"showlegend\":false,\"type\":\"scatter\",\"x\":[\"2022-11-09T00:00:00\",\"2022-11-09T00:00:00\"],\"y\":[20444.0,189772.0]},{\"line\":{\"color\":\"#000099\",\"dash\":\"dash\",\"width\":0.5},\"mode\":\"lines\",\"name\":\"Outside_range_Dry_WOW\",\"showlegend\":false,\"type\":\"scatter\",\"x\":[\"2022-11-10T00:00:00\",\"2022-11-10T00:00:00\"],\"y\":[20444.0,189772.0]},{\"line\":{\"color\":\"#000099\",\"dash\":\"dash\",\"width\":0.5},\"mode\":\"lines\",\"name\":\"Outside_range_Dry_WOW\",\"showlegend\":false,\"type\":\"scatter\",\"x\":[\"2022-11-12T00:00:00\",\"2022-11-12T00:00:00\"],\"y\":[20444.0,189772.0]},{\"line\":{\"color\":\"#000099\",\"dash\":\"dash\",\"width\":0.5},\"mode\":\"lines\",\"name\":\"Outside_range_Dry_WOW\",\"showlegend\":false,\"type\":\"scatter\",\"x\":[\"2022-11-17T00:00:00\",\"2022-11-17T00:00:00\"],\"y\":[20444.0,189772.0]},{\"line\":{\"color\":\"#000099\",\"dash\":\"dash\",\"width\":0.5},\"mode\":\"lines\",\"name\":\"Outside_range_Dry_WOW\",\"showlegend\":false,\"type\":\"scatter\",\"x\":[\"2022-11-18T00:00:00\",\"2022-11-18T00:00:00\"],\"y\":[20444.0,189772.0]},{\"line\":{\"color\":\"#000099\",\"dash\":\"dash\",\"width\":0.5},\"mode\":\"lines\",\"name\":\"Outside_range_Dry_WOW\",\"showlegend\":false,\"type\":\"scatter\",\"x\":[\"2022-11-19T00:00:00\",\"2022-11-19T00:00:00\"],\"y\":[20444.0,189772.0]},{\"line\":{\"color\":\"#000099\",\"dash\":\"dash\",\"width\":0.5},\"mode\":\"lines\",\"name\":\"Outside_range_Dry_WOW\",\"showlegend\":false,\"type\":\"scatter\",\"x\":[\"2022-11-22T00:00:00\",\"2022-11-22T00:00:00\"],\"y\":[20444.0,189772.0]},{\"line\":{\"color\":\"#000099\",\"dash\":\"dash\",\"width\":0.5},\"mode\":\"lines\",\"name\":\"Outside_range_Dry_WOW\",\"showlegend\":false,\"type\":\"scatter\",\"x\":[\"2022-11-24T00:00:00\",\"2022-11-24T00:00:00\"],\"y\":[20444.0,189772.0]},{\"line\":{\"color\":\"#000099\",\"dash\":\"dash\",\"width\":0.5},\"mode\":\"lines\",\"name\":\"Outside_range_Dry_WOW\",\"showlegend\":false,\"type\":\"scatter\",\"x\":[\"2022-11-25T00:00:00\",\"2022-11-25T00:00:00\"],\"y\":[20444.0,189772.0]},{\"line\":{\"color\":\"#000099\",\"dash\":\"dash\",\"width\":0.5},\"mode\":\"lines\",\"name\":\"Outside_range_Dry_WOW\",\"showlegend\":false,\"type\":\"scatter\",\"x\":[\"2022-11-29T00:00:00\",\"2022-11-29T00:00:00\"],\"y\":[20444.0,189772.0]},{\"line\":{\"color\":\"#000099\",\"dash\":\"dash\",\"width\":0.5},\"mode\":\"lines\",\"name\":\"Outside_range_Dry_WOW\",\"showlegend\":false,\"type\":\"scatter\",\"x\":[\"2022-12-02T00:00:00\",\"2022-12-02T00:00:00\"],\"y\":[20444.0,189772.0]},{\"line\":{\"color\":\"#000099\",\"dash\":\"dash\",\"width\":0.5},\"mode\":\"lines\",\"name\":\"Outside_range_Dry_WOW\",\"showlegend\":false,\"type\":\"scatter\",\"x\":[\"2022-12-06T00:00:00\",\"2022-12-06T00:00:00\"],\"y\":[20444.0,189772.0]},{\"line\":{\"color\":\"#000099\",\"dash\":\"dash\",\"width\":0.5},\"mode\":\"lines\",\"name\":\"Outside_range_Dry_WOW\",\"showlegend\":false,\"type\":\"scatter\",\"x\":[\"2022-12-17T00:00:00\",\"2022-12-17T00:00:00\"],\"y\":[20444.0,189772.0]},{\"line\":{\"color\":\"#000099\",\"dash\":\"dash\",\"width\":0.5},\"mode\":\"lines\",\"name\":\"Outside_range_Dry_WOW\",\"showlegend\":false,\"type\":\"scatter\",\"x\":[\"2022-12-21T00:00:00\",\"2022-12-21T00:00:00\"],\"y\":[20444.0,189772.0]},{\"line\":{\"color\":\"#000099\",\"dash\":\"dash\",\"width\":0.5},\"mode\":\"lines\",\"name\":\"Outside_range_Dry_WOW\",\"showlegend\":false,\"type\":\"scatter\",\"x\":[\"2022-12-22T00:00:00\",\"2022-12-22T00:00:00\"],\"y\":[20444.0,189772.0]},{\"line\":{\"color\":\"#000099\",\"dash\":\"dash\",\"width\":0.5},\"mode\":\"lines\",\"name\":\"Outside_range_Dry_WOW\",\"showlegend\":false,\"type\":\"scatter\",\"x\":[\"2022-12-24T00:00:00\",\"2022-12-24T00:00:00\"],\"y\":[20444.0,189772.0]},{\"line\":{\"color\":\"#000099\",\"dash\":\"dash\",\"width\":0.5},\"mode\":\"lines\",\"name\":\"Outside_range_Dry_WOW\",\"showlegend\":false,\"type\":\"scatter\",\"x\":[\"2022-12-27T00:00:00\",\"2022-12-27T00:00:00\"],\"y\":[20444.0,189772.0]},{\"line\":{\"color\":\"#000099\",\"dash\":\"dash\",\"width\":0.5},\"mode\":\"lines\",\"name\":\"Outside_range_Dry_WOW\",\"showlegend\":false,\"type\":\"scatter\",\"x\":[\"2022-12-28T00:00:00\",\"2022-12-28T00:00:00\"],\"y\":[20444.0,189772.0]},{\"line\":{\"color\":\"#000099\",\"dash\":\"dash\",\"width\":0.5},\"mode\":\"lines\",\"name\":\"Outside_range_Dry_WOW\",\"showlegend\":false,\"type\":\"scatter\",\"x\":[\"2022-12-29T00:00:00\",\"2022-12-29T00:00:00\"],\"y\":[20444.0,189772.0]},{\"line\":{\"color\":\"#000099\",\"dash\":\"dash\",\"width\":0.5},\"mode\":\"lines\",\"name\":\"Outside_range_Dry_WOW\",\"showlegend\":false,\"type\":\"scatter\",\"x\":[\"2022-12-30T00:00:00\",\"2022-12-30T00:00:00\"],\"y\":[20444.0,189772.0]},{\"line\":{\"color\":\"#000099\",\"dash\":\"dash\",\"width\":0.5},\"mode\":\"lines\",\"name\":\"Outside_range_Dry_WOW\",\"showlegend\":false,\"type\":\"scatter\",\"x\":[\"2022-12-31T00:00:00\",\"2022-12-31T00:00:00\"],\"y\":[20444.0,189772.0]},{\"line\":{\"color\":\"#990000\",\"dash\":\"dash\",\"width\":0.5},\"mode\":\"lines\",\"name\":\"Outside_range_Dry_PROPHET\",\"showlegend\":true,\"type\":\"scatter\",\"x\":[\"2022-05-10T00:00:00\",\"2022-05-10T00:00:00\"],\"y\":[20444.0,189772.0]},{\"line\":{\"color\":\"#990000\",\"dash\":\"dash\",\"width\":0.5},\"mode\":\"lines\",\"name\":\"Outside_range_Dry_PROPHET\",\"showlegend\":false,\"type\":\"scatter\",\"x\":[\"2022-05-11T00:00:00\",\"2022-05-11T00:00:00\"],\"y\":[20444.0,189772.0]},{\"line\":{\"color\":\"#990000\",\"dash\":\"dash\",\"width\":0.5},\"mode\":\"lines\",\"name\":\"Outside_range_Dry_PROPHET\",\"showlegend\":false,\"type\":\"scatter\",\"x\":[\"2022-05-12T00:00:00\",\"2022-05-12T00:00:00\"],\"y\":[20444.0,189772.0]},{\"line\":{\"color\":\"#990000\",\"dash\":\"dash\",\"width\":0.5},\"mode\":\"lines\",\"name\":\"Outside_range_Dry_PROPHET\",\"showlegend\":false,\"type\":\"scatter\",\"x\":[\"2022-05-13T00:00:00\",\"2022-05-13T00:00:00\"],\"y\":[20444.0,189772.0]},{\"line\":{\"color\":\"#990000\",\"dash\":\"dash\",\"width\":0.5},\"mode\":\"lines\",\"name\":\"Outside_range_Dry_PROPHET\",\"showlegend\":false,\"type\":\"scatter\",\"x\":[\"2022-05-14T00:00:00\",\"2022-05-14T00:00:00\"],\"y\":[20444.0,189772.0]},{\"line\":{\"color\":\"#990000\",\"dash\":\"dash\",\"width\":0.5},\"mode\":\"lines\",\"name\":\"Outside_range_Dry_PROPHET\",\"showlegend\":false,\"type\":\"scatter\",\"x\":[\"2022-05-17T00:00:00\",\"2022-05-17T00:00:00\"],\"y\":[20444.0,189772.0]},{\"line\":{\"color\":\"#990000\",\"dash\":\"dash\",\"width\":0.5},\"mode\":\"lines\",\"name\":\"Outside_range_Dry_PROPHET\",\"showlegend\":false,\"type\":\"scatter\",\"x\":[\"2022-05-18T00:00:00\",\"2022-05-18T00:00:00\"],\"y\":[20444.0,189772.0]},{\"line\":{\"color\":\"#990000\",\"dash\":\"dash\",\"width\":0.5},\"mode\":\"lines\",\"name\":\"Outside_range_Dry_PROPHET\",\"showlegend\":false,\"type\":\"scatter\",\"x\":[\"2022-05-20T00:00:00\",\"2022-05-20T00:00:00\"],\"y\":[20444.0,189772.0]},{\"line\":{\"color\":\"#990000\",\"dash\":\"dash\",\"width\":0.5},\"mode\":\"lines\",\"name\":\"Outside_range_Dry_PROPHET\",\"showlegend\":false,\"type\":\"scatter\",\"x\":[\"2022-05-23T00:00:00\",\"2022-05-23T00:00:00\"],\"y\":[20444.0,189772.0]},{\"line\":{\"color\":\"#990000\",\"dash\":\"dash\",\"width\":0.5},\"mode\":\"lines\",\"name\":\"Outside_range_Dry_PROPHET\",\"showlegend\":false,\"type\":\"scatter\",\"x\":[\"2022-05-24T00:00:00\",\"2022-05-24T00:00:00\"],\"y\":[20444.0,189772.0]},{\"line\":{\"color\":\"#990000\",\"dash\":\"dash\",\"width\":0.5},\"mode\":\"lines\",\"name\":\"Outside_range_Dry_PROPHET\",\"showlegend\":false,\"type\":\"scatter\",\"x\":[\"2022-05-25T00:00:00\",\"2022-05-25T00:00:00\"],\"y\":[20444.0,189772.0]},{\"line\":{\"color\":\"#990000\",\"dash\":\"dash\",\"width\":0.5},\"mode\":\"lines\",\"name\":\"Outside_range_Dry_PROPHET\",\"showlegend\":false,\"type\":\"scatter\",\"x\":[\"2022-05-27T00:00:00\",\"2022-05-27T00:00:00\"],\"y\":[20444.0,189772.0]},{\"line\":{\"color\":\"#990000\",\"dash\":\"dash\",\"width\":0.5},\"mode\":\"lines\",\"name\":\"Outside_range_Dry_PROPHET\",\"showlegend\":false,\"type\":\"scatter\",\"x\":[\"2022-05-30T00:00:00\",\"2022-05-30T00:00:00\"],\"y\":[20444.0,189772.0]},{\"line\":{\"color\":\"#990000\",\"dash\":\"dash\",\"width\":0.5},\"mode\":\"lines\",\"name\":\"Outside_range_Dry_PROPHET\",\"showlegend\":false,\"type\":\"scatter\",\"x\":[\"2022-05-31T00:00:00\",\"2022-05-31T00:00:00\"],\"y\":[20444.0,189772.0]},{\"line\":{\"color\":\"#990000\",\"dash\":\"dash\",\"width\":0.5},\"mode\":\"lines\",\"name\":\"Outside_range_Dry_PROPHET\",\"showlegend\":false,\"type\":\"scatter\",\"x\":[\"2022-06-03T00:00:00\",\"2022-06-03T00:00:00\"],\"y\":[20444.0,189772.0]},{\"line\":{\"color\":\"#990000\",\"dash\":\"dash\",\"width\":0.5},\"mode\":\"lines\",\"name\":\"Outside_range_Dry_PROPHET\",\"showlegend\":false,\"type\":\"scatter\",\"x\":[\"2022-06-04T00:00:00\",\"2022-06-04T00:00:00\"],\"y\":[20444.0,189772.0]},{\"line\":{\"color\":\"#990000\",\"dash\":\"dash\",\"width\":0.5},\"mode\":\"lines\",\"name\":\"Outside_range_Dry_PROPHET\",\"showlegend\":false,\"type\":\"scatter\",\"x\":[\"2022-06-07T00:00:00\",\"2022-06-07T00:00:00\"],\"y\":[20444.0,189772.0]},{\"line\":{\"color\":\"#990000\",\"dash\":\"dash\",\"width\":0.5},\"mode\":\"lines\",\"name\":\"Outside_range_Dry_PROPHET\",\"showlegend\":false,\"type\":\"scatter\",\"x\":[\"2022-06-09T00:00:00\",\"2022-06-09T00:00:00\"],\"y\":[20444.0,189772.0]},{\"line\":{\"color\":\"#990000\",\"dash\":\"dash\",\"width\":0.5},\"mode\":\"lines\",\"name\":\"Outside_range_Dry_PROPHET\",\"showlegend\":false,\"type\":\"scatter\",\"x\":[\"2022-06-11T00:00:00\",\"2022-06-11T00:00:00\"],\"y\":[20444.0,189772.0]},{\"line\":{\"color\":\"#990000\",\"dash\":\"dash\",\"width\":0.5},\"mode\":\"lines\",\"name\":\"Outside_range_Dry_PROPHET\",\"showlegend\":false,\"type\":\"scatter\",\"x\":[\"2022-06-15T00:00:00\",\"2022-06-15T00:00:00\"],\"y\":[20444.0,189772.0]},{\"line\":{\"color\":\"#990000\",\"dash\":\"dash\",\"width\":0.5},\"mode\":\"lines\",\"name\":\"Outside_range_Dry_PROPHET\",\"showlegend\":false,\"type\":\"scatter\",\"x\":[\"2022-06-16T00:00:00\",\"2022-06-16T00:00:00\"],\"y\":[20444.0,189772.0]},{\"line\":{\"color\":\"#990000\",\"dash\":\"dash\",\"width\":0.5},\"mode\":\"lines\",\"name\":\"Outside_range_Dry_PROPHET\",\"showlegend\":false,\"type\":\"scatter\",\"x\":[\"2022-06-17T00:00:00\",\"2022-06-17T00:00:00\"],\"y\":[20444.0,189772.0]},{\"line\":{\"color\":\"#990000\",\"dash\":\"dash\",\"width\":0.5},\"mode\":\"lines\",\"name\":\"Outside_range_Dry_PROPHET\",\"showlegend\":false,\"type\":\"scatter\",\"x\":[\"2022-06-18T00:00:00\",\"2022-06-18T00:00:00\"],\"y\":[20444.0,189772.0]},{\"line\":{\"color\":\"#990000\",\"dash\":\"dash\",\"width\":0.5},\"mode\":\"lines\",\"name\":\"Outside_range_Dry_PROPHET\",\"showlegend\":false,\"type\":\"scatter\",\"x\":[\"2022-06-20T00:00:00\",\"2022-06-20T00:00:00\"],\"y\":[20444.0,189772.0]},{\"line\":{\"color\":\"#990000\",\"dash\":\"dash\",\"width\":0.5},\"mode\":\"lines\",\"name\":\"Outside_range_Dry_PROPHET\",\"showlegend\":false,\"type\":\"scatter\",\"x\":[\"2022-06-22T00:00:00\",\"2022-06-22T00:00:00\"],\"y\":[20444.0,189772.0]},{\"line\":{\"color\":\"#990000\",\"dash\":\"dash\",\"width\":0.5},\"mode\":\"lines\",\"name\":\"Outside_range_Dry_PROPHET\",\"showlegend\":false,\"type\":\"scatter\",\"x\":[\"2022-06-23T00:00:00\",\"2022-06-23T00:00:00\"],\"y\":[20444.0,189772.0]},{\"line\":{\"color\":\"#990000\",\"dash\":\"dash\",\"width\":0.5},\"mode\":\"lines\",\"name\":\"Outside_range_Dry_PROPHET\",\"showlegend\":false,\"type\":\"scatter\",\"x\":[\"2022-06-24T00:00:00\",\"2022-06-24T00:00:00\"],\"y\":[20444.0,189772.0]},{\"line\":{\"color\":\"#990000\",\"dash\":\"dash\",\"width\":0.5},\"mode\":\"lines\",\"name\":\"Outside_range_Dry_PROPHET\",\"showlegend\":false,\"type\":\"scatter\",\"x\":[\"2022-06-25T00:00:00\",\"2022-06-25T00:00:00\"],\"y\":[20444.0,189772.0]},{\"line\":{\"color\":\"#990000\",\"dash\":\"dash\",\"width\":0.5},\"mode\":\"lines\",\"name\":\"Outside_range_Dry_PROPHET\",\"showlegend\":false,\"type\":\"scatter\",\"x\":[\"2022-06-27T00:00:00\",\"2022-06-27T00:00:00\"],\"y\":[20444.0,189772.0]},{\"line\":{\"color\":\"#990000\",\"dash\":\"dash\",\"width\":0.5},\"mode\":\"lines\",\"name\":\"Outside_range_Dry_PROPHET\",\"showlegend\":false,\"type\":\"scatter\",\"x\":[\"2022-07-02T00:00:00\",\"2022-07-02T00:00:00\"],\"y\":[20444.0,189772.0]},{\"line\":{\"color\":\"#990000\",\"dash\":\"dash\",\"width\":0.5},\"mode\":\"lines\",\"name\":\"Outside_range_Dry_PROPHET\",\"showlegend\":false,\"type\":\"scatter\",\"x\":[\"2022-07-04T00:00:00\",\"2022-07-04T00:00:00\"],\"y\":[20444.0,189772.0]},{\"line\":{\"color\":\"#990000\",\"dash\":\"dash\",\"width\":0.5},\"mode\":\"lines\",\"name\":\"Outside_range_Dry_PROPHET\",\"showlegend\":false,\"type\":\"scatter\",\"x\":[\"2022-07-06T00:00:00\",\"2022-07-06T00:00:00\"],\"y\":[20444.0,189772.0]},{\"line\":{\"color\":\"#990000\",\"dash\":\"dash\",\"width\":0.5},\"mode\":\"lines\",\"name\":\"Outside_range_Dry_PROPHET\",\"showlegend\":false,\"type\":\"scatter\",\"x\":[\"2022-07-07T00:00:00\",\"2022-07-07T00:00:00\"],\"y\":[20444.0,189772.0]},{\"line\":{\"color\":\"#990000\",\"dash\":\"dash\",\"width\":0.5},\"mode\":\"lines\",\"name\":\"Outside_range_Dry_PROPHET\",\"showlegend\":false,\"type\":\"scatter\",\"x\":[\"2022-07-08T00:00:00\",\"2022-07-08T00:00:00\"],\"y\":[20444.0,189772.0]},{\"line\":{\"color\":\"#990000\",\"dash\":\"dash\",\"width\":0.5},\"mode\":\"lines\",\"name\":\"Outside_range_Dry_PROPHET\",\"showlegend\":false,\"type\":\"scatter\",\"x\":[\"2022-07-09T00:00:00\",\"2022-07-09T00:00:00\"],\"y\":[20444.0,189772.0]},{\"line\":{\"color\":\"#990000\",\"dash\":\"dash\",\"width\":0.5},\"mode\":\"lines\",\"name\":\"Outside_range_Dry_PROPHET\",\"showlegend\":false,\"type\":\"scatter\",\"x\":[\"2022-07-11T00:00:00\",\"2022-07-11T00:00:00\"],\"y\":[20444.0,189772.0]},{\"line\":{\"color\":\"#990000\",\"dash\":\"dash\",\"width\":0.5},\"mode\":\"lines\",\"name\":\"Outside_range_Dry_PROPHET\",\"showlegend\":false,\"type\":\"scatter\",\"x\":[\"2022-07-12T00:00:00\",\"2022-07-12T00:00:00\"],\"y\":[20444.0,189772.0]},{\"line\":{\"color\":\"#990000\",\"dash\":\"dash\",\"width\":0.5},\"mode\":\"lines\",\"name\":\"Outside_range_Dry_PROPHET\",\"showlegend\":false,\"type\":\"scatter\",\"x\":[\"2022-07-15T00:00:00\",\"2022-07-15T00:00:00\"],\"y\":[20444.0,189772.0]},{\"line\":{\"color\":\"#990000\",\"dash\":\"dash\",\"width\":0.5},\"mode\":\"lines\",\"name\":\"Outside_range_Dry_PROPHET\",\"showlegend\":false,\"type\":\"scatter\",\"x\":[\"2022-07-16T00:00:00\",\"2022-07-16T00:00:00\"],\"y\":[20444.0,189772.0]},{\"line\":{\"color\":\"#990000\",\"dash\":\"dash\",\"width\":0.5},\"mode\":\"lines\",\"name\":\"Outside_range_Dry_PROPHET\",\"showlegend\":false,\"type\":\"scatter\",\"x\":[\"2022-07-18T00:00:00\",\"2022-07-18T00:00:00\"],\"y\":[20444.0,189772.0]},{\"line\":{\"color\":\"#990000\",\"dash\":\"dash\",\"width\":0.5},\"mode\":\"lines\",\"name\":\"Outside_range_Dry_PROPHET\",\"showlegend\":false,\"type\":\"scatter\",\"x\":[\"2022-07-19T00:00:00\",\"2022-07-19T00:00:00\"],\"y\":[20444.0,189772.0]},{\"line\":{\"color\":\"#990000\",\"dash\":\"dash\",\"width\":0.5},\"mode\":\"lines\",\"name\":\"Outside_range_Dry_PROPHET\",\"showlegend\":false,\"type\":\"scatter\",\"x\":[\"2022-07-20T00:00:00\",\"2022-07-20T00:00:00\"],\"y\":[20444.0,189772.0]},{\"line\":{\"color\":\"#990000\",\"dash\":\"dash\",\"width\":0.5},\"mode\":\"lines\",\"name\":\"Outside_range_Dry_PROPHET\",\"showlegend\":false,\"type\":\"scatter\",\"x\":[\"2022-07-22T00:00:00\",\"2022-07-22T00:00:00\"],\"y\":[20444.0,189772.0]},{\"line\":{\"color\":\"#990000\",\"dash\":\"dash\",\"width\":0.5},\"mode\":\"lines\",\"name\":\"Outside_range_Dry_PROPHET\",\"showlegend\":false,\"type\":\"scatter\",\"x\":[\"2022-07-23T00:00:00\",\"2022-07-23T00:00:00\"],\"y\":[20444.0,189772.0]},{\"line\":{\"color\":\"#990000\",\"dash\":\"dash\",\"width\":0.5},\"mode\":\"lines\",\"name\":\"Outside_range_Dry_PROPHET\",\"showlegend\":false,\"type\":\"scatter\",\"x\":[\"2022-07-25T00:00:00\",\"2022-07-25T00:00:00\"],\"y\":[20444.0,189772.0]},{\"line\":{\"color\":\"#990000\",\"dash\":\"dash\",\"width\":0.5},\"mode\":\"lines\",\"name\":\"Outside_range_Dry_PROPHET\",\"showlegend\":false,\"type\":\"scatter\",\"x\":[\"2022-07-26T00:00:00\",\"2022-07-26T00:00:00\"],\"y\":[20444.0,189772.0]},{\"line\":{\"color\":\"#990000\",\"dash\":\"dash\",\"width\":0.5},\"mode\":\"lines\",\"name\":\"Outside_range_Dry_PROPHET\",\"showlegend\":false,\"type\":\"scatter\",\"x\":[\"2022-07-30T00:00:00\",\"2022-07-30T00:00:00\"],\"y\":[20444.0,189772.0]},{\"line\":{\"color\":\"#990000\",\"dash\":\"dash\",\"width\":0.5},\"mode\":\"lines\",\"name\":\"Outside_range_Dry_PROPHET\",\"showlegend\":false,\"type\":\"scatter\",\"x\":[\"2022-08-02T00:00:00\",\"2022-08-02T00:00:00\"],\"y\":[20444.0,189772.0]},{\"line\":{\"color\":\"#990000\",\"dash\":\"dash\",\"width\":0.5},\"mode\":\"lines\",\"name\":\"Outside_range_Dry_PROPHET\",\"showlegend\":false,\"type\":\"scatter\",\"x\":[\"2022-08-03T00:00:00\",\"2022-08-03T00:00:00\"],\"y\":[20444.0,189772.0]},{\"line\":{\"color\":\"#990000\",\"dash\":\"dash\",\"width\":0.5},\"mode\":\"lines\",\"name\":\"Outside_range_Dry_PROPHET\",\"showlegend\":false,\"type\":\"scatter\",\"x\":[\"2022-08-04T00:00:00\",\"2022-08-04T00:00:00\"],\"y\":[20444.0,189772.0]},{\"line\":{\"color\":\"#990000\",\"dash\":\"dash\",\"width\":0.5},\"mode\":\"lines\",\"name\":\"Outside_range_Dry_PROPHET\",\"showlegend\":false,\"type\":\"scatter\",\"x\":[\"2022-08-06T00:00:00\",\"2022-08-06T00:00:00\"],\"y\":[20444.0,189772.0]},{\"line\":{\"color\":\"#990000\",\"dash\":\"dash\",\"width\":0.5},\"mode\":\"lines\",\"name\":\"Outside_range_Dry_PROPHET\",\"showlegend\":false,\"type\":\"scatter\",\"x\":[\"2022-08-08T00:00:00\",\"2022-08-08T00:00:00\"],\"y\":[20444.0,189772.0]},{\"line\":{\"color\":\"#990000\",\"dash\":\"dash\",\"width\":0.5},\"mode\":\"lines\",\"name\":\"Outside_range_Dry_PROPHET\",\"showlegend\":false,\"type\":\"scatter\",\"x\":[\"2022-08-10T00:00:00\",\"2022-08-10T00:00:00\"],\"y\":[20444.0,189772.0]},{\"line\":{\"color\":\"#990000\",\"dash\":\"dash\",\"width\":0.5},\"mode\":\"lines\",\"name\":\"Outside_range_Dry_PROPHET\",\"showlegend\":false,\"type\":\"scatter\",\"x\":[\"2022-08-12T00:00:00\",\"2022-08-12T00:00:00\"],\"y\":[20444.0,189772.0]},{\"line\":{\"color\":\"#990000\",\"dash\":\"dash\",\"width\":0.5},\"mode\":\"lines\",\"name\":\"Outside_range_Dry_PROPHET\",\"showlegend\":false,\"type\":\"scatter\",\"x\":[\"2022-08-13T00:00:00\",\"2022-08-13T00:00:00\"],\"y\":[20444.0,189772.0]},{\"line\":{\"color\":\"#990000\",\"dash\":\"dash\",\"width\":0.5},\"mode\":\"lines\",\"name\":\"Outside_range_Dry_PROPHET\",\"showlegend\":false,\"type\":\"scatter\",\"x\":[\"2022-08-17T00:00:00\",\"2022-08-17T00:00:00\"],\"y\":[20444.0,189772.0]},{\"line\":{\"color\":\"#990000\",\"dash\":\"dash\",\"width\":0.5},\"mode\":\"lines\",\"name\":\"Outside_range_Dry_PROPHET\",\"showlegend\":false,\"type\":\"scatter\",\"x\":[\"2022-08-18T00:00:00\",\"2022-08-18T00:00:00\"],\"y\":[20444.0,189772.0]},{\"line\":{\"color\":\"#990000\",\"dash\":\"dash\",\"width\":0.5},\"mode\":\"lines\",\"name\":\"Outside_range_Dry_PROPHET\",\"showlegend\":false,\"type\":\"scatter\",\"x\":[\"2022-08-19T00:00:00\",\"2022-08-19T00:00:00\"],\"y\":[20444.0,189772.0]},{\"line\":{\"color\":\"#990000\",\"dash\":\"dash\",\"width\":0.5},\"mode\":\"lines\",\"name\":\"Outside_range_Dry_PROPHET\",\"showlegend\":false,\"type\":\"scatter\",\"x\":[\"2022-08-22T00:00:00\",\"2022-08-22T00:00:00\"],\"y\":[20444.0,189772.0]},{\"line\":{\"color\":\"#990000\",\"dash\":\"dash\",\"width\":0.5},\"mode\":\"lines\",\"name\":\"Outside_range_Dry_PROPHET\",\"showlegend\":false,\"type\":\"scatter\",\"x\":[\"2022-08-25T00:00:00\",\"2022-08-25T00:00:00\"],\"y\":[20444.0,189772.0]},{\"line\":{\"color\":\"#990000\",\"dash\":\"dash\",\"width\":0.5},\"mode\":\"lines\",\"name\":\"Outside_range_Dry_PROPHET\",\"showlegend\":false,\"type\":\"scatter\",\"x\":[\"2022-08-27T00:00:00\",\"2022-08-27T00:00:00\"],\"y\":[20444.0,189772.0]},{\"line\":{\"color\":\"#990000\",\"dash\":\"dash\",\"width\":0.5},\"mode\":\"lines\",\"name\":\"Outside_range_Dry_PROPHET\",\"showlegend\":false,\"type\":\"scatter\",\"x\":[\"2022-08-29T00:00:00\",\"2022-08-29T00:00:00\"],\"y\":[20444.0,189772.0]},{\"line\":{\"color\":\"#990000\",\"dash\":\"dash\",\"width\":0.5},\"mode\":\"lines\",\"name\":\"Outside_range_Dry_PROPHET\",\"showlegend\":false,\"type\":\"scatter\",\"x\":[\"2022-08-30T00:00:00\",\"2022-08-30T00:00:00\"],\"y\":[20444.0,189772.0]},{\"line\":{\"color\":\"#990000\",\"dash\":\"dash\",\"width\":0.5},\"mode\":\"lines\",\"name\":\"Outside_range_Dry_PROPHET\",\"showlegend\":false,\"type\":\"scatter\",\"x\":[\"2022-08-31T00:00:00\",\"2022-08-31T00:00:00\"],\"y\":[20444.0,189772.0]},{\"line\":{\"color\":\"#990000\",\"dash\":\"dash\",\"width\":0.5},\"mode\":\"lines\",\"name\":\"Outside_range_Dry_PROPHET\",\"showlegend\":false,\"type\":\"scatter\",\"x\":[\"2022-09-01T00:00:00\",\"2022-09-01T00:00:00\"],\"y\":[20444.0,189772.0]},{\"line\":{\"color\":\"#990000\",\"dash\":\"dash\",\"width\":0.5},\"mode\":\"lines\",\"name\":\"Outside_range_Dry_PROPHET\",\"showlegend\":false,\"type\":\"scatter\",\"x\":[\"2022-09-02T00:00:00\",\"2022-09-02T00:00:00\"],\"y\":[20444.0,189772.0]},{\"line\":{\"color\":\"#990000\",\"dash\":\"dash\",\"width\":0.5},\"mode\":\"lines\",\"name\":\"Outside_range_Dry_PROPHET\",\"showlegend\":false,\"type\":\"scatter\",\"x\":[\"2022-09-06T00:00:00\",\"2022-09-06T00:00:00\"],\"y\":[20444.0,189772.0]},{\"line\":{\"color\":\"#990000\",\"dash\":\"dash\",\"width\":0.5},\"mode\":\"lines\",\"name\":\"Outside_range_Dry_PROPHET\",\"showlegend\":false,\"type\":\"scatter\",\"x\":[\"2022-09-08T00:00:00\",\"2022-09-08T00:00:00\"],\"y\":[20444.0,189772.0]},{\"line\":{\"color\":\"#990000\",\"dash\":\"dash\",\"width\":0.5},\"mode\":\"lines\",\"name\":\"Outside_range_Dry_PROPHET\",\"showlegend\":false,\"type\":\"scatter\",\"x\":[\"2022-09-09T00:00:00\",\"2022-09-09T00:00:00\"],\"y\":[20444.0,189772.0]},{\"line\":{\"color\":\"#990000\",\"dash\":\"dash\",\"width\":0.5},\"mode\":\"lines\",\"name\":\"Outside_range_Dry_PROPHET\",\"showlegend\":false,\"type\":\"scatter\",\"x\":[\"2022-09-10T00:00:00\",\"2022-09-10T00:00:00\"],\"y\":[20444.0,189772.0]},{\"line\":{\"color\":\"#990000\",\"dash\":\"dash\",\"width\":0.5},\"mode\":\"lines\",\"name\":\"Outside_range_Dry_PROPHET\",\"showlegend\":false,\"type\":\"scatter\",\"x\":[\"2022-09-12T00:00:00\",\"2022-09-12T00:00:00\"],\"y\":[20444.0,189772.0]},{\"line\":{\"color\":\"#990000\",\"dash\":\"dash\",\"width\":0.5},\"mode\":\"lines\",\"name\":\"Outside_range_Dry_PROPHET\",\"showlegend\":false,\"type\":\"scatter\",\"x\":[\"2022-09-13T00:00:00\",\"2022-09-13T00:00:00\"],\"y\":[20444.0,189772.0]},{\"line\":{\"color\":\"#990000\",\"dash\":\"dash\",\"width\":0.5},\"mode\":\"lines\",\"name\":\"Outside_range_Dry_PROPHET\",\"showlegend\":false,\"type\":\"scatter\",\"x\":[\"2022-09-14T00:00:00\",\"2022-09-14T00:00:00\"],\"y\":[20444.0,189772.0]},{\"line\":{\"color\":\"#990000\",\"dash\":\"dash\",\"width\":0.5},\"mode\":\"lines\",\"name\":\"Outside_range_Dry_PROPHET\",\"showlegend\":false,\"type\":\"scatter\",\"x\":[\"2022-09-15T00:00:00\",\"2022-09-15T00:00:00\"],\"y\":[20444.0,189772.0]},{\"line\":{\"color\":\"#990000\",\"dash\":\"dash\",\"width\":0.5},\"mode\":\"lines\",\"name\":\"Outside_range_Dry_PROPHET\",\"showlegend\":false,\"type\":\"scatter\",\"x\":[\"2022-09-16T00:00:00\",\"2022-09-16T00:00:00\"],\"y\":[20444.0,189772.0]},{\"line\":{\"color\":\"#990000\",\"dash\":\"dash\",\"width\":0.5},\"mode\":\"lines\",\"name\":\"Outside_range_Dry_PROPHET\",\"showlegend\":false,\"type\":\"scatter\",\"x\":[\"2022-09-19T00:00:00\",\"2022-09-19T00:00:00\"],\"y\":[20444.0,189772.0]},{\"line\":{\"color\":\"#990000\",\"dash\":\"dash\",\"width\":0.5},\"mode\":\"lines\",\"name\":\"Outside_range_Dry_PROPHET\",\"showlegend\":false,\"type\":\"scatter\",\"x\":[\"2022-09-20T00:00:00\",\"2022-09-20T00:00:00\"],\"y\":[20444.0,189772.0]},{\"line\":{\"color\":\"#990000\",\"dash\":\"dash\",\"width\":0.5},\"mode\":\"lines\",\"name\":\"Outside_range_Dry_PROPHET\",\"showlegend\":false,\"type\":\"scatter\",\"x\":[\"2022-09-21T00:00:00\",\"2022-09-21T00:00:00\"],\"y\":[20444.0,189772.0]},{\"line\":{\"color\":\"#990000\",\"dash\":\"dash\",\"width\":0.5},\"mode\":\"lines\",\"name\":\"Outside_range_Dry_PROPHET\",\"showlegend\":false,\"type\":\"scatter\",\"x\":[\"2022-09-22T00:00:00\",\"2022-09-22T00:00:00\"],\"y\":[20444.0,189772.0]},{\"line\":{\"color\":\"#990000\",\"dash\":\"dash\",\"width\":0.5},\"mode\":\"lines\",\"name\":\"Outside_range_Dry_PROPHET\",\"showlegend\":false,\"type\":\"scatter\",\"x\":[\"2022-09-23T00:00:00\",\"2022-09-23T00:00:00\"],\"y\":[20444.0,189772.0]},{\"line\":{\"color\":\"#990000\",\"dash\":\"dash\",\"width\":0.5},\"mode\":\"lines\",\"name\":\"Outside_range_Dry_PROPHET\",\"showlegend\":false,\"type\":\"scatter\",\"x\":[\"2022-09-24T00:00:00\",\"2022-09-24T00:00:00\"],\"y\":[20444.0,189772.0]},{\"line\":{\"color\":\"#990000\",\"dash\":\"dash\",\"width\":0.5},\"mode\":\"lines\",\"name\":\"Outside_range_Dry_PROPHET\",\"showlegend\":false,\"type\":\"scatter\",\"x\":[\"2022-09-26T00:00:00\",\"2022-09-26T00:00:00\"],\"y\":[20444.0,189772.0]},{\"line\":{\"color\":\"#990000\",\"dash\":\"dash\",\"width\":0.5},\"mode\":\"lines\",\"name\":\"Outside_range_Dry_PROPHET\",\"showlegend\":false,\"type\":\"scatter\",\"x\":[\"2022-09-27T00:00:00\",\"2022-09-27T00:00:00\"],\"y\":[20444.0,189772.0]},{\"line\":{\"color\":\"#990000\",\"dash\":\"dash\",\"width\":0.5},\"mode\":\"lines\",\"name\":\"Outside_range_Dry_PROPHET\",\"showlegend\":false,\"type\":\"scatter\",\"x\":[\"2022-09-29T00:00:00\",\"2022-09-29T00:00:00\"],\"y\":[20444.0,189772.0]},{\"line\":{\"color\":\"#990000\",\"dash\":\"dash\",\"width\":0.5},\"mode\":\"lines\",\"name\":\"Outside_range_Dry_PROPHET\",\"showlegend\":false,\"type\":\"scatter\",\"x\":[\"2022-09-30T00:00:00\",\"2022-09-30T00:00:00\"],\"y\":[20444.0,189772.0]},{\"line\":{\"color\":\"#990000\",\"dash\":\"dash\",\"width\":0.5},\"mode\":\"lines\",\"name\":\"Outside_range_Dry_PROPHET\",\"showlegend\":false,\"type\":\"scatter\",\"x\":[\"2022-10-06T00:00:00\",\"2022-10-06T00:00:00\"],\"y\":[20444.0,189772.0]},{\"line\":{\"color\":\"#990000\",\"dash\":\"dash\",\"width\":0.5},\"mode\":\"lines\",\"name\":\"Outside_range_Dry_PROPHET\",\"showlegend\":false,\"type\":\"scatter\",\"x\":[\"2022-10-21T00:00:00\",\"2022-10-21T00:00:00\"],\"y\":[20444.0,189772.0]},{\"line\":{\"color\":\"#990000\",\"dash\":\"dash\",\"width\":0.5},\"mode\":\"lines\",\"name\":\"Outside_range_Dry_PROPHET\",\"showlegend\":false,\"type\":\"scatter\",\"x\":[\"2022-10-24T00:00:00\",\"2022-10-24T00:00:00\"],\"y\":[20444.0,189772.0]},{\"line\":{\"color\":\"#990000\",\"dash\":\"dash\",\"width\":0.5},\"mode\":\"lines\",\"name\":\"Outside_range_Dry_PROPHET\",\"showlegend\":false,\"type\":\"scatter\",\"x\":[\"2022-10-25T00:00:00\",\"2022-10-25T00:00:00\"],\"y\":[20444.0,189772.0]},{\"line\":{\"color\":\"#990000\",\"dash\":\"dash\",\"width\":0.5},\"mode\":\"lines\",\"name\":\"Outside_range_Dry_PROPHET\",\"showlegend\":false,\"type\":\"scatter\",\"x\":[\"2022-10-26T00:00:00\",\"2022-10-26T00:00:00\"],\"y\":[20444.0,189772.0]},{\"line\":{\"color\":\"#990000\",\"dash\":\"dash\",\"width\":0.5},\"mode\":\"lines\",\"name\":\"Outside_range_Dry_PROPHET\",\"showlegend\":false,\"type\":\"scatter\",\"x\":[\"2022-10-27T00:00:00\",\"2022-10-27T00:00:00\"],\"y\":[20444.0,189772.0]},{\"line\":{\"color\":\"#990000\",\"dash\":\"dash\",\"width\":0.5},\"mode\":\"lines\",\"name\":\"Outside_range_Dry_PROPHET\",\"showlegend\":false,\"type\":\"scatter\",\"x\":[\"2022-11-02T00:00:00\",\"2022-11-02T00:00:00\"],\"y\":[20444.0,189772.0]},{\"line\":{\"color\":\"#990000\",\"dash\":\"dash\",\"width\":0.5},\"mode\":\"lines\",\"name\":\"Outside_range_Dry_PROPHET\",\"showlegend\":false,\"type\":\"scatter\",\"x\":[\"2022-11-03T00:00:00\",\"2022-11-03T00:00:00\"],\"y\":[20444.0,189772.0]},{\"line\":{\"color\":\"#990000\",\"dash\":\"dash\",\"width\":0.5},\"mode\":\"lines\",\"name\":\"Outside_range_Dry_PROPHET\",\"showlegend\":false,\"type\":\"scatter\",\"x\":[\"2022-11-04T00:00:00\",\"2022-11-04T00:00:00\"],\"y\":[20444.0,189772.0]},{\"line\":{\"color\":\"#990000\",\"dash\":\"dash\",\"width\":0.5},\"mode\":\"lines\",\"name\":\"Outside_range_Dry_PROPHET\",\"showlegend\":false,\"type\":\"scatter\",\"x\":[\"2022-11-05T00:00:00\",\"2022-11-05T00:00:00\"],\"y\":[20444.0,189772.0]},{\"line\":{\"color\":\"#990000\",\"dash\":\"dash\",\"width\":0.5},\"mode\":\"lines\",\"name\":\"Outside_range_Dry_PROPHET\",\"showlegend\":false,\"type\":\"scatter\",\"x\":[\"2022-11-08T00:00:00\",\"2022-11-08T00:00:00\"],\"y\":[20444.0,189772.0]},{\"line\":{\"color\":\"#990000\",\"dash\":\"dash\",\"width\":0.5},\"mode\":\"lines\",\"name\":\"Outside_range_Dry_PROPHET\",\"showlegend\":false,\"type\":\"scatter\",\"x\":[\"2022-11-09T00:00:00\",\"2022-11-09T00:00:00\"],\"y\":[20444.0,189772.0]},{\"line\":{\"color\":\"#990000\",\"dash\":\"dash\",\"width\":0.5},\"mode\":\"lines\",\"name\":\"Outside_range_Dry_PROPHET\",\"showlegend\":false,\"type\":\"scatter\",\"x\":[\"2022-11-10T00:00:00\",\"2022-11-10T00:00:00\"],\"y\":[20444.0,189772.0]},{\"line\":{\"color\":\"#990000\",\"dash\":\"dash\",\"width\":0.5},\"mode\":\"lines\",\"name\":\"Outside_range_Dry_PROPHET\",\"showlegend\":false,\"type\":\"scatter\",\"x\":[\"2022-11-12T00:00:00\",\"2022-11-12T00:00:00\"],\"y\":[20444.0,189772.0]},{\"line\":{\"color\":\"#990000\",\"dash\":\"dash\",\"width\":0.5},\"mode\":\"lines\",\"name\":\"Outside_range_Dry_PROPHET\",\"showlegend\":false,\"type\":\"scatter\",\"x\":[\"2022-11-14T00:00:00\",\"2022-11-14T00:00:00\"],\"y\":[20444.0,189772.0]},{\"line\":{\"color\":\"#990000\",\"dash\":\"dash\",\"width\":0.5},\"mode\":\"lines\",\"name\":\"Outside_range_Dry_PROPHET\",\"showlegend\":false,\"type\":\"scatter\",\"x\":[\"2022-11-15T00:00:00\",\"2022-11-15T00:00:00\"],\"y\":[20444.0,189772.0]},{\"line\":{\"color\":\"#990000\",\"dash\":\"dash\",\"width\":0.5},\"mode\":\"lines\",\"name\":\"Outside_range_Dry_PROPHET\",\"showlegend\":false,\"type\":\"scatter\",\"x\":[\"2022-11-16T00:00:00\",\"2022-11-16T00:00:00\"],\"y\":[20444.0,189772.0]},{\"line\":{\"color\":\"#990000\",\"dash\":\"dash\",\"width\":0.5},\"mode\":\"lines\",\"name\":\"Outside_range_Dry_PROPHET\",\"showlegend\":false,\"type\":\"scatter\",\"x\":[\"2022-11-17T00:00:00\",\"2022-11-17T00:00:00\"],\"y\":[20444.0,189772.0]},{\"line\":{\"color\":\"#990000\",\"dash\":\"dash\",\"width\":0.5},\"mode\":\"lines\",\"name\":\"Outside_range_Dry_PROPHET\",\"showlegend\":false,\"type\":\"scatter\",\"x\":[\"2022-11-18T00:00:00\",\"2022-11-18T00:00:00\"],\"y\":[20444.0,189772.0]},{\"line\":{\"color\":\"#990000\",\"dash\":\"dash\",\"width\":0.5},\"mode\":\"lines\",\"name\":\"Outside_range_Dry_PROPHET\",\"showlegend\":false,\"type\":\"scatter\",\"x\":[\"2022-11-22T00:00:00\",\"2022-11-22T00:00:00\"],\"y\":[20444.0,189772.0]},{\"line\":{\"color\":\"#990000\",\"dash\":\"dash\",\"width\":0.5},\"mode\":\"lines\",\"name\":\"Outside_range_Dry_PROPHET\",\"showlegend\":false,\"type\":\"scatter\",\"x\":[\"2022-11-24T00:00:00\",\"2022-11-24T00:00:00\"],\"y\":[20444.0,189772.0]},{\"line\":{\"color\":\"#990000\",\"dash\":\"dash\",\"width\":0.5},\"mode\":\"lines\",\"name\":\"Outside_range_Dry_PROPHET\",\"showlegend\":false,\"type\":\"scatter\",\"x\":[\"2022-11-25T00:00:00\",\"2022-11-25T00:00:00\"],\"y\":[20444.0,189772.0]},{\"line\":{\"color\":\"#990000\",\"dash\":\"dash\",\"width\":0.5},\"mode\":\"lines\",\"name\":\"Outside_range_Dry_PROPHET\",\"showlegend\":false,\"type\":\"scatter\",\"x\":[\"2022-11-26T00:00:00\",\"2022-11-26T00:00:00\"],\"y\":[20444.0,189772.0]},{\"line\":{\"color\":\"#990000\",\"dash\":\"dash\",\"width\":0.5},\"mode\":\"lines\",\"name\":\"Outside_range_Dry_PROPHET\",\"showlegend\":false,\"type\":\"scatter\",\"x\":[\"2022-11-28T00:00:00\",\"2022-11-28T00:00:00\"],\"y\":[20444.0,189772.0]},{\"line\":{\"color\":\"#990000\",\"dash\":\"dash\",\"width\":0.5},\"mode\":\"lines\",\"name\":\"Outside_range_Dry_PROPHET\",\"showlegend\":false,\"type\":\"scatter\",\"x\":[\"2022-12-05T00:00:00\",\"2022-12-05T00:00:00\"],\"y\":[20444.0,189772.0]},{\"line\":{\"color\":\"#990000\",\"dash\":\"dash\",\"width\":0.5},\"mode\":\"lines\",\"name\":\"Outside_range_Dry_PROPHET\",\"showlegend\":false,\"type\":\"scatter\",\"x\":[\"2022-12-06T00:00:00\",\"2022-12-06T00:00:00\"],\"y\":[20444.0,189772.0]},{\"line\":{\"color\":\"#990000\",\"dash\":\"dash\",\"width\":0.5},\"mode\":\"lines\",\"name\":\"Outside_range_Dry_PROPHET\",\"showlegend\":false,\"type\":\"scatter\",\"x\":[\"2022-12-07T00:00:00\",\"2022-12-07T00:00:00\"],\"y\":[20444.0,189772.0]},{\"line\":{\"color\":\"#990000\",\"dash\":\"dash\",\"width\":0.5},\"mode\":\"lines\",\"name\":\"Outside_range_Dry_PROPHET\",\"showlegend\":false,\"type\":\"scatter\",\"x\":[\"2022-12-08T00:00:00\",\"2022-12-08T00:00:00\"],\"y\":[20444.0,189772.0]},{\"line\":{\"color\":\"#990000\",\"dash\":\"dash\",\"width\":0.5},\"mode\":\"lines\",\"name\":\"Outside_range_Dry_PROPHET\",\"showlegend\":false,\"type\":\"scatter\",\"x\":[\"2022-12-09T00:00:00\",\"2022-12-09T00:00:00\"],\"y\":[20444.0,189772.0]},{\"line\":{\"color\":\"#990000\",\"dash\":\"dash\",\"width\":0.5},\"mode\":\"lines\",\"name\":\"Outside_range_Dry_PROPHET\",\"showlegend\":false,\"type\":\"scatter\",\"x\":[\"2022-12-10T00:00:00\",\"2022-12-10T00:00:00\"],\"y\":[20444.0,189772.0]},{\"line\":{\"color\":\"#990000\",\"dash\":\"dash\",\"width\":0.5},\"mode\":\"lines\",\"name\":\"Outside_range_Dry_PROPHET\",\"showlegend\":false,\"type\":\"scatter\",\"x\":[\"2022-12-13T00:00:00\",\"2022-12-13T00:00:00\"],\"y\":[20444.0,189772.0]},{\"line\":{\"color\":\"#990000\",\"dash\":\"dash\",\"width\":0.5},\"mode\":\"lines\",\"name\":\"Outside_range_Dry_PROPHET\",\"showlegend\":false,\"type\":\"scatter\",\"x\":[\"2022-12-14T00:00:00\",\"2022-12-14T00:00:00\"],\"y\":[20444.0,189772.0]},{\"line\":{\"color\":\"#990000\",\"dash\":\"dash\",\"width\":0.5},\"mode\":\"lines\",\"name\":\"Outside_range_Dry_PROPHET\",\"showlegend\":false,\"type\":\"scatter\",\"x\":[\"2022-12-15T00:00:00\",\"2022-12-15T00:00:00\"],\"y\":[20444.0,189772.0]},{\"line\":{\"color\":\"#990000\",\"dash\":\"dash\",\"width\":0.5},\"mode\":\"lines\",\"name\":\"Outside_range_Dry_PROPHET\",\"showlegend\":false,\"type\":\"scatter\",\"x\":[\"2022-12-16T00:00:00\",\"2022-12-16T00:00:00\"],\"y\":[20444.0,189772.0]},{\"line\":{\"color\":\"#990000\",\"dash\":\"dash\",\"width\":0.5},\"mode\":\"lines\",\"name\":\"Outside_range_Dry_PROPHET\",\"showlegend\":false,\"type\":\"scatter\",\"x\":[\"2022-12-17T00:00:00\",\"2022-12-17T00:00:00\"],\"y\":[20444.0,189772.0]},{\"line\":{\"color\":\"#990000\",\"dash\":\"dash\",\"width\":0.5},\"mode\":\"lines\",\"name\":\"Outside_range_Dry_PROPHET\",\"showlegend\":false,\"type\":\"scatter\",\"x\":[\"2022-12-19T00:00:00\",\"2022-12-19T00:00:00\"],\"y\":[20444.0,189772.0]},{\"line\":{\"color\":\"#990000\",\"dash\":\"dash\",\"width\":0.5},\"mode\":\"lines\",\"name\":\"Outside_range_Dry_PROPHET\",\"showlegend\":false,\"type\":\"scatter\",\"x\":[\"2022-12-21T00:00:00\",\"2022-12-21T00:00:00\"],\"y\":[20444.0,189772.0]},{\"line\":{\"color\":\"#990000\",\"dash\":\"dash\",\"width\":0.5},\"mode\":\"lines\",\"name\":\"Outside_range_Dry_PROPHET\",\"showlegend\":false,\"type\":\"scatter\",\"x\":[\"2022-12-23T00:00:00\",\"2022-12-23T00:00:00\"],\"y\":[20444.0,189772.0]},{\"line\":{\"color\":\"#990000\",\"dash\":\"dash\",\"width\":0.5},\"mode\":\"lines\",\"name\":\"Outside_range_Dry_PROPHET\",\"showlegend\":false,\"type\":\"scatter\",\"x\":[\"2022-12-24T00:00:00\",\"2022-12-24T00:00:00\"],\"y\":[20444.0,189772.0]},{\"line\":{\"color\":\"#990000\",\"dash\":\"dash\",\"width\":0.5},\"mode\":\"lines\",\"name\":\"Outside_range_Dry_PROPHET\",\"showlegend\":false,\"type\":\"scatter\",\"x\":[\"2022-12-26T00:00:00\",\"2022-12-26T00:00:00\"],\"y\":[20444.0,189772.0]},{\"line\":{\"color\":\"#990000\",\"dash\":\"dash\",\"width\":0.5},\"mode\":\"lines\",\"name\":\"Outside_range_Dry_PROPHET\",\"showlegend\":false,\"type\":\"scatter\",\"x\":[\"2022-12-27T00:00:00\",\"2022-12-27T00:00:00\"],\"y\":[20444.0,189772.0]},{\"line\":{\"color\":\"#990000\",\"dash\":\"dash\",\"width\":0.5},\"mode\":\"lines\",\"name\":\"Outside_range_Dry_PROPHET\",\"showlegend\":false,\"type\":\"scatter\",\"x\":[\"2022-12-28T00:00:00\",\"2022-12-28T00:00:00\"],\"y\":[20444.0,189772.0]},{\"line\":{\"color\":\"#990000\",\"dash\":\"dash\",\"width\":0.5},\"mode\":\"lines\",\"name\":\"Outside_range_Dry_PROPHET\",\"showlegend\":false,\"type\":\"scatter\",\"x\":[\"2022-12-29T00:00:00\",\"2022-12-29T00:00:00\"],\"y\":[20444.0,189772.0]},{\"line\":{\"color\":\"#990000\",\"dash\":\"dash\",\"width\":0.5},\"mode\":\"lines\",\"name\":\"Outside_range_Dry_PROPHET\",\"showlegend\":false,\"type\":\"scatter\",\"x\":[\"2022-12-31T00:00:00\",\"2022-12-31T00:00:00\"],\"y\":[20444.0,189772.0]}],                        {\"template\":{\"data\":{\"bar\":[{\"error_x\":{\"color\":\"#2a3f5f\"},\"error_y\":{\"color\":\"#2a3f5f\"},\"marker\":{\"line\":{\"color\":\"#E5ECF6\",\"width\":0.5},\"pattern\":{\"fillmode\":\"overlay\",\"size\":10,\"solidity\":0.2}},\"type\":\"bar\"}],\"barpolar\":[{\"marker\":{\"line\":{\"color\":\"#E5ECF6\",\"width\":0.5},\"pattern\":{\"fillmode\":\"overlay\",\"size\":10,\"solidity\":0.2}},\"type\":\"barpolar\"}],\"carpet\":[{\"aaxis\":{\"endlinecolor\":\"#2a3f5f\",\"gridcolor\":\"white\",\"linecolor\":\"white\",\"minorgridcolor\":\"white\",\"startlinecolor\":\"#2a3f5f\"},\"baxis\":{\"endlinecolor\":\"#2a3f5f\",\"gridcolor\":\"white\",\"linecolor\":\"white\",\"minorgridcolor\":\"white\",\"startlinecolor\":\"#2a3f5f\"},\"type\":\"carpet\"}],\"choropleth\":[{\"colorbar\":{\"outlinewidth\":0,\"ticks\":\"\"},\"type\":\"choropleth\"}],\"contour\":[{\"colorbar\":{\"outlinewidth\":0,\"ticks\":\"\"},\"colorscale\":[[0.0,\"#0d0887\"],[0.1111111111111111,\"#46039f\"],[0.2222222222222222,\"#7201a8\"],[0.3333333333333333,\"#9c179e\"],[0.4444444444444444,\"#bd3786\"],[0.5555555555555556,\"#d8576b\"],[0.6666666666666666,\"#ed7953\"],[0.7777777777777778,\"#fb9f3a\"],[0.8888888888888888,\"#fdca26\"],[1.0,\"#f0f921\"]],\"type\":\"contour\"}],\"contourcarpet\":[{\"colorbar\":{\"outlinewidth\":0,\"ticks\":\"\"},\"type\":\"contourcarpet\"}],\"heatmap\":[{\"colorbar\":{\"outlinewidth\":0,\"ticks\":\"\"},\"colorscale\":[[0.0,\"#0d0887\"],[0.1111111111111111,\"#46039f\"],[0.2222222222222222,\"#7201a8\"],[0.3333333333333333,\"#9c179e\"],[0.4444444444444444,\"#bd3786\"],[0.5555555555555556,\"#d8576b\"],[0.6666666666666666,\"#ed7953\"],[0.7777777777777778,\"#fb9f3a\"],[0.8888888888888888,\"#fdca26\"],[1.0,\"#f0f921\"]],\"type\":\"heatmap\"}],\"heatmapgl\":[{\"colorbar\":{\"outlinewidth\":0,\"ticks\":\"\"},\"colorscale\":[[0.0,\"#0d0887\"],[0.1111111111111111,\"#46039f\"],[0.2222222222222222,\"#7201a8\"],[0.3333333333333333,\"#9c179e\"],[0.4444444444444444,\"#bd3786\"],[0.5555555555555556,\"#d8576b\"],[0.6666666666666666,\"#ed7953\"],[0.7777777777777778,\"#fb9f3a\"],[0.8888888888888888,\"#fdca26\"],[1.0,\"#f0f921\"]],\"type\":\"heatmapgl\"}],\"histogram\":[{\"marker\":{\"pattern\":{\"fillmode\":\"overlay\",\"size\":10,\"solidity\":0.2}},\"type\":\"histogram\"}],\"histogram2d\":[{\"colorbar\":{\"outlinewidth\":0,\"ticks\":\"\"},\"colorscale\":[[0.0,\"#0d0887\"],[0.1111111111111111,\"#46039f\"],[0.2222222222222222,\"#7201a8\"],[0.3333333333333333,\"#9c179e\"],[0.4444444444444444,\"#bd3786\"],[0.5555555555555556,\"#d8576b\"],[0.6666666666666666,\"#ed7953\"],[0.7777777777777778,\"#fb9f3a\"],[0.8888888888888888,\"#fdca26\"],[1.0,\"#f0f921\"]],\"type\":\"histogram2d\"}],\"histogram2dcontour\":[{\"colorbar\":{\"outlinewidth\":0,\"ticks\":\"\"},\"colorscale\":[[0.0,\"#0d0887\"],[0.1111111111111111,\"#46039f\"],[0.2222222222222222,\"#7201a8\"],[0.3333333333333333,\"#9c179e\"],[0.4444444444444444,\"#bd3786\"],[0.5555555555555556,\"#d8576b\"],[0.6666666666666666,\"#ed7953\"],[0.7777777777777778,\"#fb9f3a\"],[0.8888888888888888,\"#fdca26\"],[1.0,\"#f0f921\"]],\"type\":\"histogram2dcontour\"}],\"mesh3d\":[{\"colorbar\":{\"outlinewidth\":0,\"ticks\":\"\"},\"type\":\"mesh3d\"}],\"parcoords\":[{\"line\":{\"colorbar\":{\"outlinewidth\":0,\"ticks\":\"\"}},\"type\":\"parcoords\"}],\"pie\":[{\"automargin\":true,\"type\":\"pie\"}],\"scatter\":[{\"marker\":{\"colorbar\":{\"outlinewidth\":0,\"ticks\":\"\"}},\"type\":\"scatter\"}],\"scatter3d\":[{\"line\":{\"colorbar\":{\"outlinewidth\":0,\"ticks\":\"\"}},\"marker\":{\"colorbar\":{\"outlinewidth\":0,\"ticks\":\"\"}},\"type\":\"scatter3d\"}],\"scattercarpet\":[{\"marker\":{\"colorbar\":{\"outlinewidth\":0,\"ticks\":\"\"}},\"type\":\"scattercarpet\"}],\"scattergeo\":[{\"marker\":{\"colorbar\":{\"outlinewidth\":0,\"ticks\":\"\"}},\"type\":\"scattergeo\"}],\"scattergl\":[{\"marker\":{\"colorbar\":{\"outlinewidth\":0,\"ticks\":\"\"}},\"type\":\"scattergl\"}],\"scattermapbox\":[{\"marker\":{\"colorbar\":{\"outlinewidth\":0,\"ticks\":\"\"}},\"type\":\"scattermapbox\"}],\"scatterpolar\":[{\"marker\":{\"colorbar\":{\"outlinewidth\":0,\"ticks\":\"\"}},\"type\":\"scatterpolar\"}],\"scatterpolargl\":[{\"marker\":{\"colorbar\":{\"outlinewidth\":0,\"ticks\":\"\"}},\"type\":\"scatterpolargl\"}],\"scatterternary\":[{\"marker\":{\"colorbar\":{\"outlinewidth\":0,\"ticks\":\"\"}},\"type\":\"scatterternary\"}],\"surface\":[{\"colorbar\":{\"outlinewidth\":0,\"ticks\":\"\"},\"colorscale\":[[0.0,\"#0d0887\"],[0.1111111111111111,\"#46039f\"],[0.2222222222222222,\"#7201a8\"],[0.3333333333333333,\"#9c179e\"],[0.4444444444444444,\"#bd3786\"],[0.5555555555555556,\"#d8576b\"],[0.6666666666666666,\"#ed7953\"],[0.7777777777777778,\"#fb9f3a\"],[0.8888888888888888,\"#fdca26\"],[1.0,\"#f0f921\"]],\"type\":\"surface\"}],\"table\":[{\"cells\":{\"fill\":{\"color\":\"#EBF0F8\"},\"line\":{\"color\":\"white\"}},\"header\":{\"fill\":{\"color\":\"#C8D4E3\"},\"line\":{\"color\":\"white\"}},\"type\":\"table\"}]},\"layout\":{\"annotationdefaults\":{\"arrowcolor\":\"#2a3f5f\",\"arrowhead\":0,\"arrowwidth\":1},\"autotypenumbers\":\"strict\",\"coloraxis\":{\"colorbar\":{\"outlinewidth\":0,\"ticks\":\"\"}},\"colorscale\":{\"diverging\":[[0,\"#8e0152\"],[0.1,\"#c51b7d\"],[0.2,\"#de77ae\"],[0.3,\"#f1b6da\"],[0.4,\"#fde0ef\"],[0.5,\"#f7f7f7\"],[0.6,\"#e6f5d0\"],[0.7,\"#b8e186\"],[0.8,\"#7fbc41\"],[0.9,\"#4d9221\"],[1,\"#276419\"]],\"sequential\":[[0.0,\"#0d0887\"],[0.1111111111111111,\"#46039f\"],[0.2222222222222222,\"#7201a8\"],[0.3333333333333333,\"#9c179e\"],[0.4444444444444444,\"#bd3786\"],[0.5555555555555556,\"#d8576b\"],[0.6666666666666666,\"#ed7953\"],[0.7777777777777778,\"#fb9f3a\"],[0.8888888888888888,\"#fdca26\"],[1.0,\"#f0f921\"]],\"sequentialminus\":[[0.0,\"#0d0887\"],[0.1111111111111111,\"#46039f\"],[0.2222222222222222,\"#7201a8\"],[0.3333333333333333,\"#9c179e\"],[0.4444444444444444,\"#bd3786\"],[0.5555555555555556,\"#d8576b\"],[0.6666666666666666,\"#ed7953\"],[0.7777777777777778,\"#fb9f3a\"],[0.8888888888888888,\"#fdca26\"],[1.0,\"#f0f921\"]]},\"colorway\":[\"#636efa\",\"#EF553B\",\"#00cc96\",\"#ab63fa\",\"#FFA15A\",\"#19d3f3\",\"#FF6692\",\"#B6E880\",\"#FF97FF\",\"#FECB52\"],\"font\":{\"color\":\"#2a3f5f\"},\"geo\":{\"bgcolor\":\"white\",\"lakecolor\":\"white\",\"landcolor\":\"#E5ECF6\",\"showlakes\":true,\"showland\":true,\"subunitcolor\":\"white\"},\"hoverlabel\":{\"align\":\"left\"},\"hovermode\":\"closest\",\"mapbox\":{\"style\":\"light\"},\"paper_bgcolor\":\"white\",\"plot_bgcolor\":\"#E5ECF6\",\"polar\":{\"angularaxis\":{\"gridcolor\":\"white\",\"linecolor\":\"white\",\"ticks\":\"\"},\"bgcolor\":\"#E5ECF6\",\"radialaxis\":{\"gridcolor\":\"white\",\"linecolor\":\"white\",\"ticks\":\"\"}},\"scene\":{\"xaxis\":{\"backgroundcolor\":\"#E5ECF6\",\"gridcolor\":\"white\",\"gridwidth\":2,\"linecolor\":\"white\",\"showbackground\":true,\"ticks\":\"\",\"zerolinecolor\":\"white\"},\"yaxis\":{\"backgroundcolor\":\"#E5ECF6\",\"gridcolor\":\"white\",\"gridwidth\":2,\"linecolor\":\"white\",\"showbackground\":true,\"ticks\":\"\",\"zerolinecolor\":\"white\"},\"zaxis\":{\"backgroundcolor\":\"#E5ECF6\",\"gridcolor\":\"white\",\"gridwidth\":2,\"linecolor\":\"white\",\"showbackground\":true,\"ticks\":\"\",\"zerolinecolor\":\"white\"}},\"shapedefaults\":{\"line\":{\"color\":\"#2a3f5f\"}},\"ternary\":{\"aaxis\":{\"gridcolor\":\"white\",\"linecolor\":\"white\",\"ticks\":\"\"},\"baxis\":{\"gridcolor\":\"white\",\"linecolor\":\"white\",\"ticks\":\"\"},\"bgcolor\":\"#E5ECF6\",\"caxis\":{\"gridcolor\":\"white\",\"linecolor\":\"white\",\"ticks\":\"\"}},\"title\":{\"x\":0.05},\"xaxis\":{\"automargin\":true,\"gridcolor\":\"white\",\"linecolor\":\"white\",\"ticks\":\"\",\"title\":{\"standoff\":15},\"zerolinecolor\":\"white\",\"zerolinewidth\":2},\"yaxis\":{\"automargin\":true,\"gridcolor\":\"white\",\"linecolor\":\"white\",\"ticks\":\"\",\"title\":{\"standoff\":15},\"zerolinecolor\":\"white\",\"zerolinewidth\":2}}}},                        {\"responsive\": true}                    )                };                            </script>        </div>\n</body>\n</html>",
       "datasetInfos": [],
       "metadata": {},
       "removedWidgets": [],
       "textData": null,
       "type": "htmlSandbox"
      }
     },
     "output_type": "display_data"
    }
   ],
   "source": [
    "plot_two_inbound_fc(inbound_df=backtest_df_merge, actuals_col='Dry Actuals', fc_col_1='Dry Fc', fc_col_2= 'PROPHET_FC', show_out_of_range=True, date_col='Dates', outside_range_col_1='Outside_range_Dry_WOW', outside_range_col_2='Outside_range_Dry_PROPHET')"
   ]
  },
  {
   "cell_type": "markdown",
   "metadata": {
    "application/vnd.databricks.v1+cell": {
     "cellMetadata": {
      "byteLimit": 2048000,
      "rowLimit": 10000
     },
     "inputWidgets": {},
     "nuid": "e2cf8ac6-66a8-4065-a4e2-ac723681c593",
     "showTitle": false,
     "title": ""
    }
   },
   "source": [
    "### Visualize errors"
   ]
  },
  {
   "cell_type": "code",
   "execution_count": 0,
   "metadata": {
    "application/vnd.databricks.v1+cell": {
     "cellMetadata": {
      "byteLimit": 2048000,
      "rowLimit": 10000
     },
     "inputWidgets": {},
     "nuid": "a18a6510-3e4e-4d2b-b5cf-305b56c1c307",
     "showTitle": false,
     "title": ""
    }
   },
   "outputs": [
    {
     "output_type": "display_data",
     "data": {
      "text/html": [
       "<html>\n",
       "<head><meta charset=\"utf-8\" /></head>\n",
       "<body>\n",
       "    <div>            <script src=\"https://cdnjs.cloudflare.com/ajax/libs/mathjax/2.7.5/MathJax.js?config=TeX-AMS-MML_SVG\"></script><script type=\"text/javascript\">if (window.MathJax) {MathJax.Hub.Config({SVG: {font: \"STIX-Web\"}});}</script>                <script type=\"text/javascript\">window.PlotlyConfig = {MathJaxConfig: 'local'};</script>\n",
       "        <script src=\"https://cdn.plot.ly/plotly-2.2.0.min.js\"></script>                <div id=\"98d03fd3-8161-4dc1-8acb-849a71c731c6\" class=\"plotly-graph-div\" style=\"height:100%; width:100%;\"></div>            <script type=\"text/javascript\">                                    window.PLOTLYENV=window.PLOTLYENV || {};                                    if (document.getElementById(\"98d03fd3-8161-4dc1-8acb-849a71c731c6\")) {                    Plotly.newPlot(                        \"98d03fd3-8161-4dc1-8acb-849a71c731c6\",                        [{\"line\":{\"color\":\"#0000FF\"},\"name\":\"Bias_Dry_WOW\",\"showlegend\":true,\"type\":\"scatter\",\"x\":[\"2022-05-10T00:00:00\",\"2022-05-11T00:00:00\",\"2022-05-12T00:00:00\",\"2022-05-13T00:00:00\",\"2022-05-14T00:00:00\",\"2022-05-16T00:00:00\",\"2022-05-17T00:00:00\",\"2022-05-18T00:00:00\",\"2022-05-19T00:00:00\",\"2022-05-20T00:00:00\",\"2022-05-23T00:00:00\",\"2022-05-24T00:00:00\",\"2022-05-25T00:00:00\",\"2022-05-27T00:00:00\",\"2022-05-30T00:00:00\",\"2022-05-31T00:00:00\",\"2022-06-01T00:00:00\",\"2022-06-02T00:00:00\",\"2022-06-03T00:00:00\",\"2022-06-04T00:00:00\",\"2022-06-07T00:00:00\",\"2022-06-08T00:00:00\",\"2022-06-09T00:00:00\",\"2022-06-10T00:00:00\",\"2022-06-11T00:00:00\",\"2022-06-13T00:00:00\",\"2022-06-14T00:00:00\",\"2022-06-15T00:00:00\",\"2022-06-16T00:00:00\",\"2022-06-17T00:00:00\",\"2022-06-18T00:00:00\",\"2022-06-20T00:00:00\",\"2022-06-21T00:00:00\",\"2022-06-22T00:00:00\",\"2022-06-23T00:00:00\",\"2022-06-24T00:00:00\",\"2022-06-25T00:00:00\",\"2022-06-27T00:00:00\",\"2022-06-28T00:00:00\",\"2022-06-29T00:00:00\",\"2022-06-30T00:00:00\",\"2022-07-01T00:00:00\",\"2022-07-02T00:00:00\",\"2022-07-04T00:00:00\",\"2022-07-05T00:00:00\",\"2022-07-06T00:00:00\",\"2022-07-07T00:00:00\",\"2022-07-08T00:00:00\",\"2022-07-09T00:00:00\",\"2022-07-11T00:00:00\",\"2022-07-12T00:00:00\",\"2022-07-13T00:00:00\",\"2022-07-14T00:00:00\",\"2022-07-15T00:00:00\",\"2022-07-16T00:00:00\",\"2022-07-18T00:00:00\",\"2022-07-19T00:00:00\",\"2022-07-20T00:00:00\",\"2022-07-22T00:00:00\",\"2022-07-23T00:00:00\",\"2022-07-25T00:00:00\",\"2022-07-26T00:00:00\",\"2022-07-27T00:00:00\",\"2022-07-28T00:00:00\",\"2022-07-29T00:00:00\",\"2022-07-30T00:00:00\",\"2022-08-01T00:00:00\",\"2022-08-02T00:00:00\",\"2022-08-03T00:00:00\",\"2022-08-04T00:00:00\",\"2022-08-05T00:00:00\",\"2022-08-06T00:00:00\",\"2022-08-08T00:00:00\",\"2022-08-09T00:00:00\",\"2022-08-10T00:00:00\",\"2022-08-11T00:00:00\",\"2022-08-12T00:00:00\",\"2022-08-13T00:00:00\",\"2022-08-16T00:00:00\",\"2022-08-17T00:00:00\",\"2022-08-18T00:00:00\",\"2022-08-19T00:00:00\",\"2022-08-22T00:00:00\",\"2022-08-23T00:00:00\",\"2022-08-24T00:00:00\",\"2022-08-25T00:00:00\",\"2022-08-26T00:00:00\",\"2022-08-27T00:00:00\",\"2022-08-29T00:00:00\",\"2022-08-30T00:00:00\",\"2022-08-31T00:00:00\",\"2022-09-01T00:00:00\",\"2022-09-02T00:00:00\",\"2022-09-03T00:00:00\",\"2022-09-05T00:00:00\",\"2022-09-06T00:00:00\",\"2022-09-07T00:00:00\",\"2022-09-08T00:00:00\",\"2022-09-09T00:00:00\",\"2022-09-10T00:00:00\",\"2022-09-12T00:00:00\",\"2022-09-13T00:00:00\",\"2022-09-14T00:00:00\",\"2022-09-15T00:00:00\",\"2022-09-16T00:00:00\",\"2022-09-17T00:00:00\",\"2022-09-19T00:00:00\",\"2022-09-20T00:00:00\",\"2022-09-21T00:00:00\",\"2022-09-22T00:00:00\",\"2022-09-23T00:00:00\",\"2022-09-24T00:00:00\",\"2022-09-26T00:00:00\",\"2022-09-27T00:00:00\",\"2022-09-28T00:00:00\",\"2022-09-29T00:00:00\",\"2022-09-30T00:00:00\",\"2022-10-01T00:00:00\",\"2022-10-03T00:00:00\",\"2022-10-04T00:00:00\",\"2022-10-05T00:00:00\",\"2022-10-06T00:00:00\",\"2022-10-07T00:00:00\",\"2022-10-08T00:00:00\",\"2022-10-10T00:00:00\",\"2022-10-11T00:00:00\",\"2022-10-12T00:00:00\",\"2022-10-13T00:00:00\",\"2022-10-14T00:00:00\",\"2022-10-15T00:00:00\",\"2022-10-17T00:00:00\",\"2022-10-18T00:00:00\",\"2022-10-19T00:00:00\",\"2022-10-20T00:00:00\",\"2022-10-21T00:00:00\",\"2022-10-22T00:00:00\",\"2022-10-24T00:00:00\",\"2022-10-25T00:00:00\",\"2022-10-26T00:00:00\",\"2022-10-27T00:00:00\",\"2022-10-28T00:00:00\",\"2022-10-29T00:00:00\",\"2022-10-31T00:00:00\",\"2022-11-02T00:00:00\",\"2022-11-03T00:00:00\",\"2022-11-04T00:00:00\",\"2022-11-05T00:00:00\",\"2022-11-07T00:00:00\",\"2022-11-08T00:00:00\",\"2022-11-09T00:00:00\",\"2022-11-10T00:00:00\",\"2022-11-12T00:00:00\",\"2022-11-14T00:00:00\",\"2022-11-15T00:00:00\",\"2022-11-16T00:00:00\",\"2022-11-17T00:00:00\",\"2022-11-18T00:00:00\",\"2022-11-19T00:00:00\",\"2022-11-21T00:00:00\",\"2022-11-22T00:00:00\",\"2022-11-23T00:00:00\",\"2022-11-24T00:00:00\",\"2022-11-25T00:00:00\",\"2022-11-26T00:00:00\",\"2022-11-28T00:00:00\",\"2022-11-29T00:00:00\",\"2022-11-30T00:00:00\",\"2022-12-01T00:00:00\",\"2022-12-02T00:00:00\",\"2022-12-03T00:00:00\",\"2022-12-05T00:00:00\",\"2022-12-06T00:00:00\",\"2022-12-07T00:00:00\",\"2022-12-08T00:00:00\",\"2022-12-09T00:00:00\",\"2022-12-10T00:00:00\",\"2022-12-12T00:00:00\",\"2022-12-13T00:00:00\",\"2022-12-14T00:00:00\",\"2022-12-15T00:00:00\",\"2022-12-16T00:00:00\",\"2022-12-17T00:00:00\",\"2022-12-19T00:00:00\",\"2022-12-20T00:00:00\",\"2022-12-21T00:00:00\",\"2022-12-22T00:00:00\",\"2022-12-23T00:00:00\",\"2022-12-24T00:00:00\",\"2022-12-26T00:00:00\",\"2022-12-27T00:00:00\",\"2022-12-28T00:00:00\",\"2022-12-29T00:00:00\",\"2022-12-30T00:00:00\",\"2022-12-31T00:00:00\"],\"y\":[258.7297324605461,14596.213526771855,16271.343564024806,11108.833847380076,-17129.948663008094,-791.479636002201,-1351.4882373940418,15257.83305392805,10725.692723049957,7560.135446805565,17524.065450345573,3302.4675079598164,6512.465627458027,896.2747375456602,-21346.695613065735,8633.191845130175,3628.9021111171605,7621.342185646317,-8716.990826030771,-8173.363611513487,-20111.841156252136,3450.3133862100003,-679.6808120830246,-1093.3016450877185,-2800.2996504924813,-2892.627435531016,-663.3153383782628,-758.062786752067,9956.462573692756,-8478.610575386308,-7163.394445655598,-3932.975599623649,-138.78612073934346,16851.545877828525,-6602.419068696792,-9558.475448216836,8851.027327602074,284.84944222372724,-13911.268448768933,4436.644374550386,2057.370004981385,4213.704386485675,832.2078413941563,3002.7517919022066,-8861.848074670248,9722.946109945704,4271.983298270272,-686.0814988853817,2988.0239332666824,7607.600000000006,-2477.6399999999994,7599.5,1515.9819198917758,-1958.9259999999995,26262.917792435874,9489.700000000012,3187.8799999999974,-1813.0,-4908.861999999994,2176.858705382794,795.6000000000058,4595.5999999999985,9307.5,9541.340944918862,-7109.223999999995,4099.767317041624,-4650.559999999998,-3530.3039999999964,-2530.1200000000026,1820.1100000000006,-11134.667999999998,-6336.5293976147295,-12.279999999998836,-539.1999999999971,-1010.0400000000009,-866.6999999999971,-3768.428,-6179.204990788632,1364.1759999999995,-9379.440000000002,-4638.540000000001,-19209.068,-6852.5,190.67199999999866,4224.559999999998,1022.0899999999965,-2211.933999999994,-1929.471306547508,-2499.199999999997,-12378.239999999998,-493.1600000000035,5264.470000000001,-5851.671999999999,2021.2597355738835,5274.779999999999,-1177.4320000000007,4997.399999999994,5627.739999999998,-7184.345999999998,1149.90121465017,-5930.0,3025.6640000000043,7669.759999999995,15439.029999999999,2163.796000000002,-5431.300479802689,5176.0,-2879.0,4503.0,14407.0,4.0,8594.0,2241.7000000000116,5049.080000000002,-4446.0,6548.1470000000045,-3140.3099999999977,-8061.182536980181,-3592.0499999999884,-4764.080000000002,-680.0,-3464.5440000000017,-6239.921999999999,-693.9345409652524,53.95000000001164,-1083.4000000000087,6188.5,3002.709999999999,-1180.3799999999974,-886.9138166284902,5404.100000000006,2508.479999999996,4715.5,5055.395000000004,5049.016000000003,5590.743469288012,10750.950000000012,15696.679999999993,3526.0,3924.639000000003,2554.608,7709.25323030819,-2580.0,333.5,1525.5699999999997,-855.0139999999956,-15089.586073831728,-10155.649999999994,-59204.84,52066.0,12626.047999999995,12772.547759168825,3614.550000000003,3908.4400000000023,-1548.5,9929.157999999996,8524.784000000007,9878.118259619223,10702.62000000001,7270.0,5536.239999999991,11479.488999999994,5132.502,-4357.073494568205,2866.0,8634.919999999998,1694.1600000000035,-978.8710000000137,-7222.603999999999,2741.024320233846,8034.0,-8127.419999999998,3803.479999999996,2386.028999999995,-2789.837999999996,-910.6944652820821,3763.0,1100.574999999997,2468.1150000000052,1679.3759999999966,280.62600000000384,19549.04536515723,3475.0,2027.449999999997,17891.380000000005,6982.351999999999,894.2590000000055,32288.676488370707,4577.0,7695.2699999999895,24236.319999999992,20794.34599999999,-8915.112000000001,15932.131426049978]},{\"line\":{\"color\":\"#FF0000\"},\"name\":\"Bias_Dry_PROPHET\",\"showlegend\":true,\"type\":\"scatter\",\"x\":[\"2022-05-10T00:00:00\",\"2022-05-11T00:00:00\",\"2022-05-12T00:00:00\",\"2022-05-13T00:00:00\",\"2022-05-14T00:00:00\",\"2022-05-16T00:00:00\",\"2022-05-17T00:00:00\",\"2022-05-18T00:00:00\",\"2022-05-19T00:00:00\",\"2022-05-20T00:00:00\",\"2022-05-23T00:00:00\",\"2022-05-24T00:00:00\",\"2022-05-25T00:00:00\",\"2022-05-27T00:00:00\",\"2022-05-30T00:00:00\",\"2022-05-31T00:00:00\",\"2022-06-01T00:00:00\",\"2022-06-02T00:00:00\",\"2022-06-03T00:00:00\",\"2022-06-04T00:00:00\",\"2022-06-07T00:00:00\",\"2022-06-08T00:00:00\",\"2022-06-09T00:00:00\",\"2022-06-10T00:00:00\",\"2022-06-11T00:00:00\",\"2022-06-13T00:00:00\",\"2022-06-14T00:00:00\",\"2022-06-15T00:00:00\",\"2022-06-16T00:00:00\",\"2022-06-17T00:00:00\",\"2022-06-18T00:00:00\",\"2022-06-20T00:00:00\",\"2022-06-21T00:00:00\",\"2022-06-22T00:00:00\",\"2022-06-23T00:00:00\",\"2022-06-24T00:00:00\",\"2022-06-25T00:00:00\",\"2022-06-27T00:00:00\",\"2022-06-28T00:00:00\",\"2022-06-29T00:00:00\",\"2022-06-30T00:00:00\",\"2022-07-01T00:00:00\",\"2022-07-02T00:00:00\",\"2022-07-04T00:00:00\",\"2022-07-05T00:00:00\",\"2022-07-06T00:00:00\",\"2022-07-07T00:00:00\",\"2022-07-08T00:00:00\",\"2022-07-09T00:00:00\",\"2022-07-11T00:00:00\",\"2022-07-12T00:00:00\",\"2022-07-13T00:00:00\",\"2022-07-14T00:00:00\",\"2022-07-15T00:00:00\",\"2022-07-16T00:00:00\",\"2022-07-18T00:00:00\",\"2022-07-19T00:00:00\",\"2022-07-20T00:00:00\",\"2022-07-22T00:00:00\",\"2022-07-23T00:00:00\",\"2022-07-25T00:00:00\",\"2022-07-26T00:00:00\",\"2022-07-27T00:00:00\",\"2022-07-28T00:00:00\",\"2022-07-29T00:00:00\",\"2022-07-30T00:00:00\",\"2022-08-01T00:00:00\",\"2022-08-02T00:00:00\",\"2022-08-03T00:00:00\",\"2022-08-04T00:00:00\",\"2022-08-05T00:00:00\",\"2022-08-06T00:00:00\",\"2022-08-08T00:00:00\",\"2022-08-09T00:00:00\",\"2022-08-10T00:00:00\",\"2022-08-11T00:00:00\",\"2022-08-12T00:00:00\",\"2022-08-13T00:00:00\",\"2022-08-16T00:00:00\",\"2022-08-17T00:00:00\",\"2022-08-18T00:00:00\",\"2022-08-19T00:00:00\",\"2022-08-22T00:00:00\",\"2022-08-23T00:00:00\",\"2022-08-24T00:00:00\",\"2022-08-25T00:00:00\",\"2022-08-26T00:00:00\",\"2022-08-27T00:00:00\",\"2022-08-29T00:00:00\",\"2022-08-30T00:00:00\",\"2022-08-31T00:00:00\",\"2022-09-01T00:00:00\",\"2022-09-02T00:00:00\",\"2022-09-03T00:00:00\",\"2022-09-05T00:00:00\",\"2022-09-06T00:00:00\",\"2022-09-07T00:00:00\",\"2022-09-08T00:00:00\",\"2022-09-09T00:00:00\",\"2022-09-10T00:00:00\",\"2022-09-12T00:00:00\",\"2022-09-13T00:00:00\",\"2022-09-14T00:00:00\",\"2022-09-15T00:00:00\",\"2022-09-16T00:00:00\",\"2022-09-17T00:00:00\",\"2022-09-19T00:00:00\",\"2022-09-20T00:00:00\",\"2022-09-21T00:00:00\",\"2022-09-22T00:00:00\",\"2022-09-23T00:00:00\",\"2022-09-24T00:00:00\",\"2022-09-26T00:00:00\",\"2022-09-27T00:00:00\",\"2022-09-28T00:00:00\",\"2022-09-29T00:00:00\",\"2022-09-30T00:00:00\",\"2022-10-01T00:00:00\",\"2022-10-03T00:00:00\",\"2022-10-04T00:00:00\",\"2022-10-05T00:00:00\",\"2022-10-06T00:00:00\",\"2022-10-07T00:00:00\",\"2022-10-08T00:00:00\",\"2022-10-10T00:00:00\",\"2022-10-11T00:00:00\",\"2022-10-12T00:00:00\",\"2022-10-13T00:00:00\",\"2022-10-14T00:00:00\",\"2022-10-15T00:00:00\",\"2022-10-17T00:00:00\",\"2022-10-18T00:00:00\",\"2022-10-19T00:00:00\",\"2022-10-20T00:00:00\",\"2022-10-21T00:00:00\",\"2022-10-22T00:00:00\",\"2022-10-24T00:00:00\",\"2022-10-25T00:00:00\",\"2022-10-26T00:00:00\",\"2022-10-27T00:00:00\",\"2022-10-28T00:00:00\",\"2022-10-29T00:00:00\",\"2022-10-31T00:00:00\",\"2022-11-02T00:00:00\",\"2022-11-03T00:00:00\",\"2022-11-04T00:00:00\",\"2022-11-05T00:00:00\",\"2022-11-07T00:00:00\",\"2022-11-08T00:00:00\",\"2022-11-09T00:00:00\",\"2022-11-10T00:00:00\",\"2022-11-12T00:00:00\",\"2022-11-14T00:00:00\",\"2022-11-15T00:00:00\",\"2022-11-16T00:00:00\",\"2022-11-17T00:00:00\",\"2022-11-18T00:00:00\",\"2022-11-19T00:00:00\",\"2022-11-21T00:00:00\",\"2022-11-22T00:00:00\",\"2022-11-23T00:00:00\",\"2022-11-24T00:00:00\",\"2022-11-25T00:00:00\",\"2022-11-26T00:00:00\",\"2022-11-28T00:00:00\",\"2022-11-29T00:00:00\",\"2022-11-30T00:00:00\",\"2022-12-01T00:00:00\",\"2022-12-02T00:00:00\",\"2022-12-03T00:00:00\",\"2022-12-05T00:00:00\",\"2022-12-06T00:00:00\",\"2022-12-07T00:00:00\",\"2022-12-08T00:00:00\",\"2022-12-09T00:00:00\",\"2022-12-10T00:00:00\",\"2022-12-12T00:00:00\",\"2022-12-13T00:00:00\",\"2022-12-14T00:00:00\",\"2022-12-15T00:00:00\",\"2022-12-16T00:00:00\",\"2022-12-17T00:00:00\",\"2022-12-19T00:00:00\",\"2022-12-20T00:00:00\",\"2022-12-21T00:00:00\",\"2022-12-22T00:00:00\",\"2022-12-23T00:00:00\",\"2022-12-24T00:00:00\",\"2022-12-26T00:00:00\",\"2022-12-27T00:00:00\",\"2022-12-28T00:00:00\",\"2022-12-29T00:00:00\",\"2022-12-30T00:00:00\",\"2022-12-31T00:00:00\"],\"y\":[9375.758080716128,11291.560348468323,5809.083171740538,9537.41105785143,-30757.793754807317,919.8473188117205,12235.708791081823,15760.200668581965,4316.765556303246,8839.736473382116,10049.100442082301,25198.96918221563,9666.581908642314,6622.11415943232,-14326.184963253952,9199.38996946295,-4050.5011767108663,-4003.803284934562,-9911.005716814521,-29766.838321107163,-37884.075160566994,-1086.7626465331487,-12361.194273501693,-5197.2756027243595,-27251.265065658183,2937.691845846377,-4730.210225410716,-14087.289433991711,-9381.127447740582,-16318.587260904023,-32417.67350140548,-11138.851945696966,3253.1183814747783,8522.94198113933,-17658.82873750203,-11696.848270099741,-6921.977817289786,13077.478414605634,-6412.425927294331,-63.149787049645965,-4349.017243087495,3856.3792717023825,-13699.345247564095,18964.820304693043,-524.668693617612,9858.177134425925,5129.689312622642,7881.885529014813,-5126.54823025754,27526.9084637044,11028.777684297165,2629.1479705616875,3144.580951780401,11409.884904017286,20785.290978901598,32486.47269532914,14355.824403227627,-7289.363179020715,5176.999679126042,-6419.658463638552,17511.53600114504,5543.136245776397,-2811.8270201954438,2822.7874932279665,-1396.0356547551346,-10581.52230779759,304.93145746571827,5941.234654967448,-5914.324350394636,5746.121627202643,654.3633345916023,-15298.981882151638,19993.427118394757,3795.1515606609464,-4973.414963769901,2831.3893860181415,7842.001819804951,-16383.980146087739,-2033.869456567627,-16760.57064018445,-7556.954590184236,-15493.01235539977,-50911.14246003149,365.79926682478253,-4888.086066332384,-4930.046280172668,-438.1281986138056,-17646.93347063304,-42992.19913215624,-12917.31097087889,-16315.722123018772,13782.186115658216,11842.395786741006,-3692.298400373671,7788.209706705966,8957.893524002473,1145.7924541456596,8655.51161897568,12838.035791621718,7081.397128755067,-48719.96123141647,13850.569616685534,6430.783498381177,19399.09898408698,14405.574455647919,-2622.3512814260757,21923.303909162583,12193.349769598193,7800.296891730031,22186.877438114694,20069.565320320136,11179.406741676277,22756.59573166314,17709.19605241416,-3249.441968903484,5270.923943652742,13961.86533647227,-5541.2904723238535,-2402.0836714640463,962.976861480216,-6450.408363910923,-6751.297466347998,3417.7237439446617,-2247.751409266355,2130.8143567692023,577.1984554626688,2106.550856019334,-187.58087324540247,5319.9747046663615,-5910.642246698488,1197.2575776712329,2772.0015221255744,2017.053348599009,4214.480021171221,12022.252686615058,948.507778173589,12541.473560612823,9358.683064875178,-6291.327813377713,-8781.09009693592,1503.891291790249,-4356.760377861021,-53.826248678786214,-55911.99890998841,-6387.870384238624,-34626.901679636154,-11107.063448711422,8269.628407627752,-113737.91195032632,47258.15179535982,-35665.66081536033,19879.334198828044,11237.71481649563,9000.677984607653,-14162.463597335838,-22695.44078414995,11913.627649987073,1297.8967508657151,-34.49959614450927,11962.970984005893,2100.8968204812118,6176.625469874591,10052.47579600307,-8132.5592759174615,-52047.11661362619,6217.753100886883,-6339.4845558426605,-5802.632248960152,-5088.199834986823,-4028.6663879267508,10267.71333801403,12746.904564068798,15302.092838810451,14652.473535140249,17818.775790324464,10180.797938537115,-1834.5786295494763,9461.529988972878,6786.168519930565,6209.821331900552,8660.56223742936,21970.884951053747,34631.188445554566,6307.274552674309,16450.522586905863,3705.1903542497166,8029.955008356446,27282.161376844568,33305.249962810194,21604.1181709051,30199.49570338655,29138.71780998104,4248.3142116292,22614.70382187578]},{\"line\":{\"color\":\"#000099\",\"dash\":\"dash\",\"width\":0.5},\"mode\":\"lines\",\"name\":\"Outside_range_Dry_WOW\",\"showlegend\":true,\"type\":\"scatter\",\"x\":[\"2022-05-11T00:00:00\",\"2022-05-11T00:00:00\"],\"y\":[-59204.84,52066.0]},{\"line\":{\"color\":\"#000099\",\"dash\":\"dash\",\"width\":0.5},\"mode\":\"lines\",\"name\":\"Outside_range_Dry_WOW\",\"showlegend\":false,\"type\":\"scatter\",\"x\":[\"2022-05-12T00:00:00\",\"2022-05-12T00:00:00\"],\"y\":[-59204.84,52066.0]},{\"line\":{\"color\":\"#000099\",\"dash\":\"dash\",\"width\":0.5},\"mode\":\"lines\",\"name\":\"Outside_range_Dry_WOW\",\"showlegend\":false,\"type\":\"scatter\",\"x\":[\"2022-05-13T00:00:00\",\"2022-05-13T00:00:00\"],\"y\":[-59204.84,52066.0]},{\"line\":{\"color\":\"#000099\",\"dash\":\"dash\",\"width\":0.5},\"mode\":\"lines\",\"name\":\"Outside_range_Dry_WOW\",\"showlegend\":false,\"type\":\"scatter\",\"x\":[\"2022-05-14T00:00:00\",\"2022-05-14T00:00:00\"],\"y\":[-59204.84,52066.0]},{\"line\":{\"color\":\"#000099\",\"dash\":\"dash\",\"width\":0.5},\"mode\":\"lines\",\"name\":\"Outside_range_Dry_WOW\",\"showlegend\":false,\"type\":\"scatter\",\"x\":[\"2022-05-18T00:00:00\",\"2022-05-18T00:00:00\"],\"y\":[-59204.84,52066.0]},{\"line\":{\"color\":\"#000099\",\"dash\":\"dash\",\"width\":0.5},\"mode\":\"lines\",\"name\":\"Outside_range_Dry_WOW\",\"showlegend\":false,\"type\":\"scatter\",\"x\":[\"2022-05-19T00:00:00\",\"2022-05-19T00:00:00\"],\"y\":[-59204.84,52066.0]},{\"line\":{\"color\":\"#000099\",\"dash\":\"dash\",\"width\":0.5},\"mode\":\"lines\",\"name\":\"Outside_range_Dry_WOW\",\"showlegend\":false,\"type\":\"scatter\",\"x\":[\"2022-05-20T00:00:00\",\"2022-05-20T00:00:00\"],\"y\":[-59204.84,52066.0]},{\"line\":{\"color\":\"#000099\",\"dash\":\"dash\",\"width\":0.5},\"mode\":\"lines\",\"name\":\"Outside_range_Dry_WOW\",\"showlegend\":false,\"type\":\"scatter\",\"x\":[\"2022-05-23T00:00:00\",\"2022-05-23T00:00:00\"],\"y\":[-59204.84,52066.0]},{\"line\":{\"color\":\"#000099\",\"dash\":\"dash\",\"width\":0.5},\"mode\":\"lines\",\"name\":\"Outside_range_Dry_WOW\",\"showlegend\":false,\"type\":\"scatter\",\"x\":[\"2022-05-25T00:00:00\",\"2022-05-25T00:00:00\"],\"y\":[-59204.84,52066.0]},{\"line\":{\"color\":\"#000099\",\"dash\":\"dash\",\"width\":0.5},\"mode\":\"lines\",\"name\":\"Outside_range_Dry_WOW\",\"showlegend\":false,\"type\":\"scatter\",\"x\":[\"2022-05-30T00:00:00\",\"2022-05-30T00:00:00\"],\"y\":[-59204.84,52066.0]},{\"line\":{\"color\":\"#000099\",\"dash\":\"dash\",\"width\":0.5},\"mode\":\"lines\",\"name\":\"Outside_range_Dry_WOW\",\"showlegend\":false,\"type\":\"scatter\",\"x\":[\"2022-05-31T00:00:00\",\"2022-05-31T00:00:00\"],\"y\":[-59204.84,52066.0]},{\"line\":{\"color\":\"#000099\",\"dash\":\"dash\",\"width\":0.5},\"mode\":\"lines\",\"name\":\"Outside_range_Dry_WOW\",\"showlegend\":false,\"type\":\"scatter\",\"x\":[\"2022-06-02T00:00:00\",\"2022-06-02T00:00:00\"],\"y\":[-59204.84,52066.0]},{\"line\":{\"color\":\"#000099\",\"dash\":\"dash\",\"width\":0.5},\"mode\":\"lines\",\"name\":\"Outside_range_Dry_WOW\",\"showlegend\":false,\"type\":\"scatter\",\"x\":[\"2022-06-03T00:00:00\",\"2022-06-03T00:00:00\"],\"y\":[-59204.84,52066.0]},{\"line\":{\"color\":\"#000099\",\"dash\":\"dash\",\"width\":0.5},\"mode\":\"lines\",\"name\":\"Outside_range_Dry_WOW\",\"showlegend\":false,\"type\":\"scatter\",\"x\":[\"2022-06-04T00:00:00\",\"2022-06-04T00:00:00\"],\"y\":[-59204.84,52066.0]},{\"line\":{\"color\":\"#000099\",\"dash\":\"dash\",\"width\":0.5},\"mode\":\"lines\",\"name\":\"Outside_range_Dry_WOW\",\"showlegend\":false,\"type\":\"scatter\",\"x\":[\"2022-06-07T00:00:00\",\"2022-06-07T00:00:00\"],\"y\":[-59204.84,52066.0]},{\"line\":{\"color\":\"#000099\",\"dash\":\"dash\",\"width\":0.5},\"mode\":\"lines\",\"name\":\"Outside_range_Dry_WOW\",\"showlegend\":false,\"type\":\"scatter\",\"x\":[\"2022-06-16T00:00:00\",\"2022-06-16T00:00:00\"],\"y\":[-59204.84,52066.0]},{\"line\":{\"color\":\"#000099\",\"dash\":\"dash\",\"width\":0.5},\"mode\":\"lines\",\"name\":\"Outside_range_Dry_WOW\",\"showlegend\":false,\"type\":\"scatter\",\"x\":[\"2022-06-17T00:00:00\",\"2022-06-17T00:00:00\"],\"y\":[-59204.84,52066.0]},{\"line\":{\"color\":\"#000099\",\"dash\":\"dash\",\"width\":0.5},\"mode\":\"lines\",\"name\":\"Outside_range_Dry_WOW\",\"showlegend\":false,\"type\":\"scatter\",\"x\":[\"2022-06-18T00:00:00\",\"2022-06-18T00:00:00\"],\"y\":[-59204.84,52066.0]},{\"line\":{\"color\":\"#000099\",\"dash\":\"dash\",\"width\":0.5},\"mode\":\"lines\",\"name\":\"Outside_range_Dry_WOW\",\"showlegend\":false,\"type\":\"scatter\",\"x\":[\"2022-06-22T00:00:00\",\"2022-06-22T00:00:00\"],\"y\":[-59204.84,52066.0]},{\"line\":{\"color\":\"#000099\",\"dash\":\"dash\",\"width\":0.5},\"mode\":\"lines\",\"name\":\"Outside_range_Dry_WOW\",\"showlegend\":false,\"type\":\"scatter\",\"x\":[\"2022-06-23T00:00:00\",\"2022-06-23T00:00:00\"],\"y\":[-59204.84,52066.0]},{\"line\":{\"color\":\"#000099\",\"dash\":\"dash\",\"width\":0.5},\"mode\":\"lines\",\"name\":\"Outside_range_Dry_WOW\",\"showlegend\":false,\"type\":\"scatter\",\"x\":[\"2022-06-24T00:00:00\",\"2022-06-24T00:00:00\"],\"y\":[-59204.84,52066.0]},{\"line\":{\"color\":\"#000099\",\"dash\":\"dash\",\"width\":0.5},\"mode\":\"lines\",\"name\":\"Outside_range_Dry_WOW\",\"showlegend\":false,\"type\":\"scatter\",\"x\":[\"2022-06-25T00:00:00\",\"2022-06-25T00:00:00\"],\"y\":[-59204.84,52066.0]},{\"line\":{\"color\":\"#000099\",\"dash\":\"dash\",\"width\":0.5},\"mode\":\"lines\",\"name\":\"Outside_range_Dry_WOW\",\"showlegend\":false,\"type\":\"scatter\",\"x\":[\"2022-06-28T00:00:00\",\"2022-06-28T00:00:00\"],\"y\":[-59204.84,52066.0]},{\"line\":{\"color\":\"#000099\",\"dash\":\"dash\",\"width\":0.5},\"mode\":\"lines\",\"name\":\"Outside_range_Dry_WOW\",\"showlegend\":false,\"type\":\"scatter\",\"x\":[\"2022-07-05T00:00:00\",\"2022-07-05T00:00:00\"],\"y\":[-59204.84,52066.0]},{\"line\":{\"color\":\"#000099\",\"dash\":\"dash\",\"width\":0.5},\"mode\":\"lines\",\"name\":\"Outside_range_Dry_WOW\",\"showlegend\":false,\"type\":\"scatter\",\"x\":[\"2022-07-06T00:00:00\",\"2022-07-06T00:00:00\"],\"y\":[-59204.84,52066.0]},{\"line\":{\"color\":\"#000099\",\"dash\":\"dash\",\"width\":0.5},\"mode\":\"lines\",\"name\":\"Outside_range_Dry_WOW\",\"showlegend\":false,\"type\":\"scatter\",\"x\":[\"2022-07-07T00:00:00\",\"2022-07-07T00:00:00\"],\"y\":[-59204.84,52066.0]},{\"line\":{\"color\":\"#000099\",\"dash\":\"dash\",\"width\":0.5},\"mode\":\"lines\",\"name\":\"Outside_range_Dry_WOW\",\"showlegend\":false,\"type\":\"scatter\",\"x\":[\"2022-07-11T00:00:00\",\"2022-07-11T00:00:00\"],\"y\":[-59204.84,52066.0]},{\"line\":{\"color\":\"#000099\",\"dash\":\"dash\",\"width\":0.5},\"mode\":\"lines\",\"name\":\"Outside_range_Dry_WOW\",\"showlegend\":false,\"type\":\"scatter\",\"x\":[\"2022-07-13T00:00:00\",\"2022-07-13T00:00:00\"],\"y\":[-59204.84,52066.0]},{\"line\":{\"color\":\"#000099\",\"dash\":\"dash\",\"width\":0.5},\"mode\":\"lines\",\"name\":\"Outside_range_Dry_WOW\",\"showlegend\":false,\"type\":\"scatter\",\"x\":[\"2022-07-16T00:00:00\",\"2022-07-16T00:00:00\"],\"y\":[-59204.84,52066.0]},{\"line\":{\"color\":\"#000099\",\"dash\":\"dash\",\"width\":0.5},\"mode\":\"lines\",\"name\":\"Outside_range_Dry_WOW\",\"showlegend\":false,\"type\":\"scatter\",\"x\":[\"2022-07-18T00:00:00\",\"2022-07-18T00:00:00\"],\"y\":[-59204.84,52066.0]},{\"line\":{\"color\":\"#000099\",\"dash\":\"dash\",\"width\":0.5},\"mode\":\"lines\",\"name\":\"Outside_range_Dry_WOW\",\"showlegend\":false,\"type\":\"scatter\",\"x\":[\"2022-07-22T00:00:00\",\"2022-07-22T00:00:00\"],\"y\":[-59204.84,52066.0]},{\"line\":{\"color\":\"#000099\",\"dash\":\"dash\",\"width\":0.5},\"mode\":\"lines\",\"name\":\"Outside_range_Dry_WOW\",\"showlegend\":false,\"type\":\"scatter\",\"x\":[\"2022-07-27T00:00:00\",\"2022-07-27T00:00:00\"],\"y\":[-59204.84,52066.0]},{\"line\":{\"color\":\"#000099\",\"dash\":\"dash\",\"width\":0.5},\"mode\":\"lines\",\"name\":\"Outside_range_Dry_WOW\",\"showlegend\":false,\"type\":\"scatter\",\"x\":[\"2022-07-28T00:00:00\",\"2022-07-28T00:00:00\"],\"y\":[-59204.84,52066.0]},{\"line\":{\"color\":\"#000099\",\"dash\":\"dash\",\"width\":0.5},\"mode\":\"lines\",\"name\":\"Outside_range_Dry_WOW\",\"showlegend\":false,\"type\":\"scatter\",\"x\":[\"2022-07-29T00:00:00\",\"2022-07-29T00:00:00\"],\"y\":[-59204.84,52066.0]},{\"line\":{\"color\":\"#000099\",\"dash\":\"dash\",\"width\":0.5},\"mode\":\"lines\",\"name\":\"Outside_range_Dry_WOW\",\"showlegend\":false,\"type\":\"scatter\",\"x\":[\"2022-08-05T00:00:00\",\"2022-08-05T00:00:00\"],\"y\":[-59204.84,52066.0]},{\"line\":{\"color\":\"#000099\",\"dash\":\"dash\",\"width\":0.5},\"mode\":\"lines\",\"name\":\"Outside_range_Dry_WOW\",\"showlegend\":false,\"type\":\"scatter\",\"x\":[\"2022-08-06T00:00:00\",\"2022-08-06T00:00:00\"],\"y\":[-59204.84,52066.0]},{\"line\":{\"color\":\"#000099\",\"dash\":\"dash\",\"width\":0.5},\"mode\":\"lines\",\"name\":\"Outside_range_Dry_WOW\",\"showlegend\":false,\"type\":\"scatter\",\"x\":[\"2022-08-13T00:00:00\",\"2022-08-13T00:00:00\"],\"y\":[-59204.84,52066.0]},{\"line\":{\"color\":\"#000099\",\"dash\":\"dash\",\"width\":0.5},\"mode\":\"lines\",\"name\":\"Outside_range_Dry_WOW\",\"showlegend\":false,\"type\":\"scatter\",\"x\":[\"2022-08-17T00:00:00\",\"2022-08-17T00:00:00\"],\"y\":[-59204.84,52066.0]},{\"line\":{\"color\":\"#000099\",\"dash\":\"dash\",\"width\":0.5},\"mode\":\"lines\",\"name\":\"Outside_range_Dry_WOW\",\"showlegend\":false,\"type\":\"scatter\",\"x\":[\"2022-08-19T00:00:00\",\"2022-08-19T00:00:00\"],\"y\":[-59204.84,52066.0]},{\"line\":{\"color\":\"#000099\",\"dash\":\"dash\",\"width\":0.5},\"mode\":\"lines\",\"name\":\"Outside_range_Dry_WOW\",\"showlegend\":false,\"type\":\"scatter\",\"x\":[\"2022-08-30T00:00:00\",\"2022-08-30T00:00:00\"],\"y\":[-59204.84,52066.0]},{\"line\":{\"color\":\"#000099\",\"dash\":\"dash\",\"width\":0.5},\"mode\":\"lines\",\"name\":\"Outside_range_Dry_WOW\",\"showlegend\":false,\"type\":\"scatter\",\"x\":[\"2022-09-01T00:00:00\",\"2022-09-01T00:00:00\"],\"y\":[-59204.84,52066.0]},{\"line\":{\"color\":\"#000099\",\"dash\":\"dash\",\"width\":0.5},\"mode\":\"lines\",\"name\":\"Outside_range_Dry_WOW\",\"showlegend\":false,\"type\":\"scatter\",\"x\":[\"2022-09-02T00:00:00\",\"2022-09-02T00:00:00\"],\"y\":[-59204.84,52066.0]},{\"line\":{\"color\":\"#000099\",\"dash\":\"dash\",\"width\":0.5},\"mode\":\"lines\",\"name\":\"Outside_range_Dry_WOW\",\"showlegend\":false,\"type\":\"scatter\",\"x\":[\"2022-09-09T00:00:00\",\"2022-09-09T00:00:00\"],\"y\":[-59204.84,52066.0]},{\"line\":{\"color\":\"#000099\",\"dash\":\"dash\",\"width\":0.5},\"mode\":\"lines\",\"name\":\"Outside_range_Dry_WOW\",\"showlegend\":false,\"type\":\"scatter\",\"x\":[\"2022-09-14T00:00:00\",\"2022-09-14T00:00:00\"],\"y\":[-59204.84,52066.0]},{\"line\":{\"color\":\"#000099\",\"dash\":\"dash\",\"width\":0.5},\"mode\":\"lines\",\"name\":\"Outside_range_Dry_WOW\",\"showlegend\":false,\"type\":\"scatter\",\"x\":[\"2022-09-15T00:00:00\",\"2022-09-15T00:00:00\"],\"y\":[-59204.84,52066.0]},{\"line\":{\"color\":\"#000099\",\"dash\":\"dash\",\"width\":0.5},\"mode\":\"lines\",\"name\":\"Outside_range_Dry_WOW\",\"showlegend\":false,\"type\":\"scatter\",\"x\":[\"2022-09-22T00:00:00\",\"2022-09-22T00:00:00\"],\"y\":[-59204.84,52066.0]},{\"line\":{\"color\":\"#000099\",\"dash\":\"dash\",\"width\":0.5},\"mode\":\"lines\",\"name\":\"Outside_range_Dry_WOW\",\"showlegend\":false,\"type\":\"scatter\",\"x\":[\"2022-09-24T00:00:00\",\"2022-09-24T00:00:00\"],\"y\":[-59204.84,52066.0]},{\"line\":{\"color\":\"#000099\",\"dash\":\"dash\",\"width\":0.5},\"mode\":\"lines\",\"name\":\"Outside_range_Dry_WOW\",\"showlegend\":false,\"type\":\"scatter\",\"x\":[\"2022-09-29T00:00:00\",\"2022-09-29T00:00:00\"],\"y\":[-59204.84,52066.0]},{\"line\":{\"color\":\"#000099\",\"dash\":\"dash\",\"width\":0.5},\"mode\":\"lines\",\"name\":\"Outside_range_Dry_WOW\",\"showlegend\":false,\"type\":\"scatter\",\"x\":[\"2022-10-01T00:00:00\",\"2022-10-01T00:00:00\"],\"y\":[-59204.84,52066.0]},{\"line\":{\"color\":\"#000099\",\"dash\":\"dash\",\"width\":0.5},\"mode\":\"lines\",\"name\":\"Outside_range_Dry_WOW\",\"showlegend\":false,\"type\":\"scatter\",\"x\":[\"2022-10-07T00:00:00\",\"2022-10-07T00:00:00\"],\"y\":[-59204.84,52066.0]},{\"line\":{\"color\":\"#000099\",\"dash\":\"dash\",\"width\":0.5},\"mode\":\"lines\",\"name\":\"Outside_range_Dry_WOW\",\"showlegend\":false,\"type\":\"scatter\",\"x\":[\"2022-10-12T00:00:00\",\"2022-10-12T00:00:00\"],\"y\":[-59204.84,52066.0]},{\"line\":{\"color\":\"#000099\",\"dash\":\"dash\",\"width\":0.5},\"mode\":\"lines\",\"name\":\"Outside_range_Dry_WOW\",\"showlegend\":false,\"type\":\"scatter\",\"x\":[\"2022-10-21T00:00:00\",\"2022-10-21T00:00:00\"],\"y\":[-59204.84,52066.0]},{\"line\":{\"color\":\"#000099\",\"dash\":\"dash\",\"width\":0.5},\"mode\":\"lines\",\"name\":\"Outside_range_Dry_WOW\",\"showlegend\":false,\"type\":\"scatter\",\"x\":[\"2022-10-24T00:00:00\",\"2022-10-24T00:00:00\"],\"y\":[-59204.84,52066.0]},{\"line\":{\"color\":\"#000099\",\"dash\":\"dash\",\"width\":0.5},\"mode\":\"lines\",\"name\":\"Outside_range_Dry_WOW\",\"showlegend\":false,\"type\":\"scatter\",\"x\":[\"2022-10-25T00:00:00\",\"2022-10-25T00:00:00\"],\"y\":[-59204.84,52066.0]},{\"line\":{\"color\":\"#000099\",\"dash\":\"dash\",\"width\":0.5},\"mode\":\"lines\",\"name\":\"Outside_range_Dry_WOW\",\"showlegend\":false,\"type\":\"scatter\",\"x\":[\"2022-10-29T00:00:00\",\"2022-10-29T00:00:00\"],\"y\":[-59204.84,52066.0]},{\"line\":{\"color\":\"#000099\",\"dash\":\"dash\",\"width\":0.5},\"mode\":\"lines\",\"name\":\"Outside_range_Dry_WOW\",\"showlegend\":false,\"type\":\"scatter\",\"x\":[\"2022-11-05T00:00:00\",\"2022-11-05T00:00:00\"],\"y\":[-59204.84,52066.0]},{\"line\":{\"color\":\"#000099\",\"dash\":\"dash\",\"width\":0.5},\"mode\":\"lines\",\"name\":\"Outside_range_Dry_WOW\",\"showlegend\":false,\"type\":\"scatter\",\"x\":[\"2022-11-07T00:00:00\",\"2022-11-07T00:00:00\"],\"y\":[-59204.84,52066.0]},{\"line\":{\"color\":\"#000099\",\"dash\":\"dash\",\"width\":0.5},\"mode\":\"lines\",\"name\":\"Outside_range_Dry_WOW\",\"showlegend\":false,\"type\":\"scatter\",\"x\":[\"2022-11-08T00:00:00\",\"2022-11-08T00:00:00\"],\"y\":[-59204.84,52066.0]},{\"line\":{\"color\":\"#000099\",\"dash\":\"dash\",\"width\":0.5},\"mode\":\"lines\",\"name\":\"Outside_range_Dry_WOW\",\"showlegend\":false,\"type\":\"scatter\",\"x\":[\"2022-11-09T00:00:00\",\"2022-11-09T00:00:00\"],\"y\":[-59204.84,52066.0]},{\"line\":{\"color\":\"#000099\",\"dash\":\"dash\",\"width\":0.5},\"mode\":\"lines\",\"name\":\"Outside_range_Dry_WOW\",\"showlegend\":false,\"type\":\"scatter\",\"x\":[\"2022-11-10T00:00:00\",\"2022-11-10T00:00:00\"],\"y\":[-59204.84,52066.0]},{\"line\":{\"color\":\"#000099\",\"dash\":\"dash\",\"width\":0.5},\"mode\":\"lines\",\"name\":\"Outside_range_Dry_WOW\",\"showlegend\":false,\"type\":\"scatter\",\"x\":[\"2022-11-12T00:00:00\",\"2022-11-12T00:00:00\"],\"y\":[-59204.84,52066.0]},{\"line\":{\"color\":\"#000099\",\"dash\":\"dash\",\"width\":0.5},\"mode\":\"lines\",\"name\":\"Outside_range_Dry_WOW\",\"showlegend\":false,\"type\":\"scatter\",\"x\":[\"2022-11-17T00:00:00\",\"2022-11-17T00:00:00\"],\"y\":[-59204.84,52066.0]},{\"line\":{\"color\":\"#000099\",\"dash\":\"dash\",\"width\":0.5},\"mode\":\"lines\",\"name\":\"Outside_range_Dry_WOW\",\"showlegend\":false,\"type\":\"scatter\",\"x\":[\"2022-11-18T00:00:00\",\"2022-11-18T00:00:00\"],\"y\":[-59204.84,52066.0]},{\"line\":{\"color\":\"#000099\",\"dash\":\"dash\",\"width\":0.5},\"mode\":\"lines\",\"name\":\"Outside_range_Dry_WOW\",\"showlegend\":false,\"type\":\"scatter\",\"x\":[\"2022-11-19T00:00:00\",\"2022-11-19T00:00:00\"],\"y\":[-59204.84,52066.0]},{\"line\":{\"color\":\"#000099\",\"dash\":\"dash\",\"width\":0.5},\"mode\":\"lines\",\"name\":\"Outside_range_Dry_WOW\",\"showlegend\":false,\"type\":\"scatter\",\"x\":[\"2022-11-22T00:00:00\",\"2022-11-22T00:00:00\"],\"y\":[-59204.84,52066.0]},{\"line\":{\"color\":\"#000099\",\"dash\":\"dash\",\"width\":0.5},\"mode\":\"lines\",\"name\":\"Outside_range_Dry_WOW\",\"showlegend\":false,\"type\":\"scatter\",\"x\":[\"2022-11-24T00:00:00\",\"2022-11-24T00:00:00\"],\"y\":[-59204.84,52066.0]},{\"line\":{\"color\":\"#000099\",\"dash\":\"dash\",\"width\":0.5},\"mode\":\"lines\",\"name\":\"Outside_range_Dry_WOW\",\"showlegend\":false,\"type\":\"scatter\",\"x\":[\"2022-11-25T00:00:00\",\"2022-11-25T00:00:00\"],\"y\":[-59204.84,52066.0]},{\"line\":{\"color\":\"#000099\",\"dash\":\"dash\",\"width\":0.5},\"mode\":\"lines\",\"name\":\"Outside_range_Dry_WOW\",\"showlegend\":false,\"type\":\"scatter\",\"x\":[\"2022-11-29T00:00:00\",\"2022-11-29T00:00:00\"],\"y\":[-59204.84,52066.0]},{\"line\":{\"color\":\"#000099\",\"dash\":\"dash\",\"width\":0.5},\"mode\":\"lines\",\"name\":\"Outside_range_Dry_WOW\",\"showlegend\":false,\"type\":\"scatter\",\"x\":[\"2022-12-02T00:00:00\",\"2022-12-02T00:00:00\"],\"y\":[-59204.84,52066.0]},{\"line\":{\"color\":\"#000099\",\"dash\":\"dash\",\"width\":0.5},\"mode\":\"lines\",\"name\":\"Outside_range_Dry_WOW\",\"showlegend\":false,\"type\":\"scatter\",\"x\":[\"2022-12-06T00:00:00\",\"2022-12-06T00:00:00\"],\"y\":[-59204.84,52066.0]},{\"line\":{\"color\":\"#000099\",\"dash\":\"dash\",\"width\":0.5},\"mode\":\"lines\",\"name\":\"Outside_range_Dry_WOW\",\"showlegend\":false,\"type\":\"scatter\",\"x\":[\"2022-12-17T00:00:00\",\"2022-12-17T00:00:00\"],\"y\":[-59204.84,52066.0]},{\"line\":{\"color\":\"#000099\",\"dash\":\"dash\",\"width\":0.5},\"mode\":\"lines\",\"name\":\"Outside_range_Dry_WOW\",\"showlegend\":false,\"type\":\"scatter\",\"x\":[\"2022-12-21T00:00:00\",\"2022-12-21T00:00:00\"],\"y\":[-59204.84,52066.0]},{\"line\":{\"color\":\"#000099\",\"dash\":\"dash\",\"width\":0.5},\"mode\":\"lines\",\"name\":\"Outside_range_Dry_WOW\",\"showlegend\":false,\"type\":\"scatter\",\"x\":[\"2022-12-22T00:00:00\",\"2022-12-22T00:00:00\"],\"y\":[-59204.84,52066.0]},{\"line\":{\"color\":\"#000099\",\"dash\":\"dash\",\"width\":0.5},\"mode\":\"lines\",\"name\":\"Outside_range_Dry_WOW\",\"showlegend\":false,\"type\":\"scatter\",\"x\":[\"2022-12-24T00:00:00\",\"2022-12-24T00:00:00\"],\"y\":[-59204.84,52066.0]},{\"line\":{\"color\":\"#000099\",\"dash\":\"dash\",\"width\":0.5},\"mode\":\"lines\",\"name\":\"Outside_range_Dry_WOW\",\"showlegend\":false,\"type\":\"scatter\",\"x\":[\"2022-12-27T00:00:00\",\"2022-12-27T00:00:00\"],\"y\":[-59204.84,52066.0]},{\"line\":{\"color\":\"#000099\",\"dash\":\"dash\",\"width\":0.5},\"mode\":\"lines\",\"name\":\"Outside_range_Dry_WOW\",\"showlegend\":false,\"type\":\"scatter\",\"x\":[\"2022-12-28T00:00:00\",\"2022-12-28T00:00:00\"],\"y\":[-59204.84,52066.0]},{\"line\":{\"color\":\"#000099\",\"dash\":\"dash\",\"width\":0.5},\"mode\":\"lines\",\"name\":\"Outside_range_Dry_WOW\",\"showlegend\":false,\"type\":\"scatter\",\"x\":[\"2022-12-29T00:00:00\",\"2022-12-29T00:00:00\"],\"y\":[-59204.84,52066.0]},{\"line\":{\"color\":\"#000099\",\"dash\":\"dash\",\"width\":0.5},\"mode\":\"lines\",\"name\":\"Outside_range_Dry_WOW\",\"showlegend\":false,\"type\":\"scatter\",\"x\":[\"2022-12-30T00:00:00\",\"2022-12-30T00:00:00\"],\"y\":[-59204.84,52066.0]},{\"line\":{\"color\":\"#000099\",\"dash\":\"dash\",\"width\":0.5},\"mode\":\"lines\",\"name\":\"Outside_range_Dry_WOW\",\"showlegend\":false,\"type\":\"scatter\",\"x\":[\"2022-12-31T00:00:00\",\"2022-12-31T00:00:00\"],\"y\":[-59204.84,52066.0]},{\"line\":{\"color\":\"#990000\",\"dash\":\"dash\",\"width\":0.5},\"mode\":\"lines\",\"name\":\"Outside_range_Dry_PROPHET\",\"showlegend\":true,\"type\":\"scatter\",\"x\":[\"2022-05-10T00:00:00\",\"2022-05-10T00:00:00\"],\"y\":[-113737.91195032632,47258.15179535982]},{\"line\":{\"color\":\"#990000\",\"dash\":\"dash\",\"width\":0.5},\"mode\":\"lines\",\"name\":\"Outside_range_Dry_PROPHET\",\"showlegend\":false,\"type\":\"scatter\",\"x\":[\"2022-05-11T00:00:00\",\"2022-05-11T00:00:00\"],\"y\":[-113737.91195032632,47258.15179535982]},{\"line\":{\"color\":\"#990000\",\"dash\":\"dash\",\"width\":0.5},\"mode\":\"lines\",\"name\":\"Outside_range_Dry_PROPHET\",\"showlegend\":false,\"type\":\"scatter\",\"x\":[\"2022-05-12T00:00:00\",\"2022-05-12T00:00:00\"],\"y\":[-113737.91195032632,47258.15179535982]},{\"line\":{\"color\":\"#990000\",\"dash\":\"dash\",\"width\":0.5},\"mode\":\"lines\",\"name\":\"Outside_range_Dry_PROPHET\",\"showlegend\":false,\"type\":\"scatter\",\"x\":[\"2022-05-13T00:00:00\",\"2022-05-13T00:00:00\"],\"y\":[-113737.91195032632,47258.15179535982]},{\"line\":{\"color\":\"#990000\",\"dash\":\"dash\",\"width\":0.5},\"mode\":\"lines\",\"name\":\"Outside_range_Dry_PROPHET\",\"showlegend\":false,\"type\":\"scatter\",\"x\":[\"2022-05-14T00:00:00\",\"2022-05-14T00:00:00\"],\"y\":[-113737.91195032632,47258.15179535982]},{\"line\":{\"color\":\"#990000\",\"dash\":\"dash\",\"width\":0.5},\"mode\":\"lines\",\"name\":\"Outside_range_Dry_PROPHET\",\"showlegend\":false,\"type\":\"scatter\",\"x\":[\"2022-05-17T00:00:00\",\"2022-05-17T00:00:00\"],\"y\":[-113737.91195032632,47258.15179535982]},{\"line\":{\"color\":\"#990000\",\"dash\":\"dash\",\"width\":0.5},\"mode\":\"lines\",\"name\":\"Outside_range_Dry_PROPHET\",\"showlegend\":false,\"type\":\"scatter\",\"x\":[\"2022-05-18T00:00:00\",\"2022-05-18T00:00:00\"],\"y\":[-113737.91195032632,47258.15179535982]},{\"line\":{\"color\":\"#990000\",\"dash\":\"dash\",\"width\":0.5},\"mode\":\"lines\",\"name\":\"Outside_range_Dry_PROPHET\",\"showlegend\":false,\"type\":\"scatter\",\"x\":[\"2022-05-20T00:00:00\",\"2022-05-20T00:00:00\"],\"y\":[-113737.91195032632,47258.15179535982]},{\"line\":{\"color\":\"#990000\",\"dash\":\"dash\",\"width\":0.5},\"mode\":\"lines\",\"name\":\"Outside_range_Dry_PROPHET\",\"showlegend\":false,\"type\":\"scatter\",\"x\":[\"2022-05-23T00:00:00\",\"2022-05-23T00:00:00\"],\"y\":[-113737.91195032632,47258.15179535982]},{\"line\":{\"color\":\"#990000\",\"dash\":\"dash\",\"width\":0.5},\"mode\":\"lines\",\"name\":\"Outside_range_Dry_PROPHET\",\"showlegend\":false,\"type\":\"scatter\",\"x\":[\"2022-05-24T00:00:00\",\"2022-05-24T00:00:00\"],\"y\":[-113737.91195032632,47258.15179535982]},{\"line\":{\"color\":\"#990000\",\"dash\":\"dash\",\"width\":0.5},\"mode\":\"lines\",\"name\":\"Outside_range_Dry_PROPHET\",\"showlegend\":false,\"type\":\"scatter\",\"x\":[\"2022-05-25T00:00:00\",\"2022-05-25T00:00:00\"],\"y\":[-113737.91195032632,47258.15179535982]},{\"line\":{\"color\":\"#990000\",\"dash\":\"dash\",\"width\":0.5},\"mode\":\"lines\",\"name\":\"Outside_range_Dry_PROPHET\",\"showlegend\":false,\"type\":\"scatter\",\"x\":[\"2022-05-27T00:00:00\",\"2022-05-27T00:00:00\"],\"y\":[-113737.91195032632,47258.15179535982]},{\"line\":{\"color\":\"#990000\",\"dash\":\"dash\",\"width\":0.5},\"mode\":\"lines\",\"name\":\"Outside_range_Dry_PROPHET\",\"showlegend\":false,\"type\":\"scatter\",\"x\":[\"2022-05-30T00:00:00\",\"2022-05-30T00:00:00\"],\"y\":[-113737.91195032632,47258.15179535982]},{\"line\":{\"color\":\"#990000\",\"dash\":\"dash\",\"width\":0.5},\"mode\":\"lines\",\"name\":\"Outside_range_Dry_PROPHET\",\"showlegend\":false,\"type\":\"scatter\",\"x\":[\"2022-05-31T00:00:00\",\"2022-05-31T00:00:00\"],\"y\":[-113737.91195032632,47258.15179535982]},{\"line\":{\"color\":\"#990000\",\"dash\":\"dash\",\"width\":0.5},\"mode\":\"lines\",\"name\":\"Outside_range_Dry_PROPHET\",\"showlegend\":false,\"type\":\"scatter\",\"x\":[\"2022-06-03T00:00:00\",\"2022-06-03T00:00:00\"],\"y\":[-113737.91195032632,47258.15179535982]},{\"line\":{\"color\":\"#990000\",\"dash\":\"dash\",\"width\":0.5},\"mode\":\"lines\",\"name\":\"Outside_range_Dry_PROPHET\",\"showlegend\":false,\"type\":\"scatter\",\"x\":[\"2022-06-04T00:00:00\",\"2022-06-04T00:00:00\"],\"y\":[-113737.91195032632,47258.15179535982]},{\"line\":{\"color\":\"#990000\",\"dash\":\"dash\",\"width\":0.5},\"mode\":\"lines\",\"name\":\"Outside_range_Dry_PROPHET\",\"showlegend\":false,\"type\":\"scatter\",\"x\":[\"2022-06-07T00:00:00\",\"2022-06-07T00:00:00\"],\"y\":[-113737.91195032632,47258.15179535982]},{\"line\":{\"color\":\"#990000\",\"dash\":\"dash\",\"width\":0.5},\"mode\":\"lines\",\"name\":\"Outside_range_Dry_PROPHET\",\"showlegend\":false,\"type\":\"scatter\",\"x\":[\"2022-06-09T00:00:00\",\"2022-06-09T00:00:00\"],\"y\":[-113737.91195032632,47258.15179535982]},{\"line\":{\"color\":\"#990000\",\"dash\":\"dash\",\"width\":0.5},\"mode\":\"lines\",\"name\":\"Outside_range_Dry_PROPHET\",\"showlegend\":false,\"type\":\"scatter\",\"x\":[\"2022-06-11T00:00:00\",\"2022-06-11T00:00:00\"],\"y\":[-113737.91195032632,47258.15179535982]},{\"line\":{\"color\":\"#990000\",\"dash\":\"dash\",\"width\":0.5},\"mode\":\"lines\",\"name\":\"Outside_range_Dry_PROPHET\",\"showlegend\":false,\"type\":\"scatter\",\"x\":[\"2022-06-15T00:00:00\",\"2022-06-15T00:00:00\"],\"y\":[-113737.91195032632,47258.15179535982]},{\"line\":{\"color\":\"#990000\",\"dash\":\"dash\",\"width\":0.5},\"mode\":\"lines\",\"name\":\"Outside_range_Dry_PROPHET\",\"showlegend\":false,\"type\":\"scatter\",\"x\":[\"2022-06-16T00:00:00\",\"2022-06-16T00:00:00\"],\"y\":[-113737.91195032632,47258.15179535982]},{\"line\":{\"color\":\"#990000\",\"dash\":\"dash\",\"width\":0.5},\"mode\":\"lines\",\"name\":\"Outside_range_Dry_PROPHET\",\"showlegend\":false,\"type\":\"scatter\",\"x\":[\"2022-06-17T00:00:00\",\"2022-06-17T00:00:00\"],\"y\":[-113737.91195032632,47258.15179535982]},{\"line\":{\"color\":\"#990000\",\"dash\":\"dash\",\"width\":0.5},\"mode\":\"lines\",\"name\":\"Outside_range_Dry_PROPHET\",\"showlegend\":false,\"type\":\"scatter\",\"x\":[\"2022-06-18T00:00:00\",\"2022-06-18T00:00:00\"],\"y\":[-113737.91195032632,47258.15179535982]},{\"line\":{\"color\":\"#990000\",\"dash\":\"dash\",\"width\":0.5},\"mode\":\"lines\",\"name\":\"Outside_range_Dry_PROPHET\",\"showlegend\":false,\"type\":\"scatter\",\"x\":[\"2022-06-20T00:00:00\",\"2022-06-20T00:00:00\"],\"y\":[-113737.91195032632,47258.15179535982]},{\"line\":{\"color\":\"#990000\",\"dash\":\"dash\",\"width\":0.5},\"mode\":\"lines\",\"name\":\"Outside_range_Dry_PROPHET\",\"showlegend\":false,\"type\":\"scatter\",\"x\":[\"2022-06-22T00:00:00\",\"2022-06-22T00:00:00\"],\"y\":[-113737.91195032632,47258.15179535982]},{\"line\":{\"color\":\"#990000\",\"dash\":\"dash\",\"width\":0.5},\"mode\":\"lines\",\"name\":\"Outside_range_Dry_PROPHET\",\"showlegend\":false,\"type\":\"scatter\",\"x\":[\"2022-06-23T00:00:00\",\"2022-06-23T00:00:00\"],\"y\":[-113737.91195032632,47258.15179535982]},{\"line\":{\"color\":\"#990000\",\"dash\":\"dash\",\"width\":0.5},\"mode\":\"lines\",\"name\":\"Outside_range_Dry_PROPHET\",\"showlegend\":false,\"type\":\"scatter\",\"x\":[\"2022-06-24T00:00:00\",\"2022-06-24T00:00:00\"],\"y\":[-113737.91195032632,47258.15179535982]},{\"line\":{\"color\":\"#990000\",\"dash\":\"dash\",\"width\":0.5},\"mode\":\"lines\",\"name\":\"Outside_range_Dry_PROPHET\",\"showlegend\":false,\"type\":\"scatter\",\"x\":[\"2022-06-25T00:00:00\",\"2022-06-25T00:00:00\"],\"y\":[-113737.91195032632,47258.15179535982]},{\"line\":{\"color\":\"#990000\",\"dash\":\"dash\",\"width\":0.5},\"mode\":\"lines\",\"name\":\"Outside_range_Dry_PROPHET\",\"showlegend\":false,\"type\":\"scatter\",\"x\":[\"2022-06-27T00:00:00\",\"2022-06-27T00:00:00\"],\"y\":[-113737.91195032632,47258.15179535982]},{\"line\":{\"color\":\"#990000\",\"dash\":\"dash\",\"width\":0.5},\"mode\":\"lines\",\"name\":\"Outside_range_Dry_PROPHET\",\"showlegend\":false,\"type\":\"scatter\",\"x\":[\"2022-07-02T00:00:00\",\"2022-07-02T00:00:00\"],\"y\":[-113737.91195032632,47258.15179535982]},{\"line\":{\"color\":\"#990000\",\"dash\":\"dash\",\"width\":0.5},\"mode\":\"lines\",\"name\":\"Outside_range_Dry_PROPHET\",\"showlegend\":false,\"type\":\"scatter\",\"x\":[\"2022-07-04T00:00:00\",\"2022-07-04T00:00:00\"],\"y\":[-113737.91195032632,47258.15179535982]},{\"line\":{\"color\":\"#990000\",\"dash\":\"dash\",\"width\":0.5},\"mode\":\"lines\",\"name\":\"Outside_range_Dry_PROPHET\",\"showlegend\":false,\"type\":\"scatter\",\"x\":[\"2022-07-06T00:00:00\",\"2022-07-06T00:00:00\"],\"y\":[-113737.91195032632,47258.15179535982]},{\"line\":{\"color\":\"#990000\",\"dash\":\"dash\",\"width\":0.5},\"mode\":\"lines\",\"name\":\"Outside_range_Dry_PROPHET\",\"showlegend\":false,\"type\":\"scatter\",\"x\":[\"2022-07-07T00:00:00\",\"2022-07-07T00:00:00\"],\"y\":[-113737.91195032632,47258.15179535982]},{\"line\":{\"color\":\"#990000\",\"dash\":\"dash\",\"width\":0.5},\"mode\":\"lines\",\"name\":\"Outside_range_Dry_PROPHET\",\"showlegend\":false,\"type\":\"scatter\",\"x\":[\"2022-07-08T00:00:00\",\"2022-07-08T00:00:00\"],\"y\":[-113737.91195032632,47258.15179535982]},{\"line\":{\"color\":\"#990000\",\"dash\":\"dash\",\"width\":0.5},\"mode\":\"lines\",\"name\":\"Outside_range_Dry_PROPHET\",\"showlegend\":false,\"type\":\"scatter\",\"x\":[\"2022-07-09T00:00:00\",\"2022-07-09T00:00:00\"],\"y\":[-113737.91195032632,47258.15179535982]},{\"line\":{\"color\":\"#990000\",\"dash\":\"dash\",\"width\":0.5},\"mode\":\"lines\",\"name\":\"Outside_range_Dry_PROPHET\",\"showlegend\":false,\"type\":\"scatter\",\"x\":[\"2022-07-11T00:00:00\",\"2022-07-11T00:00:00\"],\"y\":[-113737.91195032632,47258.15179535982]},{\"line\":{\"color\":\"#990000\",\"dash\":\"dash\",\"width\":0.5},\"mode\":\"lines\",\"name\":\"Outside_range_Dry_PROPHET\",\"showlegend\":false,\"type\":\"scatter\",\"x\":[\"2022-07-12T00:00:00\",\"2022-07-12T00:00:00\"],\"y\":[-113737.91195032632,47258.15179535982]},{\"line\":{\"color\":\"#990000\",\"dash\":\"dash\",\"width\":0.5},\"mode\":\"lines\",\"name\":\"Outside_range_Dry_PROPHET\",\"showlegend\":false,\"type\":\"scatter\",\"x\":[\"2022-07-15T00:00:00\",\"2022-07-15T00:00:00\"],\"y\":[-113737.91195032632,47258.15179535982]},{\"line\":{\"color\":\"#990000\",\"dash\":\"dash\",\"width\":0.5},\"mode\":\"lines\",\"name\":\"Outside_range_Dry_PROPHET\",\"showlegend\":false,\"type\":\"scatter\",\"x\":[\"2022-07-16T00:00:00\",\"2022-07-16T00:00:00\"],\"y\":[-113737.91195032632,47258.15179535982]},{\"line\":{\"color\":\"#990000\",\"dash\":\"dash\",\"width\":0.5},\"mode\":\"lines\",\"name\":\"Outside_range_Dry_PROPHET\",\"showlegend\":false,\"type\":\"scatter\",\"x\":[\"2022-07-18T00:00:00\",\"2022-07-18T00:00:00\"],\"y\":[-113737.91195032632,47258.15179535982]},{\"line\":{\"color\":\"#990000\",\"dash\":\"dash\",\"width\":0.5},\"mode\":\"lines\",\"name\":\"Outside_range_Dry_PROPHET\",\"showlegend\":false,\"type\":\"scatter\",\"x\":[\"2022-07-19T00:00:00\",\"2022-07-19T00:00:00\"],\"y\":[-113737.91195032632,47258.15179535982]},{\"line\":{\"color\":\"#990000\",\"dash\":\"dash\",\"width\":0.5},\"mode\":\"lines\",\"name\":\"Outside_range_Dry_PROPHET\",\"showlegend\":false,\"type\":\"scatter\",\"x\":[\"2022-07-20T00:00:00\",\"2022-07-20T00:00:00\"],\"y\":[-113737.91195032632,47258.15179535982]},{\"line\":{\"color\":\"#990000\",\"dash\":\"dash\",\"width\":0.5},\"mode\":\"lines\",\"name\":\"Outside_range_Dry_PROPHET\",\"showlegend\":false,\"type\":\"scatter\",\"x\":[\"2022-07-22T00:00:00\",\"2022-07-22T00:00:00\"],\"y\":[-113737.91195032632,47258.15179535982]},{\"line\":{\"color\":\"#990000\",\"dash\":\"dash\",\"width\":0.5},\"mode\":\"lines\",\"name\":\"Outside_range_Dry_PROPHET\",\"showlegend\":false,\"type\":\"scatter\",\"x\":[\"2022-07-23T00:00:00\",\"2022-07-23T00:00:00\"],\"y\":[-113737.91195032632,47258.15179535982]},{\"line\":{\"color\":\"#990000\",\"dash\":\"dash\",\"width\":0.5},\"mode\":\"lines\",\"name\":\"Outside_range_Dry_PROPHET\",\"showlegend\":false,\"type\":\"scatter\",\"x\":[\"2022-07-25T00:00:00\",\"2022-07-25T00:00:00\"],\"y\":[-113737.91195032632,47258.15179535982]},{\"line\":{\"color\":\"#990000\",\"dash\":\"dash\",\"width\":0.5},\"mode\":\"lines\",\"name\":\"Outside_range_Dry_PROPHET\",\"showlegend\":false,\"type\":\"scatter\",\"x\":[\"2022-07-26T00:00:00\",\"2022-07-26T00:00:00\"],\"y\":[-113737.91195032632,47258.15179535982]},{\"line\":{\"color\":\"#990000\",\"dash\":\"dash\",\"width\":0.5},\"mode\":\"lines\",\"name\":\"Outside_range_Dry_PROPHET\",\"showlegend\":false,\"type\":\"scatter\",\"x\":[\"2022-07-30T00:00:00\",\"2022-07-30T00:00:00\"],\"y\":[-113737.91195032632,47258.15179535982]},{\"line\":{\"color\":\"#990000\",\"dash\":\"dash\",\"width\":0.5},\"mode\":\"lines\",\"name\":\"Outside_range_Dry_PROPHET\",\"showlegend\":false,\"type\":\"scatter\",\"x\":[\"2022-08-02T00:00:00\",\"2022-08-02T00:00:00\"],\"y\":[-113737.91195032632,47258.15179535982]},{\"line\":{\"color\":\"#990000\",\"dash\":\"dash\",\"width\":0.5},\"mode\":\"lines\",\"name\":\"Outside_range_Dry_PROPHET\",\"showlegend\":false,\"type\":\"scatter\",\"x\":[\"2022-08-03T00:00:00\",\"2022-08-03T00:00:00\"],\"y\":[-113737.91195032632,47258.15179535982]},{\"line\":{\"color\":\"#990000\",\"dash\":\"dash\",\"width\":0.5},\"mode\":\"lines\",\"name\":\"Outside_range_Dry_PROPHET\",\"showlegend\":false,\"type\":\"scatter\",\"x\":[\"2022-08-04T00:00:00\",\"2022-08-04T00:00:00\"],\"y\":[-113737.91195032632,47258.15179535982]},{\"line\":{\"color\":\"#990000\",\"dash\":\"dash\",\"width\":0.5},\"mode\":\"lines\",\"name\":\"Outside_range_Dry_PROPHET\",\"showlegend\":false,\"type\":\"scatter\",\"x\":[\"2022-08-06T00:00:00\",\"2022-08-06T00:00:00\"],\"y\":[-113737.91195032632,47258.15179535982]},{\"line\":{\"color\":\"#990000\",\"dash\":\"dash\",\"width\":0.5},\"mode\":\"lines\",\"name\":\"Outside_range_Dry_PROPHET\",\"showlegend\":false,\"type\":\"scatter\",\"x\":[\"2022-08-08T00:00:00\",\"2022-08-08T00:00:00\"],\"y\":[-113737.91195032632,47258.15179535982]},{\"line\":{\"color\":\"#990000\",\"dash\":\"dash\",\"width\":0.5},\"mode\":\"lines\",\"name\":\"Outside_range_Dry_PROPHET\",\"showlegend\":false,\"type\":\"scatter\",\"x\":[\"2022-08-10T00:00:00\",\"2022-08-10T00:00:00\"],\"y\":[-113737.91195032632,47258.15179535982]},{\"line\":{\"color\":\"#990000\",\"dash\":\"dash\",\"width\":0.5},\"mode\":\"lines\",\"name\":\"Outside_range_Dry_PROPHET\",\"showlegend\":false,\"type\":\"scatter\",\"x\":[\"2022-08-12T00:00:00\",\"2022-08-12T00:00:00\"],\"y\":[-113737.91195032632,47258.15179535982]},{\"line\":{\"color\":\"#990000\",\"dash\":\"dash\",\"width\":0.5},\"mode\":\"lines\",\"name\":\"Outside_range_Dry_PROPHET\",\"showlegend\":false,\"type\":\"scatter\",\"x\":[\"2022-08-13T00:00:00\",\"2022-08-13T00:00:00\"],\"y\":[-113737.91195032632,47258.15179535982]},{\"line\":{\"color\":\"#990000\",\"dash\":\"dash\",\"width\":0.5},\"mode\":\"lines\",\"name\":\"Outside_range_Dry_PROPHET\",\"showlegend\":false,\"type\":\"scatter\",\"x\":[\"2022-08-17T00:00:00\",\"2022-08-17T00:00:00\"],\"y\":[-113737.91195032632,47258.15179535982]},{\"line\":{\"color\":\"#990000\",\"dash\":\"dash\",\"width\":0.5},\"mode\":\"lines\",\"name\":\"Outside_range_Dry_PROPHET\",\"showlegend\":false,\"type\":\"scatter\",\"x\":[\"2022-08-18T00:00:00\",\"2022-08-18T00:00:00\"],\"y\":[-113737.91195032632,47258.15179535982]},{\"line\":{\"color\":\"#990000\",\"dash\":\"dash\",\"width\":0.5},\"mode\":\"lines\",\"name\":\"Outside_range_Dry_PROPHET\",\"showlegend\":false,\"type\":\"scatter\",\"x\":[\"2022-08-19T00:00:00\",\"2022-08-19T00:00:00\"],\"y\":[-113737.91195032632,47258.15179535982]},{\"line\":{\"color\":\"#990000\",\"dash\":\"dash\",\"width\":0.5},\"mode\":\"lines\",\"name\":\"Outside_range_Dry_PROPHET\",\"showlegend\":false,\"type\":\"scatter\",\"x\":[\"2022-08-22T00:00:00\",\"2022-08-22T00:00:00\"],\"y\":[-113737.91195032632,47258.15179535982]},{\"line\":{\"color\":\"#990000\",\"dash\":\"dash\",\"width\":0.5},\"mode\":\"lines\",\"name\":\"Outside_range_Dry_PROPHET\",\"showlegend\":false,\"type\":\"scatter\",\"x\":[\"2022-08-25T00:00:00\",\"2022-08-25T00:00:00\"],\"y\":[-113737.91195032632,47258.15179535982]},{\"line\":{\"color\":\"#990000\",\"dash\":\"dash\",\"width\":0.5},\"mode\":\"lines\",\"name\":\"Outside_range_Dry_PROPHET\",\"showlegend\":false,\"type\":\"scatter\",\"x\":[\"2022-08-27T00:00:00\",\"2022-08-27T00:00:00\"],\"y\":[-113737.91195032632,47258.15179535982]},{\"line\":{\"color\":\"#990000\",\"dash\":\"dash\",\"width\":0.5},\"mode\":\"lines\",\"name\":\"Outside_range_Dry_PROPHET\",\"showlegend\":false,\"type\":\"scatter\",\"x\":[\"2022-08-29T00:00:00\",\"2022-08-29T00:00:00\"],\"y\":[-113737.91195032632,47258.15179535982]},{\"line\":{\"color\":\"#990000\",\"dash\":\"dash\",\"width\":0.5},\"mode\":\"lines\",\"name\":\"Outside_range_Dry_PROPHET\",\"showlegend\":false,\"type\":\"scatter\",\"x\":[\"2022-08-30T00:00:00\",\"2022-08-30T00:00:00\"],\"y\":[-113737.91195032632,47258.15179535982]},{\"line\":{\"color\":\"#990000\",\"dash\":\"dash\",\"width\":0.5},\"mode\":\"lines\",\"name\":\"Outside_range_Dry_PROPHET\",\"showlegend\":false,\"type\":\"scatter\",\"x\":[\"2022-08-31T00:00:00\",\"2022-08-31T00:00:00\"],\"y\":[-113737.91195032632,47258.15179535982]},{\"line\":{\"color\":\"#990000\",\"dash\":\"dash\",\"width\":0.5},\"mode\":\"lines\",\"name\":\"Outside_range_Dry_PROPHET\",\"showlegend\":false,\"type\":\"scatter\",\"x\":[\"2022-09-01T00:00:00\",\"2022-09-01T00:00:00\"],\"y\":[-113737.91195032632,47258.15179535982]},{\"line\":{\"color\":\"#990000\",\"dash\":\"dash\",\"width\":0.5},\"mode\":\"lines\",\"name\":\"Outside_range_Dry_PROPHET\",\"showlegend\":false,\"type\":\"scatter\",\"x\":[\"2022-09-02T00:00:00\",\"2022-09-02T00:00:00\"],\"y\":[-113737.91195032632,47258.15179535982]},{\"line\":{\"color\":\"#990000\",\"dash\":\"dash\",\"width\":0.5},\"mode\":\"lines\",\"name\":\"Outside_range_Dry_PROPHET\",\"showlegend\":false,\"type\":\"scatter\",\"x\":[\"2022-09-06T00:00:00\",\"2022-09-06T00:00:00\"],\"y\":[-113737.91195032632,47258.15179535982]},{\"line\":{\"color\":\"#990000\",\"dash\":\"dash\",\"width\":0.5},\"mode\":\"lines\",\"name\":\"Outside_range_Dry_PROPHET\",\"showlegend\":false,\"type\":\"scatter\",\"x\":[\"2022-09-08T00:00:00\",\"2022-09-08T00:00:00\"],\"y\":[-113737.91195032632,47258.15179535982]},{\"line\":{\"color\":\"#990000\",\"dash\":\"dash\",\"width\":0.5},\"mode\":\"lines\",\"name\":\"Outside_range_Dry_PROPHET\",\"showlegend\":false,\"type\":\"scatter\",\"x\":[\"2022-09-09T00:00:00\",\"2022-09-09T00:00:00\"],\"y\":[-113737.91195032632,47258.15179535982]},{\"line\":{\"color\":\"#990000\",\"dash\":\"dash\",\"width\":0.5},\"mode\":\"lines\",\"name\":\"Outside_range_Dry_PROPHET\",\"showlegend\":false,\"type\":\"scatter\",\"x\":[\"2022-09-10T00:00:00\",\"2022-09-10T00:00:00\"],\"y\":[-113737.91195032632,47258.15179535982]},{\"line\":{\"color\":\"#990000\",\"dash\":\"dash\",\"width\":0.5},\"mode\":\"lines\",\"name\":\"Outside_range_Dry_PROPHET\",\"showlegend\":false,\"type\":\"scatter\",\"x\":[\"2022-09-12T00:00:00\",\"2022-09-12T00:00:00\"],\"y\":[-113737.91195032632,47258.15179535982]},{\"line\":{\"color\":\"#990000\",\"dash\":\"dash\",\"width\":0.5},\"mode\":\"lines\",\"name\":\"Outside_range_Dry_PROPHET\",\"showlegend\":false,\"type\":\"scatter\",\"x\":[\"2022-09-13T00:00:00\",\"2022-09-13T00:00:00\"],\"y\":[-113737.91195032632,47258.15179535982]},{\"line\":{\"color\":\"#990000\",\"dash\":\"dash\",\"width\":0.5},\"mode\":\"lines\",\"name\":\"Outside_range_Dry_PROPHET\",\"showlegend\":false,\"type\":\"scatter\",\"x\":[\"2022-09-14T00:00:00\",\"2022-09-14T00:00:00\"],\"y\":[-113737.91195032632,47258.15179535982]},{\"line\":{\"color\":\"#990000\",\"dash\":\"dash\",\"width\":0.5},\"mode\":\"lines\",\"name\":\"Outside_range_Dry_PROPHET\",\"showlegend\":false,\"type\":\"scatter\",\"x\":[\"2022-09-15T00:00:00\",\"2022-09-15T00:00:00\"],\"y\":[-113737.91195032632,47258.15179535982]},{\"line\":{\"color\":\"#990000\",\"dash\":\"dash\",\"width\":0.5},\"mode\":\"lines\",\"name\":\"Outside_range_Dry_PROPHET\",\"showlegend\":false,\"type\":\"scatter\",\"x\":[\"2022-09-16T00:00:00\",\"2022-09-16T00:00:00\"],\"y\":[-113737.91195032632,47258.15179535982]},{\"line\":{\"color\":\"#990000\",\"dash\":\"dash\",\"width\":0.5},\"mode\":\"lines\",\"name\":\"Outside_range_Dry_PROPHET\",\"showlegend\":false,\"type\":\"scatter\",\"x\":[\"2022-09-19T00:00:00\",\"2022-09-19T00:00:00\"],\"y\":[-113737.91195032632,47258.15179535982]},{\"line\":{\"color\":\"#990000\",\"dash\":\"dash\",\"width\":0.5},\"mode\":\"lines\",\"name\":\"Outside_range_Dry_PROPHET\",\"showlegend\":false,\"type\":\"scatter\",\"x\":[\"2022-09-20T00:00:00\",\"2022-09-20T00:00:00\"],\"y\":[-113737.91195032632,47258.15179535982]},{\"line\":{\"color\":\"#990000\",\"dash\":\"dash\",\"width\":0.5},\"mode\":\"lines\",\"name\":\"Outside_range_Dry_PROPHET\",\"showlegend\":false,\"type\":\"scatter\",\"x\":[\"2022-09-21T00:00:00\",\"2022-09-21T00:00:00\"],\"y\":[-113737.91195032632,47258.15179535982]},{\"line\":{\"color\":\"#990000\",\"dash\":\"dash\",\"width\":0.5},\"mode\":\"lines\",\"name\":\"Outside_range_Dry_PROPHET\",\"showlegend\":false,\"type\":\"scatter\",\"x\":[\"2022-09-22T00:00:00\",\"2022-09-22T00:00:00\"],\"y\":[-113737.91195032632,47258.15179535982]},{\"line\":{\"color\":\"#990000\",\"dash\":\"dash\",\"width\":0.5},\"mode\":\"lines\",\"name\":\"Outside_range_Dry_PROPHET\",\"showlegend\":false,\"type\":\"scatter\",\"x\":[\"2022-09-23T00:00:00\",\"2022-09-23T00:00:00\"],\"y\":[-113737.91195032632,47258.15179535982]},{\"line\":{\"color\":\"#990000\",\"dash\":\"dash\",\"width\":0.5},\"mode\":\"lines\",\"name\":\"Outside_range_Dry_PROPHET\",\"showlegend\":false,\"type\":\"scatter\",\"x\":[\"2022-09-24T00:00:00\",\"2022-09-24T00:00:00\"],\"y\":[-113737.91195032632,47258.15179535982]},{\"line\":{\"color\":\"#990000\",\"dash\":\"dash\",\"width\":0.5},\"mode\":\"lines\",\"name\":\"Outside_range_Dry_PROPHET\",\"showlegend\":false,\"type\":\"scatter\",\"x\":[\"2022-09-26T00:00:00\",\"2022-09-26T00:00:00\"],\"y\":[-113737.91195032632,47258.15179535982]},{\"line\":{\"color\":\"#990000\",\"dash\":\"dash\",\"width\":0.5},\"mode\":\"lines\",\"name\":\"Outside_range_Dry_PROPHET\",\"showlegend\":false,\"type\":\"scatter\",\"x\":[\"2022-09-27T00:00:00\",\"2022-09-27T00:00:00\"],\"y\":[-113737.91195032632,47258.15179535982]},{\"line\":{\"color\":\"#990000\",\"dash\":\"dash\",\"width\":0.5},\"mode\":\"lines\",\"name\":\"Outside_range_Dry_PROPHET\",\"showlegend\":false,\"type\":\"scatter\",\"x\":[\"2022-09-29T00:00:00\",\"2022-09-29T00:00:00\"],\"y\":[-113737.91195032632,47258.15179535982]},{\"line\":{\"color\":\"#990000\",\"dash\":\"dash\",\"width\":0.5},\"mode\":\"lines\",\"name\":\"Outside_range_Dry_PROPHET\",\"showlegend\":false,\"type\":\"scatter\",\"x\":[\"2022-09-30T00:00:00\",\"2022-09-30T00:00:00\"],\"y\":[-113737.91195032632,47258.15179535982]},{\"line\":{\"color\":\"#990000\",\"dash\":\"dash\",\"width\":0.5},\"mode\":\"lines\",\"name\":\"Outside_range_Dry_PROPHET\",\"showlegend\":false,\"type\":\"scatter\",\"x\":[\"2022-10-06T00:00:00\",\"2022-10-06T00:00:00\"],\"y\":[-113737.91195032632,47258.15179535982]},{\"line\":{\"color\":\"#990000\",\"dash\":\"dash\",\"width\":0.5},\"mode\":\"lines\",\"name\":\"Outside_range_Dry_PROPHET\",\"showlegend\":false,\"type\":\"scatter\",\"x\":[\"2022-10-21T00:00:00\",\"2022-10-21T00:00:00\"],\"y\":[-113737.91195032632,47258.15179535982]},{\"line\":{\"color\":\"#990000\",\"dash\":\"dash\",\"width\":0.5},\"mode\":\"lines\",\"name\":\"Outside_range_Dry_PROPHET\",\"showlegend\":false,\"type\":\"scatter\",\"x\":[\"2022-10-24T00:00:00\",\"2022-10-24T00:00:00\"],\"y\":[-113737.91195032632,47258.15179535982]},{\"line\":{\"color\":\"#990000\",\"dash\":\"dash\",\"width\":0.5},\"mode\":\"lines\",\"name\":\"Outside_range_Dry_PROPHET\",\"showlegend\":false,\"type\":\"scatter\",\"x\":[\"2022-10-25T00:00:00\",\"2022-10-25T00:00:00\"],\"y\":[-113737.91195032632,47258.15179535982]},{\"line\":{\"color\":\"#990000\",\"dash\":\"dash\",\"width\":0.5},\"mode\":\"lines\",\"name\":\"Outside_range_Dry_PROPHET\",\"showlegend\":false,\"type\":\"scatter\",\"x\":[\"2022-10-26T00:00:00\",\"2022-10-26T00:00:00\"],\"y\":[-113737.91195032632,47258.15179535982]},{\"line\":{\"color\":\"#990000\",\"dash\":\"dash\",\"width\":0.5},\"mode\":\"lines\",\"name\":\"Outside_range_Dry_PROPHET\",\"showlegend\":false,\"type\":\"scatter\",\"x\":[\"2022-10-27T00:00:00\",\"2022-10-27T00:00:00\"],\"y\":[-113737.91195032632,47258.15179535982]},{\"line\":{\"color\":\"#990000\",\"dash\":\"dash\",\"width\":0.5},\"mode\":\"lines\",\"name\":\"Outside_range_Dry_PROPHET\",\"showlegend\":false,\"type\":\"scatter\",\"x\":[\"2022-11-02T00:00:00\",\"2022-11-02T00:00:00\"],\"y\":[-113737.91195032632,47258.15179535982]},{\"line\":{\"color\":\"#990000\",\"dash\":\"dash\",\"width\":0.5},\"mode\":\"lines\",\"name\":\"Outside_range_Dry_PROPHET\",\"showlegend\":false,\"type\":\"scatter\",\"x\":[\"2022-11-03T00:00:00\",\"2022-11-03T00:00:00\"],\"y\":[-113737.91195032632,47258.15179535982]},{\"line\":{\"color\":\"#990000\",\"dash\":\"dash\",\"width\":0.5},\"mode\":\"lines\",\"name\":\"Outside_range_Dry_PROPHET\",\"showlegend\":false,\"type\":\"scatter\",\"x\":[\"2022-11-04T00:00:00\",\"2022-11-04T00:00:00\"],\"y\":[-113737.91195032632,47258.15179535982]},{\"line\":{\"color\":\"#990000\",\"dash\":\"dash\",\"width\":0.5},\"mode\":\"lines\",\"name\":\"Outside_range_Dry_PROPHET\",\"showlegend\":false,\"type\":\"scatter\",\"x\":[\"2022-11-05T00:00:00\",\"2022-11-05T00:00:00\"],\"y\":[-113737.91195032632,47258.15179535982]},{\"line\":{\"color\":\"#990000\",\"dash\":\"dash\",\"width\":0.5},\"mode\":\"lines\",\"name\":\"Outside_range_Dry_PROPHET\",\"showlegend\":false,\"type\":\"scatter\",\"x\":[\"2022-11-08T00:00:00\",\"2022-11-08T00:00:00\"],\"y\":[-113737.91195032632,47258.15179535982]},{\"line\":{\"color\":\"#990000\",\"dash\":\"dash\",\"width\":0.5},\"mode\":\"lines\",\"name\":\"Outside_range_Dry_PROPHET\",\"showlegend\":false,\"type\":\"scatter\",\"x\":[\"2022-11-09T00:00:00\",\"2022-11-09T00:00:00\"],\"y\":[-113737.91195032632,47258.15179535982]},{\"line\":{\"color\":\"#990000\",\"dash\":\"dash\",\"width\":0.5},\"mode\":\"lines\",\"name\":\"Outside_range_Dry_PROPHET\",\"showlegend\":false,\"type\":\"scatter\",\"x\":[\"2022-11-10T00:00:00\",\"2022-11-10T00:00:00\"],\"y\":[-113737.91195032632,47258.15179535982]},{\"line\":{\"color\":\"#990000\",\"dash\":\"dash\",\"width\":0.5},\"mode\":\"lines\",\"name\":\"Outside_range_Dry_PROPHET\",\"showlegend\":false,\"type\":\"scatter\",\"x\":[\"2022-11-12T00:00:00\",\"2022-11-12T00:00:00\"],\"y\":[-113737.91195032632,47258.15179535982]},{\"line\":{\"color\":\"#990000\",\"dash\":\"dash\",\"width\":0.5},\"mode\":\"lines\",\"name\":\"Outside_range_Dry_PROPHET\",\"showlegend\":false,\"type\":\"scatter\",\"x\":[\"2022-11-14T00:00:00\",\"2022-11-14T00:00:00\"],\"y\":[-113737.91195032632,47258.15179535982]},{\"line\":{\"color\":\"#990000\",\"dash\":\"dash\",\"width\":0.5},\"mode\":\"lines\",\"name\":\"Outside_range_Dry_PROPHET\",\"showlegend\":false,\"type\":\"scatter\",\"x\":[\"2022-11-15T00:00:00\",\"2022-11-15T00:00:00\"],\"y\":[-113737.91195032632,47258.15179535982]},{\"line\":{\"color\":\"#990000\",\"dash\":\"dash\",\"width\":0.5},\"mode\":\"lines\",\"name\":\"Outside_range_Dry_PROPHET\",\"showlegend\":false,\"type\":\"scatter\",\"x\":[\"2022-11-16T00:00:00\",\"2022-11-16T00:00:00\"],\"y\":[-113737.91195032632,47258.15179535982]},{\"line\":{\"color\":\"#990000\",\"dash\":\"dash\",\"width\":0.5},\"mode\":\"lines\",\"name\":\"Outside_range_Dry_PROPHET\",\"showlegend\":false,\"type\":\"scatter\",\"x\":[\"2022-11-17T00:00:00\",\"2022-11-17T00:00:00\"],\"y\":[-113737.91195032632,47258.15179535982]},{\"line\":{\"color\":\"#990000\",\"dash\":\"dash\",\"width\":0.5},\"mode\":\"lines\",\"name\":\"Outside_range_Dry_PROPHET\",\"showlegend\":false,\"type\":\"scatter\",\"x\":[\"2022-11-18T00:00:00\",\"2022-11-18T00:00:00\"],\"y\":[-113737.91195032632,47258.15179535982]},{\"line\":{\"color\":\"#990000\",\"dash\":\"dash\",\"width\":0.5},\"mode\":\"lines\",\"name\":\"Outside_range_Dry_PROPHET\",\"showlegend\":false,\"type\":\"scatter\",\"x\":[\"2022-11-22T00:00:00\",\"2022-11-22T00:00:00\"],\"y\":[-113737.91195032632,47258.15179535982]},{\"line\":{\"color\":\"#990000\",\"dash\":\"dash\",\"width\":0.5},\"mode\":\"lines\",\"name\":\"Outside_range_Dry_PROPHET\",\"showlegend\":false,\"type\":\"scatter\",\"x\":[\"2022-11-24T00:00:00\",\"2022-11-24T00:00:00\"],\"y\":[-113737.91195032632,47258.15179535982]},{\"line\":{\"color\":\"#990000\",\"dash\":\"dash\",\"width\":0.5},\"mode\":\"lines\",\"name\":\"Outside_range_Dry_PROPHET\",\"showlegend\":false,\"type\":\"scatter\",\"x\":[\"2022-11-25T00:00:00\",\"2022-11-25T00:00:00\"],\"y\":[-113737.91195032632,47258.15179535982]},{\"line\":{\"color\":\"#990000\",\"dash\":\"dash\",\"width\":0.5},\"mode\":\"lines\",\"name\":\"Outside_range_Dry_PROPHET\",\"showlegend\":false,\"type\":\"scatter\",\"x\":[\"2022-11-26T00:00:00\",\"2022-11-26T00:00:00\"],\"y\":[-113737.91195032632,47258.15179535982]},{\"line\":{\"color\":\"#990000\",\"dash\":\"dash\",\"width\":0.5},\"mode\":\"lines\",\"name\":\"Outside_range_Dry_PROPHET\",\"showlegend\":false,\"type\":\"scatter\",\"x\":[\"2022-11-28T00:00:00\",\"2022-11-28T00:00:00\"],\"y\":[-113737.91195032632,47258.15179535982]},{\"line\":{\"color\":\"#990000\",\"dash\":\"dash\",\"width\":0.5},\"mode\":\"lines\",\"name\":\"Outside_range_Dry_PROPHET\",\"showlegend\":false,\"type\":\"scatter\",\"x\":[\"2022-12-05T00:00:00\",\"2022-12-05T00:00:00\"],\"y\":[-113737.91195032632,47258.15179535982]},{\"line\":{\"color\":\"#990000\",\"dash\":\"dash\",\"width\":0.5},\"mode\":\"lines\",\"name\":\"Outside_range_Dry_PROPHET\",\"showlegend\":false,\"type\":\"scatter\",\"x\":[\"2022-12-06T00:00:00\",\"2022-12-06T00:00:00\"],\"y\":[-113737.91195032632,47258.15179535982]},{\"line\":{\"color\":\"#990000\",\"dash\":\"dash\",\"width\":0.5},\"mode\":\"lines\",\"name\":\"Outside_range_Dry_PROPHET\",\"showlegend\":false,\"type\":\"scatter\",\"x\":[\"2022-12-07T00:00:00\",\"2022-12-07T00:00:00\"],\"y\":[-113737.91195032632,47258.15179535982]},{\"line\":{\"color\":\"#990000\",\"dash\":\"dash\",\"width\":0.5},\"mode\":\"lines\",\"name\":\"Outside_range_Dry_PROPHET\",\"showlegend\":false,\"type\":\"scatter\",\"x\":[\"2022-12-08T00:00:00\",\"2022-12-08T00:00:00\"],\"y\":[-113737.91195032632,47258.15179535982]},{\"line\":{\"color\":\"#990000\",\"dash\":\"dash\",\"width\":0.5},\"mode\":\"lines\",\"name\":\"Outside_range_Dry_PROPHET\",\"showlegend\":false,\"type\":\"scatter\",\"x\":[\"2022-12-09T00:00:00\",\"2022-12-09T00:00:00\"],\"y\":[-113737.91195032632,47258.15179535982]},{\"line\":{\"color\":\"#990000\",\"dash\":\"dash\",\"width\":0.5},\"mode\":\"lines\",\"name\":\"Outside_range_Dry_PROPHET\",\"showlegend\":false,\"type\":\"scatter\",\"x\":[\"2022-12-10T00:00:00\",\"2022-12-10T00:00:00\"],\"y\":[-113737.91195032632,47258.15179535982]},{\"line\":{\"color\":\"#990000\",\"dash\":\"dash\",\"width\":0.5},\"mode\":\"lines\",\"name\":\"Outside_range_Dry_PROPHET\",\"showlegend\":false,\"type\":\"scatter\",\"x\":[\"2022-12-13T00:00:00\",\"2022-12-13T00:00:00\"],\"y\":[-113737.91195032632,47258.15179535982]},{\"line\":{\"color\":\"#990000\",\"dash\":\"dash\",\"width\":0.5},\"mode\":\"lines\",\"name\":\"Outside_range_Dry_PROPHET\",\"showlegend\":false,\"type\":\"scatter\",\"x\":[\"2022-12-14T00:00:00\",\"2022-12-14T00:00:00\"],\"y\":[-113737.91195032632,47258.15179535982]},{\"line\":{\"color\":\"#990000\",\"dash\":\"dash\",\"width\":0.5},\"mode\":\"lines\",\"name\":\"Outside_range_Dry_PROPHET\",\"showlegend\":false,\"type\":\"scatter\",\"x\":[\"2022-12-15T00:00:00\",\"2022-12-15T00:00:00\"],\"y\":[-113737.91195032632,47258.15179535982]},{\"line\":{\"color\":\"#990000\",\"dash\":\"dash\",\"width\":0.5},\"mode\":\"lines\",\"name\":\"Outside_range_Dry_PROPHET\",\"showlegend\":false,\"type\":\"scatter\",\"x\":[\"2022-12-16T00:00:00\",\"2022-12-16T00:00:00\"],\"y\":[-113737.91195032632,47258.15179535982]},{\"line\":{\"color\":\"#990000\",\"dash\":\"dash\",\"width\":0.5},\"mode\":\"lines\",\"name\":\"Outside_range_Dry_PROPHET\",\"showlegend\":false,\"type\":\"scatter\",\"x\":[\"2022-12-17T00:00:00\",\"2022-12-17T00:00:00\"],\"y\":[-113737.91195032632,47258.15179535982]},{\"line\":{\"color\":\"#990000\",\"dash\":\"dash\",\"width\":0.5},\"mode\":\"lines\",\"name\":\"Outside_range_Dry_PROPHET\",\"showlegend\":false,\"type\":\"scatter\",\"x\":[\"2022-12-19T00:00:00\",\"2022-12-19T00:00:00\"],\"y\":[-113737.91195032632,47258.15179535982]},{\"line\":{\"color\":\"#990000\",\"dash\":\"dash\",\"width\":0.5},\"mode\":\"lines\",\"name\":\"Outside_range_Dry_PROPHET\",\"showlegend\":false,\"type\":\"scatter\",\"x\":[\"2022-12-21T00:00:00\",\"2022-12-21T00:00:00\"],\"y\":[-113737.91195032632,47258.15179535982]},{\"line\":{\"color\":\"#990000\",\"dash\":\"dash\",\"width\":0.5},\"mode\":\"lines\",\"name\":\"Outside_range_Dry_PROPHET\",\"showlegend\":false,\"type\":\"scatter\",\"x\":[\"2022-12-23T00:00:00\",\"2022-12-23T00:00:00\"],\"y\":[-113737.91195032632,47258.15179535982]},{\"line\":{\"color\":\"#990000\",\"dash\":\"dash\",\"width\":0.5},\"mode\":\"lines\",\"name\":\"Outside_range_Dry_PROPHET\",\"showlegend\":false,\"type\":\"scatter\",\"x\":[\"2022-12-24T00:00:00\",\"2022-12-24T00:00:00\"],\"y\":[-113737.91195032632,47258.15179535982]},{\"line\":{\"color\":\"#990000\",\"dash\":\"dash\",\"width\":0.5},\"mode\":\"lines\",\"name\":\"Outside_range_Dry_PROPHET\",\"showlegend\":false,\"type\":\"scatter\",\"x\":[\"2022-12-26T00:00:00\",\"2022-12-26T00:00:00\"],\"y\":[-113737.91195032632,47258.15179535982]},{\"line\":{\"color\":\"#990000\",\"dash\":\"dash\",\"width\":0.5},\"mode\":\"lines\",\"name\":\"Outside_range_Dry_PROPHET\",\"showlegend\":false,\"type\":\"scatter\",\"x\":[\"2022-12-27T00:00:00\",\"2022-12-27T00:00:00\"],\"y\":[-113737.91195032632,47258.15179535982]},{\"line\":{\"color\":\"#990000\",\"dash\":\"dash\",\"width\":0.5},\"mode\":\"lines\",\"name\":\"Outside_range_Dry_PROPHET\",\"showlegend\":false,\"type\":\"scatter\",\"x\":[\"2022-12-28T00:00:00\",\"2022-12-28T00:00:00\"],\"y\":[-113737.91195032632,47258.15179535982]},{\"line\":{\"color\":\"#990000\",\"dash\":\"dash\",\"width\":0.5},\"mode\":\"lines\",\"name\":\"Outside_range_Dry_PROPHET\",\"showlegend\":false,\"type\":\"scatter\",\"x\":[\"2022-12-29T00:00:00\",\"2022-12-29T00:00:00\"],\"y\":[-113737.91195032632,47258.15179535982]},{\"line\":{\"color\":\"#990000\",\"dash\":\"dash\",\"width\":0.5},\"mode\":\"lines\",\"name\":\"Outside_range_Dry_PROPHET\",\"showlegend\":false,\"type\":\"scatter\",\"x\":[\"2022-12-31T00:00:00\",\"2022-12-31T00:00:00\"],\"y\":[-113737.91195032632,47258.15179535982]}],                        {\"template\":{\"data\":{\"bar\":[{\"error_x\":{\"color\":\"#2a3f5f\"},\"error_y\":{\"color\":\"#2a3f5f\"},\"marker\":{\"line\":{\"color\":\"#E5ECF6\",\"width\":0.5},\"pattern\":{\"fillmode\":\"overlay\",\"size\":10,\"solidity\":0.2}},\"type\":\"bar\"}],\"barpolar\":[{\"marker\":{\"line\":{\"color\":\"#E5ECF6\",\"width\":0.5},\"pattern\":{\"fillmode\":\"overlay\",\"size\":10,\"solidity\":0.2}},\"type\":\"barpolar\"}],\"carpet\":[{\"aaxis\":{\"endlinecolor\":\"#2a3f5f\",\"gridcolor\":\"white\",\"linecolor\":\"white\",\"minorgridcolor\":\"white\",\"startlinecolor\":\"#2a3f5f\"},\"baxis\":{\"endlinecolor\":\"#2a3f5f\",\"gridcolor\":\"white\",\"linecolor\":\"white\",\"minorgridcolor\":\"white\",\"startlinecolor\":\"#2a3f5f\"},\"type\":\"carpet\"}],\"choropleth\":[{\"colorbar\":{\"outlinewidth\":0,\"ticks\":\"\"},\"type\":\"choropleth\"}],\"contour\":[{\"colorbar\":{\"outlinewidth\":0,\"ticks\":\"\"},\"colorscale\":[[0.0,\"#0d0887\"],[0.1111111111111111,\"#46039f\"],[0.2222222222222222,\"#7201a8\"],[0.3333333333333333,\"#9c179e\"],[0.4444444444444444,\"#bd3786\"],[0.5555555555555556,\"#d8576b\"],[0.6666666666666666,\"#ed7953\"],[0.7777777777777778,\"#fb9f3a\"],[0.8888888888888888,\"#fdca26\"],[1.0,\"#f0f921\"]],\"type\":\"contour\"}],\"contourcarpet\":[{\"colorbar\":{\"outlinewidth\":0,\"ticks\":\"\"},\"type\":\"contourcarpet\"}],\"heatmap\":[{\"colorbar\":{\"outlinewidth\":0,\"ticks\":\"\"},\"colorscale\":[[0.0,\"#0d0887\"],[0.1111111111111111,\"#46039f\"],[0.2222222222222222,\"#7201a8\"],[0.3333333333333333,\"#9c179e\"],[0.4444444444444444,\"#bd3786\"],[0.5555555555555556,\"#d8576b\"],[0.6666666666666666,\"#ed7953\"],[0.7777777777777778,\"#fb9f3a\"],[0.8888888888888888,\"#fdca26\"],[1.0,\"#f0f921\"]],\"type\":\"heatmap\"}],\"heatmapgl\":[{\"colorbar\":{\"outlinewidth\":0,\"ticks\":\"\"},\"colorscale\":[[0.0,\"#0d0887\"],[0.1111111111111111,\"#46039f\"],[0.2222222222222222,\"#7201a8\"],[0.3333333333333333,\"#9c179e\"],[0.4444444444444444,\"#bd3786\"],[0.5555555555555556,\"#d8576b\"],[0.6666666666666666,\"#ed7953\"],[0.7777777777777778,\"#fb9f3a\"],[0.8888888888888888,\"#fdca26\"],[1.0,\"#f0f921\"]],\"type\":\"heatmapgl\"}],\"histogram\":[{\"marker\":{\"pattern\":{\"fillmode\":\"overlay\",\"size\":10,\"solidity\":0.2}},\"type\":\"histogram\"}],\"histogram2d\":[{\"colorbar\":{\"outlinewidth\":0,\"ticks\":\"\"},\"colorscale\":[[0.0,\"#0d0887\"],[0.1111111111111111,\"#46039f\"],[0.2222222222222222,\"#7201a8\"],[0.3333333333333333,\"#9c179e\"],[0.4444444444444444,\"#bd3786\"],[0.5555555555555556,\"#d8576b\"],[0.6666666666666666,\"#ed7953\"],[0.7777777777777778,\"#fb9f3a\"],[0.8888888888888888,\"#fdca26\"],[1.0,\"#f0f921\"]],\"type\":\"histogram2d\"}],\"histogram2dcontour\":[{\"colorbar\":{\"outlinewidth\":0,\"ticks\":\"\"},\"colorscale\":[[0.0,\"#0d0887\"],[0.1111111111111111,\"#46039f\"],[0.2222222222222222,\"#7201a8\"],[0.3333333333333333,\"#9c179e\"],[0.4444444444444444,\"#bd3786\"],[0.5555555555555556,\"#d8576b\"],[0.6666666666666666,\"#ed7953\"],[0.7777777777777778,\"#fb9f3a\"],[0.8888888888888888,\"#fdca26\"],[1.0,\"#f0f921\"]],\"type\":\"histogram2dcontour\"}],\"mesh3d\":[{\"colorbar\":{\"outlinewidth\":0,\"ticks\":\"\"},\"type\":\"mesh3d\"}],\"parcoords\":[{\"line\":{\"colorbar\":{\"outlinewidth\":0,\"ticks\":\"\"}},\"type\":\"parcoords\"}],\"pie\":[{\"automargin\":true,\"type\":\"pie\"}],\"scatter\":[{\"marker\":{\"colorbar\":{\"outlinewidth\":0,\"ticks\":\"\"}},\"type\":\"scatter\"}],\"scatter3d\":[{\"line\":{\"colorbar\":{\"outlinewidth\":0,\"ticks\":\"\"}},\"marker\":{\"colorbar\":{\"outlinewidth\":0,\"ticks\":\"\"}},\"type\":\"scatter3d\"}],\"scattercarpet\":[{\"marker\":{\"colorbar\":{\"outlinewidth\":0,\"ticks\":\"\"}},\"type\":\"scattercarpet\"}],\"scattergeo\":[{\"marker\":{\"colorbar\":{\"outlinewidth\":0,\"ticks\":\"\"}},\"type\":\"scattergeo\"}],\"scattergl\":[{\"marker\":{\"colorbar\":{\"outlinewidth\":0,\"ticks\":\"\"}},\"type\":\"scattergl\"}],\"scattermapbox\":[{\"marker\":{\"colorbar\":{\"outlinewidth\":0,\"ticks\":\"\"}},\"type\":\"scattermapbox\"}],\"scatterpolar\":[{\"marker\":{\"colorbar\":{\"outlinewidth\":0,\"ticks\":\"\"}},\"type\":\"scatterpolar\"}],\"scatterpolargl\":[{\"marker\":{\"colorbar\":{\"outlinewidth\":0,\"ticks\":\"\"}},\"type\":\"scatterpolargl\"}],\"scatterternary\":[{\"marker\":{\"colorbar\":{\"outlinewidth\":0,\"ticks\":\"\"}},\"type\":\"scatterternary\"}],\"surface\":[{\"colorbar\":{\"outlinewidth\":0,\"ticks\":\"\"},\"colorscale\":[[0.0,\"#0d0887\"],[0.1111111111111111,\"#46039f\"],[0.2222222222222222,\"#7201a8\"],[0.3333333333333333,\"#9c179e\"],[0.4444444444444444,\"#bd3786\"],[0.5555555555555556,\"#d8576b\"],[0.6666666666666666,\"#ed7953\"],[0.7777777777777778,\"#fb9f3a\"],[0.8888888888888888,\"#fdca26\"],[1.0,\"#f0f921\"]],\"type\":\"surface\"}],\"table\":[{\"cells\":{\"fill\":{\"color\":\"#EBF0F8\"},\"line\":{\"color\":\"white\"}},\"header\":{\"fill\":{\"color\":\"#C8D4E3\"},\"line\":{\"color\":\"white\"}},\"type\":\"table\"}]},\"layout\":{\"annotationdefaults\":{\"arrowcolor\":\"#2a3f5f\",\"arrowhead\":0,\"arrowwidth\":1},\"autotypenumbers\":\"strict\",\"coloraxis\":{\"colorbar\":{\"outlinewidth\":0,\"ticks\":\"\"}},\"colorscale\":{\"diverging\":[[0,\"#8e0152\"],[0.1,\"#c51b7d\"],[0.2,\"#de77ae\"],[0.3,\"#f1b6da\"],[0.4,\"#fde0ef\"],[0.5,\"#f7f7f7\"],[0.6,\"#e6f5d0\"],[0.7,\"#b8e186\"],[0.8,\"#7fbc41\"],[0.9,\"#4d9221\"],[1,\"#276419\"]],\"sequential\":[[0.0,\"#0d0887\"],[0.1111111111111111,\"#46039f\"],[0.2222222222222222,\"#7201a8\"],[0.3333333333333333,\"#9c179e\"],[0.4444444444444444,\"#bd3786\"],[0.5555555555555556,\"#d8576b\"],[0.6666666666666666,\"#ed7953\"],[0.7777777777777778,\"#fb9f3a\"],[0.8888888888888888,\"#fdca26\"],[1.0,\"#f0f921\"]],\"sequentialminus\":[[0.0,\"#0d0887\"],[0.1111111111111111,\"#46039f\"],[0.2222222222222222,\"#7201a8\"],[0.3333333333333333,\"#9c179e\"],[0.4444444444444444,\"#bd3786\"],[0.5555555555555556,\"#d8576b\"],[0.6666666666666666,\"#ed7953\"],[0.7777777777777778,\"#fb9f3a\"],[0.8888888888888888,\"#fdca26\"],[1.0,\"#f0f921\"]]},\"colorway\":[\"#636efa\",\"#EF553B\",\"#00cc96\",\"#ab63fa\",\"#FFA15A\",\"#19d3f3\",\"#FF6692\",\"#B6E880\",\"#FF97FF\",\"#FECB52\"],\"font\":{\"color\":\"#2a3f5f\"},\"geo\":{\"bgcolor\":\"white\",\"lakecolor\":\"white\",\"landcolor\":\"#E5ECF6\",\"showlakes\":true,\"showland\":true,\"subunitcolor\":\"white\"},\"hoverlabel\":{\"align\":\"left\"},\"hovermode\":\"closest\",\"mapbox\":{\"style\":\"light\"},\"paper_bgcolor\":\"white\",\"plot_bgcolor\":\"#E5ECF6\",\"polar\":{\"angularaxis\":{\"gridcolor\":\"white\",\"linecolor\":\"white\",\"ticks\":\"\"},\"bgcolor\":\"#E5ECF6\",\"radialaxis\":{\"gridcolor\":\"white\",\"linecolor\":\"white\",\"ticks\":\"\"}},\"scene\":{\"xaxis\":{\"backgroundcolor\":\"#E5ECF6\",\"gridcolor\":\"white\",\"gridwidth\":2,\"linecolor\":\"white\",\"showbackground\":true,\"ticks\":\"\",\"zerolinecolor\":\"white\"},\"yaxis\":{\"backgroundcolor\":\"#E5ECF6\",\"gridcolor\":\"white\",\"gridwidth\":2,\"linecolor\":\"white\",\"showbackground\":true,\"ticks\":\"\",\"zerolinecolor\":\"white\"},\"zaxis\":{\"backgroundcolor\":\"#E5ECF6\",\"gridcolor\":\"white\",\"gridwidth\":2,\"linecolor\":\"white\",\"showbackground\":true,\"ticks\":\"\",\"zerolinecolor\":\"white\"}},\"shapedefaults\":{\"line\":{\"color\":\"#2a3f5f\"}},\"ternary\":{\"aaxis\":{\"gridcolor\":\"white\",\"linecolor\":\"white\",\"ticks\":\"\"},\"baxis\":{\"gridcolor\":\"white\",\"linecolor\":\"white\",\"ticks\":\"\"},\"bgcolor\":\"#E5ECF6\",\"caxis\":{\"gridcolor\":\"white\",\"linecolor\":\"white\",\"ticks\":\"\"}},\"title\":{\"x\":0.05},\"xaxis\":{\"automargin\":true,\"gridcolor\":\"white\",\"linecolor\":\"white\",\"ticks\":\"\",\"title\":{\"standoff\":15},\"zerolinecolor\":\"white\",\"zerolinewidth\":2},\"yaxis\":{\"automargin\":true,\"gridcolor\":\"white\",\"linecolor\":\"white\",\"ticks\":\"\",\"title\":{\"standoff\":15},\"zerolinecolor\":\"white\",\"zerolinewidth\":2}}}},                        {\"responsive\": true}                    )                };                            </script>        </div>\n",
       "</body>\n",
       "</html>"
      ]
     },
     "metadata": {
      "application/vnd.databricks.v1+output": {
       "addedWidgets": {},
       "arguments": {},
       "data": "<html>\n<head><meta charset=\"utf-8\" /></head>\n<body>\n    <div>            <script src=\"https://cdnjs.cloudflare.com/ajax/libs/mathjax/2.7.5/MathJax.js?config=TeX-AMS-MML_SVG\"></script><script type=\"text/javascript\">if (window.MathJax) {MathJax.Hub.Config({SVG: {font: \"STIX-Web\"}});}</script>                <script type=\"text/javascript\">window.PlotlyConfig = {MathJaxConfig: 'local'};</script>\n        <script src=\"https://cdn.plot.ly/plotly-2.2.0.min.js\"></script>                <div id=\"98d03fd3-8161-4dc1-8acb-849a71c731c6\" class=\"plotly-graph-div\" style=\"height:100%; width:100%;\"></div>            <script type=\"text/javascript\">                                    window.PLOTLYENV=window.PLOTLYENV || {};                                    if (document.getElementById(\"98d03fd3-8161-4dc1-8acb-849a71c731c6\")) {                    Plotly.newPlot(                        \"98d03fd3-8161-4dc1-8acb-849a71c731c6\",                        [{\"line\":{\"color\":\"#0000FF\"},\"name\":\"Bias_Dry_WOW\",\"showlegend\":true,\"type\":\"scatter\",\"x\":[\"2022-05-10T00:00:00\",\"2022-05-11T00:00:00\",\"2022-05-12T00:00:00\",\"2022-05-13T00:00:00\",\"2022-05-14T00:00:00\",\"2022-05-16T00:00:00\",\"2022-05-17T00:00:00\",\"2022-05-18T00:00:00\",\"2022-05-19T00:00:00\",\"2022-05-20T00:00:00\",\"2022-05-23T00:00:00\",\"2022-05-24T00:00:00\",\"2022-05-25T00:00:00\",\"2022-05-27T00:00:00\",\"2022-05-30T00:00:00\",\"2022-05-31T00:00:00\",\"2022-06-01T00:00:00\",\"2022-06-02T00:00:00\",\"2022-06-03T00:00:00\",\"2022-06-04T00:00:00\",\"2022-06-07T00:00:00\",\"2022-06-08T00:00:00\",\"2022-06-09T00:00:00\",\"2022-06-10T00:00:00\",\"2022-06-11T00:00:00\",\"2022-06-13T00:00:00\",\"2022-06-14T00:00:00\",\"2022-06-15T00:00:00\",\"2022-06-16T00:00:00\",\"2022-06-17T00:00:00\",\"2022-06-18T00:00:00\",\"2022-06-20T00:00:00\",\"2022-06-21T00:00:00\",\"2022-06-22T00:00:00\",\"2022-06-23T00:00:00\",\"2022-06-24T00:00:00\",\"2022-06-25T00:00:00\",\"2022-06-27T00:00:00\",\"2022-06-28T00:00:00\",\"2022-06-29T00:00:00\",\"2022-06-30T00:00:00\",\"2022-07-01T00:00:00\",\"2022-07-02T00:00:00\",\"2022-07-04T00:00:00\",\"2022-07-05T00:00:00\",\"2022-07-06T00:00:00\",\"2022-07-07T00:00:00\",\"2022-07-08T00:00:00\",\"2022-07-09T00:00:00\",\"2022-07-11T00:00:00\",\"2022-07-12T00:00:00\",\"2022-07-13T00:00:00\",\"2022-07-14T00:00:00\",\"2022-07-15T00:00:00\",\"2022-07-16T00:00:00\",\"2022-07-18T00:00:00\",\"2022-07-19T00:00:00\",\"2022-07-20T00:00:00\",\"2022-07-22T00:00:00\",\"2022-07-23T00:00:00\",\"2022-07-25T00:00:00\",\"2022-07-26T00:00:00\",\"2022-07-27T00:00:00\",\"2022-07-28T00:00:00\",\"2022-07-29T00:00:00\",\"2022-07-30T00:00:00\",\"2022-08-01T00:00:00\",\"2022-08-02T00:00:00\",\"2022-08-03T00:00:00\",\"2022-08-04T00:00:00\",\"2022-08-05T00:00:00\",\"2022-08-06T00:00:00\",\"2022-08-08T00:00:00\",\"2022-08-09T00:00:00\",\"2022-08-10T00:00:00\",\"2022-08-11T00:00:00\",\"2022-08-12T00:00:00\",\"2022-08-13T00:00:00\",\"2022-08-16T00:00:00\",\"2022-08-17T00:00:00\",\"2022-08-18T00:00:00\",\"2022-08-19T00:00:00\",\"2022-08-22T00:00:00\",\"2022-08-23T00:00:00\",\"2022-08-24T00:00:00\",\"2022-08-25T00:00:00\",\"2022-08-26T00:00:00\",\"2022-08-27T00:00:00\",\"2022-08-29T00:00:00\",\"2022-08-30T00:00:00\",\"2022-08-31T00:00:00\",\"2022-09-01T00:00:00\",\"2022-09-02T00:00:00\",\"2022-09-03T00:00:00\",\"2022-09-05T00:00:00\",\"2022-09-06T00:00:00\",\"2022-09-07T00:00:00\",\"2022-09-08T00:00:00\",\"2022-09-09T00:00:00\",\"2022-09-10T00:00:00\",\"2022-09-12T00:00:00\",\"2022-09-13T00:00:00\",\"2022-09-14T00:00:00\",\"2022-09-15T00:00:00\",\"2022-09-16T00:00:00\",\"2022-09-17T00:00:00\",\"2022-09-19T00:00:00\",\"2022-09-20T00:00:00\",\"2022-09-21T00:00:00\",\"2022-09-22T00:00:00\",\"2022-09-23T00:00:00\",\"2022-09-24T00:00:00\",\"2022-09-26T00:00:00\",\"2022-09-27T00:00:00\",\"2022-09-28T00:00:00\",\"2022-09-29T00:00:00\",\"2022-09-30T00:00:00\",\"2022-10-01T00:00:00\",\"2022-10-03T00:00:00\",\"2022-10-04T00:00:00\",\"2022-10-05T00:00:00\",\"2022-10-06T00:00:00\",\"2022-10-07T00:00:00\",\"2022-10-08T00:00:00\",\"2022-10-10T00:00:00\",\"2022-10-11T00:00:00\",\"2022-10-12T00:00:00\",\"2022-10-13T00:00:00\",\"2022-10-14T00:00:00\",\"2022-10-15T00:00:00\",\"2022-10-17T00:00:00\",\"2022-10-18T00:00:00\",\"2022-10-19T00:00:00\",\"2022-10-20T00:00:00\",\"2022-10-21T00:00:00\",\"2022-10-22T00:00:00\",\"2022-10-24T00:00:00\",\"2022-10-25T00:00:00\",\"2022-10-26T00:00:00\",\"2022-10-27T00:00:00\",\"2022-10-28T00:00:00\",\"2022-10-29T00:00:00\",\"2022-10-31T00:00:00\",\"2022-11-02T00:00:00\",\"2022-11-03T00:00:00\",\"2022-11-04T00:00:00\",\"2022-11-05T00:00:00\",\"2022-11-07T00:00:00\",\"2022-11-08T00:00:00\",\"2022-11-09T00:00:00\",\"2022-11-10T00:00:00\",\"2022-11-12T00:00:00\",\"2022-11-14T00:00:00\",\"2022-11-15T00:00:00\",\"2022-11-16T00:00:00\",\"2022-11-17T00:00:00\",\"2022-11-18T00:00:00\",\"2022-11-19T00:00:00\",\"2022-11-21T00:00:00\",\"2022-11-22T00:00:00\",\"2022-11-23T00:00:00\",\"2022-11-24T00:00:00\",\"2022-11-25T00:00:00\",\"2022-11-26T00:00:00\",\"2022-11-28T00:00:00\",\"2022-11-29T00:00:00\",\"2022-11-30T00:00:00\",\"2022-12-01T00:00:00\",\"2022-12-02T00:00:00\",\"2022-12-03T00:00:00\",\"2022-12-05T00:00:00\",\"2022-12-06T00:00:00\",\"2022-12-07T00:00:00\",\"2022-12-08T00:00:00\",\"2022-12-09T00:00:00\",\"2022-12-10T00:00:00\",\"2022-12-12T00:00:00\",\"2022-12-13T00:00:00\",\"2022-12-14T00:00:00\",\"2022-12-15T00:00:00\",\"2022-12-16T00:00:00\",\"2022-12-17T00:00:00\",\"2022-12-19T00:00:00\",\"2022-12-20T00:00:00\",\"2022-12-21T00:00:00\",\"2022-12-22T00:00:00\",\"2022-12-23T00:00:00\",\"2022-12-24T00:00:00\",\"2022-12-26T00:00:00\",\"2022-12-27T00:00:00\",\"2022-12-28T00:00:00\",\"2022-12-29T00:00:00\",\"2022-12-30T00:00:00\",\"2022-12-31T00:00:00\"],\"y\":[258.7297324605461,14596.213526771855,16271.343564024806,11108.833847380076,-17129.948663008094,-791.479636002201,-1351.4882373940418,15257.83305392805,10725.692723049957,7560.135446805565,17524.065450345573,3302.4675079598164,6512.465627458027,896.2747375456602,-21346.695613065735,8633.191845130175,3628.9021111171605,7621.342185646317,-8716.990826030771,-8173.363611513487,-20111.841156252136,3450.3133862100003,-679.6808120830246,-1093.3016450877185,-2800.2996504924813,-2892.627435531016,-663.3153383782628,-758.062786752067,9956.462573692756,-8478.610575386308,-7163.394445655598,-3932.975599623649,-138.78612073934346,16851.545877828525,-6602.419068696792,-9558.475448216836,8851.027327602074,284.84944222372724,-13911.268448768933,4436.644374550386,2057.370004981385,4213.704386485675,832.2078413941563,3002.7517919022066,-8861.848074670248,9722.946109945704,4271.983298270272,-686.0814988853817,2988.0239332666824,7607.600000000006,-2477.6399999999994,7599.5,1515.9819198917758,-1958.9259999999995,26262.917792435874,9489.700000000012,3187.8799999999974,-1813.0,-4908.861999999994,2176.858705382794,795.6000000000058,4595.5999999999985,9307.5,9541.340944918862,-7109.223999999995,4099.767317041624,-4650.559999999998,-3530.3039999999964,-2530.1200000000026,1820.1100000000006,-11134.667999999998,-6336.5293976147295,-12.279999999998836,-539.1999999999971,-1010.0400000000009,-866.6999999999971,-3768.428,-6179.204990788632,1364.1759999999995,-9379.440000000002,-4638.540000000001,-19209.068,-6852.5,190.67199999999866,4224.559999999998,1022.0899999999965,-2211.933999999994,-1929.471306547508,-2499.199999999997,-12378.239999999998,-493.1600000000035,5264.470000000001,-5851.671999999999,2021.2597355738835,5274.779999999999,-1177.4320000000007,4997.399999999994,5627.739999999998,-7184.345999999998,1149.90121465017,-5930.0,3025.6640000000043,7669.759999999995,15439.029999999999,2163.796000000002,-5431.300479802689,5176.0,-2879.0,4503.0,14407.0,4.0,8594.0,2241.7000000000116,5049.080000000002,-4446.0,6548.1470000000045,-3140.3099999999977,-8061.182536980181,-3592.0499999999884,-4764.080000000002,-680.0,-3464.5440000000017,-6239.921999999999,-693.9345409652524,53.95000000001164,-1083.4000000000087,6188.5,3002.709999999999,-1180.3799999999974,-886.9138166284902,5404.100000000006,2508.479999999996,4715.5,5055.395000000004,5049.016000000003,5590.743469288012,10750.950000000012,15696.679999999993,3526.0,3924.639000000003,2554.608,7709.25323030819,-2580.0,333.5,1525.5699999999997,-855.0139999999956,-15089.586073831728,-10155.649999999994,-59204.84,52066.0,12626.047999999995,12772.547759168825,3614.550000000003,3908.4400000000023,-1548.5,9929.157999999996,8524.784000000007,9878.118259619223,10702.62000000001,7270.0,5536.239999999991,11479.488999999994,5132.502,-4357.073494568205,2866.0,8634.919999999998,1694.1600000000035,-978.8710000000137,-7222.603999999999,2741.024320233846,8034.0,-8127.419999999998,3803.479999999996,2386.028999999995,-2789.837999999996,-910.6944652820821,3763.0,1100.574999999997,2468.1150000000052,1679.3759999999966,280.62600000000384,19549.04536515723,3475.0,2027.449999999997,17891.380000000005,6982.351999999999,894.2590000000055,32288.676488370707,4577.0,7695.2699999999895,24236.319999999992,20794.34599999999,-8915.112000000001,15932.131426049978]},{\"line\":{\"color\":\"#FF0000\"},\"name\":\"Bias_Dry_PROPHET\",\"showlegend\":true,\"type\":\"scatter\",\"x\":[\"2022-05-10T00:00:00\",\"2022-05-11T00:00:00\",\"2022-05-12T00:00:00\",\"2022-05-13T00:00:00\",\"2022-05-14T00:00:00\",\"2022-05-16T00:00:00\",\"2022-05-17T00:00:00\",\"2022-05-18T00:00:00\",\"2022-05-19T00:00:00\",\"2022-05-20T00:00:00\",\"2022-05-23T00:00:00\",\"2022-05-24T00:00:00\",\"2022-05-25T00:00:00\",\"2022-05-27T00:00:00\",\"2022-05-30T00:00:00\",\"2022-05-31T00:00:00\",\"2022-06-01T00:00:00\",\"2022-06-02T00:00:00\",\"2022-06-03T00:00:00\",\"2022-06-04T00:00:00\",\"2022-06-07T00:00:00\",\"2022-06-08T00:00:00\",\"2022-06-09T00:00:00\",\"2022-06-10T00:00:00\",\"2022-06-11T00:00:00\",\"2022-06-13T00:00:00\",\"2022-06-14T00:00:00\",\"2022-06-15T00:00:00\",\"2022-06-16T00:00:00\",\"2022-06-17T00:00:00\",\"2022-06-18T00:00:00\",\"2022-06-20T00:00:00\",\"2022-06-21T00:00:00\",\"2022-06-22T00:00:00\",\"2022-06-23T00:00:00\",\"2022-06-24T00:00:00\",\"2022-06-25T00:00:00\",\"2022-06-27T00:00:00\",\"2022-06-28T00:00:00\",\"2022-06-29T00:00:00\",\"2022-06-30T00:00:00\",\"2022-07-01T00:00:00\",\"2022-07-02T00:00:00\",\"2022-07-04T00:00:00\",\"2022-07-05T00:00:00\",\"2022-07-06T00:00:00\",\"2022-07-07T00:00:00\",\"2022-07-08T00:00:00\",\"2022-07-09T00:00:00\",\"2022-07-11T00:00:00\",\"2022-07-12T00:00:00\",\"2022-07-13T00:00:00\",\"2022-07-14T00:00:00\",\"2022-07-15T00:00:00\",\"2022-07-16T00:00:00\",\"2022-07-18T00:00:00\",\"2022-07-19T00:00:00\",\"2022-07-20T00:00:00\",\"2022-07-22T00:00:00\",\"2022-07-23T00:00:00\",\"2022-07-25T00:00:00\",\"2022-07-26T00:00:00\",\"2022-07-27T00:00:00\",\"2022-07-28T00:00:00\",\"2022-07-29T00:00:00\",\"2022-07-30T00:00:00\",\"2022-08-01T00:00:00\",\"2022-08-02T00:00:00\",\"2022-08-03T00:00:00\",\"2022-08-04T00:00:00\",\"2022-08-05T00:00:00\",\"2022-08-06T00:00:00\",\"2022-08-08T00:00:00\",\"2022-08-09T00:00:00\",\"2022-08-10T00:00:00\",\"2022-08-11T00:00:00\",\"2022-08-12T00:00:00\",\"2022-08-13T00:00:00\",\"2022-08-16T00:00:00\",\"2022-08-17T00:00:00\",\"2022-08-18T00:00:00\",\"2022-08-19T00:00:00\",\"2022-08-22T00:00:00\",\"2022-08-23T00:00:00\",\"2022-08-24T00:00:00\",\"2022-08-25T00:00:00\",\"2022-08-26T00:00:00\",\"2022-08-27T00:00:00\",\"2022-08-29T00:00:00\",\"2022-08-30T00:00:00\",\"2022-08-31T00:00:00\",\"2022-09-01T00:00:00\",\"2022-09-02T00:00:00\",\"2022-09-03T00:00:00\",\"2022-09-05T00:00:00\",\"2022-09-06T00:00:00\",\"2022-09-07T00:00:00\",\"2022-09-08T00:00:00\",\"2022-09-09T00:00:00\",\"2022-09-10T00:00:00\",\"2022-09-12T00:00:00\",\"2022-09-13T00:00:00\",\"2022-09-14T00:00:00\",\"2022-09-15T00:00:00\",\"2022-09-16T00:00:00\",\"2022-09-17T00:00:00\",\"2022-09-19T00:00:00\",\"2022-09-20T00:00:00\",\"2022-09-21T00:00:00\",\"2022-09-22T00:00:00\",\"2022-09-23T00:00:00\",\"2022-09-24T00:00:00\",\"2022-09-26T00:00:00\",\"2022-09-27T00:00:00\",\"2022-09-28T00:00:00\",\"2022-09-29T00:00:00\",\"2022-09-30T00:00:00\",\"2022-10-01T00:00:00\",\"2022-10-03T00:00:00\",\"2022-10-04T00:00:00\",\"2022-10-05T00:00:00\",\"2022-10-06T00:00:00\",\"2022-10-07T00:00:00\",\"2022-10-08T00:00:00\",\"2022-10-10T00:00:00\",\"2022-10-11T00:00:00\",\"2022-10-12T00:00:00\",\"2022-10-13T00:00:00\",\"2022-10-14T00:00:00\",\"2022-10-15T00:00:00\",\"2022-10-17T00:00:00\",\"2022-10-18T00:00:00\",\"2022-10-19T00:00:00\",\"2022-10-20T00:00:00\",\"2022-10-21T00:00:00\",\"2022-10-22T00:00:00\",\"2022-10-24T00:00:00\",\"2022-10-25T00:00:00\",\"2022-10-26T00:00:00\",\"2022-10-27T00:00:00\",\"2022-10-28T00:00:00\",\"2022-10-29T00:00:00\",\"2022-10-31T00:00:00\",\"2022-11-02T00:00:00\",\"2022-11-03T00:00:00\",\"2022-11-04T00:00:00\",\"2022-11-05T00:00:00\",\"2022-11-07T00:00:00\",\"2022-11-08T00:00:00\",\"2022-11-09T00:00:00\",\"2022-11-10T00:00:00\",\"2022-11-12T00:00:00\",\"2022-11-14T00:00:00\",\"2022-11-15T00:00:00\",\"2022-11-16T00:00:00\",\"2022-11-17T00:00:00\",\"2022-11-18T00:00:00\",\"2022-11-19T00:00:00\",\"2022-11-21T00:00:00\",\"2022-11-22T00:00:00\",\"2022-11-23T00:00:00\",\"2022-11-24T00:00:00\",\"2022-11-25T00:00:00\",\"2022-11-26T00:00:00\",\"2022-11-28T00:00:00\",\"2022-11-29T00:00:00\",\"2022-11-30T00:00:00\",\"2022-12-01T00:00:00\",\"2022-12-02T00:00:00\",\"2022-12-03T00:00:00\",\"2022-12-05T00:00:00\",\"2022-12-06T00:00:00\",\"2022-12-07T00:00:00\",\"2022-12-08T00:00:00\",\"2022-12-09T00:00:00\",\"2022-12-10T00:00:00\",\"2022-12-12T00:00:00\",\"2022-12-13T00:00:00\",\"2022-12-14T00:00:00\",\"2022-12-15T00:00:00\",\"2022-12-16T00:00:00\",\"2022-12-17T00:00:00\",\"2022-12-19T00:00:00\",\"2022-12-20T00:00:00\",\"2022-12-21T00:00:00\",\"2022-12-22T00:00:00\",\"2022-12-23T00:00:00\",\"2022-12-24T00:00:00\",\"2022-12-26T00:00:00\",\"2022-12-27T00:00:00\",\"2022-12-28T00:00:00\",\"2022-12-29T00:00:00\",\"2022-12-30T00:00:00\",\"2022-12-31T00:00:00\"],\"y\":[9375.758080716128,11291.560348468323,5809.083171740538,9537.41105785143,-30757.793754807317,919.8473188117205,12235.708791081823,15760.200668581965,4316.765556303246,8839.736473382116,10049.100442082301,25198.96918221563,9666.581908642314,6622.11415943232,-14326.184963253952,9199.38996946295,-4050.5011767108663,-4003.803284934562,-9911.005716814521,-29766.838321107163,-37884.075160566994,-1086.7626465331487,-12361.194273501693,-5197.2756027243595,-27251.265065658183,2937.691845846377,-4730.210225410716,-14087.289433991711,-9381.127447740582,-16318.587260904023,-32417.67350140548,-11138.851945696966,3253.1183814747783,8522.94198113933,-17658.82873750203,-11696.848270099741,-6921.977817289786,13077.478414605634,-6412.425927294331,-63.149787049645965,-4349.017243087495,3856.3792717023825,-13699.345247564095,18964.820304693043,-524.668693617612,9858.177134425925,5129.689312622642,7881.885529014813,-5126.54823025754,27526.9084637044,11028.777684297165,2629.1479705616875,3144.580951780401,11409.884904017286,20785.290978901598,32486.47269532914,14355.824403227627,-7289.363179020715,5176.999679126042,-6419.658463638552,17511.53600114504,5543.136245776397,-2811.8270201954438,2822.7874932279665,-1396.0356547551346,-10581.52230779759,304.93145746571827,5941.234654967448,-5914.324350394636,5746.121627202643,654.3633345916023,-15298.981882151638,19993.427118394757,3795.1515606609464,-4973.414963769901,2831.3893860181415,7842.001819804951,-16383.980146087739,-2033.869456567627,-16760.57064018445,-7556.954590184236,-15493.01235539977,-50911.14246003149,365.79926682478253,-4888.086066332384,-4930.046280172668,-438.1281986138056,-17646.93347063304,-42992.19913215624,-12917.31097087889,-16315.722123018772,13782.186115658216,11842.395786741006,-3692.298400373671,7788.209706705966,8957.893524002473,1145.7924541456596,8655.51161897568,12838.035791621718,7081.397128755067,-48719.96123141647,13850.569616685534,6430.783498381177,19399.09898408698,14405.574455647919,-2622.3512814260757,21923.303909162583,12193.349769598193,7800.296891730031,22186.877438114694,20069.565320320136,11179.406741676277,22756.59573166314,17709.19605241416,-3249.441968903484,5270.923943652742,13961.86533647227,-5541.2904723238535,-2402.0836714640463,962.976861480216,-6450.408363910923,-6751.297466347998,3417.7237439446617,-2247.751409266355,2130.8143567692023,577.1984554626688,2106.550856019334,-187.58087324540247,5319.9747046663615,-5910.642246698488,1197.2575776712329,2772.0015221255744,2017.053348599009,4214.480021171221,12022.252686615058,948.507778173589,12541.473560612823,9358.683064875178,-6291.327813377713,-8781.09009693592,1503.891291790249,-4356.760377861021,-53.826248678786214,-55911.99890998841,-6387.870384238624,-34626.901679636154,-11107.063448711422,8269.628407627752,-113737.91195032632,47258.15179535982,-35665.66081536033,19879.334198828044,11237.71481649563,9000.677984607653,-14162.463597335838,-22695.44078414995,11913.627649987073,1297.8967508657151,-34.49959614450927,11962.970984005893,2100.8968204812118,6176.625469874591,10052.47579600307,-8132.5592759174615,-52047.11661362619,6217.753100886883,-6339.4845558426605,-5802.632248960152,-5088.199834986823,-4028.6663879267508,10267.71333801403,12746.904564068798,15302.092838810451,14652.473535140249,17818.775790324464,10180.797938537115,-1834.5786295494763,9461.529988972878,6786.168519930565,6209.821331900552,8660.56223742936,21970.884951053747,34631.188445554566,6307.274552674309,16450.522586905863,3705.1903542497166,8029.955008356446,27282.161376844568,33305.249962810194,21604.1181709051,30199.49570338655,29138.71780998104,4248.3142116292,22614.70382187578]},{\"line\":{\"color\":\"#000099\",\"dash\":\"dash\",\"width\":0.5},\"mode\":\"lines\",\"name\":\"Outside_range_Dry_WOW\",\"showlegend\":true,\"type\":\"scatter\",\"x\":[\"2022-05-11T00:00:00\",\"2022-05-11T00:00:00\"],\"y\":[-59204.84,52066.0]},{\"line\":{\"color\":\"#000099\",\"dash\":\"dash\",\"width\":0.5},\"mode\":\"lines\",\"name\":\"Outside_range_Dry_WOW\",\"showlegend\":false,\"type\":\"scatter\",\"x\":[\"2022-05-12T00:00:00\",\"2022-05-12T00:00:00\"],\"y\":[-59204.84,52066.0]},{\"line\":{\"color\":\"#000099\",\"dash\":\"dash\",\"width\":0.5},\"mode\":\"lines\",\"name\":\"Outside_range_Dry_WOW\",\"showlegend\":false,\"type\":\"scatter\",\"x\":[\"2022-05-13T00:00:00\",\"2022-05-13T00:00:00\"],\"y\":[-59204.84,52066.0]},{\"line\":{\"color\":\"#000099\",\"dash\":\"dash\",\"width\":0.5},\"mode\":\"lines\",\"name\":\"Outside_range_Dry_WOW\",\"showlegend\":false,\"type\":\"scatter\",\"x\":[\"2022-05-14T00:00:00\",\"2022-05-14T00:00:00\"],\"y\":[-59204.84,52066.0]},{\"line\":{\"color\":\"#000099\",\"dash\":\"dash\",\"width\":0.5},\"mode\":\"lines\",\"name\":\"Outside_range_Dry_WOW\",\"showlegend\":false,\"type\":\"scatter\",\"x\":[\"2022-05-18T00:00:00\",\"2022-05-18T00:00:00\"],\"y\":[-59204.84,52066.0]},{\"line\":{\"color\":\"#000099\",\"dash\":\"dash\",\"width\":0.5},\"mode\":\"lines\",\"name\":\"Outside_range_Dry_WOW\",\"showlegend\":false,\"type\":\"scatter\",\"x\":[\"2022-05-19T00:00:00\",\"2022-05-19T00:00:00\"],\"y\":[-59204.84,52066.0]},{\"line\":{\"color\":\"#000099\",\"dash\":\"dash\",\"width\":0.5},\"mode\":\"lines\",\"name\":\"Outside_range_Dry_WOW\",\"showlegend\":false,\"type\":\"scatter\",\"x\":[\"2022-05-20T00:00:00\",\"2022-05-20T00:00:00\"],\"y\":[-59204.84,52066.0]},{\"line\":{\"color\":\"#000099\",\"dash\":\"dash\",\"width\":0.5},\"mode\":\"lines\",\"name\":\"Outside_range_Dry_WOW\",\"showlegend\":false,\"type\":\"scatter\",\"x\":[\"2022-05-23T00:00:00\",\"2022-05-23T00:00:00\"],\"y\":[-59204.84,52066.0]},{\"line\":{\"color\":\"#000099\",\"dash\":\"dash\",\"width\":0.5},\"mode\":\"lines\",\"name\":\"Outside_range_Dry_WOW\",\"showlegend\":false,\"type\":\"scatter\",\"x\":[\"2022-05-25T00:00:00\",\"2022-05-25T00:00:00\"],\"y\":[-59204.84,52066.0]},{\"line\":{\"color\":\"#000099\",\"dash\":\"dash\",\"width\":0.5},\"mode\":\"lines\",\"name\":\"Outside_range_Dry_WOW\",\"showlegend\":false,\"type\":\"scatter\",\"x\":[\"2022-05-30T00:00:00\",\"2022-05-30T00:00:00\"],\"y\":[-59204.84,52066.0]},{\"line\":{\"color\":\"#000099\",\"dash\":\"dash\",\"width\":0.5},\"mode\":\"lines\",\"name\":\"Outside_range_Dry_WOW\",\"showlegend\":false,\"type\":\"scatter\",\"x\":[\"2022-05-31T00:00:00\",\"2022-05-31T00:00:00\"],\"y\":[-59204.84,52066.0]},{\"line\":{\"color\":\"#000099\",\"dash\":\"dash\",\"width\":0.5},\"mode\":\"lines\",\"name\":\"Outside_range_Dry_WOW\",\"showlegend\":false,\"type\":\"scatter\",\"x\":[\"2022-06-02T00:00:00\",\"2022-06-02T00:00:00\"],\"y\":[-59204.84,52066.0]},{\"line\":{\"color\":\"#000099\",\"dash\":\"dash\",\"width\":0.5},\"mode\":\"lines\",\"name\":\"Outside_range_Dry_WOW\",\"showlegend\":false,\"type\":\"scatter\",\"x\":[\"2022-06-03T00:00:00\",\"2022-06-03T00:00:00\"],\"y\":[-59204.84,52066.0]},{\"line\":{\"color\":\"#000099\",\"dash\":\"dash\",\"width\":0.5},\"mode\":\"lines\",\"name\":\"Outside_range_Dry_WOW\",\"showlegend\":false,\"type\":\"scatter\",\"x\":[\"2022-06-04T00:00:00\",\"2022-06-04T00:00:00\"],\"y\":[-59204.84,52066.0]},{\"line\":{\"color\":\"#000099\",\"dash\":\"dash\",\"width\":0.5},\"mode\":\"lines\",\"name\":\"Outside_range_Dry_WOW\",\"showlegend\":false,\"type\":\"scatter\",\"x\":[\"2022-06-07T00:00:00\",\"2022-06-07T00:00:00\"],\"y\":[-59204.84,52066.0]},{\"line\":{\"color\":\"#000099\",\"dash\":\"dash\",\"width\":0.5},\"mode\":\"lines\",\"name\":\"Outside_range_Dry_WOW\",\"showlegend\":false,\"type\":\"scatter\",\"x\":[\"2022-06-16T00:00:00\",\"2022-06-16T00:00:00\"],\"y\":[-59204.84,52066.0]},{\"line\":{\"color\":\"#000099\",\"dash\":\"dash\",\"width\":0.5},\"mode\":\"lines\",\"name\":\"Outside_range_Dry_WOW\",\"showlegend\":false,\"type\":\"scatter\",\"x\":[\"2022-06-17T00:00:00\",\"2022-06-17T00:00:00\"],\"y\":[-59204.84,52066.0]},{\"line\":{\"color\":\"#000099\",\"dash\":\"dash\",\"width\":0.5},\"mode\":\"lines\",\"name\":\"Outside_range_Dry_WOW\",\"showlegend\":false,\"type\":\"scatter\",\"x\":[\"2022-06-18T00:00:00\",\"2022-06-18T00:00:00\"],\"y\":[-59204.84,52066.0]},{\"line\":{\"color\":\"#000099\",\"dash\":\"dash\",\"width\":0.5},\"mode\":\"lines\",\"name\":\"Outside_range_Dry_WOW\",\"showlegend\":false,\"type\":\"scatter\",\"x\":[\"2022-06-22T00:00:00\",\"2022-06-22T00:00:00\"],\"y\":[-59204.84,52066.0]},{\"line\":{\"color\":\"#000099\",\"dash\":\"dash\",\"width\":0.5},\"mode\":\"lines\",\"name\":\"Outside_range_Dry_WOW\",\"showlegend\":false,\"type\":\"scatter\",\"x\":[\"2022-06-23T00:00:00\",\"2022-06-23T00:00:00\"],\"y\":[-59204.84,52066.0]},{\"line\":{\"color\":\"#000099\",\"dash\":\"dash\",\"width\":0.5},\"mode\":\"lines\",\"name\":\"Outside_range_Dry_WOW\",\"showlegend\":false,\"type\":\"scatter\",\"x\":[\"2022-06-24T00:00:00\",\"2022-06-24T00:00:00\"],\"y\":[-59204.84,52066.0]},{\"line\":{\"color\":\"#000099\",\"dash\":\"dash\",\"width\":0.5},\"mode\":\"lines\",\"name\":\"Outside_range_Dry_WOW\",\"showlegend\":false,\"type\":\"scatter\",\"x\":[\"2022-06-25T00:00:00\",\"2022-06-25T00:00:00\"],\"y\":[-59204.84,52066.0]},{\"line\":{\"color\":\"#000099\",\"dash\":\"dash\",\"width\":0.5},\"mode\":\"lines\",\"name\":\"Outside_range_Dry_WOW\",\"showlegend\":false,\"type\":\"scatter\",\"x\":[\"2022-06-28T00:00:00\",\"2022-06-28T00:00:00\"],\"y\":[-59204.84,52066.0]},{\"line\":{\"color\":\"#000099\",\"dash\":\"dash\",\"width\":0.5},\"mode\":\"lines\",\"name\":\"Outside_range_Dry_WOW\",\"showlegend\":false,\"type\":\"scatter\",\"x\":[\"2022-07-05T00:00:00\",\"2022-07-05T00:00:00\"],\"y\":[-59204.84,52066.0]},{\"line\":{\"color\":\"#000099\",\"dash\":\"dash\",\"width\":0.5},\"mode\":\"lines\",\"name\":\"Outside_range_Dry_WOW\",\"showlegend\":false,\"type\":\"scatter\",\"x\":[\"2022-07-06T00:00:00\",\"2022-07-06T00:00:00\"],\"y\":[-59204.84,52066.0]},{\"line\":{\"color\":\"#000099\",\"dash\":\"dash\",\"width\":0.5},\"mode\":\"lines\",\"name\":\"Outside_range_Dry_WOW\",\"showlegend\":false,\"type\":\"scatter\",\"x\":[\"2022-07-07T00:00:00\",\"2022-07-07T00:00:00\"],\"y\":[-59204.84,52066.0]},{\"line\":{\"color\":\"#000099\",\"dash\":\"dash\",\"width\":0.5},\"mode\":\"lines\",\"name\":\"Outside_range_Dry_WOW\",\"showlegend\":false,\"type\":\"scatter\",\"x\":[\"2022-07-11T00:00:00\",\"2022-07-11T00:00:00\"],\"y\":[-59204.84,52066.0]},{\"line\":{\"color\":\"#000099\",\"dash\":\"dash\",\"width\":0.5},\"mode\":\"lines\",\"name\":\"Outside_range_Dry_WOW\",\"showlegend\":false,\"type\":\"scatter\",\"x\":[\"2022-07-13T00:00:00\",\"2022-07-13T00:00:00\"],\"y\":[-59204.84,52066.0]},{\"line\":{\"color\":\"#000099\",\"dash\":\"dash\",\"width\":0.5},\"mode\":\"lines\",\"name\":\"Outside_range_Dry_WOW\",\"showlegend\":false,\"type\":\"scatter\",\"x\":[\"2022-07-16T00:00:00\",\"2022-07-16T00:00:00\"],\"y\":[-59204.84,52066.0]},{\"line\":{\"color\":\"#000099\",\"dash\":\"dash\",\"width\":0.5},\"mode\":\"lines\",\"name\":\"Outside_range_Dry_WOW\",\"showlegend\":false,\"type\":\"scatter\",\"x\":[\"2022-07-18T00:00:00\",\"2022-07-18T00:00:00\"],\"y\":[-59204.84,52066.0]},{\"line\":{\"color\":\"#000099\",\"dash\":\"dash\",\"width\":0.5},\"mode\":\"lines\",\"name\":\"Outside_range_Dry_WOW\",\"showlegend\":false,\"type\":\"scatter\",\"x\":[\"2022-07-22T00:00:00\",\"2022-07-22T00:00:00\"],\"y\":[-59204.84,52066.0]},{\"line\":{\"color\":\"#000099\",\"dash\":\"dash\",\"width\":0.5},\"mode\":\"lines\",\"name\":\"Outside_range_Dry_WOW\",\"showlegend\":false,\"type\":\"scatter\",\"x\":[\"2022-07-27T00:00:00\",\"2022-07-27T00:00:00\"],\"y\":[-59204.84,52066.0]},{\"line\":{\"color\":\"#000099\",\"dash\":\"dash\",\"width\":0.5},\"mode\":\"lines\",\"name\":\"Outside_range_Dry_WOW\",\"showlegend\":false,\"type\":\"scatter\",\"x\":[\"2022-07-28T00:00:00\",\"2022-07-28T00:00:00\"],\"y\":[-59204.84,52066.0]},{\"line\":{\"color\":\"#000099\",\"dash\":\"dash\",\"width\":0.5},\"mode\":\"lines\",\"name\":\"Outside_range_Dry_WOW\",\"showlegend\":false,\"type\":\"scatter\",\"x\":[\"2022-07-29T00:00:00\",\"2022-07-29T00:00:00\"],\"y\":[-59204.84,52066.0]},{\"line\":{\"color\":\"#000099\",\"dash\":\"dash\",\"width\":0.5},\"mode\":\"lines\",\"name\":\"Outside_range_Dry_WOW\",\"showlegend\":false,\"type\":\"scatter\",\"x\":[\"2022-08-05T00:00:00\",\"2022-08-05T00:00:00\"],\"y\":[-59204.84,52066.0]},{\"line\":{\"color\":\"#000099\",\"dash\":\"dash\",\"width\":0.5},\"mode\":\"lines\",\"name\":\"Outside_range_Dry_WOW\",\"showlegend\":false,\"type\":\"scatter\",\"x\":[\"2022-08-06T00:00:00\",\"2022-08-06T00:00:00\"],\"y\":[-59204.84,52066.0]},{\"line\":{\"color\":\"#000099\",\"dash\":\"dash\",\"width\":0.5},\"mode\":\"lines\",\"name\":\"Outside_range_Dry_WOW\",\"showlegend\":false,\"type\":\"scatter\",\"x\":[\"2022-08-13T00:00:00\",\"2022-08-13T00:00:00\"],\"y\":[-59204.84,52066.0]},{\"line\":{\"color\":\"#000099\",\"dash\":\"dash\",\"width\":0.5},\"mode\":\"lines\",\"name\":\"Outside_range_Dry_WOW\",\"showlegend\":false,\"type\":\"scatter\",\"x\":[\"2022-08-17T00:00:00\",\"2022-08-17T00:00:00\"],\"y\":[-59204.84,52066.0]},{\"line\":{\"color\":\"#000099\",\"dash\":\"dash\",\"width\":0.5},\"mode\":\"lines\",\"name\":\"Outside_range_Dry_WOW\",\"showlegend\":false,\"type\":\"scatter\",\"x\":[\"2022-08-19T00:00:00\",\"2022-08-19T00:00:00\"],\"y\":[-59204.84,52066.0]},{\"line\":{\"color\":\"#000099\",\"dash\":\"dash\",\"width\":0.5},\"mode\":\"lines\",\"name\":\"Outside_range_Dry_WOW\",\"showlegend\":false,\"type\":\"scatter\",\"x\":[\"2022-08-30T00:00:00\",\"2022-08-30T00:00:00\"],\"y\":[-59204.84,52066.0]},{\"line\":{\"color\":\"#000099\",\"dash\":\"dash\",\"width\":0.5},\"mode\":\"lines\",\"name\":\"Outside_range_Dry_WOW\",\"showlegend\":false,\"type\":\"scatter\",\"x\":[\"2022-09-01T00:00:00\",\"2022-09-01T00:00:00\"],\"y\":[-59204.84,52066.0]},{\"line\":{\"color\":\"#000099\",\"dash\":\"dash\",\"width\":0.5},\"mode\":\"lines\",\"name\":\"Outside_range_Dry_WOW\",\"showlegend\":false,\"type\":\"scatter\",\"x\":[\"2022-09-02T00:00:00\",\"2022-09-02T00:00:00\"],\"y\":[-59204.84,52066.0]},{\"line\":{\"color\":\"#000099\",\"dash\":\"dash\",\"width\":0.5},\"mode\":\"lines\",\"name\":\"Outside_range_Dry_WOW\",\"showlegend\":false,\"type\":\"scatter\",\"x\":[\"2022-09-09T00:00:00\",\"2022-09-09T00:00:00\"],\"y\":[-59204.84,52066.0]},{\"line\":{\"color\":\"#000099\",\"dash\":\"dash\",\"width\":0.5},\"mode\":\"lines\",\"name\":\"Outside_range_Dry_WOW\",\"showlegend\":false,\"type\":\"scatter\",\"x\":[\"2022-09-14T00:00:00\",\"2022-09-14T00:00:00\"],\"y\":[-59204.84,52066.0]},{\"line\":{\"color\":\"#000099\",\"dash\":\"dash\",\"width\":0.5},\"mode\":\"lines\",\"name\":\"Outside_range_Dry_WOW\",\"showlegend\":false,\"type\":\"scatter\",\"x\":[\"2022-09-15T00:00:00\",\"2022-09-15T00:00:00\"],\"y\":[-59204.84,52066.0]},{\"line\":{\"color\":\"#000099\",\"dash\":\"dash\",\"width\":0.5},\"mode\":\"lines\",\"name\":\"Outside_range_Dry_WOW\",\"showlegend\":false,\"type\":\"scatter\",\"x\":[\"2022-09-22T00:00:00\",\"2022-09-22T00:00:00\"],\"y\":[-59204.84,52066.0]},{\"line\":{\"color\":\"#000099\",\"dash\":\"dash\",\"width\":0.5},\"mode\":\"lines\",\"name\":\"Outside_range_Dry_WOW\",\"showlegend\":false,\"type\":\"scatter\",\"x\":[\"2022-09-24T00:00:00\",\"2022-09-24T00:00:00\"],\"y\":[-59204.84,52066.0]},{\"line\":{\"color\":\"#000099\",\"dash\":\"dash\",\"width\":0.5},\"mode\":\"lines\",\"name\":\"Outside_range_Dry_WOW\",\"showlegend\":false,\"type\":\"scatter\",\"x\":[\"2022-09-29T00:00:00\",\"2022-09-29T00:00:00\"],\"y\":[-59204.84,52066.0]},{\"line\":{\"color\":\"#000099\",\"dash\":\"dash\",\"width\":0.5},\"mode\":\"lines\",\"name\":\"Outside_range_Dry_WOW\",\"showlegend\":false,\"type\":\"scatter\",\"x\":[\"2022-10-01T00:00:00\",\"2022-10-01T00:00:00\"],\"y\":[-59204.84,52066.0]},{\"line\":{\"color\":\"#000099\",\"dash\":\"dash\",\"width\":0.5},\"mode\":\"lines\",\"name\":\"Outside_range_Dry_WOW\",\"showlegend\":false,\"type\":\"scatter\",\"x\":[\"2022-10-07T00:00:00\",\"2022-10-07T00:00:00\"],\"y\":[-59204.84,52066.0]},{\"line\":{\"color\":\"#000099\",\"dash\":\"dash\",\"width\":0.5},\"mode\":\"lines\",\"name\":\"Outside_range_Dry_WOW\",\"showlegend\":false,\"type\":\"scatter\",\"x\":[\"2022-10-12T00:00:00\",\"2022-10-12T00:00:00\"],\"y\":[-59204.84,52066.0]},{\"line\":{\"color\":\"#000099\",\"dash\":\"dash\",\"width\":0.5},\"mode\":\"lines\",\"name\":\"Outside_range_Dry_WOW\",\"showlegend\":false,\"type\":\"scatter\",\"x\":[\"2022-10-21T00:00:00\",\"2022-10-21T00:00:00\"],\"y\":[-59204.84,52066.0]},{\"line\":{\"color\":\"#000099\",\"dash\":\"dash\",\"width\":0.5},\"mode\":\"lines\",\"name\":\"Outside_range_Dry_WOW\",\"showlegend\":false,\"type\":\"scatter\",\"x\":[\"2022-10-24T00:00:00\",\"2022-10-24T00:00:00\"],\"y\":[-59204.84,52066.0]},{\"line\":{\"color\":\"#000099\",\"dash\":\"dash\",\"width\":0.5},\"mode\":\"lines\",\"name\":\"Outside_range_Dry_WOW\",\"showlegend\":false,\"type\":\"scatter\",\"x\":[\"2022-10-25T00:00:00\",\"2022-10-25T00:00:00\"],\"y\":[-59204.84,52066.0]},{\"line\":{\"color\":\"#000099\",\"dash\":\"dash\",\"width\":0.5},\"mode\":\"lines\",\"name\":\"Outside_range_Dry_WOW\",\"showlegend\":false,\"type\":\"scatter\",\"x\":[\"2022-10-29T00:00:00\",\"2022-10-29T00:00:00\"],\"y\":[-59204.84,52066.0]},{\"line\":{\"color\":\"#000099\",\"dash\":\"dash\",\"width\":0.5},\"mode\":\"lines\",\"name\":\"Outside_range_Dry_WOW\",\"showlegend\":false,\"type\":\"scatter\",\"x\":[\"2022-11-05T00:00:00\",\"2022-11-05T00:00:00\"],\"y\":[-59204.84,52066.0]},{\"line\":{\"color\":\"#000099\",\"dash\":\"dash\",\"width\":0.5},\"mode\":\"lines\",\"name\":\"Outside_range_Dry_WOW\",\"showlegend\":false,\"type\":\"scatter\",\"x\":[\"2022-11-07T00:00:00\",\"2022-11-07T00:00:00\"],\"y\":[-59204.84,52066.0]},{\"line\":{\"color\":\"#000099\",\"dash\":\"dash\",\"width\":0.5},\"mode\":\"lines\",\"name\":\"Outside_range_Dry_WOW\",\"showlegend\":false,\"type\":\"scatter\",\"x\":[\"2022-11-08T00:00:00\",\"2022-11-08T00:00:00\"],\"y\":[-59204.84,52066.0]},{\"line\":{\"color\":\"#000099\",\"dash\":\"dash\",\"width\":0.5},\"mode\":\"lines\",\"name\":\"Outside_range_Dry_WOW\",\"showlegend\":false,\"type\":\"scatter\",\"x\":[\"2022-11-09T00:00:00\",\"2022-11-09T00:00:00\"],\"y\":[-59204.84,52066.0]},{\"line\":{\"color\":\"#000099\",\"dash\":\"dash\",\"width\":0.5},\"mode\":\"lines\",\"name\":\"Outside_range_Dry_WOW\",\"showlegend\":false,\"type\":\"scatter\",\"x\":[\"2022-11-10T00:00:00\",\"2022-11-10T00:00:00\"],\"y\":[-59204.84,52066.0]},{\"line\":{\"color\":\"#000099\",\"dash\":\"dash\",\"width\":0.5},\"mode\":\"lines\",\"name\":\"Outside_range_Dry_WOW\",\"showlegend\":false,\"type\":\"scatter\",\"x\":[\"2022-11-12T00:00:00\",\"2022-11-12T00:00:00\"],\"y\":[-59204.84,52066.0]},{\"line\":{\"color\":\"#000099\",\"dash\":\"dash\",\"width\":0.5},\"mode\":\"lines\",\"name\":\"Outside_range_Dry_WOW\",\"showlegend\":false,\"type\":\"scatter\",\"x\":[\"2022-11-17T00:00:00\",\"2022-11-17T00:00:00\"],\"y\":[-59204.84,52066.0]},{\"line\":{\"color\":\"#000099\",\"dash\":\"dash\",\"width\":0.5},\"mode\":\"lines\",\"name\":\"Outside_range_Dry_WOW\",\"showlegend\":false,\"type\":\"scatter\",\"x\":[\"2022-11-18T00:00:00\",\"2022-11-18T00:00:00\"],\"y\":[-59204.84,52066.0]},{\"line\":{\"color\":\"#000099\",\"dash\":\"dash\",\"width\":0.5},\"mode\":\"lines\",\"name\":\"Outside_range_Dry_WOW\",\"showlegend\":false,\"type\":\"scatter\",\"x\":[\"2022-11-19T00:00:00\",\"2022-11-19T00:00:00\"],\"y\":[-59204.84,52066.0]},{\"line\":{\"color\":\"#000099\",\"dash\":\"dash\",\"width\":0.5},\"mode\":\"lines\",\"name\":\"Outside_range_Dry_WOW\",\"showlegend\":false,\"type\":\"scatter\",\"x\":[\"2022-11-22T00:00:00\",\"2022-11-22T00:00:00\"],\"y\":[-59204.84,52066.0]},{\"line\":{\"color\":\"#000099\",\"dash\":\"dash\",\"width\":0.5},\"mode\":\"lines\",\"name\":\"Outside_range_Dry_WOW\",\"showlegend\":false,\"type\":\"scatter\",\"x\":[\"2022-11-24T00:00:00\",\"2022-11-24T00:00:00\"],\"y\":[-59204.84,52066.0]},{\"line\":{\"color\":\"#000099\",\"dash\":\"dash\",\"width\":0.5},\"mode\":\"lines\",\"name\":\"Outside_range_Dry_WOW\",\"showlegend\":false,\"type\":\"scatter\",\"x\":[\"2022-11-25T00:00:00\",\"2022-11-25T00:00:00\"],\"y\":[-59204.84,52066.0]},{\"line\":{\"color\":\"#000099\",\"dash\":\"dash\",\"width\":0.5},\"mode\":\"lines\",\"name\":\"Outside_range_Dry_WOW\",\"showlegend\":false,\"type\":\"scatter\",\"x\":[\"2022-11-29T00:00:00\",\"2022-11-29T00:00:00\"],\"y\":[-59204.84,52066.0]},{\"line\":{\"color\":\"#000099\",\"dash\":\"dash\",\"width\":0.5},\"mode\":\"lines\",\"name\":\"Outside_range_Dry_WOW\",\"showlegend\":false,\"type\":\"scatter\",\"x\":[\"2022-12-02T00:00:00\",\"2022-12-02T00:00:00\"],\"y\":[-59204.84,52066.0]},{\"line\":{\"color\":\"#000099\",\"dash\":\"dash\",\"width\":0.5},\"mode\":\"lines\",\"name\":\"Outside_range_Dry_WOW\",\"showlegend\":false,\"type\":\"scatter\",\"x\":[\"2022-12-06T00:00:00\",\"2022-12-06T00:00:00\"],\"y\":[-59204.84,52066.0]},{\"line\":{\"color\":\"#000099\",\"dash\":\"dash\",\"width\":0.5},\"mode\":\"lines\",\"name\":\"Outside_range_Dry_WOW\",\"showlegend\":false,\"type\":\"scatter\",\"x\":[\"2022-12-17T00:00:00\",\"2022-12-17T00:00:00\"],\"y\":[-59204.84,52066.0]},{\"line\":{\"color\":\"#000099\",\"dash\":\"dash\",\"width\":0.5},\"mode\":\"lines\",\"name\":\"Outside_range_Dry_WOW\",\"showlegend\":false,\"type\":\"scatter\",\"x\":[\"2022-12-21T00:00:00\",\"2022-12-21T00:00:00\"],\"y\":[-59204.84,52066.0]},{\"line\":{\"color\":\"#000099\",\"dash\":\"dash\",\"width\":0.5},\"mode\":\"lines\",\"name\":\"Outside_range_Dry_WOW\",\"showlegend\":false,\"type\":\"scatter\",\"x\":[\"2022-12-22T00:00:00\",\"2022-12-22T00:00:00\"],\"y\":[-59204.84,52066.0]},{\"line\":{\"color\":\"#000099\",\"dash\":\"dash\",\"width\":0.5},\"mode\":\"lines\",\"name\":\"Outside_range_Dry_WOW\",\"showlegend\":false,\"type\":\"scatter\",\"x\":[\"2022-12-24T00:00:00\",\"2022-12-24T00:00:00\"],\"y\":[-59204.84,52066.0]},{\"line\":{\"color\":\"#000099\",\"dash\":\"dash\",\"width\":0.5},\"mode\":\"lines\",\"name\":\"Outside_range_Dry_WOW\",\"showlegend\":false,\"type\":\"scatter\",\"x\":[\"2022-12-27T00:00:00\",\"2022-12-27T00:00:00\"],\"y\":[-59204.84,52066.0]},{\"line\":{\"color\":\"#000099\",\"dash\":\"dash\",\"width\":0.5},\"mode\":\"lines\",\"name\":\"Outside_range_Dry_WOW\",\"showlegend\":false,\"type\":\"scatter\",\"x\":[\"2022-12-28T00:00:00\",\"2022-12-28T00:00:00\"],\"y\":[-59204.84,52066.0]},{\"line\":{\"color\":\"#000099\",\"dash\":\"dash\",\"width\":0.5},\"mode\":\"lines\",\"name\":\"Outside_range_Dry_WOW\",\"showlegend\":false,\"type\":\"scatter\",\"x\":[\"2022-12-29T00:00:00\",\"2022-12-29T00:00:00\"],\"y\":[-59204.84,52066.0]},{\"line\":{\"color\":\"#000099\",\"dash\":\"dash\",\"width\":0.5},\"mode\":\"lines\",\"name\":\"Outside_range_Dry_WOW\",\"showlegend\":false,\"type\":\"scatter\",\"x\":[\"2022-12-30T00:00:00\",\"2022-12-30T00:00:00\"],\"y\":[-59204.84,52066.0]},{\"line\":{\"color\":\"#000099\",\"dash\":\"dash\",\"width\":0.5},\"mode\":\"lines\",\"name\":\"Outside_range_Dry_WOW\",\"showlegend\":false,\"type\":\"scatter\",\"x\":[\"2022-12-31T00:00:00\",\"2022-12-31T00:00:00\"],\"y\":[-59204.84,52066.0]},{\"line\":{\"color\":\"#990000\",\"dash\":\"dash\",\"width\":0.5},\"mode\":\"lines\",\"name\":\"Outside_range_Dry_PROPHET\",\"showlegend\":true,\"type\":\"scatter\",\"x\":[\"2022-05-10T00:00:00\",\"2022-05-10T00:00:00\"],\"y\":[-113737.91195032632,47258.15179535982]},{\"line\":{\"color\":\"#990000\",\"dash\":\"dash\",\"width\":0.5},\"mode\":\"lines\",\"name\":\"Outside_range_Dry_PROPHET\",\"showlegend\":false,\"type\":\"scatter\",\"x\":[\"2022-05-11T00:00:00\",\"2022-05-11T00:00:00\"],\"y\":[-113737.91195032632,47258.15179535982]},{\"line\":{\"color\":\"#990000\",\"dash\":\"dash\",\"width\":0.5},\"mode\":\"lines\",\"name\":\"Outside_range_Dry_PROPHET\",\"showlegend\":false,\"type\":\"scatter\",\"x\":[\"2022-05-12T00:00:00\",\"2022-05-12T00:00:00\"],\"y\":[-113737.91195032632,47258.15179535982]},{\"line\":{\"color\":\"#990000\",\"dash\":\"dash\",\"width\":0.5},\"mode\":\"lines\",\"name\":\"Outside_range_Dry_PROPHET\",\"showlegend\":false,\"type\":\"scatter\",\"x\":[\"2022-05-13T00:00:00\",\"2022-05-13T00:00:00\"],\"y\":[-113737.91195032632,47258.15179535982]},{\"line\":{\"color\":\"#990000\",\"dash\":\"dash\",\"width\":0.5},\"mode\":\"lines\",\"name\":\"Outside_range_Dry_PROPHET\",\"showlegend\":false,\"type\":\"scatter\",\"x\":[\"2022-05-14T00:00:00\",\"2022-05-14T00:00:00\"],\"y\":[-113737.91195032632,47258.15179535982]},{\"line\":{\"color\":\"#990000\",\"dash\":\"dash\",\"width\":0.5},\"mode\":\"lines\",\"name\":\"Outside_range_Dry_PROPHET\",\"showlegend\":false,\"type\":\"scatter\",\"x\":[\"2022-05-17T00:00:00\",\"2022-05-17T00:00:00\"],\"y\":[-113737.91195032632,47258.15179535982]},{\"line\":{\"color\":\"#990000\",\"dash\":\"dash\",\"width\":0.5},\"mode\":\"lines\",\"name\":\"Outside_range_Dry_PROPHET\",\"showlegend\":false,\"type\":\"scatter\",\"x\":[\"2022-05-18T00:00:00\",\"2022-05-18T00:00:00\"],\"y\":[-113737.91195032632,47258.15179535982]},{\"line\":{\"color\":\"#990000\",\"dash\":\"dash\",\"width\":0.5},\"mode\":\"lines\",\"name\":\"Outside_range_Dry_PROPHET\",\"showlegend\":false,\"type\":\"scatter\",\"x\":[\"2022-05-20T00:00:00\",\"2022-05-20T00:00:00\"],\"y\":[-113737.91195032632,47258.15179535982]},{\"line\":{\"color\":\"#990000\",\"dash\":\"dash\",\"width\":0.5},\"mode\":\"lines\",\"name\":\"Outside_range_Dry_PROPHET\",\"showlegend\":false,\"type\":\"scatter\",\"x\":[\"2022-05-23T00:00:00\",\"2022-05-23T00:00:00\"],\"y\":[-113737.91195032632,47258.15179535982]},{\"line\":{\"color\":\"#990000\",\"dash\":\"dash\",\"width\":0.5},\"mode\":\"lines\",\"name\":\"Outside_range_Dry_PROPHET\",\"showlegend\":false,\"type\":\"scatter\",\"x\":[\"2022-05-24T00:00:00\",\"2022-05-24T00:00:00\"],\"y\":[-113737.91195032632,47258.15179535982]},{\"line\":{\"color\":\"#990000\",\"dash\":\"dash\",\"width\":0.5},\"mode\":\"lines\",\"name\":\"Outside_range_Dry_PROPHET\",\"showlegend\":false,\"type\":\"scatter\",\"x\":[\"2022-05-25T00:00:00\",\"2022-05-25T00:00:00\"],\"y\":[-113737.91195032632,47258.15179535982]},{\"line\":{\"color\":\"#990000\",\"dash\":\"dash\",\"width\":0.5},\"mode\":\"lines\",\"name\":\"Outside_range_Dry_PROPHET\",\"showlegend\":false,\"type\":\"scatter\",\"x\":[\"2022-05-27T00:00:00\",\"2022-05-27T00:00:00\"],\"y\":[-113737.91195032632,47258.15179535982]},{\"line\":{\"color\":\"#990000\",\"dash\":\"dash\",\"width\":0.5},\"mode\":\"lines\",\"name\":\"Outside_range_Dry_PROPHET\",\"showlegend\":false,\"type\":\"scatter\",\"x\":[\"2022-05-30T00:00:00\",\"2022-05-30T00:00:00\"],\"y\":[-113737.91195032632,47258.15179535982]},{\"line\":{\"color\":\"#990000\",\"dash\":\"dash\",\"width\":0.5},\"mode\":\"lines\",\"name\":\"Outside_range_Dry_PROPHET\",\"showlegend\":false,\"type\":\"scatter\",\"x\":[\"2022-05-31T00:00:00\",\"2022-05-31T00:00:00\"],\"y\":[-113737.91195032632,47258.15179535982]},{\"line\":{\"color\":\"#990000\",\"dash\":\"dash\",\"width\":0.5},\"mode\":\"lines\",\"name\":\"Outside_range_Dry_PROPHET\",\"showlegend\":false,\"type\":\"scatter\",\"x\":[\"2022-06-03T00:00:00\",\"2022-06-03T00:00:00\"],\"y\":[-113737.91195032632,47258.15179535982]},{\"line\":{\"color\":\"#990000\",\"dash\":\"dash\",\"width\":0.5},\"mode\":\"lines\",\"name\":\"Outside_range_Dry_PROPHET\",\"showlegend\":false,\"type\":\"scatter\",\"x\":[\"2022-06-04T00:00:00\",\"2022-06-04T00:00:00\"],\"y\":[-113737.91195032632,47258.15179535982]},{\"line\":{\"color\":\"#990000\",\"dash\":\"dash\",\"width\":0.5},\"mode\":\"lines\",\"name\":\"Outside_range_Dry_PROPHET\",\"showlegend\":false,\"type\":\"scatter\",\"x\":[\"2022-06-07T00:00:00\",\"2022-06-07T00:00:00\"],\"y\":[-113737.91195032632,47258.15179535982]},{\"line\":{\"color\":\"#990000\",\"dash\":\"dash\",\"width\":0.5},\"mode\":\"lines\",\"name\":\"Outside_range_Dry_PROPHET\",\"showlegend\":false,\"type\":\"scatter\",\"x\":[\"2022-06-09T00:00:00\",\"2022-06-09T00:00:00\"],\"y\":[-113737.91195032632,47258.15179535982]},{\"line\":{\"color\":\"#990000\",\"dash\":\"dash\",\"width\":0.5},\"mode\":\"lines\",\"name\":\"Outside_range_Dry_PROPHET\",\"showlegend\":false,\"type\":\"scatter\",\"x\":[\"2022-06-11T00:00:00\",\"2022-06-11T00:00:00\"],\"y\":[-113737.91195032632,47258.15179535982]},{\"line\":{\"color\":\"#990000\",\"dash\":\"dash\",\"width\":0.5},\"mode\":\"lines\",\"name\":\"Outside_range_Dry_PROPHET\",\"showlegend\":false,\"type\":\"scatter\",\"x\":[\"2022-06-15T00:00:00\",\"2022-06-15T00:00:00\"],\"y\":[-113737.91195032632,47258.15179535982]},{\"line\":{\"color\":\"#990000\",\"dash\":\"dash\",\"width\":0.5},\"mode\":\"lines\",\"name\":\"Outside_range_Dry_PROPHET\",\"showlegend\":false,\"type\":\"scatter\",\"x\":[\"2022-06-16T00:00:00\",\"2022-06-16T00:00:00\"],\"y\":[-113737.91195032632,47258.15179535982]},{\"line\":{\"color\":\"#990000\",\"dash\":\"dash\",\"width\":0.5},\"mode\":\"lines\",\"name\":\"Outside_range_Dry_PROPHET\",\"showlegend\":false,\"type\":\"scatter\",\"x\":[\"2022-06-17T00:00:00\",\"2022-06-17T00:00:00\"],\"y\":[-113737.91195032632,47258.15179535982]},{\"line\":{\"color\":\"#990000\",\"dash\":\"dash\",\"width\":0.5},\"mode\":\"lines\",\"name\":\"Outside_range_Dry_PROPHET\",\"showlegend\":false,\"type\":\"scatter\",\"x\":[\"2022-06-18T00:00:00\",\"2022-06-18T00:00:00\"],\"y\":[-113737.91195032632,47258.15179535982]},{\"line\":{\"color\":\"#990000\",\"dash\":\"dash\",\"width\":0.5},\"mode\":\"lines\",\"name\":\"Outside_range_Dry_PROPHET\",\"showlegend\":false,\"type\":\"scatter\",\"x\":[\"2022-06-20T00:00:00\",\"2022-06-20T00:00:00\"],\"y\":[-113737.91195032632,47258.15179535982]},{\"line\":{\"color\":\"#990000\",\"dash\":\"dash\",\"width\":0.5},\"mode\":\"lines\",\"name\":\"Outside_range_Dry_PROPHET\",\"showlegend\":false,\"type\":\"scatter\",\"x\":[\"2022-06-22T00:00:00\",\"2022-06-22T00:00:00\"],\"y\":[-113737.91195032632,47258.15179535982]},{\"line\":{\"color\":\"#990000\",\"dash\":\"dash\",\"width\":0.5},\"mode\":\"lines\",\"name\":\"Outside_range_Dry_PROPHET\",\"showlegend\":false,\"type\":\"scatter\",\"x\":[\"2022-06-23T00:00:00\",\"2022-06-23T00:00:00\"],\"y\":[-113737.91195032632,47258.15179535982]},{\"line\":{\"color\":\"#990000\",\"dash\":\"dash\",\"width\":0.5},\"mode\":\"lines\",\"name\":\"Outside_range_Dry_PROPHET\",\"showlegend\":false,\"type\":\"scatter\",\"x\":[\"2022-06-24T00:00:00\",\"2022-06-24T00:00:00\"],\"y\":[-113737.91195032632,47258.15179535982]},{\"line\":{\"color\":\"#990000\",\"dash\":\"dash\",\"width\":0.5},\"mode\":\"lines\",\"name\":\"Outside_range_Dry_PROPHET\",\"showlegend\":false,\"type\":\"scatter\",\"x\":[\"2022-06-25T00:00:00\",\"2022-06-25T00:00:00\"],\"y\":[-113737.91195032632,47258.15179535982]},{\"line\":{\"color\":\"#990000\",\"dash\":\"dash\",\"width\":0.5},\"mode\":\"lines\",\"name\":\"Outside_range_Dry_PROPHET\",\"showlegend\":false,\"type\":\"scatter\",\"x\":[\"2022-06-27T00:00:00\",\"2022-06-27T00:00:00\"],\"y\":[-113737.91195032632,47258.15179535982]},{\"line\":{\"color\":\"#990000\",\"dash\":\"dash\",\"width\":0.5},\"mode\":\"lines\",\"name\":\"Outside_range_Dry_PROPHET\",\"showlegend\":false,\"type\":\"scatter\",\"x\":[\"2022-07-02T00:00:00\",\"2022-07-02T00:00:00\"],\"y\":[-113737.91195032632,47258.15179535982]},{\"line\":{\"color\":\"#990000\",\"dash\":\"dash\",\"width\":0.5},\"mode\":\"lines\",\"name\":\"Outside_range_Dry_PROPHET\",\"showlegend\":false,\"type\":\"scatter\",\"x\":[\"2022-07-04T00:00:00\",\"2022-07-04T00:00:00\"],\"y\":[-113737.91195032632,47258.15179535982]},{\"line\":{\"color\":\"#990000\",\"dash\":\"dash\",\"width\":0.5},\"mode\":\"lines\",\"name\":\"Outside_range_Dry_PROPHET\",\"showlegend\":false,\"type\":\"scatter\",\"x\":[\"2022-07-06T00:00:00\",\"2022-07-06T00:00:00\"],\"y\":[-113737.91195032632,47258.15179535982]},{\"line\":{\"color\":\"#990000\",\"dash\":\"dash\",\"width\":0.5},\"mode\":\"lines\",\"name\":\"Outside_range_Dry_PROPHET\",\"showlegend\":false,\"type\":\"scatter\",\"x\":[\"2022-07-07T00:00:00\",\"2022-07-07T00:00:00\"],\"y\":[-113737.91195032632,47258.15179535982]},{\"line\":{\"color\":\"#990000\",\"dash\":\"dash\",\"width\":0.5},\"mode\":\"lines\",\"name\":\"Outside_range_Dry_PROPHET\",\"showlegend\":false,\"type\":\"scatter\",\"x\":[\"2022-07-08T00:00:00\",\"2022-07-08T00:00:00\"],\"y\":[-113737.91195032632,47258.15179535982]},{\"line\":{\"color\":\"#990000\",\"dash\":\"dash\",\"width\":0.5},\"mode\":\"lines\",\"name\":\"Outside_range_Dry_PROPHET\",\"showlegend\":false,\"type\":\"scatter\",\"x\":[\"2022-07-09T00:00:00\",\"2022-07-09T00:00:00\"],\"y\":[-113737.91195032632,47258.15179535982]},{\"line\":{\"color\":\"#990000\",\"dash\":\"dash\",\"width\":0.5},\"mode\":\"lines\",\"name\":\"Outside_range_Dry_PROPHET\",\"showlegend\":false,\"type\":\"scatter\",\"x\":[\"2022-07-11T00:00:00\",\"2022-07-11T00:00:00\"],\"y\":[-113737.91195032632,47258.15179535982]},{\"line\":{\"color\":\"#990000\",\"dash\":\"dash\",\"width\":0.5},\"mode\":\"lines\",\"name\":\"Outside_range_Dry_PROPHET\",\"showlegend\":false,\"type\":\"scatter\",\"x\":[\"2022-07-12T00:00:00\",\"2022-07-12T00:00:00\"],\"y\":[-113737.91195032632,47258.15179535982]},{\"line\":{\"color\":\"#990000\",\"dash\":\"dash\",\"width\":0.5},\"mode\":\"lines\",\"name\":\"Outside_range_Dry_PROPHET\",\"showlegend\":false,\"type\":\"scatter\",\"x\":[\"2022-07-15T00:00:00\",\"2022-07-15T00:00:00\"],\"y\":[-113737.91195032632,47258.15179535982]},{\"line\":{\"color\":\"#990000\",\"dash\":\"dash\",\"width\":0.5},\"mode\":\"lines\",\"name\":\"Outside_range_Dry_PROPHET\",\"showlegend\":false,\"type\":\"scatter\",\"x\":[\"2022-07-16T00:00:00\",\"2022-07-16T00:00:00\"],\"y\":[-113737.91195032632,47258.15179535982]},{\"line\":{\"color\":\"#990000\",\"dash\":\"dash\",\"width\":0.5},\"mode\":\"lines\",\"name\":\"Outside_range_Dry_PROPHET\",\"showlegend\":false,\"type\":\"scatter\",\"x\":[\"2022-07-18T00:00:00\",\"2022-07-18T00:00:00\"],\"y\":[-113737.91195032632,47258.15179535982]},{\"line\":{\"color\":\"#990000\",\"dash\":\"dash\",\"width\":0.5},\"mode\":\"lines\",\"name\":\"Outside_range_Dry_PROPHET\",\"showlegend\":false,\"type\":\"scatter\",\"x\":[\"2022-07-19T00:00:00\",\"2022-07-19T00:00:00\"],\"y\":[-113737.91195032632,47258.15179535982]},{\"line\":{\"color\":\"#990000\",\"dash\":\"dash\",\"width\":0.5},\"mode\":\"lines\",\"name\":\"Outside_range_Dry_PROPHET\",\"showlegend\":false,\"type\":\"scatter\",\"x\":[\"2022-07-20T00:00:00\",\"2022-07-20T00:00:00\"],\"y\":[-113737.91195032632,47258.15179535982]},{\"line\":{\"color\":\"#990000\",\"dash\":\"dash\",\"width\":0.5},\"mode\":\"lines\",\"name\":\"Outside_range_Dry_PROPHET\",\"showlegend\":false,\"type\":\"scatter\",\"x\":[\"2022-07-22T00:00:00\",\"2022-07-22T00:00:00\"],\"y\":[-113737.91195032632,47258.15179535982]},{\"line\":{\"color\":\"#990000\",\"dash\":\"dash\",\"width\":0.5},\"mode\":\"lines\",\"name\":\"Outside_range_Dry_PROPHET\",\"showlegend\":false,\"type\":\"scatter\",\"x\":[\"2022-07-23T00:00:00\",\"2022-07-23T00:00:00\"],\"y\":[-113737.91195032632,47258.15179535982]},{\"line\":{\"color\":\"#990000\",\"dash\":\"dash\",\"width\":0.5},\"mode\":\"lines\",\"name\":\"Outside_range_Dry_PROPHET\",\"showlegend\":false,\"type\":\"scatter\",\"x\":[\"2022-07-25T00:00:00\",\"2022-07-25T00:00:00\"],\"y\":[-113737.91195032632,47258.15179535982]},{\"line\":{\"color\":\"#990000\",\"dash\":\"dash\",\"width\":0.5},\"mode\":\"lines\",\"name\":\"Outside_range_Dry_PROPHET\",\"showlegend\":false,\"type\":\"scatter\",\"x\":[\"2022-07-26T00:00:00\",\"2022-07-26T00:00:00\"],\"y\":[-113737.91195032632,47258.15179535982]},{\"line\":{\"color\":\"#990000\",\"dash\":\"dash\",\"width\":0.5},\"mode\":\"lines\",\"name\":\"Outside_range_Dry_PROPHET\",\"showlegend\":false,\"type\":\"scatter\",\"x\":[\"2022-07-30T00:00:00\",\"2022-07-30T00:00:00\"],\"y\":[-113737.91195032632,47258.15179535982]},{\"line\":{\"color\":\"#990000\",\"dash\":\"dash\",\"width\":0.5},\"mode\":\"lines\",\"name\":\"Outside_range_Dry_PROPHET\",\"showlegend\":false,\"type\":\"scatter\",\"x\":[\"2022-08-02T00:00:00\",\"2022-08-02T00:00:00\"],\"y\":[-113737.91195032632,47258.15179535982]},{\"line\":{\"color\":\"#990000\",\"dash\":\"dash\",\"width\":0.5},\"mode\":\"lines\",\"name\":\"Outside_range_Dry_PROPHET\",\"showlegend\":false,\"type\":\"scatter\",\"x\":[\"2022-08-03T00:00:00\",\"2022-08-03T00:00:00\"],\"y\":[-113737.91195032632,47258.15179535982]},{\"line\":{\"color\":\"#990000\",\"dash\":\"dash\",\"width\":0.5},\"mode\":\"lines\",\"name\":\"Outside_range_Dry_PROPHET\",\"showlegend\":false,\"type\":\"scatter\",\"x\":[\"2022-08-04T00:00:00\",\"2022-08-04T00:00:00\"],\"y\":[-113737.91195032632,47258.15179535982]},{\"line\":{\"color\":\"#990000\",\"dash\":\"dash\",\"width\":0.5},\"mode\":\"lines\",\"name\":\"Outside_range_Dry_PROPHET\",\"showlegend\":false,\"type\":\"scatter\",\"x\":[\"2022-08-06T00:00:00\",\"2022-08-06T00:00:00\"],\"y\":[-113737.91195032632,47258.15179535982]},{\"line\":{\"color\":\"#990000\",\"dash\":\"dash\",\"width\":0.5},\"mode\":\"lines\",\"name\":\"Outside_range_Dry_PROPHET\",\"showlegend\":false,\"type\":\"scatter\",\"x\":[\"2022-08-08T00:00:00\",\"2022-08-08T00:00:00\"],\"y\":[-113737.91195032632,47258.15179535982]},{\"line\":{\"color\":\"#990000\",\"dash\":\"dash\",\"width\":0.5},\"mode\":\"lines\",\"name\":\"Outside_range_Dry_PROPHET\",\"showlegend\":false,\"type\":\"scatter\",\"x\":[\"2022-08-10T00:00:00\",\"2022-08-10T00:00:00\"],\"y\":[-113737.91195032632,47258.15179535982]},{\"line\":{\"color\":\"#990000\",\"dash\":\"dash\",\"width\":0.5},\"mode\":\"lines\",\"name\":\"Outside_range_Dry_PROPHET\",\"showlegend\":false,\"type\":\"scatter\",\"x\":[\"2022-08-12T00:00:00\",\"2022-08-12T00:00:00\"],\"y\":[-113737.91195032632,47258.15179535982]},{\"line\":{\"color\":\"#990000\",\"dash\":\"dash\",\"width\":0.5},\"mode\":\"lines\",\"name\":\"Outside_range_Dry_PROPHET\",\"showlegend\":false,\"type\":\"scatter\",\"x\":[\"2022-08-13T00:00:00\",\"2022-08-13T00:00:00\"],\"y\":[-113737.91195032632,47258.15179535982]},{\"line\":{\"color\":\"#990000\",\"dash\":\"dash\",\"width\":0.5},\"mode\":\"lines\",\"name\":\"Outside_range_Dry_PROPHET\",\"showlegend\":false,\"type\":\"scatter\",\"x\":[\"2022-08-17T00:00:00\",\"2022-08-17T00:00:00\"],\"y\":[-113737.91195032632,47258.15179535982]},{\"line\":{\"color\":\"#990000\",\"dash\":\"dash\",\"width\":0.5},\"mode\":\"lines\",\"name\":\"Outside_range_Dry_PROPHET\",\"showlegend\":false,\"type\":\"scatter\",\"x\":[\"2022-08-18T00:00:00\",\"2022-08-18T00:00:00\"],\"y\":[-113737.91195032632,47258.15179535982]},{\"line\":{\"color\":\"#990000\",\"dash\":\"dash\",\"width\":0.5},\"mode\":\"lines\",\"name\":\"Outside_range_Dry_PROPHET\",\"showlegend\":false,\"type\":\"scatter\",\"x\":[\"2022-08-19T00:00:00\",\"2022-08-19T00:00:00\"],\"y\":[-113737.91195032632,47258.15179535982]},{\"line\":{\"color\":\"#990000\",\"dash\":\"dash\",\"width\":0.5},\"mode\":\"lines\",\"name\":\"Outside_range_Dry_PROPHET\",\"showlegend\":false,\"type\":\"scatter\",\"x\":[\"2022-08-22T00:00:00\",\"2022-08-22T00:00:00\"],\"y\":[-113737.91195032632,47258.15179535982]},{\"line\":{\"color\":\"#990000\",\"dash\":\"dash\",\"width\":0.5},\"mode\":\"lines\",\"name\":\"Outside_range_Dry_PROPHET\",\"showlegend\":false,\"type\":\"scatter\",\"x\":[\"2022-08-25T00:00:00\",\"2022-08-25T00:00:00\"],\"y\":[-113737.91195032632,47258.15179535982]},{\"line\":{\"color\":\"#990000\",\"dash\":\"dash\",\"width\":0.5},\"mode\":\"lines\",\"name\":\"Outside_range_Dry_PROPHET\",\"showlegend\":false,\"type\":\"scatter\",\"x\":[\"2022-08-27T00:00:00\",\"2022-08-27T00:00:00\"],\"y\":[-113737.91195032632,47258.15179535982]},{\"line\":{\"color\":\"#990000\",\"dash\":\"dash\",\"width\":0.5},\"mode\":\"lines\",\"name\":\"Outside_range_Dry_PROPHET\",\"showlegend\":false,\"type\":\"scatter\",\"x\":[\"2022-08-29T00:00:00\",\"2022-08-29T00:00:00\"],\"y\":[-113737.91195032632,47258.15179535982]},{\"line\":{\"color\":\"#990000\",\"dash\":\"dash\",\"width\":0.5},\"mode\":\"lines\",\"name\":\"Outside_range_Dry_PROPHET\",\"showlegend\":false,\"type\":\"scatter\",\"x\":[\"2022-08-30T00:00:00\",\"2022-08-30T00:00:00\"],\"y\":[-113737.91195032632,47258.15179535982]},{\"line\":{\"color\":\"#990000\",\"dash\":\"dash\",\"width\":0.5},\"mode\":\"lines\",\"name\":\"Outside_range_Dry_PROPHET\",\"showlegend\":false,\"type\":\"scatter\",\"x\":[\"2022-08-31T00:00:00\",\"2022-08-31T00:00:00\"],\"y\":[-113737.91195032632,47258.15179535982]},{\"line\":{\"color\":\"#990000\",\"dash\":\"dash\",\"width\":0.5},\"mode\":\"lines\",\"name\":\"Outside_range_Dry_PROPHET\",\"showlegend\":false,\"type\":\"scatter\",\"x\":[\"2022-09-01T00:00:00\",\"2022-09-01T00:00:00\"],\"y\":[-113737.91195032632,47258.15179535982]},{\"line\":{\"color\":\"#990000\",\"dash\":\"dash\",\"width\":0.5},\"mode\":\"lines\",\"name\":\"Outside_range_Dry_PROPHET\",\"showlegend\":false,\"type\":\"scatter\",\"x\":[\"2022-09-02T00:00:00\",\"2022-09-02T00:00:00\"],\"y\":[-113737.91195032632,47258.15179535982]},{\"line\":{\"color\":\"#990000\",\"dash\":\"dash\",\"width\":0.5},\"mode\":\"lines\",\"name\":\"Outside_range_Dry_PROPHET\",\"showlegend\":false,\"type\":\"scatter\",\"x\":[\"2022-09-06T00:00:00\",\"2022-09-06T00:00:00\"],\"y\":[-113737.91195032632,47258.15179535982]},{\"line\":{\"color\":\"#990000\",\"dash\":\"dash\",\"width\":0.5},\"mode\":\"lines\",\"name\":\"Outside_range_Dry_PROPHET\",\"showlegend\":false,\"type\":\"scatter\",\"x\":[\"2022-09-08T00:00:00\",\"2022-09-08T00:00:00\"],\"y\":[-113737.91195032632,47258.15179535982]},{\"line\":{\"color\":\"#990000\",\"dash\":\"dash\",\"width\":0.5},\"mode\":\"lines\",\"name\":\"Outside_range_Dry_PROPHET\",\"showlegend\":false,\"type\":\"scatter\",\"x\":[\"2022-09-09T00:00:00\",\"2022-09-09T00:00:00\"],\"y\":[-113737.91195032632,47258.15179535982]},{\"line\":{\"color\":\"#990000\",\"dash\":\"dash\",\"width\":0.5},\"mode\":\"lines\",\"name\":\"Outside_range_Dry_PROPHET\",\"showlegend\":false,\"type\":\"scatter\",\"x\":[\"2022-09-10T00:00:00\",\"2022-09-10T00:00:00\"],\"y\":[-113737.91195032632,47258.15179535982]},{\"line\":{\"color\":\"#990000\",\"dash\":\"dash\",\"width\":0.5},\"mode\":\"lines\",\"name\":\"Outside_range_Dry_PROPHET\",\"showlegend\":false,\"type\":\"scatter\",\"x\":[\"2022-09-12T00:00:00\",\"2022-09-12T00:00:00\"],\"y\":[-113737.91195032632,47258.15179535982]},{\"line\":{\"color\":\"#990000\",\"dash\":\"dash\",\"width\":0.5},\"mode\":\"lines\",\"name\":\"Outside_range_Dry_PROPHET\",\"showlegend\":false,\"type\":\"scatter\",\"x\":[\"2022-09-13T00:00:00\",\"2022-09-13T00:00:00\"],\"y\":[-113737.91195032632,47258.15179535982]},{\"line\":{\"color\":\"#990000\",\"dash\":\"dash\",\"width\":0.5},\"mode\":\"lines\",\"name\":\"Outside_range_Dry_PROPHET\",\"showlegend\":false,\"type\":\"scatter\",\"x\":[\"2022-09-14T00:00:00\",\"2022-09-14T00:00:00\"],\"y\":[-113737.91195032632,47258.15179535982]},{\"line\":{\"color\":\"#990000\",\"dash\":\"dash\",\"width\":0.5},\"mode\":\"lines\",\"name\":\"Outside_range_Dry_PROPHET\",\"showlegend\":false,\"type\":\"scatter\",\"x\":[\"2022-09-15T00:00:00\",\"2022-09-15T00:00:00\"],\"y\":[-113737.91195032632,47258.15179535982]},{\"line\":{\"color\":\"#990000\",\"dash\":\"dash\",\"width\":0.5},\"mode\":\"lines\",\"name\":\"Outside_range_Dry_PROPHET\",\"showlegend\":false,\"type\":\"scatter\",\"x\":[\"2022-09-16T00:00:00\",\"2022-09-16T00:00:00\"],\"y\":[-113737.91195032632,47258.15179535982]},{\"line\":{\"color\":\"#990000\",\"dash\":\"dash\",\"width\":0.5},\"mode\":\"lines\",\"name\":\"Outside_range_Dry_PROPHET\",\"showlegend\":false,\"type\":\"scatter\",\"x\":[\"2022-09-19T00:00:00\",\"2022-09-19T00:00:00\"],\"y\":[-113737.91195032632,47258.15179535982]},{\"line\":{\"color\":\"#990000\",\"dash\":\"dash\",\"width\":0.5},\"mode\":\"lines\",\"name\":\"Outside_range_Dry_PROPHET\",\"showlegend\":false,\"type\":\"scatter\",\"x\":[\"2022-09-20T00:00:00\",\"2022-09-20T00:00:00\"],\"y\":[-113737.91195032632,47258.15179535982]},{\"line\":{\"color\":\"#990000\",\"dash\":\"dash\",\"width\":0.5},\"mode\":\"lines\",\"name\":\"Outside_range_Dry_PROPHET\",\"showlegend\":false,\"type\":\"scatter\",\"x\":[\"2022-09-21T00:00:00\",\"2022-09-21T00:00:00\"],\"y\":[-113737.91195032632,47258.15179535982]},{\"line\":{\"color\":\"#990000\",\"dash\":\"dash\",\"width\":0.5},\"mode\":\"lines\",\"name\":\"Outside_range_Dry_PROPHET\",\"showlegend\":false,\"type\":\"scatter\",\"x\":[\"2022-09-22T00:00:00\",\"2022-09-22T00:00:00\"],\"y\":[-113737.91195032632,47258.15179535982]},{\"line\":{\"color\":\"#990000\",\"dash\":\"dash\",\"width\":0.5},\"mode\":\"lines\",\"name\":\"Outside_range_Dry_PROPHET\",\"showlegend\":false,\"type\":\"scatter\",\"x\":[\"2022-09-23T00:00:00\",\"2022-09-23T00:00:00\"],\"y\":[-113737.91195032632,47258.15179535982]},{\"line\":{\"color\":\"#990000\",\"dash\":\"dash\",\"width\":0.5},\"mode\":\"lines\",\"name\":\"Outside_range_Dry_PROPHET\",\"showlegend\":false,\"type\":\"scatter\",\"x\":[\"2022-09-24T00:00:00\",\"2022-09-24T00:00:00\"],\"y\":[-113737.91195032632,47258.15179535982]},{\"line\":{\"color\":\"#990000\",\"dash\":\"dash\",\"width\":0.5},\"mode\":\"lines\",\"name\":\"Outside_range_Dry_PROPHET\",\"showlegend\":false,\"type\":\"scatter\",\"x\":[\"2022-09-26T00:00:00\",\"2022-09-26T00:00:00\"],\"y\":[-113737.91195032632,47258.15179535982]},{\"line\":{\"color\":\"#990000\",\"dash\":\"dash\",\"width\":0.5},\"mode\":\"lines\",\"name\":\"Outside_range_Dry_PROPHET\",\"showlegend\":false,\"type\":\"scatter\",\"x\":[\"2022-09-27T00:00:00\",\"2022-09-27T00:00:00\"],\"y\":[-113737.91195032632,47258.15179535982]},{\"line\":{\"color\":\"#990000\",\"dash\":\"dash\",\"width\":0.5},\"mode\":\"lines\",\"name\":\"Outside_range_Dry_PROPHET\",\"showlegend\":false,\"type\":\"scatter\",\"x\":[\"2022-09-29T00:00:00\",\"2022-09-29T00:00:00\"],\"y\":[-113737.91195032632,47258.15179535982]},{\"line\":{\"color\":\"#990000\",\"dash\":\"dash\",\"width\":0.5},\"mode\":\"lines\",\"name\":\"Outside_range_Dry_PROPHET\",\"showlegend\":false,\"type\":\"scatter\",\"x\":[\"2022-09-30T00:00:00\",\"2022-09-30T00:00:00\"],\"y\":[-113737.91195032632,47258.15179535982]},{\"line\":{\"color\":\"#990000\",\"dash\":\"dash\",\"width\":0.5},\"mode\":\"lines\",\"name\":\"Outside_range_Dry_PROPHET\",\"showlegend\":false,\"type\":\"scatter\",\"x\":[\"2022-10-06T00:00:00\",\"2022-10-06T00:00:00\"],\"y\":[-113737.91195032632,47258.15179535982]},{\"line\":{\"color\":\"#990000\",\"dash\":\"dash\",\"width\":0.5},\"mode\":\"lines\",\"name\":\"Outside_range_Dry_PROPHET\",\"showlegend\":false,\"type\":\"scatter\",\"x\":[\"2022-10-21T00:00:00\",\"2022-10-21T00:00:00\"],\"y\":[-113737.91195032632,47258.15179535982]},{\"line\":{\"color\":\"#990000\",\"dash\":\"dash\",\"width\":0.5},\"mode\":\"lines\",\"name\":\"Outside_range_Dry_PROPHET\",\"showlegend\":false,\"type\":\"scatter\",\"x\":[\"2022-10-24T00:00:00\",\"2022-10-24T00:00:00\"],\"y\":[-113737.91195032632,47258.15179535982]},{\"line\":{\"color\":\"#990000\",\"dash\":\"dash\",\"width\":0.5},\"mode\":\"lines\",\"name\":\"Outside_range_Dry_PROPHET\",\"showlegend\":false,\"type\":\"scatter\",\"x\":[\"2022-10-25T00:00:00\",\"2022-10-25T00:00:00\"],\"y\":[-113737.91195032632,47258.15179535982]},{\"line\":{\"color\":\"#990000\",\"dash\":\"dash\",\"width\":0.5},\"mode\":\"lines\",\"name\":\"Outside_range_Dry_PROPHET\",\"showlegend\":false,\"type\":\"scatter\",\"x\":[\"2022-10-26T00:00:00\",\"2022-10-26T00:00:00\"],\"y\":[-113737.91195032632,47258.15179535982]},{\"line\":{\"color\":\"#990000\",\"dash\":\"dash\",\"width\":0.5},\"mode\":\"lines\",\"name\":\"Outside_range_Dry_PROPHET\",\"showlegend\":false,\"type\":\"scatter\",\"x\":[\"2022-10-27T00:00:00\",\"2022-10-27T00:00:00\"],\"y\":[-113737.91195032632,47258.15179535982]},{\"line\":{\"color\":\"#990000\",\"dash\":\"dash\",\"width\":0.5},\"mode\":\"lines\",\"name\":\"Outside_range_Dry_PROPHET\",\"showlegend\":false,\"type\":\"scatter\",\"x\":[\"2022-11-02T00:00:00\",\"2022-11-02T00:00:00\"],\"y\":[-113737.91195032632,47258.15179535982]},{\"line\":{\"color\":\"#990000\",\"dash\":\"dash\",\"width\":0.5},\"mode\":\"lines\",\"name\":\"Outside_range_Dry_PROPHET\",\"showlegend\":false,\"type\":\"scatter\",\"x\":[\"2022-11-03T00:00:00\",\"2022-11-03T00:00:00\"],\"y\":[-113737.91195032632,47258.15179535982]},{\"line\":{\"color\":\"#990000\",\"dash\":\"dash\",\"width\":0.5},\"mode\":\"lines\",\"name\":\"Outside_range_Dry_PROPHET\",\"showlegend\":false,\"type\":\"scatter\",\"x\":[\"2022-11-04T00:00:00\",\"2022-11-04T00:00:00\"],\"y\":[-113737.91195032632,47258.15179535982]},{\"line\":{\"color\":\"#990000\",\"dash\":\"dash\",\"width\":0.5},\"mode\":\"lines\",\"name\":\"Outside_range_Dry_PROPHET\",\"showlegend\":false,\"type\":\"scatter\",\"x\":[\"2022-11-05T00:00:00\",\"2022-11-05T00:00:00\"],\"y\":[-113737.91195032632,47258.15179535982]},{\"line\":{\"color\":\"#990000\",\"dash\":\"dash\",\"width\":0.5},\"mode\":\"lines\",\"name\":\"Outside_range_Dry_PROPHET\",\"showlegend\":false,\"type\":\"scatter\",\"x\":[\"2022-11-08T00:00:00\",\"2022-11-08T00:00:00\"],\"y\":[-113737.91195032632,47258.15179535982]},{\"line\":{\"color\":\"#990000\",\"dash\":\"dash\",\"width\":0.5},\"mode\":\"lines\",\"name\":\"Outside_range_Dry_PROPHET\",\"showlegend\":false,\"type\":\"scatter\",\"x\":[\"2022-11-09T00:00:00\",\"2022-11-09T00:00:00\"],\"y\":[-113737.91195032632,47258.15179535982]},{\"line\":{\"color\":\"#990000\",\"dash\":\"dash\",\"width\":0.5},\"mode\":\"lines\",\"name\":\"Outside_range_Dry_PROPHET\",\"showlegend\":false,\"type\":\"scatter\",\"x\":[\"2022-11-10T00:00:00\",\"2022-11-10T00:00:00\"],\"y\":[-113737.91195032632,47258.15179535982]},{\"line\":{\"color\":\"#990000\",\"dash\":\"dash\",\"width\":0.5},\"mode\":\"lines\",\"name\":\"Outside_range_Dry_PROPHET\",\"showlegend\":false,\"type\":\"scatter\",\"x\":[\"2022-11-12T00:00:00\",\"2022-11-12T00:00:00\"],\"y\":[-113737.91195032632,47258.15179535982]},{\"line\":{\"color\":\"#990000\",\"dash\":\"dash\",\"width\":0.5},\"mode\":\"lines\",\"name\":\"Outside_range_Dry_PROPHET\",\"showlegend\":false,\"type\":\"scatter\",\"x\":[\"2022-11-14T00:00:00\",\"2022-11-14T00:00:00\"],\"y\":[-113737.91195032632,47258.15179535982]},{\"line\":{\"color\":\"#990000\",\"dash\":\"dash\",\"width\":0.5},\"mode\":\"lines\",\"name\":\"Outside_range_Dry_PROPHET\",\"showlegend\":false,\"type\":\"scatter\",\"x\":[\"2022-11-15T00:00:00\",\"2022-11-15T00:00:00\"],\"y\":[-113737.91195032632,47258.15179535982]},{\"line\":{\"color\":\"#990000\",\"dash\":\"dash\",\"width\":0.5},\"mode\":\"lines\",\"name\":\"Outside_range_Dry_PROPHET\",\"showlegend\":false,\"type\":\"scatter\",\"x\":[\"2022-11-16T00:00:00\",\"2022-11-16T00:00:00\"],\"y\":[-113737.91195032632,47258.15179535982]},{\"line\":{\"color\":\"#990000\",\"dash\":\"dash\",\"width\":0.5},\"mode\":\"lines\",\"name\":\"Outside_range_Dry_PROPHET\",\"showlegend\":false,\"type\":\"scatter\",\"x\":[\"2022-11-17T00:00:00\",\"2022-11-17T00:00:00\"],\"y\":[-113737.91195032632,47258.15179535982]},{\"line\":{\"color\":\"#990000\",\"dash\":\"dash\",\"width\":0.5},\"mode\":\"lines\",\"name\":\"Outside_range_Dry_PROPHET\",\"showlegend\":false,\"type\":\"scatter\",\"x\":[\"2022-11-18T00:00:00\",\"2022-11-18T00:00:00\"],\"y\":[-113737.91195032632,47258.15179535982]},{\"line\":{\"color\":\"#990000\",\"dash\":\"dash\",\"width\":0.5},\"mode\":\"lines\",\"name\":\"Outside_range_Dry_PROPHET\",\"showlegend\":false,\"type\":\"scatter\",\"x\":[\"2022-11-22T00:00:00\",\"2022-11-22T00:00:00\"],\"y\":[-113737.91195032632,47258.15179535982]},{\"line\":{\"color\":\"#990000\",\"dash\":\"dash\",\"width\":0.5},\"mode\":\"lines\",\"name\":\"Outside_range_Dry_PROPHET\",\"showlegend\":false,\"type\":\"scatter\",\"x\":[\"2022-11-24T00:00:00\",\"2022-11-24T00:00:00\"],\"y\":[-113737.91195032632,47258.15179535982]},{\"line\":{\"color\":\"#990000\",\"dash\":\"dash\",\"width\":0.5},\"mode\":\"lines\",\"name\":\"Outside_range_Dry_PROPHET\",\"showlegend\":false,\"type\":\"scatter\",\"x\":[\"2022-11-25T00:00:00\",\"2022-11-25T00:00:00\"],\"y\":[-113737.91195032632,47258.15179535982]},{\"line\":{\"color\":\"#990000\",\"dash\":\"dash\",\"width\":0.5},\"mode\":\"lines\",\"name\":\"Outside_range_Dry_PROPHET\",\"showlegend\":false,\"type\":\"scatter\",\"x\":[\"2022-11-26T00:00:00\",\"2022-11-26T00:00:00\"],\"y\":[-113737.91195032632,47258.15179535982]},{\"line\":{\"color\":\"#990000\",\"dash\":\"dash\",\"width\":0.5},\"mode\":\"lines\",\"name\":\"Outside_range_Dry_PROPHET\",\"showlegend\":false,\"type\":\"scatter\",\"x\":[\"2022-11-28T00:00:00\",\"2022-11-28T00:00:00\"],\"y\":[-113737.91195032632,47258.15179535982]},{\"line\":{\"color\":\"#990000\",\"dash\":\"dash\",\"width\":0.5},\"mode\":\"lines\",\"name\":\"Outside_range_Dry_PROPHET\",\"showlegend\":false,\"type\":\"scatter\",\"x\":[\"2022-12-05T00:00:00\",\"2022-12-05T00:00:00\"],\"y\":[-113737.91195032632,47258.15179535982]},{\"line\":{\"color\":\"#990000\",\"dash\":\"dash\",\"width\":0.5},\"mode\":\"lines\",\"name\":\"Outside_range_Dry_PROPHET\",\"showlegend\":false,\"type\":\"scatter\",\"x\":[\"2022-12-06T00:00:00\",\"2022-12-06T00:00:00\"],\"y\":[-113737.91195032632,47258.15179535982]},{\"line\":{\"color\":\"#990000\",\"dash\":\"dash\",\"width\":0.5},\"mode\":\"lines\",\"name\":\"Outside_range_Dry_PROPHET\",\"showlegend\":false,\"type\":\"scatter\",\"x\":[\"2022-12-07T00:00:00\",\"2022-12-07T00:00:00\"],\"y\":[-113737.91195032632,47258.15179535982]},{\"line\":{\"color\":\"#990000\",\"dash\":\"dash\",\"width\":0.5},\"mode\":\"lines\",\"name\":\"Outside_range_Dry_PROPHET\",\"showlegend\":false,\"type\":\"scatter\",\"x\":[\"2022-12-08T00:00:00\",\"2022-12-08T00:00:00\"],\"y\":[-113737.91195032632,47258.15179535982]},{\"line\":{\"color\":\"#990000\",\"dash\":\"dash\",\"width\":0.5},\"mode\":\"lines\",\"name\":\"Outside_range_Dry_PROPHET\",\"showlegend\":false,\"type\":\"scatter\",\"x\":[\"2022-12-09T00:00:00\",\"2022-12-09T00:00:00\"],\"y\":[-113737.91195032632,47258.15179535982]},{\"line\":{\"color\":\"#990000\",\"dash\":\"dash\",\"width\":0.5},\"mode\":\"lines\",\"name\":\"Outside_range_Dry_PROPHET\",\"showlegend\":false,\"type\":\"scatter\",\"x\":[\"2022-12-10T00:00:00\",\"2022-12-10T00:00:00\"],\"y\":[-113737.91195032632,47258.15179535982]},{\"line\":{\"color\":\"#990000\",\"dash\":\"dash\",\"width\":0.5},\"mode\":\"lines\",\"name\":\"Outside_range_Dry_PROPHET\",\"showlegend\":false,\"type\":\"scatter\",\"x\":[\"2022-12-13T00:00:00\",\"2022-12-13T00:00:00\"],\"y\":[-113737.91195032632,47258.15179535982]},{\"line\":{\"color\":\"#990000\",\"dash\":\"dash\",\"width\":0.5},\"mode\":\"lines\",\"name\":\"Outside_range_Dry_PROPHET\",\"showlegend\":false,\"type\":\"scatter\",\"x\":[\"2022-12-14T00:00:00\",\"2022-12-14T00:00:00\"],\"y\":[-113737.91195032632,47258.15179535982]},{\"line\":{\"color\":\"#990000\",\"dash\":\"dash\",\"width\":0.5},\"mode\":\"lines\",\"name\":\"Outside_range_Dry_PROPHET\",\"showlegend\":false,\"type\":\"scatter\",\"x\":[\"2022-12-15T00:00:00\",\"2022-12-15T00:00:00\"],\"y\":[-113737.91195032632,47258.15179535982]},{\"line\":{\"color\":\"#990000\",\"dash\":\"dash\",\"width\":0.5},\"mode\":\"lines\",\"name\":\"Outside_range_Dry_PROPHET\",\"showlegend\":false,\"type\":\"scatter\",\"x\":[\"2022-12-16T00:00:00\",\"2022-12-16T00:00:00\"],\"y\":[-113737.91195032632,47258.15179535982]},{\"line\":{\"color\":\"#990000\",\"dash\":\"dash\",\"width\":0.5},\"mode\":\"lines\",\"name\":\"Outside_range_Dry_PROPHET\",\"showlegend\":false,\"type\":\"scatter\",\"x\":[\"2022-12-17T00:00:00\",\"2022-12-17T00:00:00\"],\"y\":[-113737.91195032632,47258.15179535982]},{\"line\":{\"color\":\"#990000\",\"dash\":\"dash\",\"width\":0.5},\"mode\":\"lines\",\"name\":\"Outside_range_Dry_PROPHET\",\"showlegend\":false,\"type\":\"scatter\",\"x\":[\"2022-12-19T00:00:00\",\"2022-12-19T00:00:00\"],\"y\":[-113737.91195032632,47258.15179535982]},{\"line\":{\"color\":\"#990000\",\"dash\":\"dash\",\"width\":0.5},\"mode\":\"lines\",\"name\":\"Outside_range_Dry_PROPHET\",\"showlegend\":false,\"type\":\"scatter\",\"x\":[\"2022-12-21T00:00:00\",\"2022-12-21T00:00:00\"],\"y\":[-113737.91195032632,47258.15179535982]},{\"line\":{\"color\":\"#990000\",\"dash\":\"dash\",\"width\":0.5},\"mode\":\"lines\",\"name\":\"Outside_range_Dry_PROPHET\",\"showlegend\":false,\"type\":\"scatter\",\"x\":[\"2022-12-23T00:00:00\",\"2022-12-23T00:00:00\"],\"y\":[-113737.91195032632,47258.15179535982]},{\"line\":{\"color\":\"#990000\",\"dash\":\"dash\",\"width\":0.5},\"mode\":\"lines\",\"name\":\"Outside_range_Dry_PROPHET\",\"showlegend\":false,\"type\":\"scatter\",\"x\":[\"2022-12-24T00:00:00\",\"2022-12-24T00:00:00\"],\"y\":[-113737.91195032632,47258.15179535982]},{\"line\":{\"color\":\"#990000\",\"dash\":\"dash\",\"width\":0.5},\"mode\":\"lines\",\"name\":\"Outside_range_Dry_PROPHET\",\"showlegend\":false,\"type\":\"scatter\",\"x\":[\"2022-12-26T00:00:00\",\"2022-12-26T00:00:00\"],\"y\":[-113737.91195032632,47258.15179535982]},{\"line\":{\"color\":\"#990000\",\"dash\":\"dash\",\"width\":0.5},\"mode\":\"lines\",\"name\":\"Outside_range_Dry_PROPHET\",\"showlegend\":false,\"type\":\"scatter\",\"x\":[\"2022-12-27T00:00:00\",\"2022-12-27T00:00:00\"],\"y\":[-113737.91195032632,47258.15179535982]},{\"line\":{\"color\":\"#990000\",\"dash\":\"dash\",\"width\":0.5},\"mode\":\"lines\",\"name\":\"Outside_range_Dry_PROPHET\",\"showlegend\":false,\"type\":\"scatter\",\"x\":[\"2022-12-28T00:00:00\",\"2022-12-28T00:00:00\"],\"y\":[-113737.91195032632,47258.15179535982]},{\"line\":{\"color\":\"#990000\",\"dash\":\"dash\",\"width\":0.5},\"mode\":\"lines\",\"name\":\"Outside_range_Dry_PROPHET\",\"showlegend\":false,\"type\":\"scatter\",\"x\":[\"2022-12-29T00:00:00\",\"2022-12-29T00:00:00\"],\"y\":[-113737.91195032632,47258.15179535982]},{\"line\":{\"color\":\"#990000\",\"dash\":\"dash\",\"width\":0.5},\"mode\":\"lines\",\"name\":\"Outside_range_Dry_PROPHET\",\"showlegend\":false,\"type\":\"scatter\",\"x\":[\"2022-12-31T00:00:00\",\"2022-12-31T00:00:00\"],\"y\":[-113737.91195032632,47258.15179535982]}],                        {\"template\":{\"data\":{\"bar\":[{\"error_x\":{\"color\":\"#2a3f5f\"},\"error_y\":{\"color\":\"#2a3f5f\"},\"marker\":{\"line\":{\"color\":\"#E5ECF6\",\"width\":0.5},\"pattern\":{\"fillmode\":\"overlay\",\"size\":10,\"solidity\":0.2}},\"type\":\"bar\"}],\"barpolar\":[{\"marker\":{\"line\":{\"color\":\"#E5ECF6\",\"width\":0.5},\"pattern\":{\"fillmode\":\"overlay\",\"size\":10,\"solidity\":0.2}},\"type\":\"barpolar\"}],\"carpet\":[{\"aaxis\":{\"endlinecolor\":\"#2a3f5f\",\"gridcolor\":\"white\",\"linecolor\":\"white\",\"minorgridcolor\":\"white\",\"startlinecolor\":\"#2a3f5f\"},\"baxis\":{\"endlinecolor\":\"#2a3f5f\",\"gridcolor\":\"white\",\"linecolor\":\"white\",\"minorgridcolor\":\"white\",\"startlinecolor\":\"#2a3f5f\"},\"type\":\"carpet\"}],\"choropleth\":[{\"colorbar\":{\"outlinewidth\":0,\"ticks\":\"\"},\"type\":\"choropleth\"}],\"contour\":[{\"colorbar\":{\"outlinewidth\":0,\"ticks\":\"\"},\"colorscale\":[[0.0,\"#0d0887\"],[0.1111111111111111,\"#46039f\"],[0.2222222222222222,\"#7201a8\"],[0.3333333333333333,\"#9c179e\"],[0.4444444444444444,\"#bd3786\"],[0.5555555555555556,\"#d8576b\"],[0.6666666666666666,\"#ed7953\"],[0.7777777777777778,\"#fb9f3a\"],[0.8888888888888888,\"#fdca26\"],[1.0,\"#f0f921\"]],\"type\":\"contour\"}],\"contourcarpet\":[{\"colorbar\":{\"outlinewidth\":0,\"ticks\":\"\"},\"type\":\"contourcarpet\"}],\"heatmap\":[{\"colorbar\":{\"outlinewidth\":0,\"ticks\":\"\"},\"colorscale\":[[0.0,\"#0d0887\"],[0.1111111111111111,\"#46039f\"],[0.2222222222222222,\"#7201a8\"],[0.3333333333333333,\"#9c179e\"],[0.4444444444444444,\"#bd3786\"],[0.5555555555555556,\"#d8576b\"],[0.6666666666666666,\"#ed7953\"],[0.7777777777777778,\"#fb9f3a\"],[0.8888888888888888,\"#fdca26\"],[1.0,\"#f0f921\"]],\"type\":\"heatmap\"}],\"heatmapgl\":[{\"colorbar\":{\"outlinewidth\":0,\"ticks\":\"\"},\"colorscale\":[[0.0,\"#0d0887\"],[0.1111111111111111,\"#46039f\"],[0.2222222222222222,\"#7201a8\"],[0.3333333333333333,\"#9c179e\"],[0.4444444444444444,\"#bd3786\"],[0.5555555555555556,\"#d8576b\"],[0.6666666666666666,\"#ed7953\"],[0.7777777777777778,\"#fb9f3a\"],[0.8888888888888888,\"#fdca26\"],[1.0,\"#f0f921\"]],\"type\":\"heatmapgl\"}],\"histogram\":[{\"marker\":{\"pattern\":{\"fillmode\":\"overlay\",\"size\":10,\"solidity\":0.2}},\"type\":\"histogram\"}],\"histogram2d\":[{\"colorbar\":{\"outlinewidth\":0,\"ticks\":\"\"},\"colorscale\":[[0.0,\"#0d0887\"],[0.1111111111111111,\"#46039f\"],[0.2222222222222222,\"#7201a8\"],[0.3333333333333333,\"#9c179e\"],[0.4444444444444444,\"#bd3786\"],[0.5555555555555556,\"#d8576b\"],[0.6666666666666666,\"#ed7953\"],[0.7777777777777778,\"#fb9f3a\"],[0.8888888888888888,\"#fdca26\"],[1.0,\"#f0f921\"]],\"type\":\"histogram2d\"}],\"histogram2dcontour\":[{\"colorbar\":{\"outlinewidth\":0,\"ticks\":\"\"},\"colorscale\":[[0.0,\"#0d0887\"],[0.1111111111111111,\"#46039f\"],[0.2222222222222222,\"#7201a8\"],[0.3333333333333333,\"#9c179e\"],[0.4444444444444444,\"#bd3786\"],[0.5555555555555556,\"#d8576b\"],[0.6666666666666666,\"#ed7953\"],[0.7777777777777778,\"#fb9f3a\"],[0.8888888888888888,\"#fdca26\"],[1.0,\"#f0f921\"]],\"type\":\"histogram2dcontour\"}],\"mesh3d\":[{\"colorbar\":{\"outlinewidth\":0,\"ticks\":\"\"},\"type\":\"mesh3d\"}],\"parcoords\":[{\"line\":{\"colorbar\":{\"outlinewidth\":0,\"ticks\":\"\"}},\"type\":\"parcoords\"}],\"pie\":[{\"automargin\":true,\"type\":\"pie\"}],\"scatter\":[{\"marker\":{\"colorbar\":{\"outlinewidth\":0,\"ticks\":\"\"}},\"type\":\"scatter\"}],\"scatter3d\":[{\"line\":{\"colorbar\":{\"outlinewidth\":0,\"ticks\":\"\"}},\"marker\":{\"colorbar\":{\"outlinewidth\":0,\"ticks\":\"\"}},\"type\":\"scatter3d\"}],\"scattercarpet\":[{\"marker\":{\"colorbar\":{\"outlinewidth\":0,\"ticks\":\"\"}},\"type\":\"scattercarpet\"}],\"scattergeo\":[{\"marker\":{\"colorbar\":{\"outlinewidth\":0,\"ticks\":\"\"}},\"type\":\"scattergeo\"}],\"scattergl\":[{\"marker\":{\"colorbar\":{\"outlinewidth\":0,\"ticks\":\"\"}},\"type\":\"scattergl\"}],\"scattermapbox\":[{\"marker\":{\"colorbar\":{\"outlinewidth\":0,\"ticks\":\"\"}},\"type\":\"scattermapbox\"}],\"scatterpolar\":[{\"marker\":{\"colorbar\":{\"outlinewidth\":0,\"ticks\":\"\"}},\"type\":\"scatterpolar\"}],\"scatterpolargl\":[{\"marker\":{\"colorbar\":{\"outlinewidth\":0,\"ticks\":\"\"}},\"type\":\"scatterpolargl\"}],\"scatterternary\":[{\"marker\":{\"colorbar\":{\"outlinewidth\":0,\"ticks\":\"\"}},\"type\":\"scatterternary\"}],\"surface\":[{\"colorbar\":{\"outlinewidth\":0,\"ticks\":\"\"},\"colorscale\":[[0.0,\"#0d0887\"],[0.1111111111111111,\"#46039f\"],[0.2222222222222222,\"#7201a8\"],[0.3333333333333333,\"#9c179e\"],[0.4444444444444444,\"#bd3786\"],[0.5555555555555556,\"#d8576b\"],[0.6666666666666666,\"#ed7953\"],[0.7777777777777778,\"#fb9f3a\"],[0.8888888888888888,\"#fdca26\"],[1.0,\"#f0f921\"]],\"type\":\"surface\"}],\"table\":[{\"cells\":{\"fill\":{\"color\":\"#EBF0F8\"},\"line\":{\"color\":\"white\"}},\"header\":{\"fill\":{\"color\":\"#C8D4E3\"},\"line\":{\"color\":\"white\"}},\"type\":\"table\"}]},\"layout\":{\"annotationdefaults\":{\"arrowcolor\":\"#2a3f5f\",\"arrowhead\":0,\"arrowwidth\":1},\"autotypenumbers\":\"strict\",\"coloraxis\":{\"colorbar\":{\"outlinewidth\":0,\"ticks\":\"\"}},\"colorscale\":{\"diverging\":[[0,\"#8e0152\"],[0.1,\"#c51b7d\"],[0.2,\"#de77ae\"],[0.3,\"#f1b6da\"],[0.4,\"#fde0ef\"],[0.5,\"#f7f7f7\"],[0.6,\"#e6f5d0\"],[0.7,\"#b8e186\"],[0.8,\"#7fbc41\"],[0.9,\"#4d9221\"],[1,\"#276419\"]],\"sequential\":[[0.0,\"#0d0887\"],[0.1111111111111111,\"#46039f\"],[0.2222222222222222,\"#7201a8\"],[0.3333333333333333,\"#9c179e\"],[0.4444444444444444,\"#bd3786\"],[0.5555555555555556,\"#d8576b\"],[0.6666666666666666,\"#ed7953\"],[0.7777777777777778,\"#fb9f3a\"],[0.8888888888888888,\"#fdca26\"],[1.0,\"#f0f921\"]],\"sequentialminus\":[[0.0,\"#0d0887\"],[0.1111111111111111,\"#46039f\"],[0.2222222222222222,\"#7201a8\"],[0.3333333333333333,\"#9c179e\"],[0.4444444444444444,\"#bd3786\"],[0.5555555555555556,\"#d8576b\"],[0.6666666666666666,\"#ed7953\"],[0.7777777777777778,\"#fb9f3a\"],[0.8888888888888888,\"#fdca26\"],[1.0,\"#f0f921\"]]},\"colorway\":[\"#636efa\",\"#EF553B\",\"#00cc96\",\"#ab63fa\",\"#FFA15A\",\"#19d3f3\",\"#FF6692\",\"#B6E880\",\"#FF97FF\",\"#FECB52\"],\"font\":{\"color\":\"#2a3f5f\"},\"geo\":{\"bgcolor\":\"white\",\"lakecolor\":\"white\",\"landcolor\":\"#E5ECF6\",\"showlakes\":true,\"showland\":true,\"subunitcolor\":\"white\"},\"hoverlabel\":{\"align\":\"left\"},\"hovermode\":\"closest\",\"mapbox\":{\"style\":\"light\"},\"paper_bgcolor\":\"white\",\"plot_bgcolor\":\"#E5ECF6\",\"polar\":{\"angularaxis\":{\"gridcolor\":\"white\",\"linecolor\":\"white\",\"ticks\":\"\"},\"bgcolor\":\"#E5ECF6\",\"radialaxis\":{\"gridcolor\":\"white\",\"linecolor\":\"white\",\"ticks\":\"\"}},\"scene\":{\"xaxis\":{\"backgroundcolor\":\"#E5ECF6\",\"gridcolor\":\"white\",\"gridwidth\":2,\"linecolor\":\"white\",\"showbackground\":true,\"ticks\":\"\",\"zerolinecolor\":\"white\"},\"yaxis\":{\"backgroundcolor\":\"#E5ECF6\",\"gridcolor\":\"white\",\"gridwidth\":2,\"linecolor\":\"white\",\"showbackground\":true,\"ticks\":\"\",\"zerolinecolor\":\"white\"},\"zaxis\":{\"backgroundcolor\":\"#E5ECF6\",\"gridcolor\":\"white\",\"gridwidth\":2,\"linecolor\":\"white\",\"showbackground\":true,\"ticks\":\"\",\"zerolinecolor\":\"white\"}},\"shapedefaults\":{\"line\":{\"color\":\"#2a3f5f\"}},\"ternary\":{\"aaxis\":{\"gridcolor\":\"white\",\"linecolor\":\"white\",\"ticks\":\"\"},\"baxis\":{\"gridcolor\":\"white\",\"linecolor\":\"white\",\"ticks\":\"\"},\"bgcolor\":\"#E5ECF6\",\"caxis\":{\"gridcolor\":\"white\",\"linecolor\":\"white\",\"ticks\":\"\"}},\"title\":{\"x\":0.05},\"xaxis\":{\"automargin\":true,\"gridcolor\":\"white\",\"linecolor\":\"white\",\"ticks\":\"\",\"title\":{\"standoff\":15},\"zerolinecolor\":\"white\",\"zerolinewidth\":2},\"yaxis\":{\"automargin\":true,\"gridcolor\":\"white\",\"linecolor\":\"white\",\"ticks\":\"\",\"title\":{\"standoff\":15},\"zerolinecolor\":\"white\",\"zerolinewidth\":2}}}},                        {\"responsive\": true}                    )                };                            </script>        </div>\n</body>\n</html>",
       "datasetInfos": [],
       "metadata": {},
       "removedWidgets": [],
       "textData": null,
       "type": "htmlSandbox"
      }
     },
     "output_type": "display_data"
    }
   ],
   "source": [
    "plot_inbound_two_errors(inbound_df=backtest_df_merge, error_col_1='Bias_Dry_WOW', error_col_2= 'Bias_Dry_PROPHET', show_out_of_range=True, date_col='Dates', outside_range_col_1='Outside_range_Dry_WOW', outside_range_col_2='Outside_range_Dry_PROPHET')"
   ]
  },
  {
   "cell_type": "code",
   "execution_count": 0,
   "metadata": {
    "application/vnd.databricks.v1+cell": {
     "cellMetadata": {
      "byteLimit": 2048000,
      "rowLimit": 10000
     },
     "inputWidgets": {},
     "nuid": "8b3c3fe1-204e-4603-9a64-1981bcace074",
     "showTitle": false,
     "title": ""
    }
   },
   "outputs": [
    {
     "output_type": "display_data",
     "data": {
      "text/html": [
       "<html>\n",
       "<head><meta charset=\"utf-8\" /></head>\n",
       "<body>\n",
       "    <div>            <script src=\"https://cdnjs.cloudflare.com/ajax/libs/mathjax/2.7.5/MathJax.js?config=TeX-AMS-MML_SVG\"></script><script type=\"text/javascript\">if (window.MathJax) {MathJax.Hub.Config({SVG: {font: \"STIX-Web\"}});}</script>                <script type=\"text/javascript\">window.PlotlyConfig = {MathJaxConfig: 'local'};</script>\n",
       "        <script src=\"https://cdn.plot.ly/plotly-2.2.0.min.js\"></script>                <div id=\"4084f745-eada-4e7f-9958-173e5cdabfef\" class=\"plotly-graph-div\" style=\"height:100%; width:100%;\"></div>            <script type=\"text/javascript\">                                    window.PLOTLYENV=window.PLOTLYENV || {};                                    if (document.getElementById(\"4084f745-eada-4e7f-9958-173e5cdabfef\")) {                    Plotly.newPlot(                        \"4084f745-eada-4e7f-9958-173e5cdabfef\",                        [{\"line\":{\"color\":\"#0000FF\"},\"name\":\"AbsError_Dry_WOW\",\"showlegend\":true,\"type\":\"scatter\",\"x\":[\"2022-05-10T00:00:00\",\"2022-05-11T00:00:00\",\"2022-05-12T00:00:00\",\"2022-05-13T00:00:00\",\"2022-05-14T00:00:00\",\"2022-05-16T00:00:00\",\"2022-05-17T00:00:00\",\"2022-05-18T00:00:00\",\"2022-05-19T00:00:00\",\"2022-05-20T00:00:00\",\"2022-05-23T00:00:00\",\"2022-05-24T00:00:00\",\"2022-05-25T00:00:00\",\"2022-05-27T00:00:00\",\"2022-05-30T00:00:00\",\"2022-05-31T00:00:00\",\"2022-06-01T00:00:00\",\"2022-06-02T00:00:00\",\"2022-06-03T00:00:00\",\"2022-06-04T00:00:00\",\"2022-06-07T00:00:00\",\"2022-06-08T00:00:00\",\"2022-06-09T00:00:00\",\"2022-06-10T00:00:00\",\"2022-06-11T00:00:00\",\"2022-06-13T00:00:00\",\"2022-06-14T00:00:00\",\"2022-06-15T00:00:00\",\"2022-06-16T00:00:00\",\"2022-06-17T00:00:00\",\"2022-06-18T00:00:00\",\"2022-06-20T00:00:00\",\"2022-06-21T00:00:00\",\"2022-06-22T00:00:00\",\"2022-06-23T00:00:00\",\"2022-06-24T00:00:00\",\"2022-06-25T00:00:00\",\"2022-06-27T00:00:00\",\"2022-06-28T00:00:00\",\"2022-06-29T00:00:00\",\"2022-06-30T00:00:00\",\"2022-07-01T00:00:00\",\"2022-07-02T00:00:00\",\"2022-07-04T00:00:00\",\"2022-07-05T00:00:00\",\"2022-07-06T00:00:00\",\"2022-07-07T00:00:00\",\"2022-07-08T00:00:00\",\"2022-07-09T00:00:00\",\"2022-07-11T00:00:00\",\"2022-07-12T00:00:00\",\"2022-07-13T00:00:00\",\"2022-07-14T00:00:00\",\"2022-07-15T00:00:00\",\"2022-07-16T00:00:00\",\"2022-07-18T00:00:00\",\"2022-07-19T00:00:00\",\"2022-07-20T00:00:00\",\"2022-07-22T00:00:00\",\"2022-07-23T00:00:00\",\"2022-07-25T00:00:00\",\"2022-07-26T00:00:00\",\"2022-07-27T00:00:00\",\"2022-07-28T00:00:00\",\"2022-07-29T00:00:00\",\"2022-07-30T00:00:00\",\"2022-08-01T00:00:00\",\"2022-08-02T00:00:00\",\"2022-08-03T00:00:00\",\"2022-08-04T00:00:00\",\"2022-08-05T00:00:00\",\"2022-08-06T00:00:00\",\"2022-08-08T00:00:00\",\"2022-08-09T00:00:00\",\"2022-08-10T00:00:00\",\"2022-08-11T00:00:00\",\"2022-08-12T00:00:00\",\"2022-08-13T00:00:00\",\"2022-08-16T00:00:00\",\"2022-08-17T00:00:00\",\"2022-08-18T00:00:00\",\"2022-08-19T00:00:00\",\"2022-08-22T00:00:00\",\"2022-08-23T00:00:00\",\"2022-08-24T00:00:00\",\"2022-08-25T00:00:00\",\"2022-08-26T00:00:00\",\"2022-08-27T00:00:00\",\"2022-08-29T00:00:00\",\"2022-08-30T00:00:00\",\"2022-08-31T00:00:00\",\"2022-09-01T00:00:00\",\"2022-09-02T00:00:00\",\"2022-09-03T00:00:00\",\"2022-09-05T00:00:00\",\"2022-09-06T00:00:00\",\"2022-09-07T00:00:00\",\"2022-09-08T00:00:00\",\"2022-09-09T00:00:00\",\"2022-09-10T00:00:00\",\"2022-09-12T00:00:00\",\"2022-09-13T00:00:00\",\"2022-09-14T00:00:00\",\"2022-09-15T00:00:00\",\"2022-09-16T00:00:00\",\"2022-09-17T00:00:00\",\"2022-09-19T00:00:00\",\"2022-09-20T00:00:00\",\"2022-09-21T00:00:00\",\"2022-09-22T00:00:00\",\"2022-09-23T00:00:00\",\"2022-09-24T00:00:00\",\"2022-09-26T00:00:00\",\"2022-09-27T00:00:00\",\"2022-09-28T00:00:00\",\"2022-09-29T00:00:00\",\"2022-09-30T00:00:00\",\"2022-10-01T00:00:00\",\"2022-10-03T00:00:00\",\"2022-10-04T00:00:00\",\"2022-10-05T00:00:00\",\"2022-10-06T00:00:00\",\"2022-10-07T00:00:00\",\"2022-10-08T00:00:00\",\"2022-10-10T00:00:00\",\"2022-10-11T00:00:00\",\"2022-10-12T00:00:00\",\"2022-10-13T00:00:00\",\"2022-10-14T00:00:00\",\"2022-10-15T00:00:00\",\"2022-10-17T00:00:00\",\"2022-10-18T00:00:00\",\"2022-10-19T00:00:00\",\"2022-10-20T00:00:00\",\"2022-10-21T00:00:00\",\"2022-10-22T00:00:00\",\"2022-10-24T00:00:00\",\"2022-10-25T00:00:00\",\"2022-10-26T00:00:00\",\"2022-10-27T00:00:00\",\"2022-10-28T00:00:00\",\"2022-10-29T00:00:00\",\"2022-10-31T00:00:00\",\"2022-11-02T00:00:00\",\"2022-11-03T00:00:00\",\"2022-11-04T00:00:00\",\"2022-11-05T00:00:00\",\"2022-11-07T00:00:00\",\"2022-11-08T00:00:00\",\"2022-11-09T00:00:00\",\"2022-11-10T00:00:00\",\"2022-11-12T00:00:00\",\"2022-11-14T00:00:00\",\"2022-11-15T00:00:00\",\"2022-11-16T00:00:00\",\"2022-11-17T00:00:00\",\"2022-11-18T00:00:00\",\"2022-11-19T00:00:00\",\"2022-11-21T00:00:00\",\"2022-11-22T00:00:00\",\"2022-11-23T00:00:00\",\"2022-11-24T00:00:00\",\"2022-11-25T00:00:00\",\"2022-11-26T00:00:00\",\"2022-11-28T00:00:00\",\"2022-11-29T00:00:00\",\"2022-11-30T00:00:00\",\"2022-12-01T00:00:00\",\"2022-12-02T00:00:00\",\"2022-12-03T00:00:00\",\"2022-12-05T00:00:00\",\"2022-12-06T00:00:00\",\"2022-12-07T00:00:00\",\"2022-12-08T00:00:00\",\"2022-12-09T00:00:00\",\"2022-12-10T00:00:00\",\"2022-12-12T00:00:00\",\"2022-12-13T00:00:00\",\"2022-12-14T00:00:00\",\"2022-12-15T00:00:00\",\"2022-12-16T00:00:00\",\"2022-12-17T00:00:00\",\"2022-12-19T00:00:00\",\"2022-12-20T00:00:00\",\"2022-12-21T00:00:00\",\"2022-12-22T00:00:00\",\"2022-12-23T00:00:00\",\"2022-12-24T00:00:00\",\"2022-12-26T00:00:00\",\"2022-12-27T00:00:00\",\"2022-12-28T00:00:00\",\"2022-12-29T00:00:00\",\"2022-12-30T00:00:00\",\"2022-12-31T00:00:00\"],\"y\":[258.7297324605461,14596.213526771855,16271.343564024806,11108.833847380076,17129.948663008094,791.479636002201,1351.4882373940418,15257.83305392805,10725.692723049957,7560.135446805565,17524.065450345573,3302.4675079598164,6512.465627458027,896.2747375456602,21346.695613065735,8633.191845130175,3628.9021111171605,7621.342185646317,8716.990826030771,8173.363611513487,20111.841156252136,3450.3133862100003,679.6808120830246,1093.3016450877185,2800.2996504924813,2892.627435531016,663.3153383782628,758.062786752067,9956.462573692756,8478.610575386308,7163.394445655598,3932.975599623649,138.78612073934346,16851.545877828525,6602.419068696792,9558.475448216836,8851.027327602074,284.84944222372724,13911.268448768933,4436.644374550386,2057.370004981385,4213.704386485675,832.2078413941563,3002.7517919022066,8861.848074670248,9722.946109945704,4271.983298270272,686.0814988853817,2988.0239332666824,7607.600000000006,2477.6399999999994,7599.5,1515.9819198917758,1958.9259999999995,26262.917792435874,9489.700000000012,3187.8799999999974,1813.0,4908.861999999994,2176.858705382794,795.6000000000058,4595.5999999999985,9307.5,9541.340944918862,7109.223999999995,4099.767317041624,4650.559999999998,3530.3039999999964,2530.1200000000026,1820.1100000000006,11134.667999999998,6336.5293976147295,12.279999999998836,539.1999999999971,1010.0400000000009,866.6999999999971,3768.428,6179.204990788632,1364.1759999999995,9379.440000000002,4638.540000000001,19209.068,6852.5,190.67199999999866,4224.559999999998,1022.0899999999965,2211.933999999994,1929.471306547508,2499.199999999997,12378.239999999998,493.1600000000035,5264.470000000001,5851.671999999999,2021.2597355738835,5274.779999999999,1177.4320000000007,4997.399999999994,5627.739999999998,7184.345999999998,1149.90121465017,5930.0,3025.6640000000043,7669.759999999995,15439.029999999999,2163.796000000002,5431.300479802689,5176.0,2879.0,4503.0,14407.0,4.0,8594.0,2241.7000000000116,5049.080000000002,4446.0,6548.1470000000045,3140.3099999999977,8061.182536980181,3592.0499999999884,4764.080000000002,680.0,3464.5440000000017,6239.921999999999,693.9345409652524,53.95000000001164,1083.4000000000087,6188.5,3002.709999999999,1180.3799999999974,886.9138166284902,5404.100000000006,2508.479999999996,4715.5,5055.395000000004,5049.016000000003,5590.743469288012,10750.950000000012,15696.679999999993,3526.0,3924.639000000003,2554.608,7709.25323030819,2580.0,333.5,1525.5699999999997,855.0139999999956,15089.586073831728,10155.649999999994,59204.84,52066.0,12626.047999999995,12772.547759168825,3614.550000000003,3908.4400000000023,1548.5,9929.157999999996,8524.784000000007,9878.118259619223,10702.62000000001,7270.0,5536.239999999991,11479.488999999994,5132.502,4357.073494568205,2866.0,8634.919999999998,1694.1600000000035,978.8710000000137,7222.603999999999,2741.024320233846,8034.0,8127.419999999998,3803.479999999996,2386.028999999995,2789.837999999996,910.6944652820821,3763.0,1100.574999999997,2468.1150000000052,1679.3759999999966,280.62600000000384,19549.04536515723,3475.0,2027.449999999997,17891.380000000005,6982.351999999999,894.2590000000055,32288.676488370707,4577.0,7695.2699999999895,24236.319999999992,20794.34599999999,8915.112000000001,15932.131426049978]},{\"line\":{\"color\":\"#FF0000\"},\"name\":\"AbsError_Dry_PROPHET\",\"showlegend\":true,\"type\":\"scatter\",\"x\":[\"2022-05-10T00:00:00\",\"2022-05-11T00:00:00\",\"2022-05-12T00:00:00\",\"2022-05-13T00:00:00\",\"2022-05-14T00:00:00\",\"2022-05-16T00:00:00\",\"2022-05-17T00:00:00\",\"2022-05-18T00:00:00\",\"2022-05-19T00:00:00\",\"2022-05-20T00:00:00\",\"2022-05-23T00:00:00\",\"2022-05-24T00:00:00\",\"2022-05-25T00:00:00\",\"2022-05-27T00:00:00\",\"2022-05-30T00:00:00\",\"2022-05-31T00:00:00\",\"2022-06-01T00:00:00\",\"2022-06-02T00:00:00\",\"2022-06-03T00:00:00\",\"2022-06-04T00:00:00\",\"2022-06-07T00:00:00\",\"2022-06-08T00:00:00\",\"2022-06-09T00:00:00\",\"2022-06-10T00:00:00\",\"2022-06-11T00:00:00\",\"2022-06-13T00:00:00\",\"2022-06-14T00:00:00\",\"2022-06-15T00:00:00\",\"2022-06-16T00:00:00\",\"2022-06-17T00:00:00\",\"2022-06-18T00:00:00\",\"2022-06-20T00:00:00\",\"2022-06-21T00:00:00\",\"2022-06-22T00:00:00\",\"2022-06-23T00:00:00\",\"2022-06-24T00:00:00\",\"2022-06-25T00:00:00\",\"2022-06-27T00:00:00\",\"2022-06-28T00:00:00\",\"2022-06-29T00:00:00\",\"2022-06-30T00:00:00\",\"2022-07-01T00:00:00\",\"2022-07-02T00:00:00\",\"2022-07-04T00:00:00\",\"2022-07-05T00:00:00\",\"2022-07-06T00:00:00\",\"2022-07-07T00:00:00\",\"2022-07-08T00:00:00\",\"2022-07-09T00:00:00\",\"2022-07-11T00:00:00\",\"2022-07-12T00:00:00\",\"2022-07-13T00:00:00\",\"2022-07-14T00:00:00\",\"2022-07-15T00:00:00\",\"2022-07-16T00:00:00\",\"2022-07-18T00:00:00\",\"2022-07-19T00:00:00\",\"2022-07-20T00:00:00\",\"2022-07-22T00:00:00\",\"2022-07-23T00:00:00\",\"2022-07-25T00:00:00\",\"2022-07-26T00:00:00\",\"2022-07-27T00:00:00\",\"2022-07-28T00:00:00\",\"2022-07-29T00:00:00\",\"2022-07-30T00:00:00\",\"2022-08-01T00:00:00\",\"2022-08-02T00:00:00\",\"2022-08-03T00:00:00\",\"2022-08-04T00:00:00\",\"2022-08-05T00:00:00\",\"2022-08-06T00:00:00\",\"2022-08-08T00:00:00\",\"2022-08-09T00:00:00\",\"2022-08-10T00:00:00\",\"2022-08-11T00:00:00\",\"2022-08-12T00:00:00\",\"2022-08-13T00:00:00\",\"2022-08-16T00:00:00\",\"2022-08-17T00:00:00\",\"2022-08-18T00:00:00\",\"2022-08-19T00:00:00\",\"2022-08-22T00:00:00\",\"2022-08-23T00:00:00\",\"2022-08-24T00:00:00\",\"2022-08-25T00:00:00\",\"2022-08-26T00:00:00\",\"2022-08-27T00:00:00\",\"2022-08-29T00:00:00\",\"2022-08-30T00:00:00\",\"2022-08-31T00:00:00\",\"2022-09-01T00:00:00\",\"2022-09-02T00:00:00\",\"2022-09-03T00:00:00\",\"2022-09-05T00:00:00\",\"2022-09-06T00:00:00\",\"2022-09-07T00:00:00\",\"2022-09-08T00:00:00\",\"2022-09-09T00:00:00\",\"2022-09-10T00:00:00\",\"2022-09-12T00:00:00\",\"2022-09-13T00:00:00\",\"2022-09-14T00:00:00\",\"2022-09-15T00:00:00\",\"2022-09-16T00:00:00\",\"2022-09-17T00:00:00\",\"2022-09-19T00:00:00\",\"2022-09-20T00:00:00\",\"2022-09-21T00:00:00\",\"2022-09-22T00:00:00\",\"2022-09-23T00:00:00\",\"2022-09-24T00:00:00\",\"2022-09-26T00:00:00\",\"2022-09-27T00:00:00\",\"2022-09-28T00:00:00\",\"2022-09-29T00:00:00\",\"2022-09-30T00:00:00\",\"2022-10-01T00:00:00\",\"2022-10-03T00:00:00\",\"2022-10-04T00:00:00\",\"2022-10-05T00:00:00\",\"2022-10-06T00:00:00\",\"2022-10-07T00:00:00\",\"2022-10-08T00:00:00\",\"2022-10-10T00:00:00\",\"2022-10-11T00:00:00\",\"2022-10-12T00:00:00\",\"2022-10-13T00:00:00\",\"2022-10-14T00:00:00\",\"2022-10-15T00:00:00\",\"2022-10-17T00:00:00\",\"2022-10-18T00:00:00\",\"2022-10-19T00:00:00\",\"2022-10-20T00:00:00\",\"2022-10-21T00:00:00\",\"2022-10-22T00:00:00\",\"2022-10-24T00:00:00\",\"2022-10-25T00:00:00\",\"2022-10-26T00:00:00\",\"2022-10-27T00:00:00\",\"2022-10-28T00:00:00\",\"2022-10-29T00:00:00\",\"2022-10-31T00:00:00\",\"2022-11-02T00:00:00\",\"2022-11-03T00:00:00\",\"2022-11-04T00:00:00\",\"2022-11-05T00:00:00\",\"2022-11-07T00:00:00\",\"2022-11-08T00:00:00\",\"2022-11-09T00:00:00\",\"2022-11-10T00:00:00\",\"2022-11-12T00:00:00\",\"2022-11-14T00:00:00\",\"2022-11-15T00:00:00\",\"2022-11-16T00:00:00\",\"2022-11-17T00:00:00\",\"2022-11-18T00:00:00\",\"2022-11-19T00:00:00\",\"2022-11-21T00:00:00\",\"2022-11-22T00:00:00\",\"2022-11-23T00:00:00\",\"2022-11-24T00:00:00\",\"2022-11-25T00:00:00\",\"2022-11-26T00:00:00\",\"2022-11-28T00:00:00\",\"2022-11-29T00:00:00\",\"2022-11-30T00:00:00\",\"2022-12-01T00:00:00\",\"2022-12-02T00:00:00\",\"2022-12-03T00:00:00\",\"2022-12-05T00:00:00\",\"2022-12-06T00:00:00\",\"2022-12-07T00:00:00\",\"2022-12-08T00:00:00\",\"2022-12-09T00:00:00\",\"2022-12-10T00:00:00\",\"2022-12-12T00:00:00\",\"2022-12-13T00:00:00\",\"2022-12-14T00:00:00\",\"2022-12-15T00:00:00\",\"2022-12-16T00:00:00\",\"2022-12-17T00:00:00\",\"2022-12-19T00:00:00\",\"2022-12-20T00:00:00\",\"2022-12-21T00:00:00\",\"2022-12-22T00:00:00\",\"2022-12-23T00:00:00\",\"2022-12-24T00:00:00\",\"2022-12-26T00:00:00\",\"2022-12-27T00:00:00\",\"2022-12-28T00:00:00\",\"2022-12-29T00:00:00\",\"2022-12-30T00:00:00\",\"2022-12-31T00:00:00\"],\"y\":[9375.758080716128,11291.560348468323,5809.083171740538,9537.41105785143,30757.793754807317,919.8473188117205,12235.708791081823,15760.200668581965,4316.765556303246,8839.736473382116,10049.100442082301,25198.96918221563,9666.581908642314,6622.11415943232,14326.184963253952,9199.38996946295,4050.5011767108663,4003.803284934562,9911.005716814521,29766.838321107163,37884.075160566994,1086.7626465331487,12361.194273501693,5197.2756027243595,27251.265065658183,2937.691845846377,4730.210225410716,14087.289433991711,9381.127447740582,16318.587260904023,32417.67350140548,11138.851945696966,3253.1183814747783,8522.94198113933,17658.82873750203,11696.848270099741,6921.977817289786,13077.478414605634,6412.425927294331,63.149787049645965,4349.017243087495,3856.3792717023825,13699.345247564095,18964.820304693043,524.668693617612,9858.177134425925,5129.689312622642,7881.885529014813,5126.54823025754,27526.9084637044,11028.777684297165,2629.1479705616875,3144.580951780401,11409.884904017286,20785.290978901598,32486.47269532914,14355.824403227627,7289.363179020715,5176.999679126042,6419.658463638552,17511.53600114504,5543.136245776397,2811.8270201954438,2822.7874932279665,1396.0356547551346,10581.52230779759,304.93145746571827,5941.234654967448,5914.324350394636,5746.121627202643,654.3633345916023,15298.981882151638,19993.427118394757,3795.1515606609464,4973.414963769901,2831.3893860181415,7842.001819804951,16383.980146087739,2033.869456567627,16760.57064018445,7556.954590184236,15493.01235539977,50911.14246003149,365.79926682478253,4888.086066332384,4930.046280172668,438.1281986138056,17646.93347063304,42992.19913215624,12917.31097087889,16315.722123018772,13782.186115658216,11842.395786741006,3692.298400373671,7788.209706705966,8957.893524002473,1145.7924541456596,8655.51161897568,12838.035791621718,7081.397128755067,48719.96123141647,13850.569616685534,6430.783498381177,19399.09898408698,14405.574455647919,2622.3512814260757,21923.303909162583,12193.349769598193,7800.296891730031,22186.877438114694,20069.565320320136,11179.406741676277,22756.59573166314,17709.19605241416,3249.441968903484,5270.923943652742,13961.86533647227,5541.2904723238535,2402.0836714640463,962.976861480216,6450.408363910923,6751.297466347998,3417.7237439446617,2247.751409266355,2130.8143567692023,577.1984554626688,2106.550856019334,187.58087324540247,5319.9747046663615,5910.642246698488,1197.2575776712329,2772.0015221255744,2017.053348599009,4214.480021171221,12022.252686615058,948.507778173589,12541.473560612823,9358.683064875178,6291.327813377713,8781.09009693592,1503.891291790249,4356.760377861021,53.826248678786214,55911.99890998841,6387.870384238624,34626.901679636154,11107.063448711422,8269.628407627752,113737.91195032632,47258.15179535982,35665.66081536033,19879.334198828044,11237.71481649563,9000.677984607653,14162.463597335838,22695.44078414995,11913.627649987073,1297.8967508657151,34.49959614450927,11962.970984005893,2100.8968204812118,6176.625469874591,10052.47579600307,8132.5592759174615,52047.11661362619,6217.753100886883,6339.4845558426605,5802.632248960152,5088.199834986823,4028.6663879267508,10267.71333801403,12746.904564068798,15302.092838810451,14652.473535140249,17818.775790324464,10180.797938537115,1834.5786295494763,9461.529988972878,6786.168519930565,6209.821331900552,8660.56223742936,21970.884951053747,34631.188445554566,6307.274552674309,16450.522586905863,3705.1903542497166,8029.955008356446,27282.161376844568,33305.249962810194,21604.1181709051,30199.49570338655,29138.71780998104,4248.3142116292,22614.70382187578]},{\"line\":{\"color\":\"#000099\",\"dash\":\"dash\",\"width\":0.5},\"mode\":\"lines\",\"name\":\"Outside_range_Dry_WOW\",\"showlegend\":true,\"type\":\"scatter\",\"x\":[\"2022-05-11T00:00:00\",\"2022-05-11T00:00:00\"],\"y\":[4.0,59204.84]},{\"line\":{\"color\":\"#000099\",\"dash\":\"dash\",\"width\":0.5},\"mode\":\"lines\",\"name\":\"Outside_range_Dry_WOW\",\"showlegend\":false,\"type\":\"scatter\",\"x\":[\"2022-05-12T00:00:00\",\"2022-05-12T00:00:00\"],\"y\":[4.0,59204.84]},{\"line\":{\"color\":\"#000099\",\"dash\":\"dash\",\"width\":0.5},\"mode\":\"lines\",\"name\":\"Outside_range_Dry_WOW\",\"showlegend\":false,\"type\":\"scatter\",\"x\":[\"2022-05-13T00:00:00\",\"2022-05-13T00:00:00\"],\"y\":[4.0,59204.84]},{\"line\":{\"color\":\"#000099\",\"dash\":\"dash\",\"width\":0.5},\"mode\":\"lines\",\"name\":\"Outside_range_Dry_WOW\",\"showlegend\":false,\"type\":\"scatter\",\"x\":[\"2022-05-14T00:00:00\",\"2022-05-14T00:00:00\"],\"y\":[4.0,59204.84]},{\"line\":{\"color\":\"#000099\",\"dash\":\"dash\",\"width\":0.5},\"mode\":\"lines\",\"name\":\"Outside_range_Dry_WOW\",\"showlegend\":false,\"type\":\"scatter\",\"x\":[\"2022-05-18T00:00:00\",\"2022-05-18T00:00:00\"],\"y\":[4.0,59204.84]},{\"line\":{\"color\":\"#000099\",\"dash\":\"dash\",\"width\":0.5},\"mode\":\"lines\",\"name\":\"Outside_range_Dry_WOW\",\"showlegend\":false,\"type\":\"scatter\",\"x\":[\"2022-05-19T00:00:00\",\"2022-05-19T00:00:00\"],\"y\":[4.0,59204.84]},{\"line\":{\"color\":\"#000099\",\"dash\":\"dash\",\"width\":0.5},\"mode\":\"lines\",\"name\":\"Outside_range_Dry_WOW\",\"showlegend\":false,\"type\":\"scatter\",\"x\":[\"2022-05-20T00:00:00\",\"2022-05-20T00:00:00\"],\"y\":[4.0,59204.84]},{\"line\":{\"color\":\"#000099\",\"dash\":\"dash\",\"width\":0.5},\"mode\":\"lines\",\"name\":\"Outside_range_Dry_WOW\",\"showlegend\":false,\"type\":\"scatter\",\"x\":[\"2022-05-23T00:00:00\",\"2022-05-23T00:00:00\"],\"y\":[4.0,59204.84]},{\"line\":{\"color\":\"#000099\",\"dash\":\"dash\",\"width\":0.5},\"mode\":\"lines\",\"name\":\"Outside_range_Dry_WOW\",\"showlegend\":false,\"type\":\"scatter\",\"x\":[\"2022-05-25T00:00:00\",\"2022-05-25T00:00:00\"],\"y\":[4.0,59204.84]},{\"line\":{\"color\":\"#000099\",\"dash\":\"dash\",\"width\":0.5},\"mode\":\"lines\",\"name\":\"Outside_range_Dry_WOW\",\"showlegend\":false,\"type\":\"scatter\",\"x\":[\"2022-05-30T00:00:00\",\"2022-05-30T00:00:00\"],\"y\":[4.0,59204.84]},{\"line\":{\"color\":\"#000099\",\"dash\":\"dash\",\"width\":0.5},\"mode\":\"lines\",\"name\":\"Outside_range_Dry_WOW\",\"showlegend\":false,\"type\":\"scatter\",\"x\":[\"2022-05-31T00:00:00\",\"2022-05-31T00:00:00\"],\"y\":[4.0,59204.84]},{\"line\":{\"color\":\"#000099\",\"dash\":\"dash\",\"width\":0.5},\"mode\":\"lines\",\"name\":\"Outside_range_Dry_WOW\",\"showlegend\":false,\"type\":\"scatter\",\"x\":[\"2022-06-02T00:00:00\",\"2022-06-02T00:00:00\"],\"y\":[4.0,59204.84]},{\"line\":{\"color\":\"#000099\",\"dash\":\"dash\",\"width\":0.5},\"mode\":\"lines\",\"name\":\"Outside_range_Dry_WOW\",\"showlegend\":false,\"type\":\"scatter\",\"x\":[\"2022-06-03T00:00:00\",\"2022-06-03T00:00:00\"],\"y\":[4.0,59204.84]},{\"line\":{\"color\":\"#000099\",\"dash\":\"dash\",\"width\":0.5},\"mode\":\"lines\",\"name\":\"Outside_range_Dry_WOW\",\"showlegend\":false,\"type\":\"scatter\",\"x\":[\"2022-06-04T00:00:00\",\"2022-06-04T00:00:00\"],\"y\":[4.0,59204.84]},{\"line\":{\"color\":\"#000099\",\"dash\":\"dash\",\"width\":0.5},\"mode\":\"lines\",\"name\":\"Outside_range_Dry_WOW\",\"showlegend\":false,\"type\":\"scatter\",\"x\":[\"2022-06-07T00:00:00\",\"2022-06-07T00:00:00\"],\"y\":[4.0,59204.84]},{\"line\":{\"color\":\"#000099\",\"dash\":\"dash\",\"width\":0.5},\"mode\":\"lines\",\"name\":\"Outside_range_Dry_WOW\",\"showlegend\":false,\"type\":\"scatter\",\"x\":[\"2022-06-16T00:00:00\",\"2022-06-16T00:00:00\"],\"y\":[4.0,59204.84]},{\"line\":{\"color\":\"#000099\",\"dash\":\"dash\",\"width\":0.5},\"mode\":\"lines\",\"name\":\"Outside_range_Dry_WOW\",\"showlegend\":false,\"type\":\"scatter\",\"x\":[\"2022-06-17T00:00:00\",\"2022-06-17T00:00:00\"],\"y\":[4.0,59204.84]},{\"line\":{\"color\":\"#000099\",\"dash\":\"dash\",\"width\":0.5},\"mode\":\"lines\",\"name\":\"Outside_range_Dry_WOW\",\"showlegend\":false,\"type\":\"scatter\",\"x\":[\"2022-06-18T00:00:00\",\"2022-06-18T00:00:00\"],\"y\":[4.0,59204.84]},{\"line\":{\"color\":\"#000099\",\"dash\":\"dash\",\"width\":0.5},\"mode\":\"lines\",\"name\":\"Outside_range_Dry_WOW\",\"showlegend\":false,\"type\":\"scatter\",\"x\":[\"2022-06-22T00:00:00\",\"2022-06-22T00:00:00\"],\"y\":[4.0,59204.84]},{\"line\":{\"color\":\"#000099\",\"dash\":\"dash\",\"width\":0.5},\"mode\":\"lines\",\"name\":\"Outside_range_Dry_WOW\",\"showlegend\":false,\"type\":\"scatter\",\"x\":[\"2022-06-23T00:00:00\",\"2022-06-23T00:00:00\"],\"y\":[4.0,59204.84]},{\"line\":{\"color\":\"#000099\",\"dash\":\"dash\",\"width\":0.5},\"mode\":\"lines\",\"name\":\"Outside_range_Dry_WOW\",\"showlegend\":false,\"type\":\"scatter\",\"x\":[\"2022-06-24T00:00:00\",\"2022-06-24T00:00:00\"],\"y\":[4.0,59204.84]},{\"line\":{\"color\":\"#000099\",\"dash\":\"dash\",\"width\":0.5},\"mode\":\"lines\",\"name\":\"Outside_range_Dry_WOW\",\"showlegend\":false,\"type\":\"scatter\",\"x\":[\"2022-06-25T00:00:00\",\"2022-06-25T00:00:00\"],\"y\":[4.0,59204.84]},{\"line\":{\"color\":\"#000099\",\"dash\":\"dash\",\"width\":0.5},\"mode\":\"lines\",\"name\":\"Outside_range_Dry_WOW\",\"showlegend\":false,\"type\":\"scatter\",\"x\":[\"2022-06-28T00:00:00\",\"2022-06-28T00:00:00\"],\"y\":[4.0,59204.84]},{\"line\":{\"color\":\"#000099\",\"dash\":\"dash\",\"width\":0.5},\"mode\":\"lines\",\"name\":\"Outside_range_Dry_WOW\",\"showlegend\":false,\"type\":\"scatter\",\"x\":[\"2022-07-05T00:00:00\",\"2022-07-05T00:00:00\"],\"y\":[4.0,59204.84]},{\"line\":{\"color\":\"#000099\",\"dash\":\"dash\",\"width\":0.5},\"mode\":\"lines\",\"name\":\"Outside_range_Dry_WOW\",\"showlegend\":false,\"type\":\"scatter\",\"x\":[\"2022-07-06T00:00:00\",\"2022-07-06T00:00:00\"],\"y\":[4.0,59204.84]},{\"line\":{\"color\":\"#000099\",\"dash\":\"dash\",\"width\":0.5},\"mode\":\"lines\",\"name\":\"Outside_range_Dry_WOW\",\"showlegend\":false,\"type\":\"scatter\",\"x\":[\"2022-07-07T00:00:00\",\"2022-07-07T00:00:00\"],\"y\":[4.0,59204.84]},{\"line\":{\"color\":\"#000099\",\"dash\":\"dash\",\"width\":0.5},\"mode\":\"lines\",\"name\":\"Outside_range_Dry_WOW\",\"showlegend\":false,\"type\":\"scatter\",\"x\":[\"2022-07-11T00:00:00\",\"2022-07-11T00:00:00\"],\"y\":[4.0,59204.84]},{\"line\":{\"color\":\"#000099\",\"dash\":\"dash\",\"width\":0.5},\"mode\":\"lines\",\"name\":\"Outside_range_Dry_WOW\",\"showlegend\":false,\"type\":\"scatter\",\"x\":[\"2022-07-13T00:00:00\",\"2022-07-13T00:00:00\"],\"y\":[4.0,59204.84]},{\"line\":{\"color\":\"#000099\",\"dash\":\"dash\",\"width\":0.5},\"mode\":\"lines\",\"name\":\"Outside_range_Dry_WOW\",\"showlegend\":false,\"type\":\"scatter\",\"x\":[\"2022-07-16T00:00:00\",\"2022-07-16T00:00:00\"],\"y\":[4.0,59204.84]},{\"line\":{\"color\":\"#000099\",\"dash\":\"dash\",\"width\":0.5},\"mode\":\"lines\",\"name\":\"Outside_range_Dry_WOW\",\"showlegend\":false,\"type\":\"scatter\",\"x\":[\"2022-07-18T00:00:00\",\"2022-07-18T00:00:00\"],\"y\":[4.0,59204.84]},{\"line\":{\"color\":\"#000099\",\"dash\":\"dash\",\"width\":0.5},\"mode\":\"lines\",\"name\":\"Outside_range_Dry_WOW\",\"showlegend\":false,\"type\":\"scatter\",\"x\":[\"2022-07-22T00:00:00\",\"2022-07-22T00:00:00\"],\"y\":[4.0,59204.84]},{\"line\":{\"color\":\"#000099\",\"dash\":\"dash\",\"width\":0.5},\"mode\":\"lines\",\"name\":\"Outside_range_Dry_WOW\",\"showlegend\":false,\"type\":\"scatter\",\"x\":[\"2022-07-27T00:00:00\",\"2022-07-27T00:00:00\"],\"y\":[4.0,59204.84]},{\"line\":{\"color\":\"#000099\",\"dash\":\"dash\",\"width\":0.5},\"mode\":\"lines\",\"name\":\"Outside_range_Dry_WOW\",\"showlegend\":false,\"type\":\"scatter\",\"x\":[\"2022-07-28T00:00:00\",\"2022-07-28T00:00:00\"],\"y\":[4.0,59204.84]},{\"line\":{\"color\":\"#000099\",\"dash\":\"dash\",\"width\":0.5},\"mode\":\"lines\",\"name\":\"Outside_range_Dry_WOW\",\"showlegend\":false,\"type\":\"scatter\",\"x\":[\"2022-07-29T00:00:00\",\"2022-07-29T00:00:00\"],\"y\":[4.0,59204.84]},{\"line\":{\"color\":\"#000099\",\"dash\":\"dash\",\"width\":0.5},\"mode\":\"lines\",\"name\":\"Outside_range_Dry_WOW\",\"showlegend\":false,\"type\":\"scatter\",\"x\":[\"2022-08-05T00:00:00\",\"2022-08-05T00:00:00\"],\"y\":[4.0,59204.84]},{\"line\":{\"color\":\"#000099\",\"dash\":\"dash\",\"width\":0.5},\"mode\":\"lines\",\"name\":\"Outside_range_Dry_WOW\",\"showlegend\":false,\"type\":\"scatter\",\"x\":[\"2022-08-06T00:00:00\",\"2022-08-06T00:00:00\"],\"y\":[4.0,59204.84]},{\"line\":{\"color\":\"#000099\",\"dash\":\"dash\",\"width\":0.5},\"mode\":\"lines\",\"name\":\"Outside_range_Dry_WOW\",\"showlegend\":false,\"type\":\"scatter\",\"x\":[\"2022-08-13T00:00:00\",\"2022-08-13T00:00:00\"],\"y\":[4.0,59204.84]},{\"line\":{\"color\":\"#000099\",\"dash\":\"dash\",\"width\":0.5},\"mode\":\"lines\",\"name\":\"Outside_range_Dry_WOW\",\"showlegend\":false,\"type\":\"scatter\",\"x\":[\"2022-08-17T00:00:00\",\"2022-08-17T00:00:00\"],\"y\":[4.0,59204.84]},{\"line\":{\"color\":\"#000099\",\"dash\":\"dash\",\"width\":0.5},\"mode\":\"lines\",\"name\":\"Outside_range_Dry_WOW\",\"showlegend\":false,\"type\":\"scatter\",\"x\":[\"2022-08-19T00:00:00\",\"2022-08-19T00:00:00\"],\"y\":[4.0,59204.84]},{\"line\":{\"color\":\"#000099\",\"dash\":\"dash\",\"width\":0.5},\"mode\":\"lines\",\"name\":\"Outside_range_Dry_WOW\",\"showlegend\":false,\"type\":\"scatter\",\"x\":[\"2022-08-30T00:00:00\",\"2022-08-30T00:00:00\"],\"y\":[4.0,59204.84]},{\"line\":{\"color\":\"#000099\",\"dash\":\"dash\",\"width\":0.5},\"mode\":\"lines\",\"name\":\"Outside_range_Dry_WOW\",\"showlegend\":false,\"type\":\"scatter\",\"x\":[\"2022-09-01T00:00:00\",\"2022-09-01T00:00:00\"],\"y\":[4.0,59204.84]},{\"line\":{\"color\":\"#000099\",\"dash\":\"dash\",\"width\":0.5},\"mode\":\"lines\",\"name\":\"Outside_range_Dry_WOW\",\"showlegend\":false,\"type\":\"scatter\",\"x\":[\"2022-09-02T00:00:00\",\"2022-09-02T00:00:00\"],\"y\":[4.0,59204.84]},{\"line\":{\"color\":\"#000099\",\"dash\":\"dash\",\"width\":0.5},\"mode\":\"lines\",\"name\":\"Outside_range_Dry_WOW\",\"showlegend\":false,\"type\":\"scatter\",\"x\":[\"2022-09-09T00:00:00\",\"2022-09-09T00:00:00\"],\"y\":[4.0,59204.84]},{\"line\":{\"color\":\"#000099\",\"dash\":\"dash\",\"width\":0.5},\"mode\":\"lines\",\"name\":\"Outside_range_Dry_WOW\",\"showlegend\":false,\"type\":\"scatter\",\"x\":[\"2022-09-14T00:00:00\",\"2022-09-14T00:00:00\"],\"y\":[4.0,59204.84]},{\"line\":{\"color\":\"#000099\",\"dash\":\"dash\",\"width\":0.5},\"mode\":\"lines\",\"name\":\"Outside_range_Dry_WOW\",\"showlegend\":false,\"type\":\"scatter\",\"x\":[\"2022-09-15T00:00:00\",\"2022-09-15T00:00:00\"],\"y\":[4.0,59204.84]},{\"line\":{\"color\":\"#000099\",\"dash\":\"dash\",\"width\":0.5},\"mode\":\"lines\",\"name\":\"Outside_range_Dry_WOW\",\"showlegend\":false,\"type\":\"scatter\",\"x\":[\"2022-09-22T00:00:00\",\"2022-09-22T00:00:00\"],\"y\":[4.0,59204.84]},{\"line\":{\"color\":\"#000099\",\"dash\":\"dash\",\"width\":0.5},\"mode\":\"lines\",\"name\":\"Outside_range_Dry_WOW\",\"showlegend\":false,\"type\":\"scatter\",\"x\":[\"2022-09-24T00:00:00\",\"2022-09-24T00:00:00\"],\"y\":[4.0,59204.84]},{\"line\":{\"color\":\"#000099\",\"dash\":\"dash\",\"width\":0.5},\"mode\":\"lines\",\"name\":\"Outside_range_Dry_WOW\",\"showlegend\":false,\"type\":\"scatter\",\"x\":[\"2022-09-29T00:00:00\",\"2022-09-29T00:00:00\"],\"y\":[4.0,59204.84]},{\"line\":{\"color\":\"#000099\",\"dash\":\"dash\",\"width\":0.5},\"mode\":\"lines\",\"name\":\"Outside_range_Dry_WOW\",\"showlegend\":false,\"type\":\"scatter\",\"x\":[\"2022-10-01T00:00:00\",\"2022-10-01T00:00:00\"],\"y\":[4.0,59204.84]},{\"line\":{\"color\":\"#000099\",\"dash\":\"dash\",\"width\":0.5},\"mode\":\"lines\",\"name\":\"Outside_range_Dry_WOW\",\"showlegend\":false,\"type\":\"scatter\",\"x\":[\"2022-10-07T00:00:00\",\"2022-10-07T00:00:00\"],\"y\":[4.0,59204.84]},{\"line\":{\"color\":\"#000099\",\"dash\":\"dash\",\"width\":0.5},\"mode\":\"lines\",\"name\":\"Outside_range_Dry_WOW\",\"showlegend\":false,\"type\":\"scatter\",\"x\":[\"2022-10-12T00:00:00\",\"2022-10-12T00:00:00\"],\"y\":[4.0,59204.84]},{\"line\":{\"color\":\"#000099\",\"dash\":\"dash\",\"width\":0.5},\"mode\":\"lines\",\"name\":\"Outside_range_Dry_WOW\",\"showlegend\":false,\"type\":\"scatter\",\"x\":[\"2022-10-21T00:00:00\",\"2022-10-21T00:00:00\"],\"y\":[4.0,59204.84]},{\"line\":{\"color\":\"#000099\",\"dash\":\"dash\",\"width\":0.5},\"mode\":\"lines\",\"name\":\"Outside_range_Dry_WOW\",\"showlegend\":false,\"type\":\"scatter\",\"x\":[\"2022-10-24T00:00:00\",\"2022-10-24T00:00:00\"],\"y\":[4.0,59204.84]},{\"line\":{\"color\":\"#000099\",\"dash\":\"dash\",\"width\":0.5},\"mode\":\"lines\",\"name\":\"Outside_range_Dry_WOW\",\"showlegend\":false,\"type\":\"scatter\",\"x\":[\"2022-10-25T00:00:00\",\"2022-10-25T00:00:00\"],\"y\":[4.0,59204.84]},{\"line\":{\"color\":\"#000099\",\"dash\":\"dash\",\"width\":0.5},\"mode\":\"lines\",\"name\":\"Outside_range_Dry_WOW\",\"showlegend\":false,\"type\":\"scatter\",\"x\":[\"2022-10-29T00:00:00\",\"2022-10-29T00:00:00\"],\"y\":[4.0,59204.84]},{\"line\":{\"color\":\"#000099\",\"dash\":\"dash\",\"width\":0.5},\"mode\":\"lines\",\"name\":\"Outside_range_Dry_WOW\",\"showlegend\":false,\"type\":\"scatter\",\"x\":[\"2022-11-05T00:00:00\",\"2022-11-05T00:00:00\"],\"y\":[4.0,59204.84]},{\"line\":{\"color\":\"#000099\",\"dash\":\"dash\",\"width\":0.5},\"mode\":\"lines\",\"name\":\"Outside_range_Dry_WOW\",\"showlegend\":false,\"type\":\"scatter\",\"x\":[\"2022-11-07T00:00:00\",\"2022-11-07T00:00:00\"],\"y\":[4.0,59204.84]},{\"line\":{\"color\":\"#000099\",\"dash\":\"dash\",\"width\":0.5},\"mode\":\"lines\",\"name\":\"Outside_range_Dry_WOW\",\"showlegend\":false,\"type\":\"scatter\",\"x\":[\"2022-11-08T00:00:00\",\"2022-11-08T00:00:00\"],\"y\":[4.0,59204.84]},{\"line\":{\"color\":\"#000099\",\"dash\":\"dash\",\"width\":0.5},\"mode\":\"lines\",\"name\":\"Outside_range_Dry_WOW\",\"showlegend\":false,\"type\":\"scatter\",\"x\":[\"2022-11-09T00:00:00\",\"2022-11-09T00:00:00\"],\"y\":[4.0,59204.84]},{\"line\":{\"color\":\"#000099\",\"dash\":\"dash\",\"width\":0.5},\"mode\":\"lines\",\"name\":\"Outside_range_Dry_WOW\",\"showlegend\":false,\"type\":\"scatter\",\"x\":[\"2022-11-10T00:00:00\",\"2022-11-10T00:00:00\"],\"y\":[4.0,59204.84]},{\"line\":{\"color\":\"#000099\",\"dash\":\"dash\",\"width\":0.5},\"mode\":\"lines\",\"name\":\"Outside_range_Dry_WOW\",\"showlegend\":false,\"type\":\"scatter\",\"x\":[\"2022-11-12T00:00:00\",\"2022-11-12T00:00:00\"],\"y\":[4.0,59204.84]},{\"line\":{\"color\":\"#000099\",\"dash\":\"dash\",\"width\":0.5},\"mode\":\"lines\",\"name\":\"Outside_range_Dry_WOW\",\"showlegend\":false,\"type\":\"scatter\",\"x\":[\"2022-11-17T00:00:00\",\"2022-11-17T00:00:00\"],\"y\":[4.0,59204.84]},{\"line\":{\"color\":\"#000099\",\"dash\":\"dash\",\"width\":0.5},\"mode\":\"lines\",\"name\":\"Outside_range_Dry_WOW\",\"showlegend\":false,\"type\":\"scatter\",\"x\":[\"2022-11-18T00:00:00\",\"2022-11-18T00:00:00\"],\"y\":[4.0,59204.84]},{\"line\":{\"color\":\"#000099\",\"dash\":\"dash\",\"width\":0.5},\"mode\":\"lines\",\"name\":\"Outside_range_Dry_WOW\",\"showlegend\":false,\"type\":\"scatter\",\"x\":[\"2022-11-19T00:00:00\",\"2022-11-19T00:00:00\"],\"y\":[4.0,59204.84]},{\"line\":{\"color\":\"#000099\",\"dash\":\"dash\",\"width\":0.5},\"mode\":\"lines\",\"name\":\"Outside_range_Dry_WOW\",\"showlegend\":false,\"type\":\"scatter\",\"x\":[\"2022-11-22T00:00:00\",\"2022-11-22T00:00:00\"],\"y\":[4.0,59204.84]},{\"line\":{\"color\":\"#000099\",\"dash\":\"dash\",\"width\":0.5},\"mode\":\"lines\",\"name\":\"Outside_range_Dry_WOW\",\"showlegend\":false,\"type\":\"scatter\",\"x\":[\"2022-11-24T00:00:00\",\"2022-11-24T00:00:00\"],\"y\":[4.0,59204.84]},{\"line\":{\"color\":\"#000099\",\"dash\":\"dash\",\"width\":0.5},\"mode\":\"lines\",\"name\":\"Outside_range_Dry_WOW\",\"showlegend\":false,\"type\":\"scatter\",\"x\":[\"2022-11-25T00:00:00\",\"2022-11-25T00:00:00\"],\"y\":[4.0,59204.84]},{\"line\":{\"color\":\"#000099\",\"dash\":\"dash\",\"width\":0.5},\"mode\":\"lines\",\"name\":\"Outside_range_Dry_WOW\",\"showlegend\":false,\"type\":\"scatter\",\"x\":[\"2022-11-29T00:00:00\",\"2022-11-29T00:00:00\"],\"y\":[4.0,59204.84]},{\"line\":{\"color\":\"#000099\",\"dash\":\"dash\",\"width\":0.5},\"mode\":\"lines\",\"name\":\"Outside_range_Dry_WOW\",\"showlegend\":false,\"type\":\"scatter\",\"x\":[\"2022-12-02T00:00:00\",\"2022-12-02T00:00:00\"],\"y\":[4.0,59204.84]},{\"line\":{\"color\":\"#000099\",\"dash\":\"dash\",\"width\":0.5},\"mode\":\"lines\",\"name\":\"Outside_range_Dry_WOW\",\"showlegend\":false,\"type\":\"scatter\",\"x\":[\"2022-12-06T00:00:00\",\"2022-12-06T00:00:00\"],\"y\":[4.0,59204.84]},{\"line\":{\"color\":\"#000099\",\"dash\":\"dash\",\"width\":0.5},\"mode\":\"lines\",\"name\":\"Outside_range_Dry_WOW\",\"showlegend\":false,\"type\":\"scatter\",\"x\":[\"2022-12-17T00:00:00\",\"2022-12-17T00:00:00\"],\"y\":[4.0,59204.84]},{\"line\":{\"color\":\"#000099\",\"dash\":\"dash\",\"width\":0.5},\"mode\":\"lines\",\"name\":\"Outside_range_Dry_WOW\",\"showlegend\":false,\"type\":\"scatter\",\"x\":[\"2022-12-21T00:00:00\",\"2022-12-21T00:00:00\"],\"y\":[4.0,59204.84]},{\"line\":{\"color\":\"#000099\",\"dash\":\"dash\",\"width\":0.5},\"mode\":\"lines\",\"name\":\"Outside_range_Dry_WOW\",\"showlegend\":false,\"type\":\"scatter\",\"x\":[\"2022-12-22T00:00:00\",\"2022-12-22T00:00:00\"],\"y\":[4.0,59204.84]},{\"line\":{\"color\":\"#000099\",\"dash\":\"dash\",\"width\":0.5},\"mode\":\"lines\",\"name\":\"Outside_range_Dry_WOW\",\"showlegend\":false,\"type\":\"scatter\",\"x\":[\"2022-12-24T00:00:00\",\"2022-12-24T00:00:00\"],\"y\":[4.0,59204.84]},{\"line\":{\"color\":\"#000099\",\"dash\":\"dash\",\"width\":0.5},\"mode\":\"lines\",\"name\":\"Outside_range_Dry_WOW\",\"showlegend\":false,\"type\":\"scatter\",\"x\":[\"2022-12-27T00:00:00\",\"2022-12-27T00:00:00\"],\"y\":[4.0,59204.84]},{\"line\":{\"color\":\"#000099\",\"dash\":\"dash\",\"width\":0.5},\"mode\":\"lines\",\"name\":\"Outside_range_Dry_WOW\",\"showlegend\":false,\"type\":\"scatter\",\"x\":[\"2022-12-28T00:00:00\",\"2022-12-28T00:00:00\"],\"y\":[4.0,59204.84]},{\"line\":{\"color\":\"#000099\",\"dash\":\"dash\",\"width\":0.5},\"mode\":\"lines\",\"name\":\"Outside_range_Dry_WOW\",\"showlegend\":false,\"type\":\"scatter\",\"x\":[\"2022-12-29T00:00:00\",\"2022-12-29T00:00:00\"],\"y\":[4.0,59204.84]},{\"line\":{\"color\":\"#000099\",\"dash\":\"dash\",\"width\":0.5},\"mode\":\"lines\",\"name\":\"Outside_range_Dry_WOW\",\"showlegend\":false,\"type\":\"scatter\",\"x\":[\"2022-12-30T00:00:00\",\"2022-12-30T00:00:00\"],\"y\":[4.0,59204.84]},{\"line\":{\"color\":\"#000099\",\"dash\":\"dash\",\"width\":0.5},\"mode\":\"lines\",\"name\":\"Outside_range_Dry_WOW\",\"showlegend\":false,\"type\":\"scatter\",\"x\":[\"2022-12-31T00:00:00\",\"2022-12-31T00:00:00\"],\"y\":[4.0,59204.84]},{\"line\":{\"color\":\"#990000\",\"dash\":\"dash\",\"width\":0.5},\"mode\":\"lines\",\"name\":\"Outside_range_Dry_PROPHET\",\"showlegend\":true,\"type\":\"scatter\",\"x\":[\"2022-05-10T00:00:00\",\"2022-05-10T00:00:00\"],\"y\":[34.49959614450927,113737.91195032632]},{\"line\":{\"color\":\"#990000\",\"dash\":\"dash\",\"width\":0.5},\"mode\":\"lines\",\"name\":\"Outside_range_Dry_PROPHET\",\"showlegend\":false,\"type\":\"scatter\",\"x\":[\"2022-05-11T00:00:00\",\"2022-05-11T00:00:00\"],\"y\":[34.49959614450927,113737.91195032632]},{\"line\":{\"color\":\"#990000\",\"dash\":\"dash\",\"width\":0.5},\"mode\":\"lines\",\"name\":\"Outside_range_Dry_PROPHET\",\"showlegend\":false,\"type\":\"scatter\",\"x\":[\"2022-05-12T00:00:00\",\"2022-05-12T00:00:00\"],\"y\":[34.49959614450927,113737.91195032632]},{\"line\":{\"color\":\"#990000\",\"dash\":\"dash\",\"width\":0.5},\"mode\":\"lines\",\"name\":\"Outside_range_Dry_PROPHET\",\"showlegend\":false,\"type\":\"scatter\",\"x\":[\"2022-05-13T00:00:00\",\"2022-05-13T00:00:00\"],\"y\":[34.49959614450927,113737.91195032632]},{\"line\":{\"color\":\"#990000\",\"dash\":\"dash\",\"width\":0.5},\"mode\":\"lines\",\"name\":\"Outside_range_Dry_PROPHET\",\"showlegend\":false,\"type\":\"scatter\",\"x\":[\"2022-05-14T00:00:00\",\"2022-05-14T00:00:00\"],\"y\":[34.49959614450927,113737.91195032632]},{\"line\":{\"color\":\"#990000\",\"dash\":\"dash\",\"width\":0.5},\"mode\":\"lines\",\"name\":\"Outside_range_Dry_PROPHET\",\"showlegend\":false,\"type\":\"scatter\",\"x\":[\"2022-05-17T00:00:00\",\"2022-05-17T00:00:00\"],\"y\":[34.49959614450927,113737.91195032632]},{\"line\":{\"color\":\"#990000\",\"dash\":\"dash\",\"width\":0.5},\"mode\":\"lines\",\"name\":\"Outside_range_Dry_PROPHET\",\"showlegend\":false,\"type\":\"scatter\",\"x\":[\"2022-05-18T00:00:00\",\"2022-05-18T00:00:00\"],\"y\":[34.49959614450927,113737.91195032632]},{\"line\":{\"color\":\"#990000\",\"dash\":\"dash\",\"width\":0.5},\"mode\":\"lines\",\"name\":\"Outside_range_Dry_PROPHET\",\"showlegend\":false,\"type\":\"scatter\",\"x\":[\"2022-05-20T00:00:00\",\"2022-05-20T00:00:00\"],\"y\":[34.49959614450927,113737.91195032632]},{\"line\":{\"color\":\"#990000\",\"dash\":\"dash\",\"width\":0.5},\"mode\":\"lines\",\"name\":\"Outside_range_Dry_PROPHET\",\"showlegend\":false,\"type\":\"scatter\",\"x\":[\"2022-05-23T00:00:00\",\"2022-05-23T00:00:00\"],\"y\":[34.49959614450927,113737.91195032632]},{\"line\":{\"color\":\"#990000\",\"dash\":\"dash\",\"width\":0.5},\"mode\":\"lines\",\"name\":\"Outside_range_Dry_PROPHET\",\"showlegend\":false,\"type\":\"scatter\",\"x\":[\"2022-05-24T00:00:00\",\"2022-05-24T00:00:00\"],\"y\":[34.49959614450927,113737.91195032632]},{\"line\":{\"color\":\"#990000\",\"dash\":\"dash\",\"width\":0.5},\"mode\":\"lines\",\"name\":\"Outside_range_Dry_PROPHET\",\"showlegend\":false,\"type\":\"scatter\",\"x\":[\"2022-05-25T00:00:00\",\"2022-05-25T00:00:00\"],\"y\":[34.49959614450927,113737.91195032632]},{\"line\":{\"color\":\"#990000\",\"dash\":\"dash\",\"width\":0.5},\"mode\":\"lines\",\"name\":\"Outside_range_Dry_PROPHET\",\"showlegend\":false,\"type\":\"scatter\",\"x\":[\"2022-05-27T00:00:00\",\"2022-05-27T00:00:00\"],\"y\":[34.49959614450927,113737.91195032632]},{\"line\":{\"color\":\"#990000\",\"dash\":\"dash\",\"width\":0.5},\"mode\":\"lines\",\"name\":\"Outside_range_Dry_PROPHET\",\"showlegend\":false,\"type\":\"scatter\",\"x\":[\"2022-05-30T00:00:00\",\"2022-05-30T00:00:00\"],\"y\":[34.49959614450927,113737.91195032632]},{\"line\":{\"color\":\"#990000\",\"dash\":\"dash\",\"width\":0.5},\"mode\":\"lines\",\"name\":\"Outside_range_Dry_PROPHET\",\"showlegend\":false,\"type\":\"scatter\",\"x\":[\"2022-05-31T00:00:00\",\"2022-05-31T00:00:00\"],\"y\":[34.49959614450927,113737.91195032632]},{\"line\":{\"color\":\"#990000\",\"dash\":\"dash\",\"width\":0.5},\"mode\":\"lines\",\"name\":\"Outside_range_Dry_PROPHET\",\"showlegend\":false,\"type\":\"scatter\",\"x\":[\"2022-06-03T00:00:00\",\"2022-06-03T00:00:00\"],\"y\":[34.49959614450927,113737.91195032632]},{\"line\":{\"color\":\"#990000\",\"dash\":\"dash\",\"width\":0.5},\"mode\":\"lines\",\"name\":\"Outside_range_Dry_PROPHET\",\"showlegend\":false,\"type\":\"scatter\",\"x\":[\"2022-06-04T00:00:00\",\"2022-06-04T00:00:00\"],\"y\":[34.49959614450927,113737.91195032632]},{\"line\":{\"color\":\"#990000\",\"dash\":\"dash\",\"width\":0.5},\"mode\":\"lines\",\"name\":\"Outside_range_Dry_PROPHET\",\"showlegend\":false,\"type\":\"scatter\",\"x\":[\"2022-06-07T00:00:00\",\"2022-06-07T00:00:00\"],\"y\":[34.49959614450927,113737.91195032632]},{\"line\":{\"color\":\"#990000\",\"dash\":\"dash\",\"width\":0.5},\"mode\":\"lines\",\"name\":\"Outside_range_Dry_PROPHET\",\"showlegend\":false,\"type\":\"scatter\",\"x\":[\"2022-06-09T00:00:00\",\"2022-06-09T00:00:00\"],\"y\":[34.49959614450927,113737.91195032632]},{\"line\":{\"color\":\"#990000\",\"dash\":\"dash\",\"width\":0.5},\"mode\":\"lines\",\"name\":\"Outside_range_Dry_PROPHET\",\"showlegend\":false,\"type\":\"scatter\",\"x\":[\"2022-06-11T00:00:00\",\"2022-06-11T00:00:00\"],\"y\":[34.49959614450927,113737.91195032632]},{\"line\":{\"color\":\"#990000\",\"dash\":\"dash\",\"width\":0.5},\"mode\":\"lines\",\"name\":\"Outside_range_Dry_PROPHET\",\"showlegend\":false,\"type\":\"scatter\",\"x\":[\"2022-06-15T00:00:00\",\"2022-06-15T00:00:00\"],\"y\":[34.49959614450927,113737.91195032632]},{\"line\":{\"color\":\"#990000\",\"dash\":\"dash\",\"width\":0.5},\"mode\":\"lines\",\"name\":\"Outside_range_Dry_PROPHET\",\"showlegend\":false,\"type\":\"scatter\",\"x\":[\"2022-06-16T00:00:00\",\"2022-06-16T00:00:00\"],\"y\":[34.49959614450927,113737.91195032632]},{\"line\":{\"color\":\"#990000\",\"dash\":\"dash\",\"width\":0.5},\"mode\":\"lines\",\"name\":\"Outside_range_Dry_PROPHET\",\"showlegend\":false,\"type\":\"scatter\",\"x\":[\"2022-06-17T00:00:00\",\"2022-06-17T00:00:00\"],\"y\":[34.49959614450927,113737.91195032632]},{\"line\":{\"color\":\"#990000\",\"dash\":\"dash\",\"width\":0.5},\"mode\":\"lines\",\"name\":\"Outside_range_Dry_PROPHET\",\"showlegend\":false,\"type\":\"scatter\",\"x\":[\"2022-06-18T00:00:00\",\"2022-06-18T00:00:00\"],\"y\":[34.49959614450927,113737.91195032632]},{\"line\":{\"color\":\"#990000\",\"dash\":\"dash\",\"width\":0.5},\"mode\":\"lines\",\"name\":\"Outside_range_Dry_PROPHET\",\"showlegend\":false,\"type\":\"scatter\",\"x\":[\"2022-06-20T00:00:00\",\"2022-06-20T00:00:00\"],\"y\":[34.49959614450927,113737.91195032632]},{\"line\":{\"color\":\"#990000\",\"dash\":\"dash\",\"width\":0.5},\"mode\":\"lines\",\"name\":\"Outside_range_Dry_PROPHET\",\"showlegend\":false,\"type\":\"scatter\",\"x\":[\"2022-06-22T00:00:00\",\"2022-06-22T00:00:00\"],\"y\":[34.49959614450927,113737.91195032632]},{\"line\":{\"color\":\"#990000\",\"dash\":\"dash\",\"width\":0.5},\"mode\":\"lines\",\"name\":\"Outside_range_Dry_PROPHET\",\"showlegend\":false,\"type\":\"scatter\",\"x\":[\"2022-06-23T00:00:00\",\"2022-06-23T00:00:00\"],\"y\":[34.49959614450927,113737.91195032632]},{\"line\":{\"color\":\"#990000\",\"dash\":\"dash\",\"width\":0.5},\"mode\":\"lines\",\"name\":\"Outside_range_Dry_PROPHET\",\"showlegend\":false,\"type\":\"scatter\",\"x\":[\"2022-06-24T00:00:00\",\"2022-06-24T00:00:00\"],\"y\":[34.49959614450927,113737.91195032632]},{\"line\":{\"color\":\"#990000\",\"dash\":\"dash\",\"width\":0.5},\"mode\":\"lines\",\"name\":\"Outside_range_Dry_PROPHET\",\"showlegend\":false,\"type\":\"scatter\",\"x\":[\"2022-06-25T00:00:00\",\"2022-06-25T00:00:00\"],\"y\":[34.49959614450927,113737.91195032632]},{\"line\":{\"color\":\"#990000\",\"dash\":\"dash\",\"width\":0.5},\"mode\":\"lines\",\"name\":\"Outside_range_Dry_PROPHET\",\"showlegend\":false,\"type\":\"scatter\",\"x\":[\"2022-06-27T00:00:00\",\"2022-06-27T00:00:00\"],\"y\":[34.49959614450927,113737.91195032632]},{\"line\":{\"color\":\"#990000\",\"dash\":\"dash\",\"width\":0.5},\"mode\":\"lines\",\"name\":\"Outside_range_Dry_PROPHET\",\"showlegend\":false,\"type\":\"scatter\",\"x\":[\"2022-07-02T00:00:00\",\"2022-07-02T00:00:00\"],\"y\":[34.49959614450927,113737.91195032632]},{\"line\":{\"color\":\"#990000\",\"dash\":\"dash\",\"width\":0.5},\"mode\":\"lines\",\"name\":\"Outside_range_Dry_PROPHET\",\"showlegend\":false,\"type\":\"scatter\",\"x\":[\"2022-07-04T00:00:00\",\"2022-07-04T00:00:00\"],\"y\":[34.49959614450927,113737.91195032632]},{\"line\":{\"color\":\"#990000\",\"dash\":\"dash\",\"width\":0.5},\"mode\":\"lines\",\"name\":\"Outside_range_Dry_PROPHET\",\"showlegend\":false,\"type\":\"scatter\",\"x\":[\"2022-07-06T00:00:00\",\"2022-07-06T00:00:00\"],\"y\":[34.49959614450927,113737.91195032632]},{\"line\":{\"color\":\"#990000\",\"dash\":\"dash\",\"width\":0.5},\"mode\":\"lines\",\"name\":\"Outside_range_Dry_PROPHET\",\"showlegend\":false,\"type\":\"scatter\",\"x\":[\"2022-07-07T00:00:00\",\"2022-07-07T00:00:00\"],\"y\":[34.49959614450927,113737.91195032632]},{\"line\":{\"color\":\"#990000\",\"dash\":\"dash\",\"width\":0.5},\"mode\":\"lines\",\"name\":\"Outside_range_Dry_PROPHET\",\"showlegend\":false,\"type\":\"scatter\",\"x\":[\"2022-07-08T00:00:00\",\"2022-07-08T00:00:00\"],\"y\":[34.49959614450927,113737.91195032632]},{\"line\":{\"color\":\"#990000\",\"dash\":\"dash\",\"width\":0.5},\"mode\":\"lines\",\"name\":\"Outside_range_Dry_PROPHET\",\"showlegend\":false,\"type\":\"scatter\",\"x\":[\"2022-07-09T00:00:00\",\"2022-07-09T00:00:00\"],\"y\":[34.49959614450927,113737.91195032632]},{\"line\":{\"color\":\"#990000\",\"dash\":\"dash\",\"width\":0.5},\"mode\":\"lines\",\"name\":\"Outside_range_Dry_PROPHET\",\"showlegend\":false,\"type\":\"scatter\",\"x\":[\"2022-07-11T00:00:00\",\"2022-07-11T00:00:00\"],\"y\":[34.49959614450927,113737.91195032632]},{\"line\":{\"color\":\"#990000\",\"dash\":\"dash\",\"width\":0.5},\"mode\":\"lines\",\"name\":\"Outside_range_Dry_PROPHET\",\"showlegend\":false,\"type\":\"scatter\",\"x\":[\"2022-07-12T00:00:00\",\"2022-07-12T00:00:00\"],\"y\":[34.49959614450927,113737.91195032632]},{\"line\":{\"color\":\"#990000\",\"dash\":\"dash\",\"width\":0.5},\"mode\":\"lines\",\"name\":\"Outside_range_Dry_PROPHET\",\"showlegend\":false,\"type\":\"scatter\",\"x\":[\"2022-07-15T00:00:00\",\"2022-07-15T00:00:00\"],\"y\":[34.49959614450927,113737.91195032632]},{\"line\":{\"color\":\"#990000\",\"dash\":\"dash\",\"width\":0.5},\"mode\":\"lines\",\"name\":\"Outside_range_Dry_PROPHET\",\"showlegend\":false,\"type\":\"scatter\",\"x\":[\"2022-07-16T00:00:00\",\"2022-07-16T00:00:00\"],\"y\":[34.49959614450927,113737.91195032632]},{\"line\":{\"color\":\"#990000\",\"dash\":\"dash\",\"width\":0.5},\"mode\":\"lines\",\"name\":\"Outside_range_Dry_PROPHET\",\"showlegend\":false,\"type\":\"scatter\",\"x\":[\"2022-07-18T00:00:00\",\"2022-07-18T00:00:00\"],\"y\":[34.49959614450927,113737.91195032632]},{\"line\":{\"color\":\"#990000\",\"dash\":\"dash\",\"width\":0.5},\"mode\":\"lines\",\"name\":\"Outside_range_Dry_PROPHET\",\"showlegend\":false,\"type\":\"scatter\",\"x\":[\"2022-07-19T00:00:00\",\"2022-07-19T00:00:00\"],\"y\":[34.49959614450927,113737.91195032632]},{\"line\":{\"color\":\"#990000\",\"dash\":\"dash\",\"width\":0.5},\"mode\":\"lines\",\"name\":\"Outside_range_Dry_PROPHET\",\"showlegend\":false,\"type\":\"scatter\",\"x\":[\"2022-07-20T00:00:00\",\"2022-07-20T00:00:00\"],\"y\":[34.49959614450927,113737.91195032632]},{\"line\":{\"color\":\"#990000\",\"dash\":\"dash\",\"width\":0.5},\"mode\":\"lines\",\"name\":\"Outside_range_Dry_PROPHET\",\"showlegend\":false,\"type\":\"scatter\",\"x\":[\"2022-07-22T00:00:00\",\"2022-07-22T00:00:00\"],\"y\":[34.49959614450927,113737.91195032632]},{\"line\":{\"color\":\"#990000\",\"dash\":\"dash\",\"width\":0.5},\"mode\":\"lines\",\"name\":\"Outside_range_Dry_PROPHET\",\"showlegend\":false,\"type\":\"scatter\",\"x\":[\"2022-07-23T00:00:00\",\"2022-07-23T00:00:00\"],\"y\":[34.49959614450927,113737.91195032632]},{\"line\":{\"color\":\"#990000\",\"dash\":\"dash\",\"width\":0.5},\"mode\":\"lines\",\"name\":\"Outside_range_Dry_PROPHET\",\"showlegend\":false,\"type\":\"scatter\",\"x\":[\"2022-07-25T00:00:00\",\"2022-07-25T00:00:00\"],\"y\":[34.49959614450927,113737.91195032632]},{\"line\":{\"color\":\"#990000\",\"dash\":\"dash\",\"width\":0.5},\"mode\":\"lines\",\"name\":\"Outside_range_Dry_PROPHET\",\"showlegend\":false,\"type\":\"scatter\",\"x\":[\"2022-07-26T00:00:00\",\"2022-07-26T00:00:00\"],\"y\":[34.49959614450927,113737.91195032632]},{\"line\":{\"color\":\"#990000\",\"dash\":\"dash\",\"width\":0.5},\"mode\":\"lines\",\"name\":\"Outside_range_Dry_PROPHET\",\"showlegend\":false,\"type\":\"scatter\",\"x\":[\"2022-07-30T00:00:00\",\"2022-07-30T00:00:00\"],\"y\":[34.49959614450927,113737.91195032632]},{\"line\":{\"color\":\"#990000\",\"dash\":\"dash\",\"width\":0.5},\"mode\":\"lines\",\"name\":\"Outside_range_Dry_PROPHET\",\"showlegend\":false,\"type\":\"scatter\",\"x\":[\"2022-08-02T00:00:00\",\"2022-08-02T00:00:00\"],\"y\":[34.49959614450927,113737.91195032632]},{\"line\":{\"color\":\"#990000\",\"dash\":\"dash\",\"width\":0.5},\"mode\":\"lines\",\"name\":\"Outside_range_Dry_PROPHET\",\"showlegend\":false,\"type\":\"scatter\",\"x\":[\"2022-08-03T00:00:00\",\"2022-08-03T00:00:00\"],\"y\":[34.49959614450927,113737.91195032632]},{\"line\":{\"color\":\"#990000\",\"dash\":\"dash\",\"width\":0.5},\"mode\":\"lines\",\"name\":\"Outside_range_Dry_PROPHET\",\"showlegend\":false,\"type\":\"scatter\",\"x\":[\"2022-08-04T00:00:00\",\"2022-08-04T00:00:00\"],\"y\":[34.49959614450927,113737.91195032632]},{\"line\":{\"color\":\"#990000\",\"dash\":\"dash\",\"width\":0.5},\"mode\":\"lines\",\"name\":\"Outside_range_Dry_PROPHET\",\"showlegend\":false,\"type\":\"scatter\",\"x\":[\"2022-08-06T00:00:00\",\"2022-08-06T00:00:00\"],\"y\":[34.49959614450927,113737.91195032632]},{\"line\":{\"color\":\"#990000\",\"dash\":\"dash\",\"width\":0.5},\"mode\":\"lines\",\"name\":\"Outside_range_Dry_PROPHET\",\"showlegend\":false,\"type\":\"scatter\",\"x\":[\"2022-08-08T00:00:00\",\"2022-08-08T00:00:00\"],\"y\":[34.49959614450927,113737.91195032632]},{\"line\":{\"color\":\"#990000\",\"dash\":\"dash\",\"width\":0.5},\"mode\":\"lines\",\"name\":\"Outside_range_Dry_PROPHET\",\"showlegend\":false,\"type\":\"scatter\",\"x\":[\"2022-08-10T00:00:00\",\"2022-08-10T00:00:00\"],\"y\":[34.49959614450927,113737.91195032632]},{\"line\":{\"color\":\"#990000\",\"dash\":\"dash\",\"width\":0.5},\"mode\":\"lines\",\"name\":\"Outside_range_Dry_PROPHET\",\"showlegend\":false,\"type\":\"scatter\",\"x\":[\"2022-08-12T00:00:00\",\"2022-08-12T00:00:00\"],\"y\":[34.49959614450927,113737.91195032632]},{\"line\":{\"color\":\"#990000\",\"dash\":\"dash\",\"width\":0.5},\"mode\":\"lines\",\"name\":\"Outside_range_Dry_PROPHET\",\"showlegend\":false,\"type\":\"scatter\",\"x\":[\"2022-08-13T00:00:00\",\"2022-08-13T00:00:00\"],\"y\":[34.49959614450927,113737.91195032632]},{\"line\":{\"color\":\"#990000\",\"dash\":\"dash\",\"width\":0.5},\"mode\":\"lines\",\"name\":\"Outside_range_Dry_PROPHET\",\"showlegend\":false,\"type\":\"scatter\",\"x\":[\"2022-08-17T00:00:00\",\"2022-08-17T00:00:00\"],\"y\":[34.49959614450927,113737.91195032632]},{\"line\":{\"color\":\"#990000\",\"dash\":\"dash\",\"width\":0.5},\"mode\":\"lines\",\"name\":\"Outside_range_Dry_PROPHET\",\"showlegend\":false,\"type\":\"scatter\",\"x\":[\"2022-08-18T00:00:00\",\"2022-08-18T00:00:00\"],\"y\":[34.49959614450927,113737.91195032632]},{\"line\":{\"color\":\"#990000\",\"dash\":\"dash\",\"width\":0.5},\"mode\":\"lines\",\"name\":\"Outside_range_Dry_PROPHET\",\"showlegend\":false,\"type\":\"scatter\",\"x\":[\"2022-08-19T00:00:00\",\"2022-08-19T00:00:00\"],\"y\":[34.49959614450927,113737.91195032632]},{\"line\":{\"color\":\"#990000\",\"dash\":\"dash\",\"width\":0.5},\"mode\":\"lines\",\"name\":\"Outside_range_Dry_PROPHET\",\"showlegend\":false,\"type\":\"scatter\",\"x\":[\"2022-08-22T00:00:00\",\"2022-08-22T00:00:00\"],\"y\":[34.49959614450927,113737.91195032632]},{\"line\":{\"color\":\"#990000\",\"dash\":\"dash\",\"width\":0.5},\"mode\":\"lines\",\"name\":\"Outside_range_Dry_PROPHET\",\"showlegend\":false,\"type\":\"scatter\",\"x\":[\"2022-08-25T00:00:00\",\"2022-08-25T00:00:00\"],\"y\":[34.49959614450927,113737.91195032632]},{\"line\":{\"color\":\"#990000\",\"dash\":\"dash\",\"width\":0.5},\"mode\":\"lines\",\"name\":\"Outside_range_Dry_PROPHET\",\"showlegend\":false,\"type\":\"scatter\",\"x\":[\"2022-08-27T00:00:00\",\"2022-08-27T00:00:00\"],\"y\":[34.49959614450927,113737.91195032632]},{\"line\":{\"color\":\"#990000\",\"dash\":\"dash\",\"width\":0.5},\"mode\":\"lines\",\"name\":\"Outside_range_Dry_PROPHET\",\"showlegend\":false,\"type\":\"scatter\",\"x\":[\"2022-08-29T00:00:00\",\"2022-08-29T00:00:00\"],\"y\":[34.49959614450927,113737.91195032632]},{\"line\":{\"color\":\"#990000\",\"dash\":\"dash\",\"width\":0.5},\"mode\":\"lines\",\"name\":\"Outside_range_Dry_PROPHET\",\"showlegend\":false,\"type\":\"scatter\",\"x\":[\"2022-08-30T00:00:00\",\"2022-08-30T00:00:00\"],\"y\":[34.49959614450927,113737.91195032632]},{\"line\":{\"color\":\"#990000\",\"dash\":\"dash\",\"width\":0.5},\"mode\":\"lines\",\"name\":\"Outside_range_Dry_PROPHET\",\"showlegend\":false,\"type\":\"scatter\",\"x\":[\"2022-08-31T00:00:00\",\"2022-08-31T00:00:00\"],\"y\":[34.49959614450927,113737.91195032632]},{\"line\":{\"color\":\"#990000\",\"dash\":\"dash\",\"width\":0.5},\"mode\":\"lines\",\"name\":\"Outside_range_Dry_PROPHET\",\"showlegend\":false,\"type\":\"scatter\",\"x\":[\"2022-09-01T00:00:00\",\"2022-09-01T00:00:00\"],\"y\":[34.49959614450927,113737.91195032632]},{\"line\":{\"color\":\"#990000\",\"dash\":\"dash\",\"width\":0.5},\"mode\":\"lines\",\"name\":\"Outside_range_Dry_PROPHET\",\"showlegend\":false,\"type\":\"scatter\",\"x\":[\"2022-09-02T00:00:00\",\"2022-09-02T00:00:00\"],\"y\":[34.49959614450927,113737.91195032632]},{\"line\":{\"color\":\"#990000\",\"dash\":\"dash\",\"width\":0.5},\"mode\":\"lines\",\"name\":\"Outside_range_Dry_PROPHET\",\"showlegend\":false,\"type\":\"scatter\",\"x\":[\"2022-09-06T00:00:00\",\"2022-09-06T00:00:00\"],\"y\":[34.49959614450927,113737.91195032632]},{\"line\":{\"color\":\"#990000\",\"dash\":\"dash\",\"width\":0.5},\"mode\":\"lines\",\"name\":\"Outside_range_Dry_PROPHET\",\"showlegend\":false,\"type\":\"scatter\",\"x\":[\"2022-09-08T00:00:00\",\"2022-09-08T00:00:00\"],\"y\":[34.49959614450927,113737.91195032632]},{\"line\":{\"color\":\"#990000\",\"dash\":\"dash\",\"width\":0.5},\"mode\":\"lines\",\"name\":\"Outside_range_Dry_PROPHET\",\"showlegend\":false,\"type\":\"scatter\",\"x\":[\"2022-09-09T00:00:00\",\"2022-09-09T00:00:00\"],\"y\":[34.49959614450927,113737.91195032632]},{\"line\":{\"color\":\"#990000\",\"dash\":\"dash\",\"width\":0.5},\"mode\":\"lines\",\"name\":\"Outside_range_Dry_PROPHET\",\"showlegend\":false,\"type\":\"scatter\",\"x\":[\"2022-09-10T00:00:00\",\"2022-09-10T00:00:00\"],\"y\":[34.49959614450927,113737.91195032632]},{\"line\":{\"color\":\"#990000\",\"dash\":\"dash\",\"width\":0.5},\"mode\":\"lines\",\"name\":\"Outside_range_Dry_PROPHET\",\"showlegend\":false,\"type\":\"scatter\",\"x\":[\"2022-09-12T00:00:00\",\"2022-09-12T00:00:00\"],\"y\":[34.49959614450927,113737.91195032632]},{\"line\":{\"color\":\"#990000\",\"dash\":\"dash\",\"width\":0.5},\"mode\":\"lines\",\"name\":\"Outside_range_Dry_PROPHET\",\"showlegend\":false,\"type\":\"scatter\",\"x\":[\"2022-09-13T00:00:00\",\"2022-09-13T00:00:00\"],\"y\":[34.49959614450927,113737.91195032632]},{\"line\":{\"color\":\"#990000\",\"dash\":\"dash\",\"width\":0.5},\"mode\":\"lines\",\"name\":\"Outside_range_Dry_PROPHET\",\"showlegend\":false,\"type\":\"scatter\",\"x\":[\"2022-09-14T00:00:00\",\"2022-09-14T00:00:00\"],\"y\":[34.49959614450927,113737.91195032632]},{\"line\":{\"color\":\"#990000\",\"dash\":\"dash\",\"width\":0.5},\"mode\":\"lines\",\"name\":\"Outside_range_Dry_PROPHET\",\"showlegend\":false,\"type\":\"scatter\",\"x\":[\"2022-09-15T00:00:00\",\"2022-09-15T00:00:00\"],\"y\":[34.49959614450927,113737.91195032632]},{\"line\":{\"color\":\"#990000\",\"dash\":\"dash\",\"width\":0.5},\"mode\":\"lines\",\"name\":\"Outside_range_Dry_PROPHET\",\"showlegend\":false,\"type\":\"scatter\",\"x\":[\"2022-09-16T00:00:00\",\"2022-09-16T00:00:00\"],\"y\":[34.49959614450927,113737.91195032632]},{\"line\":{\"color\":\"#990000\",\"dash\":\"dash\",\"width\":0.5},\"mode\":\"lines\",\"name\":\"Outside_range_Dry_PROPHET\",\"showlegend\":false,\"type\":\"scatter\",\"x\":[\"2022-09-19T00:00:00\",\"2022-09-19T00:00:00\"],\"y\":[34.49959614450927,113737.91195032632]},{\"line\":{\"color\":\"#990000\",\"dash\":\"dash\",\"width\":0.5},\"mode\":\"lines\",\"name\":\"Outside_range_Dry_PROPHET\",\"showlegend\":false,\"type\":\"scatter\",\"x\":[\"2022-09-20T00:00:00\",\"2022-09-20T00:00:00\"],\"y\":[34.49959614450927,113737.91195032632]},{\"line\":{\"color\":\"#990000\",\"dash\":\"dash\",\"width\":0.5},\"mode\":\"lines\",\"name\":\"Outside_range_Dry_PROPHET\",\"showlegend\":false,\"type\":\"scatter\",\"x\":[\"2022-09-21T00:00:00\",\"2022-09-21T00:00:00\"],\"y\":[34.49959614450927,113737.91195032632]},{\"line\":{\"color\":\"#990000\",\"dash\":\"dash\",\"width\":0.5},\"mode\":\"lines\",\"name\":\"Outside_range_Dry_PROPHET\",\"showlegend\":false,\"type\":\"scatter\",\"x\":[\"2022-09-22T00:00:00\",\"2022-09-22T00:00:00\"],\"y\":[34.49959614450927,113737.91195032632]},{\"line\":{\"color\":\"#990000\",\"dash\":\"dash\",\"width\":0.5},\"mode\":\"lines\",\"name\":\"Outside_range_Dry_PROPHET\",\"showlegend\":false,\"type\":\"scatter\",\"x\":[\"2022-09-23T00:00:00\",\"2022-09-23T00:00:00\"],\"y\":[34.49959614450927,113737.91195032632]},{\"line\":{\"color\":\"#990000\",\"dash\":\"dash\",\"width\":0.5},\"mode\":\"lines\",\"name\":\"Outside_range_Dry_PROPHET\",\"showlegend\":false,\"type\":\"scatter\",\"x\":[\"2022-09-24T00:00:00\",\"2022-09-24T00:00:00\"],\"y\":[34.49959614450927,113737.91195032632]},{\"line\":{\"color\":\"#990000\",\"dash\":\"dash\",\"width\":0.5},\"mode\":\"lines\",\"name\":\"Outside_range_Dry_PROPHET\",\"showlegend\":false,\"type\":\"scatter\",\"x\":[\"2022-09-26T00:00:00\",\"2022-09-26T00:00:00\"],\"y\":[34.49959614450927,113737.91195032632]},{\"line\":{\"color\":\"#990000\",\"dash\":\"dash\",\"width\":0.5},\"mode\":\"lines\",\"name\":\"Outside_range_Dry_PROPHET\",\"showlegend\":false,\"type\":\"scatter\",\"x\":[\"2022-09-27T00:00:00\",\"2022-09-27T00:00:00\"],\"y\":[34.49959614450927,113737.91195032632]},{\"line\":{\"color\":\"#990000\",\"dash\":\"dash\",\"width\":0.5},\"mode\":\"lines\",\"name\":\"Outside_range_Dry_PROPHET\",\"showlegend\":false,\"type\":\"scatter\",\"x\":[\"2022-09-29T00:00:00\",\"2022-09-29T00:00:00\"],\"y\":[34.49959614450927,113737.91195032632]},{\"line\":{\"color\":\"#990000\",\"dash\":\"dash\",\"width\":0.5},\"mode\":\"lines\",\"name\":\"Outside_range_Dry_PROPHET\",\"showlegend\":false,\"type\":\"scatter\",\"x\":[\"2022-09-30T00:00:00\",\"2022-09-30T00:00:00\"],\"y\":[34.49959614450927,113737.91195032632]},{\"line\":{\"color\":\"#990000\",\"dash\":\"dash\",\"width\":0.5},\"mode\":\"lines\",\"name\":\"Outside_range_Dry_PROPHET\",\"showlegend\":false,\"type\":\"scatter\",\"x\":[\"2022-10-06T00:00:00\",\"2022-10-06T00:00:00\"],\"y\":[34.49959614450927,113737.91195032632]},{\"line\":{\"color\":\"#990000\",\"dash\":\"dash\",\"width\":0.5},\"mode\":\"lines\",\"name\":\"Outside_range_Dry_PROPHET\",\"showlegend\":false,\"type\":\"scatter\",\"x\":[\"2022-10-21T00:00:00\",\"2022-10-21T00:00:00\"],\"y\":[34.49959614450927,113737.91195032632]},{\"line\":{\"color\":\"#990000\",\"dash\":\"dash\",\"width\":0.5},\"mode\":\"lines\",\"name\":\"Outside_range_Dry_PROPHET\",\"showlegend\":false,\"type\":\"scatter\",\"x\":[\"2022-10-24T00:00:00\",\"2022-10-24T00:00:00\"],\"y\":[34.49959614450927,113737.91195032632]},{\"line\":{\"color\":\"#990000\",\"dash\":\"dash\",\"width\":0.5},\"mode\":\"lines\",\"name\":\"Outside_range_Dry_PROPHET\",\"showlegend\":false,\"type\":\"scatter\",\"x\":[\"2022-10-25T00:00:00\",\"2022-10-25T00:00:00\"],\"y\":[34.49959614450927,113737.91195032632]},{\"line\":{\"color\":\"#990000\",\"dash\":\"dash\",\"width\":0.5},\"mode\":\"lines\",\"name\":\"Outside_range_Dry_PROPHET\",\"showlegend\":false,\"type\":\"scatter\",\"x\":[\"2022-10-26T00:00:00\",\"2022-10-26T00:00:00\"],\"y\":[34.49959614450927,113737.91195032632]},{\"line\":{\"color\":\"#990000\",\"dash\":\"dash\",\"width\":0.5},\"mode\":\"lines\",\"name\":\"Outside_range_Dry_PROPHET\",\"showlegend\":false,\"type\":\"scatter\",\"x\":[\"2022-10-27T00:00:00\",\"2022-10-27T00:00:00\"],\"y\":[34.49959614450927,113737.91195032632]},{\"line\":{\"color\":\"#990000\",\"dash\":\"dash\",\"width\":0.5},\"mode\":\"lines\",\"name\":\"Outside_range_Dry_PROPHET\",\"showlegend\":false,\"type\":\"scatter\",\"x\":[\"2022-11-02T00:00:00\",\"2022-11-02T00:00:00\"],\"y\":[34.49959614450927,113737.91195032632]},{\"line\":{\"color\":\"#990000\",\"dash\":\"dash\",\"width\":0.5},\"mode\":\"lines\",\"name\":\"Outside_range_Dry_PROPHET\",\"showlegend\":false,\"type\":\"scatter\",\"x\":[\"2022-11-03T00:00:00\",\"2022-11-03T00:00:00\"],\"y\":[34.49959614450927,113737.91195032632]},{\"line\":{\"color\":\"#990000\",\"dash\":\"dash\",\"width\":0.5},\"mode\":\"lines\",\"name\":\"Outside_range_Dry_PROPHET\",\"showlegend\":false,\"type\":\"scatter\",\"x\":[\"2022-11-04T00:00:00\",\"2022-11-04T00:00:00\"],\"y\":[34.49959614450927,113737.91195032632]},{\"line\":{\"color\":\"#990000\",\"dash\":\"dash\",\"width\":0.5},\"mode\":\"lines\",\"name\":\"Outside_range_Dry_PROPHET\",\"showlegend\":false,\"type\":\"scatter\",\"x\":[\"2022-11-05T00:00:00\",\"2022-11-05T00:00:00\"],\"y\":[34.49959614450927,113737.91195032632]},{\"line\":{\"color\":\"#990000\",\"dash\":\"dash\",\"width\":0.5},\"mode\":\"lines\",\"name\":\"Outside_range_Dry_PROPHET\",\"showlegend\":false,\"type\":\"scatter\",\"x\":[\"2022-11-08T00:00:00\",\"2022-11-08T00:00:00\"],\"y\":[34.49959614450927,113737.91195032632]},{\"line\":{\"color\":\"#990000\",\"dash\":\"dash\",\"width\":0.5},\"mode\":\"lines\",\"name\":\"Outside_range_Dry_PROPHET\",\"showlegend\":false,\"type\":\"scatter\",\"x\":[\"2022-11-09T00:00:00\",\"2022-11-09T00:00:00\"],\"y\":[34.49959614450927,113737.91195032632]},{\"line\":{\"color\":\"#990000\",\"dash\":\"dash\",\"width\":0.5},\"mode\":\"lines\",\"name\":\"Outside_range_Dry_PROPHET\",\"showlegend\":false,\"type\":\"scatter\",\"x\":[\"2022-11-10T00:00:00\",\"2022-11-10T00:00:00\"],\"y\":[34.49959614450927,113737.91195032632]},{\"line\":{\"color\":\"#990000\",\"dash\":\"dash\",\"width\":0.5},\"mode\":\"lines\",\"name\":\"Outside_range_Dry_PROPHET\",\"showlegend\":false,\"type\":\"scatter\",\"x\":[\"2022-11-12T00:00:00\",\"2022-11-12T00:00:00\"],\"y\":[34.49959614450927,113737.91195032632]},{\"line\":{\"color\":\"#990000\",\"dash\":\"dash\",\"width\":0.5},\"mode\":\"lines\",\"name\":\"Outside_range_Dry_PROPHET\",\"showlegend\":false,\"type\":\"scatter\",\"x\":[\"2022-11-14T00:00:00\",\"2022-11-14T00:00:00\"],\"y\":[34.49959614450927,113737.91195032632]},{\"line\":{\"color\":\"#990000\",\"dash\":\"dash\",\"width\":0.5},\"mode\":\"lines\",\"name\":\"Outside_range_Dry_PROPHET\",\"showlegend\":false,\"type\":\"scatter\",\"x\":[\"2022-11-15T00:00:00\",\"2022-11-15T00:00:00\"],\"y\":[34.49959614450927,113737.91195032632]},{\"line\":{\"color\":\"#990000\",\"dash\":\"dash\",\"width\":0.5},\"mode\":\"lines\",\"name\":\"Outside_range_Dry_PROPHET\",\"showlegend\":false,\"type\":\"scatter\",\"x\":[\"2022-11-16T00:00:00\",\"2022-11-16T00:00:00\"],\"y\":[34.49959614450927,113737.91195032632]},{\"line\":{\"color\":\"#990000\",\"dash\":\"dash\",\"width\":0.5},\"mode\":\"lines\",\"name\":\"Outside_range_Dry_PROPHET\",\"showlegend\":false,\"type\":\"scatter\",\"x\":[\"2022-11-17T00:00:00\",\"2022-11-17T00:00:00\"],\"y\":[34.49959614450927,113737.91195032632]},{\"line\":{\"color\":\"#990000\",\"dash\":\"dash\",\"width\":0.5},\"mode\":\"lines\",\"name\":\"Outside_range_Dry_PROPHET\",\"showlegend\":false,\"type\":\"scatter\",\"x\":[\"2022-11-18T00:00:00\",\"2022-11-18T00:00:00\"],\"y\":[34.49959614450927,113737.91195032632]},{\"line\":{\"color\":\"#990000\",\"dash\":\"dash\",\"width\":0.5},\"mode\":\"lines\",\"name\":\"Outside_range_Dry_PROPHET\",\"showlegend\":false,\"type\":\"scatter\",\"x\":[\"2022-11-22T00:00:00\",\"2022-11-22T00:00:00\"],\"y\":[34.49959614450927,113737.91195032632]},{\"line\":{\"color\":\"#990000\",\"dash\":\"dash\",\"width\":0.5},\"mode\":\"lines\",\"name\":\"Outside_range_Dry_PROPHET\",\"showlegend\":false,\"type\":\"scatter\",\"x\":[\"2022-11-24T00:00:00\",\"2022-11-24T00:00:00\"],\"y\":[34.49959614450927,113737.91195032632]},{\"line\":{\"color\":\"#990000\",\"dash\":\"dash\",\"width\":0.5},\"mode\":\"lines\",\"name\":\"Outside_range_Dry_PROPHET\",\"showlegend\":false,\"type\":\"scatter\",\"x\":[\"2022-11-25T00:00:00\",\"2022-11-25T00:00:00\"],\"y\":[34.49959614450927,113737.91195032632]},{\"line\":{\"color\":\"#990000\",\"dash\":\"dash\",\"width\":0.5},\"mode\":\"lines\",\"name\":\"Outside_range_Dry_PROPHET\",\"showlegend\":false,\"type\":\"scatter\",\"x\":[\"2022-11-26T00:00:00\",\"2022-11-26T00:00:00\"],\"y\":[34.49959614450927,113737.91195032632]},{\"line\":{\"color\":\"#990000\",\"dash\":\"dash\",\"width\":0.5},\"mode\":\"lines\",\"name\":\"Outside_range_Dry_PROPHET\",\"showlegend\":false,\"type\":\"scatter\",\"x\":[\"2022-11-28T00:00:00\",\"2022-11-28T00:00:00\"],\"y\":[34.49959614450927,113737.91195032632]},{\"line\":{\"color\":\"#990000\",\"dash\":\"dash\",\"width\":0.5},\"mode\":\"lines\",\"name\":\"Outside_range_Dry_PROPHET\",\"showlegend\":false,\"type\":\"scatter\",\"x\":[\"2022-12-05T00:00:00\",\"2022-12-05T00:00:00\"],\"y\":[34.49959614450927,113737.91195032632]},{\"line\":{\"color\":\"#990000\",\"dash\":\"dash\",\"width\":0.5},\"mode\":\"lines\",\"name\":\"Outside_range_Dry_PROPHET\",\"showlegend\":false,\"type\":\"scatter\",\"x\":[\"2022-12-06T00:00:00\",\"2022-12-06T00:00:00\"],\"y\":[34.49959614450927,113737.91195032632]},{\"line\":{\"color\":\"#990000\",\"dash\":\"dash\",\"width\":0.5},\"mode\":\"lines\",\"name\":\"Outside_range_Dry_PROPHET\",\"showlegend\":false,\"type\":\"scatter\",\"x\":[\"2022-12-07T00:00:00\",\"2022-12-07T00:00:00\"],\"y\":[34.49959614450927,113737.91195032632]},{\"line\":{\"color\":\"#990000\",\"dash\":\"dash\",\"width\":0.5},\"mode\":\"lines\",\"name\":\"Outside_range_Dry_PROPHET\",\"showlegend\":false,\"type\":\"scatter\",\"x\":[\"2022-12-08T00:00:00\",\"2022-12-08T00:00:00\"],\"y\":[34.49959614450927,113737.91195032632]},{\"line\":{\"color\":\"#990000\",\"dash\":\"dash\",\"width\":0.5},\"mode\":\"lines\",\"name\":\"Outside_range_Dry_PROPHET\",\"showlegend\":false,\"type\":\"scatter\",\"x\":[\"2022-12-09T00:00:00\",\"2022-12-09T00:00:00\"],\"y\":[34.49959614450927,113737.91195032632]},{\"line\":{\"color\":\"#990000\",\"dash\":\"dash\",\"width\":0.5},\"mode\":\"lines\",\"name\":\"Outside_range_Dry_PROPHET\",\"showlegend\":false,\"type\":\"scatter\",\"x\":[\"2022-12-10T00:00:00\",\"2022-12-10T00:00:00\"],\"y\":[34.49959614450927,113737.91195032632]},{\"line\":{\"color\":\"#990000\",\"dash\":\"dash\",\"width\":0.5},\"mode\":\"lines\",\"name\":\"Outside_range_Dry_PROPHET\",\"showlegend\":false,\"type\":\"scatter\",\"x\":[\"2022-12-13T00:00:00\",\"2022-12-13T00:00:00\"],\"y\":[34.49959614450927,113737.91195032632]},{\"line\":{\"color\":\"#990000\",\"dash\":\"dash\",\"width\":0.5},\"mode\":\"lines\",\"name\":\"Outside_range_Dry_PROPHET\",\"showlegend\":false,\"type\":\"scatter\",\"x\":[\"2022-12-14T00:00:00\",\"2022-12-14T00:00:00\"],\"y\":[34.49959614450927,113737.91195032632]},{\"line\":{\"color\":\"#990000\",\"dash\":\"dash\",\"width\":0.5},\"mode\":\"lines\",\"name\":\"Outside_range_Dry_PROPHET\",\"showlegend\":false,\"type\":\"scatter\",\"x\":[\"2022-12-15T00:00:00\",\"2022-12-15T00:00:00\"],\"y\":[34.49959614450927,113737.91195032632]},{\"line\":{\"color\":\"#990000\",\"dash\":\"dash\",\"width\":0.5},\"mode\":\"lines\",\"name\":\"Outside_range_Dry_PROPHET\",\"showlegend\":false,\"type\":\"scatter\",\"x\":[\"2022-12-16T00:00:00\",\"2022-12-16T00:00:00\"],\"y\":[34.49959614450927,113737.91195032632]},{\"line\":{\"color\":\"#990000\",\"dash\":\"dash\",\"width\":0.5},\"mode\":\"lines\",\"name\":\"Outside_range_Dry_PROPHET\",\"showlegend\":false,\"type\":\"scatter\",\"x\":[\"2022-12-17T00:00:00\",\"2022-12-17T00:00:00\"],\"y\":[34.49959614450927,113737.91195032632]},{\"line\":{\"color\":\"#990000\",\"dash\":\"dash\",\"width\":0.5},\"mode\":\"lines\",\"name\":\"Outside_range_Dry_PROPHET\",\"showlegend\":false,\"type\":\"scatter\",\"x\":[\"2022-12-19T00:00:00\",\"2022-12-19T00:00:00\"],\"y\":[34.49959614450927,113737.91195032632]},{\"line\":{\"color\":\"#990000\",\"dash\":\"dash\",\"width\":0.5},\"mode\":\"lines\",\"name\":\"Outside_range_Dry_PROPHET\",\"showlegend\":false,\"type\":\"scatter\",\"x\":[\"2022-12-21T00:00:00\",\"2022-12-21T00:00:00\"],\"y\":[34.49959614450927,113737.91195032632]},{\"line\":{\"color\":\"#990000\",\"dash\":\"dash\",\"width\":0.5},\"mode\":\"lines\",\"name\":\"Outside_range_Dry_PROPHET\",\"showlegend\":false,\"type\":\"scatter\",\"x\":[\"2022-12-23T00:00:00\",\"2022-12-23T00:00:00\"],\"y\":[34.49959614450927,113737.91195032632]},{\"line\":{\"color\":\"#990000\",\"dash\":\"dash\",\"width\":0.5},\"mode\":\"lines\",\"name\":\"Outside_range_Dry_PROPHET\",\"showlegend\":false,\"type\":\"scatter\",\"x\":[\"2022-12-24T00:00:00\",\"2022-12-24T00:00:00\"],\"y\":[34.49959614450927,113737.91195032632]},{\"line\":{\"color\":\"#990000\",\"dash\":\"dash\",\"width\":0.5},\"mode\":\"lines\",\"name\":\"Outside_range_Dry_PROPHET\",\"showlegend\":false,\"type\":\"scatter\",\"x\":[\"2022-12-26T00:00:00\",\"2022-12-26T00:00:00\"],\"y\":[34.49959614450927,113737.91195032632]},{\"line\":{\"color\":\"#990000\",\"dash\":\"dash\",\"width\":0.5},\"mode\":\"lines\",\"name\":\"Outside_range_Dry_PROPHET\",\"showlegend\":false,\"type\":\"scatter\",\"x\":[\"2022-12-27T00:00:00\",\"2022-12-27T00:00:00\"],\"y\":[34.49959614450927,113737.91195032632]},{\"line\":{\"color\":\"#990000\",\"dash\":\"dash\",\"width\":0.5},\"mode\":\"lines\",\"name\":\"Outside_range_Dry_PROPHET\",\"showlegend\":false,\"type\":\"scatter\",\"x\":[\"2022-12-28T00:00:00\",\"2022-12-28T00:00:00\"],\"y\":[34.49959614450927,113737.91195032632]},{\"line\":{\"color\":\"#990000\",\"dash\":\"dash\",\"width\":0.5},\"mode\":\"lines\",\"name\":\"Outside_range_Dry_PROPHET\",\"showlegend\":false,\"type\":\"scatter\",\"x\":[\"2022-12-29T00:00:00\",\"2022-12-29T00:00:00\"],\"y\":[34.49959614450927,113737.91195032632]},{\"line\":{\"color\":\"#990000\",\"dash\":\"dash\",\"width\":0.5},\"mode\":\"lines\",\"name\":\"Outside_range_Dry_PROPHET\",\"showlegend\":false,\"type\":\"scatter\",\"x\":[\"2022-12-31T00:00:00\",\"2022-12-31T00:00:00\"],\"y\":[34.49959614450927,113737.91195032632]}],                        {\"template\":{\"data\":{\"bar\":[{\"error_x\":{\"color\":\"#2a3f5f\"},\"error_y\":{\"color\":\"#2a3f5f\"},\"marker\":{\"line\":{\"color\":\"#E5ECF6\",\"width\":0.5},\"pattern\":{\"fillmode\":\"overlay\",\"size\":10,\"solidity\":0.2}},\"type\":\"bar\"}],\"barpolar\":[{\"marker\":{\"line\":{\"color\":\"#E5ECF6\",\"width\":0.5},\"pattern\":{\"fillmode\":\"overlay\",\"size\":10,\"solidity\":0.2}},\"type\":\"barpolar\"}],\"carpet\":[{\"aaxis\":{\"endlinecolor\":\"#2a3f5f\",\"gridcolor\":\"white\",\"linecolor\":\"white\",\"minorgridcolor\":\"white\",\"startlinecolor\":\"#2a3f5f\"},\"baxis\":{\"endlinecolor\":\"#2a3f5f\",\"gridcolor\":\"white\",\"linecolor\":\"white\",\"minorgridcolor\":\"white\",\"startlinecolor\":\"#2a3f5f\"},\"type\":\"carpet\"}],\"choropleth\":[{\"colorbar\":{\"outlinewidth\":0,\"ticks\":\"\"},\"type\":\"choropleth\"}],\"contour\":[{\"colorbar\":{\"outlinewidth\":0,\"ticks\":\"\"},\"colorscale\":[[0.0,\"#0d0887\"],[0.1111111111111111,\"#46039f\"],[0.2222222222222222,\"#7201a8\"],[0.3333333333333333,\"#9c179e\"],[0.4444444444444444,\"#bd3786\"],[0.5555555555555556,\"#d8576b\"],[0.6666666666666666,\"#ed7953\"],[0.7777777777777778,\"#fb9f3a\"],[0.8888888888888888,\"#fdca26\"],[1.0,\"#f0f921\"]],\"type\":\"contour\"}],\"contourcarpet\":[{\"colorbar\":{\"outlinewidth\":0,\"ticks\":\"\"},\"type\":\"contourcarpet\"}],\"heatmap\":[{\"colorbar\":{\"outlinewidth\":0,\"ticks\":\"\"},\"colorscale\":[[0.0,\"#0d0887\"],[0.1111111111111111,\"#46039f\"],[0.2222222222222222,\"#7201a8\"],[0.3333333333333333,\"#9c179e\"],[0.4444444444444444,\"#bd3786\"],[0.5555555555555556,\"#d8576b\"],[0.6666666666666666,\"#ed7953\"],[0.7777777777777778,\"#fb9f3a\"],[0.8888888888888888,\"#fdca26\"],[1.0,\"#f0f921\"]],\"type\":\"heatmap\"}],\"heatmapgl\":[{\"colorbar\":{\"outlinewidth\":0,\"ticks\":\"\"},\"colorscale\":[[0.0,\"#0d0887\"],[0.1111111111111111,\"#46039f\"],[0.2222222222222222,\"#7201a8\"],[0.3333333333333333,\"#9c179e\"],[0.4444444444444444,\"#bd3786\"],[0.5555555555555556,\"#d8576b\"],[0.6666666666666666,\"#ed7953\"],[0.7777777777777778,\"#fb9f3a\"],[0.8888888888888888,\"#fdca26\"],[1.0,\"#f0f921\"]],\"type\":\"heatmapgl\"}],\"histogram\":[{\"marker\":{\"pattern\":{\"fillmode\":\"overlay\",\"size\":10,\"solidity\":0.2}},\"type\":\"histogram\"}],\"histogram2d\":[{\"colorbar\":{\"outlinewidth\":0,\"ticks\":\"\"},\"colorscale\":[[0.0,\"#0d0887\"],[0.1111111111111111,\"#46039f\"],[0.2222222222222222,\"#7201a8\"],[0.3333333333333333,\"#9c179e\"],[0.4444444444444444,\"#bd3786\"],[0.5555555555555556,\"#d8576b\"],[0.6666666666666666,\"#ed7953\"],[0.7777777777777778,\"#fb9f3a\"],[0.8888888888888888,\"#fdca26\"],[1.0,\"#f0f921\"]],\"type\":\"histogram2d\"}],\"histogram2dcontour\":[{\"colorbar\":{\"outlinewidth\":0,\"ticks\":\"\"},\"colorscale\":[[0.0,\"#0d0887\"],[0.1111111111111111,\"#46039f\"],[0.2222222222222222,\"#7201a8\"],[0.3333333333333333,\"#9c179e\"],[0.4444444444444444,\"#bd3786\"],[0.5555555555555556,\"#d8576b\"],[0.6666666666666666,\"#ed7953\"],[0.7777777777777778,\"#fb9f3a\"],[0.8888888888888888,\"#fdca26\"],[1.0,\"#f0f921\"]],\"type\":\"histogram2dcontour\"}],\"mesh3d\":[{\"colorbar\":{\"outlinewidth\":0,\"ticks\":\"\"},\"type\":\"mesh3d\"}],\"parcoords\":[{\"line\":{\"colorbar\":{\"outlinewidth\":0,\"ticks\":\"\"}},\"type\":\"parcoords\"}],\"pie\":[{\"automargin\":true,\"type\":\"pie\"}],\"scatter\":[{\"marker\":{\"colorbar\":{\"outlinewidth\":0,\"ticks\":\"\"}},\"type\":\"scatter\"}],\"scatter3d\":[{\"line\":{\"colorbar\":{\"outlinewidth\":0,\"ticks\":\"\"}},\"marker\":{\"colorbar\":{\"outlinewidth\":0,\"ticks\":\"\"}},\"type\":\"scatter3d\"}],\"scattercarpet\":[{\"marker\":{\"colorbar\":{\"outlinewidth\":0,\"ticks\":\"\"}},\"type\":\"scattercarpet\"}],\"scattergeo\":[{\"marker\":{\"colorbar\":{\"outlinewidth\":0,\"ticks\":\"\"}},\"type\":\"scattergeo\"}],\"scattergl\":[{\"marker\":{\"colorbar\":{\"outlinewidth\":0,\"ticks\":\"\"}},\"type\":\"scattergl\"}],\"scattermapbox\":[{\"marker\":{\"colorbar\":{\"outlinewidth\":0,\"ticks\":\"\"}},\"type\":\"scattermapbox\"}],\"scatterpolar\":[{\"marker\":{\"colorbar\":{\"outlinewidth\":0,\"ticks\":\"\"}},\"type\":\"scatterpolar\"}],\"scatterpolargl\":[{\"marker\":{\"colorbar\":{\"outlinewidth\":0,\"ticks\":\"\"}},\"type\":\"scatterpolargl\"}],\"scatterternary\":[{\"marker\":{\"colorbar\":{\"outlinewidth\":0,\"ticks\":\"\"}},\"type\":\"scatterternary\"}],\"surface\":[{\"colorbar\":{\"outlinewidth\":0,\"ticks\":\"\"},\"colorscale\":[[0.0,\"#0d0887\"],[0.1111111111111111,\"#46039f\"],[0.2222222222222222,\"#7201a8\"],[0.3333333333333333,\"#9c179e\"],[0.4444444444444444,\"#bd3786\"],[0.5555555555555556,\"#d8576b\"],[0.6666666666666666,\"#ed7953\"],[0.7777777777777778,\"#fb9f3a\"],[0.8888888888888888,\"#fdca26\"],[1.0,\"#f0f921\"]],\"type\":\"surface\"}],\"table\":[{\"cells\":{\"fill\":{\"color\":\"#EBF0F8\"},\"line\":{\"color\":\"white\"}},\"header\":{\"fill\":{\"color\":\"#C8D4E3\"},\"line\":{\"color\":\"white\"}},\"type\":\"table\"}]},\"layout\":{\"annotationdefaults\":{\"arrowcolor\":\"#2a3f5f\",\"arrowhead\":0,\"arrowwidth\":1},\"autotypenumbers\":\"strict\",\"coloraxis\":{\"colorbar\":{\"outlinewidth\":0,\"ticks\":\"\"}},\"colorscale\":{\"diverging\":[[0,\"#8e0152\"],[0.1,\"#c51b7d\"],[0.2,\"#de77ae\"],[0.3,\"#f1b6da\"],[0.4,\"#fde0ef\"],[0.5,\"#f7f7f7\"],[0.6,\"#e6f5d0\"],[0.7,\"#b8e186\"],[0.8,\"#7fbc41\"],[0.9,\"#4d9221\"],[1,\"#276419\"]],\"sequential\":[[0.0,\"#0d0887\"],[0.1111111111111111,\"#46039f\"],[0.2222222222222222,\"#7201a8\"],[0.3333333333333333,\"#9c179e\"],[0.4444444444444444,\"#bd3786\"],[0.5555555555555556,\"#d8576b\"],[0.6666666666666666,\"#ed7953\"],[0.7777777777777778,\"#fb9f3a\"],[0.8888888888888888,\"#fdca26\"],[1.0,\"#f0f921\"]],\"sequentialminus\":[[0.0,\"#0d0887\"],[0.1111111111111111,\"#46039f\"],[0.2222222222222222,\"#7201a8\"],[0.3333333333333333,\"#9c179e\"],[0.4444444444444444,\"#bd3786\"],[0.5555555555555556,\"#d8576b\"],[0.6666666666666666,\"#ed7953\"],[0.7777777777777778,\"#fb9f3a\"],[0.8888888888888888,\"#fdca26\"],[1.0,\"#f0f921\"]]},\"colorway\":[\"#636efa\",\"#EF553B\",\"#00cc96\",\"#ab63fa\",\"#FFA15A\",\"#19d3f3\",\"#FF6692\",\"#B6E880\",\"#FF97FF\",\"#FECB52\"],\"font\":{\"color\":\"#2a3f5f\"},\"geo\":{\"bgcolor\":\"white\",\"lakecolor\":\"white\",\"landcolor\":\"#E5ECF6\",\"showlakes\":true,\"showland\":true,\"subunitcolor\":\"white\"},\"hoverlabel\":{\"align\":\"left\"},\"hovermode\":\"closest\",\"mapbox\":{\"style\":\"light\"},\"paper_bgcolor\":\"white\",\"plot_bgcolor\":\"#E5ECF6\",\"polar\":{\"angularaxis\":{\"gridcolor\":\"white\",\"linecolor\":\"white\",\"ticks\":\"\"},\"bgcolor\":\"#E5ECF6\",\"radialaxis\":{\"gridcolor\":\"white\",\"linecolor\":\"white\",\"ticks\":\"\"}},\"scene\":{\"xaxis\":{\"backgroundcolor\":\"#E5ECF6\",\"gridcolor\":\"white\",\"gridwidth\":2,\"linecolor\":\"white\",\"showbackground\":true,\"ticks\":\"\",\"zerolinecolor\":\"white\"},\"yaxis\":{\"backgroundcolor\":\"#E5ECF6\",\"gridcolor\":\"white\",\"gridwidth\":2,\"linecolor\":\"white\",\"showbackground\":true,\"ticks\":\"\",\"zerolinecolor\":\"white\"},\"zaxis\":{\"backgroundcolor\":\"#E5ECF6\",\"gridcolor\":\"white\",\"gridwidth\":2,\"linecolor\":\"white\",\"showbackground\":true,\"ticks\":\"\",\"zerolinecolor\":\"white\"}},\"shapedefaults\":{\"line\":{\"color\":\"#2a3f5f\"}},\"ternary\":{\"aaxis\":{\"gridcolor\":\"white\",\"linecolor\":\"white\",\"ticks\":\"\"},\"baxis\":{\"gridcolor\":\"white\",\"linecolor\":\"white\",\"ticks\":\"\"},\"bgcolor\":\"#E5ECF6\",\"caxis\":{\"gridcolor\":\"white\",\"linecolor\":\"white\",\"ticks\":\"\"}},\"title\":{\"x\":0.05},\"xaxis\":{\"automargin\":true,\"gridcolor\":\"white\",\"linecolor\":\"white\",\"ticks\":\"\",\"title\":{\"standoff\":15},\"zerolinecolor\":\"white\",\"zerolinewidth\":2},\"yaxis\":{\"automargin\":true,\"gridcolor\":\"white\",\"linecolor\":\"white\",\"ticks\":\"\",\"title\":{\"standoff\":15},\"zerolinecolor\":\"white\",\"zerolinewidth\":2}}}},                        {\"responsive\": true}                    )                };                            </script>        </div>\n",
       "</body>\n",
       "</html>"
      ]
     },
     "metadata": {
      "application/vnd.databricks.v1+output": {
       "addedWidgets": {},
       "arguments": {},
       "data": "<html>\n<head><meta charset=\"utf-8\" /></head>\n<body>\n    <div>            <script src=\"https://cdnjs.cloudflare.com/ajax/libs/mathjax/2.7.5/MathJax.js?config=TeX-AMS-MML_SVG\"></script><script type=\"text/javascript\">if (window.MathJax) {MathJax.Hub.Config({SVG: {font: \"STIX-Web\"}});}</script>                <script type=\"text/javascript\">window.PlotlyConfig = {MathJaxConfig: 'local'};</script>\n        <script src=\"https://cdn.plot.ly/plotly-2.2.0.min.js\"></script>                <div id=\"4084f745-eada-4e7f-9958-173e5cdabfef\" class=\"plotly-graph-div\" style=\"height:100%; width:100%;\"></div>            <script type=\"text/javascript\">                                    window.PLOTLYENV=window.PLOTLYENV || {};                                    if (document.getElementById(\"4084f745-eada-4e7f-9958-173e5cdabfef\")) {                    Plotly.newPlot(                        \"4084f745-eada-4e7f-9958-173e5cdabfef\",                        [{\"line\":{\"color\":\"#0000FF\"},\"name\":\"AbsError_Dry_WOW\",\"showlegend\":true,\"type\":\"scatter\",\"x\":[\"2022-05-10T00:00:00\",\"2022-05-11T00:00:00\",\"2022-05-12T00:00:00\",\"2022-05-13T00:00:00\",\"2022-05-14T00:00:00\",\"2022-05-16T00:00:00\",\"2022-05-17T00:00:00\",\"2022-05-18T00:00:00\",\"2022-05-19T00:00:00\",\"2022-05-20T00:00:00\",\"2022-05-23T00:00:00\",\"2022-05-24T00:00:00\",\"2022-05-25T00:00:00\",\"2022-05-27T00:00:00\",\"2022-05-30T00:00:00\",\"2022-05-31T00:00:00\",\"2022-06-01T00:00:00\",\"2022-06-02T00:00:00\",\"2022-06-03T00:00:00\",\"2022-06-04T00:00:00\",\"2022-06-07T00:00:00\",\"2022-06-08T00:00:00\",\"2022-06-09T00:00:00\",\"2022-06-10T00:00:00\",\"2022-06-11T00:00:00\",\"2022-06-13T00:00:00\",\"2022-06-14T00:00:00\",\"2022-06-15T00:00:00\",\"2022-06-16T00:00:00\",\"2022-06-17T00:00:00\",\"2022-06-18T00:00:00\",\"2022-06-20T00:00:00\",\"2022-06-21T00:00:00\",\"2022-06-22T00:00:00\",\"2022-06-23T00:00:00\",\"2022-06-24T00:00:00\",\"2022-06-25T00:00:00\",\"2022-06-27T00:00:00\",\"2022-06-28T00:00:00\",\"2022-06-29T00:00:00\",\"2022-06-30T00:00:00\",\"2022-07-01T00:00:00\",\"2022-07-02T00:00:00\",\"2022-07-04T00:00:00\",\"2022-07-05T00:00:00\",\"2022-07-06T00:00:00\",\"2022-07-07T00:00:00\",\"2022-07-08T00:00:00\",\"2022-07-09T00:00:00\",\"2022-07-11T00:00:00\",\"2022-07-12T00:00:00\",\"2022-07-13T00:00:00\",\"2022-07-14T00:00:00\",\"2022-07-15T00:00:00\",\"2022-07-16T00:00:00\",\"2022-07-18T00:00:00\",\"2022-07-19T00:00:00\",\"2022-07-20T00:00:00\",\"2022-07-22T00:00:00\",\"2022-07-23T00:00:00\",\"2022-07-25T00:00:00\",\"2022-07-26T00:00:00\",\"2022-07-27T00:00:00\",\"2022-07-28T00:00:00\",\"2022-07-29T00:00:00\",\"2022-07-30T00:00:00\",\"2022-08-01T00:00:00\",\"2022-08-02T00:00:00\",\"2022-08-03T00:00:00\",\"2022-08-04T00:00:00\",\"2022-08-05T00:00:00\",\"2022-08-06T00:00:00\",\"2022-08-08T00:00:00\",\"2022-08-09T00:00:00\",\"2022-08-10T00:00:00\",\"2022-08-11T00:00:00\",\"2022-08-12T00:00:00\",\"2022-08-13T00:00:00\",\"2022-08-16T00:00:00\",\"2022-08-17T00:00:00\",\"2022-08-18T00:00:00\",\"2022-08-19T00:00:00\",\"2022-08-22T00:00:00\",\"2022-08-23T00:00:00\",\"2022-08-24T00:00:00\",\"2022-08-25T00:00:00\",\"2022-08-26T00:00:00\",\"2022-08-27T00:00:00\",\"2022-08-29T00:00:00\",\"2022-08-30T00:00:00\",\"2022-08-31T00:00:00\",\"2022-09-01T00:00:00\",\"2022-09-02T00:00:00\",\"2022-09-03T00:00:00\",\"2022-09-05T00:00:00\",\"2022-09-06T00:00:00\",\"2022-09-07T00:00:00\",\"2022-09-08T00:00:00\",\"2022-09-09T00:00:00\",\"2022-09-10T00:00:00\",\"2022-09-12T00:00:00\",\"2022-09-13T00:00:00\",\"2022-09-14T00:00:00\",\"2022-09-15T00:00:00\",\"2022-09-16T00:00:00\",\"2022-09-17T00:00:00\",\"2022-09-19T00:00:00\",\"2022-09-20T00:00:00\",\"2022-09-21T00:00:00\",\"2022-09-22T00:00:00\",\"2022-09-23T00:00:00\",\"2022-09-24T00:00:00\",\"2022-09-26T00:00:00\",\"2022-09-27T00:00:00\",\"2022-09-28T00:00:00\",\"2022-09-29T00:00:00\",\"2022-09-30T00:00:00\",\"2022-10-01T00:00:00\",\"2022-10-03T00:00:00\",\"2022-10-04T00:00:00\",\"2022-10-05T00:00:00\",\"2022-10-06T00:00:00\",\"2022-10-07T00:00:00\",\"2022-10-08T00:00:00\",\"2022-10-10T00:00:00\",\"2022-10-11T00:00:00\",\"2022-10-12T00:00:00\",\"2022-10-13T00:00:00\",\"2022-10-14T00:00:00\",\"2022-10-15T00:00:00\",\"2022-10-17T00:00:00\",\"2022-10-18T00:00:00\",\"2022-10-19T00:00:00\",\"2022-10-20T00:00:00\",\"2022-10-21T00:00:00\",\"2022-10-22T00:00:00\",\"2022-10-24T00:00:00\",\"2022-10-25T00:00:00\",\"2022-10-26T00:00:00\",\"2022-10-27T00:00:00\",\"2022-10-28T00:00:00\",\"2022-10-29T00:00:00\",\"2022-10-31T00:00:00\",\"2022-11-02T00:00:00\",\"2022-11-03T00:00:00\",\"2022-11-04T00:00:00\",\"2022-11-05T00:00:00\",\"2022-11-07T00:00:00\",\"2022-11-08T00:00:00\",\"2022-11-09T00:00:00\",\"2022-11-10T00:00:00\",\"2022-11-12T00:00:00\",\"2022-11-14T00:00:00\",\"2022-11-15T00:00:00\",\"2022-11-16T00:00:00\",\"2022-11-17T00:00:00\",\"2022-11-18T00:00:00\",\"2022-11-19T00:00:00\",\"2022-11-21T00:00:00\",\"2022-11-22T00:00:00\",\"2022-11-23T00:00:00\",\"2022-11-24T00:00:00\",\"2022-11-25T00:00:00\",\"2022-11-26T00:00:00\",\"2022-11-28T00:00:00\",\"2022-11-29T00:00:00\",\"2022-11-30T00:00:00\",\"2022-12-01T00:00:00\",\"2022-12-02T00:00:00\",\"2022-12-03T00:00:00\",\"2022-12-05T00:00:00\",\"2022-12-06T00:00:00\",\"2022-12-07T00:00:00\",\"2022-12-08T00:00:00\",\"2022-12-09T00:00:00\",\"2022-12-10T00:00:00\",\"2022-12-12T00:00:00\",\"2022-12-13T00:00:00\",\"2022-12-14T00:00:00\",\"2022-12-15T00:00:00\",\"2022-12-16T00:00:00\",\"2022-12-17T00:00:00\",\"2022-12-19T00:00:00\",\"2022-12-20T00:00:00\",\"2022-12-21T00:00:00\",\"2022-12-22T00:00:00\",\"2022-12-23T00:00:00\",\"2022-12-24T00:00:00\",\"2022-12-26T00:00:00\",\"2022-12-27T00:00:00\",\"2022-12-28T00:00:00\",\"2022-12-29T00:00:00\",\"2022-12-30T00:00:00\",\"2022-12-31T00:00:00\"],\"y\":[258.7297324605461,14596.213526771855,16271.343564024806,11108.833847380076,17129.948663008094,791.479636002201,1351.4882373940418,15257.83305392805,10725.692723049957,7560.135446805565,17524.065450345573,3302.4675079598164,6512.465627458027,896.2747375456602,21346.695613065735,8633.191845130175,3628.9021111171605,7621.342185646317,8716.990826030771,8173.363611513487,20111.841156252136,3450.3133862100003,679.6808120830246,1093.3016450877185,2800.2996504924813,2892.627435531016,663.3153383782628,758.062786752067,9956.462573692756,8478.610575386308,7163.394445655598,3932.975599623649,138.78612073934346,16851.545877828525,6602.419068696792,9558.475448216836,8851.027327602074,284.84944222372724,13911.268448768933,4436.644374550386,2057.370004981385,4213.704386485675,832.2078413941563,3002.7517919022066,8861.848074670248,9722.946109945704,4271.983298270272,686.0814988853817,2988.0239332666824,7607.600000000006,2477.6399999999994,7599.5,1515.9819198917758,1958.9259999999995,26262.917792435874,9489.700000000012,3187.8799999999974,1813.0,4908.861999999994,2176.858705382794,795.6000000000058,4595.5999999999985,9307.5,9541.340944918862,7109.223999999995,4099.767317041624,4650.559999999998,3530.3039999999964,2530.1200000000026,1820.1100000000006,11134.667999999998,6336.5293976147295,12.279999999998836,539.1999999999971,1010.0400000000009,866.6999999999971,3768.428,6179.204990788632,1364.1759999999995,9379.440000000002,4638.540000000001,19209.068,6852.5,190.67199999999866,4224.559999999998,1022.0899999999965,2211.933999999994,1929.471306547508,2499.199999999997,12378.239999999998,493.1600000000035,5264.470000000001,5851.671999999999,2021.2597355738835,5274.779999999999,1177.4320000000007,4997.399999999994,5627.739999999998,7184.345999999998,1149.90121465017,5930.0,3025.6640000000043,7669.759999999995,15439.029999999999,2163.796000000002,5431.300479802689,5176.0,2879.0,4503.0,14407.0,4.0,8594.0,2241.7000000000116,5049.080000000002,4446.0,6548.1470000000045,3140.3099999999977,8061.182536980181,3592.0499999999884,4764.080000000002,680.0,3464.5440000000017,6239.921999999999,693.9345409652524,53.95000000001164,1083.4000000000087,6188.5,3002.709999999999,1180.3799999999974,886.9138166284902,5404.100000000006,2508.479999999996,4715.5,5055.395000000004,5049.016000000003,5590.743469288012,10750.950000000012,15696.679999999993,3526.0,3924.639000000003,2554.608,7709.25323030819,2580.0,333.5,1525.5699999999997,855.0139999999956,15089.586073831728,10155.649999999994,59204.84,52066.0,12626.047999999995,12772.547759168825,3614.550000000003,3908.4400000000023,1548.5,9929.157999999996,8524.784000000007,9878.118259619223,10702.62000000001,7270.0,5536.239999999991,11479.488999999994,5132.502,4357.073494568205,2866.0,8634.919999999998,1694.1600000000035,978.8710000000137,7222.603999999999,2741.024320233846,8034.0,8127.419999999998,3803.479999999996,2386.028999999995,2789.837999999996,910.6944652820821,3763.0,1100.574999999997,2468.1150000000052,1679.3759999999966,280.62600000000384,19549.04536515723,3475.0,2027.449999999997,17891.380000000005,6982.351999999999,894.2590000000055,32288.676488370707,4577.0,7695.2699999999895,24236.319999999992,20794.34599999999,8915.112000000001,15932.131426049978]},{\"line\":{\"color\":\"#FF0000\"},\"name\":\"AbsError_Dry_PROPHET\",\"showlegend\":true,\"type\":\"scatter\",\"x\":[\"2022-05-10T00:00:00\",\"2022-05-11T00:00:00\",\"2022-05-12T00:00:00\",\"2022-05-13T00:00:00\",\"2022-05-14T00:00:00\",\"2022-05-16T00:00:00\",\"2022-05-17T00:00:00\",\"2022-05-18T00:00:00\",\"2022-05-19T00:00:00\",\"2022-05-20T00:00:00\",\"2022-05-23T00:00:00\",\"2022-05-24T00:00:00\",\"2022-05-25T00:00:00\",\"2022-05-27T00:00:00\",\"2022-05-30T00:00:00\",\"2022-05-31T00:00:00\",\"2022-06-01T00:00:00\",\"2022-06-02T00:00:00\",\"2022-06-03T00:00:00\",\"2022-06-04T00:00:00\",\"2022-06-07T00:00:00\",\"2022-06-08T00:00:00\",\"2022-06-09T00:00:00\",\"2022-06-10T00:00:00\",\"2022-06-11T00:00:00\",\"2022-06-13T00:00:00\",\"2022-06-14T00:00:00\",\"2022-06-15T00:00:00\",\"2022-06-16T00:00:00\",\"2022-06-17T00:00:00\",\"2022-06-18T00:00:00\",\"2022-06-20T00:00:00\",\"2022-06-21T00:00:00\",\"2022-06-22T00:00:00\",\"2022-06-23T00:00:00\",\"2022-06-24T00:00:00\",\"2022-06-25T00:00:00\",\"2022-06-27T00:00:00\",\"2022-06-28T00:00:00\",\"2022-06-29T00:00:00\",\"2022-06-30T00:00:00\",\"2022-07-01T00:00:00\",\"2022-07-02T00:00:00\",\"2022-07-04T00:00:00\",\"2022-07-05T00:00:00\",\"2022-07-06T00:00:00\",\"2022-07-07T00:00:00\",\"2022-07-08T00:00:00\",\"2022-07-09T00:00:00\",\"2022-07-11T00:00:00\",\"2022-07-12T00:00:00\",\"2022-07-13T00:00:00\",\"2022-07-14T00:00:00\",\"2022-07-15T00:00:00\",\"2022-07-16T00:00:00\",\"2022-07-18T00:00:00\",\"2022-07-19T00:00:00\",\"2022-07-20T00:00:00\",\"2022-07-22T00:00:00\",\"2022-07-23T00:00:00\",\"2022-07-25T00:00:00\",\"2022-07-26T00:00:00\",\"2022-07-27T00:00:00\",\"2022-07-28T00:00:00\",\"2022-07-29T00:00:00\",\"2022-07-30T00:00:00\",\"2022-08-01T00:00:00\",\"2022-08-02T00:00:00\",\"2022-08-03T00:00:00\",\"2022-08-04T00:00:00\",\"2022-08-05T00:00:00\",\"2022-08-06T00:00:00\",\"2022-08-08T00:00:00\",\"2022-08-09T00:00:00\",\"2022-08-10T00:00:00\",\"2022-08-11T00:00:00\",\"2022-08-12T00:00:00\",\"2022-08-13T00:00:00\",\"2022-08-16T00:00:00\",\"2022-08-17T00:00:00\",\"2022-08-18T00:00:00\",\"2022-08-19T00:00:00\",\"2022-08-22T00:00:00\",\"2022-08-23T00:00:00\",\"2022-08-24T00:00:00\",\"2022-08-25T00:00:00\",\"2022-08-26T00:00:00\",\"2022-08-27T00:00:00\",\"2022-08-29T00:00:00\",\"2022-08-30T00:00:00\",\"2022-08-31T00:00:00\",\"2022-09-01T00:00:00\",\"2022-09-02T00:00:00\",\"2022-09-03T00:00:00\",\"2022-09-05T00:00:00\",\"2022-09-06T00:00:00\",\"2022-09-07T00:00:00\",\"2022-09-08T00:00:00\",\"2022-09-09T00:00:00\",\"2022-09-10T00:00:00\",\"2022-09-12T00:00:00\",\"2022-09-13T00:00:00\",\"2022-09-14T00:00:00\",\"2022-09-15T00:00:00\",\"2022-09-16T00:00:00\",\"2022-09-17T00:00:00\",\"2022-09-19T00:00:00\",\"2022-09-20T00:00:00\",\"2022-09-21T00:00:00\",\"2022-09-22T00:00:00\",\"2022-09-23T00:00:00\",\"2022-09-24T00:00:00\",\"2022-09-26T00:00:00\",\"2022-09-27T00:00:00\",\"2022-09-28T00:00:00\",\"2022-09-29T00:00:00\",\"2022-09-30T00:00:00\",\"2022-10-01T00:00:00\",\"2022-10-03T00:00:00\",\"2022-10-04T00:00:00\",\"2022-10-05T00:00:00\",\"2022-10-06T00:00:00\",\"2022-10-07T00:00:00\",\"2022-10-08T00:00:00\",\"2022-10-10T00:00:00\",\"2022-10-11T00:00:00\",\"2022-10-12T00:00:00\",\"2022-10-13T00:00:00\",\"2022-10-14T00:00:00\",\"2022-10-15T00:00:00\",\"2022-10-17T00:00:00\",\"2022-10-18T00:00:00\",\"2022-10-19T00:00:00\",\"2022-10-20T00:00:00\",\"2022-10-21T00:00:00\",\"2022-10-22T00:00:00\",\"2022-10-24T00:00:00\",\"2022-10-25T00:00:00\",\"2022-10-26T00:00:00\",\"2022-10-27T00:00:00\",\"2022-10-28T00:00:00\",\"2022-10-29T00:00:00\",\"2022-10-31T00:00:00\",\"2022-11-02T00:00:00\",\"2022-11-03T00:00:00\",\"2022-11-04T00:00:00\",\"2022-11-05T00:00:00\",\"2022-11-07T00:00:00\",\"2022-11-08T00:00:00\",\"2022-11-09T00:00:00\",\"2022-11-10T00:00:00\",\"2022-11-12T00:00:00\",\"2022-11-14T00:00:00\",\"2022-11-15T00:00:00\",\"2022-11-16T00:00:00\",\"2022-11-17T00:00:00\",\"2022-11-18T00:00:00\",\"2022-11-19T00:00:00\",\"2022-11-21T00:00:00\",\"2022-11-22T00:00:00\",\"2022-11-23T00:00:00\",\"2022-11-24T00:00:00\",\"2022-11-25T00:00:00\",\"2022-11-26T00:00:00\",\"2022-11-28T00:00:00\",\"2022-11-29T00:00:00\",\"2022-11-30T00:00:00\",\"2022-12-01T00:00:00\",\"2022-12-02T00:00:00\",\"2022-12-03T00:00:00\",\"2022-12-05T00:00:00\",\"2022-12-06T00:00:00\",\"2022-12-07T00:00:00\",\"2022-12-08T00:00:00\",\"2022-12-09T00:00:00\",\"2022-12-10T00:00:00\",\"2022-12-12T00:00:00\",\"2022-12-13T00:00:00\",\"2022-12-14T00:00:00\",\"2022-12-15T00:00:00\",\"2022-12-16T00:00:00\",\"2022-12-17T00:00:00\",\"2022-12-19T00:00:00\",\"2022-12-20T00:00:00\",\"2022-12-21T00:00:00\",\"2022-12-22T00:00:00\",\"2022-12-23T00:00:00\",\"2022-12-24T00:00:00\",\"2022-12-26T00:00:00\",\"2022-12-27T00:00:00\",\"2022-12-28T00:00:00\",\"2022-12-29T00:00:00\",\"2022-12-30T00:00:00\",\"2022-12-31T00:00:00\"],\"y\":[9375.758080716128,11291.560348468323,5809.083171740538,9537.41105785143,30757.793754807317,919.8473188117205,12235.708791081823,15760.200668581965,4316.765556303246,8839.736473382116,10049.100442082301,25198.96918221563,9666.581908642314,6622.11415943232,14326.184963253952,9199.38996946295,4050.5011767108663,4003.803284934562,9911.005716814521,29766.838321107163,37884.075160566994,1086.7626465331487,12361.194273501693,5197.2756027243595,27251.265065658183,2937.691845846377,4730.210225410716,14087.289433991711,9381.127447740582,16318.587260904023,32417.67350140548,11138.851945696966,3253.1183814747783,8522.94198113933,17658.82873750203,11696.848270099741,6921.977817289786,13077.478414605634,6412.425927294331,63.149787049645965,4349.017243087495,3856.3792717023825,13699.345247564095,18964.820304693043,524.668693617612,9858.177134425925,5129.689312622642,7881.885529014813,5126.54823025754,27526.9084637044,11028.777684297165,2629.1479705616875,3144.580951780401,11409.884904017286,20785.290978901598,32486.47269532914,14355.824403227627,7289.363179020715,5176.999679126042,6419.658463638552,17511.53600114504,5543.136245776397,2811.8270201954438,2822.7874932279665,1396.0356547551346,10581.52230779759,304.93145746571827,5941.234654967448,5914.324350394636,5746.121627202643,654.3633345916023,15298.981882151638,19993.427118394757,3795.1515606609464,4973.414963769901,2831.3893860181415,7842.001819804951,16383.980146087739,2033.869456567627,16760.57064018445,7556.954590184236,15493.01235539977,50911.14246003149,365.79926682478253,4888.086066332384,4930.046280172668,438.1281986138056,17646.93347063304,42992.19913215624,12917.31097087889,16315.722123018772,13782.186115658216,11842.395786741006,3692.298400373671,7788.209706705966,8957.893524002473,1145.7924541456596,8655.51161897568,12838.035791621718,7081.397128755067,48719.96123141647,13850.569616685534,6430.783498381177,19399.09898408698,14405.574455647919,2622.3512814260757,21923.303909162583,12193.349769598193,7800.296891730031,22186.877438114694,20069.565320320136,11179.406741676277,22756.59573166314,17709.19605241416,3249.441968903484,5270.923943652742,13961.86533647227,5541.2904723238535,2402.0836714640463,962.976861480216,6450.408363910923,6751.297466347998,3417.7237439446617,2247.751409266355,2130.8143567692023,577.1984554626688,2106.550856019334,187.58087324540247,5319.9747046663615,5910.642246698488,1197.2575776712329,2772.0015221255744,2017.053348599009,4214.480021171221,12022.252686615058,948.507778173589,12541.473560612823,9358.683064875178,6291.327813377713,8781.09009693592,1503.891291790249,4356.760377861021,53.826248678786214,55911.99890998841,6387.870384238624,34626.901679636154,11107.063448711422,8269.628407627752,113737.91195032632,47258.15179535982,35665.66081536033,19879.334198828044,11237.71481649563,9000.677984607653,14162.463597335838,22695.44078414995,11913.627649987073,1297.8967508657151,34.49959614450927,11962.970984005893,2100.8968204812118,6176.625469874591,10052.47579600307,8132.5592759174615,52047.11661362619,6217.753100886883,6339.4845558426605,5802.632248960152,5088.199834986823,4028.6663879267508,10267.71333801403,12746.904564068798,15302.092838810451,14652.473535140249,17818.775790324464,10180.797938537115,1834.5786295494763,9461.529988972878,6786.168519930565,6209.821331900552,8660.56223742936,21970.884951053747,34631.188445554566,6307.274552674309,16450.522586905863,3705.1903542497166,8029.955008356446,27282.161376844568,33305.249962810194,21604.1181709051,30199.49570338655,29138.71780998104,4248.3142116292,22614.70382187578]},{\"line\":{\"color\":\"#000099\",\"dash\":\"dash\",\"width\":0.5},\"mode\":\"lines\",\"name\":\"Outside_range_Dry_WOW\",\"showlegend\":true,\"type\":\"scatter\",\"x\":[\"2022-05-11T00:00:00\",\"2022-05-11T00:00:00\"],\"y\":[4.0,59204.84]},{\"line\":{\"color\":\"#000099\",\"dash\":\"dash\",\"width\":0.5},\"mode\":\"lines\",\"name\":\"Outside_range_Dry_WOW\",\"showlegend\":false,\"type\":\"scatter\",\"x\":[\"2022-05-12T00:00:00\",\"2022-05-12T00:00:00\"],\"y\":[4.0,59204.84]},{\"line\":{\"color\":\"#000099\",\"dash\":\"dash\",\"width\":0.5},\"mode\":\"lines\",\"name\":\"Outside_range_Dry_WOW\",\"showlegend\":false,\"type\":\"scatter\",\"x\":[\"2022-05-13T00:00:00\",\"2022-05-13T00:00:00\"],\"y\":[4.0,59204.84]},{\"line\":{\"color\":\"#000099\",\"dash\":\"dash\",\"width\":0.5},\"mode\":\"lines\",\"name\":\"Outside_range_Dry_WOW\",\"showlegend\":false,\"type\":\"scatter\",\"x\":[\"2022-05-14T00:00:00\",\"2022-05-14T00:00:00\"],\"y\":[4.0,59204.84]},{\"line\":{\"color\":\"#000099\",\"dash\":\"dash\",\"width\":0.5},\"mode\":\"lines\",\"name\":\"Outside_range_Dry_WOW\",\"showlegend\":false,\"type\":\"scatter\",\"x\":[\"2022-05-18T00:00:00\",\"2022-05-18T00:00:00\"],\"y\":[4.0,59204.84]},{\"line\":{\"color\":\"#000099\",\"dash\":\"dash\",\"width\":0.5},\"mode\":\"lines\",\"name\":\"Outside_range_Dry_WOW\",\"showlegend\":false,\"type\":\"scatter\",\"x\":[\"2022-05-19T00:00:00\",\"2022-05-19T00:00:00\"],\"y\":[4.0,59204.84]},{\"line\":{\"color\":\"#000099\",\"dash\":\"dash\",\"width\":0.5},\"mode\":\"lines\",\"name\":\"Outside_range_Dry_WOW\",\"showlegend\":false,\"type\":\"scatter\",\"x\":[\"2022-05-20T00:00:00\",\"2022-05-20T00:00:00\"],\"y\":[4.0,59204.84]},{\"line\":{\"color\":\"#000099\",\"dash\":\"dash\",\"width\":0.5},\"mode\":\"lines\",\"name\":\"Outside_range_Dry_WOW\",\"showlegend\":false,\"type\":\"scatter\",\"x\":[\"2022-05-23T00:00:00\",\"2022-05-23T00:00:00\"],\"y\":[4.0,59204.84]},{\"line\":{\"color\":\"#000099\",\"dash\":\"dash\",\"width\":0.5},\"mode\":\"lines\",\"name\":\"Outside_range_Dry_WOW\",\"showlegend\":false,\"type\":\"scatter\",\"x\":[\"2022-05-25T00:00:00\",\"2022-05-25T00:00:00\"],\"y\":[4.0,59204.84]},{\"line\":{\"color\":\"#000099\",\"dash\":\"dash\",\"width\":0.5},\"mode\":\"lines\",\"name\":\"Outside_range_Dry_WOW\",\"showlegend\":false,\"type\":\"scatter\",\"x\":[\"2022-05-30T00:00:00\",\"2022-05-30T00:00:00\"],\"y\":[4.0,59204.84]},{\"line\":{\"color\":\"#000099\",\"dash\":\"dash\",\"width\":0.5},\"mode\":\"lines\",\"name\":\"Outside_range_Dry_WOW\",\"showlegend\":false,\"type\":\"scatter\",\"x\":[\"2022-05-31T00:00:00\",\"2022-05-31T00:00:00\"],\"y\":[4.0,59204.84]},{\"line\":{\"color\":\"#000099\",\"dash\":\"dash\",\"width\":0.5},\"mode\":\"lines\",\"name\":\"Outside_range_Dry_WOW\",\"showlegend\":false,\"type\":\"scatter\",\"x\":[\"2022-06-02T00:00:00\",\"2022-06-02T00:00:00\"],\"y\":[4.0,59204.84]},{\"line\":{\"color\":\"#000099\",\"dash\":\"dash\",\"width\":0.5},\"mode\":\"lines\",\"name\":\"Outside_range_Dry_WOW\",\"showlegend\":false,\"type\":\"scatter\",\"x\":[\"2022-06-03T00:00:00\",\"2022-06-03T00:00:00\"],\"y\":[4.0,59204.84]},{\"line\":{\"color\":\"#000099\",\"dash\":\"dash\",\"width\":0.5},\"mode\":\"lines\",\"name\":\"Outside_range_Dry_WOW\",\"showlegend\":false,\"type\":\"scatter\",\"x\":[\"2022-06-04T00:00:00\",\"2022-06-04T00:00:00\"],\"y\":[4.0,59204.84]},{\"line\":{\"color\":\"#000099\",\"dash\":\"dash\",\"width\":0.5},\"mode\":\"lines\",\"name\":\"Outside_range_Dry_WOW\",\"showlegend\":false,\"type\":\"scatter\",\"x\":[\"2022-06-07T00:00:00\",\"2022-06-07T00:00:00\"],\"y\":[4.0,59204.84]},{\"line\":{\"color\":\"#000099\",\"dash\":\"dash\",\"width\":0.5},\"mode\":\"lines\",\"name\":\"Outside_range_Dry_WOW\",\"showlegend\":false,\"type\":\"scatter\",\"x\":[\"2022-06-16T00:00:00\",\"2022-06-16T00:00:00\"],\"y\":[4.0,59204.84]},{\"line\":{\"color\":\"#000099\",\"dash\":\"dash\",\"width\":0.5},\"mode\":\"lines\",\"name\":\"Outside_range_Dry_WOW\",\"showlegend\":false,\"type\":\"scatter\",\"x\":[\"2022-06-17T00:00:00\",\"2022-06-17T00:00:00\"],\"y\":[4.0,59204.84]},{\"line\":{\"color\":\"#000099\",\"dash\":\"dash\",\"width\":0.5},\"mode\":\"lines\",\"name\":\"Outside_range_Dry_WOW\",\"showlegend\":false,\"type\":\"scatter\",\"x\":[\"2022-06-18T00:00:00\",\"2022-06-18T00:00:00\"],\"y\":[4.0,59204.84]},{\"line\":{\"color\":\"#000099\",\"dash\":\"dash\",\"width\":0.5},\"mode\":\"lines\",\"name\":\"Outside_range_Dry_WOW\",\"showlegend\":false,\"type\":\"scatter\",\"x\":[\"2022-06-22T00:00:00\",\"2022-06-22T00:00:00\"],\"y\":[4.0,59204.84]},{\"line\":{\"color\":\"#000099\",\"dash\":\"dash\",\"width\":0.5},\"mode\":\"lines\",\"name\":\"Outside_range_Dry_WOW\",\"showlegend\":false,\"type\":\"scatter\",\"x\":[\"2022-06-23T00:00:00\",\"2022-06-23T00:00:00\"],\"y\":[4.0,59204.84]},{\"line\":{\"color\":\"#000099\",\"dash\":\"dash\",\"width\":0.5},\"mode\":\"lines\",\"name\":\"Outside_range_Dry_WOW\",\"showlegend\":false,\"type\":\"scatter\",\"x\":[\"2022-06-24T00:00:00\",\"2022-06-24T00:00:00\"],\"y\":[4.0,59204.84]},{\"line\":{\"color\":\"#000099\",\"dash\":\"dash\",\"width\":0.5},\"mode\":\"lines\",\"name\":\"Outside_range_Dry_WOW\",\"showlegend\":false,\"type\":\"scatter\",\"x\":[\"2022-06-25T00:00:00\",\"2022-06-25T00:00:00\"],\"y\":[4.0,59204.84]},{\"line\":{\"color\":\"#000099\",\"dash\":\"dash\",\"width\":0.5},\"mode\":\"lines\",\"name\":\"Outside_range_Dry_WOW\",\"showlegend\":false,\"type\":\"scatter\",\"x\":[\"2022-06-28T00:00:00\",\"2022-06-28T00:00:00\"],\"y\":[4.0,59204.84]},{\"line\":{\"color\":\"#000099\",\"dash\":\"dash\",\"width\":0.5},\"mode\":\"lines\",\"name\":\"Outside_range_Dry_WOW\",\"showlegend\":false,\"type\":\"scatter\",\"x\":[\"2022-07-05T00:00:00\",\"2022-07-05T00:00:00\"],\"y\":[4.0,59204.84]},{\"line\":{\"color\":\"#000099\",\"dash\":\"dash\",\"width\":0.5},\"mode\":\"lines\",\"name\":\"Outside_range_Dry_WOW\",\"showlegend\":false,\"type\":\"scatter\",\"x\":[\"2022-07-06T00:00:00\",\"2022-07-06T00:00:00\"],\"y\":[4.0,59204.84]},{\"line\":{\"color\":\"#000099\",\"dash\":\"dash\",\"width\":0.5},\"mode\":\"lines\",\"name\":\"Outside_range_Dry_WOW\",\"showlegend\":false,\"type\":\"scatter\",\"x\":[\"2022-07-07T00:00:00\",\"2022-07-07T00:00:00\"],\"y\":[4.0,59204.84]},{\"line\":{\"color\":\"#000099\",\"dash\":\"dash\",\"width\":0.5},\"mode\":\"lines\",\"name\":\"Outside_range_Dry_WOW\",\"showlegend\":false,\"type\":\"scatter\",\"x\":[\"2022-07-11T00:00:00\",\"2022-07-11T00:00:00\"],\"y\":[4.0,59204.84]},{\"line\":{\"color\":\"#000099\",\"dash\":\"dash\",\"width\":0.5},\"mode\":\"lines\",\"name\":\"Outside_range_Dry_WOW\",\"showlegend\":false,\"type\":\"scatter\",\"x\":[\"2022-07-13T00:00:00\",\"2022-07-13T00:00:00\"],\"y\":[4.0,59204.84]},{\"line\":{\"color\":\"#000099\",\"dash\":\"dash\",\"width\":0.5},\"mode\":\"lines\",\"name\":\"Outside_range_Dry_WOW\",\"showlegend\":false,\"type\":\"scatter\",\"x\":[\"2022-07-16T00:00:00\",\"2022-07-16T00:00:00\"],\"y\":[4.0,59204.84]},{\"line\":{\"color\":\"#000099\",\"dash\":\"dash\",\"width\":0.5},\"mode\":\"lines\",\"name\":\"Outside_range_Dry_WOW\",\"showlegend\":false,\"type\":\"scatter\",\"x\":[\"2022-07-18T00:00:00\",\"2022-07-18T00:00:00\"],\"y\":[4.0,59204.84]},{\"line\":{\"color\":\"#000099\",\"dash\":\"dash\",\"width\":0.5},\"mode\":\"lines\",\"name\":\"Outside_range_Dry_WOW\",\"showlegend\":false,\"type\":\"scatter\",\"x\":[\"2022-07-22T00:00:00\",\"2022-07-22T00:00:00\"],\"y\":[4.0,59204.84]},{\"line\":{\"color\":\"#000099\",\"dash\":\"dash\",\"width\":0.5},\"mode\":\"lines\",\"name\":\"Outside_range_Dry_WOW\",\"showlegend\":false,\"type\":\"scatter\",\"x\":[\"2022-07-27T00:00:00\",\"2022-07-27T00:00:00\"],\"y\":[4.0,59204.84]},{\"line\":{\"color\":\"#000099\",\"dash\":\"dash\",\"width\":0.5},\"mode\":\"lines\",\"name\":\"Outside_range_Dry_WOW\",\"showlegend\":false,\"type\":\"scatter\",\"x\":[\"2022-07-28T00:00:00\",\"2022-07-28T00:00:00\"],\"y\":[4.0,59204.84]},{\"line\":{\"color\":\"#000099\",\"dash\":\"dash\",\"width\":0.5},\"mode\":\"lines\",\"name\":\"Outside_range_Dry_WOW\",\"showlegend\":false,\"type\":\"scatter\",\"x\":[\"2022-07-29T00:00:00\",\"2022-07-29T00:00:00\"],\"y\":[4.0,59204.84]},{\"line\":{\"color\":\"#000099\",\"dash\":\"dash\",\"width\":0.5},\"mode\":\"lines\",\"name\":\"Outside_range_Dry_WOW\",\"showlegend\":false,\"type\":\"scatter\",\"x\":[\"2022-08-05T00:00:00\",\"2022-08-05T00:00:00\"],\"y\":[4.0,59204.84]},{\"line\":{\"color\":\"#000099\",\"dash\":\"dash\",\"width\":0.5},\"mode\":\"lines\",\"name\":\"Outside_range_Dry_WOW\",\"showlegend\":false,\"type\":\"scatter\",\"x\":[\"2022-08-06T00:00:00\",\"2022-08-06T00:00:00\"],\"y\":[4.0,59204.84]},{\"line\":{\"color\":\"#000099\",\"dash\":\"dash\",\"width\":0.5},\"mode\":\"lines\",\"name\":\"Outside_range_Dry_WOW\",\"showlegend\":false,\"type\":\"scatter\",\"x\":[\"2022-08-13T00:00:00\",\"2022-08-13T00:00:00\"],\"y\":[4.0,59204.84]},{\"line\":{\"color\":\"#000099\",\"dash\":\"dash\",\"width\":0.5},\"mode\":\"lines\",\"name\":\"Outside_range_Dry_WOW\",\"showlegend\":false,\"type\":\"scatter\",\"x\":[\"2022-08-17T00:00:00\",\"2022-08-17T00:00:00\"],\"y\":[4.0,59204.84]},{\"line\":{\"color\":\"#000099\",\"dash\":\"dash\",\"width\":0.5},\"mode\":\"lines\",\"name\":\"Outside_range_Dry_WOW\",\"showlegend\":false,\"type\":\"scatter\",\"x\":[\"2022-08-19T00:00:00\",\"2022-08-19T00:00:00\"],\"y\":[4.0,59204.84]},{\"line\":{\"color\":\"#000099\",\"dash\":\"dash\",\"width\":0.5},\"mode\":\"lines\",\"name\":\"Outside_range_Dry_WOW\",\"showlegend\":false,\"type\":\"scatter\",\"x\":[\"2022-08-30T00:00:00\",\"2022-08-30T00:00:00\"],\"y\":[4.0,59204.84]},{\"line\":{\"color\":\"#000099\",\"dash\":\"dash\",\"width\":0.5},\"mode\":\"lines\",\"name\":\"Outside_range_Dry_WOW\",\"showlegend\":false,\"type\":\"scatter\",\"x\":[\"2022-09-01T00:00:00\",\"2022-09-01T00:00:00\"],\"y\":[4.0,59204.84]},{\"line\":{\"color\":\"#000099\",\"dash\":\"dash\",\"width\":0.5},\"mode\":\"lines\",\"name\":\"Outside_range_Dry_WOW\",\"showlegend\":false,\"type\":\"scatter\",\"x\":[\"2022-09-02T00:00:00\",\"2022-09-02T00:00:00\"],\"y\":[4.0,59204.84]},{\"line\":{\"color\":\"#000099\",\"dash\":\"dash\",\"width\":0.5},\"mode\":\"lines\",\"name\":\"Outside_range_Dry_WOW\",\"showlegend\":false,\"type\":\"scatter\",\"x\":[\"2022-09-09T00:00:00\",\"2022-09-09T00:00:00\"],\"y\":[4.0,59204.84]},{\"line\":{\"color\":\"#000099\",\"dash\":\"dash\",\"width\":0.5},\"mode\":\"lines\",\"name\":\"Outside_range_Dry_WOW\",\"showlegend\":false,\"type\":\"scatter\",\"x\":[\"2022-09-14T00:00:00\",\"2022-09-14T00:00:00\"],\"y\":[4.0,59204.84]},{\"line\":{\"color\":\"#000099\",\"dash\":\"dash\",\"width\":0.5},\"mode\":\"lines\",\"name\":\"Outside_range_Dry_WOW\",\"showlegend\":false,\"type\":\"scatter\",\"x\":[\"2022-09-15T00:00:00\",\"2022-09-15T00:00:00\"],\"y\":[4.0,59204.84]},{\"line\":{\"color\":\"#000099\",\"dash\":\"dash\",\"width\":0.5},\"mode\":\"lines\",\"name\":\"Outside_range_Dry_WOW\",\"showlegend\":false,\"type\":\"scatter\",\"x\":[\"2022-09-22T00:00:00\",\"2022-09-22T00:00:00\"],\"y\":[4.0,59204.84]},{\"line\":{\"color\":\"#000099\",\"dash\":\"dash\",\"width\":0.5},\"mode\":\"lines\",\"name\":\"Outside_range_Dry_WOW\",\"showlegend\":false,\"type\":\"scatter\",\"x\":[\"2022-09-24T00:00:00\",\"2022-09-24T00:00:00\"],\"y\":[4.0,59204.84]},{\"line\":{\"color\":\"#000099\",\"dash\":\"dash\",\"width\":0.5},\"mode\":\"lines\",\"name\":\"Outside_range_Dry_WOW\",\"showlegend\":false,\"type\":\"scatter\",\"x\":[\"2022-09-29T00:00:00\",\"2022-09-29T00:00:00\"],\"y\":[4.0,59204.84]},{\"line\":{\"color\":\"#000099\",\"dash\":\"dash\",\"width\":0.5},\"mode\":\"lines\",\"name\":\"Outside_range_Dry_WOW\",\"showlegend\":false,\"type\":\"scatter\",\"x\":[\"2022-10-01T00:00:00\",\"2022-10-01T00:00:00\"],\"y\":[4.0,59204.84]},{\"line\":{\"color\":\"#000099\",\"dash\":\"dash\",\"width\":0.5},\"mode\":\"lines\",\"name\":\"Outside_range_Dry_WOW\",\"showlegend\":false,\"type\":\"scatter\",\"x\":[\"2022-10-07T00:00:00\",\"2022-10-07T00:00:00\"],\"y\":[4.0,59204.84]},{\"line\":{\"color\":\"#000099\",\"dash\":\"dash\",\"width\":0.5},\"mode\":\"lines\",\"name\":\"Outside_range_Dry_WOW\",\"showlegend\":false,\"type\":\"scatter\",\"x\":[\"2022-10-12T00:00:00\",\"2022-10-12T00:00:00\"],\"y\":[4.0,59204.84]},{\"line\":{\"color\":\"#000099\",\"dash\":\"dash\",\"width\":0.5},\"mode\":\"lines\",\"name\":\"Outside_range_Dry_WOW\",\"showlegend\":false,\"type\":\"scatter\",\"x\":[\"2022-10-21T00:00:00\",\"2022-10-21T00:00:00\"],\"y\":[4.0,59204.84]},{\"line\":{\"color\":\"#000099\",\"dash\":\"dash\",\"width\":0.5},\"mode\":\"lines\",\"name\":\"Outside_range_Dry_WOW\",\"showlegend\":false,\"type\":\"scatter\",\"x\":[\"2022-10-24T00:00:00\",\"2022-10-24T00:00:00\"],\"y\":[4.0,59204.84]},{\"line\":{\"color\":\"#000099\",\"dash\":\"dash\",\"width\":0.5},\"mode\":\"lines\",\"name\":\"Outside_range_Dry_WOW\",\"showlegend\":false,\"type\":\"scatter\",\"x\":[\"2022-10-25T00:00:00\",\"2022-10-25T00:00:00\"],\"y\":[4.0,59204.84]},{\"line\":{\"color\":\"#000099\",\"dash\":\"dash\",\"width\":0.5},\"mode\":\"lines\",\"name\":\"Outside_range_Dry_WOW\",\"showlegend\":false,\"type\":\"scatter\",\"x\":[\"2022-10-29T00:00:00\",\"2022-10-29T00:00:00\"],\"y\":[4.0,59204.84]},{\"line\":{\"color\":\"#000099\",\"dash\":\"dash\",\"width\":0.5},\"mode\":\"lines\",\"name\":\"Outside_range_Dry_WOW\",\"showlegend\":false,\"type\":\"scatter\",\"x\":[\"2022-11-05T00:00:00\",\"2022-11-05T00:00:00\"],\"y\":[4.0,59204.84]},{\"line\":{\"color\":\"#000099\",\"dash\":\"dash\",\"width\":0.5},\"mode\":\"lines\",\"name\":\"Outside_range_Dry_WOW\",\"showlegend\":false,\"type\":\"scatter\",\"x\":[\"2022-11-07T00:00:00\",\"2022-11-07T00:00:00\"],\"y\":[4.0,59204.84]},{\"line\":{\"color\":\"#000099\",\"dash\":\"dash\",\"width\":0.5},\"mode\":\"lines\",\"name\":\"Outside_range_Dry_WOW\",\"showlegend\":false,\"type\":\"scatter\",\"x\":[\"2022-11-08T00:00:00\",\"2022-11-08T00:00:00\"],\"y\":[4.0,59204.84]},{\"line\":{\"color\":\"#000099\",\"dash\":\"dash\",\"width\":0.5},\"mode\":\"lines\",\"name\":\"Outside_range_Dry_WOW\",\"showlegend\":false,\"type\":\"scatter\",\"x\":[\"2022-11-09T00:00:00\",\"2022-11-09T00:00:00\"],\"y\":[4.0,59204.84]},{\"line\":{\"color\":\"#000099\",\"dash\":\"dash\",\"width\":0.5},\"mode\":\"lines\",\"name\":\"Outside_range_Dry_WOW\",\"showlegend\":false,\"type\":\"scatter\",\"x\":[\"2022-11-10T00:00:00\",\"2022-11-10T00:00:00\"],\"y\":[4.0,59204.84]},{\"line\":{\"color\":\"#000099\",\"dash\":\"dash\",\"width\":0.5},\"mode\":\"lines\",\"name\":\"Outside_range_Dry_WOW\",\"showlegend\":false,\"type\":\"scatter\",\"x\":[\"2022-11-12T00:00:00\",\"2022-11-12T00:00:00\"],\"y\":[4.0,59204.84]},{\"line\":{\"color\":\"#000099\",\"dash\":\"dash\",\"width\":0.5},\"mode\":\"lines\",\"name\":\"Outside_range_Dry_WOW\",\"showlegend\":false,\"type\":\"scatter\",\"x\":[\"2022-11-17T00:00:00\",\"2022-11-17T00:00:00\"],\"y\":[4.0,59204.84]},{\"line\":{\"color\":\"#000099\",\"dash\":\"dash\",\"width\":0.5},\"mode\":\"lines\",\"name\":\"Outside_range_Dry_WOW\",\"showlegend\":false,\"type\":\"scatter\",\"x\":[\"2022-11-18T00:00:00\",\"2022-11-18T00:00:00\"],\"y\":[4.0,59204.84]},{\"line\":{\"color\":\"#000099\",\"dash\":\"dash\",\"width\":0.5},\"mode\":\"lines\",\"name\":\"Outside_range_Dry_WOW\",\"showlegend\":false,\"type\":\"scatter\",\"x\":[\"2022-11-19T00:00:00\",\"2022-11-19T00:00:00\"],\"y\":[4.0,59204.84]},{\"line\":{\"color\":\"#000099\",\"dash\":\"dash\",\"width\":0.5},\"mode\":\"lines\",\"name\":\"Outside_range_Dry_WOW\",\"showlegend\":false,\"type\":\"scatter\",\"x\":[\"2022-11-22T00:00:00\",\"2022-11-22T00:00:00\"],\"y\":[4.0,59204.84]},{\"line\":{\"color\":\"#000099\",\"dash\":\"dash\",\"width\":0.5},\"mode\":\"lines\",\"name\":\"Outside_range_Dry_WOW\",\"showlegend\":false,\"type\":\"scatter\",\"x\":[\"2022-11-24T00:00:00\",\"2022-11-24T00:00:00\"],\"y\":[4.0,59204.84]},{\"line\":{\"color\":\"#000099\",\"dash\":\"dash\",\"width\":0.5},\"mode\":\"lines\",\"name\":\"Outside_range_Dry_WOW\",\"showlegend\":false,\"type\":\"scatter\",\"x\":[\"2022-11-25T00:00:00\",\"2022-11-25T00:00:00\"],\"y\":[4.0,59204.84]},{\"line\":{\"color\":\"#000099\",\"dash\":\"dash\",\"width\":0.5},\"mode\":\"lines\",\"name\":\"Outside_range_Dry_WOW\",\"showlegend\":false,\"type\":\"scatter\",\"x\":[\"2022-11-29T00:00:00\",\"2022-11-29T00:00:00\"],\"y\":[4.0,59204.84]},{\"line\":{\"color\":\"#000099\",\"dash\":\"dash\",\"width\":0.5},\"mode\":\"lines\",\"name\":\"Outside_range_Dry_WOW\",\"showlegend\":false,\"type\":\"scatter\",\"x\":[\"2022-12-02T00:00:00\",\"2022-12-02T00:00:00\"],\"y\":[4.0,59204.84]},{\"line\":{\"color\":\"#000099\",\"dash\":\"dash\",\"width\":0.5},\"mode\":\"lines\",\"name\":\"Outside_range_Dry_WOW\",\"showlegend\":false,\"type\":\"scatter\",\"x\":[\"2022-12-06T00:00:00\",\"2022-12-06T00:00:00\"],\"y\":[4.0,59204.84]},{\"line\":{\"color\":\"#000099\",\"dash\":\"dash\",\"width\":0.5},\"mode\":\"lines\",\"name\":\"Outside_range_Dry_WOW\",\"showlegend\":false,\"type\":\"scatter\",\"x\":[\"2022-12-17T00:00:00\",\"2022-12-17T00:00:00\"],\"y\":[4.0,59204.84]},{\"line\":{\"color\":\"#000099\",\"dash\":\"dash\",\"width\":0.5},\"mode\":\"lines\",\"name\":\"Outside_range_Dry_WOW\",\"showlegend\":false,\"type\":\"scatter\",\"x\":[\"2022-12-21T00:00:00\",\"2022-12-21T00:00:00\"],\"y\":[4.0,59204.84]},{\"line\":{\"color\":\"#000099\",\"dash\":\"dash\",\"width\":0.5},\"mode\":\"lines\",\"name\":\"Outside_range_Dry_WOW\",\"showlegend\":false,\"type\":\"scatter\",\"x\":[\"2022-12-22T00:00:00\",\"2022-12-22T00:00:00\"],\"y\":[4.0,59204.84]},{\"line\":{\"color\":\"#000099\",\"dash\":\"dash\",\"width\":0.5},\"mode\":\"lines\",\"name\":\"Outside_range_Dry_WOW\",\"showlegend\":false,\"type\":\"scatter\",\"x\":[\"2022-12-24T00:00:00\",\"2022-12-24T00:00:00\"],\"y\":[4.0,59204.84]},{\"line\":{\"color\":\"#000099\",\"dash\":\"dash\",\"width\":0.5},\"mode\":\"lines\",\"name\":\"Outside_range_Dry_WOW\",\"showlegend\":false,\"type\":\"scatter\",\"x\":[\"2022-12-27T00:00:00\",\"2022-12-27T00:00:00\"],\"y\":[4.0,59204.84]},{\"line\":{\"color\":\"#000099\",\"dash\":\"dash\",\"width\":0.5},\"mode\":\"lines\",\"name\":\"Outside_range_Dry_WOW\",\"showlegend\":false,\"type\":\"scatter\",\"x\":[\"2022-12-28T00:00:00\",\"2022-12-28T00:00:00\"],\"y\":[4.0,59204.84]},{\"line\":{\"color\":\"#000099\",\"dash\":\"dash\",\"width\":0.5},\"mode\":\"lines\",\"name\":\"Outside_range_Dry_WOW\",\"showlegend\":false,\"type\":\"scatter\",\"x\":[\"2022-12-29T00:00:00\",\"2022-12-29T00:00:00\"],\"y\":[4.0,59204.84]},{\"line\":{\"color\":\"#000099\",\"dash\":\"dash\",\"width\":0.5},\"mode\":\"lines\",\"name\":\"Outside_range_Dry_WOW\",\"showlegend\":false,\"type\":\"scatter\",\"x\":[\"2022-12-30T00:00:00\",\"2022-12-30T00:00:00\"],\"y\":[4.0,59204.84]},{\"line\":{\"color\":\"#000099\",\"dash\":\"dash\",\"width\":0.5},\"mode\":\"lines\",\"name\":\"Outside_range_Dry_WOW\",\"showlegend\":false,\"type\":\"scatter\",\"x\":[\"2022-12-31T00:00:00\",\"2022-12-31T00:00:00\"],\"y\":[4.0,59204.84]},{\"line\":{\"color\":\"#990000\",\"dash\":\"dash\",\"width\":0.5},\"mode\":\"lines\",\"name\":\"Outside_range_Dry_PROPHET\",\"showlegend\":true,\"type\":\"scatter\",\"x\":[\"2022-05-10T00:00:00\",\"2022-05-10T00:00:00\"],\"y\":[34.49959614450927,113737.91195032632]},{\"line\":{\"color\":\"#990000\",\"dash\":\"dash\",\"width\":0.5},\"mode\":\"lines\",\"name\":\"Outside_range_Dry_PROPHET\",\"showlegend\":false,\"type\":\"scatter\",\"x\":[\"2022-05-11T00:00:00\",\"2022-05-11T00:00:00\"],\"y\":[34.49959614450927,113737.91195032632]},{\"line\":{\"color\":\"#990000\",\"dash\":\"dash\",\"width\":0.5},\"mode\":\"lines\",\"name\":\"Outside_range_Dry_PROPHET\",\"showlegend\":false,\"type\":\"scatter\",\"x\":[\"2022-05-12T00:00:00\",\"2022-05-12T00:00:00\"],\"y\":[34.49959614450927,113737.91195032632]},{\"line\":{\"color\":\"#990000\",\"dash\":\"dash\",\"width\":0.5},\"mode\":\"lines\",\"name\":\"Outside_range_Dry_PROPHET\",\"showlegend\":false,\"type\":\"scatter\",\"x\":[\"2022-05-13T00:00:00\",\"2022-05-13T00:00:00\"],\"y\":[34.49959614450927,113737.91195032632]},{\"line\":{\"color\":\"#990000\",\"dash\":\"dash\",\"width\":0.5},\"mode\":\"lines\",\"name\":\"Outside_range_Dry_PROPHET\",\"showlegend\":false,\"type\":\"scatter\",\"x\":[\"2022-05-14T00:00:00\",\"2022-05-14T00:00:00\"],\"y\":[34.49959614450927,113737.91195032632]},{\"line\":{\"color\":\"#990000\",\"dash\":\"dash\",\"width\":0.5},\"mode\":\"lines\",\"name\":\"Outside_range_Dry_PROPHET\",\"showlegend\":false,\"type\":\"scatter\",\"x\":[\"2022-05-17T00:00:00\",\"2022-05-17T00:00:00\"],\"y\":[34.49959614450927,113737.91195032632]},{\"line\":{\"color\":\"#990000\",\"dash\":\"dash\",\"width\":0.5},\"mode\":\"lines\",\"name\":\"Outside_range_Dry_PROPHET\",\"showlegend\":false,\"type\":\"scatter\",\"x\":[\"2022-05-18T00:00:00\",\"2022-05-18T00:00:00\"],\"y\":[34.49959614450927,113737.91195032632]},{\"line\":{\"color\":\"#990000\",\"dash\":\"dash\",\"width\":0.5},\"mode\":\"lines\",\"name\":\"Outside_range_Dry_PROPHET\",\"showlegend\":false,\"type\":\"scatter\",\"x\":[\"2022-05-20T00:00:00\",\"2022-05-20T00:00:00\"],\"y\":[34.49959614450927,113737.91195032632]},{\"line\":{\"color\":\"#990000\",\"dash\":\"dash\",\"width\":0.5},\"mode\":\"lines\",\"name\":\"Outside_range_Dry_PROPHET\",\"showlegend\":false,\"type\":\"scatter\",\"x\":[\"2022-05-23T00:00:00\",\"2022-05-23T00:00:00\"],\"y\":[34.49959614450927,113737.91195032632]},{\"line\":{\"color\":\"#990000\",\"dash\":\"dash\",\"width\":0.5},\"mode\":\"lines\",\"name\":\"Outside_range_Dry_PROPHET\",\"showlegend\":false,\"type\":\"scatter\",\"x\":[\"2022-05-24T00:00:00\",\"2022-05-24T00:00:00\"],\"y\":[34.49959614450927,113737.91195032632]},{\"line\":{\"color\":\"#990000\",\"dash\":\"dash\",\"width\":0.5},\"mode\":\"lines\",\"name\":\"Outside_range_Dry_PROPHET\",\"showlegend\":false,\"type\":\"scatter\",\"x\":[\"2022-05-25T00:00:00\",\"2022-05-25T00:00:00\"],\"y\":[34.49959614450927,113737.91195032632]},{\"line\":{\"color\":\"#990000\",\"dash\":\"dash\",\"width\":0.5},\"mode\":\"lines\",\"name\":\"Outside_range_Dry_PROPHET\",\"showlegend\":false,\"type\":\"scatter\",\"x\":[\"2022-05-27T00:00:00\",\"2022-05-27T00:00:00\"],\"y\":[34.49959614450927,113737.91195032632]},{\"line\":{\"color\":\"#990000\",\"dash\":\"dash\",\"width\":0.5},\"mode\":\"lines\",\"name\":\"Outside_range_Dry_PROPHET\",\"showlegend\":false,\"type\":\"scatter\",\"x\":[\"2022-05-30T00:00:00\",\"2022-05-30T00:00:00\"],\"y\":[34.49959614450927,113737.91195032632]},{\"line\":{\"color\":\"#990000\",\"dash\":\"dash\",\"width\":0.5},\"mode\":\"lines\",\"name\":\"Outside_range_Dry_PROPHET\",\"showlegend\":false,\"type\":\"scatter\",\"x\":[\"2022-05-31T00:00:00\",\"2022-05-31T00:00:00\"],\"y\":[34.49959614450927,113737.91195032632]},{\"line\":{\"color\":\"#990000\",\"dash\":\"dash\",\"width\":0.5},\"mode\":\"lines\",\"name\":\"Outside_range_Dry_PROPHET\",\"showlegend\":false,\"type\":\"scatter\",\"x\":[\"2022-06-03T00:00:00\",\"2022-06-03T00:00:00\"],\"y\":[34.49959614450927,113737.91195032632]},{\"line\":{\"color\":\"#990000\",\"dash\":\"dash\",\"width\":0.5},\"mode\":\"lines\",\"name\":\"Outside_range_Dry_PROPHET\",\"showlegend\":false,\"type\":\"scatter\",\"x\":[\"2022-06-04T00:00:00\",\"2022-06-04T00:00:00\"],\"y\":[34.49959614450927,113737.91195032632]},{\"line\":{\"color\":\"#990000\",\"dash\":\"dash\",\"width\":0.5},\"mode\":\"lines\",\"name\":\"Outside_range_Dry_PROPHET\",\"showlegend\":false,\"type\":\"scatter\",\"x\":[\"2022-06-07T00:00:00\",\"2022-06-07T00:00:00\"],\"y\":[34.49959614450927,113737.91195032632]},{\"line\":{\"color\":\"#990000\",\"dash\":\"dash\",\"width\":0.5},\"mode\":\"lines\",\"name\":\"Outside_range_Dry_PROPHET\",\"showlegend\":false,\"type\":\"scatter\",\"x\":[\"2022-06-09T00:00:00\",\"2022-06-09T00:00:00\"],\"y\":[34.49959614450927,113737.91195032632]},{\"line\":{\"color\":\"#990000\",\"dash\":\"dash\",\"width\":0.5},\"mode\":\"lines\",\"name\":\"Outside_range_Dry_PROPHET\",\"showlegend\":false,\"type\":\"scatter\",\"x\":[\"2022-06-11T00:00:00\",\"2022-06-11T00:00:00\"],\"y\":[34.49959614450927,113737.91195032632]},{\"line\":{\"color\":\"#990000\",\"dash\":\"dash\",\"width\":0.5},\"mode\":\"lines\",\"name\":\"Outside_range_Dry_PROPHET\",\"showlegend\":false,\"type\":\"scatter\",\"x\":[\"2022-06-15T00:00:00\",\"2022-06-15T00:00:00\"],\"y\":[34.49959614450927,113737.91195032632]},{\"line\":{\"color\":\"#990000\",\"dash\":\"dash\",\"width\":0.5},\"mode\":\"lines\",\"name\":\"Outside_range_Dry_PROPHET\",\"showlegend\":false,\"type\":\"scatter\",\"x\":[\"2022-06-16T00:00:00\",\"2022-06-16T00:00:00\"],\"y\":[34.49959614450927,113737.91195032632]},{\"line\":{\"color\":\"#990000\",\"dash\":\"dash\",\"width\":0.5},\"mode\":\"lines\",\"name\":\"Outside_range_Dry_PROPHET\",\"showlegend\":false,\"type\":\"scatter\",\"x\":[\"2022-06-17T00:00:00\",\"2022-06-17T00:00:00\"],\"y\":[34.49959614450927,113737.91195032632]},{\"line\":{\"color\":\"#990000\",\"dash\":\"dash\",\"width\":0.5},\"mode\":\"lines\",\"name\":\"Outside_range_Dry_PROPHET\",\"showlegend\":false,\"type\":\"scatter\",\"x\":[\"2022-06-18T00:00:00\",\"2022-06-18T00:00:00\"],\"y\":[34.49959614450927,113737.91195032632]},{\"line\":{\"color\":\"#990000\",\"dash\":\"dash\",\"width\":0.5},\"mode\":\"lines\",\"name\":\"Outside_range_Dry_PROPHET\",\"showlegend\":false,\"type\":\"scatter\",\"x\":[\"2022-06-20T00:00:00\",\"2022-06-20T00:00:00\"],\"y\":[34.49959614450927,113737.91195032632]},{\"line\":{\"color\":\"#990000\",\"dash\":\"dash\",\"width\":0.5},\"mode\":\"lines\",\"name\":\"Outside_range_Dry_PROPHET\",\"showlegend\":false,\"type\":\"scatter\",\"x\":[\"2022-06-22T00:00:00\",\"2022-06-22T00:00:00\"],\"y\":[34.49959614450927,113737.91195032632]},{\"line\":{\"color\":\"#990000\",\"dash\":\"dash\",\"width\":0.5},\"mode\":\"lines\",\"name\":\"Outside_range_Dry_PROPHET\",\"showlegend\":false,\"type\":\"scatter\",\"x\":[\"2022-06-23T00:00:00\",\"2022-06-23T00:00:00\"],\"y\":[34.49959614450927,113737.91195032632]},{\"line\":{\"color\":\"#990000\",\"dash\":\"dash\",\"width\":0.5},\"mode\":\"lines\",\"name\":\"Outside_range_Dry_PROPHET\",\"showlegend\":false,\"type\":\"scatter\",\"x\":[\"2022-06-24T00:00:00\",\"2022-06-24T00:00:00\"],\"y\":[34.49959614450927,113737.91195032632]},{\"line\":{\"color\":\"#990000\",\"dash\":\"dash\",\"width\":0.5},\"mode\":\"lines\",\"name\":\"Outside_range_Dry_PROPHET\",\"showlegend\":false,\"type\":\"scatter\",\"x\":[\"2022-06-25T00:00:00\",\"2022-06-25T00:00:00\"],\"y\":[34.49959614450927,113737.91195032632]},{\"line\":{\"color\":\"#990000\",\"dash\":\"dash\",\"width\":0.5},\"mode\":\"lines\",\"name\":\"Outside_range_Dry_PROPHET\",\"showlegend\":false,\"type\":\"scatter\",\"x\":[\"2022-06-27T00:00:00\",\"2022-06-27T00:00:00\"],\"y\":[34.49959614450927,113737.91195032632]},{\"line\":{\"color\":\"#990000\",\"dash\":\"dash\",\"width\":0.5},\"mode\":\"lines\",\"name\":\"Outside_range_Dry_PROPHET\",\"showlegend\":false,\"type\":\"scatter\",\"x\":[\"2022-07-02T00:00:00\",\"2022-07-02T00:00:00\"],\"y\":[34.49959614450927,113737.91195032632]},{\"line\":{\"color\":\"#990000\",\"dash\":\"dash\",\"width\":0.5},\"mode\":\"lines\",\"name\":\"Outside_range_Dry_PROPHET\",\"showlegend\":false,\"type\":\"scatter\",\"x\":[\"2022-07-04T00:00:00\",\"2022-07-04T00:00:00\"],\"y\":[34.49959614450927,113737.91195032632]},{\"line\":{\"color\":\"#990000\",\"dash\":\"dash\",\"width\":0.5},\"mode\":\"lines\",\"name\":\"Outside_range_Dry_PROPHET\",\"showlegend\":false,\"type\":\"scatter\",\"x\":[\"2022-07-06T00:00:00\",\"2022-07-06T00:00:00\"],\"y\":[34.49959614450927,113737.91195032632]},{\"line\":{\"color\":\"#990000\",\"dash\":\"dash\",\"width\":0.5},\"mode\":\"lines\",\"name\":\"Outside_range_Dry_PROPHET\",\"showlegend\":false,\"type\":\"scatter\",\"x\":[\"2022-07-07T00:00:00\",\"2022-07-07T00:00:00\"],\"y\":[34.49959614450927,113737.91195032632]},{\"line\":{\"color\":\"#990000\",\"dash\":\"dash\",\"width\":0.5},\"mode\":\"lines\",\"name\":\"Outside_range_Dry_PROPHET\",\"showlegend\":false,\"type\":\"scatter\",\"x\":[\"2022-07-08T00:00:00\",\"2022-07-08T00:00:00\"],\"y\":[34.49959614450927,113737.91195032632]},{\"line\":{\"color\":\"#990000\",\"dash\":\"dash\",\"width\":0.5},\"mode\":\"lines\",\"name\":\"Outside_range_Dry_PROPHET\",\"showlegend\":false,\"type\":\"scatter\",\"x\":[\"2022-07-09T00:00:00\",\"2022-07-09T00:00:00\"],\"y\":[34.49959614450927,113737.91195032632]},{\"line\":{\"color\":\"#990000\",\"dash\":\"dash\",\"width\":0.5},\"mode\":\"lines\",\"name\":\"Outside_range_Dry_PROPHET\",\"showlegend\":false,\"type\":\"scatter\",\"x\":[\"2022-07-11T00:00:00\",\"2022-07-11T00:00:00\"],\"y\":[34.49959614450927,113737.91195032632]},{\"line\":{\"color\":\"#990000\",\"dash\":\"dash\",\"width\":0.5},\"mode\":\"lines\",\"name\":\"Outside_range_Dry_PROPHET\",\"showlegend\":false,\"type\":\"scatter\",\"x\":[\"2022-07-12T00:00:00\",\"2022-07-12T00:00:00\"],\"y\":[34.49959614450927,113737.91195032632]},{\"line\":{\"color\":\"#990000\",\"dash\":\"dash\",\"width\":0.5},\"mode\":\"lines\",\"name\":\"Outside_range_Dry_PROPHET\",\"showlegend\":false,\"type\":\"scatter\",\"x\":[\"2022-07-15T00:00:00\",\"2022-07-15T00:00:00\"],\"y\":[34.49959614450927,113737.91195032632]},{\"line\":{\"color\":\"#990000\",\"dash\":\"dash\",\"width\":0.5},\"mode\":\"lines\",\"name\":\"Outside_range_Dry_PROPHET\",\"showlegend\":false,\"type\":\"scatter\",\"x\":[\"2022-07-16T00:00:00\",\"2022-07-16T00:00:00\"],\"y\":[34.49959614450927,113737.91195032632]},{\"line\":{\"color\":\"#990000\",\"dash\":\"dash\",\"width\":0.5},\"mode\":\"lines\",\"name\":\"Outside_range_Dry_PROPHET\",\"showlegend\":false,\"type\":\"scatter\",\"x\":[\"2022-07-18T00:00:00\",\"2022-07-18T00:00:00\"],\"y\":[34.49959614450927,113737.91195032632]},{\"line\":{\"color\":\"#990000\",\"dash\":\"dash\",\"width\":0.5},\"mode\":\"lines\",\"name\":\"Outside_range_Dry_PROPHET\",\"showlegend\":false,\"type\":\"scatter\",\"x\":[\"2022-07-19T00:00:00\",\"2022-07-19T00:00:00\"],\"y\":[34.49959614450927,113737.91195032632]},{\"line\":{\"color\":\"#990000\",\"dash\":\"dash\",\"width\":0.5},\"mode\":\"lines\",\"name\":\"Outside_range_Dry_PROPHET\",\"showlegend\":false,\"type\":\"scatter\",\"x\":[\"2022-07-20T00:00:00\",\"2022-07-20T00:00:00\"],\"y\":[34.49959614450927,113737.91195032632]},{\"line\":{\"color\":\"#990000\",\"dash\":\"dash\",\"width\":0.5},\"mode\":\"lines\",\"name\":\"Outside_range_Dry_PROPHET\",\"showlegend\":false,\"type\":\"scatter\",\"x\":[\"2022-07-22T00:00:00\",\"2022-07-22T00:00:00\"],\"y\":[34.49959614450927,113737.91195032632]},{\"line\":{\"color\":\"#990000\",\"dash\":\"dash\",\"width\":0.5},\"mode\":\"lines\",\"name\":\"Outside_range_Dry_PROPHET\",\"showlegend\":false,\"type\":\"scatter\",\"x\":[\"2022-07-23T00:00:00\",\"2022-07-23T00:00:00\"],\"y\":[34.49959614450927,113737.91195032632]},{\"line\":{\"color\":\"#990000\",\"dash\":\"dash\",\"width\":0.5},\"mode\":\"lines\",\"name\":\"Outside_range_Dry_PROPHET\",\"showlegend\":false,\"type\":\"scatter\",\"x\":[\"2022-07-25T00:00:00\",\"2022-07-25T00:00:00\"],\"y\":[34.49959614450927,113737.91195032632]},{\"line\":{\"color\":\"#990000\",\"dash\":\"dash\",\"width\":0.5},\"mode\":\"lines\",\"name\":\"Outside_range_Dry_PROPHET\",\"showlegend\":false,\"type\":\"scatter\",\"x\":[\"2022-07-26T00:00:00\",\"2022-07-26T00:00:00\"],\"y\":[34.49959614450927,113737.91195032632]},{\"line\":{\"color\":\"#990000\",\"dash\":\"dash\",\"width\":0.5},\"mode\":\"lines\",\"name\":\"Outside_range_Dry_PROPHET\",\"showlegend\":false,\"type\":\"scatter\",\"x\":[\"2022-07-30T00:00:00\",\"2022-07-30T00:00:00\"],\"y\":[34.49959614450927,113737.91195032632]},{\"line\":{\"color\":\"#990000\",\"dash\":\"dash\",\"width\":0.5},\"mode\":\"lines\",\"name\":\"Outside_range_Dry_PROPHET\",\"showlegend\":false,\"type\":\"scatter\",\"x\":[\"2022-08-02T00:00:00\",\"2022-08-02T00:00:00\"],\"y\":[34.49959614450927,113737.91195032632]},{\"line\":{\"color\":\"#990000\",\"dash\":\"dash\",\"width\":0.5},\"mode\":\"lines\",\"name\":\"Outside_range_Dry_PROPHET\",\"showlegend\":false,\"type\":\"scatter\",\"x\":[\"2022-08-03T00:00:00\",\"2022-08-03T00:00:00\"],\"y\":[34.49959614450927,113737.91195032632]},{\"line\":{\"color\":\"#990000\",\"dash\":\"dash\",\"width\":0.5},\"mode\":\"lines\",\"name\":\"Outside_range_Dry_PROPHET\",\"showlegend\":false,\"type\":\"scatter\",\"x\":[\"2022-08-04T00:00:00\",\"2022-08-04T00:00:00\"],\"y\":[34.49959614450927,113737.91195032632]},{\"line\":{\"color\":\"#990000\",\"dash\":\"dash\",\"width\":0.5},\"mode\":\"lines\",\"name\":\"Outside_range_Dry_PROPHET\",\"showlegend\":false,\"type\":\"scatter\",\"x\":[\"2022-08-06T00:00:00\",\"2022-08-06T00:00:00\"],\"y\":[34.49959614450927,113737.91195032632]},{\"line\":{\"color\":\"#990000\",\"dash\":\"dash\",\"width\":0.5},\"mode\":\"lines\",\"name\":\"Outside_range_Dry_PROPHET\",\"showlegend\":false,\"type\":\"scatter\",\"x\":[\"2022-08-08T00:00:00\",\"2022-08-08T00:00:00\"],\"y\":[34.49959614450927,113737.91195032632]},{\"line\":{\"color\":\"#990000\",\"dash\":\"dash\",\"width\":0.5},\"mode\":\"lines\",\"name\":\"Outside_range_Dry_PROPHET\",\"showlegend\":false,\"type\":\"scatter\",\"x\":[\"2022-08-10T00:00:00\",\"2022-08-10T00:00:00\"],\"y\":[34.49959614450927,113737.91195032632]},{\"line\":{\"color\":\"#990000\",\"dash\":\"dash\",\"width\":0.5},\"mode\":\"lines\",\"name\":\"Outside_range_Dry_PROPHET\",\"showlegend\":false,\"type\":\"scatter\",\"x\":[\"2022-08-12T00:00:00\",\"2022-08-12T00:00:00\"],\"y\":[34.49959614450927,113737.91195032632]},{\"line\":{\"color\":\"#990000\",\"dash\":\"dash\",\"width\":0.5},\"mode\":\"lines\",\"name\":\"Outside_range_Dry_PROPHET\",\"showlegend\":false,\"type\":\"scatter\",\"x\":[\"2022-08-13T00:00:00\",\"2022-08-13T00:00:00\"],\"y\":[34.49959614450927,113737.91195032632]},{\"line\":{\"color\":\"#990000\",\"dash\":\"dash\",\"width\":0.5},\"mode\":\"lines\",\"name\":\"Outside_range_Dry_PROPHET\",\"showlegend\":false,\"type\":\"scatter\",\"x\":[\"2022-08-17T00:00:00\",\"2022-08-17T00:00:00\"],\"y\":[34.49959614450927,113737.91195032632]},{\"line\":{\"color\":\"#990000\",\"dash\":\"dash\",\"width\":0.5},\"mode\":\"lines\",\"name\":\"Outside_range_Dry_PROPHET\",\"showlegend\":false,\"type\":\"scatter\",\"x\":[\"2022-08-18T00:00:00\",\"2022-08-18T00:00:00\"],\"y\":[34.49959614450927,113737.91195032632]},{\"line\":{\"color\":\"#990000\",\"dash\":\"dash\",\"width\":0.5},\"mode\":\"lines\",\"name\":\"Outside_range_Dry_PROPHET\",\"showlegend\":false,\"type\":\"scatter\",\"x\":[\"2022-08-19T00:00:00\",\"2022-08-19T00:00:00\"],\"y\":[34.49959614450927,113737.91195032632]},{\"line\":{\"color\":\"#990000\",\"dash\":\"dash\",\"width\":0.5},\"mode\":\"lines\",\"name\":\"Outside_range_Dry_PROPHET\",\"showlegend\":false,\"type\":\"scatter\",\"x\":[\"2022-08-22T00:00:00\",\"2022-08-22T00:00:00\"],\"y\":[34.49959614450927,113737.91195032632]},{\"line\":{\"color\":\"#990000\",\"dash\":\"dash\",\"width\":0.5},\"mode\":\"lines\",\"name\":\"Outside_range_Dry_PROPHET\",\"showlegend\":false,\"type\":\"scatter\",\"x\":[\"2022-08-25T00:00:00\",\"2022-08-25T00:00:00\"],\"y\":[34.49959614450927,113737.91195032632]},{\"line\":{\"color\":\"#990000\",\"dash\":\"dash\",\"width\":0.5},\"mode\":\"lines\",\"name\":\"Outside_range_Dry_PROPHET\",\"showlegend\":false,\"type\":\"scatter\",\"x\":[\"2022-08-27T00:00:00\",\"2022-08-27T00:00:00\"],\"y\":[34.49959614450927,113737.91195032632]},{\"line\":{\"color\":\"#990000\",\"dash\":\"dash\",\"width\":0.5},\"mode\":\"lines\",\"name\":\"Outside_range_Dry_PROPHET\",\"showlegend\":false,\"type\":\"scatter\",\"x\":[\"2022-08-29T00:00:00\",\"2022-08-29T00:00:00\"],\"y\":[34.49959614450927,113737.91195032632]},{\"line\":{\"color\":\"#990000\",\"dash\":\"dash\",\"width\":0.5},\"mode\":\"lines\",\"name\":\"Outside_range_Dry_PROPHET\",\"showlegend\":false,\"type\":\"scatter\",\"x\":[\"2022-08-30T00:00:00\",\"2022-08-30T00:00:00\"],\"y\":[34.49959614450927,113737.91195032632]},{\"line\":{\"color\":\"#990000\",\"dash\":\"dash\",\"width\":0.5},\"mode\":\"lines\",\"name\":\"Outside_range_Dry_PROPHET\",\"showlegend\":false,\"type\":\"scatter\",\"x\":[\"2022-08-31T00:00:00\",\"2022-08-31T00:00:00\"],\"y\":[34.49959614450927,113737.91195032632]},{\"line\":{\"color\":\"#990000\",\"dash\":\"dash\",\"width\":0.5},\"mode\":\"lines\",\"name\":\"Outside_range_Dry_PROPHET\",\"showlegend\":false,\"type\":\"scatter\",\"x\":[\"2022-09-01T00:00:00\",\"2022-09-01T00:00:00\"],\"y\":[34.49959614450927,113737.91195032632]},{\"line\":{\"color\":\"#990000\",\"dash\":\"dash\",\"width\":0.5},\"mode\":\"lines\",\"name\":\"Outside_range_Dry_PROPHET\",\"showlegend\":false,\"type\":\"scatter\",\"x\":[\"2022-09-02T00:00:00\",\"2022-09-02T00:00:00\"],\"y\":[34.49959614450927,113737.91195032632]},{\"line\":{\"color\":\"#990000\",\"dash\":\"dash\",\"width\":0.5},\"mode\":\"lines\",\"name\":\"Outside_range_Dry_PROPHET\",\"showlegend\":false,\"type\":\"scatter\",\"x\":[\"2022-09-06T00:00:00\",\"2022-09-06T00:00:00\"],\"y\":[34.49959614450927,113737.91195032632]},{\"line\":{\"color\":\"#990000\",\"dash\":\"dash\",\"width\":0.5},\"mode\":\"lines\",\"name\":\"Outside_range_Dry_PROPHET\",\"showlegend\":false,\"type\":\"scatter\",\"x\":[\"2022-09-08T00:00:00\",\"2022-09-08T00:00:00\"],\"y\":[34.49959614450927,113737.91195032632]},{\"line\":{\"color\":\"#990000\",\"dash\":\"dash\",\"width\":0.5},\"mode\":\"lines\",\"name\":\"Outside_range_Dry_PROPHET\",\"showlegend\":false,\"type\":\"scatter\",\"x\":[\"2022-09-09T00:00:00\",\"2022-09-09T00:00:00\"],\"y\":[34.49959614450927,113737.91195032632]},{\"line\":{\"color\":\"#990000\",\"dash\":\"dash\",\"width\":0.5},\"mode\":\"lines\",\"name\":\"Outside_range_Dry_PROPHET\",\"showlegend\":false,\"type\":\"scatter\",\"x\":[\"2022-09-10T00:00:00\",\"2022-09-10T00:00:00\"],\"y\":[34.49959614450927,113737.91195032632]},{\"line\":{\"color\":\"#990000\",\"dash\":\"dash\",\"width\":0.5},\"mode\":\"lines\",\"name\":\"Outside_range_Dry_PROPHET\",\"showlegend\":false,\"type\":\"scatter\",\"x\":[\"2022-09-12T00:00:00\",\"2022-09-12T00:00:00\"],\"y\":[34.49959614450927,113737.91195032632]},{\"line\":{\"color\":\"#990000\",\"dash\":\"dash\",\"width\":0.5},\"mode\":\"lines\",\"name\":\"Outside_range_Dry_PROPHET\",\"showlegend\":false,\"type\":\"scatter\",\"x\":[\"2022-09-13T00:00:00\",\"2022-09-13T00:00:00\"],\"y\":[34.49959614450927,113737.91195032632]},{\"line\":{\"color\":\"#990000\",\"dash\":\"dash\",\"width\":0.5},\"mode\":\"lines\",\"name\":\"Outside_range_Dry_PROPHET\",\"showlegend\":false,\"type\":\"scatter\",\"x\":[\"2022-09-14T00:00:00\",\"2022-09-14T00:00:00\"],\"y\":[34.49959614450927,113737.91195032632]},{\"line\":{\"color\":\"#990000\",\"dash\":\"dash\",\"width\":0.5},\"mode\":\"lines\",\"name\":\"Outside_range_Dry_PROPHET\",\"showlegend\":false,\"type\":\"scatter\",\"x\":[\"2022-09-15T00:00:00\",\"2022-09-15T00:00:00\"],\"y\":[34.49959614450927,113737.91195032632]},{\"line\":{\"color\":\"#990000\",\"dash\":\"dash\",\"width\":0.5},\"mode\":\"lines\",\"name\":\"Outside_range_Dry_PROPHET\",\"showlegend\":false,\"type\":\"scatter\",\"x\":[\"2022-09-16T00:00:00\",\"2022-09-16T00:00:00\"],\"y\":[34.49959614450927,113737.91195032632]},{\"line\":{\"color\":\"#990000\",\"dash\":\"dash\",\"width\":0.5},\"mode\":\"lines\",\"name\":\"Outside_range_Dry_PROPHET\",\"showlegend\":false,\"type\":\"scatter\",\"x\":[\"2022-09-19T00:00:00\",\"2022-09-19T00:00:00\"],\"y\":[34.49959614450927,113737.91195032632]},{\"line\":{\"color\":\"#990000\",\"dash\":\"dash\",\"width\":0.5},\"mode\":\"lines\",\"name\":\"Outside_range_Dry_PROPHET\",\"showlegend\":false,\"type\":\"scatter\",\"x\":[\"2022-09-20T00:00:00\",\"2022-09-20T00:00:00\"],\"y\":[34.49959614450927,113737.91195032632]},{\"line\":{\"color\":\"#990000\",\"dash\":\"dash\",\"width\":0.5},\"mode\":\"lines\",\"name\":\"Outside_range_Dry_PROPHET\",\"showlegend\":false,\"type\":\"scatter\",\"x\":[\"2022-09-21T00:00:00\",\"2022-09-21T00:00:00\"],\"y\":[34.49959614450927,113737.91195032632]},{\"line\":{\"color\":\"#990000\",\"dash\":\"dash\",\"width\":0.5},\"mode\":\"lines\",\"name\":\"Outside_range_Dry_PROPHET\",\"showlegend\":false,\"type\":\"scatter\",\"x\":[\"2022-09-22T00:00:00\",\"2022-09-22T00:00:00\"],\"y\":[34.49959614450927,113737.91195032632]},{\"line\":{\"color\":\"#990000\",\"dash\":\"dash\",\"width\":0.5},\"mode\":\"lines\",\"name\":\"Outside_range_Dry_PROPHET\",\"showlegend\":false,\"type\":\"scatter\",\"x\":[\"2022-09-23T00:00:00\",\"2022-09-23T00:00:00\"],\"y\":[34.49959614450927,113737.91195032632]},{\"line\":{\"color\":\"#990000\",\"dash\":\"dash\",\"width\":0.5},\"mode\":\"lines\",\"name\":\"Outside_range_Dry_PROPHET\",\"showlegend\":false,\"type\":\"scatter\",\"x\":[\"2022-09-24T00:00:00\",\"2022-09-24T00:00:00\"],\"y\":[34.49959614450927,113737.91195032632]},{\"line\":{\"color\":\"#990000\",\"dash\":\"dash\",\"width\":0.5},\"mode\":\"lines\",\"name\":\"Outside_range_Dry_PROPHET\",\"showlegend\":false,\"type\":\"scatter\",\"x\":[\"2022-09-26T00:00:00\",\"2022-09-26T00:00:00\"],\"y\":[34.49959614450927,113737.91195032632]},{\"line\":{\"color\":\"#990000\",\"dash\":\"dash\",\"width\":0.5},\"mode\":\"lines\",\"name\":\"Outside_range_Dry_PROPHET\",\"showlegend\":false,\"type\":\"scatter\",\"x\":[\"2022-09-27T00:00:00\",\"2022-09-27T00:00:00\"],\"y\":[34.49959614450927,113737.91195032632]},{\"line\":{\"color\":\"#990000\",\"dash\":\"dash\",\"width\":0.5},\"mode\":\"lines\",\"name\":\"Outside_range_Dry_PROPHET\",\"showlegend\":false,\"type\":\"scatter\",\"x\":[\"2022-09-29T00:00:00\",\"2022-09-29T00:00:00\"],\"y\":[34.49959614450927,113737.91195032632]},{\"line\":{\"color\":\"#990000\",\"dash\":\"dash\",\"width\":0.5},\"mode\":\"lines\",\"name\":\"Outside_range_Dry_PROPHET\",\"showlegend\":false,\"type\":\"scatter\",\"x\":[\"2022-09-30T00:00:00\",\"2022-09-30T00:00:00\"],\"y\":[34.49959614450927,113737.91195032632]},{\"line\":{\"color\":\"#990000\",\"dash\":\"dash\",\"width\":0.5},\"mode\":\"lines\",\"name\":\"Outside_range_Dry_PROPHET\",\"showlegend\":false,\"type\":\"scatter\",\"x\":[\"2022-10-06T00:00:00\",\"2022-10-06T00:00:00\"],\"y\":[34.49959614450927,113737.91195032632]},{\"line\":{\"color\":\"#990000\",\"dash\":\"dash\",\"width\":0.5},\"mode\":\"lines\",\"name\":\"Outside_range_Dry_PROPHET\",\"showlegend\":false,\"type\":\"scatter\",\"x\":[\"2022-10-21T00:00:00\",\"2022-10-21T00:00:00\"],\"y\":[34.49959614450927,113737.91195032632]},{\"line\":{\"color\":\"#990000\",\"dash\":\"dash\",\"width\":0.5},\"mode\":\"lines\",\"name\":\"Outside_range_Dry_PROPHET\",\"showlegend\":false,\"type\":\"scatter\",\"x\":[\"2022-10-24T00:00:00\",\"2022-10-24T00:00:00\"],\"y\":[34.49959614450927,113737.91195032632]},{\"line\":{\"color\":\"#990000\",\"dash\":\"dash\",\"width\":0.5},\"mode\":\"lines\",\"name\":\"Outside_range_Dry_PROPHET\",\"showlegend\":false,\"type\":\"scatter\",\"x\":[\"2022-10-25T00:00:00\",\"2022-10-25T00:00:00\"],\"y\":[34.49959614450927,113737.91195032632]},{\"line\":{\"color\":\"#990000\",\"dash\":\"dash\",\"width\":0.5},\"mode\":\"lines\",\"name\":\"Outside_range_Dry_PROPHET\",\"showlegend\":false,\"type\":\"scatter\",\"x\":[\"2022-10-26T00:00:00\",\"2022-10-26T00:00:00\"],\"y\":[34.49959614450927,113737.91195032632]},{\"line\":{\"color\":\"#990000\",\"dash\":\"dash\",\"width\":0.5},\"mode\":\"lines\",\"name\":\"Outside_range_Dry_PROPHET\",\"showlegend\":false,\"type\":\"scatter\",\"x\":[\"2022-10-27T00:00:00\",\"2022-10-27T00:00:00\"],\"y\":[34.49959614450927,113737.91195032632]},{\"line\":{\"color\":\"#990000\",\"dash\":\"dash\",\"width\":0.5},\"mode\":\"lines\",\"name\":\"Outside_range_Dry_PROPHET\",\"showlegend\":false,\"type\":\"scatter\",\"x\":[\"2022-11-02T00:00:00\",\"2022-11-02T00:00:00\"],\"y\":[34.49959614450927,113737.91195032632]},{\"line\":{\"color\":\"#990000\",\"dash\":\"dash\",\"width\":0.5},\"mode\":\"lines\",\"name\":\"Outside_range_Dry_PROPHET\",\"showlegend\":false,\"type\":\"scatter\",\"x\":[\"2022-11-03T00:00:00\",\"2022-11-03T00:00:00\"],\"y\":[34.49959614450927,113737.91195032632]},{\"line\":{\"color\":\"#990000\",\"dash\":\"dash\",\"width\":0.5},\"mode\":\"lines\",\"name\":\"Outside_range_Dry_PROPHET\",\"showlegend\":false,\"type\":\"scatter\",\"x\":[\"2022-11-04T00:00:00\",\"2022-11-04T00:00:00\"],\"y\":[34.49959614450927,113737.91195032632]},{\"line\":{\"color\":\"#990000\",\"dash\":\"dash\",\"width\":0.5},\"mode\":\"lines\",\"name\":\"Outside_range_Dry_PROPHET\",\"showlegend\":false,\"type\":\"scatter\",\"x\":[\"2022-11-05T00:00:00\",\"2022-11-05T00:00:00\"],\"y\":[34.49959614450927,113737.91195032632]},{\"line\":{\"color\":\"#990000\",\"dash\":\"dash\",\"width\":0.5},\"mode\":\"lines\",\"name\":\"Outside_range_Dry_PROPHET\",\"showlegend\":false,\"type\":\"scatter\",\"x\":[\"2022-11-08T00:00:00\",\"2022-11-08T00:00:00\"],\"y\":[34.49959614450927,113737.91195032632]},{\"line\":{\"color\":\"#990000\",\"dash\":\"dash\",\"width\":0.5},\"mode\":\"lines\",\"name\":\"Outside_range_Dry_PROPHET\",\"showlegend\":false,\"type\":\"scatter\",\"x\":[\"2022-11-09T00:00:00\",\"2022-11-09T00:00:00\"],\"y\":[34.49959614450927,113737.91195032632]},{\"line\":{\"color\":\"#990000\",\"dash\":\"dash\",\"width\":0.5},\"mode\":\"lines\",\"name\":\"Outside_range_Dry_PROPHET\",\"showlegend\":false,\"type\":\"scatter\",\"x\":[\"2022-11-10T00:00:00\",\"2022-11-10T00:00:00\"],\"y\":[34.49959614450927,113737.91195032632]},{\"line\":{\"color\":\"#990000\",\"dash\":\"dash\",\"width\":0.5},\"mode\":\"lines\",\"name\":\"Outside_range_Dry_PROPHET\",\"showlegend\":false,\"type\":\"scatter\",\"x\":[\"2022-11-12T00:00:00\",\"2022-11-12T00:00:00\"],\"y\":[34.49959614450927,113737.91195032632]},{\"line\":{\"color\":\"#990000\",\"dash\":\"dash\",\"width\":0.5},\"mode\":\"lines\",\"name\":\"Outside_range_Dry_PROPHET\",\"showlegend\":false,\"type\":\"scatter\",\"x\":[\"2022-11-14T00:00:00\",\"2022-11-14T00:00:00\"],\"y\":[34.49959614450927,113737.91195032632]},{\"line\":{\"color\":\"#990000\",\"dash\":\"dash\",\"width\":0.5},\"mode\":\"lines\",\"name\":\"Outside_range_Dry_PROPHET\",\"showlegend\":false,\"type\":\"scatter\",\"x\":[\"2022-11-15T00:00:00\",\"2022-11-15T00:00:00\"],\"y\":[34.49959614450927,113737.91195032632]},{\"line\":{\"color\":\"#990000\",\"dash\":\"dash\",\"width\":0.5},\"mode\":\"lines\",\"name\":\"Outside_range_Dry_PROPHET\",\"showlegend\":false,\"type\":\"scatter\",\"x\":[\"2022-11-16T00:00:00\",\"2022-11-16T00:00:00\"],\"y\":[34.49959614450927,113737.91195032632]},{\"line\":{\"color\":\"#990000\",\"dash\":\"dash\",\"width\":0.5},\"mode\":\"lines\",\"name\":\"Outside_range_Dry_PROPHET\",\"showlegend\":false,\"type\":\"scatter\",\"x\":[\"2022-11-17T00:00:00\",\"2022-11-17T00:00:00\"],\"y\":[34.49959614450927,113737.91195032632]},{\"line\":{\"color\":\"#990000\",\"dash\":\"dash\",\"width\":0.5},\"mode\":\"lines\",\"name\":\"Outside_range_Dry_PROPHET\",\"showlegend\":false,\"type\":\"scatter\",\"x\":[\"2022-11-18T00:00:00\",\"2022-11-18T00:00:00\"],\"y\":[34.49959614450927,113737.91195032632]},{\"line\":{\"color\":\"#990000\",\"dash\":\"dash\",\"width\":0.5},\"mode\":\"lines\",\"name\":\"Outside_range_Dry_PROPHET\",\"showlegend\":false,\"type\":\"scatter\",\"x\":[\"2022-11-22T00:00:00\",\"2022-11-22T00:00:00\"],\"y\":[34.49959614450927,113737.91195032632]},{\"line\":{\"color\":\"#990000\",\"dash\":\"dash\",\"width\":0.5},\"mode\":\"lines\",\"name\":\"Outside_range_Dry_PROPHET\",\"showlegend\":false,\"type\":\"scatter\",\"x\":[\"2022-11-24T00:00:00\",\"2022-11-24T00:00:00\"],\"y\":[34.49959614450927,113737.91195032632]},{\"line\":{\"color\":\"#990000\",\"dash\":\"dash\",\"width\":0.5},\"mode\":\"lines\",\"name\":\"Outside_range_Dry_PROPHET\",\"showlegend\":false,\"type\":\"scatter\",\"x\":[\"2022-11-25T00:00:00\",\"2022-11-25T00:00:00\"],\"y\":[34.49959614450927,113737.91195032632]},{\"line\":{\"color\":\"#990000\",\"dash\":\"dash\",\"width\":0.5},\"mode\":\"lines\",\"name\":\"Outside_range_Dry_PROPHET\",\"showlegend\":false,\"type\":\"scatter\",\"x\":[\"2022-11-26T00:00:00\",\"2022-11-26T00:00:00\"],\"y\":[34.49959614450927,113737.91195032632]},{\"line\":{\"color\":\"#990000\",\"dash\":\"dash\",\"width\":0.5},\"mode\":\"lines\",\"name\":\"Outside_range_Dry_PROPHET\",\"showlegend\":false,\"type\":\"scatter\",\"x\":[\"2022-11-28T00:00:00\",\"2022-11-28T00:00:00\"],\"y\":[34.49959614450927,113737.91195032632]},{\"line\":{\"color\":\"#990000\",\"dash\":\"dash\",\"width\":0.5},\"mode\":\"lines\",\"name\":\"Outside_range_Dry_PROPHET\",\"showlegend\":false,\"type\":\"scatter\",\"x\":[\"2022-12-05T00:00:00\",\"2022-12-05T00:00:00\"],\"y\":[34.49959614450927,113737.91195032632]},{\"line\":{\"color\":\"#990000\",\"dash\":\"dash\",\"width\":0.5},\"mode\":\"lines\",\"name\":\"Outside_range_Dry_PROPHET\",\"showlegend\":false,\"type\":\"scatter\",\"x\":[\"2022-12-06T00:00:00\",\"2022-12-06T00:00:00\"],\"y\":[34.49959614450927,113737.91195032632]},{\"line\":{\"color\":\"#990000\",\"dash\":\"dash\",\"width\":0.5},\"mode\":\"lines\",\"name\":\"Outside_range_Dry_PROPHET\",\"showlegend\":false,\"type\":\"scatter\",\"x\":[\"2022-12-07T00:00:00\",\"2022-12-07T00:00:00\"],\"y\":[34.49959614450927,113737.91195032632]},{\"line\":{\"color\":\"#990000\",\"dash\":\"dash\",\"width\":0.5},\"mode\":\"lines\",\"name\":\"Outside_range_Dry_PROPHET\",\"showlegend\":false,\"type\":\"scatter\",\"x\":[\"2022-12-08T00:00:00\",\"2022-12-08T00:00:00\"],\"y\":[34.49959614450927,113737.91195032632]},{\"line\":{\"color\":\"#990000\",\"dash\":\"dash\",\"width\":0.5},\"mode\":\"lines\",\"name\":\"Outside_range_Dry_PROPHET\",\"showlegend\":false,\"type\":\"scatter\",\"x\":[\"2022-12-09T00:00:00\",\"2022-12-09T00:00:00\"],\"y\":[34.49959614450927,113737.91195032632]},{\"line\":{\"color\":\"#990000\",\"dash\":\"dash\",\"width\":0.5},\"mode\":\"lines\",\"name\":\"Outside_range_Dry_PROPHET\",\"showlegend\":false,\"type\":\"scatter\",\"x\":[\"2022-12-10T00:00:00\",\"2022-12-10T00:00:00\"],\"y\":[34.49959614450927,113737.91195032632]},{\"line\":{\"color\":\"#990000\",\"dash\":\"dash\",\"width\":0.5},\"mode\":\"lines\",\"name\":\"Outside_range_Dry_PROPHET\",\"showlegend\":false,\"type\":\"scatter\",\"x\":[\"2022-12-13T00:00:00\",\"2022-12-13T00:00:00\"],\"y\":[34.49959614450927,113737.91195032632]},{\"line\":{\"color\":\"#990000\",\"dash\":\"dash\",\"width\":0.5},\"mode\":\"lines\",\"name\":\"Outside_range_Dry_PROPHET\",\"showlegend\":false,\"type\":\"scatter\",\"x\":[\"2022-12-14T00:00:00\",\"2022-12-14T00:00:00\"],\"y\":[34.49959614450927,113737.91195032632]},{\"line\":{\"color\":\"#990000\",\"dash\":\"dash\",\"width\":0.5},\"mode\":\"lines\",\"name\":\"Outside_range_Dry_PROPHET\",\"showlegend\":false,\"type\":\"scatter\",\"x\":[\"2022-12-15T00:00:00\",\"2022-12-15T00:00:00\"],\"y\":[34.49959614450927,113737.91195032632]},{\"line\":{\"color\":\"#990000\",\"dash\":\"dash\",\"width\":0.5},\"mode\":\"lines\",\"name\":\"Outside_range_Dry_PROPHET\",\"showlegend\":false,\"type\":\"scatter\",\"x\":[\"2022-12-16T00:00:00\",\"2022-12-16T00:00:00\"],\"y\":[34.49959614450927,113737.91195032632]},{\"line\":{\"color\":\"#990000\",\"dash\":\"dash\",\"width\":0.5},\"mode\":\"lines\",\"name\":\"Outside_range_Dry_PROPHET\",\"showlegend\":false,\"type\":\"scatter\",\"x\":[\"2022-12-17T00:00:00\",\"2022-12-17T00:00:00\"],\"y\":[34.49959614450927,113737.91195032632]},{\"line\":{\"color\":\"#990000\",\"dash\":\"dash\",\"width\":0.5},\"mode\":\"lines\",\"name\":\"Outside_range_Dry_PROPHET\",\"showlegend\":false,\"type\":\"scatter\",\"x\":[\"2022-12-19T00:00:00\",\"2022-12-19T00:00:00\"],\"y\":[34.49959614450927,113737.91195032632]},{\"line\":{\"color\":\"#990000\",\"dash\":\"dash\",\"width\":0.5},\"mode\":\"lines\",\"name\":\"Outside_range_Dry_PROPHET\",\"showlegend\":false,\"type\":\"scatter\",\"x\":[\"2022-12-21T00:00:00\",\"2022-12-21T00:00:00\"],\"y\":[34.49959614450927,113737.91195032632]},{\"line\":{\"color\":\"#990000\",\"dash\":\"dash\",\"width\":0.5},\"mode\":\"lines\",\"name\":\"Outside_range_Dry_PROPHET\",\"showlegend\":false,\"type\":\"scatter\",\"x\":[\"2022-12-23T00:00:00\",\"2022-12-23T00:00:00\"],\"y\":[34.49959614450927,113737.91195032632]},{\"line\":{\"color\":\"#990000\",\"dash\":\"dash\",\"width\":0.5},\"mode\":\"lines\",\"name\":\"Outside_range_Dry_PROPHET\",\"showlegend\":false,\"type\":\"scatter\",\"x\":[\"2022-12-24T00:00:00\",\"2022-12-24T00:00:00\"],\"y\":[34.49959614450927,113737.91195032632]},{\"line\":{\"color\":\"#990000\",\"dash\":\"dash\",\"width\":0.5},\"mode\":\"lines\",\"name\":\"Outside_range_Dry_PROPHET\",\"showlegend\":false,\"type\":\"scatter\",\"x\":[\"2022-12-26T00:00:00\",\"2022-12-26T00:00:00\"],\"y\":[34.49959614450927,113737.91195032632]},{\"line\":{\"color\":\"#990000\",\"dash\":\"dash\",\"width\":0.5},\"mode\":\"lines\",\"name\":\"Outside_range_Dry_PROPHET\",\"showlegend\":false,\"type\":\"scatter\",\"x\":[\"2022-12-27T00:00:00\",\"2022-12-27T00:00:00\"],\"y\":[34.49959614450927,113737.91195032632]},{\"line\":{\"color\":\"#990000\",\"dash\":\"dash\",\"width\":0.5},\"mode\":\"lines\",\"name\":\"Outside_range_Dry_PROPHET\",\"showlegend\":false,\"type\":\"scatter\",\"x\":[\"2022-12-28T00:00:00\",\"2022-12-28T00:00:00\"],\"y\":[34.49959614450927,113737.91195032632]},{\"line\":{\"color\":\"#990000\",\"dash\":\"dash\",\"width\":0.5},\"mode\":\"lines\",\"name\":\"Outside_range_Dry_PROPHET\",\"showlegend\":false,\"type\":\"scatter\",\"x\":[\"2022-12-29T00:00:00\",\"2022-12-29T00:00:00\"],\"y\":[34.49959614450927,113737.91195032632]},{\"line\":{\"color\":\"#990000\",\"dash\":\"dash\",\"width\":0.5},\"mode\":\"lines\",\"name\":\"Outside_range_Dry_PROPHET\",\"showlegend\":false,\"type\":\"scatter\",\"x\":[\"2022-12-31T00:00:00\",\"2022-12-31T00:00:00\"],\"y\":[34.49959614450927,113737.91195032632]}],                        {\"template\":{\"data\":{\"bar\":[{\"error_x\":{\"color\":\"#2a3f5f\"},\"error_y\":{\"color\":\"#2a3f5f\"},\"marker\":{\"line\":{\"color\":\"#E5ECF6\",\"width\":0.5},\"pattern\":{\"fillmode\":\"overlay\",\"size\":10,\"solidity\":0.2}},\"type\":\"bar\"}],\"barpolar\":[{\"marker\":{\"line\":{\"color\":\"#E5ECF6\",\"width\":0.5},\"pattern\":{\"fillmode\":\"overlay\",\"size\":10,\"solidity\":0.2}},\"type\":\"barpolar\"}],\"carpet\":[{\"aaxis\":{\"endlinecolor\":\"#2a3f5f\",\"gridcolor\":\"white\",\"linecolor\":\"white\",\"minorgridcolor\":\"white\",\"startlinecolor\":\"#2a3f5f\"},\"baxis\":{\"endlinecolor\":\"#2a3f5f\",\"gridcolor\":\"white\",\"linecolor\":\"white\",\"minorgridcolor\":\"white\",\"startlinecolor\":\"#2a3f5f\"},\"type\":\"carpet\"}],\"choropleth\":[{\"colorbar\":{\"outlinewidth\":0,\"ticks\":\"\"},\"type\":\"choropleth\"}],\"contour\":[{\"colorbar\":{\"outlinewidth\":0,\"ticks\":\"\"},\"colorscale\":[[0.0,\"#0d0887\"],[0.1111111111111111,\"#46039f\"],[0.2222222222222222,\"#7201a8\"],[0.3333333333333333,\"#9c179e\"],[0.4444444444444444,\"#bd3786\"],[0.5555555555555556,\"#d8576b\"],[0.6666666666666666,\"#ed7953\"],[0.7777777777777778,\"#fb9f3a\"],[0.8888888888888888,\"#fdca26\"],[1.0,\"#f0f921\"]],\"type\":\"contour\"}],\"contourcarpet\":[{\"colorbar\":{\"outlinewidth\":0,\"ticks\":\"\"},\"type\":\"contourcarpet\"}],\"heatmap\":[{\"colorbar\":{\"outlinewidth\":0,\"ticks\":\"\"},\"colorscale\":[[0.0,\"#0d0887\"],[0.1111111111111111,\"#46039f\"],[0.2222222222222222,\"#7201a8\"],[0.3333333333333333,\"#9c179e\"],[0.4444444444444444,\"#bd3786\"],[0.5555555555555556,\"#d8576b\"],[0.6666666666666666,\"#ed7953\"],[0.7777777777777778,\"#fb9f3a\"],[0.8888888888888888,\"#fdca26\"],[1.0,\"#f0f921\"]],\"type\":\"heatmap\"}],\"heatmapgl\":[{\"colorbar\":{\"outlinewidth\":0,\"ticks\":\"\"},\"colorscale\":[[0.0,\"#0d0887\"],[0.1111111111111111,\"#46039f\"],[0.2222222222222222,\"#7201a8\"],[0.3333333333333333,\"#9c179e\"],[0.4444444444444444,\"#bd3786\"],[0.5555555555555556,\"#d8576b\"],[0.6666666666666666,\"#ed7953\"],[0.7777777777777778,\"#fb9f3a\"],[0.8888888888888888,\"#fdca26\"],[1.0,\"#f0f921\"]],\"type\":\"heatmapgl\"}],\"histogram\":[{\"marker\":{\"pattern\":{\"fillmode\":\"overlay\",\"size\":10,\"solidity\":0.2}},\"type\":\"histogram\"}],\"histogram2d\":[{\"colorbar\":{\"outlinewidth\":0,\"ticks\":\"\"},\"colorscale\":[[0.0,\"#0d0887\"],[0.1111111111111111,\"#46039f\"],[0.2222222222222222,\"#7201a8\"],[0.3333333333333333,\"#9c179e\"],[0.4444444444444444,\"#bd3786\"],[0.5555555555555556,\"#d8576b\"],[0.6666666666666666,\"#ed7953\"],[0.7777777777777778,\"#fb9f3a\"],[0.8888888888888888,\"#fdca26\"],[1.0,\"#f0f921\"]],\"type\":\"histogram2d\"}],\"histogram2dcontour\":[{\"colorbar\":{\"outlinewidth\":0,\"ticks\":\"\"},\"colorscale\":[[0.0,\"#0d0887\"],[0.1111111111111111,\"#46039f\"],[0.2222222222222222,\"#7201a8\"],[0.3333333333333333,\"#9c179e\"],[0.4444444444444444,\"#bd3786\"],[0.5555555555555556,\"#d8576b\"],[0.6666666666666666,\"#ed7953\"],[0.7777777777777778,\"#fb9f3a\"],[0.8888888888888888,\"#fdca26\"],[1.0,\"#f0f921\"]],\"type\":\"histogram2dcontour\"}],\"mesh3d\":[{\"colorbar\":{\"outlinewidth\":0,\"ticks\":\"\"},\"type\":\"mesh3d\"}],\"parcoords\":[{\"line\":{\"colorbar\":{\"outlinewidth\":0,\"ticks\":\"\"}},\"type\":\"parcoords\"}],\"pie\":[{\"automargin\":true,\"type\":\"pie\"}],\"scatter\":[{\"marker\":{\"colorbar\":{\"outlinewidth\":0,\"ticks\":\"\"}},\"type\":\"scatter\"}],\"scatter3d\":[{\"line\":{\"colorbar\":{\"outlinewidth\":0,\"ticks\":\"\"}},\"marker\":{\"colorbar\":{\"outlinewidth\":0,\"ticks\":\"\"}},\"type\":\"scatter3d\"}],\"scattercarpet\":[{\"marker\":{\"colorbar\":{\"outlinewidth\":0,\"ticks\":\"\"}},\"type\":\"scattercarpet\"}],\"scattergeo\":[{\"marker\":{\"colorbar\":{\"outlinewidth\":0,\"ticks\":\"\"}},\"type\":\"scattergeo\"}],\"scattergl\":[{\"marker\":{\"colorbar\":{\"outlinewidth\":0,\"ticks\":\"\"}},\"type\":\"scattergl\"}],\"scattermapbox\":[{\"marker\":{\"colorbar\":{\"outlinewidth\":0,\"ticks\":\"\"}},\"type\":\"scattermapbox\"}],\"scatterpolar\":[{\"marker\":{\"colorbar\":{\"outlinewidth\":0,\"ticks\":\"\"}},\"type\":\"scatterpolar\"}],\"scatterpolargl\":[{\"marker\":{\"colorbar\":{\"outlinewidth\":0,\"ticks\":\"\"}},\"type\":\"scatterpolargl\"}],\"scatterternary\":[{\"marker\":{\"colorbar\":{\"outlinewidth\":0,\"ticks\":\"\"}},\"type\":\"scatterternary\"}],\"surface\":[{\"colorbar\":{\"outlinewidth\":0,\"ticks\":\"\"},\"colorscale\":[[0.0,\"#0d0887\"],[0.1111111111111111,\"#46039f\"],[0.2222222222222222,\"#7201a8\"],[0.3333333333333333,\"#9c179e\"],[0.4444444444444444,\"#bd3786\"],[0.5555555555555556,\"#d8576b\"],[0.6666666666666666,\"#ed7953\"],[0.7777777777777778,\"#fb9f3a\"],[0.8888888888888888,\"#fdca26\"],[1.0,\"#f0f921\"]],\"type\":\"surface\"}],\"table\":[{\"cells\":{\"fill\":{\"color\":\"#EBF0F8\"},\"line\":{\"color\":\"white\"}},\"header\":{\"fill\":{\"color\":\"#C8D4E3\"},\"line\":{\"color\":\"white\"}},\"type\":\"table\"}]},\"layout\":{\"annotationdefaults\":{\"arrowcolor\":\"#2a3f5f\",\"arrowhead\":0,\"arrowwidth\":1},\"autotypenumbers\":\"strict\",\"coloraxis\":{\"colorbar\":{\"outlinewidth\":0,\"ticks\":\"\"}},\"colorscale\":{\"diverging\":[[0,\"#8e0152\"],[0.1,\"#c51b7d\"],[0.2,\"#de77ae\"],[0.3,\"#f1b6da\"],[0.4,\"#fde0ef\"],[0.5,\"#f7f7f7\"],[0.6,\"#e6f5d0\"],[0.7,\"#b8e186\"],[0.8,\"#7fbc41\"],[0.9,\"#4d9221\"],[1,\"#276419\"]],\"sequential\":[[0.0,\"#0d0887\"],[0.1111111111111111,\"#46039f\"],[0.2222222222222222,\"#7201a8\"],[0.3333333333333333,\"#9c179e\"],[0.4444444444444444,\"#bd3786\"],[0.5555555555555556,\"#d8576b\"],[0.6666666666666666,\"#ed7953\"],[0.7777777777777778,\"#fb9f3a\"],[0.8888888888888888,\"#fdca26\"],[1.0,\"#f0f921\"]],\"sequentialminus\":[[0.0,\"#0d0887\"],[0.1111111111111111,\"#46039f\"],[0.2222222222222222,\"#7201a8\"],[0.3333333333333333,\"#9c179e\"],[0.4444444444444444,\"#bd3786\"],[0.5555555555555556,\"#d8576b\"],[0.6666666666666666,\"#ed7953\"],[0.7777777777777778,\"#fb9f3a\"],[0.8888888888888888,\"#fdca26\"],[1.0,\"#f0f921\"]]},\"colorway\":[\"#636efa\",\"#EF553B\",\"#00cc96\",\"#ab63fa\",\"#FFA15A\",\"#19d3f3\",\"#FF6692\",\"#B6E880\",\"#FF97FF\",\"#FECB52\"],\"font\":{\"color\":\"#2a3f5f\"},\"geo\":{\"bgcolor\":\"white\",\"lakecolor\":\"white\",\"landcolor\":\"#E5ECF6\",\"showlakes\":true,\"showland\":true,\"subunitcolor\":\"white\"},\"hoverlabel\":{\"align\":\"left\"},\"hovermode\":\"closest\",\"mapbox\":{\"style\":\"light\"},\"paper_bgcolor\":\"white\",\"plot_bgcolor\":\"#E5ECF6\",\"polar\":{\"angularaxis\":{\"gridcolor\":\"white\",\"linecolor\":\"white\",\"ticks\":\"\"},\"bgcolor\":\"#E5ECF6\",\"radialaxis\":{\"gridcolor\":\"white\",\"linecolor\":\"white\",\"ticks\":\"\"}},\"scene\":{\"xaxis\":{\"backgroundcolor\":\"#E5ECF6\",\"gridcolor\":\"white\",\"gridwidth\":2,\"linecolor\":\"white\",\"showbackground\":true,\"ticks\":\"\",\"zerolinecolor\":\"white\"},\"yaxis\":{\"backgroundcolor\":\"#E5ECF6\",\"gridcolor\":\"white\",\"gridwidth\":2,\"linecolor\":\"white\",\"showbackground\":true,\"ticks\":\"\",\"zerolinecolor\":\"white\"},\"zaxis\":{\"backgroundcolor\":\"#E5ECF6\",\"gridcolor\":\"white\",\"gridwidth\":2,\"linecolor\":\"white\",\"showbackground\":true,\"ticks\":\"\",\"zerolinecolor\":\"white\"}},\"shapedefaults\":{\"line\":{\"color\":\"#2a3f5f\"}},\"ternary\":{\"aaxis\":{\"gridcolor\":\"white\",\"linecolor\":\"white\",\"ticks\":\"\"},\"baxis\":{\"gridcolor\":\"white\",\"linecolor\":\"white\",\"ticks\":\"\"},\"bgcolor\":\"#E5ECF6\",\"caxis\":{\"gridcolor\":\"white\",\"linecolor\":\"white\",\"ticks\":\"\"}},\"title\":{\"x\":0.05},\"xaxis\":{\"automargin\":true,\"gridcolor\":\"white\",\"linecolor\":\"white\",\"ticks\":\"\",\"title\":{\"standoff\":15},\"zerolinecolor\":\"white\",\"zerolinewidth\":2},\"yaxis\":{\"automargin\":true,\"gridcolor\":\"white\",\"linecolor\":\"white\",\"ticks\":\"\",\"title\":{\"standoff\":15},\"zerolinecolor\":\"white\",\"zerolinewidth\":2}}}},                        {\"responsive\": true}                    )                };                            </script>        </div>\n</body>\n</html>",
       "datasetInfos": [],
       "metadata": {},
       "removedWidgets": [],
       "textData": null,
       "type": "htmlSandbox"
      }
     },
     "output_type": "display_data"
    }
   ],
   "source": [
    "plot_inbound_two_errors(inbound_df=backtest_df_merge, error_col_1='AbsError_Dry_WOW', error_col_2= 'AbsError_Dry_PROPHET', show_out_of_range=True, date_col='Dates', outside_range_col_1='Outside_range_Dry_WOW', outside_range_col_2='Outside_range_Dry_PROPHET')"
   ]
  }
 ],
 "metadata": {
  "application/vnd.databricks.v1+notebook": {
   "dashboards": [],
   "language": "python",
   "notebookMetadata": {
    "pythonIndentUnit": 2
   },
   "notebookName": "Prophet_backtest_8_14d",
   "widgets": {}
  }
 },
 "nbformat": 4,
 "nbformat_minor": 0
}
