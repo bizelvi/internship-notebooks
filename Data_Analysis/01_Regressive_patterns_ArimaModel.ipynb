{
 "cells": [
  {
   "cell_type": "code",
   "execution_count": 0,
   "metadata": {
    "application/vnd.databricks.v1+cell": {
     "cellMetadata": {
      "byteLimit": 2048000,
      "rowLimit": 10000
     },
     "collapsed": true,
     "inputWidgets": {},
     "nuid": "7054cb28-39b1-452a-a3e1-96eb6f0eaa56",
     "showTitle": false,
     "title": ""
    }
   },
   "outputs": [
    {
     "output_type": "stream",
     "name": "stdout",
     "output_type": "stream",
     "text": [
      "Python interpreter will be restarted.\nRequirement already satisfied: statsmodels in /databricks/python3/lib/python3.9/site-packages (0.13.2)\nRequirement already satisfied: packaging>=21.3 in /databricks/python3/lib/python3.9/site-packages (from statsmodels) (21.3)\nRequirement already satisfied: numpy>=1.17 in /databricks/python3/lib/python3.9/site-packages (from statsmodels) (1.21.5)\nRequirement already satisfied: pandas>=0.25 in /databricks/python3/lib/python3.9/site-packages (from statsmodels) (1.4.2)\nRequirement already satisfied: scipy>=1.3 in /databricks/python3/lib/python3.9/site-packages (from statsmodels) (1.7.3)\nRequirement already satisfied: patsy>=0.5.2 in /databricks/python3/lib/python3.9/site-packages (from statsmodels) (0.5.2)\nRequirement already satisfied: pyparsing!=3.0.5,>=2.0.2 in /databricks/python3/lib/python3.9/site-packages (from packaging>=21.3->statsmodels) (3.0.4)\nRequirement already satisfied: python-dateutil>=2.8.1 in /databricks/python3/lib/python3.9/site-packages (from pandas>=0.25->statsmodels) (2.8.2)\nRequirement already satisfied: pytz>=2020.1 in /databricks/python3/lib/python3.9/site-packages (from pandas>=0.25->statsmodels) (2021.3)\nRequirement already satisfied: six in /databricks/python3/lib/python3.9/site-packages (from patsy>=0.5.2->statsmodels) (1.16.0)\nPython interpreter will be restarted.\n"
     ]
    }
   ],
   "source": [
    "  # %pip install scalecast\n",
    "  %pip install statsmodels\n"
   ]
  },
  {
   "cell_type": "code",
   "execution_count": 0,
   "metadata": {
    "application/vnd.databricks.v1+cell": {
     "cellMetadata": {
      "byteLimit": 2048000,
      "rowLimit": 10000
     },
     "inputWidgets": {},
     "nuid": "39e72ebf-4240-4408-97b8-0e50a2cf7a70",
     "showTitle": false,
     "title": ""
    }
   },
   "outputs": [],
   "source": [
    "%matplotlib inline"
   ]
  },
  {
   "cell_type": "code",
   "execution_count": 0,
   "metadata": {
    "application/vnd.databricks.v1+cell": {
     "cellMetadata": {
      "byteLimit": 2048000,
      "rowLimit": 10000
     },
     "inputWidgets": {},
     "nuid": "541f3bf7-cf62-4fb0-a334-726684b11a1b",
     "showTitle": false,
     "title": ""
    }
   },
   "outputs": [
    {
     "output_type": "display_data",
     "data": {
      "application/vnd.databricks.v1+bamboolib_hint": "{\"pd.DataFrames\": [], \"version\": \"0.0.1\"}",
      "text/plain": []
     },
     "metadata": {},
     "output_type": "display_data"
    }
   ],
   "source": [
    "%run /Users/ebizindavyi@delhaize.be/Data_preparation/Parse_xls_files"
   ]
  },
  {
   "cell_type": "markdown",
   "metadata": {
    "application/vnd.databricks.v1+cell": {
     "cellMetadata": {},
     "inputWidgets": {},
     "nuid": "10c524d3-b3ea-42d0-abc1-4249d0bcb88b",
     "showTitle": false,
     "title": ""
    }
   },
   "source": [
    "## Load Libraries"
   ]
  },
  {
   "cell_type": "code",
   "execution_count": 0,
   "metadata": {
    "application/vnd.databricks.v1+cell": {
     "cellMetadata": {
      "byteLimit": 2048000,
      "rowLimit": 10000
     },
     "inputWidgets": {},
     "nuid": "d77772fd-ef8e-4806-ac8b-0e52d96ffbe5",
     "showTitle": false,
     "title": ""
    }
   },
   "outputs": [],
   "source": [
    "import pandas as pd\n",
    "import numpy as np\n",
    "import matplotlib.pyplot as plt\n",
    "import statsmodels.api as sm\n",
    "from statsmodels.tsa.arima.model import ARIMA\n",
    "import datetime as dt"
   ]
  },
  {
   "cell_type": "markdown",
   "metadata": {
    "application/vnd.databricks.v1+cell": {
     "cellMetadata": {
      "byteLimit": 2048000,
      "rowLimit": 10000
     },
     "inputWidgets": {},
     "nuid": "a85a8221-6596-47f0-9df5-9a62fd395137",
     "showTitle": false,
     "title": ""
    }
   },
   "source": [
    "## Load the inbound data"
   ]
  },
  {
   "cell_type": "code",
   "execution_count": 0,
   "metadata": {
    "application/vnd.databricks.v1+cell": {
     "cellMetadata": {
      "byteLimit": 2048000,
      "rowLimit": 10000
     },
     "inputWidgets": {},
     "nuid": "9bbb3ba0-628a-46a9-9b5a-4c3150d57424",
     "showTitle": false,
     "title": ""
    }
   },
   "outputs": [],
   "source": [
    "inbound_2022_dir = '/dbfs/mnt/dataplatform/acc/DataScience/sandbox/ebiz/Inbound_FC/data/input/Ecom-Ops-status_2022.xlsx'"
   ]
  },
  {
   "cell_type": "code",
   "execution_count": 0,
   "metadata": {
    "application/vnd.databricks.v1+cell": {
     "cellMetadata": {
      "byteLimit": 2048000,
      "rowLimit": 10000
     },
     "inputWidgets": {},
     "nuid": "9d26eadd-e82c-417e-b6d1-7a91f44e63c7",
     "showTitle": false,
     "title": ""
    }
   },
   "outputs": [],
   "source": [
    "inbound_2022_df = create_master_df(inbound_2022_dir)"
   ]
  },
  {
   "cell_type": "code",
   "execution_count": 0,
   "metadata": {
    "application/vnd.databricks.v1+cell": {
     "cellMetadata": {
      "byteLimit": 2048000,
      "rowLimit": 10000
     },
     "inputWidgets": {},
     "nuid": "ea3f4d86-e499-4797-a830-9743db585668",
     "showTitle": false,
     "title": ""
    }
   },
   "outputs": [
    {
     "output_type": "display_data",
     "data": {
      "text/html": [
       "<div>\n",
       "<style scoped>\n",
       "    .dataframe tbody tr th:only-of-type {\n",
       "        vertical-align: middle;\n",
       "    }\n",
       "\n",
       "    .dataframe tbody tr th {\n",
       "        vertical-align: top;\n",
       "    }\n",
       "\n",
       "    .dataframe thead th {\n",
       "        text-align: right;\n",
       "    }\n",
       "</style>\n",
       "<table border=\"1\" class=\"dataframe\">\n",
       "  <thead>\n",
       "    <tr style=\"text-align: right;\">\n",
       "      <th></th>\n",
       "      <th>Dates</th>\n",
       "      <th>Dry Fc</th>\n",
       "      <th>Dry Actuals</th>\n",
       "      <th>Fresh Fc</th>\n",
       "      <th>Fresh</th>\n",
       "      <th>Frozen Fc</th>\n",
       "      <th>Frozen</th>\n",
       "      <th>Ultrafresh Fc</th>\n",
       "      <th>Ultrafresh</th>\n",
       "    </tr>\n",
       "  </thead>\n",
       "  <tbody>\n",
       "    <tr>\n",
       "      <th>0</th>\n",
       "      <td>2022-01-03</td>\n",
       "      <td>85794.442754</td>\n",
       "      <td>84224.0</td>\n",
       "      <td>60969.286307</td>\n",
       "      <td>41000.0</td>\n",
       "      <td>49273.053738</td>\n",
       "      <td>5581.0</td>\n",
       "      <td>6538.217201</td>\n",
       "      <td>6538.217201</td>\n",
       "    </tr>\n",
       "    <tr>\n",
       "      <th>1</th>\n",
       "      <td>2022-01-04</td>\n",
       "      <td>65323.939111</td>\n",
       "      <td>49564.0</td>\n",
       "      <td>68517.000793</td>\n",
       "      <td>64233.0</td>\n",
       "      <td>6447.045743</td>\n",
       "      <td>6110.0</td>\n",
       "      <td>7288.014352</td>\n",
       "      <td>9673.000000</td>\n",
       "    </tr>\n",
       "    <tr>\n",
       "      <th>2</th>\n",
       "      <td>2022-01-05</td>\n",
       "      <td>59060.496963</td>\n",
       "      <td>45890.0</td>\n",
       "      <td>59891.490569</td>\n",
       "      <td>61162.0</td>\n",
       "      <td>14752.884950</td>\n",
       "      <td>6061.0</td>\n",
       "      <td>8645.127518</td>\n",
       "      <td>9394.000000</td>\n",
       "    </tr>\n",
       "    <tr>\n",
       "      <th>3</th>\n",
       "      <td>2022-01-06</td>\n",
       "      <td>54098.434315</td>\n",
       "      <td>26976.0</td>\n",
       "      <td>54044.997867</td>\n",
       "      <td>55700.0</td>\n",
       "      <td>11884.161805</td>\n",
       "      <td>5042.0</td>\n",
       "      <td>8733.406013</td>\n",
       "      <td>7299.000000</td>\n",
       "    </tr>\n",
       "    <tr>\n",
       "      <th>4</th>\n",
       "      <td>2022-01-07</td>\n",
       "      <td>48633.525710</td>\n",
       "      <td>37044.0</td>\n",
       "      <td>48691.064872</td>\n",
       "      <td>49534.0</td>\n",
       "      <td>7322.811052</td>\n",
       "      <td>5979.0</td>\n",
       "      <td>7745.598367</td>\n",
       "      <td>8240.000000</td>\n",
       "    </tr>\n",
       "    <tr>\n",
       "      <th>...</th>\n",
       "      <td>...</td>\n",
       "      <td>...</td>\n",
       "      <td>...</td>\n",
       "      <td>...</td>\n",
       "      <td>...</td>\n",
       "      <td>...</td>\n",
       "      <td>...</td>\n",
       "      <td>...</td>\n",
       "      <td>...</td>\n",
       "    </tr>\n",
       "    <tr>\n",
       "      <th>293</th>\n",
       "      <td>2022-12-27</td>\n",
       "      <td>71459.270000</td>\n",
       "      <td>63764.0</td>\n",
       "      <td>67049.998422</td>\n",
       "      <td>68912.0</td>\n",
       "      <td>6642.104962</td>\n",
       "      <td>5615.0</td>\n",
       "      <td>9028.927578</td>\n",
       "      <td>11033.000000</td>\n",
       "    </tr>\n",
       "    <tr>\n",
       "      <th>294</th>\n",
       "      <td>2022-12-28</td>\n",
       "      <td>71916.320000</td>\n",
       "      <td>47680.0</td>\n",
       "      <td>62406.358606</td>\n",
       "      <td>57239.0</td>\n",
       "      <td>5883.382433</td>\n",
       "      <td>5253.0</td>\n",
       "      <td>9509.601394</td>\n",
       "      <td>10525.000000</td>\n",
       "    </tr>\n",
       "    <tr>\n",
       "      <th>295</th>\n",
       "      <td>2022-12-29</td>\n",
       "      <td>60346.346000</td>\n",
       "      <td>39552.0</td>\n",
       "      <td>76619.568000</td>\n",
       "      <td>63748.0</td>\n",
       "      <td>5951.031775</td>\n",
       "      <td>6037.0</td>\n",
       "      <td>9399.318000</td>\n",
       "      <td>10458.000000</td>\n",
       "    </tr>\n",
       "    <tr>\n",
       "      <th>296</th>\n",
       "      <td>2022-12-30</td>\n",
       "      <td>52203.888000</td>\n",
       "      <td>61119.0</td>\n",
       "      <td>65006.548000</td>\n",
       "      <td>42234.0</td>\n",
       "      <td>5759.074282</td>\n",
       "      <td>6692.0</td>\n",
       "      <td>9096.132000</td>\n",
       "      <td>7824.000000</td>\n",
       "    </tr>\n",
       "    <tr>\n",
       "      <th>297</th>\n",
       "      <td>2022-12-31</td>\n",
       "      <td>62750.131426</td>\n",
       "      <td>46818.0</td>\n",
       "      <td>60982.180799</td>\n",
       "      <td>44876.0</td>\n",
       "      <td>5269.921775</td>\n",
       "      <td>4932.0</td>\n",
       "      <td>7219.766000</td>\n",
       "      <td>5975.000000</td>\n",
       "    </tr>\n",
       "  </tbody>\n",
       "</table>\n",
       "<p>298 rows × 9 columns</p>\n",
       "</div>"
      ]
     },
     "metadata": {
      "application/vnd.databricks.v1+output": {
       "addedWidgets": {},
       "arguments": {},
       "data": "<div>\n<style scoped>\n    .dataframe tbody tr th:only-of-type {\n        vertical-align: middle;\n    }\n\n    .dataframe tbody tr th {\n        vertical-align: top;\n    }\n\n    .dataframe thead th {\n        text-align: right;\n    }\n</style>\n<table border=\"1\" class=\"dataframe\">\n  <thead>\n    <tr style=\"text-align: right;\">\n      <th></th>\n      <th>Dates</th>\n      <th>Dry Fc</th>\n      <th>Dry Actuals</th>\n      <th>Fresh Fc</th>\n      <th>Fresh</th>\n      <th>Frozen Fc</th>\n      <th>Frozen</th>\n      <th>Ultrafresh Fc</th>\n      <th>Ultrafresh</th>\n    </tr>\n  </thead>\n  <tbody>\n    <tr>\n      <th>0</th>\n      <td>2022-01-03</td>\n      <td>85794.442754</td>\n      <td>84224.0</td>\n      <td>60969.286307</td>\n      <td>41000.0</td>\n      <td>49273.053738</td>\n      <td>5581.0</td>\n      <td>6538.217201</td>\n      <td>6538.217201</td>\n    </tr>\n    <tr>\n      <th>1</th>\n      <td>2022-01-04</td>\n      <td>65323.939111</td>\n      <td>49564.0</td>\n      <td>68517.000793</td>\n      <td>64233.0</td>\n      <td>6447.045743</td>\n      <td>6110.0</td>\n      <td>7288.014352</td>\n      <td>9673.000000</td>\n    </tr>\n    <tr>\n      <th>2</th>\n      <td>2022-01-05</td>\n      <td>59060.496963</td>\n      <td>45890.0</td>\n      <td>59891.490569</td>\n      <td>61162.0</td>\n      <td>14752.884950</td>\n      <td>6061.0</td>\n      <td>8645.127518</td>\n      <td>9394.000000</td>\n    </tr>\n    <tr>\n      <th>3</th>\n      <td>2022-01-06</td>\n      <td>54098.434315</td>\n      <td>26976.0</td>\n      <td>54044.997867</td>\n      <td>55700.0</td>\n      <td>11884.161805</td>\n      <td>5042.0</td>\n      <td>8733.406013</td>\n      <td>7299.000000</td>\n    </tr>\n    <tr>\n      <th>4</th>\n      <td>2022-01-07</td>\n      <td>48633.525710</td>\n      <td>37044.0</td>\n      <td>48691.064872</td>\n      <td>49534.0</td>\n      <td>7322.811052</td>\n      <td>5979.0</td>\n      <td>7745.598367</td>\n      <td>8240.000000</td>\n    </tr>\n    <tr>\n      <th>...</th>\n      <td>...</td>\n      <td>...</td>\n      <td>...</td>\n      <td>...</td>\n      <td>...</td>\n      <td>...</td>\n      <td>...</td>\n      <td>...</td>\n      <td>...</td>\n    </tr>\n    <tr>\n      <th>293</th>\n      <td>2022-12-27</td>\n      <td>71459.270000</td>\n      <td>63764.0</td>\n      <td>67049.998422</td>\n      <td>68912.0</td>\n      <td>6642.104962</td>\n      <td>5615.0</td>\n      <td>9028.927578</td>\n      <td>11033.000000</td>\n    </tr>\n    <tr>\n      <th>294</th>\n      <td>2022-12-28</td>\n      <td>71916.320000</td>\n      <td>47680.0</td>\n      <td>62406.358606</td>\n      <td>57239.0</td>\n      <td>5883.382433</td>\n      <td>5253.0</td>\n      <td>9509.601394</td>\n      <td>10525.000000</td>\n    </tr>\n    <tr>\n      <th>295</th>\n      <td>2022-12-29</td>\n      <td>60346.346000</td>\n      <td>39552.0</td>\n      <td>76619.568000</td>\n      <td>63748.0</td>\n      <td>5951.031775</td>\n      <td>6037.0</td>\n      <td>9399.318000</td>\n      <td>10458.000000</td>\n    </tr>\n    <tr>\n      <th>296</th>\n      <td>2022-12-30</td>\n      <td>52203.888000</td>\n      <td>61119.0</td>\n      <td>65006.548000</td>\n      <td>42234.0</td>\n      <td>5759.074282</td>\n      <td>6692.0</td>\n      <td>9096.132000</td>\n      <td>7824.000000</td>\n    </tr>\n    <tr>\n      <th>297</th>\n      <td>2022-12-31</td>\n      <td>62750.131426</td>\n      <td>46818.0</td>\n      <td>60982.180799</td>\n      <td>44876.0</td>\n      <td>5269.921775</td>\n      <td>4932.0</td>\n      <td>7219.766000</td>\n      <td>5975.000000</td>\n    </tr>\n  </tbody>\n</table>\n<p>298 rows × 9 columns</p>\n</div>",
       "datasetInfos": [],
       "metadata": {},
       "removedWidgets": [],
       "textData": null,
       "type": "htmlSandbox"
      }
     },
     "output_type": "display_data"
    }
   ],
   "source": [
    "inbound_2022_df"
   ]
  },
  {
   "cell_type": "markdown",
   "metadata": {
    "application/vnd.databricks.v1+cell": {
     "cellMetadata": {
      "byteLimit": 2048000,
      "rowLimit": 10000
     },
     "inputWidgets": {},
     "nuid": "5afd8b25-a20d-4a57-afb9-1e01beac2ebf",
     "showTitle": false,
     "title": ""
    }
   },
   "source": [
    "### Create yearly time series\n",
    "needed to fill in date gaps"
   ]
  },
  {
   "cell_type": "code",
   "execution_count": 0,
   "metadata": {
    "application/vnd.databricks.v1+cell": {
     "cellMetadata": {
      "byteLimit": 2048000,
      "rowLimit": 10000
     },
     "inputWidgets": {},
     "nuid": "22f7852b-fdb0-4680-9057-58b01e13d247",
     "showTitle": false,
     "title": ""
    }
   },
   "outputs": [
    {
     "output_type": "stream",
     "name": "stdout",
     "output_type": "stream",
     "text": [
      "Out[19]: Dates\n2022-01-03    84224.0\n2022-01-04    49564.0\n2022-01-05    45890.0\n2022-01-06    26976.0\n2022-01-07    37044.0\n               ...   \n2022-12-27    63764.0\n2022-12-28    47680.0\n2022-12-29    39552.0\n2022-12-30    61119.0\n2022-12-31    46818.0\nName: Dry Actuals, Length: 363, dtype: float64"
     ]
    }
   ],
   "source": [
    "calendar_2022 = pd.DataFrame({'Dates':pd.date_range(dt.datetime(2022,1,3), periods=363, freq='d')})\n",
    "inbound_2022_dry = calendar_2022.merge(inbound_2022_df, on='Dates',how='left').fillna(0).set_index('Dates').copy()\n",
    "inbound_2022_dry = inbound_2022_dry.groupby(['Dates'])['Dry Actuals'].sum()\n",
    "inbound_2022_dry"
   ]
  },
  {
   "cell_type": "markdown",
   "metadata": {
    "application/vnd.databricks.v1+cell": {
     "cellMetadata": {
      "byteLimit": 2048000,
      "rowLimit": 10000
     },
     "inputWidgets": {},
     "nuid": "360116d8-b5c3-4069-b96c-b10364117134",
     "showTitle": false,
     "title": ""
    }
   },
   "source": [
    "## Create forecasting element for ARIMA"
   ]
  },
  {
   "cell_type": "code",
   "execution_count": 0,
   "metadata": {
    "application/vnd.databricks.v1+cell": {
     "cellMetadata": {},
     "inputWidgets": {},
     "nuid": "838f5f75-c8e9-4a49-a085-4ce62df5e2b2",
     "showTitle": false,
     "title": ""
    }
   },
   "outputs": [],
   "source": [
    "training_days=90\n",
    "initial_test_date= '2022-04-01'\n",
    "fc_horizon_end = 21\n",
    "fc_freq= 7\n",
    "\n",
    "all_start_dates= seq(initial_test_date, fc_freq)\n",
    "backtest_results=pd.DataFrame()\n",
    "\n",
    "for start_test_date in all_start_dates:\n",
    "  ## DO ARIMA\n",
    "  # end_test_date =start_test_date + fc_horizon\n",
    "\n",
    "  # start_train_date= start_test_date-training_days-1\n",
    "  # end_train_date=start_train_date+training_days\n",
    "\n",
    "  # endog=inbound_2022_dry[start_train_date:end_train_date]\n",
    "  # ARIMA\n",
    "  # backtest_results = backtest_results.append(forecast_df)\n",
    "  pass\n",
    "\n",
    "end_test_date =start_test_date + fc_horizon_end\n",
    "\n",
    "start_train_date= start_test_date-training_days-1\n",
    "end_train_date=start_train_date+training_days\n",
    "\n",
    "endog=inbound_2022_dry[start_train_date:end_train_date]"
   ]
  },
  {
   "cell_type": "code",
   "execution_count": 0,
   "metadata": {
    "application/vnd.databricks.v1+cell": {
     "cellMetadata": {
      "byteLimit": 2048000,
      "rowLimit": 10000
     },
     "inputWidgets": {},
     "nuid": "db9cf4f6-6461-468d-b9ea-23d43b06cc40",
     "showTitle": false,
     "title": ""
    }
   },
   "outputs": [
    {
     "output_type": "stream",
     "name": "stderr",
     "output_type": "stream",
     "text": [
      "/databricks/python/lib/python3.9/site-packages/statsmodels/tsa/base/tsa_model.py:471: ValueWarning: No frequency information was provided, so inferred frequency D will be used.\n  self._init_dates(dates, freq)\n/databricks/python/lib/python3.9/site-packages/statsmodels/tsa/base/tsa_model.py:471: ValueWarning: No frequency information was provided, so inferred frequency D will be used.\n  self._init_dates(dates, freq)\n/databricks/python/lib/python3.9/site-packages/statsmodels/tsa/base/tsa_model.py:471: ValueWarning: No frequency information was provided, so inferred frequency D will be used.\n  self._init_dates(dates, freq)\n"
     ]
    }
   ],
   "source": [
    "endog = inbound_2022_dry\n",
    "# exog=inbound_2022_dry.index\n",
    "ar_mod = ARIMA(\n",
    "    endog, order=(1, 0, 0), seasonal_order=(2, 0, 1, 7), trend=None, freq=None\n",
    ")"
   ]
  },
  {
   "cell_type": "code",
   "execution_count": 0,
   "metadata": {
    "application/vnd.databricks.v1+cell": {
     "cellMetadata": {
      "byteLimit": 2048000,
      "rowLimit": 10000
     },
     "inputWidgets": {},
     "nuid": "e9cf6ced-f7b9-48db-ba1b-accfe2f57e50",
     "showTitle": false,
     "title": ""
    }
   },
   "outputs": [],
   "source": [
    "mod_results=ar_mod.fit()"
   ]
  },
  {
   "cell_type": "code",
   "execution_count": 0,
   "metadata": {
    "application/vnd.databricks.v1+cell": {
     "cellMetadata": {
      "byteLimit": 2048000,
      "rowLimit": 10000
     },
     "inputWidgets": {},
     "nuid": "c0a518ec-c425-4e34-b2ab-96c30b5e5df9",
     "showTitle": false,
     "title": ""
    }
   },
   "outputs": [
    {
     "output_type": "stream",
     "name": "stdout",
     "output_type": "stream",
     "text": [
      "Out[41]: ['exog', 'ar', 'seasonal_ar', 'seasonal_ma', 'variance']"
     ]
    }
   ],
   "source": [
    "mod_results.param_ter"
   ]
  },
  {
   "cell_type": "code",
   "execution_count": 0,
   "metadata": {
    "application/vnd.databricks.v1+cell": {
     "cellMetadata": {
      "byteLimit": 2048000,
      "rowLimit": 10000
     },
     "inputWidgets": {},
     "nuid": "2a86e779-8805-4e14-9ce2-add190790dca",
     "showTitle": false,
     "title": ""
    }
   },
   "outputs": [],
   "source": [
    "#predict, hints: 1)specify the train period with start and end date\n",
    "\n",
    "mod_pred=mod_results.predict(start=\"2023-01-01\", end=\"2023-01-21\")\n"
   ]
  },
  {
   "cell_type": "code",
   "execution_count": 0,
   "metadata": {
    "application/vnd.databricks.v1+cell": {
     "cellMetadata": {
      "byteLimit": 2048000,
      "rowLimit": 10000
     },
     "inputWidgets": {},
     "nuid": "1a60a865-134c-48cd-9177-674bad82ffb4",
     "showTitle": false,
     "title": ""
    }
   },
   "outputs": [
    {
     "output_type": "stream",
     "name": "stdout",
     "output_type": "stream",
     "text": [
      "Out[59]: 2023-01-01     3934.096733\n2023-01-02    98475.998823\n2023-01-03    70822.657009\n2023-01-04    63338.321875\n2023-01-05    56614.714405\n2023-01-06    53043.176692\n2023-01-07    52625.562916\n2023-01-08     3674.924510\n2023-01-09    97869.180267\n2023-01-10    70401.607468\n2023-01-11    62622.065725\n2023-01-12    55889.663865\n2023-01-13    53374.267592\n2023-01-14    52390.782582\n2023-01-15     4045.155175\n2023-01-16    97567.828734\n2023-01-17    70292.634809\n2023-01-18    62581.832797\n2023-01-19    55898.809902\n2023-01-20    53358.449854\n2023-01-21    52405.313759\nFreq: D, Name: predicted_mean, dtype: float64"
     ]
    }
   ],
   "source": [
    "mod_pred"
   ]
  }
 ],
 "metadata": {
  "application/vnd.databricks.v1+notebook": {
   "dashboards": [],
   "language": "python",
   "notebookMetadata": {
    "pythonIndentUnit": 2
   },
   "notebookName": "01_Regressive_patterns_ArimaModel",
   "widgets": {}
  }
 },
 "nbformat": 4,
 "nbformat_minor": 0
}
