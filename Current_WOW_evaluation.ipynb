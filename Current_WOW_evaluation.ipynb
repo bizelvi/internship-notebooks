{
 "cells": [
  {
   "cell_type": "markdown",
   "metadata": {
    "application/vnd.databricks.v1+cell": {
     "cellMetadata": {
      "byteLimit": 2048000,
      "rowLimit": 10000
     },
     "inputWidgets": {},
     "nuid": "63e4acb8-52c0-4961-af73-18fa05fffa61",
     "showTitle": false,
     "title": ""
    }
   },
   "source": [
    "## Goal: Determine the performance of the current inbound forecast for 2022"
   ]
  },
  {
   "cell_type": "markdown",
   "metadata": {
    "application/vnd.databricks.v1+cell": {
     "cellMetadata": {
      "byteLimit": 2048000,
      "rowLimit": 10000
     },
     "inputWidgets": {},
     "nuid": "7509db31-fa91-4076-99ac-9fb09e558321",
     "showTitle": false,
     "title": ""
    }
   },
   "source": [
    "##Load functions"
   ]
  },
  {
   "cell_type": "markdown",
   "metadata": {
    "application/vnd.databricks.v1+cell": {
     "cellMetadata": {
      "byteLimit": 2048000,
      "rowLimit": 10000
     },
     "inputWidgets": {},
     "nuid": "2508dcc9-b10a-4bc2-8285-e28a0b0bb408",
     "showTitle": false,
     "title": ""
    }
   },
   "source": [
    "### Load xls parser"
   ]
  },
  {
   "cell_type": "code",
   "execution_count": 0,
   "metadata": {
    "application/vnd.databricks.v1+cell": {
     "cellMetadata": {
      "byteLimit": 2048000,
      "rowLimit": 10000
     },
     "inputWidgets": {},
     "nuid": "49b3c233-65a1-491b-a833-77a8fe3955f2",
     "showTitle": false,
     "title": ""
    }
   },
   "outputs": [
    {
     "output_type": "display_data",
     "data": {
      "application/vnd.databricks.v1+bamboolib_hint": "{\"pd.DataFrames\": [], \"version\": \"0.0.1\"}",
      "text/plain": []
     },
     "metadata": {},
     "output_type": "display_data"
    }
   ],
   "source": [
    "%run /Users/ebizindavyi@delhaize.be/Intro/Browse_xls_files_clean"
   ]
  },
  {
   "cell_type": "markdown",
   "metadata": {
    "application/vnd.databricks.v1+cell": {
     "cellMetadata": {
      "byteLimit": 2048000,
      "rowLimit": 10000
     },
     "inputWidgets": {},
     "nuid": "121fa274-c235-4c2d-8f5a-65ef7dbcfcc4",
     "showTitle": false,
     "title": ""
    }
   },
   "source": [
    "##load libraries "
   ]
  },
  {
   "cell_type": "code",
   "execution_count": 0,
   "metadata": {
    "application/vnd.databricks.v1+cell": {
     "cellMetadata": {
      "byteLimit": 2048000,
      "rowLimit": 10000
     },
     "inputWidgets": {},
     "nuid": "867b0f33-3b17-454a-84ad-0510c85f8808",
     "showTitle": false,
     "title": ""
    }
   },
   "outputs": [],
   "source": [
    "from sklearn.metrics import mean_squared_error as mse\n",
    "from math import sqrt\n",
    "import statistics\n",
    "import numpy as np\n"
   ]
  },
  {
   "cell_type": "markdown",
   "metadata": {
    "application/vnd.databricks.v1+cell": {
     "cellMetadata": {
      "byteLimit": 2048000,
      "rowLimit": 10000
     },
     "inputWidgets": {},
     "nuid": "4cceb338-f2f1-4d03-b25c-34bca9d8c60e",
     "showTitle": false,
     "title": ""
    }
   },
   "source": [
    "## Parameters"
   ]
  },
  {
   "cell_type": "code",
   "execution_count": 0,
   "metadata": {
    "application/vnd.databricks.v1+cell": {
     "cellMetadata": {
      "byteLimit": 2048000,
      "rowLimit": 10000
     },
     "inputWidgets": {},
     "nuid": "38742639-5a2d-4f98-8831-e09db1e7bcf4",
     "showTitle": false,
     "title": ""
    }
   },
   "outputs": [],
   "source": [
    "inbound_2022_dir = '/dbfs/mnt/dataplatform/acc/DataScience/sandbox/ebiz/Inbound_FC/data/input/Ecom-Ops-status_2022.xlsx'"
   ]
  },
  {
   "cell_type": "markdown",
   "metadata": {
    "application/vnd.databricks.v1+cell": {
     "cellMetadata": {
      "byteLimit": 2048000,
      "rowLimit": 10000
     },
     "inputWidgets": {},
     "nuid": "40a6c4a7-3419-4ef6-8c7a-c3d3d6142deb",
     "showTitle": false,
     "title": ""
    }
   },
   "source": [
    "### Read the inbound FC for 2022"
   ]
  },
  {
   "cell_type": "code",
   "execution_count": 0,
   "metadata": {
    "application/vnd.databricks.v1+cell": {
     "cellMetadata": {
      "byteLimit": 2048000,
      "rowLimit": 10000
     },
     "inputWidgets": {},
     "nuid": "ca18e594-fc19-4a5f-94c7-bc6be29bb8f3",
     "showTitle": false,
     "title": ""
    }
   },
   "outputs": [],
   "source": [
    "inbound_2022_df = create_master_df(inbound_2022_dir)"
   ]
  },
  {
   "cell_type": "code",
   "execution_count": 0,
   "metadata": {
    "application/vnd.databricks.v1+cell": {
     "cellMetadata": {
      "byteLimit": 2048000,
      "rowLimit": 10000
     },
     "inputWidgets": {},
     "nuid": "9d9540f9-96d5-4804-a925-41a30857dfee",
     "showTitle": false,
     "title": ""
    }
   },
   "outputs": [
    {
     "output_type": "display_data",
     "data": {
      "text/html": [
       "<div>\n",
       "<style scoped>\n",
       "    .dataframe tbody tr th:only-of-type {\n",
       "        vertical-align: middle;\n",
       "    }\n",
       "\n",
       "    .dataframe tbody tr th {\n",
       "        vertical-align: top;\n",
       "    }\n",
       "\n",
       "    .dataframe thead th {\n",
       "        text-align: right;\n",
       "    }\n",
       "</style>\n",
       "<table border=\"1\" class=\"dataframe\">\n",
       "  <thead>\n",
       "    <tr style=\"text-align: right;\">\n",
       "      <th></th>\n",
       "      <th>Dates</th>\n",
       "      <th>Dry Fc</th>\n",
       "      <th>Dry Actuals</th>\n",
       "      <th>Fresh Fc</th>\n",
       "      <th>Fresh</th>\n",
       "      <th>Frozen Fc</th>\n",
       "      <th>Frozen</th>\n",
       "      <th>Ultrafresh Fc</th>\n",
       "      <th>Ultrafresh</th>\n",
       "    </tr>\n",
       "  </thead>\n",
       "  <tbody>\n",
       "    <tr>\n",
       "      <th>0</th>\n",
       "      <td>2022-01-03</td>\n",
       "      <td>85794.442754</td>\n",
       "      <td>84224</td>\n",
       "      <td>60969.286307</td>\n",
       "      <td>41000</td>\n",
       "      <td>49273.053738</td>\n",
       "      <td>5581</td>\n",
       "      <td>6538.217201</td>\n",
       "      <td>6538.217201</td>\n",
       "    </tr>\n",
       "    <tr>\n",
       "      <th>1</th>\n",
       "      <td>2022-01-04</td>\n",
       "      <td>65323.939111</td>\n",
       "      <td>49564</td>\n",
       "      <td>68517.000793</td>\n",
       "      <td>64233</td>\n",
       "      <td>6447.045743</td>\n",
       "      <td>6110</td>\n",
       "      <td>7288.014352</td>\n",
       "      <td>9673</td>\n",
       "    </tr>\n",
       "    <tr>\n",
       "      <th>2</th>\n",
       "      <td>2022-01-05</td>\n",
       "      <td>59060.496963</td>\n",
       "      <td>45890</td>\n",
       "      <td>59891.490569</td>\n",
       "      <td>61162</td>\n",
       "      <td>14752.88495</td>\n",
       "      <td>6061</td>\n",
       "      <td>8645.127518</td>\n",
       "      <td>9394</td>\n",
       "    </tr>\n",
       "    <tr>\n",
       "      <th>3</th>\n",
       "      <td>2022-01-06</td>\n",
       "      <td>54098.434315</td>\n",
       "      <td>26976</td>\n",
       "      <td>54044.997867</td>\n",
       "      <td>55700</td>\n",
       "      <td>11884.161805</td>\n",
       "      <td>5042</td>\n",
       "      <td>8733.406013</td>\n",
       "      <td>7299</td>\n",
       "    </tr>\n",
       "    <tr>\n",
       "      <th>4</th>\n",
       "      <td>2022-01-07</td>\n",
       "      <td>48633.52571</td>\n",
       "      <td>37044</td>\n",
       "      <td>48691.064872</td>\n",
       "      <td>49534</td>\n",
       "      <td>7322.811052</td>\n",
       "      <td>5979</td>\n",
       "      <td>7745.598367</td>\n",
       "      <td>8240</td>\n",
       "    </tr>\n",
       "    <tr>\n",
       "      <th>...</th>\n",
       "      <td>...</td>\n",
       "      <td>...</td>\n",
       "      <td>...</td>\n",
       "      <td>...</td>\n",
       "      <td>...</td>\n",
       "      <td>...</td>\n",
       "      <td>...</td>\n",
       "      <td>...</td>\n",
       "      <td>...</td>\n",
       "    </tr>\n",
       "    <tr>\n",
       "      <th>293</th>\n",
       "      <td>2022-12-27</td>\n",
       "      <td>71459.27</td>\n",
       "      <td>63764</td>\n",
       "      <td>67049.998422</td>\n",
       "      <td>68912</td>\n",
       "      <td>6642.104962</td>\n",
       "      <td>5615</td>\n",
       "      <td>9028.927578</td>\n",
       "      <td>11033</td>\n",
       "    </tr>\n",
       "    <tr>\n",
       "      <th>294</th>\n",
       "      <td>2022-12-28</td>\n",
       "      <td>71916.32</td>\n",
       "      <td>47680</td>\n",
       "      <td>62406.358606</td>\n",
       "      <td>57239</td>\n",
       "      <td>5883.382433</td>\n",
       "      <td>5253</td>\n",
       "      <td>9509.601394</td>\n",
       "      <td>10525</td>\n",
       "    </tr>\n",
       "    <tr>\n",
       "      <th>295</th>\n",
       "      <td>2022-12-29</td>\n",
       "      <td>60346.346</td>\n",
       "      <td>39552</td>\n",
       "      <td>76619.568</td>\n",
       "      <td>63748</td>\n",
       "      <td>5951.031775</td>\n",
       "      <td>6037</td>\n",
       "      <td>9399.318</td>\n",
       "      <td>10458</td>\n",
       "    </tr>\n",
       "    <tr>\n",
       "      <th>296</th>\n",
       "      <td>2022-12-30</td>\n",
       "      <td>52203.888</td>\n",
       "      <td>61119</td>\n",
       "      <td>65006.548</td>\n",
       "      <td>42234</td>\n",
       "      <td>5759.074282</td>\n",
       "      <td>6692</td>\n",
       "      <td>9096.132</td>\n",
       "      <td>7824</td>\n",
       "    </tr>\n",
       "    <tr>\n",
       "      <th>297</th>\n",
       "      <td>2022-12-31</td>\n",
       "      <td>62750.131426</td>\n",
       "      <td>46818</td>\n",
       "      <td>60982.180799</td>\n",
       "      <td>44876</td>\n",
       "      <td>5269.921775</td>\n",
       "      <td>4932</td>\n",
       "      <td>7219.766</td>\n",
       "      <td>5975</td>\n",
       "    </tr>\n",
       "  </tbody>\n",
       "</table>\n",
       "<p>298 rows × 9 columns</p>\n",
       "</div>"
      ]
     },
     "metadata": {
      "application/vnd.databricks.v1+output": {
       "addedWidgets": {},
       "arguments": {},
       "data": "<div>\n<style scoped>\n    .dataframe tbody tr th:only-of-type {\n        vertical-align: middle;\n    }\n\n    .dataframe tbody tr th {\n        vertical-align: top;\n    }\n\n    .dataframe thead th {\n        text-align: right;\n    }\n</style>\n<table border=\"1\" class=\"dataframe\">\n  <thead>\n    <tr style=\"text-align: right;\">\n      <th></th>\n      <th>Dates</th>\n      <th>Dry Fc</th>\n      <th>Dry Actuals</th>\n      <th>Fresh Fc</th>\n      <th>Fresh</th>\n      <th>Frozen Fc</th>\n      <th>Frozen</th>\n      <th>Ultrafresh Fc</th>\n      <th>Ultrafresh</th>\n    </tr>\n  </thead>\n  <tbody>\n    <tr>\n      <th>0</th>\n      <td>2022-01-03</td>\n      <td>85794.442754</td>\n      <td>84224</td>\n      <td>60969.286307</td>\n      <td>41000</td>\n      <td>49273.053738</td>\n      <td>5581</td>\n      <td>6538.217201</td>\n      <td>6538.217201</td>\n    </tr>\n    <tr>\n      <th>1</th>\n      <td>2022-01-04</td>\n      <td>65323.939111</td>\n      <td>49564</td>\n      <td>68517.000793</td>\n      <td>64233</td>\n      <td>6447.045743</td>\n      <td>6110</td>\n      <td>7288.014352</td>\n      <td>9673</td>\n    </tr>\n    <tr>\n      <th>2</th>\n      <td>2022-01-05</td>\n      <td>59060.496963</td>\n      <td>45890</td>\n      <td>59891.490569</td>\n      <td>61162</td>\n      <td>14752.88495</td>\n      <td>6061</td>\n      <td>8645.127518</td>\n      <td>9394</td>\n    </tr>\n    <tr>\n      <th>3</th>\n      <td>2022-01-06</td>\n      <td>54098.434315</td>\n      <td>26976</td>\n      <td>54044.997867</td>\n      <td>55700</td>\n      <td>11884.161805</td>\n      <td>5042</td>\n      <td>8733.406013</td>\n      <td>7299</td>\n    </tr>\n    <tr>\n      <th>4</th>\n      <td>2022-01-07</td>\n      <td>48633.52571</td>\n      <td>37044</td>\n      <td>48691.064872</td>\n      <td>49534</td>\n      <td>7322.811052</td>\n      <td>5979</td>\n      <td>7745.598367</td>\n      <td>8240</td>\n    </tr>\n    <tr>\n      <th>...</th>\n      <td>...</td>\n      <td>...</td>\n      <td>...</td>\n      <td>...</td>\n      <td>...</td>\n      <td>...</td>\n      <td>...</td>\n      <td>...</td>\n      <td>...</td>\n    </tr>\n    <tr>\n      <th>293</th>\n      <td>2022-12-27</td>\n      <td>71459.27</td>\n      <td>63764</td>\n      <td>67049.998422</td>\n      <td>68912</td>\n      <td>6642.104962</td>\n      <td>5615</td>\n      <td>9028.927578</td>\n      <td>11033</td>\n    </tr>\n    <tr>\n      <th>294</th>\n      <td>2022-12-28</td>\n      <td>71916.32</td>\n      <td>47680</td>\n      <td>62406.358606</td>\n      <td>57239</td>\n      <td>5883.382433</td>\n      <td>5253</td>\n      <td>9509.601394</td>\n      <td>10525</td>\n    </tr>\n    <tr>\n      <th>295</th>\n      <td>2022-12-29</td>\n      <td>60346.346</td>\n      <td>39552</td>\n      <td>76619.568</td>\n      <td>63748</td>\n      <td>5951.031775</td>\n      <td>6037</td>\n      <td>9399.318</td>\n      <td>10458</td>\n    </tr>\n    <tr>\n      <th>296</th>\n      <td>2022-12-30</td>\n      <td>52203.888</td>\n      <td>61119</td>\n      <td>65006.548</td>\n      <td>42234</td>\n      <td>5759.074282</td>\n      <td>6692</td>\n      <td>9096.132</td>\n      <td>7824</td>\n    </tr>\n    <tr>\n      <th>297</th>\n      <td>2022-12-31</td>\n      <td>62750.131426</td>\n      <td>46818</td>\n      <td>60982.180799</td>\n      <td>44876</td>\n      <td>5269.921775</td>\n      <td>4932</td>\n      <td>7219.766</td>\n      <td>5975</td>\n    </tr>\n  </tbody>\n</table>\n<p>298 rows × 9 columns</p>\n</div>",
       "datasetInfos": [],
       "metadata": {},
       "removedWidgets": [],
       "textData": null,
       "type": "htmlSandbox"
      }
     },
     "output_type": "display_data"
    }
   ],
   "source": [
    "inbound_2022_df"
   ]
  },
  {
   "cell_type": "markdown",
   "metadata": {
    "application/vnd.databricks.v1+cell": {
     "cellMetadata": {
      "byteLimit": 2048000,
      "rowLimit": 10000
     },
     "inputWidgets": {},
     "nuid": "496422c4-328b-4f0d-933b-f730bc45153d",
     "showTitle": false,
     "title": ""
    }
   },
   "source": [
    "## Next steps:\n",
    "1. How can we evaluate the model performance for the entire 2022?\n",
    "    1. What is MAE (mean absolute error), RMSE (root mean square error), bias, etc? Are they useful, how do they differ from each other?\n",
    "    1. How many days was the forecast beyond 10% (either larger or lower) than the actuals?\n",
    "1. How different are the **Actuals** across time and across domains(dry/fresh/UF/frozen)?\n",
    "    1. How would you tackle this question?\n",
    "        1. Visually? A summary table?"
   ]
  },
  {
   "cell_type": "code",
   "execution_count": 0,
   "metadata": {
    "application/vnd.databricks.v1+cell": {
     "cellMetadata": {
      "byteLimit": 2048000,
      "rowLimit": 10000
     },
     "inputWidgets": {},
     "nuid": "a2669a0e-c02e-4008-86ed-59fbaea21365",
     "showTitle": false,
     "title": ""
    }
   },
   "outputs": [],
   "source": [
    "def bias_error(inbound_2022_df:pd.DataFrame, actual_col:int= 'Frozen',pred_col:int='Frozen FC', axis:int = 1)->pd.DataFrame: \n",
    "  \"\"\"\n",
    "  calculate the error\n",
    "  Arguments\n",
    "  pd dataframe\n",
    "  actuals & forecast columns\n",
    "  Returns \n",
    "  Data with new columns='Bias'\n",
    "  \"\"\"\n",
    "  inbound_2022_df['Bias_Froz']=inbound_2022_df['Frozen']-inbound_2022_df['Frozen Fc']\n",
    "  return inbound_2022_df"
   ]
  },
  {
   "cell_type": "code",
   "execution_count": 0,
   "metadata": {
    "application/vnd.databricks.v1+cell": {
     "cellMetadata": {
      "byteLimit": 2048000,
      "rowLimit": 10000
     },
     "inputWidgets": {},
     "nuid": "453036a2-a2d2-4318-aae9-fd15e228429c",
     "showTitle": false,
     "title": ""
    }
   },
   "outputs": [],
   "source": [
    "def ma_error(inbound_2022_df:pd.DataFrame, actual_col:int= 'Frozen',pred_col:int='Frozen FC', axis:int = 1)->pd.DataFrame:\n",
    "  \"\"\"\n",
    "  Mean average Eror\n",
    "  Argements\n",
    "  \"\"\"\n",
    "  inbound_2022_df['MAE_froz'] = np.abs(inbound_2022_df['Frozen'] - inbound_2022_df['Frozen Fc'])\n",
    "  return inbound_2022_df"
   ]
  },
  {
   "cell_type": "code",
   "execution_count": 0,
   "metadata": {
    "application/vnd.databricks.v1+cell": {
     "cellMetadata": {
      "byteLimit": 2048000,
      "rowLimit": 10000
     },
     "inputWidgets": {},
     "nuid": "25945912-456c-4e9e-850a-97ac54b40c6f",
     "showTitle": false,
     "title": ""
    }
   },
   "outputs": [],
   "source": [
    "df_test1=create_master_df(inbound_2022_dir)\n",
    "df_test_2=bias_error(df_test1)\n",
    "df_test_3=ma_error(df_test_2)\n",
    "df_test_3=transpose_df(df_test_2)"
   ]
  },
  {
   "cell_type": "code",
   "execution_count": 0,
   "metadata": {
    "application/vnd.databricks.v1+cell": {
     "cellMetadata": {
      "byteLimit": 2048000,
      "rowLimit": 10000
     },
     "inputWidgets": {},
     "nuid": "d4eff445-62cc-404e-92c3-9b1f6f570487",
     "showTitle": false,
     "title": ""
    }
   },
   "outputs": [],
   "source": [
    "\n",
    "inbound_2022_df['MSE_froz']=((inbound_2022_df['Frozen']-inbound_2022_df['Frozen Fc'])**2).mean()\n"
   ]
  },
  {
   "cell_type": "code",
   "execution_count": 0,
   "metadata": {
    "application/vnd.databricks.v1+cell": {
     "cellMetadata": {
      "byteLimit": 2048000,
      "rowLimit": 10000
     },
     "inputWidgets": {},
     "nuid": "6fb9236f-7d9c-410a-a935-0e3ec813f686",
     "showTitle": false,
     "title": ""
    }
   },
   "outputs": [],
   "source": [
    "# rmse\n",
    "inbound_2022_df['RMSE_Froz']=sqrt(mse(inbound_2022_df['Frozen'],inbound_2022_df['Frozen Fc']))"
   ]
  },
  {
   "cell_type": "code",
   "execution_count": 0,
   "metadata": {
    "application/vnd.databricks.v1+cell": {
     "cellMetadata": {
      "byteLimit": 2048000,
      "rowLimit": 10000
     },
     "inputWidgets": {},
     "nuid": "5e92751f-bc7d-4330-b7ae-f3bab4ecad99",
     "showTitle": false,
     "title": ""
    }
   },
   "outputs": [
    {
     "output_type": "display_data",
     "data": {
      "text/html": [
       "<div>\n",
       "<style scoped>\n",
       "    .dataframe tbody tr th:only-of-type {\n",
       "        vertical-align: middle;\n",
       "    }\n",
       "\n",
       "    .dataframe tbody tr th {\n",
       "        vertical-align: top;\n",
       "    }\n",
       "\n",
       "    .dataframe thead th {\n",
       "        text-align: right;\n",
       "    }\n",
       "</style>\n",
       "<table border=\"1\" class=\"dataframe\">\n",
       "  <thead>\n",
       "    <tr style=\"text-align: right;\">\n",
       "      <th></th>\n",
       "      <th>Dates</th>\n",
       "      <th>Dry Fc</th>\n",
       "      <th>Dry Actuals</th>\n",
       "      <th>Fresh Fc</th>\n",
       "      <th>Fresh</th>\n",
       "      <th>Frozen Fc</th>\n",
       "      <th>Frozen</th>\n",
       "      <th>Ultrafresh Fc</th>\n",
       "      <th>Ultrafresh</th>\n",
       "      <th>MSE_froz</th>\n",
       "      <th>RMSE_Froz</th>\n",
       "    </tr>\n",
       "  </thead>\n",
       "  <tbody>\n",
       "    <tr>\n",
       "      <th>0</th>\n",
       "      <td>2022-01-03</td>\n",
       "      <td>85794.442754</td>\n",
       "      <td>84224</td>\n",
       "      <td>60969.286307</td>\n",
       "      <td>41000</td>\n",
       "      <td>49273.053738</td>\n",
       "      <td>5581</td>\n",
       "      <td>6538.217201</td>\n",
       "      <td>6538.217201</td>\n",
       "      <td>4.637654e+08</td>\n",
       "      <td>21535.21333</td>\n",
       "    </tr>\n",
       "    <tr>\n",
       "      <th>1</th>\n",
       "      <td>2022-01-04</td>\n",
       "      <td>65323.939111</td>\n",
       "      <td>49564</td>\n",
       "      <td>68517.000793</td>\n",
       "      <td>64233</td>\n",
       "      <td>6447.045743</td>\n",
       "      <td>6110</td>\n",
       "      <td>7288.014352</td>\n",
       "      <td>9673</td>\n",
       "      <td>4.637654e+08</td>\n",
       "      <td>21535.21333</td>\n",
       "    </tr>\n",
       "    <tr>\n",
       "      <th>2</th>\n",
       "      <td>2022-01-05</td>\n",
       "      <td>59060.496963</td>\n",
       "      <td>45890</td>\n",
       "      <td>59891.490569</td>\n",
       "      <td>61162</td>\n",
       "      <td>14752.88495</td>\n",
       "      <td>6061</td>\n",
       "      <td>8645.127518</td>\n",
       "      <td>9394</td>\n",
       "      <td>4.637654e+08</td>\n",
       "      <td>21535.21333</td>\n",
       "    </tr>\n",
       "    <tr>\n",
       "      <th>3</th>\n",
       "      <td>2022-01-06</td>\n",
       "      <td>54098.434315</td>\n",
       "      <td>26976</td>\n",
       "      <td>54044.997867</td>\n",
       "      <td>55700</td>\n",
       "      <td>11884.161805</td>\n",
       "      <td>5042</td>\n",
       "      <td>8733.406013</td>\n",
       "      <td>7299</td>\n",
       "      <td>4.637654e+08</td>\n",
       "      <td>21535.21333</td>\n",
       "    </tr>\n",
       "    <tr>\n",
       "      <th>4</th>\n",
       "      <td>2022-01-07</td>\n",
       "      <td>48633.52571</td>\n",
       "      <td>37044</td>\n",
       "      <td>48691.064872</td>\n",
       "      <td>49534</td>\n",
       "      <td>7322.811052</td>\n",
       "      <td>5979</td>\n",
       "      <td>7745.598367</td>\n",
       "      <td>8240</td>\n",
       "      <td>4.637654e+08</td>\n",
       "      <td>21535.21333</td>\n",
       "    </tr>\n",
       "    <tr>\n",
       "      <th>...</th>\n",
       "      <td>...</td>\n",
       "      <td>...</td>\n",
       "      <td>...</td>\n",
       "      <td>...</td>\n",
       "      <td>...</td>\n",
       "      <td>...</td>\n",
       "      <td>...</td>\n",
       "      <td>...</td>\n",
       "      <td>...</td>\n",
       "      <td>...</td>\n",
       "      <td>...</td>\n",
       "    </tr>\n",
       "    <tr>\n",
       "      <th>293</th>\n",
       "      <td>2022-12-27</td>\n",
       "      <td>71459.27</td>\n",
       "      <td>63764</td>\n",
       "      <td>67049.998422</td>\n",
       "      <td>68912</td>\n",
       "      <td>6642.104962</td>\n",
       "      <td>5615</td>\n",
       "      <td>9028.927578</td>\n",
       "      <td>11033</td>\n",
       "      <td>4.637654e+08</td>\n",
       "      <td>21535.21333</td>\n",
       "    </tr>\n",
       "    <tr>\n",
       "      <th>294</th>\n",
       "      <td>2022-12-28</td>\n",
       "      <td>71916.32</td>\n",
       "      <td>47680</td>\n",
       "      <td>62406.358606</td>\n",
       "      <td>57239</td>\n",
       "      <td>5883.382433</td>\n",
       "      <td>5253</td>\n",
       "      <td>9509.601394</td>\n",
       "      <td>10525</td>\n",
       "      <td>4.637654e+08</td>\n",
       "      <td>21535.21333</td>\n",
       "    </tr>\n",
       "    <tr>\n",
       "      <th>295</th>\n",
       "      <td>2022-12-29</td>\n",
       "      <td>60346.346</td>\n",
       "      <td>39552</td>\n",
       "      <td>76619.568</td>\n",
       "      <td>63748</td>\n",
       "      <td>5951.031775</td>\n",
       "      <td>6037</td>\n",
       "      <td>9399.318</td>\n",
       "      <td>10458</td>\n",
       "      <td>4.637654e+08</td>\n",
       "      <td>21535.21333</td>\n",
       "    </tr>\n",
       "    <tr>\n",
       "      <th>296</th>\n",
       "      <td>2022-12-30</td>\n",
       "      <td>52203.888</td>\n",
       "      <td>61119</td>\n",
       "      <td>65006.548</td>\n",
       "      <td>42234</td>\n",
       "      <td>5759.074282</td>\n",
       "      <td>6692</td>\n",
       "      <td>9096.132</td>\n",
       "      <td>7824</td>\n",
       "      <td>4.637654e+08</td>\n",
       "      <td>21535.21333</td>\n",
       "    </tr>\n",
       "    <tr>\n",
       "      <th>297</th>\n",
       "      <td>2022-12-31</td>\n",
       "      <td>62750.131426</td>\n",
       "      <td>46818</td>\n",
       "      <td>60982.180799</td>\n",
       "      <td>44876</td>\n",
       "      <td>5269.921775</td>\n",
       "      <td>4932</td>\n",
       "      <td>7219.766</td>\n",
       "      <td>5975</td>\n",
       "      <td>4.637654e+08</td>\n",
       "      <td>21535.21333</td>\n",
       "    </tr>\n",
       "  </tbody>\n",
       "</table>\n",
       "<p>298 rows × 11 columns</p>\n",
       "</div>"
      ]
     },
     "metadata": {
      "application/vnd.databricks.v1+output": {
       "addedWidgets": {},
       "arguments": {},
       "data": "<div>\n<style scoped>\n    .dataframe tbody tr th:only-of-type {\n        vertical-align: middle;\n    }\n\n    .dataframe tbody tr th {\n        vertical-align: top;\n    }\n\n    .dataframe thead th {\n        text-align: right;\n    }\n</style>\n<table border=\"1\" class=\"dataframe\">\n  <thead>\n    <tr style=\"text-align: right;\">\n      <th></th>\n      <th>Dates</th>\n      <th>Dry Fc</th>\n      <th>Dry Actuals</th>\n      <th>Fresh Fc</th>\n      <th>Fresh</th>\n      <th>Frozen Fc</th>\n      <th>Frozen</th>\n      <th>Ultrafresh Fc</th>\n      <th>Ultrafresh</th>\n      <th>MSE_froz</th>\n      <th>RMSE_Froz</th>\n    </tr>\n  </thead>\n  <tbody>\n    <tr>\n      <th>0</th>\n      <td>2022-01-03</td>\n      <td>85794.442754</td>\n      <td>84224</td>\n      <td>60969.286307</td>\n      <td>41000</td>\n      <td>49273.053738</td>\n      <td>5581</td>\n      <td>6538.217201</td>\n      <td>6538.217201</td>\n      <td>4.637654e+08</td>\n      <td>21535.21333</td>\n    </tr>\n    <tr>\n      <th>1</th>\n      <td>2022-01-04</td>\n      <td>65323.939111</td>\n      <td>49564</td>\n      <td>68517.000793</td>\n      <td>64233</td>\n      <td>6447.045743</td>\n      <td>6110</td>\n      <td>7288.014352</td>\n      <td>9673</td>\n      <td>4.637654e+08</td>\n      <td>21535.21333</td>\n    </tr>\n    <tr>\n      <th>2</th>\n      <td>2022-01-05</td>\n      <td>59060.496963</td>\n      <td>45890</td>\n      <td>59891.490569</td>\n      <td>61162</td>\n      <td>14752.88495</td>\n      <td>6061</td>\n      <td>8645.127518</td>\n      <td>9394</td>\n      <td>4.637654e+08</td>\n      <td>21535.21333</td>\n    </tr>\n    <tr>\n      <th>3</th>\n      <td>2022-01-06</td>\n      <td>54098.434315</td>\n      <td>26976</td>\n      <td>54044.997867</td>\n      <td>55700</td>\n      <td>11884.161805</td>\n      <td>5042</td>\n      <td>8733.406013</td>\n      <td>7299</td>\n      <td>4.637654e+08</td>\n      <td>21535.21333</td>\n    </tr>\n    <tr>\n      <th>4</th>\n      <td>2022-01-07</td>\n      <td>48633.52571</td>\n      <td>37044</td>\n      <td>48691.064872</td>\n      <td>49534</td>\n      <td>7322.811052</td>\n      <td>5979</td>\n      <td>7745.598367</td>\n      <td>8240</td>\n      <td>4.637654e+08</td>\n      <td>21535.21333</td>\n    </tr>\n    <tr>\n      <th>...</th>\n      <td>...</td>\n      <td>...</td>\n      <td>...</td>\n      <td>...</td>\n      <td>...</td>\n      <td>...</td>\n      <td>...</td>\n      <td>...</td>\n      <td>...</td>\n      <td>...</td>\n      <td>...</td>\n    </tr>\n    <tr>\n      <th>293</th>\n      <td>2022-12-27</td>\n      <td>71459.27</td>\n      <td>63764</td>\n      <td>67049.998422</td>\n      <td>68912</td>\n      <td>6642.104962</td>\n      <td>5615</td>\n      <td>9028.927578</td>\n      <td>11033</td>\n      <td>4.637654e+08</td>\n      <td>21535.21333</td>\n    </tr>\n    <tr>\n      <th>294</th>\n      <td>2022-12-28</td>\n      <td>71916.32</td>\n      <td>47680</td>\n      <td>62406.358606</td>\n      <td>57239</td>\n      <td>5883.382433</td>\n      <td>5253</td>\n      <td>9509.601394</td>\n      <td>10525</td>\n      <td>4.637654e+08</td>\n      <td>21535.21333</td>\n    </tr>\n    <tr>\n      <th>295</th>\n      <td>2022-12-29</td>\n      <td>60346.346</td>\n      <td>39552</td>\n      <td>76619.568</td>\n      <td>63748</td>\n      <td>5951.031775</td>\n      <td>6037</td>\n      <td>9399.318</td>\n      <td>10458</td>\n      <td>4.637654e+08</td>\n      <td>21535.21333</td>\n    </tr>\n    <tr>\n      <th>296</th>\n      <td>2022-12-30</td>\n      <td>52203.888</td>\n      <td>61119</td>\n      <td>65006.548</td>\n      <td>42234</td>\n      <td>5759.074282</td>\n      <td>6692</td>\n      <td>9096.132</td>\n      <td>7824</td>\n      <td>4.637654e+08</td>\n      <td>21535.21333</td>\n    </tr>\n    <tr>\n      <th>297</th>\n      <td>2022-12-31</td>\n      <td>62750.131426</td>\n      <td>46818</td>\n      <td>60982.180799</td>\n      <td>44876</td>\n      <td>5269.921775</td>\n      <td>4932</td>\n      <td>7219.766</td>\n      <td>5975</td>\n      <td>4.637654e+08</td>\n      <td>21535.21333</td>\n    </tr>\n  </tbody>\n</table>\n<p>298 rows × 11 columns</p>\n</div>",
       "datasetInfos": [],
       "metadata": {},
       "removedWidgets": [],
       "textData": null,
       "type": "htmlSandbox"
      }
     },
     "output_type": "display_data"
    }
   ],
   "source": [
    "inbound_2022_df"
   ]
  },
  {
   "cell_type": "code",
   "execution_count": 0,
   "metadata": {
    "application/vnd.databricks.v1+cell": {
     "cellMetadata": {},
     "inputWidgets": {},
     "nuid": "efb2878d-c2dd-47e7-9ba6-d1234ef10ae4",
     "showTitle": false,
     "title": ""
    }
   },
   "outputs": [],
   "source": []
  }
 ],
 "metadata": {
  "application/vnd.databricks.v1+notebook": {
   "dashboards": [],
   "language": "python",
   "notebookMetadata": {
    "pythonIndentUnit": 2
   },
   "notebookName": "Current_WOW_evaluation",
   "widgets": {}
  }
 },
 "nbformat": 4,
 "nbformat_minor": 0
}
