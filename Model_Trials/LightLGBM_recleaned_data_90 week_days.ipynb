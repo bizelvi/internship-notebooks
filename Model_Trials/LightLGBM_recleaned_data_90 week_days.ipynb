{
 "cells": [
  {
   "cell_type": "markdown",
   "metadata": {
    "application/vnd.databricks.v1+cell": {
     "cellMetadata": {
      "byteLimit": 2048000,
      "rowLimit": 10000
     },
     "inputWidgets": {},
     "nuid": "4519a268-cfa6-4b5e-9f2a-8db2791bde98",
     "showTitle": false,
     "title": ""
    }
   },
   "source": [
    "# Run this notebook \n",
    "include complete calendar and public holidays"
   ]
  },
  {
   "cell_type": "code",
   "execution_count": 0,
   "metadata": {
    "application/vnd.databricks.v1+cell": {
     "cellMetadata": {
      "byteLimit": 2048000,
      "rowLimit": 10000
     },
     "inputWidgets": {},
     "nuid": "f781ed1c-50fc-4464-a563-0f0b76026888",
     "showTitle": false,
     "title": ""
    }
   },
   "outputs": [
    {
     "output_type": "stream",
     "name": "stdout",
     "output_type": "stream",
     "text": [
      "Python interpreter will be restarted.\nRequirement already satisfied: lightgbm in /databricks/python3/lib/python3.9/site-packages (3.3.4)\nRequirement already satisfied: numpy in /databricks/python3/lib/python3.9/site-packages (from lightgbm) (1.21.5)\nRequirement already satisfied: scipy in /databricks/python3/lib/python3.9/site-packages (from lightgbm) (1.7.3)\nRequirement already satisfied: scikit-learn!=0.22.0 in /databricks/python3/lib/python3.9/site-packages (from lightgbm) (1.0.2)\nRequirement already satisfied: wheel in /databricks/python3/lib/python3.9/site-packages (from lightgbm) (0.37.1)\nRequirement already satisfied: threadpoolctl>=2.0.0 in /databricks/python3/lib/python3.9/site-packages (from scikit-learn!=0.22.0->lightgbm) (2.2.0)\nRequirement already satisfied: joblib>=0.11 in /databricks/python3/lib/python3.9/site-packages (from scikit-learn!=0.22.0->lightgbm) (1.1.1)\nPython interpreter will be restarted.\n"
     ]
    }
   ],
   "source": [
    "%pip install lightgbm"
   ]
  },
  {
   "cell_type": "code",
   "execution_count": 0,
   "metadata": {
    "application/vnd.databricks.v1+cell": {
     "cellMetadata": {
      "byteLimit": 2048000,
      "rowLimit": 10000
     },
     "inputWidgets": {},
     "nuid": "63d61d55-1609-4253-b932-0c26029400a2",
     "showTitle": false,
     "title": ""
    }
   },
   "outputs": [],
   "source": [
    "import logging\n",
    "logger = spark._jvm.org.apache.log4j\n",
    "logging.getLogger(\"py4j.java_gateway\").setLevel(logging.ERROR)"
   ]
  },
  {
   "cell_type": "code",
   "execution_count": 0,
   "metadata": {
    "application/vnd.databricks.v1+cell": {
     "cellMetadata": {
      "byteLimit": 2048000,
      "rowLimit": 10000
     },
     "inputWidgets": {},
     "nuid": "bebef6f6-f09a-42a7-967e-636a0f970ed9",
     "showTitle": false,
     "title": ""
    }
   },
   "outputs": [
    {
     "output_type": "display_data",
     "data": {
      "application/vnd.databricks.v1+bamboolib_hint": "{\"pd.DataFrames\": [], \"version\": \"0.0.1\"}",
      "text/plain": []
     },
     "metadata": {},
     "output_type": "display_data"
    }
   ],
   "source": [
    "%run /Users/ebizindavyi@delhaize.be/Data_preparation/Parse_xls_files"
   ]
  },
  {
   "cell_type": "code",
   "execution_count": 0,
   "metadata": {
    "application/vnd.databricks.v1+cell": {
     "cellMetadata": {
      "byteLimit": 2048000,
      "rowLimit": 10000
     },
     "inputWidgets": {},
     "nuid": "52ef191e-717c-46c4-b31a-edf0ec29ce7d",
     "showTitle": false,
     "title": ""
    }
   },
   "outputs": [],
   "source": [
    "%run /Users/ebizindavyi@delhaize.be/Evaluation/Evaluation_functions"
   ]
  },
  {
   "cell_type": "code",
   "execution_count": 0,
   "metadata": {
    "application/vnd.databricks.v1+cell": {
     "cellMetadata": {
      "byteLimit": 2048000,
      "rowLimit": 10000
     },
     "inputWidgets": {},
     "nuid": "4a7ac192-e90c-4026-bf38-a8e3f61a2ac1",
     "showTitle": false,
     "title": ""
    }
   },
   "outputs": [],
   "source": [
    "import pandas as pd\n",
    "import numpy as np\n",
    "import datetime as dt\n",
    "import lightgbm as lgb\n",
    "from reusable.featurestore.features_schoolholidays import school_holidays\n",
    "from pyspark.sql import functions as f\n",
    "import holidays\n",
    "\n"
   ]
  },
  {
   "cell_type": "markdown",
   "metadata": {
    "application/vnd.databricks.v1+cell": {
     "cellMetadata": {
      "byteLimit": 2048000,
      "rowLimit": 10000
     },
     "inputWidgets": {},
     "nuid": "3277ae89-a924-4003-9fcb-588b2ea3aa77",
     "showTitle": false,
     "title": ""
    }
   },
   "source": [
    "## Evaluation Params"
   ]
  },
  {
   "cell_type": "code",
   "execution_count": 0,
   "metadata": {
    "application/vnd.databricks.v1+cell": {
     "cellMetadata": {
      "byteLimit": 2048000,
      "rowLimit": 10000
     },
     "inputWidgets": {},
     "nuid": "8161cb65-062b-45a3-8c66-4128f4793162",
     "showTitle": false,
     "title": ""
    }
   },
   "outputs": [],
   "source": [
    "actual_cols = ['Dry Actuals', 'Dry Actuals']\n",
    "fc_cols = ['Dry Fc', 'LGBM_FC']\n",
    "error_suffixes = ['Dry_WOW', 'Dry_LGBM']\n",
    "error_to_calc = [\"Bias\", \"AbsError\", \"SqError\",\"RelAbsError\"]"
   ]
  },
  {
   "cell_type": "markdown",
   "metadata": {
    "application/vnd.databricks.v1+cell": {
     "cellMetadata": {
      "byteLimit": 2048000,
      "rowLimit": 10000
     },
     "inputWidgets": {},
     "nuid": "5bff65f3-862e-4ffe-8f6a-7f51f2687317",
     "showTitle": false,
     "title": ""
    }
   },
   "source": [
    "## Load inbound data"
   ]
  },
  {
   "cell_type": "code",
   "execution_count": 0,
   "metadata": {
    "application/vnd.databricks.v1+cell": {
     "cellMetadata": {
      "byteLimit": 2048000,
      "rowLimit": 10000
     },
     "inputWidgets": {},
     "nuid": "8f230856-623a-42c5-9e2a-4e96023cc32e",
     "showTitle": false,
     "title": ""
    }
   },
   "outputs": [],
   "source": [
    "inbound_2022_dir = '/dbfs/mnt/dataplatform/acc/DataScience/sandbox/ebiz/Inbound_FC/data/input/Ecom-Ops-status_2022.xlsx'"
   ]
  },
  {
   "cell_type": "code",
   "execution_count": 0,
   "metadata": {
    "application/vnd.databricks.v1+cell": {
     "cellMetadata": {
      "byteLimit": 2048000,
      "rowLimit": 10000
     },
     "inputWidgets": {},
     "nuid": "447bcca4-5755-44a7-97c8-0290da296585",
     "showTitle": false,
     "title": ""
    }
   },
   "outputs": [],
   "source": [
    "inbound_2022_df = create_master_df(inbound_2022_dir)\n"
   ]
  },
  {
   "cell_type": "code",
   "execution_count": 0,
   "metadata": {
    "application/vnd.databricks.v1+cell": {
     "cellMetadata": {
      "byteLimit": 2048000,
      "rowLimit": 10000
     },
     "inputWidgets": {},
     "nuid": "f172559b-dc3e-47f5-959d-293c7204f083",
     "showTitle": false,
     "title": ""
    }
   },
   "outputs": [],
   "source": [
    "calendar_2022 = pd.DataFrame({'Dates':pd.date_range(dt.datetime(2022,1,3), periods=363, freq='d')})\n",
    "inbound_2022_complete = calendar_2022.merge(inbound_2022_df[['Dates','Dry Actuals']], on='Dates',how='left').fillna(0).copy()"
   ]
  },
  {
   "cell_type": "code",
   "execution_count": 0,
   "metadata": {
    "application/vnd.databricks.v1+cell": {
     "cellMetadata": {
      "byteLimit": 2048000,
      "rowLimit": 10000
     },
     "inputWidgets": {},
     "nuid": "b43a30bb-c0a0-4869-9b1b-2223fdb54301",
     "showTitle": false,
     "title": ""
    }
   },
   "outputs": [],
   "source": []
  },
  {
   "cell_type": "markdown",
   "metadata": {
    "application/vnd.databricks.v1+cell": {
     "cellMetadata": {
      "byteLimit": 2048000,
      "rowLimit": 10000
     },
     "inputWidgets": {},
     "nuid": "652d407d-a7bc-4d5a-8640-3da3a06bf4d9",
     "showTitle": false,
     "title": ""
    }
   },
   "source": [
    "## LightGBM\n"
   ]
  },
  {
   "cell_type": "markdown",
   "metadata": {
    "application/vnd.databricks.v1+cell": {
     "cellMetadata": {
      "byteLimit": 2048000,
      "rowLimit": 10000
     },
     "inputWidgets": {},
     "nuid": "3c9a827a-ed9a-48fd-8996-5f34a0b355b3",
     "showTitle": false,
     "title": ""
    }
   },
   "source": [
    "##Parameters"
   ]
  },
  {
   "cell_type": "code",
   "execution_count": 0,
   "metadata": {
    "application/vnd.databricks.v1+cell": {
     "cellMetadata": {
      "byteLimit": 2048000,
      "rowLimit": 10000
     },
     "inputWidgets": {},
     "nuid": "88d48e6a-1929-4a20-8418-8e3263ca5467",
     "showTitle": false,
     "title": ""
    }
   },
   "outputs": [],
   "source": [
    "#lgbm parameter\n",
    "backtest_start_date = pd.to_datetime('2022-01-03')\n",
    "backtest_end_date =  pd.to_datetime('2022-12-31')\n",
    "\n",
    "#shift periods to create features(lags)\n",
    "shift_period_1 = 7\n",
    "shift_period_2 = 14\n",
    "shift_period_3 = 21\n",
    "\n",
    "# Initialize lgbm parameters \n",
    "params = {\n",
    "    'objective': 'regression',  \n",
    "    'metric': 'rmse',           \n",
    "    'boosting_type': 'gbdt',    \n",
    "    # 'max_depth':2,      \n",
    "}\n",
    "# variables \n",
    "feature_col = ['x_7days', 'x_14days', 'x_21days']\n",
    "pred_period=6\n",
    "end_horizon = 7\n",
    "fc_freq=7\n",
    "training_period= 180"
   ]
  },
  {
   "cell_type": "code",
   "execution_count": 0,
   "metadata": {
    "application/vnd.databricks.v1+cell": {
     "cellMetadata": {
      "byteLimit": 2048000,
      "rowLimit": 10000
     },
     "inputWidgets": {},
     "nuid": "0dcf285c-8636-4098-8c3b-db41cfa54273",
     "showTitle": false,
     "title": ""
    }
   },
   "outputs": [],
   "source": [
    "inbound_2022_dry=inbound_2022_complete.copy()\n",
    "shift_periods = [shift_period_1, shift_period_2, shift_period_3]\n",
    "column_names = ['x_7days', 'x_14days', 'x_21days']\n",
    "\n",
    "for i, period in enumerate(shift_periods):\n",
    "    inbound_2022_dry[column_names[i]] = inbound_2022_dry['Dry Actuals'].shift(period)"
   ]
  },
  {
   "cell_type": "code",
   "execution_count": 0,
   "metadata": {
    "application/vnd.databricks.v1+cell": {
     "cellMetadata": {
      "byteLimit": 2048000,
      "rowLimit": 10000
     },
     "inputWidgets": {},
     "nuid": "2d5d516f-00d2-49be-a6dd-7238cfeafbc5",
     "showTitle": false,
     "title": ""
    }
   },
   "outputs": [],
   "source": [
    "def get_weekdays(inbound_df: pd.DataFrame, col_dates: str) -> pd.DataFrame:\n",
    "    \"\"\"\n",
    "    Get weekdays as integers (Monday=0, Tuesday=1, ..., Sunday=6) and add them as a new column.\n",
    "    Args:\n",
    "    -input DataFrame.\n",
    "    -The name of the date column.\n",
    "\n",
    "    Returns:\n",
    "    - DataFrame with a new column of weekday integers.\n",
    "    \"\"\"\n",
    "    # Calculate weekday integers (Monday=0, Tuesday=1, ..., Sunday=6)\n",
    "    inbound_df['weekday'] = inbound_df[col_dates].dt.weekday\n",
    "    return inbound_df\n",
    "\n",
    "inbound_2022_dry = get_weekdays(inbound_df=inbound_2022_dry, col_dates='Dates')"
   ]
  },
  {
   "cell_type": "markdown",
   "metadata": {
    "application/vnd.databricks.v1+cell": {
     "cellMetadata": {
      "byteLimit": 2048000,
      "rowLimit": 10000
     },
     "inputWidgets": {},
     "nuid": "004c50aa-8217-4553-b475-e34a2bf32c2a",
     "showTitle": false,
     "title": ""
    }
   },
   "source": [
    "### Clean the data\n",
    "\n",
    "removes all sundays and holidays in the complete dataset"
   ]
  },
  {
   "cell_type": "code",
   "execution_count": 0,
   "metadata": {
    "application/vnd.databricks.v1+cell": {
     "cellMetadata": {
      "byteLimit": 2048000,
      "rowLimit": 10000
     },
     "inputWidgets": {},
     "nuid": "bb7b779d-508c-40d4-9708-5e3256547c86",
     "showTitle": false,
     "title": ""
    }
   },
   "outputs": [],
   "source": [
    "shift_periods = [shift_period_1, shift_period_2, shift_period_3]\n",
    "column_names = ['x_7days', 'x_14days', 'x_21days']\n",
    "\n",
    "for i, period in enumerate(shift_periods):\n",
    "    inbound_2022_dry[column_names[i]] = inbound_2022_dry['Dry Actuals'].shift(period)\n"
   ]
  },
  {
   "cell_type": "code",
   "execution_count": 0,
   "metadata": {
    "application/vnd.databricks.v1+cell": {
     "cellMetadata": {
      "byteLimit": 2048000,
      "rowLimit": 10000
     },
     "inputWidgets": {},
     "nuid": "cc6a5853-ac85-439d-ac23-96b73426401b",
     "showTitle": false,
     "title": ""
    }
   },
   "outputs": [
    {
     "output_type": "display_data",
     "data": {
      "text/html": [
       "<div>\n",
       "<style scoped>\n",
       "    .dataframe tbody tr th:only-of-type {\n",
       "        vertical-align: middle;\n",
       "    }\n",
       "\n",
       "    .dataframe tbody tr th {\n",
       "        vertical-align: top;\n",
       "    }\n",
       "\n",
       "    .dataframe thead th {\n",
       "        text-align: right;\n",
       "    }\n",
       "</style>\n",
       "<table border=\"1\" class=\"dataframe\">\n",
       "  <thead>\n",
       "    <tr style=\"text-align: right;\">\n",
       "      <th></th>\n",
       "      <th>Dates</th>\n",
       "      <th>Dry Actuals</th>\n",
       "    </tr>\n",
       "  </thead>\n",
       "  <tbody>\n",
       "    <tr>\n",
       "      <th>0</th>\n",
       "      <td>2022-01-03</td>\n",
       "      <td>84224.000000</td>\n",
       "    </tr>\n",
       "    <tr>\n",
       "      <th>1</th>\n",
       "      <td>2022-01-04</td>\n",
       "      <td>49564.000000</td>\n",
       "    </tr>\n",
       "    <tr>\n",
       "      <th>2</th>\n",
       "      <td>2022-01-05</td>\n",
       "      <td>45890.000000</td>\n",
       "    </tr>\n",
       "    <tr>\n",
       "      <th>3</th>\n",
       "      <td>2022-01-06</td>\n",
       "      <td>26976.000000</td>\n",
       "    </tr>\n",
       "    <tr>\n",
       "      <th>4</th>\n",
       "      <td>2022-01-07</td>\n",
       "      <td>37044.000000</td>\n",
       "    </tr>\n",
       "    <tr>\n",
       "      <th>5</th>\n",
       "      <td>2022-01-08</td>\n",
       "      <td>56996.072927</td>\n",
       "    </tr>\n",
       "    <tr>\n",
       "      <th>6</th>\n",
       "      <td>2022-01-09</td>\n",
       "      <td>0.000000</td>\n",
       "    </tr>\n",
       "    <tr>\n",
       "      <th>7</th>\n",
       "      <td>2022-01-10</td>\n",
       "      <td>71540.000000</td>\n",
       "    </tr>\n",
       "    <tr>\n",
       "      <th>8</th>\n",
       "      <td>2022-01-11</td>\n",
       "      <td>63644.000000</td>\n",
       "    </tr>\n",
       "    <tr>\n",
       "      <th>9</th>\n",
       "      <td>2022-01-12</td>\n",
       "      <td>66433.000000</td>\n",
       "    </tr>\n",
       "    <tr>\n",
       "      <th>10</th>\n",
       "      <td>2022-01-13</td>\n",
       "      <td>52802.000000</td>\n",
       "    </tr>\n",
       "    <tr>\n",
       "      <th>11</th>\n",
       "      <td>2022-01-14</td>\n",
       "      <td>43554.000000</td>\n",
       "    </tr>\n",
       "    <tr>\n",
       "      <th>12</th>\n",
       "      <td>2022-01-15</td>\n",
       "      <td>48456.000000</td>\n",
       "    </tr>\n",
       "    <tr>\n",
       "      <th>13</th>\n",
       "      <td>2022-01-16</td>\n",
       "      <td>0.000000</td>\n",
       "    </tr>\n",
       "    <tr>\n",
       "      <th>14</th>\n",
       "      <td>2022-01-17</td>\n",
       "      <td>81534.000000</td>\n",
       "    </tr>\n",
       "    <tr>\n",
       "      <th>15</th>\n",
       "      <td>2022-01-18</td>\n",
       "      <td>72886.000000</td>\n",
       "    </tr>\n",
       "    <tr>\n",
       "      <th>16</th>\n",
       "      <td>2022-01-19</td>\n",
       "      <td>53783.000000</td>\n",
       "    </tr>\n",
       "    <tr>\n",
       "      <th>17</th>\n",
       "      <td>2022-01-20</td>\n",
       "      <td>0.000000</td>\n",
       "    </tr>\n",
       "    <tr>\n",
       "      <th>18</th>\n",
       "      <td>2022-01-21</td>\n",
       "      <td>52025.000000</td>\n",
       "    </tr>\n",
       "    <tr>\n",
       "      <th>19</th>\n",
       "      <td>2022-01-22</td>\n",
       "      <td>59776.587064</td>\n",
       "    </tr>\n",
       "    <tr>\n",
       "      <th>20</th>\n",
       "      <td>2022-01-23</td>\n",
       "      <td>0.000000</td>\n",
       "    </tr>\n",
       "    <tr>\n",
       "      <th>21</th>\n",
       "      <td>2022-01-24</td>\n",
       "      <td>102266.000000</td>\n",
       "    </tr>\n",
       "    <tr>\n",
       "      <th>22</th>\n",
       "      <td>2022-01-25</td>\n",
       "      <td>80584.000000</td>\n",
       "    </tr>\n",
       "    <tr>\n",
       "      <th>23</th>\n",
       "      <td>2022-01-26</td>\n",
       "      <td>70974.000000</td>\n",
       "    </tr>\n",
       "    <tr>\n",
       "      <th>24</th>\n",
       "      <td>2022-01-27</td>\n",
       "      <td>67565.000000</td>\n",
       "    </tr>\n",
       "    <tr>\n",
       "      <th>25</th>\n",
       "      <td>2022-01-28</td>\n",
       "      <td>57571.000000</td>\n",
       "    </tr>\n",
       "    <tr>\n",
       "      <th>26</th>\n",
       "      <td>2022-01-29</td>\n",
       "      <td>61000.000000</td>\n",
       "    </tr>\n",
       "    <tr>\n",
       "      <th>27</th>\n",
       "      <td>2022-01-30</td>\n",
       "      <td>0.000000</td>\n",
       "    </tr>\n",
       "    <tr>\n",
       "      <th>28</th>\n",
       "      <td>2022-01-31</td>\n",
       "      <td>83232.000000</td>\n",
       "    </tr>\n",
       "    <tr>\n",
       "      <th>29</th>\n",
       "      <td>2022-02-01</td>\n",
       "      <td>80128.000000</td>\n",
       "    </tr>\n",
       "    <tr>\n",
       "      <th>30</th>\n",
       "      <td>2022-02-02</td>\n",
       "      <td>61760.000000</td>\n",
       "    </tr>\n",
       "    <tr>\n",
       "      <th>31</th>\n",
       "      <td>2022-02-03</td>\n",
       "      <td>62943.000000</td>\n",
       "    </tr>\n",
       "    <tr>\n",
       "      <th>32</th>\n",
       "      <td>2022-02-04</td>\n",
       "      <td>47428.000000</td>\n",
       "    </tr>\n",
       "    <tr>\n",
       "      <th>33</th>\n",
       "      <td>2022-02-05</td>\n",
       "      <td>0.000000</td>\n",
       "    </tr>\n",
       "    <tr>\n",
       "      <th>34</th>\n",
       "      <td>2022-02-06</td>\n",
       "      <td>0.000000</td>\n",
       "    </tr>\n",
       "    <tr>\n",
       "      <th>35</th>\n",
       "      <td>2022-02-07</td>\n",
       "      <td>92633.000000</td>\n",
       "    </tr>\n",
       "    <tr>\n",
       "      <th>36</th>\n",
       "      <td>2022-02-08</td>\n",
       "      <td>79134.000000</td>\n",
       "    </tr>\n",
       "    <tr>\n",
       "      <th>37</th>\n",
       "      <td>2022-02-09</td>\n",
       "      <td>67710.000000</td>\n",
       "    </tr>\n",
       "    <tr>\n",
       "      <th>38</th>\n",
       "      <td>2022-02-10</td>\n",
       "      <td>56506.000000</td>\n",
       "    </tr>\n",
       "    <tr>\n",
       "      <th>39</th>\n",
       "      <td>2022-02-11</td>\n",
       "      <td>59586.000000</td>\n",
       "    </tr>\n",
       "    <tr>\n",
       "      <th>40</th>\n",
       "      <td>2022-02-12</td>\n",
       "      <td>0.000000</td>\n",
       "    </tr>\n",
       "    <tr>\n",
       "      <th>41</th>\n",
       "      <td>2022-02-13</td>\n",
       "      <td>0.000000</td>\n",
       "    </tr>\n",
       "    <tr>\n",
       "      <th>42</th>\n",
       "      <td>2022-02-14</td>\n",
       "      <td>147891.000000</td>\n",
       "    </tr>\n",
       "    <tr>\n",
       "      <th>43</th>\n",
       "      <td>2022-02-15</td>\n",
       "      <td>62166.000000</td>\n",
       "    </tr>\n",
       "    <tr>\n",
       "      <th>44</th>\n",
       "      <td>2022-02-16</td>\n",
       "      <td>57928.000000</td>\n",
       "    </tr>\n",
       "    <tr>\n",
       "      <th>45</th>\n",
       "      <td>2022-02-17</td>\n",
       "      <td>29278.000000</td>\n",
       "    </tr>\n",
       "    <tr>\n",
       "      <th>46</th>\n",
       "      <td>2022-02-18</td>\n",
       "      <td>37975.000000</td>\n",
       "    </tr>\n",
       "    <tr>\n",
       "      <th>47</th>\n",
       "      <td>2022-02-19</td>\n",
       "      <td>52677.000000</td>\n",
       "    </tr>\n",
       "    <tr>\n",
       "      <th>48</th>\n",
       "      <td>2022-02-20</td>\n",
       "      <td>0.000000</td>\n",
       "    </tr>\n",
       "    <tr>\n",
       "      <th>49</th>\n",
       "      <td>2022-02-21</td>\n",
       "      <td>96552.000000</td>\n",
       "    </tr>\n",
       "  </tbody>\n",
       "</table>\n",
       "</div>"
      ]
     },
     "metadata": {
      "application/vnd.databricks.v1+output": {
       "addedWidgets": {},
       "arguments": {},
       "data": "<div>\n<style scoped>\n    .dataframe tbody tr th:only-of-type {\n        vertical-align: middle;\n    }\n\n    .dataframe tbody tr th {\n        vertical-align: top;\n    }\n\n    .dataframe thead th {\n        text-align: right;\n    }\n</style>\n<table border=\"1\" class=\"dataframe\">\n  <thead>\n    <tr style=\"text-align: right;\">\n      <th></th>\n      <th>Dates</th>\n      <th>Dry Actuals</th>\n    </tr>\n  </thead>\n  <tbody>\n    <tr>\n      <th>0</th>\n      <td>2022-01-03</td>\n      <td>84224.000000</td>\n    </tr>\n    <tr>\n      <th>1</th>\n      <td>2022-01-04</td>\n      <td>49564.000000</td>\n    </tr>\n    <tr>\n      <th>2</th>\n      <td>2022-01-05</td>\n      <td>45890.000000</td>\n    </tr>\n    <tr>\n      <th>3</th>\n      <td>2022-01-06</td>\n      <td>26976.000000</td>\n    </tr>\n    <tr>\n      <th>4</th>\n      <td>2022-01-07</td>\n      <td>37044.000000</td>\n    </tr>\n    <tr>\n      <th>5</th>\n      <td>2022-01-08</td>\n      <td>56996.072927</td>\n    </tr>\n    <tr>\n      <th>6</th>\n      <td>2022-01-09</td>\n      <td>0.000000</td>\n    </tr>\n    <tr>\n      <th>7</th>\n      <td>2022-01-10</td>\n      <td>71540.000000</td>\n    </tr>\n    <tr>\n      <th>8</th>\n      <td>2022-01-11</td>\n      <td>63644.000000</td>\n    </tr>\n    <tr>\n      <th>9</th>\n      <td>2022-01-12</td>\n      <td>66433.000000</td>\n    </tr>\n    <tr>\n      <th>10</th>\n      <td>2022-01-13</td>\n      <td>52802.000000</td>\n    </tr>\n    <tr>\n      <th>11</th>\n      <td>2022-01-14</td>\n      <td>43554.000000</td>\n    </tr>\n    <tr>\n      <th>12</th>\n      <td>2022-01-15</td>\n      <td>48456.000000</td>\n    </tr>\n    <tr>\n      <th>13</th>\n      <td>2022-01-16</td>\n      <td>0.000000</td>\n    </tr>\n    <tr>\n      <th>14</th>\n      <td>2022-01-17</td>\n      <td>81534.000000</td>\n    </tr>\n    <tr>\n      <th>15</th>\n      <td>2022-01-18</td>\n      <td>72886.000000</td>\n    </tr>\n    <tr>\n      <th>16</th>\n      <td>2022-01-19</td>\n      <td>53783.000000</td>\n    </tr>\n    <tr>\n      <th>17</th>\n      <td>2022-01-20</td>\n      <td>0.000000</td>\n    </tr>\n    <tr>\n      <th>18</th>\n      <td>2022-01-21</td>\n      <td>52025.000000</td>\n    </tr>\n    <tr>\n      <th>19</th>\n      <td>2022-01-22</td>\n      <td>59776.587064</td>\n    </tr>\n    <tr>\n      <th>20</th>\n      <td>2022-01-23</td>\n      <td>0.000000</td>\n    </tr>\n    <tr>\n      <th>21</th>\n      <td>2022-01-24</td>\n      <td>102266.000000</td>\n    </tr>\n    <tr>\n      <th>22</th>\n      <td>2022-01-25</td>\n      <td>80584.000000</td>\n    </tr>\n    <tr>\n      <th>23</th>\n      <td>2022-01-26</td>\n      <td>70974.000000</td>\n    </tr>\n    <tr>\n      <th>24</th>\n      <td>2022-01-27</td>\n      <td>67565.000000</td>\n    </tr>\n    <tr>\n      <th>25</th>\n      <td>2022-01-28</td>\n      <td>57571.000000</td>\n    </tr>\n    <tr>\n      <th>26</th>\n      <td>2022-01-29</td>\n      <td>61000.000000</td>\n    </tr>\n    <tr>\n      <th>27</th>\n      <td>2022-01-30</td>\n      <td>0.000000</td>\n    </tr>\n    <tr>\n      <th>28</th>\n      <td>2022-01-31</td>\n      <td>83232.000000</td>\n    </tr>\n    <tr>\n      <th>29</th>\n      <td>2022-02-01</td>\n      <td>80128.000000</td>\n    </tr>\n    <tr>\n      <th>30</th>\n      <td>2022-02-02</td>\n      <td>61760.000000</td>\n    </tr>\n    <tr>\n      <th>31</th>\n      <td>2022-02-03</td>\n      <td>62943.000000</td>\n    </tr>\n    <tr>\n      <th>32</th>\n      <td>2022-02-04</td>\n      <td>47428.000000</td>\n    </tr>\n    <tr>\n      <th>33</th>\n      <td>2022-02-05</td>\n      <td>0.000000</td>\n    </tr>\n    <tr>\n      <th>34</th>\n      <td>2022-02-06</td>\n      <td>0.000000</td>\n    </tr>\n    <tr>\n      <th>35</th>\n      <td>2022-02-07</td>\n      <td>92633.000000</td>\n    </tr>\n    <tr>\n      <th>36</th>\n      <td>2022-02-08</td>\n      <td>79134.000000</td>\n    </tr>\n    <tr>\n      <th>37</th>\n      <td>2022-02-09</td>\n      <td>67710.000000</td>\n    </tr>\n    <tr>\n      <th>38</th>\n      <td>2022-02-10</td>\n      <td>56506.000000</td>\n    </tr>\n    <tr>\n      <th>39</th>\n      <td>2022-02-11</td>\n      <td>59586.000000</td>\n    </tr>\n    <tr>\n      <th>40</th>\n      <td>2022-02-12</td>\n      <td>0.000000</td>\n    </tr>\n    <tr>\n      <th>41</th>\n      <td>2022-02-13</td>\n      <td>0.000000</td>\n    </tr>\n    <tr>\n      <th>42</th>\n      <td>2022-02-14</td>\n      <td>147891.000000</td>\n    </tr>\n    <tr>\n      <th>43</th>\n      <td>2022-02-15</td>\n      <td>62166.000000</td>\n    </tr>\n    <tr>\n      <th>44</th>\n      <td>2022-02-16</td>\n      <td>57928.000000</td>\n    </tr>\n    <tr>\n      <th>45</th>\n      <td>2022-02-17</td>\n      <td>29278.000000</td>\n    </tr>\n    <tr>\n      <th>46</th>\n      <td>2022-02-18</td>\n      <td>37975.000000</td>\n    </tr>\n    <tr>\n      <th>47</th>\n      <td>2022-02-19</td>\n      <td>52677.000000</td>\n    </tr>\n    <tr>\n      <th>48</th>\n      <td>2022-02-20</td>\n      <td>0.000000</td>\n    </tr>\n    <tr>\n      <th>49</th>\n      <td>2022-02-21</td>\n      <td>96552.000000</td>\n    </tr>\n  </tbody>\n</table>\n</div>",
       "datasetInfos": [],
       "metadata": {},
       "removedWidgets": [],
       "textData": null,
       "type": "htmlSandbox"
      }
     },
     "output_type": "display_data"
    }
   ],
   "source": [
    "inbound_2022_complete.head(50)"
   ]
  },
  {
   "cell_type": "code",
   "execution_count": 0,
   "metadata": {
    "application/vnd.databricks.v1+cell": {
     "cellMetadata": {
      "byteLimit": 2048000,
      "rowLimit": 10000
     },
     "inputWidgets": {},
     "nuid": "5928f27d-659a-4ed2-8adf-5c1539f6a1a3",
     "showTitle": false,
     "title": ""
    }
   },
   "outputs": [],
   "source": [
    "#drop Nan and sundays and holidays with Zero in Actuals \n",
    "inbound_2022_dry = inbound_2022_dry.dropna().loc[inbound_2022_dry['Dry Actuals'] != 0].reset_index(drop=True)\n"
   ]
  },
  {
   "cell_type": "code",
   "execution_count": 0,
   "metadata": {
    "application/vnd.databricks.v1+cell": {
     "cellMetadata": {
      "byteLimit": 2048000,
      "rowLimit": 10000
     },
     "inputWidgets": {},
     "nuid": "f15fbc16-16de-4d89-b25a-faa9e6006049",
     "showTitle": false,
     "title": ""
    }
   },
   "outputs": [
    {
     "output_type": "display_data",
     "data": {
      "text/html": [
       "<div>\n",
       "<style scoped>\n",
       "    .dataframe tbody tr th:only-of-type {\n",
       "        vertical-align: middle;\n",
       "    }\n",
       "\n",
       "    .dataframe tbody tr th {\n",
       "        vertical-align: top;\n",
       "    }\n",
       "\n",
       "    .dataframe thead th {\n",
       "        text-align: right;\n",
       "    }\n",
       "</style>\n",
       "<table border=\"1\" class=\"dataframe\">\n",
       "  <thead>\n",
       "    <tr style=\"text-align: right;\">\n",
       "      <th></th>\n",
       "      <th>Dates</th>\n",
       "      <th>Dry Actuals</th>\n",
       "      <th>x_7days</th>\n",
       "      <th>x_14days</th>\n",
       "      <th>x_21days</th>\n",
       "      <th>weekday</th>\n",
       "    </tr>\n",
       "  </thead>\n",
       "  <tbody>\n",
       "    <tr>\n",
       "      <th>0</th>\n",
       "      <td>2022-01-24</td>\n",
       "      <td>102266.0</td>\n",
       "      <td>81534.000000</td>\n",
       "      <td>71540.0</td>\n",
       "      <td>84224.000000</td>\n",
       "      <td>0</td>\n",
       "    </tr>\n",
       "    <tr>\n",
       "      <th>1</th>\n",
       "      <td>2022-01-25</td>\n",
       "      <td>80584.0</td>\n",
       "      <td>72886.000000</td>\n",
       "      <td>63644.0</td>\n",
       "      <td>49564.000000</td>\n",
       "      <td>1</td>\n",
       "    </tr>\n",
       "    <tr>\n",
       "      <th>2</th>\n",
       "      <td>2022-01-26</td>\n",
       "      <td>70974.0</td>\n",
       "      <td>53783.000000</td>\n",
       "      <td>66433.0</td>\n",
       "      <td>45890.000000</td>\n",
       "      <td>2</td>\n",
       "    </tr>\n",
       "    <tr>\n",
       "      <th>3</th>\n",
       "      <td>2022-01-27</td>\n",
       "      <td>67565.0</td>\n",
       "      <td>0.000000</td>\n",
       "      <td>52802.0</td>\n",
       "      <td>26976.000000</td>\n",
       "      <td>3</td>\n",
       "    </tr>\n",
       "    <tr>\n",
       "      <th>4</th>\n",
       "      <td>2022-01-28</td>\n",
       "      <td>57571.0</td>\n",
       "      <td>52025.000000</td>\n",
       "      <td>43554.0</td>\n",
       "      <td>37044.000000</td>\n",
       "      <td>4</td>\n",
       "    </tr>\n",
       "    <tr>\n",
       "      <th>5</th>\n",
       "      <td>2022-01-29</td>\n",
       "      <td>61000.0</td>\n",
       "      <td>59776.587064</td>\n",
       "      <td>48456.0</td>\n",
       "      <td>56996.072927</td>\n",
       "      <td>5</td>\n",
       "    </tr>\n",
       "    <tr>\n",
       "      <th>6</th>\n",
       "      <td>2022-01-31</td>\n",
       "      <td>83232.0</td>\n",
       "      <td>102266.000000</td>\n",
       "      <td>81534.0</td>\n",
       "      <td>71540.000000</td>\n",
       "      <td>0</td>\n",
       "    </tr>\n",
       "    <tr>\n",
       "      <th>7</th>\n",
       "      <td>2022-02-01</td>\n",
       "      <td>80128.0</td>\n",
       "      <td>80584.000000</td>\n",
       "      <td>72886.0</td>\n",
       "      <td>63644.000000</td>\n",
       "      <td>1</td>\n",
       "    </tr>\n",
       "    <tr>\n",
       "      <th>8</th>\n",
       "      <td>2022-02-02</td>\n",
       "      <td>61760.0</td>\n",
       "      <td>70974.000000</td>\n",
       "      <td>53783.0</td>\n",
       "      <td>66433.000000</td>\n",
       "      <td>2</td>\n",
       "    </tr>\n",
       "    <tr>\n",
       "      <th>9</th>\n",
       "      <td>2022-02-03</td>\n",
       "      <td>62943.0</td>\n",
       "      <td>67565.000000</td>\n",
       "      <td>0.0</td>\n",
       "      <td>52802.000000</td>\n",
       "      <td>3</td>\n",
       "    </tr>\n",
       "    <tr>\n",
       "      <th>10</th>\n",
       "      <td>2022-02-04</td>\n",
       "      <td>47428.0</td>\n",
       "      <td>57571.000000</td>\n",
       "      <td>52025.0</td>\n",
       "      <td>43554.000000</td>\n",
       "      <td>4</td>\n",
       "    </tr>\n",
       "    <tr>\n",
       "      <th>11</th>\n",
       "      <td>2022-02-07</td>\n",
       "      <td>92633.0</td>\n",
       "      <td>83232.000000</td>\n",
       "      <td>102266.0</td>\n",
       "      <td>81534.000000</td>\n",
       "      <td>0</td>\n",
       "    </tr>\n",
       "    <tr>\n",
       "      <th>12</th>\n",
       "      <td>2022-02-08</td>\n",
       "      <td>79134.0</td>\n",
       "      <td>80128.000000</td>\n",
       "      <td>80584.0</td>\n",
       "      <td>72886.000000</td>\n",
       "      <td>1</td>\n",
       "    </tr>\n",
       "    <tr>\n",
       "      <th>13</th>\n",
       "      <td>2022-02-09</td>\n",
       "      <td>67710.0</td>\n",
       "      <td>61760.000000</td>\n",
       "      <td>70974.0</td>\n",
       "      <td>53783.000000</td>\n",
       "      <td>2</td>\n",
       "    </tr>\n",
       "    <tr>\n",
       "      <th>14</th>\n",
       "      <td>2022-02-10</td>\n",
       "      <td>56506.0</td>\n",
       "      <td>62943.000000</td>\n",
       "      <td>67565.0</td>\n",
       "      <td>0.000000</td>\n",
       "      <td>3</td>\n",
       "    </tr>\n",
       "    <tr>\n",
       "      <th>15</th>\n",
       "      <td>2022-02-11</td>\n",
       "      <td>59586.0</td>\n",
       "      <td>47428.000000</td>\n",
       "      <td>57571.0</td>\n",
       "      <td>52025.000000</td>\n",
       "      <td>4</td>\n",
       "    </tr>\n",
       "    <tr>\n",
       "      <th>16</th>\n",
       "      <td>2022-02-14</td>\n",
       "      <td>147891.0</td>\n",
       "      <td>92633.000000</td>\n",
       "      <td>83232.0</td>\n",
       "      <td>102266.000000</td>\n",
       "      <td>0</td>\n",
       "    </tr>\n",
       "    <tr>\n",
       "      <th>17</th>\n",
       "      <td>2022-02-15</td>\n",
       "      <td>62166.0</td>\n",
       "      <td>79134.000000</td>\n",
       "      <td>80128.0</td>\n",
       "      <td>80584.000000</td>\n",
       "      <td>1</td>\n",
       "    </tr>\n",
       "    <tr>\n",
       "      <th>18</th>\n",
       "      <td>2022-02-16</td>\n",
       "      <td>57928.0</td>\n",
       "      <td>67710.000000</td>\n",
       "      <td>61760.0</td>\n",
       "      <td>70974.000000</td>\n",
       "      <td>2</td>\n",
       "    </tr>\n",
       "    <tr>\n",
       "      <th>19</th>\n",
       "      <td>2022-02-17</td>\n",
       "      <td>29278.0</td>\n",
       "      <td>56506.000000</td>\n",
       "      <td>62943.0</td>\n",
       "      <td>67565.000000</td>\n",
       "      <td>3</td>\n",
       "    </tr>\n",
       "    <tr>\n",
       "      <th>20</th>\n",
       "      <td>2022-02-18</td>\n",
       "      <td>37975.0</td>\n",
       "      <td>59586.000000</td>\n",
       "      <td>47428.0</td>\n",
       "      <td>57571.000000</td>\n",
       "      <td>4</td>\n",
       "    </tr>\n",
       "    <tr>\n",
       "      <th>21</th>\n",
       "      <td>2022-02-19</td>\n",
       "      <td>52677.0</td>\n",
       "      <td>0.000000</td>\n",
       "      <td>0.0</td>\n",
       "      <td>61000.000000</td>\n",
       "      <td>5</td>\n",
       "    </tr>\n",
       "    <tr>\n",
       "      <th>22</th>\n",
       "      <td>2022-02-21</td>\n",
       "      <td>96552.0</td>\n",
       "      <td>147891.000000</td>\n",
       "      <td>92633.0</td>\n",
       "      <td>83232.000000</td>\n",
       "      <td>0</td>\n",
       "    </tr>\n",
       "    <tr>\n",
       "      <th>23</th>\n",
       "      <td>2022-02-22</td>\n",
       "      <td>70073.0</td>\n",
       "      <td>62166.000000</td>\n",
       "      <td>79134.0</td>\n",
       "      <td>80128.000000</td>\n",
       "      <td>1</td>\n",
       "    </tr>\n",
       "    <tr>\n",
       "      <th>24</th>\n",
       "      <td>2022-02-23</td>\n",
       "      <td>58581.0</td>\n",
       "      <td>57928.000000</td>\n",
       "      <td>67710.0</td>\n",
       "      <td>61760.000000</td>\n",
       "      <td>2</td>\n",
       "    </tr>\n",
       "    <tr>\n",
       "      <th>25</th>\n",
       "      <td>2022-02-24</td>\n",
       "      <td>43403.0</td>\n",
       "      <td>29278.000000</td>\n",
       "      <td>56506.0</td>\n",
       "      <td>62943.000000</td>\n",
       "      <td>3</td>\n",
       "    </tr>\n",
       "    <tr>\n",
       "      <th>26</th>\n",
       "      <td>2022-02-25</td>\n",
       "      <td>43941.0</td>\n",
       "      <td>37975.000000</td>\n",
       "      <td>59586.0</td>\n",
       "      <td>47428.000000</td>\n",
       "      <td>4</td>\n",
       "    </tr>\n",
       "    <tr>\n",
       "      <th>27</th>\n",
       "      <td>2022-02-26</td>\n",
       "      <td>58652.0</td>\n",
       "      <td>52677.000000</td>\n",
       "      <td>0.0</td>\n",
       "      <td>0.000000</td>\n",
       "      <td>5</td>\n",
       "    </tr>\n",
       "    <tr>\n",
       "      <th>28</th>\n",
       "      <td>2022-02-28</td>\n",
       "      <td>89479.0</td>\n",
       "      <td>96552.000000</td>\n",
       "      <td>147891.0</td>\n",
       "      <td>92633.000000</td>\n",
       "      <td>0</td>\n",
       "    </tr>\n",
       "    <tr>\n",
       "      <th>29</th>\n",
       "      <td>2022-03-01</td>\n",
       "      <td>70053.0</td>\n",
       "      <td>70073.000000</td>\n",
       "      <td>62166.0</td>\n",
       "      <td>79134.000000</td>\n",
       "      <td>1</td>\n",
       "    </tr>\n",
       "    <tr>\n",
       "      <th>30</th>\n",
       "      <td>2022-03-02</td>\n",
       "      <td>71588.0</td>\n",
       "      <td>58581.000000</td>\n",
       "      <td>57928.0</td>\n",
       "      <td>67710.000000</td>\n",
       "      <td>2</td>\n",
       "    </tr>\n",
       "    <tr>\n",
       "      <th>31</th>\n",
       "      <td>2022-03-03</td>\n",
       "      <td>43944.0</td>\n",
       "      <td>43403.000000</td>\n",
       "      <td>29278.0</td>\n",
       "      <td>56506.000000</td>\n",
       "      <td>3</td>\n",
       "    </tr>\n",
       "    <tr>\n",
       "      <th>32</th>\n",
       "      <td>2022-03-04</td>\n",
       "      <td>49965.0</td>\n",
       "      <td>43941.000000</td>\n",
       "      <td>37975.0</td>\n",
       "      <td>59586.000000</td>\n",
       "      <td>4</td>\n",
       "    </tr>\n",
       "    <tr>\n",
       "      <th>33</th>\n",
       "      <td>2022-03-05</td>\n",
       "      <td>59277.0</td>\n",
       "      <td>58652.000000</td>\n",
       "      <td>52677.0</td>\n",
       "      <td>0.000000</td>\n",
       "      <td>5</td>\n",
       "    </tr>\n",
       "    <tr>\n",
       "      <th>34</th>\n",
       "      <td>2022-03-07</td>\n",
       "      <td>102312.0</td>\n",
       "      <td>89479.000000</td>\n",
       "      <td>96552.0</td>\n",
       "      <td>147891.000000</td>\n",
       "      <td>0</td>\n",
       "    </tr>\n",
       "    <tr>\n",
       "      <th>35</th>\n",
       "      <td>2022-03-08</td>\n",
       "      <td>78405.0</td>\n",
       "      <td>70053.000000</td>\n",
       "      <td>70073.0</td>\n",
       "      <td>62166.000000</td>\n",
       "      <td>1</td>\n",
       "    </tr>\n",
       "    <tr>\n",
       "      <th>36</th>\n",
       "      <td>2022-03-09</td>\n",
       "      <td>59062.0</td>\n",
       "      <td>71588.000000</td>\n",
       "      <td>58581.0</td>\n",
       "      <td>57928.000000</td>\n",
       "      <td>2</td>\n",
       "    </tr>\n",
       "    <tr>\n",
       "      <th>37</th>\n",
       "      <td>2022-03-10</td>\n",
       "      <td>46653.0</td>\n",
       "      <td>43944.000000</td>\n",
       "      <td>43403.0</td>\n",
       "      <td>29278.000000</td>\n",
       "      <td>3</td>\n",
       "    </tr>\n",
       "    <tr>\n",
       "      <th>38</th>\n",
       "      <td>2022-03-11</td>\n",
       "      <td>55723.0</td>\n",
       "      <td>49965.000000</td>\n",
       "      <td>43941.0</td>\n",
       "      <td>37975.000000</td>\n",
       "      <td>4</td>\n",
       "    </tr>\n",
       "    <tr>\n",
       "      <th>39</th>\n",
       "      <td>2022-03-12</td>\n",
       "      <td>51390.0</td>\n",
       "      <td>59277.000000</td>\n",
       "      <td>58652.0</td>\n",
       "      <td>52677.000000</td>\n",
       "      <td>5</td>\n",
       "    </tr>\n",
       "    <tr>\n",
       "      <th>40</th>\n",
       "      <td>2022-03-14</td>\n",
       "      <td>106046.0</td>\n",
       "      <td>102312.000000</td>\n",
       "      <td>89479.0</td>\n",
       "      <td>96552.000000</td>\n",
       "      <td>0</td>\n",
       "    </tr>\n",
       "    <tr>\n",
       "      <th>41</th>\n",
       "      <td>2022-03-15</td>\n",
       "      <td>78925.0</td>\n",
       "      <td>78405.000000</td>\n",
       "      <td>70053.0</td>\n",
       "      <td>70073.000000</td>\n",
       "      <td>1</td>\n",
       "    </tr>\n",
       "    <tr>\n",
       "      <th>42</th>\n",
       "      <td>2022-03-16</td>\n",
       "      <td>50694.0</td>\n",
       "      <td>59062.000000</td>\n",
       "      <td>71588.0</td>\n",
       "      <td>58581.000000</td>\n",
       "      <td>2</td>\n",
       "    </tr>\n",
       "    <tr>\n",
       "      <th>43</th>\n",
       "      <td>2022-03-17</td>\n",
       "      <td>46864.0</td>\n",
       "      <td>46653.000000</td>\n",
       "      <td>43944.0</td>\n",
       "      <td>43403.000000</td>\n",
       "      <td>3</td>\n",
       "    </tr>\n",
       "    <tr>\n",
       "      <th>44</th>\n",
       "      <td>2022-03-18</td>\n",
       "      <td>52783.0</td>\n",
       "      <td>55723.000000</td>\n",
       "      <td>49965.0</td>\n",
       "      <td>43941.000000</td>\n",
       "      <td>4</td>\n",
       "    </tr>\n",
       "    <tr>\n",
       "      <th>45</th>\n",
       "      <td>2022-03-19</td>\n",
       "      <td>48653.0</td>\n",
       "      <td>51390.000000</td>\n",
       "      <td>59277.0</td>\n",
       "      <td>58652.000000</td>\n",
       "      <td>5</td>\n",
       "    </tr>\n",
       "    <tr>\n",
       "      <th>46</th>\n",
       "      <td>2022-03-21</td>\n",
       "      <td>99066.0</td>\n",
       "      <td>106046.000000</td>\n",
       "      <td>102312.0</td>\n",
       "      <td>89479.000000</td>\n",
       "      <td>0</td>\n",
       "    </tr>\n",
       "    <tr>\n",
       "      <th>47</th>\n",
       "      <td>2022-03-22</td>\n",
       "      <td>73190.0</td>\n",
       "      <td>78925.000000</td>\n",
       "      <td>78405.0</td>\n",
       "      <td>70053.000000</td>\n",
       "      <td>1</td>\n",
       "    </tr>\n",
       "    <tr>\n",
       "      <th>48</th>\n",
       "      <td>2022-03-23</td>\n",
       "      <td>55690.0</td>\n",
       "      <td>50694.000000</td>\n",
       "      <td>59062.0</td>\n",
       "      <td>71588.000000</td>\n",
       "      <td>2</td>\n",
       "    </tr>\n",
       "    <tr>\n",
       "      <th>49</th>\n",
       "      <td>2022-03-24</td>\n",
       "      <td>53803.0</td>\n",
       "      <td>46864.000000</td>\n",
       "      <td>46653.0</td>\n",
       "      <td>43944.000000</td>\n",
       "      <td>3</td>\n",
       "    </tr>\n",
       "  </tbody>\n",
       "</table>\n",
       "</div>"
      ]
     },
     "metadata": {
      "application/vnd.databricks.v1+output": {
       "addedWidgets": {},
       "arguments": {},
       "data": "<div>\n<style scoped>\n    .dataframe tbody tr th:only-of-type {\n        vertical-align: middle;\n    }\n\n    .dataframe tbody tr th {\n        vertical-align: top;\n    }\n\n    .dataframe thead th {\n        text-align: right;\n    }\n</style>\n<table border=\"1\" class=\"dataframe\">\n  <thead>\n    <tr style=\"text-align: right;\">\n      <th></th>\n      <th>Dates</th>\n      <th>Dry Actuals</th>\n      <th>x_7days</th>\n      <th>x_14days</th>\n      <th>x_21days</th>\n      <th>weekday</th>\n    </tr>\n  </thead>\n  <tbody>\n    <tr>\n      <th>0</th>\n      <td>2022-01-24</td>\n      <td>102266.0</td>\n      <td>81534.000000</td>\n      <td>71540.0</td>\n      <td>84224.000000</td>\n      <td>0</td>\n    </tr>\n    <tr>\n      <th>1</th>\n      <td>2022-01-25</td>\n      <td>80584.0</td>\n      <td>72886.000000</td>\n      <td>63644.0</td>\n      <td>49564.000000</td>\n      <td>1</td>\n    </tr>\n    <tr>\n      <th>2</th>\n      <td>2022-01-26</td>\n      <td>70974.0</td>\n      <td>53783.000000</td>\n      <td>66433.0</td>\n      <td>45890.000000</td>\n      <td>2</td>\n    </tr>\n    <tr>\n      <th>3</th>\n      <td>2022-01-27</td>\n      <td>67565.0</td>\n      <td>0.000000</td>\n      <td>52802.0</td>\n      <td>26976.000000</td>\n      <td>3</td>\n    </tr>\n    <tr>\n      <th>4</th>\n      <td>2022-01-28</td>\n      <td>57571.0</td>\n      <td>52025.000000</td>\n      <td>43554.0</td>\n      <td>37044.000000</td>\n      <td>4</td>\n    </tr>\n    <tr>\n      <th>5</th>\n      <td>2022-01-29</td>\n      <td>61000.0</td>\n      <td>59776.587064</td>\n      <td>48456.0</td>\n      <td>56996.072927</td>\n      <td>5</td>\n    </tr>\n    <tr>\n      <th>6</th>\n      <td>2022-01-31</td>\n      <td>83232.0</td>\n      <td>102266.000000</td>\n      <td>81534.0</td>\n      <td>71540.000000</td>\n      <td>0</td>\n    </tr>\n    <tr>\n      <th>7</th>\n      <td>2022-02-01</td>\n      <td>80128.0</td>\n      <td>80584.000000</td>\n      <td>72886.0</td>\n      <td>63644.000000</td>\n      <td>1</td>\n    </tr>\n    <tr>\n      <th>8</th>\n      <td>2022-02-02</td>\n      <td>61760.0</td>\n      <td>70974.000000</td>\n      <td>53783.0</td>\n      <td>66433.000000</td>\n      <td>2</td>\n    </tr>\n    <tr>\n      <th>9</th>\n      <td>2022-02-03</td>\n      <td>62943.0</td>\n      <td>67565.000000</td>\n      <td>0.0</td>\n      <td>52802.000000</td>\n      <td>3</td>\n    </tr>\n    <tr>\n      <th>10</th>\n      <td>2022-02-04</td>\n      <td>47428.0</td>\n      <td>57571.000000</td>\n      <td>52025.0</td>\n      <td>43554.000000</td>\n      <td>4</td>\n    </tr>\n    <tr>\n      <th>11</th>\n      <td>2022-02-07</td>\n      <td>92633.0</td>\n      <td>83232.000000</td>\n      <td>102266.0</td>\n      <td>81534.000000</td>\n      <td>0</td>\n    </tr>\n    <tr>\n      <th>12</th>\n      <td>2022-02-08</td>\n      <td>79134.0</td>\n      <td>80128.000000</td>\n      <td>80584.0</td>\n      <td>72886.000000</td>\n      <td>1</td>\n    </tr>\n    <tr>\n      <th>13</th>\n      <td>2022-02-09</td>\n      <td>67710.0</td>\n      <td>61760.000000</td>\n      <td>70974.0</td>\n      <td>53783.000000</td>\n      <td>2</td>\n    </tr>\n    <tr>\n      <th>14</th>\n      <td>2022-02-10</td>\n      <td>56506.0</td>\n      <td>62943.000000</td>\n      <td>67565.0</td>\n      <td>0.000000</td>\n      <td>3</td>\n    </tr>\n    <tr>\n      <th>15</th>\n      <td>2022-02-11</td>\n      <td>59586.0</td>\n      <td>47428.000000</td>\n      <td>57571.0</td>\n      <td>52025.000000</td>\n      <td>4</td>\n    </tr>\n    <tr>\n      <th>16</th>\n      <td>2022-02-14</td>\n      <td>147891.0</td>\n      <td>92633.000000</td>\n      <td>83232.0</td>\n      <td>102266.000000</td>\n      <td>0</td>\n    </tr>\n    <tr>\n      <th>17</th>\n      <td>2022-02-15</td>\n      <td>62166.0</td>\n      <td>79134.000000</td>\n      <td>80128.0</td>\n      <td>80584.000000</td>\n      <td>1</td>\n    </tr>\n    <tr>\n      <th>18</th>\n      <td>2022-02-16</td>\n      <td>57928.0</td>\n      <td>67710.000000</td>\n      <td>61760.0</td>\n      <td>70974.000000</td>\n      <td>2</td>\n    </tr>\n    <tr>\n      <th>19</th>\n      <td>2022-02-17</td>\n      <td>29278.0</td>\n      <td>56506.000000</td>\n      <td>62943.0</td>\n      <td>67565.000000</td>\n      <td>3</td>\n    </tr>\n    <tr>\n      <th>20</th>\n      <td>2022-02-18</td>\n      <td>37975.0</td>\n      <td>59586.000000</td>\n      <td>47428.0</td>\n      <td>57571.000000</td>\n      <td>4</td>\n    </tr>\n    <tr>\n      <th>21</th>\n      <td>2022-02-19</td>\n      <td>52677.0</td>\n      <td>0.000000</td>\n      <td>0.0</td>\n      <td>61000.000000</td>\n      <td>5</td>\n    </tr>\n    <tr>\n      <th>22</th>\n      <td>2022-02-21</td>\n      <td>96552.0</td>\n      <td>147891.000000</td>\n      <td>92633.0</td>\n      <td>83232.000000</td>\n      <td>0</td>\n    </tr>\n    <tr>\n      <th>23</th>\n      <td>2022-02-22</td>\n      <td>70073.0</td>\n      <td>62166.000000</td>\n      <td>79134.0</td>\n      <td>80128.000000</td>\n      <td>1</td>\n    </tr>\n    <tr>\n      <th>24</th>\n      <td>2022-02-23</td>\n      <td>58581.0</td>\n      <td>57928.000000</td>\n      <td>67710.0</td>\n      <td>61760.000000</td>\n      <td>2</td>\n    </tr>\n    <tr>\n      <th>25</th>\n      <td>2022-02-24</td>\n      <td>43403.0</td>\n      <td>29278.000000</td>\n      <td>56506.0</td>\n      <td>62943.000000</td>\n      <td>3</td>\n    </tr>\n    <tr>\n      <th>26</th>\n      <td>2022-02-25</td>\n      <td>43941.0</td>\n      <td>37975.000000</td>\n      <td>59586.0</td>\n      <td>47428.000000</td>\n      <td>4</td>\n    </tr>\n    <tr>\n      <th>27</th>\n      <td>2022-02-26</td>\n      <td>58652.0</td>\n      <td>52677.000000</td>\n      <td>0.0</td>\n      <td>0.000000</td>\n      <td>5</td>\n    </tr>\n    <tr>\n      <th>28</th>\n      <td>2022-02-28</td>\n      <td>89479.0</td>\n      <td>96552.000000</td>\n      <td>147891.0</td>\n      <td>92633.000000</td>\n      <td>0</td>\n    </tr>\n    <tr>\n      <th>29</th>\n      <td>2022-03-01</td>\n      <td>70053.0</td>\n      <td>70073.000000</td>\n      <td>62166.0</td>\n      <td>79134.000000</td>\n      <td>1</td>\n    </tr>\n    <tr>\n      <th>30</th>\n      <td>2022-03-02</td>\n      <td>71588.0</td>\n      <td>58581.000000</td>\n      <td>57928.0</td>\n      <td>67710.000000</td>\n      <td>2</td>\n    </tr>\n    <tr>\n      <th>31</th>\n      <td>2022-03-03</td>\n      <td>43944.0</td>\n      <td>43403.000000</td>\n      <td>29278.0</td>\n      <td>56506.000000</td>\n      <td>3</td>\n    </tr>\n    <tr>\n      <th>32</th>\n      <td>2022-03-04</td>\n      <td>49965.0</td>\n      <td>43941.000000</td>\n      <td>37975.0</td>\n      <td>59586.000000</td>\n      <td>4</td>\n    </tr>\n    <tr>\n      <th>33</th>\n      <td>2022-03-05</td>\n      <td>59277.0</td>\n      <td>58652.000000</td>\n      <td>52677.0</td>\n      <td>0.000000</td>\n      <td>5</td>\n    </tr>\n    <tr>\n      <th>34</th>\n      <td>2022-03-07</td>\n      <td>102312.0</td>\n      <td>89479.000000</td>\n      <td>96552.0</td>\n      <td>147891.000000</td>\n      <td>0</td>\n    </tr>\n    <tr>\n      <th>35</th>\n      <td>2022-03-08</td>\n      <td>78405.0</td>\n      <td>70053.000000</td>\n      <td>70073.0</td>\n      <td>62166.000000</td>\n      <td>1</td>\n    </tr>\n    <tr>\n      <th>36</th>\n      <td>2022-03-09</td>\n      <td>59062.0</td>\n      <td>71588.000000</td>\n      <td>58581.0</td>\n      <td>57928.000000</td>\n      <td>2</td>\n    </tr>\n    <tr>\n      <th>37</th>\n      <td>2022-03-10</td>\n      <td>46653.0</td>\n      <td>43944.000000</td>\n      <td>43403.0</td>\n      <td>29278.000000</td>\n      <td>3</td>\n    </tr>\n    <tr>\n      <th>38</th>\n      <td>2022-03-11</td>\n      <td>55723.0</td>\n      <td>49965.000000</td>\n      <td>43941.0</td>\n      <td>37975.000000</td>\n      <td>4</td>\n    </tr>\n    <tr>\n      <th>39</th>\n      <td>2022-03-12</td>\n      <td>51390.0</td>\n      <td>59277.000000</td>\n      <td>58652.0</td>\n      <td>52677.000000</td>\n      <td>5</td>\n    </tr>\n    <tr>\n      <th>40</th>\n      <td>2022-03-14</td>\n      <td>106046.0</td>\n      <td>102312.000000</td>\n      <td>89479.0</td>\n      <td>96552.000000</td>\n      <td>0</td>\n    </tr>\n    <tr>\n      <th>41</th>\n      <td>2022-03-15</td>\n      <td>78925.0</td>\n      <td>78405.000000</td>\n      <td>70053.0</td>\n      <td>70073.000000</td>\n      <td>1</td>\n    </tr>\n    <tr>\n      <th>42</th>\n      <td>2022-03-16</td>\n      <td>50694.0</td>\n      <td>59062.000000</td>\n      <td>71588.0</td>\n      <td>58581.000000</td>\n      <td>2</td>\n    </tr>\n    <tr>\n      <th>43</th>\n      <td>2022-03-17</td>\n      <td>46864.0</td>\n      <td>46653.000000</td>\n      <td>43944.0</td>\n      <td>43403.000000</td>\n      <td>3</td>\n    </tr>\n    <tr>\n      <th>44</th>\n      <td>2022-03-18</td>\n      <td>52783.0</td>\n      <td>55723.000000</td>\n      <td>49965.0</td>\n      <td>43941.000000</td>\n      <td>4</td>\n    </tr>\n    <tr>\n      <th>45</th>\n      <td>2022-03-19</td>\n      <td>48653.0</td>\n      <td>51390.000000</td>\n      <td>59277.0</td>\n      <td>58652.000000</td>\n      <td>5</td>\n    </tr>\n    <tr>\n      <th>46</th>\n      <td>2022-03-21</td>\n      <td>99066.0</td>\n      <td>106046.000000</td>\n      <td>102312.0</td>\n      <td>89479.000000</td>\n      <td>0</td>\n    </tr>\n    <tr>\n      <th>47</th>\n      <td>2022-03-22</td>\n      <td>73190.0</td>\n      <td>78925.000000</td>\n      <td>78405.0</td>\n      <td>70053.000000</td>\n      <td>1</td>\n    </tr>\n    <tr>\n      <th>48</th>\n      <td>2022-03-23</td>\n      <td>55690.0</td>\n      <td>50694.000000</td>\n      <td>59062.0</td>\n      <td>71588.000000</td>\n      <td>2</td>\n    </tr>\n    <tr>\n      <th>49</th>\n      <td>2022-03-24</td>\n      <td>53803.0</td>\n      <td>46864.000000</td>\n      <td>46653.0</td>\n      <td>43944.000000</td>\n      <td>3</td>\n    </tr>\n  </tbody>\n</table>\n</div>",
       "datasetInfos": [],
       "metadata": {},
       "removedWidgets": [],
       "textData": null,
       "type": "htmlSandbox"
      }
     },
     "output_type": "display_data"
    }
   ],
   "source": [
    "inbound_2022_dry.h\n"
   ]
  },
  {
   "cell_type": "markdown",
   "metadata": {
    "application/vnd.databricks.v1+cell": {
     "cellMetadata": {
      "byteLimit": 2048000,
      "rowLimit": 10000
     },
     "inputWidgets": {},
     "nuid": "0de4646a-1e35-4d61-9d51-540d331ce067",
     "showTitle": false,
     "title": ""
    }
   },
   "source": [
    "### Backtest"
   ]
  },
  {
   "cell_type": "code",
   "execution_count": 0,
   "metadata": {
    "application/vnd.databricks.v1+cell": {
     "cellMetadata": {
      "byteLimit": 2048000,
      "rowLimit": 10000
     },
     "inputWidgets": {},
     "nuid": "87d58024-428d-4577-98ba-332e3ce630c5",
     "showTitle": false,
     "title": ""
    }
   },
   "outputs": [
    {
     "output_type": "stream",
     "name": "stdout",
     "output_type": "stream",
     "text": [
      "Backtesting on: 2022-01-03 00:00:00\nBacktesting training ending on: 2022-07-02 00:00:00\nprint the shape:(128, 2) \n[LightGBM] [Warning] Auto-choosing row-wise multi-threading, the overhead of testing was 0.000058 seconds.\nYou can set `force_row_wise=true` to remove the overhead.\nAnd if memory is not enough, you can set `force_col_wise=true`.\n[LightGBM] [Info] Total Bins 129\n[LightGBM] [Info] Number of data points in the train set: 128, number of used features: 4\n[LightGBM] [Info] Start training from score 65732.078125\n[LightGBM] [Warning] No further splits with positive gain, best gain: -inf\n[LightGBM] [Warning] No further splits with positive gain, best gain: -inf\n[LightGBM] [Warning] No further splits with positive gain, best gain: -inf\n[LightGBM] [Warning] No further splits with positive gain, best gain: -inf\n[LightGBM] [Warning] No further splits with positive gain, best gain: -inf\n[LightGBM] [Warning] No further splits with positive gain, best gain: -inf\n[LightGBM] [Warning] No further splits with positive gain, best gain: -inf\n[LightGBM] [Warning] No further splits with positive gain, best gain: -inf\n[LightGBM] [Warning] No further splits with positive gain, best gain: -inf\n[LightGBM] [Warning] No further splits with positive gain, best gain: -inf\n[LightGBM] [Warning] No further splits with positive gain, best gain: -inf\n[LightGBM] [Warning] No further splits with positive gain, best gain: -inf\n[LightGBM] [Warning] No further splits with positive gain, best gain: -inf\n[LightGBM] [Warning] No further splits with positive gain, best gain: -inf\n[LightGBM] [Warning] No further splits with positive gain, best gain: -inf\n[LightGBM] [Warning] No further splits with positive gain, best gain: -inf\n[LightGBM] [Warning] No further splits with positive gain, best gain: -inf\n[LightGBM] [Warning] No further splits with positive gain, best gain: -inf\n[LightGBM] [Warning] No further splits with positive gain, best gain: -inf\n[LightGBM] [Warning] No further splits with positive gain, best gain: -inf\n[LightGBM] [Warning] No further splits with positive gain, best gain: -inf\n[LightGBM] [Warning] No further splits with positive gain, best gain: -inf\n[LightGBM] [Warning] No further splits with positive gain, best gain: -inf\n[LightGBM] [Warning] No further splits with positive gain, best gain: -inf\n[LightGBM] [Warning] No further splits with positive gain, best gain: -inf\n[LightGBM] [Warning] No further splits with positive gain, best gain: -inf\n[LightGBM] [Warning] No further splits with positive gain, best gain: -inf\n[LightGBM] [Warning] No further splits with positive gain, best gain: -inf\n[LightGBM] [Warning] No further splits with positive gain, best gain: -inf\n[LightGBM] [Warning] No further splits with positive gain, best gain: -inf\n[LightGBM] [Warning] No further splits with positive gain, best gain: -inf\n[LightGBM] [Warning] No further splits with positive gain, best gain: -inf\n[LightGBM] [Warning] No further splits with positive gain, best gain: -inf\n[LightGBM] [Warning] No further splits with positive gain, best gain: -inf\n[LightGBM] [Warning] No further splits with positive gain, best gain: -inf\n[LightGBM] [Warning] No further splits with positive gain, best gain: -inf\n[LightGBM] [Warning] No further splits with positive gain, best gain: -inf\n[LightGBM] [Warning] No further splits with positive gain, best gain: -inf\n[LightGBM] [Warning] No further splits with positive gain, best gain: -inf\n[LightGBM] [Warning] No further splits with positive gain, best gain: -inf\n[LightGBM] [Warning] No further splits with positive gain, best gain: -inf\n[LightGBM] [Warning] No further splits with positive gain, best gain: -inf\n[LightGBM] [Warning] No further splits with positive gain, best gain: -inf\n[LightGBM] [Warning] No further splits with positive gain, best gain: -inf\n[LightGBM] [Warning] No further splits with positive gain, best gain: -inf\n[LightGBM] [Warning] No further splits with positive gain, best gain: -inf\n[LightGBM] [Warning] No further splits with positive gain, best gain: -inf\n[LightGBM] [Warning] No further splits with positive gain, best gain: -inf\n[LightGBM] [Warning] No further splits with positive gain, best gain: -inf\n[LightGBM] [Warning] No further splits with positive gain, best gain: -inf\n[LightGBM] [Warning] No further splits with positive gain, best gain: -inf\n[LightGBM] [Warning] No further splits with positive gain, best gain: -inf\n[LightGBM] [Warning] No further splits with positive gain, best gain: -inf\n[LightGBM] [Warning] No further splits with positive gain, best gain: -inf\n[LightGBM] [Warning] No further splits with positive gain, best gain: -inf\n[LightGBM] [Warning] No further splits with positive gain, best gain: -inf\n[LightGBM] [Warning] No further splits with positive gain, best gain: -inf\n[LightGBM] [Warning] No further splits with positive gain, best gain: -inf\n[LightGBM] [Warning] No further splits with positive gain, best gain: -inf\n[LightGBM] [Warning] No further splits with positive gain, best gain: -inf\n[LightGBM] [Warning] No further splits with positive gain, best gain: -inf\n[LightGBM] [Warning] No further splits with positive gain, best gain: -inf\n[LightGBM] [Warning] No further splits with positive gain, best gain: -inf\n[LightGBM] [Warning] No further splits with positive gain, best gain: -inf\n[LightGBM] [Warning] No further splits with positive gain, best gain: -inf\n[LightGBM] [Warning] No further splits with positive gain, best gain: -inf\n[LightGBM] [Warning] No further splits with positive gain, best gain: -inf\n[LightGBM] [Warning] No further splits with positive gain, best gain: -inf\n[LightGBM] [Warning] No further splits with positive gain, best gain: -inf\n[LightGBM] [Warning] No further splits with positive gain, best gain: -inf\n[LightGBM] [Warning] No further splits with positive gain, best gain: -inf\n[LightGBM] [Warning] No further splits with positive gain, best gain: -inf\n[LightGBM] [Warning] No further splits with positive gain, best gain: -inf\n[LightGBM] [Warning] No further splits with positive gain, best gain: -inf\n[LightGBM] [Warning] No further splits with positive gain, best gain: -inf\n[LightGBM] [Warning] No further splits with positive gain, best gain: -inf\n[LightGBM] [Warning] No further splits with positive gain, best gain: -inf\n[LightGBM] [Warning] No further splits with positive gain, best gain: -inf\n[LightGBM] [Warning] No further splits with positive gain, best gain: -inf\n[LightGBM] [Warning] No further splits with positive gain, best gain: -inf\n[LightGBM] [Warning] No further splits with positive gain, best gain: -inf\n[LightGBM] [Warning] No further splits with positive gain, best gain: -inf\n[LightGBM] [Warning] No further splits with positive gain, best gain: -inf\n[LightGBM] [Warning] No further splits with positive gain, best gain: -inf\n[LightGBM] [Warning] No further splits with positive gain, best gain: -inf\n[LightGBM] [Warning] No further splits with positive gain, best gain: -inf\n[LightGBM] [Warning] No further splits with positive gain, best gain: -inf\n[LightGBM] [Warning] No further splits with positive gain, best gain: -inf\n[LightGBM] [Warning] No further splits with positive gain, best gain: -inf\n[LightGBM] [Warning] No further splits with positive gain, best gain: -inf\n[LightGBM] [Warning] No further splits with positive gain, best gain: -inf\n[LightGBM] [Warning] No further splits with positive gain, best gain: -inf\n[LightGBM] [Warning] No further splits with positive gain, best gain: -inf\n[LightGBM] [Warning] No further splits with positive gain, best gain: -inf\n[LightGBM] [Warning] No further splits with positive gain, best gain: -inf\n[LightGBM] [Warning] No further splits with positive gain, best gain: -inf\n[LightGBM] [Warning] No further splits with positive gain, best gain: -inf\n[LightGBM] [Warning] No further splits with positive gain, best gain: -inf\n[LightGBM] [Warning] No further splits with positive gain, best gain: -inf\n[LightGBM] [Warning] No further splits with positive gain, best gain: -inf\nBacktesting on: 2022-01-10 00:00:00\nBacktesting training ending on: 2022-07-09 00:00:00\nprint the shape:(134, 2) \n[LightGBM] [Warning] Auto-choosing col-wise multi-threading, the overhead of testing was 0.000065 seconds.\nYou can set `force_col_wise=true` to remove the overhead.\n[LightGBM] [Info] Total Bins 135\n[LightGBM] [Info] Number of data points in the train set: 134, number of used features: 4\n[LightGBM] [Info] Start training from score 65274.350746\n[LightGBM] [Warning] No further splits with positive gain, best gain: -inf\n[LightGBM] [Warning] No further splits with positive gain, best gain: -inf\n[LightGBM] [Warning] No further splits with positive gain, best gain: -inf\n[LightGBM] [Warning] No further splits with positive gain, best gain: -inf\n[LightGBM] [Warning] No further splits with positive gain, best gain: -inf\n[LightGBM] [Warning] No further splits with positive gain, best gain: -inf\n[LightGBM] [Warning] No further splits with positive gain, best gain: -inf\n[LightGBM] [Warning] No further splits with positive gain, best gain: -inf\n[LightGBM] [Warning] No further splits with positive gain, best gain: -inf\n[LightGBM] [Warning] No further splits with positive gain, best gain: -inf\n[LightGBM] [Warning] No further splits with positive gain, best gain: -inf\n[LightGBM] [Warning] No further splits with positive gain, best gain: -inf\n[LightGBM] [Warning] No further splits with positive gain, best gain: -inf\n[LightGBM] [Warning] No further splits with positive gain, best gain: -inf\n[LightGBM] [Warning] No further splits with positive gain, best gain: -inf\n[LightGBM] [Warning] No further splits with positive gain, best gain: -inf\n[LightGBM] [Warning] No further splits with positive gain, best gain: -inf\n[LightGBM] [Warning] No further splits with positive gain, best gain: -inf\n[LightGBM] [Warning] No further splits with positive gain, best gain: -inf\n[LightGBM] [Warning] No further splits with positive gain, best gain: -inf\n[LightGBM] [Warning] No further splits with positive gain, best gain: -inf\n[LightGBM] [Warning] No further splits with positive gain, best gain: -inf\n[LightGBM] [Warning] No further splits with positive gain, best gain: -inf\n[LightGBM] [Warning] No further splits with positive gain, best gain: -inf\n[LightGBM] [Warning] No further splits with positive gain, best gain: -inf\n[LightGBM] [Warning] No further splits with positive gain, best gain: -inf\n[LightGBM] [Warning] No further splits with positive gain, best gain: -inf\n[LightGBM] [Warning] No further splits with positive gain, best gain: -inf\n[LightGBM] [Warning] No further splits with positive gain, best gain: -inf\n[LightGBM] [Warning] No further splits with positive gain, best gain: -inf\n[LightGBM] [Warning] No further splits with positive gain, best gain: -inf\n[LightGBM] [Warning] No further splits with positive gain, best gain: -inf\n[LightGBM] [Warning] No further splits with positive gain, best gain: -inf\n[LightGBM] [Warning] No further splits with positive gain, best gain: -inf\n[LightGBM] [Warning] No further splits with positive gain, best gain: -inf\n[LightGBM] [Warning] No further splits with positive gain, best gain: -inf\n[LightGBM] [Warning] No further splits with positive gain, best gain: -inf\n[LightGBM] [Warning] No further splits with positive gain, best gain: -inf\n[LightGBM] [Warning] No further splits with positive gain, best gain: -inf\n[LightGBM] [Warning] No further splits with positive gain, best gain: -inf\n[LightGBM] [Warning] No further splits with positive gain, best gain: -inf\n[LightGBM] [Warning] No further splits with positive gain, best gain: -inf\n[LightGBM] [Warning] No further splits with positive gain, best gain: -inf\n[LightGBM] [Warning] No further splits with positive gain, best gain: -inf\n[LightGBM] [Warning] No further splits with positive gain, best gain: -inf\n[LightGBM] [Warning] No further splits with positive gain, best gain: -inf\n[LightGBM] [Warning] No further splits with positive gain, best gain: -inf\n[LightGBM] [Warning] No further splits with positive gain, best gain: -inf\n[LightGBM] [Warning] No further splits with positive gain, best gain: -inf\n[LightGBM] [Warning] No further splits with positive gain, best gain: -inf\n[LightGBM] [Warning] No further splits with positive gain, best gain: -inf\n[LightGBM] [Warning] No further splits with positive gain, best gain: -inf\n[LightGBM] [Warning] No further splits with positive gain, best gain: -inf\n[LightGBM] [Warning] No further splits with positive gain, best gain: -inf\n[LightGBM] [Warning] No further splits with positive gain, best gain: -inf\n[LightGBM] [Warning] No further splits with positive gain, best gain: -inf\n[LightGBM] [Warning] No further splits with positive gain, best gain: -inf\n[LightGBM] [Warning] No further splits with positive gain, best gain: -inf\n[LightGBM] [Warning] No further splits with positive gain, best gain: -inf\n[LightGBM] [Warning] No further splits with positive gain, best gain: -inf\n[LightGBM] [Warning] No further splits with positive gain, best gain: -inf\n[LightGBM] [Warning] No further splits with positive gain, best gain: -inf\n[LightGBM] [Warning] No further splits with positive gain, best gain: -inf\n[LightGBM] [Warning] No further splits with positive gain, best gain: -inf\n[LightGBM] [Warning] No further splits with positive gain, best gain: -inf\n[LightGBM] [Warning] No further splits with positive gain, best gain: -inf\n[LightGBM] [Warning] No further splits with positive gain, best gain: -inf\n[LightGBM] [Warning] No further splits with positive gain, best gain: -inf\n[LightGBM] [Warning] No further splits with positive gain, best gain: -inf\n[LightGBM] [Warning] No further splits with positive gain, best gain: -inf\n[LightGBM] [Warning] No further splits with positive gain, best gain: -inf\n[LightGBM] [Warning] No further splits with positive gain, best gain: -inf\n[LightGBM] [Warning] No further splits with positive gain, best gain: -inf\n[LightGBM] [Warning] No further splits with positive gain, best gain: -inf\n[LightGBM] [Warning] No further splits with positive gain, best gain: -inf\n[LightGBM] [Warning] No further splits with positive gain, best gain: -inf\n[LightGBM] [Warning] No further splits with positive gain, best gain: -inf\n[LightGBM] [Warning] No further splits with positive gain, best gain: -inf\n[LightGBM] [Warning] No further splits with positive gain, best gain: -inf\n[LightGBM] [Warning] No further splits with positive gain, best gain: -inf\n[LightGBM] [Warning] No further splits with positive gain, best gain: -inf\n[LightGBM] [Warning] No further splits with positive gain, best gain: -inf\n[LightGBM] [Warning] No further splits with positive gain, best gain: -inf\n[LightGBM] [Warning] No further splits with positive gain, best gain: -inf\n[LightGBM] [Warning] No further splits with positive gain, best gain: -inf\n[LightGBM] [Warning] No further splits with positive gain, best gain: -inf\n[LightGBM] [Warning] No further splits with positive gain, best gain: -inf\n[LightGBM] [Warning] No further splits with positive gain, best gain: -inf\n[LightGBM] [Warning] No further splits with positive gain, best gain: -inf\n[LightGBM] [Warning] No further splits with positive gain, best gain: -inf\n[LightGBM] [Warning] No further splits with positive gain, best gain: -inf\n[LightGBM] [Warning] No further splits with positive gain, best gain: -inf\n[LightGBM] [Warning] No further splits with positive gain, best gain: -inf\n[LightGBM] [Warning] No further splits with positive gain, best gain: -inf\n[LightGBM] [Warning] No further splits with positive gain, best gain: -inf\n[LightGBM] [Warning] No further splits with positive gain, best gain: -inf\n[LightGBM] [Warning] No further splits with positive gain, best gain: -inf\n[LightGBM] [Warning] No further splits with positive gain, best gain: -inf\n[LightGBM] [Warning] No further splits with positive gain, best gain: -inf\n[LightGBM] [Warning] No further splits with positive gain, best gain: -inf\nBacktesting on: 2022-01-17 00:00:00\nBacktesting training ending on: 2022-07-16 00:00:00\nprint the shape:(140, 2) \n[LightGBM] [Warning] Auto-choosing col-wise multi-threading, the overhead of testing was 0.000066 seconds.\nYou can set `force_col_wise=true` to remove the overhead.\n[LightGBM] [Info] Total Bins 141\n[LightGBM] [Info] Number of data points in the train set: 140, number of used features: 4\n[LightGBM] [Info] Start training from score 64680.321429\n[LightGBM] [Warning] No further splits with positive gain, best gain: -inf\n[LightGBM] [Warning] No further splits with positive gain, best gain: -inf\n[LightGBM] [Warning] No further splits with positive gain, best gain: -inf\n[LightGBM] [Warning] No further splits with positive gain, best gain: -inf\n[LightGBM] [Warning] No further splits with positive gain, best gain: -inf\n[LightGBM] [Warning] No further splits with positive gain, best gain: -inf\n[LightGBM] [Warning] No further splits with positive gain, best gain: -inf\n[LightGBM] [Warning] No further splits with positive gain, best gain: -inf\n[LightGBM] [Warning] No further splits with positive gain, best gain: -inf\n[LightGBM] [Warning] No further splits with positive gain, best gain: -inf\n[LightGBM] [Warning] No further splits with positive gain, best gain: -inf\n[LightGBM] [Warning] No further splits with positive gain, best gain: -inf\n[LightGBM] [Warning] No further splits with positive gain, best gain: -inf\n[LightGBM] [Warning] No further splits with positive gain, best gain: -inf\n[LightGBM] [Warning] No further splits with positive gain, best gain: -inf\n[LightGBM] [Warning] No further splits with positive gain, best gain: -inf\n[LightGBM] [Warning] No further splits with positive gain, best gain: -inf\n[LightGBM] [Warning] No further splits with positive gain, best gain: -inf\n[LightGBM] [Warning] No further splits with positive gain, best gain: -inf\n[LightGBM] [Warning] No further splits with positive gain, best gain: -inf\n[LightGBM] [Warning] No further splits with positive gain, best gain: -inf\n[LightGBM] [Warning] No further splits with positive gain, best gain: -inf\n[LightGBM] [Warning] No further splits with positive gain, best gain: -inf\n[LightGBM] [Warning] No further splits with positive gain, best gain: -inf\n[LightGBM] [Warning] No further splits with positive gain, best gain: -inf\n[LightGBM] [Warning] No further splits with positive gain, best gain: -inf\n[LightGBM] [Warning] No further splits with positive gain, best gain: -inf\n[LightGBM] [Warning] No further splits with positive gain, best gain: -inf\n[LightGBM] [Warning] No further splits with positive gain, best gain: -inf\n[LightGBM] [Warning] No further splits with positive gain, best gain: -inf\n[LightGBM] [Warning] No further splits with positive gain, best gain: -inf\n[LightGBM] [Warning] No further splits with positive gain, best gain: -inf\n[LightGBM] [Warning] No further splits with positive gain, best gain: -inf\n[LightGBM] [Warning] No further splits with positive gain, best gain: -inf\n[LightGBM] [Warning] No further splits with positive gain, best gain: -inf\n[LightGBM] [Warning] No further splits with positive gain, best gain: -inf\n[LightGBM] [Warning] No further splits with positive gain, best gain: -inf\n[LightGBM] [Warning] No further splits with positive gain, best gain: -inf\n[LightGBM] [Warning] No further splits with positive gain, best gain: -inf\n[LightGBM] [Warning] No further splits with positive gain, best gain: -inf\n[LightGBM] [Warning] No further splits with positive gain, best gain: -inf\n[LightGBM] [Warning] No further splits with positive gain, best gain: -inf\n[LightGBM] [Warning] No further splits with positive gain, best gain: -inf\n[LightGBM] [Warning] No further splits with positive gain, best gain: -inf\n[LightGBM] [Warning] No further splits with positive gain, best gain: -inf\n[LightGBM] [Warning] No further splits with positive gain, best gain: -inf\n[LightGBM] [Warning] No further splits with positive gain, best gain: -inf\n[LightGBM] [Warning] No further splits with positive gain, best gain: -inf\n[LightGBM] [Warning] No further splits with positive gain, best gain: -inf\n[LightGBM] [Warning] No further splits with positive gain, best gain: -inf\n[LightGBM] [Warning] No further splits with positive gain, best gain: -inf\n[LightGBM] [Warning] No further splits with positive gain, best gain: -inf\n[LightGBM] [Warning] No further splits with positive gain, best gain: -inf\n[LightGBM] [Warning] No further splits with positive gain, best gain: -inf\n[LightGBM] [Warning] No further splits with positive gain, best gain: -inf\n[LightGBM] [Warning] No further splits with positive gain, best gain: -inf\n[LightGBM] [Warning] No further splits with positive gain, best gain: -inf\n[LightGBM] [Warning] No further splits with positive gain, best gain: -inf\n[LightGBM] [Warning] No further splits with positive gain, best gain: -inf\n[LightGBM] [Warning] No further splits with positive gain, best gain: -inf\n[LightGBM] [Warning] No further splits with positive gain, best gain: -inf\n[LightGBM] [Warning] No further splits with positive gain, best gain: -inf\n[LightGBM] [Warning] No further splits with positive gain, best gain: -inf\n[LightGBM] [Warning] No further splits with positive gain, best gain: -inf\n[LightGBM] [Warning] No further splits with positive gain, best gain: -inf\n[LightGBM] [Warning] No further splits with positive gain, best gain: -inf\n[LightGBM] [Warning] No further splits with positive gain, best gain: -inf\n[LightGBM] [Warning] No further splits with positive gain, best gain: -inf\n[LightGBM] [Warning] No further splits with positive gain, best gain: -inf\n[LightGBM] [Warning] No further splits with positive gain, best gain: -inf\n[LightGBM] [Warning] No further splits with positive gain, best gain: -inf\n[LightGBM] [Warning] No further splits with positive gain, best gain: -inf\n[LightGBM] [Warning] No further splits with positive gain, best gain: -inf\n[LightGBM] [Warning] No further splits with positive gain, best gain: -inf\n[LightGBM] [Warning] No further splits with positive gain, best gain: -inf\n[LightGBM] [Warning] No further splits with positive gain, best gain: -inf\n[LightGBM] [Warning] No further splits with positive gain, best gain: -inf\n[LightGBM] [Warning] No further splits with positive gain, best gain: -inf\n[LightGBM] [Warning] No further splits with positive gain, best gain: -inf\n[LightGBM] [Warning] No further splits with positive gain, best gain: -inf\n[LightGBM] [Warning] No further splits with positive gain, best gain: -inf\n[LightGBM] [Warning] No further splits with positive gain, best gain: -inf\n[LightGBM] [Warning] No further splits with positive gain, best gain: -inf\n[LightGBM] [Warning] No further splits with positive gain, best gain: -inf\n[LightGBM] [Warning] No further splits with positive gain, best gain: -inf\n[LightGBM] [Warning] No further splits with positive gain, best gain: -inf\n[LightGBM] [Warning] No further splits with positive gain, best gain: -inf\n[LightGBM] [Warning] No further splits with positive gain, best gain: -inf\n[LightGBM] [Warning] No further splits with positive gain, best gain: -inf\n[LightGBM] [Warning] No further splits with positive gain, best gain: -inf\n[LightGBM] [Warning] No further splits with positive gain, best gain: -inf\n[LightGBM] [Warning] No further splits with positive gain, best gain: -inf\n[LightGBM] [Warning] No further splits with positive gain, best gain: -inf\n[LightGBM] [Warning] No further splits with positive gain, best gain: -inf\n[LightGBM] [Warning] No further splits with positive gain, best gain: -inf\n[LightGBM] [Warning] No further splits with positive gain, best gain: -inf\n[LightGBM] [Warning] No further splits with positive gain, best gain: -inf\n[LightGBM] [Warning] No further splits with positive gain, best gain: -inf\n[LightGBM] [Warning] No further splits with positive gain, best gain: -inf\n[LightGBM] [Warning] No further splits with positive gain, best gain: -inf\nBacktesting on: 2022-01-24 00:00:00\nBacktesting training ending on: 2022-07-23 00:00:00\nprint the shape:(145, 2) \n[LightGBM] [Warning] Auto-choosing col-wise multi-threading, the overhead of testing was 0.000064 seconds.\nYou can set `force_col_wise=true` to remove the overhead.\n[LightGBM] [Info] Total Bins 146\n[LightGBM] [Info] Number of data points in the train set: 145, number of used features: 4\n[LightGBM] [Info] Start training from score 64096.172414\n[LightGBM] [Warning] No further splits with positive gain, best gain: -inf\n[LightGBM] [Warning] No further splits with positive gain, best gain: -inf\n[LightGBM] [Warning] No further splits with positive gain, best gain: -inf\n[LightGBM] [Warning] No further splits with positive gain, best gain: -inf\n[LightGBM] [Warning] No further splits with positive gain, best gain: -inf\n[LightGBM] [Warning] No further splits with positive gain, best gain: -inf\n[LightGBM] [Warning] No further splits with positive gain, best gain: -inf\n[LightGBM] [Warning] No further splits with positive gain, best gain: -inf\n\n\n*** WARNING: max output size exceeded, skipping output. ***\n\nng] Stopped training because there are no more leaves that meet the split requirements\n[LightGBM] [Warning] Stopped training because there are no more leaves that meet the split requirements\n[LightGBM] [Warning] Stopped training because there are no more leaves that meet the split requirements\n[LightGBM] [Warning] Stopped training because there are no more leaves that meet the split requirements\n[LightGBM] [Warning] Stopped training because there are no more leaves that meet the split requirements\n[LightGBM] [Warning] Stopped training because there are no more leaves that meet the split requirements\n[LightGBM] [Warning] Stopped training because there are no more leaves that meet the split requirements\n[LightGBM] [Warning] Stopped training because there are no more leaves that meet the split requirements\n[LightGBM] [Warning] Stopped training because there are no more leaves that meet the split requirements\n[LightGBM] [Warning] Stopped training because there are no more leaves that meet the split requirements\n[LightGBM] [Warning] Stopped training because there are no more leaves that meet the split requirements\n[LightGBM] [Warning] Stopped training because there are no more leaves that meet the split requirements\n[LightGBM] [Warning] Stopped training because there are no more leaves that meet the split requirements\n[LightGBM] [Warning] Stopped training because there are no more leaves that meet the split requirements\n[LightGBM] [Warning] Stopped training because there are no more leaves that meet the split requirements\n[LightGBM] [Warning] Stopped training because there are no more leaves that meet the split requirements\n[LightGBM] [Warning] Stopped training because there are no more leaves that meet the split requirements\n[LightGBM] [Warning] Stopped training because there are no more leaves that meet the split requirements\n[LightGBM] [Warning] Stopped training because there are no more leaves that meet the split requirements\n[LightGBM] [Warning] Stopped training because there are no more leaves that meet the split requirements\n[LightGBM] [Warning] Stopped training because there are no more leaves that meet the split requirements\n[LightGBM] [Warning] Stopped training because there are no more leaves that meet the split requirements\n[LightGBM] [Warning] Stopped training because there are no more leaves that meet the split requirements\n[LightGBM] [Warning] Stopped training because there are no more leaves that meet the split requirements\n[LightGBM] [Warning] Stopped training because there are no more leaves that meet the split requirements\n[LightGBM] [Warning] Stopped training because there are no more leaves that meet the split requirements\n[LightGBM] [Warning] Stopped training because there are no more leaves that meet the split requirements\n[LightGBM] [Warning] Stopped training because there are no more leaves that meet the split requirements\n[LightGBM] [Warning] Stopped training because there are no more leaves that meet the split requirements\n[LightGBM] [Warning] Stopped training because there are no more leaves that meet the split requirements\n[LightGBM] [Warning] Stopped training because there are no more leaves that meet the split requirements\n[LightGBM] [Warning] Stopped training because there are no more leaves that meet the split requirements\n[LightGBM] [Warning] Stopped training because there are no more leaves that meet the split requirements\nBacktesting on: 2022-12-12 00:00:00\nBacktesting training ending on: 2023-06-10 00:00:00\nprint the shape:(18, 2) \n[LightGBM] [Warning] There are no meaningful features, as all feature values are constant.\n[LightGBM] [Info] Total Bins 0\n[LightGBM] [Info] Number of data points in the train set: 18, number of used features: 0\n[LightGBM] [Info] Start training from score 62256.555556\n[LightGBM] [Warning] Stopped training because there are no more leaves that meet the split requirements\n[LightGBM] [Warning] Stopped training because there are no more leaves that meet the split requirements\n[LightGBM] [Warning] Stopped training because there are no more leaves that meet the split requirements\n[LightGBM] [Warning] Stopped training because there are no more leaves that meet the split requirements\n[LightGBM] [Warning] Stopped training because there are no more leaves that meet the split requirements\n[LightGBM] [Warning] Stopped training because there are no more leaves that meet the split requirements\n[LightGBM] [Warning] Stopped training because there are no more leaves that meet the split requirements\n[LightGBM] [Warning] Stopped training because there are no more leaves that meet the split requirements\n[LightGBM] [Warning] Stopped training because there are no more leaves that meet the split requirements\n[LightGBM] [Warning] Stopped training because there are no more leaves that meet the split requirements\n[LightGBM] [Warning] Stopped training because there are no more leaves that meet the split requirements\n[LightGBM] [Warning] Stopped training because there are no more leaves that meet the split requirements\n[LightGBM] [Warning] Stopped training because there are no more leaves that meet the split requirements\n[LightGBM] [Warning] Stopped training because there are no more leaves that meet the split requirements\n[LightGBM] [Warning] Stopped training because there are no more leaves that meet the split requirements\n[LightGBM] [Warning] Stopped training because there are no more leaves that meet the split requirements\n[LightGBM] [Warning] Stopped training because there are no more leaves that meet the split requirements\n[LightGBM] [Warning] Stopped training because there are no more leaves that meet the split requirements\n[LightGBM] [Warning] Stopped training because there are no more leaves that meet the split requirements\n[LightGBM] [Warning] Stopped training because there are no more leaves that meet the split requirements\n[LightGBM] [Warning] Stopped training because there are no more leaves that meet the split requirements\n[LightGBM] [Warning] Stopped training because there are no more leaves that meet the split requirements\n[LightGBM] [Warning] Stopped training because there are no more leaves that meet the split requirements\n[LightGBM] [Warning] Stopped training because there are no more leaves that meet the split requirements\n[LightGBM] [Warning] Stopped training because there are no more leaves that meet the split requirements\n[LightGBM] [Warning] Stopped training because there are no more leaves that meet the split requirements\n[LightGBM] [Warning] Stopped training because there are no more leaves that meet the split requirements\n[LightGBM] [Warning] Stopped training because there are no more leaves that meet the split requirements\n[LightGBM] [Warning] Stopped training because there are no more leaves that meet the split requirements\n[LightGBM] [Warning] Stopped training because there are no more leaves that meet the split requirements\n[LightGBM] [Warning] Stopped training because there are no more leaves that meet the split requirements\n[LightGBM] [Warning] Stopped training because there are no more leaves that meet the split requirements\n[LightGBM] [Warning] Stopped training because there are no more leaves that meet the split requirements\n[LightGBM] [Warning] Stopped training because there are no more leaves that meet the split requirements\n[LightGBM] [Warning] Stopped training because there are no more leaves that meet the split requirements\n[LightGBM] [Warning] Stopped training because there are no more leaves that meet the split requirements\n[LightGBM] [Warning] Stopped training because there are no more leaves that meet the split requirements\n[LightGBM] [Warning] Stopped training because there are no more leaves that meet the split requirements\n[LightGBM] [Warning] Stopped training because there are no more leaves that meet the split requirements\n[LightGBM] [Warning] Stopped training because there are no more leaves that meet the split requirements\n[LightGBM] [Warning] Stopped training because there are no more leaves that meet the split requirements\n[LightGBM] [Warning] Stopped training because there are no more leaves that meet the split requirements\n[LightGBM] [Warning] Stopped training because there are no more leaves that meet the split requirements\n[LightGBM] [Warning] Stopped training because there are no more leaves that meet the split requirements\n[LightGBM] [Warning] Stopped training because there are no more leaves that meet the split requirements\n[LightGBM] [Warning] Stopped training because there are no more leaves that meet the split requirements\n[LightGBM] [Warning] Stopped training because there are no more leaves that meet the split requirements\n[LightGBM] [Warning] Stopped training because there are no more leaves that meet the split requirements\n[LightGBM] [Warning] Stopped training because there are no more leaves that meet the split requirements\n[LightGBM] [Warning] Stopped training because there are no more leaves that meet the split requirements\n[LightGBM] [Warning] Stopped training because there are no more leaves that meet the split requirements\n[LightGBM] [Warning] Stopped training because there are no more leaves that meet the split requirements\n[LightGBM] [Warning] Stopped training because there are no more leaves that meet the split requirements\n[LightGBM] [Warning] Stopped training because there are no more leaves that meet the split requirements\n[LightGBM] [Warning] Stopped training because there are no more leaves that meet the split requirements\n[LightGBM] [Warning] Stopped training because there are no more leaves that meet the split requirements\n[LightGBM] [Warning] Stopped training because there are no more leaves that meet the split requirements\n[LightGBM] [Warning] Stopped training because there are no more leaves that meet the split requirements\n[LightGBM] [Warning] Stopped training because there are no more leaves that meet the split requirements\n[LightGBM] [Warning] Stopped training because there are no more leaves that meet the split requirements\n[LightGBM] [Warning] Stopped training because there are no more leaves that meet the split requirements\n[LightGBM] [Warning] Stopped training because there are no more leaves that meet the split requirements\n[LightGBM] [Warning] Stopped training because there are no more leaves that meet the split requirements\n[LightGBM] [Warning] Stopped training because there are no more leaves that meet the split requirements\n[LightGBM] [Warning] Stopped training because there are no more leaves that meet the split requirements\n[LightGBM] [Warning] Stopped training because there are no more leaves that meet the split requirements\n[LightGBM] [Warning] Stopped training because there are no more leaves that meet the split requirements\n[LightGBM] [Warning] Stopped training because there are no more leaves that meet the split requirements\n[LightGBM] [Warning] Stopped training because there are no more leaves that meet the split requirements\n[LightGBM] [Warning] Stopped training because there are no more leaves that meet the split requirements\n[LightGBM] [Warning] Stopped training because there are no more leaves that meet the split requirements\n[LightGBM] [Warning] Stopped training because there are no more leaves that meet the split requirements\n[LightGBM] [Warning] Stopped training because there are no more leaves that meet the split requirements\n[LightGBM] [Warning] Stopped training because there are no more leaves that meet the split requirements\n[LightGBM] [Warning] Stopped training because there are no more leaves that meet the split requirements\n[LightGBM] [Warning] Stopped training because there are no more leaves that meet the split requirements\n[LightGBM] [Warning] Stopped training because there are no more leaves that meet the split requirements\n[LightGBM] [Warning] Stopped training because there are no more leaves that meet the split requirements\n[LightGBM] [Warning] Stopped training because there are no more leaves that meet the split requirements\n[LightGBM] [Warning] Stopped training because there are no more leaves that meet the split requirements\n[LightGBM] [Warning] Stopped training because there are no more leaves that meet the split requirements\n[LightGBM] [Warning] Stopped training because there are no more leaves that meet the split requirements\n[LightGBM] [Warning] Stopped training because there are no more leaves that meet the split requirements\n[LightGBM] [Warning] Stopped training because there are no more leaves that meet the split requirements\n[LightGBM] [Warning] Stopped training because there are no more leaves that meet the split requirements\n[LightGBM] [Warning] Stopped training because there are no more leaves that meet the split requirements\n[LightGBM] [Warning] Stopped training because there are no more leaves that meet the split requirements\n[LightGBM] [Warning] Stopped training because there are no more leaves that meet the split requirements\n[LightGBM] [Warning] Stopped training because there are no more leaves that meet the split requirements\n[LightGBM] [Warning] Stopped training because there are no more leaves that meet the split requirements\n[LightGBM] [Warning] Stopped training because there are no more leaves that meet the split requirements\n[LightGBM] [Warning] Stopped training because there are no more leaves that meet the split requirements\n[LightGBM] [Warning] Stopped training because there are no more leaves that meet the split requirements\n[LightGBM] [Warning] Stopped training because there are no more leaves that meet the split requirements\n[LightGBM] [Warning] Stopped training because there are no more leaves that meet the split requirements\n[LightGBM] [Warning] Stopped training because there are no more leaves that meet the split requirements\n[LightGBM] [Warning] Stopped training because there are no more leaves that meet the split requirements\n[LightGBM] [Warning] Stopped training because there are no more leaves that meet the split requirements\n[LightGBM] [Warning] Stopped training because there are no more leaves that meet the split requirements\n[LightGBM] [Warning] Stopped training because there are no more leaves that meet the split requirements\nBacktesting on: 2022-12-19 00:00:00\nBacktesting training ending on: 2023-06-17 00:00:00\nprint the shape:(12, 2) \n[LightGBM] [Warning] There are no meaningful features, as all feature values are constant.\n[LightGBM] [Info] Total Bins 0\n[LightGBM] [Info] Number of data points in the train set: 12, number of used features: 0\n[LightGBM] [Info] Start training from score 59700.500000\n[LightGBM] [Warning] Stopped training because there are no more leaves that meet the split requirements\n[LightGBM] [Warning] Stopped training because there are no more leaves that meet the split requirements\n[LightGBM] [Warning] Stopped training because there are no more leaves that meet the split requirements\n[LightGBM] [Warning] Stopped training because there are no more leaves that meet the split requirements\n[LightGBM] [Warning] Stopped training because there are no more leaves that meet the split requirements\n[LightGBM] [Warning] Stopped training because there are no more leaves that meet the split requirements\n[LightGBM] [Warning] Stopped training because there are no more leaves that meet the split requirements\n[LightGBM] [Warning] Stopped training because there are no more leaves that meet the split requirements\n[LightGBM] [Warning] Stopped training because there are no more leaves that meet the split requirements\n[LightGBM] [Warning] Stopped training because there are no more leaves that meet the split requirements\n[LightGBM] [Warning] Stopped training because there are no more leaves that meet the split requirements\n[LightGBM] [Warning] Stopped training because there are no more leaves that meet the split requirements\n[LightGBM] [Warning] Stopped training because there are no more leaves that meet the split requirements\n[LightGBM] [Warning] Stopped training because there are no more leaves that meet the split requirements\n[LightGBM] [Warning] Stopped training because there are no more leaves that meet the split requirements\n[LightGBM] [Warning] Stopped training because there are no more leaves that meet the split requirements\n[LightGBM] [Warning] Stopped training because there are no more leaves that meet the split requirements\n[LightGBM] [Warning] Stopped training because there are no more leaves that meet the split requirements\n[LightGBM] [Warning] Stopped training because there are no more leaves that meet the split requirements\n[LightGBM] [Warning] Stopped training because there are no more leaves that meet the split requirements\n[LightGBM] [Warning] Stopped training because there are no more leaves that meet the split requirements\n[LightGBM] [Warning] Stopped training because there are no more leaves that meet the split requirements\n[LightGBM] [Warning] Stopped training because there are no more leaves that meet the split requirements\n[LightGBM] [Warning] Stopped training because there are no more leaves that meet the split requirements\n[LightGBM] [Warning] Stopped training because there are no more leaves that meet the split requirements\n[LightGBM] [Warning] Stopped training because there are no more leaves that meet the split requirements\n[LightGBM] [Warning] Stopped training because there are no more leaves that meet the split requirements\n[LightGBM] [Warning] Stopped training because there are no more leaves that meet the split requirements\n[LightGBM] [Warning] Stopped training because there are no more leaves that meet the split requirements\n[LightGBM] [Warning] Stopped training because there are no more leaves that meet the split requirements\n[LightGBM] [Warning] Stopped training because there are no more leaves that meet the split requirements\n[LightGBM] [Warning] Stopped training because there are no more leaves that meet the split requirements\n[LightGBM] [Warning] Stopped training because there are no more leaves that meet the split requirements\n[LightGBM] [Warning] Stopped training because there are no more leaves that meet the split requirements\n[LightGBM] [Warning] Stopped training because there are no more leaves that meet the split requirements\n[LightGBM] [Warning] Stopped training because there are no more leaves that meet the split requirements\n[LightGBM] [Warning] Stopped training because there are no more leaves that meet the split requirements\n[LightGBM] [Warning] Stopped training because there are no more leaves that meet the split requirements\n[LightGBM] [Warning] Stopped training because there are no more leaves that meet the split requirements\n[LightGBM] [Warning] Stopped training because there are no more leaves that meet the split requirements\n[LightGBM] [Warning] Stopped training because there are no more leaves that meet the split requirements\n[LightGBM] [Warning] Stopped training because there are no more leaves that meet the split requirements\n[LightGBM] [Warning] Stopped training because there are no more leaves that meet the split requirements\n[LightGBM] [Warning] Stopped training because there are no more leaves that meet the split requirements\n[LightGBM] [Warning] Stopped training because there are no more leaves that meet the split requirements\n[LightGBM] [Warning] Stopped training because there are no more leaves that meet the split requirements\n[LightGBM] [Warning] Stopped training because there are no more leaves that meet the split requirements\n[LightGBM] [Warning] Stopped training because there are no more leaves that meet the split requirements\n[LightGBM] [Warning] Stopped training because there are no more leaves that meet the split requirements\n[LightGBM] [Warning] Stopped training because there are no more leaves that meet the split requirements\n[LightGBM] [Warning] Stopped training because there are no more leaves that meet the split requirements\n[LightGBM] [Warning] Stopped training because there are no more leaves that meet the split requirements\n[LightGBM] [Warning] Stopped training because there are no more leaves that meet the split requirements\n[LightGBM] [Warning] Stopped training because there are no more leaves that meet the split requirements\n[LightGBM] [Warning] Stopped training because there are no more leaves that meet the split requirements\n[LightGBM] [Warning] Stopped training because there are no more leaves that meet the split requirements\n[LightGBM] [Warning] Stopped training because there are no more leaves that meet the split requirements\n[LightGBM] [Warning] Stopped training because there are no more leaves that meet the split requirements\n[LightGBM] [Warning] Stopped training because there are no more leaves that meet the split requirements\n[LightGBM] [Warning] Stopped training because there are no more leaves that meet the split requirements\n[LightGBM] [Warning] Stopped training because there are no more leaves that meet the split requirements\n[LightGBM] [Warning] Stopped training because there are no more leaves that meet the split requirements\n[LightGBM] [Warning] Stopped training because there are no more leaves that meet the split requirements\n[LightGBM] [Warning] Stopped training because there are no more leaves that meet the split requirements\n[LightGBM] [Warning] Stopped training because there are no more leaves that meet the split requirements\n[LightGBM] [Warning] Stopped training because there are no more leaves that meet the split requirements\n[LightGBM] [Warning] Stopped training because there are no more leaves that meet the split requirements\n[LightGBM] [Warning] Stopped training because there are no more leaves that meet the split requirements\n[LightGBM] [Warning] Stopped training because there are no more leaves that meet the split requirements\n[LightGBM] [Warning] Stopped training because there are no more leaves that meet the split requirements\n[LightGBM] [Warning] Stopped training because there are no more leaves that meet the split requirements\n[LightGBM] [Warning] Stopped training because there are no more leaves that meet the split requirements\n[LightGBM] [Warning] Stopped training because there are no more leaves that meet the split requirements\n[LightGBM] [Warning] Stopped training because there are no more leaves that meet the split requirements\n[LightGBM] [Warning] Stopped training because there are no more leaves that meet the split requirements\n[LightGBM] [Warning] Stopped training because there are no more leaves that meet the split requirements\n[LightGBM] [Warning] Stopped training because there are no more leaves that meet the split requirements\n[LightGBM] [Warning] Stopped training because there are no more leaves that meet the split requirements\n[LightGBM] [Warning] Stopped training because there are no more leaves that meet the split requirements\n[LightGBM] [Warning] Stopped training because there are no more leaves that meet the split requirements\n[LightGBM] [Warning] Stopped training because there are no more leaves that meet the split requirements\n[LightGBM] [Warning] Stopped training because there are no more leaves that meet the split requirements\n[LightGBM] [Warning] Stopped training because there are no more leaves that meet the split requirements\n[LightGBM] [Warning] Stopped training because there are no more leaves that meet the split requirements\n[LightGBM] [Warning] Stopped training because there are no more leaves that meet the split requirements\n[LightGBM] [Warning] Stopped training because there are no more leaves that meet the split requirements\n[LightGBM] [Warning] Stopped training because there are no more leaves that meet the split requirements\n[LightGBM] [Warning] Stopped training because there are no more leaves that meet the split requirements\n[LightGBM] [Warning] Stopped training because there are no more leaves that meet the split requirements\n[LightGBM] [Warning] Stopped training because there are no more leaves that meet the split requirements\n[LightGBM] [Warning] Stopped training because there are no more leaves that meet the split requirements\n[LightGBM] [Warning] Stopped training because there are no more leaves that meet the split requirements\n[LightGBM] [Warning] Stopped training because there are no more leaves that meet the split requirements\n[LightGBM] [Warning] Stopped training because there are no more leaves that meet the split requirements\n[LightGBM] [Warning] Stopped training because there are no more leaves that meet the split requirements\n[LightGBM] [Warning] Stopped training because there are no more leaves that meet the split requirements\n[LightGBM] [Warning] Stopped training because there are no more leaves that meet the split requirements\n[LightGBM] [Warning] Stopped training because there are no more leaves that meet the split requirements\n[LightGBM] [Warning] Stopped training because there are no more leaves that meet the split requirements\n[LightGBM] [Warning] Stopped training because there are no more leaves that meet the split requirements\nBacktesting completed.\n"
     ]
    }
   ],
   "source": [
    "backtest_results = pd.DataFrame()\n",
    "\n",
    "inbound_2022_train = inbound_2022_dry[['Dates', 'Dry Actuals']].copy()#original non filtered dataset, \n",
    "\n",
    "\n",
    "# Iterate through each backtesting period\n",
    "while backtest_start_date + dt.timedelta(days=pred_period) <= backtest_end_date:\n",
    "  print(f\"Backtesting on: {backtest_start_date}\")\n",
    "  \n",
    "  start_train_date = backtest_start_date\n",
    "  # end_train_date = backtest_start_date + dt.timedelta(days=training_period)\n",
    "  end_train_date = start_train_date + dt.timedelta(days=training_period)\n",
    "  print(f\"Backtesting training ending on: {end_train_date}\") \n",
    "\n",
    "  lgbm_train = inbound_2022_train[(inbound_2022_train['Dates'] >= start_train_date) &(inbound_2022_train['Dates'] < end_train_date)].copy()\n",
    "  print(f\"print the shape:{lgbm_train.shape} \")\n",
    "  # Convert Dates column to datetime\n",
    "  lgbm_train['Dates'] = pd.to_datetime(lgbm_train['Dates'])\n",
    "    \n",
    "  #Train features \n",
    "  train_features_df = inbound_2022_dry[(lgbm_train['Dates'] >= start_train_date) &(inbound_2022_dry['Dates'] < end_train_date)].copy()\n",
    "  features_values_train=train_features_df.iloc[:, -4:]\n",
    "\n",
    "  # Filter the dates with values in Dry Actuals \n",
    "  features_train = features_values_train.copy() \n",
    "  target = lgbm_train['Dry Actuals']\n",
    "  \n",
    "  # Create LightGBM dataset\n",
    "  lgb_train = lgb.Dataset(features_train, label=target)\n",
    "    \n",
    "  # Model training\n",
    "  m = lgb.train(params, lgb_train)\n",
    "\n",
    "  # Prediction for the current period\n",
    "  future_dates = pd.date_range(start=end_train_date+dt.timedelta(days=15), periods=pred_period, freq='D')\n",
    "\n",
    "  future_features = pd.DataFrame({'ds': future_dates})\n",
    "  future_features['ds'] = pd.to_datetime(future_features['ds'])\n",
    "\n",
    "  future_features = inbound_2022_dry[inbound_2022_dry['Dates'].isin(future_dates)].iloc[:, -3:].values ### Changed the source df\n",
    "\n",
    "  prediction_dates = inbound_2022_dry[inbound_2022_dry['Dates'].isin(future_dates)]['Dates'] ### New variable to extract valid dates from the future date range\n",
    "  \n",
    "  #forecast using lgbm model m\n",
    "\n",
    "  forecast = m.predict(future_features, num_iteration=m.best_iteration,predict_disable_shape_check=True)\n",
    "\n",
    "  lgbm_pred = pd.DataFrame({'ds': prediction_dates, 'yhat': forecast}) ### Use dates form df rather than the original date range\n",
    "    \n",
    "  backtest_results = pd.concat([backtest_results, lgbm_pred])\n",
    "    \n",
    "  # Increase training period after each iterations \n",
    "  backtest_start_date += dt.timedelta(days=end_horizon)\n",
    " \n",
    "print(\"Backtesting completed.\")\n"
   ]
  },
  {
   "cell_type": "code",
   "execution_count": 0,
   "metadata": {
    "application/vnd.databricks.v1+cell": {
     "cellMetadata": {
      "byteLimit": 2048000,
      "rowLimit": 10000
     },
     "inputWidgets": {},
     "nuid": "a76cecd9-9724-4a1e-ac42-49364c6876dc",
     "showTitle": false,
     "title": ""
    }
   },
   "outputs": [
    {
     "output_type": "display_data",
     "data": {
      "text/html": [
       "<div>\n",
       "<style scoped>\n",
       "    .dataframe tbody tr th:only-of-type {\n",
       "        vertical-align: middle;\n",
       "    }\n",
       "\n",
       "    .dataframe tbody tr th {\n",
       "        vertical-align: top;\n",
       "    }\n",
       "\n",
       "    .dataframe thead th {\n",
       "        text-align: right;\n",
       "    }\n",
       "</style>\n",
       "<table border=\"1\" class=\"dataframe\">\n",
       "  <thead>\n",
       "    <tr style=\"text-align: right;\">\n",
       "      <th></th>\n",
       "      <th>Dates</th>\n",
       "      <th>Dry Actuals</th>\n",
       "    </tr>\n",
       "  </thead>\n",
       "  <tbody>\n",
       "    <tr>\n",
       "      <th>268</th>\n",
       "      <td>2022-12-19</td>\n",
       "      <td>76525.0</td>\n",
       "    </tr>\n",
       "    <tr>\n",
       "      <th>269</th>\n",
       "      <td>2022-12-20</td>\n",
       "      <td>75921.0</td>\n",
       "    </tr>\n",
       "    <tr>\n",
       "      <th>270</th>\n",
       "      <td>2022-12-21</td>\n",
       "      <td>58697.0</td>\n",
       "    </tr>\n",
       "    <tr>\n",
       "      <th>271</th>\n",
       "      <td>2022-12-22</td>\n",
       "      <td>62334.0</td>\n",
       "    </tr>\n",
       "    <tr>\n",
       "      <th>272</th>\n",
       "      <td>2022-12-23</td>\n",
       "      <td>55510.0</td>\n",
       "    </tr>\n",
       "    <tr>\n",
       "      <th>273</th>\n",
       "      <td>2022-12-24</td>\n",
       "      <td>37575.0</td>\n",
       "    </tr>\n",
       "    <tr>\n",
       "      <th>274</th>\n",
       "      <td>2022-12-26</td>\n",
       "      <td>90911.0</td>\n",
       "    </tr>\n",
       "    <tr>\n",
       "      <th>275</th>\n",
       "      <td>2022-12-27</td>\n",
       "      <td>63764.0</td>\n",
       "    </tr>\n",
       "    <tr>\n",
       "      <th>276</th>\n",
       "      <td>2022-12-28</td>\n",
       "      <td>47680.0</td>\n",
       "    </tr>\n",
       "    <tr>\n",
       "      <th>277</th>\n",
       "      <td>2022-12-29</td>\n",
       "      <td>39552.0</td>\n",
       "    </tr>\n",
       "    <tr>\n",
       "      <th>278</th>\n",
       "      <td>2022-12-30</td>\n",
       "      <td>61119.0</td>\n",
       "    </tr>\n",
       "    <tr>\n",
       "      <th>279</th>\n",
       "      <td>2022-12-31</td>\n",
       "      <td>46818.0</td>\n",
       "    </tr>\n",
       "  </tbody>\n",
       "</table>\n",
       "</div>"
      ]
     },
     "metadata": {
      "application/vnd.databricks.v1+output": {
       "addedWidgets": {},
       "arguments": {},
       "data": "<div>\n<style scoped>\n    .dataframe tbody tr th:only-of-type {\n        vertical-align: middle;\n    }\n\n    .dataframe tbody tr th {\n        vertical-align: top;\n    }\n\n    .dataframe thead th {\n        text-align: right;\n    }\n</style>\n<table border=\"1\" class=\"dataframe\">\n  <thead>\n    <tr style=\"text-align: right;\">\n      <th></th>\n      <th>Dates</th>\n      <th>Dry Actuals</th>\n    </tr>\n  </thead>\n  <tbody>\n    <tr>\n      <th>268</th>\n      <td>2022-12-19</td>\n      <td>76525.0</td>\n    </tr>\n    <tr>\n      <th>269</th>\n      <td>2022-12-20</td>\n      <td>75921.0</td>\n    </tr>\n    <tr>\n      <th>270</th>\n      <td>2022-12-21</td>\n      <td>58697.0</td>\n    </tr>\n    <tr>\n      <th>271</th>\n      <td>2022-12-22</td>\n      <td>62334.0</td>\n    </tr>\n    <tr>\n      <th>272</th>\n      <td>2022-12-23</td>\n      <td>55510.0</td>\n    </tr>\n    <tr>\n      <th>273</th>\n      <td>2022-12-24</td>\n      <td>37575.0</td>\n    </tr>\n    <tr>\n      <th>274</th>\n      <td>2022-12-26</td>\n      <td>90911.0</td>\n    </tr>\n    <tr>\n      <th>275</th>\n      <td>2022-12-27</td>\n      <td>63764.0</td>\n    </tr>\n    <tr>\n      <th>276</th>\n      <td>2022-12-28</td>\n      <td>47680.0</td>\n    </tr>\n    <tr>\n      <th>277</th>\n      <td>2022-12-29</td>\n      <td>39552.0</td>\n    </tr>\n    <tr>\n      <th>278</th>\n      <td>2022-12-30</td>\n      <td>61119.0</td>\n    </tr>\n    <tr>\n      <th>279</th>\n      <td>2022-12-31</td>\n      <td>46818.0</td>\n    </tr>\n  </tbody>\n</table>\n</div>",
       "datasetInfos": [],
       "metadata": {},
       "removedWidgets": [],
       "textData": null,
       "type": "htmlSandbox"
      }
     },
     "output_type": "display_data"
    }
   ],
   "source": [
    "lgbm_train"
   ]
  },
  {
   "cell_type": "markdown",
   "metadata": {
    "application/vnd.databricks.v1+cell": {
     "cellMetadata": {
      "byteLimit": 2048000,
      "rowLimit": 10000
     },
     "inputWidgets": {},
     "nuid": "843fae03-0e00-477a-add0-070ea2a81d19",
     "showTitle": false,
     "title": ""
    }
   },
   "source": [
    "### Reformat backtest"
   ]
  },
  {
   "cell_type": "code",
   "execution_count": 0,
   "metadata": {
    "application/vnd.databricks.v1+cell": {
     "cellMetadata": {
      "byteLimit": 2048000,
      "rowLimit": 10000
     },
     "inputWidgets": {},
     "nuid": "6fe23e74-c988-4e08-a016-ec4d30295831",
     "showTitle": false,
     "title": ""
    }
   },
   "outputs": [],
   "source": [
    "backtest_results['Dates']= backtest_results['ds']\n",
    "backtest_results['LGBM_FC']= backtest_results['yhat']\n",
    "backtest_df = backtest_results[['Dates','LGBM_FC']].reset_index(drop=True).copy()\n",
    "backtest_df['Dates'] = pd.to_datetime(backtest_df['Dates'])"
   ]
  },
  {
   "cell_type": "markdown",
   "metadata": {
    "application/vnd.databricks.v1+cell": {
     "cellMetadata": {
      "byteLimit": 2048000,
      "rowLimit": 10000
     },
     "inputWidgets": {},
     "nuid": "8b841797-2d28-48b6-ac77-04a8a651f977",
     "showTitle": false,
     "title": ""
    }
   },
   "source": [
    "### Join the backtest to the inbound"
   ]
  },
  {
   "cell_type": "code",
   "execution_count": 0,
   "metadata": {
    "application/vnd.databricks.v1+cell": {
     "cellMetadata": {
      "byteLimit": 2048000,
      "rowLimit": 10000
     },
     "inputWidgets": {},
     "nuid": "d364a97d-e02d-4d0c-a685-1420f5fbfff0",
     "showTitle": false,
     "title": ""
    }
   },
   "outputs": [
    {
     "output_type": "display_data",
     "data": {
      "text/html": [
       "<div>\n",
       "<style scoped>\n",
       "    .dataframe tbody tr th:only-of-type {\n",
       "        vertical-align: middle;\n",
       "    }\n",
       "\n",
       "    .dataframe tbody tr th {\n",
       "        vertical-align: top;\n",
       "    }\n",
       "\n",
       "    .dataframe thead th {\n",
       "        text-align: right;\n",
       "    }\n",
       "</style>\n",
       "<table border=\"1\" class=\"dataframe\">\n",
       "  <thead>\n",
       "    <tr style=\"text-align: right;\">\n",
       "      <th></th>\n",
       "      <th>Dates</th>\n",
       "      <th>Dry Actuals</th>\n",
       "      <th>Dry Fc</th>\n",
       "      <th>LGBM_FC</th>\n",
       "    </tr>\n",
       "  </thead>\n",
       "  <tbody>\n",
       "    <tr>\n",
       "      <th>0</th>\n",
       "      <td>2022-07-18</td>\n",
       "      <td>67408.0</td>\n",
       "      <td>76897.700</td>\n",
       "      <td>104541.911605</td>\n",
       "    </tr>\n",
       "    <tr>\n",
       "      <th>1</th>\n",
       "      <td>2022-07-19</td>\n",
       "      <td>51655.0</td>\n",
       "      <td>54842.880</td>\n",
       "      <td>103570.959140</td>\n",
       "    </tr>\n",
       "    <tr>\n",
       "      <th>2</th>\n",
       "      <td>2022-07-20</td>\n",
       "      <td>53350.0</td>\n",
       "      <td>51537.000</td>\n",
       "      <td>96828.883038</td>\n",
       "    </tr>\n",
       "    <tr>\n",
       "      <th>3</th>\n",
       "      <td>2022-07-22</td>\n",
       "      <td>45843.0</td>\n",
       "      <td>40934.138</td>\n",
       "      <td>101176.672585</td>\n",
       "    </tr>\n",
       "    <tr>\n",
       "      <th>4</th>\n",
       "      <td>2022-07-25</td>\n",
       "      <td>78763.0</td>\n",
       "      <td>79558.600</td>\n",
       "      <td>100299.036971</td>\n",
       "    </tr>\n",
       "    <tr>\n",
       "      <th>...</th>\n",
       "      <td>...</td>\n",
       "      <td>...</td>\n",
       "      <td>...</td>\n",
       "      <td>...</td>\n",
       "    </tr>\n",
       "    <tr>\n",
       "      <th>111</th>\n",
       "      <td>2022-12-26</td>\n",
       "      <td>90911.0</td>\n",
       "      <td>95488.000</td>\n",
       "      <td>98276.239288</td>\n",
       "    </tr>\n",
       "    <tr>\n",
       "      <th>112</th>\n",
       "      <td>2022-12-27</td>\n",
       "      <td>63764.0</td>\n",
       "      <td>71459.270</td>\n",
       "      <td>86527.281590</td>\n",
       "    </tr>\n",
       "    <tr>\n",
       "      <th>113</th>\n",
       "      <td>2022-12-28</td>\n",
       "      <td>47680.0</td>\n",
       "      <td>71916.320</td>\n",
       "      <td>89319.023783</td>\n",
       "    </tr>\n",
       "    <tr>\n",
       "      <th>114</th>\n",
       "      <td>2022-12-29</td>\n",
       "      <td>39552.0</td>\n",
       "      <td>60346.346</td>\n",
       "      <td>76625.647127</td>\n",
       "    </tr>\n",
       "    <tr>\n",
       "      <th>115</th>\n",
       "      <td>2022-12-30</td>\n",
       "      <td>61119.0</td>\n",
       "      <td>52203.888</td>\n",
       "      <td>83226.352251</td>\n",
       "    </tr>\n",
       "  </tbody>\n",
       "</table>\n",
       "<p>116 rows × 4 columns</p>\n",
       "</div>"
      ]
     },
     "metadata": {
      "application/vnd.databricks.v1+output": {
       "addedWidgets": {},
       "arguments": {},
       "data": "<div>\n<style scoped>\n    .dataframe tbody tr th:only-of-type {\n        vertical-align: middle;\n    }\n\n    .dataframe tbody tr th {\n        vertical-align: top;\n    }\n\n    .dataframe thead th {\n        text-align: right;\n    }\n</style>\n<table border=\"1\" class=\"dataframe\">\n  <thead>\n    <tr style=\"text-align: right;\">\n      <th></th>\n      <th>Dates</th>\n      <th>Dry Actuals</th>\n      <th>Dry Fc</th>\n      <th>LGBM_FC</th>\n    </tr>\n  </thead>\n  <tbody>\n    <tr>\n      <th>0</th>\n      <td>2022-07-18</td>\n      <td>67408.0</td>\n      <td>76897.700</td>\n      <td>104541.911605</td>\n    </tr>\n    <tr>\n      <th>1</th>\n      <td>2022-07-19</td>\n      <td>51655.0</td>\n      <td>54842.880</td>\n      <td>103570.959140</td>\n    </tr>\n    <tr>\n      <th>2</th>\n      <td>2022-07-20</td>\n      <td>53350.0</td>\n      <td>51537.000</td>\n      <td>96828.883038</td>\n    </tr>\n    <tr>\n      <th>3</th>\n      <td>2022-07-22</td>\n      <td>45843.0</td>\n      <td>40934.138</td>\n      <td>101176.672585</td>\n    </tr>\n    <tr>\n      <th>4</th>\n      <td>2022-07-25</td>\n      <td>78763.0</td>\n      <td>79558.600</td>\n      <td>100299.036971</td>\n    </tr>\n    <tr>\n      <th>...</th>\n      <td>...</td>\n      <td>...</td>\n      <td>...</td>\n      <td>...</td>\n    </tr>\n    <tr>\n      <th>111</th>\n      <td>2022-12-26</td>\n      <td>90911.0</td>\n      <td>95488.000</td>\n      <td>98276.239288</td>\n    </tr>\n    <tr>\n      <th>112</th>\n      <td>2022-12-27</td>\n      <td>63764.0</td>\n      <td>71459.270</td>\n      <td>86527.281590</td>\n    </tr>\n    <tr>\n      <th>113</th>\n      <td>2022-12-28</td>\n      <td>47680.0</td>\n      <td>71916.320</td>\n      <td>89319.023783</td>\n    </tr>\n    <tr>\n      <th>114</th>\n      <td>2022-12-29</td>\n      <td>39552.0</td>\n      <td>60346.346</td>\n      <td>76625.647127</td>\n    </tr>\n    <tr>\n      <th>115</th>\n      <td>2022-12-30</td>\n      <td>61119.0</td>\n      <td>52203.888</td>\n      <td>83226.352251</td>\n    </tr>\n  </tbody>\n</table>\n<p>116 rows × 4 columns</p>\n</div>",
       "datasetInfos": [],
       "metadata": {},
       "removedWidgets": [],
       "textData": null,
       "type": "htmlSandbox"
      }
     },
     "output_type": "display_data"
    }
   ],
   "source": [
    "###Remove the data quality issues where FC is exactly te same as actuals\n",
    "\n",
    "backtest_df_merge = pd.merge(inbound_2022_df[inbound_2022_df['Dry Fc']!=inbound_2022_df['Dry Actuals']],backtest_df, on=\"Dates\", how='inner')[['Dates','Dry Actuals','Dry Fc','LGBM_FC']]\n",
    "backtest_df_merge"
   ]
  },
  {
   "cell_type": "markdown",
   "metadata": {
    "application/vnd.databricks.v1+cell": {
     "cellMetadata": {
      "byteLimit": 2048000,
      "rowLimit": 10000
     },
     "inputWidgets": {},
     "nuid": "68c4f916-53bd-4803-add0-e9176231d96a",
     "showTitle": false,
     "title": ""
    }
   },
   "source": [
    "## Evaluate"
   ]
  },
  {
   "cell_type": "markdown",
   "metadata": {
    "application/vnd.databricks.v1+cell": {
     "cellMetadata": {
      "byteLimit": 2048000,
      "rowLimit": 10000
     },
     "inputWidgets": {},
     "nuid": "4de2135d-e475-4dd8-8817-e5643c775b9d",
     "showTitle": false,
     "title": ""
    }
   },
   "source": [
    "### Create error columns"
   ]
  },
  {
   "cell_type": "code",
   "execution_count": 0,
   "metadata": {
    "application/vnd.databricks.v1+cell": {
     "cellMetadata": {
      "byteLimit": 2048000,
      "rowLimit": 10000
     },
     "inputWidgets": {},
     "nuid": "430b153c-5564-41fd-9bc0-a1c3150a09ae",
     "showTitle": false,
     "title": ""
    }
   },
   "outputs": [],
   "source": [
    "for error in  error_to_calc:\n",
    "  for i in range(len(actual_cols)):\n",
    "    calculate_errors(df_eval= backtest_df_merge, actuals_col=actual_cols[i], fc_col= fc_cols[i],error_to_calculate=error,error_colname_suffix=error_suffixes[i])\n",
    "    "
   ]
  },
  {
   "cell_type": "code",
   "execution_count": 0,
   "metadata": {
    "application/vnd.databricks.v1+cell": {
     "cellMetadata": {
      "byteLimit": 2048000,
      "rowLimit": 10000
     },
     "inputWidgets": {},
     "nuid": "72822f7f-120f-4886-a51f-30dc9f902cc2",
     "showTitle": false,
     "title": ""
    }
   },
   "outputs": [
    {
     "output_type": "display_data",
     "data": {
      "text/html": [
       "<div>\n",
       "<style scoped>\n",
       "    .dataframe tbody tr th:only-of-type {\n",
       "        vertical-align: middle;\n",
       "    }\n",
       "\n",
       "    .dataframe tbody tr th {\n",
       "        vertical-align: top;\n",
       "    }\n",
       "\n",
       "    .dataframe thead th {\n",
       "        text-align: right;\n",
       "    }\n",
       "</style>\n",
       "<table border=\"1\" class=\"dataframe\">\n",
       "  <thead>\n",
       "    <tr style=\"text-align: right;\">\n",
       "      <th></th>\n",
       "      <th>Dates</th>\n",
       "      <th>Dry Actuals</th>\n",
       "      <th>Dry Fc</th>\n",
       "      <th>LGBM_FC</th>\n",
       "      <th>Bias_Dry_WOW</th>\n",
       "      <th>Bias_Dry_LGBM</th>\n",
       "      <th>AbsError_Dry_WOW</th>\n",
       "      <th>AbsError_Dry_LGBM</th>\n",
       "      <th>SqError_Dry_WOW</th>\n",
       "      <th>SqError_Dry_LGBM</th>\n",
       "      <th>RelAbsError_Dry_WOW</th>\n",
       "      <th>Outside_range_Dry_WOW</th>\n",
       "      <th>RelAbsError_Dry_LGBM</th>\n",
       "      <th>Outside_range_Dry_LGBM</th>\n",
       "    </tr>\n",
       "  </thead>\n",
       "  <tbody>\n",
       "    <tr>\n",
       "      <th>0</th>\n",
       "      <td>2022-07-18</td>\n",
       "      <td>67408.0</td>\n",
       "      <td>76897.700</td>\n",
       "      <td>104541.911605</td>\n",
       "      <td>9489.700</td>\n",
       "      <td>37133.911605</td>\n",
       "      <td>9489.700</td>\n",
       "      <td>37133.911605</td>\n",
       "      <td>9.005441e+07</td>\n",
       "      <td>1.378927e+09</td>\n",
       "      <td>0.140780</td>\n",
       "      <td>True</td>\n",
       "      <td>0.550883</td>\n",
       "      <td>True</td>\n",
       "    </tr>\n",
       "    <tr>\n",
       "      <th>1</th>\n",
       "      <td>2022-07-19</td>\n",
       "      <td>51655.0</td>\n",
       "      <td>54842.880</td>\n",
       "      <td>103570.959140</td>\n",
       "      <td>3187.880</td>\n",
       "      <td>51915.959140</td>\n",
       "      <td>3187.880</td>\n",
       "      <td>51915.959140</td>\n",
       "      <td>1.016258e+07</td>\n",
       "      <td>2.695267e+09</td>\n",
       "      <td>0.061715</td>\n",
       "      <td>False</td>\n",
       "      <td>1.005052</td>\n",
       "      <td>True</td>\n",
       "    </tr>\n",
       "    <tr>\n",
       "      <th>2</th>\n",
       "      <td>2022-07-20</td>\n",
       "      <td>53350.0</td>\n",
       "      <td>51537.000</td>\n",
       "      <td>96828.883038</td>\n",
       "      <td>-1813.000</td>\n",
       "      <td>43478.883038</td>\n",
       "      <td>1813.000</td>\n",
       "      <td>43478.883038</td>\n",
       "      <td>3.286969e+06</td>\n",
       "      <td>1.890413e+09</td>\n",
       "      <td>0.033983</td>\n",
       "      <td>False</td>\n",
       "      <td>0.814974</td>\n",
       "      <td>True</td>\n",
       "    </tr>\n",
       "    <tr>\n",
       "      <th>3</th>\n",
       "      <td>2022-07-22</td>\n",
       "      <td>45843.0</td>\n",
       "      <td>40934.138</td>\n",
       "      <td>101176.672585</td>\n",
       "      <td>-4908.862</td>\n",
       "      <td>55333.672585</td>\n",
       "      <td>4908.862</td>\n",
       "      <td>55333.672585</td>\n",
       "      <td>2.409693e+07</td>\n",
       "      <td>3.061815e+09</td>\n",
       "      <td>0.107080</td>\n",
       "      <td>True</td>\n",
       "      <td>1.207026</td>\n",
       "      <td>True</td>\n",
       "    </tr>\n",
       "    <tr>\n",
       "      <th>4</th>\n",
       "      <td>2022-07-25</td>\n",
       "      <td>78763.0</td>\n",
       "      <td>79558.600</td>\n",
       "      <td>100299.036971</td>\n",
       "      <td>795.600</td>\n",
       "      <td>21536.036971</td>\n",
       "      <td>795.600</td>\n",
       "      <td>21536.036971</td>\n",
       "      <td>6.329794e+05</td>\n",
       "      <td>4.638009e+08</td>\n",
       "      <td>0.010101</td>\n",
       "      <td>False</td>\n",
       "      <td>0.273428</td>\n",
       "      <td>True</td>\n",
       "    </tr>\n",
       "    <tr>\n",
       "      <th>...</th>\n",
       "      <td>...</td>\n",
       "      <td>...</td>\n",
       "      <td>...</td>\n",
       "      <td>...</td>\n",
       "      <td>...</td>\n",
       "      <td>...</td>\n",
       "      <td>...</td>\n",
       "      <td>...</td>\n",
       "      <td>...</td>\n",
       "      <td>...</td>\n",
       "      <td>...</td>\n",
       "      <td>...</td>\n",
       "      <td>...</td>\n",
       "      <td>...</td>\n",
       "    </tr>\n",
       "    <tr>\n",
       "      <th>111</th>\n",
       "      <td>2022-12-26</td>\n",
       "      <td>90911.0</td>\n",
       "      <td>95488.000</td>\n",
       "      <td>98276.239288</td>\n",
       "      <td>4577.000</td>\n",
       "      <td>7365.239288</td>\n",
       "      <td>4577.000</td>\n",
       "      <td>7365.239288</td>\n",
       "      <td>2.094893e+07</td>\n",
       "      <td>5.424675e+07</td>\n",
       "      <td>0.050346</td>\n",
       "      <td>False</td>\n",
       "      <td>0.081016</td>\n",
       "      <td>False</td>\n",
       "    </tr>\n",
       "    <tr>\n",
       "      <th>112</th>\n",
       "      <td>2022-12-27</td>\n",
       "      <td>63764.0</td>\n",
       "      <td>71459.270</td>\n",
       "      <td>86527.281590</td>\n",
       "      <td>7695.270</td>\n",
       "      <td>22763.281590</td>\n",
       "      <td>7695.270</td>\n",
       "      <td>22763.281590</td>\n",
       "      <td>5.921718e+07</td>\n",
       "      <td>5.181670e+08</td>\n",
       "      <td>0.120684</td>\n",
       "      <td>True</td>\n",
       "      <td>0.356993</td>\n",
       "      <td>True</td>\n",
       "    </tr>\n",
       "    <tr>\n",
       "      <th>113</th>\n",
       "      <td>2022-12-28</td>\n",
       "      <td>47680.0</td>\n",
       "      <td>71916.320</td>\n",
       "      <td>89319.023783</td>\n",
       "      <td>24236.320</td>\n",
       "      <td>41639.023783</td>\n",
       "      <td>24236.320</td>\n",
       "      <td>41639.023783</td>\n",
       "      <td>5.873992e+08</td>\n",
       "      <td>1.733808e+09</td>\n",
       "      <td>0.508312</td>\n",
       "      <td>True</td>\n",
       "      <td>0.873302</td>\n",
       "      <td>True</td>\n",
       "    </tr>\n",
       "    <tr>\n",
       "      <th>114</th>\n",
       "      <td>2022-12-29</td>\n",
       "      <td>39552.0</td>\n",
       "      <td>60346.346</td>\n",
       "      <td>76625.647127</td>\n",
       "      <td>20794.346</td>\n",
       "      <td>37073.647127</td>\n",
       "      <td>20794.346</td>\n",
       "      <td>37073.647127</td>\n",
       "      <td>4.324048e+08</td>\n",
       "      <td>1.374455e+09</td>\n",
       "      <td>0.525747</td>\n",
       "      <td>True</td>\n",
       "      <td>0.937339</td>\n",
       "      <td>True</td>\n",
       "    </tr>\n",
       "    <tr>\n",
       "      <th>115</th>\n",
       "      <td>2022-12-30</td>\n",
       "      <td>61119.0</td>\n",
       "      <td>52203.888</td>\n",
       "      <td>83226.352251</td>\n",
       "      <td>-8915.112</td>\n",
       "      <td>22107.352251</td>\n",
       "      <td>8915.112</td>\n",
       "      <td>22107.352251</td>\n",
       "      <td>7.947922e+07</td>\n",
       "      <td>4.887350e+08</td>\n",
       "      <td>0.145865</td>\n",
       "      <td>True</td>\n",
       "      <td>0.361710</td>\n",
       "      <td>True</td>\n",
       "    </tr>\n",
       "  </tbody>\n",
       "</table>\n",
       "<p>116 rows × 14 columns</p>\n",
       "</div>"
      ]
     },
     "metadata": {
      "application/vnd.databricks.v1+output": {
       "addedWidgets": {},
       "arguments": {},
       "data": "<div>\n<style scoped>\n    .dataframe tbody tr th:only-of-type {\n        vertical-align: middle;\n    }\n\n    .dataframe tbody tr th {\n        vertical-align: top;\n    }\n\n    .dataframe thead th {\n        text-align: right;\n    }\n</style>\n<table border=\"1\" class=\"dataframe\">\n  <thead>\n    <tr style=\"text-align: right;\">\n      <th></th>\n      <th>Dates</th>\n      <th>Dry Actuals</th>\n      <th>Dry Fc</th>\n      <th>LGBM_FC</th>\n      <th>Bias_Dry_WOW</th>\n      <th>Bias_Dry_LGBM</th>\n      <th>AbsError_Dry_WOW</th>\n      <th>AbsError_Dry_LGBM</th>\n      <th>SqError_Dry_WOW</th>\n      <th>SqError_Dry_LGBM</th>\n      <th>RelAbsError_Dry_WOW</th>\n      <th>Outside_range_Dry_WOW</th>\n      <th>RelAbsError_Dry_LGBM</th>\n      <th>Outside_range_Dry_LGBM</th>\n    </tr>\n  </thead>\n  <tbody>\n    <tr>\n      <th>0</th>\n      <td>2022-07-18</td>\n      <td>67408.0</td>\n      <td>76897.700</td>\n      <td>104541.911605</td>\n      <td>9489.700</td>\n      <td>37133.911605</td>\n      <td>9489.700</td>\n      <td>37133.911605</td>\n      <td>9.005441e+07</td>\n      <td>1.378927e+09</td>\n      <td>0.140780</td>\n      <td>True</td>\n      <td>0.550883</td>\n      <td>True</td>\n    </tr>\n    <tr>\n      <th>1</th>\n      <td>2022-07-19</td>\n      <td>51655.0</td>\n      <td>54842.880</td>\n      <td>103570.959140</td>\n      <td>3187.880</td>\n      <td>51915.959140</td>\n      <td>3187.880</td>\n      <td>51915.959140</td>\n      <td>1.016258e+07</td>\n      <td>2.695267e+09</td>\n      <td>0.061715</td>\n      <td>False</td>\n      <td>1.005052</td>\n      <td>True</td>\n    </tr>\n    <tr>\n      <th>2</th>\n      <td>2022-07-20</td>\n      <td>53350.0</td>\n      <td>51537.000</td>\n      <td>96828.883038</td>\n      <td>-1813.000</td>\n      <td>43478.883038</td>\n      <td>1813.000</td>\n      <td>43478.883038</td>\n      <td>3.286969e+06</td>\n      <td>1.890413e+09</td>\n      <td>0.033983</td>\n      <td>False</td>\n      <td>0.814974</td>\n      <td>True</td>\n    </tr>\n    <tr>\n      <th>3</th>\n      <td>2022-07-22</td>\n      <td>45843.0</td>\n      <td>40934.138</td>\n      <td>101176.672585</td>\n      <td>-4908.862</td>\n      <td>55333.672585</td>\n      <td>4908.862</td>\n      <td>55333.672585</td>\n      <td>2.409693e+07</td>\n      <td>3.061815e+09</td>\n      <td>0.107080</td>\n      <td>True</td>\n      <td>1.207026</td>\n      <td>True</td>\n    </tr>\n    <tr>\n      <th>4</th>\n      <td>2022-07-25</td>\n      <td>78763.0</td>\n      <td>79558.600</td>\n      <td>100299.036971</td>\n      <td>795.600</td>\n      <td>21536.036971</td>\n      <td>795.600</td>\n      <td>21536.036971</td>\n      <td>6.329794e+05</td>\n      <td>4.638009e+08</td>\n      <td>0.010101</td>\n      <td>False</td>\n      <td>0.273428</td>\n      <td>True</td>\n    </tr>\n    <tr>\n      <th>...</th>\n      <td>...</td>\n      <td>...</td>\n      <td>...</td>\n      <td>...</td>\n      <td>...</td>\n      <td>...</td>\n      <td>...</td>\n      <td>...</td>\n      <td>...</td>\n      <td>...</td>\n      <td>...</td>\n      <td>...</td>\n      <td>...</td>\n      <td>...</td>\n    </tr>\n    <tr>\n      <th>111</th>\n      <td>2022-12-26</td>\n      <td>90911.0</td>\n      <td>95488.000</td>\n      <td>98276.239288</td>\n      <td>4577.000</td>\n      <td>7365.239288</td>\n      <td>4577.000</td>\n      <td>7365.239288</td>\n      <td>2.094893e+07</td>\n      <td>5.424675e+07</td>\n      <td>0.050346</td>\n      <td>False</td>\n      <td>0.081016</td>\n      <td>False</td>\n    </tr>\n    <tr>\n      <th>112</th>\n      <td>2022-12-27</td>\n      <td>63764.0</td>\n      <td>71459.270</td>\n      <td>86527.281590</td>\n      <td>7695.270</td>\n      <td>22763.281590</td>\n      <td>7695.270</td>\n      <td>22763.281590</td>\n      <td>5.921718e+07</td>\n      <td>5.181670e+08</td>\n      <td>0.120684</td>\n      <td>True</td>\n      <td>0.356993</td>\n      <td>True</td>\n    </tr>\n    <tr>\n      <th>113</th>\n      <td>2022-12-28</td>\n      <td>47680.0</td>\n      <td>71916.320</td>\n      <td>89319.023783</td>\n      <td>24236.320</td>\n      <td>41639.023783</td>\n      <td>24236.320</td>\n      <td>41639.023783</td>\n      <td>5.873992e+08</td>\n      <td>1.733808e+09</td>\n      <td>0.508312</td>\n      <td>True</td>\n      <td>0.873302</td>\n      <td>True</td>\n    </tr>\n    <tr>\n      <th>114</th>\n      <td>2022-12-29</td>\n      <td>39552.0</td>\n      <td>60346.346</td>\n      <td>76625.647127</td>\n      <td>20794.346</td>\n      <td>37073.647127</td>\n      <td>20794.346</td>\n      <td>37073.647127</td>\n      <td>4.324048e+08</td>\n      <td>1.374455e+09</td>\n      <td>0.525747</td>\n      <td>True</td>\n      <td>0.937339</td>\n      <td>True</td>\n    </tr>\n    <tr>\n      <th>115</th>\n      <td>2022-12-30</td>\n      <td>61119.0</td>\n      <td>52203.888</td>\n      <td>83226.352251</td>\n      <td>-8915.112</td>\n      <td>22107.352251</td>\n      <td>8915.112</td>\n      <td>22107.352251</td>\n      <td>7.947922e+07</td>\n      <td>4.887350e+08</td>\n      <td>0.145865</td>\n      <td>True</td>\n      <td>0.361710</td>\n      <td>True</td>\n    </tr>\n  </tbody>\n</table>\n<p>116 rows × 14 columns</p>\n</div>",
       "datasetInfos": [],
       "metadata": {},
       "removedWidgets": [],
       "textData": null,
       "type": "htmlSandbox"
      }
     },
     "output_type": "display_data"
    }
   ],
   "source": [
    "backtest_df_merge"
   ]
  },
  {
   "cell_type": "markdown",
   "metadata": {
    "application/vnd.databricks.v1+cell": {
     "cellMetadata": {
      "byteLimit": 2048000,
      "rowLimit": 10000
     },
     "inputWidgets": {},
     "nuid": "3c05e91a-2ec7-4427-bced-b48615246043",
     "showTitle": false,
     "title": ""
    }
   },
   "source": [
    "### Calculate global metrics"
   ]
  },
  {
   "cell_type": "code",
   "execution_count": 0,
   "metadata": {
    "application/vnd.databricks.v1+cell": {
     "cellMetadata": {
      "byteLimit": 2048000,
      "rowLimit": 10000
     },
     "inputWidgets": {},
     "nuid": "a73142f3-7ef2-465e-bbc9-a95d98219d89",
     "showTitle": false,
     "title": ""
    }
   },
   "outputs": [
    {
     "output_type": "stream",
     "name": "stderr",
     "output_type": "stream",
     "text": [
      "<command-203330119889549>:25: FutureWarning: Treating datetime data as categorical rather than numeric in `.describe` is deprecated and will be removed in a future version of pandas. Specify `datetime_is_numeric=True` to silence this warning and adopt the future behavior now.\n  described_df = inbound_fc.describe(include='all')[cols_to_keep].rename_axis('Metrics').reset_index(drop=False).copy()\n"
     ]
    }
   ],
   "source": [
    "global_metrics_dry = describe_inbound_fc(inbound_fc=backtest_df_merge, cols_to_keep=['Dry Actuals','Dry Fc','LGBM_FC','Bias_Dry_WOW','Bias_Dry_LGBM', 'AbsError_Dry_WOW','AbsError_Dry_LGBM','SqError_Dry_WOW','SqError_Dry_LGBM','RelAbsError_Dry_WOW','RelAbsError_Dry_LGBM', 'Outside_range_Dry_WOW', 'Outside_range_Dry_LGBM'])"
   ]
  },
  {
   "cell_type": "code",
   "execution_count": 0,
   "metadata": {
    "application/vnd.databricks.v1+cell": {
     "cellMetadata": {
      "byteLimit": 2048000,
      "rowLimit": 10000
     },
     "inputWidgets": {},
     "nuid": "dcd59ccb-aa89-4e20-8dac-8878b28360ae",
     "showTitle": false,
     "title": ""
    }
   },
   "outputs": [
    {
     "output_type": "display_data",
     "data": {
      "text/html": [
       "<div>\n",
       "<style scoped>\n",
       "    .dataframe tbody tr th:only-of-type {\n",
       "        vertical-align: middle;\n",
       "    }\n",
       "\n",
       "    .dataframe tbody tr th {\n",
       "        vertical-align: top;\n",
       "    }\n",
       "\n",
       "    .dataframe thead th {\n",
       "        text-align: right;\n",
       "    }\n",
       "</style>\n",
       "<table border=\"1\" class=\"dataframe\">\n",
       "  <thead>\n",
       "    <tr style=\"text-align: right;\">\n",
       "      <th></th>\n",
       "      <th>Metrics</th>\n",
       "      <th>Dry Actuals</th>\n",
       "      <th>Dry Fc</th>\n",
       "      <th>LGBM_FC</th>\n",
       "      <th>Bias_Dry_WOW</th>\n",
       "      <th>Bias_Dry_LGBM</th>\n",
       "      <th>AbsError_Dry_WOW</th>\n",
       "      <th>AbsError_Dry_LGBM</th>\n",
       "      <th>SqError_Dry_WOW</th>\n",
       "      <th>SqError_Dry_LGBM</th>\n",
       "      <th>RelAbsError_Dry_WOW</th>\n",
       "      <th>RelAbsError_Dry_LGBM</th>\n",
       "      <th>Outside_range_Dry_WOW</th>\n",
       "      <th>Outside_range_Dry_LGBM</th>\n",
       "    </tr>\n",
       "  </thead>\n",
       "  <tbody>\n",
       "    <tr>\n",
       "      <th>0</th>\n",
       "      <td>count</td>\n",
       "      <td>116.000000</td>\n",
       "      <td>116.000000</td>\n",
       "      <td>116.000000</td>\n",
       "      <td>116.000000</td>\n",
       "      <td>116.000000</td>\n",
       "      <td>116.000000</td>\n",
       "      <td>116.000000</td>\n",
       "      <td>1.160000e+02</td>\n",
       "      <td>1.160000e+02</td>\n",
       "      <td>116.000000</td>\n",
       "      <td>116.000000</td>\n",
       "      <td>116</td>\n",
       "      <td>116</td>\n",
       "    </tr>\n",
       "    <tr>\n",
       "      <th>1</th>\n",
       "      <td>unique</td>\n",
       "      <td>NaN</td>\n",
       "      <td>NaN</td>\n",
       "      <td>NaN</td>\n",
       "      <td>NaN</td>\n",
       "      <td>NaN</td>\n",
       "      <td>NaN</td>\n",
       "      <td>NaN</td>\n",
       "      <td>NaN</td>\n",
       "      <td>NaN</td>\n",
       "      <td>NaN</td>\n",
       "      <td>NaN</td>\n",
       "      <td>2</td>\n",
       "      <td>2</td>\n",
       "    </tr>\n",
       "    <tr>\n",
       "      <th>2</th>\n",
       "      <td>top</td>\n",
       "      <td>NaN</td>\n",
       "      <td>NaN</td>\n",
       "      <td>NaN</td>\n",
       "      <td>NaN</td>\n",
       "      <td>NaN</td>\n",
       "      <td>NaN</td>\n",
       "      <td>NaN</td>\n",
       "      <td>NaN</td>\n",
       "      <td>NaN</td>\n",
       "      <td>NaN</td>\n",
       "      <td>NaN</td>\n",
       "      <td>False</td>\n",
       "      <td>True</td>\n",
       "    </tr>\n",
       "    <tr>\n",
       "      <th>3</th>\n",
       "      <td>freq</td>\n",
       "      <td>NaN</td>\n",
       "      <td>NaN</td>\n",
       "      <td>NaN</td>\n",
       "      <td>NaN</td>\n",
       "      <td>NaN</td>\n",
       "      <td>NaN</td>\n",
       "      <td>NaN</td>\n",
       "      <td>NaN</td>\n",
       "      <td>NaN</td>\n",
       "      <td>NaN</td>\n",
       "      <td>NaN</td>\n",
       "      <td>77</td>\n",
       "      <td>103</td>\n",
       "    </tr>\n",
       "    <tr>\n",
       "      <th>4</th>\n",
       "      <td>first</td>\n",
       "      <td>NaN</td>\n",
       "      <td>NaN</td>\n",
       "      <td>NaN</td>\n",
       "      <td>NaN</td>\n",
       "      <td>NaN</td>\n",
       "      <td>NaN</td>\n",
       "      <td>NaN</td>\n",
       "      <td>NaN</td>\n",
       "      <td>NaN</td>\n",
       "      <td>NaN</td>\n",
       "      <td>NaN</td>\n",
       "      <td>NaN</td>\n",
       "      <td>NaN</td>\n",
       "    </tr>\n",
       "    <tr>\n",
       "      <th>5</th>\n",
       "      <td>last</td>\n",
       "      <td>NaN</td>\n",
       "      <td>NaN</td>\n",
       "      <td>NaN</td>\n",
       "      <td>NaN</td>\n",
       "      <td>NaN</td>\n",
       "      <td>NaN</td>\n",
       "      <td>NaN</td>\n",
       "      <td>NaN</td>\n",
       "      <td>NaN</td>\n",
       "      <td>NaN</td>\n",
       "      <td>NaN</td>\n",
       "      <td>NaN</td>\n",
       "      <td>NaN</td>\n",
       "    </tr>\n",
       "    <tr>\n",
       "      <th>6</th>\n",
       "      <td>mean</td>\n",
       "      <td>68658.474138</td>\n",
       "      <td>70432.331293</td>\n",
       "      <td>91204.101842</td>\n",
       "      <td>1773.857155</td>\n",
       "      <td>22545.627704</td>\n",
       "      <td>6145.002896</td>\n",
       "      <td>29707.787215</td>\n",
       "      <td>1.013758e+08</td>\n",
       "      <td>1.192755e+09</td>\n",
       "      <td>0.110535</td>\n",
       "      <td>0.533495</td>\n",
       "      <td>NaN</td>\n",
       "      <td>NaN</td>\n",
       "    </tr>\n",
       "    <tr>\n",
       "      <th>7</th>\n",
       "      <td>std</td>\n",
       "      <td>26707.112555</td>\n",
       "      <td>24551.818188</td>\n",
       "      <td>7935.723404</td>\n",
       "      <td>9954.063606</td>\n",
       "      <td>26275.487711</td>\n",
       "      <td>8010.486584</td>\n",
       "      <td>17688.969375</td>\n",
       "      <td>4.128963e+08</td>\n",
       "      <td>1.315576e+09</td>\n",
       "      <td>0.234379</td>\n",
       "      <td>0.465367</td>\n",
       "      <td>NaN</td>\n",
       "      <td>NaN</td>\n",
       "    </tr>\n",
       "    <tr>\n",
       "      <th>8</th>\n",
       "      <td>min</td>\n",
       "      <td>21742.000000</td>\n",
       "      <td>35712.572000</td>\n",
       "      <td>75959.631893</td>\n",
       "      <td>-59204.840000</td>\n",
       "      <td>-93868.117739</td>\n",
       "      <td>4.000000</td>\n",
       "      <td>557.809348</td>\n",
       "      <td>1.600000e+01</td>\n",
       "      <td>3.111513e+05</td>\n",
       "      <td>0.000081</td>\n",
       "      <td>0.005412</td>\n",
       "      <td>NaN</td>\n",
       "      <td>NaN</td>\n",
       "    </tr>\n",
       "    <tr>\n",
       "      <th>9</th>\n",
       "      <td>25%</td>\n",
       "      <td>51657.250000</td>\n",
       "      <td>54152.369000</td>\n",
       "      <td>84898.314515</td>\n",
       "      <td>-2506.930000</td>\n",
       "      <td>12732.457469</td>\n",
       "      <td>2199.899500</td>\n",
       "      <td>16613.519993</td>\n",
       "      <td>4.839992e+06</td>\n",
       "      <td>2.760191e+08</td>\n",
       "      <td>0.029886</td>\n",
       "      <td>0.236444</td>\n",
       "      <td>NaN</td>\n",
       "      <td>NaN</td>\n",
       "    </tr>\n",
       "    <tr>\n",
       "      <th>10</th>\n",
       "      <td>50%</td>\n",
       "      <td>61511.000000</td>\n",
       "      <td>66358.500000</td>\n",
       "      <td>92797.049408</td>\n",
       "      <td>1923.780000</td>\n",
       "      <td>25553.301267</td>\n",
       "      <td>4474.500000</td>\n",
       "      <td>27652.742888</td>\n",
       "      <td>2.002196e+07</td>\n",
       "      <td>7.646854e+08</td>\n",
       "      <td>0.060372</td>\n",
       "      <td>0.444268</td>\n",
       "      <td>NaN</td>\n",
       "      <td>NaN</td>\n",
       "    </tr>\n",
       "    <tr>\n",
       "      <th>11</th>\n",
       "      <td>75%</td>\n",
       "      <td>76346.500000</td>\n",
       "      <td>77160.387500</td>\n",
       "      <td>96298.430976</td>\n",
       "      <td>5198.117500</td>\n",
       "      <td>40725.893264</td>\n",
       "      <td>7234.453000</td>\n",
       "      <td>41883.822772</td>\n",
       "      <td>5.233773e+07</td>\n",
       "      <td>1.754341e+09</td>\n",
       "      <td>0.111788</td>\n",
       "      <td>0.786097</td>\n",
       "      <td>NaN</td>\n",
       "      <td>NaN</td>\n",
       "    </tr>\n",
       "    <tr>\n",
       "      <th>12</th>\n",
       "      <td>max</td>\n",
       "      <td>189772.000000</td>\n",
       "      <td>161687.000000</td>\n",
       "      <td>104791.920880</td>\n",
       "      <td>52066.000000</td>\n",
       "      <td>77182.160728</td>\n",
       "      <td>59204.840000</td>\n",
       "      <td>93868.117739</td>\n",
       "      <td>3.505213e+09</td>\n",
       "      <td>8.811224e+09</td>\n",
       "      <td>2.394720</td>\n",
       "      <td>3.549911</td>\n",
       "      <td>NaN</td>\n",
       "      <td>NaN</td>\n",
       "    </tr>\n",
       "  </tbody>\n",
       "</table>\n",
       "</div>"
      ]
     },
     "metadata": {
      "application/vnd.databricks.v1+output": {
       "addedWidgets": {},
       "arguments": {},
       "data": "<div>\n<style scoped>\n    .dataframe tbody tr th:only-of-type {\n        vertical-align: middle;\n    }\n\n    .dataframe tbody tr th {\n        vertical-align: top;\n    }\n\n    .dataframe thead th {\n        text-align: right;\n    }\n</style>\n<table border=\"1\" class=\"dataframe\">\n  <thead>\n    <tr style=\"text-align: right;\">\n      <th></th>\n      <th>Metrics</th>\n      <th>Dry Actuals</th>\n      <th>Dry Fc</th>\n      <th>LGBM_FC</th>\n      <th>Bias_Dry_WOW</th>\n      <th>Bias_Dry_LGBM</th>\n      <th>AbsError_Dry_WOW</th>\n      <th>AbsError_Dry_LGBM</th>\n      <th>SqError_Dry_WOW</th>\n      <th>SqError_Dry_LGBM</th>\n      <th>RelAbsError_Dry_WOW</th>\n      <th>RelAbsError_Dry_LGBM</th>\n      <th>Outside_range_Dry_WOW</th>\n      <th>Outside_range_Dry_LGBM</th>\n    </tr>\n  </thead>\n  <tbody>\n    <tr>\n      <th>0</th>\n      <td>count</td>\n      <td>116.000000</td>\n      <td>116.000000</td>\n      <td>116.000000</td>\n      <td>116.000000</td>\n      <td>116.000000</td>\n      <td>116.000000</td>\n      <td>116.000000</td>\n      <td>1.160000e+02</td>\n      <td>1.160000e+02</td>\n      <td>116.000000</td>\n      <td>116.000000</td>\n      <td>116</td>\n      <td>116</td>\n    </tr>\n    <tr>\n      <th>1</th>\n      <td>unique</td>\n      <td>NaN</td>\n      <td>NaN</td>\n      <td>NaN</td>\n      <td>NaN</td>\n      <td>NaN</td>\n      <td>NaN</td>\n      <td>NaN</td>\n      <td>NaN</td>\n      <td>NaN</td>\n      <td>NaN</td>\n      <td>NaN</td>\n      <td>2</td>\n      <td>2</td>\n    </tr>\n    <tr>\n      <th>2</th>\n      <td>top</td>\n      <td>NaN</td>\n      <td>NaN</td>\n      <td>NaN</td>\n      <td>NaN</td>\n      <td>NaN</td>\n      <td>NaN</td>\n      <td>NaN</td>\n      <td>NaN</td>\n      <td>NaN</td>\n      <td>NaN</td>\n      <td>NaN</td>\n      <td>False</td>\n      <td>True</td>\n    </tr>\n    <tr>\n      <th>3</th>\n      <td>freq</td>\n      <td>NaN</td>\n      <td>NaN</td>\n      <td>NaN</td>\n      <td>NaN</td>\n      <td>NaN</td>\n      <td>NaN</td>\n      <td>NaN</td>\n      <td>NaN</td>\n      <td>NaN</td>\n      <td>NaN</td>\n      <td>NaN</td>\n      <td>77</td>\n      <td>103</td>\n    </tr>\n    <tr>\n      <th>4</th>\n      <td>first</td>\n      <td>NaN</td>\n      <td>NaN</td>\n      <td>NaN</td>\n      <td>NaN</td>\n      <td>NaN</td>\n      <td>NaN</td>\n      <td>NaN</td>\n      <td>NaN</td>\n      <td>NaN</td>\n      <td>NaN</td>\n      <td>NaN</td>\n      <td>NaN</td>\n      <td>NaN</td>\n    </tr>\n    <tr>\n      <th>5</th>\n      <td>last</td>\n      <td>NaN</td>\n      <td>NaN</td>\n      <td>NaN</td>\n      <td>NaN</td>\n      <td>NaN</td>\n      <td>NaN</td>\n      <td>NaN</td>\n      <td>NaN</td>\n      <td>NaN</td>\n      <td>NaN</td>\n      <td>NaN</td>\n      <td>NaN</td>\n      <td>NaN</td>\n    </tr>\n    <tr>\n      <th>6</th>\n      <td>mean</td>\n      <td>68658.474138</td>\n      <td>70432.331293</td>\n      <td>91204.101842</td>\n      <td>1773.857155</td>\n      <td>22545.627704</td>\n      <td>6145.002896</td>\n      <td>29707.787215</td>\n      <td>1.013758e+08</td>\n      <td>1.192755e+09</td>\n      <td>0.110535</td>\n      <td>0.533495</td>\n      <td>NaN</td>\n      <td>NaN</td>\n    </tr>\n    <tr>\n      <th>7</th>\n      <td>std</td>\n      <td>26707.112555</td>\n      <td>24551.818188</td>\n      <td>7935.723404</td>\n      <td>9954.063606</td>\n      <td>26275.487711</td>\n      <td>8010.486584</td>\n      <td>17688.969375</td>\n      <td>4.128963e+08</td>\n      <td>1.315576e+09</td>\n      <td>0.234379</td>\n      <td>0.465367</td>\n      <td>NaN</td>\n      <td>NaN</td>\n    </tr>\n    <tr>\n      <th>8</th>\n      <td>min</td>\n      <td>21742.000000</td>\n      <td>35712.572000</td>\n      <td>75959.631893</td>\n      <td>-59204.840000</td>\n      <td>-93868.117739</td>\n      <td>4.000000</td>\n      <td>557.809348</td>\n      <td>1.600000e+01</td>\n      <td>3.111513e+05</td>\n      <td>0.000081</td>\n      <td>0.005412</td>\n      <td>NaN</td>\n      <td>NaN</td>\n    </tr>\n    <tr>\n      <th>9</th>\n      <td>25%</td>\n      <td>51657.250000</td>\n      <td>54152.369000</td>\n      <td>84898.314515</td>\n      <td>-2506.930000</td>\n      <td>12732.457469</td>\n      <td>2199.899500</td>\n      <td>16613.519993</td>\n      <td>4.839992e+06</td>\n      <td>2.760191e+08</td>\n      <td>0.029886</td>\n      <td>0.236444</td>\n      <td>NaN</td>\n      <td>NaN</td>\n    </tr>\n    <tr>\n      <th>10</th>\n      <td>50%</td>\n      <td>61511.000000</td>\n      <td>66358.500000</td>\n      <td>92797.049408</td>\n      <td>1923.780000</td>\n      <td>25553.301267</td>\n      <td>4474.500000</td>\n      <td>27652.742888</td>\n      <td>2.002196e+07</td>\n      <td>7.646854e+08</td>\n      <td>0.060372</td>\n      <td>0.444268</td>\n      <td>NaN</td>\n      <td>NaN</td>\n    </tr>\n    <tr>\n      <th>11</th>\n      <td>75%</td>\n      <td>76346.500000</td>\n      <td>77160.387500</td>\n      <td>96298.430976</td>\n      <td>5198.117500</td>\n      <td>40725.893264</td>\n      <td>7234.453000</td>\n      <td>41883.822772</td>\n      <td>5.233773e+07</td>\n      <td>1.754341e+09</td>\n      <td>0.111788</td>\n      <td>0.786097</td>\n      <td>NaN</td>\n      <td>NaN</td>\n    </tr>\n    <tr>\n      <th>12</th>\n      <td>max</td>\n      <td>189772.000000</td>\n      <td>161687.000000</td>\n      <td>104791.920880</td>\n      <td>52066.000000</td>\n      <td>77182.160728</td>\n      <td>59204.840000</td>\n      <td>93868.117739</td>\n      <td>3.505213e+09</td>\n      <td>8.811224e+09</td>\n      <td>2.394720</td>\n      <td>3.549911</td>\n      <td>NaN</td>\n      <td>NaN</td>\n    </tr>\n  </tbody>\n</table>\n</div>",
       "datasetInfos": [],
       "metadata": {},
       "removedWidgets": [],
       "textData": null,
       "type": "htmlSandbox"
      }
     },
     "output_type": "display_data"
    }
   ],
   "source": [
    "global_metrics_dry"
   ]
  },
  {
   "cell_type": "markdown",
   "metadata": {
    "application/vnd.databricks.v1+cell": {
     "cellMetadata": {
      "byteLimit": 2048000,
      "rowLimit": 10000
     },
     "inputWidgets": {},
     "nuid": "9cdf44ab-d387-4220-b6b1-3489467465b8",
     "showTitle": false,
     "title": ""
    }
   },
   "source": [
    "### Visualize profiles"
   ]
  },
  {
   "cell_type": "code",
   "execution_count": 0,
   "metadata": {
    "application/vnd.databricks.v1+cell": {
     "cellMetadata": {
      "byteLimit": 2048000,
      "rowLimit": 10000
     },
     "inputWidgets": {},
     "nuid": "073b6c50-97e1-400b-b9d3-210291d12db3",
     "showTitle": false,
     "title": ""
    }
   },
   "outputs": [
    {
     "output_type": "display_data",
     "data": {
      "text/html": [
       "<html>\n",
       "<head><meta charset=\"utf-8\" /></head>\n",
       "<body>\n",
       "    <div>            <script src=\"https://cdnjs.cloudflare.com/ajax/libs/mathjax/2.7.5/MathJax.js?config=TeX-AMS-MML_SVG\"></script><script type=\"text/javascript\">if (window.MathJax) {MathJax.Hub.Config({SVG: {font: \"STIX-Web\"}});}</script>                <script type=\"text/javascript\">window.PlotlyConfig = {MathJaxConfig: 'local'};</script>\n",
       "        <script src=\"https://cdn.plot.ly/plotly-2.9.0.min.js\"></script>                <div id=\"d040f36f-8090-41eb-874c-ecf14c8ac48c\" class=\"plotly-graph-div\" style=\"height:100%; width:100%;\"></div>            <script type=\"text/javascript\">                                    window.PLOTLYENV=window.PLOTLYENV || {};                                    if (document.getElementById(\"d040f36f-8090-41eb-874c-ecf14c8ac48c\")) {                    Plotly.newPlot(                        \"d040f36f-8090-41eb-874c-ecf14c8ac48c\",                        [{\"line\":{\"color\":\"#FF0000\"},\"name\":\"LGBM_FC\",\"showlegend\":true,\"x\":[\"2022-07-18T00:00:00\",\"2022-07-19T00:00:00\",\"2022-07-20T00:00:00\",\"2022-07-22T00:00:00\",\"2022-07-25T00:00:00\",\"2022-07-26T00:00:00\",\"2022-07-27T00:00:00\",\"2022-07-28T00:00:00\",\"2022-07-29T00:00:00\",\"2022-08-01T00:00:00\",\"2022-08-02T00:00:00\",\"2022-08-03T00:00:00\",\"2022-08-04T00:00:00\",\"2022-08-05T00:00:00\",\"2022-08-08T00:00:00\",\"2022-08-09T00:00:00\",\"2022-08-10T00:00:00\",\"2022-08-11T00:00:00\",\"2022-08-12T00:00:00\",\"2022-08-16T00:00:00\",\"2022-08-17T00:00:00\",\"2022-08-18T00:00:00\",\"2022-08-19T00:00:00\",\"2022-08-22T00:00:00\",\"2022-08-23T00:00:00\",\"2022-08-24T00:00:00\",\"2022-08-25T00:00:00\",\"2022-08-26T00:00:00\",\"2022-08-29T00:00:00\",\"2022-08-30T00:00:00\",\"2022-08-31T00:00:00\",\"2022-09-01T00:00:00\",\"2022-09-02T00:00:00\",\"2022-09-05T00:00:00\",\"2022-09-06T00:00:00\",\"2022-09-07T00:00:00\",\"2022-09-08T00:00:00\",\"2022-09-09T00:00:00\",\"2022-09-12T00:00:00\",\"2022-09-13T00:00:00\",\"2022-09-14T00:00:00\",\"2022-09-15T00:00:00\",\"2022-09-16T00:00:00\",\"2022-09-19T00:00:00\",\"2022-09-20T00:00:00\",\"2022-09-21T00:00:00\",\"2022-09-22T00:00:00\",\"2022-09-23T00:00:00\",\"2022-09-26T00:00:00\",\"2022-09-27T00:00:00\",\"2022-09-28T00:00:00\",\"2022-09-29T00:00:00\",\"2022-09-30T00:00:00\",\"2022-10-03T00:00:00\",\"2022-10-04T00:00:00\",\"2022-10-05T00:00:00\",\"2022-10-06T00:00:00\",\"2022-10-07T00:00:00\",\"2022-10-10T00:00:00\",\"2022-10-11T00:00:00\",\"2022-10-12T00:00:00\",\"2022-10-13T00:00:00\",\"2022-10-14T00:00:00\",\"2022-10-17T00:00:00\",\"2022-10-18T00:00:00\",\"2022-10-19T00:00:00\",\"2022-10-20T00:00:00\",\"2022-10-21T00:00:00\",\"2022-10-24T00:00:00\",\"2022-10-25T00:00:00\",\"2022-10-26T00:00:00\",\"2022-10-27T00:00:00\",\"2022-10-28T00:00:00\",\"2022-10-31T00:00:00\",\"2022-11-02T00:00:00\",\"2022-11-03T00:00:00\",\"2022-11-04T00:00:00\",\"2022-11-07T00:00:00\",\"2022-11-08T00:00:00\",\"2022-11-09T00:00:00\",\"2022-11-10T00:00:00\",\"2022-11-14T00:00:00\",\"2022-11-15T00:00:00\",\"2022-11-16T00:00:00\",\"2022-11-17T00:00:00\",\"2022-11-18T00:00:00\",\"2022-11-21T00:00:00\",\"2022-11-22T00:00:00\",\"2022-11-23T00:00:00\",\"2022-11-24T00:00:00\",\"2022-11-25T00:00:00\",\"2022-11-28T00:00:00\",\"2022-11-29T00:00:00\",\"2022-11-30T00:00:00\",\"2022-12-01T00:00:00\",\"2022-12-02T00:00:00\",\"2022-12-05T00:00:00\",\"2022-12-06T00:00:00\",\"2022-12-07T00:00:00\",\"2022-12-08T00:00:00\",\"2022-12-09T00:00:00\",\"2022-12-12T00:00:00\",\"2022-12-13T00:00:00\",\"2022-12-14T00:00:00\",\"2022-12-15T00:00:00\",\"2022-12-16T00:00:00\",\"2022-12-19T00:00:00\",\"2022-12-20T00:00:00\",\"2022-12-21T00:00:00\",\"2022-12-22T00:00:00\",\"2022-12-23T00:00:00\",\"2022-12-26T00:00:00\",\"2022-12-27T00:00:00\",\"2022-12-28T00:00:00\",\"2022-12-29T00:00:00\",\"2022-12-30T00:00:00\"],\"y\":[104541.91160537124,103570.95913994266,96828.88303792576,101176.6725854572,100299.03697092882,96413.92316927786,95285.07746861297,95285.07746861297,95093.11259413065,96259.93357762093,91695.25273981642,91407.3936105398,93095.36477544076,94026.5573331141,93733.35223980185,91544.62335900492,89795.11025646467,87969.69996417465,85399.13585255563,77488.90405000909,80783.23898760321,76915.0068790889,78855.66198374818,84914.93622122894,75959.63189329283,84848.44939465653,77751.14387098384,77419.78530496787,77747.21489446059,79767.89701179389,76202.57723818124,76552.90155444836,80658.35453690957,92279.3348478978,85418.92614546718,79007.90099788335,84035.14764348145,78581.22154145513,100236.26640934339,84637.33948706713,91503.01057070984,93877.57623692497,92517.86569612872,101531.81027626879,94296.66229162937,92792.21877356248,97021.65449050145,96829.72392659025,101919.03477616463,95090.81435543366,97341.90784774176,94773.56045942355,94800.13818108324,103323.40874990073,91541.5707104523,99882.62206977693,94608.14507301366,94347.14079497426,102518.19065194773,97881.22329719648,88240.67567034315,93865.2357860383,94948.61122263767,101015.80760380671,87135.3919739894,92654.4061112102,94176.95049983526,92786.86588000484,101292.41543295147,92801.88004301472,95426.8060696679,96217.11836592086,95247.12115234684,101060.55239253442,101335.78803936613,95806.95775547004,92533.58329691344,101639.38380932341,95903.88226125478,98924.16072820587,92299.33666914253,99022.98316325115,93798.14689224206,103811.96791056014,95387.11053083095,104791.92088029422,99998.0660768835,99146.9172102733,93687.69468715777,102902.09996458358,93687.69468715777,90504.17146594918,85038.63822980736,84552.65446049199,90504.17146594918,77947.29800697006,92013.54254316264,81649.0717550631,81965.64441783993,82038.85908777291,79808.47889721561,94336.0262578936,85771.01821861435,85771.01821861435,89503.55197476406,91619.19486907621,96056.33356599517,80959.58652737543,84672.38763651758,77293.25796642202,80267.63347129921,98276.23928801567,86527.28159004916,89319.02378278735,76625.64712654662,83226.3522514569],\"type\":\"scatter\"},{\"line\":{\"color\":\"#0000FF\"},\"name\":\"Dry Fc\",\"showlegend\":true,\"x\":[\"2022-07-18T00:00:00\",\"2022-07-19T00:00:00\",\"2022-07-20T00:00:00\",\"2022-07-22T00:00:00\",\"2022-07-25T00:00:00\",\"2022-07-26T00:00:00\",\"2022-07-27T00:00:00\",\"2022-07-28T00:00:00\",\"2022-07-29T00:00:00\",\"2022-08-01T00:00:00\",\"2022-08-02T00:00:00\",\"2022-08-03T00:00:00\",\"2022-08-04T00:00:00\",\"2022-08-05T00:00:00\",\"2022-08-08T00:00:00\",\"2022-08-09T00:00:00\",\"2022-08-10T00:00:00\",\"2022-08-11T00:00:00\",\"2022-08-12T00:00:00\",\"2022-08-16T00:00:00\",\"2022-08-17T00:00:00\",\"2022-08-18T00:00:00\",\"2022-08-19T00:00:00\",\"2022-08-22T00:00:00\",\"2022-08-23T00:00:00\",\"2022-08-24T00:00:00\",\"2022-08-25T00:00:00\",\"2022-08-26T00:00:00\",\"2022-08-29T00:00:00\",\"2022-08-30T00:00:00\",\"2022-08-31T00:00:00\",\"2022-09-01T00:00:00\",\"2022-09-02T00:00:00\",\"2022-09-05T00:00:00\",\"2022-09-06T00:00:00\",\"2022-09-07T00:00:00\",\"2022-09-08T00:00:00\",\"2022-09-09T00:00:00\",\"2022-09-12T00:00:00\",\"2022-09-13T00:00:00\",\"2022-09-14T00:00:00\",\"2022-09-15T00:00:00\",\"2022-09-16T00:00:00\",\"2022-09-19T00:00:00\",\"2022-09-20T00:00:00\",\"2022-09-21T00:00:00\",\"2022-09-22T00:00:00\",\"2022-09-23T00:00:00\",\"2022-09-26T00:00:00\",\"2022-09-27T00:00:00\",\"2022-09-28T00:00:00\",\"2022-09-29T00:00:00\",\"2022-09-30T00:00:00\",\"2022-10-03T00:00:00\",\"2022-10-04T00:00:00\",\"2022-10-05T00:00:00\",\"2022-10-06T00:00:00\",\"2022-10-07T00:00:00\",\"2022-10-10T00:00:00\",\"2022-10-11T00:00:00\",\"2022-10-12T00:00:00\",\"2022-10-13T00:00:00\",\"2022-10-14T00:00:00\",\"2022-10-17T00:00:00\",\"2022-10-18T00:00:00\",\"2022-10-19T00:00:00\",\"2022-10-20T00:00:00\",\"2022-10-21T00:00:00\",\"2022-10-24T00:00:00\",\"2022-10-25T00:00:00\",\"2022-10-26T00:00:00\",\"2022-10-27T00:00:00\",\"2022-10-28T00:00:00\",\"2022-10-31T00:00:00\",\"2022-11-02T00:00:00\",\"2022-11-03T00:00:00\",\"2022-11-04T00:00:00\",\"2022-11-07T00:00:00\",\"2022-11-08T00:00:00\",\"2022-11-09T00:00:00\",\"2022-11-10T00:00:00\",\"2022-11-14T00:00:00\",\"2022-11-15T00:00:00\",\"2022-11-16T00:00:00\",\"2022-11-17T00:00:00\",\"2022-11-18T00:00:00\",\"2022-11-21T00:00:00\",\"2022-11-22T00:00:00\",\"2022-11-23T00:00:00\",\"2022-11-24T00:00:00\",\"2022-11-25T00:00:00\",\"2022-11-28T00:00:00\",\"2022-11-29T00:00:00\",\"2022-11-30T00:00:00\",\"2022-12-01T00:00:00\",\"2022-12-02T00:00:00\",\"2022-12-05T00:00:00\",\"2022-12-06T00:00:00\",\"2022-12-07T00:00:00\",\"2022-12-08T00:00:00\",\"2022-12-09T00:00:00\",\"2022-12-12T00:00:00\",\"2022-12-13T00:00:00\",\"2022-12-14T00:00:00\",\"2022-12-15T00:00:00\",\"2022-12-16T00:00:00\",\"2022-12-19T00:00:00\",\"2022-12-20T00:00:00\",\"2022-12-21T00:00:00\",\"2022-12-22T00:00:00\",\"2022-12-23T00:00:00\",\"2022-12-26T00:00:00\",\"2022-12-27T00:00:00\",\"2022-12-28T00:00:00\",\"2022-12-29T00:00:00\",\"2022-12-30T00:00:00\"],\"y\":[76897.70000000001,54842.88,51537.0,40934.138000000006,79558.6,57297.6,51311.5,42490.34094491886,37918.776000000005,72018.44,52116.696,47162.88,38647.11,36305.332,70842.72,56265.8,46392.96,38016.3,35712.572,62413.176,49930.56,44729.46,42232.932,130029.5,61770.672,54262.56,49477.09,47141.066000000006,129172.8,64334.76,64955.84,54536.47,51232.328,108371.78,71969.568,72902.4,62486.74,50550.654,158526.0,68807.664,67241.76,56898.03,53821.796,94690.0,67428.0,66269.0,56179.0,49120.0,96356.70000000001,68614.08,67435.0,57168.147000000004,49984.69,102945.95000000001,67609.92,66448.0,56331.456,49253.078,103129.95000000001,73437.59999999999,67175.5,56186.71,53498.62,102477.1,72972.48,66718.5,55799.395000000004,53160.016,99840.95000000001,71095.68,64874.0,56235.639,51792.608,83700.0,122369.5,62373.57,93396.986,87129.35,130567.16,73808.0,107011.048,101431.55,72925.44,89377.5,94153.158,64551.78400000001,123021.62000000001,73439.0,73578.23999999999,62106.488999999994,54737.502,161687.0,79465.92,78236.16,66038.12899999999,57431.396,102602.0,68159.58,67104.48,56642.028999999995,49260.162000000004,127238.0,69614.575,68447.115,57965.376,50616.626000000004,80000.0,77948.45,76588.38,69316.352,56404.259000000005,95488.0,71459.26999999999,71916.31999999999,60346.34599999999,52203.888],\"type\":\"scatter\"},{\"line\":{\"color\":\"#00FF00\"},\"name\":\"Dry Actuals\",\"showlegend\":true,\"x\":[\"2022-07-18T00:00:00\",\"2022-07-19T00:00:00\",\"2022-07-20T00:00:00\",\"2022-07-22T00:00:00\",\"2022-07-25T00:00:00\",\"2022-07-26T00:00:00\",\"2022-07-27T00:00:00\",\"2022-07-28T00:00:00\",\"2022-07-29T00:00:00\",\"2022-08-01T00:00:00\",\"2022-08-02T00:00:00\",\"2022-08-03T00:00:00\",\"2022-08-04T00:00:00\",\"2022-08-05T00:00:00\",\"2022-08-08T00:00:00\",\"2022-08-09T00:00:00\",\"2022-08-10T00:00:00\",\"2022-08-11T00:00:00\",\"2022-08-12T00:00:00\",\"2022-08-16T00:00:00\",\"2022-08-17T00:00:00\",\"2022-08-18T00:00:00\",\"2022-08-19T00:00:00\",\"2022-08-22T00:00:00\",\"2022-08-23T00:00:00\",\"2022-08-24T00:00:00\",\"2022-08-25T00:00:00\",\"2022-08-26T00:00:00\",\"2022-08-29T00:00:00\",\"2022-08-30T00:00:00\",\"2022-08-31T00:00:00\",\"2022-09-01T00:00:00\",\"2022-09-02T00:00:00\",\"2022-09-05T00:00:00\",\"2022-09-06T00:00:00\",\"2022-09-07T00:00:00\",\"2022-09-08T00:00:00\",\"2022-09-09T00:00:00\",\"2022-09-12T00:00:00\",\"2022-09-13T00:00:00\",\"2022-09-14T00:00:00\",\"2022-09-15T00:00:00\",\"2022-09-16T00:00:00\",\"2022-09-19T00:00:00\",\"2022-09-20T00:00:00\",\"2022-09-21T00:00:00\",\"2022-09-22T00:00:00\",\"2022-09-23T00:00:00\",\"2022-09-26T00:00:00\",\"2022-09-27T00:00:00\",\"2022-09-28T00:00:00\",\"2022-09-29T00:00:00\",\"2022-09-30T00:00:00\",\"2022-10-03T00:00:00\",\"2022-10-04T00:00:00\",\"2022-10-05T00:00:00\",\"2022-10-06T00:00:00\",\"2022-10-07T00:00:00\",\"2022-10-10T00:00:00\",\"2022-10-11T00:00:00\",\"2022-10-12T00:00:00\",\"2022-10-13T00:00:00\",\"2022-10-14T00:00:00\",\"2022-10-17T00:00:00\",\"2022-10-18T00:00:00\",\"2022-10-19T00:00:00\",\"2022-10-20T00:00:00\",\"2022-10-21T00:00:00\",\"2022-10-24T00:00:00\",\"2022-10-25T00:00:00\",\"2022-10-26T00:00:00\",\"2022-10-27T00:00:00\",\"2022-10-28T00:00:00\",\"2022-10-31T00:00:00\",\"2022-11-02T00:00:00\",\"2022-11-03T00:00:00\",\"2022-11-04T00:00:00\",\"2022-11-07T00:00:00\",\"2022-11-08T00:00:00\",\"2022-11-09T00:00:00\",\"2022-11-10T00:00:00\",\"2022-11-14T00:00:00\",\"2022-11-15T00:00:00\",\"2022-11-16T00:00:00\",\"2022-11-17T00:00:00\",\"2022-11-18T00:00:00\",\"2022-11-21T00:00:00\",\"2022-11-22T00:00:00\",\"2022-11-23T00:00:00\",\"2022-11-24T00:00:00\",\"2022-11-25T00:00:00\",\"2022-11-28T00:00:00\",\"2022-11-29T00:00:00\",\"2022-11-30T00:00:00\",\"2022-12-01T00:00:00\",\"2022-12-02T00:00:00\",\"2022-12-05T00:00:00\",\"2022-12-06T00:00:00\",\"2022-12-07T00:00:00\",\"2022-12-08T00:00:00\",\"2022-12-09T00:00:00\",\"2022-12-12T00:00:00\",\"2022-12-13T00:00:00\",\"2022-12-14T00:00:00\",\"2022-12-15T00:00:00\",\"2022-12-16T00:00:00\",\"2022-12-19T00:00:00\",\"2022-12-20T00:00:00\",\"2022-12-21T00:00:00\",\"2022-12-22T00:00:00\",\"2022-12-23T00:00:00\",\"2022-12-26T00:00:00\",\"2022-12-27T00:00:00\",\"2022-12-28T00:00:00\",\"2022-12-29T00:00:00\",\"2022-12-30T00:00:00\"],\"y\":[67408.0,51655.0,53350.0,45843.0,78763.0,52702.0,42004.0,32949.0,45028.0,76669.0,55647.0,49693.0,36827.0,47440.0,70855.0,56805.0,47403.0,38883.0,39481.0,61049.0,59310.0,49368.0,61442.0,136882.0,61580.0,50038.0,48455.0,49353.0,131672.0,76713.0,65449.0,49272.0,57084.0,103097.0,73147.0,67905.0,56859.0,57735.0,164456.0,65782.0,59572.0,41459.0,51658.0,89514.0,70307.0,61766.0,41772.0,49116.0,94115.0,63565.0,71881.0,50620.0,53125.0,106538.0,72374.0,67128.0,59796.0,55493.0,103076.0,74521.0,60987.0,53184.0,54679.0,97073.0,70464.0,62003.0,50744.0,48111.0,89090.0,55399.0,61348.0,52311.0,49238.0,86280.0,122036.0,60848.0,94252.0,97285.0,189772.0,21742.0,94385.0,97817.0,69017.0,90926.0,84224.0,56027.0,112319.0,66169.0,68042.0,50627.0,49605.0,158821.0,70831.0,76542.0,67017.0,64654.0,94568.0,76287.0,63301.0,54256.0,52050.0,123475.0,68514.0,65979.0,56286.0,50336.0,76525.0,75921.0,58697.0,62334.0,55510.0,90911.0,63764.0,47680.0,39552.0,61119.0],\"type\":\"scatter\"},{\"line\":{\"color\":\"#000099\",\"dash\":\"dash\",\"width\":0.5},\"mode\":\"lines\",\"name\":\"Outside_range_Dry_WOW\",\"showlegend\":true,\"x\":[\"2022-07-18T00:00:00\",\"2022-07-18T00:00:00\"],\"y\":[21742.0,189772.0],\"type\":\"scatter\"},{\"line\":{\"color\":\"#000099\",\"dash\":\"dash\",\"width\":0.5},\"mode\":\"lines\",\"name\":\"Outside_range_Dry_WOW\",\"showlegend\":false,\"x\":[\"2022-07-22T00:00:00\",\"2022-07-22T00:00:00\"],\"y\":[21742.0,189772.0],\"type\":\"scatter\"},{\"line\":{\"color\":\"#000099\",\"dash\":\"dash\",\"width\":0.5},\"mode\":\"lines\",\"name\":\"Outside_range_Dry_WOW\",\"showlegend\":false,\"x\":[\"2022-07-27T00:00:00\",\"2022-07-27T00:00:00\"],\"y\":[21742.0,189772.0],\"type\":\"scatter\"},{\"line\":{\"color\":\"#000099\",\"dash\":\"dash\",\"width\":0.5},\"mode\":\"lines\",\"name\":\"Outside_range_Dry_WOW\",\"showlegend\":false,\"x\":[\"2022-07-28T00:00:00\",\"2022-07-28T00:00:00\"],\"y\":[21742.0,189772.0],\"type\":\"scatter\"},{\"line\":{\"color\":\"#000099\",\"dash\":\"dash\",\"width\":0.5},\"mode\":\"lines\",\"name\":\"Outside_range_Dry_WOW\",\"showlegend\":false,\"x\":[\"2022-07-29T00:00:00\",\"2022-07-29T00:00:00\"],\"y\":[21742.0,189772.0],\"type\":\"scatter\"},{\"line\":{\"color\":\"#000099\",\"dash\":\"dash\",\"width\":0.5},\"mode\":\"lines\",\"name\":\"Outside_range_Dry_WOW\",\"showlegend\":false,\"x\":[\"2022-08-05T00:00:00\",\"2022-08-05T00:00:00\"],\"y\":[21742.0,189772.0],\"type\":\"scatter\"},{\"line\":{\"color\":\"#000099\",\"dash\":\"dash\",\"width\":0.5},\"mode\":\"lines\",\"name\":\"Outside_range_Dry_WOW\",\"showlegend\":false,\"x\":[\"2022-08-17T00:00:00\",\"2022-08-17T00:00:00\"],\"y\":[21742.0,189772.0],\"type\":\"scatter\"},{\"line\":{\"color\":\"#000099\",\"dash\":\"dash\",\"width\":0.5},\"mode\":\"lines\",\"name\":\"Outside_range_Dry_WOW\",\"showlegend\":false,\"x\":[\"2022-08-19T00:00:00\",\"2022-08-19T00:00:00\"],\"y\":[21742.0,189772.0],\"type\":\"scatter\"},{\"line\":{\"color\":\"#000099\",\"dash\":\"dash\",\"width\":0.5},\"mode\":\"lines\",\"name\":\"Outside_range_Dry_WOW\",\"showlegend\":false,\"x\":[\"2022-08-30T00:00:00\",\"2022-08-30T00:00:00\"],\"y\":[21742.0,189772.0],\"type\":\"scatter\"},{\"line\":{\"color\":\"#000099\",\"dash\":\"dash\",\"width\":0.5},\"mode\":\"lines\",\"name\":\"Outside_range_Dry_WOW\",\"showlegend\":false,\"x\":[\"2022-09-01T00:00:00\",\"2022-09-01T00:00:00\"],\"y\":[21742.0,189772.0],\"type\":\"scatter\"},{\"line\":{\"color\":\"#000099\",\"dash\":\"dash\",\"width\":0.5},\"mode\":\"lines\",\"name\":\"Outside_range_Dry_WOW\",\"showlegend\":false,\"x\":[\"2022-09-02T00:00:00\",\"2022-09-02T00:00:00\"],\"y\":[21742.0,189772.0],\"type\":\"scatter\"},{\"line\":{\"color\":\"#000099\",\"dash\":\"dash\",\"width\":0.5},\"mode\":\"lines\",\"name\":\"Outside_range_Dry_WOW\",\"showlegend\":false,\"x\":[\"2022-09-09T00:00:00\",\"2022-09-09T00:00:00\"],\"y\":[21742.0,189772.0],\"type\":\"scatter\"},{\"line\":{\"color\":\"#000099\",\"dash\":\"dash\",\"width\":0.5},\"mode\":\"lines\",\"name\":\"Outside_range_Dry_WOW\",\"showlegend\":false,\"x\":[\"2022-09-14T00:00:00\",\"2022-09-14T00:00:00\"],\"y\":[21742.0,189772.0],\"type\":\"scatter\"},{\"line\":{\"color\":\"#000099\",\"dash\":\"dash\",\"width\":0.5},\"mode\":\"lines\",\"name\":\"Outside_range_Dry_WOW\",\"showlegend\":false,\"x\":[\"2022-09-15T00:00:00\",\"2022-09-15T00:00:00\"],\"y\":[21742.0,189772.0],\"type\":\"scatter\"},{\"line\":{\"color\":\"#000099\",\"dash\":\"dash\",\"width\":0.5},\"mode\":\"lines\",\"name\":\"Outside_range_Dry_WOW\",\"showlegend\":false,\"x\":[\"2022-09-22T00:00:00\",\"2022-09-22T00:00:00\"],\"y\":[21742.0,189772.0],\"type\":\"scatter\"},{\"line\":{\"color\":\"#000099\",\"dash\":\"dash\",\"width\":0.5},\"mode\":\"lines\",\"name\":\"Outside_range_Dry_WOW\",\"showlegend\":false,\"x\":[\"2022-09-29T00:00:00\",\"2022-09-29T00:00:00\"],\"y\":[21742.0,189772.0],\"type\":\"scatter\"},{\"line\":{\"color\":\"#000099\",\"dash\":\"dash\",\"width\":0.5},\"mode\":\"lines\",\"name\":\"Outside_range_Dry_WOW\",\"showlegend\":false,\"x\":[\"2022-10-07T00:00:00\",\"2022-10-07T00:00:00\"],\"y\":[21742.0,189772.0],\"type\":\"scatter\"},{\"line\":{\"color\":\"#000099\",\"dash\":\"dash\",\"width\":0.5},\"mode\":\"lines\",\"name\":\"Outside_range_Dry_WOW\",\"showlegend\":false,\"x\":[\"2022-10-12T00:00:00\",\"2022-10-12T00:00:00\"],\"y\":[21742.0,189772.0],\"type\":\"scatter\"},{\"line\":{\"color\":\"#000099\",\"dash\":\"dash\",\"width\":0.5},\"mode\":\"lines\",\"name\":\"Outside_range_Dry_WOW\",\"showlegend\":false,\"x\":[\"2022-10-21T00:00:00\",\"2022-10-21T00:00:00\"],\"y\":[21742.0,189772.0],\"type\":\"scatter\"},{\"line\":{\"color\":\"#000099\",\"dash\":\"dash\",\"width\":0.5},\"mode\":\"lines\",\"name\":\"Outside_range_Dry_WOW\",\"showlegend\":false,\"x\":[\"2022-10-24T00:00:00\",\"2022-10-24T00:00:00\"],\"y\":[21742.0,189772.0],\"type\":\"scatter\"},{\"line\":{\"color\":\"#000099\",\"dash\":\"dash\",\"width\":0.5},\"mode\":\"lines\",\"name\":\"Outside_range_Dry_WOW\",\"showlegend\":false,\"x\":[\"2022-10-25T00:00:00\",\"2022-10-25T00:00:00\"],\"y\":[21742.0,189772.0],\"type\":\"scatter\"},{\"line\":{\"color\":\"#000099\",\"dash\":\"dash\",\"width\":0.5},\"mode\":\"lines\",\"name\":\"Outside_range_Dry_WOW\",\"showlegend\":false,\"x\":[\"2022-11-07T00:00:00\",\"2022-11-07T00:00:00\"],\"y\":[21742.0,189772.0],\"type\":\"scatter\"},{\"line\":{\"color\":\"#000099\",\"dash\":\"dash\",\"width\":0.5},\"mode\":\"lines\",\"name\":\"Outside_range_Dry_WOW\",\"showlegend\":false,\"x\":[\"2022-11-08T00:00:00\",\"2022-11-08T00:00:00\"],\"y\":[21742.0,189772.0],\"type\":\"scatter\"},{\"line\":{\"color\":\"#000099\",\"dash\":\"dash\",\"width\":0.5},\"mode\":\"lines\",\"name\":\"Outside_range_Dry_WOW\",\"showlegend\":false,\"x\":[\"2022-11-09T00:00:00\",\"2022-11-09T00:00:00\"],\"y\":[21742.0,189772.0],\"type\":\"scatter\"},{\"line\":{\"color\":\"#000099\",\"dash\":\"dash\",\"width\":0.5},\"mode\":\"lines\",\"name\":\"Outside_range_Dry_WOW\",\"showlegend\":false,\"x\":[\"2022-11-10T00:00:00\",\"2022-11-10T00:00:00\"],\"y\":[21742.0,189772.0],\"type\":\"scatter\"},{\"line\":{\"color\":\"#000099\",\"dash\":\"dash\",\"width\":0.5},\"mode\":\"lines\",\"name\":\"Outside_range_Dry_WOW\",\"showlegend\":false,\"x\":[\"2022-11-17T00:00:00\",\"2022-11-17T00:00:00\"],\"y\":[21742.0,189772.0],\"type\":\"scatter\"},{\"line\":{\"color\":\"#000099\",\"dash\":\"dash\",\"width\":0.5},\"mode\":\"lines\",\"name\":\"Outside_range_Dry_WOW\",\"showlegend\":false,\"x\":[\"2022-11-18T00:00:00\",\"2022-11-18T00:00:00\"],\"y\":[21742.0,189772.0],\"type\":\"scatter\"},{\"line\":{\"color\":\"#000099\",\"dash\":\"dash\",\"width\":0.5},\"mode\":\"lines\",\"name\":\"Outside_range_Dry_WOW\",\"showlegend\":false,\"x\":[\"2022-11-22T00:00:00\",\"2022-11-22T00:00:00\"],\"y\":[21742.0,189772.0],\"type\":\"scatter\"},{\"line\":{\"color\":\"#000099\",\"dash\":\"dash\",\"width\":0.5},\"mode\":\"lines\",\"name\":\"Outside_range_Dry_WOW\",\"showlegend\":false,\"x\":[\"2022-11-24T00:00:00\",\"2022-11-24T00:00:00\"],\"y\":[21742.0,189772.0],\"type\":\"scatter\"},{\"line\":{\"color\":\"#000099\",\"dash\":\"dash\",\"width\":0.5},\"mode\":\"lines\",\"name\":\"Outside_range_Dry_WOW\",\"showlegend\":false,\"x\":[\"2022-11-25T00:00:00\",\"2022-11-25T00:00:00\"],\"y\":[21742.0,189772.0],\"type\":\"scatter\"},{\"line\":{\"color\":\"#000099\",\"dash\":\"dash\",\"width\":0.5},\"mode\":\"lines\",\"name\":\"Outside_range_Dry_WOW\",\"showlegend\":false,\"x\":[\"2022-11-29T00:00:00\",\"2022-11-29T00:00:00\"],\"y\":[21742.0,189772.0],\"type\":\"scatter\"},{\"line\":{\"color\":\"#000099\",\"dash\":\"dash\",\"width\":0.5},\"mode\":\"lines\",\"name\":\"Outside_range_Dry_WOW\",\"showlegend\":false,\"x\":[\"2022-12-02T00:00:00\",\"2022-12-02T00:00:00\"],\"y\":[21742.0,189772.0],\"type\":\"scatter\"},{\"line\":{\"color\":\"#000099\",\"dash\":\"dash\",\"width\":0.5},\"mode\":\"lines\",\"name\":\"Outside_range_Dry_WOW\",\"showlegend\":false,\"x\":[\"2022-12-06T00:00:00\",\"2022-12-06T00:00:00\"],\"y\":[21742.0,189772.0],\"type\":\"scatter\"},{\"line\":{\"color\":\"#000099\",\"dash\":\"dash\",\"width\":0.5},\"mode\":\"lines\",\"name\":\"Outside_range_Dry_WOW\",\"showlegend\":false,\"x\":[\"2022-12-21T00:00:00\",\"2022-12-21T00:00:00\"],\"y\":[21742.0,189772.0],\"type\":\"scatter\"},{\"line\":{\"color\":\"#000099\",\"dash\":\"dash\",\"width\":0.5},\"mode\":\"lines\",\"name\":\"Outside_range_Dry_WOW\",\"showlegend\":false,\"x\":[\"2022-12-22T00:00:00\",\"2022-12-22T00:00:00\"],\"y\":[21742.0,189772.0],\"type\":\"scatter\"},{\"line\":{\"color\":\"#000099\",\"dash\":\"dash\",\"width\":0.5},\"mode\":\"lines\",\"name\":\"Outside_range_Dry_WOW\",\"showlegend\":false,\"x\":[\"2022-12-27T00:00:00\",\"2022-12-27T00:00:00\"],\"y\":[21742.0,189772.0],\"type\":\"scatter\"},{\"line\":{\"color\":\"#000099\",\"dash\":\"dash\",\"width\":0.5},\"mode\":\"lines\",\"name\":\"Outside_range_Dry_WOW\",\"showlegend\":false,\"x\":[\"2022-12-28T00:00:00\",\"2022-12-28T00:00:00\"],\"y\":[21742.0,189772.0],\"type\":\"scatter\"},{\"line\":{\"color\":\"#000099\",\"dash\":\"dash\",\"width\":0.5},\"mode\":\"lines\",\"name\":\"Outside_range_Dry_WOW\",\"showlegend\":false,\"x\":[\"2022-12-29T00:00:00\",\"2022-12-29T00:00:00\"],\"y\":[21742.0,189772.0],\"type\":\"scatter\"},{\"line\":{\"color\":\"#000099\",\"dash\":\"dash\",\"width\":0.5},\"mode\":\"lines\",\"name\":\"Outside_range_Dry_WOW\",\"showlegend\":false,\"x\":[\"2022-12-30T00:00:00\",\"2022-12-30T00:00:00\"],\"y\":[21742.0,189772.0],\"type\":\"scatter\"},{\"line\":{\"color\":\"#990000\",\"dash\":\"dash\",\"width\":0.5},\"mode\":\"lines\",\"name\":\"Outside_range_Dry_LGBM\",\"showlegend\":true,\"x\":[\"2022-07-18T00:00:00\",\"2022-07-18T00:00:00\"],\"y\":[21742.0,189772.0],\"type\":\"scatter\"},{\"line\":{\"color\":\"#990000\",\"dash\":\"dash\",\"width\":0.5},\"mode\":\"lines\",\"name\":\"Outside_range_Dry_LGBM\",\"showlegend\":false,\"x\":[\"2022-07-19T00:00:00\",\"2022-07-19T00:00:00\"],\"y\":[21742.0,189772.0],\"type\":\"scatter\"},{\"line\":{\"color\":\"#990000\",\"dash\":\"dash\",\"width\":0.5},\"mode\":\"lines\",\"name\":\"Outside_range_Dry_LGBM\",\"showlegend\":false,\"x\":[\"2022-07-20T00:00:00\",\"2022-07-20T00:00:00\"],\"y\":[21742.0,189772.0],\"type\":\"scatter\"},{\"line\":{\"color\":\"#990000\",\"dash\":\"dash\",\"width\":0.5},\"mode\":\"lines\",\"name\":\"Outside_range_Dry_LGBM\",\"showlegend\":false,\"x\":[\"2022-07-22T00:00:00\",\"2022-07-22T00:00:00\"],\"y\":[21742.0,189772.0],\"type\":\"scatter\"},{\"line\":{\"color\":\"#990000\",\"dash\":\"dash\",\"width\":0.5},\"mode\":\"lines\",\"name\":\"Outside_range_Dry_LGBM\",\"showlegend\":false,\"x\":[\"2022-07-25T00:00:00\",\"2022-07-25T00:00:00\"],\"y\":[21742.0,189772.0],\"type\":\"scatter\"},{\"line\":{\"color\":\"#990000\",\"dash\":\"dash\",\"width\":0.5},\"mode\":\"lines\",\"name\":\"Outside_range_Dry_LGBM\",\"showlegend\":false,\"x\":[\"2022-07-26T00:00:00\",\"2022-07-26T00:00:00\"],\"y\":[21742.0,189772.0],\"type\":\"scatter\"},{\"line\":{\"color\":\"#990000\",\"dash\":\"dash\",\"width\":0.5},\"mode\":\"lines\",\"name\":\"Outside_range_Dry_LGBM\",\"showlegend\":false,\"x\":[\"2022-07-27T00:00:00\",\"2022-07-27T00:00:00\"],\"y\":[21742.0,189772.0],\"type\":\"scatter\"},{\"line\":{\"color\":\"#990000\",\"dash\":\"dash\",\"width\":0.5},\"mode\":\"lines\",\"name\":\"Outside_range_Dry_LGBM\",\"showlegend\":false,\"x\":[\"2022-07-28T00:00:00\",\"2022-07-28T00:00:00\"],\"y\":[21742.0,189772.0],\"type\":\"scatter\"},{\"line\":{\"color\":\"#990000\",\"dash\":\"dash\",\"width\":0.5},\"mode\":\"lines\",\"name\":\"Outside_range_Dry_LGBM\",\"showlegend\":false,\"x\":[\"2022-07-29T00:00:00\",\"2022-07-29T00:00:00\"],\"y\":[21742.0,189772.0],\"type\":\"scatter\"},{\"line\":{\"color\":\"#990000\",\"dash\":\"dash\",\"width\":0.5},\"mode\":\"lines\",\"name\":\"Outside_range_Dry_LGBM\",\"showlegend\":false,\"x\":[\"2022-08-01T00:00:00\",\"2022-08-01T00:00:00\"],\"y\":[21742.0,189772.0],\"type\":\"scatter\"},{\"line\":{\"color\":\"#990000\",\"dash\":\"dash\",\"width\":0.5},\"mode\":\"lines\",\"name\":\"Outside_range_Dry_LGBM\",\"showlegend\":false,\"x\":[\"2022-08-02T00:00:00\",\"2022-08-02T00:00:00\"],\"y\":[21742.0,189772.0],\"type\":\"scatter\"},{\"line\":{\"color\":\"#990000\",\"dash\":\"dash\",\"width\":0.5},\"mode\":\"lines\",\"name\":\"Outside_range_Dry_LGBM\",\"showlegend\":false,\"x\":[\"2022-08-03T00:00:00\",\"2022-08-03T00:00:00\"],\"y\":[21742.0,189772.0],\"type\":\"scatter\"},{\"line\":{\"color\":\"#990000\",\"dash\":\"dash\",\"width\":0.5},\"mode\":\"lines\",\"name\":\"Outside_range_Dry_LGBM\",\"showlegend\":false,\"x\":[\"2022-08-04T00:00:00\",\"2022-08-04T00:00:00\"],\"y\":[21742.0,189772.0],\"type\":\"scatter\"},{\"line\":{\"color\":\"#990000\",\"dash\":\"dash\",\"width\":0.5},\"mode\":\"lines\",\"name\":\"Outside_range_Dry_LGBM\",\"showlegend\":false,\"x\":[\"2022-08-05T00:00:00\",\"2022-08-05T00:00:00\"],\"y\":[21742.0,189772.0],\"type\":\"scatter\"},{\"line\":{\"color\":\"#990000\",\"dash\":\"dash\",\"width\":0.5},\"mode\":\"lines\",\"name\":\"Outside_range_Dry_LGBM\",\"showlegend\":false,\"x\":[\"2022-08-08T00:00:00\",\"2022-08-08T00:00:00\"],\"y\":[21742.0,189772.0],\"type\":\"scatter\"},{\"line\":{\"color\":\"#990000\",\"dash\":\"dash\",\"width\":0.5},\"mode\":\"lines\",\"name\":\"Outside_range_Dry_LGBM\",\"showlegend\":false,\"x\":[\"2022-08-09T00:00:00\",\"2022-08-09T00:00:00\"],\"y\":[21742.0,189772.0],\"type\":\"scatter\"},{\"line\":{\"color\":\"#990000\",\"dash\":\"dash\",\"width\":0.5},\"mode\":\"lines\",\"name\":\"Outside_range_Dry_LGBM\",\"showlegend\":false,\"x\":[\"2022-08-10T00:00:00\",\"2022-08-10T00:00:00\"],\"y\":[21742.0,189772.0],\"type\":\"scatter\"},{\"line\":{\"color\":\"#990000\",\"dash\":\"dash\",\"width\":0.5},\"mode\":\"lines\",\"name\":\"Outside_range_Dry_LGBM\",\"showlegend\":false,\"x\":[\"2022-08-11T00:00:00\",\"2022-08-11T00:00:00\"],\"y\":[21742.0,189772.0],\"type\":\"scatter\"},{\"line\":{\"color\":\"#990000\",\"dash\":\"dash\",\"width\":0.5},\"mode\":\"lines\",\"name\":\"Outside_range_Dry_LGBM\",\"showlegend\":false,\"x\":[\"2022-08-12T00:00:00\",\"2022-08-12T00:00:00\"],\"y\":[21742.0,189772.0],\"type\":\"scatter\"},{\"line\":{\"color\":\"#990000\",\"dash\":\"dash\",\"width\":0.5},\"mode\":\"lines\",\"name\":\"Outside_range_Dry_LGBM\",\"showlegend\":false,\"x\":[\"2022-08-16T00:00:00\",\"2022-08-16T00:00:00\"],\"y\":[21742.0,189772.0],\"type\":\"scatter\"},{\"line\":{\"color\":\"#990000\",\"dash\":\"dash\",\"width\":0.5},\"mode\":\"lines\",\"name\":\"Outside_range_Dry_LGBM\",\"showlegend\":false,\"x\":[\"2022-08-17T00:00:00\",\"2022-08-17T00:00:00\"],\"y\":[21742.0,189772.0],\"type\":\"scatter\"},{\"line\":{\"color\":\"#990000\",\"dash\":\"dash\",\"width\":0.5},\"mode\":\"lines\",\"name\":\"Outside_range_Dry_LGBM\",\"showlegend\":false,\"x\":[\"2022-08-18T00:00:00\",\"2022-08-18T00:00:00\"],\"y\":[21742.0,189772.0],\"type\":\"scatter\"},{\"line\":{\"color\":\"#990000\",\"dash\":\"dash\",\"width\":0.5},\"mode\":\"lines\",\"name\":\"Outside_range_Dry_LGBM\",\"showlegend\":false,\"x\":[\"2022-08-19T00:00:00\",\"2022-08-19T00:00:00\"],\"y\":[21742.0,189772.0],\"type\":\"scatter\"},{\"line\":{\"color\":\"#990000\",\"dash\":\"dash\",\"width\":0.5},\"mode\":\"lines\",\"name\":\"Outside_range_Dry_LGBM\",\"showlegend\":false,\"x\":[\"2022-08-22T00:00:00\",\"2022-08-22T00:00:00\"],\"y\":[21742.0,189772.0],\"type\":\"scatter\"},{\"line\":{\"color\":\"#990000\",\"dash\":\"dash\",\"width\":0.5},\"mode\":\"lines\",\"name\":\"Outside_range_Dry_LGBM\",\"showlegend\":false,\"x\":[\"2022-08-23T00:00:00\",\"2022-08-23T00:00:00\"],\"y\":[21742.0,189772.0],\"type\":\"scatter\"},{\"line\":{\"color\":\"#990000\",\"dash\":\"dash\",\"width\":0.5},\"mode\":\"lines\",\"name\":\"Outside_range_Dry_LGBM\",\"showlegend\":false,\"x\":[\"2022-08-24T00:00:00\",\"2022-08-24T00:00:00\"],\"y\":[21742.0,189772.0],\"type\":\"scatter\"},{\"line\":{\"color\":\"#990000\",\"dash\":\"dash\",\"width\":0.5},\"mode\":\"lines\",\"name\":\"Outside_range_Dry_LGBM\",\"showlegend\":false,\"x\":[\"2022-08-25T00:00:00\",\"2022-08-25T00:00:00\"],\"y\":[21742.0,189772.0],\"type\":\"scatter\"},{\"line\":{\"color\":\"#990000\",\"dash\":\"dash\",\"width\":0.5},\"mode\":\"lines\",\"name\":\"Outside_range_Dry_LGBM\",\"showlegend\":false,\"x\":[\"2022-08-26T00:00:00\",\"2022-08-26T00:00:00\"],\"y\":[21742.0,189772.0],\"type\":\"scatter\"},{\"line\":{\"color\":\"#990000\",\"dash\":\"dash\",\"width\":0.5},\"mode\":\"lines\",\"name\":\"Outside_range_Dry_LGBM\",\"showlegend\":false,\"x\":[\"2022-08-29T00:00:00\",\"2022-08-29T00:00:00\"],\"y\":[21742.0,189772.0],\"type\":\"scatter\"},{\"line\":{\"color\":\"#990000\",\"dash\":\"dash\",\"width\":0.5},\"mode\":\"lines\",\"name\":\"Outside_range_Dry_LGBM\",\"showlegend\":false,\"x\":[\"2022-08-31T00:00:00\",\"2022-08-31T00:00:00\"],\"y\":[21742.0,189772.0],\"type\":\"scatter\"},{\"line\":{\"color\":\"#990000\",\"dash\":\"dash\",\"width\":0.5},\"mode\":\"lines\",\"name\":\"Outside_range_Dry_LGBM\",\"showlegend\":false,\"x\":[\"2022-09-01T00:00:00\",\"2022-09-01T00:00:00\"],\"y\":[21742.0,189772.0],\"type\":\"scatter\"},{\"line\":{\"color\":\"#990000\",\"dash\":\"dash\",\"width\":0.5},\"mode\":\"lines\",\"name\":\"Outside_range_Dry_LGBM\",\"showlegend\":false,\"x\":[\"2022-09-02T00:00:00\",\"2022-09-02T00:00:00\"],\"y\":[21742.0,189772.0],\"type\":\"scatter\"},{\"line\":{\"color\":\"#990000\",\"dash\":\"dash\",\"width\":0.5},\"mode\":\"lines\",\"name\":\"Outside_range_Dry_LGBM\",\"showlegend\":false,\"x\":[\"2022-09-05T00:00:00\",\"2022-09-05T00:00:00\"],\"y\":[21742.0,189772.0],\"type\":\"scatter\"},{\"line\":{\"color\":\"#990000\",\"dash\":\"dash\",\"width\":0.5},\"mode\":\"lines\",\"name\":\"Outside_range_Dry_LGBM\",\"showlegend\":false,\"x\":[\"2022-09-06T00:00:00\",\"2022-09-06T00:00:00\"],\"y\":[21742.0,189772.0],\"type\":\"scatter\"},{\"line\":{\"color\":\"#990000\",\"dash\":\"dash\",\"width\":0.5},\"mode\":\"lines\",\"name\":\"Outside_range_Dry_LGBM\",\"showlegend\":false,\"x\":[\"2022-09-07T00:00:00\",\"2022-09-07T00:00:00\"],\"y\":[21742.0,189772.0],\"type\":\"scatter\"},{\"line\":{\"color\":\"#990000\",\"dash\":\"dash\",\"width\":0.5},\"mode\":\"lines\",\"name\":\"Outside_range_Dry_LGBM\",\"showlegend\":false,\"x\":[\"2022-09-08T00:00:00\",\"2022-09-08T00:00:00\"],\"y\":[21742.0,189772.0],\"type\":\"scatter\"},{\"line\":{\"color\":\"#990000\",\"dash\":\"dash\",\"width\":0.5},\"mode\":\"lines\",\"name\":\"Outside_range_Dry_LGBM\",\"showlegend\":false,\"x\":[\"2022-09-09T00:00:00\",\"2022-09-09T00:00:00\"],\"y\":[21742.0,189772.0],\"type\":\"scatter\"},{\"line\":{\"color\":\"#990000\",\"dash\":\"dash\",\"width\":0.5},\"mode\":\"lines\",\"name\":\"Outside_range_Dry_LGBM\",\"showlegend\":false,\"x\":[\"2022-09-12T00:00:00\",\"2022-09-12T00:00:00\"],\"y\":[21742.0,189772.0],\"type\":\"scatter\"},{\"line\":{\"color\":\"#990000\",\"dash\":\"dash\",\"width\":0.5},\"mode\":\"lines\",\"name\":\"Outside_range_Dry_LGBM\",\"showlegend\":false,\"x\":[\"2022-09-13T00:00:00\",\"2022-09-13T00:00:00\"],\"y\":[21742.0,189772.0],\"type\":\"scatter\"},{\"line\":{\"color\":\"#990000\",\"dash\":\"dash\",\"width\":0.5},\"mode\":\"lines\",\"name\":\"Outside_range_Dry_LGBM\",\"showlegend\":false,\"x\":[\"2022-09-14T00:00:00\",\"2022-09-14T00:00:00\"],\"y\":[21742.0,189772.0],\"type\":\"scatter\"},{\"line\":{\"color\":\"#990000\",\"dash\":\"dash\",\"width\":0.5},\"mode\":\"lines\",\"name\":\"Outside_range_Dry_LGBM\",\"showlegend\":false,\"x\":[\"2022-09-15T00:00:00\",\"2022-09-15T00:00:00\"],\"y\":[21742.0,189772.0],\"type\":\"scatter\"},{\"line\":{\"color\":\"#990000\",\"dash\":\"dash\",\"width\":0.5},\"mode\":\"lines\",\"name\":\"Outside_range_Dry_LGBM\",\"showlegend\":false,\"x\":[\"2022-09-16T00:00:00\",\"2022-09-16T00:00:00\"],\"y\":[21742.0,189772.0],\"type\":\"scatter\"},{\"line\":{\"color\":\"#990000\",\"dash\":\"dash\",\"width\":0.5},\"mode\":\"lines\",\"name\":\"Outside_range_Dry_LGBM\",\"showlegend\":false,\"x\":[\"2022-09-19T00:00:00\",\"2022-09-19T00:00:00\"],\"y\":[21742.0,189772.0],\"type\":\"scatter\"},{\"line\":{\"color\":\"#990000\",\"dash\":\"dash\",\"width\":0.5},\"mode\":\"lines\",\"name\":\"Outside_range_Dry_LGBM\",\"showlegend\":false,\"x\":[\"2022-09-20T00:00:00\",\"2022-09-20T00:00:00\"],\"y\":[21742.0,189772.0],\"type\":\"scatter\"},{\"line\":{\"color\":\"#990000\",\"dash\":\"dash\",\"width\":0.5},\"mode\":\"lines\",\"name\":\"Outside_range_Dry_LGBM\",\"showlegend\":false,\"x\":[\"2022-09-21T00:00:00\",\"2022-09-21T00:00:00\"],\"y\":[21742.0,189772.0],\"type\":\"scatter\"},{\"line\":{\"color\":\"#990000\",\"dash\":\"dash\",\"width\":0.5},\"mode\":\"lines\",\"name\":\"Outside_range_Dry_LGBM\",\"showlegend\":false,\"x\":[\"2022-09-22T00:00:00\",\"2022-09-22T00:00:00\"],\"y\":[21742.0,189772.0],\"type\":\"scatter\"},{\"line\":{\"color\":\"#990000\",\"dash\":\"dash\",\"width\":0.5},\"mode\":\"lines\",\"name\":\"Outside_range_Dry_LGBM\",\"showlegend\":false,\"x\":[\"2022-09-23T00:00:00\",\"2022-09-23T00:00:00\"],\"y\":[21742.0,189772.0],\"type\":\"scatter\"},{\"line\":{\"color\":\"#990000\",\"dash\":\"dash\",\"width\":0.5},\"mode\":\"lines\",\"name\":\"Outside_range_Dry_LGBM\",\"showlegend\":false,\"x\":[\"2022-09-27T00:00:00\",\"2022-09-27T00:00:00\"],\"y\":[21742.0,189772.0],\"type\":\"scatter\"},{\"line\":{\"color\":\"#990000\",\"dash\":\"dash\",\"width\":0.5},\"mode\":\"lines\",\"name\":\"Outside_range_Dry_LGBM\",\"showlegend\":false,\"x\":[\"2022-09-28T00:00:00\",\"2022-09-28T00:00:00\"],\"y\":[21742.0,189772.0],\"type\":\"scatter\"},{\"line\":{\"color\":\"#990000\",\"dash\":\"dash\",\"width\":0.5},\"mode\":\"lines\",\"name\":\"Outside_range_Dry_LGBM\",\"showlegend\":false,\"x\":[\"2022-09-29T00:00:00\",\"2022-09-29T00:00:00\"],\"y\":[21742.0,189772.0],\"type\":\"scatter\"},{\"line\":{\"color\":\"#990000\",\"dash\":\"dash\",\"width\":0.5},\"mode\":\"lines\",\"name\":\"Outside_range_Dry_LGBM\",\"showlegend\":false,\"x\":[\"2022-09-30T00:00:00\",\"2022-09-30T00:00:00\"],\"y\":[21742.0,189772.0],\"type\":\"scatter\"},{\"line\":{\"color\":\"#990000\",\"dash\":\"dash\",\"width\":0.5},\"mode\":\"lines\",\"name\":\"Outside_range_Dry_LGBM\",\"showlegend\":false,\"x\":[\"2022-10-04T00:00:00\",\"2022-10-04T00:00:00\"],\"y\":[21742.0,189772.0],\"type\":\"scatter\"},{\"line\":{\"color\":\"#990000\",\"dash\":\"dash\",\"width\":0.5},\"mode\":\"lines\",\"name\":\"Outside_range_Dry_LGBM\",\"showlegend\":false,\"x\":[\"2022-10-05T00:00:00\",\"2022-10-05T00:00:00\"],\"y\":[21742.0,189772.0],\"type\":\"scatter\"},{\"line\":{\"color\":\"#990000\",\"dash\":\"dash\",\"width\":0.5},\"mode\":\"lines\",\"name\":\"Outside_range_Dry_LGBM\",\"showlegend\":false,\"x\":[\"2022-10-06T00:00:00\",\"2022-10-06T00:00:00\"],\"y\":[21742.0,189772.0],\"type\":\"scatter\"},{\"line\":{\"color\":\"#990000\",\"dash\":\"dash\",\"width\":0.5},\"mode\":\"lines\",\"name\":\"Outside_range_Dry_LGBM\",\"showlegend\":false,\"x\":[\"2022-10-07T00:00:00\",\"2022-10-07T00:00:00\"],\"y\":[21742.0,189772.0],\"type\":\"scatter\"},{\"line\":{\"color\":\"#990000\",\"dash\":\"dash\",\"width\":0.5},\"mode\":\"lines\",\"name\":\"Outside_range_Dry_LGBM\",\"showlegend\":false,\"x\":[\"2022-10-11T00:00:00\",\"2022-10-11T00:00:00\"],\"y\":[21742.0,189772.0],\"type\":\"scatter\"},{\"line\":{\"color\":\"#990000\",\"dash\":\"dash\",\"width\":0.5},\"mode\":\"lines\",\"name\":\"Outside_range_Dry_LGBM\",\"showlegend\":false,\"x\":[\"2022-10-12T00:00:00\",\"2022-10-12T00:00:00\"],\"y\":[21742.0,189772.0],\"type\":\"scatter\"},{\"line\":{\"color\":\"#990000\",\"dash\":\"dash\",\"width\":0.5},\"mode\":\"lines\",\"name\":\"Outside_range_Dry_LGBM\",\"showlegend\":false,\"x\":[\"2022-10-13T00:00:00\",\"2022-10-13T00:00:00\"],\"y\":[21742.0,189772.0],\"type\":\"scatter\"},{\"line\":{\"color\":\"#990000\",\"dash\":\"dash\",\"width\":0.5},\"mode\":\"lines\",\"name\":\"Outside_range_Dry_LGBM\",\"showlegend\":false,\"x\":[\"2022-10-14T00:00:00\",\"2022-10-14T00:00:00\"],\"y\":[21742.0,189772.0],\"type\":\"scatter\"},{\"line\":{\"color\":\"#990000\",\"dash\":\"dash\",\"width\":0.5},\"mode\":\"lines\",\"name\":\"Outside_range_Dry_LGBM\",\"showlegend\":false,\"x\":[\"2022-10-18T00:00:00\",\"2022-10-18T00:00:00\"],\"y\":[21742.0,189772.0],\"type\":\"scatter\"},{\"line\":{\"color\":\"#990000\",\"dash\":\"dash\",\"width\":0.5},\"mode\":\"lines\",\"name\":\"Outside_range_Dry_LGBM\",\"showlegend\":false,\"x\":[\"2022-10-19T00:00:00\",\"2022-10-19T00:00:00\"],\"y\":[21742.0,189772.0],\"type\":\"scatter\"},{\"line\":{\"color\":\"#990000\",\"dash\":\"dash\",\"width\":0.5},\"mode\":\"lines\",\"name\":\"Outside_range_Dry_LGBM\",\"showlegend\":false,\"x\":[\"2022-10-20T00:00:00\",\"2022-10-20T00:00:00\"],\"y\":[21742.0,189772.0],\"type\":\"scatter\"},{\"line\":{\"color\":\"#990000\",\"dash\":\"dash\",\"width\":0.5},\"mode\":\"lines\",\"name\":\"Outside_range_Dry_LGBM\",\"showlegend\":false,\"x\":[\"2022-10-21T00:00:00\",\"2022-10-21T00:00:00\"],\"y\":[21742.0,189772.0],\"type\":\"scatter\"},{\"line\":{\"color\":\"#990000\",\"dash\":\"dash\",\"width\":0.5},\"mode\":\"lines\",\"name\":\"Outside_range_Dry_LGBM\",\"showlegend\":false,\"x\":[\"2022-10-24T00:00:00\",\"2022-10-24T00:00:00\"],\"y\":[21742.0,189772.0],\"type\":\"scatter\"},{\"line\":{\"color\":\"#990000\",\"dash\":\"dash\",\"width\":0.5},\"mode\":\"lines\",\"name\":\"Outside_range_Dry_LGBM\",\"showlegend\":false,\"x\":[\"2022-10-25T00:00:00\",\"2022-10-25T00:00:00\"],\"y\":[21742.0,189772.0],\"type\":\"scatter\"},{\"line\":{\"color\":\"#990000\",\"dash\":\"dash\",\"width\":0.5},\"mode\":\"lines\",\"name\":\"Outside_range_Dry_LGBM\",\"showlegend\":false,\"x\":[\"2022-10-26T00:00:00\",\"2022-10-26T00:00:00\"],\"y\":[21742.0,189772.0],\"type\":\"scatter\"},{\"line\":{\"color\":\"#990000\",\"dash\":\"dash\",\"width\":0.5},\"mode\":\"lines\",\"name\":\"Outside_range_Dry_LGBM\",\"showlegend\":false,\"x\":[\"2022-10-27T00:00:00\",\"2022-10-27T00:00:00\"],\"y\":[21742.0,189772.0],\"type\":\"scatter\"},{\"line\":{\"color\":\"#990000\",\"dash\":\"dash\",\"width\":0.5},\"mode\":\"lines\",\"name\":\"Outside_range_Dry_LGBM\",\"showlegend\":false,\"x\":[\"2022-10-28T00:00:00\",\"2022-10-28T00:00:00\"],\"y\":[21742.0,189772.0],\"type\":\"scatter\"},{\"line\":{\"color\":\"#990000\",\"dash\":\"dash\",\"width\":0.5},\"mode\":\"lines\",\"name\":\"Outside_range_Dry_LGBM\",\"showlegend\":false,\"x\":[\"2022-10-31T00:00:00\",\"2022-10-31T00:00:00\"],\"y\":[21742.0,189772.0],\"type\":\"scatter\"},{\"line\":{\"color\":\"#990000\",\"dash\":\"dash\",\"width\":0.5},\"mode\":\"lines\",\"name\":\"Outside_range_Dry_LGBM\",\"showlegend\":false,\"x\":[\"2022-11-02T00:00:00\",\"2022-11-02T00:00:00\"],\"y\":[21742.0,189772.0],\"type\":\"scatter\"},{\"line\":{\"color\":\"#990000\",\"dash\":\"dash\",\"width\":0.5},\"mode\":\"lines\",\"name\":\"Outside_range_Dry_LGBM\",\"showlegend\":false,\"x\":[\"2022-11-03T00:00:00\",\"2022-11-03T00:00:00\"],\"y\":[21742.0,189772.0],\"type\":\"scatter\"},{\"line\":{\"color\":\"#990000\",\"dash\":\"dash\",\"width\":0.5},\"mode\":\"lines\",\"name\":\"Outside_range_Dry_LGBM\",\"showlegend\":false,\"x\":[\"2022-11-08T00:00:00\",\"2022-11-08T00:00:00\"],\"y\":[21742.0,189772.0],\"type\":\"scatter\"},{\"line\":{\"color\":\"#990000\",\"dash\":\"dash\",\"width\":0.5},\"mode\":\"lines\",\"name\":\"Outside_range_Dry_LGBM\",\"showlegend\":false,\"x\":[\"2022-11-09T00:00:00\",\"2022-11-09T00:00:00\"],\"y\":[21742.0,189772.0],\"type\":\"scatter\"},{\"line\":{\"color\":\"#990000\",\"dash\":\"dash\",\"width\":0.5},\"mode\":\"lines\",\"name\":\"Outside_range_Dry_LGBM\",\"showlegend\":false,\"x\":[\"2022-11-15T00:00:00\",\"2022-11-15T00:00:00\"],\"y\":[21742.0,189772.0],\"type\":\"scatter\"},{\"line\":{\"color\":\"#990000\",\"dash\":\"dash\",\"width\":0.5},\"mode\":\"lines\",\"name\":\"Outside_range_Dry_LGBM\",\"showlegend\":false,\"x\":[\"2022-11-16T00:00:00\",\"2022-11-16T00:00:00\"],\"y\":[21742.0,189772.0],\"type\":\"scatter\"},{\"line\":{\"color\":\"#990000\",\"dash\":\"dash\",\"width\":0.5},\"mode\":\"lines\",\"name\":\"Outside_range_Dry_LGBM\",\"showlegend\":false,\"x\":[\"2022-11-17T00:00:00\",\"2022-11-17T00:00:00\"],\"y\":[21742.0,189772.0],\"type\":\"scatter\"},{\"line\":{\"color\":\"#990000\",\"dash\":\"dash\",\"width\":0.5},\"mode\":\"lines\",\"name\":\"Outside_range_Dry_LGBM\",\"showlegend\":false,\"x\":[\"2022-11-18T00:00:00\",\"2022-11-18T00:00:00\"],\"y\":[21742.0,189772.0],\"type\":\"scatter\"},{\"line\":{\"color\":\"#990000\",\"dash\":\"dash\",\"width\":0.5},\"mode\":\"lines\",\"name\":\"Outside_range_Dry_LGBM\",\"showlegend\":false,\"x\":[\"2022-11-21T00:00:00\",\"2022-11-21T00:00:00\"],\"y\":[21742.0,189772.0],\"type\":\"scatter\"},{\"line\":{\"color\":\"#990000\",\"dash\":\"dash\",\"width\":0.5},\"mode\":\"lines\",\"name\":\"Outside_range_Dry_LGBM\",\"showlegend\":false,\"x\":[\"2022-11-22T00:00:00\",\"2022-11-22T00:00:00\"],\"y\":[21742.0,189772.0],\"type\":\"scatter\"},{\"line\":{\"color\":\"#990000\",\"dash\":\"dash\",\"width\":0.5},\"mode\":\"lines\",\"name\":\"Outside_range_Dry_LGBM\",\"showlegend\":false,\"x\":[\"2022-11-23T00:00:00\",\"2022-11-23T00:00:00\"],\"y\":[21742.0,189772.0],\"type\":\"scatter\"},{\"line\":{\"color\":\"#990000\",\"dash\":\"dash\",\"width\":0.5},\"mode\":\"lines\",\"name\":\"Outside_range_Dry_LGBM\",\"showlegend\":false,\"x\":[\"2022-11-24T00:00:00\",\"2022-11-24T00:00:00\"],\"y\":[21742.0,189772.0],\"type\":\"scatter\"},{\"line\":{\"color\":\"#990000\",\"dash\":\"dash\",\"width\":0.5},\"mode\":\"lines\",\"name\":\"Outside_range_Dry_LGBM\",\"showlegend\":false,\"x\":[\"2022-11-25T00:00:00\",\"2022-11-25T00:00:00\"],\"y\":[21742.0,189772.0],\"type\":\"scatter\"},{\"line\":{\"color\":\"#990000\",\"dash\":\"dash\",\"width\":0.5},\"mode\":\"lines\",\"name\":\"Outside_range_Dry_LGBM\",\"showlegend\":false,\"x\":[\"2022-11-28T00:00:00\",\"2022-11-28T00:00:00\"],\"y\":[21742.0,189772.0],\"type\":\"scatter\"},{\"line\":{\"color\":\"#990000\",\"dash\":\"dash\",\"width\":0.5},\"mode\":\"lines\",\"name\":\"Outside_range_Dry_LGBM\",\"showlegend\":false,\"x\":[\"2022-11-29T00:00:00\",\"2022-11-29T00:00:00\"],\"y\":[21742.0,189772.0],\"type\":\"scatter\"},{\"line\":{\"color\":\"#990000\",\"dash\":\"dash\",\"width\":0.5},\"mode\":\"lines\",\"name\":\"Outside_range_Dry_LGBM\",\"showlegend\":false,\"x\":[\"2022-11-30T00:00:00\",\"2022-11-30T00:00:00\"],\"y\":[21742.0,189772.0],\"type\":\"scatter\"},{\"line\":{\"color\":\"#990000\",\"dash\":\"dash\",\"width\":0.5},\"mode\":\"lines\",\"name\":\"Outside_range_Dry_LGBM\",\"showlegend\":false,\"x\":[\"2022-12-01T00:00:00\",\"2022-12-01T00:00:00\"],\"y\":[21742.0,189772.0],\"type\":\"scatter\"},{\"line\":{\"color\":\"#990000\",\"dash\":\"dash\",\"width\":0.5},\"mode\":\"lines\",\"name\":\"Outside_range_Dry_LGBM\",\"showlegend\":false,\"x\":[\"2022-12-02T00:00:00\",\"2022-12-02T00:00:00\"],\"y\":[21742.0,189772.0],\"type\":\"scatter\"},{\"line\":{\"color\":\"#990000\",\"dash\":\"dash\",\"width\":0.5},\"mode\":\"lines\",\"name\":\"Outside_range_Dry_LGBM\",\"showlegend\":false,\"x\":[\"2022-12-07T00:00:00\",\"2022-12-07T00:00:00\"],\"y\":[21742.0,189772.0],\"type\":\"scatter\"},{\"line\":{\"color\":\"#990000\",\"dash\":\"dash\",\"width\":0.5},\"mode\":\"lines\",\"name\":\"Outside_range_Dry_LGBM\",\"showlegend\":false,\"x\":[\"2022-12-08T00:00:00\",\"2022-12-08T00:00:00\"],\"y\":[21742.0,189772.0],\"type\":\"scatter\"},{\"line\":{\"color\":\"#990000\",\"dash\":\"dash\",\"width\":0.5},\"mode\":\"lines\",\"name\":\"Outside_range_Dry_LGBM\",\"showlegend\":false,\"x\":[\"2022-12-09T00:00:00\",\"2022-12-09T00:00:00\"],\"y\":[21742.0,189772.0],\"type\":\"scatter\"},{\"line\":{\"color\":\"#990000\",\"dash\":\"dash\",\"width\":0.5},\"mode\":\"lines\",\"name\":\"Outside_range_Dry_LGBM\",\"showlegend\":false,\"x\":[\"2022-12-12T00:00:00\",\"2022-12-12T00:00:00\"],\"y\":[21742.0,189772.0],\"type\":\"scatter\"},{\"line\":{\"color\":\"#990000\",\"dash\":\"dash\",\"width\":0.5},\"mode\":\"lines\",\"name\":\"Outside_range_Dry_LGBM\",\"showlegend\":false,\"x\":[\"2022-12-13T00:00:00\",\"2022-12-13T00:00:00\"],\"y\":[21742.0,189772.0],\"type\":\"scatter\"},{\"line\":{\"color\":\"#990000\",\"dash\":\"dash\",\"width\":0.5},\"mode\":\"lines\",\"name\":\"Outside_range_Dry_LGBM\",\"showlegend\":false,\"x\":[\"2022-12-14T00:00:00\",\"2022-12-14T00:00:00\"],\"y\":[21742.0,189772.0],\"type\":\"scatter\"},{\"line\":{\"color\":\"#990000\",\"dash\":\"dash\",\"width\":0.5},\"mode\":\"lines\",\"name\":\"Outside_range_Dry_LGBM\",\"showlegend\":false,\"x\":[\"2022-12-15T00:00:00\",\"2022-12-15T00:00:00\"],\"y\":[21742.0,189772.0],\"type\":\"scatter\"},{\"line\":{\"color\":\"#990000\",\"dash\":\"dash\",\"width\":0.5},\"mode\":\"lines\",\"name\":\"Outside_range_Dry_LGBM\",\"showlegend\":false,\"x\":[\"2022-12-16T00:00:00\",\"2022-12-16T00:00:00\"],\"y\":[21742.0,189772.0],\"type\":\"scatter\"},{\"line\":{\"color\":\"#990000\",\"dash\":\"dash\",\"width\":0.5},\"mode\":\"lines\",\"name\":\"Outside_range_Dry_LGBM\",\"showlegend\":false,\"x\":[\"2022-12-19T00:00:00\",\"2022-12-19T00:00:00\"],\"y\":[21742.0,189772.0],\"type\":\"scatter\"},{\"line\":{\"color\":\"#990000\",\"dash\":\"dash\",\"width\":0.5},\"mode\":\"lines\",\"name\":\"Outside_range_Dry_LGBM\",\"showlegend\":false,\"x\":[\"2022-12-21T00:00:00\",\"2022-12-21T00:00:00\"],\"y\":[21742.0,189772.0],\"type\":\"scatter\"},{\"line\":{\"color\":\"#990000\",\"dash\":\"dash\",\"width\":0.5},\"mode\":\"lines\",\"name\":\"Outside_range_Dry_LGBM\",\"showlegend\":false,\"x\":[\"2022-12-22T00:00:00\",\"2022-12-22T00:00:00\"],\"y\":[21742.0,189772.0],\"type\":\"scatter\"},{\"line\":{\"color\":\"#990000\",\"dash\":\"dash\",\"width\":0.5},\"mode\":\"lines\",\"name\":\"Outside_range_Dry_LGBM\",\"showlegend\":false,\"x\":[\"2022-12-23T00:00:00\",\"2022-12-23T00:00:00\"],\"y\":[21742.0,189772.0],\"type\":\"scatter\"},{\"line\":{\"color\":\"#990000\",\"dash\":\"dash\",\"width\":0.5},\"mode\":\"lines\",\"name\":\"Outside_range_Dry_LGBM\",\"showlegend\":false,\"x\":[\"2022-12-27T00:00:00\",\"2022-12-27T00:00:00\"],\"y\":[21742.0,189772.0],\"type\":\"scatter\"},{\"line\":{\"color\":\"#990000\",\"dash\":\"dash\",\"width\":0.5},\"mode\":\"lines\",\"name\":\"Outside_range_Dry_LGBM\",\"showlegend\":false,\"x\":[\"2022-12-28T00:00:00\",\"2022-12-28T00:00:00\"],\"y\":[21742.0,189772.0],\"type\":\"scatter\"},{\"line\":{\"color\":\"#990000\",\"dash\":\"dash\",\"width\":0.5},\"mode\":\"lines\",\"name\":\"Outside_range_Dry_LGBM\",\"showlegend\":false,\"x\":[\"2022-12-29T00:00:00\",\"2022-12-29T00:00:00\"],\"y\":[21742.0,189772.0],\"type\":\"scatter\"},{\"line\":{\"color\":\"#990000\",\"dash\":\"dash\",\"width\":0.5},\"mode\":\"lines\",\"name\":\"Outside_range_Dry_LGBM\",\"showlegend\":false,\"x\":[\"2022-12-30T00:00:00\",\"2022-12-30T00:00:00\"],\"y\":[21742.0,189772.0],\"type\":\"scatter\"}],                        {\"template\":{\"data\":{\"bar\":[{\"error_x\":{\"color\":\"#2a3f5f\"},\"error_y\":{\"color\":\"#2a3f5f\"},\"marker\":{\"line\":{\"color\":\"#E5ECF6\",\"width\":0.5},\"pattern\":{\"fillmode\":\"overlay\",\"size\":10,\"solidity\":0.2}},\"type\":\"bar\"}],\"barpolar\":[{\"marker\":{\"line\":{\"color\":\"#E5ECF6\",\"width\":0.5},\"pattern\":{\"fillmode\":\"overlay\",\"size\":10,\"solidity\":0.2}},\"type\":\"barpolar\"}],\"carpet\":[{\"aaxis\":{\"endlinecolor\":\"#2a3f5f\",\"gridcolor\":\"white\",\"linecolor\":\"white\",\"minorgridcolor\":\"white\",\"startlinecolor\":\"#2a3f5f\"},\"baxis\":{\"endlinecolor\":\"#2a3f5f\",\"gridcolor\":\"white\",\"linecolor\":\"white\",\"minorgridcolor\":\"white\",\"startlinecolor\":\"#2a3f5f\"},\"type\":\"carpet\"}],\"choropleth\":[{\"colorbar\":{\"outlinewidth\":0,\"ticks\":\"\"},\"type\":\"choropleth\"}],\"contour\":[{\"colorbar\":{\"outlinewidth\":0,\"ticks\":\"\"},\"colorscale\":[[0.0,\"#0d0887\"],[0.1111111111111111,\"#46039f\"],[0.2222222222222222,\"#7201a8\"],[0.3333333333333333,\"#9c179e\"],[0.4444444444444444,\"#bd3786\"],[0.5555555555555556,\"#d8576b\"],[0.6666666666666666,\"#ed7953\"],[0.7777777777777778,\"#fb9f3a\"],[0.8888888888888888,\"#fdca26\"],[1.0,\"#f0f921\"]],\"type\":\"contour\"}],\"contourcarpet\":[{\"colorbar\":{\"outlinewidth\":0,\"ticks\":\"\"},\"type\":\"contourcarpet\"}],\"heatmap\":[{\"colorbar\":{\"outlinewidth\":0,\"ticks\":\"\"},\"colorscale\":[[0.0,\"#0d0887\"],[0.1111111111111111,\"#46039f\"],[0.2222222222222222,\"#7201a8\"],[0.3333333333333333,\"#9c179e\"],[0.4444444444444444,\"#bd3786\"],[0.5555555555555556,\"#d8576b\"],[0.6666666666666666,\"#ed7953\"],[0.7777777777777778,\"#fb9f3a\"],[0.8888888888888888,\"#fdca26\"],[1.0,\"#f0f921\"]],\"type\":\"heatmap\"}],\"heatmapgl\":[{\"colorbar\":{\"outlinewidth\":0,\"ticks\":\"\"},\"colorscale\":[[0.0,\"#0d0887\"],[0.1111111111111111,\"#46039f\"],[0.2222222222222222,\"#7201a8\"],[0.3333333333333333,\"#9c179e\"],[0.4444444444444444,\"#bd3786\"],[0.5555555555555556,\"#d8576b\"],[0.6666666666666666,\"#ed7953\"],[0.7777777777777778,\"#fb9f3a\"],[0.8888888888888888,\"#fdca26\"],[1.0,\"#f0f921\"]],\"type\":\"heatmapgl\"}],\"histogram\":[{\"marker\":{\"pattern\":{\"fillmode\":\"overlay\",\"size\":10,\"solidity\":0.2}},\"type\":\"histogram\"}],\"histogram2d\":[{\"colorbar\":{\"outlinewidth\":0,\"ticks\":\"\"},\"colorscale\":[[0.0,\"#0d0887\"],[0.1111111111111111,\"#46039f\"],[0.2222222222222222,\"#7201a8\"],[0.3333333333333333,\"#9c179e\"],[0.4444444444444444,\"#bd3786\"],[0.5555555555555556,\"#d8576b\"],[0.6666666666666666,\"#ed7953\"],[0.7777777777777778,\"#fb9f3a\"],[0.8888888888888888,\"#fdca26\"],[1.0,\"#f0f921\"]],\"type\":\"histogram2d\"}],\"histogram2dcontour\":[{\"colorbar\":{\"outlinewidth\":0,\"ticks\":\"\"},\"colorscale\":[[0.0,\"#0d0887\"],[0.1111111111111111,\"#46039f\"],[0.2222222222222222,\"#7201a8\"],[0.3333333333333333,\"#9c179e\"],[0.4444444444444444,\"#bd3786\"],[0.5555555555555556,\"#d8576b\"],[0.6666666666666666,\"#ed7953\"],[0.7777777777777778,\"#fb9f3a\"],[0.8888888888888888,\"#fdca26\"],[1.0,\"#f0f921\"]],\"type\":\"histogram2dcontour\"}],\"mesh3d\":[{\"colorbar\":{\"outlinewidth\":0,\"ticks\":\"\"},\"type\":\"mesh3d\"}],\"parcoords\":[{\"line\":{\"colorbar\":{\"outlinewidth\":0,\"ticks\":\"\"}},\"type\":\"parcoords\"}],\"pie\":[{\"automargin\":true,\"type\":\"pie\"}],\"scatter\":[{\"marker\":{\"colorbar\":{\"outlinewidth\":0,\"ticks\":\"\"}},\"type\":\"scatter\"}],\"scatter3d\":[{\"line\":{\"colorbar\":{\"outlinewidth\":0,\"ticks\":\"\"}},\"marker\":{\"colorbar\":{\"outlinewidth\":0,\"ticks\":\"\"}},\"type\":\"scatter3d\"}],\"scattercarpet\":[{\"marker\":{\"colorbar\":{\"outlinewidth\":0,\"ticks\":\"\"}},\"type\":\"scattercarpet\"}],\"scattergeo\":[{\"marker\":{\"colorbar\":{\"outlinewidth\":0,\"ticks\":\"\"}},\"type\":\"scattergeo\"}],\"scattergl\":[{\"marker\":{\"colorbar\":{\"outlinewidth\":0,\"ticks\":\"\"}},\"type\":\"scattergl\"}],\"scattermapbox\":[{\"marker\":{\"colorbar\":{\"outlinewidth\":0,\"ticks\":\"\"}},\"type\":\"scattermapbox\"}],\"scatterpolar\":[{\"marker\":{\"colorbar\":{\"outlinewidth\":0,\"ticks\":\"\"}},\"type\":\"scatterpolar\"}],\"scatterpolargl\":[{\"marker\":{\"colorbar\":{\"outlinewidth\":0,\"ticks\":\"\"}},\"type\":\"scatterpolargl\"}],\"scatterternary\":[{\"marker\":{\"colorbar\":{\"outlinewidth\":0,\"ticks\":\"\"}},\"type\":\"scatterternary\"}],\"surface\":[{\"colorbar\":{\"outlinewidth\":0,\"ticks\":\"\"},\"colorscale\":[[0.0,\"#0d0887\"],[0.1111111111111111,\"#46039f\"],[0.2222222222222222,\"#7201a8\"],[0.3333333333333333,\"#9c179e\"],[0.4444444444444444,\"#bd3786\"],[0.5555555555555556,\"#d8576b\"],[0.6666666666666666,\"#ed7953\"],[0.7777777777777778,\"#fb9f3a\"],[0.8888888888888888,\"#fdca26\"],[1.0,\"#f0f921\"]],\"type\":\"surface\"}],\"table\":[{\"cells\":{\"fill\":{\"color\":\"#EBF0F8\"},\"line\":{\"color\":\"white\"}},\"header\":{\"fill\":{\"color\":\"#C8D4E3\"},\"line\":{\"color\":\"white\"}},\"type\":\"table\"}]},\"layout\":{\"annotationdefaults\":{\"arrowcolor\":\"#2a3f5f\",\"arrowhead\":0,\"arrowwidth\":1},\"autotypenumbers\":\"strict\",\"coloraxis\":{\"colorbar\":{\"outlinewidth\":0,\"ticks\":\"\"}},\"colorscale\":{\"diverging\":[[0,\"#8e0152\"],[0.1,\"#c51b7d\"],[0.2,\"#de77ae\"],[0.3,\"#f1b6da\"],[0.4,\"#fde0ef\"],[0.5,\"#f7f7f7\"],[0.6,\"#e6f5d0\"],[0.7,\"#b8e186\"],[0.8,\"#7fbc41\"],[0.9,\"#4d9221\"],[1,\"#276419\"]],\"sequential\":[[0.0,\"#0d0887\"],[0.1111111111111111,\"#46039f\"],[0.2222222222222222,\"#7201a8\"],[0.3333333333333333,\"#9c179e\"],[0.4444444444444444,\"#bd3786\"],[0.5555555555555556,\"#d8576b\"],[0.6666666666666666,\"#ed7953\"],[0.7777777777777778,\"#fb9f3a\"],[0.8888888888888888,\"#fdca26\"],[1.0,\"#f0f921\"]],\"sequentialminus\":[[0.0,\"#0d0887\"],[0.1111111111111111,\"#46039f\"],[0.2222222222222222,\"#7201a8\"],[0.3333333333333333,\"#9c179e\"],[0.4444444444444444,\"#bd3786\"],[0.5555555555555556,\"#d8576b\"],[0.6666666666666666,\"#ed7953\"],[0.7777777777777778,\"#fb9f3a\"],[0.8888888888888888,\"#fdca26\"],[1.0,\"#f0f921\"]]},\"colorway\":[\"#636efa\",\"#EF553B\",\"#00cc96\",\"#ab63fa\",\"#FFA15A\",\"#19d3f3\",\"#FF6692\",\"#B6E880\",\"#FF97FF\",\"#FECB52\"],\"font\":{\"color\":\"#2a3f5f\"},\"geo\":{\"bgcolor\":\"white\",\"lakecolor\":\"white\",\"landcolor\":\"#E5ECF6\",\"showlakes\":true,\"showland\":true,\"subunitcolor\":\"white\"},\"hoverlabel\":{\"align\":\"left\"},\"hovermode\":\"closest\",\"mapbox\":{\"style\":\"light\"},\"paper_bgcolor\":\"white\",\"plot_bgcolor\":\"#E5ECF6\",\"polar\":{\"angularaxis\":{\"gridcolor\":\"white\",\"linecolor\":\"white\",\"ticks\":\"\"},\"bgcolor\":\"#E5ECF6\",\"radialaxis\":{\"gridcolor\":\"white\",\"linecolor\":\"white\",\"ticks\":\"\"}},\"scene\":{\"xaxis\":{\"backgroundcolor\":\"#E5ECF6\",\"gridcolor\":\"white\",\"gridwidth\":2,\"linecolor\":\"white\",\"showbackground\":true,\"ticks\":\"\",\"zerolinecolor\":\"white\"},\"yaxis\":{\"backgroundcolor\":\"#E5ECF6\",\"gridcolor\":\"white\",\"gridwidth\":2,\"linecolor\":\"white\",\"showbackground\":true,\"ticks\":\"\",\"zerolinecolor\":\"white\"},\"zaxis\":{\"backgroundcolor\":\"#E5ECF6\",\"gridcolor\":\"white\",\"gridwidth\":2,\"linecolor\":\"white\",\"showbackground\":true,\"ticks\":\"\",\"zerolinecolor\":\"white\"}},\"shapedefaults\":{\"line\":{\"color\":\"#2a3f5f\"}},\"ternary\":{\"aaxis\":{\"gridcolor\":\"white\",\"linecolor\":\"white\",\"ticks\":\"\"},\"baxis\":{\"gridcolor\":\"white\",\"linecolor\":\"white\",\"ticks\":\"\"},\"bgcolor\":\"#E5ECF6\",\"caxis\":{\"gridcolor\":\"white\",\"linecolor\":\"white\",\"ticks\":\"\"}},\"title\":{\"x\":0.05},\"xaxis\":{\"automargin\":true,\"gridcolor\":\"white\",\"linecolor\":\"white\",\"ticks\":\"\",\"title\":{\"standoff\":15},\"zerolinecolor\":\"white\",\"zerolinewidth\":2},\"yaxis\":{\"automargin\":true,\"gridcolor\":\"white\",\"linecolor\":\"white\",\"ticks\":\"\",\"title\":{\"standoff\":15},\"zerolinecolor\":\"white\",\"zerolinewidth\":2}}}},                        {\"responsive\": true}                    )                };                            </script>        </div>\n",
       "</body>\n",
       "</html>"
      ]
     },
     "metadata": {
      "application/vnd.databricks.v1+output": {
       "addedWidgets": {},
       "arguments": {},
       "data": "<html>\n<head><meta charset=\"utf-8\" /></head>\n<body>\n    <div>            <script src=\"https://cdnjs.cloudflare.com/ajax/libs/mathjax/2.7.5/MathJax.js?config=TeX-AMS-MML_SVG\"></script><script type=\"text/javascript\">if (window.MathJax) {MathJax.Hub.Config({SVG: {font: \"STIX-Web\"}});}</script>                <script type=\"text/javascript\">window.PlotlyConfig = {MathJaxConfig: 'local'};</script>\n        <script src=\"https://cdn.plot.ly/plotly-2.9.0.min.js\"></script>                <div id=\"d040f36f-8090-41eb-874c-ecf14c8ac48c\" class=\"plotly-graph-div\" style=\"height:100%; width:100%;\"></div>            <script type=\"text/javascript\">                                    window.PLOTLYENV=window.PLOTLYENV || {};                                    if (document.getElementById(\"d040f36f-8090-41eb-874c-ecf14c8ac48c\")) {                    Plotly.newPlot(                        \"d040f36f-8090-41eb-874c-ecf14c8ac48c\",                        [{\"line\":{\"color\":\"#FF0000\"},\"name\":\"LGBM_FC\",\"showlegend\":true,\"x\":[\"2022-07-18T00:00:00\",\"2022-07-19T00:00:00\",\"2022-07-20T00:00:00\",\"2022-07-22T00:00:00\",\"2022-07-25T00:00:00\",\"2022-07-26T00:00:00\",\"2022-07-27T00:00:00\",\"2022-07-28T00:00:00\",\"2022-07-29T00:00:00\",\"2022-08-01T00:00:00\",\"2022-08-02T00:00:00\",\"2022-08-03T00:00:00\",\"2022-08-04T00:00:00\",\"2022-08-05T00:00:00\",\"2022-08-08T00:00:00\",\"2022-08-09T00:00:00\",\"2022-08-10T00:00:00\",\"2022-08-11T00:00:00\",\"2022-08-12T00:00:00\",\"2022-08-16T00:00:00\",\"2022-08-17T00:00:00\",\"2022-08-18T00:00:00\",\"2022-08-19T00:00:00\",\"2022-08-22T00:00:00\",\"2022-08-23T00:00:00\",\"2022-08-24T00:00:00\",\"2022-08-25T00:00:00\",\"2022-08-26T00:00:00\",\"2022-08-29T00:00:00\",\"2022-08-30T00:00:00\",\"2022-08-31T00:00:00\",\"2022-09-01T00:00:00\",\"2022-09-02T00:00:00\",\"2022-09-05T00:00:00\",\"2022-09-06T00:00:00\",\"2022-09-07T00:00:00\",\"2022-09-08T00:00:00\",\"2022-09-09T00:00:00\",\"2022-09-12T00:00:00\",\"2022-09-13T00:00:00\",\"2022-09-14T00:00:00\",\"2022-09-15T00:00:00\",\"2022-09-16T00:00:00\",\"2022-09-19T00:00:00\",\"2022-09-20T00:00:00\",\"2022-09-21T00:00:00\",\"2022-09-22T00:00:00\",\"2022-09-23T00:00:00\",\"2022-09-26T00:00:00\",\"2022-09-27T00:00:00\",\"2022-09-28T00:00:00\",\"2022-09-29T00:00:00\",\"2022-09-30T00:00:00\",\"2022-10-03T00:00:00\",\"2022-10-04T00:00:00\",\"2022-10-05T00:00:00\",\"2022-10-06T00:00:00\",\"2022-10-07T00:00:00\",\"2022-10-10T00:00:00\",\"2022-10-11T00:00:00\",\"2022-10-12T00:00:00\",\"2022-10-13T00:00:00\",\"2022-10-14T00:00:00\",\"2022-10-17T00:00:00\",\"2022-10-18T00:00:00\",\"2022-10-19T00:00:00\",\"2022-10-20T00:00:00\",\"2022-10-21T00:00:00\",\"2022-10-24T00:00:00\",\"2022-10-25T00:00:00\",\"2022-10-26T00:00:00\",\"2022-10-27T00:00:00\",\"2022-10-28T00:00:00\",\"2022-10-31T00:00:00\",\"2022-11-02T00:00:00\",\"2022-11-03T00:00:00\",\"2022-11-04T00:00:00\",\"2022-11-07T00:00:00\",\"2022-11-08T00:00:00\",\"2022-11-09T00:00:00\",\"2022-11-10T00:00:00\",\"2022-11-14T00:00:00\",\"2022-11-15T00:00:00\",\"2022-11-16T00:00:00\",\"2022-11-17T00:00:00\",\"2022-11-18T00:00:00\",\"2022-11-21T00:00:00\",\"2022-11-22T00:00:00\",\"2022-11-23T00:00:00\",\"2022-11-24T00:00:00\",\"2022-11-25T00:00:00\",\"2022-11-28T00:00:00\",\"2022-11-29T00:00:00\",\"2022-11-30T00:00:00\",\"2022-12-01T00:00:00\",\"2022-12-02T00:00:00\",\"2022-12-05T00:00:00\",\"2022-12-06T00:00:00\",\"2022-12-07T00:00:00\",\"2022-12-08T00:00:00\",\"2022-12-09T00:00:00\",\"2022-12-12T00:00:00\",\"2022-12-13T00:00:00\",\"2022-12-14T00:00:00\",\"2022-12-15T00:00:00\",\"2022-12-16T00:00:00\",\"2022-12-19T00:00:00\",\"2022-12-20T00:00:00\",\"2022-12-21T00:00:00\",\"2022-12-22T00:00:00\",\"2022-12-23T00:00:00\",\"2022-12-26T00:00:00\",\"2022-12-27T00:00:00\",\"2022-12-28T00:00:00\",\"2022-12-29T00:00:00\",\"2022-12-30T00:00:00\"],\"y\":[104541.91160537124,103570.95913994266,96828.88303792576,101176.6725854572,100299.03697092882,96413.92316927786,95285.07746861297,95285.07746861297,95093.11259413065,96259.93357762093,91695.25273981642,91407.3936105398,93095.36477544076,94026.5573331141,93733.35223980185,91544.62335900492,89795.11025646467,87969.69996417465,85399.13585255563,77488.90405000909,80783.23898760321,76915.0068790889,78855.66198374818,84914.93622122894,75959.63189329283,84848.44939465653,77751.14387098384,77419.78530496787,77747.21489446059,79767.89701179389,76202.57723818124,76552.90155444836,80658.35453690957,92279.3348478978,85418.92614546718,79007.90099788335,84035.14764348145,78581.22154145513,100236.26640934339,84637.33948706713,91503.01057070984,93877.57623692497,92517.86569612872,101531.81027626879,94296.66229162937,92792.21877356248,97021.65449050145,96829.72392659025,101919.03477616463,95090.81435543366,97341.90784774176,94773.56045942355,94800.13818108324,103323.40874990073,91541.5707104523,99882.62206977693,94608.14507301366,94347.14079497426,102518.19065194773,97881.22329719648,88240.67567034315,93865.2357860383,94948.61122263767,101015.80760380671,87135.3919739894,92654.4061112102,94176.95049983526,92786.86588000484,101292.41543295147,92801.88004301472,95426.8060696679,96217.11836592086,95247.12115234684,101060.55239253442,101335.78803936613,95806.95775547004,92533.58329691344,101639.38380932341,95903.88226125478,98924.16072820587,92299.33666914253,99022.98316325115,93798.14689224206,103811.96791056014,95387.11053083095,104791.92088029422,99998.0660768835,99146.9172102733,93687.69468715777,102902.09996458358,93687.69468715777,90504.17146594918,85038.63822980736,84552.65446049199,90504.17146594918,77947.29800697006,92013.54254316264,81649.0717550631,81965.64441783993,82038.85908777291,79808.47889721561,94336.0262578936,85771.01821861435,85771.01821861435,89503.55197476406,91619.19486907621,96056.33356599517,80959.58652737543,84672.38763651758,77293.25796642202,80267.63347129921,98276.23928801567,86527.28159004916,89319.02378278735,76625.64712654662,83226.3522514569],\"type\":\"scatter\"},{\"line\":{\"color\":\"#0000FF\"},\"name\":\"Dry Fc\",\"showlegend\":true,\"x\":[\"2022-07-18T00:00:00\",\"2022-07-19T00:00:00\",\"2022-07-20T00:00:00\",\"2022-07-22T00:00:00\",\"2022-07-25T00:00:00\",\"2022-07-26T00:00:00\",\"2022-07-27T00:00:00\",\"2022-07-28T00:00:00\",\"2022-07-29T00:00:00\",\"2022-08-01T00:00:00\",\"2022-08-02T00:00:00\",\"2022-08-03T00:00:00\",\"2022-08-04T00:00:00\",\"2022-08-05T00:00:00\",\"2022-08-08T00:00:00\",\"2022-08-09T00:00:00\",\"2022-08-10T00:00:00\",\"2022-08-11T00:00:00\",\"2022-08-12T00:00:00\",\"2022-08-16T00:00:00\",\"2022-08-17T00:00:00\",\"2022-08-18T00:00:00\",\"2022-08-19T00:00:00\",\"2022-08-22T00:00:00\",\"2022-08-23T00:00:00\",\"2022-08-24T00:00:00\",\"2022-08-25T00:00:00\",\"2022-08-26T00:00:00\",\"2022-08-29T00:00:00\",\"2022-08-30T00:00:00\",\"2022-08-31T00:00:00\",\"2022-09-01T00:00:00\",\"2022-09-02T00:00:00\",\"2022-09-05T00:00:00\",\"2022-09-06T00:00:00\",\"2022-09-07T00:00:00\",\"2022-09-08T00:00:00\",\"2022-09-09T00:00:00\",\"2022-09-12T00:00:00\",\"2022-09-13T00:00:00\",\"2022-09-14T00:00:00\",\"2022-09-15T00:00:00\",\"2022-09-16T00:00:00\",\"2022-09-19T00:00:00\",\"2022-09-20T00:00:00\",\"2022-09-21T00:00:00\",\"2022-09-22T00:00:00\",\"2022-09-23T00:00:00\",\"2022-09-26T00:00:00\",\"2022-09-27T00:00:00\",\"2022-09-28T00:00:00\",\"2022-09-29T00:00:00\",\"2022-09-30T00:00:00\",\"2022-10-03T00:00:00\",\"2022-10-04T00:00:00\",\"2022-10-05T00:00:00\",\"2022-10-06T00:00:00\",\"2022-10-07T00:00:00\",\"2022-10-10T00:00:00\",\"2022-10-11T00:00:00\",\"2022-10-12T00:00:00\",\"2022-10-13T00:00:00\",\"2022-10-14T00:00:00\",\"2022-10-17T00:00:00\",\"2022-10-18T00:00:00\",\"2022-10-19T00:00:00\",\"2022-10-20T00:00:00\",\"2022-10-21T00:00:00\",\"2022-10-24T00:00:00\",\"2022-10-25T00:00:00\",\"2022-10-26T00:00:00\",\"2022-10-27T00:00:00\",\"2022-10-28T00:00:00\",\"2022-10-31T00:00:00\",\"2022-11-02T00:00:00\",\"2022-11-03T00:00:00\",\"2022-11-04T00:00:00\",\"2022-11-07T00:00:00\",\"2022-11-08T00:00:00\",\"2022-11-09T00:00:00\",\"2022-11-10T00:00:00\",\"2022-11-14T00:00:00\",\"2022-11-15T00:00:00\",\"2022-11-16T00:00:00\",\"2022-11-17T00:00:00\",\"2022-11-18T00:00:00\",\"2022-11-21T00:00:00\",\"2022-11-22T00:00:00\",\"2022-11-23T00:00:00\",\"2022-11-24T00:00:00\",\"2022-11-25T00:00:00\",\"2022-11-28T00:00:00\",\"2022-11-29T00:00:00\",\"2022-11-30T00:00:00\",\"2022-12-01T00:00:00\",\"2022-12-02T00:00:00\",\"2022-12-05T00:00:00\",\"2022-12-06T00:00:00\",\"2022-12-07T00:00:00\",\"2022-12-08T00:00:00\",\"2022-12-09T00:00:00\",\"2022-12-12T00:00:00\",\"2022-12-13T00:00:00\",\"2022-12-14T00:00:00\",\"2022-12-15T00:00:00\",\"2022-12-16T00:00:00\",\"2022-12-19T00:00:00\",\"2022-12-20T00:00:00\",\"2022-12-21T00:00:00\",\"2022-12-22T00:00:00\",\"2022-12-23T00:00:00\",\"2022-12-26T00:00:00\",\"2022-12-27T00:00:00\",\"2022-12-28T00:00:00\",\"2022-12-29T00:00:00\",\"2022-12-30T00:00:00\"],\"y\":[76897.70000000001,54842.88,51537.0,40934.138000000006,79558.6,57297.6,51311.5,42490.34094491886,37918.776000000005,72018.44,52116.696,47162.88,38647.11,36305.332,70842.72,56265.8,46392.96,38016.3,35712.572,62413.176,49930.56,44729.46,42232.932,130029.5,61770.672,54262.56,49477.09,47141.066000000006,129172.8,64334.76,64955.84,54536.47,51232.328,108371.78,71969.568,72902.4,62486.74,50550.654,158526.0,68807.664,67241.76,56898.03,53821.796,94690.0,67428.0,66269.0,56179.0,49120.0,96356.70000000001,68614.08,67435.0,57168.147000000004,49984.69,102945.95000000001,67609.92,66448.0,56331.456,49253.078,103129.95000000001,73437.59999999999,67175.5,56186.71,53498.62,102477.1,72972.48,66718.5,55799.395000000004,53160.016,99840.95000000001,71095.68,64874.0,56235.639,51792.608,83700.0,122369.5,62373.57,93396.986,87129.35,130567.16,73808.0,107011.048,101431.55,72925.44,89377.5,94153.158,64551.78400000001,123021.62000000001,73439.0,73578.23999999999,62106.488999999994,54737.502,161687.0,79465.92,78236.16,66038.12899999999,57431.396,102602.0,68159.58,67104.48,56642.028999999995,49260.162000000004,127238.0,69614.575,68447.115,57965.376,50616.626000000004,80000.0,77948.45,76588.38,69316.352,56404.259000000005,95488.0,71459.26999999999,71916.31999999999,60346.34599999999,52203.888],\"type\":\"scatter\"},{\"line\":{\"color\":\"#00FF00\"},\"name\":\"Dry Actuals\",\"showlegend\":true,\"x\":[\"2022-07-18T00:00:00\",\"2022-07-19T00:00:00\",\"2022-07-20T00:00:00\",\"2022-07-22T00:00:00\",\"2022-07-25T00:00:00\",\"2022-07-26T00:00:00\",\"2022-07-27T00:00:00\",\"2022-07-28T00:00:00\",\"2022-07-29T00:00:00\",\"2022-08-01T00:00:00\",\"2022-08-02T00:00:00\",\"2022-08-03T00:00:00\",\"2022-08-04T00:00:00\",\"2022-08-05T00:00:00\",\"2022-08-08T00:00:00\",\"2022-08-09T00:00:00\",\"2022-08-10T00:00:00\",\"2022-08-11T00:00:00\",\"2022-08-12T00:00:00\",\"2022-08-16T00:00:00\",\"2022-08-17T00:00:00\",\"2022-08-18T00:00:00\",\"2022-08-19T00:00:00\",\"2022-08-22T00:00:00\",\"2022-08-23T00:00:00\",\"2022-08-24T00:00:00\",\"2022-08-25T00:00:00\",\"2022-08-26T00:00:00\",\"2022-08-29T00:00:00\",\"2022-08-30T00:00:00\",\"2022-08-31T00:00:00\",\"2022-09-01T00:00:00\",\"2022-09-02T00:00:00\",\"2022-09-05T00:00:00\",\"2022-09-06T00:00:00\",\"2022-09-07T00:00:00\",\"2022-09-08T00:00:00\",\"2022-09-09T00:00:00\",\"2022-09-12T00:00:00\",\"2022-09-13T00:00:00\",\"2022-09-14T00:00:00\",\"2022-09-15T00:00:00\",\"2022-09-16T00:00:00\",\"2022-09-19T00:00:00\",\"2022-09-20T00:00:00\",\"2022-09-21T00:00:00\",\"2022-09-22T00:00:00\",\"2022-09-23T00:00:00\",\"2022-09-26T00:00:00\",\"2022-09-27T00:00:00\",\"2022-09-28T00:00:00\",\"2022-09-29T00:00:00\",\"2022-09-30T00:00:00\",\"2022-10-03T00:00:00\",\"2022-10-04T00:00:00\",\"2022-10-05T00:00:00\",\"2022-10-06T00:00:00\",\"2022-10-07T00:00:00\",\"2022-10-10T00:00:00\",\"2022-10-11T00:00:00\",\"2022-10-12T00:00:00\",\"2022-10-13T00:00:00\",\"2022-10-14T00:00:00\",\"2022-10-17T00:00:00\",\"2022-10-18T00:00:00\",\"2022-10-19T00:00:00\",\"2022-10-20T00:00:00\",\"2022-10-21T00:00:00\",\"2022-10-24T00:00:00\",\"2022-10-25T00:00:00\",\"2022-10-26T00:00:00\",\"2022-10-27T00:00:00\",\"2022-10-28T00:00:00\",\"2022-10-31T00:00:00\",\"2022-11-02T00:00:00\",\"2022-11-03T00:00:00\",\"2022-11-04T00:00:00\",\"2022-11-07T00:00:00\",\"2022-11-08T00:00:00\",\"2022-11-09T00:00:00\",\"2022-11-10T00:00:00\",\"2022-11-14T00:00:00\",\"2022-11-15T00:00:00\",\"2022-11-16T00:00:00\",\"2022-11-17T00:00:00\",\"2022-11-18T00:00:00\",\"2022-11-21T00:00:00\",\"2022-11-22T00:00:00\",\"2022-11-23T00:00:00\",\"2022-11-24T00:00:00\",\"2022-11-25T00:00:00\",\"2022-11-28T00:00:00\",\"2022-11-29T00:00:00\",\"2022-11-30T00:00:00\",\"2022-12-01T00:00:00\",\"2022-12-02T00:00:00\",\"2022-12-05T00:00:00\",\"2022-12-06T00:00:00\",\"2022-12-07T00:00:00\",\"2022-12-08T00:00:00\",\"2022-12-09T00:00:00\",\"2022-12-12T00:00:00\",\"2022-12-13T00:00:00\",\"2022-12-14T00:00:00\",\"2022-12-15T00:00:00\",\"2022-12-16T00:00:00\",\"2022-12-19T00:00:00\",\"2022-12-20T00:00:00\",\"2022-12-21T00:00:00\",\"2022-12-22T00:00:00\",\"2022-12-23T00:00:00\",\"2022-12-26T00:00:00\",\"2022-12-27T00:00:00\",\"2022-12-28T00:00:00\",\"2022-12-29T00:00:00\",\"2022-12-30T00:00:00\"],\"y\":[67408.0,51655.0,53350.0,45843.0,78763.0,52702.0,42004.0,32949.0,45028.0,76669.0,55647.0,49693.0,36827.0,47440.0,70855.0,56805.0,47403.0,38883.0,39481.0,61049.0,59310.0,49368.0,61442.0,136882.0,61580.0,50038.0,48455.0,49353.0,131672.0,76713.0,65449.0,49272.0,57084.0,103097.0,73147.0,67905.0,56859.0,57735.0,164456.0,65782.0,59572.0,41459.0,51658.0,89514.0,70307.0,61766.0,41772.0,49116.0,94115.0,63565.0,71881.0,50620.0,53125.0,106538.0,72374.0,67128.0,59796.0,55493.0,103076.0,74521.0,60987.0,53184.0,54679.0,97073.0,70464.0,62003.0,50744.0,48111.0,89090.0,55399.0,61348.0,52311.0,49238.0,86280.0,122036.0,60848.0,94252.0,97285.0,189772.0,21742.0,94385.0,97817.0,69017.0,90926.0,84224.0,56027.0,112319.0,66169.0,68042.0,50627.0,49605.0,158821.0,70831.0,76542.0,67017.0,64654.0,94568.0,76287.0,63301.0,54256.0,52050.0,123475.0,68514.0,65979.0,56286.0,50336.0,76525.0,75921.0,58697.0,62334.0,55510.0,90911.0,63764.0,47680.0,39552.0,61119.0],\"type\":\"scatter\"},{\"line\":{\"color\":\"#000099\",\"dash\":\"dash\",\"width\":0.5},\"mode\":\"lines\",\"name\":\"Outside_range_Dry_WOW\",\"showlegend\":true,\"x\":[\"2022-07-18T00:00:00\",\"2022-07-18T00:00:00\"],\"y\":[21742.0,189772.0],\"type\":\"scatter\"},{\"line\":{\"color\":\"#000099\",\"dash\":\"dash\",\"width\":0.5},\"mode\":\"lines\",\"name\":\"Outside_range_Dry_WOW\",\"showlegend\":false,\"x\":[\"2022-07-22T00:00:00\",\"2022-07-22T00:00:00\"],\"y\":[21742.0,189772.0],\"type\":\"scatter\"},{\"line\":{\"color\":\"#000099\",\"dash\":\"dash\",\"width\":0.5},\"mode\":\"lines\",\"name\":\"Outside_range_Dry_WOW\",\"showlegend\":false,\"x\":[\"2022-07-27T00:00:00\",\"2022-07-27T00:00:00\"],\"y\":[21742.0,189772.0],\"type\":\"scatter\"},{\"line\":{\"color\":\"#000099\",\"dash\":\"dash\",\"width\":0.5},\"mode\":\"lines\",\"name\":\"Outside_range_Dry_WOW\",\"showlegend\":false,\"x\":[\"2022-07-28T00:00:00\",\"2022-07-28T00:00:00\"],\"y\":[21742.0,189772.0],\"type\":\"scatter\"},{\"line\":{\"color\":\"#000099\",\"dash\":\"dash\",\"width\":0.5},\"mode\":\"lines\",\"name\":\"Outside_range_Dry_WOW\",\"showlegend\":false,\"x\":[\"2022-07-29T00:00:00\",\"2022-07-29T00:00:00\"],\"y\":[21742.0,189772.0],\"type\":\"scatter\"},{\"line\":{\"color\":\"#000099\",\"dash\":\"dash\",\"width\":0.5},\"mode\":\"lines\",\"name\":\"Outside_range_Dry_WOW\",\"showlegend\":false,\"x\":[\"2022-08-05T00:00:00\",\"2022-08-05T00:00:00\"],\"y\":[21742.0,189772.0],\"type\":\"scatter\"},{\"line\":{\"color\":\"#000099\",\"dash\":\"dash\",\"width\":0.5},\"mode\":\"lines\",\"name\":\"Outside_range_Dry_WOW\",\"showlegend\":false,\"x\":[\"2022-08-17T00:00:00\",\"2022-08-17T00:00:00\"],\"y\":[21742.0,189772.0],\"type\":\"scatter\"},{\"line\":{\"color\":\"#000099\",\"dash\":\"dash\",\"width\":0.5},\"mode\":\"lines\",\"name\":\"Outside_range_Dry_WOW\",\"showlegend\":false,\"x\":[\"2022-08-19T00:00:00\",\"2022-08-19T00:00:00\"],\"y\":[21742.0,189772.0],\"type\":\"scatter\"},{\"line\":{\"color\":\"#000099\",\"dash\":\"dash\",\"width\":0.5},\"mode\":\"lines\",\"name\":\"Outside_range_Dry_WOW\",\"showlegend\":false,\"x\":[\"2022-08-30T00:00:00\",\"2022-08-30T00:00:00\"],\"y\":[21742.0,189772.0],\"type\":\"scatter\"},{\"line\":{\"color\":\"#000099\",\"dash\":\"dash\",\"width\":0.5},\"mode\":\"lines\",\"name\":\"Outside_range_Dry_WOW\",\"showlegend\":false,\"x\":[\"2022-09-01T00:00:00\",\"2022-09-01T00:00:00\"],\"y\":[21742.0,189772.0],\"type\":\"scatter\"},{\"line\":{\"color\":\"#000099\",\"dash\":\"dash\",\"width\":0.5},\"mode\":\"lines\",\"name\":\"Outside_range_Dry_WOW\",\"showlegend\":false,\"x\":[\"2022-09-02T00:00:00\",\"2022-09-02T00:00:00\"],\"y\":[21742.0,189772.0],\"type\":\"scatter\"},{\"line\":{\"color\":\"#000099\",\"dash\":\"dash\",\"width\":0.5},\"mode\":\"lines\",\"name\":\"Outside_range_Dry_WOW\",\"showlegend\":false,\"x\":[\"2022-09-09T00:00:00\",\"2022-09-09T00:00:00\"],\"y\":[21742.0,189772.0],\"type\":\"scatter\"},{\"line\":{\"color\":\"#000099\",\"dash\":\"dash\",\"width\":0.5},\"mode\":\"lines\",\"name\":\"Outside_range_Dry_WOW\",\"showlegend\":false,\"x\":[\"2022-09-14T00:00:00\",\"2022-09-14T00:00:00\"],\"y\":[21742.0,189772.0],\"type\":\"scatter\"},{\"line\":{\"color\":\"#000099\",\"dash\":\"dash\",\"width\":0.5},\"mode\":\"lines\",\"name\":\"Outside_range_Dry_WOW\",\"showlegend\":false,\"x\":[\"2022-09-15T00:00:00\",\"2022-09-15T00:00:00\"],\"y\":[21742.0,189772.0],\"type\":\"scatter\"},{\"line\":{\"color\":\"#000099\",\"dash\":\"dash\",\"width\":0.5},\"mode\":\"lines\",\"name\":\"Outside_range_Dry_WOW\",\"showlegend\":false,\"x\":[\"2022-09-22T00:00:00\",\"2022-09-22T00:00:00\"],\"y\":[21742.0,189772.0],\"type\":\"scatter\"},{\"line\":{\"color\":\"#000099\",\"dash\":\"dash\",\"width\":0.5},\"mode\":\"lines\",\"name\":\"Outside_range_Dry_WOW\",\"showlegend\":false,\"x\":[\"2022-09-29T00:00:00\",\"2022-09-29T00:00:00\"],\"y\":[21742.0,189772.0],\"type\":\"scatter\"},{\"line\":{\"color\":\"#000099\",\"dash\":\"dash\",\"width\":0.5},\"mode\":\"lines\",\"name\":\"Outside_range_Dry_WOW\",\"showlegend\":false,\"x\":[\"2022-10-07T00:00:00\",\"2022-10-07T00:00:00\"],\"y\":[21742.0,189772.0],\"type\":\"scatter\"},{\"line\":{\"color\":\"#000099\",\"dash\":\"dash\",\"width\":0.5},\"mode\":\"lines\",\"name\":\"Outside_range_Dry_WOW\",\"showlegend\":false,\"x\":[\"2022-10-12T00:00:00\",\"2022-10-12T00:00:00\"],\"y\":[21742.0,189772.0],\"type\":\"scatter\"},{\"line\":{\"color\":\"#000099\",\"dash\":\"dash\",\"width\":0.5},\"mode\":\"lines\",\"name\":\"Outside_range_Dry_WOW\",\"showlegend\":false,\"x\":[\"2022-10-21T00:00:00\",\"2022-10-21T00:00:00\"],\"y\":[21742.0,189772.0],\"type\":\"scatter\"},{\"line\":{\"color\":\"#000099\",\"dash\":\"dash\",\"width\":0.5},\"mode\":\"lines\",\"name\":\"Outside_range_Dry_WOW\",\"showlegend\":false,\"x\":[\"2022-10-24T00:00:00\",\"2022-10-24T00:00:00\"],\"y\":[21742.0,189772.0],\"type\":\"scatter\"},{\"line\":{\"color\":\"#000099\",\"dash\":\"dash\",\"width\":0.5},\"mode\":\"lines\",\"name\":\"Outside_range_Dry_WOW\",\"showlegend\":false,\"x\":[\"2022-10-25T00:00:00\",\"2022-10-25T00:00:00\"],\"y\":[21742.0,189772.0],\"type\":\"scatter\"},{\"line\":{\"color\":\"#000099\",\"dash\":\"dash\",\"width\":0.5},\"mode\":\"lines\",\"name\":\"Outside_range_Dry_WOW\",\"showlegend\":false,\"x\":[\"2022-11-07T00:00:00\",\"2022-11-07T00:00:00\"],\"y\":[21742.0,189772.0],\"type\":\"scatter\"},{\"line\":{\"color\":\"#000099\",\"dash\":\"dash\",\"width\":0.5},\"mode\":\"lines\",\"name\":\"Outside_range_Dry_WOW\",\"showlegend\":false,\"x\":[\"2022-11-08T00:00:00\",\"2022-11-08T00:00:00\"],\"y\":[21742.0,189772.0],\"type\":\"scatter\"},{\"line\":{\"color\":\"#000099\",\"dash\":\"dash\",\"width\":0.5},\"mode\":\"lines\",\"name\":\"Outside_range_Dry_WOW\",\"showlegend\":false,\"x\":[\"2022-11-09T00:00:00\",\"2022-11-09T00:00:00\"],\"y\":[21742.0,189772.0],\"type\":\"scatter\"},{\"line\":{\"color\":\"#000099\",\"dash\":\"dash\",\"width\":0.5},\"mode\":\"lines\",\"name\":\"Outside_range_Dry_WOW\",\"showlegend\":false,\"x\":[\"2022-11-10T00:00:00\",\"2022-11-10T00:00:00\"],\"y\":[21742.0,189772.0],\"type\":\"scatter\"},{\"line\":{\"color\":\"#000099\",\"dash\":\"dash\",\"width\":0.5},\"mode\":\"lines\",\"name\":\"Outside_range_Dry_WOW\",\"showlegend\":false,\"x\":[\"2022-11-17T00:00:00\",\"2022-11-17T00:00:00\"],\"y\":[21742.0,189772.0],\"type\":\"scatter\"},{\"line\":{\"color\":\"#000099\",\"dash\":\"dash\",\"width\":0.5},\"mode\":\"lines\",\"name\":\"Outside_range_Dry_WOW\",\"showlegend\":false,\"x\":[\"2022-11-18T00:00:00\",\"2022-11-18T00:00:00\"],\"y\":[21742.0,189772.0],\"type\":\"scatter\"},{\"line\":{\"color\":\"#000099\",\"dash\":\"dash\",\"width\":0.5},\"mode\":\"lines\",\"name\":\"Outside_range_Dry_WOW\",\"showlegend\":false,\"x\":[\"2022-11-22T00:00:00\",\"2022-11-22T00:00:00\"],\"y\":[21742.0,189772.0],\"type\":\"scatter\"},{\"line\":{\"color\":\"#000099\",\"dash\":\"dash\",\"width\":0.5},\"mode\":\"lines\",\"name\":\"Outside_range_Dry_WOW\",\"showlegend\":false,\"x\":[\"2022-11-24T00:00:00\",\"2022-11-24T00:00:00\"],\"y\":[21742.0,189772.0],\"type\":\"scatter\"},{\"line\":{\"color\":\"#000099\",\"dash\":\"dash\",\"width\":0.5},\"mode\":\"lines\",\"name\":\"Outside_range_Dry_WOW\",\"showlegend\":false,\"x\":[\"2022-11-25T00:00:00\",\"2022-11-25T00:00:00\"],\"y\":[21742.0,189772.0],\"type\":\"scatter\"},{\"line\":{\"color\":\"#000099\",\"dash\":\"dash\",\"width\":0.5},\"mode\":\"lines\",\"name\":\"Outside_range_Dry_WOW\",\"showlegend\":false,\"x\":[\"2022-11-29T00:00:00\",\"2022-11-29T00:00:00\"],\"y\":[21742.0,189772.0],\"type\":\"scatter\"},{\"line\":{\"color\":\"#000099\",\"dash\":\"dash\",\"width\":0.5},\"mode\":\"lines\",\"name\":\"Outside_range_Dry_WOW\",\"showlegend\":false,\"x\":[\"2022-12-02T00:00:00\",\"2022-12-02T00:00:00\"],\"y\":[21742.0,189772.0],\"type\":\"scatter\"},{\"line\":{\"color\":\"#000099\",\"dash\":\"dash\",\"width\":0.5},\"mode\":\"lines\",\"name\":\"Outside_range_Dry_WOW\",\"showlegend\":false,\"x\":[\"2022-12-06T00:00:00\",\"2022-12-06T00:00:00\"],\"y\":[21742.0,189772.0],\"type\":\"scatter\"},{\"line\":{\"color\":\"#000099\",\"dash\":\"dash\",\"width\":0.5},\"mode\":\"lines\",\"name\":\"Outside_range_Dry_WOW\",\"showlegend\":false,\"x\":[\"2022-12-21T00:00:00\",\"2022-12-21T00:00:00\"],\"y\":[21742.0,189772.0],\"type\":\"scatter\"},{\"line\":{\"color\":\"#000099\",\"dash\":\"dash\",\"width\":0.5},\"mode\":\"lines\",\"name\":\"Outside_range_Dry_WOW\",\"showlegend\":false,\"x\":[\"2022-12-22T00:00:00\",\"2022-12-22T00:00:00\"],\"y\":[21742.0,189772.0],\"type\":\"scatter\"},{\"line\":{\"color\":\"#000099\",\"dash\":\"dash\",\"width\":0.5},\"mode\":\"lines\",\"name\":\"Outside_range_Dry_WOW\",\"showlegend\":false,\"x\":[\"2022-12-27T00:00:00\",\"2022-12-27T00:00:00\"],\"y\":[21742.0,189772.0],\"type\":\"scatter\"},{\"line\":{\"color\":\"#000099\",\"dash\":\"dash\",\"width\":0.5},\"mode\":\"lines\",\"name\":\"Outside_range_Dry_WOW\",\"showlegend\":false,\"x\":[\"2022-12-28T00:00:00\",\"2022-12-28T00:00:00\"],\"y\":[21742.0,189772.0],\"type\":\"scatter\"},{\"line\":{\"color\":\"#000099\",\"dash\":\"dash\",\"width\":0.5},\"mode\":\"lines\",\"name\":\"Outside_range_Dry_WOW\",\"showlegend\":false,\"x\":[\"2022-12-29T00:00:00\",\"2022-12-29T00:00:00\"],\"y\":[21742.0,189772.0],\"type\":\"scatter\"},{\"line\":{\"color\":\"#000099\",\"dash\":\"dash\",\"width\":0.5},\"mode\":\"lines\",\"name\":\"Outside_range_Dry_WOW\",\"showlegend\":false,\"x\":[\"2022-12-30T00:00:00\",\"2022-12-30T00:00:00\"],\"y\":[21742.0,189772.0],\"type\":\"scatter\"},{\"line\":{\"color\":\"#990000\",\"dash\":\"dash\",\"width\":0.5},\"mode\":\"lines\",\"name\":\"Outside_range_Dry_LGBM\",\"showlegend\":true,\"x\":[\"2022-07-18T00:00:00\",\"2022-07-18T00:00:00\"],\"y\":[21742.0,189772.0],\"type\":\"scatter\"},{\"line\":{\"color\":\"#990000\",\"dash\":\"dash\",\"width\":0.5},\"mode\":\"lines\",\"name\":\"Outside_range_Dry_LGBM\",\"showlegend\":false,\"x\":[\"2022-07-19T00:00:00\",\"2022-07-19T00:00:00\"],\"y\":[21742.0,189772.0],\"type\":\"scatter\"},{\"line\":{\"color\":\"#990000\",\"dash\":\"dash\",\"width\":0.5},\"mode\":\"lines\",\"name\":\"Outside_range_Dry_LGBM\",\"showlegend\":false,\"x\":[\"2022-07-20T00:00:00\",\"2022-07-20T00:00:00\"],\"y\":[21742.0,189772.0],\"type\":\"scatter\"},{\"line\":{\"color\":\"#990000\",\"dash\":\"dash\",\"width\":0.5},\"mode\":\"lines\",\"name\":\"Outside_range_Dry_LGBM\",\"showlegend\":false,\"x\":[\"2022-07-22T00:00:00\",\"2022-07-22T00:00:00\"],\"y\":[21742.0,189772.0],\"type\":\"scatter\"},{\"line\":{\"color\":\"#990000\",\"dash\":\"dash\",\"width\":0.5},\"mode\":\"lines\",\"name\":\"Outside_range_Dry_LGBM\",\"showlegend\":false,\"x\":[\"2022-07-25T00:00:00\",\"2022-07-25T00:00:00\"],\"y\":[21742.0,189772.0],\"type\":\"scatter\"},{\"line\":{\"color\":\"#990000\",\"dash\":\"dash\",\"width\":0.5},\"mode\":\"lines\",\"name\":\"Outside_range_Dry_LGBM\",\"showlegend\":false,\"x\":[\"2022-07-26T00:00:00\",\"2022-07-26T00:00:00\"],\"y\":[21742.0,189772.0],\"type\":\"scatter\"},{\"line\":{\"color\":\"#990000\",\"dash\":\"dash\",\"width\":0.5},\"mode\":\"lines\",\"name\":\"Outside_range_Dry_LGBM\",\"showlegend\":false,\"x\":[\"2022-07-27T00:00:00\",\"2022-07-27T00:00:00\"],\"y\":[21742.0,189772.0],\"type\":\"scatter\"},{\"line\":{\"color\":\"#990000\",\"dash\":\"dash\",\"width\":0.5},\"mode\":\"lines\",\"name\":\"Outside_range_Dry_LGBM\",\"showlegend\":false,\"x\":[\"2022-07-28T00:00:00\",\"2022-07-28T00:00:00\"],\"y\":[21742.0,189772.0],\"type\":\"scatter\"},{\"line\":{\"color\":\"#990000\",\"dash\":\"dash\",\"width\":0.5},\"mode\":\"lines\",\"name\":\"Outside_range_Dry_LGBM\",\"showlegend\":false,\"x\":[\"2022-07-29T00:00:00\",\"2022-07-29T00:00:00\"],\"y\":[21742.0,189772.0],\"type\":\"scatter\"},{\"line\":{\"color\":\"#990000\",\"dash\":\"dash\",\"width\":0.5},\"mode\":\"lines\",\"name\":\"Outside_range_Dry_LGBM\",\"showlegend\":false,\"x\":[\"2022-08-01T00:00:00\",\"2022-08-01T00:00:00\"],\"y\":[21742.0,189772.0],\"type\":\"scatter\"},{\"line\":{\"color\":\"#990000\",\"dash\":\"dash\",\"width\":0.5},\"mode\":\"lines\",\"name\":\"Outside_range_Dry_LGBM\",\"showlegend\":false,\"x\":[\"2022-08-02T00:00:00\",\"2022-08-02T00:00:00\"],\"y\":[21742.0,189772.0],\"type\":\"scatter\"},{\"line\":{\"color\":\"#990000\",\"dash\":\"dash\",\"width\":0.5},\"mode\":\"lines\",\"name\":\"Outside_range_Dry_LGBM\",\"showlegend\":false,\"x\":[\"2022-08-03T00:00:00\",\"2022-08-03T00:00:00\"],\"y\":[21742.0,189772.0],\"type\":\"scatter\"},{\"line\":{\"color\":\"#990000\",\"dash\":\"dash\",\"width\":0.5},\"mode\":\"lines\",\"name\":\"Outside_range_Dry_LGBM\",\"showlegend\":false,\"x\":[\"2022-08-04T00:00:00\",\"2022-08-04T00:00:00\"],\"y\":[21742.0,189772.0],\"type\":\"scatter\"},{\"line\":{\"color\":\"#990000\",\"dash\":\"dash\",\"width\":0.5},\"mode\":\"lines\",\"name\":\"Outside_range_Dry_LGBM\",\"showlegend\":false,\"x\":[\"2022-08-05T00:00:00\",\"2022-08-05T00:00:00\"],\"y\":[21742.0,189772.0],\"type\":\"scatter\"},{\"line\":{\"color\":\"#990000\",\"dash\":\"dash\",\"width\":0.5},\"mode\":\"lines\",\"name\":\"Outside_range_Dry_LGBM\",\"showlegend\":false,\"x\":[\"2022-08-08T00:00:00\",\"2022-08-08T00:00:00\"],\"y\":[21742.0,189772.0],\"type\":\"scatter\"},{\"line\":{\"color\":\"#990000\",\"dash\":\"dash\",\"width\":0.5},\"mode\":\"lines\",\"name\":\"Outside_range_Dry_LGBM\",\"showlegend\":false,\"x\":[\"2022-08-09T00:00:00\",\"2022-08-09T00:00:00\"],\"y\":[21742.0,189772.0],\"type\":\"scatter\"},{\"line\":{\"color\":\"#990000\",\"dash\":\"dash\",\"width\":0.5},\"mode\":\"lines\",\"name\":\"Outside_range_Dry_LGBM\",\"showlegend\":false,\"x\":[\"2022-08-10T00:00:00\",\"2022-08-10T00:00:00\"],\"y\":[21742.0,189772.0],\"type\":\"scatter\"},{\"line\":{\"color\":\"#990000\",\"dash\":\"dash\",\"width\":0.5},\"mode\":\"lines\",\"name\":\"Outside_range_Dry_LGBM\",\"showlegend\":false,\"x\":[\"2022-08-11T00:00:00\",\"2022-08-11T00:00:00\"],\"y\":[21742.0,189772.0],\"type\":\"scatter\"},{\"line\":{\"color\":\"#990000\",\"dash\":\"dash\",\"width\":0.5},\"mode\":\"lines\",\"name\":\"Outside_range_Dry_LGBM\",\"showlegend\":false,\"x\":[\"2022-08-12T00:00:00\",\"2022-08-12T00:00:00\"],\"y\":[21742.0,189772.0],\"type\":\"scatter\"},{\"line\":{\"color\":\"#990000\",\"dash\":\"dash\",\"width\":0.5},\"mode\":\"lines\",\"name\":\"Outside_range_Dry_LGBM\",\"showlegend\":false,\"x\":[\"2022-08-16T00:00:00\",\"2022-08-16T00:00:00\"],\"y\":[21742.0,189772.0],\"type\":\"scatter\"},{\"line\":{\"color\":\"#990000\",\"dash\":\"dash\",\"width\":0.5},\"mode\":\"lines\",\"name\":\"Outside_range_Dry_LGBM\",\"showlegend\":false,\"x\":[\"2022-08-17T00:00:00\",\"2022-08-17T00:00:00\"],\"y\":[21742.0,189772.0],\"type\":\"scatter\"},{\"line\":{\"color\":\"#990000\",\"dash\":\"dash\",\"width\":0.5},\"mode\":\"lines\",\"name\":\"Outside_range_Dry_LGBM\",\"showlegend\":false,\"x\":[\"2022-08-18T00:00:00\",\"2022-08-18T00:00:00\"],\"y\":[21742.0,189772.0],\"type\":\"scatter\"},{\"line\":{\"color\":\"#990000\",\"dash\":\"dash\",\"width\":0.5},\"mode\":\"lines\",\"name\":\"Outside_range_Dry_LGBM\",\"showlegend\":false,\"x\":[\"2022-08-19T00:00:00\",\"2022-08-19T00:00:00\"],\"y\":[21742.0,189772.0],\"type\":\"scatter\"},{\"line\":{\"color\":\"#990000\",\"dash\":\"dash\",\"width\":0.5},\"mode\":\"lines\",\"name\":\"Outside_range_Dry_LGBM\",\"showlegend\":false,\"x\":[\"2022-08-22T00:00:00\",\"2022-08-22T00:00:00\"],\"y\":[21742.0,189772.0],\"type\":\"scatter\"},{\"line\":{\"color\":\"#990000\",\"dash\":\"dash\",\"width\":0.5},\"mode\":\"lines\",\"name\":\"Outside_range_Dry_LGBM\",\"showlegend\":false,\"x\":[\"2022-08-23T00:00:00\",\"2022-08-23T00:00:00\"],\"y\":[21742.0,189772.0],\"type\":\"scatter\"},{\"line\":{\"color\":\"#990000\",\"dash\":\"dash\",\"width\":0.5},\"mode\":\"lines\",\"name\":\"Outside_range_Dry_LGBM\",\"showlegend\":false,\"x\":[\"2022-08-24T00:00:00\",\"2022-08-24T00:00:00\"],\"y\":[21742.0,189772.0],\"type\":\"scatter\"},{\"line\":{\"color\":\"#990000\",\"dash\":\"dash\",\"width\":0.5},\"mode\":\"lines\",\"name\":\"Outside_range_Dry_LGBM\",\"showlegend\":false,\"x\":[\"2022-08-25T00:00:00\",\"2022-08-25T00:00:00\"],\"y\":[21742.0,189772.0],\"type\":\"scatter\"},{\"line\":{\"color\":\"#990000\",\"dash\":\"dash\",\"width\":0.5},\"mode\":\"lines\",\"name\":\"Outside_range_Dry_LGBM\",\"showlegend\":false,\"x\":[\"2022-08-26T00:00:00\",\"2022-08-26T00:00:00\"],\"y\":[21742.0,189772.0],\"type\":\"scatter\"},{\"line\":{\"color\":\"#990000\",\"dash\":\"dash\",\"width\":0.5},\"mode\":\"lines\",\"name\":\"Outside_range_Dry_LGBM\",\"showlegend\":false,\"x\":[\"2022-08-29T00:00:00\",\"2022-08-29T00:00:00\"],\"y\":[21742.0,189772.0],\"type\":\"scatter\"},{\"line\":{\"color\":\"#990000\",\"dash\":\"dash\",\"width\":0.5},\"mode\":\"lines\",\"name\":\"Outside_range_Dry_LGBM\",\"showlegend\":false,\"x\":[\"2022-08-31T00:00:00\",\"2022-08-31T00:00:00\"],\"y\":[21742.0,189772.0],\"type\":\"scatter\"},{\"line\":{\"color\":\"#990000\",\"dash\":\"dash\",\"width\":0.5},\"mode\":\"lines\",\"name\":\"Outside_range_Dry_LGBM\",\"showlegend\":false,\"x\":[\"2022-09-01T00:00:00\",\"2022-09-01T00:00:00\"],\"y\":[21742.0,189772.0],\"type\":\"scatter\"},{\"line\":{\"color\":\"#990000\",\"dash\":\"dash\",\"width\":0.5},\"mode\":\"lines\",\"name\":\"Outside_range_Dry_LGBM\",\"showlegend\":false,\"x\":[\"2022-09-02T00:00:00\",\"2022-09-02T00:00:00\"],\"y\":[21742.0,189772.0],\"type\":\"scatter\"},{\"line\":{\"color\":\"#990000\",\"dash\":\"dash\",\"width\":0.5},\"mode\":\"lines\",\"name\":\"Outside_range_Dry_LGBM\",\"showlegend\":false,\"x\":[\"2022-09-05T00:00:00\",\"2022-09-05T00:00:00\"],\"y\":[21742.0,189772.0],\"type\":\"scatter\"},{\"line\":{\"color\":\"#990000\",\"dash\":\"dash\",\"width\":0.5},\"mode\":\"lines\",\"name\":\"Outside_range_Dry_LGBM\",\"showlegend\":false,\"x\":[\"2022-09-06T00:00:00\",\"2022-09-06T00:00:00\"],\"y\":[21742.0,189772.0],\"type\":\"scatter\"},{\"line\":{\"color\":\"#990000\",\"dash\":\"dash\",\"width\":0.5},\"mode\":\"lines\",\"name\":\"Outside_range_Dry_LGBM\",\"showlegend\":false,\"x\":[\"2022-09-07T00:00:00\",\"2022-09-07T00:00:00\"],\"y\":[21742.0,189772.0],\"type\":\"scatter\"},{\"line\":{\"color\":\"#990000\",\"dash\":\"dash\",\"width\":0.5},\"mode\":\"lines\",\"name\":\"Outside_range_Dry_LGBM\",\"showlegend\":false,\"x\":[\"2022-09-08T00:00:00\",\"2022-09-08T00:00:00\"],\"y\":[21742.0,189772.0],\"type\":\"scatter\"},{\"line\":{\"color\":\"#990000\",\"dash\":\"dash\",\"width\":0.5},\"mode\":\"lines\",\"name\":\"Outside_range_Dry_LGBM\",\"showlegend\":false,\"x\":[\"2022-09-09T00:00:00\",\"2022-09-09T00:00:00\"],\"y\":[21742.0,189772.0],\"type\":\"scatter\"},{\"line\":{\"color\":\"#990000\",\"dash\":\"dash\",\"width\":0.5},\"mode\":\"lines\",\"name\":\"Outside_range_Dry_LGBM\",\"showlegend\":false,\"x\":[\"2022-09-12T00:00:00\",\"2022-09-12T00:00:00\"],\"y\":[21742.0,189772.0],\"type\":\"scatter\"},{\"line\":{\"color\":\"#990000\",\"dash\":\"dash\",\"width\":0.5},\"mode\":\"lines\",\"name\":\"Outside_range_Dry_LGBM\",\"showlegend\":false,\"x\":[\"2022-09-13T00:00:00\",\"2022-09-13T00:00:00\"],\"y\":[21742.0,189772.0],\"type\":\"scatter\"},{\"line\":{\"color\":\"#990000\",\"dash\":\"dash\",\"width\":0.5},\"mode\":\"lines\",\"name\":\"Outside_range_Dry_LGBM\",\"showlegend\":false,\"x\":[\"2022-09-14T00:00:00\",\"2022-09-14T00:00:00\"],\"y\":[21742.0,189772.0],\"type\":\"scatter\"},{\"line\":{\"color\":\"#990000\",\"dash\":\"dash\",\"width\":0.5},\"mode\":\"lines\",\"name\":\"Outside_range_Dry_LGBM\",\"showlegend\":false,\"x\":[\"2022-09-15T00:00:00\",\"2022-09-15T00:00:00\"],\"y\":[21742.0,189772.0],\"type\":\"scatter\"},{\"line\":{\"color\":\"#990000\",\"dash\":\"dash\",\"width\":0.5},\"mode\":\"lines\",\"name\":\"Outside_range_Dry_LGBM\",\"showlegend\":false,\"x\":[\"2022-09-16T00:00:00\",\"2022-09-16T00:00:00\"],\"y\":[21742.0,189772.0],\"type\":\"scatter\"},{\"line\":{\"color\":\"#990000\",\"dash\":\"dash\",\"width\":0.5},\"mode\":\"lines\",\"name\":\"Outside_range_Dry_LGBM\",\"showlegend\":false,\"x\":[\"2022-09-19T00:00:00\",\"2022-09-19T00:00:00\"],\"y\":[21742.0,189772.0],\"type\":\"scatter\"},{\"line\":{\"color\":\"#990000\",\"dash\":\"dash\",\"width\":0.5},\"mode\":\"lines\",\"name\":\"Outside_range_Dry_LGBM\",\"showlegend\":false,\"x\":[\"2022-09-20T00:00:00\",\"2022-09-20T00:00:00\"],\"y\":[21742.0,189772.0],\"type\":\"scatter\"},{\"line\":{\"color\":\"#990000\",\"dash\":\"dash\",\"width\":0.5},\"mode\":\"lines\",\"name\":\"Outside_range_Dry_LGBM\",\"showlegend\":false,\"x\":[\"2022-09-21T00:00:00\",\"2022-09-21T00:00:00\"],\"y\":[21742.0,189772.0],\"type\":\"scatter\"},{\"line\":{\"color\":\"#990000\",\"dash\":\"dash\",\"width\":0.5},\"mode\":\"lines\",\"name\":\"Outside_range_Dry_LGBM\",\"showlegend\":false,\"x\":[\"2022-09-22T00:00:00\",\"2022-09-22T00:00:00\"],\"y\":[21742.0,189772.0],\"type\":\"scatter\"},{\"line\":{\"color\":\"#990000\",\"dash\":\"dash\",\"width\":0.5},\"mode\":\"lines\",\"name\":\"Outside_range_Dry_LGBM\",\"showlegend\":false,\"x\":[\"2022-09-23T00:00:00\",\"2022-09-23T00:00:00\"],\"y\":[21742.0,189772.0],\"type\":\"scatter\"},{\"line\":{\"color\":\"#990000\",\"dash\":\"dash\",\"width\":0.5},\"mode\":\"lines\",\"name\":\"Outside_range_Dry_LGBM\",\"showlegend\":false,\"x\":[\"2022-09-27T00:00:00\",\"2022-09-27T00:00:00\"],\"y\":[21742.0,189772.0],\"type\":\"scatter\"},{\"line\":{\"color\":\"#990000\",\"dash\":\"dash\",\"width\":0.5},\"mode\":\"lines\",\"name\":\"Outside_range_Dry_LGBM\",\"showlegend\":false,\"x\":[\"2022-09-28T00:00:00\",\"2022-09-28T00:00:00\"],\"y\":[21742.0,189772.0],\"type\":\"scatter\"},{\"line\":{\"color\":\"#990000\",\"dash\":\"dash\",\"width\":0.5},\"mode\":\"lines\",\"name\":\"Outside_range_Dry_LGBM\",\"showlegend\":false,\"x\":[\"2022-09-29T00:00:00\",\"2022-09-29T00:00:00\"],\"y\":[21742.0,189772.0],\"type\":\"scatter\"},{\"line\":{\"color\":\"#990000\",\"dash\":\"dash\",\"width\":0.5},\"mode\":\"lines\",\"name\":\"Outside_range_Dry_LGBM\",\"showlegend\":false,\"x\":[\"2022-09-30T00:00:00\",\"2022-09-30T00:00:00\"],\"y\":[21742.0,189772.0],\"type\":\"scatter\"},{\"line\":{\"color\":\"#990000\",\"dash\":\"dash\",\"width\":0.5},\"mode\":\"lines\",\"name\":\"Outside_range_Dry_LGBM\",\"showlegend\":false,\"x\":[\"2022-10-04T00:00:00\",\"2022-10-04T00:00:00\"],\"y\":[21742.0,189772.0],\"type\":\"scatter\"},{\"line\":{\"color\":\"#990000\",\"dash\":\"dash\",\"width\":0.5},\"mode\":\"lines\",\"name\":\"Outside_range_Dry_LGBM\",\"showlegend\":false,\"x\":[\"2022-10-05T00:00:00\",\"2022-10-05T00:00:00\"],\"y\":[21742.0,189772.0],\"type\":\"scatter\"},{\"line\":{\"color\":\"#990000\",\"dash\":\"dash\",\"width\":0.5},\"mode\":\"lines\",\"name\":\"Outside_range_Dry_LGBM\",\"showlegend\":false,\"x\":[\"2022-10-06T00:00:00\",\"2022-10-06T00:00:00\"],\"y\":[21742.0,189772.0],\"type\":\"scatter\"},{\"line\":{\"color\":\"#990000\",\"dash\":\"dash\",\"width\":0.5},\"mode\":\"lines\",\"name\":\"Outside_range_Dry_LGBM\",\"showlegend\":false,\"x\":[\"2022-10-07T00:00:00\",\"2022-10-07T00:00:00\"],\"y\":[21742.0,189772.0],\"type\":\"scatter\"},{\"line\":{\"color\":\"#990000\",\"dash\":\"dash\",\"width\":0.5},\"mode\":\"lines\",\"name\":\"Outside_range_Dry_LGBM\",\"showlegend\":false,\"x\":[\"2022-10-11T00:00:00\",\"2022-10-11T00:00:00\"],\"y\":[21742.0,189772.0],\"type\":\"scatter\"},{\"line\":{\"color\":\"#990000\",\"dash\":\"dash\",\"width\":0.5},\"mode\":\"lines\",\"name\":\"Outside_range_Dry_LGBM\",\"showlegend\":false,\"x\":[\"2022-10-12T00:00:00\",\"2022-10-12T00:00:00\"],\"y\":[21742.0,189772.0],\"type\":\"scatter\"},{\"line\":{\"color\":\"#990000\",\"dash\":\"dash\",\"width\":0.5},\"mode\":\"lines\",\"name\":\"Outside_range_Dry_LGBM\",\"showlegend\":false,\"x\":[\"2022-10-13T00:00:00\",\"2022-10-13T00:00:00\"],\"y\":[21742.0,189772.0],\"type\":\"scatter\"},{\"line\":{\"color\":\"#990000\",\"dash\":\"dash\",\"width\":0.5},\"mode\":\"lines\",\"name\":\"Outside_range_Dry_LGBM\",\"showlegend\":false,\"x\":[\"2022-10-14T00:00:00\",\"2022-10-14T00:00:00\"],\"y\":[21742.0,189772.0],\"type\":\"scatter\"},{\"line\":{\"color\":\"#990000\",\"dash\":\"dash\",\"width\":0.5},\"mode\":\"lines\",\"name\":\"Outside_range_Dry_LGBM\",\"showlegend\":false,\"x\":[\"2022-10-18T00:00:00\",\"2022-10-18T00:00:00\"],\"y\":[21742.0,189772.0],\"type\":\"scatter\"},{\"line\":{\"color\":\"#990000\",\"dash\":\"dash\",\"width\":0.5},\"mode\":\"lines\",\"name\":\"Outside_range_Dry_LGBM\",\"showlegend\":false,\"x\":[\"2022-10-19T00:00:00\",\"2022-10-19T00:00:00\"],\"y\":[21742.0,189772.0],\"type\":\"scatter\"},{\"line\":{\"color\":\"#990000\",\"dash\":\"dash\",\"width\":0.5},\"mode\":\"lines\",\"name\":\"Outside_range_Dry_LGBM\",\"showlegend\":false,\"x\":[\"2022-10-20T00:00:00\",\"2022-10-20T00:00:00\"],\"y\":[21742.0,189772.0],\"type\":\"scatter\"},{\"line\":{\"color\":\"#990000\",\"dash\":\"dash\",\"width\":0.5},\"mode\":\"lines\",\"name\":\"Outside_range_Dry_LGBM\",\"showlegend\":false,\"x\":[\"2022-10-21T00:00:00\",\"2022-10-21T00:00:00\"],\"y\":[21742.0,189772.0],\"type\":\"scatter\"},{\"line\":{\"color\":\"#990000\",\"dash\":\"dash\",\"width\":0.5},\"mode\":\"lines\",\"name\":\"Outside_range_Dry_LGBM\",\"showlegend\":false,\"x\":[\"2022-10-24T00:00:00\",\"2022-10-24T00:00:00\"],\"y\":[21742.0,189772.0],\"type\":\"scatter\"},{\"line\":{\"color\":\"#990000\",\"dash\":\"dash\",\"width\":0.5},\"mode\":\"lines\",\"name\":\"Outside_range_Dry_LGBM\",\"showlegend\":false,\"x\":[\"2022-10-25T00:00:00\",\"2022-10-25T00:00:00\"],\"y\":[21742.0,189772.0],\"type\":\"scatter\"},{\"line\":{\"color\":\"#990000\",\"dash\":\"dash\",\"width\":0.5},\"mode\":\"lines\",\"name\":\"Outside_range_Dry_LGBM\",\"showlegend\":false,\"x\":[\"2022-10-26T00:00:00\",\"2022-10-26T00:00:00\"],\"y\":[21742.0,189772.0],\"type\":\"scatter\"},{\"line\":{\"color\":\"#990000\",\"dash\":\"dash\",\"width\":0.5},\"mode\":\"lines\",\"name\":\"Outside_range_Dry_LGBM\",\"showlegend\":false,\"x\":[\"2022-10-27T00:00:00\",\"2022-10-27T00:00:00\"],\"y\":[21742.0,189772.0],\"type\":\"scatter\"},{\"line\":{\"color\":\"#990000\",\"dash\":\"dash\",\"width\":0.5},\"mode\":\"lines\",\"name\":\"Outside_range_Dry_LGBM\",\"showlegend\":false,\"x\":[\"2022-10-28T00:00:00\",\"2022-10-28T00:00:00\"],\"y\":[21742.0,189772.0],\"type\":\"scatter\"},{\"line\":{\"color\":\"#990000\",\"dash\":\"dash\",\"width\":0.5},\"mode\":\"lines\",\"name\":\"Outside_range_Dry_LGBM\",\"showlegend\":false,\"x\":[\"2022-10-31T00:00:00\",\"2022-10-31T00:00:00\"],\"y\":[21742.0,189772.0],\"type\":\"scatter\"},{\"line\":{\"color\":\"#990000\",\"dash\":\"dash\",\"width\":0.5},\"mode\":\"lines\",\"name\":\"Outside_range_Dry_LGBM\",\"showlegend\":false,\"x\":[\"2022-11-02T00:00:00\",\"2022-11-02T00:00:00\"],\"y\":[21742.0,189772.0],\"type\":\"scatter\"},{\"line\":{\"color\":\"#990000\",\"dash\":\"dash\",\"width\":0.5},\"mode\":\"lines\",\"name\":\"Outside_range_Dry_LGBM\",\"showlegend\":false,\"x\":[\"2022-11-03T00:00:00\",\"2022-11-03T00:00:00\"],\"y\":[21742.0,189772.0],\"type\":\"scatter\"},{\"line\":{\"color\":\"#990000\",\"dash\":\"dash\",\"width\":0.5},\"mode\":\"lines\",\"name\":\"Outside_range_Dry_LGBM\",\"showlegend\":false,\"x\":[\"2022-11-08T00:00:00\",\"2022-11-08T00:00:00\"],\"y\":[21742.0,189772.0],\"type\":\"scatter\"},{\"line\":{\"color\":\"#990000\",\"dash\":\"dash\",\"width\":0.5},\"mode\":\"lines\",\"name\":\"Outside_range_Dry_LGBM\",\"showlegend\":false,\"x\":[\"2022-11-09T00:00:00\",\"2022-11-09T00:00:00\"],\"y\":[21742.0,189772.0],\"type\":\"scatter\"},{\"line\":{\"color\":\"#990000\",\"dash\":\"dash\",\"width\":0.5},\"mode\":\"lines\",\"name\":\"Outside_range_Dry_LGBM\",\"showlegend\":false,\"x\":[\"2022-11-15T00:00:00\",\"2022-11-15T00:00:00\"],\"y\":[21742.0,189772.0],\"type\":\"scatter\"},{\"line\":{\"color\":\"#990000\",\"dash\":\"dash\",\"width\":0.5},\"mode\":\"lines\",\"name\":\"Outside_range_Dry_LGBM\",\"showlegend\":false,\"x\":[\"2022-11-16T00:00:00\",\"2022-11-16T00:00:00\"],\"y\":[21742.0,189772.0],\"type\":\"scatter\"},{\"line\":{\"color\":\"#990000\",\"dash\":\"dash\",\"width\":0.5},\"mode\":\"lines\",\"name\":\"Outside_range_Dry_LGBM\",\"showlegend\":false,\"x\":[\"2022-11-17T00:00:00\",\"2022-11-17T00:00:00\"],\"y\":[21742.0,189772.0],\"type\":\"scatter\"},{\"line\":{\"color\":\"#990000\",\"dash\":\"dash\",\"width\":0.5},\"mode\":\"lines\",\"name\":\"Outside_range_Dry_LGBM\",\"showlegend\":false,\"x\":[\"2022-11-18T00:00:00\",\"2022-11-18T00:00:00\"],\"y\":[21742.0,189772.0],\"type\":\"scatter\"},{\"line\":{\"color\":\"#990000\",\"dash\":\"dash\",\"width\":0.5},\"mode\":\"lines\",\"name\":\"Outside_range_Dry_LGBM\",\"showlegend\":false,\"x\":[\"2022-11-21T00:00:00\",\"2022-11-21T00:00:00\"],\"y\":[21742.0,189772.0],\"type\":\"scatter\"},{\"line\":{\"color\":\"#990000\",\"dash\":\"dash\",\"width\":0.5},\"mode\":\"lines\",\"name\":\"Outside_range_Dry_LGBM\",\"showlegend\":false,\"x\":[\"2022-11-22T00:00:00\",\"2022-11-22T00:00:00\"],\"y\":[21742.0,189772.0],\"type\":\"scatter\"},{\"line\":{\"color\":\"#990000\",\"dash\":\"dash\",\"width\":0.5},\"mode\":\"lines\",\"name\":\"Outside_range_Dry_LGBM\",\"showlegend\":false,\"x\":[\"2022-11-23T00:00:00\",\"2022-11-23T00:00:00\"],\"y\":[21742.0,189772.0],\"type\":\"scatter\"},{\"line\":{\"color\":\"#990000\",\"dash\":\"dash\",\"width\":0.5},\"mode\":\"lines\",\"name\":\"Outside_range_Dry_LGBM\",\"showlegend\":false,\"x\":[\"2022-11-24T00:00:00\",\"2022-11-24T00:00:00\"],\"y\":[21742.0,189772.0],\"type\":\"scatter\"},{\"line\":{\"color\":\"#990000\",\"dash\":\"dash\",\"width\":0.5},\"mode\":\"lines\",\"name\":\"Outside_range_Dry_LGBM\",\"showlegend\":false,\"x\":[\"2022-11-25T00:00:00\",\"2022-11-25T00:00:00\"],\"y\":[21742.0,189772.0],\"type\":\"scatter\"},{\"line\":{\"color\":\"#990000\",\"dash\":\"dash\",\"width\":0.5},\"mode\":\"lines\",\"name\":\"Outside_range_Dry_LGBM\",\"showlegend\":false,\"x\":[\"2022-11-28T00:00:00\",\"2022-11-28T00:00:00\"],\"y\":[21742.0,189772.0],\"type\":\"scatter\"},{\"line\":{\"color\":\"#990000\",\"dash\":\"dash\",\"width\":0.5},\"mode\":\"lines\",\"name\":\"Outside_range_Dry_LGBM\",\"showlegend\":false,\"x\":[\"2022-11-29T00:00:00\",\"2022-11-29T00:00:00\"],\"y\":[21742.0,189772.0],\"type\":\"scatter\"},{\"line\":{\"color\":\"#990000\",\"dash\":\"dash\",\"width\":0.5},\"mode\":\"lines\",\"name\":\"Outside_range_Dry_LGBM\",\"showlegend\":false,\"x\":[\"2022-11-30T00:00:00\",\"2022-11-30T00:00:00\"],\"y\":[21742.0,189772.0],\"type\":\"scatter\"},{\"line\":{\"color\":\"#990000\",\"dash\":\"dash\",\"width\":0.5},\"mode\":\"lines\",\"name\":\"Outside_range_Dry_LGBM\",\"showlegend\":false,\"x\":[\"2022-12-01T00:00:00\",\"2022-12-01T00:00:00\"],\"y\":[21742.0,189772.0],\"type\":\"scatter\"},{\"line\":{\"color\":\"#990000\",\"dash\":\"dash\",\"width\":0.5},\"mode\":\"lines\",\"name\":\"Outside_range_Dry_LGBM\",\"showlegend\":false,\"x\":[\"2022-12-02T00:00:00\",\"2022-12-02T00:00:00\"],\"y\":[21742.0,189772.0],\"type\":\"scatter\"},{\"line\":{\"color\":\"#990000\",\"dash\":\"dash\",\"width\":0.5},\"mode\":\"lines\",\"name\":\"Outside_range_Dry_LGBM\",\"showlegend\":false,\"x\":[\"2022-12-07T00:00:00\",\"2022-12-07T00:00:00\"],\"y\":[21742.0,189772.0],\"type\":\"scatter\"},{\"line\":{\"color\":\"#990000\",\"dash\":\"dash\",\"width\":0.5},\"mode\":\"lines\",\"name\":\"Outside_range_Dry_LGBM\",\"showlegend\":false,\"x\":[\"2022-12-08T00:00:00\",\"2022-12-08T00:00:00\"],\"y\":[21742.0,189772.0],\"type\":\"scatter\"},{\"line\":{\"color\":\"#990000\",\"dash\":\"dash\",\"width\":0.5},\"mode\":\"lines\",\"name\":\"Outside_range_Dry_LGBM\",\"showlegend\":false,\"x\":[\"2022-12-09T00:00:00\",\"2022-12-09T00:00:00\"],\"y\":[21742.0,189772.0],\"type\":\"scatter\"},{\"line\":{\"color\":\"#990000\",\"dash\":\"dash\",\"width\":0.5},\"mode\":\"lines\",\"name\":\"Outside_range_Dry_LGBM\",\"showlegend\":false,\"x\":[\"2022-12-12T00:00:00\",\"2022-12-12T00:00:00\"],\"y\":[21742.0,189772.0],\"type\":\"scatter\"},{\"line\":{\"color\":\"#990000\",\"dash\":\"dash\",\"width\":0.5},\"mode\":\"lines\",\"name\":\"Outside_range_Dry_LGBM\",\"showlegend\":false,\"x\":[\"2022-12-13T00:00:00\",\"2022-12-13T00:00:00\"],\"y\":[21742.0,189772.0],\"type\":\"scatter\"},{\"line\":{\"color\":\"#990000\",\"dash\":\"dash\",\"width\":0.5},\"mode\":\"lines\",\"name\":\"Outside_range_Dry_LGBM\",\"showlegend\":false,\"x\":[\"2022-12-14T00:00:00\",\"2022-12-14T00:00:00\"],\"y\":[21742.0,189772.0],\"type\":\"scatter\"},{\"line\":{\"color\":\"#990000\",\"dash\":\"dash\",\"width\":0.5},\"mode\":\"lines\",\"name\":\"Outside_range_Dry_LGBM\",\"showlegend\":false,\"x\":[\"2022-12-15T00:00:00\",\"2022-12-15T00:00:00\"],\"y\":[21742.0,189772.0],\"type\":\"scatter\"},{\"line\":{\"color\":\"#990000\",\"dash\":\"dash\",\"width\":0.5},\"mode\":\"lines\",\"name\":\"Outside_range_Dry_LGBM\",\"showlegend\":false,\"x\":[\"2022-12-16T00:00:00\",\"2022-12-16T00:00:00\"],\"y\":[21742.0,189772.0],\"type\":\"scatter\"},{\"line\":{\"color\":\"#990000\",\"dash\":\"dash\",\"width\":0.5},\"mode\":\"lines\",\"name\":\"Outside_range_Dry_LGBM\",\"showlegend\":false,\"x\":[\"2022-12-19T00:00:00\",\"2022-12-19T00:00:00\"],\"y\":[21742.0,189772.0],\"type\":\"scatter\"},{\"line\":{\"color\":\"#990000\",\"dash\":\"dash\",\"width\":0.5},\"mode\":\"lines\",\"name\":\"Outside_range_Dry_LGBM\",\"showlegend\":false,\"x\":[\"2022-12-21T00:00:00\",\"2022-12-21T00:00:00\"],\"y\":[21742.0,189772.0],\"type\":\"scatter\"},{\"line\":{\"color\":\"#990000\",\"dash\":\"dash\",\"width\":0.5},\"mode\":\"lines\",\"name\":\"Outside_range_Dry_LGBM\",\"showlegend\":false,\"x\":[\"2022-12-22T00:00:00\",\"2022-12-22T00:00:00\"],\"y\":[21742.0,189772.0],\"type\":\"scatter\"},{\"line\":{\"color\":\"#990000\",\"dash\":\"dash\",\"width\":0.5},\"mode\":\"lines\",\"name\":\"Outside_range_Dry_LGBM\",\"showlegend\":false,\"x\":[\"2022-12-23T00:00:00\",\"2022-12-23T00:00:00\"],\"y\":[21742.0,189772.0],\"type\":\"scatter\"},{\"line\":{\"color\":\"#990000\",\"dash\":\"dash\",\"width\":0.5},\"mode\":\"lines\",\"name\":\"Outside_range_Dry_LGBM\",\"showlegend\":false,\"x\":[\"2022-12-27T00:00:00\",\"2022-12-27T00:00:00\"],\"y\":[21742.0,189772.0],\"type\":\"scatter\"},{\"line\":{\"color\":\"#990000\",\"dash\":\"dash\",\"width\":0.5},\"mode\":\"lines\",\"name\":\"Outside_range_Dry_LGBM\",\"showlegend\":false,\"x\":[\"2022-12-28T00:00:00\",\"2022-12-28T00:00:00\"],\"y\":[21742.0,189772.0],\"type\":\"scatter\"},{\"line\":{\"color\":\"#990000\",\"dash\":\"dash\",\"width\":0.5},\"mode\":\"lines\",\"name\":\"Outside_range_Dry_LGBM\",\"showlegend\":false,\"x\":[\"2022-12-29T00:00:00\",\"2022-12-29T00:00:00\"],\"y\":[21742.0,189772.0],\"type\":\"scatter\"},{\"line\":{\"color\":\"#990000\",\"dash\":\"dash\",\"width\":0.5},\"mode\":\"lines\",\"name\":\"Outside_range_Dry_LGBM\",\"showlegend\":false,\"x\":[\"2022-12-30T00:00:00\",\"2022-12-30T00:00:00\"],\"y\":[21742.0,189772.0],\"type\":\"scatter\"}],                        {\"template\":{\"data\":{\"bar\":[{\"error_x\":{\"color\":\"#2a3f5f\"},\"error_y\":{\"color\":\"#2a3f5f\"},\"marker\":{\"line\":{\"color\":\"#E5ECF6\",\"width\":0.5},\"pattern\":{\"fillmode\":\"overlay\",\"size\":10,\"solidity\":0.2}},\"type\":\"bar\"}],\"barpolar\":[{\"marker\":{\"line\":{\"color\":\"#E5ECF6\",\"width\":0.5},\"pattern\":{\"fillmode\":\"overlay\",\"size\":10,\"solidity\":0.2}},\"type\":\"barpolar\"}],\"carpet\":[{\"aaxis\":{\"endlinecolor\":\"#2a3f5f\",\"gridcolor\":\"white\",\"linecolor\":\"white\",\"minorgridcolor\":\"white\",\"startlinecolor\":\"#2a3f5f\"},\"baxis\":{\"endlinecolor\":\"#2a3f5f\",\"gridcolor\":\"white\",\"linecolor\":\"white\",\"minorgridcolor\":\"white\",\"startlinecolor\":\"#2a3f5f\"},\"type\":\"carpet\"}],\"choropleth\":[{\"colorbar\":{\"outlinewidth\":0,\"ticks\":\"\"},\"type\":\"choropleth\"}],\"contour\":[{\"colorbar\":{\"outlinewidth\":0,\"ticks\":\"\"},\"colorscale\":[[0.0,\"#0d0887\"],[0.1111111111111111,\"#46039f\"],[0.2222222222222222,\"#7201a8\"],[0.3333333333333333,\"#9c179e\"],[0.4444444444444444,\"#bd3786\"],[0.5555555555555556,\"#d8576b\"],[0.6666666666666666,\"#ed7953\"],[0.7777777777777778,\"#fb9f3a\"],[0.8888888888888888,\"#fdca26\"],[1.0,\"#f0f921\"]],\"type\":\"contour\"}],\"contourcarpet\":[{\"colorbar\":{\"outlinewidth\":0,\"ticks\":\"\"},\"type\":\"contourcarpet\"}],\"heatmap\":[{\"colorbar\":{\"outlinewidth\":0,\"ticks\":\"\"},\"colorscale\":[[0.0,\"#0d0887\"],[0.1111111111111111,\"#46039f\"],[0.2222222222222222,\"#7201a8\"],[0.3333333333333333,\"#9c179e\"],[0.4444444444444444,\"#bd3786\"],[0.5555555555555556,\"#d8576b\"],[0.6666666666666666,\"#ed7953\"],[0.7777777777777778,\"#fb9f3a\"],[0.8888888888888888,\"#fdca26\"],[1.0,\"#f0f921\"]],\"type\":\"heatmap\"}],\"heatmapgl\":[{\"colorbar\":{\"outlinewidth\":0,\"ticks\":\"\"},\"colorscale\":[[0.0,\"#0d0887\"],[0.1111111111111111,\"#46039f\"],[0.2222222222222222,\"#7201a8\"],[0.3333333333333333,\"#9c179e\"],[0.4444444444444444,\"#bd3786\"],[0.5555555555555556,\"#d8576b\"],[0.6666666666666666,\"#ed7953\"],[0.7777777777777778,\"#fb9f3a\"],[0.8888888888888888,\"#fdca26\"],[1.0,\"#f0f921\"]],\"type\":\"heatmapgl\"}],\"histogram\":[{\"marker\":{\"pattern\":{\"fillmode\":\"overlay\",\"size\":10,\"solidity\":0.2}},\"type\":\"histogram\"}],\"histogram2d\":[{\"colorbar\":{\"outlinewidth\":0,\"ticks\":\"\"},\"colorscale\":[[0.0,\"#0d0887\"],[0.1111111111111111,\"#46039f\"],[0.2222222222222222,\"#7201a8\"],[0.3333333333333333,\"#9c179e\"],[0.4444444444444444,\"#bd3786\"],[0.5555555555555556,\"#d8576b\"],[0.6666666666666666,\"#ed7953\"],[0.7777777777777778,\"#fb9f3a\"],[0.8888888888888888,\"#fdca26\"],[1.0,\"#f0f921\"]],\"type\":\"histogram2d\"}],\"histogram2dcontour\":[{\"colorbar\":{\"outlinewidth\":0,\"ticks\":\"\"},\"colorscale\":[[0.0,\"#0d0887\"],[0.1111111111111111,\"#46039f\"],[0.2222222222222222,\"#7201a8\"],[0.3333333333333333,\"#9c179e\"],[0.4444444444444444,\"#bd3786\"],[0.5555555555555556,\"#d8576b\"],[0.6666666666666666,\"#ed7953\"],[0.7777777777777778,\"#fb9f3a\"],[0.8888888888888888,\"#fdca26\"],[1.0,\"#f0f921\"]],\"type\":\"histogram2dcontour\"}],\"mesh3d\":[{\"colorbar\":{\"outlinewidth\":0,\"ticks\":\"\"},\"type\":\"mesh3d\"}],\"parcoords\":[{\"line\":{\"colorbar\":{\"outlinewidth\":0,\"ticks\":\"\"}},\"type\":\"parcoords\"}],\"pie\":[{\"automargin\":true,\"type\":\"pie\"}],\"scatter\":[{\"marker\":{\"colorbar\":{\"outlinewidth\":0,\"ticks\":\"\"}},\"type\":\"scatter\"}],\"scatter3d\":[{\"line\":{\"colorbar\":{\"outlinewidth\":0,\"ticks\":\"\"}},\"marker\":{\"colorbar\":{\"outlinewidth\":0,\"ticks\":\"\"}},\"type\":\"scatter3d\"}],\"scattercarpet\":[{\"marker\":{\"colorbar\":{\"outlinewidth\":0,\"ticks\":\"\"}},\"type\":\"scattercarpet\"}],\"scattergeo\":[{\"marker\":{\"colorbar\":{\"outlinewidth\":0,\"ticks\":\"\"}},\"type\":\"scattergeo\"}],\"scattergl\":[{\"marker\":{\"colorbar\":{\"outlinewidth\":0,\"ticks\":\"\"}},\"type\":\"scattergl\"}],\"scattermapbox\":[{\"marker\":{\"colorbar\":{\"outlinewidth\":0,\"ticks\":\"\"}},\"type\":\"scattermapbox\"}],\"scatterpolar\":[{\"marker\":{\"colorbar\":{\"outlinewidth\":0,\"ticks\":\"\"}},\"type\":\"scatterpolar\"}],\"scatterpolargl\":[{\"marker\":{\"colorbar\":{\"outlinewidth\":0,\"ticks\":\"\"}},\"type\":\"scatterpolargl\"}],\"scatterternary\":[{\"marker\":{\"colorbar\":{\"outlinewidth\":0,\"ticks\":\"\"}},\"type\":\"scatterternary\"}],\"surface\":[{\"colorbar\":{\"outlinewidth\":0,\"ticks\":\"\"},\"colorscale\":[[0.0,\"#0d0887\"],[0.1111111111111111,\"#46039f\"],[0.2222222222222222,\"#7201a8\"],[0.3333333333333333,\"#9c179e\"],[0.4444444444444444,\"#bd3786\"],[0.5555555555555556,\"#d8576b\"],[0.6666666666666666,\"#ed7953\"],[0.7777777777777778,\"#fb9f3a\"],[0.8888888888888888,\"#fdca26\"],[1.0,\"#f0f921\"]],\"type\":\"surface\"}],\"table\":[{\"cells\":{\"fill\":{\"color\":\"#EBF0F8\"},\"line\":{\"color\":\"white\"}},\"header\":{\"fill\":{\"color\":\"#C8D4E3\"},\"line\":{\"color\":\"white\"}},\"type\":\"table\"}]},\"layout\":{\"annotationdefaults\":{\"arrowcolor\":\"#2a3f5f\",\"arrowhead\":0,\"arrowwidth\":1},\"autotypenumbers\":\"strict\",\"coloraxis\":{\"colorbar\":{\"outlinewidth\":0,\"ticks\":\"\"}},\"colorscale\":{\"diverging\":[[0,\"#8e0152\"],[0.1,\"#c51b7d\"],[0.2,\"#de77ae\"],[0.3,\"#f1b6da\"],[0.4,\"#fde0ef\"],[0.5,\"#f7f7f7\"],[0.6,\"#e6f5d0\"],[0.7,\"#b8e186\"],[0.8,\"#7fbc41\"],[0.9,\"#4d9221\"],[1,\"#276419\"]],\"sequential\":[[0.0,\"#0d0887\"],[0.1111111111111111,\"#46039f\"],[0.2222222222222222,\"#7201a8\"],[0.3333333333333333,\"#9c179e\"],[0.4444444444444444,\"#bd3786\"],[0.5555555555555556,\"#d8576b\"],[0.6666666666666666,\"#ed7953\"],[0.7777777777777778,\"#fb9f3a\"],[0.8888888888888888,\"#fdca26\"],[1.0,\"#f0f921\"]],\"sequentialminus\":[[0.0,\"#0d0887\"],[0.1111111111111111,\"#46039f\"],[0.2222222222222222,\"#7201a8\"],[0.3333333333333333,\"#9c179e\"],[0.4444444444444444,\"#bd3786\"],[0.5555555555555556,\"#d8576b\"],[0.6666666666666666,\"#ed7953\"],[0.7777777777777778,\"#fb9f3a\"],[0.8888888888888888,\"#fdca26\"],[1.0,\"#f0f921\"]]},\"colorway\":[\"#636efa\",\"#EF553B\",\"#00cc96\",\"#ab63fa\",\"#FFA15A\",\"#19d3f3\",\"#FF6692\",\"#B6E880\",\"#FF97FF\",\"#FECB52\"],\"font\":{\"color\":\"#2a3f5f\"},\"geo\":{\"bgcolor\":\"white\",\"lakecolor\":\"white\",\"landcolor\":\"#E5ECF6\",\"showlakes\":true,\"showland\":true,\"subunitcolor\":\"white\"},\"hoverlabel\":{\"align\":\"left\"},\"hovermode\":\"closest\",\"mapbox\":{\"style\":\"light\"},\"paper_bgcolor\":\"white\",\"plot_bgcolor\":\"#E5ECF6\",\"polar\":{\"angularaxis\":{\"gridcolor\":\"white\",\"linecolor\":\"white\",\"ticks\":\"\"},\"bgcolor\":\"#E5ECF6\",\"radialaxis\":{\"gridcolor\":\"white\",\"linecolor\":\"white\",\"ticks\":\"\"}},\"scene\":{\"xaxis\":{\"backgroundcolor\":\"#E5ECF6\",\"gridcolor\":\"white\",\"gridwidth\":2,\"linecolor\":\"white\",\"showbackground\":true,\"ticks\":\"\",\"zerolinecolor\":\"white\"},\"yaxis\":{\"backgroundcolor\":\"#E5ECF6\",\"gridcolor\":\"white\",\"gridwidth\":2,\"linecolor\":\"white\",\"showbackground\":true,\"ticks\":\"\",\"zerolinecolor\":\"white\"},\"zaxis\":{\"backgroundcolor\":\"#E5ECF6\",\"gridcolor\":\"white\",\"gridwidth\":2,\"linecolor\":\"white\",\"showbackground\":true,\"ticks\":\"\",\"zerolinecolor\":\"white\"}},\"shapedefaults\":{\"line\":{\"color\":\"#2a3f5f\"}},\"ternary\":{\"aaxis\":{\"gridcolor\":\"white\",\"linecolor\":\"white\",\"ticks\":\"\"},\"baxis\":{\"gridcolor\":\"white\",\"linecolor\":\"white\",\"ticks\":\"\"},\"bgcolor\":\"#E5ECF6\",\"caxis\":{\"gridcolor\":\"white\",\"linecolor\":\"white\",\"ticks\":\"\"}},\"title\":{\"x\":0.05},\"xaxis\":{\"automargin\":true,\"gridcolor\":\"white\",\"linecolor\":\"white\",\"ticks\":\"\",\"title\":{\"standoff\":15},\"zerolinecolor\":\"white\",\"zerolinewidth\":2},\"yaxis\":{\"automargin\":true,\"gridcolor\":\"white\",\"linecolor\":\"white\",\"ticks\":\"\",\"title\":{\"standoff\":15},\"zerolinecolor\":\"white\",\"zerolinewidth\":2}}}},                        {\"responsive\": true}                    )                };                            </script>        </div>\n</body>\n</html>",
       "datasetInfos": [],
       "metadata": {},
       "removedWidgets": [],
       "textData": null,
       "type": "htmlSandbox"
      }
     },
     "output_type": "display_data"
    }
   ],
   "source": [
    "plot_two_inbound_fc(inbound_df=backtest_df_merge, actuals_col='Dry Actuals', fc_col_1='Dry Fc', fc_col_2= 'LGBM_FC', show_out_of_range=True, date_col='Dates', outside_range_col_1='Outside_range_Dry_WOW', outside_range_col_2='Outside_range_Dry_LGBM')"
   ]
  },
  {
   "cell_type": "markdown",
   "metadata": {
    "application/vnd.databricks.v1+cell": {
     "cellMetadata": {
      "byteLimit": 2048000,
      "rowLimit": 10000
     },
     "inputWidgets": {},
     "nuid": "e2cf8ac6-66a8-4065-a4e2-ac723681c593",
     "showTitle": false,
     "title": ""
    }
   },
   "source": [
    "### Visualize errors"
   ]
  },
  {
   "cell_type": "code",
   "execution_count": 0,
   "metadata": {
    "application/vnd.databricks.v1+cell": {
     "cellMetadata": {
      "byteLimit": 2048000,
      "rowLimit": 10000
     },
     "inputWidgets": {},
     "nuid": "a18a6510-3e4e-4d2b-b5cf-305b56c1c307",
     "showTitle": false,
     "title": ""
    }
   },
   "outputs": [
    {
     "output_type": "display_data",
     "data": {
      "text/html": [
       "<html>\n",
       "<head><meta charset=\"utf-8\" /></head>\n",
       "<body>\n",
       "    <div>            <script src=\"https://cdnjs.cloudflare.com/ajax/libs/mathjax/2.7.5/MathJax.js?config=TeX-AMS-MML_SVG\"></script><script type=\"text/javascript\">if (window.MathJax) {MathJax.Hub.Config({SVG: {font: \"STIX-Web\"}});}</script>                <script type=\"text/javascript\">window.PlotlyConfig = {MathJaxConfig: 'local'};</script>\n",
       "        <script src=\"https://cdn.plot.ly/plotly-2.9.0.min.js\"></script>                <div id=\"ee494e39-7586-4365-9fbd-036f45b6c5b9\" class=\"plotly-graph-div\" style=\"height:100%; width:100%;\"></div>            <script type=\"text/javascript\">                                    window.PLOTLYENV=window.PLOTLYENV || {};                                    if (document.getElementById(\"ee494e39-7586-4365-9fbd-036f45b6c5b9\")) {                    Plotly.newPlot(                        \"ee494e39-7586-4365-9fbd-036f45b6c5b9\",                        [{\"line\":{\"color\":\"#0000FF\"},\"name\":\"Bias_Dry_WOW\",\"showlegend\":true,\"x\":[\"2022-07-18T00:00:00\",\"2022-07-19T00:00:00\",\"2022-07-20T00:00:00\",\"2022-07-22T00:00:00\",\"2022-07-25T00:00:00\",\"2022-07-26T00:00:00\",\"2022-07-27T00:00:00\",\"2022-07-28T00:00:00\",\"2022-07-29T00:00:00\",\"2022-08-01T00:00:00\",\"2022-08-02T00:00:00\",\"2022-08-03T00:00:00\",\"2022-08-04T00:00:00\",\"2022-08-05T00:00:00\",\"2022-08-08T00:00:00\",\"2022-08-09T00:00:00\",\"2022-08-10T00:00:00\",\"2022-08-11T00:00:00\",\"2022-08-12T00:00:00\",\"2022-08-16T00:00:00\",\"2022-08-17T00:00:00\",\"2022-08-18T00:00:00\",\"2022-08-19T00:00:00\",\"2022-08-22T00:00:00\",\"2022-08-23T00:00:00\",\"2022-08-24T00:00:00\",\"2022-08-25T00:00:00\",\"2022-08-26T00:00:00\",\"2022-08-29T00:00:00\",\"2022-08-30T00:00:00\",\"2022-08-31T00:00:00\",\"2022-09-01T00:00:00\",\"2022-09-02T00:00:00\",\"2022-09-05T00:00:00\",\"2022-09-06T00:00:00\",\"2022-09-07T00:00:00\",\"2022-09-08T00:00:00\",\"2022-09-09T00:00:00\",\"2022-09-12T00:00:00\",\"2022-09-13T00:00:00\",\"2022-09-14T00:00:00\",\"2022-09-15T00:00:00\",\"2022-09-16T00:00:00\",\"2022-09-19T00:00:00\",\"2022-09-20T00:00:00\",\"2022-09-21T00:00:00\",\"2022-09-22T00:00:00\",\"2022-09-23T00:00:00\",\"2022-09-26T00:00:00\",\"2022-09-27T00:00:00\",\"2022-09-28T00:00:00\",\"2022-09-29T00:00:00\",\"2022-09-30T00:00:00\",\"2022-10-03T00:00:00\",\"2022-10-04T00:00:00\",\"2022-10-05T00:00:00\",\"2022-10-06T00:00:00\",\"2022-10-07T00:00:00\",\"2022-10-10T00:00:00\",\"2022-10-11T00:00:00\",\"2022-10-12T00:00:00\",\"2022-10-13T00:00:00\",\"2022-10-14T00:00:00\",\"2022-10-17T00:00:00\",\"2022-10-18T00:00:00\",\"2022-10-19T00:00:00\",\"2022-10-20T00:00:00\",\"2022-10-21T00:00:00\",\"2022-10-24T00:00:00\",\"2022-10-25T00:00:00\",\"2022-10-26T00:00:00\",\"2022-10-27T00:00:00\",\"2022-10-28T00:00:00\",\"2022-10-31T00:00:00\",\"2022-11-02T00:00:00\",\"2022-11-03T00:00:00\",\"2022-11-04T00:00:00\",\"2022-11-07T00:00:00\",\"2022-11-08T00:00:00\",\"2022-11-09T00:00:00\",\"2022-11-10T00:00:00\",\"2022-11-14T00:00:00\",\"2022-11-15T00:00:00\",\"2022-11-16T00:00:00\",\"2022-11-17T00:00:00\",\"2022-11-18T00:00:00\",\"2022-11-21T00:00:00\",\"2022-11-22T00:00:00\",\"2022-11-23T00:00:00\",\"2022-11-24T00:00:00\",\"2022-11-25T00:00:00\",\"2022-11-28T00:00:00\",\"2022-11-29T00:00:00\",\"2022-11-30T00:00:00\",\"2022-12-01T00:00:00\",\"2022-12-02T00:00:00\",\"2022-12-05T00:00:00\",\"2022-12-06T00:00:00\",\"2022-12-07T00:00:00\",\"2022-12-08T00:00:00\",\"2022-12-09T00:00:00\",\"2022-12-12T00:00:00\",\"2022-12-13T00:00:00\",\"2022-12-14T00:00:00\",\"2022-12-15T00:00:00\",\"2022-12-16T00:00:00\",\"2022-12-19T00:00:00\",\"2022-12-20T00:00:00\",\"2022-12-21T00:00:00\",\"2022-12-22T00:00:00\",\"2022-12-23T00:00:00\",\"2022-12-26T00:00:00\",\"2022-12-27T00:00:00\",\"2022-12-28T00:00:00\",\"2022-12-29T00:00:00\",\"2022-12-30T00:00:00\"],\"y\":[9489.700000000012,3187.8799999999974,-1813.0,-4908.861999999994,795.6000000000058,4595.5999999999985,9307.5,9541.340944918862,-7109.223999999995,-4650.559999999998,-3530.3039999999964,-2530.1200000000026,1820.1100000000006,-11134.667999999998,-12.279999999998836,-539.1999999999971,-1010.0400000000009,-866.6999999999971,-3768.428,1364.1759999999995,-9379.440000000002,-4638.540000000001,-19209.068,-6852.5,190.67199999999866,4224.559999999998,1022.0899999999965,-2211.933999999994,-2499.199999999997,-12378.239999999998,-493.1600000000035,5264.470000000001,-5851.671999999999,5274.779999999999,-1177.4320000000007,4997.399999999994,5627.739999999998,-7184.345999999998,-5930.0,3025.6640000000043,7669.759999999995,15439.029999999999,2163.796000000002,5176.0,-2879.0,4503.0,14407.0,4.0,2241.7000000000116,5049.080000000002,-4446.0,6548.1470000000045,-3140.3099999999977,-3592.0499999999884,-4764.080000000002,-680.0,-3464.5440000000017,-6239.921999999999,53.95000000001164,-1083.4000000000087,6188.5,3002.709999999999,-1180.3799999999974,5404.100000000006,2508.479999999996,4715.5,5055.395000000004,5049.016000000003,10750.950000000012,15696.679999999993,3526.0,3924.639000000003,2554.608,-2580.0,333.5,1525.5699999999997,-855.0139999999956,-10155.649999999994,-59204.84,52066.0,12626.047999999995,3614.550000000003,3908.4400000000023,-1548.5,9929.157999999996,8524.784000000007,10702.62000000001,7270.0,5536.239999999991,11479.488999999994,5132.502,2866.0,8634.919999999998,1694.1600000000035,-978.8710000000137,-7222.603999999999,8034.0,-8127.419999999998,3803.479999999996,2386.028999999995,-2789.837999999996,3763.0,1100.574999999997,2468.1150000000052,1679.3759999999966,280.62600000000384,3475.0,2027.449999999997,17891.380000000005,6982.351999999999,894.2590000000055,4577.0,7695.2699999999895,24236.319999999992,20794.34599999999,-8915.112000000001],\"type\":\"scatter\"},{\"line\":{\"color\":\"#FF0000\"},\"name\":\"Bias_Dry_LGBM\",\"showlegend\":true,\"x\":[\"2022-07-18T00:00:00\",\"2022-07-19T00:00:00\",\"2022-07-20T00:00:00\",\"2022-07-22T00:00:00\",\"2022-07-25T00:00:00\",\"2022-07-26T00:00:00\",\"2022-07-27T00:00:00\",\"2022-07-28T00:00:00\",\"2022-07-29T00:00:00\",\"2022-08-01T00:00:00\",\"2022-08-02T00:00:00\",\"2022-08-03T00:00:00\",\"2022-08-04T00:00:00\",\"2022-08-05T00:00:00\",\"2022-08-08T00:00:00\",\"2022-08-09T00:00:00\",\"2022-08-10T00:00:00\",\"2022-08-11T00:00:00\",\"2022-08-12T00:00:00\",\"2022-08-16T00:00:00\",\"2022-08-17T00:00:00\",\"2022-08-18T00:00:00\",\"2022-08-19T00:00:00\",\"2022-08-22T00:00:00\",\"2022-08-23T00:00:00\",\"2022-08-24T00:00:00\",\"2022-08-25T00:00:00\",\"2022-08-26T00:00:00\",\"2022-08-29T00:00:00\",\"2022-08-30T00:00:00\",\"2022-08-31T00:00:00\",\"2022-09-01T00:00:00\",\"2022-09-02T00:00:00\",\"2022-09-05T00:00:00\",\"2022-09-06T00:00:00\",\"2022-09-07T00:00:00\",\"2022-09-08T00:00:00\",\"2022-09-09T00:00:00\",\"2022-09-12T00:00:00\",\"2022-09-13T00:00:00\",\"2022-09-14T00:00:00\",\"2022-09-15T00:00:00\",\"2022-09-16T00:00:00\",\"2022-09-19T00:00:00\",\"2022-09-20T00:00:00\",\"2022-09-21T00:00:00\",\"2022-09-22T00:00:00\",\"2022-09-23T00:00:00\",\"2022-09-26T00:00:00\",\"2022-09-27T00:00:00\",\"2022-09-28T00:00:00\",\"2022-09-29T00:00:00\",\"2022-09-30T00:00:00\",\"2022-10-03T00:00:00\",\"2022-10-04T00:00:00\",\"2022-10-05T00:00:00\",\"2022-10-06T00:00:00\",\"2022-10-07T00:00:00\",\"2022-10-10T00:00:00\",\"2022-10-11T00:00:00\",\"2022-10-12T00:00:00\",\"2022-10-13T00:00:00\",\"2022-10-14T00:00:00\",\"2022-10-17T00:00:00\",\"2022-10-18T00:00:00\",\"2022-10-19T00:00:00\",\"2022-10-20T00:00:00\",\"2022-10-21T00:00:00\",\"2022-10-24T00:00:00\",\"2022-10-25T00:00:00\",\"2022-10-26T00:00:00\",\"2022-10-27T00:00:00\",\"2022-10-28T00:00:00\",\"2022-10-31T00:00:00\",\"2022-11-02T00:00:00\",\"2022-11-03T00:00:00\",\"2022-11-04T00:00:00\",\"2022-11-07T00:00:00\",\"2022-11-08T00:00:00\",\"2022-11-09T00:00:00\",\"2022-11-10T00:00:00\",\"2022-11-14T00:00:00\",\"2022-11-15T00:00:00\",\"2022-11-16T00:00:00\",\"2022-11-17T00:00:00\",\"2022-11-18T00:00:00\",\"2022-11-21T00:00:00\",\"2022-11-22T00:00:00\",\"2022-11-23T00:00:00\",\"2022-11-24T00:00:00\",\"2022-11-25T00:00:00\",\"2022-11-28T00:00:00\",\"2022-11-29T00:00:00\",\"2022-11-30T00:00:00\",\"2022-12-01T00:00:00\",\"2022-12-02T00:00:00\",\"2022-12-05T00:00:00\",\"2022-12-06T00:00:00\",\"2022-12-07T00:00:00\",\"2022-12-08T00:00:00\",\"2022-12-09T00:00:00\",\"2022-12-12T00:00:00\",\"2022-12-13T00:00:00\",\"2022-12-14T00:00:00\",\"2022-12-15T00:00:00\",\"2022-12-16T00:00:00\",\"2022-12-19T00:00:00\",\"2022-12-20T00:00:00\",\"2022-12-21T00:00:00\",\"2022-12-22T00:00:00\",\"2022-12-23T00:00:00\",\"2022-12-26T00:00:00\",\"2022-12-27T00:00:00\",\"2022-12-28T00:00:00\",\"2022-12-29T00:00:00\",\"2022-12-30T00:00:00\"],\"y\":[37133.911605371235,51915.95913994266,43478.883037925756,55333.6725854572,21536.03697092882,43711.923169277856,53281.07746861297,62336.07746861297,50065.11259413065,19590.933577620934,36048.252739816424,41714.3936105398,56268.36477544076,46586.557333114106,22878.352239801854,34739.62335900492,42392.11025646467,49086.69996417465,45918.13585255563,16439.904050009092,21473.23898760321,27547.006879088905,17413.661983748185,-51967.06377877106,14379.631893292826,34810.449394656534,29296.14387098384,28066.785304967867,-53924.78510553941,3054.897011793888,10753.577238181242,27280.901554448355,23574.354536909566,-10817.6651521022,12271.92614546718,11102.90099788335,27176.147643481454,20846.221541455132,-64219.733590656615,18855.339487067133,31931.01057070984,52418.57623692497,40859.86569612872,12017.810276268792,23989.66229162937,31026.218773562476,55249.654490501445,47713.723926590246,7804.034776164626,31525.814355433657,25460.907847741764,44153.56045942355,41675.13818108324,-3214.591250099271,19167.570710452303,32754.62206977693,34812.14507301366,38854.14079497426,-557.8093480522657,23360.223297196484,27253.675670343146,40681.235786038305,40269.61122263767,3942.8076038067084,16671.391973989405,30651.406111210206,43432.950499835264,44675.86588000484,12202.415432951471,37402.880043014724,34078.8060696679,43906.11836592086,46009.12115234684,14780.552392534417,-20700.211960633867,34958.95775547004,-1718.4167030865647,4354.383809323408,-93868.11773874522,77182.16072820587,-2085.6633308574674,1205.9831632511487,24781.14689224206,12885.967910560139,11163.110530830949,48764.920880294216,-12320.933923116507,32977.9172102733,25645.694687157767,52275.099964583584,44082.69468715777,-68316.82853405082,14207.638229807359,8010.654460491991,23487.171465949184,13293.298006970057,-2554.4574568373646,5362.071755063094,18664.644417839925,27782.859087772915,27758.47889721561,-29138.973742106406,17257.01821861435,19792.01821861435,33217.551974764065,41283.19486907621,19531.33356599517,5038.586527375432,25975.387636517582,14959.257966422025,24757.63347129921,7365.239288015669,22763.281590049155,41639.02378278735,37073.647126546624,22107.352251456905],\"type\":\"scatter\"},{\"line\":{\"color\":\"#000099\",\"dash\":\"dash\",\"width\":0.5},\"mode\":\"lines\",\"name\":\"Outside_range_Dry_WOW\",\"showlegend\":true,\"x\":[\"2022-07-18T00:00:00\",\"2022-07-18T00:00:00\"],\"y\":[-59204.84,52066.0],\"type\":\"scatter\"},{\"line\":{\"color\":\"#000099\",\"dash\":\"dash\",\"width\":0.5},\"mode\":\"lines\",\"name\":\"Outside_range_Dry_WOW\",\"showlegend\":false,\"x\":[\"2022-07-22T00:00:00\",\"2022-07-22T00:00:00\"],\"y\":[-59204.84,52066.0],\"type\":\"scatter\"},{\"line\":{\"color\":\"#000099\",\"dash\":\"dash\",\"width\":0.5},\"mode\":\"lines\",\"name\":\"Outside_range_Dry_WOW\",\"showlegend\":false,\"x\":[\"2022-07-27T00:00:00\",\"2022-07-27T00:00:00\"],\"y\":[-59204.84,52066.0],\"type\":\"scatter\"},{\"line\":{\"color\":\"#000099\",\"dash\":\"dash\",\"width\":0.5},\"mode\":\"lines\",\"name\":\"Outside_range_Dry_WOW\",\"showlegend\":false,\"x\":[\"2022-07-28T00:00:00\",\"2022-07-28T00:00:00\"],\"y\":[-59204.84,52066.0],\"type\":\"scatter\"},{\"line\":{\"color\":\"#000099\",\"dash\":\"dash\",\"width\":0.5},\"mode\":\"lines\",\"name\":\"Outside_range_Dry_WOW\",\"showlegend\":false,\"x\":[\"2022-07-29T00:00:00\",\"2022-07-29T00:00:00\"],\"y\":[-59204.84,52066.0],\"type\":\"scatter\"},{\"line\":{\"color\":\"#000099\",\"dash\":\"dash\",\"width\":0.5},\"mode\":\"lines\",\"name\":\"Outside_range_Dry_WOW\",\"showlegend\":false,\"x\":[\"2022-08-05T00:00:00\",\"2022-08-05T00:00:00\"],\"y\":[-59204.84,52066.0],\"type\":\"scatter\"},{\"line\":{\"color\":\"#000099\",\"dash\":\"dash\",\"width\":0.5},\"mode\":\"lines\",\"name\":\"Outside_range_Dry_WOW\",\"showlegend\":false,\"x\":[\"2022-08-17T00:00:00\",\"2022-08-17T00:00:00\"],\"y\":[-59204.84,52066.0],\"type\":\"scatter\"},{\"line\":{\"color\":\"#000099\",\"dash\":\"dash\",\"width\":0.5},\"mode\":\"lines\",\"name\":\"Outside_range_Dry_WOW\",\"showlegend\":false,\"x\":[\"2022-08-19T00:00:00\",\"2022-08-19T00:00:00\"],\"y\":[-59204.84,52066.0],\"type\":\"scatter\"},{\"line\":{\"color\":\"#000099\",\"dash\":\"dash\",\"width\":0.5},\"mode\":\"lines\",\"name\":\"Outside_range_Dry_WOW\",\"showlegend\":false,\"x\":[\"2022-08-30T00:00:00\",\"2022-08-30T00:00:00\"],\"y\":[-59204.84,52066.0],\"type\":\"scatter\"},{\"line\":{\"color\":\"#000099\",\"dash\":\"dash\",\"width\":0.5},\"mode\":\"lines\",\"name\":\"Outside_range_Dry_WOW\",\"showlegend\":false,\"x\":[\"2022-09-01T00:00:00\",\"2022-09-01T00:00:00\"],\"y\":[-59204.84,52066.0],\"type\":\"scatter\"},{\"line\":{\"color\":\"#000099\",\"dash\":\"dash\",\"width\":0.5},\"mode\":\"lines\",\"name\":\"Outside_range_Dry_WOW\",\"showlegend\":false,\"x\":[\"2022-09-02T00:00:00\",\"2022-09-02T00:00:00\"],\"y\":[-59204.84,52066.0],\"type\":\"scatter\"},{\"line\":{\"color\":\"#000099\",\"dash\":\"dash\",\"width\":0.5},\"mode\":\"lines\",\"name\":\"Outside_range_Dry_WOW\",\"showlegend\":false,\"x\":[\"2022-09-09T00:00:00\",\"2022-09-09T00:00:00\"],\"y\":[-59204.84,52066.0],\"type\":\"scatter\"},{\"line\":{\"color\":\"#000099\",\"dash\":\"dash\",\"width\":0.5},\"mode\":\"lines\",\"name\":\"Outside_range_Dry_WOW\",\"showlegend\":false,\"x\":[\"2022-09-14T00:00:00\",\"2022-09-14T00:00:00\"],\"y\":[-59204.84,52066.0],\"type\":\"scatter\"},{\"line\":{\"color\":\"#000099\",\"dash\":\"dash\",\"width\":0.5},\"mode\":\"lines\",\"name\":\"Outside_range_Dry_WOW\",\"showlegend\":false,\"x\":[\"2022-09-15T00:00:00\",\"2022-09-15T00:00:00\"],\"y\":[-59204.84,52066.0],\"type\":\"scatter\"},{\"line\":{\"color\":\"#000099\",\"dash\":\"dash\",\"width\":0.5},\"mode\":\"lines\",\"name\":\"Outside_range_Dry_WOW\",\"showlegend\":false,\"x\":[\"2022-09-22T00:00:00\",\"2022-09-22T00:00:00\"],\"y\":[-59204.84,52066.0],\"type\":\"scatter\"},{\"line\":{\"color\":\"#000099\",\"dash\":\"dash\",\"width\":0.5},\"mode\":\"lines\",\"name\":\"Outside_range_Dry_WOW\",\"showlegend\":false,\"x\":[\"2022-09-29T00:00:00\",\"2022-09-29T00:00:00\"],\"y\":[-59204.84,52066.0],\"type\":\"scatter\"},{\"line\":{\"color\":\"#000099\",\"dash\":\"dash\",\"width\":0.5},\"mode\":\"lines\",\"name\":\"Outside_range_Dry_WOW\",\"showlegend\":false,\"x\":[\"2022-10-07T00:00:00\",\"2022-10-07T00:00:00\"],\"y\":[-59204.84,52066.0],\"type\":\"scatter\"},{\"line\":{\"color\":\"#000099\",\"dash\":\"dash\",\"width\":0.5},\"mode\":\"lines\",\"name\":\"Outside_range_Dry_WOW\",\"showlegend\":false,\"x\":[\"2022-10-12T00:00:00\",\"2022-10-12T00:00:00\"],\"y\":[-59204.84,52066.0],\"type\":\"scatter\"},{\"line\":{\"color\":\"#000099\",\"dash\":\"dash\",\"width\":0.5},\"mode\":\"lines\",\"name\":\"Outside_range_Dry_WOW\",\"showlegend\":false,\"x\":[\"2022-10-21T00:00:00\",\"2022-10-21T00:00:00\"],\"y\":[-59204.84,52066.0],\"type\":\"scatter\"},{\"line\":{\"color\":\"#000099\",\"dash\":\"dash\",\"width\":0.5},\"mode\":\"lines\",\"name\":\"Outside_range_Dry_WOW\",\"showlegend\":false,\"x\":[\"2022-10-24T00:00:00\",\"2022-10-24T00:00:00\"],\"y\":[-59204.84,52066.0],\"type\":\"scatter\"},{\"line\":{\"color\":\"#000099\",\"dash\":\"dash\",\"width\":0.5},\"mode\":\"lines\",\"name\":\"Outside_range_Dry_WOW\",\"showlegend\":false,\"x\":[\"2022-10-25T00:00:00\",\"2022-10-25T00:00:00\"],\"y\":[-59204.84,52066.0],\"type\":\"scatter\"},{\"line\":{\"color\":\"#000099\",\"dash\":\"dash\",\"width\":0.5},\"mode\":\"lines\",\"name\":\"Outside_range_Dry_WOW\",\"showlegend\":false,\"x\":[\"2022-11-07T00:00:00\",\"2022-11-07T00:00:00\"],\"y\":[-59204.84,52066.0],\"type\":\"scatter\"},{\"line\":{\"color\":\"#000099\",\"dash\":\"dash\",\"width\":0.5},\"mode\":\"lines\",\"name\":\"Outside_range_Dry_WOW\",\"showlegend\":false,\"x\":[\"2022-11-08T00:00:00\",\"2022-11-08T00:00:00\"],\"y\":[-59204.84,52066.0],\"type\":\"scatter\"},{\"line\":{\"color\":\"#000099\",\"dash\":\"dash\",\"width\":0.5},\"mode\":\"lines\",\"name\":\"Outside_range_Dry_WOW\",\"showlegend\":false,\"x\":[\"2022-11-09T00:00:00\",\"2022-11-09T00:00:00\"],\"y\":[-59204.84,52066.0],\"type\":\"scatter\"},{\"line\":{\"color\":\"#000099\",\"dash\":\"dash\",\"width\":0.5},\"mode\":\"lines\",\"name\":\"Outside_range_Dry_WOW\",\"showlegend\":false,\"x\":[\"2022-11-10T00:00:00\",\"2022-11-10T00:00:00\"],\"y\":[-59204.84,52066.0],\"type\":\"scatter\"},{\"line\":{\"color\":\"#000099\",\"dash\":\"dash\",\"width\":0.5},\"mode\":\"lines\",\"name\":\"Outside_range_Dry_WOW\",\"showlegend\":false,\"x\":[\"2022-11-17T00:00:00\",\"2022-11-17T00:00:00\"],\"y\":[-59204.84,52066.0],\"type\":\"scatter\"},{\"line\":{\"color\":\"#000099\",\"dash\":\"dash\",\"width\":0.5},\"mode\":\"lines\",\"name\":\"Outside_range_Dry_WOW\",\"showlegend\":false,\"x\":[\"2022-11-18T00:00:00\",\"2022-11-18T00:00:00\"],\"y\":[-59204.84,52066.0],\"type\":\"scatter\"},{\"line\":{\"color\":\"#000099\",\"dash\":\"dash\",\"width\":0.5},\"mode\":\"lines\",\"name\":\"Outside_range_Dry_WOW\",\"showlegend\":false,\"x\":[\"2022-11-22T00:00:00\",\"2022-11-22T00:00:00\"],\"y\":[-59204.84,52066.0],\"type\":\"scatter\"},{\"line\":{\"color\":\"#000099\",\"dash\":\"dash\",\"width\":0.5},\"mode\":\"lines\",\"name\":\"Outside_range_Dry_WOW\",\"showlegend\":false,\"x\":[\"2022-11-24T00:00:00\",\"2022-11-24T00:00:00\"],\"y\":[-59204.84,52066.0],\"type\":\"scatter\"},{\"line\":{\"color\":\"#000099\",\"dash\":\"dash\",\"width\":0.5},\"mode\":\"lines\",\"name\":\"Outside_range_Dry_WOW\",\"showlegend\":false,\"x\":[\"2022-11-25T00:00:00\",\"2022-11-25T00:00:00\"],\"y\":[-59204.84,52066.0],\"type\":\"scatter\"},{\"line\":{\"color\":\"#000099\",\"dash\":\"dash\",\"width\":0.5},\"mode\":\"lines\",\"name\":\"Outside_range_Dry_WOW\",\"showlegend\":false,\"x\":[\"2022-11-29T00:00:00\",\"2022-11-29T00:00:00\"],\"y\":[-59204.84,52066.0],\"type\":\"scatter\"},{\"line\":{\"color\":\"#000099\",\"dash\":\"dash\",\"width\":0.5},\"mode\":\"lines\",\"name\":\"Outside_range_Dry_WOW\",\"showlegend\":false,\"x\":[\"2022-12-02T00:00:00\",\"2022-12-02T00:00:00\"],\"y\":[-59204.84,52066.0],\"type\":\"scatter\"},{\"line\":{\"color\":\"#000099\",\"dash\":\"dash\",\"width\":0.5},\"mode\":\"lines\",\"name\":\"Outside_range_Dry_WOW\",\"showlegend\":false,\"x\":[\"2022-12-06T00:00:00\",\"2022-12-06T00:00:00\"],\"y\":[-59204.84,52066.0],\"type\":\"scatter\"},{\"line\":{\"color\":\"#000099\",\"dash\":\"dash\",\"width\":0.5},\"mode\":\"lines\",\"name\":\"Outside_range_Dry_WOW\",\"showlegend\":false,\"x\":[\"2022-12-21T00:00:00\",\"2022-12-21T00:00:00\"],\"y\":[-59204.84,52066.0],\"type\":\"scatter\"},{\"line\":{\"color\":\"#000099\",\"dash\":\"dash\",\"width\":0.5},\"mode\":\"lines\",\"name\":\"Outside_range_Dry_WOW\",\"showlegend\":false,\"x\":[\"2022-12-22T00:00:00\",\"2022-12-22T00:00:00\"],\"y\":[-59204.84,52066.0],\"type\":\"scatter\"},{\"line\":{\"color\":\"#000099\",\"dash\":\"dash\",\"width\":0.5},\"mode\":\"lines\",\"name\":\"Outside_range_Dry_WOW\",\"showlegend\":false,\"x\":[\"2022-12-27T00:00:00\",\"2022-12-27T00:00:00\"],\"y\":[-59204.84,52066.0],\"type\":\"scatter\"},{\"line\":{\"color\":\"#000099\",\"dash\":\"dash\",\"width\":0.5},\"mode\":\"lines\",\"name\":\"Outside_range_Dry_WOW\",\"showlegend\":false,\"x\":[\"2022-12-28T00:00:00\",\"2022-12-28T00:00:00\"],\"y\":[-59204.84,52066.0],\"type\":\"scatter\"},{\"line\":{\"color\":\"#000099\",\"dash\":\"dash\",\"width\":0.5},\"mode\":\"lines\",\"name\":\"Outside_range_Dry_WOW\",\"showlegend\":false,\"x\":[\"2022-12-29T00:00:00\",\"2022-12-29T00:00:00\"],\"y\":[-59204.84,52066.0],\"type\":\"scatter\"},{\"line\":{\"color\":\"#000099\",\"dash\":\"dash\",\"width\":0.5},\"mode\":\"lines\",\"name\":\"Outside_range_Dry_WOW\",\"showlegend\":false,\"x\":[\"2022-12-30T00:00:00\",\"2022-12-30T00:00:00\"],\"y\":[-59204.84,52066.0],\"type\":\"scatter\"},{\"line\":{\"color\":\"#990000\",\"dash\":\"dash\",\"width\":0.5},\"mode\":\"lines\",\"name\":\"Outside_range_Dry_LGBM\",\"showlegend\":true,\"x\":[\"2022-07-18T00:00:00\",\"2022-07-18T00:00:00\"],\"y\":[-93868.11773874522,77182.16072820587],\"type\":\"scatter\"},{\"line\":{\"color\":\"#990000\",\"dash\":\"dash\",\"width\":0.5},\"mode\":\"lines\",\"name\":\"Outside_range_Dry_LGBM\",\"showlegend\":false,\"x\":[\"2022-07-19T00:00:00\",\"2022-07-19T00:00:00\"],\"y\":[-93868.11773874522,77182.16072820587],\"type\":\"scatter\"},{\"line\":{\"color\":\"#990000\",\"dash\":\"dash\",\"width\":0.5},\"mode\":\"lines\",\"name\":\"Outside_range_Dry_LGBM\",\"showlegend\":false,\"x\":[\"2022-07-20T00:00:00\",\"2022-07-20T00:00:00\"],\"y\":[-93868.11773874522,77182.16072820587],\"type\":\"scatter\"},{\"line\":{\"color\":\"#990000\",\"dash\":\"dash\",\"width\":0.5},\"mode\":\"lines\",\"name\":\"Outside_range_Dry_LGBM\",\"showlegend\":false,\"x\":[\"2022-07-22T00:00:00\",\"2022-07-22T00:00:00\"],\"y\":[-93868.11773874522,77182.16072820587],\"type\":\"scatter\"},{\"line\":{\"color\":\"#990000\",\"dash\":\"dash\",\"width\":0.5},\"mode\":\"lines\",\"name\":\"Outside_range_Dry_LGBM\",\"showlegend\":false,\"x\":[\"2022-07-25T00:00:00\",\"2022-07-25T00:00:00\"],\"y\":[-93868.11773874522,77182.16072820587],\"type\":\"scatter\"},{\"line\":{\"color\":\"#990000\",\"dash\":\"dash\",\"width\":0.5},\"mode\":\"lines\",\"name\":\"Outside_range_Dry_LGBM\",\"showlegend\":false,\"x\":[\"2022-07-26T00:00:00\",\"2022-07-26T00:00:00\"],\"y\":[-93868.11773874522,77182.16072820587],\"type\":\"scatter\"},{\"line\":{\"color\":\"#990000\",\"dash\":\"dash\",\"width\":0.5},\"mode\":\"lines\",\"name\":\"Outside_range_Dry_LGBM\",\"showlegend\":false,\"x\":[\"2022-07-27T00:00:00\",\"2022-07-27T00:00:00\"],\"y\":[-93868.11773874522,77182.16072820587],\"type\":\"scatter\"},{\"line\":{\"color\":\"#990000\",\"dash\":\"dash\",\"width\":0.5},\"mode\":\"lines\",\"name\":\"Outside_range_Dry_LGBM\",\"showlegend\":false,\"x\":[\"2022-07-28T00:00:00\",\"2022-07-28T00:00:00\"],\"y\":[-93868.11773874522,77182.16072820587],\"type\":\"scatter\"},{\"line\":{\"color\":\"#990000\",\"dash\":\"dash\",\"width\":0.5},\"mode\":\"lines\",\"name\":\"Outside_range_Dry_LGBM\",\"showlegend\":false,\"x\":[\"2022-07-29T00:00:00\",\"2022-07-29T00:00:00\"],\"y\":[-93868.11773874522,77182.16072820587],\"type\":\"scatter\"},{\"line\":{\"color\":\"#990000\",\"dash\":\"dash\",\"width\":0.5},\"mode\":\"lines\",\"name\":\"Outside_range_Dry_LGBM\",\"showlegend\":false,\"x\":[\"2022-08-01T00:00:00\",\"2022-08-01T00:00:00\"],\"y\":[-93868.11773874522,77182.16072820587],\"type\":\"scatter\"},{\"line\":{\"color\":\"#990000\",\"dash\":\"dash\",\"width\":0.5},\"mode\":\"lines\",\"name\":\"Outside_range_Dry_LGBM\",\"showlegend\":false,\"x\":[\"2022-08-02T00:00:00\",\"2022-08-02T00:00:00\"],\"y\":[-93868.11773874522,77182.16072820587],\"type\":\"scatter\"},{\"line\":{\"color\":\"#990000\",\"dash\":\"dash\",\"width\":0.5},\"mode\":\"lines\",\"name\":\"Outside_range_Dry_LGBM\",\"showlegend\":false,\"x\":[\"2022-08-03T00:00:00\",\"2022-08-03T00:00:00\"],\"y\":[-93868.11773874522,77182.16072820587],\"type\":\"scatter\"},{\"line\":{\"color\":\"#990000\",\"dash\":\"dash\",\"width\":0.5},\"mode\":\"lines\",\"name\":\"Outside_range_Dry_LGBM\",\"showlegend\":false,\"x\":[\"2022-08-04T00:00:00\",\"2022-08-04T00:00:00\"],\"y\":[-93868.11773874522,77182.16072820587],\"type\":\"scatter\"},{\"line\":{\"color\":\"#990000\",\"dash\":\"dash\",\"width\":0.5},\"mode\":\"lines\",\"name\":\"Outside_range_Dry_LGBM\",\"showlegend\":false,\"x\":[\"2022-08-05T00:00:00\",\"2022-08-05T00:00:00\"],\"y\":[-93868.11773874522,77182.16072820587],\"type\":\"scatter\"},{\"line\":{\"color\":\"#990000\",\"dash\":\"dash\",\"width\":0.5},\"mode\":\"lines\",\"name\":\"Outside_range_Dry_LGBM\",\"showlegend\":false,\"x\":[\"2022-08-08T00:00:00\",\"2022-08-08T00:00:00\"],\"y\":[-93868.11773874522,77182.16072820587],\"type\":\"scatter\"},{\"line\":{\"color\":\"#990000\",\"dash\":\"dash\",\"width\":0.5},\"mode\":\"lines\",\"name\":\"Outside_range_Dry_LGBM\",\"showlegend\":false,\"x\":[\"2022-08-09T00:00:00\",\"2022-08-09T00:00:00\"],\"y\":[-93868.11773874522,77182.16072820587],\"type\":\"scatter\"},{\"line\":{\"color\":\"#990000\",\"dash\":\"dash\",\"width\":0.5},\"mode\":\"lines\",\"name\":\"Outside_range_Dry_LGBM\",\"showlegend\":false,\"x\":[\"2022-08-10T00:00:00\",\"2022-08-10T00:00:00\"],\"y\":[-93868.11773874522,77182.16072820587],\"type\":\"scatter\"},{\"line\":{\"color\":\"#990000\",\"dash\":\"dash\",\"width\":0.5},\"mode\":\"lines\",\"name\":\"Outside_range_Dry_LGBM\",\"showlegend\":false,\"x\":[\"2022-08-11T00:00:00\",\"2022-08-11T00:00:00\"],\"y\":[-93868.11773874522,77182.16072820587],\"type\":\"scatter\"},{\"line\":{\"color\":\"#990000\",\"dash\":\"dash\",\"width\":0.5},\"mode\":\"lines\",\"name\":\"Outside_range_Dry_LGBM\",\"showlegend\":false,\"x\":[\"2022-08-12T00:00:00\",\"2022-08-12T00:00:00\"],\"y\":[-93868.11773874522,77182.16072820587],\"type\":\"scatter\"},{\"line\":{\"color\":\"#990000\",\"dash\":\"dash\",\"width\":0.5},\"mode\":\"lines\",\"name\":\"Outside_range_Dry_LGBM\",\"showlegend\":false,\"x\":[\"2022-08-16T00:00:00\",\"2022-08-16T00:00:00\"],\"y\":[-93868.11773874522,77182.16072820587],\"type\":\"scatter\"},{\"line\":{\"color\":\"#990000\",\"dash\":\"dash\",\"width\":0.5},\"mode\":\"lines\",\"name\":\"Outside_range_Dry_LGBM\",\"showlegend\":false,\"x\":[\"2022-08-17T00:00:00\",\"2022-08-17T00:00:00\"],\"y\":[-93868.11773874522,77182.16072820587],\"type\":\"scatter\"},{\"line\":{\"color\":\"#990000\",\"dash\":\"dash\",\"width\":0.5},\"mode\":\"lines\",\"name\":\"Outside_range_Dry_LGBM\",\"showlegend\":false,\"x\":[\"2022-08-18T00:00:00\",\"2022-08-18T00:00:00\"],\"y\":[-93868.11773874522,77182.16072820587],\"type\":\"scatter\"},{\"line\":{\"color\":\"#990000\",\"dash\":\"dash\",\"width\":0.5},\"mode\":\"lines\",\"name\":\"Outside_range_Dry_LGBM\",\"showlegend\":false,\"x\":[\"2022-08-19T00:00:00\",\"2022-08-19T00:00:00\"],\"y\":[-93868.11773874522,77182.16072820587],\"type\":\"scatter\"},{\"line\":{\"color\":\"#990000\",\"dash\":\"dash\",\"width\":0.5},\"mode\":\"lines\",\"name\":\"Outside_range_Dry_LGBM\",\"showlegend\":false,\"x\":[\"2022-08-22T00:00:00\",\"2022-08-22T00:00:00\"],\"y\":[-93868.11773874522,77182.16072820587],\"type\":\"scatter\"},{\"line\":{\"color\":\"#990000\",\"dash\":\"dash\",\"width\":0.5},\"mode\":\"lines\",\"name\":\"Outside_range_Dry_LGBM\",\"showlegend\":false,\"x\":[\"2022-08-23T00:00:00\",\"2022-08-23T00:00:00\"],\"y\":[-93868.11773874522,77182.16072820587],\"type\":\"scatter\"},{\"line\":{\"color\":\"#990000\",\"dash\":\"dash\",\"width\":0.5},\"mode\":\"lines\",\"name\":\"Outside_range_Dry_LGBM\",\"showlegend\":false,\"x\":[\"2022-08-24T00:00:00\",\"2022-08-24T00:00:00\"],\"y\":[-93868.11773874522,77182.16072820587],\"type\":\"scatter\"},{\"line\":{\"color\":\"#990000\",\"dash\":\"dash\",\"width\":0.5},\"mode\":\"lines\",\"name\":\"Outside_range_Dry_LGBM\",\"showlegend\":false,\"x\":[\"2022-08-25T00:00:00\",\"2022-08-25T00:00:00\"],\"y\":[-93868.11773874522,77182.16072820587],\"type\":\"scatter\"},{\"line\":{\"color\":\"#990000\",\"dash\":\"dash\",\"width\":0.5},\"mode\":\"lines\",\"name\":\"Outside_range_Dry_LGBM\",\"showlegend\":false,\"x\":[\"2022-08-26T00:00:00\",\"2022-08-26T00:00:00\"],\"y\":[-93868.11773874522,77182.16072820587],\"type\":\"scatter\"},{\"line\":{\"color\":\"#990000\",\"dash\":\"dash\",\"width\":0.5},\"mode\":\"lines\",\"name\":\"Outside_range_Dry_LGBM\",\"showlegend\":false,\"x\":[\"2022-08-29T00:00:00\",\"2022-08-29T00:00:00\"],\"y\":[-93868.11773874522,77182.16072820587],\"type\":\"scatter\"},{\"line\":{\"color\":\"#990000\",\"dash\":\"dash\",\"width\":0.5},\"mode\":\"lines\",\"name\":\"Outside_range_Dry_LGBM\",\"showlegend\":false,\"x\":[\"2022-08-31T00:00:00\",\"2022-08-31T00:00:00\"],\"y\":[-93868.11773874522,77182.16072820587],\"type\":\"scatter\"},{\"line\":{\"color\":\"#990000\",\"dash\":\"dash\",\"width\":0.5},\"mode\":\"lines\",\"name\":\"Outside_range_Dry_LGBM\",\"showlegend\":false,\"x\":[\"2022-09-01T00:00:00\",\"2022-09-01T00:00:00\"],\"y\":[-93868.11773874522,77182.16072820587],\"type\":\"scatter\"},{\"line\":{\"color\":\"#990000\",\"dash\":\"dash\",\"width\":0.5},\"mode\":\"lines\",\"name\":\"Outside_range_Dry_LGBM\",\"showlegend\":false,\"x\":[\"2022-09-02T00:00:00\",\"2022-09-02T00:00:00\"],\"y\":[-93868.11773874522,77182.16072820587],\"type\":\"scatter\"},{\"line\":{\"color\":\"#990000\",\"dash\":\"dash\",\"width\":0.5},\"mode\":\"lines\",\"name\":\"Outside_range_Dry_LGBM\",\"showlegend\":false,\"x\":[\"2022-09-05T00:00:00\",\"2022-09-05T00:00:00\"],\"y\":[-93868.11773874522,77182.16072820587],\"type\":\"scatter\"},{\"line\":{\"color\":\"#990000\",\"dash\":\"dash\",\"width\":0.5},\"mode\":\"lines\",\"name\":\"Outside_range_Dry_LGBM\",\"showlegend\":false,\"x\":[\"2022-09-06T00:00:00\",\"2022-09-06T00:00:00\"],\"y\":[-93868.11773874522,77182.16072820587],\"type\":\"scatter\"},{\"line\":{\"color\":\"#990000\",\"dash\":\"dash\",\"width\":0.5},\"mode\":\"lines\",\"name\":\"Outside_range_Dry_LGBM\",\"showlegend\":false,\"x\":[\"2022-09-07T00:00:00\",\"2022-09-07T00:00:00\"],\"y\":[-93868.11773874522,77182.16072820587],\"type\":\"scatter\"},{\"line\":{\"color\":\"#990000\",\"dash\":\"dash\",\"width\":0.5},\"mode\":\"lines\",\"name\":\"Outside_range_Dry_LGBM\",\"showlegend\":false,\"x\":[\"2022-09-08T00:00:00\",\"2022-09-08T00:00:00\"],\"y\":[-93868.11773874522,77182.16072820587],\"type\":\"scatter\"},{\"line\":{\"color\":\"#990000\",\"dash\":\"dash\",\"width\":0.5},\"mode\":\"lines\",\"name\":\"Outside_range_Dry_LGBM\",\"showlegend\":false,\"x\":[\"2022-09-09T00:00:00\",\"2022-09-09T00:00:00\"],\"y\":[-93868.11773874522,77182.16072820587],\"type\":\"scatter\"},{\"line\":{\"color\":\"#990000\",\"dash\":\"dash\",\"width\":0.5},\"mode\":\"lines\",\"name\":\"Outside_range_Dry_LGBM\",\"showlegend\":false,\"x\":[\"2022-09-12T00:00:00\",\"2022-09-12T00:00:00\"],\"y\":[-93868.11773874522,77182.16072820587],\"type\":\"scatter\"},{\"line\":{\"color\":\"#990000\",\"dash\":\"dash\",\"width\":0.5},\"mode\":\"lines\",\"name\":\"Outside_range_Dry_LGBM\",\"showlegend\":false,\"x\":[\"2022-09-13T00:00:00\",\"2022-09-13T00:00:00\"],\"y\":[-93868.11773874522,77182.16072820587],\"type\":\"scatter\"},{\"line\":{\"color\":\"#990000\",\"dash\":\"dash\",\"width\":0.5},\"mode\":\"lines\",\"name\":\"Outside_range_Dry_LGBM\",\"showlegend\":false,\"x\":[\"2022-09-14T00:00:00\",\"2022-09-14T00:00:00\"],\"y\":[-93868.11773874522,77182.16072820587],\"type\":\"scatter\"},{\"line\":{\"color\":\"#990000\",\"dash\":\"dash\",\"width\":0.5},\"mode\":\"lines\",\"name\":\"Outside_range_Dry_LGBM\",\"showlegend\":false,\"x\":[\"2022-09-15T00:00:00\",\"2022-09-15T00:00:00\"],\"y\":[-93868.11773874522,77182.16072820587],\"type\":\"scatter\"},{\"line\":{\"color\":\"#990000\",\"dash\":\"dash\",\"width\":0.5},\"mode\":\"lines\",\"name\":\"Outside_range_Dry_LGBM\",\"showlegend\":false,\"x\":[\"2022-09-16T00:00:00\",\"2022-09-16T00:00:00\"],\"y\":[-93868.11773874522,77182.16072820587],\"type\":\"scatter\"},{\"line\":{\"color\":\"#990000\",\"dash\":\"dash\",\"width\":0.5},\"mode\":\"lines\",\"name\":\"Outside_range_Dry_LGBM\",\"showlegend\":false,\"x\":[\"2022-09-19T00:00:00\",\"2022-09-19T00:00:00\"],\"y\":[-93868.11773874522,77182.16072820587],\"type\":\"scatter\"},{\"line\":{\"color\":\"#990000\",\"dash\":\"dash\",\"width\":0.5},\"mode\":\"lines\",\"name\":\"Outside_range_Dry_LGBM\",\"showlegend\":false,\"x\":[\"2022-09-20T00:00:00\",\"2022-09-20T00:00:00\"],\"y\":[-93868.11773874522,77182.16072820587],\"type\":\"scatter\"},{\"line\":{\"color\":\"#990000\",\"dash\":\"dash\",\"width\":0.5},\"mode\":\"lines\",\"name\":\"Outside_range_Dry_LGBM\",\"showlegend\":false,\"x\":[\"2022-09-21T00:00:00\",\"2022-09-21T00:00:00\"],\"y\":[-93868.11773874522,77182.16072820587],\"type\":\"scatter\"},{\"line\":{\"color\":\"#990000\",\"dash\":\"dash\",\"width\":0.5},\"mode\":\"lines\",\"name\":\"Outside_range_Dry_LGBM\",\"showlegend\":false,\"x\":[\"2022-09-22T00:00:00\",\"2022-09-22T00:00:00\"],\"y\":[-93868.11773874522,77182.16072820587],\"type\":\"scatter\"},{\"line\":{\"color\":\"#990000\",\"dash\":\"dash\",\"width\":0.5},\"mode\":\"lines\",\"name\":\"Outside_range_Dry_LGBM\",\"showlegend\":false,\"x\":[\"2022-09-23T00:00:00\",\"2022-09-23T00:00:00\"],\"y\":[-93868.11773874522,77182.16072820587],\"type\":\"scatter\"},{\"line\":{\"color\":\"#990000\",\"dash\":\"dash\",\"width\":0.5},\"mode\":\"lines\",\"name\":\"Outside_range_Dry_LGBM\",\"showlegend\":false,\"x\":[\"2022-09-27T00:00:00\",\"2022-09-27T00:00:00\"],\"y\":[-93868.11773874522,77182.16072820587],\"type\":\"scatter\"},{\"line\":{\"color\":\"#990000\",\"dash\":\"dash\",\"width\":0.5},\"mode\":\"lines\",\"name\":\"Outside_range_Dry_LGBM\",\"showlegend\":false,\"x\":[\"2022-09-28T00:00:00\",\"2022-09-28T00:00:00\"],\"y\":[-93868.11773874522,77182.16072820587],\"type\":\"scatter\"},{\"line\":{\"color\":\"#990000\",\"dash\":\"dash\",\"width\":0.5},\"mode\":\"lines\",\"name\":\"Outside_range_Dry_LGBM\",\"showlegend\":false,\"x\":[\"2022-09-29T00:00:00\",\"2022-09-29T00:00:00\"],\"y\":[-93868.11773874522,77182.16072820587],\"type\":\"scatter\"},{\"line\":{\"color\":\"#990000\",\"dash\":\"dash\",\"width\":0.5},\"mode\":\"lines\",\"name\":\"Outside_range_Dry_LGBM\",\"showlegend\":false,\"x\":[\"2022-09-30T00:00:00\",\"2022-09-30T00:00:00\"],\"y\":[-93868.11773874522,77182.16072820587],\"type\":\"scatter\"},{\"line\":{\"color\":\"#990000\",\"dash\":\"dash\",\"width\":0.5},\"mode\":\"lines\",\"name\":\"Outside_range_Dry_LGBM\",\"showlegend\":false,\"x\":[\"2022-10-04T00:00:00\",\"2022-10-04T00:00:00\"],\"y\":[-93868.11773874522,77182.16072820587],\"type\":\"scatter\"},{\"line\":{\"color\":\"#990000\",\"dash\":\"dash\",\"width\":0.5},\"mode\":\"lines\",\"name\":\"Outside_range_Dry_LGBM\",\"showlegend\":false,\"x\":[\"2022-10-05T00:00:00\",\"2022-10-05T00:00:00\"],\"y\":[-93868.11773874522,77182.16072820587],\"type\":\"scatter\"},{\"line\":{\"color\":\"#990000\",\"dash\":\"dash\",\"width\":0.5},\"mode\":\"lines\",\"name\":\"Outside_range_Dry_LGBM\",\"showlegend\":false,\"x\":[\"2022-10-06T00:00:00\",\"2022-10-06T00:00:00\"],\"y\":[-93868.11773874522,77182.16072820587],\"type\":\"scatter\"},{\"line\":{\"color\":\"#990000\",\"dash\":\"dash\",\"width\":0.5},\"mode\":\"lines\",\"name\":\"Outside_range_Dry_LGBM\",\"showlegend\":false,\"x\":[\"2022-10-07T00:00:00\",\"2022-10-07T00:00:00\"],\"y\":[-93868.11773874522,77182.16072820587],\"type\":\"scatter\"},{\"line\":{\"color\":\"#990000\",\"dash\":\"dash\",\"width\":0.5},\"mode\":\"lines\",\"name\":\"Outside_range_Dry_LGBM\",\"showlegend\":false,\"x\":[\"2022-10-11T00:00:00\",\"2022-10-11T00:00:00\"],\"y\":[-93868.11773874522,77182.16072820587],\"type\":\"scatter\"},{\"line\":{\"color\":\"#990000\",\"dash\":\"dash\",\"width\":0.5},\"mode\":\"lines\",\"name\":\"Outside_range_Dry_LGBM\",\"showlegend\":false,\"x\":[\"2022-10-12T00:00:00\",\"2022-10-12T00:00:00\"],\"y\":[-93868.11773874522,77182.16072820587],\"type\":\"scatter\"},{\"line\":{\"color\":\"#990000\",\"dash\":\"dash\",\"width\":0.5},\"mode\":\"lines\",\"name\":\"Outside_range_Dry_LGBM\",\"showlegend\":false,\"x\":[\"2022-10-13T00:00:00\",\"2022-10-13T00:00:00\"],\"y\":[-93868.11773874522,77182.16072820587],\"type\":\"scatter\"},{\"line\":{\"color\":\"#990000\",\"dash\":\"dash\",\"width\":0.5},\"mode\":\"lines\",\"name\":\"Outside_range_Dry_LGBM\",\"showlegend\":false,\"x\":[\"2022-10-14T00:00:00\",\"2022-10-14T00:00:00\"],\"y\":[-93868.11773874522,77182.16072820587],\"type\":\"scatter\"},{\"line\":{\"color\":\"#990000\",\"dash\":\"dash\",\"width\":0.5},\"mode\":\"lines\",\"name\":\"Outside_range_Dry_LGBM\",\"showlegend\":false,\"x\":[\"2022-10-18T00:00:00\",\"2022-10-18T00:00:00\"],\"y\":[-93868.11773874522,77182.16072820587],\"type\":\"scatter\"},{\"line\":{\"color\":\"#990000\",\"dash\":\"dash\",\"width\":0.5},\"mode\":\"lines\",\"name\":\"Outside_range_Dry_LGBM\",\"showlegend\":false,\"x\":[\"2022-10-19T00:00:00\",\"2022-10-19T00:00:00\"],\"y\":[-93868.11773874522,77182.16072820587],\"type\":\"scatter\"},{\"line\":{\"color\":\"#990000\",\"dash\":\"dash\",\"width\":0.5},\"mode\":\"lines\",\"name\":\"Outside_range_Dry_LGBM\",\"showlegend\":false,\"x\":[\"2022-10-20T00:00:00\",\"2022-10-20T00:00:00\"],\"y\":[-93868.11773874522,77182.16072820587],\"type\":\"scatter\"},{\"line\":{\"color\":\"#990000\",\"dash\":\"dash\",\"width\":0.5},\"mode\":\"lines\",\"name\":\"Outside_range_Dry_LGBM\",\"showlegend\":false,\"x\":[\"2022-10-21T00:00:00\",\"2022-10-21T00:00:00\"],\"y\":[-93868.11773874522,77182.16072820587],\"type\":\"scatter\"},{\"line\":{\"color\":\"#990000\",\"dash\":\"dash\",\"width\":0.5},\"mode\":\"lines\",\"name\":\"Outside_range_Dry_LGBM\",\"showlegend\":false,\"x\":[\"2022-10-24T00:00:00\",\"2022-10-24T00:00:00\"],\"y\":[-93868.11773874522,77182.16072820587],\"type\":\"scatter\"},{\"line\":{\"color\":\"#990000\",\"dash\":\"dash\",\"width\":0.5},\"mode\":\"lines\",\"name\":\"Outside_range_Dry_LGBM\",\"showlegend\":false,\"x\":[\"2022-10-25T00:00:00\",\"2022-10-25T00:00:00\"],\"y\":[-93868.11773874522,77182.16072820587],\"type\":\"scatter\"},{\"line\":{\"color\":\"#990000\",\"dash\":\"dash\",\"width\":0.5},\"mode\":\"lines\",\"name\":\"Outside_range_Dry_LGBM\",\"showlegend\":false,\"x\":[\"2022-10-26T00:00:00\",\"2022-10-26T00:00:00\"],\"y\":[-93868.11773874522,77182.16072820587],\"type\":\"scatter\"},{\"line\":{\"color\":\"#990000\",\"dash\":\"dash\",\"width\":0.5},\"mode\":\"lines\",\"name\":\"Outside_range_Dry_LGBM\",\"showlegend\":false,\"x\":[\"2022-10-27T00:00:00\",\"2022-10-27T00:00:00\"],\"y\":[-93868.11773874522,77182.16072820587],\"type\":\"scatter\"},{\"line\":{\"color\":\"#990000\",\"dash\":\"dash\",\"width\":0.5},\"mode\":\"lines\",\"name\":\"Outside_range_Dry_LGBM\",\"showlegend\":false,\"x\":[\"2022-10-28T00:00:00\",\"2022-10-28T00:00:00\"],\"y\":[-93868.11773874522,77182.16072820587],\"type\":\"scatter\"},{\"line\":{\"color\":\"#990000\",\"dash\":\"dash\",\"width\":0.5},\"mode\":\"lines\",\"name\":\"Outside_range_Dry_LGBM\",\"showlegend\":false,\"x\":[\"2022-10-31T00:00:00\",\"2022-10-31T00:00:00\"],\"y\":[-93868.11773874522,77182.16072820587],\"type\":\"scatter\"},{\"line\":{\"color\":\"#990000\",\"dash\":\"dash\",\"width\":0.5},\"mode\":\"lines\",\"name\":\"Outside_range_Dry_LGBM\",\"showlegend\":false,\"x\":[\"2022-11-02T00:00:00\",\"2022-11-02T00:00:00\"],\"y\":[-93868.11773874522,77182.16072820587],\"type\":\"scatter\"},{\"line\":{\"color\":\"#990000\",\"dash\":\"dash\",\"width\":0.5},\"mode\":\"lines\",\"name\":\"Outside_range_Dry_LGBM\",\"showlegend\":false,\"x\":[\"2022-11-03T00:00:00\",\"2022-11-03T00:00:00\"],\"y\":[-93868.11773874522,77182.16072820587],\"type\":\"scatter\"},{\"line\":{\"color\":\"#990000\",\"dash\":\"dash\",\"width\":0.5},\"mode\":\"lines\",\"name\":\"Outside_range_Dry_LGBM\",\"showlegend\":false,\"x\":[\"2022-11-08T00:00:00\",\"2022-11-08T00:00:00\"],\"y\":[-93868.11773874522,77182.16072820587],\"type\":\"scatter\"},{\"line\":{\"color\":\"#990000\",\"dash\":\"dash\",\"width\":0.5},\"mode\":\"lines\",\"name\":\"Outside_range_Dry_LGBM\",\"showlegend\":false,\"x\":[\"2022-11-09T00:00:00\",\"2022-11-09T00:00:00\"],\"y\":[-93868.11773874522,77182.16072820587],\"type\":\"scatter\"},{\"line\":{\"color\":\"#990000\",\"dash\":\"dash\",\"width\":0.5},\"mode\":\"lines\",\"name\":\"Outside_range_Dry_LGBM\",\"showlegend\":false,\"x\":[\"2022-11-15T00:00:00\",\"2022-11-15T00:00:00\"],\"y\":[-93868.11773874522,77182.16072820587],\"type\":\"scatter\"},{\"line\":{\"color\":\"#990000\",\"dash\":\"dash\",\"width\":0.5},\"mode\":\"lines\",\"name\":\"Outside_range_Dry_LGBM\",\"showlegend\":false,\"x\":[\"2022-11-16T00:00:00\",\"2022-11-16T00:00:00\"],\"y\":[-93868.11773874522,77182.16072820587],\"type\":\"scatter\"},{\"line\":{\"color\":\"#990000\",\"dash\":\"dash\",\"width\":0.5},\"mode\":\"lines\",\"name\":\"Outside_range_Dry_LGBM\",\"showlegend\":false,\"x\":[\"2022-11-17T00:00:00\",\"2022-11-17T00:00:00\"],\"y\":[-93868.11773874522,77182.16072820587],\"type\":\"scatter\"},{\"line\":{\"color\":\"#990000\",\"dash\":\"dash\",\"width\":0.5},\"mode\":\"lines\",\"name\":\"Outside_range_Dry_LGBM\",\"showlegend\":false,\"x\":[\"2022-11-18T00:00:00\",\"2022-11-18T00:00:00\"],\"y\":[-93868.11773874522,77182.16072820587],\"type\":\"scatter\"},{\"line\":{\"color\":\"#990000\",\"dash\":\"dash\",\"width\":0.5},\"mode\":\"lines\",\"name\":\"Outside_range_Dry_LGBM\",\"showlegend\":false,\"x\":[\"2022-11-21T00:00:00\",\"2022-11-21T00:00:00\"],\"y\":[-93868.11773874522,77182.16072820587],\"type\":\"scatter\"},{\"line\":{\"color\":\"#990000\",\"dash\":\"dash\",\"width\":0.5},\"mode\":\"lines\",\"name\":\"Outside_range_Dry_LGBM\",\"showlegend\":false,\"x\":[\"2022-11-22T00:00:00\",\"2022-11-22T00:00:00\"],\"y\":[-93868.11773874522,77182.16072820587],\"type\":\"scatter\"},{\"line\":{\"color\":\"#990000\",\"dash\":\"dash\",\"width\":0.5},\"mode\":\"lines\",\"name\":\"Outside_range_Dry_LGBM\",\"showlegend\":false,\"x\":[\"2022-11-23T00:00:00\",\"2022-11-23T00:00:00\"],\"y\":[-93868.11773874522,77182.16072820587],\"type\":\"scatter\"},{\"line\":{\"color\":\"#990000\",\"dash\":\"dash\",\"width\":0.5},\"mode\":\"lines\",\"name\":\"Outside_range_Dry_LGBM\",\"showlegend\":false,\"x\":[\"2022-11-24T00:00:00\",\"2022-11-24T00:00:00\"],\"y\":[-93868.11773874522,77182.16072820587],\"type\":\"scatter\"},{\"line\":{\"color\":\"#990000\",\"dash\":\"dash\",\"width\":0.5},\"mode\":\"lines\",\"name\":\"Outside_range_Dry_LGBM\",\"showlegend\":false,\"x\":[\"2022-11-25T00:00:00\",\"2022-11-25T00:00:00\"],\"y\":[-93868.11773874522,77182.16072820587],\"type\":\"scatter\"},{\"line\":{\"color\":\"#990000\",\"dash\":\"dash\",\"width\":0.5},\"mode\":\"lines\",\"name\":\"Outside_range_Dry_LGBM\",\"showlegend\":false,\"x\":[\"2022-11-28T00:00:00\",\"2022-11-28T00:00:00\"],\"y\":[-93868.11773874522,77182.16072820587],\"type\":\"scatter\"},{\"line\":{\"color\":\"#990000\",\"dash\":\"dash\",\"width\":0.5},\"mode\":\"lines\",\"name\":\"Outside_range_Dry_LGBM\",\"showlegend\":false,\"x\":[\"2022-11-29T00:00:00\",\"2022-11-29T00:00:00\"],\"y\":[-93868.11773874522,77182.16072820587],\"type\":\"scatter\"},{\"line\":{\"color\":\"#990000\",\"dash\":\"dash\",\"width\":0.5},\"mode\":\"lines\",\"name\":\"Outside_range_Dry_LGBM\",\"showlegend\":false,\"x\":[\"2022-11-30T00:00:00\",\"2022-11-30T00:00:00\"],\"y\":[-93868.11773874522,77182.16072820587],\"type\":\"scatter\"},{\"line\":{\"color\":\"#990000\",\"dash\":\"dash\",\"width\":0.5},\"mode\":\"lines\",\"name\":\"Outside_range_Dry_LGBM\",\"showlegend\":false,\"x\":[\"2022-12-01T00:00:00\",\"2022-12-01T00:00:00\"],\"y\":[-93868.11773874522,77182.16072820587],\"type\":\"scatter\"},{\"line\":{\"color\":\"#990000\",\"dash\":\"dash\",\"width\":0.5},\"mode\":\"lines\",\"name\":\"Outside_range_Dry_LGBM\",\"showlegend\":false,\"x\":[\"2022-12-02T00:00:00\",\"2022-12-02T00:00:00\"],\"y\":[-93868.11773874522,77182.16072820587],\"type\":\"scatter\"},{\"line\":{\"color\":\"#990000\",\"dash\":\"dash\",\"width\":0.5},\"mode\":\"lines\",\"name\":\"Outside_range_Dry_LGBM\",\"showlegend\":false,\"x\":[\"2022-12-07T00:00:00\",\"2022-12-07T00:00:00\"],\"y\":[-93868.11773874522,77182.16072820587],\"type\":\"scatter\"},{\"line\":{\"color\":\"#990000\",\"dash\":\"dash\",\"width\":0.5},\"mode\":\"lines\",\"name\":\"Outside_range_Dry_LGBM\",\"showlegend\":false,\"x\":[\"2022-12-08T00:00:00\",\"2022-12-08T00:00:00\"],\"y\":[-93868.11773874522,77182.16072820587],\"type\":\"scatter\"},{\"line\":{\"color\":\"#990000\",\"dash\":\"dash\",\"width\":0.5},\"mode\":\"lines\",\"name\":\"Outside_range_Dry_LGBM\",\"showlegend\":false,\"x\":[\"2022-12-09T00:00:00\",\"2022-12-09T00:00:00\"],\"y\":[-93868.11773874522,77182.16072820587],\"type\":\"scatter\"},{\"line\":{\"color\":\"#990000\",\"dash\":\"dash\",\"width\":0.5},\"mode\":\"lines\",\"name\":\"Outside_range_Dry_LGBM\",\"showlegend\":false,\"x\":[\"2022-12-12T00:00:00\",\"2022-12-12T00:00:00\"],\"y\":[-93868.11773874522,77182.16072820587],\"type\":\"scatter\"},{\"line\":{\"color\":\"#990000\",\"dash\":\"dash\",\"width\":0.5},\"mode\":\"lines\",\"name\":\"Outside_range_Dry_LGBM\",\"showlegend\":false,\"x\":[\"2022-12-13T00:00:00\",\"2022-12-13T00:00:00\"],\"y\":[-93868.11773874522,77182.16072820587],\"type\":\"scatter\"},{\"line\":{\"color\":\"#990000\",\"dash\":\"dash\",\"width\":0.5},\"mode\":\"lines\",\"name\":\"Outside_range_Dry_LGBM\",\"showlegend\":false,\"x\":[\"2022-12-14T00:00:00\",\"2022-12-14T00:00:00\"],\"y\":[-93868.11773874522,77182.16072820587],\"type\":\"scatter\"},{\"line\":{\"color\":\"#990000\",\"dash\":\"dash\",\"width\":0.5},\"mode\":\"lines\",\"name\":\"Outside_range_Dry_LGBM\",\"showlegend\":false,\"x\":[\"2022-12-15T00:00:00\",\"2022-12-15T00:00:00\"],\"y\":[-93868.11773874522,77182.16072820587],\"type\":\"scatter\"},{\"line\":{\"color\":\"#990000\",\"dash\":\"dash\",\"width\":0.5},\"mode\":\"lines\",\"name\":\"Outside_range_Dry_LGBM\",\"showlegend\":false,\"x\":[\"2022-12-16T00:00:00\",\"2022-12-16T00:00:00\"],\"y\":[-93868.11773874522,77182.16072820587],\"type\":\"scatter\"},{\"line\":{\"color\":\"#990000\",\"dash\":\"dash\",\"width\":0.5},\"mode\":\"lines\",\"name\":\"Outside_range_Dry_LGBM\",\"showlegend\":false,\"x\":[\"2022-12-19T00:00:00\",\"2022-12-19T00:00:00\"],\"y\":[-93868.11773874522,77182.16072820587],\"type\":\"scatter\"},{\"line\":{\"color\":\"#990000\",\"dash\":\"dash\",\"width\":0.5},\"mode\":\"lines\",\"name\":\"Outside_range_Dry_LGBM\",\"showlegend\":false,\"x\":[\"2022-12-21T00:00:00\",\"2022-12-21T00:00:00\"],\"y\":[-93868.11773874522,77182.16072820587],\"type\":\"scatter\"},{\"line\":{\"color\":\"#990000\",\"dash\":\"dash\",\"width\":0.5},\"mode\":\"lines\",\"name\":\"Outside_range_Dry_LGBM\",\"showlegend\":false,\"x\":[\"2022-12-22T00:00:00\",\"2022-12-22T00:00:00\"],\"y\":[-93868.11773874522,77182.16072820587],\"type\":\"scatter\"},{\"line\":{\"color\":\"#990000\",\"dash\":\"dash\",\"width\":0.5},\"mode\":\"lines\",\"name\":\"Outside_range_Dry_LGBM\",\"showlegend\":false,\"x\":[\"2022-12-23T00:00:00\",\"2022-12-23T00:00:00\"],\"y\":[-93868.11773874522,77182.16072820587],\"type\":\"scatter\"},{\"line\":{\"color\":\"#990000\",\"dash\":\"dash\",\"width\":0.5},\"mode\":\"lines\",\"name\":\"Outside_range_Dry_LGBM\",\"showlegend\":false,\"x\":[\"2022-12-27T00:00:00\",\"2022-12-27T00:00:00\"],\"y\":[-93868.11773874522,77182.16072820587],\"type\":\"scatter\"},{\"line\":{\"color\":\"#990000\",\"dash\":\"dash\",\"width\":0.5},\"mode\":\"lines\",\"name\":\"Outside_range_Dry_LGBM\",\"showlegend\":false,\"x\":[\"2022-12-28T00:00:00\",\"2022-12-28T00:00:00\"],\"y\":[-93868.11773874522,77182.16072820587],\"type\":\"scatter\"},{\"line\":{\"color\":\"#990000\",\"dash\":\"dash\",\"width\":0.5},\"mode\":\"lines\",\"name\":\"Outside_range_Dry_LGBM\",\"showlegend\":false,\"x\":[\"2022-12-29T00:00:00\",\"2022-12-29T00:00:00\"],\"y\":[-93868.11773874522,77182.16072820587],\"type\":\"scatter\"},{\"line\":{\"color\":\"#990000\",\"dash\":\"dash\",\"width\":0.5},\"mode\":\"lines\",\"name\":\"Outside_range_Dry_LGBM\",\"showlegend\":false,\"x\":[\"2022-12-30T00:00:00\",\"2022-12-30T00:00:00\"],\"y\":[-93868.11773874522,77182.16072820587],\"type\":\"scatter\"}],                        {\"template\":{\"data\":{\"bar\":[{\"error_x\":{\"color\":\"#2a3f5f\"},\"error_y\":{\"color\":\"#2a3f5f\"},\"marker\":{\"line\":{\"color\":\"#E5ECF6\",\"width\":0.5},\"pattern\":{\"fillmode\":\"overlay\",\"size\":10,\"solidity\":0.2}},\"type\":\"bar\"}],\"barpolar\":[{\"marker\":{\"line\":{\"color\":\"#E5ECF6\",\"width\":0.5},\"pattern\":{\"fillmode\":\"overlay\",\"size\":10,\"solidity\":0.2}},\"type\":\"barpolar\"}],\"carpet\":[{\"aaxis\":{\"endlinecolor\":\"#2a3f5f\",\"gridcolor\":\"white\",\"linecolor\":\"white\",\"minorgridcolor\":\"white\",\"startlinecolor\":\"#2a3f5f\"},\"baxis\":{\"endlinecolor\":\"#2a3f5f\",\"gridcolor\":\"white\",\"linecolor\":\"white\",\"minorgridcolor\":\"white\",\"startlinecolor\":\"#2a3f5f\"},\"type\":\"carpet\"}],\"choropleth\":[{\"colorbar\":{\"outlinewidth\":0,\"ticks\":\"\"},\"type\":\"choropleth\"}],\"contour\":[{\"colorbar\":{\"outlinewidth\":0,\"ticks\":\"\"},\"colorscale\":[[0.0,\"#0d0887\"],[0.1111111111111111,\"#46039f\"],[0.2222222222222222,\"#7201a8\"],[0.3333333333333333,\"#9c179e\"],[0.4444444444444444,\"#bd3786\"],[0.5555555555555556,\"#d8576b\"],[0.6666666666666666,\"#ed7953\"],[0.7777777777777778,\"#fb9f3a\"],[0.8888888888888888,\"#fdca26\"],[1.0,\"#f0f921\"]],\"type\":\"contour\"}],\"contourcarpet\":[{\"colorbar\":{\"outlinewidth\":0,\"ticks\":\"\"},\"type\":\"contourcarpet\"}],\"heatmap\":[{\"colorbar\":{\"outlinewidth\":0,\"ticks\":\"\"},\"colorscale\":[[0.0,\"#0d0887\"],[0.1111111111111111,\"#46039f\"],[0.2222222222222222,\"#7201a8\"],[0.3333333333333333,\"#9c179e\"],[0.4444444444444444,\"#bd3786\"],[0.5555555555555556,\"#d8576b\"],[0.6666666666666666,\"#ed7953\"],[0.7777777777777778,\"#fb9f3a\"],[0.8888888888888888,\"#fdca26\"],[1.0,\"#f0f921\"]],\"type\":\"heatmap\"}],\"heatmapgl\":[{\"colorbar\":{\"outlinewidth\":0,\"ticks\":\"\"},\"colorscale\":[[0.0,\"#0d0887\"],[0.1111111111111111,\"#46039f\"],[0.2222222222222222,\"#7201a8\"],[0.3333333333333333,\"#9c179e\"],[0.4444444444444444,\"#bd3786\"],[0.5555555555555556,\"#d8576b\"],[0.6666666666666666,\"#ed7953\"],[0.7777777777777778,\"#fb9f3a\"],[0.8888888888888888,\"#fdca26\"],[1.0,\"#f0f921\"]],\"type\":\"heatmapgl\"}],\"histogram\":[{\"marker\":{\"pattern\":{\"fillmode\":\"overlay\",\"size\":10,\"solidity\":0.2}},\"type\":\"histogram\"}],\"histogram2d\":[{\"colorbar\":{\"outlinewidth\":0,\"ticks\":\"\"},\"colorscale\":[[0.0,\"#0d0887\"],[0.1111111111111111,\"#46039f\"],[0.2222222222222222,\"#7201a8\"],[0.3333333333333333,\"#9c179e\"],[0.4444444444444444,\"#bd3786\"],[0.5555555555555556,\"#d8576b\"],[0.6666666666666666,\"#ed7953\"],[0.7777777777777778,\"#fb9f3a\"],[0.8888888888888888,\"#fdca26\"],[1.0,\"#f0f921\"]],\"type\":\"histogram2d\"}],\"histogram2dcontour\":[{\"colorbar\":{\"outlinewidth\":0,\"ticks\":\"\"},\"colorscale\":[[0.0,\"#0d0887\"],[0.1111111111111111,\"#46039f\"],[0.2222222222222222,\"#7201a8\"],[0.3333333333333333,\"#9c179e\"],[0.4444444444444444,\"#bd3786\"],[0.5555555555555556,\"#d8576b\"],[0.6666666666666666,\"#ed7953\"],[0.7777777777777778,\"#fb9f3a\"],[0.8888888888888888,\"#fdca26\"],[1.0,\"#f0f921\"]],\"type\":\"histogram2dcontour\"}],\"mesh3d\":[{\"colorbar\":{\"outlinewidth\":0,\"ticks\":\"\"},\"type\":\"mesh3d\"}],\"parcoords\":[{\"line\":{\"colorbar\":{\"outlinewidth\":0,\"ticks\":\"\"}},\"type\":\"parcoords\"}],\"pie\":[{\"automargin\":true,\"type\":\"pie\"}],\"scatter\":[{\"marker\":{\"colorbar\":{\"outlinewidth\":0,\"ticks\":\"\"}},\"type\":\"scatter\"}],\"scatter3d\":[{\"line\":{\"colorbar\":{\"outlinewidth\":0,\"ticks\":\"\"}},\"marker\":{\"colorbar\":{\"outlinewidth\":0,\"ticks\":\"\"}},\"type\":\"scatter3d\"}],\"scattercarpet\":[{\"marker\":{\"colorbar\":{\"outlinewidth\":0,\"ticks\":\"\"}},\"type\":\"scattercarpet\"}],\"scattergeo\":[{\"marker\":{\"colorbar\":{\"outlinewidth\":0,\"ticks\":\"\"}},\"type\":\"scattergeo\"}],\"scattergl\":[{\"marker\":{\"colorbar\":{\"outlinewidth\":0,\"ticks\":\"\"}},\"type\":\"scattergl\"}],\"scattermapbox\":[{\"marker\":{\"colorbar\":{\"outlinewidth\":0,\"ticks\":\"\"}},\"type\":\"scattermapbox\"}],\"scatterpolar\":[{\"marker\":{\"colorbar\":{\"outlinewidth\":0,\"ticks\":\"\"}},\"type\":\"scatterpolar\"}],\"scatterpolargl\":[{\"marker\":{\"colorbar\":{\"outlinewidth\":0,\"ticks\":\"\"}},\"type\":\"scatterpolargl\"}],\"scatterternary\":[{\"marker\":{\"colorbar\":{\"outlinewidth\":0,\"ticks\":\"\"}},\"type\":\"scatterternary\"}],\"surface\":[{\"colorbar\":{\"outlinewidth\":0,\"ticks\":\"\"},\"colorscale\":[[0.0,\"#0d0887\"],[0.1111111111111111,\"#46039f\"],[0.2222222222222222,\"#7201a8\"],[0.3333333333333333,\"#9c179e\"],[0.4444444444444444,\"#bd3786\"],[0.5555555555555556,\"#d8576b\"],[0.6666666666666666,\"#ed7953\"],[0.7777777777777778,\"#fb9f3a\"],[0.8888888888888888,\"#fdca26\"],[1.0,\"#f0f921\"]],\"type\":\"surface\"}],\"table\":[{\"cells\":{\"fill\":{\"color\":\"#EBF0F8\"},\"line\":{\"color\":\"white\"}},\"header\":{\"fill\":{\"color\":\"#C8D4E3\"},\"line\":{\"color\":\"white\"}},\"type\":\"table\"}]},\"layout\":{\"annotationdefaults\":{\"arrowcolor\":\"#2a3f5f\",\"arrowhead\":0,\"arrowwidth\":1},\"autotypenumbers\":\"strict\",\"coloraxis\":{\"colorbar\":{\"outlinewidth\":0,\"ticks\":\"\"}},\"colorscale\":{\"diverging\":[[0,\"#8e0152\"],[0.1,\"#c51b7d\"],[0.2,\"#de77ae\"],[0.3,\"#f1b6da\"],[0.4,\"#fde0ef\"],[0.5,\"#f7f7f7\"],[0.6,\"#e6f5d0\"],[0.7,\"#b8e186\"],[0.8,\"#7fbc41\"],[0.9,\"#4d9221\"],[1,\"#276419\"]],\"sequential\":[[0.0,\"#0d0887\"],[0.1111111111111111,\"#46039f\"],[0.2222222222222222,\"#7201a8\"],[0.3333333333333333,\"#9c179e\"],[0.4444444444444444,\"#bd3786\"],[0.5555555555555556,\"#d8576b\"],[0.6666666666666666,\"#ed7953\"],[0.7777777777777778,\"#fb9f3a\"],[0.8888888888888888,\"#fdca26\"],[1.0,\"#f0f921\"]],\"sequentialminus\":[[0.0,\"#0d0887\"],[0.1111111111111111,\"#46039f\"],[0.2222222222222222,\"#7201a8\"],[0.3333333333333333,\"#9c179e\"],[0.4444444444444444,\"#bd3786\"],[0.5555555555555556,\"#d8576b\"],[0.6666666666666666,\"#ed7953\"],[0.7777777777777778,\"#fb9f3a\"],[0.8888888888888888,\"#fdca26\"],[1.0,\"#f0f921\"]]},\"colorway\":[\"#636efa\",\"#EF553B\",\"#00cc96\",\"#ab63fa\",\"#FFA15A\",\"#19d3f3\",\"#FF6692\",\"#B6E880\",\"#FF97FF\",\"#FECB52\"],\"font\":{\"color\":\"#2a3f5f\"},\"geo\":{\"bgcolor\":\"white\",\"lakecolor\":\"white\",\"landcolor\":\"#E5ECF6\",\"showlakes\":true,\"showland\":true,\"subunitcolor\":\"white\"},\"hoverlabel\":{\"align\":\"left\"},\"hovermode\":\"closest\",\"mapbox\":{\"style\":\"light\"},\"paper_bgcolor\":\"white\",\"plot_bgcolor\":\"#E5ECF6\",\"polar\":{\"angularaxis\":{\"gridcolor\":\"white\",\"linecolor\":\"white\",\"ticks\":\"\"},\"bgcolor\":\"#E5ECF6\",\"radialaxis\":{\"gridcolor\":\"white\",\"linecolor\":\"white\",\"ticks\":\"\"}},\"scene\":{\"xaxis\":{\"backgroundcolor\":\"#E5ECF6\",\"gridcolor\":\"white\",\"gridwidth\":2,\"linecolor\":\"white\",\"showbackground\":true,\"ticks\":\"\",\"zerolinecolor\":\"white\"},\"yaxis\":{\"backgroundcolor\":\"#E5ECF6\",\"gridcolor\":\"white\",\"gridwidth\":2,\"linecolor\":\"white\",\"showbackground\":true,\"ticks\":\"\",\"zerolinecolor\":\"white\"},\"zaxis\":{\"backgroundcolor\":\"#E5ECF6\",\"gridcolor\":\"white\",\"gridwidth\":2,\"linecolor\":\"white\",\"showbackground\":true,\"ticks\":\"\",\"zerolinecolor\":\"white\"}},\"shapedefaults\":{\"line\":{\"color\":\"#2a3f5f\"}},\"ternary\":{\"aaxis\":{\"gridcolor\":\"white\",\"linecolor\":\"white\",\"ticks\":\"\"},\"baxis\":{\"gridcolor\":\"white\",\"linecolor\":\"white\",\"ticks\":\"\"},\"bgcolor\":\"#E5ECF6\",\"caxis\":{\"gridcolor\":\"white\",\"linecolor\":\"white\",\"ticks\":\"\"}},\"title\":{\"x\":0.05},\"xaxis\":{\"automargin\":true,\"gridcolor\":\"white\",\"linecolor\":\"white\",\"ticks\":\"\",\"title\":{\"standoff\":15},\"zerolinecolor\":\"white\",\"zerolinewidth\":2},\"yaxis\":{\"automargin\":true,\"gridcolor\":\"white\",\"linecolor\":\"white\",\"ticks\":\"\",\"title\":{\"standoff\":15},\"zerolinecolor\":\"white\",\"zerolinewidth\":2}}}},                        {\"responsive\": true}                    )                };                            </script>        </div>\n",
       "</body>\n",
       "</html>"
      ]
     },
     "metadata": {
      "application/vnd.databricks.v1+output": {
       "addedWidgets": {},
       "arguments": {},
       "data": "<html>\n<head><meta charset=\"utf-8\" /></head>\n<body>\n    <div>            <script src=\"https://cdnjs.cloudflare.com/ajax/libs/mathjax/2.7.5/MathJax.js?config=TeX-AMS-MML_SVG\"></script><script type=\"text/javascript\">if (window.MathJax) {MathJax.Hub.Config({SVG: {font: \"STIX-Web\"}});}</script>                <script type=\"text/javascript\">window.PlotlyConfig = {MathJaxConfig: 'local'};</script>\n        <script src=\"https://cdn.plot.ly/plotly-2.9.0.min.js\"></script>                <div id=\"ee494e39-7586-4365-9fbd-036f45b6c5b9\" class=\"plotly-graph-div\" style=\"height:100%; width:100%;\"></div>            <script type=\"text/javascript\">                                    window.PLOTLYENV=window.PLOTLYENV || {};                                    if (document.getElementById(\"ee494e39-7586-4365-9fbd-036f45b6c5b9\")) {                    Plotly.newPlot(                        \"ee494e39-7586-4365-9fbd-036f45b6c5b9\",                        [{\"line\":{\"color\":\"#0000FF\"},\"name\":\"Bias_Dry_WOW\",\"showlegend\":true,\"x\":[\"2022-07-18T00:00:00\",\"2022-07-19T00:00:00\",\"2022-07-20T00:00:00\",\"2022-07-22T00:00:00\",\"2022-07-25T00:00:00\",\"2022-07-26T00:00:00\",\"2022-07-27T00:00:00\",\"2022-07-28T00:00:00\",\"2022-07-29T00:00:00\",\"2022-08-01T00:00:00\",\"2022-08-02T00:00:00\",\"2022-08-03T00:00:00\",\"2022-08-04T00:00:00\",\"2022-08-05T00:00:00\",\"2022-08-08T00:00:00\",\"2022-08-09T00:00:00\",\"2022-08-10T00:00:00\",\"2022-08-11T00:00:00\",\"2022-08-12T00:00:00\",\"2022-08-16T00:00:00\",\"2022-08-17T00:00:00\",\"2022-08-18T00:00:00\",\"2022-08-19T00:00:00\",\"2022-08-22T00:00:00\",\"2022-08-23T00:00:00\",\"2022-08-24T00:00:00\",\"2022-08-25T00:00:00\",\"2022-08-26T00:00:00\",\"2022-08-29T00:00:00\",\"2022-08-30T00:00:00\",\"2022-08-31T00:00:00\",\"2022-09-01T00:00:00\",\"2022-09-02T00:00:00\",\"2022-09-05T00:00:00\",\"2022-09-06T00:00:00\",\"2022-09-07T00:00:00\",\"2022-09-08T00:00:00\",\"2022-09-09T00:00:00\",\"2022-09-12T00:00:00\",\"2022-09-13T00:00:00\",\"2022-09-14T00:00:00\",\"2022-09-15T00:00:00\",\"2022-09-16T00:00:00\",\"2022-09-19T00:00:00\",\"2022-09-20T00:00:00\",\"2022-09-21T00:00:00\",\"2022-09-22T00:00:00\",\"2022-09-23T00:00:00\",\"2022-09-26T00:00:00\",\"2022-09-27T00:00:00\",\"2022-09-28T00:00:00\",\"2022-09-29T00:00:00\",\"2022-09-30T00:00:00\",\"2022-10-03T00:00:00\",\"2022-10-04T00:00:00\",\"2022-10-05T00:00:00\",\"2022-10-06T00:00:00\",\"2022-10-07T00:00:00\",\"2022-10-10T00:00:00\",\"2022-10-11T00:00:00\",\"2022-10-12T00:00:00\",\"2022-10-13T00:00:00\",\"2022-10-14T00:00:00\",\"2022-10-17T00:00:00\",\"2022-10-18T00:00:00\",\"2022-10-19T00:00:00\",\"2022-10-20T00:00:00\",\"2022-10-21T00:00:00\",\"2022-10-24T00:00:00\",\"2022-10-25T00:00:00\",\"2022-10-26T00:00:00\",\"2022-10-27T00:00:00\",\"2022-10-28T00:00:00\",\"2022-10-31T00:00:00\",\"2022-11-02T00:00:00\",\"2022-11-03T00:00:00\",\"2022-11-04T00:00:00\",\"2022-11-07T00:00:00\",\"2022-11-08T00:00:00\",\"2022-11-09T00:00:00\",\"2022-11-10T00:00:00\",\"2022-11-14T00:00:00\",\"2022-11-15T00:00:00\",\"2022-11-16T00:00:00\",\"2022-11-17T00:00:00\",\"2022-11-18T00:00:00\",\"2022-11-21T00:00:00\",\"2022-11-22T00:00:00\",\"2022-11-23T00:00:00\",\"2022-11-24T00:00:00\",\"2022-11-25T00:00:00\",\"2022-11-28T00:00:00\",\"2022-11-29T00:00:00\",\"2022-11-30T00:00:00\",\"2022-12-01T00:00:00\",\"2022-12-02T00:00:00\",\"2022-12-05T00:00:00\",\"2022-12-06T00:00:00\",\"2022-12-07T00:00:00\",\"2022-12-08T00:00:00\",\"2022-12-09T00:00:00\",\"2022-12-12T00:00:00\",\"2022-12-13T00:00:00\",\"2022-12-14T00:00:00\",\"2022-12-15T00:00:00\",\"2022-12-16T00:00:00\",\"2022-12-19T00:00:00\",\"2022-12-20T00:00:00\",\"2022-12-21T00:00:00\",\"2022-12-22T00:00:00\",\"2022-12-23T00:00:00\",\"2022-12-26T00:00:00\",\"2022-12-27T00:00:00\",\"2022-12-28T00:00:00\",\"2022-12-29T00:00:00\",\"2022-12-30T00:00:00\"],\"y\":[9489.700000000012,3187.8799999999974,-1813.0,-4908.861999999994,795.6000000000058,4595.5999999999985,9307.5,9541.340944918862,-7109.223999999995,-4650.559999999998,-3530.3039999999964,-2530.1200000000026,1820.1100000000006,-11134.667999999998,-12.279999999998836,-539.1999999999971,-1010.0400000000009,-866.6999999999971,-3768.428,1364.1759999999995,-9379.440000000002,-4638.540000000001,-19209.068,-6852.5,190.67199999999866,4224.559999999998,1022.0899999999965,-2211.933999999994,-2499.199999999997,-12378.239999999998,-493.1600000000035,5264.470000000001,-5851.671999999999,5274.779999999999,-1177.4320000000007,4997.399999999994,5627.739999999998,-7184.345999999998,-5930.0,3025.6640000000043,7669.759999999995,15439.029999999999,2163.796000000002,5176.0,-2879.0,4503.0,14407.0,4.0,2241.7000000000116,5049.080000000002,-4446.0,6548.1470000000045,-3140.3099999999977,-3592.0499999999884,-4764.080000000002,-680.0,-3464.5440000000017,-6239.921999999999,53.95000000001164,-1083.4000000000087,6188.5,3002.709999999999,-1180.3799999999974,5404.100000000006,2508.479999999996,4715.5,5055.395000000004,5049.016000000003,10750.950000000012,15696.679999999993,3526.0,3924.639000000003,2554.608,-2580.0,333.5,1525.5699999999997,-855.0139999999956,-10155.649999999994,-59204.84,52066.0,12626.047999999995,3614.550000000003,3908.4400000000023,-1548.5,9929.157999999996,8524.784000000007,10702.62000000001,7270.0,5536.239999999991,11479.488999999994,5132.502,2866.0,8634.919999999998,1694.1600000000035,-978.8710000000137,-7222.603999999999,8034.0,-8127.419999999998,3803.479999999996,2386.028999999995,-2789.837999999996,3763.0,1100.574999999997,2468.1150000000052,1679.3759999999966,280.62600000000384,3475.0,2027.449999999997,17891.380000000005,6982.351999999999,894.2590000000055,4577.0,7695.2699999999895,24236.319999999992,20794.34599999999,-8915.112000000001],\"type\":\"scatter\"},{\"line\":{\"color\":\"#FF0000\"},\"name\":\"Bias_Dry_LGBM\",\"showlegend\":true,\"x\":[\"2022-07-18T00:00:00\",\"2022-07-19T00:00:00\",\"2022-07-20T00:00:00\",\"2022-07-22T00:00:00\",\"2022-07-25T00:00:00\",\"2022-07-26T00:00:00\",\"2022-07-27T00:00:00\",\"2022-07-28T00:00:00\",\"2022-07-29T00:00:00\",\"2022-08-01T00:00:00\",\"2022-08-02T00:00:00\",\"2022-08-03T00:00:00\",\"2022-08-04T00:00:00\",\"2022-08-05T00:00:00\",\"2022-08-08T00:00:00\",\"2022-08-09T00:00:00\",\"2022-08-10T00:00:00\",\"2022-08-11T00:00:00\",\"2022-08-12T00:00:00\",\"2022-08-16T00:00:00\",\"2022-08-17T00:00:00\",\"2022-08-18T00:00:00\",\"2022-08-19T00:00:00\",\"2022-08-22T00:00:00\",\"2022-08-23T00:00:00\",\"2022-08-24T00:00:00\",\"2022-08-25T00:00:00\",\"2022-08-26T00:00:00\",\"2022-08-29T00:00:00\",\"2022-08-30T00:00:00\",\"2022-08-31T00:00:00\",\"2022-09-01T00:00:00\",\"2022-09-02T00:00:00\",\"2022-09-05T00:00:00\",\"2022-09-06T00:00:00\",\"2022-09-07T00:00:00\",\"2022-09-08T00:00:00\",\"2022-09-09T00:00:00\",\"2022-09-12T00:00:00\",\"2022-09-13T00:00:00\",\"2022-09-14T00:00:00\",\"2022-09-15T00:00:00\",\"2022-09-16T00:00:00\",\"2022-09-19T00:00:00\",\"2022-09-20T00:00:00\",\"2022-09-21T00:00:00\",\"2022-09-22T00:00:00\",\"2022-09-23T00:00:00\",\"2022-09-26T00:00:00\",\"2022-09-27T00:00:00\",\"2022-09-28T00:00:00\",\"2022-09-29T00:00:00\",\"2022-09-30T00:00:00\",\"2022-10-03T00:00:00\",\"2022-10-04T00:00:00\",\"2022-10-05T00:00:00\",\"2022-10-06T00:00:00\",\"2022-10-07T00:00:00\",\"2022-10-10T00:00:00\",\"2022-10-11T00:00:00\",\"2022-10-12T00:00:00\",\"2022-10-13T00:00:00\",\"2022-10-14T00:00:00\",\"2022-10-17T00:00:00\",\"2022-10-18T00:00:00\",\"2022-10-19T00:00:00\",\"2022-10-20T00:00:00\",\"2022-10-21T00:00:00\",\"2022-10-24T00:00:00\",\"2022-10-25T00:00:00\",\"2022-10-26T00:00:00\",\"2022-10-27T00:00:00\",\"2022-10-28T00:00:00\",\"2022-10-31T00:00:00\",\"2022-11-02T00:00:00\",\"2022-11-03T00:00:00\",\"2022-11-04T00:00:00\",\"2022-11-07T00:00:00\",\"2022-11-08T00:00:00\",\"2022-11-09T00:00:00\",\"2022-11-10T00:00:00\",\"2022-11-14T00:00:00\",\"2022-11-15T00:00:00\",\"2022-11-16T00:00:00\",\"2022-11-17T00:00:00\",\"2022-11-18T00:00:00\",\"2022-11-21T00:00:00\",\"2022-11-22T00:00:00\",\"2022-11-23T00:00:00\",\"2022-11-24T00:00:00\",\"2022-11-25T00:00:00\",\"2022-11-28T00:00:00\",\"2022-11-29T00:00:00\",\"2022-11-30T00:00:00\",\"2022-12-01T00:00:00\",\"2022-12-02T00:00:00\",\"2022-12-05T00:00:00\",\"2022-12-06T00:00:00\",\"2022-12-07T00:00:00\",\"2022-12-08T00:00:00\",\"2022-12-09T00:00:00\",\"2022-12-12T00:00:00\",\"2022-12-13T00:00:00\",\"2022-12-14T00:00:00\",\"2022-12-15T00:00:00\",\"2022-12-16T00:00:00\",\"2022-12-19T00:00:00\",\"2022-12-20T00:00:00\",\"2022-12-21T00:00:00\",\"2022-12-22T00:00:00\",\"2022-12-23T00:00:00\",\"2022-12-26T00:00:00\",\"2022-12-27T00:00:00\",\"2022-12-28T00:00:00\",\"2022-12-29T00:00:00\",\"2022-12-30T00:00:00\"],\"y\":[37133.911605371235,51915.95913994266,43478.883037925756,55333.6725854572,21536.03697092882,43711.923169277856,53281.07746861297,62336.07746861297,50065.11259413065,19590.933577620934,36048.252739816424,41714.3936105398,56268.36477544076,46586.557333114106,22878.352239801854,34739.62335900492,42392.11025646467,49086.69996417465,45918.13585255563,16439.904050009092,21473.23898760321,27547.006879088905,17413.661983748185,-51967.06377877106,14379.631893292826,34810.449394656534,29296.14387098384,28066.785304967867,-53924.78510553941,3054.897011793888,10753.577238181242,27280.901554448355,23574.354536909566,-10817.6651521022,12271.92614546718,11102.90099788335,27176.147643481454,20846.221541455132,-64219.733590656615,18855.339487067133,31931.01057070984,52418.57623692497,40859.86569612872,12017.810276268792,23989.66229162937,31026.218773562476,55249.654490501445,47713.723926590246,7804.034776164626,31525.814355433657,25460.907847741764,44153.56045942355,41675.13818108324,-3214.591250099271,19167.570710452303,32754.62206977693,34812.14507301366,38854.14079497426,-557.8093480522657,23360.223297196484,27253.675670343146,40681.235786038305,40269.61122263767,3942.8076038067084,16671.391973989405,30651.406111210206,43432.950499835264,44675.86588000484,12202.415432951471,37402.880043014724,34078.8060696679,43906.11836592086,46009.12115234684,14780.552392534417,-20700.211960633867,34958.95775547004,-1718.4167030865647,4354.383809323408,-93868.11773874522,77182.16072820587,-2085.6633308574674,1205.9831632511487,24781.14689224206,12885.967910560139,11163.110530830949,48764.920880294216,-12320.933923116507,32977.9172102733,25645.694687157767,52275.099964583584,44082.69468715777,-68316.82853405082,14207.638229807359,8010.654460491991,23487.171465949184,13293.298006970057,-2554.4574568373646,5362.071755063094,18664.644417839925,27782.859087772915,27758.47889721561,-29138.973742106406,17257.01821861435,19792.01821861435,33217.551974764065,41283.19486907621,19531.33356599517,5038.586527375432,25975.387636517582,14959.257966422025,24757.63347129921,7365.239288015669,22763.281590049155,41639.02378278735,37073.647126546624,22107.352251456905],\"type\":\"scatter\"},{\"line\":{\"color\":\"#000099\",\"dash\":\"dash\",\"width\":0.5},\"mode\":\"lines\",\"name\":\"Outside_range_Dry_WOW\",\"showlegend\":true,\"x\":[\"2022-07-18T00:00:00\",\"2022-07-18T00:00:00\"],\"y\":[-59204.84,52066.0],\"type\":\"scatter\"},{\"line\":{\"color\":\"#000099\",\"dash\":\"dash\",\"width\":0.5},\"mode\":\"lines\",\"name\":\"Outside_range_Dry_WOW\",\"showlegend\":false,\"x\":[\"2022-07-22T00:00:00\",\"2022-07-22T00:00:00\"],\"y\":[-59204.84,52066.0],\"type\":\"scatter\"},{\"line\":{\"color\":\"#000099\",\"dash\":\"dash\",\"width\":0.5},\"mode\":\"lines\",\"name\":\"Outside_range_Dry_WOW\",\"showlegend\":false,\"x\":[\"2022-07-27T00:00:00\",\"2022-07-27T00:00:00\"],\"y\":[-59204.84,52066.0],\"type\":\"scatter\"},{\"line\":{\"color\":\"#000099\",\"dash\":\"dash\",\"width\":0.5},\"mode\":\"lines\",\"name\":\"Outside_range_Dry_WOW\",\"showlegend\":false,\"x\":[\"2022-07-28T00:00:00\",\"2022-07-28T00:00:00\"],\"y\":[-59204.84,52066.0],\"type\":\"scatter\"},{\"line\":{\"color\":\"#000099\",\"dash\":\"dash\",\"width\":0.5},\"mode\":\"lines\",\"name\":\"Outside_range_Dry_WOW\",\"showlegend\":false,\"x\":[\"2022-07-29T00:00:00\",\"2022-07-29T00:00:00\"],\"y\":[-59204.84,52066.0],\"type\":\"scatter\"},{\"line\":{\"color\":\"#000099\",\"dash\":\"dash\",\"width\":0.5},\"mode\":\"lines\",\"name\":\"Outside_range_Dry_WOW\",\"showlegend\":false,\"x\":[\"2022-08-05T00:00:00\",\"2022-08-05T00:00:00\"],\"y\":[-59204.84,52066.0],\"type\":\"scatter\"},{\"line\":{\"color\":\"#000099\",\"dash\":\"dash\",\"width\":0.5},\"mode\":\"lines\",\"name\":\"Outside_range_Dry_WOW\",\"showlegend\":false,\"x\":[\"2022-08-17T00:00:00\",\"2022-08-17T00:00:00\"],\"y\":[-59204.84,52066.0],\"type\":\"scatter\"},{\"line\":{\"color\":\"#000099\",\"dash\":\"dash\",\"width\":0.5},\"mode\":\"lines\",\"name\":\"Outside_range_Dry_WOW\",\"showlegend\":false,\"x\":[\"2022-08-19T00:00:00\",\"2022-08-19T00:00:00\"],\"y\":[-59204.84,52066.0],\"type\":\"scatter\"},{\"line\":{\"color\":\"#000099\",\"dash\":\"dash\",\"width\":0.5},\"mode\":\"lines\",\"name\":\"Outside_range_Dry_WOW\",\"showlegend\":false,\"x\":[\"2022-08-30T00:00:00\",\"2022-08-30T00:00:00\"],\"y\":[-59204.84,52066.0],\"type\":\"scatter\"},{\"line\":{\"color\":\"#000099\",\"dash\":\"dash\",\"width\":0.5},\"mode\":\"lines\",\"name\":\"Outside_range_Dry_WOW\",\"showlegend\":false,\"x\":[\"2022-09-01T00:00:00\",\"2022-09-01T00:00:00\"],\"y\":[-59204.84,52066.0],\"type\":\"scatter\"},{\"line\":{\"color\":\"#000099\",\"dash\":\"dash\",\"width\":0.5},\"mode\":\"lines\",\"name\":\"Outside_range_Dry_WOW\",\"showlegend\":false,\"x\":[\"2022-09-02T00:00:00\",\"2022-09-02T00:00:00\"],\"y\":[-59204.84,52066.0],\"type\":\"scatter\"},{\"line\":{\"color\":\"#000099\",\"dash\":\"dash\",\"width\":0.5},\"mode\":\"lines\",\"name\":\"Outside_range_Dry_WOW\",\"showlegend\":false,\"x\":[\"2022-09-09T00:00:00\",\"2022-09-09T00:00:00\"],\"y\":[-59204.84,52066.0],\"type\":\"scatter\"},{\"line\":{\"color\":\"#000099\",\"dash\":\"dash\",\"width\":0.5},\"mode\":\"lines\",\"name\":\"Outside_range_Dry_WOW\",\"showlegend\":false,\"x\":[\"2022-09-14T00:00:00\",\"2022-09-14T00:00:00\"],\"y\":[-59204.84,52066.0],\"type\":\"scatter\"},{\"line\":{\"color\":\"#000099\",\"dash\":\"dash\",\"width\":0.5},\"mode\":\"lines\",\"name\":\"Outside_range_Dry_WOW\",\"showlegend\":false,\"x\":[\"2022-09-15T00:00:00\",\"2022-09-15T00:00:00\"],\"y\":[-59204.84,52066.0],\"type\":\"scatter\"},{\"line\":{\"color\":\"#000099\",\"dash\":\"dash\",\"width\":0.5},\"mode\":\"lines\",\"name\":\"Outside_range_Dry_WOW\",\"showlegend\":false,\"x\":[\"2022-09-22T00:00:00\",\"2022-09-22T00:00:00\"],\"y\":[-59204.84,52066.0],\"type\":\"scatter\"},{\"line\":{\"color\":\"#000099\",\"dash\":\"dash\",\"width\":0.5},\"mode\":\"lines\",\"name\":\"Outside_range_Dry_WOW\",\"showlegend\":false,\"x\":[\"2022-09-29T00:00:00\",\"2022-09-29T00:00:00\"],\"y\":[-59204.84,52066.0],\"type\":\"scatter\"},{\"line\":{\"color\":\"#000099\",\"dash\":\"dash\",\"width\":0.5},\"mode\":\"lines\",\"name\":\"Outside_range_Dry_WOW\",\"showlegend\":false,\"x\":[\"2022-10-07T00:00:00\",\"2022-10-07T00:00:00\"],\"y\":[-59204.84,52066.0],\"type\":\"scatter\"},{\"line\":{\"color\":\"#000099\",\"dash\":\"dash\",\"width\":0.5},\"mode\":\"lines\",\"name\":\"Outside_range_Dry_WOW\",\"showlegend\":false,\"x\":[\"2022-10-12T00:00:00\",\"2022-10-12T00:00:00\"],\"y\":[-59204.84,52066.0],\"type\":\"scatter\"},{\"line\":{\"color\":\"#000099\",\"dash\":\"dash\",\"width\":0.5},\"mode\":\"lines\",\"name\":\"Outside_range_Dry_WOW\",\"showlegend\":false,\"x\":[\"2022-10-21T00:00:00\",\"2022-10-21T00:00:00\"],\"y\":[-59204.84,52066.0],\"type\":\"scatter\"},{\"line\":{\"color\":\"#000099\",\"dash\":\"dash\",\"width\":0.5},\"mode\":\"lines\",\"name\":\"Outside_range_Dry_WOW\",\"showlegend\":false,\"x\":[\"2022-10-24T00:00:00\",\"2022-10-24T00:00:00\"],\"y\":[-59204.84,52066.0],\"type\":\"scatter\"},{\"line\":{\"color\":\"#000099\",\"dash\":\"dash\",\"width\":0.5},\"mode\":\"lines\",\"name\":\"Outside_range_Dry_WOW\",\"showlegend\":false,\"x\":[\"2022-10-25T00:00:00\",\"2022-10-25T00:00:00\"],\"y\":[-59204.84,52066.0],\"type\":\"scatter\"},{\"line\":{\"color\":\"#000099\",\"dash\":\"dash\",\"width\":0.5},\"mode\":\"lines\",\"name\":\"Outside_range_Dry_WOW\",\"showlegend\":false,\"x\":[\"2022-11-07T00:00:00\",\"2022-11-07T00:00:00\"],\"y\":[-59204.84,52066.0],\"type\":\"scatter\"},{\"line\":{\"color\":\"#000099\",\"dash\":\"dash\",\"width\":0.5},\"mode\":\"lines\",\"name\":\"Outside_range_Dry_WOW\",\"showlegend\":false,\"x\":[\"2022-11-08T00:00:00\",\"2022-11-08T00:00:00\"],\"y\":[-59204.84,52066.0],\"type\":\"scatter\"},{\"line\":{\"color\":\"#000099\",\"dash\":\"dash\",\"width\":0.5},\"mode\":\"lines\",\"name\":\"Outside_range_Dry_WOW\",\"showlegend\":false,\"x\":[\"2022-11-09T00:00:00\",\"2022-11-09T00:00:00\"],\"y\":[-59204.84,52066.0],\"type\":\"scatter\"},{\"line\":{\"color\":\"#000099\",\"dash\":\"dash\",\"width\":0.5},\"mode\":\"lines\",\"name\":\"Outside_range_Dry_WOW\",\"showlegend\":false,\"x\":[\"2022-11-10T00:00:00\",\"2022-11-10T00:00:00\"],\"y\":[-59204.84,52066.0],\"type\":\"scatter\"},{\"line\":{\"color\":\"#000099\",\"dash\":\"dash\",\"width\":0.5},\"mode\":\"lines\",\"name\":\"Outside_range_Dry_WOW\",\"showlegend\":false,\"x\":[\"2022-11-17T00:00:00\",\"2022-11-17T00:00:00\"],\"y\":[-59204.84,52066.0],\"type\":\"scatter\"},{\"line\":{\"color\":\"#000099\",\"dash\":\"dash\",\"width\":0.5},\"mode\":\"lines\",\"name\":\"Outside_range_Dry_WOW\",\"showlegend\":false,\"x\":[\"2022-11-18T00:00:00\",\"2022-11-18T00:00:00\"],\"y\":[-59204.84,52066.0],\"type\":\"scatter\"},{\"line\":{\"color\":\"#000099\",\"dash\":\"dash\",\"width\":0.5},\"mode\":\"lines\",\"name\":\"Outside_range_Dry_WOW\",\"showlegend\":false,\"x\":[\"2022-11-22T00:00:00\",\"2022-11-22T00:00:00\"],\"y\":[-59204.84,52066.0],\"type\":\"scatter\"},{\"line\":{\"color\":\"#000099\",\"dash\":\"dash\",\"width\":0.5},\"mode\":\"lines\",\"name\":\"Outside_range_Dry_WOW\",\"showlegend\":false,\"x\":[\"2022-11-24T00:00:00\",\"2022-11-24T00:00:00\"],\"y\":[-59204.84,52066.0],\"type\":\"scatter\"},{\"line\":{\"color\":\"#000099\",\"dash\":\"dash\",\"width\":0.5},\"mode\":\"lines\",\"name\":\"Outside_range_Dry_WOW\",\"showlegend\":false,\"x\":[\"2022-11-25T00:00:00\",\"2022-11-25T00:00:00\"],\"y\":[-59204.84,52066.0],\"type\":\"scatter\"},{\"line\":{\"color\":\"#000099\",\"dash\":\"dash\",\"width\":0.5},\"mode\":\"lines\",\"name\":\"Outside_range_Dry_WOW\",\"showlegend\":false,\"x\":[\"2022-11-29T00:00:00\",\"2022-11-29T00:00:00\"],\"y\":[-59204.84,52066.0],\"type\":\"scatter\"},{\"line\":{\"color\":\"#000099\",\"dash\":\"dash\",\"width\":0.5},\"mode\":\"lines\",\"name\":\"Outside_range_Dry_WOW\",\"showlegend\":false,\"x\":[\"2022-12-02T00:00:00\",\"2022-12-02T00:00:00\"],\"y\":[-59204.84,52066.0],\"type\":\"scatter\"},{\"line\":{\"color\":\"#000099\",\"dash\":\"dash\",\"width\":0.5},\"mode\":\"lines\",\"name\":\"Outside_range_Dry_WOW\",\"showlegend\":false,\"x\":[\"2022-12-06T00:00:00\",\"2022-12-06T00:00:00\"],\"y\":[-59204.84,52066.0],\"type\":\"scatter\"},{\"line\":{\"color\":\"#000099\",\"dash\":\"dash\",\"width\":0.5},\"mode\":\"lines\",\"name\":\"Outside_range_Dry_WOW\",\"showlegend\":false,\"x\":[\"2022-12-21T00:00:00\",\"2022-12-21T00:00:00\"],\"y\":[-59204.84,52066.0],\"type\":\"scatter\"},{\"line\":{\"color\":\"#000099\",\"dash\":\"dash\",\"width\":0.5},\"mode\":\"lines\",\"name\":\"Outside_range_Dry_WOW\",\"showlegend\":false,\"x\":[\"2022-12-22T00:00:00\",\"2022-12-22T00:00:00\"],\"y\":[-59204.84,52066.0],\"type\":\"scatter\"},{\"line\":{\"color\":\"#000099\",\"dash\":\"dash\",\"width\":0.5},\"mode\":\"lines\",\"name\":\"Outside_range_Dry_WOW\",\"showlegend\":false,\"x\":[\"2022-12-27T00:00:00\",\"2022-12-27T00:00:00\"],\"y\":[-59204.84,52066.0],\"type\":\"scatter\"},{\"line\":{\"color\":\"#000099\",\"dash\":\"dash\",\"width\":0.5},\"mode\":\"lines\",\"name\":\"Outside_range_Dry_WOW\",\"showlegend\":false,\"x\":[\"2022-12-28T00:00:00\",\"2022-12-28T00:00:00\"],\"y\":[-59204.84,52066.0],\"type\":\"scatter\"},{\"line\":{\"color\":\"#000099\",\"dash\":\"dash\",\"width\":0.5},\"mode\":\"lines\",\"name\":\"Outside_range_Dry_WOW\",\"showlegend\":false,\"x\":[\"2022-12-29T00:00:00\",\"2022-12-29T00:00:00\"],\"y\":[-59204.84,52066.0],\"type\":\"scatter\"},{\"line\":{\"color\":\"#000099\",\"dash\":\"dash\",\"width\":0.5},\"mode\":\"lines\",\"name\":\"Outside_range_Dry_WOW\",\"showlegend\":false,\"x\":[\"2022-12-30T00:00:00\",\"2022-12-30T00:00:00\"],\"y\":[-59204.84,52066.0],\"type\":\"scatter\"},{\"line\":{\"color\":\"#990000\",\"dash\":\"dash\",\"width\":0.5},\"mode\":\"lines\",\"name\":\"Outside_range_Dry_LGBM\",\"showlegend\":true,\"x\":[\"2022-07-18T00:00:00\",\"2022-07-18T00:00:00\"],\"y\":[-93868.11773874522,77182.16072820587],\"type\":\"scatter\"},{\"line\":{\"color\":\"#990000\",\"dash\":\"dash\",\"width\":0.5},\"mode\":\"lines\",\"name\":\"Outside_range_Dry_LGBM\",\"showlegend\":false,\"x\":[\"2022-07-19T00:00:00\",\"2022-07-19T00:00:00\"],\"y\":[-93868.11773874522,77182.16072820587],\"type\":\"scatter\"},{\"line\":{\"color\":\"#990000\",\"dash\":\"dash\",\"width\":0.5},\"mode\":\"lines\",\"name\":\"Outside_range_Dry_LGBM\",\"showlegend\":false,\"x\":[\"2022-07-20T00:00:00\",\"2022-07-20T00:00:00\"],\"y\":[-93868.11773874522,77182.16072820587],\"type\":\"scatter\"},{\"line\":{\"color\":\"#990000\",\"dash\":\"dash\",\"width\":0.5},\"mode\":\"lines\",\"name\":\"Outside_range_Dry_LGBM\",\"showlegend\":false,\"x\":[\"2022-07-22T00:00:00\",\"2022-07-22T00:00:00\"],\"y\":[-93868.11773874522,77182.16072820587],\"type\":\"scatter\"},{\"line\":{\"color\":\"#990000\",\"dash\":\"dash\",\"width\":0.5},\"mode\":\"lines\",\"name\":\"Outside_range_Dry_LGBM\",\"showlegend\":false,\"x\":[\"2022-07-25T00:00:00\",\"2022-07-25T00:00:00\"],\"y\":[-93868.11773874522,77182.16072820587],\"type\":\"scatter\"},{\"line\":{\"color\":\"#990000\",\"dash\":\"dash\",\"width\":0.5},\"mode\":\"lines\",\"name\":\"Outside_range_Dry_LGBM\",\"showlegend\":false,\"x\":[\"2022-07-26T00:00:00\",\"2022-07-26T00:00:00\"],\"y\":[-93868.11773874522,77182.16072820587],\"type\":\"scatter\"},{\"line\":{\"color\":\"#990000\",\"dash\":\"dash\",\"width\":0.5},\"mode\":\"lines\",\"name\":\"Outside_range_Dry_LGBM\",\"showlegend\":false,\"x\":[\"2022-07-27T00:00:00\",\"2022-07-27T00:00:00\"],\"y\":[-93868.11773874522,77182.16072820587],\"type\":\"scatter\"},{\"line\":{\"color\":\"#990000\",\"dash\":\"dash\",\"width\":0.5},\"mode\":\"lines\",\"name\":\"Outside_range_Dry_LGBM\",\"showlegend\":false,\"x\":[\"2022-07-28T00:00:00\",\"2022-07-28T00:00:00\"],\"y\":[-93868.11773874522,77182.16072820587],\"type\":\"scatter\"},{\"line\":{\"color\":\"#990000\",\"dash\":\"dash\",\"width\":0.5},\"mode\":\"lines\",\"name\":\"Outside_range_Dry_LGBM\",\"showlegend\":false,\"x\":[\"2022-07-29T00:00:00\",\"2022-07-29T00:00:00\"],\"y\":[-93868.11773874522,77182.16072820587],\"type\":\"scatter\"},{\"line\":{\"color\":\"#990000\",\"dash\":\"dash\",\"width\":0.5},\"mode\":\"lines\",\"name\":\"Outside_range_Dry_LGBM\",\"showlegend\":false,\"x\":[\"2022-08-01T00:00:00\",\"2022-08-01T00:00:00\"],\"y\":[-93868.11773874522,77182.16072820587],\"type\":\"scatter\"},{\"line\":{\"color\":\"#990000\",\"dash\":\"dash\",\"width\":0.5},\"mode\":\"lines\",\"name\":\"Outside_range_Dry_LGBM\",\"showlegend\":false,\"x\":[\"2022-08-02T00:00:00\",\"2022-08-02T00:00:00\"],\"y\":[-93868.11773874522,77182.16072820587],\"type\":\"scatter\"},{\"line\":{\"color\":\"#990000\",\"dash\":\"dash\",\"width\":0.5},\"mode\":\"lines\",\"name\":\"Outside_range_Dry_LGBM\",\"showlegend\":false,\"x\":[\"2022-08-03T00:00:00\",\"2022-08-03T00:00:00\"],\"y\":[-93868.11773874522,77182.16072820587],\"type\":\"scatter\"},{\"line\":{\"color\":\"#990000\",\"dash\":\"dash\",\"width\":0.5},\"mode\":\"lines\",\"name\":\"Outside_range_Dry_LGBM\",\"showlegend\":false,\"x\":[\"2022-08-04T00:00:00\",\"2022-08-04T00:00:00\"],\"y\":[-93868.11773874522,77182.16072820587],\"type\":\"scatter\"},{\"line\":{\"color\":\"#990000\",\"dash\":\"dash\",\"width\":0.5},\"mode\":\"lines\",\"name\":\"Outside_range_Dry_LGBM\",\"showlegend\":false,\"x\":[\"2022-08-05T00:00:00\",\"2022-08-05T00:00:00\"],\"y\":[-93868.11773874522,77182.16072820587],\"type\":\"scatter\"},{\"line\":{\"color\":\"#990000\",\"dash\":\"dash\",\"width\":0.5},\"mode\":\"lines\",\"name\":\"Outside_range_Dry_LGBM\",\"showlegend\":false,\"x\":[\"2022-08-08T00:00:00\",\"2022-08-08T00:00:00\"],\"y\":[-93868.11773874522,77182.16072820587],\"type\":\"scatter\"},{\"line\":{\"color\":\"#990000\",\"dash\":\"dash\",\"width\":0.5},\"mode\":\"lines\",\"name\":\"Outside_range_Dry_LGBM\",\"showlegend\":false,\"x\":[\"2022-08-09T00:00:00\",\"2022-08-09T00:00:00\"],\"y\":[-93868.11773874522,77182.16072820587],\"type\":\"scatter\"},{\"line\":{\"color\":\"#990000\",\"dash\":\"dash\",\"width\":0.5},\"mode\":\"lines\",\"name\":\"Outside_range_Dry_LGBM\",\"showlegend\":false,\"x\":[\"2022-08-10T00:00:00\",\"2022-08-10T00:00:00\"],\"y\":[-93868.11773874522,77182.16072820587],\"type\":\"scatter\"},{\"line\":{\"color\":\"#990000\",\"dash\":\"dash\",\"width\":0.5},\"mode\":\"lines\",\"name\":\"Outside_range_Dry_LGBM\",\"showlegend\":false,\"x\":[\"2022-08-11T00:00:00\",\"2022-08-11T00:00:00\"],\"y\":[-93868.11773874522,77182.16072820587],\"type\":\"scatter\"},{\"line\":{\"color\":\"#990000\",\"dash\":\"dash\",\"width\":0.5},\"mode\":\"lines\",\"name\":\"Outside_range_Dry_LGBM\",\"showlegend\":false,\"x\":[\"2022-08-12T00:00:00\",\"2022-08-12T00:00:00\"],\"y\":[-93868.11773874522,77182.16072820587],\"type\":\"scatter\"},{\"line\":{\"color\":\"#990000\",\"dash\":\"dash\",\"width\":0.5},\"mode\":\"lines\",\"name\":\"Outside_range_Dry_LGBM\",\"showlegend\":false,\"x\":[\"2022-08-16T00:00:00\",\"2022-08-16T00:00:00\"],\"y\":[-93868.11773874522,77182.16072820587],\"type\":\"scatter\"},{\"line\":{\"color\":\"#990000\",\"dash\":\"dash\",\"width\":0.5},\"mode\":\"lines\",\"name\":\"Outside_range_Dry_LGBM\",\"showlegend\":false,\"x\":[\"2022-08-17T00:00:00\",\"2022-08-17T00:00:00\"],\"y\":[-93868.11773874522,77182.16072820587],\"type\":\"scatter\"},{\"line\":{\"color\":\"#990000\",\"dash\":\"dash\",\"width\":0.5},\"mode\":\"lines\",\"name\":\"Outside_range_Dry_LGBM\",\"showlegend\":false,\"x\":[\"2022-08-18T00:00:00\",\"2022-08-18T00:00:00\"],\"y\":[-93868.11773874522,77182.16072820587],\"type\":\"scatter\"},{\"line\":{\"color\":\"#990000\",\"dash\":\"dash\",\"width\":0.5},\"mode\":\"lines\",\"name\":\"Outside_range_Dry_LGBM\",\"showlegend\":false,\"x\":[\"2022-08-19T00:00:00\",\"2022-08-19T00:00:00\"],\"y\":[-93868.11773874522,77182.16072820587],\"type\":\"scatter\"},{\"line\":{\"color\":\"#990000\",\"dash\":\"dash\",\"width\":0.5},\"mode\":\"lines\",\"name\":\"Outside_range_Dry_LGBM\",\"showlegend\":false,\"x\":[\"2022-08-22T00:00:00\",\"2022-08-22T00:00:00\"],\"y\":[-93868.11773874522,77182.16072820587],\"type\":\"scatter\"},{\"line\":{\"color\":\"#990000\",\"dash\":\"dash\",\"width\":0.5},\"mode\":\"lines\",\"name\":\"Outside_range_Dry_LGBM\",\"showlegend\":false,\"x\":[\"2022-08-23T00:00:00\",\"2022-08-23T00:00:00\"],\"y\":[-93868.11773874522,77182.16072820587],\"type\":\"scatter\"},{\"line\":{\"color\":\"#990000\",\"dash\":\"dash\",\"width\":0.5},\"mode\":\"lines\",\"name\":\"Outside_range_Dry_LGBM\",\"showlegend\":false,\"x\":[\"2022-08-24T00:00:00\",\"2022-08-24T00:00:00\"],\"y\":[-93868.11773874522,77182.16072820587],\"type\":\"scatter\"},{\"line\":{\"color\":\"#990000\",\"dash\":\"dash\",\"width\":0.5},\"mode\":\"lines\",\"name\":\"Outside_range_Dry_LGBM\",\"showlegend\":false,\"x\":[\"2022-08-25T00:00:00\",\"2022-08-25T00:00:00\"],\"y\":[-93868.11773874522,77182.16072820587],\"type\":\"scatter\"},{\"line\":{\"color\":\"#990000\",\"dash\":\"dash\",\"width\":0.5},\"mode\":\"lines\",\"name\":\"Outside_range_Dry_LGBM\",\"showlegend\":false,\"x\":[\"2022-08-26T00:00:00\",\"2022-08-26T00:00:00\"],\"y\":[-93868.11773874522,77182.16072820587],\"type\":\"scatter\"},{\"line\":{\"color\":\"#990000\",\"dash\":\"dash\",\"width\":0.5},\"mode\":\"lines\",\"name\":\"Outside_range_Dry_LGBM\",\"showlegend\":false,\"x\":[\"2022-08-29T00:00:00\",\"2022-08-29T00:00:00\"],\"y\":[-93868.11773874522,77182.16072820587],\"type\":\"scatter\"},{\"line\":{\"color\":\"#990000\",\"dash\":\"dash\",\"width\":0.5},\"mode\":\"lines\",\"name\":\"Outside_range_Dry_LGBM\",\"showlegend\":false,\"x\":[\"2022-08-31T00:00:00\",\"2022-08-31T00:00:00\"],\"y\":[-93868.11773874522,77182.16072820587],\"type\":\"scatter\"},{\"line\":{\"color\":\"#990000\",\"dash\":\"dash\",\"width\":0.5},\"mode\":\"lines\",\"name\":\"Outside_range_Dry_LGBM\",\"showlegend\":false,\"x\":[\"2022-09-01T00:00:00\",\"2022-09-01T00:00:00\"],\"y\":[-93868.11773874522,77182.16072820587],\"type\":\"scatter\"},{\"line\":{\"color\":\"#990000\",\"dash\":\"dash\",\"width\":0.5},\"mode\":\"lines\",\"name\":\"Outside_range_Dry_LGBM\",\"showlegend\":false,\"x\":[\"2022-09-02T00:00:00\",\"2022-09-02T00:00:00\"],\"y\":[-93868.11773874522,77182.16072820587],\"type\":\"scatter\"},{\"line\":{\"color\":\"#990000\",\"dash\":\"dash\",\"width\":0.5},\"mode\":\"lines\",\"name\":\"Outside_range_Dry_LGBM\",\"showlegend\":false,\"x\":[\"2022-09-05T00:00:00\",\"2022-09-05T00:00:00\"],\"y\":[-93868.11773874522,77182.16072820587],\"type\":\"scatter\"},{\"line\":{\"color\":\"#990000\",\"dash\":\"dash\",\"width\":0.5},\"mode\":\"lines\",\"name\":\"Outside_range_Dry_LGBM\",\"showlegend\":false,\"x\":[\"2022-09-06T00:00:00\",\"2022-09-06T00:00:00\"],\"y\":[-93868.11773874522,77182.16072820587],\"type\":\"scatter\"},{\"line\":{\"color\":\"#990000\",\"dash\":\"dash\",\"width\":0.5},\"mode\":\"lines\",\"name\":\"Outside_range_Dry_LGBM\",\"showlegend\":false,\"x\":[\"2022-09-07T00:00:00\",\"2022-09-07T00:00:00\"],\"y\":[-93868.11773874522,77182.16072820587],\"type\":\"scatter\"},{\"line\":{\"color\":\"#990000\",\"dash\":\"dash\",\"width\":0.5},\"mode\":\"lines\",\"name\":\"Outside_range_Dry_LGBM\",\"showlegend\":false,\"x\":[\"2022-09-08T00:00:00\",\"2022-09-08T00:00:00\"],\"y\":[-93868.11773874522,77182.16072820587],\"type\":\"scatter\"},{\"line\":{\"color\":\"#990000\",\"dash\":\"dash\",\"width\":0.5},\"mode\":\"lines\",\"name\":\"Outside_range_Dry_LGBM\",\"showlegend\":false,\"x\":[\"2022-09-09T00:00:00\",\"2022-09-09T00:00:00\"],\"y\":[-93868.11773874522,77182.16072820587],\"type\":\"scatter\"},{\"line\":{\"color\":\"#990000\",\"dash\":\"dash\",\"width\":0.5},\"mode\":\"lines\",\"name\":\"Outside_range_Dry_LGBM\",\"showlegend\":false,\"x\":[\"2022-09-12T00:00:00\",\"2022-09-12T00:00:00\"],\"y\":[-93868.11773874522,77182.16072820587],\"type\":\"scatter\"},{\"line\":{\"color\":\"#990000\",\"dash\":\"dash\",\"width\":0.5},\"mode\":\"lines\",\"name\":\"Outside_range_Dry_LGBM\",\"showlegend\":false,\"x\":[\"2022-09-13T00:00:00\",\"2022-09-13T00:00:00\"],\"y\":[-93868.11773874522,77182.16072820587],\"type\":\"scatter\"},{\"line\":{\"color\":\"#990000\",\"dash\":\"dash\",\"width\":0.5},\"mode\":\"lines\",\"name\":\"Outside_range_Dry_LGBM\",\"showlegend\":false,\"x\":[\"2022-09-14T00:00:00\",\"2022-09-14T00:00:00\"],\"y\":[-93868.11773874522,77182.16072820587],\"type\":\"scatter\"},{\"line\":{\"color\":\"#990000\",\"dash\":\"dash\",\"width\":0.5},\"mode\":\"lines\",\"name\":\"Outside_range_Dry_LGBM\",\"showlegend\":false,\"x\":[\"2022-09-15T00:00:00\",\"2022-09-15T00:00:00\"],\"y\":[-93868.11773874522,77182.16072820587],\"type\":\"scatter\"},{\"line\":{\"color\":\"#990000\",\"dash\":\"dash\",\"width\":0.5},\"mode\":\"lines\",\"name\":\"Outside_range_Dry_LGBM\",\"showlegend\":false,\"x\":[\"2022-09-16T00:00:00\",\"2022-09-16T00:00:00\"],\"y\":[-93868.11773874522,77182.16072820587],\"type\":\"scatter\"},{\"line\":{\"color\":\"#990000\",\"dash\":\"dash\",\"width\":0.5},\"mode\":\"lines\",\"name\":\"Outside_range_Dry_LGBM\",\"showlegend\":false,\"x\":[\"2022-09-19T00:00:00\",\"2022-09-19T00:00:00\"],\"y\":[-93868.11773874522,77182.16072820587],\"type\":\"scatter\"},{\"line\":{\"color\":\"#990000\",\"dash\":\"dash\",\"width\":0.5},\"mode\":\"lines\",\"name\":\"Outside_range_Dry_LGBM\",\"showlegend\":false,\"x\":[\"2022-09-20T00:00:00\",\"2022-09-20T00:00:00\"],\"y\":[-93868.11773874522,77182.16072820587],\"type\":\"scatter\"},{\"line\":{\"color\":\"#990000\",\"dash\":\"dash\",\"width\":0.5},\"mode\":\"lines\",\"name\":\"Outside_range_Dry_LGBM\",\"showlegend\":false,\"x\":[\"2022-09-21T00:00:00\",\"2022-09-21T00:00:00\"],\"y\":[-93868.11773874522,77182.16072820587],\"type\":\"scatter\"},{\"line\":{\"color\":\"#990000\",\"dash\":\"dash\",\"width\":0.5},\"mode\":\"lines\",\"name\":\"Outside_range_Dry_LGBM\",\"showlegend\":false,\"x\":[\"2022-09-22T00:00:00\",\"2022-09-22T00:00:00\"],\"y\":[-93868.11773874522,77182.16072820587],\"type\":\"scatter\"},{\"line\":{\"color\":\"#990000\",\"dash\":\"dash\",\"width\":0.5},\"mode\":\"lines\",\"name\":\"Outside_range_Dry_LGBM\",\"showlegend\":false,\"x\":[\"2022-09-23T00:00:00\",\"2022-09-23T00:00:00\"],\"y\":[-93868.11773874522,77182.16072820587],\"type\":\"scatter\"},{\"line\":{\"color\":\"#990000\",\"dash\":\"dash\",\"width\":0.5},\"mode\":\"lines\",\"name\":\"Outside_range_Dry_LGBM\",\"showlegend\":false,\"x\":[\"2022-09-27T00:00:00\",\"2022-09-27T00:00:00\"],\"y\":[-93868.11773874522,77182.16072820587],\"type\":\"scatter\"},{\"line\":{\"color\":\"#990000\",\"dash\":\"dash\",\"width\":0.5},\"mode\":\"lines\",\"name\":\"Outside_range_Dry_LGBM\",\"showlegend\":false,\"x\":[\"2022-09-28T00:00:00\",\"2022-09-28T00:00:00\"],\"y\":[-93868.11773874522,77182.16072820587],\"type\":\"scatter\"},{\"line\":{\"color\":\"#990000\",\"dash\":\"dash\",\"width\":0.5},\"mode\":\"lines\",\"name\":\"Outside_range_Dry_LGBM\",\"showlegend\":false,\"x\":[\"2022-09-29T00:00:00\",\"2022-09-29T00:00:00\"],\"y\":[-93868.11773874522,77182.16072820587],\"type\":\"scatter\"},{\"line\":{\"color\":\"#990000\",\"dash\":\"dash\",\"width\":0.5},\"mode\":\"lines\",\"name\":\"Outside_range_Dry_LGBM\",\"showlegend\":false,\"x\":[\"2022-09-30T00:00:00\",\"2022-09-30T00:00:00\"],\"y\":[-93868.11773874522,77182.16072820587],\"type\":\"scatter\"},{\"line\":{\"color\":\"#990000\",\"dash\":\"dash\",\"width\":0.5},\"mode\":\"lines\",\"name\":\"Outside_range_Dry_LGBM\",\"showlegend\":false,\"x\":[\"2022-10-04T00:00:00\",\"2022-10-04T00:00:00\"],\"y\":[-93868.11773874522,77182.16072820587],\"type\":\"scatter\"},{\"line\":{\"color\":\"#990000\",\"dash\":\"dash\",\"width\":0.5},\"mode\":\"lines\",\"name\":\"Outside_range_Dry_LGBM\",\"showlegend\":false,\"x\":[\"2022-10-05T00:00:00\",\"2022-10-05T00:00:00\"],\"y\":[-93868.11773874522,77182.16072820587],\"type\":\"scatter\"},{\"line\":{\"color\":\"#990000\",\"dash\":\"dash\",\"width\":0.5},\"mode\":\"lines\",\"name\":\"Outside_range_Dry_LGBM\",\"showlegend\":false,\"x\":[\"2022-10-06T00:00:00\",\"2022-10-06T00:00:00\"],\"y\":[-93868.11773874522,77182.16072820587],\"type\":\"scatter\"},{\"line\":{\"color\":\"#990000\",\"dash\":\"dash\",\"width\":0.5},\"mode\":\"lines\",\"name\":\"Outside_range_Dry_LGBM\",\"showlegend\":false,\"x\":[\"2022-10-07T00:00:00\",\"2022-10-07T00:00:00\"],\"y\":[-93868.11773874522,77182.16072820587],\"type\":\"scatter\"},{\"line\":{\"color\":\"#990000\",\"dash\":\"dash\",\"width\":0.5},\"mode\":\"lines\",\"name\":\"Outside_range_Dry_LGBM\",\"showlegend\":false,\"x\":[\"2022-10-11T00:00:00\",\"2022-10-11T00:00:00\"],\"y\":[-93868.11773874522,77182.16072820587],\"type\":\"scatter\"},{\"line\":{\"color\":\"#990000\",\"dash\":\"dash\",\"width\":0.5},\"mode\":\"lines\",\"name\":\"Outside_range_Dry_LGBM\",\"showlegend\":false,\"x\":[\"2022-10-12T00:00:00\",\"2022-10-12T00:00:00\"],\"y\":[-93868.11773874522,77182.16072820587],\"type\":\"scatter\"},{\"line\":{\"color\":\"#990000\",\"dash\":\"dash\",\"width\":0.5},\"mode\":\"lines\",\"name\":\"Outside_range_Dry_LGBM\",\"showlegend\":false,\"x\":[\"2022-10-13T00:00:00\",\"2022-10-13T00:00:00\"],\"y\":[-93868.11773874522,77182.16072820587],\"type\":\"scatter\"},{\"line\":{\"color\":\"#990000\",\"dash\":\"dash\",\"width\":0.5},\"mode\":\"lines\",\"name\":\"Outside_range_Dry_LGBM\",\"showlegend\":false,\"x\":[\"2022-10-14T00:00:00\",\"2022-10-14T00:00:00\"],\"y\":[-93868.11773874522,77182.16072820587],\"type\":\"scatter\"},{\"line\":{\"color\":\"#990000\",\"dash\":\"dash\",\"width\":0.5},\"mode\":\"lines\",\"name\":\"Outside_range_Dry_LGBM\",\"showlegend\":false,\"x\":[\"2022-10-18T00:00:00\",\"2022-10-18T00:00:00\"],\"y\":[-93868.11773874522,77182.16072820587],\"type\":\"scatter\"},{\"line\":{\"color\":\"#990000\",\"dash\":\"dash\",\"width\":0.5},\"mode\":\"lines\",\"name\":\"Outside_range_Dry_LGBM\",\"showlegend\":false,\"x\":[\"2022-10-19T00:00:00\",\"2022-10-19T00:00:00\"],\"y\":[-93868.11773874522,77182.16072820587],\"type\":\"scatter\"},{\"line\":{\"color\":\"#990000\",\"dash\":\"dash\",\"width\":0.5},\"mode\":\"lines\",\"name\":\"Outside_range_Dry_LGBM\",\"showlegend\":false,\"x\":[\"2022-10-20T00:00:00\",\"2022-10-20T00:00:00\"],\"y\":[-93868.11773874522,77182.16072820587],\"type\":\"scatter\"},{\"line\":{\"color\":\"#990000\",\"dash\":\"dash\",\"width\":0.5},\"mode\":\"lines\",\"name\":\"Outside_range_Dry_LGBM\",\"showlegend\":false,\"x\":[\"2022-10-21T00:00:00\",\"2022-10-21T00:00:00\"],\"y\":[-93868.11773874522,77182.16072820587],\"type\":\"scatter\"},{\"line\":{\"color\":\"#990000\",\"dash\":\"dash\",\"width\":0.5},\"mode\":\"lines\",\"name\":\"Outside_range_Dry_LGBM\",\"showlegend\":false,\"x\":[\"2022-10-24T00:00:00\",\"2022-10-24T00:00:00\"],\"y\":[-93868.11773874522,77182.16072820587],\"type\":\"scatter\"},{\"line\":{\"color\":\"#990000\",\"dash\":\"dash\",\"width\":0.5},\"mode\":\"lines\",\"name\":\"Outside_range_Dry_LGBM\",\"showlegend\":false,\"x\":[\"2022-10-25T00:00:00\",\"2022-10-25T00:00:00\"],\"y\":[-93868.11773874522,77182.16072820587],\"type\":\"scatter\"},{\"line\":{\"color\":\"#990000\",\"dash\":\"dash\",\"width\":0.5},\"mode\":\"lines\",\"name\":\"Outside_range_Dry_LGBM\",\"showlegend\":false,\"x\":[\"2022-10-26T00:00:00\",\"2022-10-26T00:00:00\"],\"y\":[-93868.11773874522,77182.16072820587],\"type\":\"scatter\"},{\"line\":{\"color\":\"#990000\",\"dash\":\"dash\",\"width\":0.5},\"mode\":\"lines\",\"name\":\"Outside_range_Dry_LGBM\",\"showlegend\":false,\"x\":[\"2022-10-27T00:00:00\",\"2022-10-27T00:00:00\"],\"y\":[-93868.11773874522,77182.16072820587],\"type\":\"scatter\"},{\"line\":{\"color\":\"#990000\",\"dash\":\"dash\",\"width\":0.5},\"mode\":\"lines\",\"name\":\"Outside_range_Dry_LGBM\",\"showlegend\":false,\"x\":[\"2022-10-28T00:00:00\",\"2022-10-28T00:00:00\"],\"y\":[-93868.11773874522,77182.16072820587],\"type\":\"scatter\"},{\"line\":{\"color\":\"#990000\",\"dash\":\"dash\",\"width\":0.5},\"mode\":\"lines\",\"name\":\"Outside_range_Dry_LGBM\",\"showlegend\":false,\"x\":[\"2022-10-31T00:00:00\",\"2022-10-31T00:00:00\"],\"y\":[-93868.11773874522,77182.16072820587],\"type\":\"scatter\"},{\"line\":{\"color\":\"#990000\",\"dash\":\"dash\",\"width\":0.5},\"mode\":\"lines\",\"name\":\"Outside_range_Dry_LGBM\",\"showlegend\":false,\"x\":[\"2022-11-02T00:00:00\",\"2022-11-02T00:00:00\"],\"y\":[-93868.11773874522,77182.16072820587],\"type\":\"scatter\"},{\"line\":{\"color\":\"#990000\",\"dash\":\"dash\",\"width\":0.5},\"mode\":\"lines\",\"name\":\"Outside_range_Dry_LGBM\",\"showlegend\":false,\"x\":[\"2022-11-03T00:00:00\",\"2022-11-03T00:00:00\"],\"y\":[-93868.11773874522,77182.16072820587],\"type\":\"scatter\"},{\"line\":{\"color\":\"#990000\",\"dash\":\"dash\",\"width\":0.5},\"mode\":\"lines\",\"name\":\"Outside_range_Dry_LGBM\",\"showlegend\":false,\"x\":[\"2022-11-08T00:00:00\",\"2022-11-08T00:00:00\"],\"y\":[-93868.11773874522,77182.16072820587],\"type\":\"scatter\"},{\"line\":{\"color\":\"#990000\",\"dash\":\"dash\",\"width\":0.5},\"mode\":\"lines\",\"name\":\"Outside_range_Dry_LGBM\",\"showlegend\":false,\"x\":[\"2022-11-09T00:00:00\",\"2022-11-09T00:00:00\"],\"y\":[-93868.11773874522,77182.16072820587],\"type\":\"scatter\"},{\"line\":{\"color\":\"#990000\",\"dash\":\"dash\",\"width\":0.5},\"mode\":\"lines\",\"name\":\"Outside_range_Dry_LGBM\",\"showlegend\":false,\"x\":[\"2022-11-15T00:00:00\",\"2022-11-15T00:00:00\"],\"y\":[-93868.11773874522,77182.16072820587],\"type\":\"scatter\"},{\"line\":{\"color\":\"#990000\",\"dash\":\"dash\",\"width\":0.5},\"mode\":\"lines\",\"name\":\"Outside_range_Dry_LGBM\",\"showlegend\":false,\"x\":[\"2022-11-16T00:00:00\",\"2022-11-16T00:00:00\"],\"y\":[-93868.11773874522,77182.16072820587],\"type\":\"scatter\"},{\"line\":{\"color\":\"#990000\",\"dash\":\"dash\",\"width\":0.5},\"mode\":\"lines\",\"name\":\"Outside_range_Dry_LGBM\",\"showlegend\":false,\"x\":[\"2022-11-17T00:00:00\",\"2022-11-17T00:00:00\"],\"y\":[-93868.11773874522,77182.16072820587],\"type\":\"scatter\"},{\"line\":{\"color\":\"#990000\",\"dash\":\"dash\",\"width\":0.5},\"mode\":\"lines\",\"name\":\"Outside_range_Dry_LGBM\",\"showlegend\":false,\"x\":[\"2022-11-18T00:00:00\",\"2022-11-18T00:00:00\"],\"y\":[-93868.11773874522,77182.16072820587],\"type\":\"scatter\"},{\"line\":{\"color\":\"#990000\",\"dash\":\"dash\",\"width\":0.5},\"mode\":\"lines\",\"name\":\"Outside_range_Dry_LGBM\",\"showlegend\":false,\"x\":[\"2022-11-21T00:00:00\",\"2022-11-21T00:00:00\"],\"y\":[-93868.11773874522,77182.16072820587],\"type\":\"scatter\"},{\"line\":{\"color\":\"#990000\",\"dash\":\"dash\",\"width\":0.5},\"mode\":\"lines\",\"name\":\"Outside_range_Dry_LGBM\",\"showlegend\":false,\"x\":[\"2022-11-22T00:00:00\",\"2022-11-22T00:00:00\"],\"y\":[-93868.11773874522,77182.16072820587],\"type\":\"scatter\"},{\"line\":{\"color\":\"#990000\",\"dash\":\"dash\",\"width\":0.5},\"mode\":\"lines\",\"name\":\"Outside_range_Dry_LGBM\",\"showlegend\":false,\"x\":[\"2022-11-23T00:00:00\",\"2022-11-23T00:00:00\"],\"y\":[-93868.11773874522,77182.16072820587],\"type\":\"scatter\"},{\"line\":{\"color\":\"#990000\",\"dash\":\"dash\",\"width\":0.5},\"mode\":\"lines\",\"name\":\"Outside_range_Dry_LGBM\",\"showlegend\":false,\"x\":[\"2022-11-24T00:00:00\",\"2022-11-24T00:00:00\"],\"y\":[-93868.11773874522,77182.16072820587],\"type\":\"scatter\"},{\"line\":{\"color\":\"#990000\",\"dash\":\"dash\",\"width\":0.5},\"mode\":\"lines\",\"name\":\"Outside_range_Dry_LGBM\",\"showlegend\":false,\"x\":[\"2022-11-25T00:00:00\",\"2022-11-25T00:00:00\"],\"y\":[-93868.11773874522,77182.16072820587],\"type\":\"scatter\"},{\"line\":{\"color\":\"#990000\",\"dash\":\"dash\",\"width\":0.5},\"mode\":\"lines\",\"name\":\"Outside_range_Dry_LGBM\",\"showlegend\":false,\"x\":[\"2022-11-28T00:00:00\",\"2022-11-28T00:00:00\"],\"y\":[-93868.11773874522,77182.16072820587],\"type\":\"scatter\"},{\"line\":{\"color\":\"#990000\",\"dash\":\"dash\",\"width\":0.5},\"mode\":\"lines\",\"name\":\"Outside_range_Dry_LGBM\",\"showlegend\":false,\"x\":[\"2022-11-29T00:00:00\",\"2022-11-29T00:00:00\"],\"y\":[-93868.11773874522,77182.16072820587],\"type\":\"scatter\"},{\"line\":{\"color\":\"#990000\",\"dash\":\"dash\",\"width\":0.5},\"mode\":\"lines\",\"name\":\"Outside_range_Dry_LGBM\",\"showlegend\":false,\"x\":[\"2022-11-30T00:00:00\",\"2022-11-30T00:00:00\"],\"y\":[-93868.11773874522,77182.16072820587],\"type\":\"scatter\"},{\"line\":{\"color\":\"#990000\",\"dash\":\"dash\",\"width\":0.5},\"mode\":\"lines\",\"name\":\"Outside_range_Dry_LGBM\",\"showlegend\":false,\"x\":[\"2022-12-01T00:00:00\",\"2022-12-01T00:00:00\"],\"y\":[-93868.11773874522,77182.16072820587],\"type\":\"scatter\"},{\"line\":{\"color\":\"#990000\",\"dash\":\"dash\",\"width\":0.5},\"mode\":\"lines\",\"name\":\"Outside_range_Dry_LGBM\",\"showlegend\":false,\"x\":[\"2022-12-02T00:00:00\",\"2022-12-02T00:00:00\"],\"y\":[-93868.11773874522,77182.16072820587],\"type\":\"scatter\"},{\"line\":{\"color\":\"#990000\",\"dash\":\"dash\",\"width\":0.5},\"mode\":\"lines\",\"name\":\"Outside_range_Dry_LGBM\",\"showlegend\":false,\"x\":[\"2022-12-07T00:00:00\",\"2022-12-07T00:00:00\"],\"y\":[-93868.11773874522,77182.16072820587],\"type\":\"scatter\"},{\"line\":{\"color\":\"#990000\",\"dash\":\"dash\",\"width\":0.5},\"mode\":\"lines\",\"name\":\"Outside_range_Dry_LGBM\",\"showlegend\":false,\"x\":[\"2022-12-08T00:00:00\",\"2022-12-08T00:00:00\"],\"y\":[-93868.11773874522,77182.16072820587],\"type\":\"scatter\"},{\"line\":{\"color\":\"#990000\",\"dash\":\"dash\",\"width\":0.5},\"mode\":\"lines\",\"name\":\"Outside_range_Dry_LGBM\",\"showlegend\":false,\"x\":[\"2022-12-09T00:00:00\",\"2022-12-09T00:00:00\"],\"y\":[-93868.11773874522,77182.16072820587],\"type\":\"scatter\"},{\"line\":{\"color\":\"#990000\",\"dash\":\"dash\",\"width\":0.5},\"mode\":\"lines\",\"name\":\"Outside_range_Dry_LGBM\",\"showlegend\":false,\"x\":[\"2022-12-12T00:00:00\",\"2022-12-12T00:00:00\"],\"y\":[-93868.11773874522,77182.16072820587],\"type\":\"scatter\"},{\"line\":{\"color\":\"#990000\",\"dash\":\"dash\",\"width\":0.5},\"mode\":\"lines\",\"name\":\"Outside_range_Dry_LGBM\",\"showlegend\":false,\"x\":[\"2022-12-13T00:00:00\",\"2022-12-13T00:00:00\"],\"y\":[-93868.11773874522,77182.16072820587],\"type\":\"scatter\"},{\"line\":{\"color\":\"#990000\",\"dash\":\"dash\",\"width\":0.5},\"mode\":\"lines\",\"name\":\"Outside_range_Dry_LGBM\",\"showlegend\":false,\"x\":[\"2022-12-14T00:00:00\",\"2022-12-14T00:00:00\"],\"y\":[-93868.11773874522,77182.16072820587],\"type\":\"scatter\"},{\"line\":{\"color\":\"#990000\",\"dash\":\"dash\",\"width\":0.5},\"mode\":\"lines\",\"name\":\"Outside_range_Dry_LGBM\",\"showlegend\":false,\"x\":[\"2022-12-15T00:00:00\",\"2022-12-15T00:00:00\"],\"y\":[-93868.11773874522,77182.16072820587],\"type\":\"scatter\"},{\"line\":{\"color\":\"#990000\",\"dash\":\"dash\",\"width\":0.5},\"mode\":\"lines\",\"name\":\"Outside_range_Dry_LGBM\",\"showlegend\":false,\"x\":[\"2022-12-16T00:00:00\",\"2022-12-16T00:00:00\"],\"y\":[-93868.11773874522,77182.16072820587],\"type\":\"scatter\"},{\"line\":{\"color\":\"#990000\",\"dash\":\"dash\",\"width\":0.5},\"mode\":\"lines\",\"name\":\"Outside_range_Dry_LGBM\",\"showlegend\":false,\"x\":[\"2022-12-19T00:00:00\",\"2022-12-19T00:00:00\"],\"y\":[-93868.11773874522,77182.16072820587],\"type\":\"scatter\"},{\"line\":{\"color\":\"#990000\",\"dash\":\"dash\",\"width\":0.5},\"mode\":\"lines\",\"name\":\"Outside_range_Dry_LGBM\",\"showlegend\":false,\"x\":[\"2022-12-21T00:00:00\",\"2022-12-21T00:00:00\"],\"y\":[-93868.11773874522,77182.16072820587],\"type\":\"scatter\"},{\"line\":{\"color\":\"#990000\",\"dash\":\"dash\",\"width\":0.5},\"mode\":\"lines\",\"name\":\"Outside_range_Dry_LGBM\",\"showlegend\":false,\"x\":[\"2022-12-22T00:00:00\",\"2022-12-22T00:00:00\"],\"y\":[-93868.11773874522,77182.16072820587],\"type\":\"scatter\"},{\"line\":{\"color\":\"#990000\",\"dash\":\"dash\",\"width\":0.5},\"mode\":\"lines\",\"name\":\"Outside_range_Dry_LGBM\",\"showlegend\":false,\"x\":[\"2022-12-23T00:00:00\",\"2022-12-23T00:00:00\"],\"y\":[-93868.11773874522,77182.16072820587],\"type\":\"scatter\"},{\"line\":{\"color\":\"#990000\",\"dash\":\"dash\",\"width\":0.5},\"mode\":\"lines\",\"name\":\"Outside_range_Dry_LGBM\",\"showlegend\":false,\"x\":[\"2022-12-27T00:00:00\",\"2022-12-27T00:00:00\"],\"y\":[-93868.11773874522,77182.16072820587],\"type\":\"scatter\"},{\"line\":{\"color\":\"#990000\",\"dash\":\"dash\",\"width\":0.5},\"mode\":\"lines\",\"name\":\"Outside_range_Dry_LGBM\",\"showlegend\":false,\"x\":[\"2022-12-28T00:00:00\",\"2022-12-28T00:00:00\"],\"y\":[-93868.11773874522,77182.16072820587],\"type\":\"scatter\"},{\"line\":{\"color\":\"#990000\",\"dash\":\"dash\",\"width\":0.5},\"mode\":\"lines\",\"name\":\"Outside_range_Dry_LGBM\",\"showlegend\":false,\"x\":[\"2022-12-29T00:00:00\",\"2022-12-29T00:00:00\"],\"y\":[-93868.11773874522,77182.16072820587],\"type\":\"scatter\"},{\"line\":{\"color\":\"#990000\",\"dash\":\"dash\",\"width\":0.5},\"mode\":\"lines\",\"name\":\"Outside_range_Dry_LGBM\",\"showlegend\":false,\"x\":[\"2022-12-30T00:00:00\",\"2022-12-30T00:00:00\"],\"y\":[-93868.11773874522,77182.16072820587],\"type\":\"scatter\"}],                        {\"template\":{\"data\":{\"bar\":[{\"error_x\":{\"color\":\"#2a3f5f\"},\"error_y\":{\"color\":\"#2a3f5f\"},\"marker\":{\"line\":{\"color\":\"#E5ECF6\",\"width\":0.5},\"pattern\":{\"fillmode\":\"overlay\",\"size\":10,\"solidity\":0.2}},\"type\":\"bar\"}],\"barpolar\":[{\"marker\":{\"line\":{\"color\":\"#E5ECF6\",\"width\":0.5},\"pattern\":{\"fillmode\":\"overlay\",\"size\":10,\"solidity\":0.2}},\"type\":\"barpolar\"}],\"carpet\":[{\"aaxis\":{\"endlinecolor\":\"#2a3f5f\",\"gridcolor\":\"white\",\"linecolor\":\"white\",\"minorgridcolor\":\"white\",\"startlinecolor\":\"#2a3f5f\"},\"baxis\":{\"endlinecolor\":\"#2a3f5f\",\"gridcolor\":\"white\",\"linecolor\":\"white\",\"minorgridcolor\":\"white\",\"startlinecolor\":\"#2a3f5f\"},\"type\":\"carpet\"}],\"choropleth\":[{\"colorbar\":{\"outlinewidth\":0,\"ticks\":\"\"},\"type\":\"choropleth\"}],\"contour\":[{\"colorbar\":{\"outlinewidth\":0,\"ticks\":\"\"},\"colorscale\":[[0.0,\"#0d0887\"],[0.1111111111111111,\"#46039f\"],[0.2222222222222222,\"#7201a8\"],[0.3333333333333333,\"#9c179e\"],[0.4444444444444444,\"#bd3786\"],[0.5555555555555556,\"#d8576b\"],[0.6666666666666666,\"#ed7953\"],[0.7777777777777778,\"#fb9f3a\"],[0.8888888888888888,\"#fdca26\"],[1.0,\"#f0f921\"]],\"type\":\"contour\"}],\"contourcarpet\":[{\"colorbar\":{\"outlinewidth\":0,\"ticks\":\"\"},\"type\":\"contourcarpet\"}],\"heatmap\":[{\"colorbar\":{\"outlinewidth\":0,\"ticks\":\"\"},\"colorscale\":[[0.0,\"#0d0887\"],[0.1111111111111111,\"#46039f\"],[0.2222222222222222,\"#7201a8\"],[0.3333333333333333,\"#9c179e\"],[0.4444444444444444,\"#bd3786\"],[0.5555555555555556,\"#d8576b\"],[0.6666666666666666,\"#ed7953\"],[0.7777777777777778,\"#fb9f3a\"],[0.8888888888888888,\"#fdca26\"],[1.0,\"#f0f921\"]],\"type\":\"heatmap\"}],\"heatmapgl\":[{\"colorbar\":{\"outlinewidth\":0,\"ticks\":\"\"},\"colorscale\":[[0.0,\"#0d0887\"],[0.1111111111111111,\"#46039f\"],[0.2222222222222222,\"#7201a8\"],[0.3333333333333333,\"#9c179e\"],[0.4444444444444444,\"#bd3786\"],[0.5555555555555556,\"#d8576b\"],[0.6666666666666666,\"#ed7953\"],[0.7777777777777778,\"#fb9f3a\"],[0.8888888888888888,\"#fdca26\"],[1.0,\"#f0f921\"]],\"type\":\"heatmapgl\"}],\"histogram\":[{\"marker\":{\"pattern\":{\"fillmode\":\"overlay\",\"size\":10,\"solidity\":0.2}},\"type\":\"histogram\"}],\"histogram2d\":[{\"colorbar\":{\"outlinewidth\":0,\"ticks\":\"\"},\"colorscale\":[[0.0,\"#0d0887\"],[0.1111111111111111,\"#46039f\"],[0.2222222222222222,\"#7201a8\"],[0.3333333333333333,\"#9c179e\"],[0.4444444444444444,\"#bd3786\"],[0.5555555555555556,\"#d8576b\"],[0.6666666666666666,\"#ed7953\"],[0.7777777777777778,\"#fb9f3a\"],[0.8888888888888888,\"#fdca26\"],[1.0,\"#f0f921\"]],\"type\":\"histogram2d\"}],\"histogram2dcontour\":[{\"colorbar\":{\"outlinewidth\":0,\"ticks\":\"\"},\"colorscale\":[[0.0,\"#0d0887\"],[0.1111111111111111,\"#46039f\"],[0.2222222222222222,\"#7201a8\"],[0.3333333333333333,\"#9c179e\"],[0.4444444444444444,\"#bd3786\"],[0.5555555555555556,\"#d8576b\"],[0.6666666666666666,\"#ed7953\"],[0.7777777777777778,\"#fb9f3a\"],[0.8888888888888888,\"#fdca26\"],[1.0,\"#f0f921\"]],\"type\":\"histogram2dcontour\"}],\"mesh3d\":[{\"colorbar\":{\"outlinewidth\":0,\"ticks\":\"\"},\"type\":\"mesh3d\"}],\"parcoords\":[{\"line\":{\"colorbar\":{\"outlinewidth\":0,\"ticks\":\"\"}},\"type\":\"parcoords\"}],\"pie\":[{\"automargin\":true,\"type\":\"pie\"}],\"scatter\":[{\"marker\":{\"colorbar\":{\"outlinewidth\":0,\"ticks\":\"\"}},\"type\":\"scatter\"}],\"scatter3d\":[{\"line\":{\"colorbar\":{\"outlinewidth\":0,\"ticks\":\"\"}},\"marker\":{\"colorbar\":{\"outlinewidth\":0,\"ticks\":\"\"}},\"type\":\"scatter3d\"}],\"scattercarpet\":[{\"marker\":{\"colorbar\":{\"outlinewidth\":0,\"ticks\":\"\"}},\"type\":\"scattercarpet\"}],\"scattergeo\":[{\"marker\":{\"colorbar\":{\"outlinewidth\":0,\"ticks\":\"\"}},\"type\":\"scattergeo\"}],\"scattergl\":[{\"marker\":{\"colorbar\":{\"outlinewidth\":0,\"ticks\":\"\"}},\"type\":\"scattergl\"}],\"scattermapbox\":[{\"marker\":{\"colorbar\":{\"outlinewidth\":0,\"ticks\":\"\"}},\"type\":\"scattermapbox\"}],\"scatterpolar\":[{\"marker\":{\"colorbar\":{\"outlinewidth\":0,\"ticks\":\"\"}},\"type\":\"scatterpolar\"}],\"scatterpolargl\":[{\"marker\":{\"colorbar\":{\"outlinewidth\":0,\"ticks\":\"\"}},\"type\":\"scatterpolargl\"}],\"scatterternary\":[{\"marker\":{\"colorbar\":{\"outlinewidth\":0,\"ticks\":\"\"}},\"type\":\"scatterternary\"}],\"surface\":[{\"colorbar\":{\"outlinewidth\":0,\"ticks\":\"\"},\"colorscale\":[[0.0,\"#0d0887\"],[0.1111111111111111,\"#46039f\"],[0.2222222222222222,\"#7201a8\"],[0.3333333333333333,\"#9c179e\"],[0.4444444444444444,\"#bd3786\"],[0.5555555555555556,\"#d8576b\"],[0.6666666666666666,\"#ed7953\"],[0.7777777777777778,\"#fb9f3a\"],[0.8888888888888888,\"#fdca26\"],[1.0,\"#f0f921\"]],\"type\":\"surface\"}],\"table\":[{\"cells\":{\"fill\":{\"color\":\"#EBF0F8\"},\"line\":{\"color\":\"white\"}},\"header\":{\"fill\":{\"color\":\"#C8D4E3\"},\"line\":{\"color\":\"white\"}},\"type\":\"table\"}]},\"layout\":{\"annotationdefaults\":{\"arrowcolor\":\"#2a3f5f\",\"arrowhead\":0,\"arrowwidth\":1},\"autotypenumbers\":\"strict\",\"coloraxis\":{\"colorbar\":{\"outlinewidth\":0,\"ticks\":\"\"}},\"colorscale\":{\"diverging\":[[0,\"#8e0152\"],[0.1,\"#c51b7d\"],[0.2,\"#de77ae\"],[0.3,\"#f1b6da\"],[0.4,\"#fde0ef\"],[0.5,\"#f7f7f7\"],[0.6,\"#e6f5d0\"],[0.7,\"#b8e186\"],[0.8,\"#7fbc41\"],[0.9,\"#4d9221\"],[1,\"#276419\"]],\"sequential\":[[0.0,\"#0d0887\"],[0.1111111111111111,\"#46039f\"],[0.2222222222222222,\"#7201a8\"],[0.3333333333333333,\"#9c179e\"],[0.4444444444444444,\"#bd3786\"],[0.5555555555555556,\"#d8576b\"],[0.6666666666666666,\"#ed7953\"],[0.7777777777777778,\"#fb9f3a\"],[0.8888888888888888,\"#fdca26\"],[1.0,\"#f0f921\"]],\"sequentialminus\":[[0.0,\"#0d0887\"],[0.1111111111111111,\"#46039f\"],[0.2222222222222222,\"#7201a8\"],[0.3333333333333333,\"#9c179e\"],[0.4444444444444444,\"#bd3786\"],[0.5555555555555556,\"#d8576b\"],[0.6666666666666666,\"#ed7953\"],[0.7777777777777778,\"#fb9f3a\"],[0.8888888888888888,\"#fdca26\"],[1.0,\"#f0f921\"]]},\"colorway\":[\"#636efa\",\"#EF553B\",\"#00cc96\",\"#ab63fa\",\"#FFA15A\",\"#19d3f3\",\"#FF6692\",\"#B6E880\",\"#FF97FF\",\"#FECB52\"],\"font\":{\"color\":\"#2a3f5f\"},\"geo\":{\"bgcolor\":\"white\",\"lakecolor\":\"white\",\"landcolor\":\"#E5ECF6\",\"showlakes\":true,\"showland\":true,\"subunitcolor\":\"white\"},\"hoverlabel\":{\"align\":\"left\"},\"hovermode\":\"closest\",\"mapbox\":{\"style\":\"light\"},\"paper_bgcolor\":\"white\",\"plot_bgcolor\":\"#E5ECF6\",\"polar\":{\"angularaxis\":{\"gridcolor\":\"white\",\"linecolor\":\"white\",\"ticks\":\"\"},\"bgcolor\":\"#E5ECF6\",\"radialaxis\":{\"gridcolor\":\"white\",\"linecolor\":\"white\",\"ticks\":\"\"}},\"scene\":{\"xaxis\":{\"backgroundcolor\":\"#E5ECF6\",\"gridcolor\":\"white\",\"gridwidth\":2,\"linecolor\":\"white\",\"showbackground\":true,\"ticks\":\"\",\"zerolinecolor\":\"white\"},\"yaxis\":{\"backgroundcolor\":\"#E5ECF6\",\"gridcolor\":\"white\",\"gridwidth\":2,\"linecolor\":\"white\",\"showbackground\":true,\"ticks\":\"\",\"zerolinecolor\":\"white\"},\"zaxis\":{\"backgroundcolor\":\"#E5ECF6\",\"gridcolor\":\"white\",\"gridwidth\":2,\"linecolor\":\"white\",\"showbackground\":true,\"ticks\":\"\",\"zerolinecolor\":\"white\"}},\"shapedefaults\":{\"line\":{\"color\":\"#2a3f5f\"}},\"ternary\":{\"aaxis\":{\"gridcolor\":\"white\",\"linecolor\":\"white\",\"ticks\":\"\"},\"baxis\":{\"gridcolor\":\"white\",\"linecolor\":\"white\",\"ticks\":\"\"},\"bgcolor\":\"#E5ECF6\",\"caxis\":{\"gridcolor\":\"white\",\"linecolor\":\"white\",\"ticks\":\"\"}},\"title\":{\"x\":0.05},\"xaxis\":{\"automargin\":true,\"gridcolor\":\"white\",\"linecolor\":\"white\",\"ticks\":\"\",\"title\":{\"standoff\":15},\"zerolinecolor\":\"white\",\"zerolinewidth\":2},\"yaxis\":{\"automargin\":true,\"gridcolor\":\"white\",\"linecolor\":\"white\",\"ticks\":\"\",\"title\":{\"standoff\":15},\"zerolinecolor\":\"white\",\"zerolinewidth\":2}}}},                        {\"responsive\": true}                    )                };                            </script>        </div>\n</body>\n</html>",
       "datasetInfos": [],
       "metadata": {},
       "removedWidgets": [],
       "textData": null,
       "type": "htmlSandbox"
      }
     },
     "output_type": "display_data"
    }
   ],
   "source": [
    "plot_inbound_two_errors(inbound_df=backtest_df_merge, error_col_1='Bias_Dry_WOW', error_col_2= 'Bias_Dry_LGBM', show_out_of_range=True, date_col='Dates', outside_range_col_1='Outside_range_Dry_WOW', outside_range_col_2='Outside_range_Dry_LGBM')"
   ]
  },
  {
   "cell_type": "code",
   "execution_count": 0,
   "metadata": {
    "application/vnd.databricks.v1+cell": {
     "cellMetadata": {
      "byteLimit": 2048000,
      "rowLimit": 10000
     },
     "inputWidgets": {},
     "nuid": "8b3c3fe1-204e-4603-9a64-1981bcace074",
     "showTitle": false,
     "title": ""
    }
   },
   "outputs": [
    {
     "output_type": "display_data",
     "data": {
      "text/html": [
       "<html>\n",
       "<head><meta charset=\"utf-8\" /></head>\n",
       "<body>\n",
       "    <div>            <script src=\"https://cdnjs.cloudflare.com/ajax/libs/mathjax/2.7.5/MathJax.js?config=TeX-AMS-MML_SVG\"></script><script type=\"text/javascript\">if (window.MathJax) {MathJax.Hub.Config({SVG: {font: \"STIX-Web\"}});}</script>                <script type=\"text/javascript\">window.PlotlyConfig = {MathJaxConfig: 'local'};</script>\n",
       "        <script src=\"https://cdn.plot.ly/plotly-2.9.0.min.js\"></script>                <div id=\"4345e895-13bb-4ab6-9a0e-d14a637db8e4\" class=\"plotly-graph-div\" style=\"height:100%; width:100%;\"></div>            <script type=\"text/javascript\">                                    window.PLOTLYENV=window.PLOTLYENV || {};                                    if (document.getElementById(\"4345e895-13bb-4ab6-9a0e-d14a637db8e4\")) {                    Plotly.newPlot(                        \"4345e895-13bb-4ab6-9a0e-d14a637db8e4\",                        [{\"line\":{\"color\":\"#0000FF\"},\"name\":\"AbsError_Dry_WOW\",\"showlegend\":true,\"x\":[\"2022-07-18T00:00:00\",\"2022-07-19T00:00:00\",\"2022-07-20T00:00:00\",\"2022-07-22T00:00:00\",\"2022-07-25T00:00:00\",\"2022-07-26T00:00:00\",\"2022-07-27T00:00:00\",\"2022-07-28T00:00:00\",\"2022-07-29T00:00:00\",\"2022-08-01T00:00:00\",\"2022-08-02T00:00:00\",\"2022-08-03T00:00:00\",\"2022-08-04T00:00:00\",\"2022-08-05T00:00:00\",\"2022-08-08T00:00:00\",\"2022-08-09T00:00:00\",\"2022-08-10T00:00:00\",\"2022-08-11T00:00:00\",\"2022-08-12T00:00:00\",\"2022-08-16T00:00:00\",\"2022-08-17T00:00:00\",\"2022-08-18T00:00:00\",\"2022-08-19T00:00:00\",\"2022-08-22T00:00:00\",\"2022-08-23T00:00:00\",\"2022-08-24T00:00:00\",\"2022-08-25T00:00:00\",\"2022-08-26T00:00:00\",\"2022-08-29T00:00:00\",\"2022-08-30T00:00:00\",\"2022-08-31T00:00:00\",\"2022-09-01T00:00:00\",\"2022-09-02T00:00:00\",\"2022-09-05T00:00:00\",\"2022-09-06T00:00:00\",\"2022-09-07T00:00:00\",\"2022-09-08T00:00:00\",\"2022-09-09T00:00:00\",\"2022-09-12T00:00:00\",\"2022-09-13T00:00:00\",\"2022-09-14T00:00:00\",\"2022-09-15T00:00:00\",\"2022-09-16T00:00:00\",\"2022-09-19T00:00:00\",\"2022-09-20T00:00:00\",\"2022-09-21T00:00:00\",\"2022-09-22T00:00:00\",\"2022-09-23T00:00:00\",\"2022-09-26T00:00:00\",\"2022-09-27T00:00:00\",\"2022-09-28T00:00:00\",\"2022-09-29T00:00:00\",\"2022-09-30T00:00:00\",\"2022-10-03T00:00:00\",\"2022-10-04T00:00:00\",\"2022-10-05T00:00:00\",\"2022-10-06T00:00:00\",\"2022-10-07T00:00:00\",\"2022-10-10T00:00:00\",\"2022-10-11T00:00:00\",\"2022-10-12T00:00:00\",\"2022-10-13T00:00:00\",\"2022-10-14T00:00:00\",\"2022-10-17T00:00:00\",\"2022-10-18T00:00:00\",\"2022-10-19T00:00:00\",\"2022-10-20T00:00:00\",\"2022-10-21T00:00:00\",\"2022-10-24T00:00:00\",\"2022-10-25T00:00:00\",\"2022-10-26T00:00:00\",\"2022-10-27T00:00:00\",\"2022-10-28T00:00:00\",\"2022-10-31T00:00:00\",\"2022-11-02T00:00:00\",\"2022-11-03T00:00:00\",\"2022-11-04T00:00:00\",\"2022-11-07T00:00:00\",\"2022-11-08T00:00:00\",\"2022-11-09T00:00:00\",\"2022-11-10T00:00:00\",\"2022-11-14T00:00:00\",\"2022-11-15T00:00:00\",\"2022-11-16T00:00:00\",\"2022-11-17T00:00:00\",\"2022-11-18T00:00:00\",\"2022-11-21T00:00:00\",\"2022-11-22T00:00:00\",\"2022-11-23T00:00:00\",\"2022-11-24T00:00:00\",\"2022-11-25T00:00:00\",\"2022-11-28T00:00:00\",\"2022-11-29T00:00:00\",\"2022-11-30T00:00:00\",\"2022-12-01T00:00:00\",\"2022-12-02T00:00:00\",\"2022-12-05T00:00:00\",\"2022-12-06T00:00:00\",\"2022-12-07T00:00:00\",\"2022-12-08T00:00:00\",\"2022-12-09T00:00:00\",\"2022-12-12T00:00:00\",\"2022-12-13T00:00:00\",\"2022-12-14T00:00:00\",\"2022-12-15T00:00:00\",\"2022-12-16T00:00:00\",\"2022-12-19T00:00:00\",\"2022-12-20T00:00:00\",\"2022-12-21T00:00:00\",\"2022-12-22T00:00:00\",\"2022-12-23T00:00:00\",\"2022-12-26T00:00:00\",\"2022-12-27T00:00:00\",\"2022-12-28T00:00:00\",\"2022-12-29T00:00:00\",\"2022-12-30T00:00:00\"],\"y\":[9489.700000000012,3187.8799999999974,1813.0,4908.861999999994,795.6000000000058,4595.5999999999985,9307.5,9541.340944918862,7109.223999999995,4650.559999999998,3530.3039999999964,2530.1200000000026,1820.1100000000006,11134.667999999998,12.279999999998836,539.1999999999971,1010.0400000000009,866.6999999999971,3768.428,1364.1759999999995,9379.440000000002,4638.540000000001,19209.068,6852.5,190.67199999999866,4224.559999999998,1022.0899999999965,2211.933999999994,2499.199999999997,12378.239999999998,493.1600000000035,5264.470000000001,5851.671999999999,5274.779999999999,1177.4320000000007,4997.399999999994,5627.739999999998,7184.345999999998,5930.0,3025.6640000000043,7669.759999999995,15439.029999999999,2163.796000000002,5176.0,2879.0,4503.0,14407.0,4.0,2241.7000000000116,5049.080000000002,4446.0,6548.1470000000045,3140.3099999999977,3592.0499999999884,4764.080000000002,680.0,3464.5440000000017,6239.921999999999,53.95000000001164,1083.4000000000087,6188.5,3002.709999999999,1180.3799999999974,5404.100000000006,2508.479999999996,4715.5,5055.395000000004,5049.016000000003,10750.950000000012,15696.679999999993,3526.0,3924.639000000003,2554.608,2580.0,333.5,1525.5699999999997,855.0139999999956,10155.649999999994,59204.84,52066.0,12626.047999999995,3614.550000000003,3908.4400000000023,1548.5,9929.157999999996,8524.784000000007,10702.62000000001,7270.0,5536.239999999991,11479.488999999994,5132.502,2866.0,8634.919999999998,1694.1600000000035,978.8710000000137,7222.603999999999,8034.0,8127.419999999998,3803.479999999996,2386.028999999995,2789.837999999996,3763.0,1100.574999999997,2468.1150000000052,1679.3759999999966,280.62600000000384,3475.0,2027.449999999997,17891.380000000005,6982.351999999999,894.2590000000055,4577.0,7695.2699999999895,24236.319999999992,20794.34599999999,8915.112000000001],\"type\":\"scatter\"},{\"line\":{\"color\":\"#FF0000\"},\"name\":\"AbsError_Dry_LGBM\",\"showlegend\":true,\"x\":[\"2022-07-18T00:00:00\",\"2022-07-19T00:00:00\",\"2022-07-20T00:00:00\",\"2022-07-22T00:00:00\",\"2022-07-25T00:00:00\",\"2022-07-26T00:00:00\",\"2022-07-27T00:00:00\",\"2022-07-28T00:00:00\",\"2022-07-29T00:00:00\",\"2022-08-01T00:00:00\",\"2022-08-02T00:00:00\",\"2022-08-03T00:00:00\",\"2022-08-04T00:00:00\",\"2022-08-05T00:00:00\",\"2022-08-08T00:00:00\",\"2022-08-09T00:00:00\",\"2022-08-10T00:00:00\",\"2022-08-11T00:00:00\",\"2022-08-12T00:00:00\",\"2022-08-16T00:00:00\",\"2022-08-17T00:00:00\",\"2022-08-18T00:00:00\",\"2022-08-19T00:00:00\",\"2022-08-22T00:00:00\",\"2022-08-23T00:00:00\",\"2022-08-24T00:00:00\",\"2022-08-25T00:00:00\",\"2022-08-26T00:00:00\",\"2022-08-29T00:00:00\",\"2022-08-30T00:00:00\",\"2022-08-31T00:00:00\",\"2022-09-01T00:00:00\",\"2022-09-02T00:00:00\",\"2022-09-05T00:00:00\",\"2022-09-06T00:00:00\",\"2022-09-07T00:00:00\",\"2022-09-08T00:00:00\",\"2022-09-09T00:00:00\",\"2022-09-12T00:00:00\",\"2022-09-13T00:00:00\",\"2022-09-14T00:00:00\",\"2022-09-15T00:00:00\",\"2022-09-16T00:00:00\",\"2022-09-19T00:00:00\",\"2022-09-20T00:00:00\",\"2022-09-21T00:00:00\",\"2022-09-22T00:00:00\",\"2022-09-23T00:00:00\",\"2022-09-26T00:00:00\",\"2022-09-27T00:00:00\",\"2022-09-28T00:00:00\",\"2022-09-29T00:00:00\",\"2022-09-30T00:00:00\",\"2022-10-03T00:00:00\",\"2022-10-04T00:00:00\",\"2022-10-05T00:00:00\",\"2022-10-06T00:00:00\",\"2022-10-07T00:00:00\",\"2022-10-10T00:00:00\",\"2022-10-11T00:00:00\",\"2022-10-12T00:00:00\",\"2022-10-13T00:00:00\",\"2022-10-14T00:00:00\",\"2022-10-17T00:00:00\",\"2022-10-18T00:00:00\",\"2022-10-19T00:00:00\",\"2022-10-20T00:00:00\",\"2022-10-21T00:00:00\",\"2022-10-24T00:00:00\",\"2022-10-25T00:00:00\",\"2022-10-26T00:00:00\",\"2022-10-27T00:00:00\",\"2022-10-28T00:00:00\",\"2022-10-31T00:00:00\",\"2022-11-02T00:00:00\",\"2022-11-03T00:00:00\",\"2022-11-04T00:00:00\",\"2022-11-07T00:00:00\",\"2022-11-08T00:00:00\",\"2022-11-09T00:00:00\",\"2022-11-10T00:00:00\",\"2022-11-14T00:00:00\",\"2022-11-15T00:00:00\",\"2022-11-16T00:00:00\",\"2022-11-17T00:00:00\",\"2022-11-18T00:00:00\",\"2022-11-21T00:00:00\",\"2022-11-22T00:00:00\",\"2022-11-23T00:00:00\",\"2022-11-24T00:00:00\",\"2022-11-25T00:00:00\",\"2022-11-28T00:00:00\",\"2022-11-29T00:00:00\",\"2022-11-30T00:00:00\",\"2022-12-01T00:00:00\",\"2022-12-02T00:00:00\",\"2022-12-05T00:00:00\",\"2022-12-06T00:00:00\",\"2022-12-07T00:00:00\",\"2022-12-08T00:00:00\",\"2022-12-09T00:00:00\",\"2022-12-12T00:00:00\",\"2022-12-13T00:00:00\",\"2022-12-14T00:00:00\",\"2022-12-15T00:00:00\",\"2022-12-16T00:00:00\",\"2022-12-19T00:00:00\",\"2022-12-20T00:00:00\",\"2022-12-21T00:00:00\",\"2022-12-22T00:00:00\",\"2022-12-23T00:00:00\",\"2022-12-26T00:00:00\",\"2022-12-27T00:00:00\",\"2022-12-28T00:00:00\",\"2022-12-29T00:00:00\",\"2022-12-30T00:00:00\"],\"y\":[37133.911605371235,51915.95913994266,43478.883037925756,55333.6725854572,21536.03697092882,43711.923169277856,53281.07746861297,62336.07746861297,50065.11259413065,19590.933577620934,36048.252739816424,41714.3936105398,56268.36477544076,46586.557333114106,22878.352239801854,34739.62335900492,42392.11025646467,49086.69996417465,45918.13585255563,16439.904050009092,21473.23898760321,27547.006879088905,17413.661983748185,51967.06377877106,14379.631893292826,34810.449394656534,29296.14387098384,28066.785304967867,53924.78510553941,3054.897011793888,10753.577238181242,27280.901554448355,23574.354536909566,10817.6651521022,12271.92614546718,11102.90099788335,27176.147643481454,20846.221541455132,64219.733590656615,18855.339487067133,31931.01057070984,52418.57623692497,40859.86569612872,12017.810276268792,23989.66229162937,31026.218773562476,55249.654490501445,47713.723926590246,7804.034776164626,31525.814355433657,25460.907847741764,44153.56045942355,41675.13818108324,3214.591250099271,19167.570710452303,32754.62206977693,34812.14507301366,38854.14079497426,557.8093480522657,23360.223297196484,27253.675670343146,40681.235786038305,40269.61122263767,3942.8076038067084,16671.391973989405,30651.406111210206,43432.950499835264,44675.86588000484,12202.415432951471,37402.880043014724,34078.8060696679,43906.11836592086,46009.12115234684,14780.552392534417,20700.211960633867,34958.95775547004,1718.4167030865647,4354.383809323408,93868.11773874522,77182.16072820587,2085.6633308574674,1205.9831632511487,24781.14689224206,12885.967910560139,11163.110530830949,48764.920880294216,12320.933923116507,32977.9172102733,25645.694687157767,52275.099964583584,44082.69468715777,68316.82853405082,14207.638229807359,8010.654460491991,23487.171465949184,13293.298006970057,2554.4574568373646,5362.071755063094,18664.644417839925,27782.859087772915,27758.47889721561,29138.973742106406,17257.01821861435,19792.01821861435,33217.551974764065,41283.19486907621,19531.33356599517,5038.586527375432,25975.387636517582,14959.257966422025,24757.63347129921,7365.239288015669,22763.281590049155,41639.02378278735,37073.647126546624,22107.352251456905],\"type\":\"scatter\"},{\"line\":{\"color\":\"#000099\",\"dash\":\"dash\",\"width\":0.5},\"mode\":\"lines\",\"name\":\"Outside_range_Dry_WOW\",\"showlegend\":true,\"x\":[\"2022-07-18T00:00:00\",\"2022-07-18T00:00:00\"],\"y\":[4.0,59204.84],\"type\":\"scatter\"},{\"line\":{\"color\":\"#000099\",\"dash\":\"dash\",\"width\":0.5},\"mode\":\"lines\",\"name\":\"Outside_range_Dry_WOW\",\"showlegend\":false,\"x\":[\"2022-07-22T00:00:00\",\"2022-07-22T00:00:00\"],\"y\":[4.0,59204.84],\"type\":\"scatter\"},{\"line\":{\"color\":\"#000099\",\"dash\":\"dash\",\"width\":0.5},\"mode\":\"lines\",\"name\":\"Outside_range_Dry_WOW\",\"showlegend\":false,\"x\":[\"2022-07-27T00:00:00\",\"2022-07-27T00:00:00\"],\"y\":[4.0,59204.84],\"type\":\"scatter\"},{\"line\":{\"color\":\"#000099\",\"dash\":\"dash\",\"width\":0.5},\"mode\":\"lines\",\"name\":\"Outside_range_Dry_WOW\",\"showlegend\":false,\"x\":[\"2022-07-28T00:00:00\",\"2022-07-28T00:00:00\"],\"y\":[4.0,59204.84],\"type\":\"scatter\"},{\"line\":{\"color\":\"#000099\",\"dash\":\"dash\",\"width\":0.5},\"mode\":\"lines\",\"name\":\"Outside_range_Dry_WOW\",\"showlegend\":false,\"x\":[\"2022-07-29T00:00:00\",\"2022-07-29T00:00:00\"],\"y\":[4.0,59204.84],\"type\":\"scatter\"},{\"line\":{\"color\":\"#000099\",\"dash\":\"dash\",\"width\":0.5},\"mode\":\"lines\",\"name\":\"Outside_range_Dry_WOW\",\"showlegend\":false,\"x\":[\"2022-08-05T00:00:00\",\"2022-08-05T00:00:00\"],\"y\":[4.0,59204.84],\"type\":\"scatter\"},{\"line\":{\"color\":\"#000099\",\"dash\":\"dash\",\"width\":0.5},\"mode\":\"lines\",\"name\":\"Outside_range_Dry_WOW\",\"showlegend\":false,\"x\":[\"2022-08-17T00:00:00\",\"2022-08-17T00:00:00\"],\"y\":[4.0,59204.84],\"type\":\"scatter\"},{\"line\":{\"color\":\"#000099\",\"dash\":\"dash\",\"width\":0.5},\"mode\":\"lines\",\"name\":\"Outside_range_Dry_WOW\",\"showlegend\":false,\"x\":[\"2022-08-19T00:00:00\",\"2022-08-19T00:00:00\"],\"y\":[4.0,59204.84],\"type\":\"scatter\"},{\"line\":{\"color\":\"#000099\",\"dash\":\"dash\",\"width\":0.5},\"mode\":\"lines\",\"name\":\"Outside_range_Dry_WOW\",\"showlegend\":false,\"x\":[\"2022-08-30T00:00:00\",\"2022-08-30T00:00:00\"],\"y\":[4.0,59204.84],\"type\":\"scatter\"},{\"line\":{\"color\":\"#000099\",\"dash\":\"dash\",\"width\":0.5},\"mode\":\"lines\",\"name\":\"Outside_range_Dry_WOW\",\"showlegend\":false,\"x\":[\"2022-09-01T00:00:00\",\"2022-09-01T00:00:00\"],\"y\":[4.0,59204.84],\"type\":\"scatter\"},{\"line\":{\"color\":\"#000099\",\"dash\":\"dash\",\"width\":0.5},\"mode\":\"lines\",\"name\":\"Outside_range_Dry_WOW\",\"showlegend\":false,\"x\":[\"2022-09-02T00:00:00\",\"2022-09-02T00:00:00\"],\"y\":[4.0,59204.84],\"type\":\"scatter\"},{\"line\":{\"color\":\"#000099\",\"dash\":\"dash\",\"width\":0.5},\"mode\":\"lines\",\"name\":\"Outside_range_Dry_WOW\",\"showlegend\":false,\"x\":[\"2022-09-09T00:00:00\",\"2022-09-09T00:00:00\"],\"y\":[4.0,59204.84],\"type\":\"scatter\"},{\"line\":{\"color\":\"#000099\",\"dash\":\"dash\",\"width\":0.5},\"mode\":\"lines\",\"name\":\"Outside_range_Dry_WOW\",\"showlegend\":false,\"x\":[\"2022-09-14T00:00:00\",\"2022-09-14T00:00:00\"],\"y\":[4.0,59204.84],\"type\":\"scatter\"},{\"line\":{\"color\":\"#000099\",\"dash\":\"dash\",\"width\":0.5},\"mode\":\"lines\",\"name\":\"Outside_range_Dry_WOW\",\"showlegend\":false,\"x\":[\"2022-09-15T00:00:00\",\"2022-09-15T00:00:00\"],\"y\":[4.0,59204.84],\"type\":\"scatter\"},{\"line\":{\"color\":\"#000099\",\"dash\":\"dash\",\"width\":0.5},\"mode\":\"lines\",\"name\":\"Outside_range_Dry_WOW\",\"showlegend\":false,\"x\":[\"2022-09-22T00:00:00\",\"2022-09-22T00:00:00\"],\"y\":[4.0,59204.84],\"type\":\"scatter\"},{\"line\":{\"color\":\"#000099\",\"dash\":\"dash\",\"width\":0.5},\"mode\":\"lines\",\"name\":\"Outside_range_Dry_WOW\",\"showlegend\":false,\"x\":[\"2022-09-29T00:00:00\",\"2022-09-29T00:00:00\"],\"y\":[4.0,59204.84],\"type\":\"scatter\"},{\"line\":{\"color\":\"#000099\",\"dash\":\"dash\",\"width\":0.5},\"mode\":\"lines\",\"name\":\"Outside_range_Dry_WOW\",\"showlegend\":false,\"x\":[\"2022-10-07T00:00:00\",\"2022-10-07T00:00:00\"],\"y\":[4.0,59204.84],\"type\":\"scatter\"},{\"line\":{\"color\":\"#000099\",\"dash\":\"dash\",\"width\":0.5},\"mode\":\"lines\",\"name\":\"Outside_range_Dry_WOW\",\"showlegend\":false,\"x\":[\"2022-10-12T00:00:00\",\"2022-10-12T00:00:00\"],\"y\":[4.0,59204.84],\"type\":\"scatter\"},{\"line\":{\"color\":\"#000099\",\"dash\":\"dash\",\"width\":0.5},\"mode\":\"lines\",\"name\":\"Outside_range_Dry_WOW\",\"showlegend\":false,\"x\":[\"2022-10-21T00:00:00\",\"2022-10-21T00:00:00\"],\"y\":[4.0,59204.84],\"type\":\"scatter\"},{\"line\":{\"color\":\"#000099\",\"dash\":\"dash\",\"width\":0.5},\"mode\":\"lines\",\"name\":\"Outside_range_Dry_WOW\",\"showlegend\":false,\"x\":[\"2022-10-24T00:00:00\",\"2022-10-24T00:00:00\"],\"y\":[4.0,59204.84],\"type\":\"scatter\"},{\"line\":{\"color\":\"#000099\",\"dash\":\"dash\",\"width\":0.5},\"mode\":\"lines\",\"name\":\"Outside_range_Dry_WOW\",\"showlegend\":false,\"x\":[\"2022-10-25T00:00:00\",\"2022-10-25T00:00:00\"],\"y\":[4.0,59204.84],\"type\":\"scatter\"},{\"line\":{\"color\":\"#000099\",\"dash\":\"dash\",\"width\":0.5},\"mode\":\"lines\",\"name\":\"Outside_range_Dry_WOW\",\"showlegend\":false,\"x\":[\"2022-11-07T00:00:00\",\"2022-11-07T00:00:00\"],\"y\":[4.0,59204.84],\"type\":\"scatter\"},{\"line\":{\"color\":\"#000099\",\"dash\":\"dash\",\"width\":0.5},\"mode\":\"lines\",\"name\":\"Outside_range_Dry_WOW\",\"showlegend\":false,\"x\":[\"2022-11-08T00:00:00\",\"2022-11-08T00:00:00\"],\"y\":[4.0,59204.84],\"type\":\"scatter\"},{\"line\":{\"color\":\"#000099\",\"dash\":\"dash\",\"width\":0.5},\"mode\":\"lines\",\"name\":\"Outside_range_Dry_WOW\",\"showlegend\":false,\"x\":[\"2022-11-09T00:00:00\",\"2022-11-09T00:00:00\"],\"y\":[4.0,59204.84],\"type\":\"scatter\"},{\"line\":{\"color\":\"#000099\",\"dash\":\"dash\",\"width\":0.5},\"mode\":\"lines\",\"name\":\"Outside_range_Dry_WOW\",\"showlegend\":false,\"x\":[\"2022-11-10T00:00:00\",\"2022-11-10T00:00:00\"],\"y\":[4.0,59204.84],\"type\":\"scatter\"},{\"line\":{\"color\":\"#000099\",\"dash\":\"dash\",\"width\":0.5},\"mode\":\"lines\",\"name\":\"Outside_range_Dry_WOW\",\"showlegend\":false,\"x\":[\"2022-11-17T00:00:00\",\"2022-11-17T00:00:00\"],\"y\":[4.0,59204.84],\"type\":\"scatter\"},{\"line\":{\"color\":\"#000099\",\"dash\":\"dash\",\"width\":0.5},\"mode\":\"lines\",\"name\":\"Outside_range_Dry_WOW\",\"showlegend\":false,\"x\":[\"2022-11-18T00:00:00\",\"2022-11-18T00:00:00\"],\"y\":[4.0,59204.84],\"type\":\"scatter\"},{\"line\":{\"color\":\"#000099\",\"dash\":\"dash\",\"width\":0.5},\"mode\":\"lines\",\"name\":\"Outside_range_Dry_WOW\",\"showlegend\":false,\"x\":[\"2022-11-22T00:00:00\",\"2022-11-22T00:00:00\"],\"y\":[4.0,59204.84],\"type\":\"scatter\"},{\"line\":{\"color\":\"#000099\",\"dash\":\"dash\",\"width\":0.5},\"mode\":\"lines\",\"name\":\"Outside_range_Dry_WOW\",\"showlegend\":false,\"x\":[\"2022-11-24T00:00:00\",\"2022-11-24T00:00:00\"],\"y\":[4.0,59204.84],\"type\":\"scatter\"},{\"line\":{\"color\":\"#000099\",\"dash\":\"dash\",\"width\":0.5},\"mode\":\"lines\",\"name\":\"Outside_range_Dry_WOW\",\"showlegend\":false,\"x\":[\"2022-11-25T00:00:00\",\"2022-11-25T00:00:00\"],\"y\":[4.0,59204.84],\"type\":\"scatter\"},{\"line\":{\"color\":\"#000099\",\"dash\":\"dash\",\"width\":0.5},\"mode\":\"lines\",\"name\":\"Outside_range_Dry_WOW\",\"showlegend\":false,\"x\":[\"2022-11-29T00:00:00\",\"2022-11-29T00:00:00\"],\"y\":[4.0,59204.84],\"type\":\"scatter\"},{\"line\":{\"color\":\"#000099\",\"dash\":\"dash\",\"width\":0.5},\"mode\":\"lines\",\"name\":\"Outside_range_Dry_WOW\",\"showlegend\":false,\"x\":[\"2022-12-02T00:00:00\",\"2022-12-02T00:00:00\"],\"y\":[4.0,59204.84],\"type\":\"scatter\"},{\"line\":{\"color\":\"#000099\",\"dash\":\"dash\",\"width\":0.5},\"mode\":\"lines\",\"name\":\"Outside_range_Dry_WOW\",\"showlegend\":false,\"x\":[\"2022-12-06T00:00:00\",\"2022-12-06T00:00:00\"],\"y\":[4.0,59204.84],\"type\":\"scatter\"},{\"line\":{\"color\":\"#000099\",\"dash\":\"dash\",\"width\":0.5},\"mode\":\"lines\",\"name\":\"Outside_range_Dry_WOW\",\"showlegend\":false,\"x\":[\"2022-12-21T00:00:00\",\"2022-12-21T00:00:00\"],\"y\":[4.0,59204.84],\"type\":\"scatter\"},{\"line\":{\"color\":\"#000099\",\"dash\":\"dash\",\"width\":0.5},\"mode\":\"lines\",\"name\":\"Outside_range_Dry_WOW\",\"showlegend\":false,\"x\":[\"2022-12-22T00:00:00\",\"2022-12-22T00:00:00\"],\"y\":[4.0,59204.84],\"type\":\"scatter\"},{\"line\":{\"color\":\"#000099\",\"dash\":\"dash\",\"width\":0.5},\"mode\":\"lines\",\"name\":\"Outside_range_Dry_WOW\",\"showlegend\":false,\"x\":[\"2022-12-27T00:00:00\",\"2022-12-27T00:00:00\"],\"y\":[4.0,59204.84],\"type\":\"scatter\"},{\"line\":{\"color\":\"#000099\",\"dash\":\"dash\",\"width\":0.5},\"mode\":\"lines\",\"name\":\"Outside_range_Dry_WOW\",\"showlegend\":false,\"x\":[\"2022-12-28T00:00:00\",\"2022-12-28T00:00:00\"],\"y\":[4.0,59204.84],\"type\":\"scatter\"},{\"line\":{\"color\":\"#000099\",\"dash\":\"dash\",\"width\":0.5},\"mode\":\"lines\",\"name\":\"Outside_range_Dry_WOW\",\"showlegend\":false,\"x\":[\"2022-12-29T00:00:00\",\"2022-12-29T00:00:00\"],\"y\":[4.0,59204.84],\"type\":\"scatter\"},{\"line\":{\"color\":\"#000099\",\"dash\":\"dash\",\"width\":0.5},\"mode\":\"lines\",\"name\":\"Outside_range_Dry_WOW\",\"showlegend\":false,\"x\":[\"2022-12-30T00:00:00\",\"2022-12-30T00:00:00\"],\"y\":[4.0,59204.84],\"type\":\"scatter\"},{\"line\":{\"color\":\"#990000\",\"dash\":\"dash\",\"width\":0.5},\"mode\":\"lines\",\"name\":\"Outside_range_Dry_LGBM\",\"showlegend\":true,\"x\":[\"2022-07-18T00:00:00\",\"2022-07-18T00:00:00\"],\"y\":[557.8093480522657,93868.11773874522],\"type\":\"scatter\"},{\"line\":{\"color\":\"#990000\",\"dash\":\"dash\",\"width\":0.5},\"mode\":\"lines\",\"name\":\"Outside_range_Dry_LGBM\",\"showlegend\":false,\"x\":[\"2022-07-19T00:00:00\",\"2022-07-19T00:00:00\"],\"y\":[557.8093480522657,93868.11773874522],\"type\":\"scatter\"},{\"line\":{\"color\":\"#990000\",\"dash\":\"dash\",\"width\":0.5},\"mode\":\"lines\",\"name\":\"Outside_range_Dry_LGBM\",\"showlegend\":false,\"x\":[\"2022-07-20T00:00:00\",\"2022-07-20T00:00:00\"],\"y\":[557.8093480522657,93868.11773874522],\"type\":\"scatter\"},{\"line\":{\"color\":\"#990000\",\"dash\":\"dash\",\"width\":0.5},\"mode\":\"lines\",\"name\":\"Outside_range_Dry_LGBM\",\"showlegend\":false,\"x\":[\"2022-07-22T00:00:00\",\"2022-07-22T00:00:00\"],\"y\":[557.8093480522657,93868.11773874522],\"type\":\"scatter\"},{\"line\":{\"color\":\"#990000\",\"dash\":\"dash\",\"width\":0.5},\"mode\":\"lines\",\"name\":\"Outside_range_Dry_LGBM\",\"showlegend\":false,\"x\":[\"2022-07-25T00:00:00\",\"2022-07-25T00:00:00\"],\"y\":[557.8093480522657,93868.11773874522],\"type\":\"scatter\"},{\"line\":{\"color\":\"#990000\",\"dash\":\"dash\",\"width\":0.5},\"mode\":\"lines\",\"name\":\"Outside_range_Dry_LGBM\",\"showlegend\":false,\"x\":[\"2022-07-26T00:00:00\",\"2022-07-26T00:00:00\"],\"y\":[557.8093480522657,93868.11773874522],\"type\":\"scatter\"},{\"line\":{\"color\":\"#990000\",\"dash\":\"dash\",\"width\":0.5},\"mode\":\"lines\",\"name\":\"Outside_range_Dry_LGBM\",\"showlegend\":false,\"x\":[\"2022-07-27T00:00:00\",\"2022-07-27T00:00:00\"],\"y\":[557.8093480522657,93868.11773874522],\"type\":\"scatter\"},{\"line\":{\"color\":\"#990000\",\"dash\":\"dash\",\"width\":0.5},\"mode\":\"lines\",\"name\":\"Outside_range_Dry_LGBM\",\"showlegend\":false,\"x\":[\"2022-07-28T00:00:00\",\"2022-07-28T00:00:00\"],\"y\":[557.8093480522657,93868.11773874522],\"type\":\"scatter\"},{\"line\":{\"color\":\"#990000\",\"dash\":\"dash\",\"width\":0.5},\"mode\":\"lines\",\"name\":\"Outside_range_Dry_LGBM\",\"showlegend\":false,\"x\":[\"2022-07-29T00:00:00\",\"2022-07-29T00:00:00\"],\"y\":[557.8093480522657,93868.11773874522],\"type\":\"scatter\"},{\"line\":{\"color\":\"#990000\",\"dash\":\"dash\",\"width\":0.5},\"mode\":\"lines\",\"name\":\"Outside_range_Dry_LGBM\",\"showlegend\":false,\"x\":[\"2022-08-01T00:00:00\",\"2022-08-01T00:00:00\"],\"y\":[557.8093480522657,93868.11773874522],\"type\":\"scatter\"},{\"line\":{\"color\":\"#990000\",\"dash\":\"dash\",\"width\":0.5},\"mode\":\"lines\",\"name\":\"Outside_range_Dry_LGBM\",\"showlegend\":false,\"x\":[\"2022-08-02T00:00:00\",\"2022-08-02T00:00:00\"],\"y\":[557.8093480522657,93868.11773874522],\"type\":\"scatter\"},{\"line\":{\"color\":\"#990000\",\"dash\":\"dash\",\"width\":0.5},\"mode\":\"lines\",\"name\":\"Outside_range_Dry_LGBM\",\"showlegend\":false,\"x\":[\"2022-08-03T00:00:00\",\"2022-08-03T00:00:00\"],\"y\":[557.8093480522657,93868.11773874522],\"type\":\"scatter\"},{\"line\":{\"color\":\"#990000\",\"dash\":\"dash\",\"width\":0.5},\"mode\":\"lines\",\"name\":\"Outside_range_Dry_LGBM\",\"showlegend\":false,\"x\":[\"2022-08-04T00:00:00\",\"2022-08-04T00:00:00\"],\"y\":[557.8093480522657,93868.11773874522],\"type\":\"scatter\"},{\"line\":{\"color\":\"#990000\",\"dash\":\"dash\",\"width\":0.5},\"mode\":\"lines\",\"name\":\"Outside_range_Dry_LGBM\",\"showlegend\":false,\"x\":[\"2022-08-05T00:00:00\",\"2022-08-05T00:00:00\"],\"y\":[557.8093480522657,93868.11773874522],\"type\":\"scatter\"},{\"line\":{\"color\":\"#990000\",\"dash\":\"dash\",\"width\":0.5},\"mode\":\"lines\",\"name\":\"Outside_range_Dry_LGBM\",\"showlegend\":false,\"x\":[\"2022-08-08T00:00:00\",\"2022-08-08T00:00:00\"],\"y\":[557.8093480522657,93868.11773874522],\"type\":\"scatter\"},{\"line\":{\"color\":\"#990000\",\"dash\":\"dash\",\"width\":0.5},\"mode\":\"lines\",\"name\":\"Outside_range_Dry_LGBM\",\"showlegend\":false,\"x\":[\"2022-08-09T00:00:00\",\"2022-08-09T00:00:00\"],\"y\":[557.8093480522657,93868.11773874522],\"type\":\"scatter\"},{\"line\":{\"color\":\"#990000\",\"dash\":\"dash\",\"width\":0.5},\"mode\":\"lines\",\"name\":\"Outside_range_Dry_LGBM\",\"showlegend\":false,\"x\":[\"2022-08-10T00:00:00\",\"2022-08-10T00:00:00\"],\"y\":[557.8093480522657,93868.11773874522],\"type\":\"scatter\"},{\"line\":{\"color\":\"#990000\",\"dash\":\"dash\",\"width\":0.5},\"mode\":\"lines\",\"name\":\"Outside_range_Dry_LGBM\",\"showlegend\":false,\"x\":[\"2022-08-11T00:00:00\",\"2022-08-11T00:00:00\"],\"y\":[557.8093480522657,93868.11773874522],\"type\":\"scatter\"},{\"line\":{\"color\":\"#990000\",\"dash\":\"dash\",\"width\":0.5},\"mode\":\"lines\",\"name\":\"Outside_range_Dry_LGBM\",\"showlegend\":false,\"x\":[\"2022-08-12T00:00:00\",\"2022-08-12T00:00:00\"],\"y\":[557.8093480522657,93868.11773874522],\"type\":\"scatter\"},{\"line\":{\"color\":\"#990000\",\"dash\":\"dash\",\"width\":0.5},\"mode\":\"lines\",\"name\":\"Outside_range_Dry_LGBM\",\"showlegend\":false,\"x\":[\"2022-08-16T00:00:00\",\"2022-08-16T00:00:00\"],\"y\":[557.8093480522657,93868.11773874522],\"type\":\"scatter\"},{\"line\":{\"color\":\"#990000\",\"dash\":\"dash\",\"width\":0.5},\"mode\":\"lines\",\"name\":\"Outside_range_Dry_LGBM\",\"showlegend\":false,\"x\":[\"2022-08-17T00:00:00\",\"2022-08-17T00:00:00\"],\"y\":[557.8093480522657,93868.11773874522],\"type\":\"scatter\"},{\"line\":{\"color\":\"#990000\",\"dash\":\"dash\",\"width\":0.5},\"mode\":\"lines\",\"name\":\"Outside_range_Dry_LGBM\",\"showlegend\":false,\"x\":[\"2022-08-18T00:00:00\",\"2022-08-18T00:00:00\"],\"y\":[557.8093480522657,93868.11773874522],\"type\":\"scatter\"},{\"line\":{\"color\":\"#990000\",\"dash\":\"dash\",\"width\":0.5},\"mode\":\"lines\",\"name\":\"Outside_range_Dry_LGBM\",\"showlegend\":false,\"x\":[\"2022-08-19T00:00:00\",\"2022-08-19T00:00:00\"],\"y\":[557.8093480522657,93868.11773874522],\"type\":\"scatter\"},{\"line\":{\"color\":\"#990000\",\"dash\":\"dash\",\"width\":0.5},\"mode\":\"lines\",\"name\":\"Outside_range_Dry_LGBM\",\"showlegend\":false,\"x\":[\"2022-08-22T00:00:00\",\"2022-08-22T00:00:00\"],\"y\":[557.8093480522657,93868.11773874522],\"type\":\"scatter\"},{\"line\":{\"color\":\"#990000\",\"dash\":\"dash\",\"width\":0.5},\"mode\":\"lines\",\"name\":\"Outside_range_Dry_LGBM\",\"showlegend\":false,\"x\":[\"2022-08-23T00:00:00\",\"2022-08-23T00:00:00\"],\"y\":[557.8093480522657,93868.11773874522],\"type\":\"scatter\"},{\"line\":{\"color\":\"#990000\",\"dash\":\"dash\",\"width\":0.5},\"mode\":\"lines\",\"name\":\"Outside_range_Dry_LGBM\",\"showlegend\":false,\"x\":[\"2022-08-24T00:00:00\",\"2022-08-24T00:00:00\"],\"y\":[557.8093480522657,93868.11773874522],\"type\":\"scatter\"},{\"line\":{\"color\":\"#990000\",\"dash\":\"dash\",\"width\":0.5},\"mode\":\"lines\",\"name\":\"Outside_range_Dry_LGBM\",\"showlegend\":false,\"x\":[\"2022-08-25T00:00:00\",\"2022-08-25T00:00:00\"],\"y\":[557.8093480522657,93868.11773874522],\"type\":\"scatter\"},{\"line\":{\"color\":\"#990000\",\"dash\":\"dash\",\"width\":0.5},\"mode\":\"lines\",\"name\":\"Outside_range_Dry_LGBM\",\"showlegend\":false,\"x\":[\"2022-08-26T00:00:00\",\"2022-08-26T00:00:00\"],\"y\":[557.8093480522657,93868.11773874522],\"type\":\"scatter\"},{\"line\":{\"color\":\"#990000\",\"dash\":\"dash\",\"width\":0.5},\"mode\":\"lines\",\"name\":\"Outside_range_Dry_LGBM\",\"showlegend\":false,\"x\":[\"2022-08-29T00:00:00\",\"2022-08-29T00:00:00\"],\"y\":[557.8093480522657,93868.11773874522],\"type\":\"scatter\"},{\"line\":{\"color\":\"#990000\",\"dash\":\"dash\",\"width\":0.5},\"mode\":\"lines\",\"name\":\"Outside_range_Dry_LGBM\",\"showlegend\":false,\"x\":[\"2022-08-31T00:00:00\",\"2022-08-31T00:00:00\"],\"y\":[557.8093480522657,93868.11773874522],\"type\":\"scatter\"},{\"line\":{\"color\":\"#990000\",\"dash\":\"dash\",\"width\":0.5},\"mode\":\"lines\",\"name\":\"Outside_range_Dry_LGBM\",\"showlegend\":false,\"x\":[\"2022-09-01T00:00:00\",\"2022-09-01T00:00:00\"],\"y\":[557.8093480522657,93868.11773874522],\"type\":\"scatter\"},{\"line\":{\"color\":\"#990000\",\"dash\":\"dash\",\"width\":0.5},\"mode\":\"lines\",\"name\":\"Outside_range_Dry_LGBM\",\"showlegend\":false,\"x\":[\"2022-09-02T00:00:00\",\"2022-09-02T00:00:00\"],\"y\":[557.8093480522657,93868.11773874522],\"type\":\"scatter\"},{\"line\":{\"color\":\"#990000\",\"dash\":\"dash\",\"width\":0.5},\"mode\":\"lines\",\"name\":\"Outside_range_Dry_LGBM\",\"showlegend\":false,\"x\":[\"2022-09-05T00:00:00\",\"2022-09-05T00:00:00\"],\"y\":[557.8093480522657,93868.11773874522],\"type\":\"scatter\"},{\"line\":{\"color\":\"#990000\",\"dash\":\"dash\",\"width\":0.5},\"mode\":\"lines\",\"name\":\"Outside_range_Dry_LGBM\",\"showlegend\":false,\"x\":[\"2022-09-06T00:00:00\",\"2022-09-06T00:00:00\"],\"y\":[557.8093480522657,93868.11773874522],\"type\":\"scatter\"},{\"line\":{\"color\":\"#990000\",\"dash\":\"dash\",\"width\":0.5},\"mode\":\"lines\",\"name\":\"Outside_range_Dry_LGBM\",\"showlegend\":false,\"x\":[\"2022-09-07T00:00:00\",\"2022-09-07T00:00:00\"],\"y\":[557.8093480522657,93868.11773874522],\"type\":\"scatter\"},{\"line\":{\"color\":\"#990000\",\"dash\":\"dash\",\"width\":0.5},\"mode\":\"lines\",\"name\":\"Outside_range_Dry_LGBM\",\"showlegend\":false,\"x\":[\"2022-09-08T00:00:00\",\"2022-09-08T00:00:00\"],\"y\":[557.8093480522657,93868.11773874522],\"type\":\"scatter\"},{\"line\":{\"color\":\"#990000\",\"dash\":\"dash\",\"width\":0.5},\"mode\":\"lines\",\"name\":\"Outside_range_Dry_LGBM\",\"showlegend\":false,\"x\":[\"2022-09-09T00:00:00\",\"2022-09-09T00:00:00\"],\"y\":[557.8093480522657,93868.11773874522],\"type\":\"scatter\"},{\"line\":{\"color\":\"#990000\",\"dash\":\"dash\",\"width\":0.5},\"mode\":\"lines\",\"name\":\"Outside_range_Dry_LGBM\",\"showlegend\":false,\"x\":[\"2022-09-12T00:00:00\",\"2022-09-12T00:00:00\"],\"y\":[557.8093480522657,93868.11773874522],\"type\":\"scatter\"},{\"line\":{\"color\":\"#990000\",\"dash\":\"dash\",\"width\":0.5},\"mode\":\"lines\",\"name\":\"Outside_range_Dry_LGBM\",\"showlegend\":false,\"x\":[\"2022-09-13T00:00:00\",\"2022-09-13T00:00:00\"],\"y\":[557.8093480522657,93868.11773874522],\"type\":\"scatter\"},{\"line\":{\"color\":\"#990000\",\"dash\":\"dash\",\"width\":0.5},\"mode\":\"lines\",\"name\":\"Outside_range_Dry_LGBM\",\"showlegend\":false,\"x\":[\"2022-09-14T00:00:00\",\"2022-09-14T00:00:00\"],\"y\":[557.8093480522657,93868.11773874522],\"type\":\"scatter\"},{\"line\":{\"color\":\"#990000\",\"dash\":\"dash\",\"width\":0.5},\"mode\":\"lines\",\"name\":\"Outside_range_Dry_LGBM\",\"showlegend\":false,\"x\":[\"2022-09-15T00:00:00\",\"2022-09-15T00:00:00\"],\"y\":[557.8093480522657,93868.11773874522],\"type\":\"scatter\"},{\"line\":{\"color\":\"#990000\",\"dash\":\"dash\",\"width\":0.5},\"mode\":\"lines\",\"name\":\"Outside_range_Dry_LGBM\",\"showlegend\":false,\"x\":[\"2022-09-16T00:00:00\",\"2022-09-16T00:00:00\"],\"y\":[557.8093480522657,93868.11773874522],\"type\":\"scatter\"},{\"line\":{\"color\":\"#990000\",\"dash\":\"dash\",\"width\":0.5},\"mode\":\"lines\",\"name\":\"Outside_range_Dry_LGBM\",\"showlegend\":false,\"x\":[\"2022-09-19T00:00:00\",\"2022-09-19T00:00:00\"],\"y\":[557.8093480522657,93868.11773874522],\"type\":\"scatter\"},{\"line\":{\"color\":\"#990000\",\"dash\":\"dash\",\"width\":0.5},\"mode\":\"lines\",\"name\":\"Outside_range_Dry_LGBM\",\"showlegend\":false,\"x\":[\"2022-09-20T00:00:00\",\"2022-09-20T00:00:00\"],\"y\":[557.8093480522657,93868.11773874522],\"type\":\"scatter\"},{\"line\":{\"color\":\"#990000\",\"dash\":\"dash\",\"width\":0.5},\"mode\":\"lines\",\"name\":\"Outside_range_Dry_LGBM\",\"showlegend\":false,\"x\":[\"2022-09-21T00:00:00\",\"2022-09-21T00:00:00\"],\"y\":[557.8093480522657,93868.11773874522],\"type\":\"scatter\"},{\"line\":{\"color\":\"#990000\",\"dash\":\"dash\",\"width\":0.5},\"mode\":\"lines\",\"name\":\"Outside_range_Dry_LGBM\",\"showlegend\":false,\"x\":[\"2022-09-22T00:00:00\",\"2022-09-22T00:00:00\"],\"y\":[557.8093480522657,93868.11773874522],\"type\":\"scatter\"},{\"line\":{\"color\":\"#990000\",\"dash\":\"dash\",\"width\":0.5},\"mode\":\"lines\",\"name\":\"Outside_range_Dry_LGBM\",\"showlegend\":false,\"x\":[\"2022-09-23T00:00:00\",\"2022-09-23T00:00:00\"],\"y\":[557.8093480522657,93868.11773874522],\"type\":\"scatter\"},{\"line\":{\"color\":\"#990000\",\"dash\":\"dash\",\"width\":0.5},\"mode\":\"lines\",\"name\":\"Outside_range_Dry_LGBM\",\"showlegend\":false,\"x\":[\"2022-09-27T00:00:00\",\"2022-09-27T00:00:00\"],\"y\":[557.8093480522657,93868.11773874522],\"type\":\"scatter\"},{\"line\":{\"color\":\"#990000\",\"dash\":\"dash\",\"width\":0.5},\"mode\":\"lines\",\"name\":\"Outside_range_Dry_LGBM\",\"showlegend\":false,\"x\":[\"2022-09-28T00:00:00\",\"2022-09-28T00:00:00\"],\"y\":[557.8093480522657,93868.11773874522],\"type\":\"scatter\"},{\"line\":{\"color\":\"#990000\",\"dash\":\"dash\",\"width\":0.5},\"mode\":\"lines\",\"name\":\"Outside_range_Dry_LGBM\",\"showlegend\":false,\"x\":[\"2022-09-29T00:00:00\",\"2022-09-29T00:00:00\"],\"y\":[557.8093480522657,93868.11773874522],\"type\":\"scatter\"},{\"line\":{\"color\":\"#990000\",\"dash\":\"dash\",\"width\":0.5},\"mode\":\"lines\",\"name\":\"Outside_range_Dry_LGBM\",\"showlegend\":false,\"x\":[\"2022-09-30T00:00:00\",\"2022-09-30T00:00:00\"],\"y\":[557.8093480522657,93868.11773874522],\"type\":\"scatter\"},{\"line\":{\"color\":\"#990000\",\"dash\":\"dash\",\"width\":0.5},\"mode\":\"lines\",\"name\":\"Outside_range_Dry_LGBM\",\"showlegend\":false,\"x\":[\"2022-10-04T00:00:00\",\"2022-10-04T00:00:00\"],\"y\":[557.8093480522657,93868.11773874522],\"type\":\"scatter\"},{\"line\":{\"color\":\"#990000\",\"dash\":\"dash\",\"width\":0.5},\"mode\":\"lines\",\"name\":\"Outside_range_Dry_LGBM\",\"showlegend\":false,\"x\":[\"2022-10-05T00:00:00\",\"2022-10-05T00:00:00\"],\"y\":[557.8093480522657,93868.11773874522],\"type\":\"scatter\"},{\"line\":{\"color\":\"#990000\",\"dash\":\"dash\",\"width\":0.5},\"mode\":\"lines\",\"name\":\"Outside_range_Dry_LGBM\",\"showlegend\":false,\"x\":[\"2022-10-06T00:00:00\",\"2022-10-06T00:00:00\"],\"y\":[557.8093480522657,93868.11773874522],\"type\":\"scatter\"},{\"line\":{\"color\":\"#990000\",\"dash\":\"dash\",\"width\":0.5},\"mode\":\"lines\",\"name\":\"Outside_range_Dry_LGBM\",\"showlegend\":false,\"x\":[\"2022-10-07T00:00:00\",\"2022-10-07T00:00:00\"],\"y\":[557.8093480522657,93868.11773874522],\"type\":\"scatter\"},{\"line\":{\"color\":\"#990000\",\"dash\":\"dash\",\"width\":0.5},\"mode\":\"lines\",\"name\":\"Outside_range_Dry_LGBM\",\"showlegend\":false,\"x\":[\"2022-10-11T00:00:00\",\"2022-10-11T00:00:00\"],\"y\":[557.8093480522657,93868.11773874522],\"type\":\"scatter\"},{\"line\":{\"color\":\"#990000\",\"dash\":\"dash\",\"width\":0.5},\"mode\":\"lines\",\"name\":\"Outside_range_Dry_LGBM\",\"showlegend\":false,\"x\":[\"2022-10-12T00:00:00\",\"2022-10-12T00:00:00\"],\"y\":[557.8093480522657,93868.11773874522],\"type\":\"scatter\"},{\"line\":{\"color\":\"#990000\",\"dash\":\"dash\",\"width\":0.5},\"mode\":\"lines\",\"name\":\"Outside_range_Dry_LGBM\",\"showlegend\":false,\"x\":[\"2022-10-13T00:00:00\",\"2022-10-13T00:00:00\"],\"y\":[557.8093480522657,93868.11773874522],\"type\":\"scatter\"},{\"line\":{\"color\":\"#990000\",\"dash\":\"dash\",\"width\":0.5},\"mode\":\"lines\",\"name\":\"Outside_range_Dry_LGBM\",\"showlegend\":false,\"x\":[\"2022-10-14T00:00:00\",\"2022-10-14T00:00:00\"],\"y\":[557.8093480522657,93868.11773874522],\"type\":\"scatter\"},{\"line\":{\"color\":\"#990000\",\"dash\":\"dash\",\"width\":0.5},\"mode\":\"lines\",\"name\":\"Outside_range_Dry_LGBM\",\"showlegend\":false,\"x\":[\"2022-10-18T00:00:00\",\"2022-10-18T00:00:00\"],\"y\":[557.8093480522657,93868.11773874522],\"type\":\"scatter\"},{\"line\":{\"color\":\"#990000\",\"dash\":\"dash\",\"width\":0.5},\"mode\":\"lines\",\"name\":\"Outside_range_Dry_LGBM\",\"showlegend\":false,\"x\":[\"2022-10-19T00:00:00\",\"2022-10-19T00:00:00\"],\"y\":[557.8093480522657,93868.11773874522],\"type\":\"scatter\"},{\"line\":{\"color\":\"#990000\",\"dash\":\"dash\",\"width\":0.5},\"mode\":\"lines\",\"name\":\"Outside_range_Dry_LGBM\",\"showlegend\":false,\"x\":[\"2022-10-20T00:00:00\",\"2022-10-20T00:00:00\"],\"y\":[557.8093480522657,93868.11773874522],\"type\":\"scatter\"},{\"line\":{\"color\":\"#990000\",\"dash\":\"dash\",\"width\":0.5},\"mode\":\"lines\",\"name\":\"Outside_range_Dry_LGBM\",\"showlegend\":false,\"x\":[\"2022-10-21T00:00:00\",\"2022-10-21T00:00:00\"],\"y\":[557.8093480522657,93868.11773874522],\"type\":\"scatter\"},{\"line\":{\"color\":\"#990000\",\"dash\":\"dash\",\"width\":0.5},\"mode\":\"lines\",\"name\":\"Outside_range_Dry_LGBM\",\"showlegend\":false,\"x\":[\"2022-10-24T00:00:00\",\"2022-10-24T00:00:00\"],\"y\":[557.8093480522657,93868.11773874522],\"type\":\"scatter\"},{\"line\":{\"color\":\"#990000\",\"dash\":\"dash\",\"width\":0.5},\"mode\":\"lines\",\"name\":\"Outside_range_Dry_LGBM\",\"showlegend\":false,\"x\":[\"2022-10-25T00:00:00\",\"2022-10-25T00:00:00\"],\"y\":[557.8093480522657,93868.11773874522],\"type\":\"scatter\"},{\"line\":{\"color\":\"#990000\",\"dash\":\"dash\",\"width\":0.5},\"mode\":\"lines\",\"name\":\"Outside_range_Dry_LGBM\",\"showlegend\":false,\"x\":[\"2022-10-26T00:00:00\",\"2022-10-26T00:00:00\"],\"y\":[557.8093480522657,93868.11773874522],\"type\":\"scatter\"},{\"line\":{\"color\":\"#990000\",\"dash\":\"dash\",\"width\":0.5},\"mode\":\"lines\",\"name\":\"Outside_range_Dry_LGBM\",\"showlegend\":false,\"x\":[\"2022-10-27T00:00:00\",\"2022-10-27T00:00:00\"],\"y\":[557.8093480522657,93868.11773874522],\"type\":\"scatter\"},{\"line\":{\"color\":\"#990000\",\"dash\":\"dash\",\"width\":0.5},\"mode\":\"lines\",\"name\":\"Outside_range_Dry_LGBM\",\"showlegend\":false,\"x\":[\"2022-10-28T00:00:00\",\"2022-10-28T00:00:00\"],\"y\":[557.8093480522657,93868.11773874522],\"type\":\"scatter\"},{\"line\":{\"color\":\"#990000\",\"dash\":\"dash\",\"width\":0.5},\"mode\":\"lines\",\"name\":\"Outside_range_Dry_LGBM\",\"showlegend\":false,\"x\":[\"2022-10-31T00:00:00\",\"2022-10-31T00:00:00\"],\"y\":[557.8093480522657,93868.11773874522],\"type\":\"scatter\"},{\"line\":{\"color\":\"#990000\",\"dash\":\"dash\",\"width\":0.5},\"mode\":\"lines\",\"name\":\"Outside_range_Dry_LGBM\",\"showlegend\":false,\"x\":[\"2022-11-02T00:00:00\",\"2022-11-02T00:00:00\"],\"y\":[557.8093480522657,93868.11773874522],\"type\":\"scatter\"},{\"line\":{\"color\":\"#990000\",\"dash\":\"dash\",\"width\":0.5},\"mode\":\"lines\",\"name\":\"Outside_range_Dry_LGBM\",\"showlegend\":false,\"x\":[\"2022-11-03T00:00:00\",\"2022-11-03T00:00:00\"],\"y\":[557.8093480522657,93868.11773874522],\"type\":\"scatter\"},{\"line\":{\"color\":\"#990000\",\"dash\":\"dash\",\"width\":0.5},\"mode\":\"lines\",\"name\":\"Outside_range_Dry_LGBM\",\"showlegend\":false,\"x\":[\"2022-11-08T00:00:00\",\"2022-11-08T00:00:00\"],\"y\":[557.8093480522657,93868.11773874522],\"type\":\"scatter\"},{\"line\":{\"color\":\"#990000\",\"dash\":\"dash\",\"width\":0.5},\"mode\":\"lines\",\"name\":\"Outside_range_Dry_LGBM\",\"showlegend\":false,\"x\":[\"2022-11-09T00:00:00\",\"2022-11-09T00:00:00\"],\"y\":[557.8093480522657,93868.11773874522],\"type\":\"scatter\"},{\"line\":{\"color\":\"#990000\",\"dash\":\"dash\",\"width\":0.5},\"mode\":\"lines\",\"name\":\"Outside_range_Dry_LGBM\",\"showlegend\":false,\"x\":[\"2022-11-15T00:00:00\",\"2022-11-15T00:00:00\"],\"y\":[557.8093480522657,93868.11773874522],\"type\":\"scatter\"},{\"line\":{\"color\":\"#990000\",\"dash\":\"dash\",\"width\":0.5},\"mode\":\"lines\",\"name\":\"Outside_range_Dry_LGBM\",\"showlegend\":false,\"x\":[\"2022-11-16T00:00:00\",\"2022-11-16T00:00:00\"],\"y\":[557.8093480522657,93868.11773874522],\"type\":\"scatter\"},{\"line\":{\"color\":\"#990000\",\"dash\":\"dash\",\"width\":0.5},\"mode\":\"lines\",\"name\":\"Outside_range_Dry_LGBM\",\"showlegend\":false,\"x\":[\"2022-11-17T00:00:00\",\"2022-11-17T00:00:00\"],\"y\":[557.8093480522657,93868.11773874522],\"type\":\"scatter\"},{\"line\":{\"color\":\"#990000\",\"dash\":\"dash\",\"width\":0.5},\"mode\":\"lines\",\"name\":\"Outside_range_Dry_LGBM\",\"showlegend\":false,\"x\":[\"2022-11-18T00:00:00\",\"2022-11-18T00:00:00\"],\"y\":[557.8093480522657,93868.11773874522],\"type\":\"scatter\"},{\"line\":{\"color\":\"#990000\",\"dash\":\"dash\",\"width\":0.5},\"mode\":\"lines\",\"name\":\"Outside_range_Dry_LGBM\",\"showlegend\":false,\"x\":[\"2022-11-21T00:00:00\",\"2022-11-21T00:00:00\"],\"y\":[557.8093480522657,93868.11773874522],\"type\":\"scatter\"},{\"line\":{\"color\":\"#990000\",\"dash\":\"dash\",\"width\":0.5},\"mode\":\"lines\",\"name\":\"Outside_range_Dry_LGBM\",\"showlegend\":false,\"x\":[\"2022-11-22T00:00:00\",\"2022-11-22T00:00:00\"],\"y\":[557.8093480522657,93868.11773874522],\"type\":\"scatter\"},{\"line\":{\"color\":\"#990000\",\"dash\":\"dash\",\"width\":0.5},\"mode\":\"lines\",\"name\":\"Outside_range_Dry_LGBM\",\"showlegend\":false,\"x\":[\"2022-11-23T00:00:00\",\"2022-11-23T00:00:00\"],\"y\":[557.8093480522657,93868.11773874522],\"type\":\"scatter\"},{\"line\":{\"color\":\"#990000\",\"dash\":\"dash\",\"width\":0.5},\"mode\":\"lines\",\"name\":\"Outside_range_Dry_LGBM\",\"showlegend\":false,\"x\":[\"2022-11-24T00:00:00\",\"2022-11-24T00:00:00\"],\"y\":[557.8093480522657,93868.11773874522],\"type\":\"scatter\"},{\"line\":{\"color\":\"#990000\",\"dash\":\"dash\",\"width\":0.5},\"mode\":\"lines\",\"name\":\"Outside_range_Dry_LGBM\",\"showlegend\":false,\"x\":[\"2022-11-25T00:00:00\",\"2022-11-25T00:00:00\"],\"y\":[557.8093480522657,93868.11773874522],\"type\":\"scatter\"},{\"line\":{\"color\":\"#990000\",\"dash\":\"dash\",\"width\":0.5},\"mode\":\"lines\",\"name\":\"Outside_range_Dry_LGBM\",\"showlegend\":false,\"x\":[\"2022-11-28T00:00:00\",\"2022-11-28T00:00:00\"],\"y\":[557.8093480522657,93868.11773874522],\"type\":\"scatter\"},{\"line\":{\"color\":\"#990000\",\"dash\":\"dash\",\"width\":0.5},\"mode\":\"lines\",\"name\":\"Outside_range_Dry_LGBM\",\"showlegend\":false,\"x\":[\"2022-11-29T00:00:00\",\"2022-11-29T00:00:00\"],\"y\":[557.8093480522657,93868.11773874522],\"type\":\"scatter\"},{\"line\":{\"color\":\"#990000\",\"dash\":\"dash\",\"width\":0.5},\"mode\":\"lines\",\"name\":\"Outside_range_Dry_LGBM\",\"showlegend\":false,\"x\":[\"2022-11-30T00:00:00\",\"2022-11-30T00:00:00\"],\"y\":[557.8093480522657,93868.11773874522],\"type\":\"scatter\"},{\"line\":{\"color\":\"#990000\",\"dash\":\"dash\",\"width\":0.5},\"mode\":\"lines\",\"name\":\"Outside_range_Dry_LGBM\",\"showlegend\":false,\"x\":[\"2022-12-01T00:00:00\",\"2022-12-01T00:00:00\"],\"y\":[557.8093480522657,93868.11773874522],\"type\":\"scatter\"},{\"line\":{\"color\":\"#990000\",\"dash\":\"dash\",\"width\":0.5},\"mode\":\"lines\",\"name\":\"Outside_range_Dry_LGBM\",\"showlegend\":false,\"x\":[\"2022-12-02T00:00:00\",\"2022-12-02T00:00:00\"],\"y\":[557.8093480522657,93868.11773874522],\"type\":\"scatter\"},{\"line\":{\"color\":\"#990000\",\"dash\":\"dash\",\"width\":0.5},\"mode\":\"lines\",\"name\":\"Outside_range_Dry_LGBM\",\"showlegend\":false,\"x\":[\"2022-12-07T00:00:00\",\"2022-12-07T00:00:00\"],\"y\":[557.8093480522657,93868.11773874522],\"type\":\"scatter\"},{\"line\":{\"color\":\"#990000\",\"dash\":\"dash\",\"width\":0.5},\"mode\":\"lines\",\"name\":\"Outside_range_Dry_LGBM\",\"showlegend\":false,\"x\":[\"2022-12-08T00:00:00\",\"2022-12-08T00:00:00\"],\"y\":[557.8093480522657,93868.11773874522],\"type\":\"scatter\"},{\"line\":{\"color\":\"#990000\",\"dash\":\"dash\",\"width\":0.5},\"mode\":\"lines\",\"name\":\"Outside_range_Dry_LGBM\",\"showlegend\":false,\"x\":[\"2022-12-09T00:00:00\",\"2022-12-09T00:00:00\"],\"y\":[557.8093480522657,93868.11773874522],\"type\":\"scatter\"},{\"line\":{\"color\":\"#990000\",\"dash\":\"dash\",\"width\":0.5},\"mode\":\"lines\",\"name\":\"Outside_range_Dry_LGBM\",\"showlegend\":false,\"x\":[\"2022-12-12T00:00:00\",\"2022-12-12T00:00:00\"],\"y\":[557.8093480522657,93868.11773874522],\"type\":\"scatter\"},{\"line\":{\"color\":\"#990000\",\"dash\":\"dash\",\"width\":0.5},\"mode\":\"lines\",\"name\":\"Outside_range_Dry_LGBM\",\"showlegend\":false,\"x\":[\"2022-12-13T00:00:00\",\"2022-12-13T00:00:00\"],\"y\":[557.8093480522657,93868.11773874522],\"type\":\"scatter\"},{\"line\":{\"color\":\"#990000\",\"dash\":\"dash\",\"width\":0.5},\"mode\":\"lines\",\"name\":\"Outside_range_Dry_LGBM\",\"showlegend\":false,\"x\":[\"2022-12-14T00:00:00\",\"2022-12-14T00:00:00\"],\"y\":[557.8093480522657,93868.11773874522],\"type\":\"scatter\"},{\"line\":{\"color\":\"#990000\",\"dash\":\"dash\",\"width\":0.5},\"mode\":\"lines\",\"name\":\"Outside_range_Dry_LGBM\",\"showlegend\":false,\"x\":[\"2022-12-15T00:00:00\",\"2022-12-15T00:00:00\"],\"y\":[557.8093480522657,93868.11773874522],\"type\":\"scatter\"},{\"line\":{\"color\":\"#990000\",\"dash\":\"dash\",\"width\":0.5},\"mode\":\"lines\",\"name\":\"Outside_range_Dry_LGBM\",\"showlegend\":false,\"x\":[\"2022-12-16T00:00:00\",\"2022-12-16T00:00:00\"],\"y\":[557.8093480522657,93868.11773874522],\"type\":\"scatter\"},{\"line\":{\"color\":\"#990000\",\"dash\":\"dash\",\"width\":0.5},\"mode\":\"lines\",\"name\":\"Outside_range_Dry_LGBM\",\"showlegend\":false,\"x\":[\"2022-12-19T00:00:00\",\"2022-12-19T00:00:00\"],\"y\":[557.8093480522657,93868.11773874522],\"type\":\"scatter\"},{\"line\":{\"color\":\"#990000\",\"dash\":\"dash\",\"width\":0.5},\"mode\":\"lines\",\"name\":\"Outside_range_Dry_LGBM\",\"showlegend\":false,\"x\":[\"2022-12-21T00:00:00\",\"2022-12-21T00:00:00\"],\"y\":[557.8093480522657,93868.11773874522],\"type\":\"scatter\"},{\"line\":{\"color\":\"#990000\",\"dash\":\"dash\",\"width\":0.5},\"mode\":\"lines\",\"name\":\"Outside_range_Dry_LGBM\",\"showlegend\":false,\"x\":[\"2022-12-22T00:00:00\",\"2022-12-22T00:00:00\"],\"y\":[557.8093480522657,93868.11773874522],\"type\":\"scatter\"},{\"line\":{\"color\":\"#990000\",\"dash\":\"dash\",\"width\":0.5},\"mode\":\"lines\",\"name\":\"Outside_range_Dry_LGBM\",\"showlegend\":false,\"x\":[\"2022-12-23T00:00:00\",\"2022-12-23T00:00:00\"],\"y\":[557.8093480522657,93868.11773874522],\"type\":\"scatter\"},{\"line\":{\"color\":\"#990000\",\"dash\":\"dash\",\"width\":0.5},\"mode\":\"lines\",\"name\":\"Outside_range_Dry_LGBM\",\"showlegend\":false,\"x\":[\"2022-12-27T00:00:00\",\"2022-12-27T00:00:00\"],\"y\":[557.8093480522657,93868.11773874522],\"type\":\"scatter\"},{\"line\":{\"color\":\"#990000\",\"dash\":\"dash\",\"width\":0.5},\"mode\":\"lines\",\"name\":\"Outside_range_Dry_LGBM\",\"showlegend\":false,\"x\":[\"2022-12-28T00:00:00\",\"2022-12-28T00:00:00\"],\"y\":[557.8093480522657,93868.11773874522],\"type\":\"scatter\"},{\"line\":{\"color\":\"#990000\",\"dash\":\"dash\",\"width\":0.5},\"mode\":\"lines\",\"name\":\"Outside_range_Dry_LGBM\",\"showlegend\":false,\"x\":[\"2022-12-29T00:00:00\",\"2022-12-29T00:00:00\"],\"y\":[557.8093480522657,93868.11773874522],\"type\":\"scatter\"},{\"line\":{\"color\":\"#990000\",\"dash\":\"dash\",\"width\":0.5},\"mode\":\"lines\",\"name\":\"Outside_range_Dry_LGBM\",\"showlegend\":false,\"x\":[\"2022-12-30T00:00:00\",\"2022-12-30T00:00:00\"],\"y\":[557.8093480522657,93868.11773874522],\"type\":\"scatter\"}],                        {\"template\":{\"data\":{\"bar\":[{\"error_x\":{\"color\":\"#2a3f5f\"},\"error_y\":{\"color\":\"#2a3f5f\"},\"marker\":{\"line\":{\"color\":\"#E5ECF6\",\"width\":0.5},\"pattern\":{\"fillmode\":\"overlay\",\"size\":10,\"solidity\":0.2}},\"type\":\"bar\"}],\"barpolar\":[{\"marker\":{\"line\":{\"color\":\"#E5ECF6\",\"width\":0.5},\"pattern\":{\"fillmode\":\"overlay\",\"size\":10,\"solidity\":0.2}},\"type\":\"barpolar\"}],\"carpet\":[{\"aaxis\":{\"endlinecolor\":\"#2a3f5f\",\"gridcolor\":\"white\",\"linecolor\":\"white\",\"minorgridcolor\":\"white\",\"startlinecolor\":\"#2a3f5f\"},\"baxis\":{\"endlinecolor\":\"#2a3f5f\",\"gridcolor\":\"white\",\"linecolor\":\"white\",\"minorgridcolor\":\"white\",\"startlinecolor\":\"#2a3f5f\"},\"type\":\"carpet\"}],\"choropleth\":[{\"colorbar\":{\"outlinewidth\":0,\"ticks\":\"\"},\"type\":\"choropleth\"}],\"contour\":[{\"colorbar\":{\"outlinewidth\":0,\"ticks\":\"\"},\"colorscale\":[[0.0,\"#0d0887\"],[0.1111111111111111,\"#46039f\"],[0.2222222222222222,\"#7201a8\"],[0.3333333333333333,\"#9c179e\"],[0.4444444444444444,\"#bd3786\"],[0.5555555555555556,\"#d8576b\"],[0.6666666666666666,\"#ed7953\"],[0.7777777777777778,\"#fb9f3a\"],[0.8888888888888888,\"#fdca26\"],[1.0,\"#f0f921\"]],\"type\":\"contour\"}],\"contourcarpet\":[{\"colorbar\":{\"outlinewidth\":0,\"ticks\":\"\"},\"type\":\"contourcarpet\"}],\"heatmap\":[{\"colorbar\":{\"outlinewidth\":0,\"ticks\":\"\"},\"colorscale\":[[0.0,\"#0d0887\"],[0.1111111111111111,\"#46039f\"],[0.2222222222222222,\"#7201a8\"],[0.3333333333333333,\"#9c179e\"],[0.4444444444444444,\"#bd3786\"],[0.5555555555555556,\"#d8576b\"],[0.6666666666666666,\"#ed7953\"],[0.7777777777777778,\"#fb9f3a\"],[0.8888888888888888,\"#fdca26\"],[1.0,\"#f0f921\"]],\"type\":\"heatmap\"}],\"heatmapgl\":[{\"colorbar\":{\"outlinewidth\":0,\"ticks\":\"\"},\"colorscale\":[[0.0,\"#0d0887\"],[0.1111111111111111,\"#46039f\"],[0.2222222222222222,\"#7201a8\"],[0.3333333333333333,\"#9c179e\"],[0.4444444444444444,\"#bd3786\"],[0.5555555555555556,\"#d8576b\"],[0.6666666666666666,\"#ed7953\"],[0.7777777777777778,\"#fb9f3a\"],[0.8888888888888888,\"#fdca26\"],[1.0,\"#f0f921\"]],\"type\":\"heatmapgl\"}],\"histogram\":[{\"marker\":{\"pattern\":{\"fillmode\":\"overlay\",\"size\":10,\"solidity\":0.2}},\"type\":\"histogram\"}],\"histogram2d\":[{\"colorbar\":{\"outlinewidth\":0,\"ticks\":\"\"},\"colorscale\":[[0.0,\"#0d0887\"],[0.1111111111111111,\"#46039f\"],[0.2222222222222222,\"#7201a8\"],[0.3333333333333333,\"#9c179e\"],[0.4444444444444444,\"#bd3786\"],[0.5555555555555556,\"#d8576b\"],[0.6666666666666666,\"#ed7953\"],[0.7777777777777778,\"#fb9f3a\"],[0.8888888888888888,\"#fdca26\"],[1.0,\"#f0f921\"]],\"type\":\"histogram2d\"}],\"histogram2dcontour\":[{\"colorbar\":{\"outlinewidth\":0,\"ticks\":\"\"},\"colorscale\":[[0.0,\"#0d0887\"],[0.1111111111111111,\"#46039f\"],[0.2222222222222222,\"#7201a8\"],[0.3333333333333333,\"#9c179e\"],[0.4444444444444444,\"#bd3786\"],[0.5555555555555556,\"#d8576b\"],[0.6666666666666666,\"#ed7953\"],[0.7777777777777778,\"#fb9f3a\"],[0.8888888888888888,\"#fdca26\"],[1.0,\"#f0f921\"]],\"type\":\"histogram2dcontour\"}],\"mesh3d\":[{\"colorbar\":{\"outlinewidth\":0,\"ticks\":\"\"},\"type\":\"mesh3d\"}],\"parcoords\":[{\"line\":{\"colorbar\":{\"outlinewidth\":0,\"ticks\":\"\"}},\"type\":\"parcoords\"}],\"pie\":[{\"automargin\":true,\"type\":\"pie\"}],\"scatter\":[{\"marker\":{\"colorbar\":{\"outlinewidth\":0,\"ticks\":\"\"}},\"type\":\"scatter\"}],\"scatter3d\":[{\"line\":{\"colorbar\":{\"outlinewidth\":0,\"ticks\":\"\"}},\"marker\":{\"colorbar\":{\"outlinewidth\":0,\"ticks\":\"\"}},\"type\":\"scatter3d\"}],\"scattercarpet\":[{\"marker\":{\"colorbar\":{\"outlinewidth\":0,\"ticks\":\"\"}},\"type\":\"scattercarpet\"}],\"scattergeo\":[{\"marker\":{\"colorbar\":{\"outlinewidth\":0,\"ticks\":\"\"}},\"type\":\"scattergeo\"}],\"scattergl\":[{\"marker\":{\"colorbar\":{\"outlinewidth\":0,\"ticks\":\"\"}},\"type\":\"scattergl\"}],\"scattermapbox\":[{\"marker\":{\"colorbar\":{\"outlinewidth\":0,\"ticks\":\"\"}},\"type\":\"scattermapbox\"}],\"scatterpolar\":[{\"marker\":{\"colorbar\":{\"outlinewidth\":0,\"ticks\":\"\"}},\"type\":\"scatterpolar\"}],\"scatterpolargl\":[{\"marker\":{\"colorbar\":{\"outlinewidth\":0,\"ticks\":\"\"}},\"type\":\"scatterpolargl\"}],\"scatterternary\":[{\"marker\":{\"colorbar\":{\"outlinewidth\":0,\"ticks\":\"\"}},\"type\":\"scatterternary\"}],\"surface\":[{\"colorbar\":{\"outlinewidth\":0,\"ticks\":\"\"},\"colorscale\":[[0.0,\"#0d0887\"],[0.1111111111111111,\"#46039f\"],[0.2222222222222222,\"#7201a8\"],[0.3333333333333333,\"#9c179e\"],[0.4444444444444444,\"#bd3786\"],[0.5555555555555556,\"#d8576b\"],[0.6666666666666666,\"#ed7953\"],[0.7777777777777778,\"#fb9f3a\"],[0.8888888888888888,\"#fdca26\"],[1.0,\"#f0f921\"]],\"type\":\"surface\"}],\"table\":[{\"cells\":{\"fill\":{\"color\":\"#EBF0F8\"},\"line\":{\"color\":\"white\"}},\"header\":{\"fill\":{\"color\":\"#C8D4E3\"},\"line\":{\"color\":\"white\"}},\"type\":\"table\"}]},\"layout\":{\"annotationdefaults\":{\"arrowcolor\":\"#2a3f5f\",\"arrowhead\":0,\"arrowwidth\":1},\"autotypenumbers\":\"strict\",\"coloraxis\":{\"colorbar\":{\"outlinewidth\":0,\"ticks\":\"\"}},\"colorscale\":{\"diverging\":[[0,\"#8e0152\"],[0.1,\"#c51b7d\"],[0.2,\"#de77ae\"],[0.3,\"#f1b6da\"],[0.4,\"#fde0ef\"],[0.5,\"#f7f7f7\"],[0.6,\"#e6f5d0\"],[0.7,\"#b8e186\"],[0.8,\"#7fbc41\"],[0.9,\"#4d9221\"],[1,\"#276419\"]],\"sequential\":[[0.0,\"#0d0887\"],[0.1111111111111111,\"#46039f\"],[0.2222222222222222,\"#7201a8\"],[0.3333333333333333,\"#9c179e\"],[0.4444444444444444,\"#bd3786\"],[0.5555555555555556,\"#d8576b\"],[0.6666666666666666,\"#ed7953\"],[0.7777777777777778,\"#fb9f3a\"],[0.8888888888888888,\"#fdca26\"],[1.0,\"#f0f921\"]],\"sequentialminus\":[[0.0,\"#0d0887\"],[0.1111111111111111,\"#46039f\"],[0.2222222222222222,\"#7201a8\"],[0.3333333333333333,\"#9c179e\"],[0.4444444444444444,\"#bd3786\"],[0.5555555555555556,\"#d8576b\"],[0.6666666666666666,\"#ed7953\"],[0.7777777777777778,\"#fb9f3a\"],[0.8888888888888888,\"#fdca26\"],[1.0,\"#f0f921\"]]},\"colorway\":[\"#636efa\",\"#EF553B\",\"#00cc96\",\"#ab63fa\",\"#FFA15A\",\"#19d3f3\",\"#FF6692\",\"#B6E880\",\"#FF97FF\",\"#FECB52\"],\"font\":{\"color\":\"#2a3f5f\"},\"geo\":{\"bgcolor\":\"white\",\"lakecolor\":\"white\",\"landcolor\":\"#E5ECF6\",\"showlakes\":true,\"showland\":true,\"subunitcolor\":\"white\"},\"hoverlabel\":{\"align\":\"left\"},\"hovermode\":\"closest\",\"mapbox\":{\"style\":\"light\"},\"paper_bgcolor\":\"white\",\"plot_bgcolor\":\"#E5ECF6\",\"polar\":{\"angularaxis\":{\"gridcolor\":\"white\",\"linecolor\":\"white\",\"ticks\":\"\"},\"bgcolor\":\"#E5ECF6\",\"radialaxis\":{\"gridcolor\":\"white\",\"linecolor\":\"white\",\"ticks\":\"\"}},\"scene\":{\"xaxis\":{\"backgroundcolor\":\"#E5ECF6\",\"gridcolor\":\"white\",\"gridwidth\":2,\"linecolor\":\"white\",\"showbackground\":true,\"ticks\":\"\",\"zerolinecolor\":\"white\"},\"yaxis\":{\"backgroundcolor\":\"#E5ECF6\",\"gridcolor\":\"white\",\"gridwidth\":2,\"linecolor\":\"white\",\"showbackground\":true,\"ticks\":\"\",\"zerolinecolor\":\"white\"},\"zaxis\":{\"backgroundcolor\":\"#E5ECF6\",\"gridcolor\":\"white\",\"gridwidth\":2,\"linecolor\":\"white\",\"showbackground\":true,\"ticks\":\"\",\"zerolinecolor\":\"white\"}},\"shapedefaults\":{\"line\":{\"color\":\"#2a3f5f\"}},\"ternary\":{\"aaxis\":{\"gridcolor\":\"white\",\"linecolor\":\"white\",\"ticks\":\"\"},\"baxis\":{\"gridcolor\":\"white\",\"linecolor\":\"white\",\"ticks\":\"\"},\"bgcolor\":\"#E5ECF6\",\"caxis\":{\"gridcolor\":\"white\",\"linecolor\":\"white\",\"ticks\":\"\"}},\"title\":{\"x\":0.05},\"xaxis\":{\"automargin\":true,\"gridcolor\":\"white\",\"linecolor\":\"white\",\"ticks\":\"\",\"title\":{\"standoff\":15},\"zerolinecolor\":\"white\",\"zerolinewidth\":2},\"yaxis\":{\"automargin\":true,\"gridcolor\":\"white\",\"linecolor\":\"white\",\"ticks\":\"\",\"title\":{\"standoff\":15},\"zerolinecolor\":\"white\",\"zerolinewidth\":2}}}},                        {\"responsive\": true}                    )                };                            </script>        </div>\n",
       "</body>\n",
       "</html>"
      ]
     },
     "metadata": {
      "application/vnd.databricks.v1+output": {
       "addedWidgets": {},
       "arguments": {},
       "data": "<html>\n<head><meta charset=\"utf-8\" /></head>\n<body>\n    <div>            <script src=\"https://cdnjs.cloudflare.com/ajax/libs/mathjax/2.7.5/MathJax.js?config=TeX-AMS-MML_SVG\"></script><script type=\"text/javascript\">if (window.MathJax) {MathJax.Hub.Config({SVG: {font: \"STIX-Web\"}});}</script>                <script type=\"text/javascript\">window.PlotlyConfig = {MathJaxConfig: 'local'};</script>\n        <script src=\"https://cdn.plot.ly/plotly-2.9.0.min.js\"></script>                <div id=\"4345e895-13bb-4ab6-9a0e-d14a637db8e4\" class=\"plotly-graph-div\" style=\"height:100%; width:100%;\"></div>            <script type=\"text/javascript\">                                    window.PLOTLYENV=window.PLOTLYENV || {};                                    if (document.getElementById(\"4345e895-13bb-4ab6-9a0e-d14a637db8e4\")) {                    Plotly.newPlot(                        \"4345e895-13bb-4ab6-9a0e-d14a637db8e4\",                        [{\"line\":{\"color\":\"#0000FF\"},\"name\":\"AbsError_Dry_WOW\",\"showlegend\":true,\"x\":[\"2022-07-18T00:00:00\",\"2022-07-19T00:00:00\",\"2022-07-20T00:00:00\",\"2022-07-22T00:00:00\",\"2022-07-25T00:00:00\",\"2022-07-26T00:00:00\",\"2022-07-27T00:00:00\",\"2022-07-28T00:00:00\",\"2022-07-29T00:00:00\",\"2022-08-01T00:00:00\",\"2022-08-02T00:00:00\",\"2022-08-03T00:00:00\",\"2022-08-04T00:00:00\",\"2022-08-05T00:00:00\",\"2022-08-08T00:00:00\",\"2022-08-09T00:00:00\",\"2022-08-10T00:00:00\",\"2022-08-11T00:00:00\",\"2022-08-12T00:00:00\",\"2022-08-16T00:00:00\",\"2022-08-17T00:00:00\",\"2022-08-18T00:00:00\",\"2022-08-19T00:00:00\",\"2022-08-22T00:00:00\",\"2022-08-23T00:00:00\",\"2022-08-24T00:00:00\",\"2022-08-25T00:00:00\",\"2022-08-26T00:00:00\",\"2022-08-29T00:00:00\",\"2022-08-30T00:00:00\",\"2022-08-31T00:00:00\",\"2022-09-01T00:00:00\",\"2022-09-02T00:00:00\",\"2022-09-05T00:00:00\",\"2022-09-06T00:00:00\",\"2022-09-07T00:00:00\",\"2022-09-08T00:00:00\",\"2022-09-09T00:00:00\",\"2022-09-12T00:00:00\",\"2022-09-13T00:00:00\",\"2022-09-14T00:00:00\",\"2022-09-15T00:00:00\",\"2022-09-16T00:00:00\",\"2022-09-19T00:00:00\",\"2022-09-20T00:00:00\",\"2022-09-21T00:00:00\",\"2022-09-22T00:00:00\",\"2022-09-23T00:00:00\",\"2022-09-26T00:00:00\",\"2022-09-27T00:00:00\",\"2022-09-28T00:00:00\",\"2022-09-29T00:00:00\",\"2022-09-30T00:00:00\",\"2022-10-03T00:00:00\",\"2022-10-04T00:00:00\",\"2022-10-05T00:00:00\",\"2022-10-06T00:00:00\",\"2022-10-07T00:00:00\",\"2022-10-10T00:00:00\",\"2022-10-11T00:00:00\",\"2022-10-12T00:00:00\",\"2022-10-13T00:00:00\",\"2022-10-14T00:00:00\",\"2022-10-17T00:00:00\",\"2022-10-18T00:00:00\",\"2022-10-19T00:00:00\",\"2022-10-20T00:00:00\",\"2022-10-21T00:00:00\",\"2022-10-24T00:00:00\",\"2022-10-25T00:00:00\",\"2022-10-26T00:00:00\",\"2022-10-27T00:00:00\",\"2022-10-28T00:00:00\",\"2022-10-31T00:00:00\",\"2022-11-02T00:00:00\",\"2022-11-03T00:00:00\",\"2022-11-04T00:00:00\",\"2022-11-07T00:00:00\",\"2022-11-08T00:00:00\",\"2022-11-09T00:00:00\",\"2022-11-10T00:00:00\",\"2022-11-14T00:00:00\",\"2022-11-15T00:00:00\",\"2022-11-16T00:00:00\",\"2022-11-17T00:00:00\",\"2022-11-18T00:00:00\",\"2022-11-21T00:00:00\",\"2022-11-22T00:00:00\",\"2022-11-23T00:00:00\",\"2022-11-24T00:00:00\",\"2022-11-25T00:00:00\",\"2022-11-28T00:00:00\",\"2022-11-29T00:00:00\",\"2022-11-30T00:00:00\",\"2022-12-01T00:00:00\",\"2022-12-02T00:00:00\",\"2022-12-05T00:00:00\",\"2022-12-06T00:00:00\",\"2022-12-07T00:00:00\",\"2022-12-08T00:00:00\",\"2022-12-09T00:00:00\",\"2022-12-12T00:00:00\",\"2022-12-13T00:00:00\",\"2022-12-14T00:00:00\",\"2022-12-15T00:00:00\",\"2022-12-16T00:00:00\",\"2022-12-19T00:00:00\",\"2022-12-20T00:00:00\",\"2022-12-21T00:00:00\",\"2022-12-22T00:00:00\",\"2022-12-23T00:00:00\",\"2022-12-26T00:00:00\",\"2022-12-27T00:00:00\",\"2022-12-28T00:00:00\",\"2022-12-29T00:00:00\",\"2022-12-30T00:00:00\"],\"y\":[9489.700000000012,3187.8799999999974,1813.0,4908.861999999994,795.6000000000058,4595.5999999999985,9307.5,9541.340944918862,7109.223999999995,4650.559999999998,3530.3039999999964,2530.1200000000026,1820.1100000000006,11134.667999999998,12.279999999998836,539.1999999999971,1010.0400000000009,866.6999999999971,3768.428,1364.1759999999995,9379.440000000002,4638.540000000001,19209.068,6852.5,190.67199999999866,4224.559999999998,1022.0899999999965,2211.933999999994,2499.199999999997,12378.239999999998,493.1600000000035,5264.470000000001,5851.671999999999,5274.779999999999,1177.4320000000007,4997.399999999994,5627.739999999998,7184.345999999998,5930.0,3025.6640000000043,7669.759999999995,15439.029999999999,2163.796000000002,5176.0,2879.0,4503.0,14407.0,4.0,2241.7000000000116,5049.080000000002,4446.0,6548.1470000000045,3140.3099999999977,3592.0499999999884,4764.080000000002,680.0,3464.5440000000017,6239.921999999999,53.95000000001164,1083.4000000000087,6188.5,3002.709999999999,1180.3799999999974,5404.100000000006,2508.479999999996,4715.5,5055.395000000004,5049.016000000003,10750.950000000012,15696.679999999993,3526.0,3924.639000000003,2554.608,2580.0,333.5,1525.5699999999997,855.0139999999956,10155.649999999994,59204.84,52066.0,12626.047999999995,3614.550000000003,3908.4400000000023,1548.5,9929.157999999996,8524.784000000007,10702.62000000001,7270.0,5536.239999999991,11479.488999999994,5132.502,2866.0,8634.919999999998,1694.1600000000035,978.8710000000137,7222.603999999999,8034.0,8127.419999999998,3803.479999999996,2386.028999999995,2789.837999999996,3763.0,1100.574999999997,2468.1150000000052,1679.3759999999966,280.62600000000384,3475.0,2027.449999999997,17891.380000000005,6982.351999999999,894.2590000000055,4577.0,7695.2699999999895,24236.319999999992,20794.34599999999,8915.112000000001],\"type\":\"scatter\"},{\"line\":{\"color\":\"#FF0000\"},\"name\":\"AbsError_Dry_LGBM\",\"showlegend\":true,\"x\":[\"2022-07-18T00:00:00\",\"2022-07-19T00:00:00\",\"2022-07-20T00:00:00\",\"2022-07-22T00:00:00\",\"2022-07-25T00:00:00\",\"2022-07-26T00:00:00\",\"2022-07-27T00:00:00\",\"2022-07-28T00:00:00\",\"2022-07-29T00:00:00\",\"2022-08-01T00:00:00\",\"2022-08-02T00:00:00\",\"2022-08-03T00:00:00\",\"2022-08-04T00:00:00\",\"2022-08-05T00:00:00\",\"2022-08-08T00:00:00\",\"2022-08-09T00:00:00\",\"2022-08-10T00:00:00\",\"2022-08-11T00:00:00\",\"2022-08-12T00:00:00\",\"2022-08-16T00:00:00\",\"2022-08-17T00:00:00\",\"2022-08-18T00:00:00\",\"2022-08-19T00:00:00\",\"2022-08-22T00:00:00\",\"2022-08-23T00:00:00\",\"2022-08-24T00:00:00\",\"2022-08-25T00:00:00\",\"2022-08-26T00:00:00\",\"2022-08-29T00:00:00\",\"2022-08-30T00:00:00\",\"2022-08-31T00:00:00\",\"2022-09-01T00:00:00\",\"2022-09-02T00:00:00\",\"2022-09-05T00:00:00\",\"2022-09-06T00:00:00\",\"2022-09-07T00:00:00\",\"2022-09-08T00:00:00\",\"2022-09-09T00:00:00\",\"2022-09-12T00:00:00\",\"2022-09-13T00:00:00\",\"2022-09-14T00:00:00\",\"2022-09-15T00:00:00\",\"2022-09-16T00:00:00\",\"2022-09-19T00:00:00\",\"2022-09-20T00:00:00\",\"2022-09-21T00:00:00\",\"2022-09-22T00:00:00\",\"2022-09-23T00:00:00\",\"2022-09-26T00:00:00\",\"2022-09-27T00:00:00\",\"2022-09-28T00:00:00\",\"2022-09-29T00:00:00\",\"2022-09-30T00:00:00\",\"2022-10-03T00:00:00\",\"2022-10-04T00:00:00\",\"2022-10-05T00:00:00\",\"2022-10-06T00:00:00\",\"2022-10-07T00:00:00\",\"2022-10-10T00:00:00\",\"2022-10-11T00:00:00\",\"2022-10-12T00:00:00\",\"2022-10-13T00:00:00\",\"2022-10-14T00:00:00\",\"2022-10-17T00:00:00\",\"2022-10-18T00:00:00\",\"2022-10-19T00:00:00\",\"2022-10-20T00:00:00\",\"2022-10-21T00:00:00\",\"2022-10-24T00:00:00\",\"2022-10-25T00:00:00\",\"2022-10-26T00:00:00\",\"2022-10-27T00:00:00\",\"2022-10-28T00:00:00\",\"2022-10-31T00:00:00\",\"2022-11-02T00:00:00\",\"2022-11-03T00:00:00\",\"2022-11-04T00:00:00\",\"2022-11-07T00:00:00\",\"2022-11-08T00:00:00\",\"2022-11-09T00:00:00\",\"2022-11-10T00:00:00\",\"2022-11-14T00:00:00\",\"2022-11-15T00:00:00\",\"2022-11-16T00:00:00\",\"2022-11-17T00:00:00\",\"2022-11-18T00:00:00\",\"2022-11-21T00:00:00\",\"2022-11-22T00:00:00\",\"2022-11-23T00:00:00\",\"2022-11-24T00:00:00\",\"2022-11-25T00:00:00\",\"2022-11-28T00:00:00\",\"2022-11-29T00:00:00\",\"2022-11-30T00:00:00\",\"2022-12-01T00:00:00\",\"2022-12-02T00:00:00\",\"2022-12-05T00:00:00\",\"2022-12-06T00:00:00\",\"2022-12-07T00:00:00\",\"2022-12-08T00:00:00\",\"2022-12-09T00:00:00\",\"2022-12-12T00:00:00\",\"2022-12-13T00:00:00\",\"2022-12-14T00:00:00\",\"2022-12-15T00:00:00\",\"2022-12-16T00:00:00\",\"2022-12-19T00:00:00\",\"2022-12-20T00:00:00\",\"2022-12-21T00:00:00\",\"2022-12-22T00:00:00\",\"2022-12-23T00:00:00\",\"2022-12-26T00:00:00\",\"2022-12-27T00:00:00\",\"2022-12-28T00:00:00\",\"2022-12-29T00:00:00\",\"2022-12-30T00:00:00\"],\"y\":[37133.911605371235,51915.95913994266,43478.883037925756,55333.6725854572,21536.03697092882,43711.923169277856,53281.07746861297,62336.07746861297,50065.11259413065,19590.933577620934,36048.252739816424,41714.3936105398,56268.36477544076,46586.557333114106,22878.352239801854,34739.62335900492,42392.11025646467,49086.69996417465,45918.13585255563,16439.904050009092,21473.23898760321,27547.006879088905,17413.661983748185,51967.06377877106,14379.631893292826,34810.449394656534,29296.14387098384,28066.785304967867,53924.78510553941,3054.897011793888,10753.577238181242,27280.901554448355,23574.354536909566,10817.6651521022,12271.92614546718,11102.90099788335,27176.147643481454,20846.221541455132,64219.733590656615,18855.339487067133,31931.01057070984,52418.57623692497,40859.86569612872,12017.810276268792,23989.66229162937,31026.218773562476,55249.654490501445,47713.723926590246,7804.034776164626,31525.814355433657,25460.907847741764,44153.56045942355,41675.13818108324,3214.591250099271,19167.570710452303,32754.62206977693,34812.14507301366,38854.14079497426,557.8093480522657,23360.223297196484,27253.675670343146,40681.235786038305,40269.61122263767,3942.8076038067084,16671.391973989405,30651.406111210206,43432.950499835264,44675.86588000484,12202.415432951471,37402.880043014724,34078.8060696679,43906.11836592086,46009.12115234684,14780.552392534417,20700.211960633867,34958.95775547004,1718.4167030865647,4354.383809323408,93868.11773874522,77182.16072820587,2085.6633308574674,1205.9831632511487,24781.14689224206,12885.967910560139,11163.110530830949,48764.920880294216,12320.933923116507,32977.9172102733,25645.694687157767,52275.099964583584,44082.69468715777,68316.82853405082,14207.638229807359,8010.654460491991,23487.171465949184,13293.298006970057,2554.4574568373646,5362.071755063094,18664.644417839925,27782.859087772915,27758.47889721561,29138.973742106406,17257.01821861435,19792.01821861435,33217.551974764065,41283.19486907621,19531.33356599517,5038.586527375432,25975.387636517582,14959.257966422025,24757.63347129921,7365.239288015669,22763.281590049155,41639.02378278735,37073.647126546624,22107.352251456905],\"type\":\"scatter\"},{\"line\":{\"color\":\"#000099\",\"dash\":\"dash\",\"width\":0.5},\"mode\":\"lines\",\"name\":\"Outside_range_Dry_WOW\",\"showlegend\":true,\"x\":[\"2022-07-18T00:00:00\",\"2022-07-18T00:00:00\"],\"y\":[4.0,59204.84],\"type\":\"scatter\"},{\"line\":{\"color\":\"#000099\",\"dash\":\"dash\",\"width\":0.5},\"mode\":\"lines\",\"name\":\"Outside_range_Dry_WOW\",\"showlegend\":false,\"x\":[\"2022-07-22T00:00:00\",\"2022-07-22T00:00:00\"],\"y\":[4.0,59204.84],\"type\":\"scatter\"},{\"line\":{\"color\":\"#000099\",\"dash\":\"dash\",\"width\":0.5},\"mode\":\"lines\",\"name\":\"Outside_range_Dry_WOW\",\"showlegend\":false,\"x\":[\"2022-07-27T00:00:00\",\"2022-07-27T00:00:00\"],\"y\":[4.0,59204.84],\"type\":\"scatter\"},{\"line\":{\"color\":\"#000099\",\"dash\":\"dash\",\"width\":0.5},\"mode\":\"lines\",\"name\":\"Outside_range_Dry_WOW\",\"showlegend\":false,\"x\":[\"2022-07-28T00:00:00\",\"2022-07-28T00:00:00\"],\"y\":[4.0,59204.84],\"type\":\"scatter\"},{\"line\":{\"color\":\"#000099\",\"dash\":\"dash\",\"width\":0.5},\"mode\":\"lines\",\"name\":\"Outside_range_Dry_WOW\",\"showlegend\":false,\"x\":[\"2022-07-29T00:00:00\",\"2022-07-29T00:00:00\"],\"y\":[4.0,59204.84],\"type\":\"scatter\"},{\"line\":{\"color\":\"#000099\",\"dash\":\"dash\",\"width\":0.5},\"mode\":\"lines\",\"name\":\"Outside_range_Dry_WOW\",\"showlegend\":false,\"x\":[\"2022-08-05T00:00:00\",\"2022-08-05T00:00:00\"],\"y\":[4.0,59204.84],\"type\":\"scatter\"},{\"line\":{\"color\":\"#000099\",\"dash\":\"dash\",\"width\":0.5},\"mode\":\"lines\",\"name\":\"Outside_range_Dry_WOW\",\"showlegend\":false,\"x\":[\"2022-08-17T00:00:00\",\"2022-08-17T00:00:00\"],\"y\":[4.0,59204.84],\"type\":\"scatter\"},{\"line\":{\"color\":\"#000099\",\"dash\":\"dash\",\"width\":0.5},\"mode\":\"lines\",\"name\":\"Outside_range_Dry_WOW\",\"showlegend\":false,\"x\":[\"2022-08-19T00:00:00\",\"2022-08-19T00:00:00\"],\"y\":[4.0,59204.84],\"type\":\"scatter\"},{\"line\":{\"color\":\"#000099\",\"dash\":\"dash\",\"width\":0.5},\"mode\":\"lines\",\"name\":\"Outside_range_Dry_WOW\",\"showlegend\":false,\"x\":[\"2022-08-30T00:00:00\",\"2022-08-30T00:00:00\"],\"y\":[4.0,59204.84],\"type\":\"scatter\"},{\"line\":{\"color\":\"#000099\",\"dash\":\"dash\",\"width\":0.5},\"mode\":\"lines\",\"name\":\"Outside_range_Dry_WOW\",\"showlegend\":false,\"x\":[\"2022-09-01T00:00:00\",\"2022-09-01T00:00:00\"],\"y\":[4.0,59204.84],\"type\":\"scatter\"},{\"line\":{\"color\":\"#000099\",\"dash\":\"dash\",\"width\":0.5},\"mode\":\"lines\",\"name\":\"Outside_range_Dry_WOW\",\"showlegend\":false,\"x\":[\"2022-09-02T00:00:00\",\"2022-09-02T00:00:00\"],\"y\":[4.0,59204.84],\"type\":\"scatter\"},{\"line\":{\"color\":\"#000099\",\"dash\":\"dash\",\"width\":0.5},\"mode\":\"lines\",\"name\":\"Outside_range_Dry_WOW\",\"showlegend\":false,\"x\":[\"2022-09-09T00:00:00\",\"2022-09-09T00:00:00\"],\"y\":[4.0,59204.84],\"type\":\"scatter\"},{\"line\":{\"color\":\"#000099\",\"dash\":\"dash\",\"width\":0.5},\"mode\":\"lines\",\"name\":\"Outside_range_Dry_WOW\",\"showlegend\":false,\"x\":[\"2022-09-14T00:00:00\",\"2022-09-14T00:00:00\"],\"y\":[4.0,59204.84],\"type\":\"scatter\"},{\"line\":{\"color\":\"#000099\",\"dash\":\"dash\",\"width\":0.5},\"mode\":\"lines\",\"name\":\"Outside_range_Dry_WOW\",\"showlegend\":false,\"x\":[\"2022-09-15T00:00:00\",\"2022-09-15T00:00:00\"],\"y\":[4.0,59204.84],\"type\":\"scatter\"},{\"line\":{\"color\":\"#000099\",\"dash\":\"dash\",\"width\":0.5},\"mode\":\"lines\",\"name\":\"Outside_range_Dry_WOW\",\"showlegend\":false,\"x\":[\"2022-09-22T00:00:00\",\"2022-09-22T00:00:00\"],\"y\":[4.0,59204.84],\"type\":\"scatter\"},{\"line\":{\"color\":\"#000099\",\"dash\":\"dash\",\"width\":0.5},\"mode\":\"lines\",\"name\":\"Outside_range_Dry_WOW\",\"showlegend\":false,\"x\":[\"2022-09-29T00:00:00\",\"2022-09-29T00:00:00\"],\"y\":[4.0,59204.84],\"type\":\"scatter\"},{\"line\":{\"color\":\"#000099\",\"dash\":\"dash\",\"width\":0.5},\"mode\":\"lines\",\"name\":\"Outside_range_Dry_WOW\",\"showlegend\":false,\"x\":[\"2022-10-07T00:00:00\",\"2022-10-07T00:00:00\"],\"y\":[4.0,59204.84],\"type\":\"scatter\"},{\"line\":{\"color\":\"#000099\",\"dash\":\"dash\",\"width\":0.5},\"mode\":\"lines\",\"name\":\"Outside_range_Dry_WOW\",\"showlegend\":false,\"x\":[\"2022-10-12T00:00:00\",\"2022-10-12T00:00:00\"],\"y\":[4.0,59204.84],\"type\":\"scatter\"},{\"line\":{\"color\":\"#000099\",\"dash\":\"dash\",\"width\":0.5},\"mode\":\"lines\",\"name\":\"Outside_range_Dry_WOW\",\"showlegend\":false,\"x\":[\"2022-10-21T00:00:00\",\"2022-10-21T00:00:00\"],\"y\":[4.0,59204.84],\"type\":\"scatter\"},{\"line\":{\"color\":\"#000099\",\"dash\":\"dash\",\"width\":0.5},\"mode\":\"lines\",\"name\":\"Outside_range_Dry_WOW\",\"showlegend\":false,\"x\":[\"2022-10-24T00:00:00\",\"2022-10-24T00:00:00\"],\"y\":[4.0,59204.84],\"type\":\"scatter\"},{\"line\":{\"color\":\"#000099\",\"dash\":\"dash\",\"width\":0.5},\"mode\":\"lines\",\"name\":\"Outside_range_Dry_WOW\",\"showlegend\":false,\"x\":[\"2022-10-25T00:00:00\",\"2022-10-25T00:00:00\"],\"y\":[4.0,59204.84],\"type\":\"scatter\"},{\"line\":{\"color\":\"#000099\",\"dash\":\"dash\",\"width\":0.5},\"mode\":\"lines\",\"name\":\"Outside_range_Dry_WOW\",\"showlegend\":false,\"x\":[\"2022-11-07T00:00:00\",\"2022-11-07T00:00:00\"],\"y\":[4.0,59204.84],\"type\":\"scatter\"},{\"line\":{\"color\":\"#000099\",\"dash\":\"dash\",\"width\":0.5},\"mode\":\"lines\",\"name\":\"Outside_range_Dry_WOW\",\"showlegend\":false,\"x\":[\"2022-11-08T00:00:00\",\"2022-11-08T00:00:00\"],\"y\":[4.0,59204.84],\"type\":\"scatter\"},{\"line\":{\"color\":\"#000099\",\"dash\":\"dash\",\"width\":0.5},\"mode\":\"lines\",\"name\":\"Outside_range_Dry_WOW\",\"showlegend\":false,\"x\":[\"2022-11-09T00:00:00\",\"2022-11-09T00:00:00\"],\"y\":[4.0,59204.84],\"type\":\"scatter\"},{\"line\":{\"color\":\"#000099\",\"dash\":\"dash\",\"width\":0.5},\"mode\":\"lines\",\"name\":\"Outside_range_Dry_WOW\",\"showlegend\":false,\"x\":[\"2022-11-10T00:00:00\",\"2022-11-10T00:00:00\"],\"y\":[4.0,59204.84],\"type\":\"scatter\"},{\"line\":{\"color\":\"#000099\",\"dash\":\"dash\",\"width\":0.5},\"mode\":\"lines\",\"name\":\"Outside_range_Dry_WOW\",\"showlegend\":false,\"x\":[\"2022-11-17T00:00:00\",\"2022-11-17T00:00:00\"],\"y\":[4.0,59204.84],\"type\":\"scatter\"},{\"line\":{\"color\":\"#000099\",\"dash\":\"dash\",\"width\":0.5},\"mode\":\"lines\",\"name\":\"Outside_range_Dry_WOW\",\"showlegend\":false,\"x\":[\"2022-11-18T00:00:00\",\"2022-11-18T00:00:00\"],\"y\":[4.0,59204.84],\"type\":\"scatter\"},{\"line\":{\"color\":\"#000099\",\"dash\":\"dash\",\"width\":0.5},\"mode\":\"lines\",\"name\":\"Outside_range_Dry_WOW\",\"showlegend\":false,\"x\":[\"2022-11-22T00:00:00\",\"2022-11-22T00:00:00\"],\"y\":[4.0,59204.84],\"type\":\"scatter\"},{\"line\":{\"color\":\"#000099\",\"dash\":\"dash\",\"width\":0.5},\"mode\":\"lines\",\"name\":\"Outside_range_Dry_WOW\",\"showlegend\":false,\"x\":[\"2022-11-24T00:00:00\",\"2022-11-24T00:00:00\"],\"y\":[4.0,59204.84],\"type\":\"scatter\"},{\"line\":{\"color\":\"#000099\",\"dash\":\"dash\",\"width\":0.5},\"mode\":\"lines\",\"name\":\"Outside_range_Dry_WOW\",\"showlegend\":false,\"x\":[\"2022-11-25T00:00:00\",\"2022-11-25T00:00:00\"],\"y\":[4.0,59204.84],\"type\":\"scatter\"},{\"line\":{\"color\":\"#000099\",\"dash\":\"dash\",\"width\":0.5},\"mode\":\"lines\",\"name\":\"Outside_range_Dry_WOW\",\"showlegend\":false,\"x\":[\"2022-11-29T00:00:00\",\"2022-11-29T00:00:00\"],\"y\":[4.0,59204.84],\"type\":\"scatter\"},{\"line\":{\"color\":\"#000099\",\"dash\":\"dash\",\"width\":0.5},\"mode\":\"lines\",\"name\":\"Outside_range_Dry_WOW\",\"showlegend\":false,\"x\":[\"2022-12-02T00:00:00\",\"2022-12-02T00:00:00\"],\"y\":[4.0,59204.84],\"type\":\"scatter\"},{\"line\":{\"color\":\"#000099\",\"dash\":\"dash\",\"width\":0.5},\"mode\":\"lines\",\"name\":\"Outside_range_Dry_WOW\",\"showlegend\":false,\"x\":[\"2022-12-06T00:00:00\",\"2022-12-06T00:00:00\"],\"y\":[4.0,59204.84],\"type\":\"scatter\"},{\"line\":{\"color\":\"#000099\",\"dash\":\"dash\",\"width\":0.5},\"mode\":\"lines\",\"name\":\"Outside_range_Dry_WOW\",\"showlegend\":false,\"x\":[\"2022-12-21T00:00:00\",\"2022-12-21T00:00:00\"],\"y\":[4.0,59204.84],\"type\":\"scatter\"},{\"line\":{\"color\":\"#000099\",\"dash\":\"dash\",\"width\":0.5},\"mode\":\"lines\",\"name\":\"Outside_range_Dry_WOW\",\"showlegend\":false,\"x\":[\"2022-12-22T00:00:00\",\"2022-12-22T00:00:00\"],\"y\":[4.0,59204.84],\"type\":\"scatter\"},{\"line\":{\"color\":\"#000099\",\"dash\":\"dash\",\"width\":0.5},\"mode\":\"lines\",\"name\":\"Outside_range_Dry_WOW\",\"showlegend\":false,\"x\":[\"2022-12-27T00:00:00\",\"2022-12-27T00:00:00\"],\"y\":[4.0,59204.84],\"type\":\"scatter\"},{\"line\":{\"color\":\"#000099\",\"dash\":\"dash\",\"width\":0.5},\"mode\":\"lines\",\"name\":\"Outside_range_Dry_WOW\",\"showlegend\":false,\"x\":[\"2022-12-28T00:00:00\",\"2022-12-28T00:00:00\"],\"y\":[4.0,59204.84],\"type\":\"scatter\"},{\"line\":{\"color\":\"#000099\",\"dash\":\"dash\",\"width\":0.5},\"mode\":\"lines\",\"name\":\"Outside_range_Dry_WOW\",\"showlegend\":false,\"x\":[\"2022-12-29T00:00:00\",\"2022-12-29T00:00:00\"],\"y\":[4.0,59204.84],\"type\":\"scatter\"},{\"line\":{\"color\":\"#000099\",\"dash\":\"dash\",\"width\":0.5},\"mode\":\"lines\",\"name\":\"Outside_range_Dry_WOW\",\"showlegend\":false,\"x\":[\"2022-12-30T00:00:00\",\"2022-12-30T00:00:00\"],\"y\":[4.0,59204.84],\"type\":\"scatter\"},{\"line\":{\"color\":\"#990000\",\"dash\":\"dash\",\"width\":0.5},\"mode\":\"lines\",\"name\":\"Outside_range_Dry_LGBM\",\"showlegend\":true,\"x\":[\"2022-07-18T00:00:00\",\"2022-07-18T00:00:00\"],\"y\":[557.8093480522657,93868.11773874522],\"type\":\"scatter\"},{\"line\":{\"color\":\"#990000\",\"dash\":\"dash\",\"width\":0.5},\"mode\":\"lines\",\"name\":\"Outside_range_Dry_LGBM\",\"showlegend\":false,\"x\":[\"2022-07-19T00:00:00\",\"2022-07-19T00:00:00\"],\"y\":[557.8093480522657,93868.11773874522],\"type\":\"scatter\"},{\"line\":{\"color\":\"#990000\",\"dash\":\"dash\",\"width\":0.5},\"mode\":\"lines\",\"name\":\"Outside_range_Dry_LGBM\",\"showlegend\":false,\"x\":[\"2022-07-20T00:00:00\",\"2022-07-20T00:00:00\"],\"y\":[557.8093480522657,93868.11773874522],\"type\":\"scatter\"},{\"line\":{\"color\":\"#990000\",\"dash\":\"dash\",\"width\":0.5},\"mode\":\"lines\",\"name\":\"Outside_range_Dry_LGBM\",\"showlegend\":false,\"x\":[\"2022-07-22T00:00:00\",\"2022-07-22T00:00:00\"],\"y\":[557.8093480522657,93868.11773874522],\"type\":\"scatter\"},{\"line\":{\"color\":\"#990000\",\"dash\":\"dash\",\"width\":0.5},\"mode\":\"lines\",\"name\":\"Outside_range_Dry_LGBM\",\"showlegend\":false,\"x\":[\"2022-07-25T00:00:00\",\"2022-07-25T00:00:00\"],\"y\":[557.8093480522657,93868.11773874522],\"type\":\"scatter\"},{\"line\":{\"color\":\"#990000\",\"dash\":\"dash\",\"width\":0.5},\"mode\":\"lines\",\"name\":\"Outside_range_Dry_LGBM\",\"showlegend\":false,\"x\":[\"2022-07-26T00:00:00\",\"2022-07-26T00:00:00\"],\"y\":[557.8093480522657,93868.11773874522],\"type\":\"scatter\"},{\"line\":{\"color\":\"#990000\",\"dash\":\"dash\",\"width\":0.5},\"mode\":\"lines\",\"name\":\"Outside_range_Dry_LGBM\",\"showlegend\":false,\"x\":[\"2022-07-27T00:00:00\",\"2022-07-27T00:00:00\"],\"y\":[557.8093480522657,93868.11773874522],\"type\":\"scatter\"},{\"line\":{\"color\":\"#990000\",\"dash\":\"dash\",\"width\":0.5},\"mode\":\"lines\",\"name\":\"Outside_range_Dry_LGBM\",\"showlegend\":false,\"x\":[\"2022-07-28T00:00:00\",\"2022-07-28T00:00:00\"],\"y\":[557.8093480522657,93868.11773874522],\"type\":\"scatter\"},{\"line\":{\"color\":\"#990000\",\"dash\":\"dash\",\"width\":0.5},\"mode\":\"lines\",\"name\":\"Outside_range_Dry_LGBM\",\"showlegend\":false,\"x\":[\"2022-07-29T00:00:00\",\"2022-07-29T00:00:00\"],\"y\":[557.8093480522657,93868.11773874522],\"type\":\"scatter\"},{\"line\":{\"color\":\"#990000\",\"dash\":\"dash\",\"width\":0.5},\"mode\":\"lines\",\"name\":\"Outside_range_Dry_LGBM\",\"showlegend\":false,\"x\":[\"2022-08-01T00:00:00\",\"2022-08-01T00:00:00\"],\"y\":[557.8093480522657,93868.11773874522],\"type\":\"scatter\"},{\"line\":{\"color\":\"#990000\",\"dash\":\"dash\",\"width\":0.5},\"mode\":\"lines\",\"name\":\"Outside_range_Dry_LGBM\",\"showlegend\":false,\"x\":[\"2022-08-02T00:00:00\",\"2022-08-02T00:00:00\"],\"y\":[557.8093480522657,93868.11773874522],\"type\":\"scatter\"},{\"line\":{\"color\":\"#990000\",\"dash\":\"dash\",\"width\":0.5},\"mode\":\"lines\",\"name\":\"Outside_range_Dry_LGBM\",\"showlegend\":false,\"x\":[\"2022-08-03T00:00:00\",\"2022-08-03T00:00:00\"],\"y\":[557.8093480522657,93868.11773874522],\"type\":\"scatter\"},{\"line\":{\"color\":\"#990000\",\"dash\":\"dash\",\"width\":0.5},\"mode\":\"lines\",\"name\":\"Outside_range_Dry_LGBM\",\"showlegend\":false,\"x\":[\"2022-08-04T00:00:00\",\"2022-08-04T00:00:00\"],\"y\":[557.8093480522657,93868.11773874522],\"type\":\"scatter\"},{\"line\":{\"color\":\"#990000\",\"dash\":\"dash\",\"width\":0.5},\"mode\":\"lines\",\"name\":\"Outside_range_Dry_LGBM\",\"showlegend\":false,\"x\":[\"2022-08-05T00:00:00\",\"2022-08-05T00:00:00\"],\"y\":[557.8093480522657,93868.11773874522],\"type\":\"scatter\"},{\"line\":{\"color\":\"#990000\",\"dash\":\"dash\",\"width\":0.5},\"mode\":\"lines\",\"name\":\"Outside_range_Dry_LGBM\",\"showlegend\":false,\"x\":[\"2022-08-08T00:00:00\",\"2022-08-08T00:00:00\"],\"y\":[557.8093480522657,93868.11773874522],\"type\":\"scatter\"},{\"line\":{\"color\":\"#990000\",\"dash\":\"dash\",\"width\":0.5},\"mode\":\"lines\",\"name\":\"Outside_range_Dry_LGBM\",\"showlegend\":false,\"x\":[\"2022-08-09T00:00:00\",\"2022-08-09T00:00:00\"],\"y\":[557.8093480522657,93868.11773874522],\"type\":\"scatter\"},{\"line\":{\"color\":\"#990000\",\"dash\":\"dash\",\"width\":0.5},\"mode\":\"lines\",\"name\":\"Outside_range_Dry_LGBM\",\"showlegend\":false,\"x\":[\"2022-08-10T00:00:00\",\"2022-08-10T00:00:00\"],\"y\":[557.8093480522657,93868.11773874522],\"type\":\"scatter\"},{\"line\":{\"color\":\"#990000\",\"dash\":\"dash\",\"width\":0.5},\"mode\":\"lines\",\"name\":\"Outside_range_Dry_LGBM\",\"showlegend\":false,\"x\":[\"2022-08-11T00:00:00\",\"2022-08-11T00:00:00\"],\"y\":[557.8093480522657,93868.11773874522],\"type\":\"scatter\"},{\"line\":{\"color\":\"#990000\",\"dash\":\"dash\",\"width\":0.5},\"mode\":\"lines\",\"name\":\"Outside_range_Dry_LGBM\",\"showlegend\":false,\"x\":[\"2022-08-12T00:00:00\",\"2022-08-12T00:00:00\"],\"y\":[557.8093480522657,93868.11773874522],\"type\":\"scatter\"},{\"line\":{\"color\":\"#990000\",\"dash\":\"dash\",\"width\":0.5},\"mode\":\"lines\",\"name\":\"Outside_range_Dry_LGBM\",\"showlegend\":false,\"x\":[\"2022-08-16T00:00:00\",\"2022-08-16T00:00:00\"],\"y\":[557.8093480522657,93868.11773874522],\"type\":\"scatter\"},{\"line\":{\"color\":\"#990000\",\"dash\":\"dash\",\"width\":0.5},\"mode\":\"lines\",\"name\":\"Outside_range_Dry_LGBM\",\"showlegend\":false,\"x\":[\"2022-08-17T00:00:00\",\"2022-08-17T00:00:00\"],\"y\":[557.8093480522657,93868.11773874522],\"type\":\"scatter\"},{\"line\":{\"color\":\"#990000\",\"dash\":\"dash\",\"width\":0.5},\"mode\":\"lines\",\"name\":\"Outside_range_Dry_LGBM\",\"showlegend\":false,\"x\":[\"2022-08-18T00:00:00\",\"2022-08-18T00:00:00\"],\"y\":[557.8093480522657,93868.11773874522],\"type\":\"scatter\"},{\"line\":{\"color\":\"#990000\",\"dash\":\"dash\",\"width\":0.5},\"mode\":\"lines\",\"name\":\"Outside_range_Dry_LGBM\",\"showlegend\":false,\"x\":[\"2022-08-19T00:00:00\",\"2022-08-19T00:00:00\"],\"y\":[557.8093480522657,93868.11773874522],\"type\":\"scatter\"},{\"line\":{\"color\":\"#990000\",\"dash\":\"dash\",\"width\":0.5},\"mode\":\"lines\",\"name\":\"Outside_range_Dry_LGBM\",\"showlegend\":false,\"x\":[\"2022-08-22T00:00:00\",\"2022-08-22T00:00:00\"],\"y\":[557.8093480522657,93868.11773874522],\"type\":\"scatter\"},{\"line\":{\"color\":\"#990000\",\"dash\":\"dash\",\"width\":0.5},\"mode\":\"lines\",\"name\":\"Outside_range_Dry_LGBM\",\"showlegend\":false,\"x\":[\"2022-08-23T00:00:00\",\"2022-08-23T00:00:00\"],\"y\":[557.8093480522657,93868.11773874522],\"type\":\"scatter\"},{\"line\":{\"color\":\"#990000\",\"dash\":\"dash\",\"width\":0.5},\"mode\":\"lines\",\"name\":\"Outside_range_Dry_LGBM\",\"showlegend\":false,\"x\":[\"2022-08-24T00:00:00\",\"2022-08-24T00:00:00\"],\"y\":[557.8093480522657,93868.11773874522],\"type\":\"scatter\"},{\"line\":{\"color\":\"#990000\",\"dash\":\"dash\",\"width\":0.5},\"mode\":\"lines\",\"name\":\"Outside_range_Dry_LGBM\",\"showlegend\":false,\"x\":[\"2022-08-25T00:00:00\",\"2022-08-25T00:00:00\"],\"y\":[557.8093480522657,93868.11773874522],\"type\":\"scatter\"},{\"line\":{\"color\":\"#990000\",\"dash\":\"dash\",\"width\":0.5},\"mode\":\"lines\",\"name\":\"Outside_range_Dry_LGBM\",\"showlegend\":false,\"x\":[\"2022-08-26T00:00:00\",\"2022-08-26T00:00:00\"],\"y\":[557.8093480522657,93868.11773874522],\"type\":\"scatter\"},{\"line\":{\"color\":\"#990000\",\"dash\":\"dash\",\"width\":0.5},\"mode\":\"lines\",\"name\":\"Outside_range_Dry_LGBM\",\"showlegend\":false,\"x\":[\"2022-08-29T00:00:00\",\"2022-08-29T00:00:00\"],\"y\":[557.8093480522657,93868.11773874522],\"type\":\"scatter\"},{\"line\":{\"color\":\"#990000\",\"dash\":\"dash\",\"width\":0.5},\"mode\":\"lines\",\"name\":\"Outside_range_Dry_LGBM\",\"showlegend\":false,\"x\":[\"2022-08-31T00:00:00\",\"2022-08-31T00:00:00\"],\"y\":[557.8093480522657,93868.11773874522],\"type\":\"scatter\"},{\"line\":{\"color\":\"#990000\",\"dash\":\"dash\",\"width\":0.5},\"mode\":\"lines\",\"name\":\"Outside_range_Dry_LGBM\",\"showlegend\":false,\"x\":[\"2022-09-01T00:00:00\",\"2022-09-01T00:00:00\"],\"y\":[557.8093480522657,93868.11773874522],\"type\":\"scatter\"},{\"line\":{\"color\":\"#990000\",\"dash\":\"dash\",\"width\":0.5},\"mode\":\"lines\",\"name\":\"Outside_range_Dry_LGBM\",\"showlegend\":false,\"x\":[\"2022-09-02T00:00:00\",\"2022-09-02T00:00:00\"],\"y\":[557.8093480522657,93868.11773874522],\"type\":\"scatter\"},{\"line\":{\"color\":\"#990000\",\"dash\":\"dash\",\"width\":0.5},\"mode\":\"lines\",\"name\":\"Outside_range_Dry_LGBM\",\"showlegend\":false,\"x\":[\"2022-09-05T00:00:00\",\"2022-09-05T00:00:00\"],\"y\":[557.8093480522657,93868.11773874522],\"type\":\"scatter\"},{\"line\":{\"color\":\"#990000\",\"dash\":\"dash\",\"width\":0.5},\"mode\":\"lines\",\"name\":\"Outside_range_Dry_LGBM\",\"showlegend\":false,\"x\":[\"2022-09-06T00:00:00\",\"2022-09-06T00:00:00\"],\"y\":[557.8093480522657,93868.11773874522],\"type\":\"scatter\"},{\"line\":{\"color\":\"#990000\",\"dash\":\"dash\",\"width\":0.5},\"mode\":\"lines\",\"name\":\"Outside_range_Dry_LGBM\",\"showlegend\":false,\"x\":[\"2022-09-07T00:00:00\",\"2022-09-07T00:00:00\"],\"y\":[557.8093480522657,93868.11773874522],\"type\":\"scatter\"},{\"line\":{\"color\":\"#990000\",\"dash\":\"dash\",\"width\":0.5},\"mode\":\"lines\",\"name\":\"Outside_range_Dry_LGBM\",\"showlegend\":false,\"x\":[\"2022-09-08T00:00:00\",\"2022-09-08T00:00:00\"],\"y\":[557.8093480522657,93868.11773874522],\"type\":\"scatter\"},{\"line\":{\"color\":\"#990000\",\"dash\":\"dash\",\"width\":0.5},\"mode\":\"lines\",\"name\":\"Outside_range_Dry_LGBM\",\"showlegend\":false,\"x\":[\"2022-09-09T00:00:00\",\"2022-09-09T00:00:00\"],\"y\":[557.8093480522657,93868.11773874522],\"type\":\"scatter\"},{\"line\":{\"color\":\"#990000\",\"dash\":\"dash\",\"width\":0.5},\"mode\":\"lines\",\"name\":\"Outside_range_Dry_LGBM\",\"showlegend\":false,\"x\":[\"2022-09-12T00:00:00\",\"2022-09-12T00:00:00\"],\"y\":[557.8093480522657,93868.11773874522],\"type\":\"scatter\"},{\"line\":{\"color\":\"#990000\",\"dash\":\"dash\",\"width\":0.5},\"mode\":\"lines\",\"name\":\"Outside_range_Dry_LGBM\",\"showlegend\":false,\"x\":[\"2022-09-13T00:00:00\",\"2022-09-13T00:00:00\"],\"y\":[557.8093480522657,93868.11773874522],\"type\":\"scatter\"},{\"line\":{\"color\":\"#990000\",\"dash\":\"dash\",\"width\":0.5},\"mode\":\"lines\",\"name\":\"Outside_range_Dry_LGBM\",\"showlegend\":false,\"x\":[\"2022-09-14T00:00:00\",\"2022-09-14T00:00:00\"],\"y\":[557.8093480522657,93868.11773874522],\"type\":\"scatter\"},{\"line\":{\"color\":\"#990000\",\"dash\":\"dash\",\"width\":0.5},\"mode\":\"lines\",\"name\":\"Outside_range_Dry_LGBM\",\"showlegend\":false,\"x\":[\"2022-09-15T00:00:00\",\"2022-09-15T00:00:00\"],\"y\":[557.8093480522657,93868.11773874522],\"type\":\"scatter\"},{\"line\":{\"color\":\"#990000\",\"dash\":\"dash\",\"width\":0.5},\"mode\":\"lines\",\"name\":\"Outside_range_Dry_LGBM\",\"showlegend\":false,\"x\":[\"2022-09-16T00:00:00\",\"2022-09-16T00:00:00\"],\"y\":[557.8093480522657,93868.11773874522],\"type\":\"scatter\"},{\"line\":{\"color\":\"#990000\",\"dash\":\"dash\",\"width\":0.5},\"mode\":\"lines\",\"name\":\"Outside_range_Dry_LGBM\",\"showlegend\":false,\"x\":[\"2022-09-19T00:00:00\",\"2022-09-19T00:00:00\"],\"y\":[557.8093480522657,93868.11773874522],\"type\":\"scatter\"},{\"line\":{\"color\":\"#990000\",\"dash\":\"dash\",\"width\":0.5},\"mode\":\"lines\",\"name\":\"Outside_range_Dry_LGBM\",\"showlegend\":false,\"x\":[\"2022-09-20T00:00:00\",\"2022-09-20T00:00:00\"],\"y\":[557.8093480522657,93868.11773874522],\"type\":\"scatter\"},{\"line\":{\"color\":\"#990000\",\"dash\":\"dash\",\"width\":0.5},\"mode\":\"lines\",\"name\":\"Outside_range_Dry_LGBM\",\"showlegend\":false,\"x\":[\"2022-09-21T00:00:00\",\"2022-09-21T00:00:00\"],\"y\":[557.8093480522657,93868.11773874522],\"type\":\"scatter\"},{\"line\":{\"color\":\"#990000\",\"dash\":\"dash\",\"width\":0.5},\"mode\":\"lines\",\"name\":\"Outside_range_Dry_LGBM\",\"showlegend\":false,\"x\":[\"2022-09-22T00:00:00\",\"2022-09-22T00:00:00\"],\"y\":[557.8093480522657,93868.11773874522],\"type\":\"scatter\"},{\"line\":{\"color\":\"#990000\",\"dash\":\"dash\",\"width\":0.5},\"mode\":\"lines\",\"name\":\"Outside_range_Dry_LGBM\",\"showlegend\":false,\"x\":[\"2022-09-23T00:00:00\",\"2022-09-23T00:00:00\"],\"y\":[557.8093480522657,93868.11773874522],\"type\":\"scatter\"},{\"line\":{\"color\":\"#990000\",\"dash\":\"dash\",\"width\":0.5},\"mode\":\"lines\",\"name\":\"Outside_range_Dry_LGBM\",\"showlegend\":false,\"x\":[\"2022-09-27T00:00:00\",\"2022-09-27T00:00:00\"],\"y\":[557.8093480522657,93868.11773874522],\"type\":\"scatter\"},{\"line\":{\"color\":\"#990000\",\"dash\":\"dash\",\"width\":0.5},\"mode\":\"lines\",\"name\":\"Outside_range_Dry_LGBM\",\"showlegend\":false,\"x\":[\"2022-09-28T00:00:00\",\"2022-09-28T00:00:00\"],\"y\":[557.8093480522657,93868.11773874522],\"type\":\"scatter\"},{\"line\":{\"color\":\"#990000\",\"dash\":\"dash\",\"width\":0.5},\"mode\":\"lines\",\"name\":\"Outside_range_Dry_LGBM\",\"showlegend\":false,\"x\":[\"2022-09-29T00:00:00\",\"2022-09-29T00:00:00\"],\"y\":[557.8093480522657,93868.11773874522],\"type\":\"scatter\"},{\"line\":{\"color\":\"#990000\",\"dash\":\"dash\",\"width\":0.5},\"mode\":\"lines\",\"name\":\"Outside_range_Dry_LGBM\",\"showlegend\":false,\"x\":[\"2022-09-30T00:00:00\",\"2022-09-30T00:00:00\"],\"y\":[557.8093480522657,93868.11773874522],\"type\":\"scatter\"},{\"line\":{\"color\":\"#990000\",\"dash\":\"dash\",\"width\":0.5},\"mode\":\"lines\",\"name\":\"Outside_range_Dry_LGBM\",\"showlegend\":false,\"x\":[\"2022-10-04T00:00:00\",\"2022-10-04T00:00:00\"],\"y\":[557.8093480522657,93868.11773874522],\"type\":\"scatter\"},{\"line\":{\"color\":\"#990000\",\"dash\":\"dash\",\"width\":0.5},\"mode\":\"lines\",\"name\":\"Outside_range_Dry_LGBM\",\"showlegend\":false,\"x\":[\"2022-10-05T00:00:00\",\"2022-10-05T00:00:00\"],\"y\":[557.8093480522657,93868.11773874522],\"type\":\"scatter\"},{\"line\":{\"color\":\"#990000\",\"dash\":\"dash\",\"width\":0.5},\"mode\":\"lines\",\"name\":\"Outside_range_Dry_LGBM\",\"showlegend\":false,\"x\":[\"2022-10-06T00:00:00\",\"2022-10-06T00:00:00\"],\"y\":[557.8093480522657,93868.11773874522],\"type\":\"scatter\"},{\"line\":{\"color\":\"#990000\",\"dash\":\"dash\",\"width\":0.5},\"mode\":\"lines\",\"name\":\"Outside_range_Dry_LGBM\",\"showlegend\":false,\"x\":[\"2022-10-07T00:00:00\",\"2022-10-07T00:00:00\"],\"y\":[557.8093480522657,93868.11773874522],\"type\":\"scatter\"},{\"line\":{\"color\":\"#990000\",\"dash\":\"dash\",\"width\":0.5},\"mode\":\"lines\",\"name\":\"Outside_range_Dry_LGBM\",\"showlegend\":false,\"x\":[\"2022-10-11T00:00:00\",\"2022-10-11T00:00:00\"],\"y\":[557.8093480522657,93868.11773874522],\"type\":\"scatter\"},{\"line\":{\"color\":\"#990000\",\"dash\":\"dash\",\"width\":0.5},\"mode\":\"lines\",\"name\":\"Outside_range_Dry_LGBM\",\"showlegend\":false,\"x\":[\"2022-10-12T00:00:00\",\"2022-10-12T00:00:00\"],\"y\":[557.8093480522657,93868.11773874522],\"type\":\"scatter\"},{\"line\":{\"color\":\"#990000\",\"dash\":\"dash\",\"width\":0.5},\"mode\":\"lines\",\"name\":\"Outside_range_Dry_LGBM\",\"showlegend\":false,\"x\":[\"2022-10-13T00:00:00\",\"2022-10-13T00:00:00\"],\"y\":[557.8093480522657,93868.11773874522],\"type\":\"scatter\"},{\"line\":{\"color\":\"#990000\",\"dash\":\"dash\",\"width\":0.5},\"mode\":\"lines\",\"name\":\"Outside_range_Dry_LGBM\",\"showlegend\":false,\"x\":[\"2022-10-14T00:00:00\",\"2022-10-14T00:00:00\"],\"y\":[557.8093480522657,93868.11773874522],\"type\":\"scatter\"},{\"line\":{\"color\":\"#990000\",\"dash\":\"dash\",\"width\":0.5},\"mode\":\"lines\",\"name\":\"Outside_range_Dry_LGBM\",\"showlegend\":false,\"x\":[\"2022-10-18T00:00:00\",\"2022-10-18T00:00:00\"],\"y\":[557.8093480522657,93868.11773874522],\"type\":\"scatter\"},{\"line\":{\"color\":\"#990000\",\"dash\":\"dash\",\"width\":0.5},\"mode\":\"lines\",\"name\":\"Outside_range_Dry_LGBM\",\"showlegend\":false,\"x\":[\"2022-10-19T00:00:00\",\"2022-10-19T00:00:00\"],\"y\":[557.8093480522657,93868.11773874522],\"type\":\"scatter\"},{\"line\":{\"color\":\"#990000\",\"dash\":\"dash\",\"width\":0.5},\"mode\":\"lines\",\"name\":\"Outside_range_Dry_LGBM\",\"showlegend\":false,\"x\":[\"2022-10-20T00:00:00\",\"2022-10-20T00:00:00\"],\"y\":[557.8093480522657,93868.11773874522],\"type\":\"scatter\"},{\"line\":{\"color\":\"#990000\",\"dash\":\"dash\",\"width\":0.5},\"mode\":\"lines\",\"name\":\"Outside_range_Dry_LGBM\",\"showlegend\":false,\"x\":[\"2022-10-21T00:00:00\",\"2022-10-21T00:00:00\"],\"y\":[557.8093480522657,93868.11773874522],\"type\":\"scatter\"},{\"line\":{\"color\":\"#990000\",\"dash\":\"dash\",\"width\":0.5},\"mode\":\"lines\",\"name\":\"Outside_range_Dry_LGBM\",\"showlegend\":false,\"x\":[\"2022-10-24T00:00:00\",\"2022-10-24T00:00:00\"],\"y\":[557.8093480522657,93868.11773874522],\"type\":\"scatter\"},{\"line\":{\"color\":\"#990000\",\"dash\":\"dash\",\"width\":0.5},\"mode\":\"lines\",\"name\":\"Outside_range_Dry_LGBM\",\"showlegend\":false,\"x\":[\"2022-10-25T00:00:00\",\"2022-10-25T00:00:00\"],\"y\":[557.8093480522657,93868.11773874522],\"type\":\"scatter\"},{\"line\":{\"color\":\"#990000\",\"dash\":\"dash\",\"width\":0.5},\"mode\":\"lines\",\"name\":\"Outside_range_Dry_LGBM\",\"showlegend\":false,\"x\":[\"2022-10-26T00:00:00\",\"2022-10-26T00:00:00\"],\"y\":[557.8093480522657,93868.11773874522],\"type\":\"scatter\"},{\"line\":{\"color\":\"#990000\",\"dash\":\"dash\",\"width\":0.5},\"mode\":\"lines\",\"name\":\"Outside_range_Dry_LGBM\",\"showlegend\":false,\"x\":[\"2022-10-27T00:00:00\",\"2022-10-27T00:00:00\"],\"y\":[557.8093480522657,93868.11773874522],\"type\":\"scatter\"},{\"line\":{\"color\":\"#990000\",\"dash\":\"dash\",\"width\":0.5},\"mode\":\"lines\",\"name\":\"Outside_range_Dry_LGBM\",\"showlegend\":false,\"x\":[\"2022-10-28T00:00:00\",\"2022-10-28T00:00:00\"],\"y\":[557.8093480522657,93868.11773874522],\"type\":\"scatter\"},{\"line\":{\"color\":\"#990000\",\"dash\":\"dash\",\"width\":0.5},\"mode\":\"lines\",\"name\":\"Outside_range_Dry_LGBM\",\"showlegend\":false,\"x\":[\"2022-10-31T00:00:00\",\"2022-10-31T00:00:00\"],\"y\":[557.8093480522657,93868.11773874522],\"type\":\"scatter\"},{\"line\":{\"color\":\"#990000\",\"dash\":\"dash\",\"width\":0.5},\"mode\":\"lines\",\"name\":\"Outside_range_Dry_LGBM\",\"showlegend\":false,\"x\":[\"2022-11-02T00:00:00\",\"2022-11-02T00:00:00\"],\"y\":[557.8093480522657,93868.11773874522],\"type\":\"scatter\"},{\"line\":{\"color\":\"#990000\",\"dash\":\"dash\",\"width\":0.5},\"mode\":\"lines\",\"name\":\"Outside_range_Dry_LGBM\",\"showlegend\":false,\"x\":[\"2022-11-03T00:00:00\",\"2022-11-03T00:00:00\"],\"y\":[557.8093480522657,93868.11773874522],\"type\":\"scatter\"},{\"line\":{\"color\":\"#990000\",\"dash\":\"dash\",\"width\":0.5},\"mode\":\"lines\",\"name\":\"Outside_range_Dry_LGBM\",\"showlegend\":false,\"x\":[\"2022-11-08T00:00:00\",\"2022-11-08T00:00:00\"],\"y\":[557.8093480522657,93868.11773874522],\"type\":\"scatter\"},{\"line\":{\"color\":\"#990000\",\"dash\":\"dash\",\"width\":0.5},\"mode\":\"lines\",\"name\":\"Outside_range_Dry_LGBM\",\"showlegend\":false,\"x\":[\"2022-11-09T00:00:00\",\"2022-11-09T00:00:00\"],\"y\":[557.8093480522657,93868.11773874522],\"type\":\"scatter\"},{\"line\":{\"color\":\"#990000\",\"dash\":\"dash\",\"width\":0.5},\"mode\":\"lines\",\"name\":\"Outside_range_Dry_LGBM\",\"showlegend\":false,\"x\":[\"2022-11-15T00:00:00\",\"2022-11-15T00:00:00\"],\"y\":[557.8093480522657,93868.11773874522],\"type\":\"scatter\"},{\"line\":{\"color\":\"#990000\",\"dash\":\"dash\",\"width\":0.5},\"mode\":\"lines\",\"name\":\"Outside_range_Dry_LGBM\",\"showlegend\":false,\"x\":[\"2022-11-16T00:00:00\",\"2022-11-16T00:00:00\"],\"y\":[557.8093480522657,93868.11773874522],\"type\":\"scatter\"},{\"line\":{\"color\":\"#990000\",\"dash\":\"dash\",\"width\":0.5},\"mode\":\"lines\",\"name\":\"Outside_range_Dry_LGBM\",\"showlegend\":false,\"x\":[\"2022-11-17T00:00:00\",\"2022-11-17T00:00:00\"],\"y\":[557.8093480522657,93868.11773874522],\"type\":\"scatter\"},{\"line\":{\"color\":\"#990000\",\"dash\":\"dash\",\"width\":0.5},\"mode\":\"lines\",\"name\":\"Outside_range_Dry_LGBM\",\"showlegend\":false,\"x\":[\"2022-11-18T00:00:00\",\"2022-11-18T00:00:00\"],\"y\":[557.8093480522657,93868.11773874522],\"type\":\"scatter\"},{\"line\":{\"color\":\"#990000\",\"dash\":\"dash\",\"width\":0.5},\"mode\":\"lines\",\"name\":\"Outside_range_Dry_LGBM\",\"showlegend\":false,\"x\":[\"2022-11-21T00:00:00\",\"2022-11-21T00:00:00\"],\"y\":[557.8093480522657,93868.11773874522],\"type\":\"scatter\"},{\"line\":{\"color\":\"#990000\",\"dash\":\"dash\",\"width\":0.5},\"mode\":\"lines\",\"name\":\"Outside_range_Dry_LGBM\",\"showlegend\":false,\"x\":[\"2022-11-22T00:00:00\",\"2022-11-22T00:00:00\"],\"y\":[557.8093480522657,93868.11773874522],\"type\":\"scatter\"},{\"line\":{\"color\":\"#990000\",\"dash\":\"dash\",\"width\":0.5},\"mode\":\"lines\",\"name\":\"Outside_range_Dry_LGBM\",\"showlegend\":false,\"x\":[\"2022-11-23T00:00:00\",\"2022-11-23T00:00:00\"],\"y\":[557.8093480522657,93868.11773874522],\"type\":\"scatter\"},{\"line\":{\"color\":\"#990000\",\"dash\":\"dash\",\"width\":0.5},\"mode\":\"lines\",\"name\":\"Outside_range_Dry_LGBM\",\"showlegend\":false,\"x\":[\"2022-11-24T00:00:00\",\"2022-11-24T00:00:00\"],\"y\":[557.8093480522657,93868.11773874522],\"type\":\"scatter\"},{\"line\":{\"color\":\"#990000\",\"dash\":\"dash\",\"width\":0.5},\"mode\":\"lines\",\"name\":\"Outside_range_Dry_LGBM\",\"showlegend\":false,\"x\":[\"2022-11-25T00:00:00\",\"2022-11-25T00:00:00\"],\"y\":[557.8093480522657,93868.11773874522],\"type\":\"scatter\"},{\"line\":{\"color\":\"#990000\",\"dash\":\"dash\",\"width\":0.5},\"mode\":\"lines\",\"name\":\"Outside_range_Dry_LGBM\",\"showlegend\":false,\"x\":[\"2022-11-28T00:00:00\",\"2022-11-28T00:00:00\"],\"y\":[557.8093480522657,93868.11773874522],\"type\":\"scatter\"},{\"line\":{\"color\":\"#990000\",\"dash\":\"dash\",\"width\":0.5},\"mode\":\"lines\",\"name\":\"Outside_range_Dry_LGBM\",\"showlegend\":false,\"x\":[\"2022-11-29T00:00:00\",\"2022-11-29T00:00:00\"],\"y\":[557.8093480522657,93868.11773874522],\"type\":\"scatter\"},{\"line\":{\"color\":\"#990000\",\"dash\":\"dash\",\"width\":0.5},\"mode\":\"lines\",\"name\":\"Outside_range_Dry_LGBM\",\"showlegend\":false,\"x\":[\"2022-11-30T00:00:00\",\"2022-11-30T00:00:00\"],\"y\":[557.8093480522657,93868.11773874522],\"type\":\"scatter\"},{\"line\":{\"color\":\"#990000\",\"dash\":\"dash\",\"width\":0.5},\"mode\":\"lines\",\"name\":\"Outside_range_Dry_LGBM\",\"showlegend\":false,\"x\":[\"2022-12-01T00:00:00\",\"2022-12-01T00:00:00\"],\"y\":[557.8093480522657,93868.11773874522],\"type\":\"scatter\"},{\"line\":{\"color\":\"#990000\",\"dash\":\"dash\",\"width\":0.5},\"mode\":\"lines\",\"name\":\"Outside_range_Dry_LGBM\",\"showlegend\":false,\"x\":[\"2022-12-02T00:00:00\",\"2022-12-02T00:00:00\"],\"y\":[557.8093480522657,93868.11773874522],\"type\":\"scatter\"},{\"line\":{\"color\":\"#990000\",\"dash\":\"dash\",\"width\":0.5},\"mode\":\"lines\",\"name\":\"Outside_range_Dry_LGBM\",\"showlegend\":false,\"x\":[\"2022-12-07T00:00:00\",\"2022-12-07T00:00:00\"],\"y\":[557.8093480522657,93868.11773874522],\"type\":\"scatter\"},{\"line\":{\"color\":\"#990000\",\"dash\":\"dash\",\"width\":0.5},\"mode\":\"lines\",\"name\":\"Outside_range_Dry_LGBM\",\"showlegend\":false,\"x\":[\"2022-12-08T00:00:00\",\"2022-12-08T00:00:00\"],\"y\":[557.8093480522657,93868.11773874522],\"type\":\"scatter\"},{\"line\":{\"color\":\"#990000\",\"dash\":\"dash\",\"width\":0.5},\"mode\":\"lines\",\"name\":\"Outside_range_Dry_LGBM\",\"showlegend\":false,\"x\":[\"2022-12-09T00:00:00\",\"2022-12-09T00:00:00\"],\"y\":[557.8093480522657,93868.11773874522],\"type\":\"scatter\"},{\"line\":{\"color\":\"#990000\",\"dash\":\"dash\",\"width\":0.5},\"mode\":\"lines\",\"name\":\"Outside_range_Dry_LGBM\",\"showlegend\":false,\"x\":[\"2022-12-12T00:00:00\",\"2022-12-12T00:00:00\"],\"y\":[557.8093480522657,93868.11773874522],\"type\":\"scatter\"},{\"line\":{\"color\":\"#990000\",\"dash\":\"dash\",\"width\":0.5},\"mode\":\"lines\",\"name\":\"Outside_range_Dry_LGBM\",\"showlegend\":false,\"x\":[\"2022-12-13T00:00:00\",\"2022-12-13T00:00:00\"],\"y\":[557.8093480522657,93868.11773874522],\"type\":\"scatter\"},{\"line\":{\"color\":\"#990000\",\"dash\":\"dash\",\"width\":0.5},\"mode\":\"lines\",\"name\":\"Outside_range_Dry_LGBM\",\"showlegend\":false,\"x\":[\"2022-12-14T00:00:00\",\"2022-12-14T00:00:00\"],\"y\":[557.8093480522657,93868.11773874522],\"type\":\"scatter\"},{\"line\":{\"color\":\"#990000\",\"dash\":\"dash\",\"width\":0.5},\"mode\":\"lines\",\"name\":\"Outside_range_Dry_LGBM\",\"showlegend\":false,\"x\":[\"2022-12-15T00:00:00\",\"2022-12-15T00:00:00\"],\"y\":[557.8093480522657,93868.11773874522],\"type\":\"scatter\"},{\"line\":{\"color\":\"#990000\",\"dash\":\"dash\",\"width\":0.5},\"mode\":\"lines\",\"name\":\"Outside_range_Dry_LGBM\",\"showlegend\":false,\"x\":[\"2022-12-16T00:00:00\",\"2022-12-16T00:00:00\"],\"y\":[557.8093480522657,93868.11773874522],\"type\":\"scatter\"},{\"line\":{\"color\":\"#990000\",\"dash\":\"dash\",\"width\":0.5},\"mode\":\"lines\",\"name\":\"Outside_range_Dry_LGBM\",\"showlegend\":false,\"x\":[\"2022-12-19T00:00:00\",\"2022-12-19T00:00:00\"],\"y\":[557.8093480522657,93868.11773874522],\"type\":\"scatter\"},{\"line\":{\"color\":\"#990000\",\"dash\":\"dash\",\"width\":0.5},\"mode\":\"lines\",\"name\":\"Outside_range_Dry_LGBM\",\"showlegend\":false,\"x\":[\"2022-12-21T00:00:00\",\"2022-12-21T00:00:00\"],\"y\":[557.8093480522657,93868.11773874522],\"type\":\"scatter\"},{\"line\":{\"color\":\"#990000\",\"dash\":\"dash\",\"width\":0.5},\"mode\":\"lines\",\"name\":\"Outside_range_Dry_LGBM\",\"showlegend\":false,\"x\":[\"2022-12-22T00:00:00\",\"2022-12-22T00:00:00\"],\"y\":[557.8093480522657,93868.11773874522],\"type\":\"scatter\"},{\"line\":{\"color\":\"#990000\",\"dash\":\"dash\",\"width\":0.5},\"mode\":\"lines\",\"name\":\"Outside_range_Dry_LGBM\",\"showlegend\":false,\"x\":[\"2022-12-23T00:00:00\",\"2022-12-23T00:00:00\"],\"y\":[557.8093480522657,93868.11773874522],\"type\":\"scatter\"},{\"line\":{\"color\":\"#990000\",\"dash\":\"dash\",\"width\":0.5},\"mode\":\"lines\",\"name\":\"Outside_range_Dry_LGBM\",\"showlegend\":false,\"x\":[\"2022-12-27T00:00:00\",\"2022-12-27T00:00:00\"],\"y\":[557.8093480522657,93868.11773874522],\"type\":\"scatter\"},{\"line\":{\"color\":\"#990000\",\"dash\":\"dash\",\"width\":0.5},\"mode\":\"lines\",\"name\":\"Outside_range_Dry_LGBM\",\"showlegend\":false,\"x\":[\"2022-12-28T00:00:00\",\"2022-12-28T00:00:00\"],\"y\":[557.8093480522657,93868.11773874522],\"type\":\"scatter\"},{\"line\":{\"color\":\"#990000\",\"dash\":\"dash\",\"width\":0.5},\"mode\":\"lines\",\"name\":\"Outside_range_Dry_LGBM\",\"showlegend\":false,\"x\":[\"2022-12-29T00:00:00\",\"2022-12-29T00:00:00\"],\"y\":[557.8093480522657,93868.11773874522],\"type\":\"scatter\"},{\"line\":{\"color\":\"#990000\",\"dash\":\"dash\",\"width\":0.5},\"mode\":\"lines\",\"name\":\"Outside_range_Dry_LGBM\",\"showlegend\":false,\"x\":[\"2022-12-30T00:00:00\",\"2022-12-30T00:00:00\"],\"y\":[557.8093480522657,93868.11773874522],\"type\":\"scatter\"}],                        {\"template\":{\"data\":{\"bar\":[{\"error_x\":{\"color\":\"#2a3f5f\"},\"error_y\":{\"color\":\"#2a3f5f\"},\"marker\":{\"line\":{\"color\":\"#E5ECF6\",\"width\":0.5},\"pattern\":{\"fillmode\":\"overlay\",\"size\":10,\"solidity\":0.2}},\"type\":\"bar\"}],\"barpolar\":[{\"marker\":{\"line\":{\"color\":\"#E5ECF6\",\"width\":0.5},\"pattern\":{\"fillmode\":\"overlay\",\"size\":10,\"solidity\":0.2}},\"type\":\"barpolar\"}],\"carpet\":[{\"aaxis\":{\"endlinecolor\":\"#2a3f5f\",\"gridcolor\":\"white\",\"linecolor\":\"white\",\"minorgridcolor\":\"white\",\"startlinecolor\":\"#2a3f5f\"},\"baxis\":{\"endlinecolor\":\"#2a3f5f\",\"gridcolor\":\"white\",\"linecolor\":\"white\",\"minorgridcolor\":\"white\",\"startlinecolor\":\"#2a3f5f\"},\"type\":\"carpet\"}],\"choropleth\":[{\"colorbar\":{\"outlinewidth\":0,\"ticks\":\"\"},\"type\":\"choropleth\"}],\"contour\":[{\"colorbar\":{\"outlinewidth\":0,\"ticks\":\"\"},\"colorscale\":[[0.0,\"#0d0887\"],[0.1111111111111111,\"#46039f\"],[0.2222222222222222,\"#7201a8\"],[0.3333333333333333,\"#9c179e\"],[0.4444444444444444,\"#bd3786\"],[0.5555555555555556,\"#d8576b\"],[0.6666666666666666,\"#ed7953\"],[0.7777777777777778,\"#fb9f3a\"],[0.8888888888888888,\"#fdca26\"],[1.0,\"#f0f921\"]],\"type\":\"contour\"}],\"contourcarpet\":[{\"colorbar\":{\"outlinewidth\":0,\"ticks\":\"\"},\"type\":\"contourcarpet\"}],\"heatmap\":[{\"colorbar\":{\"outlinewidth\":0,\"ticks\":\"\"},\"colorscale\":[[0.0,\"#0d0887\"],[0.1111111111111111,\"#46039f\"],[0.2222222222222222,\"#7201a8\"],[0.3333333333333333,\"#9c179e\"],[0.4444444444444444,\"#bd3786\"],[0.5555555555555556,\"#d8576b\"],[0.6666666666666666,\"#ed7953\"],[0.7777777777777778,\"#fb9f3a\"],[0.8888888888888888,\"#fdca26\"],[1.0,\"#f0f921\"]],\"type\":\"heatmap\"}],\"heatmapgl\":[{\"colorbar\":{\"outlinewidth\":0,\"ticks\":\"\"},\"colorscale\":[[0.0,\"#0d0887\"],[0.1111111111111111,\"#46039f\"],[0.2222222222222222,\"#7201a8\"],[0.3333333333333333,\"#9c179e\"],[0.4444444444444444,\"#bd3786\"],[0.5555555555555556,\"#d8576b\"],[0.6666666666666666,\"#ed7953\"],[0.7777777777777778,\"#fb9f3a\"],[0.8888888888888888,\"#fdca26\"],[1.0,\"#f0f921\"]],\"type\":\"heatmapgl\"}],\"histogram\":[{\"marker\":{\"pattern\":{\"fillmode\":\"overlay\",\"size\":10,\"solidity\":0.2}},\"type\":\"histogram\"}],\"histogram2d\":[{\"colorbar\":{\"outlinewidth\":0,\"ticks\":\"\"},\"colorscale\":[[0.0,\"#0d0887\"],[0.1111111111111111,\"#46039f\"],[0.2222222222222222,\"#7201a8\"],[0.3333333333333333,\"#9c179e\"],[0.4444444444444444,\"#bd3786\"],[0.5555555555555556,\"#d8576b\"],[0.6666666666666666,\"#ed7953\"],[0.7777777777777778,\"#fb9f3a\"],[0.8888888888888888,\"#fdca26\"],[1.0,\"#f0f921\"]],\"type\":\"histogram2d\"}],\"histogram2dcontour\":[{\"colorbar\":{\"outlinewidth\":0,\"ticks\":\"\"},\"colorscale\":[[0.0,\"#0d0887\"],[0.1111111111111111,\"#46039f\"],[0.2222222222222222,\"#7201a8\"],[0.3333333333333333,\"#9c179e\"],[0.4444444444444444,\"#bd3786\"],[0.5555555555555556,\"#d8576b\"],[0.6666666666666666,\"#ed7953\"],[0.7777777777777778,\"#fb9f3a\"],[0.8888888888888888,\"#fdca26\"],[1.0,\"#f0f921\"]],\"type\":\"histogram2dcontour\"}],\"mesh3d\":[{\"colorbar\":{\"outlinewidth\":0,\"ticks\":\"\"},\"type\":\"mesh3d\"}],\"parcoords\":[{\"line\":{\"colorbar\":{\"outlinewidth\":0,\"ticks\":\"\"}},\"type\":\"parcoords\"}],\"pie\":[{\"automargin\":true,\"type\":\"pie\"}],\"scatter\":[{\"marker\":{\"colorbar\":{\"outlinewidth\":0,\"ticks\":\"\"}},\"type\":\"scatter\"}],\"scatter3d\":[{\"line\":{\"colorbar\":{\"outlinewidth\":0,\"ticks\":\"\"}},\"marker\":{\"colorbar\":{\"outlinewidth\":0,\"ticks\":\"\"}},\"type\":\"scatter3d\"}],\"scattercarpet\":[{\"marker\":{\"colorbar\":{\"outlinewidth\":0,\"ticks\":\"\"}},\"type\":\"scattercarpet\"}],\"scattergeo\":[{\"marker\":{\"colorbar\":{\"outlinewidth\":0,\"ticks\":\"\"}},\"type\":\"scattergeo\"}],\"scattergl\":[{\"marker\":{\"colorbar\":{\"outlinewidth\":0,\"ticks\":\"\"}},\"type\":\"scattergl\"}],\"scattermapbox\":[{\"marker\":{\"colorbar\":{\"outlinewidth\":0,\"ticks\":\"\"}},\"type\":\"scattermapbox\"}],\"scatterpolar\":[{\"marker\":{\"colorbar\":{\"outlinewidth\":0,\"ticks\":\"\"}},\"type\":\"scatterpolar\"}],\"scatterpolargl\":[{\"marker\":{\"colorbar\":{\"outlinewidth\":0,\"ticks\":\"\"}},\"type\":\"scatterpolargl\"}],\"scatterternary\":[{\"marker\":{\"colorbar\":{\"outlinewidth\":0,\"ticks\":\"\"}},\"type\":\"scatterternary\"}],\"surface\":[{\"colorbar\":{\"outlinewidth\":0,\"ticks\":\"\"},\"colorscale\":[[0.0,\"#0d0887\"],[0.1111111111111111,\"#46039f\"],[0.2222222222222222,\"#7201a8\"],[0.3333333333333333,\"#9c179e\"],[0.4444444444444444,\"#bd3786\"],[0.5555555555555556,\"#d8576b\"],[0.6666666666666666,\"#ed7953\"],[0.7777777777777778,\"#fb9f3a\"],[0.8888888888888888,\"#fdca26\"],[1.0,\"#f0f921\"]],\"type\":\"surface\"}],\"table\":[{\"cells\":{\"fill\":{\"color\":\"#EBF0F8\"},\"line\":{\"color\":\"white\"}},\"header\":{\"fill\":{\"color\":\"#C8D4E3\"},\"line\":{\"color\":\"white\"}},\"type\":\"table\"}]},\"layout\":{\"annotationdefaults\":{\"arrowcolor\":\"#2a3f5f\",\"arrowhead\":0,\"arrowwidth\":1},\"autotypenumbers\":\"strict\",\"coloraxis\":{\"colorbar\":{\"outlinewidth\":0,\"ticks\":\"\"}},\"colorscale\":{\"diverging\":[[0,\"#8e0152\"],[0.1,\"#c51b7d\"],[0.2,\"#de77ae\"],[0.3,\"#f1b6da\"],[0.4,\"#fde0ef\"],[0.5,\"#f7f7f7\"],[0.6,\"#e6f5d0\"],[0.7,\"#b8e186\"],[0.8,\"#7fbc41\"],[0.9,\"#4d9221\"],[1,\"#276419\"]],\"sequential\":[[0.0,\"#0d0887\"],[0.1111111111111111,\"#46039f\"],[0.2222222222222222,\"#7201a8\"],[0.3333333333333333,\"#9c179e\"],[0.4444444444444444,\"#bd3786\"],[0.5555555555555556,\"#d8576b\"],[0.6666666666666666,\"#ed7953\"],[0.7777777777777778,\"#fb9f3a\"],[0.8888888888888888,\"#fdca26\"],[1.0,\"#f0f921\"]],\"sequentialminus\":[[0.0,\"#0d0887\"],[0.1111111111111111,\"#46039f\"],[0.2222222222222222,\"#7201a8\"],[0.3333333333333333,\"#9c179e\"],[0.4444444444444444,\"#bd3786\"],[0.5555555555555556,\"#d8576b\"],[0.6666666666666666,\"#ed7953\"],[0.7777777777777778,\"#fb9f3a\"],[0.8888888888888888,\"#fdca26\"],[1.0,\"#f0f921\"]]},\"colorway\":[\"#636efa\",\"#EF553B\",\"#00cc96\",\"#ab63fa\",\"#FFA15A\",\"#19d3f3\",\"#FF6692\",\"#B6E880\",\"#FF97FF\",\"#FECB52\"],\"font\":{\"color\":\"#2a3f5f\"},\"geo\":{\"bgcolor\":\"white\",\"lakecolor\":\"white\",\"landcolor\":\"#E5ECF6\",\"showlakes\":true,\"showland\":true,\"subunitcolor\":\"white\"},\"hoverlabel\":{\"align\":\"left\"},\"hovermode\":\"closest\",\"mapbox\":{\"style\":\"light\"},\"paper_bgcolor\":\"white\",\"plot_bgcolor\":\"#E5ECF6\",\"polar\":{\"angularaxis\":{\"gridcolor\":\"white\",\"linecolor\":\"white\",\"ticks\":\"\"},\"bgcolor\":\"#E5ECF6\",\"radialaxis\":{\"gridcolor\":\"white\",\"linecolor\":\"white\",\"ticks\":\"\"}},\"scene\":{\"xaxis\":{\"backgroundcolor\":\"#E5ECF6\",\"gridcolor\":\"white\",\"gridwidth\":2,\"linecolor\":\"white\",\"showbackground\":true,\"ticks\":\"\",\"zerolinecolor\":\"white\"},\"yaxis\":{\"backgroundcolor\":\"#E5ECF6\",\"gridcolor\":\"white\",\"gridwidth\":2,\"linecolor\":\"white\",\"showbackground\":true,\"ticks\":\"\",\"zerolinecolor\":\"white\"},\"zaxis\":{\"backgroundcolor\":\"#E5ECF6\",\"gridcolor\":\"white\",\"gridwidth\":2,\"linecolor\":\"white\",\"showbackground\":true,\"ticks\":\"\",\"zerolinecolor\":\"white\"}},\"shapedefaults\":{\"line\":{\"color\":\"#2a3f5f\"}},\"ternary\":{\"aaxis\":{\"gridcolor\":\"white\",\"linecolor\":\"white\",\"ticks\":\"\"},\"baxis\":{\"gridcolor\":\"white\",\"linecolor\":\"white\",\"ticks\":\"\"},\"bgcolor\":\"#E5ECF6\",\"caxis\":{\"gridcolor\":\"white\",\"linecolor\":\"white\",\"ticks\":\"\"}},\"title\":{\"x\":0.05},\"xaxis\":{\"automargin\":true,\"gridcolor\":\"white\",\"linecolor\":\"white\",\"ticks\":\"\",\"title\":{\"standoff\":15},\"zerolinecolor\":\"white\",\"zerolinewidth\":2},\"yaxis\":{\"automargin\":true,\"gridcolor\":\"white\",\"linecolor\":\"white\",\"ticks\":\"\",\"title\":{\"standoff\":15},\"zerolinecolor\":\"white\",\"zerolinewidth\":2}}}},                        {\"responsive\": true}                    )                };                            </script>        </div>\n</body>\n</html>",
       "datasetInfos": [],
       "metadata": {},
       "removedWidgets": [],
       "textData": null,
       "type": "htmlSandbox"
      }
     },
     "output_type": "display_data"
    }
   ],
   "source": [
    "plot_inbound_two_errors(inbound_df=backtest_df_merge, error_col_1='AbsError_Dry_WOW', error_col_2= 'AbsError_Dry_LGBM', show_out_of_range=True, date_col='Dates', outside_range_col_1='Outside_range_Dry_WOW', outside_range_col_2='Outside_range_Dry_LGBM')"
   ]
  }
 ],
 "metadata": {
  "application/vnd.databricks.v1+notebook": {
   "dashboards": [],
   "language": "python",
   "notebookMetadata": {
    "pythonIndentUnit": 2
   },
   "notebookName": "LightLGBM_recleaned_data_90 week_days",
   "widgets": {}
  }
 },
 "nbformat": 4,
 "nbformat_minor": 0
}
