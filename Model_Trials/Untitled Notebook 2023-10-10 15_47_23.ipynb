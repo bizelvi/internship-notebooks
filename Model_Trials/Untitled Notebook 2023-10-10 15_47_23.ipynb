{
 "cells": [
  {
   "cell_type": "code",
   "execution_count": 0,
   "metadata": {
    "application/vnd.databricks.v1+cell": {
     "cellMetadata": {},
     "inputWidgets": {},
     "nuid": "2527770d-278c-4527-bfa6-3394fd0cd87d",
     "showTitle": false,
     "title": ""
    }
   },
   "outputs": [],
   "source": []
  }
 ],
 "metadata": {
  "application/vnd.databricks.v1+notebook": {
   "dashboards": [],
   "language": "python",
   "notebookMetadata": {
    "pythonIndentUnit": 2
   },
   "notebookName": "Untitled Notebook 2023-10-10 15:47:23",
   "widgets": {}
  }
 },
 "nbformat": 4,
 "nbformat_minor": 0
}
