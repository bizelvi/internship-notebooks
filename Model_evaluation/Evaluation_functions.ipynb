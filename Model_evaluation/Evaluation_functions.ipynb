{
 "cells": [
  {
   "cell_type": "markdown",
   "metadata": {
    "application/vnd.databricks.v1+cell": {
     "cellMetadata": {
      "byteLimit": 2048000,
      "rowLimit": 10000
     },
     "inputWidgets": {},
     "nuid": "7509db31-fa91-4076-99ac-9fb09e558321",
     "showTitle": false,
     "title": ""
    }
   },
   "source": [
    "## Functions"
   ]
  },
  {
   "cell_type": "markdown",
   "metadata": {
    "application/vnd.databricks.v1+cell": {
     "cellMetadata": {
      "byteLimit": 2048000,
      "rowLimit": 10000
     },
     "inputWidgets": {},
     "nuid": "40a6c4a7-3419-4ef6-8c7a-c3d3d6142deb",
     "showTitle": false,
     "title": ""
    }
   },
   "source": [
    "### Functions to eval performance"
   ]
  },
  {
   "cell_type": "code",
   "execution_count": 0,
   "metadata": {
    "application/vnd.databricks.v1+cell": {
     "cellMetadata": {
      "byteLimit": 2048000,
      "rowLimit": 10000
     },
     "inputWidgets": {},
     "nuid": "a42c3615-d2b9-44b6-81f2-8d391a577537",
     "showTitle": false,
     "title": ""
    }
   },
   "outputs": [],
   "source": [
    "import pandas as pd\n",
    "from typing import Literal, Optional\n",
    "import plotly.graph_objects as go\n",
    "from datetime import datetime\n"
   ]
  },
  {
   "cell_type": "code",
   "execution_count": 0,
   "metadata": {
    "application/vnd.databricks.v1+cell": {
     "cellMetadata": {
      "byteLimit": 2048000,
      "rowLimit": 10000
     },
     "inputWidgets": {},
     "nuid": "01d6b357-dfb3-411a-bc59-16cd6d95ef6b",
     "showTitle": false,
     "title": ""
    }
   },
   "outputs": [],
   "source": [
    "def calculate_errors(df_eval:pd.DataFrame, actuals_col:str,fc_col:str, error_to_calculate:Literal[\"Bias\", \"AbsError\", \"SqError\",\"RelAbsError\"], error_colname_suffix:str, outside_range_threshold:int=0.1)->pd.DataFrame:\n",
    "    \"\"\"\n",
    "    Calculates error metrics based on the provided data. Bear in mind that this function appends the columns to the existing dataframe.\n",
    "\n",
    "    Args:\n",
    "        df_eval (pd.DataFrame): The DataFrame containing the evaluation data.\n",
    "        actuals_col (str): The name of the column in `df_eval` that represents the actual values.\n",
    "        fc_col (str): The name of the column in `df_eval` that represents the forecasted values.\n",
    "        error_to_calculate (Literal[\"Bias\", \"AbsError\", \"SqError\", \"RelAbsError\"]): The type of error to calculate. \n",
    "            Possible values:\n",
    "                - \"Bias\": Calculate the bias between forecasted and actual values.\n",
    "                - \"AbsError\": Calculate the absolute error between forecasted and actual values.\n",
    "                - \"SqError\": Calculate the squared error between forecasted and actual values.\n",
    "                - \"RelAbsError\": Calculate the relative absolute error between forecasted and actual values.\n",
    "        error_colname_suffix (str): The suffix to append to the error column name in `df_eval`.\n",
    "        outside_range_threshold (int): Threshold for the permissible error range of the relative error. Default 0.1 \n",
    "\n",
    "    Returns:\n",
    "        pd.DataFrame: The DataFrame `df_eval` with the calculated error column added.\n",
    "\n",
    "    Raises:\n",
    "        ValueError: If the `error_to_calculate` argument is not one of the valid error types.\n",
    "\n",
    "    Examples:\n",
    "        >>> data = pd.DataFrame({'actuals': [1, 2, 3], 'forecast': [1.2, 2.5, 2.8]})\n",
    "        >>> calculate_errors(data, 'actuals', 'forecast', 'AbsError', 'error')\n",
    "           actuals  forecast  AbsError_error\n",
    "        0        1       1.2             0.2\n",
    "        1        2       2.5             0.5\n",
    "        2        3       2.8             0.2\n",
    "    \"\"\"\n",
    "    error_colname = error_to_calculate+'_'+ error_colname_suffix\n",
    "    # Calculate the bias\n",
    "    df_eval[error_colname] = df_eval[fc_col]-df_eval[actuals_col]\n",
    "    if (error_to_calculate == 'AbsError')|(error_to_calculate == 'RelAbsError'):\n",
    "      df_eval[error_colname] = df_eval[error_colname].abs()\n",
    "      if error_to_calculate == 'RelAbsError':\n",
    "        df_eval[error_colname] = df_eval[error_colname].div(df_eval[actuals_col])\n",
    "        df_eval['Outside_range_'+ error_colname_suffix] = df_eval[error_colname]>outside_range_threshold\n",
    "    if error_to_calculate == 'SqError':\n",
    "      df_eval[error_colname] = df_eval[error_colname].pow(2)\n",
    "    \n",
    "    return df_eval\n"
   ]
  },
  {
   "cell_type": "code",
   "execution_count": 0,
   "metadata": {
    "application/vnd.databricks.v1+cell": {
     "cellMetadata": {
      "byteLimit": 2048000,
      "rowLimit": 10000
     },
     "inputWidgets": {},
     "nuid": "a5974c3a-9232-4945-a4e3-01d756c7750e",
     "showTitle": false,
     "title": ""
    }
   },
   "outputs": [],
   "source": [
    "def plot_inbound_fc(inbound_df:pd.DataFrame, actuals_col:str, fc_col:str, show_out_of_range:bool, date_col:str, outside_range_col:Optional[str]=None):\n",
    "    \"\"\"\n",
    "    Plots the forecasted and actual values from the provided DataFrame `inbound_df`,\n",
    "    along with the outside range data points.\n",
    "\n",
    "    Args:\n",
    "        inbound_df (pd.DataFrame): The DataFrame containing the inbound data.\n",
    "        actuals_col (str): The name of the column in `inbound_df` that represents the actual values.\n",
    "        fc_col (str): The name of the column in `inbound_df` that represents the forecasted values.\n",
    "        show_out_of_range (bool): Plots a vertical line on the days where the forecast was out of range\n",
    "        outside_range_col (str): The name of the column in `inbound_df` that represents whether a data point is outside the range (defined with a bool flag).\n",
    "        date_col (str): The name of the column in `inbound_df` that represents the dates.\n",
    "\n",
    "    Returns:\n",
    "        None\n",
    "\n",
    "    Examples:\n",
    "        >>> data = pd.DataFrame({'Dates': ['2023-06-01', '2023-06-02', '2023-06-03'],\n",
    "                                'fc_col': [1.2, 2.5, 2.8],\n",
    "                                'actuals_col': [1, 2, 3],\n",
    "                                'outside_range_col': [False, False, True]})\n",
    "        >>> plot_inbound_fc(data, 'actuals_col', 'fc_col',  True, 'Dates', 'outside_range_col')\n",
    "        (Plot of forecasted and actual values with outside range data points displayed)\n",
    "    \"\"\"\n",
    "    fig = go.Figure()\n",
    "    fig.add_trace(go.Scatter(x=inbound_df.Dates, y=inbound_df[fc_col], name=fc_col,line=dict(color='#0000FF'),showlegend=True))\n",
    "    fig.add_trace(go.Scatter(x=inbound_df.Dates, y=inbound_df[actuals_col], name=actuals_col,line=dict(color='#00FF00'),showlegend=True))\n",
    "    if show_out_of_range:\n",
    "      ## Add outside of range traces (this implementation was preferred over the vline method to have the legend included)\n",
    "      outside_range_dates = inbound_df[inbound_df[outside_range_col]==True][date_col].reset_index(drop=True)\n",
    "      boundaries_category = [inbound_df[actuals_col].min(),inbound_df[actuals_col].max()]\n",
    "      for i in range(len(outside_range_dates)):\n",
    "        showlegend = False\n",
    "        if i ==0:\n",
    "          showlegend = True\n",
    "        fig.add_trace(go.Scatter(x=[outside_range_dates[i],outside_range_dates[i]], y= boundaries_category, mode='lines', line=dict(color='#FF0000', width=0.5, dash='dash'), name=outside_range_col,showlegend=showlegend))\n",
    "    fig.show()"
   ]
  },
  {
   "cell_type": "code",
   "execution_count": 0,
   "metadata": {
    "application/vnd.databricks.v1+cell": {
     "cellMetadata": {},
     "inputWidgets": {},
     "nuid": "350de134-f33b-4807-95f4-b90ee1439164",
     "showTitle": false,
     "title": ""
    }
   },
   "outputs": [],
   "source": [
    "def plot_two_inbound_fc(inbound_df:pd.DataFrame, actuals_col:str, fc_col_1:str, fc_col_2:str, show_out_of_range:bool, date_col:str, outside_range_col_1:Optional[str]=None, outside_range_col_2:Optional[str]=None):\n",
    "    \"\"\"\n",
    "    Plots two inbound forecasts along with actuals for a given DataFrame.\n",
    "\n",
    "    Parameters:\n",
    "        inbound_df (pd.DataFrame): The DataFrame containing the data to be plotted.\n",
    "        actuals_col (str): The column name in 'inbound_df' containing the actual data points.\n",
    "        fc_col_1 (str): The column name in 'inbound_df' containing the first forecast data points.\n",
    "        fc_col_2 (str): The column name in 'inbound_df' containing the second forecast data points.\n",
    "        show_out_of_range (bool): If True, outside-of-range data will be plotted as dashed lines.\n",
    "        date_col (str): The column name in 'inbound_df' containing the dates corresponding to the data points.\n",
    "        outside_range_col_1 (Optional[str]): The column name in 'inbound_df' indicating the outside-of-range points for the first forecast. Default is None.\n",
    "        outside_range_col_2 (Optional[str]): The column name in 'inbound_df' indicating the outside-of-range points for the second forecast. Default is None.\n",
    "\n",
    "    Returns:\n",
    "        None\n",
    "\n",
    "    This function creates a line plot comparing two inbound forecasts (fc_col_1 and fc_col_2) with the actual data (actuals_col).\n",
    "    The plot is generated using Plotly's go.Figure() and is displayed using the 'fig.show()' method.\n",
    "\n",
    "    If 'show_out_of_range' is True, dashed lines will be added to the plot to indicate points that are outside of the expected range.\n",
    "    The outside-of-range data is determined by the columns 'outside_range_col_1' and 'outside_range_col_2' for the respective forecasts.\n",
    "    These outside-of-range points will be plotted as vertical dashed lines.\n",
    "\n",
    "    Note:\n",
    "    - The 'inbound_df' DataFrame must contain columns for 'actuals_col', 'fc_col_1', and 'fc_col_2' with numeric data.\n",
    "    - If 'show_out_of_range' is True, 'outside_range_col_1' and 'outside_range_col_2' must be specified as well.\n",
    "    - The 'date_col' column should contain date or time information corresponding to the data points.\n",
    "\n",
    "    Example:\n",
    "    inbound_df = pd.DataFrame({\n",
    "        'Dates': ['2023-07-01', '2023-07-02', '2023-07-03', '2023-07-04', '2023-07-05'],\n",
    "        'Actuals': [100, 120, 110, 105, 125],\n",
    "        'Forecast_1': [90, 100, 95, 105, 110],\n",
    "        'Forecast_2': [95, 105, 100, 110, 115],\n",
    "        'Out_of_Range_1': [False, True, False, True, False],\n",
    "        'Out_of_Range_2': [False, False, True, False, True]\n",
    "    })\n",
    "\n",
    "    plot_two_inbound_fc(inbound_df, 'Actuals', 'Forecast_1', 'Forecast_2', True, 'Dates', 'Out_of_Range_1', 'Out_of_Range_2')\n",
    "    \"\"\"\n",
    "    fig = go.Figure()\n",
    "    fig.add_trace(go.Scatter(x=inbound_df.Dates, y=inbound_df[fc_col_2], name=fc_col_2,line=dict(color='#FF0000'),showlegend=True))\n",
    "    fig.add_trace(go.Scatter(x=inbound_df.Dates, y=inbound_df[fc_col_1], name=fc_col_1,line=dict(color='#0000FF'),showlegend=True))\n",
    "    fig.add_trace(go.Scatter(x=inbound_df.Dates, y=inbound_df[actuals_col], name=actuals_col,line=dict(color='#00FF00'),showlegend=True))\n",
    "    if show_out_of_range:\n",
    "      ## Add outside of range traces (this implementation was preferred over the vline method to have the legend included)\n",
    "      boundaries_category = [inbound_df[actuals_col].min(),inbound_df[actuals_col].max()]\n",
    "\n",
    "      outside_range_dates_1 = inbound_df[inbound_df[outside_range_col_1]==True][date_col].reset_index(drop=True)\n",
    "      for i in range(len(outside_range_dates_1)):\n",
    "        showlegend = False\n",
    "        if i ==0:\n",
    "          showlegend = True\n",
    "        fig.add_trace(go.Scatter(x=[outside_range_dates_1[i],outside_range_dates_1[i]], y= boundaries_category, mode='lines', line=dict(color='#000099', width=0.5, dash='dash'), name=outside_range_col_1,showlegend=showlegend))\n",
    "\n",
    "      outside_range_dates_2 = inbound_df[inbound_df[outside_range_col_2]==True][date_col].reset_index(drop=True)\n",
    "      for i in range(len(outside_range_dates_2)):\n",
    "        showlegend = False\n",
    "        if i ==0:\n",
    "          showlegend = True\n",
    "        fig.add_trace(go.Scatter(x=[outside_range_dates_2[i],outside_range_dates_2[i]], y= boundaries_category, mode='lines', line=dict(color='#990000', width=0.5, dash='dash'), name=outside_range_col_2,showlegend=showlegend))\n",
    "    fig.show()"
   ]
  },
  {
   "cell_type": "code",
   "execution_count": 0,
   "metadata": {
    "application/vnd.databricks.v1+cell": {
     "cellMetadata": {
      "byteLimit": 2048000,
      "rowLimit": 10000
     },
     "inputWidgets": {},
     "nuid": "bebdf11b-e0e9-42ab-a4d5-12c4a5ca7367",
     "showTitle": false,
     "title": ""
    }
   },
   "outputs": [],
   "source": [
    "def plot_inbound_error(inbound_df:pd.DataFrame, error_col:str,  show_out_of_range:bool, date_col:str, outside_range_col:Optional[str]=None):\n",
    "    \"\"\"\n",
    "    Plots the forecasting error from the provided DataFrame `inbound_df`,\n",
    "    along with the outside range data points.\n",
    "\n",
    "    Args:\n",
    "        inbound_df (pd.DataFrame): The DataFrame containing the inbound data.\n",
    "        error_col (str): The name of the column in `inbound_df` that represents the error values.\n",
    "        show_out_of_range (bool): Plots a vertical line on the days where the forecast was out of range\n",
    "        outside_range_col (str): The name of the column in `inbound_df` that represents whether a data point is outside the range (defined with a bool flag).\n",
    "        date_col (str): The name of the column in `inbound_df` that represents the dates.\n",
    "\n",
    "    Returns:\n",
    "        None\n",
    "\n",
    "    Examples:\n",
    "        >>> data = pd.DataFrame({'Dates': ['2023-06-01', '2023-06-02', '2023-06-03'],\n",
    "                                'error_col': [1.2, 2.5, 2.8], \n",
    "                                'outside_range_col': [False, False, True]})\n",
    "        >>> plot_inbound_fc(data, 'error_col', True, 'Dates', 'outside_range_col')\n",
    "        (Plot of error_col values with outside range data points displayed)\n",
    "    \"\"\"\n",
    "    fig = go.Figure()\n",
    "    fig.add_trace(go.Scatter(x=inbound_df.Dates, y=inbound_df[error_col], name=error_col,line=dict(color='#0000FF'),showlegend=True))\n",
    "    if show_out_of_range:\n",
    "      ## Add outside of range traces (this implementation was preferred over the vline method to have the legend included)\n",
    "      outside_range_dates = inbound_df[inbound_df[outside_range_col]==True][date_col].reset_index(drop=True)\n",
    "      boundaries_category = [inbound_df[error_col].min(),inbound_df[error_col].max()]\n",
    "      for i in range(len(outside_range_dates)):\n",
    "        showlegend = False\n",
    "        if i ==0:\n",
    "          showlegend = True\n",
    "        fig.add_trace(go.Scatter(x=[outside_range_dates[i],outside_range_dates[i]], y= boundaries_category, mode='lines', line=dict(color='#FF0000', width=0.5, dash='dash'), name=outside_range_col,showlegend=showlegend))\n",
    "    fig.show()"
   ]
  },
  {
   "cell_type": "code",
   "execution_count": 0,
   "metadata": {
    "application/vnd.databricks.v1+cell": {
     "cellMetadata": {},
     "inputWidgets": {},
     "nuid": "0f1a2343-51a0-4d99-8b40-461732ba3970",
     "showTitle": false,
     "title": ""
    }
   },
   "outputs": [],
   "source": [
    "def plot_inbound_two_errors(inbound_df:pd.DataFrame, error_col_1:str, error_col_2:str, show_out_of_range:bool, date_col:str, outside_range_col_1:Optional[str]=None, outside_range_col_2:Optional[str]=None):\n",
    "    \"\"\"\n",
    "    Plots two sets of inbound errors for a given DataFrame.\n",
    "\n",
    "    Parameters:\n",
    "        inbound_df (pd.DataFrame): The DataFrame containing the data to be plotted.\n",
    "        error_col_1 (str): The column name in 'inbound_df' containing the first set of error data points.\n",
    "        error_col_2 (str): The column name in 'inbound_df' containing the second set of error data points.\n",
    "        show_out_of_range (bool): If True, outside-of-range data will be plotted as dashed lines.\n",
    "        date_col (str): The column name in 'inbound_df' containing the dates corresponding to the data points.\n",
    "        outside_range_col_1 (Optional[str]): The column name in 'inbound_df' indicating the outside-of-range points for the first set of errors. Default is None.\n",
    "        outside_range_col_2 (Optional[str]): The column name in 'inbound_df' indicating the outside-of-range points for the second set of errors. Default is None.\n",
    "\n",
    "    Returns:\n",
    "        None\n",
    "\n",
    "    This function creates a line plot comparing two sets of inbound errors (error_col_1 and error_col_2).\n",
    "    The plot is generated using Plotly's go.Figure() and is displayed using the 'fig.show()' method.\n",
    "\n",
    "    If 'show_out_of_range' is True, dashed lines will be added to the plot to indicate points that are outside of the expected range.\n",
    "    The outside-of-range data is determined by the columns 'outside_range_col_1' and 'outside_range_col_2' for the respective errors.\n",
    "    These outside-of-range points will be plotted as vertical dashed lines.\n",
    "\n",
    "    Note:\n",
    "    - The 'inbound_df' DataFrame must contain columns for 'error_col_1' and 'error_col_2' with numeric data.\n",
    "    - If 'show_out_of_range' is True, 'outside_range_col_1' and 'outside_range_col_2' must be specified as well.\n",
    "    - The 'date_col' column should contain date or time information corresponding to the data points.\n",
    "\n",
    "    Example:\n",
    "    inbound_df = pd.DataFrame({\n",
    "        'Dates': ['2023-07-01', '2023-07-02', '2023-07-03', '2023-07-04', '2023-07-05'],\n",
    "        'Error_Set_1': [5, 7, 8, 6, 4],\n",
    "        'Error_Set_2': [3, 6, 4, 5, 2],\n",
    "        'Out_of_Range_1': [False, True, False, True, False],\n",
    "        'Out_of_Range_2': [False, False, True, False, True]\n",
    "    })\n",
    "\n",
    "    plot_inbound_two_errors(inbound_df, 'Error_Set_1', 'Error_Set_2', True, 'Dates', 'Out_of_Range_1', 'Out_of_Range_2')\n",
    "    \"\"\"\n",
    "    fig = go.Figure()\n",
    "    fig.add_trace(go.Scatter(x=inbound_df.Dates, y=inbound_df[error_col_1], name=error_col_1,line=dict(color='#0000FF'),showlegend=True))\n",
    "    fig.add_trace(go.Scatter(x=inbound_df.Dates, y=inbound_df[error_col_2], name=error_col_2,line=dict(color='#FF0000'),showlegend=True))\n",
    "    if show_out_of_range:\n",
    "      ## Add outside of range traces (this implementation was preferred over the vline method to have the legend included)\n",
    "      boundaries_category = [inbound_df[error_col_1].min(),inbound_df[error_col_1].max()]\n",
    "      outside_range_dates_1 = inbound_df[inbound_df[outside_range_col_1]==True][date_col].reset_index(drop=True)\n",
    "      for i in range(len(outside_range_dates_1)):\n",
    "        showlegend = False\n",
    "        if i ==0:\n",
    "          showlegend = True\n",
    "        fig.add_trace(go.Scatter(x=[outside_range_dates_1[i],outside_range_dates_1[i]], y= boundaries_category, mode='lines', line=dict(color='#000099', width=0.5, dash='dash'), name=outside_range_col_1,showlegend=showlegend))\n",
    "      boundaries_category = [inbound_df[error_col_2].min(),inbound_df[error_col_2].max()]\n",
    "      outside_range_dates_2 = inbound_df[inbound_df[outside_range_col_2]==True][date_col].reset_index(drop=True)\n",
    "      for i in range(len(outside_range_dates_2)):\n",
    "        showlegend = False\n",
    "        if i ==0:\n",
    "          showlegend = True\n",
    "        fig.add_trace(go.Scatter(x=[outside_range_dates_2[i],outside_range_dates_2[i]], y= boundaries_category, mode='lines', line=dict(color='#990000', width=0.5, dash='dash'), name=outside_range_col_2,showlegend=showlegend))\n",
    "    fig.show()"
   ]
  },
  {
   "cell_type": "code",
   "execution_count": 0,
   "metadata": {
    "application/vnd.databricks.v1+cell": {
     "cellMetadata": {
      "byteLimit": 2048000,
      "rowLimit": 10000
     },
     "inputWidgets": {},
     "nuid": "3731570d-fc00-4770-a119-7f91df65b337",
     "showTitle": false,
     "title": ""
    }
   },
   "outputs": [],
   "source": [
    "def describe_inbound_fc(inbound_fc:pd.DataFrame, cols_to_keep:list)->pd.DataFrame:\n",
    "    \"\"\"\n",
    "    Generates descriptive statistics for the selected columns of the provided DataFrame `inbound_fc`.\n",
    "\n",
    "    Args:\n",
    "        inbound_fc (pd.DataFrame): The DataFrame containing the inbound forecast data.\n",
    "        cols_to_keep (list): A list of column names to include in the descriptive statistics.\n",
    "\n",
    "    Returns:\n",
    "        pd.DataFrame: The DataFrame with descriptive statistics for the selected columns.\n",
    "\n",
    "    Examples:\n",
    "        >>> data = pd.DataFrame({'col1': [1, 2, 3], 'col2': [4, 5, 6], 'col3': ['A', 'B', 'C']})\n",
    "        >>> describe_inbound_fc(data, ['col1', 'col2'])\n",
    "          Metrics  col1  col2\n",
    "        0   count   3.0   3.0\n",
    "        1    mean   2.0   5.0\n",
    "        2     std   1.0   1.0\n",
    "        3     min   1.0   4.0\n",
    "        4     25%   1.5   4.5\n",
    "        5     50%   2.0   5.0\n",
    "        6     75%   2.5   5.5\n",
    "        7     max   3.0   6.0\n",
    "    \"\"\"\n",
    "    described_df = inbound_fc.describe(include='all')[cols_to_keep].rename_axis('Metrics').reset_index(drop=False).copy()\n",
    "    return described_df"
   ]
  },
  {
   "cell_type": "code",
   "execution_count": 0,
   "metadata": {
    "application/vnd.databricks.v1+cell": {
     "cellMetadata": {
      "byteLimit": 2048000,
      "rowLimit": 10000
     },
     "inputWidgets": {},
     "nuid": "730bd05e-6cb0-49d0-9f96-ceb3ca01b549",
     "showTitle": false,
     "title": ""
    }
   },
   "outputs": [],
   "source": []
  }
 ],
 "metadata": {
  "application/vnd.databricks.v1+notebook": {
   "dashboards": [],
   "language": "python",
   "notebookMetadata": {
    "pythonIndentUnit": 2
   },
   "notebookName": "Evaluation_functions",
   "widgets": {}
  }
 },
 "nbformat": 4,
 "nbformat_minor": 0
}
